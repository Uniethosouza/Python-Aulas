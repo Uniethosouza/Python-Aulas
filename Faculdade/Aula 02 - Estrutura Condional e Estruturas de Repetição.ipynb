{
 "cells": [
  {
   "cell_type": "markdown",
   "metadata": {},
   "source": [
    "# Aula 02 - Estrutura Condional e Estruturas de Repetição\n"
   ]
  },
  {
   "cell_type": "markdown",
   "metadata": {},
   "source": [
    "## Operadores Relacionais\n",
    "* Operadores relacionais são utilizados para se realizar comparações\n",
    "entre valores;\n",
    "\n",
    "* Estes valores podem ou não estar armazenados em variáveis.\n",
    "* O resultado de toda comparação é um tipo lógico: ``True`` ou ``False``\n"
   ]
  },
  {
   "cell_type": "markdown",
   "metadata": {},
   "source": [
    "<div align=\"center\">\n",
    "\n",
    "|Operador|Operação|Símbolo matemático|\n",
    "|:--:|:--:|:--:|\n",
    "|==|Igualdade|=|\n",
    "|>|Maior que|>|\n",
    "|<|Menor que|<|\n",
    "|!=|diferente|≠|\n",
    "|>=|Maior ou igual|≥|\n",
    "|<=|Menor ou igual|≤|\n",
    "\n",
    "</div>\n",
    "\n",
    "* Exemplo"
   ]
  },
  {
   "cell_type": "code",
   "execution_count": 12,
   "metadata": {},
   "outputs": [
    {
     "name": "stdout",
     "output_type": "stream",
     "text": [
      "False\n",
      "True\n",
      "True\n",
      "False\n",
      "False\n",
      "False\n",
      "True\n",
      "True\n",
      "True\n",
      "True\n",
      "True\n"
     ]
    }
   ],
   "source": [
    "a,b,c,d,f = 4,10,5.0,1,5\n",
    "print(a==c)\n",
    "print(a<b)\n",
    "print(d<b)\n",
    "print(c!=f)\n",
    "print(a==b)\n",
    "print(c<d)\n",
    "print(b>a)\n",
    "print(c>=f)\n",
    "print(f>=c)\n",
    "print(c<=c)\n",
    "print(c<=f)"
   ]
  },
  {
   "cell_type": "markdown",
   "metadata": {},
   "source": [
    "## Estrutura de Seleção\n",
    "* Nem sempre todas as linhas do código devem ser executadas!\n",
    "\n",
    "* Normalmente, o programa deve decidir quais partes serão executadas\n",
    "com base em uma ou mais condições\n",
    "\n",
    "* As condições são construídas com operadores relacionais: são feitas\n",
    "com base no resultado de comparações!"
   ]
  },
  {
   "cell_type": "markdown",
   "metadata": {},
   "source": [
    "### Comando ``if``\n",
    "* Em Python, e em várias outras linguagens de programação , o\n",
    "comando principal para a realização de decisões é o `if`\n",
    "\n",
    "* Sintaxe do if no Python:\n",
    " ```python\n",
    "    if <condição>:\n",
    "        bloco verdeiro\n",
    " ```\n",
    "* `If` nada mais é do que nosso se\n",
    "\n",
    "* Em português , podemos entender o comando `if` da seguinte forma:\n",
    "\n",
    "    * __Se a condição for verdadeira , faça alguma coisa__   "
   ]
  },
  {
   "cell_type": "code",
   "execution_count": 13,
   "metadata": {},
   "outputs": [],
   "source": [
    "a = int(input(\"Entre com o primeiro valor: \"))\n",
    "b = int(input(\"Entre com o segundo  valor: \"))\n",
    "\n",
    "if a > b:\n",
    "    print(\"O valor maior é : a {\"+str(a)+\"}\")\n",
    "if b > a:\n",
    "    print(\"O valor maior é : b {\"+str(b)+\"}\")\n"
   ]
  },
  {
   "cell_type": "markdown",
   "metadata": {},
   "source": [
    "### Comando ``if`` indentação\n",
    "* O bloco que será executado se a condição do `if` for verdadeira fica\n",
    "indentado com relação ao comando `if`\n",
    "\n",
    "* Indentação é o recuo deslocamento do texto à direita\n",
    "\n",
    "* Indentação : neologismo derivado da palavra em inglês indentation\n",
    "\n",
    "* __BLOCOS SÃO DEFINIDOS PELA INDENTAÇÃO!!!__\n",
    " ```python\n",
    "a = int(input(\"Entre com o primeiro valor: \"))\n",
    "b = int(input(\"Entre com o segundo  valor: \"))\n",
    "    if a>b:\n",
    "        print (\"O primeiro é o maior\")  #\n",
    "        print(a)                        # Esse bloco pertece ao if\n",
    "        print(fim do if)                #\n",
    "print(\"Esse print() executa de forma idependente com relação à condição a>b\")        \n",
    " ```"
   ]
  },
  {
   "cell_type": "markdown",
   "metadata": {},
   "source": [
    "__Voltando ao exemplo do maior entre dois números, o que acontece se os valores digitados para os dois números forem iguais???__\n",
    "\n",
    "R:  Nenhuma das duas condições será verdadeira!\n",
    " \n",
    "      Nenhum print() será chamado!"
   ]
  },
  {
   "cell_type": "markdown",
   "metadata": {},
   "source": [
    "### Comando `else`\n",
    "* O comando else (senão) é utilizado nos casos em que a segunda\n",
    "condição é simplesmente o contrário da primeira.\n",
    "\n",
    "* Sempre utilizado como uma sequência de um if\n",
    "\n",
    "* Sintaxe:\n",
    " ```python\n",
    " if <condição>:\n",
    "     bloco verdadeiro\n",
    " else:\n",
    "     bloco contrário           \n",
    " ```"
   ]
  },
  {
   "cell_type": "code",
   "execution_count": 30,
   "metadata": {},
   "outputs": [
    {
     "name": "stdout",
     "output_type": "stream",
     "text": [
      "Diferentes\n"
     ]
    }
   ],
   "source": [
    "a = int(input(\"Entre com o primeiro valor: \"))\n",
    "b = int(input(\"Entre com o segundo  valor: \"))\n",
    "if a == b :\n",
    "    print(\"iguais\")\n",
    "else:\n",
    "    print(\"Diferentes\")    "
   ]
  },
  {
   "cell_type": "markdown",
   "metadata": {},
   "source": [
    "### Condições aninhadas\n",
    "* Nem sempre nossos programas são tão simples!\n",
    "\n",
    "* Precisamos, muitas vezes, aninhar vários ``if`` s para obter o\n",
    "comportamento desejado no programa\n",
    "\n",
    "* Aninhar significa colocar um ``if`` dentro do outro (ou um ``if`` dentro do `else`) ."
   ]
  },
  {
   "cell_type": "markdown",
   "metadata": {},
   "source": [
    "### Comando `elif`\n",
    "* O comando elif (else if senão se) substitui, em muitos casos, a\n",
    "necessidade do aninhamento\n",
    "\n",
    "* É sempre utilizado como uma sequência de um if\n",
    " \n",
    "* Sintaxe:\n",
    "```python\n",
    "    if <condição 1>:\n",
    "        bloco se a condição 1 for verdadeira\n",
    "    elif <condição 2>:    \n",
    "        bloco se a condição 2 for verdadeira\n",
    "    else:\n",
    "        bloco contrario a todas as condições    \n",
    "```"
   ]
  },
  {
   "cell_type": "code",
   "execution_count": 26,
   "metadata": {},
   "outputs": [
    {
     "name": "stdout",
     "output_type": "stream",
     "text": [
      "Ambos são iguais\n"
     ]
    }
   ],
   "source": [
    "a = int(input(\"Entre com o primeiro valor: \"))\n",
    "b = int(input(\"Entre com o segundo  valor: \"))\n",
    "if a > b:\n",
    "    print (\"O primeiro é o maior\")  \n",
    "elif a < b:\n",
    "    print(\"O segundo é maior \")\n",
    "else:\n",
    "    print(\"Ambos são iguais\")    "
   ]
  },
  {
   "cell_type": "markdown",
   "metadata": {},
   "source": [
    "### Condições aninhadas - Exemplo\n",
    "Calcular o preço de uma conta de telefone que é formada por preços diferenciados: acima de 400 min, R$ 0,15 por min; abaixo de 400 min, R$ 0,18 por min; e abaixo de 200 min, R$ 0,20 por min."
   ]
  },
  {
   "cell_type": "code",
   "execution_count": 34,
   "metadata": {},
   "outputs": [
    {
     "name": "stdout",
     "output_type": "stream",
     "text": [
      "O valor da sua conta é de R$0.03\n"
     ]
    }
   ],
   "source": [
    "minutos = int(input(\"Quantos minutos foram utilizados este mês: \"))\n",
    "if minutos > 400:\n",
    "    preco = 0.15\n",
    "else:\n",
    "    if minutos < 200:\n",
    "        preco = 0.2\n",
    "    else:\n",
    "        minutos = 0.18\n",
    "\n",
    "print(\"O valor da sua conta é de R$ %.2f\" %(minutos*preco))            "
   ]
  },
  {
   "cell_type": "markdown",
   "metadata": {},
   "source": [
    "### Operadores Lógicos\n",
    "* Podemos combinar condições para determinar como continuar o fluxo\n",
    "de um programa!\n",
    "\n",
    "* O Python fornece operadores lógicos para permitir a construção de\n",
    "condições mais complexas.\n",
    "\n",
    "* Os operadores lógicos mais utilizados são:\n",
    "\n",
    "\n",
    "1. ``and`` (E condicional) - Todas as condições devem ser verdadeiras para o and retornar True\n",
    "\n",
    "    \n",
    "<div align=\"center\">\n",
    "S = A and B\n",
    "\n",
    "|   A   \t|   B   \t|   S   \t|\n",
    "|:-----:\t|:-----:\t|:-----:\t|\n",
    "| FALSE \t| FALSE \t| FALSE \t|\n",
    "| FALSE \t|  TRUE \t| FALSE \t|\n",
    "|  TRUE \t| FALSE \t| FALSE \t|\n",
    "|  TRUE \t|  TRUE \t|  TRUE \t|\n",
    "\n",
    "\n",
    "</div>\n",
    "\n",
    " 2.  `or`   (OU condicional) - Basta que uma condição seja verdadeira para o or retornar True\n",
    "<div align=\"center\">\n",
    "S = A or B\n",
    "\n",
    "|   A   \t|   B   \t|   S   \t|\n",
    "|:-----:\t|:-----:\t|:-----:\t|\n",
    "| FALSE \t| FALSE \t| FALSE \t|\n",
    "| FALSE \t|  TRUE \t|  TRUE \t|\n",
    "|  TRUE \t| FALSE \t|  TRUE \t|\n",
    "|  TRUE \t|  TRUE \t|  TRUE \t|\n",
    "\n",
    "\n",
    "</div>   \n",
    "   \n",
    "\n",
    "3. `not` (NÃO lógico)\n",
    "<div align=\"center\">\n",
    "S = A'\n",
    "\n",
    "|   A   \t|   S   \t|\n",
    "|:-----:\t|:-----:\t|\n",
    "| FALSE \t|  TRUE \t|\n",
    "|  TRUE \t| FALSE \t|\n",
    "\n",
    "</div>\n",
    "\n",
    "__Lembre se sempre:__\n",
    "\n",
    "* Operadores relacionais retornam sempre um valor Booleano:\n",
    "\n",
    "    * __True__ ou __False__\n"
   ]
  },
  {
   "cell_type": "markdown",
   "metadata": {},
   "source": [
    "Exemplo:\n",
    "* Faça um programa que lê um ano como entrada e verifica se esse ano é bissexto\n",
    "\n",
    "* Regras para definição de ano bissexto\n",
    "\n",
    "* Se o ano for divisível por 400 ele é bissexto ! Acaba aqui\n",
    "\n",
    "    * Se o ano não for divisível por 400, para ser bissexto ele deve\n",
    "\n",
    "    * Ser divísivel por 4\n",
    "\n",
    "    * Não ser divisível por 100\n",
    "\n",
    "* Faça o programa com somente 1 if, 1 else, nenhum elif\n",
    " \n",
    "* Alguns anos bissextos para verificação: 1904, 1920, 1931, 2016\n"
   ]
  },
  {
   "cell_type": "code",
   "execution_count": 36,
   "metadata": {},
   "outputs": [
    {
     "name": "stdout",
     "output_type": "stream",
     "text": [
      "É ano bissexto\n",
      "É ano bissexto\n",
      "Ano comum\n",
      "É ano bissexto\n"
     ]
    }
   ],
   "source": [
    "def bissexto(a):     #Isso se chama: Subrotina que iremos ver mais para frente\n",
    "    ano = a\n",
    "    if (ano % 400 == 0) or ((ano % 4 == 0) and (ano % 100 != 0)):\n",
    "        print(\"É ano bissexto\")\n",
    "    else:\n",
    "        print(\"Ano comum\")\n",
    "\n",
    "bissexto(1904)\n",
    "bissexto(1920)\n",
    "bissexto(1931)\n",
    "bissexto(2016)           "
   ]
  },
  {
   "cell_type": "markdown",
   "metadata": {},
   "source": [
    "### Precedência de Operadores\n",
    "<div align=\"center\">\n",
    "\n",
    "| PRIORIDADE \t|           SIMBOLO           \t|                         DESCRIÇÃO                        \t|\n",
    "|:----------:\t|:---------------------------:\t|:--------------------------------------------------------:\t|\n",
    "|  PRIMEIRO  \t|              **             \t|                        Exponencial                       \t|\n",
    "|     \\|     \t|          *,@,/,//,%         \t| Multiplicação, multiplicação de matrizes, divisão, resto \t|\n",
    "|     \\|     \t|             +,-             \t|                    Adição e Subtração                    \t|\n",
    "|     \\|     \t| in,is,isnot,<,<=,>,>=,!=,== \t|                        Comparações                       \t|\n",
    "|     \\|     \t|            not x            \t|                       NÃO booleano                       \t|\n",
    "|     \\|     \t|             and             \t|                        E booleano                        \t|\n",
    "|      v     \t|              or             \t|                        OU booleano                       \t|\n",
    "|   ULTIMO   \t|         if-elif-else        \t|                  Expressões condicionais                 \t|\n",
    "\n",
    "</div>\n",
    "\n",
    "Exemplo:"
   ]
  },
  {
   "cell_type": "code",
   "execution_count": 37,
   "metadata": {},
   "outputs": [
    {
     "name": "stdout",
     "output_type": "stream",
     "text": [
      "False\n",
      "True\n",
      "True\n",
      "False\n",
      "True\n",
      "True\n",
      "True\n",
      "False\n",
      "True\n",
      "True\n"
     ]
    }
   ],
   "source": [
    "a = 4\n",
    "b = 10\n",
    "c = 5.0\n",
    "d = 1\n",
    "f = 5\n",
    "\n",
    "print(b >= 4 and b < 7)\n",
    "print(a < b  and a < c)\n",
    "print(a < b  or  a < c)\n",
    "print(a < b  and a < d)\n",
    "print(a < b  or  a < d)\n",
    "print((b + f)/2 >= 7)\n",
    "print(c != f or f == b/2)\n",
    "print(not a != d)\n",
    "print(a != b or a <= c and not a == d)\n",
    "print(not (a >= b and b >= f) or a < d * 2)"
   ]
  },
  {
   "cell_type": "markdown",
   "metadata": {},
   "source": [
    "## Estruturas de Repetição\n",
    "* São utilizadas para executar várias vezes a mesma parte do programa\n",
    "\n",
    "* Normalmente dependem de uma condição\n",
    "\n",
    "* Repetições são a base de vários programas!"
   ]
  },
  {
   "cell_type": "markdown",
   "metadata": {},
   "source": [
    "Exemplo\n",
    "\n",
    "Fazer um programa para imprimir 10 números sequenciais na tela, começando do número 1."
   ]
  },
  {
   "cell_type": "markdown",
   "metadata": {},
   "source": [
    "### Comando `while`\n",
    "* O comando while (enquanto) serve para executarmos alguma\n",
    "repetição enquanto uma condição for verdadeira (True)\n",
    "\n",
    "* Sintaxe:\n",
    "```python\n",
    "    while <condição>:\n",
    "        bloco que será repetido enquanto a condição for verdadeira\n",
    "```"
   ]
  },
  {
   "cell_type": "code",
   "execution_count": 38,
   "metadata": {},
   "outputs": [
    {
     "name": "stdout",
     "output_type": "stream",
     "text": [
      "1\n",
      "2\n",
      "3\n",
      "4\n",
      "5\n",
      "6\n",
      "7\n",
      "8\n",
      "9\n",
      "10\n"
     ]
    }
   ],
   "source": [
    "x = 1 \n",
    "while x <= 10:\n",
    "    print(x)\n",
    "    x=x+1"
   ]
  },
  {
   "cell_type": "markdown",
   "metadata": {},
   "source": [
    "Fazer um programa para imprimir números sequenciais na tela, começando do número 1 até o número digitado pelo usuário .\n"
   ]
  },
  {
   "cell_type": "code",
   "execution_count": 39,
   "metadata": {},
   "outputs": [
    {
     "name": "stdout",
     "output_type": "stream",
     "text": [
      "1\n",
      "2\n",
      "3\n",
      "4\n",
      "5\n",
      "6\n",
      "7\n",
      "8\n",
      "9\n",
      "10\n"
     ]
    }
   ],
   "source": [
    "ultimo = int(input(\"Digite o último digito da contagem: \"))\n",
    "i = 1\n",
    "while i <= ultimo:\n",
    "    print(i)\n",
    "    i += 1 # Equivalente i = i+1"
   ]
  },
  {
   "cell_type": "markdown",
   "metadata": {},
   "source": [
    "Fazer um programa que imprime todos os números pares de 0 até um número digitado pelo usuário."
   ]
  },
  {
   "cell_type": "code",
   "execution_count": 41,
   "metadata": {},
   "outputs": [
    {
     "name": "stdout",
     "output_type": "stream",
     "text": [
      "0\n",
      "2\n",
      "4\n",
      "6\n",
      "8\n"
     ]
    }
   ],
   "source": [
    "ultimo = int(input(\"Digite o último digito da contagem: \"))\n",
    "i = 0\n",
    "while i <= ultimo:\n",
    "    if i % 2 == 0: \n",
    "        print(i)\n",
    "    i += 1"
   ]
  },
  {
   "cell_type": "markdown",
   "metadata": {},
   "source": [
    "### `While` infinito\n",
    "* Muitas vezes, queremos que nossos programas sejam executados infinitamente\n",
    "\n",
    "* Nesses casos, podemos utilizar uma condição que nunca deixe de ser verdadeira (`True`).\n",
    "```python\n",
    "    while True:\n",
    "        bloco que sempre será executado,\n",
    "        nunca sai do loop de repetição\n",
    "```\n"
   ]
  },
  {
   "cell_type": "markdown",
   "metadata": {},
   "source": [
    "### Comando ``break``\n",
    "* Porém, mesmo quando utilizamos um `while` infinito, é possível que em determinadas situações o programa precise sair do loop de repetição.\n",
    "\n",
    "* Esta interrupção pode ser alcançada com o comando `break`\n",
    "\n",
    "* O comando `break` pode ser utilizado para interromper o `while`, independentemente da condição\n",
    "\n",
    "Exemplo\n",
    "* Somatória de valores digitados pelo usuário até que o número 0 (zero) seja digitado; quando 0 for digitado o resultado da somatória é exibido:"
   ]
  },
  {
   "cell_type": "code",
   "execution_count": 44,
   "metadata": {},
   "outputs": [
    {
     "name": "stdout",
     "output_type": "stream",
     "text": [
      "Somatória  23\n"
     ]
    }
   ],
   "source": [
    "somatorio = 0 \n",
    "while True:\n",
    "    entrada = int(input(\"Digite um número a somar ou 0 para sair: \"))\n",
    "    if entrada == 0:\n",
    "        break\n",
    "    else:\n",
    "        somatorio = somatorio + entrada\n",
    "print(\"Somatória \",somatorio)        "
   ]
  },
  {
   "cell_type": "markdown",
   "metadata": {},
   "source": [
    "### Repetições aninhadas\n",
    "* Podemos combinar vários while , um dentro do\n",
    "\n",
    "* Com isso, conseguimos alterar automaticamente o valor de mais do que somente uma variável\n",
    "\n",
    "Exemplo\n",
    "* Programa para calcular as tabuadas do número 1 até o número 10."
   ]
  },
  {
   "cell_type": "code",
   "execution_count": 45,
   "metadata": {},
   "outputs": [
    {
     "name": "stdout",
     "output_type": "stream",
     "text": [
      "\n",
      "Tabuada do 1\n",
      "1 x 0 = 0\n",
      "1 x 1 = 1\n",
      "1 x 2 = 2\n",
      "1 x 3 = 3\n",
      "1 x 4 = 4\n",
      "1 x 5 = 5\n",
      "1 x 6 = 6\n",
      "1 x 7 = 7\n",
      "1 x 8 = 8\n",
      "1 x 9 = 9\n",
      "1 x 10 = 10\n",
      "\n",
      "Tabuada do 2\n",
      "2 x 0 = 0\n",
      "2 x 1 = 2\n",
      "2 x 2 = 4\n",
      "2 x 3 = 6\n",
      "2 x 4 = 8\n",
      "2 x 5 = 10\n",
      "2 x 6 = 12\n",
      "2 x 7 = 14\n",
      "2 x 8 = 16\n",
      "2 x 9 = 18\n",
      "2 x 10 = 20\n",
      "\n",
      "Tabuada do 3\n",
      "3 x 0 = 0\n",
      "3 x 1 = 3\n",
      "3 x 2 = 6\n",
      "3 x 3 = 9\n",
      "3 x 4 = 12\n",
      "3 x 5 = 15\n",
      "3 x 6 = 18\n",
      "3 x 7 = 21\n",
      "3 x 8 = 24\n",
      "3 x 9 = 27\n",
      "3 x 10 = 30\n",
      "\n",
      "Tabuada do 4\n",
      "4 x 0 = 0\n",
      "4 x 1 = 4\n",
      "4 x 2 = 8\n",
      "4 x 3 = 12\n",
      "4 x 4 = 16\n",
      "4 x 5 = 20\n",
      "4 x 6 = 24\n",
      "4 x 7 = 28\n",
      "4 x 8 = 32\n",
      "4 x 9 = 36\n",
      "4 x 10 = 40\n",
      "\n",
      "Tabuada do 5\n",
      "5 x 0 = 0\n",
      "5 x 1 = 5\n",
      "5 x 2 = 10\n",
      "5 x 3 = 15\n",
      "5 x 4 = 20\n",
      "5 x 5 = 25\n",
      "5 x 6 = 30\n",
      "5 x 7 = 35\n",
      "5 x 8 = 40\n",
      "5 x 9 = 45\n",
      "5 x 10 = 50\n",
      "\n",
      "Tabuada do 6\n",
      "6 x 0 = 0\n",
      "6 x 1 = 6\n",
      "6 x 2 = 12\n",
      "6 x 3 = 18\n",
      "6 x 4 = 24\n",
      "6 x 5 = 30\n",
      "6 x 6 = 36\n",
      "6 x 7 = 42\n",
      "6 x 8 = 48\n",
      "6 x 9 = 54\n",
      "6 x 10 = 60\n",
      "\n",
      "Tabuada do 7\n",
      "7 x 0 = 0\n",
      "7 x 1 = 7\n",
      "7 x 2 = 14\n",
      "7 x 3 = 21\n",
      "7 x 4 = 28\n",
      "7 x 5 = 35\n",
      "7 x 6 = 42\n",
      "7 x 7 = 49\n",
      "7 x 8 = 56\n",
      "7 x 9 = 63\n",
      "7 x 10 = 70\n",
      "\n",
      "Tabuada do 8\n",
      "8 x 0 = 0\n",
      "8 x 1 = 8\n",
      "8 x 2 = 16\n",
      "8 x 3 = 24\n",
      "8 x 4 = 32\n",
      "8 x 5 = 40\n",
      "8 x 6 = 48\n",
      "8 x 7 = 56\n",
      "8 x 8 = 64\n",
      "8 x 9 = 72\n",
      "8 x 10 = 80\n",
      "\n",
      "Tabuada do 9\n",
      "9 x 0 = 0\n",
      "9 x 1 = 9\n",
      "9 x 2 = 18\n",
      "9 x 3 = 27\n",
      "9 x 4 = 36\n",
      "9 x 5 = 45\n",
      "9 x 6 = 54\n",
      "9 x 7 = 63\n",
      "9 x 8 = 72\n",
      "9 x 9 = 81\n",
      "9 x 10 = 90\n",
      "\n",
      "Tabuada do 10\n",
      "10 x 0 = 0\n",
      "10 x 1 = 10\n",
      "10 x 2 = 20\n",
      "10 x 3 = 30\n",
      "10 x 4 = 40\n",
      "10 x 5 = 50\n",
      "10 x 6 = 60\n",
      "10 x 7 = 70\n",
      "10 x 8 = 80\n",
      "10 x 9 = 90\n",
      "10 x 10 = 100\n"
     ]
    }
   ],
   "source": [
    "tabuada = 1\n",
    "while tabuada <= 10:\n",
    "    print()\n",
    "    print(\"Tabuada do\", tabuada)\n",
    "    multiplicador = 0 \n",
    "    while multiplicador <= 10:\n",
    "        print(tabuada, \"x\", multiplicador, \"=\", (tabuada*multiplicador))\n",
    "        multiplicador += 1\n",
    "    tabuada += 1    "
   ]
  },
  {
   "cell_type": "markdown",
   "metadata": {},
   "source": [
    "### Estruturas de Repetição Comando `for`\n",
    "* `for` é a estrutura de repetição mais utilizada\n",
    "\n",
    "* Sintaxe:\n",
    "\n",
    "```python\n",
    "    for <referência> in <sequência>\n",
    "        bloco de código que será repetido,\n",
    "        a cada  interação\n",
    "```\n",
    "\n",
    "* Durante a execução, a cada iteração, a referência aponta para um elemento da sequência.\n",
    "\n",
    "* Uma vantagem do `for` com relação ao while é que o contador não precisa ser explícito!"
   ]
  },
  {
   "cell_type": "markdown",
   "metadata": {},
   "source": [
    "### Comando for - Exemplo\n",
    "\n",
    "Calcular a somátoria dos numeros de 0 a 99\n",
    "```python\n",
    "                                                A função range (i,f,p) é bastante \n",
    "                                                utilizada nos lanços com for\n",
    "    somatoria = 0                               Ele gera um conjunto de valores inteiros   \n",
    "    for x in range (0,100):                         * Começando de i    \n",
    "        somatoria = somatoria + x                   * Até valores menores que f   \n",
    "    print(somatoria)                                * Com passo p                 \n",
    "                                                Se o passo p não for definido, o   \n",
    "                                                padrão de 1 será utilizado       \n",
    "                                                        \n",
    "```                                                         \n"
   ]
  },
  {
   "cell_type": "code",
   "execution_count": 2,
   "metadata": {},
   "outputs": [
    {
     "name": "stdout",
     "output_type": "stream",
     "text": [
      "1\n",
      "2\n",
      "3\n",
      "4\n",
      "5\n",
      "6\n",
      "7\n",
      "8\n",
      "9\n",
      "10\n"
     ]
    }
   ],
   "source": [
    "for i in range(10):\n",
    "    print(i+1)"
   ]
  },
  {
   "cell_type": "code",
   "execution_count": 5,
   "metadata": {},
   "outputs": [
    {
     "name": "stdout",
     "output_type": "stream",
     "text": [
      "50\n",
      "55\n",
      "60\n",
      "65\n",
      "70\n",
      "75\n",
      "80\n",
      "85\n",
      "90\n",
      "95\n",
      "100\n"
     ]
    }
   ],
   "source": [
    "for i in range(50,100+1,5):\n",
    "    print(i)"
   ]
  },
  {
   "cell_type": "code",
   "execution_count": 6,
   "metadata": {},
   "outputs": [
    {
     "name": "stdout",
     "output_type": "stream",
     "text": [
      "M\n",
      "a\n",
      "r\n",
      "i\n",
      "o\n",
      " \n",
      "S\n",
      "e\n",
      "r\n",
      "g\n",
      "i\n",
      "o\n",
      " \n",
      "C\n",
      "o\n",
      "r\n",
      "t\n",
      "e\n",
      "l\n",
      "l\n",
      "a\n"
     ]
    }
   ],
   "source": [
    "for i in \"Mario Sergio Cortella\":\n",
    "    print(i)"
   ]
  },
  {
   "cell_type": "code",
   "execution_count": 49,
   "metadata": {},
   "outputs": [
    {
     "name": "stdout",
     "output_type": "stream",
     "text": [
      "4950\n"
     ]
    }
   ],
   "source": [
    "somatoria = 0                               \n",
    "for x in range(0,100):\n",
    "    somatoria = somatoria + x                    \n",
    "print(somatoria)"
   ]
  },
  {
   "cell_type": "markdown",
   "metadata": {},
   "source": [
    "### Exercício\n",
    "Faça um programa que gera 100 vezes um número aleatório entre 1 e 100 e, então , exiba qual foi o maior número gerado e quantas vezes o maior número foi atualizado no seu código .\n",
    "Paraisso , você deve comparar o número gerado na iteração presente com o maior número armazenado até o momento.\n",
    "\n",
    "        A função randrange (i,f) gera\n",
    "        números inteiros de i até valores\n",
    "        menores que f\n",
    "```python\n",
    "from random import randrange\n",
    "numero = randrange(1,101)\n",
    "```        "
   ]
  },
  {
   "cell_type": "markdown",
   "metadata": {},
   "source": [
    "### Comando `else` na repetição\n",
    "\n",
    "* É possível a utilização do comando `else` nas estruturas de repetição\n",
    "\n",
    "* Tanto no `while` quanto no `for`\n",
    "\n",
    "* A cláusula `else` só é executada quando a condição do loop se torna\n",
    "falsa.\n",
    "\n",
    "* Se você sair do loop com o comando break , por exemplo ela não\n",
    "será executada\n"
   ]
  },
  {
   "cell_type": "code",
   "execution_count": 50,
   "metadata": {},
   "outputs": [
    {
     "name": "stdout",
     "output_type": "stream",
     "text": [
      "0\n",
      "2\n",
      "4\n",
      "6\n",
      "8\n",
      "10\n",
      "Os numeros pares 0 a 10 foram exibidos\n"
     ]
    }
   ],
   "source": [
    "i = 0\n",
    "while i < 11:\n",
    "    print(i)\n",
    "    i+=2\n",
    "else:\n",
    "    print(\"Os numeros pares 0 a 10 foram exibidos\")    "
   ]
  },
  {
   "cell_type": "code",
   "execution_count": 51,
   "metadata": {},
   "outputs": [
    {
     "name": "stdout",
     "output_type": "stream",
     "text": [
      "0\n",
      "2\n",
      "4\n",
      "6\n",
      "8\n",
      "10\n",
      "Os numeros pares 0 a 10 foram exibidos\n"
     ]
    }
   ],
   "source": [
    "for i in range(0,11,2):\n",
    "    print(i)\n",
    "else:\n",
    "    print(\"Os numeros pares 0 a 10 foram exibidos\")    "
   ]
  },
  {
   "cell_type": "markdown",
   "metadata": {},
   "source": [
    "### Comando `else` na repetição\n",
    "\n",
    "* Exemplo com `break` : o `else` não é executado"
   ]
  },
  {
   "cell_type": "code",
   "execution_count": 53,
   "metadata": {},
   "outputs": [
    {
     "name": "stdout",
     "output_type": "stream",
     "text": [
      "0\n",
      "2\n",
      "4\n",
      "6\n"
     ]
    }
   ],
   "source": [
    "i = 0 \n",
    "while i < 11:\n",
    "    print(i)\n",
    "    i+=2\n",
    "    if i == 8:\n",
    "        break\n",
    "else:\n",
    "    print(\"Os numeros pares 0 a 10 foram exibidos\")    "
   ]
  },
  {
   "cell_type": "markdown",
   "metadata": {},
   "source": [
    "### Comando `continue` na repetição\n",
    "\n",
    "* O comando `continue` funciona de maneira parecida com o `break` ,\n",
    "porém o `break` interrompe e sai do loop\n",
    "\n",
    "* Já o `continue` faz com que a próxima iteração comece a ser\n",
    "executada, não importando se existem mais comandos depois dele ou\n",
    "não\n",
    "\n",
    "* O `continue` *não* sai do loop\n",
    "\n",
    "* O `continue` faz com que a próxima iteração seja executada\n",
    "imediatamente.\n",
    "\n",
    "Exemplo com `continue`\n",
    "\n"
   ]
  },
  {
   "cell_type": "code",
   "execution_count": 9,
   "metadata": {},
   "outputs": [
    {
     "name": "stdout",
     "output_type": "stream",
     "text": [
      "2\n",
      "4\n",
      "6\n",
      "10\n",
      "12\n",
      "\n",
      "Os numeros pares de 2 a 12 foram exibidos, com exceção do 8\n"
     ]
    }
   ],
   "source": [
    "i = 0\n",
    "while i < 12:\n",
    "    i+=2\n",
    "    if i == 8:\n",
    "        continue\n",
    "    print(i)\n",
    "else:\n",
    "    print(\"\\nOs numeros pares de 2 a 12 foram exibidos, com exceção do 8\")    "
   ]
  },
  {
   "cell_type": "markdown",
   "metadata": {},
   "source": [
    "Outro Exemplo:"
   ]
  },
  {
   "cell_type": "code",
   "execution_count": 8,
   "metadata": {},
   "outputs": [
    {
     "name": "stdout",
     "output_type": "stream",
     "text": [
      "123456789"
     ]
    }
   ],
   "source": [
    "fone_numero = \"123-456-789\"         # retirar os \" - \" \n",
    "for i in fone_numero:\n",
    "        if i == \"-\":\n",
    "            continue \n",
    "        print(i , end = \"\")"
   ]
  },
  {
   "cell_type": "markdown",
   "metadata": {},
   "source": [
    "### Nested Loops \n",
    "Loops dentro de Loops"
   ]
  },
  {
   "cell_type": "code",
   "execution_count": 7,
   "metadata": {},
   "outputs": [
    {
     "name": "stdout",
     "output_type": "stream",
     "text": [
      "@@@\n",
      "@@@\n",
      "@@@\n",
      "@@@\n",
      "@@@\n"
     ]
    }
   ],
   "source": [
    "Linhas  = int(input(\"Quantas Linhas : \"))\n",
    "Colunas = int(input(\"Quantas Colunas : \"))\n",
    "Simbolo =(input(\"Quantas simbolos : \"))\n",
    "\n",
    "for i in range (Linhas):\n",
    "     for j in range (Colunas):\n",
    "         print(Simbolo, end =\"\")  #nao pula linha\n",
    "     print()    "
   ]
  },
  {
   "cell_type": "markdown",
   "metadata": {},
   "source": [
    "## Match Case\n",
    "\n",
    "* Funcionalidade nova (Python 3.10) similar ao case swith do C.\n",
    "O commando é muito utilizado em outras linguaguem de programação, muito utíl para a seleção de teste da igualdade de uma Expressão/Variável, sendo um exemplo os menus. \n",
    "* Permite a verificação de um lista de constantes inteiras ou caracteristicas. Apresenta o seguinte aspecto:\n",
    "```python\n",
    " def <nome da função>(elemento):\n",
    "     match elemento:\n",
    "         case 1:\n",
    "            <expressao>\n",
    "            return\n",
    "         case 2:\n",
    "            <expressao>\n",
    "            return    \n",
    "             .\n",
    "             .\n",
    "             .\n",
    "        case _:             #retorna o que nao for encontrado pelo parametro elemento\n",
    "             <expressao>\n",
    "             return\n",
    "``` \n",
    "Exemplo: Entre com a inicial de uma das 3 marcas de carros\n"
   ]
  },
  {
   "cell_type": "code",
   "execution_count": 3,
   "metadata": {},
   "outputs": [
    {
     "name": "stdout",
     "output_type": "stream",
     "text": [
      "Renault\n",
      "\n"
     ]
    }
   ],
   "source": [
    "def conc(a):\n",
    "    match a:\n",
    "        case 'f':\n",
    "            print(\"Fiat\\n\")\n",
    "            return\n",
    "        case 'v':\n",
    "            print(\"Volks\\n\")\n",
    "            return\n",
    "        case 'r':\n",
    "            print(\"Renault\\n\")\n",
    "            return\n",
    "        case _:\n",
    "            print(\"Nao é uma marca conhecida\")\n",
    "            return\n",
    "conc(input(\"Digite a inicial da concessionaria: \"))"
   ]
  }
 ],
 "metadata": {
  "interpreter": {
   "hash": "4badd61a3eb0a98b49024dc08b6e569de2eac3230396ff1e691db44e3b600cf6"
  },
  "kernelspec": {
   "display_name": "Python 3.9.9 64-bit",
   "language": "python",
   "name": "python3"
  },
  "language_info": {
   "codemirror_mode": {
    "name": "ipython",
    "version": 3
   },
   "file_extension": ".py",
   "mimetype": "text/x-python",
   "name": "python",
   "nbconvert_exporter": "python",
   "pygments_lexer": "ipython3",
   "version": "3.9.9"
  },
  "orig_nbformat": 4
 },
 "nbformat": 4,
 "nbformat_minor": 2
}
