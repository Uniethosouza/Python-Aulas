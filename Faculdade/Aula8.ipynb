{
 "cells": [
  {
   "cell_type": "markdown",
   "metadata": {},
   "source": [
    "# Módulos"
   ]
  },
  {
   "cell_type": "markdown",
   "metadata": {},
   "source": [
    "* Para o Python, Módulos são arquivos fonte que podem ser importados para um programa.\n",
    "* Podem conter qualquer estrutura do Python e são executados quando importados.\n",
    "* Um módulo é um arquivo .py que pode conter:\n",
    "    * Funções\n",
    "    * Variáveis e Constantes\n",
    "* Os módulos são carregados através da instrução `import`.    \n",
    "* Desta forma, ao usar alguma estrutura do módulo, é\n",
    "necessário identificá lo.\n",
    "    * Isto é chamado de importação `absoluta`\n",
    "    \n",
    "Exemplo de importação absoluta:\n",
    "\n",
    "```python\n",
    "    import os \n",
    "    os.remove('arquivo.txt')\n",
    "```\n",
    "* Também é possível importar de forma `relativa` , utilizando as\n",
    "palavras chaves `from` e `import`\n",
    "\n",
    "Exemplo:\n",
    "```python\n",
    "    from os import remove\n",
    "    remove('arquivo.txt')\n",
    "```\n",
    "Ainda usando a importação `relativa` , podemos usar o `*` para\n",
    "importar tudo o que está no módulo.\n",
    "Exemplo:\n",
    "```python\n",
    "    from os import *\n",
    "    remove('arquivo.txt')\n",
    "```\n",
    "__A importação relativa com `não` é recomendada, pois pode gerar problemas, como a ofuscação de variáveis.__"
   ]
  },
  {
   "cell_type": "markdown",
   "metadata": {},
   "source": [
    "### Módulos Vantagens\n",
    "* Deixa o programa mais `organizado`\n",
    "* Permite a `reusabilidade`\n",
    "* A criação de módulos com funções também `evita` a criação de\n",
    "`variáveis globais`\n",
    "    * A criação de variáveis globais é, muitas vezes, vista como uma\n",
    "má prática de programação"
   ]
  },
  {
   "cell_type": "markdown",
   "metadata": {},
   "source": [
    "_Um dos arquivo que utilizaremos para os exemplo é o calculo.py_"
   ]
  },
  {
   "cell_type": "markdown",
   "metadata": {},
   "source": [
    "Importação Absoluta:"
   ]
  },
  {
   "cell_type": "code",
   "execution_count": 2,
   "metadata": {},
   "outputs": [
    {
     "name": "stdout",
     "output_type": "stream",
     "text": [
      "6.5125\n"
     ]
    }
   ],
   "source": [
    "import calculo\n",
    "l = [ 5 , 7.5 , 9, 6.5 , 7.5 , 10 , 2.6 , 4 ]\n",
    "print(calculo.media(l))"
   ]
  },
  {
   "cell_type": "markdown",
   "metadata": {},
   "source": [
    "Importação relativa:\n"
   ]
  },
  {
   "cell_type": "code",
   "execution_count": 3,
   "metadata": {},
   "outputs": [
    {
     "name": "stdout",
     "output_type": "stream",
     "text": [
      "6.5125\n"
     ]
    }
   ],
   "source": [
    "from calculo import media\n",
    "l = [ 5 , 7.5 , 9, 6.5 , 7.5 , 10 , 2.6 , 4 ]\n",
    "print(media(l))"
   ]
  },
  {
   "cell_type": "markdown",
   "metadata": {},
   "source": [
    "Importação absoluta renomeando o módulo"
   ]
  },
  {
   "cell_type": "code",
   "execution_count": 4,
   "metadata": {},
   "outputs": [
    {
     "name": "stdout",
     "output_type": "stream",
     "text": [
      "6.5125\n"
     ]
    }
   ],
   "source": [
    "import calculo as calc\n",
    "l = [ 5 , 7.5 , 9, 6.5 , 7.5 , 10 , 2.6 , 4 ]\n",
    "print(calc.media(l))"
   ]
  },
  {
   "cell_type": "markdown",
   "metadata": {},
   "source": [
    "Importação relativa renomeando a função"
   ]
  },
  {
   "cell_type": "code",
   "execution_count": 5,
   "metadata": {},
   "outputs": [
    {
     "name": "stdout",
     "output_type": "stream",
     "text": [
      "6.5125\n"
     ]
    }
   ],
   "source": [
    "from calculo import media as mean\n",
    "l = [ 5 , 7.5 , 9, 6.5 , 7.5 , 10 , 2.6 , 4 ]\n",
    "print(mean(l))"
   ]
  },
  {
   "cell_type": "markdown",
   "metadata": {},
   "source": [
    "### Módulos\n",
    "* Módulos são arquivos .py\n",
    "\n",
    "* Como garantimos que um programa principal não será\n",
    "importado em outro arquivo .py ?\n",
    "\n",
    "* Utilizamos a variável especial `__name__`\n",
    "\n",
    "* `__name__` indica o nome do contexto em que o módulo está\n",
    "sendo executado\n",
    "\n",
    "* Quando um módulo é diretamente executado, `__name__` é\n",
    "definido como \"`__main__`\"\n",
    "\n",
    "* Quando o módulo é importado, `__name__` fica igual ao nome\n",
    "do módulo, ou seja, do arquivo.\n",
    "\n",
    "Logo, podemos incluir uma condição para rodar nosso main:"
   ]
  },
  {
   "cell_type": "code",
   "execution_count": 7,
   "metadata": {},
   "outputs": [
    {
     "name": "stdout",
     "output_type": "stream",
     "text": [
      "6.5125\n"
     ]
    }
   ],
   "source": [
    "from calculo import media\n",
    "def main():    \n",
    "    l = [ 5 , 7.5 , 9, 6.5 , 7.5 , 10 , 2.6 , 4 ]\n",
    "    print(media(l))\n",
    "\n",
    "if __name__ == \"__main__\":\n",
    "    main()    "
   ]
  },
  {
   "cell_type": "markdown",
   "metadata": {},
   "source": [
    "# Enumerate\n",
    "A função integrada enumerate retorna uma tupla de dois elementos a cada\n",
    "iteração, um número sequencial e um item da sequência correspondente."
   ]
  },
  {
   "cell_type": "code",
   "execution_count": 8,
   "metadata": {},
   "outputs": [
    {
     "name": "stdout",
     "output_type": "stream",
     "text": [
      "[(0, 'Primavera'), (1, 'Verão'), (2, 'Outono'), (3, 'Inverno')]\n"
     ]
    }
   ],
   "source": [
    "estaçoes = ['Primavera','Verão','Outono','Inverno']\n",
    "lista = list(enumerate(estaçoes))\n",
    "print(lista)"
   ]
  },
  {
   "cell_type": "markdown",
   "metadata": {},
   "source": [
    "Exemplo com for loop:\n"
   ]
  },
  {
   "cell_type": "code",
   "execution_count": 9,
   "metadata": {},
   "outputs": [
    {
     "name": "stdout",
     "output_type": "stream",
     "text": [
      "0 Primavera\n",
      "1 Verão\n",
      "2 Outono\n",
      "3 Inverno\n"
     ]
    }
   ],
   "source": [
    "estaçoes = ['Primavera','Verão','Outono','Inverno']\n",
    "for x,y in enumerate(estaçoes):\n",
    "    print(x,y)"
   ]
  },
  {
   "cell_type": "markdown",
   "metadata": {},
   "source": [
    "A função enumerate também pode receber o valor inicial da sequência:"
   ]
  },
  {
   "cell_type": "code",
   "execution_count": 10,
   "metadata": {},
   "outputs": [
    {
     "name": "stdout",
     "output_type": "stream",
     "text": [
      "1 Primavera\n",
      "2 Verão\n",
      "3 Outono\n",
      "4 Inverno\n"
     ]
    }
   ],
   "source": [
    "estaçoes = ['Primavera','Verão','Outono','Inverno']\n",
    "for x,y in enumerate(estaçoes,1):\n",
    "    print(x,y)"
   ]
  },
  {
   "cell_type": "markdown",
   "metadata": {},
   "source": [
    "# zip\n",
    "* A função integrada `zip()` usa um ou mais iteráveis como parâmetros de entrada e\n",
    "mescla cada um deles em termos de elemento para criar um único iterável.\n",
    "\n",
    "Sintaxe:\n",
    "```python\n",
    "    zip(iterator1,iterator2,iterator3,...)\n",
    "```\n",
    "Exemplo:"
   ]
  },
  {
   "cell_type": "code",
   "execution_count": 12,
   "metadata": {},
   "outputs": [
    {
     "name": "stdout",
     "output_type": "stream",
     "text": [
      "[(1, 'Primavera'), (2, 'Verão'), (3, 'Outono'), (4, 'Inverno')]\n"
     ]
    }
   ],
   "source": [
    "estaçoes = ['Primavera','Verão','Outono','Inverno']\n",
    "numeros = [1,2,3,4]\n",
    "x = zip(numeros,estaçoes)\n",
    "print(list(x))"
   ]
  },
  {
   "cell_type": "markdown",
   "metadata": {},
   "source": [
    "Caso os iteráveis não possua o mesmo tamanho, a função mescla apenas até onde os\n",
    "iteráveis possua o mesmo tamanho."
   ]
  },
  {
   "cell_type": "code",
   "execution_count": 13,
   "metadata": {},
   "outputs": [
    {
     "name": "stdout",
     "output_type": "stream",
     "text": [
      "[(1, 'Primavera'), (2, 'Verão'), (3, 'Outono'), (4, 'Inverno')]\n"
     ]
    }
   ],
   "source": [
    "estaçoes = ['Primavera','Verão','Outono','Inverno']\n",
    "numeros = [1,2,3,4,5,6,7,8,9,10]\n",
    "x = zip(numeros,estaçoes)\n",
    "print(list(x))"
   ]
  },
  {
   "cell_type": "markdown",
   "metadata": {},
   "source": [
    "Exemplo com for loop:"
   ]
  },
  {
   "cell_type": "code",
   "execution_count": 19,
   "metadata": {},
   "outputs": [
    {
     "name": "stdout",
     "output_type": "stream",
     "text": [
      "Numero: 1, Estações Primavera\n",
      "Numero: 2, Estações Verão\n",
      "Numero: 3, Estações Outono\n",
      "Numero: 4, Estações Inverno\n"
     ]
    }
   ],
   "source": [
    "estaçoes = ['Primavera','Verão','Outono','Inverno']\n",
    "numeros  = [1,2,3,4]\n",
    "for x,y in zip(numeros,estaçoes):\n",
    "    print(f\"Numero: {x}, Estações {y}\")"
   ]
  }
 ],
 "metadata": {
  "interpreter": {
   "hash": "dc044dbeba82771aaeccdb8770a998b04de1e1141a3b5ed0d819352aa1a1f7bf"
  },
  "kernelspec": {
   "display_name": "Python 3.10.0 64-bit",
   "language": "python",
   "name": "python3"
  },
  "language_info": {
   "codemirror_mode": {
    "name": "ipython",
    "version": 3
   },
   "file_extension": ".py",
   "mimetype": "text/x-python",
   "name": "python",
   "nbconvert_exporter": "python",
   "pygments_lexer": "ipython3",
   "version": "3.10.0"
  },
  "orig_nbformat": 4
 },
 "nbformat": 4,
 "nbformat_minor": 2
}
