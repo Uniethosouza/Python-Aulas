{
 "cells": [
  {
   "cell_type": "markdown",
   "metadata": {},
   "source": [
    "# Aula 5 - Manipulação de Strings\n"
   ]
  },
  {
   "cell_type": "markdown",
   "metadata": {},
   "source": [
    "### Strings Caracteres\n",
    "* Strings são cadeias de caracteres: sequência de caracteres\n",
    "\n",
    "* A representação de um `caractere` é dada por um `número` inteiro, hexadecimal ou\n",
    "binário.\n",
    "\n",
    "* Esse número segue um padrão conhecido entre diversos sistemas computacionais :\n",
    "\n",
    "    * ASCII American Standard Code for Information Interchange (lê se ASC2 OU asci)\n",
    "\n",
    "    * ISO 8859 é extensão ao código ASCII, inclui caracteres acentuados.\n",
    "\n",
    "    * UTF Unicode Transformation Format\n"
   ]
  },
  {
   "cell_type": "markdown",
   "metadata": {},
   "source": [
    "### Tabela ASCII\n",
    "* Tabela ASCII:\n",
    "\n",
    "    * 7 bits (números de 0 a 127)\n",
    "\n",
    "* Tabela ASCII Estendida\n",
    "\n",
    "    * 8 bits\n",
    "\n",
    "        * Igual a tabela ASCII, porém contém mais caracteres:\n",
    "\n",
    "            * Além do 0 ao 127,\n",
    "\n",
    "            * Contém do 128 até o 255 (inclui os caracteres com acentos)\n",
    "\n",
    "Tabela ASCII:\n",
    "          \n",
    "<p align=\"center\">\n",
    "  <img width=\"700\" height=\"400\" src=\"https://carlacastanho.github.io/Material-de-APC/assets/images/Strings/ASCII.png\">\n",
    "</p>  \n",
    "<p align=\"center\">\n",
    "  <img width=\"700\" height=\"400\" src=\"https://i.stack.imgur.com/U4Ufy.gif\">\n",
    "</p>     \n"
   ]
  },
  {
   "cell_type": "markdown",
   "metadata": {},
   "source": [
    "\n",
    " ### ISO 8859\n",
    "ISO 8859 é uma série de conjuntos de caracteres multilíngues (8859-1, 8859-2, etc )\n",
    "codificados em um byte (8 bits) padronizados para escrita em determinados idiomas:\n",
    "* ISO 8859 1: West European\n",
    "\n",
    "* ISO 8859 2: East European - LATIN\n",
    "\n",
    "* ISO 8859 3: South European\n",
    "\n",
    "* ISO 8859 4: North European\n",
    "\n",
    "* ISO 8859 5: Cyrillic\n",
    "\n",
    "<p align=\"center\">\n",
    "  <img width=\"600\" height=\"600\" src=\"https://visual-integrity.com/wp-content/uploads/2016/02/iso-8859-1.gif\">\n",
    "</p> \n"
   ]
  },
  {
   "cell_type": "markdown",
   "metadata": {},
   "source": [
    "### Unicode\n",
    "* Unicode é um padrão que permite aos computadores representar e\n",
    "manipular, de forma consistente qualquer sistema de escrita existente.\n",
    "\n",
    "* O padrão consiste de quase 138 mil caracteres:\n",
    "\n",
    "    * Define uma metodologia para codificação e um conjunto de codificações padrões de\n",
    "caracteres, uma enumeração de propriedades de caracteres como caixa alta e caixa\n",
    "baixa, além de regras para normalização, decomposição, ordenação\n",
    "alfabética e renderização.\n",
    "\n",
    "    * Os 256 primeiros códigos Unicode são idênticos aos do padrão ISO 8859 1\n",
    "\n",
    "    * Um dos padrões mais utilizados da atualidade é o UTF 8 (8 bit Unicode\n",
    "    Transformation Format).\n",
    "\n",
    "    * É um tipo de codificação binária (Unicode) de comprimento variável.\n",
    "\n",
    "    * UTF 8 pode representar qualquer caractere universal padrão do Unicode,\n",
    "    sendo também compatível com o ASCII.\n",
    "\n",
    "<p align=\"center\">\n",
    "  <img width=\"500\" height=\"400\" src=\"https://bennadel-cdn.com/resources/uploads/2020/printing-emoji-characters-unicode-codepoint-lucee5.png\">\n",
    "</p> \n",
    "  "
   ]
  },
  {
   "cell_type": "markdown",
   "metadata": {},
   "source": [
    "### Unicode em Python\n",
    "print() com unicode:"
   ]
  },
  {
   "cell_type": "code",
   "execution_count": 6,
   "metadata": {},
   "outputs": [
    {
     "name": "stdout",
     "output_type": "stream",
     "text": [
      "®\n",
      "a\n",
      "Ç\n",
      "😀\n",
      "😆\n",
      "🤣\n"
     ]
    }
   ],
   "source": [
    "print(u'\\u00ae')\n",
    "print(u'\\u0061')\n",
    "print(u'\\u00c7')\n",
    "\n",
    "print(u'\\U0001f600')\n",
    "print(u'\\U0001f606')\n",
    "print(u'\\U0001f923')"
   ]
  },
  {
   "cell_type": "markdown",
   "metadata": {},
   "source": [
    "No Python, aspas simples ou duplas são intercambiáveis para\n",
    "representar strings "
   ]
  },
  {
   "cell_type": "markdown",
   "metadata": {},
   "source": [
    "### `ord()`\n",
    "Imprimir o valor ASCII/Unicode de um caractere função `ord()`\n",
    "\n"
   ]
  },
  {
   "cell_type": "code",
   "execution_count": 9,
   "metadata": {},
   "outputs": [
    {
     "name": "stdout",
     "output_type": "stream",
     "text": [
      "97\n",
      "65\n",
      "225\n",
      "129315\n",
      "0xe7\n"
     ]
    }
   ],
   "source": [
    "print(ord(\"a\"))\n",
    "print(ord(\"A\"))\n",
    "print(ord(\"á\"))\n",
    "print(ord(\"🤣\"))\n",
    "print(hex(ord(\"ç\")))"
   ]
  },
  {
   "cell_type": "markdown",
   "metadata": {},
   "source": [
    "### `chr()`\n",
    "Imprimir o caractere a partir de um valor ASCII/Unicode função `chr()`"
   ]
  },
  {
   "cell_type": "code",
   "execution_count": 16,
   "metadata": {},
   "outputs": [
    {
     "name": "stdout",
     "output_type": "stream",
     "text": [
      "a\n",
      "M\n",
      "A\n",
      "á\n"
     ]
    }
   ],
   "source": [
    "print(chr(97))\n",
    "print(chr(77))\n",
    "print(chr(65))\n",
    "print(chr(0xe1))"
   ]
  },
  {
   "cell_type": "markdown",
   "metadata": {},
   "source": [
    "### Strings\n",
    "* Strings são cadeias de caracteres:\n",
    "\n",
    "    * Sequência de caracteres\n",
    "\n",
    "* String em Python são cercados por aspas simples ou aspas duplas\n",
    "\n",
    "    * \"hello\" é igual a  'hello'\n",
    "\n",
    "    Exemplo:\n",
    "\n",
    "    * print ('Hello')\n",
    "\n",
    "    * print (\"Hello\")\n",
    "    \n",
    "* O Python também têm a opção de aspas triplas: triplas: `\"\"\"texto\"\"\"`\n",
    "\n",
    "    * Este comando pode ser chamado de bloco de string\n",
    "\n",
    "    * Aspas triplas são bastante úteis para textos com múltiplas linhas        "
   ]
  },
  {
   "cell_type": "code",
   "execution_count": 18,
   "metadata": {},
   "outputs": [
    {
     "name": "stdout",
     "output_type": "stream",
     "text": [
      "\n",
      "Este\n",
      "texto \n",
      "\n",
      "foi \n",
      "escrito\n",
      "\n",
      "em\n",
      "\n",
      "varias \n",
      "linha\n"
     ]
    }
   ],
   "source": [
    "print(\"\"\"\n",
    "Este\n",
    "texto \n",
    "\n",
    "foi \n",
    "escrito\n",
    "\n",
    "em\n",
    "\n",
    "varias \n",
    "linha\"\"\")"
   ]
  },
  {
   "cell_type": "markdown",
   "metadata": {},
   "source": [
    "# Caracteres de escape\n",
    "* Para inserir caracteres que são ilegais em uma sequência, use um caractere\n",
    "de escape `Escape Character`\n",
    "\n",
    "* Um caractere de escape é uma barra invertida seguido pelo caractere que\n",
    "você deseja inserir.\n",
    "\n",
    "<div align = \"center\">\n",
    "\n",
    "| Simbolo \t|    Descrição    \t|\n",
    "|:-------:\t|:---------------:\t|\n",
    "|    \\'   \t|   Single Quote  \t|\n",
    "|    \\\\   \t|    Backslash    \t|\n",
    "|    \\n   \t|     New Line    \t|\n",
    "|    \\r   \t| Carriage Return \t|\n",
    "|    \\t   \t|       Tab       \t|\n",
    "|    \\b   \t|    Backspace    \t|\n",
    "|    \\f   \t|    Form Feed    \t|\n",
    "|   \\xhh  \t|    Hex value    \t|\n",
    "\n",
    "</div>\n",
    "\n",
    "Exemplo:\n"
   ]
  },
  {
   "cell_type": "code",
   "execution_count": 21,
   "metadata": {},
   "outputs": [
    {
     "name": "stdout",
     "output_type": "stream",
     "text": [
      "Como disse Francis Bacon: ''Conhecimento é poder''\n"
     ]
    }
   ],
   "source": [
    "txt = \"Como disse Francis Bacon: \\''Conhecimento é poder\\''\"\n",
    "print(txt)"
   ]
  },
  {
   "cell_type": "markdown",
   "metadata": {},
   "source": [
    "### Strings Índices\n",
    "* De uma maneira geral , strings são tuplas de caracteres\n",
    "\n",
    "* Podemos acessar cada caractere utilizando o índice de sua posição dentro da `String`\n",
    "\n",
    "Exemplos:"
   ]
  },
  {
   "cell_type": "code",
   "execution_count": 23,
   "metadata": {},
   "outputs": [
    {
     "name": "stdout",
     "output_type": "stream",
     "text": [
      "s\n",
      "p\n",
      "a\n",
      "m\n"
     ]
    }
   ],
   "source": [
    "s = \"spam\"\n",
    "print(s[0])\n",
    "print(s[1])\n",
    "print(s[2])\n",
    "print(s[3])"
   ]
  },
  {
   "cell_type": "markdown",
   "metadata": {},
   "source": [
    "### Strings Fatiamento - slicing\n",
    "* Podemos também utilizar o fatiamento ( slicing ) nas strings\n",
    "\n",
    "* O fatiamento serve para extrairmos uma seção específica da string\n",
    "\n",
    "Exemplos:"
   ]
  },
  {
   "cell_type": "code",
   "execution_count": 24,
   "metadata": {},
   "outputs": [
    {
     "name": "stdout",
     "output_type": "stream",
     "text": [
      "pa\n",
      "spa\n",
      "pam\n"
     ]
    }
   ],
   "source": [
    "s = \"spam\"\n",
    "print(s[1:3])\n",
    "print(s[:3])\n",
    "print(s[1:])"
   ]
  },
  {
   "cell_type": "markdown",
   "metadata": {},
   "source": [
    "### Strings mutabilidade\n",
    "* Para alterarmos um ou mais caracteres de uma string, normalmente criamos\n",
    "outra variável\n",
    "\n",
    "Exemplo: alterar ‘s’ por ‘z’ na palavra “spam”"
   ]
  },
  {
   "cell_type": "code",
   "execution_count": 26,
   "metadata": {},
   "outputs": [
    {
     "name": "stdout",
     "output_type": "stream",
     "text": [
      "zpam\n"
     ]
    }
   ],
   "source": [
    "s = \"spam\"\n",
    "s_novo = 'z'+s[1:]\n",
    "print(s_novo)"
   ]
  },
  {
   "cell_type": "markdown",
   "metadata": {},
   "source": [
    "### Strings Métodos\n",
    "* Existem muitos métodos próprios para serem utilizados com strings\n",
    "\n",
    "Alguns exemplos: \n",
    "<div align= \"center\">\n",
    "\n",
    "|     METODO    \t|   METODO   \t|\n",
    "|:-------------:\t|:----------:\t|\n",
    "| capitalize( ) \t|  split( )  \t|\n",
    "|    count( )   \t|  strip( )  \t|\n",
    "|     find( )    \t|  upper( )  \t|\n",
    "|    lower( )    \t| isdigit( ) \t|\n",
    "|   islower( )   \t|   join( )  \t|\n",
    "|    isdigit  ( )  \t|  format( ) \t|\n",
    "|   isalpha ( )   \t|  isupper ( )\t|\n",
    "\n",
    "</div>"
   ]
  },
  {
   "cell_type": "code",
   "execution_count": 28,
   "metadata": {},
   "outputs": [
    {
     "name": "stdout",
     "output_type": "stream",
     "text": [
      "\n",
      "thomasPatrick\n",
      "\n",
      "13\n",
      "2\n",
      "Thomaspatrick\n",
      "THOMASPATRICK\n",
      "thomaspatrick\n",
      "False\n",
      "True\n",
      "1\n",
      "th2masPatrick\n",
      "thomasPatrickthomasPatrickthomasPatrick\n"
     ]
    }
   ],
   "source": [
    "name = \"thomasPatrick\"\n",
    "\n",
    "print(\"\\n\"+name+\"\\n\")\n",
    "\n",
    "print(len(name))                #Quantidade de letras\n",
    "print(name.find(\"o\"))           #Qual posição, apartir do 0 , esta o \"o\"\n",
    "print(name.capitalize())        #Primeira letra maiuscula\n",
    "print(name.upper())             #Tudo maiuscula\n",
    "print(name.lower())             #Tudo minusculo\n",
    "print(name.isdigit())           #a string é um digito ? \n",
    "print(name.isalpha())           #APENAS letras?    \n",
    "print(name.count(\"o\"))          #Quantas vezes o \"o\" aparece na string\n",
    "print(name.replace(\"o\",\"2\"))    #Substitui o \"o\" por 2    \n",
    "print(name*3)                   #Imprima o name 3 vezes"
   ]
  },
  {
   "cell_type": "markdown",
   "metadata": {},
   "source": [
    "### Concatenação de Strings\n",
    "* Para concatenar, ou combinar, duas strings você pode usar o operador +.\n",
    "\n",
    "Exemplo:"
   ]
  },
  {
   "cell_type": "code",
   "execution_count": 29,
   "metadata": {},
   "outputs": [
    {
     "name": "stdout",
     "output_type": "stream",
     "text": [
      "HelloWorld\n"
     ]
    }
   ],
   "source": [
    "a =\"Hello\"\n",
    "b=\"World\"\n",
    "c = a+b\n",
    "print(c)"
   ]
  }
 ],
 "metadata": {
  "interpreter": {
   "hash": "dc044dbeba82771aaeccdb8770a998b04de1e1141a3b5ed0d819352aa1a1f7bf"
  },
  "kernelspec": {
   "display_name": "Python 3.10.0 64-bit",
   "language": "python",
   "name": "python3"
  },
  "language_info": {
   "codemirror_mode": {
    "name": "ipython",
    "version": 3
   },
   "file_extension": ".py",
   "mimetype": "text/x-python",
   "name": "python",
   "nbconvert_exporter": "python",
   "pygments_lexer": "ipython3",
   "version": "3.10.0"
  },
  "orig_nbformat": 4
 },
 "nbformat": 4,
 "nbformat_minor": 2
}
