{
 "cells": [
  {
   "cell_type": "markdown",
   "metadata": {},
   "source": [
    "# Lista"
   ]
  },
  {
   "cell_type": "markdown",
   "metadata": {},
   "source": [
    "* Uma lista é uma variável que armazena um conjunto de valores.\n",
    "\n",
    "* Lista é um tipo de variável que permite o armazenamento de valores\n",
    "com tipos homogêneos ou heterogêneos:\n",
    "    * Homogêneos = do mesmo tipo.\n",
    "    * Heterogêneo = de tipos diferentes (int, float, str, ... ).\n",
    "* Os valores armazenados em uma lista são acessados por um índice."
   ]
  },
  {
   "cell_type": "markdown",
   "metadata": {},
   "source": [
    "Para indicar que uma variável é uma lista, o śimbolo de colchetes [ ]\n",
    "é utilizado para delimitar o conjunto\n",
    "\n",
    "* Sintaxe criando uma lista chamada L:\n",
    "```python\n",
    "    L = []  # Lista Vazia\n",
    "```\n",
    "* Criando uma lista chamada z com 3 números inteiros\n",
    "```python\n",
    "    L = [5,7,8]\n",
    "    print(L)\n",
    "\n",
    "    [5,7,8]\n",
    "```    \n",
    "* Dizemos que z tem tamanho 3"
   ]
  },
  {
   "cell_type": "markdown",
   "metadata": {},
   "source": [
    "\n",
    "Imprimindo Lista\n",
    "\n"
   ]
  },
  {
   "cell_type": "code",
   "execution_count": 70,
   "metadata": {},
   "outputs": [
    {
     "name": "stdout",
     "output_type": "stream",
     "text": [
      "[1, 2, 3, 4, 5]\n"
     ]
    }
   ],
   "source": [
    "Lista = [1,2,3,4,5]\n",
    "print(Lista)"
   ]
  },
  {
   "cell_type": "markdown",
   "metadata": {},
   "source": [
    "Imprimindo Lista sem colchetes \n"
   ]
  },
  {
   "cell_type": "code",
   "execution_count": 71,
   "metadata": {},
   "outputs": [
    {
     "name": "stdout",
     "output_type": "stream",
     "text": [
      "1 2 3 4 5\n"
     ]
    }
   ],
   "source": [
    "Lista = [1,2,3,4,5]\n",
    "print(*Lista)"
   ]
  },
  {
   "cell_type": "markdown",
   "metadata": {},
   "source": [
    "# Acessar itens na Lista\n",
    "Para acessar um item em uma Lista é necessário indicar em qual posição está o item que será acessado\n",
    "\n",
    "* Sempre temos que escrever o nome da Lista e a posição entre colchetes\n",
    "\n",
    "* IMPORTANTE: o primeiro item do vetor sempre está na posição zero\n",
    "\n",
    "Sintaxe:\n",
    "```python\n",
    "    <nome da Lista> [<posição>]\n",
    "``` \n",
    "Exemplo:"
   ]
  },
  {
   "cell_type": "code",
   "execution_count": 72,
   "metadata": {},
   "outputs": [
    {
     "data": {
      "text/plain": [
       "[10.0, 500, 80.5, 90.8, 230]"
      ]
     },
     "execution_count": 72,
     "metadata": {},
     "output_type": "execute_result"
    }
   ],
   "source": [
    "vetSaldo = [10.00,500,80.5,90.8,230]\n",
    "vetSaldo"
   ]
  },
  {
   "cell_type": "markdown",
   "metadata": {},
   "source": [
    "* Mostrar terceiro item:"
   ]
  },
  {
   "cell_type": "code",
   "execution_count": 73,
   "metadata": {},
   "outputs": [
    {
     "name": "stdout",
     "output_type": "stream",
     "text": [
      "80.5\n"
     ]
    }
   ],
   "source": [
    "print(vetSaldo [2])"
   ]
  },
  {
   "cell_type": "markdown",
   "metadata": {},
   "source": [
    "* Atribuir primeiro item a uma variável:"
   ]
  },
  {
   "cell_type": "code",
   "execution_count": 74,
   "metadata": {},
   "outputs": [
    {
     "data": {
      "text/plain": [
       "10.0"
      ]
     },
     "execution_count": 74,
     "metadata": {},
     "output_type": "execute_result"
    }
   ],
   "source": [
    "valor = vetSaldo [0]\n",
    "valor"
   ]
  },
  {
   "cell_type": "markdown",
   "metadata": {},
   "source": [
    "* Substituir  item:\n",
    "    * Para substituir um item em uma Lista é necessário indicar em qual posição do item que será substituído\n",
    "\n",
    "    * Sempre temos que escrever o nome do vetor, a posição entre colchetes, o sinal de atribuição e o valor a ser colocado no vetor\n",
    "    * Sintaxe:\n",
    "```python\n",
    "        <nome da lista> [<posição>] = <valor>\n",
    "```"
   ]
  },
  {
   "cell_type": "code",
   "execution_count": 75,
   "metadata": {},
   "outputs": [
    {
     "data": {
      "text/plain": [
       "[10.0, 500, 50, 90.8, 230]"
      ]
     },
     "execution_count": 75,
     "metadata": {},
     "output_type": "execute_result"
    }
   ],
   "source": [
    "vetSaldo[2] = 50\n",
    "vetSaldo"
   ]
  },
  {
   "cell_type": "markdown",
   "metadata": {},
   "source": [
    "### Lista Métodos\n",
    "* Existem muitos métodos próprios para serem utilizados com a lista.\n",
    "<div align = \"center\">\n",
    "\n",
    "| Funções  \t|  sort()  \t|\n",
    "|:--------:\t|:--------:\t|\n",
    "|  append() \t|  index() \t|\n",
    "|  clear()  \t|  insert()\t|\n",
    "|   copy() \t|   pop()   |\n",
    "|  count()\t|  remove()|\n",
    "|  extend() \t| reverse()|\n",
    "\n",
    "</div>\n",
    "\n",
    "* _Lembrando que esses Métodos pode ser utilados para outra coisa do que listas_"
   ]
  },
  {
   "cell_type": "markdown",
   "metadata": {},
   "source": [
    "#### Adicionando elementos no fim da lista:  `append()`"
   ]
  },
  {
   "cell_type": "code",
   "execution_count": 76,
   "metadata": {},
   "outputs": [
    {
     "data": {
      "text/plain": [
       "[10.0, 500, 50, 90.8, 230]"
      ]
     },
     "execution_count": 76,
     "metadata": {},
     "output_type": "execute_result"
    }
   ],
   "source": [
    "vetSaldo"
   ]
  },
  {
   "cell_type": "code",
   "execution_count": 77,
   "metadata": {},
   "outputs": [
    {
     "data": {
      "text/plain": [
       "[10.0, 500, 50, 90.8, 230, 80]"
      ]
     },
     "execution_count": 77,
     "metadata": {},
     "output_type": "execute_result"
    }
   ],
   "source": [
    "vetSaldo.append(80)\n",
    "vetSaldo"
   ]
  },
  {
   "cell_type": "markdown",
   "metadata": {},
   "source": [
    "#### Adicionando elemento em qualquer lugar: `insert( índice, item )`"
   ]
  },
  {
   "cell_type": "code",
   "execution_count": 78,
   "metadata": {},
   "outputs": [
    {
     "data": {
      "text/plain": [
       "[10.0, 1000, 500, 50, 90.8, 230, 80]"
      ]
     },
     "execution_count": 78,
     "metadata": {},
     "output_type": "execute_result"
    }
   ],
   "source": [
    "vetSaldo.insert(1,1000)\n",
    "vetSaldo"
   ]
  },
  {
   "cell_type": "markdown",
   "metadata": {},
   "source": [
    "#### Removendo da lista pelo índice: `pop(índice)`\n",
    "* Caso nao indique , será retirado o ultimo termo"
   ]
  },
  {
   "cell_type": "code",
   "execution_count": 79,
   "metadata": {},
   "outputs": [
    {
     "data": {
      "text/plain": [
       "[10.0, 1000, 500, 50, 230, 80]"
      ]
     },
     "execution_count": 79,
     "metadata": {},
     "output_type": "execute_result"
    }
   ],
   "source": [
    "vetSaldo.pop(4)\n",
    "vetSaldo"
   ]
  },
  {
   "cell_type": "markdown",
   "metadata": {},
   "source": [
    "#### Removendo da lista pelo elemento: ``remove(item)``\n"
   ]
  },
  {
   "cell_type": "code",
   "execution_count": 80,
   "metadata": {},
   "outputs": [
    {
     "data": {
      "text/plain": [
       "[10.0, 1000, 500, 50, 80]"
      ]
     },
     "execution_count": 80,
     "metadata": {},
     "output_type": "execute_result"
    }
   ],
   "source": [
    "vetSaldo.remove(230)\n",
    "vetSaldo"
   ]
  },
  {
   "cell_type": "markdown",
   "metadata": {},
   "source": [
    "### Lista Cópia\n",
    "* A cópia de uma lista para uma nova variável requer alguma atenção!\n",
    "\n",
    "* Por exemplo, se quisermos copiar a lista z para uma nova variável\n",
    "chamada z1, o mais natural seria o seguinte:\n",
    "$$z1 = z$$\n",
    "\n",
    "* Porém, quando fazemos isso no Python, criamos duas variáveis que\n",
    "referenciam a mesma lista!\n",
    "\n",
    "* É como se déssemos dois nomes para a mesma lista\n",
    "\n",
    "* Para criarmos uma cópia independente, utilizamos a sintaxe:\n",
    "$$z1 = z[:]$$\n",
    "\n",
    "Exemplo:\n"
   ]
  },
  {
   "cell_type": "code",
   "execution_count": 81,
   "metadata": {},
   "outputs": [
    {
     "name": "stdout",
     "output_type": "stream",
     "text": [
      "[4, 5, 6, 2, 8]\n",
      "[4, 5, 6, 2, 8, 9999999]\n"
     ]
    }
   ],
   "source": [
    "z = [4,5,6,2,8]\n",
    "z1 = z[:]\n",
    "z1.append(9999999)\n",
    "print(z)\n",
    "print(z1)\n"
   ]
  },
  {
   "cell_type": "markdown",
   "metadata": {},
   "source": [
    "Outra opção é utilizar o método `list.copy`"
   ]
  },
  {
   "cell_type": "code",
   "execution_count": 82,
   "metadata": {},
   "outputs": [
    {
     "name": "stdout",
     "output_type": "stream",
     "text": [
      "[4, 5, 6, 2, 8, 9999999]\n",
      "[4, 5, 8000, 6, 2, 8, 9999999]\n"
     ]
    }
   ],
   "source": [
    "z2 = z1.copy()\n",
    "z2.insert(2,8000)\n",
    "print(z1)\n",
    "print(z2)"
   ]
  },
  {
   "cell_type": "markdown",
   "metadata": {},
   "source": [
    "#### Tamanho da lista: `len(lista)`"
   ]
  },
  {
   "cell_type": "code",
   "execution_count": 83,
   "metadata": {},
   "outputs": [
    {
     "name": "stdout",
     "output_type": "stream",
     "text": [
      "7\n"
     ]
    }
   ],
   "source": [
    "print(len(z2))\n"
   ]
  },
  {
   "cell_type": "markdown",
   "metadata": {},
   "source": [
    "### Lista Pesquisando na lista\n",
    "* Podemos pesquisar se um elemento está na lista\n",
    "\n",
    "* Para isso, verificamos do primeiro ao último comparando com o\n",
    "que queremos encontrar.\n",
    "\n",
    "* Para percorrer listas, utilizamos uma estrutura de repetição:\n",
    "`while` ou `for`\n",
    "\n",
    "* _A estrutura `for` é otimizada para trabalhar com listas_\n",
    "\n",
    "* Para acessar cada um dos elementos da lista usamos o comando `for`\n",
    "\n",
    "Sintaxe:\n",
    "```python\n",
    "    for <nome da variável> in <nome da lista>\n",
    "```\n",
    "* Exemplos genericos:\n",
    "```python\n",
    "    for x in vetSaldo:\n",
    "        print(x)\n",
    "\n",
    "    for x in vetNomes:\n",
    "        print(x)\n",
    "```\n",
    "Exemplo :\n"
   ]
  },
  {
   "cell_type": "code",
   "execution_count": 84,
   "metadata": {},
   "outputs": [
    {
     "name": "stdout",
     "output_type": "stream",
     "text": [
      "Elemento encontrado no indice 3\n"
     ]
    }
   ],
   "source": [
    "z = [\"a\",\"b\",\"c\",\"d\",\"e\"]\n",
    "for indice in range(len(z)):\n",
    "    if z[indice] == \"d\":\n",
    "        print(\"Elemento encontrado no indice %d\" %indice)\n",
    "        break\n",
    "else:\n",
    "    print(\"Nao encontrado\") "
   ]
  },
  {
   "cell_type": "markdown",
   "metadata": {},
   "source": [
    "Caso queria apenas saber se o elemento, apenas, encontra-se na lista use: "
   ]
  },
  {
   "cell_type": "code",
   "execution_count": 85,
   "metadata": {},
   "outputs": [
    {
     "name": "stdout",
     "output_type": "stream",
     "text": [
      "Encontrado\n"
     ]
    }
   ],
   "source": [
    "if \"c\" in z:\n",
    "    print(\"Encontrado\")\n",
    "else:\n",
    "    print(\"Nao encontrado\")    "
   ]
  },
  {
   "cell_type": "markdown",
   "metadata": {},
   "source": [
    "### inline for loop\n",
    "* Adicionando elementos usando for inline:"
   ]
  },
  {
   "cell_type": "code",
   "execution_count": 86,
   "metadata": {},
   "outputs": [
    {
     "name": "stdout",
     "output_type": "stream",
     "text": [
      "[0, 3, 6, 9]\n"
     ]
    }
   ],
   "source": [
    "lista = [x for x in range(0,10,3)]\n",
    "print(lista)"
   ]
  },
  {
   "cell_type": "markdown",
   "metadata": {},
   "source": [
    "* Pode se utilizar formulas para criar a lista."
   ]
  },
  {
   "cell_type": "code",
   "execution_count": 87,
   "metadata": {},
   "outputs": [
    {
     "name": "stdout",
     "output_type": "stream",
     "text": [
      "[2, 6, 18, 38, 66]\n"
     ]
    }
   ],
   "source": [
    "lista = [x**2+2 for x in range(0,10,2)]\n",
    "print(lista)"
   ]
  },
  {
   "cell_type": "markdown",
   "metadata": {},
   "source": [
    "Podemos utilizar uma lista como parametro, afim de utlizar seus dados como range\n"
   ]
  },
  {
   "cell_type": "code",
   "execution_count": 88,
   "metadata": {},
   "outputs": [
    {
     "name": "stdout",
     "output_type": "stream",
     "text": [
      "[0, 2, 4, 6, 8]\n"
     ]
    }
   ],
   "source": [
    "lista  = [0,1,2,3,4,5,6,7,8,9]\n",
    "lista2 = [x for x in lista if x%2 == 0]\n",
    "print(lista2)\n"
   ]
  },
  {
   "cell_type": "code",
   "execution_count": 89,
   "metadata": {},
   "outputs": [
    {
     "name": "stdout",
     "output_type": "stream",
     "text": [
      "[2, 5, 0, 2, 0, 5, 2]\n"
     ]
    }
   ],
   "source": [
    "lista  = [2,-3,5,-10,-50,8 ,0,2 ,0 ,-1,5,2,7,88]\n",
    "lista2 = [x for x in lista if 5 >= x >= 0]\n",
    "print(lista2)"
   ]
  },
  {
   "cell_type": "markdown",
   "metadata": {},
   "source": [
    "### Fatiamento  Slicing\n",
    "No Python, podemos também fatiar as listas. Ou seja, pegar somente partes de uma lista.\n",
    "\n",
    "Exemplo:\n"
   ]
  },
  {
   "cell_type": "code",
   "execution_count": 90,
   "metadata": {},
   "outputs": [
    {
     "name": "stdout",
     "output_type": "stream",
     "text": [
      "[0, 1, 2, 3]\n",
      "[3, 4, 5, 6, 7, 8, 9, 10, 11, 12]\n",
      "12\n",
      "[1, 3, 5, 7]\n",
      "[0, 2, 4, 6, 8, 10, 12]\n",
      "[12, 11, 10, 9, 8, 7, 6, 5, 4, 3, 2, 1, 0]\n"
     ]
    }
   ],
   "source": [
    "p = [0,1,2,3,4,5,6,7,8,9,10,11,12]\n",
    "print(p[0:4])\n",
    "print(p[3:])\n",
    "print(p[-1])\n",
    "print(p[1:8:2])\n",
    "print(p[::2])\n",
    "print(p[::-1])"
   ]
  },
  {
   "cell_type": "markdown",
   "metadata": {},
   "source": [
    "### Listas Aninhadas\n",
    "* Uma lista aninhada é uma lista que aparece como um elemento de uma outra lista.\n",
    "\n",
    "* O quarto elemento da “lista” (índice 3) é uma lista aninhada:\n"
   ]
  },
  {
   "cell_type": "code",
   "execution_count": 91,
   "metadata": {},
   "outputs": [],
   "source": [
    "lista = [\"Hello There\",6.7,5,[1,2]]\n"
   ]
  },
  {
   "cell_type": "markdown",
   "metadata": {},
   "source": [
    "* Quando pedimos para imprimir o elemento no índice 3, vemos o seguinte:"
   ]
  },
  {
   "cell_type": "code",
   "execution_count": 92,
   "metadata": {},
   "outputs": [
    {
     "name": "stdout",
     "output_type": "stream",
     "text": [
      "[1, 2]\n"
     ]
    }
   ],
   "source": [
    "print(lista[3])\n"
   ]
  },
  {
   "cell_type": "markdown",
   "metadata": {},
   "source": [
    "Para acessar o número 2, devemos colocar o índice 3, para acessar a lista aninhada e, depois, o índice 1, para acessar o número 2:"
   ]
  },
  {
   "cell_type": "code",
   "execution_count": 93,
   "metadata": {},
   "outputs": [
    {
     "name": "stdout",
     "output_type": "stream",
     "text": [
      "2\n"
     ]
    }
   ],
   "source": [
    "print(lista[3][1])"
   ]
  },
  {
   "cell_type": "markdown",
   "metadata": {},
   "source": [
    "* Os colchetes avaliam a sentença da esquerda para a direita, então o\n",
    "elemento no índice 3 será acessado primeiro.\n",
    "\n",
    "    * Depois, como o elemento no índice 3 é outra lista, podemos acessar o elemento\n",
    "no índice 1, que é o número inteiro 2."
   ]
  },
  {
   "cell_type": "markdown",
   "metadata": {},
   "source": [
    "## Matrizes"
   ]
  },
  {
   "cell_type": "markdown",
   "metadata": {},
   "source": [
    "* Listas aninhadas podem ser utilizadas para representar\n",
    "matrizes.\n",
    "\n",
    "* Uma matriz é um caso específico de lista aninhada\n",
    "\n",
    "\n",
    " Exemplo matriz A =\n",
    "$$\\begin{pmatrix}\n",
    "1 & 2 & 3 \\\\ \n",
    "4 & 5 & 6 \\\\ \n",
    "7 & 8 & 9\n",
    "\\end{pmatrix}$$\n",
    "\n",
    "No Python:\n",
    "```python\n",
    "    A = [[1,2,3],[4,5,6],[7,8,9]]\n",
    "```\n"
   ]
  },
  {
   "cell_type": "markdown",
   "metadata": {},
   "source": [
    "Outros Exemplos:"
   ]
  },
  {
   "cell_type": "markdown",
   "metadata": {},
   "source": [
    "Colocando duas linhas em uma:\n",
    "$$\\begin{bmatrix}\n",
    "1 & 5 & 66 & 30 & 77\\\\ \n",
    "2 & 10 & 3 & 4 & 8\n",
    "\\end{bmatrix}$$"
   ]
  },
  {
   "cell_type": "code",
   "execution_count": 2,
   "metadata": {},
   "outputs": [
    {
     "name": "stdout",
     "output_type": "stream",
     "text": [
      "1\n",
      "5\n",
      "66\n",
      "30\n",
      "77\n",
      "2\n",
      "10\n",
      "3\n",
      "4\n",
      "8\n"
     ]
    }
   ],
   "source": [
    "matriz =[[1,5,66,30,77],[2,10,3,4,8]]\n",
    "\n",
    "for linha in range(2):\n",
    "    for coluna in range(5):\n",
    "        valor = matriz[linha][coluna]\n",
    "        print(valor)"
   ]
  },
  {
   "cell_type": "markdown",
   "metadata": {},
   "source": [
    "Para ficar visualmente mais simples, podemos escrever a matriz A assim:"
   ]
  },
  {
   "cell_type": "code",
   "execution_count": 6,
   "metadata": {},
   "outputs": [
    {
     "name": "stdout",
     "output_type": "stream",
     "text": [
      "[[1, 2, 3], [4, 5, 6], [7, 8, 9]]\n",
      "[1, 2, 3]\n",
      "3\n"
     ]
    }
   ],
   "source": [
    "A = [[1,2,3],\n",
    "     [4,5,6],\n",
    "     [7,8,9]]\n",
    "\n",
    "print(A)     \n",
    "print(A[0])\n",
    "print(A[0][2])"
   ]
  },
  {
   "cell_type": "markdown",
   "metadata": {},
   "source": [
    "* Para ler todos os elementos de uma matriz, um de cada\n",
    "vez, utilizamos repetições:"
   ]
  },
  {
   "cell_type": "code",
   "execution_count": 8,
   "metadata": {},
   "outputs": [
    {
     "name": "stdout",
     "output_type": "stream",
     "text": [
      "1 2 3 \n",
      "4 5 6 \n",
      "7 8 9 \n"
     ]
    }
   ],
   "source": [
    "for linha in range(len(A)):\n",
    "    for coluna in range(len(A[linha])):\n",
    "        print(A[linha][coluna], end = \" \")\n",
    "    print()    "
   ]
  },
  {
   "cell_type": "markdown",
   "metadata": {},
   "source": [
    "* Criar uma matriz, M, 10 x 15 cujos elementos são iguais a somatória de sua linha com sua coluna (elemento = linha + coluna)."
   ]
  },
  {
   "cell_type": "code",
   "execution_count": 11,
   "metadata": {},
   "outputs": [
    {
     "name": "stdout",
     "output_type": "stream",
     "text": [
      "   0   1   2   3   4   5   6   7   8   9  10  11  12  13  14\n",
      "   1   2   3   4   5   6   7   8   9  10  11  12  13  14  15\n",
      "   2   3   4   5   6   7   8   9  10  11  12  13  14  15  16\n",
      "   3   4   5   6   7   8   9  10  11  12  13  14  15  16  17\n",
      "   4   5   6   7   8   9  10  11  12  13  14  15  16  17  18\n",
      "   5   6   7   8   9  10  11  12  13  14  15  16  17  18  19\n",
      "   6   7   8   9  10  11  12  13  14  15  16  17  18  19  20\n",
      "   7   8   9  10  11  12  13  14  15  16  17  18  19  20  21\n",
      "   8   9  10  11  12  13  14  15  16  17  18  19  20  21  22\n",
      "   9  10  11  12  13  14  15  16  17  18  19  20  21  22  23\n"
     ]
    }
   ],
   "source": [
    "M = []\n",
    "for num_linha in range(10):\n",
    "    linha = []\n",
    "    for num_coluna in range(15):\n",
    "        linha.append(num_linha+num_coluna)\n",
    "    M.append(linha) \n",
    "for linha in  range(len(M)):\n",
    "    for coluna in range(len(M[linha])):\n",
    "        print(\"%4d\"%M[linha][coluna], end='')\n",
    "    print()    "
   ]
  },
  {
   "cell_type": "markdown",
   "metadata": {},
   "source": [
    "### Adicionando elementos na lista"
   ]
  },
  {
   "cell_type": "markdown",
   "metadata": {},
   "source": [
    "#### Append"
   ]
  },
  {
   "cell_type": "code",
   "execution_count": 12,
   "metadata": {},
   "outputs": [
    {
     "name": "stdout",
     "output_type": "stream",
     "text": [
      "[[1, 5, 66, 7], [2, 3, 4, 80], [1, 2, 3, 4]]\n",
      "3\n"
     ]
    }
   ],
   "source": [
    "matriz = [[1,5,66,7],[2,3,4,80]]\n",
    "\n",
    "matriz.append([1,2,3,4])\n",
    "print(matriz)\n",
    "print(len(matriz))"
   ]
  },
  {
   "cell_type": "code",
   "execution_count": 13,
   "metadata": {},
   "outputs": [
    {
     "name": "stdout",
     "output_type": "stream",
     "text": [
      "[[1, 2, 3, 4], [10, 20, 30]]\n"
     ]
    }
   ],
   "source": [
    "lista = [[1,2,3],[10,20,30]]\n",
    "lista[0].append(4)\n",
    "print(lista)"
   ]
  },
  {
   "cell_type": "markdown",
   "metadata": {},
   "source": [
    "#### Pop"
   ]
  },
  {
   "cell_type": "code",
   "execution_count": 14,
   "metadata": {},
   "outputs": [
    {
     "name": "stdout",
     "output_type": "stream",
     "text": [
      "[[1, 2, 3]]\n"
     ]
    }
   ],
   "source": [
    "lista = [[1,2,3],[10,20,30]]\n",
    "lista.pop()\n",
    "print(lista)"
   ]
  },
  {
   "cell_type": "code",
   "execution_count": 15,
   "metadata": {},
   "outputs": [
    {
     "name": "stdout",
     "output_type": "stream",
     "text": [
      "[[1, 2, 3], [10, 20]]\n"
     ]
    }
   ],
   "source": [
    "lista = [[1,2,3],[10,20,30]]\n",
    "lista[1].pop()\n",
    "print(lista)"
   ]
  },
  {
   "cell_type": "markdown",
   "metadata": {},
   "source": [
    "### Lista Adicionando elementos usando for inline\n",
    "* Podemos criar uma lista usando for inline"
   ]
  },
  {
   "cell_type": "code",
   "execution_count": 16,
   "metadata": {},
   "outputs": [
    {
     "name": "stdout",
     "output_type": "stream",
     "text": [
      "[[0, 1, 2, 3], [0, 1, 2, 3], [0, 1, 2, 3]]\n"
     ]
    }
   ],
   "source": [
    "lista = [[x for x in range(4)] for _ in range(3)]\n",
    "print(lista)"
   ]
  },
  {
   "cell_type": "markdown",
   "metadata": {},
   "source": [
    "* Podemos fazer fatiamento de uma lista de lista usando for inline"
   ]
  },
  {
   "cell_type": "code",
   "execution_count": 18,
   "metadata": {},
   "outputs": [
    {
     "name": "stdout",
     "output_type": "stream",
     "text": [
      "[[2, 3, 4], [20, 30, 40]]\n"
     ]
    }
   ],
   "source": [
    "lista = [[1,2,3,4,5],[10,20,30,40,50]]\n",
    "lista1 = [x[1:4] for x in lista ]\n",
    "print(lista1)"
   ]
  }
 ],
 "metadata": {
  "interpreter": {
   "hash": "4badd61a3eb0a98b49024dc08b6e569de2eac3230396ff1e691db44e3b600cf6"
  },
  "kernelspec": {
   "display_name": "Python 3.9.9 64-bit",
   "language": "python",
   "name": "python3"
  },
  "language_info": {
   "codemirror_mode": {
    "name": "ipython",
    "version": 3
   },
   "file_extension": ".py",
   "mimetype": "text/x-python",
   "name": "python",
   "nbconvert_exporter": "python",
   "pygments_lexer": "ipython3",
   "version": "3.10.0"
  },
  "orig_nbformat": 4
 },
 "nbformat": 4,
 "nbformat_minor": 2
}
