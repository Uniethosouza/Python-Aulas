{
 "cells": [
  {
   "cell_type": "code",
   "execution_count": 1,
   "metadata": {},
   "outputs": [
    {
     "data": {
      "text/html": [
       "<pre style=\"white-space:pre;overflow-x:auto;line-height:normal;font-family:Menlo,'DejaVu Sans Mono',consolas,'Courier New',monospace\">Manim Community <span style=\"color: #008000; text-decoration-color: #008000\">v0.13.1</span>\n",
       "\n",
       "</pre>\n"
      ],
      "text/plain": [
       "Manim Community \u001b[32mv0.\u001b[0m\u001b[32m13.1\u001b[0m\n",
       "\n"
      ]
     },
     "metadata": {},
     "output_type": "display_data"
    }
   ],
   "source": [
    "from manim import *\n",
    "config.media_width = \"80%\"\n",
    "config.verbosity = \"WARNING\"\n",
    "from colour import Color"
   ]
  },
  {
   "cell_type": "code",
   "execution_count": 6,
   "metadata": {},
   "outputs": [
    {
     "data": {
      "text/html": [
       "<pre style=\"white-space:pre;overflow-x:auto;line-height:normal;font-family:Menlo,'DejaVu Sans Mono',consolas,'Courier New',monospace\"><span style=\"color: #7fbfbf; text-decoration-color: #7fbfbf\">[01/30/22 13:15:58] </span><span style=\"color: #800000; text-decoration-color: #800000\">WARNING </span> The method CoordinateSystem.get_graph has     <a href=\"file://C:\\Users\\thoma\\AppData\\Local\\Programs\\Python\\Python39\\lib\\site-packages\\manim\\utils\\deprecation.py\"><span style=\"color: #7f7f7f; text-decoration-color: #7f7f7f\">deprecation.py</span></a><span style=\"color: #7f7f7f; text-decoration-color: #7f7f7f\">:</span><a href=\"file://C:\\Users\\thoma\\AppData\\Local\\Programs\\Python\\Python39\\lib\\site-packages\\manim\\utils\\deprecation.py#210\"><span style=\"color: #7f7f7f; text-decoration-color: #7f7f7f\">210</span></a>\n",
       "                             been deprecated since v0.<span style=\"color: #008000; text-decoration-color: #008000\">11.0</span> and is expected                   \n",
       "                             to be removed after v0.<span style=\"color: #008000; text-decoration-color: #008000\">13.0</span>. Use plot                           \n",
       "                             instead.                                                        \n",
       "</pre>\n"
      ],
      "text/plain": [
       "\u001b[2;36m[01/30/22 13:15:58]\u001b[0m\u001b[2;36m \u001b[0m\u001b[31mWARNING \u001b[0m The method CoordinateSystem.get_graph has     \u001b]8;id=700635;file://C:\\Users\\thoma\\AppData\\Local\\Programs\\Python\\Python39\\lib\\site-packages\\manim\\utils\\deprecation.py\u001b\\\u001b[2mdeprecation.py\u001b[0m\u001b]8;;\u001b\\\u001b[2m:\u001b[0m\u001b]8;id=700731;file://C:\\Users\\thoma\\AppData\\Local\\Programs\\Python\\Python39\\lib\\site-packages\\manim\\utils\\deprecation.py#210\u001b\\\u001b[2m210\u001b[0m\u001b]8;;\u001b\\\n",
       "                             been deprecated since v0.\u001b[32m11.0\u001b[0m and is expected                   \n",
       "                             to be removed after v0.\u001b[32m13.0\u001b[0m. Use plot                           \n",
       "                             instead.                                                        \n"
      ]
     },
     "metadata": {},
     "output_type": "display_data"
    },
    {
     "name": "stderr",
     "output_type": "stream",
     "text": [
      "                                                                                                   \r"
     ]
    },
    {
     "data": {
      "text/html": [
       "<video src=\"media\\jupyter\\GraphingIntro@2022-01-30@13-16-12.mp4\" controls autoplay loop style=\"max-width: 80%;\"  >\n",
       "      Your browser does not support the <code>video</code> element.\n",
       "    </video>"
      ],
      "text/plain": [
       "<IPython.core.display.Video object>"
      ]
     },
     "metadata": {},
     "output_type": "display_data"
    }
   ],
   "source": [
    "%%manim -qm GraphingIntro\n",
    "\n",
    "class GraphingIntro(Scene):\n",
    "    def construct(self):\n",
    "\n",
    "        backg_plane = NumberPlane(x_range=[-7,7,1], y_range=[-4,4,1]).add_coordinates()\n",
    "       \n",
    "\n",
    "        axes = Axes(x_range = [0,5,1], y_range = [0,3,1], \n",
    "        x_length = 5, y_length = 3,\n",
    "        axis_config = {\"include_tip\": True, \"numbers_to_exclude\": [0]}\n",
    "        ).add_coordinates()\n",
    "\n",
    "        axes.to_edge(UR)\n",
    "        axis_labels = axes.get_axis_labels(x_label = \"x\", y_label = \"f(x)\")\n",
    "\n",
    "        graph = axes.get_graph(lambda x : x**0.5, x_range = [0,4], color = YELLOW)\n",
    "\n",
    "        graphing_stuff = VGroup(axes, graph, axis_labels)\n",
    "\n",
    "        self.play(FadeIn(backg_plane),  run_time=6)\n",
    "        self.play(backg_plane.animate.set_opacity(0.3))\n",
    "        self.wait()\n",
    "        self.play(DrawBorderThenFill(axes), Write(axis_labels), run_time = 2)\n",
    "        self.wait()\n",
    "        self.play(Create(graph), run_time = 2)\n",
    "        self.play(graphing_stuff.animate.shift(DOWN*4), run_time = 3)\n",
    "        self.wait()\n",
    "        self.play(axes.animate.shift(LEFT*3), run_time = 3)\n",
    "        self.wait()\n"
   ]
  },
  {
   "cell_type": "code",
   "execution_count": 7,
   "metadata": {},
   "outputs": [
    {
     "data": {
      "text/html": [
       "<pre style=\"white-space:pre;overflow-x:auto;line-height:normal;font-family:Menlo,'DejaVu Sans Mono',consolas,'Courier New',monospace\"><span style=\"color: #7fbfbf; text-decoration-color: #7fbfbf\">[01/30/22 13:16:25] </span><span style=\"color: #800000; text-decoration-color: #800000\">WARNING </span> The method CoordinateSystem.get_graph has     <a href=\"file://C:\\Users\\thoma\\AppData\\Local\\Programs\\Python\\Python39\\lib\\site-packages\\manim\\utils\\deprecation.py\"><span style=\"color: #7f7f7f; text-decoration-color: #7f7f7f\">deprecation.py</span></a><span style=\"color: #7f7f7f; text-decoration-color: #7f7f7f\">:</span><a href=\"file://C:\\Users\\thoma\\AppData\\Local\\Programs\\Python\\Python39\\lib\\site-packages\\manim\\utils\\deprecation.py#210\"><span style=\"color: #7f7f7f; text-decoration-color: #7f7f7f\">210</span></a>\n",
       "                             been deprecated since v0.<span style=\"color: #008000; text-decoration-color: #008000\">11.0</span> and is expected                   \n",
       "                             to be removed after v0.<span style=\"color: #008000; text-decoration-color: #008000\">13.0</span>. Use plot                           \n",
       "                             instead.                                                        \n",
       "</pre>\n"
      ],
      "text/plain": [
       "\u001b[2;36m[01/30/22 13:16:25]\u001b[0m\u001b[2;36m \u001b[0m\u001b[31mWARNING \u001b[0m The method CoordinateSystem.get_graph has     \u001b]8;id=987847;file://C:\\Users\\thoma\\AppData\\Local\\Programs\\Python\\Python39\\lib\\site-packages\\manim\\utils\\deprecation.py\u001b\\\u001b[2mdeprecation.py\u001b[0m\u001b]8;;\u001b\\\u001b[2m:\u001b[0m\u001b]8;id=141423;file://C:\\Users\\thoma\\AppData\\Local\\Programs\\Python\\Python39\\lib\\site-packages\\manim\\utils\\deprecation.py#210\u001b\\\u001b[2m210\u001b[0m\u001b]8;;\u001b\\\n",
       "                             been deprecated since v0.\u001b[32m11.0\u001b[0m and is expected                   \n",
       "                             to be removed after v0.\u001b[32m13.0\u001b[0m. Use plot                           \n",
       "                             instead.                                                        \n"
      ]
     },
     "metadata": {},
     "output_type": "display_data"
    },
    {
     "name": "stderr",
     "output_type": "stream",
     "text": [
      "                                                                                                              \r"
     ]
    },
    {
     "data": {
      "text/html": [
       "<video src=\"media\\jupyter\\Tute1@2022-01-30@13-17-03.mp4\" controls autoplay loop style=\"max-width: 80%;\"  >\n",
       "      Your browser does not support the <code>video</code> element.\n",
       "    </video>"
      ],
      "text/plain": [
       "<IPython.core.display.Video object>"
      ]
     },
     "metadata": {},
     "output_type": "display_data"
    }
   ],
   "source": [
    "%%manim -qm Tute1\n",
    "\n",
    "class Tute1(Scene): #ILLUSTRATING HOW TO PUT A NUMBER PLANE ON SCENE WITH A GRAPH, and a line using c2p\n",
    "    def construct(self):\n",
    "\n",
    "        backg_plane = NumberPlane(x_range=[-7,7,1], y_range=[-4,4,1])\n",
    "        backg_plane.add_coordinates()\n",
    "      \n",
    "\n",
    "        my_plane = NumberPlane(x_range = [-6,6], x_length = 5,\n",
    "        y_range = [-10,10], y_length=5)\n",
    "        my_plane.add_coordinates()\n",
    "        my_plane.shift(RIGHT*3)\n",
    "\n",
    "        my_function = my_plane.get_graph(lambda x : 0.1*(x-5)*x*(x+5), \n",
    "        x_range=[-6,6], color = GREEN_B)\n",
    "\n",
    "        label = MathTex(\"f(x)=0.1x(x-5)(x+5)\").next_to(\n",
    "            my_plane, UP, buff=0.2)\n",
    "\n",
    "        area = my_plane.get_area(graph = my_function, \n",
    "        x_range = [-5,5], color = [BLUE,YELLOW])\n",
    "\n",
    "        horiz_line = Line(\n",
    "            start = my_plane.c2p(0, my_function.underlying_function(-2)),\n",
    "        end = my_plane.c2p(-2, my_function.underlying_function(-2)),\n",
    "        stroke_color = YELLOW, stroke_width = 10)\n",
    "\n",
    "        self.play(FadeIn(backg_plane), run_time=6)\n",
    "        self.play(backg_plane.animate.set_opacity(0.2))\n",
    "        self.wait()\n",
    "        self.play(DrawBorderThenFill(my_plane), run_time=2)\n",
    "        self.wait()\n",
    "        self.play(Create(my_function), Write(label), run_time=2)\n",
    "        self.wait()\n",
    "        self.play(FadeIn(area), run_time = 2)\n",
    "        self.wait()\n",
    "        self.play(Create(horiz_line), run_time = 2)\n",
    "        self.wait()\n"
   ]
  },
  {
   "cell_type": "code",
   "execution_count": 10,
   "metadata": {},
   "outputs": [
    {
     "data": {
      "text/html": [
       "<pre style=\"white-space:pre;overflow-x:auto;line-height:normal;font-family:Menlo,'DejaVu Sans Mono',consolas,'Courier New',monospace\"><span style=\"color: #7fbfbf; text-decoration-color: #7fbfbf\">[01/30/22 13:20:35] </span><span style=\"color: #800000; text-decoration-color: #800000\">WARNING </span> The method CoordinateSystem.get_graph has     <a href=\"file://C:\\Users\\thoma\\AppData\\Local\\Programs\\Python\\Python39\\lib\\site-packages\\manim\\utils\\deprecation.py\"><span style=\"color: #7f7f7f; text-decoration-color: #7f7f7f\">deprecation.py</span></a><span style=\"color: #7f7f7f; text-decoration-color: #7f7f7f\">:</span><a href=\"file://C:\\Users\\thoma\\AppData\\Local\\Programs\\Python\\Python39\\lib\\site-packages\\manim\\utils\\deprecation.py#210\"><span style=\"color: #7f7f7f; text-decoration-color: #7f7f7f\">210</span></a>\n",
       "                             been deprecated since v0.<span style=\"color: #008000; text-decoration-color: #008000\">11.0</span> and is expected                   \n",
       "                             to be removed after v0.<span style=\"color: #008000; text-decoration-color: #008000\">13.0</span>. Use plot                           \n",
       "                             instead.                                                        \n",
       "</pre>\n"
      ],
      "text/plain": [
       "\u001b[2;36m[01/30/22 13:20:35]\u001b[0m\u001b[2;36m \u001b[0m\u001b[31mWARNING \u001b[0m The method CoordinateSystem.get_graph has     \u001b]8;id=533469;file://C:\\Users\\thoma\\AppData\\Local\\Programs\\Python\\Python39\\lib\\site-packages\\manim\\utils\\deprecation.py\u001b\\\u001b[2mdeprecation.py\u001b[0m\u001b]8;;\u001b\\\u001b[2m:\u001b[0m\u001b]8;id=343293;file://C:\\Users\\thoma\\AppData\\Local\\Programs\\Python\\Python39\\lib\\site-packages\\manim\\utils\\deprecation.py#210\u001b\\\u001b[2m210\u001b[0m\u001b]8;;\u001b\\\n",
       "                             been deprecated since v0.\u001b[32m11.0\u001b[0m and is expected                   \n",
       "                             to be removed after v0.\u001b[32m13.0\u001b[0m. Use plot                           \n",
       "                             instead.                                                        \n"
      ]
     },
     "metadata": {},
     "output_type": "display_data"
    },
    {
     "data": {
      "text/html": [
       "<pre style=\"white-space:pre;overflow-x:auto;line-height:normal;font-family:Menlo,'DejaVu Sans Mono',consolas,'Courier New',monospace\"><span style=\"color: #7fbfbf; text-decoration-color: #7fbfbf\">[01/30/22 13:20:36] </span><span style=\"color: #800000; text-decoration-color: #800000\">WARNING </span> The method CoordinateSystem.get_graph has     <a href=\"file://C:\\Users\\thoma\\AppData\\Local\\Programs\\Python\\Python39\\lib\\site-packages\\manim\\utils\\deprecation.py\"><span style=\"color: #7f7f7f; text-decoration-color: #7f7f7f\">deprecation.py</span></a><span style=\"color: #7f7f7f; text-decoration-color: #7f7f7f\">:</span><a href=\"file://C:\\Users\\thoma\\AppData\\Local\\Programs\\Python\\Python39\\lib\\site-packages\\manim\\utils\\deprecation.py#210\"><span style=\"color: #7f7f7f; text-decoration-color: #7f7f7f\">210</span></a>\n",
       "                             been deprecated since v0.<span style=\"color: #008000; text-decoration-color: #008000\">11.0</span> and is expected                   \n",
       "                             to be removed after v0.<span style=\"color: #008000; text-decoration-color: #008000\">13.0</span>. Use plot                           \n",
       "                             instead.                                                        \n",
       "</pre>\n"
      ],
      "text/plain": [
       "\u001b[2;36m[01/30/22 13:20:36]\u001b[0m\u001b[2;36m \u001b[0m\u001b[31mWARNING \u001b[0m The method CoordinateSystem.get_graph has     \u001b]8;id=688542;file://C:\\Users\\thoma\\AppData\\Local\\Programs\\Python\\Python39\\lib\\site-packages\\manim\\utils\\deprecation.py\u001b\\\u001b[2mdeprecation.py\u001b[0m\u001b]8;;\u001b\\\u001b[2m:\u001b[0m\u001b]8;id=454673;file://C:\\Users\\thoma\\AppData\\Local\\Programs\\Python\\Python39\\lib\\site-packages\\manim\\utils\\deprecation.py#210\u001b\\\u001b[2m210\u001b[0m\u001b]8;;\u001b\\\n",
       "                             been deprecated since v0.\u001b[32m11.0\u001b[0m and is expected                   \n",
       "                             to be removed after v0.\u001b[32m13.0\u001b[0m. Use plot                           \n",
       "                             instead.                                                        \n"
      ]
     },
     "metadata": {},
     "output_type": "display_data"
    },
    {
     "name": "stderr",
     "output_type": "stream",
     "text": [
      "                                                                                                            \r"
     ]
    },
    {
     "data": {
      "text/html": [
       "<video src=\"media\\jupyter\\Tute3@2022-01-30@13-20-51.mp4\" controls autoplay loop style=\"max-width: 80%;\"  >\n",
       "      Your browser does not support the <code>video</code> element.\n",
       "    </video>"
      ],
      "text/plain": [
       "<IPython.core.display.Video object>"
      ]
     },
     "metadata": {},
     "output_type": "display_data"
    }
   ],
   "source": [
    "%%manim -qm Tute3\n",
    "\n",
    "class Tute3(Scene): #Showing how to call 2 planes, put graphs on each and call elements to each\n",
    "    def construct(self):\n",
    "\n",
    "        backg_plane = NumberPlane(x_range=[-7,7,1], y_range=[-4,4,1]).add_coordinates()\n",
    "\n",
    "        plane = NumberPlane(x_range = [-4,4,1], x_length = 4, \n",
    "        y_range= [0, 20, 5], y_length=4).add_coordinates()\n",
    "        plane.shift(LEFT*3+DOWN*1.5)\n",
    "        plane_graph = plane.get_graph(lambda x : x**2, \n",
    "        x_range = [-4,4], color = GREEN)\n",
    "        area = plane.get_riemann_rectangles(graph = plane_graph, x_range=[-2,2], dx=0.05)\n",
    "\n",
    "        axes = Axes(x_range = [-4,4,1], x_length = 4, \n",
    "        y_range= [-20,20,5], y_length=4).add_coordinates()\n",
    "        axes.shift(RIGHT*3+DOWN*1.5)\n",
    "        axes_graph = axes.get_graph(lambda x : 2*x, \n",
    "        x_range=[-4,4], color = YELLOW)\n",
    "        v_lines = axes.get_vertical_lines_to_graph(\n",
    "            graph = axes_graph, x_range=[-3,3], num_lines = 12)\n",
    "\n",
    "        self.play(FadeIn(backg_plane), run_time=6)\n",
    "        self.play(backg_plane.animate.set_opacity(0.3))\n",
    "        self.play(Write(plane), Create(axes))\n",
    "        self.wait()\n",
    "        self.play(Create(plane_graph), Create(axes_graph), run_time = 2)\n",
    "        self.add(area, v_lines)\n",
    "        self.wait()\n"
   ]
  },
  {
   "cell_type": "code",
   "execution_count": 11,
   "metadata": {},
   "outputs": [
    {
     "name": "stderr",
     "output_type": "stream",
     "text": [
      "                                                                                                                     \r"
     ]
    },
    {
     "data": {
      "text/html": [
       "<video src=\"media\\jupyter\\Tute4@2022-01-30@13-21-20.mp4\" controls autoplay loop style=\"max-width: 80%;\"  >\n",
       "      Your browser does not support the <code>video</code> element.\n",
       "    </video>"
      ],
      "text/plain": [
       "<IPython.core.display.Video object>"
      ]
     },
     "metadata": {},
     "output_type": "display_data"
    }
   ],
   "source": [
    "%%manim -qm Tute4\n",
    "\n",
    "class Tute4(Scene):\n",
    "    def construct(self):\n",
    "\n",
    "        plane = ComplexPlane(axis_config = {\"include_tip\": True, \"numbers_to_exclude\": [0]}).add_coordinates()\n",
    "\n",
    "        labels = plane.get_axis_labels(x_label = \"Real\", y_label=\"Imaginary\")\n",
    "\n",
    "        quest = MathTex(\"Plot \\\\quad 2-3i\").add_background_rectangle().to_edge(UL)\n",
    "        dot = Dot()\n",
    "        vect1 = plane.get_vector((2,0), stroke_color = YELLOW)\n",
    "        vect2 = Line(start = plane.c2p(2,0),\n",
    "        end = plane.c2p(2,-3), stroke_color = YELLOW).add_tip()\n",
    "\n",
    "        self.play(DrawBorderThenFill(plane), Write(labels))\n",
    "        self.wait()\n",
    "        self.play(FadeIn(quest))\n",
    "        self.play(GrowArrow(vect1), dot.animate.move_to(plane.c2p(2,0)), rate_func = linear, run_time = 2)\n",
    "        self.wait()\n",
    "        self.play(GrowFromPoint((vect2), point = vect2.get_start()),\n",
    "        dot.animate.move_to(plane.c2p(2,-3)), run_time = 2, rate_func = linear)\n",
    "        self.wait()"
   ]
  }
 ],
 "metadata": {
  "interpreter": {
   "hash": "4badd61a3eb0a98b49024dc08b6e569de2eac3230396ff1e691db44e3b600cf6"
  },
  "kernelspec": {
   "display_name": "Python 3.9.9 64-bit",
   "language": "python",
   "name": "python3"
  },
  "language_info": {
   "codemirror_mode": {
    "name": "ipython",
    "version": 3
   },
   "file_extension": ".py",
   "mimetype": "text/x-python",
   "name": "python",
   "nbconvert_exporter": "python",
   "pygments_lexer": "ipython3",
   "version": "3.9.9"
  },
  "orig_nbformat": 4
 },
 "nbformat": 4,
 "nbformat_minor": 2
}
