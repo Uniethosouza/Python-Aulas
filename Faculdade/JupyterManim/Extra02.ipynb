{
 "cells": [
  {
   "cell_type": "code",
   "execution_count": 1,
   "metadata": {},
   "outputs": [
    {
     "data": {
      "text/html": [
       "<pre style=\"white-space:pre;overflow-x:auto;line-height:normal;font-family:Menlo,'DejaVu Sans Mono',consolas,'Courier New',monospace\">Manim Community <span style=\"color: #008000; text-decoration-color: #008000\">v0.13.1</span>\n",
       "\n",
       "</pre>\n"
      ],
      "text/plain": [
       "Manim Community \u001b[32mv0.\u001b[0m\u001b[32m13.1\u001b[0m\n",
       "\n"
      ]
     },
     "metadata": {},
     "output_type": "display_data"
    }
   ],
   "source": [
    "from re import L\n",
    "from manim import *\n",
    "import random"
   ]
  },
  {
   "cell_type": "code",
   "execution_count": 7,
   "metadata": {},
   "outputs": [
    {
     "data": {
      "text/html": [
       "<pre style=\"white-space:pre;overflow-x:auto;line-height:normal;font-family:Menlo,'DejaVu Sans Mono',consolas,'Courier New',monospace\"><span style=\"color: #7fbfbf; text-decoration-color: #7fbfbf\">[01/31/22 12:16:49] </span><span style=\"color: #008000; text-decoration-color: #008000\">INFO    </span> <span style=\"color: #808000; text-decoration-color: #808000; font-weight: bold\">Writing</span> <span style=\"color: #008000; text-decoration-color: #008000\">\"A = \\begin{bmatrix} 1 &amp; 2 \\\\ 2 &amp;</span> <a href=\"file://C:\\Users\\thoma\\AppData\\Local\\Programs\\Python\\Python39\\lib\\site-packages\\manim\\utils\\tex_file_writing.py\"><span style=\"color: #7f7f7f; text-decoration-color: #7f7f7f\">tex_file_writing.py</span></a><span style=\"color: #7f7f7f; text-decoration-color: #7f7f7f\">:</span><a href=\"file://C:\\Users\\thoma\\AppData\\Local\\Programs\\Python\\Python39\\lib\\site-packages\\manim\\utils\\tex_file_writing.py#85\"><span style=\"color: #7f7f7f; text-decoration-color: #7f7f7f\">85</span></a>\n",
       "                             <span style=\"color: #008000; text-decoration-color: #008000\">1 \\end{bmatrix}\"</span> to                                             \n",
       "                             media\\Tex\\c5f5eea880c2b9e5.tex                                  \n",
       "</pre>\n"
      ],
      "text/plain": [
       "\u001b[2;36m[01/31/22 12:16:49]\u001b[0m\u001b[2;36m \u001b[0m\u001b[32mINFO    \u001b[0m \u001b[1;33mWriting\u001b[0m \u001b[32m\"A = \\begin\u001b[0m\u001b[32m{\u001b[0m\u001b[32mbmatrix\u001b[0m\u001b[32m}\u001b[0m\u001b[32m 1 & 2 \\\\ 2 &\u001b[0m \u001b]8;id=321894;file://C:\\Users\\thoma\\AppData\\Local\\Programs\\Python\\Python39\\lib\\site-packages\\manim\\utils\\tex_file_writing.py\u001b\\\u001b[2mtex_file_writing.py\u001b[0m\u001b]8;;\u001b\\\u001b[2m:\u001b[0m\u001b]8;id=145588;file://C:\\Users\\thoma\\AppData\\Local\\Programs\\Python\\Python39\\lib\\site-packages\\manim\\utils\\tex_file_writing.py#85\u001b\\\u001b[2m85\u001b[0m\u001b]8;;\u001b\\\n",
       "                             \u001b[32m1 \\end\u001b[0m\u001b[32m{\u001b[0m\u001b[32mbmatrix\u001b[0m\u001b[32m}\u001b[0m\u001b[32m\"\u001b[0m to                                             \n",
       "                             media\\Tex\\c5f5eea880c2b9e5.tex                                  \n"
      ]
     },
     "metadata": {},
     "output_type": "display_data"
    },
    {
     "data": {
      "text/html": [
       "<pre style=\"white-space:pre;overflow-x:auto;line-height:normal;font-family:Menlo,'DejaVu Sans Mono',consolas,'Courier New',monospace\"><span style=\"color: #7fbfbf; text-decoration-color: #7fbfbf\">[01/31/22 12:16:51] </span><span style=\"color: #008000; text-decoration-color: #008000\">INFO    </span> <span style=\"color: #808000; text-decoration-color: #808000; font-weight: bold\">Writing</span> <span style=\"color: #008000; text-decoration-color: #008000\">\"Det(A)\"</span> to                       <a href=\"file://C:\\Users\\thoma\\AppData\\Local\\Programs\\Python\\Python39\\lib\\site-packages\\manim\\utils\\tex_file_writing.py\"><span style=\"color: #7f7f7f; text-decoration-color: #7f7f7f\">tex_file_writing.py</span></a><span style=\"color: #7f7f7f; text-decoration-color: #7f7f7f\">:</span><a href=\"file://C:\\Users\\thoma\\AppData\\Local\\Programs\\Python\\Python39\\lib\\site-packages\\manim\\utils\\tex_file_writing.py#85\"><span style=\"color: #7f7f7f; text-decoration-color: #7f7f7f\">85</span></a>\n",
       "                             media\\Tex\\49bbd07a4f5e4ee9.tex                                  \n",
       "</pre>\n"
      ],
      "text/plain": [
       "\u001b[2;36m[01/31/22 12:16:51]\u001b[0m\u001b[2;36m \u001b[0m\u001b[32mINFO    \u001b[0m \u001b[1;33mWriting\u001b[0m \u001b[32m\"Det\u001b[0m\u001b[32m(\u001b[0m\u001b[32mA\u001b[0m\u001b[32m)\u001b[0m\u001b[32m\"\u001b[0m to                       \u001b]8;id=254343;file://C:\\Users\\thoma\\AppData\\Local\\Programs\\Python\\Python39\\lib\\site-packages\\manim\\utils\\tex_file_writing.py\u001b\\\u001b[2mtex_file_writing.py\u001b[0m\u001b]8;;\u001b\\\u001b[2m:\u001b[0m\u001b]8;id=364846;file://C:\\Users\\thoma\\AppData\\Local\\Programs\\Python\\Python39\\lib\\site-packages\\manim\\utils\\tex_file_writing.py#85\u001b\\\u001b[2m85\u001b[0m\u001b]8;;\u001b\\\n",
       "                             media\\Tex\\49bbd07a4f5e4ee9.tex                                  \n"
      ]
     },
     "metadata": {},
     "output_type": "display_data"
    },
    {
     "name": "stderr",
     "output_type": "stream",
     "text": [
      "                                                                                                                        \r"
     ]
    },
    {
     "data": {
      "text/html": [
       "<pre style=\"white-space:pre;overflow-x:auto;line-height:normal;font-family:Menlo,'DejaVu Sans Mono',consolas,'Courier New',monospace\"><span style=\"color: #7fbfbf; text-decoration-color: #7fbfbf\">[01/31/22 12:17:04] </span><span style=\"color: #008000; text-decoration-color: #008000\">INFO    </span> Animation <span style=\"color: #008000; text-decoration-color: #008000\">0</span> : Partial movie file        <a href=\"file://C:\\Users\\thoma\\AppData\\Local\\Programs\\Python\\Python39\\lib\\site-packages\\manim\\scene\\scene_file_writer.py\"><span style=\"color: #7f7f7f; text-decoration-color: #7f7f7f\">scene_file_writer.py</span></a><span style=\"color: #7f7f7f; text-decoration-color: #7f7f7f\">:</span><a href=\"file://C:\\Users\\thoma\\AppData\\Local\\Programs\\Python\\Python39\\lib\\site-packages\\manim\\scene\\scene_file_writer.py#514\"><span style=\"color: #7f7f7f; text-decoration-color: #7f7f7f\">514</span></a>\n",
       "                             written in <span style=\"color: #008000; text-decoration-color: #008000\">'c:\\Users\\thoma\\Desktop\\Apre</span>                         \n",
       "                             <span style=\"color: #008000; text-decoration-color: #008000\">ndizado\\Manim\\media\\videos\\Manim\\720p30</span>                         \n",
       "                             <span style=\"color: #008000; text-decoration-color: #008000\">\\partial_movie_files\\Matrix\\1342159004_</span>                         \n",
       "                             <span style=\"color: #008000; text-decoration-color: #008000\">834098492_2523670983.mp4'</span>                                       \n",
       "</pre>\n"
      ],
      "text/plain": [
       "\u001b[2;36m[01/31/22 12:17:04]\u001b[0m\u001b[2;36m \u001b[0m\u001b[32mINFO    \u001b[0m Animation \u001b[32m0\u001b[0m : Partial movie file        \u001b]8;id=217521;file://C:\\Users\\thoma\\AppData\\Local\\Programs\\Python\\Python39\\lib\\site-packages\\manim\\scene\\scene_file_writer.py\u001b\\\u001b[2mscene_file_writer.py\u001b[0m\u001b]8;;\u001b\\\u001b[2m:\u001b[0m\u001b]8;id=283924;file://C:\\Users\\thoma\\AppData\\Local\\Programs\\Python\\Python39\\lib\\site-packages\\manim\\scene\\scene_file_writer.py#514\u001b\\\u001b[2m514\u001b[0m\u001b]8;;\u001b\\\n",
       "                             written in \u001b[32m'c:\\Users\\thoma\\Desktop\\Apre\u001b[0m                         \n",
       "                             \u001b[32mndizado\\Manim\\media\\videos\\Manim\\720p30\u001b[0m                         \n",
       "                             \u001b[32m\\partial_movie_files\\Matrix\\1342159004_\u001b[0m                         \n",
       "                             \u001b[32m834098492_2523670983.mp4'\u001b[0m                                       \n"
      ]
     },
     "metadata": {},
     "output_type": "display_data"
    },
    {
     "data": {
      "text/html": [
       "<pre style=\"white-space:pre;overflow-x:auto;line-height:normal;font-family:Menlo,'DejaVu Sans Mono',consolas,'Courier New',monospace\"><span style=\"color: #7fbfbf; text-decoration-color: #7fbfbf\">[01/31/22 12:17:05] </span><span style=\"color: #008000; text-decoration-color: #008000\">INFO    </span> Animation <span style=\"color: #008000; text-decoration-color: #008000\">1</span> : Partial movie file        <a href=\"file://C:\\Users\\thoma\\AppData\\Local\\Programs\\Python\\Python39\\lib\\site-packages\\manim\\scene\\scene_file_writer.py\"><span style=\"color: #7f7f7f; text-decoration-color: #7f7f7f\">scene_file_writer.py</span></a><span style=\"color: #7f7f7f; text-decoration-color: #7f7f7f\">:</span><a href=\"file://C:\\Users\\thoma\\AppData\\Local\\Programs\\Python\\Python39\\lib\\site-packages\\manim\\scene\\scene_file_writer.py#514\"><span style=\"color: #7f7f7f; text-decoration-color: #7f7f7f\">514</span></a>\n",
       "                             written in <span style=\"color: #008000; text-decoration-color: #008000\">'c:\\Users\\thoma\\Desktop\\Apre</span>                         \n",
       "                             <span style=\"color: #008000; text-decoration-color: #008000\">ndizado\\Manim\\media\\videos\\Manim\\720p30</span>                         \n",
       "                             <span style=\"color: #008000; text-decoration-color: #008000\">\\partial_movie_files\\Matrix\\1353618911_</span>                         \n",
       "                             <span style=\"color: #008000; text-decoration-color: #008000\">398514950_3058044472.mp4'</span>                                       \n",
       "</pre>\n"
      ],
      "text/plain": [
       "\u001b[2;36m[01/31/22 12:17:05]\u001b[0m\u001b[2;36m \u001b[0m\u001b[32mINFO    \u001b[0m Animation \u001b[32m1\u001b[0m : Partial movie file        \u001b]8;id=691900;file://C:\\Users\\thoma\\AppData\\Local\\Programs\\Python\\Python39\\lib\\site-packages\\manim\\scene\\scene_file_writer.py\u001b\\\u001b[2mscene_file_writer.py\u001b[0m\u001b]8;;\u001b\\\u001b[2m:\u001b[0m\u001b]8;id=727227;file://C:\\Users\\thoma\\AppData\\Local\\Programs\\Python\\Python39\\lib\\site-packages\\manim\\scene\\scene_file_writer.py#514\u001b\\\u001b[2m514\u001b[0m\u001b]8;;\u001b\\\n",
       "                             written in \u001b[32m'c:\\Users\\thoma\\Desktop\\Apre\u001b[0m                         \n",
       "                             \u001b[32mndizado\\Manim\\media\\videos\\Manim\\720p30\u001b[0m                         \n",
       "                             \u001b[32m\\partial_movie_files\\Matrix\\1353618911_\u001b[0m                         \n",
       "                             \u001b[32m398514950_3058044472.mp4'\u001b[0m                                       \n"
      ]
     },
     "metadata": {},
     "output_type": "display_data"
    },
    {
     "data": {
      "text/html": [
       "<pre style=\"white-space:pre;overflow-x:auto;line-height:normal;font-family:Menlo,'DejaVu Sans Mono',consolas,'Courier New',monospace\"><span style=\"color: #7fbfbf; text-decoration-color: #7fbfbf\">                    </span><span style=\"color: #008000; text-decoration-color: #008000\">INFO    </span> Combining to Movie file.                <a href=\"file://C:\\Users\\thoma\\AppData\\Local\\Programs\\Python\\Python39\\lib\\site-packages\\manim\\scene\\scene_file_writer.py\"><span style=\"color: #7f7f7f; text-decoration-color: #7f7f7f\">scene_file_writer.py</span></a><span style=\"color: #7f7f7f; text-decoration-color: #7f7f7f\">:</span><a href=\"file://C:\\Users\\thoma\\AppData\\Local\\Programs\\Python\\Python39\\lib\\site-packages\\manim\\scene\\scene_file_writer.py#608\"><span style=\"color: #7f7f7f; text-decoration-color: #7f7f7f\">608</span></a>\n",
       "</pre>\n"
      ],
      "text/plain": [
       "\u001b[2;36m                   \u001b[0m\u001b[2;36m \u001b[0m\u001b[32mINFO    \u001b[0m Combining to Movie file.                \u001b]8;id=917798;file://C:\\Users\\thoma\\AppData\\Local\\Programs\\Python\\Python39\\lib\\site-packages\\manim\\scene\\scene_file_writer.py\u001b\\\u001b[2mscene_file_writer.py\u001b[0m\u001b]8;;\u001b\\\u001b[2m:\u001b[0m\u001b]8;id=677363;file://C:\\Users\\thoma\\AppData\\Local\\Programs\\Python\\Python39\\lib\\site-packages\\manim\\scene\\scene_file_writer.py#608\u001b\\\u001b[2m608\u001b[0m\u001b]8;;\u001b\\\n"
      ]
     },
     "metadata": {},
     "output_type": "display_data"
    },
    {
     "data": {
      "text/html": [
       "<pre style=\"white-space:pre;overflow-x:auto;line-height:normal;font-family:Menlo,'DejaVu Sans Mono',consolas,'Courier New',monospace\"><span style=\"color: #7fbfbf; text-decoration-color: #7fbfbf\">                    </span><span style=\"color: #008000; text-decoration-color: #008000\">INFO    </span>                                         <a href=\"file://C:\\Users\\thoma\\AppData\\Local\\Programs\\Python\\Python39\\lib\\site-packages\\manim\\scene\\scene_file_writer.py\"><span style=\"color: #7f7f7f; text-decoration-color: #7f7f7f\">scene_file_writer.py</span></a><span style=\"color: #7f7f7f; text-decoration-color: #7f7f7f\">:</span><a href=\"file://C:\\Users\\thoma\\AppData\\Local\\Programs\\Python\\Python39\\lib\\site-packages\\manim\\scene\\scene_file_writer.py#729\"><span style=\"color: #7f7f7f; text-decoration-color: #7f7f7f\">729</span></a>\n",
       "                             <span style=\"color: #808000; text-decoration-color: #808000; font-weight: bold\">File</span> ready at <span style=\"color: #008000; text-decoration-color: #008000\">'c:\\Users\\thoma\\Desktop\\A</span>                         \n",
       "                             <span style=\"color: #008000; text-decoration-color: #008000\">prendizado\\Manim\\media\\videos\\Manim\\720</span>                         \n",
       "                             <span style=\"color: #008000; text-decoration-color: #008000\">p30\\Matrix.mp4'</span>                                                 \n",
       "                                                                                             \n",
       "</pre>\n"
      ],
      "text/plain": [
       "\u001b[2;36m                   \u001b[0m\u001b[2;36m \u001b[0m\u001b[32mINFO    \u001b[0m                                         \u001b]8;id=758222;file://C:\\Users\\thoma\\AppData\\Local\\Programs\\Python\\Python39\\lib\\site-packages\\manim\\scene\\scene_file_writer.py\u001b\\\u001b[2mscene_file_writer.py\u001b[0m\u001b]8;;\u001b\\\u001b[2m:\u001b[0m\u001b]8;id=726619;file://C:\\Users\\thoma\\AppData\\Local\\Programs\\Python\\Python39\\lib\\site-packages\\manim\\scene\\scene_file_writer.py#729\u001b\\\u001b[2m729\u001b[0m\u001b]8;;\u001b\\\n",
       "                             \u001b[1;33mFile\u001b[0m ready at \u001b[32m'c:\\Users\\thoma\\Desktop\\A\u001b[0m                         \n",
       "                             \u001b[32mprendizado\\Manim\\media\\videos\\Manim\\720\u001b[0m                         \n",
       "                             \u001b[32mp30\\Matrix.mp4'\u001b[0m                                                 \n",
       "                                                                                             \n"
      ]
     },
     "metadata": {},
     "output_type": "display_data"
    },
    {
     "data": {
      "text/html": [
       "<pre style=\"white-space:pre;overflow-x:auto;line-height:normal;font-family:Menlo,'DejaVu Sans Mono',consolas,'Courier New',monospace\"><span style=\"color: #7fbfbf; text-decoration-color: #7fbfbf\">                    </span><span style=\"color: #008000; text-decoration-color: #008000\">INFO    </span> <span style=\"color: #808000; text-decoration-color: #808000; font-weight: bold\">Rendered</span> Matrix                                     <a href=\"file://C:\\Users\\thoma\\AppData\\Local\\Programs\\Python\\Python39\\lib\\site-packages\\manim\\scene\\scene.py\"><span style=\"color: #7f7f7f; text-decoration-color: #7f7f7f\">scene.py</span></a><span style=\"color: #7f7f7f; text-decoration-color: #7f7f7f\">:</span><a href=\"file://C:\\Users\\thoma\\AppData\\Local\\Programs\\Python\\Python39\\lib\\site-packages\\manim\\scene\\scene.py#237\"><span style=\"color: #7f7f7f; text-decoration-color: #7f7f7f\">237</span></a>\n",
       "                             <span style=\"color: #808000; text-decoration-color: #808000; font-weight: bold\">Played</span> <span style=\"color: #008000; text-decoration-color: #008000\">2</span> <span style=\"color: #808000; text-decoration-color: #808000; font-weight: bold\">animations</span>                                             \n",
       "</pre>\n"
      ],
      "text/plain": [
       "\u001b[2;36m                   \u001b[0m\u001b[2;36m \u001b[0m\u001b[32mINFO    \u001b[0m \u001b[1;33mRendered\u001b[0m Matrix                                     \u001b]8;id=973730;file://C:\\Users\\thoma\\AppData\\Local\\Programs\\Python\\Python39\\lib\\site-packages\\manim\\scene\\scene.py\u001b\\\u001b[2mscene.py\u001b[0m\u001b]8;;\u001b\\\u001b[2m:\u001b[0m\u001b]8;id=548271;file://C:\\Users\\thoma\\AppData\\Local\\Programs\\Python\\Python39\\lib\\site-packages\\manim\\scene\\scene.py#237\u001b\\\u001b[2m237\u001b[0m\u001b]8;;\u001b\\\n",
       "                             \u001b[1;33mPlayed\u001b[0m \u001b[32m2\u001b[0m \u001b[1;33manimations\u001b[0m                                             \n"
      ]
     },
     "metadata": {},
     "output_type": "display_data"
    },
    {
     "data": {
      "text/html": [
       "<video src=\"media\\jupyter\\Matrix@2022-01-31@12-17-05.mp4\" controls autoplay loop style=\"max-width: 60%;\"  >\n",
       "      Your browser does not support the <code>video</code> element.\n",
       "    </video>"
      ],
      "text/plain": [
       "<IPython.core.display.Video object>"
      ]
     },
     "metadata": {},
     "output_type": "display_data"
    }
   ],
   "source": [
    "%%manim -qm Matrix\n",
    "\n",
    "\n",
    "class Matrix(LinearTransformationScene):\n",
    "    \n",
    "    def construct(self):\n",
    "\n",
    "        matrix = [[1, 2], [2, 1]]\n",
    "\n",
    "        matrix_tex = (\n",
    "            MathTex(\"A = \\\\begin{bmatrix} 1 & 2 \\\\\\ 2 & 1 \\\\end{bmatrix}\")\n",
    "            .to_edge(UL)\n",
    "            .add_background_rectangle()\n",
    "        )\n",
    "\n",
    "        unit_square = self.get_unit_square()\n",
    "        text = always_redraw(\n",
    "            lambda: Tex(\"Det(A)\").set(width=0.7).move_to(unit_square.get_center())\n",
    "        )\n",
    "\n",
    "        vect = self.get_vector([1, -2], color=PURPLE_B)\n",
    "\n",
    "        rect1 = Rectangle(\n",
    "            height=2, width=1, stroke_color=BLUE_A, fill_color=BLUE_D, fill_opacity=0.6\n",
    "        ).shift(UP * 2 + LEFT * 2)\n",
    "\n",
    "        circ1 = Circle(\n",
    "            radius=1, stroke_color=BLUE_A, fill_color=BLUE_D, fill_opacity=0.6\n",
    "        ).shift(DOWN * 2 + RIGHT * 1)\n",
    "\n",
    "        self.add_transformable_mobject(vect, unit_square, rect1, circ1)\n",
    "        self.add_background_mobject(matrix_tex, text)\n",
    "        self.apply_matrix(matrix)\n",
    "\n",
    "        self.wait()\n",
    "\n"
   ]
  },
  {
   "cell_type": "code",
   "execution_count": 6,
   "metadata": {},
   "outputs": [
    {
     "name": "stderr",
     "output_type": "stream",
     "text": [
      "                                                                                                  \r"
     ]
    },
    {
     "data": {
      "text/html": [
       "<pre style=\"white-space:pre;overflow-x:auto;line-height:normal;font-family:Menlo,'DejaVu Sans Mono',consolas,'Courier New',monospace\"><span style=\"color: #7fbfbf; text-decoration-color: #7fbfbf\">[01/31/22 12:15:02] </span><span style=\"color: #008000; text-decoration-color: #008000\">INFO    </span> Animation <span style=\"color: #008000; text-decoration-color: #008000\">0</span> : Partial movie file        <a href=\"file://C:\\Users\\thoma\\AppData\\Local\\Programs\\Python\\Python39\\lib\\site-packages\\manim\\scene\\scene_file_writer.py\"><span style=\"color: #7f7f7f; text-decoration-color: #7f7f7f\">scene_file_writer.py</span></a><span style=\"color: #7f7f7f; text-decoration-color: #7f7f7f\">:</span><a href=\"file://C:\\Users\\thoma\\AppData\\Local\\Programs\\Python\\Python39\\lib\\site-packages\\manim\\scene\\scene_file_writer.py#514\"><span style=\"color: #7f7f7f; text-decoration-color: #7f7f7f\">514</span></a>\n",
       "                             written in <span style=\"color: #008000; text-decoration-color: #008000\">'c:\\Users\\thoma\\Desktop\\Apre</span>                         \n",
       "                             <span style=\"color: #008000; text-decoration-color: #008000\">ndizado\\Manim\\media\\videos\\Manim\\720p30</span>                         \n",
       "                             <span style=\"color: #008000; text-decoration-color: #008000\">\\partial_movie_files\\Vectors\\1342159004</span>                         \n",
       "                             <span style=\"color: #008000; text-decoration-color: #008000\">_935227045_1577535401.mp4'</span>                                      \n",
       "</pre>\n"
      ],
      "text/plain": [
       "\u001b[2;36m[01/31/22 12:15:02]\u001b[0m\u001b[2;36m \u001b[0m\u001b[32mINFO    \u001b[0m Animation \u001b[32m0\u001b[0m : Partial movie file        \u001b]8;id=583549;file://C:\\Users\\thoma\\AppData\\Local\\Programs\\Python\\Python39\\lib\\site-packages\\manim\\scene\\scene_file_writer.py\u001b\\\u001b[2mscene_file_writer.py\u001b[0m\u001b]8;;\u001b\\\u001b[2m:\u001b[0m\u001b]8;id=830063;file://C:\\Users\\thoma\\AppData\\Local\\Programs\\Python\\Python39\\lib\\site-packages\\manim\\scene\\scene_file_writer.py#514\u001b\\\u001b[2m514\u001b[0m\u001b]8;;\u001b\\\n",
       "                             written in \u001b[32m'c:\\Users\\thoma\\Desktop\\Apre\u001b[0m                         \n",
       "                             \u001b[32mndizado\\Manim\\media\\videos\\Manim\\720p30\u001b[0m                         \n",
       "                             \u001b[32m\\partial_movie_files\\Vectors\\1342159004\u001b[0m                         \n",
       "                             \u001b[32m_935227045_1577535401.mp4'\u001b[0m                                      \n"
      ]
     },
     "metadata": {},
     "output_type": "display_data"
    },
    {
     "data": {
      "text/html": [
       "<pre style=\"white-space:pre;overflow-x:auto;line-height:normal;font-family:Menlo,'DejaVu Sans Mono',consolas,'Courier New',monospace\"><span style=\"color: #7fbfbf; text-decoration-color: #7fbfbf\">                    </span><span style=\"color: #008000; text-decoration-color: #008000\">INFO    </span> Animation <span style=\"color: #008000; text-decoration-color: #008000\">1</span> : Partial movie file        <a href=\"file://C:\\Users\\thoma\\AppData\\Local\\Programs\\Python\\Python39\\lib\\site-packages\\manim\\scene\\scene_file_writer.py\"><span style=\"color: #7f7f7f; text-decoration-color: #7f7f7f\">scene_file_writer.py</span></a><span style=\"color: #7f7f7f; text-decoration-color: #7f7f7f\">:</span><a href=\"file://C:\\Users\\thoma\\AppData\\Local\\Programs\\Python\\Python39\\lib\\site-packages\\manim\\scene\\scene_file_writer.py#514\"><span style=\"color: #7f7f7f; text-decoration-color: #7f7f7f\">514</span></a>\n",
       "                             written in <span style=\"color: #008000; text-decoration-color: #008000\">'c:\\Users\\thoma\\Desktop\\Apre</span>                         \n",
       "                             <span style=\"color: #008000; text-decoration-color: #008000\">ndizado\\Manim\\media\\videos\\Manim\\720p30</span>                         \n",
       "                             <span style=\"color: #008000; text-decoration-color: #008000\">\\partial_movie_files\\Vectors\\1353618911</span>                         \n",
       "                             <span style=\"color: #008000; text-decoration-color: #008000\">_398514950_1168149659.mp4'</span>                                      \n",
       "</pre>\n"
      ],
      "text/plain": [
       "\u001b[2;36m                   \u001b[0m\u001b[2;36m \u001b[0m\u001b[32mINFO    \u001b[0m Animation \u001b[32m1\u001b[0m : Partial movie file        \u001b]8;id=874140;file://C:\\Users\\thoma\\AppData\\Local\\Programs\\Python\\Python39\\lib\\site-packages\\manim\\scene\\scene_file_writer.py\u001b\\\u001b[2mscene_file_writer.py\u001b[0m\u001b]8;;\u001b\\\u001b[2m:\u001b[0m\u001b]8;id=895286;file://C:\\Users\\thoma\\AppData\\Local\\Programs\\Python\\Python39\\lib\\site-packages\\manim\\scene\\scene_file_writer.py#514\u001b\\\u001b[2m514\u001b[0m\u001b]8;;\u001b\\\n",
       "                             written in \u001b[32m'c:\\Users\\thoma\\Desktop\\Apre\u001b[0m                         \n",
       "                             \u001b[32mndizado\\Manim\\media\\videos\\Manim\\720p30\u001b[0m                         \n",
       "                             \u001b[32m\\partial_movie_files\\Vectors\\1353618911\u001b[0m                         \n",
       "                             \u001b[32m_398514950_1168149659.mp4'\u001b[0m                                      \n"
      ]
     },
     "metadata": {},
     "output_type": "display_data"
    },
    {
     "name": "stderr",
     "output_type": "stream",
     "text": [
      "                                                                               \r"
     ]
    },
    {
     "data": {
      "text/html": [
       "<pre style=\"white-space:pre;overflow-x:auto;line-height:normal;font-family:Menlo,'DejaVu Sans Mono',consolas,'Courier New',monospace\"><span style=\"color: #7fbfbf; text-decoration-color: #7fbfbf\">[01/31/22 12:15:03] </span><span style=\"color: #008000; text-decoration-color: #008000\">INFO    </span> Animation <span style=\"color: #008000; text-decoration-color: #008000\">2</span> : Partial movie file        <a href=\"file://C:\\Users\\thoma\\AppData\\Local\\Programs\\Python\\Python39\\lib\\site-packages\\manim\\scene\\scene_file_writer.py\"><span style=\"color: #7f7f7f; text-decoration-color: #7f7f7f\">scene_file_writer.py</span></a><span style=\"color: #7f7f7f; text-decoration-color: #7f7f7f\">:</span><a href=\"file://C:\\Users\\thoma\\AppData\\Local\\Programs\\Python\\Python39\\lib\\site-packages\\manim\\scene\\scene_file_writer.py#514\"><span style=\"color: #7f7f7f; text-decoration-color: #7f7f7f\">514</span></a>\n",
       "                             written in <span style=\"color: #008000; text-decoration-color: #008000\">'c:\\Users\\thoma\\Desktop\\Apre</span>                         \n",
       "                             <span style=\"color: #008000; text-decoration-color: #008000\">ndizado\\Manim\\media\\videos\\Manim\\720p30</span>                         \n",
       "                             <span style=\"color: #008000; text-decoration-color: #008000\">\\partial_movie_files\\Vectors\\1353618911</span>                         \n",
       "                             <span style=\"color: #008000; text-decoration-color: #008000\">_3706535748_4005202893.mp4'</span>                                     \n",
       "</pre>\n"
      ],
      "text/plain": [
       "\u001b[2;36m[01/31/22 12:15:03]\u001b[0m\u001b[2;36m \u001b[0m\u001b[32mINFO    \u001b[0m Animation \u001b[32m2\u001b[0m : Partial movie file        \u001b]8;id=479647;file://C:\\Users\\thoma\\AppData\\Local\\Programs\\Python\\Python39\\lib\\site-packages\\manim\\scene\\scene_file_writer.py\u001b\\\u001b[2mscene_file_writer.py\u001b[0m\u001b]8;;\u001b\\\u001b[2m:\u001b[0m\u001b]8;id=593788;file://C:\\Users\\thoma\\AppData\\Local\\Programs\\Python\\Python39\\lib\\site-packages\\manim\\scene\\scene_file_writer.py#514\u001b\\\u001b[2m514\u001b[0m\u001b]8;;\u001b\\\n",
       "                             written in \u001b[32m'c:\\Users\\thoma\\Desktop\\Apre\u001b[0m                         \n",
       "                             \u001b[32mndizado\\Manim\\media\\videos\\Manim\\720p30\u001b[0m                         \n",
       "                             \u001b[32m\\partial_movie_files\\Vectors\\1353618911\u001b[0m                         \n",
       "                             \u001b[32m_3706535748_4005202893.mp4'\u001b[0m                                     \n"
      ]
     },
     "metadata": {},
     "output_type": "display_data"
    },
    {
     "data": {
      "text/html": [
       "<pre style=\"white-space:pre;overflow-x:auto;line-height:normal;font-family:Menlo,'DejaVu Sans Mono',consolas,'Courier New',monospace\"><span style=\"color: #7fbfbf; text-decoration-color: #7fbfbf\">                    </span><span style=\"color: #008000; text-decoration-color: #008000\">INFO    </span> <span style=\"color: #808000; text-decoration-color: #808000; font-weight: bold\">Writing</span> <span style=\"color: #008000; text-decoration-color: #008000\">\"-3\"</span> to                           <a href=\"file://C:\\Users\\thoma\\AppData\\Local\\Programs\\Python\\Python39\\lib\\site-packages\\manim\\utils\\tex_file_writing.py\"><span style=\"color: #7f7f7f; text-decoration-color: #7f7f7f\">tex_file_writing.py</span></a><span style=\"color: #7f7f7f; text-decoration-color: #7f7f7f\">:</span><a href=\"file://C:\\Users\\thoma\\AppData\\Local\\Programs\\Python\\Python39\\lib\\site-packages\\manim\\utils\\tex_file_writing.py#85\"><span style=\"color: #7f7f7f; text-decoration-color: #7f7f7f\">85</span></a>\n",
       "                             media\\Tex\\b3caee5d0f4231ac.tex                                  \n",
       "</pre>\n"
      ],
      "text/plain": [
       "\u001b[2;36m                   \u001b[0m\u001b[2;36m \u001b[0m\u001b[32mINFO    \u001b[0m \u001b[1;33mWriting\u001b[0m \u001b[32m\"-3\"\u001b[0m to                           \u001b]8;id=944194;file://C:\\Users\\thoma\\AppData\\Local\\Programs\\Python\\Python39\\lib\\site-packages\\manim\\utils\\tex_file_writing.py\u001b\\\u001b[2mtex_file_writing.py\u001b[0m\u001b]8;;\u001b\\\u001b[2m:\u001b[0m\u001b]8;id=432242;file://C:\\Users\\thoma\\AppData\\Local\\Programs\\Python\\Python39\\lib\\site-packages\\manim\\utils\\tex_file_writing.py#85\u001b\\\u001b[2m85\u001b[0m\u001b]8;;\u001b\\\n",
       "                             media\\Tex\\b3caee5d0f4231ac.tex                                  \n"
      ]
     },
     "metadata": {},
     "output_type": "display_data"
    },
    {
     "data": {
      "text/html": [
       "<pre style=\"white-space:pre;overflow-x:auto;line-height:normal;font-family:Menlo,'DejaVu Sans Mono',consolas,'Courier New',monospace\"><span style=\"color: #7fbfbf; text-decoration-color: #7fbfbf\">[01/31/22 12:15:06] </span><span style=\"color: #008000; text-decoration-color: #008000\">INFO    </span> <span style=\"color: #808000; text-decoration-color: #808000; font-weight: bold\">Writing</span> <span style=\"color: #008000; text-decoration-color: #008000\">\"-2\"</span> to                           <a href=\"file://C:\\Users\\thoma\\AppData\\Local\\Programs\\Python\\Python39\\lib\\site-packages\\manim\\utils\\tex_file_writing.py\"><span style=\"color: #7f7f7f; text-decoration-color: #7f7f7f\">tex_file_writing.py</span></a><span style=\"color: #7f7f7f; text-decoration-color: #7f7f7f\">:</span><a href=\"file://C:\\Users\\thoma\\AppData\\Local\\Programs\\Python\\Python39\\lib\\site-packages\\manim\\utils\\tex_file_writing.py#85\"><span style=\"color: #7f7f7f; text-decoration-color: #7f7f7f\">85</span></a>\n",
       "                             media\\Tex\\1a8bc31fcb715f76.tex                                  \n",
       "</pre>\n"
      ],
      "text/plain": [
       "\u001b[2;36m[01/31/22 12:15:06]\u001b[0m\u001b[2;36m \u001b[0m\u001b[32mINFO    \u001b[0m \u001b[1;33mWriting\u001b[0m \u001b[32m\"-2\"\u001b[0m to                           \u001b]8;id=246922;file://C:\\Users\\thoma\\AppData\\Local\\Programs\\Python\\Python39\\lib\\site-packages\\manim\\utils\\tex_file_writing.py\u001b\\\u001b[2mtex_file_writing.py\u001b[0m\u001b]8;;\u001b\\\u001b[2m:\u001b[0m\u001b]8;id=237612;file://C:\\Users\\thoma\\AppData\\Local\\Programs\\Python\\Python39\\lib\\site-packages\\manim\\utils\\tex_file_writing.py#85\u001b\\\u001b[2m85\u001b[0m\u001b]8;;\u001b\\\n",
       "                             media\\Tex\\1a8bc31fcb715f76.tex                                  \n"
      ]
     },
     "metadata": {},
     "output_type": "display_data"
    },
    {
     "data": {
      "text/html": [
       "<pre style=\"white-space:pre;overflow-x:auto;line-height:normal;font-family:Menlo,'DejaVu Sans Mono',consolas,'Courier New',monospace\"><span style=\"color: #7fbfbf; text-decoration-color: #7fbfbf\">[01/31/22 12:15:08] </span><span style=\"color: #008000; text-decoration-color: #008000\">INFO    </span> <span style=\"color: #808000; text-decoration-color: #808000; font-weight: bold\">Writing</span> <span style=\"color: #008000; text-decoration-color: #008000\">\"[ ]\"</span> to                          <a href=\"file://C:\\Users\\thoma\\AppData\\Local\\Programs\\Python\\Python39\\lib\\site-packages\\manim\\utils\\tex_file_writing.py\"><span style=\"color: #7f7f7f; text-decoration-color: #7f7f7f\">tex_file_writing.py</span></a><span style=\"color: #7f7f7f; text-decoration-color: #7f7f7f\">:</span><a href=\"file://C:\\Users\\thoma\\AppData\\Local\\Programs\\Python\\Python39\\lib\\site-packages\\manim\\utils\\tex_file_writing.py#85\"><span style=\"color: #7f7f7f; text-decoration-color: #7f7f7f\">85</span></a>\n",
       "                             media\\Tex\\9070a8eca31b244d.tex                                  \n",
       "</pre>\n"
      ],
      "text/plain": [
       "\u001b[2;36m[01/31/22 12:15:08]\u001b[0m\u001b[2;36m \u001b[0m\u001b[32mINFO    \u001b[0m \u001b[1;33mWriting\u001b[0m \u001b[32m\"\u001b[0m\u001b[32m[\u001b[0m\u001b[32m \u001b[0m\u001b[32m]\u001b[0m\u001b[32m\"\u001b[0m to                          \u001b]8;id=638934;file://C:\\Users\\thoma\\AppData\\Local\\Programs\\Python\\Python39\\lib\\site-packages\\manim\\utils\\tex_file_writing.py\u001b\\\u001b[2mtex_file_writing.py\u001b[0m\u001b]8;;\u001b\\\u001b[2m:\u001b[0m\u001b]8;id=573393;file://C:\\Users\\thoma\\AppData\\Local\\Programs\\Python\\Python39\\lib\\site-packages\\manim\\utils\\tex_file_writing.py#85\u001b\\\u001b[2m85\u001b[0m\u001b]8;;\u001b\\\n",
       "                             media\\Tex\\9070a8eca31b244d.tex                                  \n"
      ]
     },
     "metadata": {},
     "output_type": "display_data"
    },
    {
     "data": {
      "text/html": [
       "<pre style=\"white-space:pre;overflow-x:auto;line-height:normal;font-family:Menlo,'DejaVu Sans Mono',consolas,'Courier New',monospace\"><span style=\"color: #7fbfbf; text-decoration-color: #7fbfbf\">[01/31/22 12:15:09] </span><span style=\"color: #008000; text-decoration-color: #008000\">INFO    </span> <span style=\"color: #808000; text-decoration-color: #808000; font-weight: bold\">Writing</span> <span style=\"color: #008000; text-decoration-color: #008000\">\"[\"</span> to                            <a href=\"file://C:\\Users\\thoma\\AppData\\Local\\Programs\\Python\\Python39\\lib\\site-packages\\manim\\utils\\tex_file_writing.py\"><span style=\"color: #7f7f7f; text-decoration-color: #7f7f7f\">tex_file_writing.py</span></a><span style=\"color: #7f7f7f; text-decoration-color: #7f7f7f\">:</span><a href=\"file://C:\\Users\\thoma\\AppData\\Local\\Programs\\Python\\Python39\\lib\\site-packages\\manim\\utils\\tex_file_writing.py#85\"><span style=\"color: #7f7f7f; text-decoration-color: #7f7f7f\">85</span></a>\n",
       "                             media\\Tex\\f1e3d12823d58b6e.tex                                  \n",
       "</pre>\n"
      ],
      "text/plain": [
       "\u001b[2;36m[01/31/22 12:15:09]\u001b[0m\u001b[2;36m \u001b[0m\u001b[32mINFO    \u001b[0m \u001b[1;33mWriting\u001b[0m \u001b[32m\"\u001b[0m\u001b[32m[\u001b[0m\u001b[32m\"\u001b[0m to                            \u001b]8;id=648300;file://C:\\Users\\thoma\\AppData\\Local\\Programs\\Python\\Python39\\lib\\site-packages\\manim\\utils\\tex_file_writing.py\u001b\\\u001b[2mtex_file_writing.py\u001b[0m\u001b]8;;\u001b\\\u001b[2m:\u001b[0m\u001b]8;id=138298;file://C:\\Users\\thoma\\AppData\\Local\\Programs\\Python\\Python39\\lib\\site-packages\\manim\\utils\\tex_file_writing.py#85\u001b\\\u001b[2m85\u001b[0m\u001b]8;;\u001b\\\n",
       "                             media\\Tex\\f1e3d12823d58b6e.tex                                  \n"
      ]
     },
     "metadata": {},
     "output_type": "display_data"
    },
    {
     "data": {
      "text/html": [
       "<pre style=\"white-space:pre;overflow-x:auto;line-height:normal;font-family:Menlo,'DejaVu Sans Mono',consolas,'Courier New',monospace\"><span style=\"color: #7fbfbf; text-decoration-color: #7fbfbf\">[01/31/22 12:15:11] </span><span style=\"color: #008000; text-decoration-color: #008000\">INFO    </span> <span style=\"color: #808000; text-decoration-color: #808000; font-weight: bold\">Writing</span> <span style=\"color: #008000; text-decoration-color: #008000\">\"]\"</span> to                            <a href=\"file://C:\\Users\\thoma\\AppData\\Local\\Programs\\Python\\Python39\\lib\\site-packages\\manim\\utils\\tex_file_writing.py\"><span style=\"color: #7f7f7f; text-decoration-color: #7f7f7f\">tex_file_writing.py</span></a><span style=\"color: #7f7f7f; text-decoration-color: #7f7f7f\">:</span><a href=\"file://C:\\Users\\thoma\\AppData\\Local\\Programs\\Python\\Python39\\lib\\site-packages\\manim\\utils\\tex_file_writing.py#85\"><span style=\"color: #7f7f7f; text-decoration-color: #7f7f7f\">85</span></a>\n",
       "                             media\\Tex\\1a7db82a59b2ec69.tex                                  \n",
       "</pre>\n"
      ],
      "text/plain": [
       "\u001b[2;36m[01/31/22 12:15:11]\u001b[0m\u001b[2;36m \u001b[0m\u001b[32mINFO    \u001b[0m \u001b[1;33mWriting\u001b[0m \u001b[32m\"\u001b[0m\u001b[32m]\u001b[0m\u001b[32m\"\u001b[0m to                            \u001b]8;id=415241;file://C:\\Users\\thoma\\AppData\\Local\\Programs\\Python\\Python39\\lib\\site-packages\\manim\\utils\\tex_file_writing.py\u001b\\\u001b[2mtex_file_writing.py\u001b[0m\u001b]8;;\u001b\\\u001b[2m:\u001b[0m\u001b]8;id=533804;file://C:\\Users\\thoma\\AppData\\Local\\Programs\\Python\\Python39\\lib\\site-packages\\manim\\utils\\tex_file_writing.py#85\u001b\\\u001b[2m85\u001b[0m\u001b]8;;\u001b\\\n",
       "                             media\\Tex\\1a7db82a59b2ec69.tex                                  \n"
      ]
     },
     "metadata": {},
     "output_type": "display_data"
    },
    {
     "name": "stderr",
     "output_type": "stream",
     "text": [
      "                                                                                 \r"
     ]
    },
    {
     "data": {
      "text/html": [
       "<pre style=\"white-space:pre;overflow-x:auto;line-height:normal;font-family:Menlo,'DejaVu Sans Mono',consolas,'Courier New',monospace\"><span style=\"color: #7fbfbf; text-decoration-color: #7fbfbf\">[01/31/22 12:15:13] </span><span style=\"color: #008000; text-decoration-color: #008000\">INFO    </span> Animation <span style=\"color: #008000; text-decoration-color: #008000\">3</span> : Partial movie file        <a href=\"file://C:\\Users\\thoma\\AppData\\Local\\Programs\\Python\\Python39\\lib\\site-packages\\manim\\scene\\scene_file_writer.py\"><span style=\"color: #7f7f7f; text-decoration-color: #7f7f7f\">scene_file_writer.py</span></a><span style=\"color: #7f7f7f; text-decoration-color: #7f7f7f\">:</span><a href=\"file://C:\\Users\\thoma\\AppData\\Local\\Programs\\Python\\Python39\\lib\\site-packages\\manim\\scene\\scene_file_writer.py#514\"><span style=\"color: #7f7f7f; text-decoration-color: #7f7f7f\">514</span></a>\n",
       "                             written in <span style=\"color: #008000; text-decoration-color: #008000\">'c:\\Users\\thoma\\Desktop\\Apre</span>                         \n",
       "                             <span style=\"color: #008000; text-decoration-color: #008000\">ndizado\\Manim\\media\\videos\\Manim\\720p30</span>                         \n",
       "                             <span style=\"color: #008000; text-decoration-color: #008000\">\\partial_movie_files\\Vectors\\1353618911</span>                         \n",
       "                             <span style=\"color: #008000; text-decoration-color: #008000\">_3495393869_1680078786.mp4'</span>                                     \n",
       "</pre>\n"
      ],
      "text/plain": [
       "\u001b[2;36m[01/31/22 12:15:13]\u001b[0m\u001b[2;36m \u001b[0m\u001b[32mINFO    \u001b[0m Animation \u001b[32m3\u001b[0m : Partial movie file        \u001b]8;id=883401;file://C:\\Users\\thoma\\AppData\\Local\\Programs\\Python\\Python39\\lib\\site-packages\\manim\\scene\\scene_file_writer.py\u001b\\\u001b[2mscene_file_writer.py\u001b[0m\u001b]8;;\u001b\\\u001b[2m:\u001b[0m\u001b]8;id=442242;file://C:\\Users\\thoma\\AppData\\Local\\Programs\\Python\\Python39\\lib\\site-packages\\manim\\scene\\scene_file_writer.py#514\u001b\\\u001b[2m514\u001b[0m\u001b]8;;\u001b\\\n",
       "                             written in \u001b[32m'c:\\Users\\thoma\\Desktop\\Apre\u001b[0m                         \n",
       "                             \u001b[32mndizado\\Manim\\media\\videos\\Manim\\720p30\u001b[0m                         \n",
       "                             \u001b[32m\\partial_movie_files\\Vectors\\1353618911\u001b[0m                         \n",
       "                             \u001b[32m_3495393869_1680078786.mp4'\u001b[0m                                     \n"
      ]
     },
     "metadata": {},
     "output_type": "display_data"
    },
    {
     "name": "stderr",
     "output_type": "stream",
     "text": [
      "                                                                                \r"
     ]
    },
    {
     "data": {
      "text/html": [
       "<pre style=\"white-space:pre;overflow-x:auto;line-height:normal;font-family:Menlo,'DejaVu Sans Mono',consolas,'Courier New',monospace\"><span style=\"color: #7fbfbf; text-decoration-color: #7fbfbf\">[01/31/22 12:15:14] </span><span style=\"color: #008000; text-decoration-color: #008000\">INFO    </span> Animation <span style=\"color: #008000; text-decoration-color: #008000\">4</span> : Partial movie file        <a href=\"file://C:\\Users\\thoma\\AppData\\Local\\Programs\\Python\\Python39\\lib\\site-packages\\manim\\scene\\scene_file_writer.py\"><span style=\"color: #7f7f7f; text-decoration-color: #7f7f7f\">scene_file_writer.py</span></a><span style=\"color: #7f7f7f; text-decoration-color: #7f7f7f\">:</span><a href=\"file://C:\\Users\\thoma\\AppData\\Local\\Programs\\Python\\Python39\\lib\\site-packages\\manim\\scene\\scene_file_writer.py#514\"><span style=\"color: #7f7f7f; text-decoration-color: #7f7f7f\">514</span></a>\n",
       "                             written in <span style=\"color: #008000; text-decoration-color: #008000\">'c:\\Users\\thoma\\Desktop\\Apre</span>                         \n",
       "                             <span style=\"color: #008000; text-decoration-color: #008000\">ndizado\\Manim\\media\\videos\\Manim\\720p30</span>                         \n",
       "                             <span style=\"color: #008000; text-decoration-color: #008000\">\\partial_movie_files\\Vectors\\1353618911</span>                         \n",
       "                             <span style=\"color: #008000; text-decoration-color: #008000\">_2151682588_2561023885.mp4'</span>                                     \n",
       "</pre>\n"
      ],
      "text/plain": [
       "\u001b[2;36m[01/31/22 12:15:14]\u001b[0m\u001b[2;36m \u001b[0m\u001b[32mINFO    \u001b[0m Animation \u001b[32m4\u001b[0m : Partial movie file        \u001b]8;id=462963;file://C:\\Users\\thoma\\AppData\\Local\\Programs\\Python\\Python39\\lib\\site-packages\\manim\\scene\\scene_file_writer.py\u001b\\\u001b[2mscene_file_writer.py\u001b[0m\u001b]8;;\u001b\\\u001b[2m:\u001b[0m\u001b]8;id=17458;file://C:\\Users\\thoma\\AppData\\Local\\Programs\\Python\\Python39\\lib\\site-packages\\manim\\scene\\scene_file_writer.py#514\u001b\\\u001b[2m514\u001b[0m\u001b]8;;\u001b\\\n",
       "                             written in \u001b[32m'c:\\Users\\thoma\\Desktop\\Apre\u001b[0m                         \n",
       "                             \u001b[32mndizado\\Manim\\media\\videos\\Manim\\720p30\u001b[0m                         \n",
       "                             \u001b[32m\\partial_movie_files\\Vectors\\1353618911\u001b[0m                         \n",
       "                             \u001b[32m_2151682588_2561023885.mp4'\u001b[0m                                     \n"
      ]
     },
     "metadata": {},
     "output_type": "display_data"
    },
    {
     "data": {
      "text/html": [
       "<pre style=\"white-space:pre;overflow-x:auto;line-height:normal;font-family:Menlo,'DejaVu Sans Mono',consolas,'Courier New',monospace\"><span style=\"color: #7fbfbf; text-decoration-color: #7fbfbf\">[01/31/22 12:15:15] </span><span style=\"color: #008000; text-decoration-color: #008000\">INFO    </span> Animation <span style=\"color: #008000; text-decoration-color: #008000\">5</span> : Partial movie file        <a href=\"file://C:\\Users\\thoma\\AppData\\Local\\Programs\\Python\\Python39\\lib\\site-packages\\manim\\scene\\scene_file_writer.py\"><span style=\"color: #7f7f7f; text-decoration-color: #7f7f7f\">scene_file_writer.py</span></a><span style=\"color: #7f7f7f; text-decoration-color: #7f7f7f\">:</span><a href=\"file://C:\\Users\\thoma\\AppData\\Local\\Programs\\Python\\Python39\\lib\\site-packages\\manim\\scene\\scene_file_writer.py#514\"><span style=\"color: #7f7f7f; text-decoration-color: #7f7f7f\">514</span></a>\n",
       "                             written in <span style=\"color: #008000; text-decoration-color: #008000\">'c:\\Users\\thoma\\Desktop\\Apre</span>                         \n",
       "                             <span style=\"color: #008000; text-decoration-color: #008000\">ndizado\\Manim\\media\\videos\\Manim\\720p30</span>                         \n",
       "                             <span style=\"color: #008000; text-decoration-color: #008000\">\\partial_movie_files\\Vectors\\1353618911</span>                         \n",
       "                             <span style=\"color: #008000; text-decoration-color: #008000\">_3493041802_2422873336.mp4'</span>                                     \n",
       "</pre>\n"
      ],
      "text/plain": [
       "\u001b[2;36m[01/31/22 12:15:15]\u001b[0m\u001b[2;36m \u001b[0m\u001b[32mINFO    \u001b[0m Animation \u001b[32m5\u001b[0m : Partial movie file        \u001b]8;id=635349;file://C:\\Users\\thoma\\AppData\\Local\\Programs\\Python\\Python39\\lib\\site-packages\\manim\\scene\\scene_file_writer.py\u001b\\\u001b[2mscene_file_writer.py\u001b[0m\u001b]8;;\u001b\\\u001b[2m:\u001b[0m\u001b]8;id=138420;file://C:\\Users\\thoma\\AppData\\Local\\Programs\\Python\\Python39\\lib\\site-packages\\manim\\scene\\scene_file_writer.py#514\u001b\\\u001b[2m514\u001b[0m\u001b]8;;\u001b\\\n",
       "                             written in \u001b[32m'c:\\Users\\thoma\\Desktop\\Apre\u001b[0m                         \n",
       "                             \u001b[32mndizado\\Manim\\media\\videos\\Manim\\720p30\u001b[0m                         \n",
       "                             \u001b[32m\\partial_movie_files\\Vectors\\1353618911\u001b[0m                         \n",
       "                             \u001b[32m_3493041802_2422873336.mp4'\u001b[0m                                     \n"
      ]
     },
     "metadata": {},
     "output_type": "display_data"
    },
    {
     "name": "stderr",
     "output_type": "stream",
     "text": [
      "                                                                                             \r"
     ]
    },
    {
     "data": {
      "text/html": [
       "<pre style=\"white-space:pre;overflow-x:auto;line-height:normal;font-family:Menlo,'DejaVu Sans Mono',consolas,'Courier New',monospace\"><span style=\"color: #7fbfbf; text-decoration-color: #7fbfbf\">                    </span><span style=\"color: #008000; text-decoration-color: #008000\">INFO    </span> Animation <span style=\"color: #008000; text-decoration-color: #008000\">6</span> : Partial movie file        <a href=\"file://C:\\Users\\thoma\\AppData\\Local\\Programs\\Python\\Python39\\lib\\site-packages\\manim\\scene\\scene_file_writer.py\"><span style=\"color: #7f7f7f; text-decoration-color: #7f7f7f\">scene_file_writer.py</span></a><span style=\"color: #7f7f7f; text-decoration-color: #7f7f7f\">:</span><a href=\"file://C:\\Users\\thoma\\AppData\\Local\\Programs\\Python\\Python39\\lib\\site-packages\\manim\\scene\\scene_file_writer.py#514\"><span style=\"color: #7f7f7f; text-decoration-color: #7f7f7f\">514</span></a>\n",
       "                             written in <span style=\"color: #008000; text-decoration-color: #008000\">'c:\\Users\\thoma\\Desktop\\Apre</span>                         \n",
       "                             <span style=\"color: #008000; text-decoration-color: #008000\">ndizado\\Manim\\media\\videos\\Manim\\720p30</span>                         \n",
       "                             <span style=\"color: #008000; text-decoration-color: #008000\">\\partial_movie_files\\Vectors\\1353618911</span>                         \n",
       "                             <span style=\"color: #008000; text-decoration-color: #008000\">_303655014_3401757931.mp4'</span>                                      \n",
       "</pre>\n"
      ],
      "text/plain": [
       "\u001b[2;36m                   \u001b[0m\u001b[2;36m \u001b[0m\u001b[32mINFO    \u001b[0m Animation \u001b[32m6\u001b[0m : Partial movie file        \u001b]8;id=733330;file://C:\\Users\\thoma\\AppData\\Local\\Programs\\Python\\Python39\\lib\\site-packages\\manim\\scene\\scene_file_writer.py\u001b\\\u001b[2mscene_file_writer.py\u001b[0m\u001b]8;;\u001b\\\u001b[2m:\u001b[0m\u001b]8;id=88547;file://C:\\Users\\thoma\\AppData\\Local\\Programs\\Python\\Python39\\lib\\site-packages\\manim\\scene\\scene_file_writer.py#514\u001b\\\u001b[2m514\u001b[0m\u001b]8;;\u001b\\\n",
       "                             written in \u001b[32m'c:\\Users\\thoma\\Desktop\\Apre\u001b[0m                         \n",
       "                             \u001b[32mndizado\\Manim\\media\\videos\\Manim\\720p30\u001b[0m                         \n",
       "                             \u001b[32m\\partial_movie_files\\Vectors\\1353618911\u001b[0m                         \n",
       "                             \u001b[32m_303655014_3401757931.mp4'\u001b[0m                                      \n"
      ]
     },
     "metadata": {},
     "output_type": "display_data"
    },
    {
     "data": {
      "text/html": [
       "<pre style=\"white-space:pre;overflow-x:auto;line-height:normal;font-family:Menlo,'DejaVu Sans Mono',consolas,'Courier New',monospace\"><span style=\"color: #7fbfbf; text-decoration-color: #7fbfbf\">[01/31/22 12:15:16] </span><span style=\"color: #008000; text-decoration-color: #008000\">INFO    </span> Animation <span style=\"color: #008000; text-decoration-color: #008000\">7</span> : Partial movie file        <a href=\"file://C:\\Users\\thoma\\AppData\\Local\\Programs\\Python\\Python39\\lib\\site-packages\\manim\\scene\\scene_file_writer.py\"><span style=\"color: #7f7f7f; text-decoration-color: #7f7f7f\">scene_file_writer.py</span></a><span style=\"color: #7f7f7f; text-decoration-color: #7f7f7f\">:</span><a href=\"file://C:\\Users\\thoma\\AppData\\Local\\Programs\\Python\\Python39\\lib\\site-packages\\manim\\scene\\scene_file_writer.py#514\"><span style=\"color: #7f7f7f; text-decoration-color: #7f7f7f\">514</span></a>\n",
       "                             written in <span style=\"color: #008000; text-decoration-color: #008000\">'c:\\Users\\thoma\\Desktop\\Apre</span>                         \n",
       "                             <span style=\"color: #008000; text-decoration-color: #008000\">ndizado\\Manim\\media\\videos\\Manim\\720p30</span>                         \n",
       "                             <span style=\"color: #008000; text-decoration-color: #008000\">\\partial_movie_files\\Vectors\\1353618911</span>                         \n",
       "                             <span style=\"color: #008000; text-decoration-color: #008000\">_3493041802_1464654647.mp4'</span>                                     \n",
       "</pre>\n"
      ],
      "text/plain": [
       "\u001b[2;36m[01/31/22 12:15:16]\u001b[0m\u001b[2;36m \u001b[0m\u001b[32mINFO    \u001b[0m Animation \u001b[32m7\u001b[0m : Partial movie file        \u001b]8;id=21478;file://C:\\Users\\thoma\\AppData\\Local\\Programs\\Python\\Python39\\lib\\site-packages\\manim\\scene\\scene_file_writer.py\u001b\\\u001b[2mscene_file_writer.py\u001b[0m\u001b]8;;\u001b\\\u001b[2m:\u001b[0m\u001b]8;id=810723;file://C:\\Users\\thoma\\AppData\\Local\\Programs\\Python\\Python39\\lib\\site-packages\\manim\\scene\\scene_file_writer.py#514\u001b\\\u001b[2m514\u001b[0m\u001b]8;;\u001b\\\n",
       "                             written in \u001b[32m'c:\\Users\\thoma\\Desktop\\Apre\u001b[0m                         \n",
       "                             \u001b[32mndizado\\Manim\\media\\videos\\Manim\\720p30\u001b[0m                         \n",
       "                             \u001b[32m\\partial_movie_files\\Vectors\\1353618911\u001b[0m                         \n",
       "                             \u001b[32m_3493041802_1464654647.mp4'\u001b[0m                                     \n"
      ]
     },
     "metadata": {},
     "output_type": "display_data"
    },
    {
     "name": "stderr",
     "output_type": "stream",
     "text": [
      "                                                                               \r"
     ]
    },
    {
     "data": {
      "text/html": [
       "<pre style=\"white-space:pre;overflow-x:auto;line-height:normal;font-family:Menlo,'DejaVu Sans Mono',consolas,'Courier New',monospace\"><span style=\"color: #7fbfbf; text-decoration-color: #7fbfbf\">[01/31/22 12:15:17] </span><span style=\"color: #008000; text-decoration-color: #008000\">INFO    </span> Animation <span style=\"color: #008000; text-decoration-color: #008000\">8</span> : Partial movie file        <a href=\"file://C:\\Users\\thoma\\AppData\\Local\\Programs\\Python\\Python39\\lib\\site-packages\\manim\\scene\\scene_file_writer.py\"><span style=\"color: #7f7f7f; text-decoration-color: #7f7f7f\">scene_file_writer.py</span></a><span style=\"color: #7f7f7f; text-decoration-color: #7f7f7f\">:</span><a href=\"file://C:\\Users\\thoma\\AppData\\Local\\Programs\\Python\\Python39\\lib\\site-packages\\manim\\scene\\scene_file_writer.py#514\"><span style=\"color: #7f7f7f; text-decoration-color: #7f7f7f\">514</span></a>\n",
       "                             written in <span style=\"color: #008000; text-decoration-color: #008000\">'c:\\Users\\thoma\\Desktop\\Apre</span>                         \n",
       "                             <span style=\"color: #008000; text-decoration-color: #008000\">ndizado\\Manim\\media\\videos\\Manim\\720p30</span>                         \n",
       "                             <span style=\"color: #008000; text-decoration-color: #008000\">\\partial_movie_files\\Vectors\\1353618911</span>                         \n",
       "                             <span style=\"color: #008000; text-decoration-color: #008000\">_975271195_2709619345.mp4'</span>                                      \n",
       "</pre>\n"
      ],
      "text/plain": [
       "\u001b[2;36m[01/31/22 12:15:17]\u001b[0m\u001b[2;36m \u001b[0m\u001b[32mINFO    \u001b[0m Animation \u001b[32m8\u001b[0m : Partial movie file        \u001b]8;id=883248;file://C:\\Users\\thoma\\AppData\\Local\\Programs\\Python\\Python39\\lib\\site-packages\\manim\\scene\\scene_file_writer.py\u001b\\\u001b[2mscene_file_writer.py\u001b[0m\u001b]8;;\u001b\\\u001b[2m:\u001b[0m\u001b]8;id=514199;file://C:\\Users\\thoma\\AppData\\Local\\Programs\\Python\\Python39\\lib\\site-packages\\manim\\scene\\scene_file_writer.py#514\u001b\\\u001b[2m514\u001b[0m\u001b]8;;\u001b\\\n",
       "                             written in \u001b[32m'c:\\Users\\thoma\\Desktop\\Apre\u001b[0m                         \n",
       "                             \u001b[32mndizado\\Manim\\media\\videos\\Manim\\720p30\u001b[0m                         \n",
       "                             \u001b[32m\\partial_movie_files\\Vectors\\1353618911\u001b[0m                         \n",
       "                             \u001b[32m_975271195_2709619345.mp4'\u001b[0m                                      \n"
      ]
     },
     "metadata": {},
     "output_type": "display_data"
    },
    {
     "name": "stderr",
     "output_type": "stream",
     "text": [
      "                                                                           \r"
     ]
    },
    {
     "data": {
      "text/html": [
       "<pre style=\"white-space:pre;overflow-x:auto;line-height:normal;font-family:Menlo,'DejaVu Sans Mono',consolas,'Courier New',monospace\"><span style=\"color: #7fbfbf; text-decoration-color: #7fbfbf\">[01/31/22 12:15:18] </span><span style=\"color: #008000; text-decoration-color: #008000\">INFO    </span> Animation <span style=\"color: #008000; text-decoration-color: #008000\">9</span> : Partial movie file        <a href=\"file://C:\\Users\\thoma\\AppData\\Local\\Programs\\Python\\Python39\\lib\\site-packages\\manim\\scene\\scene_file_writer.py\"><span style=\"color: #7f7f7f; text-decoration-color: #7f7f7f\">scene_file_writer.py</span></a><span style=\"color: #7f7f7f; text-decoration-color: #7f7f7f\">:</span><a href=\"file://C:\\Users\\thoma\\AppData\\Local\\Programs\\Python\\Python39\\lib\\site-packages\\manim\\scene\\scene_file_writer.py#514\"><span style=\"color: #7f7f7f; text-decoration-color: #7f7f7f\">514</span></a>\n",
       "                             written in <span style=\"color: #008000; text-decoration-color: #008000\">'c:\\Users\\thoma\\Desktop\\Apre</span>                         \n",
       "                             <span style=\"color: #008000; text-decoration-color: #008000\">ndizado\\Manim\\media\\videos\\Manim\\720p30</span>                         \n",
       "                             <span style=\"color: #008000; text-decoration-color: #008000\">\\partial_movie_files\\Vectors\\1353618911</span>                         \n",
       "                             <span style=\"color: #008000; text-decoration-color: #008000\">_1719933800_3703737436.mp4'</span>                                     \n",
       "</pre>\n"
      ],
      "text/plain": [
       "\u001b[2;36m[01/31/22 12:15:18]\u001b[0m\u001b[2;36m \u001b[0m\u001b[32mINFO    \u001b[0m Animation \u001b[32m9\u001b[0m : Partial movie file        \u001b]8;id=157653;file://C:\\Users\\thoma\\AppData\\Local\\Programs\\Python\\Python39\\lib\\site-packages\\manim\\scene\\scene_file_writer.py\u001b\\\u001b[2mscene_file_writer.py\u001b[0m\u001b]8;;\u001b\\\u001b[2m:\u001b[0m\u001b]8;id=144455;file://C:\\Users\\thoma\\AppData\\Local\\Programs\\Python\\Python39\\lib\\site-packages\\manim\\scene\\scene_file_writer.py#514\u001b\\\u001b[2m514\u001b[0m\u001b]8;;\u001b\\\n",
       "                             written in \u001b[32m'c:\\Users\\thoma\\Desktop\\Apre\u001b[0m                         \n",
       "                             \u001b[32mndizado\\Manim\\media\\videos\\Manim\\720p30\u001b[0m                         \n",
       "                             \u001b[32m\\partial_movie_files\\Vectors\\1353618911\u001b[0m                         \n",
       "                             \u001b[32m_1719933800_3703737436.mp4'\u001b[0m                                     \n"
      ]
     },
     "metadata": {},
     "output_type": "display_data"
    },
    {
     "data": {
      "text/html": [
       "<pre style=\"white-space:pre;overflow-x:auto;line-height:normal;font-family:Menlo,'DejaVu Sans Mono',consolas,'Courier New',monospace\"><span style=\"color: #7fbfbf; text-decoration-color: #7fbfbf\">                    </span><span style=\"color: #008000; text-decoration-color: #008000\">INFO    </span> Combining to Movie file.                <a href=\"file://C:\\Users\\thoma\\AppData\\Local\\Programs\\Python\\Python39\\lib\\site-packages\\manim\\scene\\scene_file_writer.py\"><span style=\"color: #7f7f7f; text-decoration-color: #7f7f7f\">scene_file_writer.py</span></a><span style=\"color: #7f7f7f; text-decoration-color: #7f7f7f\">:</span><a href=\"file://C:\\Users\\thoma\\AppData\\Local\\Programs\\Python\\Python39\\lib\\site-packages\\manim\\scene\\scene_file_writer.py#608\"><span style=\"color: #7f7f7f; text-decoration-color: #7f7f7f\">608</span></a>\n",
       "</pre>\n"
      ],
      "text/plain": [
       "\u001b[2;36m                   \u001b[0m\u001b[2;36m \u001b[0m\u001b[32mINFO    \u001b[0m Combining to Movie file.                \u001b]8;id=36267;file://C:\\Users\\thoma\\AppData\\Local\\Programs\\Python\\Python39\\lib\\site-packages\\manim\\scene\\scene_file_writer.py\u001b\\\u001b[2mscene_file_writer.py\u001b[0m\u001b]8;;\u001b\\\u001b[2m:\u001b[0m\u001b]8;id=857782;file://C:\\Users\\thoma\\AppData\\Local\\Programs\\Python\\Python39\\lib\\site-packages\\manim\\scene\\scene_file_writer.py#608\u001b\\\u001b[2m608\u001b[0m\u001b]8;;\u001b\\\n"
      ]
     },
     "metadata": {},
     "output_type": "display_data"
    },
    {
     "data": {
      "text/html": [
       "<pre style=\"white-space:pre;overflow-x:auto;line-height:normal;font-family:Menlo,'DejaVu Sans Mono',consolas,'Courier New',monospace\"><span style=\"color: #7fbfbf; text-decoration-color: #7fbfbf\">                    </span><span style=\"color: #008000; text-decoration-color: #008000\">INFO    </span>                                         <a href=\"file://C:\\Users\\thoma\\AppData\\Local\\Programs\\Python\\Python39\\lib\\site-packages\\manim\\scene\\scene_file_writer.py\"><span style=\"color: #7f7f7f; text-decoration-color: #7f7f7f\">scene_file_writer.py</span></a><span style=\"color: #7f7f7f; text-decoration-color: #7f7f7f\">:</span><a href=\"file://C:\\Users\\thoma\\AppData\\Local\\Programs\\Python\\Python39\\lib\\site-packages\\manim\\scene\\scene_file_writer.py#729\"><span style=\"color: #7f7f7f; text-decoration-color: #7f7f7f\">729</span></a>\n",
       "                             <span style=\"color: #808000; text-decoration-color: #808000; font-weight: bold\">File</span> ready at <span style=\"color: #008000; text-decoration-color: #008000\">'c:\\Users\\thoma\\Desktop\\A</span>                         \n",
       "                             <span style=\"color: #008000; text-decoration-color: #008000\">prendizado\\Manim\\media\\videos\\Manim\\720</span>                         \n",
       "                             <span style=\"color: #008000; text-decoration-color: #008000\">p30\\Vectors.mp4'</span>                                                \n",
       "                                                                                             \n",
       "</pre>\n"
      ],
      "text/plain": [
       "\u001b[2;36m                   \u001b[0m\u001b[2;36m \u001b[0m\u001b[32mINFO    \u001b[0m                                         \u001b]8;id=469542;file://C:\\Users\\thoma\\AppData\\Local\\Programs\\Python\\Python39\\lib\\site-packages\\manim\\scene\\scene_file_writer.py\u001b\\\u001b[2mscene_file_writer.py\u001b[0m\u001b]8;;\u001b\\\u001b[2m:\u001b[0m\u001b]8;id=488986;file://C:\\Users\\thoma\\AppData\\Local\\Programs\\Python\\Python39\\lib\\site-packages\\manim\\scene\\scene_file_writer.py#729\u001b\\\u001b[2m729\u001b[0m\u001b]8;;\u001b\\\n",
       "                             \u001b[1;33mFile\u001b[0m ready at \u001b[32m'c:\\Users\\thoma\\Desktop\\A\u001b[0m                         \n",
       "                             \u001b[32mprendizado\\Manim\\media\\videos\\Manim\\720\u001b[0m                         \n",
       "                             \u001b[32mp30\\Vectors.mp4'\u001b[0m                                                \n",
       "                                                                                             \n"
      ]
     },
     "metadata": {},
     "output_type": "display_data"
    },
    {
     "data": {
      "text/html": [
       "<pre style=\"white-space:pre;overflow-x:auto;line-height:normal;font-family:Menlo,'DejaVu Sans Mono',consolas,'Courier New',monospace\"><span style=\"color: #7fbfbf; text-decoration-color: #7fbfbf\">                    </span><span style=\"color: #008000; text-decoration-color: #008000\">INFO    </span> <span style=\"color: #808000; text-decoration-color: #808000; font-weight: bold\">Rendered</span> Vectors                                    <a href=\"file://C:\\Users\\thoma\\AppData\\Local\\Programs\\Python\\Python39\\lib\\site-packages\\manim\\scene\\scene.py\"><span style=\"color: #7f7f7f; text-decoration-color: #7f7f7f\">scene.py</span></a><span style=\"color: #7f7f7f; text-decoration-color: #7f7f7f\">:</span><a href=\"file://C:\\Users\\thoma\\AppData\\Local\\Programs\\Python\\Python39\\lib\\site-packages\\manim\\scene\\scene.py#237\"><span style=\"color: #7f7f7f; text-decoration-color: #7f7f7f\">237</span></a>\n",
       "                             <span style=\"color: #808000; text-decoration-color: #808000; font-weight: bold\">Played</span> <span style=\"color: #008000; text-decoration-color: #008000\">10</span> <span style=\"color: #808000; text-decoration-color: #808000; font-weight: bold\">animations</span>                                            \n",
       "</pre>\n"
      ],
      "text/plain": [
       "\u001b[2;36m                   \u001b[0m\u001b[2;36m \u001b[0m\u001b[32mINFO    \u001b[0m \u001b[1;33mRendered\u001b[0m Vectors                                    \u001b]8;id=731797;file://C:\\Users\\thoma\\AppData\\Local\\Programs\\Python\\Python39\\lib\\site-packages\\manim\\scene\\scene.py\u001b\\\u001b[2mscene.py\u001b[0m\u001b]8;;\u001b\\\u001b[2m:\u001b[0m\u001b]8;id=797014;file://C:\\Users\\thoma\\AppData\\Local\\Programs\\Python\\Python39\\lib\\site-packages\\manim\\scene\\scene.py#237\u001b\\\u001b[2m237\u001b[0m\u001b]8;;\u001b\\\n",
       "                             \u001b[1;33mPlayed\u001b[0m \u001b[32m10\u001b[0m \u001b[1;33manimations\u001b[0m                                            \n"
      ]
     },
     "metadata": {},
     "output_type": "display_data"
    },
    {
     "data": {
      "text/html": [
       "<video src=\"media\\jupyter\\Vectors@2022-01-31@12-15-18.mp4\" controls autoplay loop style=\"max-width: 60%;\"  >\n",
       "      Your browser does not support the <code>video</code> element.\n",
       "    </video>"
      ],
      "text/plain": [
       "<IPython.core.display.Video object>"
      ]
     },
     "metadata": {},
     "output_type": "display_data"
    }
   ],
   "source": [
    "%%manim -qm Vectors\n",
    "\n",
    "class Vectors(VectorScene):\n",
    "    def construct(self):\n",
    "\n",
    "        plane = self.add_plane(animate=True).add_coordinates()\n",
    "        self.wait()\n",
    "        vector = self.add_vector([-3, -2], color=YELLOW)\n",
    "\n",
    "        basis = self.get_basis_vectors()\n",
    "        self.add(basis)\n",
    "        self.vector_to_coords(vector=vector)\n",
    "\n",
    "        vector2 = self.add_vector([2, 2])\n",
    "        self.write_vector_coordinates(vector=vector2)\n",
    "\n"
   ]
  },
  {
   "cell_type": "code",
   "execution_count": 4,
   "metadata": {},
   "outputs": [
    {
     "data": {
      "text/html": [
       "<pre style=\"white-space:pre;overflow-x:auto;line-height:normal;font-family:Menlo,'DejaVu Sans Mono',consolas,'Courier New',monospace\"><span style=\"color: #7fbfbf; text-decoration-color: #7fbfbf\">[01/31/22 12:13:58] </span><span style=\"color: #008000; text-decoration-color: #008000\">INFO    </span> <span style=\"color: #808000; text-decoration-color: #808000; font-weight: bold\">Writing</span> <span style=\"color: #008000; text-decoration-color: #008000\">\"\\vec{v}\"</span> to                      <a href=\"file://C:\\Users\\thoma\\AppData\\Local\\Programs\\Python\\Python39\\lib\\site-packages\\manim\\utils\\tex_file_writing.py\"><span style=\"color: #7f7f7f; text-decoration-color: #7f7f7f\">tex_file_writing.py</span></a><span style=\"color: #7f7f7f; text-decoration-color: #7f7f7f\">:</span><a href=\"file://C:\\Users\\thoma\\AppData\\Local\\Programs\\Python\\Python39\\lib\\site-packages\\manim\\utils\\tex_file_writing.py#85\"><span style=\"color: #7f7f7f; text-decoration-color: #7f7f7f\">85</span></a>\n",
       "                             media\\Tex\\0bff784edd57a797.tex                                  \n",
       "</pre>\n"
      ],
      "text/plain": [
       "\u001b[2;36m[01/31/22 12:13:58]\u001b[0m\u001b[2;36m \u001b[0m\u001b[32mINFO    \u001b[0m \u001b[1;33mWriting\u001b[0m \u001b[32m\"\\vec\u001b[0m\u001b[32m{\u001b[0m\u001b[32mv\u001b[0m\u001b[32m}\u001b[0m\u001b[32m\"\u001b[0m to                      \u001b]8;id=404001;file://C:\\Users\\thoma\\AppData\\Local\\Programs\\Python\\Python39\\lib\\site-packages\\manim\\utils\\tex_file_writing.py\u001b\\\u001b[2mtex_file_writing.py\u001b[0m\u001b]8;;\u001b\\\u001b[2m:\u001b[0m\u001b]8;id=960435;file://C:\\Users\\thoma\\AppData\\Local\\Programs\\Python\\Python39\\lib\\site-packages\\manim\\utils\\tex_file_writing.py#85\u001b\\\u001b[2m85\u001b[0m\u001b]8;;\u001b\\\n",
       "                             media\\Tex\\0bff784edd57a797.tex                                  \n"
      ]
     },
     "metadata": {},
     "output_type": "display_data"
    },
    {
     "data": {
      "text/html": [
       "<pre style=\"white-space:pre;overflow-x:auto;line-height:normal;font-family:Menlo,'DejaVu Sans Mono',consolas,'Courier New',monospace\"><span style=\"color: #7fbfbf; text-decoration-color: #7fbfbf\">[01/31/22 12:14:06] </span><span style=\"color: #008000; text-decoration-color: #008000\">INFO    </span> <span style=\"color: #808000; text-decoration-color: #808000; font-weight: bold\">Writing</span> <span style=\"color: #008000; text-decoration-color: #008000\">\"\\vec{w}\"</span> to                      <a href=\"file://C:\\Users\\thoma\\AppData\\Local\\Programs\\Python\\Python39\\lib\\site-packages\\manim\\utils\\tex_file_writing.py\"><span style=\"color: #7f7f7f; text-decoration-color: #7f7f7f\">tex_file_writing.py</span></a><span style=\"color: #7f7f7f; text-decoration-color: #7f7f7f\">:</span><a href=\"file://C:\\Users\\thoma\\AppData\\Local\\Programs\\Python\\Python39\\lib\\site-packages\\manim\\utils\\tex_file_writing.py#85\"><span style=\"color: #7f7f7f; text-decoration-color: #7f7f7f\">85</span></a>\n",
       "                             media\\Tex\\36d98a9e55ee3597.tex                                  \n",
       "</pre>\n"
      ],
      "text/plain": [
       "\u001b[2;36m[01/31/22 12:14:06]\u001b[0m\u001b[2;36m \u001b[0m\u001b[32mINFO    \u001b[0m \u001b[1;33mWriting\u001b[0m \u001b[32m\"\\vec\u001b[0m\u001b[32m{\u001b[0m\u001b[32mw\u001b[0m\u001b[32m}\u001b[0m\u001b[32m\"\u001b[0m to                      \u001b]8;id=623211;file://C:\\Users\\thoma\\AppData\\Local\\Programs\\Python\\Python39\\lib\\site-packages\\manim\\utils\\tex_file_writing.py\u001b\\\u001b[2mtex_file_writing.py\u001b[0m\u001b]8;;\u001b\\\u001b[2m:\u001b[0m\u001b]8;id=414854;file://C:\\Users\\thoma\\AppData\\Local\\Programs\\Python\\Python39\\lib\\site-packages\\manim\\utils\\tex_file_writing.py#85\u001b\\\u001b[2m85\u001b[0m\u001b]8;;\u001b\\\n",
       "                             media\\Tex\\36d98a9e55ee3597.tex                                  \n"
      ]
     },
     "metadata": {},
     "output_type": "display_data"
    },
    {
     "data": {
      "text/html": [
       "<pre style=\"white-space:pre;overflow-x:auto;line-height:normal;font-family:Menlo,'DejaVu Sans Mono',consolas,'Courier New',monospace\"><span style=\"color: #7fbfbf; text-decoration-color: #7fbfbf\">[01/31/22 12:14:08] </span><span style=\"color: #008000; text-decoration-color: #008000\">INFO    </span> <span style=\"color: #808000; text-decoration-color: #808000; font-weight: bold\">Writing</span> <span style=\"color: #008000; text-decoration-color: #008000\">\"\\vec{v} + \\vec{w}\"</span> to            <a href=\"file://C:\\Users\\thoma\\AppData\\Local\\Programs\\Python\\Python39\\lib\\site-packages\\manim\\utils\\tex_file_writing.py\"><span style=\"color: #7f7f7f; text-decoration-color: #7f7f7f\">tex_file_writing.py</span></a><span style=\"color: #7f7f7f; text-decoration-color: #7f7f7f\">:</span><a href=\"file://C:\\Users\\thoma\\AppData\\Local\\Programs\\Python\\Python39\\lib\\site-packages\\manim\\utils\\tex_file_writing.py#85\"><span style=\"color: #7f7f7f; text-decoration-color: #7f7f7f\">85</span></a>\n",
       "                             media\\Tex\\73a4b81d726a27f4.tex                                  \n",
       "</pre>\n"
      ],
      "text/plain": [
       "\u001b[2;36m[01/31/22 12:14:08]\u001b[0m\u001b[2;36m \u001b[0m\u001b[32mINFO    \u001b[0m \u001b[1;33mWriting\u001b[0m \u001b[32m\"\\vec\u001b[0m\u001b[32m{\u001b[0m\u001b[32mv\u001b[0m\u001b[32m}\u001b[0m\u001b[32m + \\vec\u001b[0m\u001b[32m{\u001b[0m\u001b[32mw\u001b[0m\u001b[32m}\u001b[0m\u001b[32m\"\u001b[0m to            \u001b]8;id=40081;file://C:\\Users\\thoma\\AppData\\Local\\Programs\\Python\\Python39\\lib\\site-packages\\manim\\utils\\tex_file_writing.py\u001b\\\u001b[2mtex_file_writing.py\u001b[0m\u001b]8;;\u001b\\\u001b[2m:\u001b[0m\u001b]8;id=202998;file://C:\\Users\\thoma\\AppData\\Local\\Programs\\Python\\Python39\\lib\\site-packages\\manim\\utils\\tex_file_writing.py#85\u001b\\\u001b[2m85\u001b[0m\u001b]8;;\u001b\\\n",
       "                             media\\Tex\\73a4b81d726a27f4.tex                                  \n"
      ]
     },
     "metadata": {},
     "output_type": "display_data"
    },
    {
     "name": "stderr",
     "output_type": "stream",
     "text": [
      "                                                                                                              \r"
     ]
    },
    {
     "data": {
      "text/html": [
       "<pre style=\"white-space:pre;overflow-x:auto;line-height:normal;font-family:Menlo,'DejaVu Sans Mono',consolas,'Courier New',monospace\"><span style=\"color: #7fbfbf; text-decoration-color: #7fbfbf\">[01/31/22 12:14:15] </span><span style=\"color: #008000; text-decoration-color: #008000\">INFO    </span> Animation <span style=\"color: #008000; text-decoration-color: #008000\">0</span> : Partial movie file        <a href=\"file://C:\\Users\\thoma\\AppData\\Local\\Programs\\Python\\Python39\\lib\\site-packages\\manim\\scene\\scene_file_writer.py\"><span style=\"color: #7f7f7f; text-decoration-color: #7f7f7f\">scene_file_writer.py</span></a><span style=\"color: #7f7f7f; text-decoration-color: #7f7f7f\">:</span><a href=\"file://C:\\Users\\thoma\\AppData\\Local\\Programs\\Python\\Python39\\lib\\site-packages\\manim\\scene\\scene_file_writer.py#514\"><span style=\"color: #7f7f7f; text-decoration-color: #7f7f7f\">514</span></a>\n",
       "                             written in <span style=\"color: #008000; text-decoration-color: #008000\">'c:\\Users\\thoma\\Desktop\\Apre</span>                         \n",
       "                             <span style=\"color: #008000; text-decoration-color: #008000\">ndizado\\Manim\\media\\videos\\Manim\\720p30</span>                         \n",
       "                             <span style=\"color: #008000; text-decoration-color: #008000\">\\partial_movie_files\\Tute1\\1342159004_9</span>                         \n",
       "                             <span style=\"color: #008000; text-decoration-color: #008000\">31306364_2585081894.mp4'</span>                                        \n",
       "</pre>\n"
      ],
      "text/plain": [
       "\u001b[2;36m[01/31/22 12:14:15]\u001b[0m\u001b[2;36m \u001b[0m\u001b[32mINFO    \u001b[0m Animation \u001b[32m0\u001b[0m : Partial movie file        \u001b]8;id=245206;file://C:\\Users\\thoma\\AppData\\Local\\Programs\\Python\\Python39\\lib\\site-packages\\manim\\scene\\scene_file_writer.py\u001b\\\u001b[2mscene_file_writer.py\u001b[0m\u001b]8;;\u001b\\\u001b[2m:\u001b[0m\u001b]8;id=863860;file://C:\\Users\\thoma\\AppData\\Local\\Programs\\Python\\Python39\\lib\\site-packages\\manim\\scene\\scene_file_writer.py#514\u001b\\\u001b[2m514\u001b[0m\u001b]8;;\u001b\\\n",
       "                             written in \u001b[32m'c:\\Users\\thoma\\Desktop\\Apre\u001b[0m                         \n",
       "                             \u001b[32mndizado\\Manim\\media\\videos\\Manim\\720p30\u001b[0m                         \n",
       "                             \u001b[32m\\partial_movie_files\\Tute1\\1342159004_9\u001b[0m                         \n",
       "                             \u001b[32m31306364_2585081894.mp4'\u001b[0m                                        \n"
      ]
     },
     "metadata": {},
     "output_type": "display_data"
    },
    {
     "data": {
      "text/html": [
       "<pre style=\"white-space:pre;overflow-x:auto;line-height:normal;font-family:Menlo,'DejaVu Sans Mono',consolas,'Courier New',monospace\"><span style=\"color: #7fbfbf; text-decoration-color: #7fbfbf\">[01/31/22 12:14:16] </span><span style=\"color: #008000; text-decoration-color: #008000\">INFO    </span> Animation <span style=\"color: #008000; text-decoration-color: #008000\">1</span> : Partial movie file        <a href=\"file://C:\\Users\\thoma\\AppData\\Local\\Programs\\Python\\Python39\\lib\\site-packages\\manim\\scene\\scene_file_writer.py\"><span style=\"color: #7f7f7f; text-decoration-color: #7f7f7f\">scene_file_writer.py</span></a><span style=\"color: #7f7f7f; text-decoration-color: #7f7f7f\">:</span><a href=\"file://C:\\Users\\thoma\\AppData\\Local\\Programs\\Python\\Python39\\lib\\site-packages\\manim\\scene\\scene_file_writer.py#514\"><span style=\"color: #7f7f7f; text-decoration-color: #7f7f7f\">514</span></a>\n",
       "                             written in <span style=\"color: #008000; text-decoration-color: #008000\">'c:\\Users\\thoma\\Desktop\\Apre</span>                         \n",
       "                             <span style=\"color: #008000; text-decoration-color: #008000\">ndizado\\Manim\\media\\videos\\Manim\\720p30</span>                         \n",
       "                             <span style=\"color: #008000; text-decoration-color: #008000\">\\partial_movie_files\\Tute1\\1353618911_2</span>                         \n",
       "                             <span style=\"color: #008000; text-decoration-color: #008000\">478587744_4160505964.mp4'</span>                                       \n",
       "</pre>\n"
      ],
      "text/plain": [
       "\u001b[2;36m[01/31/22 12:14:16]\u001b[0m\u001b[2;36m \u001b[0m\u001b[32mINFO    \u001b[0m Animation \u001b[32m1\u001b[0m : Partial movie file        \u001b]8;id=239612;file://C:\\Users\\thoma\\AppData\\Local\\Programs\\Python\\Python39\\lib\\site-packages\\manim\\scene\\scene_file_writer.py\u001b\\\u001b[2mscene_file_writer.py\u001b[0m\u001b]8;;\u001b\\\u001b[2m:\u001b[0m\u001b]8;id=270405;file://C:\\Users\\thoma\\AppData\\Local\\Programs\\Python\\Python39\\lib\\site-packages\\manim\\scene\\scene_file_writer.py#514\u001b\\\u001b[2m514\u001b[0m\u001b]8;;\u001b\\\n",
       "                             written in \u001b[32m'c:\\Users\\thoma\\Desktop\\Apre\u001b[0m                         \n",
       "                             \u001b[32mndizado\\Manim\\media\\videos\\Manim\\720p30\u001b[0m                         \n",
       "                             \u001b[32m\\partial_movie_files\\Tute1\\1353618911_2\u001b[0m                         \n",
       "                             \u001b[32m478587744_4160505964.mp4'\u001b[0m                                       \n"
      ]
     },
     "metadata": {},
     "output_type": "display_data"
    },
    {
     "name": "stderr",
     "output_type": "stream",
     "text": [
      "                                                                                       \r"
     ]
    },
    {
     "data": {
      "text/html": [
       "<pre style=\"white-space:pre;overflow-x:auto;line-height:normal;font-family:Menlo,'DejaVu Sans Mono',consolas,'Courier New',monospace\"><span style=\"color: #7fbfbf; text-decoration-color: #7fbfbf\">[01/31/22 12:14:18] </span><span style=\"color: #008000; text-decoration-color: #008000\">INFO    </span> Animation <span style=\"color: #008000; text-decoration-color: #008000\">2</span> : Partial movie file        <a href=\"file://C:\\Users\\thoma\\AppData\\Local\\Programs\\Python\\Python39\\lib\\site-packages\\manim\\scene\\scene_file_writer.py\"><span style=\"color: #7f7f7f; text-decoration-color: #7f7f7f\">scene_file_writer.py</span></a><span style=\"color: #7f7f7f; text-decoration-color: #7f7f7f\">:</span><a href=\"file://C:\\Users\\thoma\\AppData\\Local\\Programs\\Python\\Python39\\lib\\site-packages\\manim\\scene\\scene_file_writer.py#514\"><span style=\"color: #7f7f7f; text-decoration-color: #7f7f7f\">514</span></a>\n",
       "                             written in <span style=\"color: #008000; text-decoration-color: #008000\">'c:\\Users\\thoma\\Desktop\\Apre</span>                         \n",
       "                             <span style=\"color: #008000; text-decoration-color: #008000\">ndizado\\Manim\\media\\videos\\Manim\\720p30</span>                         \n",
       "                             <span style=\"color: #008000; text-decoration-color: #008000\">\\partial_movie_files\\Tute1\\1353618911_1</span>                         \n",
       "                             <span style=\"color: #008000; text-decoration-color: #008000\">11953459_1844505647.mp4'</span>                                        \n",
       "</pre>\n"
      ],
      "text/plain": [
       "\u001b[2;36m[01/31/22 12:14:18]\u001b[0m\u001b[2;36m \u001b[0m\u001b[32mINFO    \u001b[0m Animation \u001b[32m2\u001b[0m : Partial movie file        \u001b]8;id=899964;file://C:\\Users\\thoma\\AppData\\Local\\Programs\\Python\\Python39\\lib\\site-packages\\manim\\scene\\scene_file_writer.py\u001b\\\u001b[2mscene_file_writer.py\u001b[0m\u001b]8;;\u001b\\\u001b[2m:\u001b[0m\u001b]8;id=418776;file://C:\\Users\\thoma\\AppData\\Local\\Programs\\Python\\Python39\\lib\\site-packages\\manim\\scene\\scene_file_writer.py#514\u001b\\\u001b[2m514\u001b[0m\u001b]8;;\u001b\\\n",
       "                             written in \u001b[32m'c:\\Users\\thoma\\Desktop\\Apre\u001b[0m                         \n",
       "                             \u001b[32mndizado\\Manim\\media\\videos\\Manim\\720p30\u001b[0m                         \n",
       "                             \u001b[32m\\partial_movie_files\\Tute1\\1353618911_1\u001b[0m                         \n",
       "                             \u001b[32m11953459_1844505647.mp4'\u001b[0m                                        \n"
      ]
     },
     "metadata": {},
     "output_type": "display_data"
    },
    {
     "data": {
      "text/html": [
       "<pre style=\"white-space:pre;overflow-x:auto;line-height:normal;font-family:Menlo,'DejaVu Sans Mono',consolas,'Courier New',monospace\"><span style=\"color: #7fbfbf; text-decoration-color: #7fbfbf\">                    </span><span style=\"color: #008000; text-decoration-color: #008000\">INFO    </span> Animation <span style=\"color: #008000; text-decoration-color: #008000\">3</span> : Partial movie file        <a href=\"file://C:\\Users\\thoma\\AppData\\Local\\Programs\\Python\\Python39\\lib\\site-packages\\manim\\scene\\scene_file_writer.py\"><span style=\"color: #7f7f7f; text-decoration-color: #7f7f7f\">scene_file_writer.py</span></a><span style=\"color: #7f7f7f; text-decoration-color: #7f7f7f\">:</span><a href=\"file://C:\\Users\\thoma\\AppData\\Local\\Programs\\Python\\Python39\\lib\\site-packages\\manim\\scene\\scene_file_writer.py#514\"><span style=\"color: #7f7f7f; text-decoration-color: #7f7f7f\">514</span></a>\n",
       "                             written in <span style=\"color: #008000; text-decoration-color: #008000\">'c:\\Users\\thoma\\Desktop\\Apre</span>                         \n",
       "                             <span style=\"color: #008000; text-decoration-color: #008000\">ndizado\\Manim\\media\\videos\\Manim\\720p30</span>                         \n",
       "                             <span style=\"color: #008000; text-decoration-color: #008000\">\\partial_movie_files\\Tute1\\1353618911_3</span>                         \n",
       "                             <span style=\"color: #008000; text-decoration-color: #008000\">493041802_219254413.mp4'</span>                                        \n",
       "</pre>\n"
      ],
      "text/plain": [
       "\u001b[2;36m                   \u001b[0m\u001b[2;36m \u001b[0m\u001b[32mINFO    \u001b[0m Animation \u001b[32m3\u001b[0m : Partial movie file        \u001b]8;id=17152;file://C:\\Users\\thoma\\AppData\\Local\\Programs\\Python\\Python39\\lib\\site-packages\\manim\\scene\\scene_file_writer.py\u001b\\\u001b[2mscene_file_writer.py\u001b[0m\u001b]8;;\u001b\\\u001b[2m:\u001b[0m\u001b]8;id=940324;file://C:\\Users\\thoma\\AppData\\Local\\Programs\\Python\\Python39\\lib\\site-packages\\manim\\scene\\scene_file_writer.py#514\u001b\\\u001b[2m514\u001b[0m\u001b]8;;\u001b\\\n",
       "                             written in \u001b[32m'c:\\Users\\thoma\\Desktop\\Apre\u001b[0m                         \n",
       "                             \u001b[32mndizado\\Manim\\media\\videos\\Manim\\720p30\u001b[0m                         \n",
       "                             \u001b[32m\\partial_movie_files\\Tute1\\1353618911_3\u001b[0m                         \n",
       "                             \u001b[32m493041802_219254413.mp4'\u001b[0m                                        \n"
      ]
     },
     "metadata": {},
     "output_type": "display_data"
    },
    {
     "name": "stderr",
     "output_type": "stream",
     "text": [
      "                                                                                       \r"
     ]
    },
    {
     "data": {
      "text/html": [
       "<pre style=\"white-space:pre;overflow-x:auto;line-height:normal;font-family:Menlo,'DejaVu Sans Mono',consolas,'Courier New',monospace\"><span style=\"color: #7fbfbf; text-decoration-color: #7fbfbf\">[01/31/22 12:14:20] </span><span style=\"color: #008000; text-decoration-color: #008000\">INFO    </span> Animation <span style=\"color: #008000; text-decoration-color: #008000\">4</span> : Partial movie file        <a href=\"file://C:\\Users\\thoma\\AppData\\Local\\Programs\\Python\\Python39\\lib\\site-packages\\manim\\scene\\scene_file_writer.py\"><span style=\"color: #7f7f7f; text-decoration-color: #7f7f7f\">scene_file_writer.py</span></a><span style=\"color: #7f7f7f; text-decoration-color: #7f7f7f\">:</span><a href=\"file://C:\\Users\\thoma\\AppData\\Local\\Programs\\Python\\Python39\\lib\\site-packages\\manim\\scene\\scene_file_writer.py#514\"><span style=\"color: #7f7f7f; text-decoration-color: #7f7f7f\">514</span></a>\n",
       "                             written in <span style=\"color: #008000; text-decoration-color: #008000\">'c:\\Users\\thoma\\Desktop\\Apre</span>                         \n",
       "                             <span style=\"color: #008000; text-decoration-color: #008000\">ndizado\\Manim\\media\\videos\\Manim\\720p30</span>                         \n",
       "                             <span style=\"color: #008000; text-decoration-color: #008000\">\\partial_movie_files\\Tute1\\1353618911_1</span>                         \n",
       "                             <span style=\"color: #008000; text-decoration-color: #008000\">253927558_3994876778.mp4'</span>                                       \n",
       "</pre>\n"
      ],
      "text/plain": [
       "\u001b[2;36m[01/31/22 12:14:20]\u001b[0m\u001b[2;36m \u001b[0m\u001b[32mINFO    \u001b[0m Animation \u001b[32m4\u001b[0m : Partial movie file        \u001b]8;id=916176;file://C:\\Users\\thoma\\AppData\\Local\\Programs\\Python\\Python39\\lib\\site-packages\\manim\\scene\\scene_file_writer.py\u001b\\\u001b[2mscene_file_writer.py\u001b[0m\u001b]8;;\u001b\\\u001b[2m:\u001b[0m\u001b]8;id=765456;file://C:\\Users\\thoma\\AppData\\Local\\Programs\\Python\\Python39\\lib\\site-packages\\manim\\scene\\scene_file_writer.py#514\u001b\\\u001b[2m514\u001b[0m\u001b]8;;\u001b\\\n",
       "                             written in \u001b[32m'c:\\Users\\thoma\\Desktop\\Apre\u001b[0m                         \n",
       "                             \u001b[32mndizado\\Manim\\media\\videos\\Manim\\720p30\u001b[0m                         \n",
       "                             \u001b[32m\\partial_movie_files\\Tute1\\1353618911_1\u001b[0m                         \n",
       "                             \u001b[32m253927558_3994876778.mp4'\u001b[0m                                       \n"
      ]
     },
     "metadata": {},
     "output_type": "display_data"
    },
    {
     "data": {
      "text/html": [
       "<pre style=\"white-space:pre;overflow-x:auto;line-height:normal;font-family:Menlo,'DejaVu Sans Mono',consolas,'Courier New',monospace\"><span style=\"color: #7fbfbf; text-decoration-color: #7fbfbf\">                    </span><span style=\"color: #008000; text-decoration-color: #008000\">INFO    </span> Animation <span style=\"color: #008000; text-decoration-color: #008000\">5</span> : Partial movie file        <a href=\"file://C:\\Users\\thoma\\AppData\\Local\\Programs\\Python\\Python39\\lib\\site-packages\\manim\\scene\\scene_file_writer.py\"><span style=\"color: #7f7f7f; text-decoration-color: #7f7f7f\">scene_file_writer.py</span></a><span style=\"color: #7f7f7f; text-decoration-color: #7f7f7f\">:</span><a href=\"file://C:\\Users\\thoma\\AppData\\Local\\Programs\\Python\\Python39\\lib\\site-packages\\manim\\scene\\scene_file_writer.py#514\"><span style=\"color: #7f7f7f; text-decoration-color: #7f7f7f\">514</span></a>\n",
       "                             written in <span style=\"color: #008000; text-decoration-color: #008000\">'c:\\Users\\thoma\\Desktop\\Apre</span>                         \n",
       "                             <span style=\"color: #008000; text-decoration-color: #008000\">ndizado\\Manim\\media\\videos\\Manim\\720p30</span>                         \n",
       "                             <span style=\"color: #008000; text-decoration-color: #008000\">\\partial_movie_files\\Tute1\\1353618911_3</span>                         \n",
       "                             <span style=\"color: #008000; text-decoration-color: #008000\">493041802_1588282254.mp4'</span>                                       \n",
       "</pre>\n"
      ],
      "text/plain": [
       "\u001b[2;36m                   \u001b[0m\u001b[2;36m \u001b[0m\u001b[32mINFO    \u001b[0m Animation \u001b[32m5\u001b[0m : Partial movie file        \u001b]8;id=618978;file://C:\\Users\\thoma\\AppData\\Local\\Programs\\Python\\Python39\\lib\\site-packages\\manim\\scene\\scene_file_writer.py\u001b\\\u001b[2mscene_file_writer.py\u001b[0m\u001b]8;;\u001b\\\u001b[2m:\u001b[0m\u001b]8;id=877132;file://C:\\Users\\thoma\\AppData\\Local\\Programs\\Python\\Python39\\lib\\site-packages\\manim\\scene\\scene_file_writer.py#514\u001b\\\u001b[2m514\u001b[0m\u001b]8;;\u001b\\\n",
       "                             written in \u001b[32m'c:\\Users\\thoma\\Desktop\\Apre\u001b[0m                         \n",
       "                             \u001b[32mndizado\\Manim\\media\\videos\\Manim\\720p30\u001b[0m                         \n",
       "                             \u001b[32m\\partial_movie_files\\Tute1\\1353618911_3\u001b[0m                         \n",
       "                             \u001b[32m493041802_1588282254.mp4'\u001b[0m                                       \n"
      ]
     },
     "metadata": {},
     "output_type": "display_data"
    },
    {
     "name": "stderr",
     "output_type": "stream",
     "text": [
      "                                                                                   \r"
     ]
    },
    {
     "data": {
      "text/html": [
       "<pre style=\"white-space:pre;overflow-x:auto;line-height:normal;font-family:Menlo,'DejaVu Sans Mono',consolas,'Courier New',monospace\"><span style=\"color: #7fbfbf; text-decoration-color: #7fbfbf\">[01/31/22 12:14:21] </span><span style=\"color: #008000; text-decoration-color: #008000\">INFO    </span> Animation <span style=\"color: #008000; text-decoration-color: #008000\">6</span> : Partial movie file        <a href=\"file://C:\\Users\\thoma\\AppData\\Local\\Programs\\Python\\Python39\\lib\\site-packages\\manim\\scene\\scene_file_writer.py\"><span style=\"color: #7f7f7f; text-decoration-color: #7f7f7f\">scene_file_writer.py</span></a><span style=\"color: #7f7f7f; text-decoration-color: #7f7f7f\">:</span><a href=\"file://C:\\Users\\thoma\\AppData\\Local\\Programs\\Python\\Python39\\lib\\site-packages\\manim\\scene\\scene_file_writer.py#514\"><span style=\"color: #7f7f7f; text-decoration-color: #7f7f7f\">514</span></a>\n",
       "                             written in <span style=\"color: #008000; text-decoration-color: #008000\">'c:\\Users\\thoma\\Desktop\\Apre</span>                         \n",
       "                             <span style=\"color: #008000; text-decoration-color: #008000\">ndizado\\Manim\\media\\videos\\Manim\\720p30</span>                         \n",
       "                             <span style=\"color: #008000; text-decoration-color: #008000\">\\partial_movie_files\\Tute1\\1353618911_4</span>                         \n",
       "                             <span style=\"color: #008000; text-decoration-color: #008000\">113561949_2231658933.mp4'</span>                                       \n",
       "</pre>\n"
      ],
      "text/plain": [
       "\u001b[2;36m[01/31/22 12:14:21]\u001b[0m\u001b[2;36m \u001b[0m\u001b[32mINFO    \u001b[0m Animation \u001b[32m6\u001b[0m : Partial movie file        \u001b]8;id=165317;file://C:\\Users\\thoma\\AppData\\Local\\Programs\\Python\\Python39\\lib\\site-packages\\manim\\scene\\scene_file_writer.py\u001b\\\u001b[2mscene_file_writer.py\u001b[0m\u001b]8;;\u001b\\\u001b[2m:\u001b[0m\u001b]8;id=729925;file://C:\\Users\\thoma\\AppData\\Local\\Programs\\Python\\Python39\\lib\\site-packages\\manim\\scene\\scene_file_writer.py#514\u001b\\\u001b[2m514\u001b[0m\u001b]8;;\u001b\\\n",
       "                             written in \u001b[32m'c:\\Users\\thoma\\Desktop\\Apre\u001b[0m                         \n",
       "                             \u001b[32mndizado\\Manim\\media\\videos\\Manim\\720p30\u001b[0m                         \n",
       "                             \u001b[32m\\partial_movie_files\\Tute1\\1353618911_4\u001b[0m                         \n",
       "                             \u001b[32m113561949_2231658933.mp4'\u001b[0m                                       \n"
      ]
     },
     "metadata": {},
     "output_type": "display_data"
    },
    {
     "data": {
      "text/html": [
       "<pre style=\"white-space:pre;overflow-x:auto;line-height:normal;font-family:Menlo,'DejaVu Sans Mono',consolas,'Courier New',monospace\"><span style=\"color: #7fbfbf; text-decoration-color: #7fbfbf\">[01/31/22 12:14:22] </span><span style=\"color: #008000; text-decoration-color: #008000\">INFO    </span> Animation <span style=\"color: #008000; text-decoration-color: #008000\">7</span> : Partial movie file        <a href=\"file://C:\\Users\\thoma\\AppData\\Local\\Programs\\Python\\Python39\\lib\\site-packages\\manim\\scene\\scene_file_writer.py\"><span style=\"color: #7f7f7f; text-decoration-color: #7f7f7f\">scene_file_writer.py</span></a><span style=\"color: #7f7f7f; text-decoration-color: #7f7f7f\">:</span><a href=\"file://C:\\Users\\thoma\\AppData\\Local\\Programs\\Python\\Python39\\lib\\site-packages\\manim\\scene\\scene_file_writer.py#514\"><span style=\"color: #7f7f7f; text-decoration-color: #7f7f7f\">514</span></a>\n",
       "                             written in <span style=\"color: #008000; text-decoration-color: #008000\">'c:\\Users\\thoma\\Desktop\\Apre</span>                         \n",
       "                             <span style=\"color: #008000; text-decoration-color: #008000\">ndizado\\Manim\\media\\videos\\Manim\\720p30</span>                         \n",
       "                             <span style=\"color: #008000; text-decoration-color: #008000\">\\partial_movie_files\\Tute1\\1353618911_3</span>                         \n",
       "                             <span style=\"color: #008000; text-decoration-color: #008000\">493041802_4106326886.mp4'</span>                                       \n",
       "</pre>\n"
      ],
      "text/plain": [
       "\u001b[2;36m[01/31/22 12:14:22]\u001b[0m\u001b[2;36m \u001b[0m\u001b[32mINFO    \u001b[0m Animation \u001b[32m7\u001b[0m : Partial movie file        \u001b]8;id=38139;file://C:\\Users\\thoma\\AppData\\Local\\Programs\\Python\\Python39\\lib\\site-packages\\manim\\scene\\scene_file_writer.py\u001b\\\u001b[2mscene_file_writer.py\u001b[0m\u001b]8;;\u001b\\\u001b[2m:\u001b[0m\u001b]8;id=923982;file://C:\\Users\\thoma\\AppData\\Local\\Programs\\Python\\Python39\\lib\\site-packages\\manim\\scene\\scene_file_writer.py#514\u001b\\\u001b[2m514\u001b[0m\u001b]8;;\u001b\\\n",
       "                             written in \u001b[32m'c:\\Users\\thoma\\Desktop\\Apre\u001b[0m                         \n",
       "                             \u001b[32mndizado\\Manim\\media\\videos\\Manim\\720p30\u001b[0m                         \n",
       "                             \u001b[32m\\partial_movie_files\\Tute1\\1353618911_3\u001b[0m                         \n",
       "                             \u001b[32m493041802_4106326886.mp4'\u001b[0m                                       \n"
      ]
     },
     "metadata": {},
     "output_type": "display_data"
    },
    {
     "name": "stderr",
     "output_type": "stream",
     "text": [
      "                                                                                      \r"
     ]
    },
    {
     "data": {
      "text/html": [
       "<pre style=\"white-space:pre;overflow-x:auto;line-height:normal;font-family:Menlo,'DejaVu Sans Mono',consolas,'Courier New',monospace\"><span style=\"color: #7fbfbf; text-decoration-color: #7fbfbf\">[01/31/22 12:14:23] </span><span style=\"color: #008000; text-decoration-color: #008000\">INFO    </span> Animation <span style=\"color: #008000; text-decoration-color: #008000\">8</span> : Partial movie file        <a href=\"file://C:\\Users\\thoma\\AppData\\Local\\Programs\\Python\\Python39\\lib\\site-packages\\manim\\scene\\scene_file_writer.py\"><span style=\"color: #7f7f7f; text-decoration-color: #7f7f7f\">scene_file_writer.py</span></a><span style=\"color: #7f7f7f; text-decoration-color: #7f7f7f\">:</span><a href=\"file://C:\\Users\\thoma\\AppData\\Local\\Programs\\Python\\Python39\\lib\\site-packages\\manim\\scene\\scene_file_writer.py#514\"><span style=\"color: #7f7f7f; text-decoration-color: #7f7f7f\">514</span></a>\n",
       "                             written in <span style=\"color: #008000; text-decoration-color: #008000\">'c:\\Users\\thoma\\Desktop\\Apre</span>                         \n",
       "                             <span style=\"color: #008000; text-decoration-color: #008000\">ndizado\\Manim\\media\\videos\\Manim\\720p30</span>                         \n",
       "                             <span style=\"color: #008000; text-decoration-color: #008000\">\\partial_movie_files\\Tute1\\1353618911_4</span>                         \n",
       "                             <span style=\"color: #008000; text-decoration-color: #008000\">164081770_1152897384.mp4'</span>                                       \n",
       "</pre>\n"
      ],
      "text/plain": [
       "\u001b[2;36m[01/31/22 12:14:23]\u001b[0m\u001b[2;36m \u001b[0m\u001b[32mINFO    \u001b[0m Animation \u001b[32m8\u001b[0m : Partial movie file        \u001b]8;id=516858;file://C:\\Users\\thoma\\AppData\\Local\\Programs\\Python\\Python39\\lib\\site-packages\\manim\\scene\\scene_file_writer.py\u001b\\\u001b[2mscene_file_writer.py\u001b[0m\u001b]8;;\u001b\\\u001b[2m:\u001b[0m\u001b]8;id=358433;file://C:\\Users\\thoma\\AppData\\Local\\Programs\\Python\\Python39\\lib\\site-packages\\manim\\scene\\scene_file_writer.py#514\u001b\\\u001b[2m514\u001b[0m\u001b]8;;\u001b\\\n",
       "                             written in \u001b[32m'c:\\Users\\thoma\\Desktop\\Apre\u001b[0m                         \n",
       "                             \u001b[32mndizado\\Manim\\media\\videos\\Manim\\720p30\u001b[0m                         \n",
       "                             \u001b[32m\\partial_movie_files\\Tute1\\1353618911_4\u001b[0m                         \n",
       "                             \u001b[32m164081770_1152897384.mp4'\u001b[0m                                       \n"
      ]
     },
     "metadata": {},
     "output_type": "display_data"
    },
    {
     "data": {
      "text/html": [
       "<pre style=\"white-space:pre;overflow-x:auto;line-height:normal;font-family:Menlo,'DejaVu Sans Mono',consolas,'Courier New',monospace\"><span style=\"color: #7fbfbf; text-decoration-color: #7fbfbf\">[01/31/22 12:14:24] </span><span style=\"color: #008000; text-decoration-color: #008000\">INFO    </span> Animation <span style=\"color: #008000; text-decoration-color: #008000\">9</span> : Partial movie file        <a href=\"file://C:\\Users\\thoma\\AppData\\Local\\Programs\\Python\\Python39\\lib\\site-packages\\manim\\scene\\scene_file_writer.py\"><span style=\"color: #7f7f7f; text-decoration-color: #7f7f7f\">scene_file_writer.py</span></a><span style=\"color: #7f7f7f; text-decoration-color: #7f7f7f\">:</span><a href=\"file://C:\\Users\\thoma\\AppData\\Local\\Programs\\Python\\Python39\\lib\\site-packages\\manim\\scene\\scene_file_writer.py#514\"><span style=\"color: #7f7f7f; text-decoration-color: #7f7f7f\">514</span></a>\n",
       "                             written in <span style=\"color: #008000; text-decoration-color: #008000\">'c:\\Users\\thoma\\Desktop\\Apre</span>                         \n",
       "                             <span style=\"color: #008000; text-decoration-color: #008000\">ndizado\\Manim\\media\\videos\\Manim\\720p30</span>                         \n",
       "                             <span style=\"color: #008000; text-decoration-color: #008000\">\\partial_movie_files\\Tute1\\1353618911_3</span>                         \n",
       "                             <span style=\"color: #008000; text-decoration-color: #008000\">493041802_1478582026.mp4'</span>                                       \n",
       "</pre>\n"
      ],
      "text/plain": [
       "\u001b[2;36m[01/31/22 12:14:24]\u001b[0m\u001b[2;36m \u001b[0m\u001b[32mINFO    \u001b[0m Animation \u001b[32m9\u001b[0m : Partial movie file        \u001b]8;id=609687;file://C:\\Users\\thoma\\AppData\\Local\\Programs\\Python\\Python39\\lib\\site-packages\\manim\\scene\\scene_file_writer.py\u001b\\\u001b[2mscene_file_writer.py\u001b[0m\u001b]8;;\u001b\\\u001b[2m:\u001b[0m\u001b]8;id=28441;file://C:\\Users\\thoma\\AppData\\Local\\Programs\\Python\\Python39\\lib\\site-packages\\manim\\scene\\scene_file_writer.py#514\u001b\\\u001b[2m514\u001b[0m\u001b]8;;\u001b\\\n",
       "                             written in \u001b[32m'c:\\Users\\thoma\\Desktop\\Apre\u001b[0m                         \n",
       "                             \u001b[32mndizado\\Manim\\media\\videos\\Manim\\720p30\u001b[0m                         \n",
       "                             \u001b[32m\\partial_movie_files\\Tute1\\1353618911_3\u001b[0m                         \n",
       "                             \u001b[32m493041802_1478582026.mp4'\u001b[0m                                       \n"
      ]
     },
     "metadata": {},
     "output_type": "display_data"
    },
    {
     "data": {
      "text/html": [
       "<pre style=\"white-space:pre;overflow-x:auto;line-height:normal;font-family:Menlo,'DejaVu Sans Mono',consolas,'Courier New',monospace\"><span style=\"color: #7fbfbf; text-decoration-color: #7fbfbf\">                    </span><span style=\"color: #008000; text-decoration-color: #008000\">INFO    </span> Animation <span style=\"color: #008000; text-decoration-color: #008000\">10</span> : Partial movie file       <a href=\"file://C:\\Users\\thoma\\AppData\\Local\\Programs\\Python\\Python39\\lib\\site-packages\\manim\\scene\\scene_file_writer.py\"><span style=\"color: #7f7f7f; text-decoration-color: #7f7f7f\">scene_file_writer.py</span></a><span style=\"color: #7f7f7f; text-decoration-color: #7f7f7f\">:</span><a href=\"file://C:\\Users\\thoma\\AppData\\Local\\Programs\\Python\\Python39\\lib\\site-packages\\manim\\scene\\scene_file_writer.py#514\"><span style=\"color: #7f7f7f; text-decoration-color: #7f7f7f\">514</span></a>\n",
       "                             written in <span style=\"color: #008000; text-decoration-color: #008000\">'c:\\Users\\thoma\\Desktop\\Apre</span>                         \n",
       "                             <span style=\"color: #008000; text-decoration-color: #008000\">ndizado\\Manim\\media\\videos\\Manim\\720p30</span>                         \n",
       "                             <span style=\"color: #008000; text-decoration-color: #008000\">\\partial_movie_files\\Tute1\\1353618911_3</span>                         \n",
       "                             <span style=\"color: #008000; text-decoration-color: #008000\">98514950_2554149860.mp4'</span>                                        \n",
       "</pre>\n"
      ],
      "text/plain": [
       "\u001b[2;36m                   \u001b[0m\u001b[2;36m \u001b[0m\u001b[32mINFO    \u001b[0m Animation \u001b[32m10\u001b[0m : Partial movie file       \u001b]8;id=344210;file://C:\\Users\\thoma\\AppData\\Local\\Programs\\Python\\Python39\\lib\\site-packages\\manim\\scene\\scene_file_writer.py\u001b\\\u001b[2mscene_file_writer.py\u001b[0m\u001b]8;;\u001b\\\u001b[2m:\u001b[0m\u001b]8;id=923547;file://C:\\Users\\thoma\\AppData\\Local\\Programs\\Python\\Python39\\lib\\site-packages\\manim\\scene\\scene_file_writer.py#514\u001b\\\u001b[2m514\u001b[0m\u001b]8;;\u001b\\\n",
       "                             written in \u001b[32m'c:\\Users\\thoma\\Desktop\\Apre\u001b[0m                         \n",
       "                             \u001b[32mndizado\\Manim\\media\\videos\\Manim\\720p30\u001b[0m                         \n",
       "                             \u001b[32m\\partial_movie_files\\Tute1\\1353618911_3\u001b[0m                         \n",
       "                             \u001b[32m98514950_2554149860.mp4'\u001b[0m                                        \n"
      ]
     },
     "metadata": {},
     "output_type": "display_data"
    },
    {
     "name": "stderr",
     "output_type": "stream",
     "text": [
      "                                                                                                        \r"
     ]
    },
    {
     "data": {
      "text/html": [
       "<pre style=\"white-space:pre;overflow-x:auto;line-height:normal;font-family:Menlo,'DejaVu Sans Mono',consolas,'Courier New',monospace\"><span style=\"color: #7fbfbf; text-decoration-color: #7fbfbf\">[01/31/22 12:14:29] </span><span style=\"color: #008000; text-decoration-color: #008000\">INFO    </span> Animation <span style=\"color: #008000; text-decoration-color: #008000\">11</span> : Partial movie file       <a href=\"file://C:\\Users\\thoma\\AppData\\Local\\Programs\\Python\\Python39\\lib\\site-packages\\manim\\scene\\scene_file_writer.py\"><span style=\"color: #7f7f7f; text-decoration-color: #7f7f7f\">scene_file_writer.py</span></a><span style=\"color: #7f7f7f; text-decoration-color: #7f7f7f\">:</span><a href=\"file://C:\\Users\\thoma\\AppData\\Local\\Programs\\Python\\Python39\\lib\\site-packages\\manim\\scene\\scene_file_writer.py#514\"><span style=\"color: #7f7f7f; text-decoration-color: #7f7f7f\">514</span></a>\n",
       "                             written in <span style=\"color: #008000; text-decoration-color: #008000\">'c:\\Users\\thoma\\Desktop\\Apre</span>                         \n",
       "                             <span style=\"color: #008000; text-decoration-color: #008000\">ndizado\\Manim\\media\\videos\\Manim\\720p30</span>                         \n",
       "                             <span style=\"color: #008000; text-decoration-color: #008000\">\\partial_movie_files\\Tute1\\1353618911_2</span>                         \n",
       "                             <span style=\"color: #008000; text-decoration-color: #008000\">809329173_79025631.mp4'</span>                                         \n",
       "</pre>\n"
      ],
      "text/plain": [
       "\u001b[2;36m[01/31/22 12:14:29]\u001b[0m\u001b[2;36m \u001b[0m\u001b[32mINFO    \u001b[0m Animation \u001b[32m11\u001b[0m : Partial movie file       \u001b]8;id=168682;file://C:\\Users\\thoma\\AppData\\Local\\Programs\\Python\\Python39\\lib\\site-packages\\manim\\scene\\scene_file_writer.py\u001b\\\u001b[2mscene_file_writer.py\u001b[0m\u001b]8;;\u001b\\\u001b[2m:\u001b[0m\u001b]8;id=843657;file://C:\\Users\\thoma\\AppData\\Local\\Programs\\Python\\Python39\\lib\\site-packages\\manim\\scene\\scene_file_writer.py#514\u001b\\\u001b[2m514\u001b[0m\u001b]8;;\u001b\\\n",
       "                             written in \u001b[32m'c:\\Users\\thoma\\Desktop\\Apre\u001b[0m                         \n",
       "                             \u001b[32mndizado\\Manim\\media\\videos\\Manim\\720p30\u001b[0m                         \n",
       "                             \u001b[32m\\partial_movie_files\\Tute1\\1353618911_2\u001b[0m                         \n",
       "                             \u001b[32m809329173_79025631.mp4'\u001b[0m                                         \n"
      ]
     },
     "metadata": {},
     "output_type": "display_data"
    },
    {
     "data": {
      "text/html": [
       "<pre style=\"white-space:pre;overflow-x:auto;line-height:normal;font-family:Menlo,'DejaVu Sans Mono',consolas,'Courier New',monospace\"><span style=\"color: #7fbfbf; text-decoration-color: #7fbfbf\">                    </span><span style=\"color: #008000; text-decoration-color: #008000\">INFO    </span> Animation <span style=\"color: #008000; text-decoration-color: #008000\">12</span> : Partial movie file       <a href=\"file://C:\\Users\\thoma\\AppData\\Local\\Programs\\Python\\Python39\\lib\\site-packages\\manim\\scene\\scene_file_writer.py\"><span style=\"color: #7f7f7f; text-decoration-color: #7f7f7f\">scene_file_writer.py</span></a><span style=\"color: #7f7f7f; text-decoration-color: #7f7f7f\">:</span><a href=\"file://C:\\Users\\thoma\\AppData\\Local\\Programs\\Python\\Python39\\lib\\site-packages\\manim\\scene\\scene_file_writer.py#514\"><span style=\"color: #7f7f7f; text-decoration-color: #7f7f7f\">514</span></a>\n",
       "                             written in <span style=\"color: #008000; text-decoration-color: #008000\">'c:\\Users\\thoma\\Desktop\\Apre</span>                         \n",
       "                             <span style=\"color: #008000; text-decoration-color: #008000\">ndizado\\Manim\\media\\videos\\Manim\\720p30</span>                         \n",
       "                             <span style=\"color: #008000; text-decoration-color: #008000\">\\partial_movie_files\\Tute1\\1353618911_3</span>                         \n",
       "                             <span style=\"color: #008000; text-decoration-color: #008000\">493041802_3613270654.mp4'</span>                                       \n",
       "</pre>\n"
      ],
      "text/plain": [
       "\u001b[2;36m                   \u001b[0m\u001b[2;36m \u001b[0m\u001b[32mINFO    \u001b[0m Animation \u001b[32m12\u001b[0m : Partial movie file       \u001b]8;id=251598;file://C:\\Users\\thoma\\AppData\\Local\\Programs\\Python\\Python39\\lib\\site-packages\\manim\\scene\\scene_file_writer.py\u001b\\\u001b[2mscene_file_writer.py\u001b[0m\u001b]8;;\u001b\\\u001b[2m:\u001b[0m\u001b]8;id=934228;file://C:\\Users\\thoma\\AppData\\Local\\Programs\\Python\\Python39\\lib\\site-packages\\manim\\scene\\scene_file_writer.py#514\u001b\\\u001b[2m514\u001b[0m\u001b]8;;\u001b\\\n",
       "                             written in \u001b[32m'c:\\Users\\thoma\\Desktop\\Apre\u001b[0m                         \n",
       "                             \u001b[32mndizado\\Manim\\media\\videos\\Manim\\720p30\u001b[0m                         \n",
       "                             \u001b[32m\\partial_movie_files\\Tute1\\1353618911_3\u001b[0m                         \n",
       "                             \u001b[32m493041802_3613270654.mp4'\u001b[0m                                       \n"
      ]
     },
     "metadata": {},
     "output_type": "display_data"
    },
    {
     "data": {
      "text/html": [
       "<pre style=\"white-space:pre;overflow-x:auto;line-height:normal;font-family:Menlo,'DejaVu Sans Mono',consolas,'Courier New',monospace\"><span style=\"color: #7fbfbf; text-decoration-color: #7fbfbf\">                    </span><span style=\"color: #008000; text-decoration-color: #008000\">INFO    </span> Combining to Movie file.                <a href=\"file://C:\\Users\\thoma\\AppData\\Local\\Programs\\Python\\Python39\\lib\\site-packages\\manim\\scene\\scene_file_writer.py\"><span style=\"color: #7f7f7f; text-decoration-color: #7f7f7f\">scene_file_writer.py</span></a><span style=\"color: #7f7f7f; text-decoration-color: #7f7f7f\">:</span><a href=\"file://C:\\Users\\thoma\\AppData\\Local\\Programs\\Python\\Python39\\lib\\site-packages\\manim\\scene\\scene_file_writer.py#608\"><span style=\"color: #7f7f7f; text-decoration-color: #7f7f7f\">608</span></a>\n",
       "</pre>\n"
      ],
      "text/plain": [
       "\u001b[2;36m                   \u001b[0m\u001b[2;36m \u001b[0m\u001b[32mINFO    \u001b[0m Combining to Movie file.                \u001b]8;id=861958;file://C:\\Users\\thoma\\AppData\\Local\\Programs\\Python\\Python39\\lib\\site-packages\\manim\\scene\\scene_file_writer.py\u001b\\\u001b[2mscene_file_writer.py\u001b[0m\u001b]8;;\u001b\\\u001b[2m:\u001b[0m\u001b]8;id=254801;file://C:\\Users\\thoma\\AppData\\Local\\Programs\\Python\\Python39\\lib\\site-packages\\manim\\scene\\scene_file_writer.py#608\u001b\\\u001b[2m608\u001b[0m\u001b]8;;\u001b\\\n"
      ]
     },
     "metadata": {},
     "output_type": "display_data"
    },
    {
     "data": {
      "text/html": [
       "<pre style=\"white-space:pre;overflow-x:auto;line-height:normal;font-family:Menlo,'DejaVu Sans Mono',consolas,'Courier New',monospace\"><span style=\"color: #7fbfbf; text-decoration-color: #7fbfbf\">[01/31/22 12:14:30] </span><span style=\"color: #008000; text-decoration-color: #008000\">INFO    </span>                                         <a href=\"file://C:\\Users\\thoma\\AppData\\Local\\Programs\\Python\\Python39\\lib\\site-packages\\manim\\scene\\scene_file_writer.py\"><span style=\"color: #7f7f7f; text-decoration-color: #7f7f7f\">scene_file_writer.py</span></a><span style=\"color: #7f7f7f; text-decoration-color: #7f7f7f\">:</span><a href=\"file://C:\\Users\\thoma\\AppData\\Local\\Programs\\Python\\Python39\\lib\\site-packages\\manim\\scene\\scene_file_writer.py#729\"><span style=\"color: #7f7f7f; text-decoration-color: #7f7f7f\">729</span></a>\n",
       "                             <span style=\"color: #808000; text-decoration-color: #808000; font-weight: bold\">File</span> ready at <span style=\"color: #008000; text-decoration-color: #008000\">'c:\\Users\\thoma\\Desktop\\A</span>                         \n",
       "                             <span style=\"color: #008000; text-decoration-color: #008000\">prendizado\\Manim\\media\\videos\\Manim\\720</span>                         \n",
       "                             <span style=\"color: #008000; text-decoration-color: #008000\">p30\\Tute1.mp4'</span>                                                  \n",
       "                                                                                             \n",
       "</pre>\n"
      ],
      "text/plain": [
       "\u001b[2;36m[01/31/22 12:14:30]\u001b[0m\u001b[2;36m \u001b[0m\u001b[32mINFO    \u001b[0m                                         \u001b]8;id=607353;file://C:\\Users\\thoma\\AppData\\Local\\Programs\\Python\\Python39\\lib\\site-packages\\manim\\scene\\scene_file_writer.py\u001b\\\u001b[2mscene_file_writer.py\u001b[0m\u001b]8;;\u001b\\\u001b[2m:\u001b[0m\u001b]8;id=129844;file://C:\\Users\\thoma\\AppData\\Local\\Programs\\Python\\Python39\\lib\\site-packages\\manim\\scene\\scene_file_writer.py#729\u001b\\\u001b[2m729\u001b[0m\u001b]8;;\u001b\\\n",
       "                             \u001b[1;33mFile\u001b[0m ready at \u001b[32m'c:\\Users\\thoma\\Desktop\\A\u001b[0m                         \n",
       "                             \u001b[32mprendizado\\Manim\\media\\videos\\Manim\\720\u001b[0m                         \n",
       "                             \u001b[32mp30\\Tute1.mp4'\u001b[0m                                                  \n",
       "                                                                                             \n"
      ]
     },
     "metadata": {},
     "output_type": "display_data"
    },
    {
     "data": {
      "text/html": [
       "<pre style=\"white-space:pre;overflow-x:auto;line-height:normal;font-family:Menlo,'DejaVu Sans Mono',consolas,'Courier New',monospace\"><span style=\"color: #7fbfbf; text-decoration-color: #7fbfbf\">                    </span><span style=\"color: #008000; text-decoration-color: #008000\">INFO    </span> <span style=\"color: #808000; text-decoration-color: #808000; font-weight: bold\">Rendered</span> Tute1                                      <a href=\"file://C:\\Users\\thoma\\AppData\\Local\\Programs\\Python\\Python39\\lib\\site-packages\\manim\\scene\\scene.py\"><span style=\"color: #7f7f7f; text-decoration-color: #7f7f7f\">scene.py</span></a><span style=\"color: #7f7f7f; text-decoration-color: #7f7f7f\">:</span><a href=\"file://C:\\Users\\thoma\\AppData\\Local\\Programs\\Python\\Python39\\lib\\site-packages\\manim\\scene\\scene.py#237\"><span style=\"color: #7f7f7f; text-decoration-color: #7f7f7f\">237</span></a>\n",
       "                             <span style=\"color: #808000; text-decoration-color: #808000; font-weight: bold\">Played</span> <span style=\"color: #008000; text-decoration-color: #008000\">13</span> <span style=\"color: #808000; text-decoration-color: #808000; font-weight: bold\">animations</span>                                            \n",
       "</pre>\n"
      ],
      "text/plain": [
       "\u001b[2;36m                   \u001b[0m\u001b[2;36m \u001b[0m\u001b[32mINFO    \u001b[0m \u001b[1;33mRendered\u001b[0m Tute1                                      \u001b]8;id=630422;file://C:\\Users\\thoma\\AppData\\Local\\Programs\\Python\\Python39\\lib\\site-packages\\manim\\scene\\scene.py\u001b\\\u001b[2mscene.py\u001b[0m\u001b]8;;\u001b\\\u001b[2m:\u001b[0m\u001b]8;id=547927;file://C:\\Users\\thoma\\AppData\\Local\\Programs\\Python\\Python39\\lib\\site-packages\\manim\\scene\\scene.py#237\u001b\\\u001b[2m237\u001b[0m\u001b]8;;\u001b\\\n",
       "                             \u001b[1;33mPlayed\u001b[0m \u001b[32m13\u001b[0m \u001b[1;33manimations\u001b[0m                                            \n"
      ]
     },
     "metadata": {},
     "output_type": "display_data"
    },
    {
     "data": {
      "text/html": [
       "<video src=\"media\\jupyter\\Tute1@2022-01-31@12-14-30.mp4\" controls autoplay loop style=\"max-width: 60%;\"  >\n",
       "      Your browser does not support the <code>video</code> element.\n",
       "    </video>"
      ],
      "text/plain": [
       "<IPython.core.display.Video object>"
      ]
     },
     "metadata": {},
     "output_type": "display_data"
    }
   ],
   "source": [
    "%%manim -qm Tute1\n",
    "\n",
    "class Tute1(Scene):\n",
    "    def construct(self):\n",
    "\n",
    "        plane = NumberPlane(\n",
    "            x_range=[-5, 5, 1], y_range=[-4, 4, 1], x_length=10, y_length=7\n",
    "        )\n",
    "        plane.add_coordinates()\n",
    "        plane.shift(RIGHT * 2)\n",
    "\n",
    "        vect1 = Line(\n",
    "            start=plane.coords_to_point(0, 0),\n",
    "            end=plane.coords_to_point(3, 2),\n",
    "            stroke_color=YELLOW,\n",
    "        ).add_tip()\n",
    "        vect1_name = (\n",
    "            MathTex(\"\\\\vec{v}\").next_to(vect1, RIGHT, buff=0.1).set_color(YELLOW)\n",
    "        )\n",
    "\n",
    "        vect2 = Line(\n",
    "            start=plane.coords_to_point(0, 0),\n",
    "            end=plane.coords_to_point(-2, 1),\n",
    "            stroke_color=RED,\n",
    "        ).add_tip()\n",
    "        vect2_name = MathTex(\"\\\\vec{w}\").next_to(vect2, LEFT, buff=0.1).set_color(RED)\n",
    "\n",
    "        vect3 = Line(\n",
    "            start=plane.coords_to_point(3, 2),\n",
    "            end=plane.coords_to_point(1, 3),\n",
    "            stroke_color=RED,\n",
    "        ).add_tip()\n",
    "\n",
    "        vect4 = Line(\n",
    "            start=plane.coords_to_point(0, 0),\n",
    "            end=plane.coords_to_point(1, 3),\n",
    "            stroke_color=GREEN,\n",
    "        ).add_tip()\n",
    "        vect4_name = (\n",
    "            MathTex(\"\\\\vec{v} + \\\\vec{w}\")\n",
    "            .next_to(vect4, LEFT, buff=0.1)\n",
    "            .set_color(GREEN)\n",
    "        )\n",
    "\n",
    "        stuff = VGroup(\n",
    "            plane, vect1, vect1_name, vect2, vect2_name, vect3, vect4, vect4_name\n",
    "        )\n",
    "\n",
    "        box = RoundedRectangle(\n",
    "            height=1.5, width=1.5, corner_radius=0.1, stroke_color=PINK\n",
    "        ).to_edge(DL)\n",
    "\n",
    "        self.play(DrawBorderThenFill(plane), run_time=2)\n",
    "        self.wait()\n",
    "        self.play(\n",
    "            GrowFromPoint(vect1, point=vect1.get_start()), Write(vect1_name), run_time=2\n",
    "        )\n",
    "        self.wait()\n",
    "        self.play(\n",
    "            GrowFromPoint(vect2, point=vect2.get_start()), Write(vect2_name), run_time=2\n",
    "        )\n",
    "        self.wait()\n",
    "        self.play(\n",
    "            Transform(vect2, vect3),\n",
    "            vect2_name.animate.next_to(vect3, UP, buff=0.1),\n",
    "            run_time=2,\n",
    "        )\n",
    "        self.wait()\n",
    "        self.play(\n",
    "            LaggedStart(GrowFromPoint(vect4, point=vect4.get_start())),\n",
    "            Write(vect4_name),\n",
    "            run_time=3,\n",
    "            lag_ratio=1,\n",
    "        )\n",
    "        self.wait()\n",
    "        self.add(box)\n",
    "        self.wait()\n",
    "        self.play(stuff.animate.move_to(box.get_center()).set(width=1.2), run_time=3)\n",
    "        self.wait()"
   ]
  }
 ],
 "metadata": {
  "interpreter": {
   "hash": "4badd61a3eb0a98b49024dc08b6e569de2eac3230396ff1e691db44e3b600cf6"
  },
  "kernelspec": {
   "display_name": "Python 3.9.9 64-bit",
   "language": "python",
   "name": "python3"
  },
  "language_info": {
   "codemirror_mode": {
    "name": "ipython",
    "version": 3
   },
   "file_extension": ".py",
   "mimetype": "text/x-python",
   "name": "python",
   "nbconvert_exporter": "python",
   "pygments_lexer": "ipython3",
   "version": "3.9.9"
  },
  "orig_nbformat": 4
 },
 "nbformat": 4,
 "nbformat_minor": 2
}
