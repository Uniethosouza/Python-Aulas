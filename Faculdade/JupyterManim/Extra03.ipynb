{
 "cells": [
  {
   "cell_type": "code",
   "execution_count": 1,
   "metadata": {},
   "outputs": [
    {
     "data": {
      "text/html": [
       "<pre style=\"white-space:pre;overflow-x:auto;line-height:normal;font-family:Menlo,'DejaVu Sans Mono',consolas,'Courier New',monospace\">Manim Community <span style=\"color: #008000; text-decoration-color: #008000\">v0.13.1</span>\n",
       "\n",
       "</pre>\n"
      ],
      "text/plain": [
       "Manim Community \u001b[32mv0.\u001b[0m\u001b[32m13.1\u001b[0m\n",
       "\n"
      ]
     },
     "metadata": {},
     "output_type": "display_data"
    }
   ],
   "source": [
    "from manim import *"
   ]
  },
  {
   "cell_type": "code",
   "execution_count": 2,
   "metadata": {},
   "outputs": [
    {
     "data": {
      "text/html": [
       "<pre style=\"white-space:pre;overflow-x:auto;line-height:normal;font-family:Menlo,'DejaVu Sans Mono',consolas,'Courier New',monospace\"><span style=\"color: #7fbfbf; text-decoration-color: #7fbfbf\">[01/31/22 12:29:01] </span><span style=\"color: #800000; text-decoration-color: #800000\">WARNING </span> The method CoordinateSystem.get_graph has     <a href=\"file://C:\\Users\\thoma\\AppData\\Local\\Programs\\Python\\Python39\\lib\\site-packages\\manim\\utils\\deprecation.py\"><span style=\"color: #7f7f7f; text-decoration-color: #7f7f7f\">deprecation.py</span></a><span style=\"color: #7f7f7f; text-decoration-color: #7f7f7f\">:</span><a href=\"file://C:\\Users\\thoma\\AppData\\Local\\Programs\\Python\\Python39\\lib\\site-packages\\manim\\utils\\deprecation.py#210\"><span style=\"color: #7f7f7f; text-decoration-color: #7f7f7f\">210</span></a>\n",
       "                             been deprecated since v0.<span style=\"color: #008000; text-decoration-color: #008000\">11.0</span> and is expected                   \n",
       "                             to be removed after v0.<span style=\"color: #008000; text-decoration-color: #008000\">13.0</span>. Use plot                           \n",
       "                             instead.                                                        \n",
       "</pre>\n"
      ],
      "text/plain": [
       "\u001b[2;36m[01/31/22 12:29:01]\u001b[0m\u001b[2;36m \u001b[0m\u001b[31mWARNING \u001b[0m The method CoordinateSystem.get_graph has     \u001b]8;id=966060;file://C:\\Users\\thoma\\AppData\\Local\\Programs\\Python\\Python39\\lib\\site-packages\\manim\\utils\\deprecation.py\u001b\\\u001b[2mdeprecation.py\u001b[0m\u001b]8;;\u001b\\\u001b[2m:\u001b[0m\u001b]8;id=942441;file://C:\\Users\\thoma\\AppData\\Local\\Programs\\Python\\Python39\\lib\\site-packages\\manim\\utils\\deprecation.py#210\u001b\\\u001b[2m210\u001b[0m\u001b]8;;\u001b\\\n",
       "                             been deprecated since v0.\u001b[32m11.0\u001b[0m and is expected                   \n",
       "                             to be removed after v0.\u001b[32m13.0\u001b[0m. Use plot                           \n",
       "                             instead.                                                        \n"
      ]
     },
     "metadata": {},
     "output_type": "display_data"
    },
    {
     "data": {
      "text/html": [
       "<pre style=\"white-space:pre;overflow-x:auto;line-height:normal;font-family:Menlo,'DejaVu Sans Mono',consolas,'Courier New',monospace\"><span style=\"color: #7fbfbf; text-decoration-color: #7fbfbf\">                    </span><span style=\"color: #800000; text-decoration-color: #800000\">WARNING </span> The method                                    <a href=\"file://C:\\Users\\thoma\\AppData\\Local\\Programs\\Python\\Python39\\lib\\site-packages\\manim\\utils\\deprecation.py\"><span style=\"color: #7f7f7f; text-decoration-color: #7f7f7f\">deprecation.py</span></a><span style=\"color: #7f7f7f; text-decoration-color: #7f7f7f\">:</span><a href=\"file://C:\\Users\\thoma\\AppData\\Local\\Programs\\Python\\Python39\\lib\\site-packages\\manim\\utils\\deprecation.py#210\"><span style=\"color: #7f7f7f; text-decoration-color: #7f7f7f\">210</span></a>\n",
       "                             CoordinateSystem.get_parametric_curve has                       \n",
       "                             been deprecated since v0.<span style=\"color: #008000; text-decoration-color: #008000\">11.0</span> and is expected                   \n",
       "                             to be removed after v0.<span style=\"color: #008000; text-decoration-color: #008000\">13.0</span>. Use                                \n",
       "                             plot_parametric_curve instead.                                  \n",
       "</pre>\n"
      ],
      "text/plain": [
       "\u001b[2;36m                   \u001b[0m\u001b[2;36m \u001b[0m\u001b[31mWARNING \u001b[0m The method                                    \u001b]8;id=46618;file://C:\\Users\\thoma\\AppData\\Local\\Programs\\Python\\Python39\\lib\\site-packages\\manim\\utils\\deprecation.py\u001b\\\u001b[2mdeprecation.py\u001b[0m\u001b]8;;\u001b\\\u001b[2m:\u001b[0m\u001b]8;id=743200;file://C:\\Users\\thoma\\AppData\\Local\\Programs\\Python\\Python39\\lib\\site-packages\\manim\\utils\\deprecation.py#210\u001b\\\u001b[2m210\u001b[0m\u001b]8;;\u001b\\\n",
       "                             CoordinateSystem.get_parametric_curve has                       \n",
       "                             been deprecated since v0.\u001b[32m11.0\u001b[0m and is expected                   \n",
       "                             to be removed after v0.\u001b[32m13.0\u001b[0m. Use                                \n",
       "                             plot_parametric_curve instead.                                  \n"
      ]
     },
     "metadata": {},
     "output_type": "display_data"
    },
    {
     "data": {
      "text/html": [
       "<pre style=\"white-space:pre;overflow-x:auto;line-height:normal;font-family:Menlo,'DejaVu Sans Mono',consolas,'Courier New',monospace\"><span style=\"color: #7fbfbf; text-decoration-color: #7fbfbf\">[01/31/22 12:29:03] </span><span style=\"color: #008000; text-decoration-color: #008000\">INFO    </span> Animation <span style=\"color: #008000; text-decoration-color: #008000\">0</span> : Partial movie file        <a href=\"file://C:\\Users\\thoma\\AppData\\Local\\Programs\\Python\\Python39\\lib\\site-packages\\manim\\scene\\scene_file_writer.py\"><span style=\"color: #7f7f7f; text-decoration-color: #7f7f7f\">scene_file_writer.py</span></a><span style=\"color: #7f7f7f; text-decoration-color: #7f7f7f\">:</span><a href=\"file://C:\\Users\\thoma\\AppData\\Local\\Programs\\Python\\Python39\\lib\\site-packages\\manim\\scene\\scene_file_writer.py#514\"><span style=\"color: #7f7f7f; text-decoration-color: #7f7f7f\">514</span></a>\n",
       "                             written in <span style=\"color: #008000; text-decoration-color: #008000\">'c:\\Users\\thoma\\Desktop\\Apre</span>                         \n",
       "                             <span style=\"color: #008000; text-decoration-color: #008000\">ndizado\\Manim\\media\\videos\\Manim\\720p30</span>                         \n",
       "                             <span style=\"color: #008000; text-decoration-color: #008000\">\\partial_movie_files\\Tute1\\3822680512_1</span>                         \n",
       "                             <span style=\"color: #008000; text-decoration-color: #008000\">515588106_519747562.mp4'</span>                                        \n",
       "</pre>\n"
      ],
      "text/plain": [
       "\u001b[2;36m[01/31/22 12:29:03]\u001b[0m\u001b[2;36m \u001b[0m\u001b[32mINFO    \u001b[0m Animation \u001b[32m0\u001b[0m : Partial movie file        \u001b]8;id=158859;file://C:\\Users\\thoma\\AppData\\Local\\Programs\\Python\\Python39\\lib\\site-packages\\manim\\scene\\scene_file_writer.py\u001b\\\u001b[2mscene_file_writer.py\u001b[0m\u001b]8;;\u001b\\\u001b[2m:\u001b[0m\u001b]8;id=340027;file://C:\\Users\\thoma\\AppData\\Local\\Programs\\Python\\Python39\\lib\\site-packages\\manim\\scene\\scene_file_writer.py#514\u001b\\\u001b[2m514\u001b[0m\u001b]8;;\u001b\\\n",
       "                             written in \u001b[32m'c:\\Users\\thoma\\Desktop\\Apre\u001b[0m                         \n",
       "                             \u001b[32mndizado\\Manim\\media\\videos\\Manim\\720p30\u001b[0m                         \n",
       "                             \u001b[32m\\partial_movie_files\\Tute1\\3822680512_1\u001b[0m                         \n",
       "                             \u001b[32m515588106_519747562.mp4'\u001b[0m                                        \n"
      ]
     },
     "metadata": {},
     "output_type": "display_data"
    },
    {
     "name": "stderr",
     "output_type": "stream",
     "text": [
      "                                                                                            \r"
     ]
    },
    {
     "data": {
      "text/html": [
       "<pre style=\"white-space:pre;overflow-x:auto;line-height:normal;font-family:Menlo,'DejaVu Sans Mono',consolas,'Courier New',monospace\"><span style=\"color: #7fbfbf; text-decoration-color: #7fbfbf\">[01/31/22 12:29:11] </span><span style=\"color: #008000; text-decoration-color: #008000\">INFO    </span> Animation <span style=\"color: #008000; text-decoration-color: #008000\">1</span> : Partial movie file        <a href=\"file://C:\\Users\\thoma\\AppData\\Local\\Programs\\Python\\Python39\\lib\\site-packages\\manim\\scene\\scene_file_writer.py\"><span style=\"color: #7f7f7f; text-decoration-color: #7f7f7f\">scene_file_writer.py</span></a><span style=\"color: #7f7f7f; text-decoration-color: #7f7f7f\">:</span><a href=\"file://C:\\Users\\thoma\\AppData\\Local\\Programs\\Python\\Python39\\lib\\site-packages\\manim\\scene\\scene_file_writer.py#514\"><span style=\"color: #7f7f7f; text-decoration-color: #7f7f7f\">514</span></a>\n",
       "                             written in <span style=\"color: #008000; text-decoration-color: #008000\">'c:\\Users\\thoma\\Desktop\\Apre</span>                         \n",
       "                             <span style=\"color: #008000; text-decoration-color: #008000\">ndizado\\Manim\\media\\videos\\Manim\\720p30</span>                         \n",
       "                             <span style=\"color: #008000; text-decoration-color: #008000\">\\partial_movie_files\\Tute1\\954304048_75</span>                         \n",
       "                             <span style=\"color: #008000; text-decoration-color: #008000\">5552562_1059908866.mp4'</span>                                         \n",
       "</pre>\n"
      ],
      "text/plain": [
       "\u001b[2;36m[01/31/22 12:29:11]\u001b[0m\u001b[2;36m \u001b[0m\u001b[32mINFO    \u001b[0m Animation \u001b[32m1\u001b[0m : Partial movie file        \u001b]8;id=550273;file://C:\\Users\\thoma\\AppData\\Local\\Programs\\Python\\Python39\\lib\\site-packages\\manim\\scene\\scene_file_writer.py\u001b\\\u001b[2mscene_file_writer.py\u001b[0m\u001b]8;;\u001b\\\u001b[2m:\u001b[0m\u001b]8;id=784974;file://C:\\Users\\thoma\\AppData\\Local\\Programs\\Python\\Python39\\lib\\site-packages\\manim\\scene\\scene_file_writer.py#514\u001b\\\u001b[2m514\u001b[0m\u001b]8;;\u001b\\\n",
       "                             written in \u001b[32m'c:\\Users\\thoma\\Desktop\\Apre\u001b[0m                         \n",
       "                             \u001b[32mndizado\\Manim\\media\\videos\\Manim\\720p30\u001b[0m                         \n",
       "                             \u001b[32m\\partial_movie_files\\Tute1\\954304048_75\u001b[0m                         \n",
       "                             \u001b[32m5552562_1059908866.mp4'\u001b[0m                                         \n"
      ]
     },
     "metadata": {},
     "output_type": "display_data"
    },
    {
     "data": {
      "text/html": [
       "<pre style=\"white-space:pre;overflow-x:auto;line-height:normal;font-family:Menlo,'DejaVu Sans Mono',consolas,'Courier New',monospace\"><span style=\"color: #7fbfbf; text-decoration-color: #7fbfbf\">[01/31/22 12:29:12] </span><span style=\"color: #008000; text-decoration-color: #008000\">INFO    </span> Animation <span style=\"color: #008000; text-decoration-color: #008000\">2</span> : Partial movie file        <a href=\"file://C:\\Users\\thoma\\AppData\\Local\\Programs\\Python\\Python39\\lib\\site-packages\\manim\\scene\\scene_file_writer.py\"><span style=\"color: #7f7f7f; text-decoration-color: #7f7f7f\">scene_file_writer.py</span></a><span style=\"color: #7f7f7f; text-decoration-color: #7f7f7f\">:</span><a href=\"file://C:\\Users\\thoma\\AppData\\Local\\Programs\\Python\\Python39\\lib\\site-packages\\manim\\scene\\scene_file_writer.py#514\"><span style=\"color: #7f7f7f; text-decoration-color: #7f7f7f\">514</span></a>\n",
       "                             written in <span style=\"color: #008000; text-decoration-color: #008000\">'c:\\Users\\thoma\\Desktop\\Apre</span>                         \n",
       "                             <span style=\"color: #008000; text-decoration-color: #008000\">ndizado\\Manim\\media\\videos\\Manim\\720p30</span>                         \n",
       "                             <span style=\"color: #008000; text-decoration-color: #008000\">\\partial_movie_files\\Tute1\\4253379206_3</span>                         \n",
       "                             <span style=\"color: #008000; text-decoration-color: #008000\">493041802_2697697135.mp4'</span>                                       \n",
       "</pre>\n"
      ],
      "text/plain": [
       "\u001b[2;36m[01/31/22 12:29:12]\u001b[0m\u001b[2;36m \u001b[0m\u001b[32mINFO    \u001b[0m Animation \u001b[32m2\u001b[0m : Partial movie file        \u001b]8;id=960298;file://C:\\Users\\thoma\\AppData\\Local\\Programs\\Python\\Python39\\lib\\site-packages\\manim\\scene\\scene_file_writer.py\u001b\\\u001b[2mscene_file_writer.py\u001b[0m\u001b]8;;\u001b\\\u001b[2m:\u001b[0m\u001b]8;id=213160;file://C:\\Users\\thoma\\AppData\\Local\\Programs\\Python\\Python39\\lib\\site-packages\\manim\\scene\\scene_file_writer.py#514\u001b\\\u001b[2m514\u001b[0m\u001b]8;;\u001b\\\n",
       "                             written in \u001b[32m'c:\\Users\\thoma\\Desktop\\Apre\u001b[0m                         \n",
       "                             \u001b[32mndizado\\Manim\\media\\videos\\Manim\\720p30\u001b[0m                         \n",
       "                             \u001b[32m\\partial_movie_files\\Tute1\\4253379206_3\u001b[0m                         \n",
       "                             \u001b[32m493041802_2697697135.mp4'\u001b[0m                                       \n"
      ]
     },
     "metadata": {},
     "output_type": "display_data"
    },
    {
     "name": "stderr",
     "output_type": "stream",
     "text": [
      "                                                                                            \r"
     ]
    },
    {
     "data": {
      "text/html": [
       "<pre style=\"white-space:pre;overflow-x:auto;line-height:normal;font-family:Menlo,'DejaVu Sans Mono',consolas,'Courier New',monospace\"><span style=\"color: #7fbfbf; text-decoration-color: #7fbfbf\">[01/31/22 12:29:20] </span><span style=\"color: #008000; text-decoration-color: #008000\">INFO    </span> Animation <span style=\"color: #008000; text-decoration-color: #008000\">3</span> : Partial movie file        <a href=\"file://C:\\Users\\thoma\\AppData\\Local\\Programs\\Python\\Python39\\lib\\site-packages\\manim\\scene\\scene_file_writer.py\"><span style=\"color: #7f7f7f; text-decoration-color: #7f7f7f\">scene_file_writer.py</span></a><span style=\"color: #7f7f7f; text-decoration-color: #7f7f7f\">:</span><a href=\"file://C:\\Users\\thoma\\AppData\\Local\\Programs\\Python\\Python39\\lib\\site-packages\\manim\\scene\\scene_file_writer.py#514\"><span style=\"color: #7f7f7f; text-decoration-color: #7f7f7f\">514</span></a>\n",
       "                             written in <span style=\"color: #008000; text-decoration-color: #008000\">'c:\\Users\\thoma\\Desktop\\Apre</span>                         \n",
       "                             <span style=\"color: #008000; text-decoration-color: #008000\">ndizado\\Manim\\media\\videos\\Manim\\720p30</span>                         \n",
       "                             <span style=\"color: #008000; text-decoration-color: #008000\">\\partial_movie_files\\Tute1\\945011626_75</span>                         \n",
       "                             <span style=\"color: #008000; text-decoration-color: #008000\">5552562_1278240446.mp4'</span>                                         \n",
       "</pre>\n"
      ],
      "text/plain": [
       "\u001b[2;36m[01/31/22 12:29:20]\u001b[0m\u001b[2;36m \u001b[0m\u001b[32mINFO    \u001b[0m Animation \u001b[32m3\u001b[0m : Partial movie file        \u001b]8;id=587879;file://C:\\Users\\thoma\\AppData\\Local\\Programs\\Python\\Python39\\lib\\site-packages\\manim\\scene\\scene_file_writer.py\u001b\\\u001b[2mscene_file_writer.py\u001b[0m\u001b]8;;\u001b\\\u001b[2m:\u001b[0m\u001b]8;id=484574;file://C:\\Users\\thoma\\AppData\\Local\\Programs\\Python\\Python39\\lib\\site-packages\\manim\\scene\\scene_file_writer.py#514\u001b\\\u001b[2m514\u001b[0m\u001b]8;;\u001b\\\n",
       "                             written in \u001b[32m'c:\\Users\\thoma\\Desktop\\Apre\u001b[0m                         \n",
       "                             \u001b[32mndizado\\Manim\\media\\videos\\Manim\\720p30\u001b[0m                         \n",
       "                             \u001b[32m\\partial_movie_files\\Tute1\\945011626_75\u001b[0m                         \n",
       "                             \u001b[32m5552562_1278240446.mp4'\u001b[0m                                         \n"
      ]
     },
     "metadata": {},
     "output_type": "display_data"
    },
    {
     "name": "stderr",
     "output_type": "stream",
     "text": [
      "                                                          \r"
     ]
    },
    {
     "data": {
      "text/html": [
       "<pre style=\"white-space:pre;overflow-x:auto;line-height:normal;font-family:Menlo,'DejaVu Sans Mono',consolas,'Courier New',monospace\"><span style=\"color: #7fbfbf; text-decoration-color: #7fbfbf\">[01/31/22 12:29:30] </span><span style=\"color: #008000; text-decoration-color: #008000\">INFO    </span> Animation <span style=\"color: #008000; text-decoration-color: #008000\">4</span> : Partial movie file        <a href=\"file://C:\\Users\\thoma\\AppData\\Local\\Programs\\Python\\Python39\\lib\\site-packages\\manim\\scene\\scene_file_writer.py\"><span style=\"color: #7f7f7f; text-decoration-color: #7f7f7f\">scene_file_writer.py</span></a><span style=\"color: #7f7f7f; text-decoration-color: #7f7f7f\">:</span><a href=\"file://C:\\Users\\thoma\\AppData\\Local\\Programs\\Python\\Python39\\lib\\site-packages\\manim\\scene\\scene_file_writer.py#514\"><span style=\"color: #7f7f7f; text-decoration-color: #7f7f7f\">514</span></a>\n",
       "                             written in <span style=\"color: #008000; text-decoration-color: #008000\">'c:\\Users\\thoma\\Desktop\\Apre</span>                         \n",
       "                             <span style=\"color: #008000; text-decoration-color: #008000\">ndizado\\Manim\\media\\videos\\Manim\\720p30</span>                         \n",
       "                             <span style=\"color: #008000; text-decoration-color: #008000\">\\partial_movie_files\\Tute1\\2981672980_5</span>                         \n",
       "                             <span style=\"color: #008000; text-decoration-color: #008000\">7376586_2607424763.mp4'</span>                                         \n",
       "</pre>\n"
      ],
      "text/plain": [
       "\u001b[2;36m[01/31/22 12:29:30]\u001b[0m\u001b[2;36m \u001b[0m\u001b[32mINFO    \u001b[0m Animation \u001b[32m4\u001b[0m : Partial movie file        \u001b]8;id=540011;file://C:\\Users\\thoma\\AppData\\Local\\Programs\\Python\\Python39\\lib\\site-packages\\manim\\scene\\scene_file_writer.py\u001b\\\u001b[2mscene_file_writer.py\u001b[0m\u001b]8;;\u001b\\\u001b[2m:\u001b[0m\u001b]8;id=222130;file://C:\\Users\\thoma\\AppData\\Local\\Programs\\Python\\Python39\\lib\\site-packages\\manim\\scene\\scene_file_writer.py#514\u001b\\\u001b[2m514\u001b[0m\u001b]8;;\u001b\\\n",
       "                             written in \u001b[32m'c:\\Users\\thoma\\Desktop\\Apre\u001b[0m                         \n",
       "                             \u001b[32mndizado\\Manim\\media\\videos\\Manim\\720p30\u001b[0m                         \n",
       "                             \u001b[32m\\partial_movie_files\\Tute1\\2981672980_5\u001b[0m                         \n",
       "                             \u001b[32m7376586_2607424763.mp4'\u001b[0m                                         \n"
      ]
     },
     "metadata": {},
     "output_type": "display_data"
    },
    {
     "name": "stderr",
     "output_type": "stream",
     "text": [
      "                                                                                              \r"
     ]
    },
    {
     "data": {
      "text/html": [
       "<pre style=\"white-space:pre;overflow-x:auto;line-height:normal;font-family:Menlo,'DejaVu Sans Mono',consolas,'Courier New',monospace\"><span style=\"color: #7fbfbf; text-decoration-color: #7fbfbf\">[01/31/22 12:29:52] </span><span style=\"color: #008000; text-decoration-color: #008000\">INFO    </span> Animation <span style=\"color: #008000; text-decoration-color: #008000\">5</span> : Partial movie file        <a href=\"file://C:\\Users\\thoma\\AppData\\Local\\Programs\\Python\\Python39\\lib\\site-packages\\manim\\scene\\scene_file_writer.py\"><span style=\"color: #7f7f7f; text-decoration-color: #7f7f7f\">scene_file_writer.py</span></a><span style=\"color: #7f7f7f; text-decoration-color: #7f7f7f\">:</span><a href=\"file://C:\\Users\\thoma\\AppData\\Local\\Programs\\Python\\Python39\\lib\\site-packages\\manim\\scene\\scene_file_writer.py#514\"><span style=\"color: #7f7f7f; text-decoration-color: #7f7f7f\">514</span></a>\n",
       "                             written in <span style=\"color: #008000; text-decoration-color: #008000\">'c:\\Users\\thoma\\Desktop\\Apre</span>                         \n",
       "                             <span style=\"color: #008000; text-decoration-color: #008000\">ndizado\\Manim\\media\\videos\\Manim\\720p30</span>                         \n",
       "                             <span style=\"color: #008000; text-decoration-color: #008000\">\\partial_movie_files\\Tute1\\2795635745_1</span>                         \n",
       "                             <span style=\"color: #008000; text-decoration-color: #008000\">226557426_3526385644.mp4'</span>                                       \n",
       "</pre>\n"
      ],
      "text/plain": [
       "\u001b[2;36m[01/31/22 12:29:52]\u001b[0m\u001b[2;36m \u001b[0m\u001b[32mINFO    \u001b[0m Animation \u001b[32m5\u001b[0m : Partial movie file        \u001b]8;id=29777;file://C:\\Users\\thoma\\AppData\\Local\\Programs\\Python\\Python39\\lib\\site-packages\\manim\\scene\\scene_file_writer.py\u001b\\\u001b[2mscene_file_writer.py\u001b[0m\u001b]8;;\u001b\\\u001b[2m:\u001b[0m\u001b]8;id=318075;file://C:\\Users\\thoma\\AppData\\Local\\Programs\\Python\\Python39\\lib\\site-packages\\manim\\scene\\scene_file_writer.py#514\u001b\\\u001b[2m514\u001b[0m\u001b]8;;\u001b\\\n",
       "                             written in \u001b[32m'c:\\Users\\thoma\\Desktop\\Apre\u001b[0m                         \n",
       "                             \u001b[32mndizado\\Manim\\media\\videos\\Manim\\720p30\u001b[0m                         \n",
       "                             \u001b[32m\\partial_movie_files\\Tute1\\2795635745_1\u001b[0m                         \n",
       "                             \u001b[32m226557426_3526385644.mp4'\u001b[0m                                       \n"
      ]
     },
     "metadata": {},
     "output_type": "display_data"
    },
    {
     "name": "stderr",
     "output_type": "stream",
     "text": [
      "                                                                                        \r"
     ]
    },
    {
     "data": {
      "text/html": [
       "<pre style=\"white-space:pre;overflow-x:auto;line-height:normal;font-family:Menlo,'DejaVu Sans Mono',consolas,'Courier New',monospace\"><span style=\"color: #7fbfbf; text-decoration-color: #7fbfbf\">[01/31/22 12:30:02] </span><span style=\"color: #008000; text-decoration-color: #008000\">INFO    </span> Animation <span style=\"color: #008000; text-decoration-color: #008000\">6</span> : Partial movie file        <a href=\"file://C:\\Users\\thoma\\AppData\\Local\\Programs\\Python\\Python39\\lib\\site-packages\\manim\\scene\\scene_file_writer.py\"><span style=\"color: #7f7f7f; text-decoration-color: #7f7f7f\">scene_file_writer.py</span></a><span style=\"color: #7f7f7f; text-decoration-color: #7f7f7f\">:</span><a href=\"file://C:\\Users\\thoma\\AppData\\Local\\Programs\\Python\\Python39\\lib\\site-packages\\manim\\scene\\scene_file_writer.py#514\"><span style=\"color: #7f7f7f; text-decoration-color: #7f7f7f\">514</span></a>\n",
       "                             written in <span style=\"color: #008000; text-decoration-color: #008000\">'c:\\Users\\thoma\\Desktop\\Apre</span>                         \n",
       "                             <span style=\"color: #008000; text-decoration-color: #008000\">ndizado\\Manim\\media\\videos\\Manim\\720p30</span>                         \n",
       "                             <span style=\"color: #008000; text-decoration-color: #008000\">\\partial_movie_files\\Tute1\\1542444635_2</span>                         \n",
       "                             <span style=\"color: #008000; text-decoration-color: #008000\">903696946_2664339617.mp4'</span>                                       \n",
       "</pre>\n"
      ],
      "text/plain": [
       "\u001b[2;36m[01/31/22 12:30:02]\u001b[0m\u001b[2;36m \u001b[0m\u001b[32mINFO    \u001b[0m Animation \u001b[32m6\u001b[0m : Partial movie file        \u001b]8;id=13348;file://C:\\Users\\thoma\\AppData\\Local\\Programs\\Python\\Python39\\lib\\site-packages\\manim\\scene\\scene_file_writer.py\u001b\\\u001b[2mscene_file_writer.py\u001b[0m\u001b]8;;\u001b\\\u001b[2m:\u001b[0m\u001b]8;id=141380;file://C:\\Users\\thoma\\AppData\\Local\\Programs\\Python\\Python39\\lib\\site-packages\\manim\\scene\\scene_file_writer.py#514\u001b\\\u001b[2m514\u001b[0m\u001b]8;;\u001b\\\n",
       "                             written in \u001b[32m'c:\\Users\\thoma\\Desktop\\Apre\u001b[0m                         \n",
       "                             \u001b[32mndizado\\Manim\\media\\videos\\Manim\\720p30\u001b[0m                         \n",
       "                             \u001b[32m\\partial_movie_files\\Tute1\\1542444635_2\u001b[0m                         \n",
       "                             \u001b[32m903696946_2664339617.mp4'\u001b[0m                                       \n"
      ]
     },
     "metadata": {},
     "output_type": "display_data"
    },
    {
     "name": "stderr",
     "output_type": "stream",
     "text": [
      "                                                          \r"
     ]
    },
    {
     "data": {
      "text/html": [
       "<pre style=\"white-space:pre;overflow-x:auto;line-height:normal;font-family:Menlo,'DejaVu Sans Mono',consolas,'Courier New',monospace\"><span style=\"color: #7fbfbf; text-decoration-color: #7fbfbf\">[01/31/22 12:30:11] </span><span style=\"color: #008000; text-decoration-color: #008000\">INFO    </span> Animation <span style=\"color: #008000; text-decoration-color: #008000\">7</span> : Partial movie file        <a href=\"file://C:\\Users\\thoma\\AppData\\Local\\Programs\\Python\\Python39\\lib\\site-packages\\manim\\scene\\scene_file_writer.py\"><span style=\"color: #7f7f7f; text-decoration-color: #7f7f7f\">scene_file_writer.py</span></a><span style=\"color: #7f7f7f; text-decoration-color: #7f7f7f\">:</span><a href=\"file://C:\\Users\\thoma\\AppData\\Local\\Programs\\Python\\Python39\\lib\\site-packages\\manim\\scene\\scene_file_writer.py#514\"><span style=\"color: #7f7f7f; text-decoration-color: #7f7f7f\">514</span></a>\n",
       "                             written in <span style=\"color: #008000; text-decoration-color: #008000\">'c:\\Users\\thoma\\Desktop\\Apre</span>                         \n",
       "                             <span style=\"color: #008000; text-decoration-color: #008000\">ndizado\\Manim\\media\\videos\\Manim\\720p30</span>                         \n",
       "                             <span style=\"color: #008000; text-decoration-color: #008000\">\\partial_movie_files\\Tute1\\2078238564_5</span>                         \n",
       "                             <span style=\"color: #008000; text-decoration-color: #008000\">7376586_3441475902.mp4'</span>                                         \n",
       "</pre>\n"
      ],
      "text/plain": [
       "\u001b[2;36m[01/31/22 12:30:11]\u001b[0m\u001b[2;36m \u001b[0m\u001b[32mINFO    \u001b[0m Animation \u001b[32m7\u001b[0m : Partial movie file        \u001b]8;id=582861;file://C:\\Users\\thoma\\AppData\\Local\\Programs\\Python\\Python39\\lib\\site-packages\\manim\\scene\\scene_file_writer.py\u001b\\\u001b[2mscene_file_writer.py\u001b[0m\u001b]8;;\u001b\\\u001b[2m:\u001b[0m\u001b]8;id=579585;file://C:\\Users\\thoma\\AppData\\Local\\Programs\\Python\\Python39\\lib\\site-packages\\manim\\scene\\scene_file_writer.py#514\u001b\\\u001b[2m514\u001b[0m\u001b]8;;\u001b\\\n",
       "                             written in \u001b[32m'c:\\Users\\thoma\\Desktop\\Apre\u001b[0m                         \n",
       "                             \u001b[32mndizado\\Manim\\media\\videos\\Manim\\720p30\u001b[0m                         \n",
       "                             \u001b[32m\\partial_movie_files\\Tute1\\2078238564_5\u001b[0m                         \n",
       "                             \u001b[32m7376586_3441475902.mp4'\u001b[0m                                         \n"
      ]
     },
     "metadata": {},
     "output_type": "display_data"
    },
    {
     "data": {
      "text/html": [
       "<pre style=\"white-space:pre;overflow-x:auto;line-height:normal;font-family:Menlo,'DejaVu Sans Mono',consolas,'Courier New',monospace\"><span style=\"color: #7fbfbf; text-decoration-color: #7fbfbf\">[01/31/22 12:30:12] </span><span style=\"color: #008000; text-decoration-color: #008000\">INFO    </span> Animation <span style=\"color: #008000; text-decoration-color: #008000\">8</span> : Partial movie file        <a href=\"file://C:\\Users\\thoma\\AppData\\Local\\Programs\\Python\\Python39\\lib\\site-packages\\manim\\scene\\scene_file_writer.py\"><span style=\"color: #7f7f7f; text-decoration-color: #7f7f7f\">scene_file_writer.py</span></a><span style=\"color: #7f7f7f; text-decoration-color: #7f7f7f\">:</span><a href=\"file://C:\\Users\\thoma\\AppData\\Local\\Programs\\Python\\Python39\\lib\\site-packages\\manim\\scene\\scene_file_writer.py#514\"><span style=\"color: #7f7f7f; text-decoration-color: #7f7f7f\">514</span></a>\n",
       "                             written in <span style=\"color: #008000; text-decoration-color: #008000\">'c:\\Users\\thoma\\Desktop\\Apre</span>                         \n",
       "                             <span style=\"color: #008000; text-decoration-color: #008000\">ndizado\\Manim\\media\\videos\\Manim\\720p30</span>                         \n",
       "                             <span style=\"color: #008000; text-decoration-color: #008000\">\\partial_movie_files\\Tute1\\2834879302_3</span>                         \n",
       "                             <span style=\"color: #008000; text-decoration-color: #008000\">493041802_3679973736.mp4'</span>                                       \n",
       "</pre>\n"
      ],
      "text/plain": [
       "\u001b[2;36m[01/31/22 12:30:12]\u001b[0m\u001b[2;36m \u001b[0m\u001b[32mINFO    \u001b[0m Animation \u001b[32m8\u001b[0m : Partial movie file        \u001b]8;id=143969;file://C:\\Users\\thoma\\AppData\\Local\\Programs\\Python\\Python39\\lib\\site-packages\\manim\\scene\\scene_file_writer.py\u001b\\\u001b[2mscene_file_writer.py\u001b[0m\u001b]8;;\u001b\\\u001b[2m:\u001b[0m\u001b]8;id=667629;file://C:\\Users\\thoma\\AppData\\Local\\Programs\\Python\\Python39\\lib\\site-packages\\manim\\scene\\scene_file_writer.py#514\u001b\\\u001b[2m514\u001b[0m\u001b]8;;\u001b\\\n",
       "                             written in \u001b[32m'c:\\Users\\thoma\\Desktop\\Apre\u001b[0m                         \n",
       "                             \u001b[32mndizado\\Manim\\media\\videos\\Manim\\720p30\u001b[0m                         \n",
       "                             \u001b[32m\\partial_movie_files\\Tute1\\2834879302_3\u001b[0m                         \n",
       "                             \u001b[32m493041802_3679973736.mp4'\u001b[0m                                       \n"
      ]
     },
     "metadata": {},
     "output_type": "display_data"
    },
    {
     "name": "stderr",
     "output_type": "stream",
     "text": [
      "                                                          \r"
     ]
    },
    {
     "data": {
      "text/html": [
       "<pre style=\"white-space:pre;overflow-x:auto;line-height:normal;font-family:Menlo,'DejaVu Sans Mono',consolas,'Courier New',monospace\"><span style=\"color: #7fbfbf; text-decoration-color: #7fbfbf\">[01/31/22 12:30:27] </span><span style=\"color: #008000; text-decoration-color: #008000\">INFO    </span> Animation <span style=\"color: #008000; text-decoration-color: #008000\">9</span> : Partial movie file        <a href=\"file://C:\\Users\\thoma\\AppData\\Local\\Programs\\Python\\Python39\\lib\\site-packages\\manim\\scene\\scene_file_writer.py\"><span style=\"color: #7f7f7f; text-decoration-color: #7f7f7f\">scene_file_writer.py</span></a><span style=\"color: #7f7f7f; text-decoration-color: #7f7f7f\">:</span><a href=\"file://C:\\Users\\thoma\\AppData\\Local\\Programs\\Python\\Python39\\lib\\site-packages\\manim\\scene\\scene_file_writer.py#514\"><span style=\"color: #7f7f7f; text-decoration-color: #7f7f7f\">514</span></a>\n",
       "                             written in <span style=\"color: #008000; text-decoration-color: #008000\">'c:\\Users\\thoma\\Desktop\\Apre</span>                         \n",
       "                             <span style=\"color: #008000; text-decoration-color: #008000\">ndizado\\Manim\\media\\videos\\Manim\\720p30</span>                         \n",
       "                             <span style=\"color: #008000; text-decoration-color: #008000\">\\partial_movie_files\\Tute1\\2186341027_3</span>                         \n",
       "                             <span style=\"color: #008000; text-decoration-color: #008000\">778596913_1627553908.mp4'</span>                                       \n",
       "</pre>\n"
      ],
      "text/plain": [
       "\u001b[2;36m[01/31/22 12:30:27]\u001b[0m\u001b[2;36m \u001b[0m\u001b[32mINFO    \u001b[0m Animation \u001b[32m9\u001b[0m : Partial movie file        \u001b]8;id=895480;file://C:\\Users\\thoma\\AppData\\Local\\Programs\\Python\\Python39\\lib\\site-packages\\manim\\scene\\scene_file_writer.py\u001b\\\u001b[2mscene_file_writer.py\u001b[0m\u001b]8;;\u001b\\\u001b[2m:\u001b[0m\u001b]8;id=671414;file://C:\\Users\\thoma\\AppData\\Local\\Programs\\Python\\Python39\\lib\\site-packages\\manim\\scene\\scene_file_writer.py#514\u001b\\\u001b[2m514\u001b[0m\u001b]8;;\u001b\\\n",
       "                             written in \u001b[32m'c:\\Users\\thoma\\Desktop\\Apre\u001b[0m                         \n",
       "                             \u001b[32mndizado\\Manim\\media\\videos\\Manim\\720p30\u001b[0m                         \n",
       "                             \u001b[32m\\partial_movie_files\\Tute1\\2186341027_3\u001b[0m                         \n",
       "                             \u001b[32m778596913_1627553908.mp4'\u001b[0m                                       \n"
      ]
     },
     "metadata": {},
     "output_type": "display_data"
    },
    {
     "data": {
      "text/html": [
       "<pre style=\"white-space:pre;overflow-x:auto;line-height:normal;font-family:Menlo,'DejaVu Sans Mono',consolas,'Courier New',monospace\"><span style=\"color: #7fbfbf; text-decoration-color: #7fbfbf\">                    </span><span style=\"color: #008000; text-decoration-color: #008000\">INFO    </span> Combining to Movie file.                <a href=\"file://C:\\Users\\thoma\\AppData\\Local\\Programs\\Python\\Python39\\lib\\site-packages\\manim\\scene\\scene_file_writer.py\"><span style=\"color: #7f7f7f; text-decoration-color: #7f7f7f\">scene_file_writer.py</span></a><span style=\"color: #7f7f7f; text-decoration-color: #7f7f7f\">:</span><a href=\"file://C:\\Users\\thoma\\AppData\\Local\\Programs\\Python\\Python39\\lib\\site-packages\\manim\\scene\\scene_file_writer.py#608\"><span style=\"color: #7f7f7f; text-decoration-color: #7f7f7f\">608</span></a>\n",
       "</pre>\n"
      ],
      "text/plain": [
       "\u001b[2;36m                   \u001b[0m\u001b[2;36m \u001b[0m\u001b[32mINFO    \u001b[0m Combining to Movie file.                \u001b]8;id=162996;file://C:\\Users\\thoma\\AppData\\Local\\Programs\\Python\\Python39\\lib\\site-packages\\manim\\scene\\scene_file_writer.py\u001b\\\u001b[2mscene_file_writer.py\u001b[0m\u001b]8;;\u001b\\\u001b[2m:\u001b[0m\u001b]8;id=905519;file://C:\\Users\\thoma\\AppData\\Local\\Programs\\Python\\Python39\\lib\\site-packages\\manim\\scene\\scene_file_writer.py#608\u001b\\\u001b[2m608\u001b[0m\u001b]8;;\u001b\\\n"
      ]
     },
     "metadata": {},
     "output_type": "display_data"
    },
    {
     "data": {
      "text/html": [
       "<pre style=\"white-space:pre;overflow-x:auto;line-height:normal;font-family:Menlo,'DejaVu Sans Mono',consolas,'Courier New',monospace\"><span style=\"color: #7fbfbf; text-decoration-color: #7fbfbf\">                    </span><span style=\"color: #008000; text-decoration-color: #008000\">INFO    </span>                                         <a href=\"file://C:\\Users\\thoma\\AppData\\Local\\Programs\\Python\\Python39\\lib\\site-packages\\manim\\scene\\scene_file_writer.py\"><span style=\"color: #7f7f7f; text-decoration-color: #7f7f7f\">scene_file_writer.py</span></a><span style=\"color: #7f7f7f; text-decoration-color: #7f7f7f\">:</span><a href=\"file://C:\\Users\\thoma\\AppData\\Local\\Programs\\Python\\Python39\\lib\\site-packages\\manim\\scene\\scene_file_writer.py#729\"><span style=\"color: #7f7f7f; text-decoration-color: #7f7f7f\">729</span></a>\n",
       "                             <span style=\"color: #808000; text-decoration-color: #808000; font-weight: bold\">File</span> ready at <span style=\"color: #008000; text-decoration-color: #008000\">'c:\\Users\\thoma\\Desktop\\A</span>                         \n",
       "                             <span style=\"color: #008000; text-decoration-color: #008000\">prendizado\\Manim\\media\\videos\\Manim\\720</span>                         \n",
       "                             <span style=\"color: #008000; text-decoration-color: #008000\">p30\\Tute1.mp4'</span>                                                  \n",
       "                                                                                             \n",
       "</pre>\n"
      ],
      "text/plain": [
       "\u001b[2;36m                   \u001b[0m\u001b[2;36m \u001b[0m\u001b[32mINFO    \u001b[0m                                         \u001b]8;id=485671;file://C:\\Users\\thoma\\AppData\\Local\\Programs\\Python\\Python39\\lib\\site-packages\\manim\\scene\\scene_file_writer.py\u001b\\\u001b[2mscene_file_writer.py\u001b[0m\u001b]8;;\u001b\\\u001b[2m:\u001b[0m\u001b]8;id=157681;file://C:\\Users\\thoma\\AppData\\Local\\Programs\\Python\\Python39\\lib\\site-packages\\manim\\scene\\scene_file_writer.py#729\u001b\\\u001b[2m729\u001b[0m\u001b]8;;\u001b\\\n",
       "                             \u001b[1;33mFile\u001b[0m ready at \u001b[32m'c:\\Users\\thoma\\Desktop\\A\u001b[0m                         \n",
       "                             \u001b[32mprendizado\\Manim\\media\\videos\\Manim\\720\u001b[0m                         \n",
       "                             \u001b[32mp30\\Tute1.mp4'\u001b[0m                                                  \n",
       "                                                                                             \n"
      ]
     },
     "metadata": {},
     "output_type": "display_data"
    },
    {
     "data": {
      "text/html": [
       "<pre style=\"white-space:pre;overflow-x:auto;line-height:normal;font-family:Menlo,'DejaVu Sans Mono',consolas,'Courier New',monospace\"><span style=\"color: #7fbfbf; text-decoration-color: #7fbfbf\">                    </span><span style=\"color: #008000; text-decoration-color: #008000\">INFO    </span> <span style=\"color: #808000; text-decoration-color: #808000; font-weight: bold\">Rendered</span> Tute1                                      <a href=\"file://C:\\Users\\thoma\\AppData\\Local\\Programs\\Python\\Python39\\lib\\site-packages\\manim\\scene\\scene.py\"><span style=\"color: #7f7f7f; text-decoration-color: #7f7f7f\">scene.py</span></a><span style=\"color: #7f7f7f; text-decoration-color: #7f7f7f\">:</span><a href=\"file://C:\\Users\\thoma\\AppData\\Local\\Programs\\Python\\Python39\\lib\\site-packages\\manim\\scene\\scene.py#237\"><span style=\"color: #7f7f7f; text-decoration-color: #7f7f7f\">237</span></a>\n",
       "                             <span style=\"color: #808000; text-decoration-color: #808000; font-weight: bold\">Played</span> <span style=\"color: #008000; text-decoration-color: #008000\">10</span> <span style=\"color: #808000; text-decoration-color: #808000; font-weight: bold\">animations</span>                                            \n",
       "</pre>\n"
      ],
      "text/plain": [
       "\u001b[2;36m                   \u001b[0m\u001b[2;36m \u001b[0m\u001b[32mINFO    \u001b[0m \u001b[1;33mRendered\u001b[0m Tute1                                      \u001b]8;id=600163;file://C:\\Users\\thoma\\AppData\\Local\\Programs\\Python\\Python39\\lib\\site-packages\\manim\\scene\\scene.py\u001b\\\u001b[2mscene.py\u001b[0m\u001b]8;;\u001b\\\u001b[2m:\u001b[0m\u001b]8;id=804015;file://C:\\Users\\thoma\\AppData\\Local\\Programs\\Python\\Python39\\lib\\site-packages\\manim\\scene\\scene.py#237\u001b\\\u001b[2m237\u001b[0m\u001b]8;;\u001b\\\n",
       "                             \u001b[1;33mPlayed\u001b[0m \u001b[32m10\u001b[0m \u001b[1;33manimations\u001b[0m                                            \n"
      ]
     },
     "metadata": {},
     "output_type": "display_data"
    },
    {
     "data": {
      "text/html": [
       "<video src=\"media\\jupyter\\Tute1@2022-01-31@12-30-27.mp4\" controls autoplay loop style=\"max-width: 60%;\"  >\n",
       "      Your browser does not support the <code>video</code> element.\n",
       "    </video>"
      ],
      "text/plain": [
       "<IPython.core.display.Video object>"
      ]
     },
     "metadata": {},
     "output_type": "display_data"
    }
   ],
   "source": [
    "%%manim -qm Tute1\n",
    "class Tute1(ThreeDScene):\n",
    "    def construct(self):\n",
    "\n",
    "        axes = ThreeDAxes(\n",
    "            x_range=[-6, 6, 1],\n",
    "            y_range=[-6, 6, 1],\n",
    "            z_range=[-6, 6, 1],\n",
    "            x_length=8,\n",
    "            y_length=6,\n",
    "            z_length=6,\n",
    "        )\n",
    "\n",
    "        graph = axes.get_graph(lambda x: x ** 2, x_range=[-2, 2, 1], color=YELLOW)\n",
    "        rects = axes.get_riemann_rectangles(\n",
    "            graph=graph, x_range=[-2, 2], dx=0.1, stroke_color=WHITE\n",
    "        )\n",
    "\n",
    "        graph2 = axes.get_parametric_curve(\n",
    "            lambda t: np.array([np.cos(t), np.sin(t), t]),\n",
    "            t_range=[-2 * PI, 2 * PI],\n",
    "            color=RED,\n",
    "        )\n",
    "\n",
    "        self.add(axes, graph)\n",
    "        self.wait()\n",
    "\n",
    "        ##THE CAMERA IS AUTO SET TO PHI = 0 and THETA = -90\n",
    "\n",
    "        self.move_camera(phi=60 * DEGREES)\n",
    "        self.wait()\n",
    "        self.move_camera(theta=-45 * DEGREES)\n",
    "\n",
    "        self.begin_ambient_camera_rotation(\n",
    "            rate=PI / 10, about=\"theta\"\n",
    "        )  # Rotates at a rate of radians per second\n",
    "        self.wait()\n",
    "        self.play(Create(rects), run_time=3)\n",
    "        self.play(Create(graph2))\n",
    "        self.wait()\n",
    "        self.stop_ambient_camera_rotation()\n",
    "\n",
    "        self.wait()\n",
    "        self.begin_ambient_camera_rotation(\n",
    "            rate=PI / 10, about=\"phi\"\n",
    "        )  # Rotates at a rate of radians per second\n",
    "        self.wait(2)\n",
    "        self.stop_ambient_camera_rotation()\n",
    "\n"
   ]
  },
  {
   "cell_type": "code",
   "execution_count": 16,
   "metadata": {},
   "outputs": [
    {
     "data": {
      "text/html": [
       "<pre style=\"white-space:pre;overflow-x:auto;line-height:normal;font-family:Menlo,'DejaVu Sans Mono',consolas,'Courier New',monospace\"><span style=\"color: #7fbfbf; text-decoration-color: #7fbfbf\">[01/31/22 13:38:56] </span><span style=\"color: #800000; text-decoration-color: #800000\">WARNING </span> The class ParametricSurface has been          <a href=\"file://C:\\Users\\thoma\\AppData\\Local\\Programs\\Python\\Python39\\lib\\site-packages\\manim\\utils\\deprecation.py\"><span style=\"color: #7f7f7f; text-decoration-color: #7f7f7f\">deprecation.py</span></a><span style=\"color: #7f7f7f; text-decoration-color: #7f7f7f\">:</span><a href=\"file://C:\\Users\\thoma\\AppData\\Local\\Programs\\Python\\Python39\\lib\\site-packages\\manim\\utils\\deprecation.py#210\"><span style=\"color: #7f7f7f; text-decoration-color: #7f7f7f\">210</span></a>\n",
       "                             deprecated since v0.<span style=\"color: #008000; text-decoration-color: #008000\">10.0</span> and may be removed                     \n",
       "                             in a later version. Use <span style=\"font-weight: bold\">&lt;</span><span style=\"color: #ff00ff; text-decoration-color: #ff00ff; font-weight: bold\">class</span><span style=\"color: #000000; text-decoration-color: #000000\"> </span>                                 \n",
       "                             <span style=\"color: #008000; text-decoration-color: #008000\">'manim.mobject.three_dimensions.Surface'</span><span style=\"font-weight: bold\">&gt;</span>                       \n",
       "                             instead.                                                        \n",
       "</pre>\n"
      ],
      "text/plain": [
       "\u001b[2;36m[01/31/22 13:38:56]\u001b[0m\u001b[2;36m \u001b[0m\u001b[31mWARNING \u001b[0m The class ParametricSurface has been          \u001b]8;id=281379;file://C:\\Users\\thoma\\AppData\\Local\\Programs\\Python\\Python39\\lib\\site-packages\\manim\\utils\\deprecation.py\u001b\\\u001b[2mdeprecation.py\u001b[0m\u001b]8;;\u001b\\\u001b[2m:\u001b[0m\u001b]8;id=907844;file://C:\\Users\\thoma\\AppData\\Local\\Programs\\Python\\Python39\\lib\\site-packages\\manim\\utils\\deprecation.py#210\u001b\\\u001b[2m210\u001b[0m\u001b]8;;\u001b\\\n",
       "                             deprecated since v0.\u001b[32m10.0\u001b[0m and may be removed                     \n",
       "                             in a later version. Use \u001b[1m<\u001b[0m\u001b[1;95mclass\u001b[0m\u001b[39m \u001b[0m                                 \n",
       "                             \u001b[32m'manim.mobject.three_dimensions.Surface'\u001b[0m\u001b[1m>\u001b[0m                       \n",
       "                             instead.                                                        \n"
      ]
     },
     "metadata": {},
     "output_type": "display_data"
    },
    {
     "name": "stderr",
     "output_type": "stream",
     "text": [
      "                                                                                                           \r"
     ]
    },
    {
     "data": {
      "text/html": [
       "<pre style=\"white-space:pre;overflow-x:auto;line-height:normal;font-family:Menlo,'DejaVu Sans Mono',consolas,'Courier New',monospace\"><span style=\"color: #7fbfbf; text-decoration-color: #7fbfbf\">[01/31/22 13:39:19] </span><span style=\"color: #008000; text-decoration-color: #008000\">INFO    </span> Animation <span style=\"color: #008000; text-decoration-color: #008000\">0</span> : Partial movie file        <a href=\"file://C:\\Users\\thoma\\AppData\\Local\\Programs\\Python\\Python39\\lib\\site-packages\\manim\\scene\\scene_file_writer.py\"><span style=\"color: #7f7f7f; text-decoration-color: #7f7f7f\">scene_file_writer.py</span></a><span style=\"color: #7f7f7f; text-decoration-color: #7f7f7f\">:</span><a href=\"file://C:\\Users\\thoma\\AppData\\Local\\Programs\\Python\\Python39\\lib\\site-packages\\manim\\scene\\scene_file_writer.py#514\"><span style=\"color: #7f7f7f; text-decoration-color: #7f7f7f\">514</span></a>\n",
       "                             written in <span style=\"color: #008000; text-decoration-color: #008000\">'c:\\Users\\thoma\\Desktop\\Apre</span>                         \n",
       "                             <span style=\"color: #008000; text-decoration-color: #008000\">ndizado\\Manim\\media\\videos\\Manim\\480p15</span>                         \n",
       "                             <span style=\"color: #008000; text-decoration-color: #008000\">\\partial_movie_files\\Tute2\\3577693268_2</span>                         \n",
       "                             <span style=\"color: #008000; text-decoration-color: #008000\">54296789_2884675873.mp4'</span>                                        \n",
       "</pre>\n"
      ],
      "text/plain": [
       "\u001b[2;36m[01/31/22 13:39:19]\u001b[0m\u001b[2;36m \u001b[0m\u001b[32mINFO    \u001b[0m Animation \u001b[32m0\u001b[0m : Partial movie file        \u001b]8;id=101079;file://C:\\Users\\thoma\\AppData\\Local\\Programs\\Python\\Python39\\lib\\site-packages\\manim\\scene\\scene_file_writer.py\u001b\\\u001b[2mscene_file_writer.py\u001b[0m\u001b]8;;\u001b\\\u001b[2m:\u001b[0m\u001b]8;id=552569;file://C:\\Users\\thoma\\AppData\\Local\\Programs\\Python\\Python39\\lib\\site-packages\\manim\\scene\\scene_file_writer.py#514\u001b\\\u001b[2m514\u001b[0m\u001b]8;;\u001b\\\n",
       "                             written in \u001b[32m'c:\\Users\\thoma\\Desktop\\Apre\u001b[0m                         \n",
       "                             \u001b[32mndizado\\Manim\\media\\videos\\Manim\\480p15\u001b[0m                         \n",
       "                             \u001b[32m\\partial_movie_files\\Tute2\\3577693268_2\u001b[0m                         \n",
       "                             \u001b[32m54296789_2884675873.mp4'\u001b[0m                                        \n"
      ]
     },
     "metadata": {},
     "output_type": "display_data"
    },
    {
     "name": "stderr",
     "output_type": "stream",
     "text": [
      "                                                                                                       \r"
     ]
    },
    {
     "data": {
      "text/html": [
       "<pre style=\"white-space:pre;overflow-x:auto;line-height:normal;font-family:Menlo,'DejaVu Sans Mono',consolas,'Courier New',monospace\"><span style=\"color: #7fbfbf; text-decoration-color: #7fbfbf\">[01/31/22 13:39:45] </span><span style=\"color: #008000; text-decoration-color: #008000\">INFO    </span> Animation <span style=\"color: #008000; text-decoration-color: #008000\">1</span> : Partial movie file        <a href=\"file://C:\\Users\\thoma\\AppData\\Local\\Programs\\Python\\Python39\\lib\\site-packages\\manim\\scene\\scene_file_writer.py\"><span style=\"color: #7f7f7f; text-decoration-color: #7f7f7f\">scene_file_writer.py</span></a><span style=\"color: #7f7f7f; text-decoration-color: #7f7f7f\">:</span><a href=\"file://C:\\Users\\thoma\\AppData\\Local\\Programs\\Python\\Python39\\lib\\site-packages\\manim\\scene\\scene_file_writer.py#514\"><span style=\"color: #7f7f7f; text-decoration-color: #7f7f7f\">514</span></a>\n",
       "                             written in <span style=\"color: #008000; text-decoration-color: #008000\">'c:\\Users\\thoma\\Desktop\\Apre</span>                         \n",
       "                             <span style=\"color: #008000; text-decoration-color: #008000\">ndizado\\Manim\\media\\videos\\Manim\\480p15</span>                         \n",
       "                             <span style=\"color: #008000; text-decoration-color: #008000\">\\partial_movie_files\\Tute2\\3144966238_1</span>                         \n",
       "                             <span style=\"color: #008000; text-decoration-color: #008000\">628881604_2999395163.mp4'</span>                                       \n",
       "</pre>\n"
      ],
      "text/plain": [
       "\u001b[2;36m[01/31/22 13:39:45]\u001b[0m\u001b[2;36m \u001b[0m\u001b[32mINFO    \u001b[0m Animation \u001b[32m1\u001b[0m : Partial movie file        \u001b]8;id=984863;file://C:\\Users\\thoma\\AppData\\Local\\Programs\\Python\\Python39\\lib\\site-packages\\manim\\scene\\scene_file_writer.py\u001b\\\u001b[2mscene_file_writer.py\u001b[0m\u001b]8;;\u001b\\\u001b[2m:\u001b[0m\u001b]8;id=540144;file://C:\\Users\\thoma\\AppData\\Local\\Programs\\Python\\Python39\\lib\\site-packages\\manim\\scene\\scene_file_writer.py#514\u001b\\\u001b[2m514\u001b[0m\u001b]8;;\u001b\\\n",
       "                             written in \u001b[32m'c:\\Users\\thoma\\Desktop\\Apre\u001b[0m                         \n",
       "                             \u001b[32mndizado\\Manim\\media\\videos\\Manim\\480p15\u001b[0m                         \n",
       "                             \u001b[32m\\partial_movie_files\\Tute2\\3144966238_1\u001b[0m                         \n",
       "                             \u001b[32m628881604_2999395163.mp4'\u001b[0m                                       \n"
      ]
     },
     "metadata": {},
     "output_type": "display_data"
    },
    {
     "data": {
      "text/html": [
       "<pre style=\"white-space:pre;overflow-x:auto;line-height:normal;font-family:Menlo,'DejaVu Sans Mono',consolas,'Courier New',monospace\"><span style=\"color: #7fbfbf; text-decoration-color: #7fbfbf\">                    </span><span style=\"color: #008000; text-decoration-color: #008000\">INFO    </span> Combining to Movie file.                <a href=\"file://C:\\Users\\thoma\\AppData\\Local\\Programs\\Python\\Python39\\lib\\site-packages\\manim\\scene\\scene_file_writer.py\"><span style=\"color: #7f7f7f; text-decoration-color: #7f7f7f\">scene_file_writer.py</span></a><span style=\"color: #7f7f7f; text-decoration-color: #7f7f7f\">:</span><a href=\"file://C:\\Users\\thoma\\AppData\\Local\\Programs\\Python\\Python39\\lib\\site-packages\\manim\\scene\\scene_file_writer.py#608\"><span style=\"color: #7f7f7f; text-decoration-color: #7f7f7f\">608</span></a>\n",
       "</pre>\n"
      ],
      "text/plain": [
       "\u001b[2;36m                   \u001b[0m\u001b[2;36m \u001b[0m\u001b[32mINFO    \u001b[0m Combining to Movie file.                \u001b]8;id=541039;file://C:\\Users\\thoma\\AppData\\Local\\Programs\\Python\\Python39\\lib\\site-packages\\manim\\scene\\scene_file_writer.py\u001b\\\u001b[2mscene_file_writer.py\u001b[0m\u001b]8;;\u001b\\\u001b[2m:\u001b[0m\u001b]8;id=197667;file://C:\\Users\\thoma\\AppData\\Local\\Programs\\Python\\Python39\\lib\\site-packages\\manim\\scene\\scene_file_writer.py#608\u001b\\\u001b[2m608\u001b[0m\u001b]8;;\u001b\\\n"
      ]
     },
     "metadata": {},
     "output_type": "display_data"
    },
    {
     "data": {
      "text/html": [
       "<pre style=\"white-space:pre;overflow-x:auto;line-height:normal;font-family:Menlo,'DejaVu Sans Mono',consolas,'Courier New',monospace\"><span style=\"color: #7fbfbf; text-decoration-color: #7fbfbf\">                    </span><span style=\"color: #008000; text-decoration-color: #008000\">INFO    </span>                                         <a href=\"file://C:\\Users\\thoma\\AppData\\Local\\Programs\\Python\\Python39\\lib\\site-packages\\manim\\scene\\scene_file_writer.py\"><span style=\"color: #7f7f7f; text-decoration-color: #7f7f7f\">scene_file_writer.py</span></a><span style=\"color: #7f7f7f; text-decoration-color: #7f7f7f\">:</span><a href=\"file://C:\\Users\\thoma\\AppData\\Local\\Programs\\Python\\Python39\\lib\\site-packages\\manim\\scene\\scene_file_writer.py#729\"><span style=\"color: #7f7f7f; text-decoration-color: #7f7f7f\">729</span></a>\n",
       "                             <span style=\"color: #808000; text-decoration-color: #808000; font-weight: bold\">File</span> ready at <span style=\"color: #008000; text-decoration-color: #008000\">'c:\\Users\\thoma\\Desktop\\A</span>                         \n",
       "                             <span style=\"color: #008000; text-decoration-color: #008000\">prendizado\\Manim\\media\\videos\\Manim\\480</span>                         \n",
       "                             <span style=\"color: #008000; text-decoration-color: #008000\">p15\\Tute2.mp4'</span>                                                  \n",
       "                                                                                             \n",
       "</pre>\n"
      ],
      "text/plain": [
       "\u001b[2;36m                   \u001b[0m\u001b[2;36m \u001b[0m\u001b[32mINFO    \u001b[0m                                         \u001b]8;id=553310;file://C:\\Users\\thoma\\AppData\\Local\\Programs\\Python\\Python39\\lib\\site-packages\\manim\\scene\\scene_file_writer.py\u001b\\\u001b[2mscene_file_writer.py\u001b[0m\u001b]8;;\u001b\\\u001b[2m:\u001b[0m\u001b]8;id=54914;file://C:\\Users\\thoma\\AppData\\Local\\Programs\\Python\\Python39\\lib\\site-packages\\manim\\scene\\scene_file_writer.py#729\u001b\\\u001b[2m729\u001b[0m\u001b]8;;\u001b\\\n",
       "                             \u001b[1;33mFile\u001b[0m ready at \u001b[32m'c:\\Users\\thoma\\Desktop\\A\u001b[0m                         \n",
       "                             \u001b[32mprendizado\\Manim\\media\\videos\\Manim\\480\u001b[0m                         \n",
       "                             \u001b[32mp15\\Tute2.mp4'\u001b[0m                                                  \n",
       "                                                                                             \n"
      ]
     },
     "metadata": {},
     "output_type": "display_data"
    },
    {
     "data": {
      "text/html": [
       "<pre style=\"white-space:pre;overflow-x:auto;line-height:normal;font-family:Menlo,'DejaVu Sans Mono',consolas,'Courier New',monospace\"><span style=\"color: #7fbfbf; text-decoration-color: #7fbfbf\">                    </span><span style=\"color: #008000; text-decoration-color: #008000\">INFO    </span> <span style=\"color: #808000; text-decoration-color: #808000; font-weight: bold\">Rendered</span> Tute2                                      <a href=\"file://C:\\Users\\thoma\\AppData\\Local\\Programs\\Python\\Python39\\lib\\site-packages\\manim\\scene\\scene.py\"><span style=\"color: #7f7f7f; text-decoration-color: #7f7f7f\">scene.py</span></a><span style=\"color: #7f7f7f; text-decoration-color: #7f7f7f\">:</span><a href=\"file://C:\\Users\\thoma\\AppData\\Local\\Programs\\Python\\Python39\\lib\\site-packages\\manim\\scene\\scene.py#237\"><span style=\"color: #7f7f7f; text-decoration-color: #7f7f7f\">237</span></a>\n",
       "                             <span style=\"color: #808000; text-decoration-color: #808000; font-weight: bold\">Played</span> <span style=\"color: #008000; text-decoration-color: #008000\">2</span> <span style=\"color: #808000; text-decoration-color: #808000; font-weight: bold\">animations</span>                                             \n",
       "</pre>\n"
      ],
      "text/plain": [
       "\u001b[2;36m                   \u001b[0m\u001b[2;36m \u001b[0m\u001b[32mINFO    \u001b[0m \u001b[1;33mRendered\u001b[0m Tute2                                      \u001b]8;id=17808;file://C:\\Users\\thoma\\AppData\\Local\\Programs\\Python\\Python39\\lib\\site-packages\\manim\\scene\\scene.py\u001b\\\u001b[2mscene.py\u001b[0m\u001b]8;;\u001b\\\u001b[2m:\u001b[0m\u001b]8;id=388393;file://C:\\Users\\thoma\\AppData\\Local\\Programs\\Python\\Python39\\lib\\site-packages\\manim\\scene\\scene.py#237\u001b\\\u001b[2m237\u001b[0m\u001b]8;;\u001b\\\n",
       "                             \u001b[1;33mPlayed\u001b[0m \u001b[32m2\u001b[0m \u001b[1;33manimations\u001b[0m                                             \n"
      ]
     },
     "metadata": {},
     "output_type": "display_data"
    },
    {
     "data": {
      "text/html": [
       "<video src=\"media\\jupyter\\Tute2@2022-01-31@13-39-45.mp4\" controls autoplay loop style=\"max-width: 60%;\"  >\n",
       "      Your browser does not support the <code>video</code> element.\n",
       "    </video>"
      ],
      "text/plain": [
       "<IPython.core.display.Video object>"
      ]
     },
     "metadata": {},
     "output_type": "display_data"
    }
   ],
   "source": [
    "%%manim -ql Tute2\n",
    "class Tute2(ThreeDScene):\n",
    "    def construct(self):\n",
    "\n",
    "        \n",
    "        axes = ThreeDAxes()\n",
    "\n",
    "        graph = axes.plot(lambda x: x ** 2, x_range=[-2, 2], color=YELLOW)\n",
    "\n",
    "        surface = ParametricSurface(\n",
    "            lambda u, v: axes.c2p(v * np.cos(u), v * np.sin(u), 0.5 * v ** 2),\n",
    "            u_range=[0, 2*PI],  \n",
    "            v_range =[0,3],\n",
    "            checkerboard_colors=[GREEN, RED],\n",
    "        )\n",
    "\n",
    "        three_d_stuff = VGroup(axes, graph, surface)\n",
    "\n",
    "        \n",
    "        self.set_camera_orientation(phi=60 * DEGREES, theta=-45 * DEGREES)\n",
    "        self.add(axes, graph)\n",
    "        self.begin_ambient_camera_rotation(rate=PI / 20)\n",
    "        self.play(Create(surface))\n",
    "        self.play(three_d_stuff.animate.shift(LEFT * 5))\n",
    "\n"
   ]
  },
  {
   "cell_type": "code",
   "execution_count": 17,
   "metadata": {},
   "outputs": [
    {
     "data": {
      "text/html": [
       "<pre style=\"white-space:pre;overflow-x:auto;line-height:normal;font-family:Menlo,'DejaVu Sans Mono',consolas,'Courier New',monospace\"><span style=\"color: #7fbfbf; text-decoration-color: #7fbfbf\">[01/31/22 13:40:41] </span><span style=\"color: #800000; text-decoration-color: #800000\">WARNING </span> The method CoordinateSystem.get_graph has     <a href=\"file://C:\\Users\\thoma\\AppData\\Local\\Programs\\Python\\Python39\\lib\\site-packages\\manim\\utils\\deprecation.py\"><span style=\"color: #7f7f7f; text-decoration-color: #7f7f7f\">deprecation.py</span></a><span style=\"color: #7f7f7f; text-decoration-color: #7f7f7f\">:</span><a href=\"file://C:\\Users\\thoma\\AppData\\Local\\Programs\\Python\\Python39\\lib\\site-packages\\manim\\utils\\deprecation.py#210\"><span style=\"color: #7f7f7f; text-decoration-color: #7f7f7f\">210</span></a>\n",
       "                             been deprecated since v0.<span style=\"color: #008000; text-decoration-color: #008000\">11.0</span> and is expected                   \n",
       "                             to be removed after v0.<span style=\"color: #008000; text-decoration-color: #008000\">13.0</span>. Use plot                           \n",
       "                             instead.                                                        \n",
       "</pre>\n"
      ],
      "text/plain": [
       "\u001b[2;36m[01/31/22 13:40:41]\u001b[0m\u001b[2;36m \u001b[0m\u001b[31mWARNING \u001b[0m The method CoordinateSystem.get_graph has     \u001b]8;id=794656;file://C:\\Users\\thoma\\AppData\\Local\\Programs\\Python\\Python39\\lib\\site-packages\\manim\\utils\\deprecation.py\u001b\\\u001b[2mdeprecation.py\u001b[0m\u001b]8;;\u001b\\\u001b[2m:\u001b[0m\u001b]8;id=874691;file://C:\\Users\\thoma\\AppData\\Local\\Programs\\Python\\Python39\\lib\\site-packages\\manim\\utils\\deprecation.py#210\u001b\\\u001b[2m210\u001b[0m\u001b]8;;\u001b\\\n",
       "                             been deprecated since v0.\u001b[32m11.0\u001b[0m and is expected                   \n",
       "                             to be removed after v0.\u001b[32m13.0\u001b[0m. Use plot                           \n",
       "                             instead.                                                        \n"
      ]
     },
     "metadata": {},
     "output_type": "display_data"
    },
    {
     "data": {
      "text/html": [
       "<pre style=\"white-space:pre;overflow-x:auto;line-height:normal;font-family:Menlo,'DejaVu Sans Mono',consolas,'Courier New',monospace\"><span style=\"color: #7fbfbf; text-decoration-color: #7fbfbf\">                    </span><span style=\"color: #800000; text-decoration-color: #800000\">WARNING </span> The class ParametricSurface has been          <a href=\"file://C:\\Users\\thoma\\AppData\\Local\\Programs\\Python\\Python39\\lib\\site-packages\\manim\\utils\\deprecation.py\"><span style=\"color: #7f7f7f; text-decoration-color: #7f7f7f\">deprecation.py</span></a><span style=\"color: #7f7f7f; text-decoration-color: #7f7f7f\">:</span><a href=\"file://C:\\Users\\thoma\\AppData\\Local\\Programs\\Python\\Python39\\lib\\site-packages\\manim\\utils\\deprecation.py#210\"><span style=\"color: #7f7f7f; text-decoration-color: #7f7f7f\">210</span></a>\n",
       "                             deprecated since v0.<span style=\"color: #008000; text-decoration-color: #008000\">10.0</span> and may be removed                     \n",
       "                             in a later version. Use <span style=\"font-weight: bold\">&lt;</span><span style=\"color: #ff00ff; text-decoration-color: #ff00ff; font-weight: bold\">class</span><span style=\"color: #000000; text-decoration-color: #000000\"> </span>                                 \n",
       "                             <span style=\"color: #008000; text-decoration-color: #008000\">'manim.mobject.three_dimensions.Surface'</span><span style=\"font-weight: bold\">&gt;</span>                       \n",
       "                             instead.                                                        \n",
       "</pre>\n"
      ],
      "text/plain": [
       "\u001b[2;36m                   \u001b[0m\u001b[2;36m \u001b[0m\u001b[31mWARNING \u001b[0m The class ParametricSurface has been          \u001b]8;id=227464;file://C:\\Users\\thoma\\AppData\\Local\\Programs\\Python\\Python39\\lib\\site-packages\\manim\\utils\\deprecation.py\u001b\\\u001b[2mdeprecation.py\u001b[0m\u001b]8;;\u001b\\\u001b[2m:\u001b[0m\u001b]8;id=85709;file://C:\\Users\\thoma\\AppData\\Local\\Programs\\Python\\Python39\\lib\\site-packages\\manim\\utils\\deprecation.py#210\u001b\\\u001b[2m210\u001b[0m\u001b]8;;\u001b\\\n",
       "                             deprecated since v0.\u001b[32m10.0\u001b[0m and may be removed                     \n",
       "                             in a later version. Use \u001b[1m<\u001b[0m\u001b[1;95mclass\u001b[0m\u001b[39m \u001b[0m                                 \n",
       "                             \u001b[32m'manim.mobject.three_dimensions.Surface'\u001b[0m\u001b[1m>\u001b[0m                       \n",
       "                             instead.                                                        \n"
      ]
     },
     "metadata": {},
     "output_type": "display_data"
    },
    {
     "name": "stderr",
     "output_type": "stream",
     "text": [
      "Animation 0: LaggedStart(Group):   0%|          | 0/16 [00:00<?, ?it/s]"
     ]
    },
    {
     "data": {
      "text/html": [
       "<pre style=\"white-space:pre;overflow-x:auto;line-height:normal;font-family:Menlo,'DejaVu Sans Mono',consolas,'Courier New',monospace\"><span style=\"color: #7fbfbf; text-decoration-color: #7fbfbf\">[01/31/22 13:40:48] </span><span style=\"color: #800000; text-decoration-color: #800000\">WARNING </span> The class ParametricSurface has been          <a href=\"file://C:\\Users\\thoma\\AppData\\Local\\Programs\\Python\\Python39\\lib\\site-packages\\manim\\utils\\deprecation.py\"><span style=\"color: #7f7f7f; text-decoration-color: #7f7f7f\">deprecation.py</span></a><span style=\"color: #7f7f7f; text-decoration-color: #7f7f7f\">:</span><a href=\"file://C:\\Users\\thoma\\AppData\\Local\\Programs\\Python\\Python39\\lib\\site-packages\\manim\\utils\\deprecation.py#210\"><span style=\"color: #7f7f7f; text-decoration-color: #7f7f7f\">210</span></a>\n",
       "                             deprecated since v0.<span style=\"color: #008000; text-decoration-color: #008000\">10.0</span> and may be removed                     \n",
       "                             in a later version. Use <span style=\"font-weight: bold\">&lt;</span><span style=\"color: #ff00ff; text-decoration-color: #ff00ff; font-weight: bold\">class</span><span style=\"color: #000000; text-decoration-color: #000000\"> </span>                                 \n",
       "                             <span style=\"color: #008000; text-decoration-color: #008000\">'manim.mobject.three_dimensions.Surface'</span><span style=\"font-weight: bold\">&gt;</span>                       \n",
       "                             instead.                                                        \n",
       "</pre>\n"
      ],
      "text/plain": [
       "\u001b[2;36m[01/31/22 13:40:48]\u001b[0m\u001b[2;36m \u001b[0m\u001b[31mWARNING \u001b[0m The class ParametricSurface has been          \u001b]8;id=594173;file://C:\\Users\\thoma\\AppData\\Local\\Programs\\Python\\Python39\\lib\\site-packages\\manim\\utils\\deprecation.py\u001b\\\u001b[2mdeprecation.py\u001b[0m\u001b]8;;\u001b\\\u001b[2m:\u001b[0m\u001b]8;id=965950;file://C:\\Users\\thoma\\AppData\\Local\\Programs\\Python\\Python39\\lib\\site-packages\\manim\\utils\\deprecation.py#210\u001b\\\u001b[2m210\u001b[0m\u001b]8;;\u001b\\\n",
       "                             deprecated since v0.\u001b[32m10.0\u001b[0m and may be removed                     \n",
       "                             in a later version. Use \u001b[1m<\u001b[0m\u001b[1;95mclass\u001b[0m\u001b[39m \u001b[0m                                 \n",
       "                             \u001b[32m'manim.mobject.three_dimensions.Surface'\u001b[0m\u001b[1m>\u001b[0m                       \n",
       "                             instead.                                                        \n"
      ]
     },
     "metadata": {},
     "output_type": "display_data"
    },
    {
     "name": "stderr",
     "output_type": "stream",
     "text": [
      "Animation 0: LaggedStart(Group):   6%|6         | 1/16 [00:02<00:42,  2.86s/it]"
     ]
    },
    {
     "data": {
      "text/html": [
       "<pre style=\"white-space:pre;overflow-x:auto;line-height:normal;font-family:Menlo,'DejaVu Sans Mono',consolas,'Courier New',monospace\"><span style=\"color: #7fbfbf; text-decoration-color: #7fbfbf\">[01/31/22 13:40:51] </span><span style=\"color: #800000; text-decoration-color: #800000\">WARNING </span> The class ParametricSurface has been          <a href=\"file://C:\\Users\\thoma\\AppData\\Local\\Programs\\Python\\Python39\\lib\\site-packages\\manim\\utils\\deprecation.py\"><span style=\"color: #7f7f7f; text-decoration-color: #7f7f7f\">deprecation.py</span></a><span style=\"color: #7f7f7f; text-decoration-color: #7f7f7f\">:</span><a href=\"file://C:\\Users\\thoma\\AppData\\Local\\Programs\\Python\\Python39\\lib\\site-packages\\manim\\utils\\deprecation.py#210\"><span style=\"color: #7f7f7f; text-decoration-color: #7f7f7f\">210</span></a>\n",
       "                             deprecated since v0.<span style=\"color: #008000; text-decoration-color: #008000\">10.0</span> and may be removed                     \n",
       "                             in a later version. Use <span style=\"font-weight: bold\">&lt;</span><span style=\"color: #ff00ff; text-decoration-color: #ff00ff; font-weight: bold\">class</span><span style=\"color: #000000; text-decoration-color: #000000\"> </span>                                 \n",
       "                             <span style=\"color: #008000; text-decoration-color: #008000\">'manim.mobject.three_dimensions.Surface'</span><span style=\"font-weight: bold\">&gt;</span>                       \n",
       "                             instead.                                                        \n",
       "</pre>\n"
      ],
      "text/plain": [
       "\u001b[2;36m[01/31/22 13:40:51]\u001b[0m\u001b[2;36m \u001b[0m\u001b[31mWARNING \u001b[0m The class ParametricSurface has been          \u001b]8;id=27723;file://C:\\Users\\thoma\\AppData\\Local\\Programs\\Python\\Python39\\lib\\site-packages\\manim\\utils\\deprecation.py\u001b\\\u001b[2mdeprecation.py\u001b[0m\u001b]8;;\u001b\\\u001b[2m:\u001b[0m\u001b]8;id=970662;file://C:\\Users\\thoma\\AppData\\Local\\Programs\\Python\\Python39\\lib\\site-packages\\manim\\utils\\deprecation.py#210\u001b\\\u001b[2m210\u001b[0m\u001b]8;;\u001b\\\n",
       "                             deprecated since v0.\u001b[32m10.0\u001b[0m and may be removed                     \n",
       "                             in a later version. Use \u001b[1m<\u001b[0m\u001b[1;95mclass\u001b[0m\u001b[39m \u001b[0m                                 \n",
       "                             \u001b[32m'manim.mobject.three_dimensions.Surface'\u001b[0m\u001b[1m>\u001b[0m                       \n",
       "                             instead.                                                        \n"
      ]
     },
     "metadata": {},
     "output_type": "display_data"
    },
    {
     "name": "stderr",
     "output_type": "stream",
     "text": [
      "Animation 0: LaggedStart(Group):  12%|#2        | 2/16 [00:07<00:56,  4.04s/it]"
     ]
    },
    {
     "data": {
      "text/html": [
       "<pre style=\"white-space:pre;overflow-x:auto;line-height:normal;font-family:Menlo,'DejaVu Sans Mono',consolas,'Courier New',monospace\"><span style=\"color: #7fbfbf; text-decoration-color: #7fbfbf\">[01/31/22 13:40:56] </span><span style=\"color: #800000; text-decoration-color: #800000\">WARNING </span> The class ParametricSurface has been          <a href=\"file://C:\\Users\\thoma\\AppData\\Local\\Programs\\Python\\Python39\\lib\\site-packages\\manim\\utils\\deprecation.py\"><span style=\"color: #7f7f7f; text-decoration-color: #7f7f7f\">deprecation.py</span></a><span style=\"color: #7f7f7f; text-decoration-color: #7f7f7f\">:</span><a href=\"file://C:\\Users\\thoma\\AppData\\Local\\Programs\\Python\\Python39\\lib\\site-packages\\manim\\utils\\deprecation.py#210\"><span style=\"color: #7f7f7f; text-decoration-color: #7f7f7f\">210</span></a>\n",
       "                             deprecated since v0.<span style=\"color: #008000; text-decoration-color: #008000\">10.0</span> and may be removed                     \n",
       "                             in a later version. Use <span style=\"font-weight: bold\">&lt;</span><span style=\"color: #ff00ff; text-decoration-color: #ff00ff; font-weight: bold\">class</span><span style=\"color: #000000; text-decoration-color: #000000\"> </span>                                 \n",
       "                             <span style=\"color: #008000; text-decoration-color: #008000\">'manim.mobject.three_dimensions.Surface'</span><span style=\"font-weight: bold\">&gt;</span>                       \n",
       "                             instead.                                                        \n",
       "</pre>\n"
      ],
      "text/plain": [
       "\u001b[2;36m[01/31/22 13:40:56]\u001b[0m\u001b[2;36m \u001b[0m\u001b[31mWARNING \u001b[0m The class ParametricSurface has been          \u001b]8;id=543452;file://C:\\Users\\thoma\\AppData\\Local\\Programs\\Python\\Python39\\lib\\site-packages\\manim\\utils\\deprecation.py\u001b\\\u001b[2mdeprecation.py\u001b[0m\u001b]8;;\u001b\\\u001b[2m:\u001b[0m\u001b]8;id=369454;file://C:\\Users\\thoma\\AppData\\Local\\Programs\\Python\\Python39\\lib\\site-packages\\manim\\utils\\deprecation.py#210\u001b\\\u001b[2m210\u001b[0m\u001b]8;;\u001b\\\n",
       "                             deprecated since v0.\u001b[32m10.0\u001b[0m and may be removed                     \n",
       "                             in a later version. Use \u001b[1m<\u001b[0m\u001b[1;95mclass\u001b[0m\u001b[39m \u001b[0m                                 \n",
       "                             \u001b[32m'manim.mobject.three_dimensions.Surface'\u001b[0m\u001b[1m>\u001b[0m                       \n",
       "                             instead.                                                        \n"
      ]
     },
     "metadata": {},
     "output_type": "display_data"
    },
    {
     "name": "stderr",
     "output_type": "stream",
     "text": [
      "Animation 0: LaggedStart(Group):  19%|#8        | 3/16 [00:10<00:47,  3.62s/it]"
     ]
    },
    {
     "data": {
      "text/html": [
       "<pre style=\"white-space:pre;overflow-x:auto;line-height:normal;font-family:Menlo,'DejaVu Sans Mono',consolas,'Courier New',monospace\"><span style=\"color: #7fbfbf; text-decoration-color: #7fbfbf\">[01/31/22 13:40:59] </span><span style=\"color: #800000; text-decoration-color: #800000\">WARNING </span> The class ParametricSurface has been          <a href=\"file://C:\\Users\\thoma\\AppData\\Local\\Programs\\Python\\Python39\\lib\\site-packages\\manim\\utils\\deprecation.py\"><span style=\"color: #7f7f7f; text-decoration-color: #7f7f7f\">deprecation.py</span></a><span style=\"color: #7f7f7f; text-decoration-color: #7f7f7f\">:</span><a href=\"file://C:\\Users\\thoma\\AppData\\Local\\Programs\\Python\\Python39\\lib\\site-packages\\manim\\utils\\deprecation.py#210\"><span style=\"color: #7f7f7f; text-decoration-color: #7f7f7f\">210</span></a>\n",
       "                             deprecated since v0.<span style=\"color: #008000; text-decoration-color: #008000\">10.0</span> and may be removed                     \n",
       "                             in a later version. Use <span style=\"font-weight: bold\">&lt;</span><span style=\"color: #ff00ff; text-decoration-color: #ff00ff; font-weight: bold\">class</span><span style=\"color: #000000; text-decoration-color: #000000\"> </span>                                 \n",
       "                             <span style=\"color: #008000; text-decoration-color: #008000\">'manim.mobject.three_dimensions.Surface'</span><span style=\"font-weight: bold\">&gt;</span>                       \n",
       "                             instead.                                                        \n",
       "</pre>\n"
      ],
      "text/plain": [
       "\u001b[2;36m[01/31/22 13:40:59]\u001b[0m\u001b[2;36m \u001b[0m\u001b[31mWARNING \u001b[0m The class ParametricSurface has been          \u001b]8;id=718891;file://C:\\Users\\thoma\\AppData\\Local\\Programs\\Python\\Python39\\lib\\site-packages\\manim\\utils\\deprecation.py\u001b\\\u001b[2mdeprecation.py\u001b[0m\u001b]8;;\u001b\\\u001b[2m:\u001b[0m\u001b]8;id=93762;file://C:\\Users\\thoma\\AppData\\Local\\Programs\\Python\\Python39\\lib\\site-packages\\manim\\utils\\deprecation.py#210\u001b\\\u001b[2m210\u001b[0m\u001b]8;;\u001b\\\n",
       "                             deprecated since v0.\u001b[32m10.0\u001b[0m and may be removed                     \n",
       "                             in a later version. Use \u001b[1m<\u001b[0m\u001b[1;95mclass\u001b[0m\u001b[39m \u001b[0m                                 \n",
       "                             \u001b[32m'manim.mobject.three_dimensions.Surface'\u001b[0m\u001b[1m>\u001b[0m                       \n",
       "                             instead.                                                        \n"
      ]
     },
     "metadata": {},
     "output_type": "display_data"
    },
    {
     "name": "stderr",
     "output_type": "stream",
     "text": [
      "Animation 0: LaggedStart(Group):  25%|##5       | 4/16 [00:15<00:46,  3.88s/it]"
     ]
    },
    {
     "data": {
      "text/html": [
       "<pre style=\"white-space:pre;overflow-x:auto;line-height:normal;font-family:Menlo,'DejaVu Sans Mono',consolas,'Courier New',monospace\"><span style=\"color: #7fbfbf; text-decoration-color: #7fbfbf\">[01/31/22 13:41:03] </span><span style=\"color: #800000; text-decoration-color: #800000\">WARNING </span> The class ParametricSurface has been          <a href=\"file://C:\\Users\\thoma\\AppData\\Local\\Programs\\Python\\Python39\\lib\\site-packages\\manim\\utils\\deprecation.py\"><span style=\"color: #7f7f7f; text-decoration-color: #7f7f7f\">deprecation.py</span></a><span style=\"color: #7f7f7f; text-decoration-color: #7f7f7f\">:</span><a href=\"file://C:\\Users\\thoma\\AppData\\Local\\Programs\\Python\\Python39\\lib\\site-packages\\manim\\utils\\deprecation.py#210\"><span style=\"color: #7f7f7f; text-decoration-color: #7f7f7f\">210</span></a>\n",
       "                             deprecated since v0.<span style=\"color: #008000; text-decoration-color: #008000\">10.0</span> and may be removed                     \n",
       "                             in a later version. Use <span style=\"font-weight: bold\">&lt;</span><span style=\"color: #ff00ff; text-decoration-color: #ff00ff; font-weight: bold\">class</span><span style=\"color: #000000; text-decoration-color: #000000\"> </span>                                 \n",
       "                             <span style=\"color: #008000; text-decoration-color: #008000\">'manim.mobject.three_dimensions.Surface'</span><span style=\"font-weight: bold\">&gt;</span>                       \n",
       "                             instead.                                                        \n",
       "</pre>\n"
      ],
      "text/plain": [
       "\u001b[2;36m[01/31/22 13:41:03]\u001b[0m\u001b[2;36m \u001b[0m\u001b[31mWARNING \u001b[0m The class ParametricSurface has been          \u001b]8;id=931784;file://C:\\Users\\thoma\\AppData\\Local\\Programs\\Python\\Python39\\lib\\site-packages\\manim\\utils\\deprecation.py\u001b\\\u001b[2mdeprecation.py\u001b[0m\u001b]8;;\u001b\\\u001b[2m:\u001b[0m\u001b]8;id=227841;file://C:\\Users\\thoma\\AppData\\Local\\Programs\\Python\\Python39\\lib\\site-packages\\manim\\utils\\deprecation.py#210\u001b\\\u001b[2m210\u001b[0m\u001b]8;;\u001b\\\n",
       "                             deprecated since v0.\u001b[32m10.0\u001b[0m and may be removed                     \n",
       "                             in a later version. Use \u001b[1m<\u001b[0m\u001b[1;95mclass\u001b[0m\u001b[39m \u001b[0m                                 \n",
       "                             \u001b[32m'manim.mobject.three_dimensions.Surface'\u001b[0m\u001b[1m>\u001b[0m                       \n",
       "                             instead.                                                        \n"
      ]
     },
     "metadata": {},
     "output_type": "display_data"
    },
    {
     "name": "stderr",
     "output_type": "stream",
     "text": [
      "Animation 0: LaggedStart(Group):  31%|###1      | 5/16 [00:18<00:40,  3.67s/it]"
     ]
    },
    {
     "data": {
      "text/html": [
       "<pre style=\"white-space:pre;overflow-x:auto;line-height:normal;font-family:Menlo,'DejaVu Sans Mono',consolas,'Courier New',monospace\"><span style=\"color: #7fbfbf; text-decoration-color: #7fbfbf\">[01/31/22 13:41:06] </span><span style=\"color: #800000; text-decoration-color: #800000\">WARNING </span> The class ParametricSurface has been          <a href=\"file://C:\\Users\\thoma\\AppData\\Local\\Programs\\Python\\Python39\\lib\\site-packages\\manim\\utils\\deprecation.py\"><span style=\"color: #7f7f7f; text-decoration-color: #7f7f7f\">deprecation.py</span></a><span style=\"color: #7f7f7f; text-decoration-color: #7f7f7f\">:</span><a href=\"file://C:\\Users\\thoma\\AppData\\Local\\Programs\\Python\\Python39\\lib\\site-packages\\manim\\utils\\deprecation.py#210\"><span style=\"color: #7f7f7f; text-decoration-color: #7f7f7f\">210</span></a>\n",
       "                             deprecated since v0.<span style=\"color: #008000; text-decoration-color: #008000\">10.0</span> and may be removed                     \n",
       "                             in a later version. Use <span style=\"font-weight: bold\">&lt;</span><span style=\"color: #ff00ff; text-decoration-color: #ff00ff; font-weight: bold\">class</span><span style=\"color: #000000; text-decoration-color: #000000\"> </span>                                 \n",
       "                             <span style=\"color: #008000; text-decoration-color: #008000\">'manim.mobject.three_dimensions.Surface'</span><span style=\"font-weight: bold\">&gt;</span>                       \n",
       "                             instead.                                                        \n",
       "</pre>\n"
      ],
      "text/plain": [
       "\u001b[2;36m[01/31/22 13:41:06]\u001b[0m\u001b[2;36m \u001b[0m\u001b[31mWARNING \u001b[0m The class ParametricSurface has been          \u001b]8;id=972864;file://C:\\Users\\thoma\\AppData\\Local\\Programs\\Python\\Python39\\lib\\site-packages\\manim\\utils\\deprecation.py\u001b\\\u001b[2mdeprecation.py\u001b[0m\u001b]8;;\u001b\\\u001b[2m:\u001b[0m\u001b]8;id=808591;file://C:\\Users\\thoma\\AppData\\Local\\Programs\\Python\\Python39\\lib\\site-packages\\manim\\utils\\deprecation.py#210\u001b\\\u001b[2m210\u001b[0m\u001b]8;;\u001b\\\n",
       "                             deprecated since v0.\u001b[32m10.0\u001b[0m and may be removed                     \n",
       "                             in a later version. Use \u001b[1m<\u001b[0m\u001b[1;95mclass\u001b[0m\u001b[39m \u001b[0m                                 \n",
       "                             \u001b[32m'manim.mobject.three_dimensions.Surface'\u001b[0m\u001b[1m>\u001b[0m                       \n",
       "                             instead.                                                        \n"
      ]
     },
     "metadata": {},
     "output_type": "display_data"
    },
    {
     "name": "stderr",
     "output_type": "stream",
     "text": [
      "Animation 0: LaggedStart(Group):  38%|###7      | 6/16 [00:21<00:33,  3.38s/it]"
     ]
    },
    {
     "data": {
      "text/html": [
       "<pre style=\"white-space:pre;overflow-x:auto;line-height:normal;font-family:Menlo,'DejaVu Sans Mono',consolas,'Courier New',monospace\"><span style=\"color: #7fbfbf; text-decoration-color: #7fbfbf\">[01/31/22 13:41:09] </span><span style=\"color: #800000; text-decoration-color: #800000\">WARNING </span> The class ParametricSurface has been          <a href=\"file://C:\\Users\\thoma\\AppData\\Local\\Programs\\Python\\Python39\\lib\\site-packages\\manim\\utils\\deprecation.py\"><span style=\"color: #7f7f7f; text-decoration-color: #7f7f7f\">deprecation.py</span></a><span style=\"color: #7f7f7f; text-decoration-color: #7f7f7f\">:</span><a href=\"file://C:\\Users\\thoma\\AppData\\Local\\Programs\\Python\\Python39\\lib\\site-packages\\manim\\utils\\deprecation.py#210\"><span style=\"color: #7f7f7f; text-decoration-color: #7f7f7f\">210</span></a>\n",
       "                             deprecated since v0.<span style=\"color: #008000; text-decoration-color: #008000\">10.0</span> and may be removed                     \n",
       "                             in a later version. Use <span style=\"font-weight: bold\">&lt;</span><span style=\"color: #ff00ff; text-decoration-color: #ff00ff; font-weight: bold\">class</span><span style=\"color: #000000; text-decoration-color: #000000\"> </span>                                 \n",
       "                             <span style=\"color: #008000; text-decoration-color: #008000\">'manim.mobject.three_dimensions.Surface'</span><span style=\"font-weight: bold\">&gt;</span>                       \n",
       "                             instead.                                                        \n",
       "</pre>\n"
      ],
      "text/plain": [
       "\u001b[2;36m[01/31/22 13:41:09]\u001b[0m\u001b[2;36m \u001b[0m\u001b[31mWARNING \u001b[0m The class ParametricSurface has been          \u001b]8;id=783199;file://C:\\Users\\thoma\\AppData\\Local\\Programs\\Python\\Python39\\lib\\site-packages\\manim\\utils\\deprecation.py\u001b\\\u001b[2mdeprecation.py\u001b[0m\u001b]8;;\u001b\\\u001b[2m:\u001b[0m\u001b]8;id=19607;file://C:\\Users\\thoma\\AppData\\Local\\Programs\\Python\\Python39\\lib\\site-packages\\manim\\utils\\deprecation.py#210\u001b\\\u001b[2m210\u001b[0m\u001b]8;;\u001b\\\n",
       "                             deprecated since v0.\u001b[32m10.0\u001b[0m and may be removed                     \n",
       "                             in a later version. Use \u001b[1m<\u001b[0m\u001b[1;95mclass\u001b[0m\u001b[39m \u001b[0m                                 \n",
       "                             \u001b[32m'manim.mobject.three_dimensions.Surface'\u001b[0m\u001b[1m>\u001b[0m                       \n",
       "                             instead.                                                        \n"
      ]
     },
     "metadata": {},
     "output_type": "display_data"
    },
    {
     "name": "stderr",
     "output_type": "stream",
     "text": [
      "Animation 0: LaggedStart(Group):  44%|####3     | 7/16 [00:23<00:27,  3.11s/it]"
     ]
    },
    {
     "data": {
      "text/html": [
       "<pre style=\"white-space:pre;overflow-x:auto;line-height:normal;font-family:Menlo,'DejaVu Sans Mono',consolas,'Courier New',monospace\"><span style=\"color: #7fbfbf; text-decoration-color: #7fbfbf\">[01/31/22 13:41:12] </span><span style=\"color: #800000; text-decoration-color: #800000\">WARNING </span> The class ParametricSurface has been          <a href=\"file://C:\\Users\\thoma\\AppData\\Local\\Programs\\Python\\Python39\\lib\\site-packages\\manim\\utils\\deprecation.py\"><span style=\"color: #7f7f7f; text-decoration-color: #7f7f7f\">deprecation.py</span></a><span style=\"color: #7f7f7f; text-decoration-color: #7f7f7f\">:</span><a href=\"file://C:\\Users\\thoma\\AppData\\Local\\Programs\\Python\\Python39\\lib\\site-packages\\manim\\utils\\deprecation.py#210\"><span style=\"color: #7f7f7f; text-decoration-color: #7f7f7f\">210</span></a>\n",
       "                             deprecated since v0.<span style=\"color: #008000; text-decoration-color: #008000\">10.0</span> and may be removed                     \n",
       "                             in a later version. Use <span style=\"font-weight: bold\">&lt;</span><span style=\"color: #ff00ff; text-decoration-color: #ff00ff; font-weight: bold\">class</span><span style=\"color: #000000; text-decoration-color: #000000\"> </span>                                 \n",
       "                             <span style=\"color: #008000; text-decoration-color: #008000\">'manim.mobject.three_dimensions.Surface'</span><span style=\"font-weight: bold\">&gt;</span>                       \n",
       "                             instead.                                                        \n",
       "</pre>\n"
      ],
      "text/plain": [
       "\u001b[2;36m[01/31/22 13:41:12]\u001b[0m\u001b[2;36m \u001b[0m\u001b[31mWARNING \u001b[0m The class ParametricSurface has been          \u001b]8;id=298125;file://C:\\Users\\thoma\\AppData\\Local\\Programs\\Python\\Python39\\lib\\site-packages\\manim\\utils\\deprecation.py\u001b\\\u001b[2mdeprecation.py\u001b[0m\u001b]8;;\u001b\\\u001b[2m:\u001b[0m\u001b]8;id=824069;file://C:\\Users\\thoma\\AppData\\Local\\Programs\\Python\\Python39\\lib\\site-packages\\manim\\utils\\deprecation.py#210\u001b\\\u001b[2m210\u001b[0m\u001b]8;;\u001b\\\n",
       "                             deprecated since v0.\u001b[32m10.0\u001b[0m and may be removed                     \n",
       "                             in a later version. Use \u001b[1m<\u001b[0m\u001b[1;95mclass\u001b[0m\u001b[39m \u001b[0m                                 \n",
       "                             \u001b[32m'manim.mobject.three_dimensions.Surface'\u001b[0m\u001b[1m>\u001b[0m                       \n",
       "                             instead.                                                        \n"
      ]
     },
     "metadata": {},
     "output_type": "display_data"
    },
    {
     "name": "stderr",
     "output_type": "stream",
     "text": [
      "Animation 0: LaggedStart(Group):  50%|#####     | 8/16 [00:26<00:24,  3.06s/it]"
     ]
    },
    {
     "data": {
      "text/html": [
       "<pre style=\"white-space:pre;overflow-x:auto;line-height:normal;font-family:Menlo,'DejaVu Sans Mono',consolas,'Courier New',monospace\"><span style=\"color: #7fbfbf; text-decoration-color: #7fbfbf\">[01/31/22 13:41:15] </span><span style=\"color: #800000; text-decoration-color: #800000\">WARNING </span> The class ParametricSurface has been          <a href=\"file://C:\\Users\\thoma\\AppData\\Local\\Programs\\Python\\Python39\\lib\\site-packages\\manim\\utils\\deprecation.py\"><span style=\"color: #7f7f7f; text-decoration-color: #7f7f7f\">deprecation.py</span></a><span style=\"color: #7f7f7f; text-decoration-color: #7f7f7f\">:</span><a href=\"file://C:\\Users\\thoma\\AppData\\Local\\Programs\\Python\\Python39\\lib\\site-packages\\manim\\utils\\deprecation.py#210\"><span style=\"color: #7f7f7f; text-decoration-color: #7f7f7f\">210</span></a>\n",
       "                             deprecated since v0.<span style=\"color: #008000; text-decoration-color: #008000\">10.0</span> and may be removed                     \n",
       "                             in a later version. Use <span style=\"font-weight: bold\">&lt;</span><span style=\"color: #ff00ff; text-decoration-color: #ff00ff; font-weight: bold\">class</span><span style=\"color: #000000; text-decoration-color: #000000\"> </span>                                 \n",
       "                             <span style=\"color: #008000; text-decoration-color: #008000\">'manim.mobject.three_dimensions.Surface'</span><span style=\"font-weight: bold\">&gt;</span>                       \n",
       "                             instead.                                                        \n",
       "</pre>\n"
      ],
      "text/plain": [
       "\u001b[2;36m[01/31/22 13:41:15]\u001b[0m\u001b[2;36m \u001b[0m\u001b[31mWARNING \u001b[0m The class ParametricSurface has been          \u001b]8;id=642089;file://C:\\Users\\thoma\\AppData\\Local\\Programs\\Python\\Python39\\lib\\site-packages\\manim\\utils\\deprecation.py\u001b\\\u001b[2mdeprecation.py\u001b[0m\u001b]8;;\u001b\\\u001b[2m:\u001b[0m\u001b]8;id=596179;file://C:\\Users\\thoma\\AppData\\Local\\Programs\\Python\\Python39\\lib\\site-packages\\manim\\utils\\deprecation.py#210\u001b\\\u001b[2m210\u001b[0m\u001b]8;;\u001b\\\n",
       "                             deprecated since v0.\u001b[32m10.0\u001b[0m and may be removed                     \n",
       "                             in a later version. Use \u001b[1m<\u001b[0m\u001b[1;95mclass\u001b[0m\u001b[39m \u001b[0m                                 \n",
       "                             \u001b[32m'manim.mobject.three_dimensions.Surface'\u001b[0m\u001b[1m>\u001b[0m                       \n",
       "                             instead.                                                        \n"
      ]
     },
     "metadata": {},
     "output_type": "display_data"
    },
    {
     "name": "stderr",
     "output_type": "stream",
     "text": [
      "Animation 0: LaggedStart(Group):  56%|#####6    | 9/16 [00:30<00:21,  3.13s/it]"
     ]
    },
    {
     "data": {
      "text/html": [
       "<pre style=\"white-space:pre;overflow-x:auto;line-height:normal;font-family:Menlo,'DejaVu Sans Mono',consolas,'Courier New',monospace\"><span style=\"color: #7fbfbf; text-decoration-color: #7fbfbf\">[01/31/22 13:41:18] </span><span style=\"color: #800000; text-decoration-color: #800000\">WARNING </span> The class ParametricSurface has been          <a href=\"file://C:\\Users\\thoma\\AppData\\Local\\Programs\\Python\\Python39\\lib\\site-packages\\manim\\utils\\deprecation.py\"><span style=\"color: #7f7f7f; text-decoration-color: #7f7f7f\">deprecation.py</span></a><span style=\"color: #7f7f7f; text-decoration-color: #7f7f7f\">:</span><a href=\"file://C:\\Users\\thoma\\AppData\\Local\\Programs\\Python\\Python39\\lib\\site-packages\\manim\\utils\\deprecation.py#210\"><span style=\"color: #7f7f7f; text-decoration-color: #7f7f7f\">210</span></a>\n",
       "                             deprecated since v0.<span style=\"color: #008000; text-decoration-color: #008000\">10.0</span> and may be removed                     \n",
       "                             in a later version. Use <span style=\"font-weight: bold\">&lt;</span><span style=\"color: #ff00ff; text-decoration-color: #ff00ff; font-weight: bold\">class</span><span style=\"color: #000000; text-decoration-color: #000000\"> </span>                                 \n",
       "                             <span style=\"color: #008000; text-decoration-color: #008000\">'manim.mobject.three_dimensions.Surface'</span><span style=\"font-weight: bold\">&gt;</span>                       \n",
       "                             instead.                                                        \n",
       "</pre>\n"
      ],
      "text/plain": [
       "\u001b[2;36m[01/31/22 13:41:18]\u001b[0m\u001b[2;36m \u001b[0m\u001b[31mWARNING \u001b[0m The class ParametricSurface has been          \u001b]8;id=395093;file://C:\\Users\\thoma\\AppData\\Local\\Programs\\Python\\Python39\\lib\\site-packages\\manim\\utils\\deprecation.py\u001b\\\u001b[2mdeprecation.py\u001b[0m\u001b]8;;\u001b\\\u001b[2m:\u001b[0m\u001b]8;id=402311;file://C:\\Users\\thoma\\AppData\\Local\\Programs\\Python\\Python39\\lib\\site-packages\\manim\\utils\\deprecation.py#210\u001b\\\u001b[2m210\u001b[0m\u001b]8;;\u001b\\\n",
       "                             deprecated since v0.\u001b[32m10.0\u001b[0m and may be removed                     \n",
       "                             in a later version. Use \u001b[1m<\u001b[0m\u001b[1;95mclass\u001b[0m\u001b[39m \u001b[0m                                 \n",
       "                             \u001b[32m'manim.mobject.three_dimensions.Surface'\u001b[0m\u001b[1m>\u001b[0m                       \n",
       "                             instead.                                                        \n"
      ]
     },
     "metadata": {},
     "output_type": "display_data"
    },
    {
     "name": "stderr",
     "output_type": "stream",
     "text": [
      "Animation 0: LaggedStart(Group):  62%|######2   | 10/16 [00:34<00:21,  3.56s/it]"
     ]
    },
    {
     "data": {
      "text/html": [
       "<pre style=\"white-space:pre;overflow-x:auto;line-height:normal;font-family:Menlo,'DejaVu Sans Mono',consolas,'Courier New',monospace\"><span style=\"color: #7fbfbf; text-decoration-color: #7fbfbf\">[01/31/22 13:41:22] </span><span style=\"color: #800000; text-decoration-color: #800000\">WARNING </span> The class ParametricSurface has been          <a href=\"file://C:\\Users\\thoma\\AppData\\Local\\Programs\\Python\\Python39\\lib\\site-packages\\manim\\utils\\deprecation.py\"><span style=\"color: #7f7f7f; text-decoration-color: #7f7f7f\">deprecation.py</span></a><span style=\"color: #7f7f7f; text-decoration-color: #7f7f7f\">:</span><a href=\"file://C:\\Users\\thoma\\AppData\\Local\\Programs\\Python\\Python39\\lib\\site-packages\\manim\\utils\\deprecation.py#210\"><span style=\"color: #7f7f7f; text-decoration-color: #7f7f7f\">210</span></a>\n",
       "                             deprecated since v0.<span style=\"color: #008000; text-decoration-color: #008000\">10.0</span> and may be removed                     \n",
       "                             in a later version. Use <span style=\"font-weight: bold\">&lt;</span><span style=\"color: #ff00ff; text-decoration-color: #ff00ff; font-weight: bold\">class</span><span style=\"color: #000000; text-decoration-color: #000000\"> </span>                                 \n",
       "                             <span style=\"color: #008000; text-decoration-color: #008000\">'manim.mobject.three_dimensions.Surface'</span><span style=\"font-weight: bold\">&gt;</span>                       \n",
       "                             instead.                                                        \n",
       "</pre>\n"
      ],
      "text/plain": [
       "\u001b[2;36m[01/31/22 13:41:22]\u001b[0m\u001b[2;36m \u001b[0m\u001b[31mWARNING \u001b[0m The class ParametricSurface has been          \u001b]8;id=6646;file://C:\\Users\\thoma\\AppData\\Local\\Programs\\Python\\Python39\\lib\\site-packages\\manim\\utils\\deprecation.py\u001b\\\u001b[2mdeprecation.py\u001b[0m\u001b]8;;\u001b\\\u001b[2m:\u001b[0m\u001b]8;id=190966;file://C:\\Users\\thoma\\AppData\\Local\\Programs\\Python\\Python39\\lib\\site-packages\\manim\\utils\\deprecation.py#210\u001b\\\u001b[2m210\u001b[0m\u001b]8;;\u001b\\\n",
       "                             deprecated since v0.\u001b[32m10.0\u001b[0m and may be removed                     \n",
       "                             in a later version. Use \u001b[1m<\u001b[0m\u001b[1;95mclass\u001b[0m\u001b[39m \u001b[0m                                 \n",
       "                             \u001b[32m'manim.mobject.three_dimensions.Surface'\u001b[0m\u001b[1m>\u001b[0m                       \n",
       "                             instead.                                                        \n"
      ]
     },
     "metadata": {},
     "output_type": "display_data"
    },
    {
     "name": "stderr",
     "output_type": "stream",
     "text": [
      "Animation 0: LaggedStart(Group):  69%|######8   | 11/16 [00:37<00:17,  3.50s/it]"
     ]
    },
    {
     "data": {
      "text/html": [
       "<pre style=\"white-space:pre;overflow-x:auto;line-height:normal;font-family:Menlo,'DejaVu Sans Mono',consolas,'Courier New',monospace\"><span style=\"color: #7fbfbf; text-decoration-color: #7fbfbf\">[01/31/22 13:41:26] </span><span style=\"color: #800000; text-decoration-color: #800000\">WARNING </span> The class ParametricSurface has been          <a href=\"file://C:\\Users\\thoma\\AppData\\Local\\Programs\\Python\\Python39\\lib\\site-packages\\manim\\utils\\deprecation.py\"><span style=\"color: #7f7f7f; text-decoration-color: #7f7f7f\">deprecation.py</span></a><span style=\"color: #7f7f7f; text-decoration-color: #7f7f7f\">:</span><a href=\"file://C:\\Users\\thoma\\AppData\\Local\\Programs\\Python\\Python39\\lib\\site-packages\\manim\\utils\\deprecation.py#210\"><span style=\"color: #7f7f7f; text-decoration-color: #7f7f7f\">210</span></a>\n",
       "                             deprecated since v0.<span style=\"color: #008000; text-decoration-color: #008000\">10.0</span> and may be removed                     \n",
       "                             in a later version. Use <span style=\"font-weight: bold\">&lt;</span><span style=\"color: #ff00ff; text-decoration-color: #ff00ff; font-weight: bold\">class</span><span style=\"color: #000000; text-decoration-color: #000000\"> </span>                                 \n",
       "                             <span style=\"color: #008000; text-decoration-color: #008000\">'manim.mobject.three_dimensions.Surface'</span><span style=\"font-weight: bold\">&gt;</span>                       \n",
       "                             instead.                                                        \n",
       "</pre>\n"
      ],
      "text/plain": [
       "\u001b[2;36m[01/31/22 13:41:26]\u001b[0m\u001b[2;36m \u001b[0m\u001b[31mWARNING \u001b[0m The class ParametricSurface has been          \u001b]8;id=662551;file://C:\\Users\\thoma\\AppData\\Local\\Programs\\Python\\Python39\\lib\\site-packages\\manim\\utils\\deprecation.py\u001b\\\u001b[2mdeprecation.py\u001b[0m\u001b]8;;\u001b\\\u001b[2m:\u001b[0m\u001b]8;id=19849;file://C:\\Users\\thoma\\AppData\\Local\\Programs\\Python\\Python39\\lib\\site-packages\\manim\\utils\\deprecation.py#210\u001b\\\u001b[2m210\u001b[0m\u001b]8;;\u001b\\\n",
       "                             deprecated since v0.\u001b[32m10.0\u001b[0m and may be removed                     \n",
       "                             in a later version. Use \u001b[1m<\u001b[0m\u001b[1;95mclass\u001b[0m\u001b[39m \u001b[0m                                 \n",
       "                             \u001b[32m'manim.mobject.three_dimensions.Surface'\u001b[0m\u001b[1m>\u001b[0m                       \n",
       "                             instead.                                                        \n"
      ]
     },
     "metadata": {},
     "output_type": "display_data"
    },
    {
     "name": "stderr",
     "output_type": "stream",
     "text": [
      "Animation 0: LaggedStart(Group):  75%|#######5  | 12/16 [00:42<00:14,  3.68s/it]"
     ]
    },
    {
     "data": {
      "text/html": [
       "<pre style=\"white-space:pre;overflow-x:auto;line-height:normal;font-family:Menlo,'DejaVu Sans Mono',consolas,'Courier New',monospace\"><span style=\"color: #7fbfbf; text-decoration-color: #7fbfbf\">[01/31/22 13:41:30] </span><span style=\"color: #800000; text-decoration-color: #800000\">WARNING </span> The class ParametricSurface has been          <a href=\"file://C:\\Users\\thoma\\AppData\\Local\\Programs\\Python\\Python39\\lib\\site-packages\\manim\\utils\\deprecation.py\"><span style=\"color: #7f7f7f; text-decoration-color: #7f7f7f\">deprecation.py</span></a><span style=\"color: #7f7f7f; text-decoration-color: #7f7f7f\">:</span><a href=\"file://C:\\Users\\thoma\\AppData\\Local\\Programs\\Python\\Python39\\lib\\site-packages\\manim\\utils\\deprecation.py#210\"><span style=\"color: #7f7f7f; text-decoration-color: #7f7f7f\">210</span></a>\n",
       "                             deprecated since v0.<span style=\"color: #008000; text-decoration-color: #008000\">10.0</span> and may be removed                     \n",
       "                             in a later version. Use <span style=\"font-weight: bold\">&lt;</span><span style=\"color: #ff00ff; text-decoration-color: #ff00ff; font-weight: bold\">class</span><span style=\"color: #000000; text-decoration-color: #000000\"> </span>                                 \n",
       "                             <span style=\"color: #008000; text-decoration-color: #008000\">'manim.mobject.three_dimensions.Surface'</span><span style=\"font-weight: bold\">&gt;</span>                       \n",
       "                             instead.                                                        \n",
       "</pre>\n"
      ],
      "text/plain": [
       "\u001b[2;36m[01/31/22 13:41:30]\u001b[0m\u001b[2;36m \u001b[0m\u001b[31mWARNING \u001b[0m The class ParametricSurface has been          \u001b]8;id=457413;file://C:\\Users\\thoma\\AppData\\Local\\Programs\\Python\\Python39\\lib\\site-packages\\manim\\utils\\deprecation.py\u001b\\\u001b[2mdeprecation.py\u001b[0m\u001b]8;;\u001b\\\u001b[2m:\u001b[0m\u001b]8;id=628522;file://C:\\Users\\thoma\\AppData\\Local\\Programs\\Python\\Python39\\lib\\site-packages\\manim\\utils\\deprecation.py#210\u001b\\\u001b[2m210\u001b[0m\u001b]8;;\u001b\\\n",
       "                             deprecated since v0.\u001b[32m10.0\u001b[0m and may be removed                     \n",
       "                             in a later version. Use \u001b[1m<\u001b[0m\u001b[1;95mclass\u001b[0m\u001b[39m \u001b[0m                                 \n",
       "                             \u001b[32m'manim.mobject.three_dimensions.Surface'\u001b[0m\u001b[1m>\u001b[0m                       \n",
       "                             instead.                                                        \n"
      ]
     },
     "metadata": {},
     "output_type": "display_data"
    },
    {
     "name": "stderr",
     "output_type": "stream",
     "text": [
      "Animation 0: LaggedStart(Group):  81%|########1 | 13/16 [00:45<00:10,  3.60s/it]"
     ]
    },
    {
     "data": {
      "text/html": [
       "<pre style=\"white-space:pre;overflow-x:auto;line-height:normal;font-family:Menlo,'DejaVu Sans Mono',consolas,'Courier New',monospace\"><span style=\"color: #7fbfbf; text-decoration-color: #7fbfbf\">[01/31/22 13:41:33] </span><span style=\"color: #800000; text-decoration-color: #800000\">WARNING </span> The class ParametricSurface has been          <a href=\"file://C:\\Users\\thoma\\AppData\\Local\\Programs\\Python\\Python39\\lib\\site-packages\\manim\\utils\\deprecation.py\"><span style=\"color: #7f7f7f; text-decoration-color: #7f7f7f\">deprecation.py</span></a><span style=\"color: #7f7f7f; text-decoration-color: #7f7f7f\">:</span><a href=\"file://C:\\Users\\thoma\\AppData\\Local\\Programs\\Python\\Python39\\lib\\site-packages\\manim\\utils\\deprecation.py#210\"><span style=\"color: #7f7f7f; text-decoration-color: #7f7f7f\">210</span></a>\n",
       "                             deprecated since v0.<span style=\"color: #008000; text-decoration-color: #008000\">10.0</span> and may be removed                     \n",
       "                             in a later version. Use <span style=\"font-weight: bold\">&lt;</span><span style=\"color: #ff00ff; text-decoration-color: #ff00ff; font-weight: bold\">class</span><span style=\"color: #000000; text-decoration-color: #000000\"> </span>                                 \n",
       "                             <span style=\"color: #008000; text-decoration-color: #008000\">'manim.mobject.three_dimensions.Surface'</span><span style=\"font-weight: bold\">&gt;</span>                       \n",
       "                             instead.                                                        \n",
       "</pre>\n"
      ],
      "text/plain": [
       "\u001b[2;36m[01/31/22 13:41:33]\u001b[0m\u001b[2;36m \u001b[0m\u001b[31mWARNING \u001b[0m The class ParametricSurface has been          \u001b]8;id=501134;file://C:\\Users\\thoma\\AppData\\Local\\Programs\\Python\\Python39\\lib\\site-packages\\manim\\utils\\deprecation.py\u001b\\\u001b[2mdeprecation.py\u001b[0m\u001b]8;;\u001b\\\u001b[2m:\u001b[0m\u001b]8;id=741180;file://C:\\Users\\thoma\\AppData\\Local\\Programs\\Python\\Python39\\lib\\site-packages\\manim\\utils\\deprecation.py#210\u001b\\\u001b[2m210\u001b[0m\u001b]8;;\u001b\\\n",
       "                             deprecated since v0.\u001b[32m10.0\u001b[0m and may be removed                     \n",
       "                             in a later version. Use \u001b[1m<\u001b[0m\u001b[1;95mclass\u001b[0m\u001b[39m \u001b[0m                                 \n",
       "                             \u001b[32m'manim.mobject.three_dimensions.Surface'\u001b[0m\u001b[1m>\u001b[0m                       \n",
       "                             instead.                                                        \n"
      ]
     },
     "metadata": {},
     "output_type": "display_data"
    },
    {
     "name": "stderr",
     "output_type": "stream",
     "text": [
      "Animation 0: LaggedStart(Group):  88%|########7 | 14/16 [00:49<00:07,  3.89s/it]"
     ]
    },
    {
     "data": {
      "text/html": [
       "<pre style=\"white-space:pre;overflow-x:auto;line-height:normal;font-family:Menlo,'DejaVu Sans Mono',consolas,'Courier New',monospace\"><span style=\"color: #7fbfbf; text-decoration-color: #7fbfbf\">[01/31/22 13:41:38] </span><span style=\"color: #800000; text-decoration-color: #800000\">WARNING </span> The class ParametricSurface has been          <a href=\"file://C:\\Users\\thoma\\AppData\\Local\\Programs\\Python\\Python39\\lib\\site-packages\\manim\\utils\\deprecation.py\"><span style=\"color: #7f7f7f; text-decoration-color: #7f7f7f\">deprecation.py</span></a><span style=\"color: #7f7f7f; text-decoration-color: #7f7f7f\">:</span><a href=\"file://C:\\Users\\thoma\\AppData\\Local\\Programs\\Python\\Python39\\lib\\site-packages\\manim\\utils\\deprecation.py#210\"><span style=\"color: #7f7f7f; text-decoration-color: #7f7f7f\">210</span></a>\n",
       "                             deprecated since v0.<span style=\"color: #008000; text-decoration-color: #008000\">10.0</span> and may be removed                     \n",
       "                             in a later version. Use <span style=\"font-weight: bold\">&lt;</span><span style=\"color: #ff00ff; text-decoration-color: #ff00ff; font-weight: bold\">class</span><span style=\"color: #000000; text-decoration-color: #000000\"> </span>                                 \n",
       "                             <span style=\"color: #008000; text-decoration-color: #008000\">'manim.mobject.three_dimensions.Surface'</span><span style=\"font-weight: bold\">&gt;</span>                       \n",
       "                             instead.                                                        \n",
       "</pre>\n"
      ],
      "text/plain": [
       "\u001b[2;36m[01/31/22 13:41:38]\u001b[0m\u001b[2;36m \u001b[0m\u001b[31mWARNING \u001b[0m The class ParametricSurface has been          \u001b]8;id=487501;file://C:\\Users\\thoma\\AppData\\Local\\Programs\\Python\\Python39\\lib\\site-packages\\manim\\utils\\deprecation.py\u001b\\\u001b[2mdeprecation.py\u001b[0m\u001b]8;;\u001b\\\u001b[2m:\u001b[0m\u001b]8;id=227548;file://C:\\Users\\thoma\\AppData\\Local\\Programs\\Python\\Python39\\lib\\site-packages\\manim\\utils\\deprecation.py#210\u001b\\\u001b[2m210\u001b[0m\u001b]8;;\u001b\\\n",
       "                             deprecated since v0.\u001b[32m10.0\u001b[0m and may be removed                     \n",
       "                             in a later version. Use \u001b[1m<\u001b[0m\u001b[1;95mclass\u001b[0m\u001b[39m \u001b[0m                                 \n",
       "                             \u001b[32m'manim.mobject.three_dimensions.Surface'\u001b[0m\u001b[1m>\u001b[0m                       \n",
       "                             instead.                                                        \n"
      ]
     },
     "metadata": {},
     "output_type": "display_data"
    },
    {
     "name": "stderr",
     "output_type": "stream",
     "text": [
      "Animation 0: LaggedStart(Group):  94%|#########3| 15/16 [00:54<00:03,  3.95s/it]"
     ]
    },
    {
     "data": {
      "text/html": [
       "<pre style=\"white-space:pre;overflow-x:auto;line-height:normal;font-family:Menlo,'DejaVu Sans Mono',consolas,'Courier New',monospace\"><span style=\"color: #7fbfbf; text-decoration-color: #7fbfbf\">[01/31/22 13:41:42] </span><span style=\"color: #800000; text-decoration-color: #800000\">WARNING </span> The class ParametricSurface has been          <a href=\"file://C:\\Users\\thoma\\AppData\\Local\\Programs\\Python\\Python39\\lib\\site-packages\\manim\\utils\\deprecation.py\"><span style=\"color: #7f7f7f; text-decoration-color: #7f7f7f\">deprecation.py</span></a><span style=\"color: #7f7f7f; text-decoration-color: #7f7f7f\">:</span><a href=\"file://C:\\Users\\thoma\\AppData\\Local\\Programs\\Python\\Python39\\lib\\site-packages\\manim\\utils\\deprecation.py#210\"><span style=\"color: #7f7f7f; text-decoration-color: #7f7f7f\">210</span></a>\n",
       "                             deprecated since v0.<span style=\"color: #008000; text-decoration-color: #008000\">10.0</span> and may be removed                     \n",
       "                             in a later version. Use <span style=\"font-weight: bold\">&lt;</span><span style=\"color: #ff00ff; text-decoration-color: #ff00ff; font-weight: bold\">class</span><span style=\"color: #000000; text-decoration-color: #000000\"> </span>                                 \n",
       "                             <span style=\"color: #008000; text-decoration-color: #008000\">'manim.mobject.three_dimensions.Surface'</span><span style=\"font-weight: bold\">&gt;</span>                       \n",
       "                             instead.                                                        \n",
       "</pre>\n"
      ],
      "text/plain": [
       "\u001b[2;36m[01/31/22 13:41:42]\u001b[0m\u001b[2;36m \u001b[0m\u001b[31mWARNING \u001b[0m The class ParametricSurface has been          \u001b]8;id=550252;file://C:\\Users\\thoma\\AppData\\Local\\Programs\\Python\\Python39\\lib\\site-packages\\manim\\utils\\deprecation.py\u001b\\\u001b[2mdeprecation.py\u001b[0m\u001b]8;;\u001b\\\u001b[2m:\u001b[0m\u001b]8;id=349310;file://C:\\Users\\thoma\\AppData\\Local\\Programs\\Python\\Python39\\lib\\site-packages\\manim\\utils\\deprecation.py#210\u001b\\\u001b[2m210\u001b[0m\u001b]8;;\u001b\\\n",
       "                             deprecated since v0.\u001b[32m10.0\u001b[0m and may be removed                     \n",
       "                             in a later version. Use \u001b[1m<\u001b[0m\u001b[1;95mclass\u001b[0m\u001b[39m \u001b[0m                                 \n",
       "                             \u001b[32m'manim.mobject.three_dimensions.Surface'\u001b[0m\u001b[1m>\u001b[0m                       \n",
       "                             instead.                                                        \n"
      ]
     },
     "metadata": {},
     "output_type": "display_data"
    },
    {
     "name": "stderr",
     "output_type": "stream",
     "text": [
      "                                                                                \r"
     ]
    },
    {
     "data": {
      "text/html": [
       "<pre style=\"white-space:pre;overflow-x:auto;line-height:normal;font-family:Menlo,'DejaVu Sans Mono',consolas,'Courier New',monospace\"><span style=\"color: #7fbfbf; text-decoration-color: #7fbfbf\">[01/31/22 13:41:45] </span><span style=\"color: #800000; text-decoration-color: #800000\">WARNING </span> The class ParametricSurface has been          <a href=\"file://C:\\Users\\thoma\\AppData\\Local\\Programs\\Python\\Python39\\lib\\site-packages\\manim\\utils\\deprecation.py\"><span style=\"color: #7f7f7f; text-decoration-color: #7f7f7f\">deprecation.py</span></a><span style=\"color: #7f7f7f; text-decoration-color: #7f7f7f\">:</span><a href=\"file://C:\\Users\\thoma\\AppData\\Local\\Programs\\Python\\Python39\\lib\\site-packages\\manim\\utils\\deprecation.py#210\"><span style=\"color: #7f7f7f; text-decoration-color: #7f7f7f\">210</span></a>\n",
       "                             deprecated since v0.<span style=\"color: #008000; text-decoration-color: #008000\">10.0</span> and may be removed                     \n",
       "                             in a later version. Use <span style=\"font-weight: bold\">&lt;</span><span style=\"color: #ff00ff; text-decoration-color: #ff00ff; font-weight: bold\">class</span><span style=\"color: #000000; text-decoration-color: #000000\"> </span>                                 \n",
       "                             <span style=\"color: #008000; text-decoration-color: #008000\">'manim.mobject.three_dimensions.Surface'</span><span style=\"font-weight: bold\">&gt;</span>                       \n",
       "                             instead.                                                        \n",
       "</pre>\n"
      ],
      "text/plain": [
       "\u001b[2;36m[01/31/22 13:41:45]\u001b[0m\u001b[2;36m \u001b[0m\u001b[31mWARNING \u001b[0m The class ParametricSurface has been          \u001b]8;id=71079;file://C:\\Users\\thoma\\AppData\\Local\\Programs\\Python\\Python39\\lib\\site-packages\\manim\\utils\\deprecation.py\u001b\\\u001b[2mdeprecation.py\u001b[0m\u001b]8;;\u001b\\\u001b[2m:\u001b[0m\u001b]8;id=508925;file://C:\\Users\\thoma\\AppData\\Local\\Programs\\Python\\Python39\\lib\\site-packages\\manim\\utils\\deprecation.py#210\u001b\\\u001b[2m210\u001b[0m\u001b]8;;\u001b\\\n",
       "                             deprecated since v0.\u001b[32m10.0\u001b[0m and may be removed                     \n",
       "                             in a later version. Use \u001b[1m<\u001b[0m\u001b[1;95mclass\u001b[0m\u001b[39m \u001b[0m                                 \n",
       "                             \u001b[32m'manim.mobject.three_dimensions.Surface'\u001b[0m\u001b[1m>\u001b[0m                       \n",
       "                             instead.                                                        \n"
      ]
     },
     "metadata": {},
     "output_type": "display_data"
    },
    {
     "data": {
      "text/html": [
       "<pre style=\"white-space:pre;overflow-x:auto;line-height:normal;font-family:Menlo,'DejaVu Sans Mono',consolas,'Courier New',monospace\"><span style=\"color: #7fbfbf; text-decoration-color: #7fbfbf\">[01/31/22 13:41:48] </span><span style=\"color: #008000; text-decoration-color: #008000\">INFO    </span> Animation <span style=\"color: #008000; text-decoration-color: #008000\">0</span> : Partial movie file        <a href=\"file://C:\\Users\\thoma\\AppData\\Local\\Programs\\Python\\Python39\\lib\\site-packages\\manim\\scene\\scene_file_writer.py\"><span style=\"color: #7f7f7f; text-decoration-color: #7f7f7f\">scene_file_writer.py</span></a><span style=\"color: #7f7f7f; text-decoration-color: #7f7f7f\">:</span><a href=\"file://C:\\Users\\thoma\\AppData\\Local\\Programs\\Python\\Python39\\lib\\site-packages\\manim\\scene\\scene_file_writer.py#514\"><span style=\"color: #7f7f7f; text-decoration-color: #7f7f7f\">514</span></a>\n",
       "                             written in <span style=\"color: #008000; text-decoration-color: #008000\">'c:\\Users\\thoma\\Desktop\\Apre</span>                         \n",
       "                             <span style=\"color: #008000; text-decoration-color: #008000\">ndizado\\Manim\\media\\videos\\Manim\\480p15</span>                         \n",
       "                             <span style=\"color: #008000; text-decoration-color: #008000\">\\partial_movie_files\\Tute3\\4290249967_1</span>                         \n",
       "                             <span style=\"color: #008000; text-decoration-color: #008000\">280101388_4051522551.mp4'</span>                                       \n",
       "</pre>\n"
      ],
      "text/plain": [
       "\u001b[2;36m[01/31/22 13:41:48]\u001b[0m\u001b[2;36m \u001b[0m\u001b[32mINFO    \u001b[0m Animation \u001b[32m0\u001b[0m : Partial movie file        \u001b]8;id=200505;file://C:\\Users\\thoma\\AppData\\Local\\Programs\\Python\\Python39\\lib\\site-packages\\manim\\scene\\scene_file_writer.py\u001b\\\u001b[2mscene_file_writer.py\u001b[0m\u001b]8;;\u001b\\\u001b[2m:\u001b[0m\u001b]8;id=573365;file://C:\\Users\\thoma\\AppData\\Local\\Programs\\Python\\Python39\\lib\\site-packages\\manim\\scene\\scene_file_writer.py#514\u001b\\\u001b[2m514\u001b[0m\u001b]8;;\u001b\\\n",
       "                             written in \u001b[32m'c:\\Users\\thoma\\Desktop\\Apre\u001b[0m                         \n",
       "                             \u001b[32mndizado\\Manim\\media\\videos\\Manim\\480p15\u001b[0m                         \n",
       "                             \u001b[32m\\partial_movie_files\\Tute3\\4290249967_1\u001b[0m                         \n",
       "                             \u001b[32m280101388_4051522551.mp4'\u001b[0m                                       \n"
      ]
     },
     "metadata": {},
     "output_type": "display_data"
    },
    {
     "name": "stderr",
     "output_type": "stream",
     "text": [
      "Animation 1: Rotating(Polygon), etc.:   0%|          | 0/90 [00:00<?, ?it/s]"
     ]
    },
    {
     "data": {
      "text/html": [
       "<pre style=\"white-space:pre;overflow-x:auto;line-height:normal;font-family:Menlo,'DejaVu Sans Mono',consolas,'Courier New',monospace\"><span style=\"color: #7fbfbf; text-decoration-color: #7fbfbf\">[01/31/22 13:41:50] </span><span style=\"color: #800000; text-decoration-color: #800000\">WARNING </span> The class ParametricSurface has been          <a href=\"file://C:\\Users\\thoma\\AppData\\Local\\Programs\\Python\\Python39\\lib\\site-packages\\manim\\utils\\deprecation.py\"><span style=\"color: #7f7f7f; text-decoration-color: #7f7f7f\">deprecation.py</span></a><span style=\"color: #7f7f7f; text-decoration-color: #7f7f7f\">:</span><a href=\"file://C:\\Users\\thoma\\AppData\\Local\\Programs\\Python\\Python39\\lib\\site-packages\\manim\\utils\\deprecation.py#210\"><span style=\"color: #7f7f7f; text-decoration-color: #7f7f7f\">210</span></a>\n",
       "                             deprecated since v0.<span style=\"color: #008000; text-decoration-color: #008000\">10.0</span> and may be removed                     \n",
       "                             in a later version. Use <span style=\"font-weight: bold\">&lt;</span><span style=\"color: #ff00ff; text-decoration-color: #ff00ff; font-weight: bold\">class</span><span style=\"color: #000000; text-decoration-color: #000000\"> </span>                                 \n",
       "                             <span style=\"color: #008000; text-decoration-color: #008000\">'manim.mobject.three_dimensions.Surface'</span><span style=\"font-weight: bold\">&gt;</span>                       \n",
       "                             instead.                                                        \n",
       "</pre>\n"
      ],
      "text/plain": [
       "\u001b[2;36m[01/31/22 13:41:50]\u001b[0m\u001b[2;36m \u001b[0m\u001b[31mWARNING \u001b[0m The class ParametricSurface has been          \u001b]8;id=850231;file://C:\\Users\\thoma\\AppData\\Local\\Programs\\Python\\Python39\\lib\\site-packages\\manim\\utils\\deprecation.py\u001b\\\u001b[2mdeprecation.py\u001b[0m\u001b]8;;\u001b\\\u001b[2m:\u001b[0m\u001b]8;id=817982;file://C:\\Users\\thoma\\AppData\\Local\\Programs\\Python\\Python39\\lib\\site-packages\\manim\\utils\\deprecation.py#210\u001b\\\u001b[2m210\u001b[0m\u001b]8;;\u001b\\\n",
       "                             deprecated since v0.\u001b[32m10.0\u001b[0m and may be removed                     \n",
       "                             in a later version. Use \u001b[1m<\u001b[0m\u001b[1;95mclass\u001b[0m\u001b[39m \u001b[0m                                 \n",
       "                             \u001b[32m'manim.mobject.three_dimensions.Surface'\u001b[0m\u001b[1m>\u001b[0m                       \n",
       "                             instead.                                                        \n"
      ]
     },
     "metadata": {},
     "output_type": "display_data"
    },
    {
     "name": "stderr",
     "output_type": "stream",
     "text": [
      "Animation 1: Rotating(Polygon), etc.:   1%|1         | 1/90 [00:03<05:35,  3.77s/it]"
     ]
    },
    {
     "data": {
      "text/html": [
       "<pre style=\"white-space:pre;overflow-x:auto;line-height:normal;font-family:Menlo,'DejaVu Sans Mono',consolas,'Courier New',monospace\"><span style=\"color: #7fbfbf; text-decoration-color: #7fbfbf\">[01/31/22 13:41:54] </span><span style=\"color: #800000; text-decoration-color: #800000\">WARNING </span> The class ParametricSurface has been          <a href=\"file://C:\\Users\\thoma\\AppData\\Local\\Programs\\Python\\Python39\\lib\\site-packages\\manim\\utils\\deprecation.py\"><span style=\"color: #7f7f7f; text-decoration-color: #7f7f7f\">deprecation.py</span></a><span style=\"color: #7f7f7f; text-decoration-color: #7f7f7f\">:</span><a href=\"file://C:\\Users\\thoma\\AppData\\Local\\Programs\\Python\\Python39\\lib\\site-packages\\manim\\utils\\deprecation.py#210\"><span style=\"color: #7f7f7f; text-decoration-color: #7f7f7f\">210</span></a>\n",
       "                             deprecated since v0.<span style=\"color: #008000; text-decoration-color: #008000\">10.0</span> and may be removed                     \n",
       "                             in a later version. Use <span style=\"font-weight: bold\">&lt;</span><span style=\"color: #ff00ff; text-decoration-color: #ff00ff; font-weight: bold\">class</span><span style=\"color: #000000; text-decoration-color: #000000\"> </span>                                 \n",
       "                             <span style=\"color: #008000; text-decoration-color: #008000\">'manim.mobject.three_dimensions.Surface'</span><span style=\"font-weight: bold\">&gt;</span>                       \n",
       "                             instead.                                                        \n",
       "</pre>\n"
      ],
      "text/plain": [
       "\u001b[2;36m[01/31/22 13:41:54]\u001b[0m\u001b[2;36m \u001b[0m\u001b[31mWARNING \u001b[0m The class ParametricSurface has been          \u001b]8;id=472281;file://C:\\Users\\thoma\\AppData\\Local\\Programs\\Python\\Python39\\lib\\site-packages\\manim\\utils\\deprecation.py\u001b\\\u001b[2mdeprecation.py\u001b[0m\u001b]8;;\u001b\\\u001b[2m:\u001b[0m\u001b]8;id=999848;file://C:\\Users\\thoma\\AppData\\Local\\Programs\\Python\\Python39\\lib\\site-packages\\manim\\utils\\deprecation.py#210\u001b\\\u001b[2m210\u001b[0m\u001b]8;;\u001b\\\n",
       "                             deprecated since v0.\u001b[32m10.0\u001b[0m and may be removed                     \n",
       "                             in a later version. Use \u001b[1m<\u001b[0m\u001b[1;95mclass\u001b[0m\u001b[39m \u001b[0m                                 \n",
       "                             \u001b[32m'manim.mobject.three_dimensions.Surface'\u001b[0m\u001b[1m>\u001b[0m                       \n",
       "                             instead.                                                        \n"
      ]
     },
     "metadata": {},
     "output_type": "display_data"
    },
    {
     "name": "stderr",
     "output_type": "stream",
     "text": [
      "Animation 1: Rotating(Polygon), etc.:   2%|2         | 2/90 [00:06<04:36,  3.14s/it]"
     ]
    },
    {
     "data": {
      "text/html": [
       "<pre style=\"white-space:pre;overflow-x:auto;line-height:normal;font-family:Menlo,'DejaVu Sans Mono',consolas,'Courier New',monospace\"><span style=\"color: #7fbfbf; text-decoration-color: #7fbfbf\">[01/31/22 13:41:57] </span><span style=\"color: #800000; text-decoration-color: #800000\">WARNING </span> The class ParametricSurface has been          <a href=\"file://C:\\Users\\thoma\\AppData\\Local\\Programs\\Python\\Python39\\lib\\site-packages\\manim\\utils\\deprecation.py\"><span style=\"color: #7f7f7f; text-decoration-color: #7f7f7f\">deprecation.py</span></a><span style=\"color: #7f7f7f; text-decoration-color: #7f7f7f\">:</span><a href=\"file://C:\\Users\\thoma\\AppData\\Local\\Programs\\Python\\Python39\\lib\\site-packages\\manim\\utils\\deprecation.py#210\"><span style=\"color: #7f7f7f; text-decoration-color: #7f7f7f\">210</span></a>\n",
       "                             deprecated since v0.<span style=\"color: #008000; text-decoration-color: #008000\">10.0</span> and may be removed                     \n",
       "                             in a later version. Use <span style=\"font-weight: bold\">&lt;</span><span style=\"color: #ff00ff; text-decoration-color: #ff00ff; font-weight: bold\">class</span><span style=\"color: #000000; text-decoration-color: #000000\"> </span>                                 \n",
       "                             <span style=\"color: #008000; text-decoration-color: #008000\">'manim.mobject.three_dimensions.Surface'</span><span style=\"font-weight: bold\">&gt;</span>                       \n",
       "                             instead.                                                        \n",
       "</pre>\n"
      ],
      "text/plain": [
       "\u001b[2;36m[01/31/22 13:41:57]\u001b[0m\u001b[2;36m \u001b[0m\u001b[31mWARNING \u001b[0m The class ParametricSurface has been          \u001b]8;id=718309;file://C:\\Users\\thoma\\AppData\\Local\\Programs\\Python\\Python39\\lib\\site-packages\\manim\\utils\\deprecation.py\u001b\\\u001b[2mdeprecation.py\u001b[0m\u001b]8;;\u001b\\\u001b[2m:\u001b[0m\u001b]8;id=594663;file://C:\\Users\\thoma\\AppData\\Local\\Programs\\Python\\Python39\\lib\\site-packages\\manim\\utils\\deprecation.py#210\u001b\\\u001b[2m210\u001b[0m\u001b]8;;\u001b\\\n",
       "                             deprecated since v0.\u001b[32m10.0\u001b[0m and may be removed                     \n",
       "                             in a later version. Use \u001b[1m<\u001b[0m\u001b[1;95mclass\u001b[0m\u001b[39m \u001b[0m                                 \n",
       "                             \u001b[32m'manim.mobject.three_dimensions.Surface'\u001b[0m\u001b[1m>\u001b[0m                       \n",
       "                             instead.                                                        \n"
      ]
     },
     "metadata": {},
     "output_type": "display_data"
    },
    {
     "name": "stderr",
     "output_type": "stream",
     "text": [
      "Animation 1: Rotating(Polygon), etc.:   3%|3         | 3/90 [00:08<03:59,  2.76s/it]"
     ]
    },
    {
     "data": {
      "text/html": [
       "<pre style=\"white-space:pre;overflow-x:auto;line-height:normal;font-family:Menlo,'DejaVu Sans Mono',consolas,'Courier New',monospace\"><span style=\"color: #7fbfbf; text-decoration-color: #7fbfbf\">[01/31/22 13:41:59] </span><span style=\"color: #800000; text-decoration-color: #800000\">WARNING </span> The class ParametricSurface has been          <a href=\"file://C:\\Users\\thoma\\AppData\\Local\\Programs\\Python\\Python39\\lib\\site-packages\\manim\\utils\\deprecation.py\"><span style=\"color: #7f7f7f; text-decoration-color: #7f7f7f\">deprecation.py</span></a><span style=\"color: #7f7f7f; text-decoration-color: #7f7f7f\">:</span><a href=\"file://C:\\Users\\thoma\\AppData\\Local\\Programs\\Python\\Python39\\lib\\site-packages\\manim\\utils\\deprecation.py#210\"><span style=\"color: #7f7f7f; text-decoration-color: #7f7f7f\">210</span></a>\n",
       "                             deprecated since v0.<span style=\"color: #008000; text-decoration-color: #008000\">10.0</span> and may be removed                     \n",
       "                             in a later version. Use <span style=\"font-weight: bold\">&lt;</span><span style=\"color: #ff00ff; text-decoration-color: #ff00ff; font-weight: bold\">class</span><span style=\"color: #000000; text-decoration-color: #000000\"> </span>                                 \n",
       "                             <span style=\"color: #008000; text-decoration-color: #008000\">'manim.mobject.three_dimensions.Surface'</span><span style=\"font-weight: bold\">&gt;</span>                       \n",
       "                             instead.                                                        \n",
       "</pre>\n"
      ],
      "text/plain": [
       "\u001b[2;36m[01/31/22 13:41:59]\u001b[0m\u001b[2;36m \u001b[0m\u001b[31mWARNING \u001b[0m The class ParametricSurface has been          \u001b]8;id=13048;file://C:\\Users\\thoma\\AppData\\Local\\Programs\\Python\\Python39\\lib\\site-packages\\manim\\utils\\deprecation.py\u001b\\\u001b[2mdeprecation.py\u001b[0m\u001b]8;;\u001b\\\u001b[2m:\u001b[0m\u001b]8;id=43354;file://C:\\Users\\thoma\\AppData\\Local\\Programs\\Python\\Python39\\lib\\site-packages\\manim\\utils\\deprecation.py#210\u001b\\\u001b[2m210\u001b[0m\u001b]8;;\u001b\\\n",
       "                             deprecated since v0.\u001b[32m10.0\u001b[0m and may be removed                     \n",
       "                             in a later version. Use \u001b[1m<\u001b[0m\u001b[1;95mclass\u001b[0m\u001b[39m \u001b[0m                                 \n",
       "                             \u001b[32m'manim.mobject.three_dimensions.Surface'\u001b[0m\u001b[1m>\u001b[0m                       \n",
       "                             instead.                                                        \n"
      ]
     },
     "metadata": {},
     "output_type": "display_data"
    },
    {
     "name": "stderr",
     "output_type": "stream",
     "text": [
      "Animation 1: Rotating(Polygon), etc.:   4%|4         | 4/90 [00:12<04:15,  2.97s/it]"
     ]
    },
    {
     "data": {
      "text/html": [
       "<pre style=\"white-space:pre;overflow-x:auto;line-height:normal;font-family:Menlo,'DejaVu Sans Mono',consolas,'Courier New',monospace\"><span style=\"color: #7fbfbf; text-decoration-color: #7fbfbf\">[01/31/22 13:42:03] </span><span style=\"color: #800000; text-decoration-color: #800000\">WARNING </span> The class ParametricSurface has been          <a href=\"file://C:\\Users\\thoma\\AppData\\Local\\Programs\\Python\\Python39\\lib\\site-packages\\manim\\utils\\deprecation.py\"><span style=\"color: #7f7f7f; text-decoration-color: #7f7f7f\">deprecation.py</span></a><span style=\"color: #7f7f7f; text-decoration-color: #7f7f7f\">:</span><a href=\"file://C:\\Users\\thoma\\AppData\\Local\\Programs\\Python\\Python39\\lib\\site-packages\\manim\\utils\\deprecation.py#210\"><span style=\"color: #7f7f7f; text-decoration-color: #7f7f7f\">210</span></a>\n",
       "                             deprecated since v0.<span style=\"color: #008000; text-decoration-color: #008000\">10.0</span> and may be removed                     \n",
       "                             in a later version. Use <span style=\"font-weight: bold\">&lt;</span><span style=\"color: #ff00ff; text-decoration-color: #ff00ff; font-weight: bold\">class</span><span style=\"color: #000000; text-decoration-color: #000000\"> </span>                                 \n",
       "                             <span style=\"color: #008000; text-decoration-color: #008000\">'manim.mobject.three_dimensions.Surface'</span><span style=\"font-weight: bold\">&gt;</span>                       \n",
       "                             instead.                                                        \n",
       "</pre>\n"
      ],
      "text/plain": [
       "\u001b[2;36m[01/31/22 13:42:03]\u001b[0m\u001b[2;36m \u001b[0m\u001b[31mWARNING \u001b[0m The class ParametricSurface has been          \u001b]8;id=673842;file://C:\\Users\\thoma\\AppData\\Local\\Programs\\Python\\Python39\\lib\\site-packages\\manim\\utils\\deprecation.py\u001b\\\u001b[2mdeprecation.py\u001b[0m\u001b]8;;\u001b\\\u001b[2m:\u001b[0m\u001b]8;id=946060;file://C:\\Users\\thoma\\AppData\\Local\\Programs\\Python\\Python39\\lib\\site-packages\\manim\\utils\\deprecation.py#210\u001b\\\u001b[2m210\u001b[0m\u001b]8;;\u001b\\\n",
       "                             deprecated since v0.\u001b[32m10.0\u001b[0m and may be removed                     \n",
       "                             in a later version. Use \u001b[1m<\u001b[0m\u001b[1;95mclass\u001b[0m\u001b[39m \u001b[0m                                 \n",
       "                             \u001b[32m'manim.mobject.three_dimensions.Surface'\u001b[0m\u001b[1m>\u001b[0m                       \n",
       "                             instead.                                                        \n"
      ]
     },
     "metadata": {},
     "output_type": "display_data"
    },
    {
     "name": "stderr",
     "output_type": "stream",
     "text": [
      "Animation 1: Rotating(Polygon), etc.:   6%|5         | 5/90 [00:15<04:24,  3.11s/it]"
     ]
    },
    {
     "data": {
      "text/html": [
       "<pre style=\"white-space:pre;overflow-x:auto;line-height:normal;font-family:Menlo,'DejaVu Sans Mono',consolas,'Courier New',monospace\"><span style=\"color: #7fbfbf; text-decoration-color: #7fbfbf\">[01/31/22 13:42:06] </span><span style=\"color: #800000; text-decoration-color: #800000\">WARNING </span> The class ParametricSurface has been          <a href=\"file://C:\\Users\\thoma\\AppData\\Local\\Programs\\Python\\Python39\\lib\\site-packages\\manim\\utils\\deprecation.py\"><span style=\"color: #7f7f7f; text-decoration-color: #7f7f7f\">deprecation.py</span></a><span style=\"color: #7f7f7f; text-decoration-color: #7f7f7f\">:</span><a href=\"file://C:\\Users\\thoma\\AppData\\Local\\Programs\\Python\\Python39\\lib\\site-packages\\manim\\utils\\deprecation.py#210\"><span style=\"color: #7f7f7f; text-decoration-color: #7f7f7f\">210</span></a>\n",
       "                             deprecated since v0.<span style=\"color: #008000; text-decoration-color: #008000\">10.0</span> and may be removed                     \n",
       "                             in a later version. Use <span style=\"font-weight: bold\">&lt;</span><span style=\"color: #ff00ff; text-decoration-color: #ff00ff; font-weight: bold\">class</span><span style=\"color: #000000; text-decoration-color: #000000\"> </span>                                 \n",
       "                             <span style=\"color: #008000; text-decoration-color: #008000\">'manim.mobject.three_dimensions.Surface'</span><span style=\"font-weight: bold\">&gt;</span>                       \n",
       "                             instead.                                                        \n",
       "</pre>\n"
      ],
      "text/plain": [
       "\u001b[2;36m[01/31/22 13:42:06]\u001b[0m\u001b[2;36m \u001b[0m\u001b[31mWARNING \u001b[0m The class ParametricSurface has been          \u001b]8;id=582561;file://C:\\Users\\thoma\\AppData\\Local\\Programs\\Python\\Python39\\lib\\site-packages\\manim\\utils\\deprecation.py\u001b\\\u001b[2mdeprecation.py\u001b[0m\u001b]8;;\u001b\\\u001b[2m:\u001b[0m\u001b]8;id=259959;file://C:\\Users\\thoma\\AppData\\Local\\Programs\\Python\\Python39\\lib\\site-packages\\manim\\utils\\deprecation.py#210\u001b\\\u001b[2m210\u001b[0m\u001b]8;;\u001b\\\n",
       "                             deprecated since v0.\u001b[32m10.0\u001b[0m and may be removed                     \n",
       "                             in a later version. Use \u001b[1m<\u001b[0m\u001b[1;95mclass\u001b[0m\u001b[39m \u001b[0m                                 \n",
       "                             \u001b[32m'manim.mobject.three_dimensions.Surface'\u001b[0m\u001b[1m>\u001b[0m                       \n",
       "                             instead.                                                        \n"
      ]
     },
     "metadata": {},
     "output_type": "display_data"
    },
    {
     "name": "stderr",
     "output_type": "stream",
     "text": [
      "Animation 1: Rotating(Polygon), etc.:   7%|6         | 6/90 [00:19<04:35,  3.28s/it]"
     ]
    },
    {
     "data": {
      "text/html": [
       "<pre style=\"white-space:pre;overflow-x:auto;line-height:normal;font-family:Menlo,'DejaVu Sans Mono',consolas,'Courier New',monospace\"><span style=\"color: #7fbfbf; text-decoration-color: #7fbfbf\">[01/31/22 13:42:09] </span><span style=\"color: #800000; text-decoration-color: #800000\">WARNING </span> The class ParametricSurface has been          <a href=\"file://C:\\Users\\thoma\\AppData\\Local\\Programs\\Python\\Python39\\lib\\site-packages\\manim\\utils\\deprecation.py\"><span style=\"color: #7f7f7f; text-decoration-color: #7f7f7f\">deprecation.py</span></a><span style=\"color: #7f7f7f; text-decoration-color: #7f7f7f\">:</span><a href=\"file://C:\\Users\\thoma\\AppData\\Local\\Programs\\Python\\Python39\\lib\\site-packages\\manim\\utils\\deprecation.py#210\"><span style=\"color: #7f7f7f; text-decoration-color: #7f7f7f\">210</span></a>\n",
       "                             deprecated since v0.<span style=\"color: #008000; text-decoration-color: #008000\">10.0</span> and may be removed                     \n",
       "                             in a later version. Use <span style=\"font-weight: bold\">&lt;</span><span style=\"color: #ff00ff; text-decoration-color: #ff00ff; font-weight: bold\">class</span><span style=\"color: #000000; text-decoration-color: #000000\"> </span>                                 \n",
       "                             <span style=\"color: #008000; text-decoration-color: #008000\">'manim.mobject.three_dimensions.Surface'</span><span style=\"font-weight: bold\">&gt;</span>                       \n",
       "                             instead.                                                        \n",
       "</pre>\n"
      ],
      "text/plain": [
       "\u001b[2;36m[01/31/22 13:42:09]\u001b[0m\u001b[2;36m \u001b[0m\u001b[31mWARNING \u001b[0m The class ParametricSurface has been          \u001b]8;id=576893;file://C:\\Users\\thoma\\AppData\\Local\\Programs\\Python\\Python39\\lib\\site-packages\\manim\\utils\\deprecation.py\u001b\\\u001b[2mdeprecation.py\u001b[0m\u001b]8;;\u001b\\\u001b[2m:\u001b[0m\u001b]8;id=72384;file://C:\\Users\\thoma\\AppData\\Local\\Programs\\Python\\Python39\\lib\\site-packages\\manim\\utils\\deprecation.py#210\u001b\\\u001b[2m210\u001b[0m\u001b]8;;\u001b\\\n",
       "                             deprecated since v0.\u001b[32m10.0\u001b[0m and may be removed                     \n",
       "                             in a later version. Use \u001b[1m<\u001b[0m\u001b[1;95mclass\u001b[0m\u001b[39m \u001b[0m                                 \n",
       "                             \u001b[32m'manim.mobject.three_dimensions.Surface'\u001b[0m\u001b[1m>\u001b[0m                       \n",
       "                             instead.                                                        \n"
      ]
     },
     "metadata": {},
     "output_type": "display_data"
    },
    {
     "name": "stderr",
     "output_type": "stream",
     "text": [
      "Animation 1: Rotating(Polygon), etc.:   8%|7         | 7/90 [00:22<04:25,  3.20s/it]"
     ]
    },
    {
     "data": {
      "text/html": [
       "<pre style=\"white-space:pre;overflow-x:auto;line-height:normal;font-family:Menlo,'DejaVu Sans Mono',consolas,'Courier New',monospace\"><span style=\"color: #7fbfbf; text-decoration-color: #7fbfbf\">[01/31/22 13:42:13] </span><span style=\"color: #800000; text-decoration-color: #800000\">WARNING </span> The class ParametricSurface has been          <a href=\"file://C:\\Users\\thoma\\AppData\\Local\\Programs\\Python\\Python39\\lib\\site-packages\\manim\\utils\\deprecation.py\"><span style=\"color: #7f7f7f; text-decoration-color: #7f7f7f\">deprecation.py</span></a><span style=\"color: #7f7f7f; text-decoration-color: #7f7f7f\">:</span><a href=\"file://C:\\Users\\thoma\\AppData\\Local\\Programs\\Python\\Python39\\lib\\site-packages\\manim\\utils\\deprecation.py#210\"><span style=\"color: #7f7f7f; text-decoration-color: #7f7f7f\">210</span></a>\n",
       "                             deprecated since v0.<span style=\"color: #008000; text-decoration-color: #008000\">10.0</span> and may be removed                     \n",
       "                             in a later version. Use <span style=\"font-weight: bold\">&lt;</span><span style=\"color: #ff00ff; text-decoration-color: #ff00ff; font-weight: bold\">class</span><span style=\"color: #000000; text-decoration-color: #000000\"> </span>                                 \n",
       "                             <span style=\"color: #008000; text-decoration-color: #008000\">'manim.mobject.three_dimensions.Surface'</span><span style=\"font-weight: bold\">&gt;</span>                       \n",
       "                             instead.                                                        \n",
       "</pre>\n"
      ],
      "text/plain": [
       "\u001b[2;36m[01/31/22 13:42:13]\u001b[0m\u001b[2;36m \u001b[0m\u001b[31mWARNING \u001b[0m The class ParametricSurface has been          \u001b]8;id=488771;file://C:\\Users\\thoma\\AppData\\Local\\Programs\\Python\\Python39\\lib\\site-packages\\manim\\utils\\deprecation.py\u001b\\\u001b[2mdeprecation.py\u001b[0m\u001b]8;;\u001b\\\u001b[2m:\u001b[0m\u001b]8;id=323273;file://C:\\Users\\thoma\\AppData\\Local\\Programs\\Python\\Python39\\lib\\site-packages\\manim\\utils\\deprecation.py#210\u001b\\\u001b[2m210\u001b[0m\u001b]8;;\u001b\\\n",
       "                             deprecated since v0.\u001b[32m10.0\u001b[0m and may be removed                     \n",
       "                             in a later version. Use \u001b[1m<\u001b[0m\u001b[1;95mclass\u001b[0m\u001b[39m \u001b[0m                                 \n",
       "                             \u001b[32m'manim.mobject.three_dimensions.Surface'\u001b[0m\u001b[1m>\u001b[0m                       \n",
       "                             instead.                                                        \n"
      ]
     },
     "metadata": {},
     "output_type": "display_data"
    },
    {
     "name": "stderr",
     "output_type": "stream",
     "text": [
      "Animation 1: Rotating(Polygon), etc.:   9%|8         | 8/90 [00:26<04:54,  3.59s/it]"
     ]
    },
    {
     "data": {
      "text/html": [
       "<pre style=\"white-space:pre;overflow-x:auto;line-height:normal;font-family:Menlo,'DejaVu Sans Mono',consolas,'Courier New',monospace\"><span style=\"color: #7fbfbf; text-decoration-color: #7fbfbf\">[01/31/22 13:42:17] </span><span style=\"color: #800000; text-decoration-color: #800000\">WARNING </span> The class ParametricSurface has been          <a href=\"file://C:\\Users\\thoma\\AppData\\Local\\Programs\\Python\\Python39\\lib\\site-packages\\manim\\utils\\deprecation.py\"><span style=\"color: #7f7f7f; text-decoration-color: #7f7f7f\">deprecation.py</span></a><span style=\"color: #7f7f7f; text-decoration-color: #7f7f7f\">:</span><a href=\"file://C:\\Users\\thoma\\AppData\\Local\\Programs\\Python\\Python39\\lib\\site-packages\\manim\\utils\\deprecation.py#210\"><span style=\"color: #7f7f7f; text-decoration-color: #7f7f7f\">210</span></a>\n",
       "                             deprecated since v0.<span style=\"color: #008000; text-decoration-color: #008000\">10.0</span> and may be removed                     \n",
       "                             in a later version. Use <span style=\"font-weight: bold\">&lt;</span><span style=\"color: #ff00ff; text-decoration-color: #ff00ff; font-weight: bold\">class</span><span style=\"color: #000000; text-decoration-color: #000000\"> </span>                                 \n",
       "                             <span style=\"color: #008000; text-decoration-color: #008000\">'manim.mobject.three_dimensions.Surface'</span><span style=\"font-weight: bold\">&gt;</span>                       \n",
       "                             instead.                                                        \n",
       "</pre>\n"
      ],
      "text/plain": [
       "\u001b[2;36m[01/31/22 13:42:17]\u001b[0m\u001b[2;36m \u001b[0m\u001b[31mWARNING \u001b[0m The class ParametricSurface has been          \u001b]8;id=732731;file://C:\\Users\\thoma\\AppData\\Local\\Programs\\Python\\Python39\\lib\\site-packages\\manim\\utils\\deprecation.py\u001b\\\u001b[2mdeprecation.py\u001b[0m\u001b]8;;\u001b\\\u001b[2m:\u001b[0m\u001b]8;id=114781;file://C:\\Users\\thoma\\AppData\\Local\\Programs\\Python\\Python39\\lib\\site-packages\\manim\\utils\\deprecation.py#210\u001b\\\u001b[2m210\u001b[0m\u001b]8;;\u001b\\\n",
       "                             deprecated since v0.\u001b[32m10.0\u001b[0m and may be removed                     \n",
       "                             in a later version. Use \u001b[1m<\u001b[0m\u001b[1;95mclass\u001b[0m\u001b[39m \u001b[0m                                 \n",
       "                             \u001b[32m'manim.mobject.three_dimensions.Surface'\u001b[0m\u001b[1m>\u001b[0m                       \n",
       "                             instead.                                                        \n"
      ]
     },
     "metadata": {},
     "output_type": "display_data"
    },
    {
     "name": "stderr",
     "output_type": "stream",
     "text": [
      "Animation 1: Rotating(Polygon), etc.:  10%|#         | 9/90 [00:31<05:17,  3.92s/it]"
     ]
    },
    {
     "data": {
      "text/html": [
       "<pre style=\"white-space:pre;overflow-x:auto;line-height:normal;font-family:Menlo,'DejaVu Sans Mono',consolas,'Courier New',monospace\"><span style=\"color: #7fbfbf; text-decoration-color: #7fbfbf\">[01/31/22 13:42:22] </span><span style=\"color: #800000; text-decoration-color: #800000\">WARNING </span> The class ParametricSurface has been          <a href=\"file://C:\\Users\\thoma\\AppData\\Local\\Programs\\Python\\Python39\\lib\\site-packages\\manim\\utils\\deprecation.py\"><span style=\"color: #7f7f7f; text-decoration-color: #7f7f7f\">deprecation.py</span></a><span style=\"color: #7f7f7f; text-decoration-color: #7f7f7f\">:</span><a href=\"file://C:\\Users\\thoma\\AppData\\Local\\Programs\\Python\\Python39\\lib\\site-packages\\manim\\utils\\deprecation.py#210\"><span style=\"color: #7f7f7f; text-decoration-color: #7f7f7f\">210</span></a>\n",
       "                             deprecated since v0.<span style=\"color: #008000; text-decoration-color: #008000\">10.0</span> and may be removed                     \n",
       "                             in a later version. Use <span style=\"font-weight: bold\">&lt;</span><span style=\"color: #ff00ff; text-decoration-color: #ff00ff; font-weight: bold\">class</span><span style=\"color: #000000; text-decoration-color: #000000\"> </span>                                 \n",
       "                             <span style=\"color: #008000; text-decoration-color: #008000\">'manim.mobject.three_dimensions.Surface'</span><span style=\"font-weight: bold\">&gt;</span>                       \n",
       "                             instead.                                                        \n",
       "</pre>\n"
      ],
      "text/plain": [
       "\u001b[2;36m[01/31/22 13:42:22]\u001b[0m\u001b[2;36m \u001b[0m\u001b[31mWARNING \u001b[0m The class ParametricSurface has been          \u001b]8;id=50939;file://C:\\Users\\thoma\\AppData\\Local\\Programs\\Python\\Python39\\lib\\site-packages\\manim\\utils\\deprecation.py\u001b\\\u001b[2mdeprecation.py\u001b[0m\u001b]8;;\u001b\\\u001b[2m:\u001b[0m\u001b]8;id=575392;file://C:\\Users\\thoma\\AppData\\Local\\Programs\\Python\\Python39\\lib\\site-packages\\manim\\utils\\deprecation.py#210\u001b\\\u001b[2m210\u001b[0m\u001b]8;;\u001b\\\n",
       "                             deprecated since v0.\u001b[32m10.0\u001b[0m and may be removed                     \n",
       "                             in a later version. Use \u001b[1m<\u001b[0m\u001b[1;95mclass\u001b[0m\u001b[39m \u001b[0m                                 \n",
       "                             \u001b[32m'manim.mobject.three_dimensions.Surface'\u001b[0m\u001b[1m>\u001b[0m                       \n",
       "                             instead.                                                        \n"
      ]
     },
     "metadata": {},
     "output_type": "display_data"
    },
    {
     "name": "stderr",
     "output_type": "stream",
     "text": [
      "Animation 1: Rotating(Polygon), etc.:  11%|#1        | 10/90 [00:34<05:03,  3.79s/it]"
     ]
    },
    {
     "data": {
      "text/html": [
       "<pre style=\"white-space:pre;overflow-x:auto;line-height:normal;font-family:Menlo,'DejaVu Sans Mono',consolas,'Courier New',monospace\"><span style=\"color: #7fbfbf; text-decoration-color: #7fbfbf\">[01/31/22 13:42:25] </span><span style=\"color: #800000; text-decoration-color: #800000\">WARNING </span> The class ParametricSurface has been          <a href=\"file://C:\\Users\\thoma\\AppData\\Local\\Programs\\Python\\Python39\\lib\\site-packages\\manim\\utils\\deprecation.py\"><span style=\"color: #7f7f7f; text-decoration-color: #7f7f7f\">deprecation.py</span></a><span style=\"color: #7f7f7f; text-decoration-color: #7f7f7f\">:</span><a href=\"file://C:\\Users\\thoma\\AppData\\Local\\Programs\\Python\\Python39\\lib\\site-packages\\manim\\utils\\deprecation.py#210\"><span style=\"color: #7f7f7f; text-decoration-color: #7f7f7f\">210</span></a>\n",
       "                             deprecated since v0.<span style=\"color: #008000; text-decoration-color: #008000\">10.0</span> and may be removed                     \n",
       "                             in a later version. Use <span style=\"font-weight: bold\">&lt;</span><span style=\"color: #ff00ff; text-decoration-color: #ff00ff; font-weight: bold\">class</span><span style=\"color: #000000; text-decoration-color: #000000\"> </span>                                 \n",
       "                             <span style=\"color: #008000; text-decoration-color: #008000\">'manim.mobject.three_dimensions.Surface'</span><span style=\"font-weight: bold\">&gt;</span>                       \n",
       "                             instead.                                                        \n",
       "</pre>\n"
      ],
      "text/plain": [
       "\u001b[2;36m[01/31/22 13:42:25]\u001b[0m\u001b[2;36m \u001b[0m\u001b[31mWARNING \u001b[0m The class ParametricSurface has been          \u001b]8;id=620684;file://C:\\Users\\thoma\\AppData\\Local\\Programs\\Python\\Python39\\lib\\site-packages\\manim\\utils\\deprecation.py\u001b\\\u001b[2mdeprecation.py\u001b[0m\u001b]8;;\u001b\\\u001b[2m:\u001b[0m\u001b]8;id=956910;file://C:\\Users\\thoma\\AppData\\Local\\Programs\\Python\\Python39\\lib\\site-packages\\manim\\utils\\deprecation.py#210\u001b\\\u001b[2m210\u001b[0m\u001b]8;;\u001b\\\n",
       "                             deprecated since v0.\u001b[32m10.0\u001b[0m and may be removed                     \n",
       "                             in a later version. Use \u001b[1m<\u001b[0m\u001b[1;95mclass\u001b[0m\u001b[39m \u001b[0m                                 \n",
       "                             \u001b[32m'manim.mobject.three_dimensions.Surface'\u001b[0m\u001b[1m>\u001b[0m                       \n",
       "                             instead.                                                        \n"
      ]
     },
     "metadata": {},
     "output_type": "display_data"
    },
    {
     "name": "stderr",
     "output_type": "stream",
     "text": [
      "Animation 1: Rotating(Polygon), etc.:  12%|#2        | 11/90 [00:38<05:06,  3.88s/it]"
     ]
    },
    {
     "data": {
      "text/html": [
       "<pre style=\"white-space:pre;overflow-x:auto;line-height:normal;font-family:Menlo,'DejaVu Sans Mono',consolas,'Courier New',monospace\"><span style=\"color: #7fbfbf; text-decoration-color: #7fbfbf\">[01/31/22 13:42:29] </span><span style=\"color: #800000; text-decoration-color: #800000\">WARNING </span> The class ParametricSurface has been          <a href=\"file://C:\\Users\\thoma\\AppData\\Local\\Programs\\Python\\Python39\\lib\\site-packages\\manim\\utils\\deprecation.py\"><span style=\"color: #7f7f7f; text-decoration-color: #7f7f7f\">deprecation.py</span></a><span style=\"color: #7f7f7f; text-decoration-color: #7f7f7f\">:</span><a href=\"file://C:\\Users\\thoma\\AppData\\Local\\Programs\\Python\\Python39\\lib\\site-packages\\manim\\utils\\deprecation.py#210\"><span style=\"color: #7f7f7f; text-decoration-color: #7f7f7f\">210</span></a>\n",
       "                             deprecated since v0.<span style=\"color: #008000; text-decoration-color: #008000\">10.0</span> and may be removed                     \n",
       "                             in a later version. Use <span style=\"font-weight: bold\">&lt;</span><span style=\"color: #ff00ff; text-decoration-color: #ff00ff; font-weight: bold\">class</span><span style=\"color: #000000; text-decoration-color: #000000\"> </span>                                 \n",
       "                             <span style=\"color: #008000; text-decoration-color: #008000\">'manim.mobject.three_dimensions.Surface'</span><span style=\"font-weight: bold\">&gt;</span>                       \n",
       "                             instead.                                                        \n",
       "</pre>\n"
      ],
      "text/plain": [
       "\u001b[2;36m[01/31/22 13:42:29]\u001b[0m\u001b[2;36m \u001b[0m\u001b[31mWARNING \u001b[0m The class ParametricSurface has been          \u001b]8;id=419991;file://C:\\Users\\thoma\\AppData\\Local\\Programs\\Python\\Python39\\lib\\site-packages\\manim\\utils\\deprecation.py\u001b\\\u001b[2mdeprecation.py\u001b[0m\u001b]8;;\u001b\\\u001b[2m:\u001b[0m\u001b]8;id=644440;file://C:\\Users\\thoma\\AppData\\Local\\Programs\\Python\\Python39\\lib\\site-packages\\manim\\utils\\deprecation.py#210\u001b\\\u001b[2m210\u001b[0m\u001b]8;;\u001b\\\n",
       "                             deprecated since v0.\u001b[32m10.0\u001b[0m and may be removed                     \n",
       "                             in a later version. Use \u001b[1m<\u001b[0m\u001b[1;95mclass\u001b[0m\u001b[39m \u001b[0m                                 \n",
       "                             \u001b[32m'manim.mobject.three_dimensions.Surface'\u001b[0m\u001b[1m>\u001b[0m                       \n",
       "                             instead.                                                        \n"
      ]
     },
     "metadata": {},
     "output_type": "display_data"
    },
    {
     "name": "stderr",
     "output_type": "stream",
     "text": [
      "Animation 1: Rotating(Polygon), etc.:  13%|#3        | 12/90 [00:42<04:54,  3.78s/it]"
     ]
    },
    {
     "data": {
      "text/html": [
       "<pre style=\"white-space:pre;overflow-x:auto;line-height:normal;font-family:Menlo,'DejaVu Sans Mono',consolas,'Courier New',monospace\"><span style=\"color: #7fbfbf; text-decoration-color: #7fbfbf\">[01/31/22 13:42:33] </span><span style=\"color: #800000; text-decoration-color: #800000\">WARNING </span> The class ParametricSurface has been          <a href=\"file://C:\\Users\\thoma\\AppData\\Local\\Programs\\Python\\Python39\\lib\\site-packages\\manim\\utils\\deprecation.py\"><span style=\"color: #7f7f7f; text-decoration-color: #7f7f7f\">deprecation.py</span></a><span style=\"color: #7f7f7f; text-decoration-color: #7f7f7f\">:</span><a href=\"file://C:\\Users\\thoma\\AppData\\Local\\Programs\\Python\\Python39\\lib\\site-packages\\manim\\utils\\deprecation.py#210\"><span style=\"color: #7f7f7f; text-decoration-color: #7f7f7f\">210</span></a>\n",
       "                             deprecated since v0.<span style=\"color: #008000; text-decoration-color: #008000\">10.0</span> and may be removed                     \n",
       "                             in a later version. Use <span style=\"font-weight: bold\">&lt;</span><span style=\"color: #ff00ff; text-decoration-color: #ff00ff; font-weight: bold\">class</span><span style=\"color: #000000; text-decoration-color: #000000\"> </span>                                 \n",
       "                             <span style=\"color: #008000; text-decoration-color: #008000\">'manim.mobject.three_dimensions.Surface'</span><span style=\"font-weight: bold\">&gt;</span>                       \n",
       "                             instead.                                                        \n",
       "</pre>\n"
      ],
      "text/plain": [
       "\u001b[2;36m[01/31/22 13:42:33]\u001b[0m\u001b[2;36m \u001b[0m\u001b[31mWARNING \u001b[0m The class ParametricSurface has been          \u001b]8;id=19827;file://C:\\Users\\thoma\\AppData\\Local\\Programs\\Python\\Python39\\lib\\site-packages\\manim\\utils\\deprecation.py\u001b\\\u001b[2mdeprecation.py\u001b[0m\u001b]8;;\u001b\\\u001b[2m:\u001b[0m\u001b]8;id=638925;file://C:\\Users\\thoma\\AppData\\Local\\Programs\\Python\\Python39\\lib\\site-packages\\manim\\utils\\deprecation.py#210\u001b\\\u001b[2m210\u001b[0m\u001b]8;;\u001b\\\n",
       "                             deprecated since v0.\u001b[32m10.0\u001b[0m and may be removed                     \n",
       "                             in a later version. Use \u001b[1m<\u001b[0m\u001b[1;95mclass\u001b[0m\u001b[39m \u001b[0m                                 \n",
       "                             \u001b[32m'manim.mobject.three_dimensions.Surface'\u001b[0m\u001b[1m>\u001b[0m                       \n",
       "                             instead.                                                        \n"
      ]
     },
     "metadata": {},
     "output_type": "display_data"
    },
    {
     "name": "stderr",
     "output_type": "stream",
     "text": [
      "Animation 1: Rotating(Polygon), etc.:  14%|#4        | 13/90 [00:45<04:34,  3.56s/it]"
     ]
    },
    {
     "data": {
      "text/html": [
       "<pre style=\"white-space:pre;overflow-x:auto;line-height:normal;font-family:Menlo,'DejaVu Sans Mono',consolas,'Courier New',monospace\"><span style=\"color: #7fbfbf; text-decoration-color: #7fbfbf\">[01/31/22 13:42:36] </span><span style=\"color: #800000; text-decoration-color: #800000\">WARNING </span> The class ParametricSurface has been          <a href=\"file://C:\\Users\\thoma\\AppData\\Local\\Programs\\Python\\Python39\\lib\\site-packages\\manim\\utils\\deprecation.py\"><span style=\"color: #7f7f7f; text-decoration-color: #7f7f7f\">deprecation.py</span></a><span style=\"color: #7f7f7f; text-decoration-color: #7f7f7f\">:</span><a href=\"file://C:\\Users\\thoma\\AppData\\Local\\Programs\\Python\\Python39\\lib\\site-packages\\manim\\utils\\deprecation.py#210\"><span style=\"color: #7f7f7f; text-decoration-color: #7f7f7f\">210</span></a>\n",
       "                             deprecated since v0.<span style=\"color: #008000; text-decoration-color: #008000\">10.0</span> and may be removed                     \n",
       "                             in a later version. Use <span style=\"font-weight: bold\">&lt;</span><span style=\"color: #ff00ff; text-decoration-color: #ff00ff; font-weight: bold\">class</span><span style=\"color: #000000; text-decoration-color: #000000\"> </span>                                 \n",
       "                             <span style=\"color: #008000; text-decoration-color: #008000\">'manim.mobject.three_dimensions.Surface'</span><span style=\"font-weight: bold\">&gt;</span>                       \n",
       "                             instead.                                                        \n",
       "</pre>\n"
      ],
      "text/plain": [
       "\u001b[2;36m[01/31/22 13:42:36]\u001b[0m\u001b[2;36m \u001b[0m\u001b[31mWARNING \u001b[0m The class ParametricSurface has been          \u001b]8;id=215287;file://C:\\Users\\thoma\\AppData\\Local\\Programs\\Python\\Python39\\lib\\site-packages\\manim\\utils\\deprecation.py\u001b\\\u001b[2mdeprecation.py\u001b[0m\u001b]8;;\u001b\\\u001b[2m:\u001b[0m\u001b]8;id=806506;file://C:\\Users\\thoma\\AppData\\Local\\Programs\\Python\\Python39\\lib\\site-packages\\manim\\utils\\deprecation.py#210\u001b\\\u001b[2m210\u001b[0m\u001b]8;;\u001b\\\n",
       "                             deprecated since v0.\u001b[32m10.0\u001b[0m and may be removed                     \n",
       "                             in a later version. Use \u001b[1m<\u001b[0m\u001b[1;95mclass\u001b[0m\u001b[39m \u001b[0m                                 \n",
       "                             \u001b[32m'manim.mobject.three_dimensions.Surface'\u001b[0m\u001b[1m>\u001b[0m                       \n",
       "                             instead.                                                        \n"
      ]
     },
     "metadata": {},
     "output_type": "display_data"
    },
    {
     "name": "stderr",
     "output_type": "stream",
     "text": [
      "Animation 1: Rotating(Polygon), etc.:  16%|#5        | 14/90 [00:48<04:15,  3.36s/it]"
     ]
    },
    {
     "data": {
      "text/html": [
       "<pre style=\"white-space:pre;overflow-x:auto;line-height:normal;font-family:Menlo,'DejaVu Sans Mono',consolas,'Courier New',monospace\"><span style=\"color: #7fbfbf; text-decoration-color: #7fbfbf\">[01/31/22 13:42:39] </span><span style=\"color: #800000; text-decoration-color: #800000\">WARNING </span> The class ParametricSurface has been          <a href=\"file://C:\\Users\\thoma\\AppData\\Local\\Programs\\Python\\Python39\\lib\\site-packages\\manim\\utils\\deprecation.py\"><span style=\"color: #7f7f7f; text-decoration-color: #7f7f7f\">deprecation.py</span></a><span style=\"color: #7f7f7f; text-decoration-color: #7f7f7f\">:</span><a href=\"file://C:\\Users\\thoma\\AppData\\Local\\Programs\\Python\\Python39\\lib\\site-packages\\manim\\utils\\deprecation.py#210\"><span style=\"color: #7f7f7f; text-decoration-color: #7f7f7f\">210</span></a>\n",
       "                             deprecated since v0.<span style=\"color: #008000; text-decoration-color: #008000\">10.0</span> and may be removed                     \n",
       "                             in a later version. Use <span style=\"font-weight: bold\">&lt;</span><span style=\"color: #ff00ff; text-decoration-color: #ff00ff; font-weight: bold\">class</span><span style=\"color: #000000; text-decoration-color: #000000\"> </span>                                 \n",
       "                             <span style=\"color: #008000; text-decoration-color: #008000\">'manim.mobject.three_dimensions.Surface'</span><span style=\"font-weight: bold\">&gt;</span>                       \n",
       "                             instead.                                                        \n",
       "</pre>\n"
      ],
      "text/plain": [
       "\u001b[2;36m[01/31/22 13:42:39]\u001b[0m\u001b[2;36m \u001b[0m\u001b[31mWARNING \u001b[0m The class ParametricSurface has been          \u001b]8;id=970822;file://C:\\Users\\thoma\\AppData\\Local\\Programs\\Python\\Python39\\lib\\site-packages\\manim\\utils\\deprecation.py\u001b\\\u001b[2mdeprecation.py\u001b[0m\u001b]8;;\u001b\\\u001b[2m:\u001b[0m\u001b]8;id=375394;file://C:\\Users\\thoma\\AppData\\Local\\Programs\\Python\\Python39\\lib\\site-packages\\manim\\utils\\deprecation.py#210\u001b\\\u001b[2m210\u001b[0m\u001b]8;;\u001b\\\n",
       "                             deprecated since v0.\u001b[32m10.0\u001b[0m and may be removed                     \n",
       "                             in a later version. Use \u001b[1m<\u001b[0m\u001b[1;95mclass\u001b[0m\u001b[39m \u001b[0m                                 \n",
       "                             \u001b[32m'manim.mobject.three_dimensions.Surface'\u001b[0m\u001b[1m>\u001b[0m                       \n",
       "                             instead.                                                        \n"
      ]
     },
     "metadata": {},
     "output_type": "display_data"
    },
    {
     "name": "stderr",
     "output_type": "stream",
     "text": [
      "Animation 1: Rotating(Polygon), etc.:  17%|#6        | 15/90 [00:50<03:55,  3.14s/it]"
     ]
    },
    {
     "data": {
      "text/html": [
       "<pre style=\"white-space:pre;overflow-x:auto;line-height:normal;font-family:Menlo,'DejaVu Sans Mono',consolas,'Courier New',monospace\"><span style=\"color: #7fbfbf; text-decoration-color: #7fbfbf\">[01/31/22 13:42:41] </span><span style=\"color: #800000; text-decoration-color: #800000\">WARNING </span> The class ParametricSurface has been          <a href=\"file://C:\\Users\\thoma\\AppData\\Local\\Programs\\Python\\Python39\\lib\\site-packages\\manim\\utils\\deprecation.py\"><span style=\"color: #7f7f7f; text-decoration-color: #7f7f7f\">deprecation.py</span></a><span style=\"color: #7f7f7f; text-decoration-color: #7f7f7f\">:</span><a href=\"file://C:\\Users\\thoma\\AppData\\Local\\Programs\\Python\\Python39\\lib\\site-packages\\manim\\utils\\deprecation.py#210\"><span style=\"color: #7f7f7f; text-decoration-color: #7f7f7f\">210</span></a>\n",
       "                             deprecated since v0.<span style=\"color: #008000; text-decoration-color: #008000\">10.0</span> and may be removed                     \n",
       "                             in a later version. Use <span style=\"font-weight: bold\">&lt;</span><span style=\"color: #ff00ff; text-decoration-color: #ff00ff; font-weight: bold\">class</span><span style=\"color: #000000; text-decoration-color: #000000\"> </span>                                 \n",
       "                             <span style=\"color: #008000; text-decoration-color: #008000\">'manim.mobject.three_dimensions.Surface'</span><span style=\"font-weight: bold\">&gt;</span>                       \n",
       "                             instead.                                                        \n",
       "</pre>\n"
      ],
      "text/plain": [
       "\u001b[2;36m[01/31/22 13:42:41]\u001b[0m\u001b[2;36m \u001b[0m\u001b[31mWARNING \u001b[0m The class ParametricSurface has been          \u001b]8;id=243643;file://C:\\Users\\thoma\\AppData\\Local\\Programs\\Python\\Python39\\lib\\site-packages\\manim\\utils\\deprecation.py\u001b\\\u001b[2mdeprecation.py\u001b[0m\u001b]8;;\u001b\\\u001b[2m:\u001b[0m\u001b]8;id=871653;file://C:\\Users\\thoma\\AppData\\Local\\Programs\\Python\\Python39\\lib\\site-packages\\manim\\utils\\deprecation.py#210\u001b\\\u001b[2m210\u001b[0m\u001b]8;;\u001b\\\n",
       "                             deprecated since v0.\u001b[32m10.0\u001b[0m and may be removed                     \n",
       "                             in a later version. Use \u001b[1m<\u001b[0m\u001b[1;95mclass\u001b[0m\u001b[39m \u001b[0m                                 \n",
       "                             \u001b[32m'manim.mobject.three_dimensions.Surface'\u001b[0m\u001b[1m>\u001b[0m                       \n",
       "                             instead.                                                        \n"
      ]
     },
     "metadata": {},
     "output_type": "display_data"
    },
    {
     "name": "stderr",
     "output_type": "stream",
     "text": [
      "Animation 1: Rotating(Polygon), etc.:  18%|#7        | 16/90 [00:54<03:58,  3.22s/it]"
     ]
    },
    {
     "data": {
      "text/html": [
       "<pre style=\"white-space:pre;overflow-x:auto;line-height:normal;font-family:Menlo,'DejaVu Sans Mono',consolas,'Courier New',monospace\"><span style=\"color: #7fbfbf; text-decoration-color: #7fbfbf\">[01/31/22 13:42:45] </span><span style=\"color: #800000; text-decoration-color: #800000\">WARNING </span> The class ParametricSurface has been          <a href=\"file://C:\\Users\\thoma\\AppData\\Local\\Programs\\Python\\Python39\\lib\\site-packages\\manim\\utils\\deprecation.py\"><span style=\"color: #7f7f7f; text-decoration-color: #7f7f7f\">deprecation.py</span></a><span style=\"color: #7f7f7f; text-decoration-color: #7f7f7f\">:</span><a href=\"file://C:\\Users\\thoma\\AppData\\Local\\Programs\\Python\\Python39\\lib\\site-packages\\manim\\utils\\deprecation.py#210\"><span style=\"color: #7f7f7f; text-decoration-color: #7f7f7f\">210</span></a>\n",
       "                             deprecated since v0.<span style=\"color: #008000; text-decoration-color: #008000\">10.0</span> and may be removed                     \n",
       "                             in a later version. Use <span style=\"font-weight: bold\">&lt;</span><span style=\"color: #ff00ff; text-decoration-color: #ff00ff; font-weight: bold\">class</span><span style=\"color: #000000; text-decoration-color: #000000\"> </span>                                 \n",
       "                             <span style=\"color: #008000; text-decoration-color: #008000\">'manim.mobject.three_dimensions.Surface'</span><span style=\"font-weight: bold\">&gt;</span>                       \n",
       "                             instead.                                                        \n",
       "</pre>\n"
      ],
      "text/plain": [
       "\u001b[2;36m[01/31/22 13:42:45]\u001b[0m\u001b[2;36m \u001b[0m\u001b[31mWARNING \u001b[0m The class ParametricSurface has been          \u001b]8;id=122969;file://C:\\Users\\thoma\\AppData\\Local\\Programs\\Python\\Python39\\lib\\site-packages\\manim\\utils\\deprecation.py\u001b\\\u001b[2mdeprecation.py\u001b[0m\u001b]8;;\u001b\\\u001b[2m:\u001b[0m\u001b]8;id=250997;file://C:\\Users\\thoma\\AppData\\Local\\Programs\\Python\\Python39\\lib\\site-packages\\manim\\utils\\deprecation.py#210\u001b\\\u001b[2m210\u001b[0m\u001b]8;;\u001b\\\n",
       "                             deprecated since v0.\u001b[32m10.0\u001b[0m and may be removed                     \n",
       "                             in a later version. Use \u001b[1m<\u001b[0m\u001b[1;95mclass\u001b[0m\u001b[39m \u001b[0m                                 \n",
       "                             \u001b[32m'manim.mobject.three_dimensions.Surface'\u001b[0m\u001b[1m>\u001b[0m                       \n",
       "                             instead.                                                        \n"
      ]
     },
     "metadata": {},
     "output_type": "display_data"
    },
    {
     "name": "stderr",
     "output_type": "stream",
     "text": [
      "Animation 1: Rotating(Polygon), etc.:  19%|#8        | 17/90 [00:58<04:13,  3.47s/it]"
     ]
    },
    {
     "data": {
      "text/html": [
       "<pre style=\"white-space:pre;overflow-x:auto;line-height:normal;font-family:Menlo,'DejaVu Sans Mono',consolas,'Courier New',monospace\"><span style=\"color: #7fbfbf; text-decoration-color: #7fbfbf\">[01/31/22 13:42:49] </span><span style=\"color: #800000; text-decoration-color: #800000\">WARNING </span> The class ParametricSurface has been          <a href=\"file://C:\\Users\\thoma\\AppData\\Local\\Programs\\Python\\Python39\\lib\\site-packages\\manim\\utils\\deprecation.py\"><span style=\"color: #7f7f7f; text-decoration-color: #7f7f7f\">deprecation.py</span></a><span style=\"color: #7f7f7f; text-decoration-color: #7f7f7f\">:</span><a href=\"file://C:\\Users\\thoma\\AppData\\Local\\Programs\\Python\\Python39\\lib\\site-packages\\manim\\utils\\deprecation.py#210\"><span style=\"color: #7f7f7f; text-decoration-color: #7f7f7f\">210</span></a>\n",
       "                             deprecated since v0.<span style=\"color: #008000; text-decoration-color: #008000\">10.0</span> and may be removed                     \n",
       "                             in a later version. Use <span style=\"font-weight: bold\">&lt;</span><span style=\"color: #ff00ff; text-decoration-color: #ff00ff; font-weight: bold\">class</span><span style=\"color: #000000; text-decoration-color: #000000\"> </span>                                 \n",
       "                             <span style=\"color: #008000; text-decoration-color: #008000\">'manim.mobject.three_dimensions.Surface'</span><span style=\"font-weight: bold\">&gt;</span>                       \n",
       "                             instead.                                                        \n",
       "</pre>\n"
      ],
      "text/plain": [
       "\u001b[2;36m[01/31/22 13:42:49]\u001b[0m\u001b[2;36m \u001b[0m\u001b[31mWARNING \u001b[0m The class ParametricSurface has been          \u001b]8;id=629998;file://C:\\Users\\thoma\\AppData\\Local\\Programs\\Python\\Python39\\lib\\site-packages\\manim\\utils\\deprecation.py\u001b\\\u001b[2mdeprecation.py\u001b[0m\u001b]8;;\u001b\\\u001b[2m:\u001b[0m\u001b]8;id=136930;file://C:\\Users\\thoma\\AppData\\Local\\Programs\\Python\\Python39\\lib\\site-packages\\manim\\utils\\deprecation.py#210\u001b\\\u001b[2m210\u001b[0m\u001b]8;;\u001b\\\n",
       "                             deprecated since v0.\u001b[32m10.0\u001b[0m and may be removed                     \n",
       "                             in a later version. Use \u001b[1m<\u001b[0m\u001b[1;95mclass\u001b[0m\u001b[39m \u001b[0m                                 \n",
       "                             \u001b[32m'manim.mobject.three_dimensions.Surface'\u001b[0m\u001b[1m>\u001b[0m                       \n",
       "                             instead.                                                        \n"
      ]
     },
     "metadata": {},
     "output_type": "display_data"
    },
    {
     "name": "stderr",
     "output_type": "stream",
     "text": [
      "Animation 1: Rotating(Polygon), etc.:  20%|##        | 18/90 [01:00<03:48,  3.18s/it]"
     ]
    },
    {
     "data": {
      "text/html": [
       "<pre style=\"white-space:pre;overflow-x:auto;line-height:normal;font-family:Menlo,'DejaVu Sans Mono',consolas,'Courier New',monospace\"><span style=\"color: #7fbfbf; text-decoration-color: #7fbfbf\">[01/31/22 13:42:51] </span><span style=\"color: #800000; text-decoration-color: #800000\">WARNING </span> The class ParametricSurface has been          <a href=\"file://C:\\Users\\thoma\\AppData\\Local\\Programs\\Python\\Python39\\lib\\site-packages\\manim\\utils\\deprecation.py\"><span style=\"color: #7f7f7f; text-decoration-color: #7f7f7f\">deprecation.py</span></a><span style=\"color: #7f7f7f; text-decoration-color: #7f7f7f\">:</span><a href=\"file://C:\\Users\\thoma\\AppData\\Local\\Programs\\Python\\Python39\\lib\\site-packages\\manim\\utils\\deprecation.py#210\"><span style=\"color: #7f7f7f; text-decoration-color: #7f7f7f\">210</span></a>\n",
       "                             deprecated since v0.<span style=\"color: #008000; text-decoration-color: #008000\">10.0</span> and may be removed                     \n",
       "                             in a later version. Use <span style=\"font-weight: bold\">&lt;</span><span style=\"color: #ff00ff; text-decoration-color: #ff00ff; font-weight: bold\">class</span><span style=\"color: #000000; text-decoration-color: #000000\"> </span>                                 \n",
       "                             <span style=\"color: #008000; text-decoration-color: #008000\">'manim.mobject.three_dimensions.Surface'</span><span style=\"font-weight: bold\">&gt;</span>                       \n",
       "                             instead.                                                        \n",
       "</pre>\n"
      ],
      "text/plain": [
       "\u001b[2;36m[01/31/22 13:42:51]\u001b[0m\u001b[2;36m \u001b[0m\u001b[31mWARNING \u001b[0m The class ParametricSurface has been          \u001b]8;id=925928;file://C:\\Users\\thoma\\AppData\\Local\\Programs\\Python\\Python39\\lib\\site-packages\\manim\\utils\\deprecation.py\u001b\\\u001b[2mdeprecation.py\u001b[0m\u001b]8;;\u001b\\\u001b[2m:\u001b[0m\u001b]8;id=998451;file://C:\\Users\\thoma\\AppData\\Local\\Programs\\Python\\Python39\\lib\\site-packages\\manim\\utils\\deprecation.py#210\u001b\\\u001b[2m210\u001b[0m\u001b]8;;\u001b\\\n",
       "                             deprecated since v0.\u001b[32m10.0\u001b[0m and may be removed                     \n",
       "                             in a later version. Use \u001b[1m<\u001b[0m\u001b[1;95mclass\u001b[0m\u001b[39m \u001b[0m                                 \n",
       "                             \u001b[32m'manim.mobject.three_dimensions.Surface'\u001b[0m\u001b[1m>\u001b[0m                       \n",
       "                             instead.                                                        \n"
      ]
     },
     "metadata": {},
     "output_type": "display_data"
    },
    {
     "name": "stderr",
     "output_type": "stream",
     "text": [
      "Animation 1: Rotating(Polygon), etc.:  21%|##1       | 19/90 [01:03<03:34,  3.02s/it]"
     ]
    },
    {
     "data": {
      "text/html": [
       "<pre style=\"white-space:pre;overflow-x:auto;line-height:normal;font-family:Menlo,'DejaVu Sans Mono',consolas,'Courier New',monospace\"><span style=\"color: #7fbfbf; text-decoration-color: #7fbfbf\">[01/31/22 13:42:54] </span><span style=\"color: #800000; text-decoration-color: #800000\">WARNING </span> The class ParametricSurface has been          <a href=\"file://C:\\Users\\thoma\\AppData\\Local\\Programs\\Python\\Python39\\lib\\site-packages\\manim\\utils\\deprecation.py\"><span style=\"color: #7f7f7f; text-decoration-color: #7f7f7f\">deprecation.py</span></a><span style=\"color: #7f7f7f; text-decoration-color: #7f7f7f\">:</span><a href=\"file://C:\\Users\\thoma\\AppData\\Local\\Programs\\Python\\Python39\\lib\\site-packages\\manim\\utils\\deprecation.py#210\"><span style=\"color: #7f7f7f; text-decoration-color: #7f7f7f\">210</span></a>\n",
       "                             deprecated since v0.<span style=\"color: #008000; text-decoration-color: #008000\">10.0</span> and may be removed                     \n",
       "                             in a later version. Use <span style=\"font-weight: bold\">&lt;</span><span style=\"color: #ff00ff; text-decoration-color: #ff00ff; font-weight: bold\">class</span><span style=\"color: #000000; text-decoration-color: #000000\"> </span>                                 \n",
       "                             <span style=\"color: #008000; text-decoration-color: #008000\">'manim.mobject.three_dimensions.Surface'</span><span style=\"font-weight: bold\">&gt;</span>                       \n",
       "                             instead.                                                        \n",
       "</pre>\n"
      ],
      "text/plain": [
       "\u001b[2;36m[01/31/22 13:42:54]\u001b[0m\u001b[2;36m \u001b[0m\u001b[31mWARNING \u001b[0m The class ParametricSurface has been          \u001b]8;id=160551;file://C:\\Users\\thoma\\AppData\\Local\\Programs\\Python\\Python39\\lib\\site-packages\\manim\\utils\\deprecation.py\u001b\\\u001b[2mdeprecation.py\u001b[0m\u001b]8;;\u001b\\\u001b[2m:\u001b[0m\u001b]8;id=94864;file://C:\\Users\\thoma\\AppData\\Local\\Programs\\Python\\Python39\\lib\\site-packages\\manim\\utils\\deprecation.py#210\u001b\\\u001b[2m210\u001b[0m\u001b]8;;\u001b\\\n",
       "                             deprecated since v0.\u001b[32m10.0\u001b[0m and may be removed                     \n",
       "                             in a later version. Use \u001b[1m<\u001b[0m\u001b[1;95mclass\u001b[0m\u001b[39m \u001b[0m                                 \n",
       "                             \u001b[32m'manim.mobject.three_dimensions.Surface'\u001b[0m\u001b[1m>\u001b[0m                       \n",
       "                             instead.                                                        \n"
      ]
     },
     "metadata": {},
     "output_type": "display_data"
    },
    {
     "name": "stderr",
     "output_type": "stream",
     "text": [
      "Animation 1: Rotating(Polygon), etc.:  22%|##2       | 20/90 [01:06<03:26,  2.95s/it]"
     ]
    },
    {
     "data": {
      "text/html": [
       "<pre style=\"white-space:pre;overflow-x:auto;line-height:normal;font-family:Menlo,'DejaVu Sans Mono',consolas,'Courier New',monospace\"><span style=\"color: #7fbfbf; text-decoration-color: #7fbfbf\">[01/31/22 13:42:57] </span><span style=\"color: #800000; text-decoration-color: #800000\">WARNING </span> The class ParametricSurface has been          <a href=\"file://C:\\Users\\thoma\\AppData\\Local\\Programs\\Python\\Python39\\lib\\site-packages\\manim\\utils\\deprecation.py\"><span style=\"color: #7f7f7f; text-decoration-color: #7f7f7f\">deprecation.py</span></a><span style=\"color: #7f7f7f; text-decoration-color: #7f7f7f\">:</span><a href=\"file://C:\\Users\\thoma\\AppData\\Local\\Programs\\Python\\Python39\\lib\\site-packages\\manim\\utils\\deprecation.py#210\"><span style=\"color: #7f7f7f; text-decoration-color: #7f7f7f\">210</span></a>\n",
       "                             deprecated since v0.<span style=\"color: #008000; text-decoration-color: #008000\">10.0</span> and may be removed                     \n",
       "                             in a later version. Use <span style=\"font-weight: bold\">&lt;</span><span style=\"color: #ff00ff; text-decoration-color: #ff00ff; font-weight: bold\">class</span><span style=\"color: #000000; text-decoration-color: #000000\"> </span>                                 \n",
       "                             <span style=\"color: #008000; text-decoration-color: #008000\">'manim.mobject.three_dimensions.Surface'</span><span style=\"font-weight: bold\">&gt;</span>                       \n",
       "                             instead.                                                        \n",
       "</pre>\n"
      ],
      "text/plain": [
       "\u001b[2;36m[01/31/22 13:42:57]\u001b[0m\u001b[2;36m \u001b[0m\u001b[31mWARNING \u001b[0m The class ParametricSurface has been          \u001b]8;id=594791;file://C:\\Users\\thoma\\AppData\\Local\\Programs\\Python\\Python39\\lib\\site-packages\\manim\\utils\\deprecation.py\u001b\\\u001b[2mdeprecation.py\u001b[0m\u001b]8;;\u001b\\\u001b[2m:\u001b[0m\u001b]8;id=200641;file://C:\\Users\\thoma\\AppData\\Local\\Programs\\Python\\Python39\\lib\\site-packages\\manim\\utils\\deprecation.py#210\u001b\\\u001b[2m210\u001b[0m\u001b]8;;\u001b\\\n",
       "                             deprecated since v0.\u001b[32m10.0\u001b[0m and may be removed                     \n",
       "                             in a later version. Use \u001b[1m<\u001b[0m\u001b[1;95mclass\u001b[0m\u001b[39m \u001b[0m                                 \n",
       "                             \u001b[32m'manim.mobject.three_dimensions.Surface'\u001b[0m\u001b[1m>\u001b[0m                       \n",
       "                             instead.                                                        \n"
      ]
     },
     "metadata": {},
     "output_type": "display_data"
    },
    {
     "name": "stderr",
     "output_type": "stream",
     "text": [
      "Animation 1: Rotating(Polygon), etc.:  23%|##3       | 21/90 [01:09<03:21,  2.92s/it]"
     ]
    },
    {
     "data": {
      "text/html": [
       "<pre style=\"white-space:pre;overflow-x:auto;line-height:normal;font-family:Menlo,'DejaVu Sans Mono',consolas,'Courier New',monospace\"><span style=\"color: #7fbfbf; text-decoration-color: #7fbfbf\">[01/31/22 13:43:00] </span><span style=\"color: #800000; text-decoration-color: #800000\">WARNING </span> The class ParametricSurface has been          <a href=\"file://C:\\Users\\thoma\\AppData\\Local\\Programs\\Python\\Python39\\lib\\site-packages\\manim\\utils\\deprecation.py\"><span style=\"color: #7f7f7f; text-decoration-color: #7f7f7f\">deprecation.py</span></a><span style=\"color: #7f7f7f; text-decoration-color: #7f7f7f\">:</span><a href=\"file://C:\\Users\\thoma\\AppData\\Local\\Programs\\Python\\Python39\\lib\\site-packages\\manim\\utils\\deprecation.py#210\"><span style=\"color: #7f7f7f; text-decoration-color: #7f7f7f\">210</span></a>\n",
       "                             deprecated since v0.<span style=\"color: #008000; text-decoration-color: #008000\">10.0</span> and may be removed                     \n",
       "                             in a later version. Use <span style=\"font-weight: bold\">&lt;</span><span style=\"color: #ff00ff; text-decoration-color: #ff00ff; font-weight: bold\">class</span><span style=\"color: #000000; text-decoration-color: #000000\"> </span>                                 \n",
       "                             <span style=\"color: #008000; text-decoration-color: #008000\">'manim.mobject.three_dimensions.Surface'</span><span style=\"font-weight: bold\">&gt;</span>                       \n",
       "                             instead.                                                        \n",
       "</pre>\n"
      ],
      "text/plain": [
       "\u001b[2;36m[01/31/22 13:43:00]\u001b[0m\u001b[2;36m \u001b[0m\u001b[31mWARNING \u001b[0m The class ParametricSurface has been          \u001b]8;id=372471;file://C:\\Users\\thoma\\AppData\\Local\\Programs\\Python\\Python39\\lib\\site-packages\\manim\\utils\\deprecation.py\u001b\\\u001b[2mdeprecation.py\u001b[0m\u001b]8;;\u001b\\\u001b[2m:\u001b[0m\u001b]8;id=540677;file://C:\\Users\\thoma\\AppData\\Local\\Programs\\Python\\Python39\\lib\\site-packages\\manim\\utils\\deprecation.py#210\u001b\\\u001b[2m210\u001b[0m\u001b]8;;\u001b\\\n",
       "                             deprecated since v0.\u001b[32m10.0\u001b[0m and may be removed                     \n",
       "                             in a later version. Use \u001b[1m<\u001b[0m\u001b[1;95mclass\u001b[0m\u001b[39m \u001b[0m                                 \n",
       "                             \u001b[32m'manim.mobject.three_dimensions.Surface'\u001b[0m\u001b[1m>\u001b[0m                       \n",
       "                             instead.                                                        \n"
      ]
     },
     "metadata": {},
     "output_type": "display_data"
    },
    {
     "name": "stderr",
     "output_type": "stream",
     "text": [
      "Animation 1: Rotating(Polygon), etc.:  24%|##4       | 22/90 [01:12<03:33,  3.15s/it]"
     ]
    },
    {
     "data": {
      "text/html": [
       "<pre style=\"white-space:pre;overflow-x:auto;line-height:normal;font-family:Menlo,'DejaVu Sans Mono',consolas,'Courier New',monospace\"><span style=\"color: #7fbfbf; text-decoration-color: #7fbfbf\">[01/31/22 13:43:03] </span><span style=\"color: #800000; text-decoration-color: #800000\">WARNING </span> The class ParametricSurface has been          <a href=\"file://C:\\Users\\thoma\\AppData\\Local\\Programs\\Python\\Python39\\lib\\site-packages\\manim\\utils\\deprecation.py\"><span style=\"color: #7f7f7f; text-decoration-color: #7f7f7f\">deprecation.py</span></a><span style=\"color: #7f7f7f; text-decoration-color: #7f7f7f\">:</span><a href=\"file://C:\\Users\\thoma\\AppData\\Local\\Programs\\Python\\Python39\\lib\\site-packages\\manim\\utils\\deprecation.py#210\"><span style=\"color: #7f7f7f; text-decoration-color: #7f7f7f\">210</span></a>\n",
       "                             deprecated since v0.<span style=\"color: #008000; text-decoration-color: #008000\">10.0</span> and may be removed                     \n",
       "                             in a later version. Use <span style=\"font-weight: bold\">&lt;</span><span style=\"color: #ff00ff; text-decoration-color: #ff00ff; font-weight: bold\">class</span><span style=\"color: #000000; text-decoration-color: #000000\"> </span>                                 \n",
       "                             <span style=\"color: #008000; text-decoration-color: #008000\">'manim.mobject.three_dimensions.Surface'</span><span style=\"font-weight: bold\">&gt;</span>                       \n",
       "                             instead.                                                        \n",
       "</pre>\n"
      ],
      "text/plain": [
       "\u001b[2;36m[01/31/22 13:43:03]\u001b[0m\u001b[2;36m \u001b[0m\u001b[31mWARNING \u001b[0m The class ParametricSurface has been          \u001b]8;id=928361;file://C:\\Users\\thoma\\AppData\\Local\\Programs\\Python\\Python39\\lib\\site-packages\\manim\\utils\\deprecation.py\u001b\\\u001b[2mdeprecation.py\u001b[0m\u001b]8;;\u001b\\\u001b[2m:\u001b[0m\u001b]8;id=670869;file://C:\\Users\\thoma\\AppData\\Local\\Programs\\Python\\Python39\\lib\\site-packages\\manim\\utils\\deprecation.py#210\u001b\\\u001b[2m210\u001b[0m\u001b]8;;\u001b\\\n",
       "                             deprecated since v0.\u001b[32m10.0\u001b[0m and may be removed                     \n",
       "                             in a later version. Use \u001b[1m<\u001b[0m\u001b[1;95mclass\u001b[0m\u001b[39m \u001b[0m                                 \n",
       "                             \u001b[32m'manim.mobject.three_dimensions.Surface'\u001b[0m\u001b[1m>\u001b[0m                       \n",
       "                             instead.                                                        \n"
      ]
     },
     "metadata": {},
     "output_type": "display_data"
    },
    {
     "name": "stderr",
     "output_type": "stream",
     "text": [
      "Animation 1: Rotating(Polygon), etc.:  26%|##5       | 23/90 [01:15<03:30,  3.14s/it]"
     ]
    },
    {
     "data": {
      "text/html": [
       "<pre style=\"white-space:pre;overflow-x:auto;line-height:normal;font-family:Menlo,'DejaVu Sans Mono',consolas,'Courier New',monospace\"><span style=\"color: #7fbfbf; text-decoration-color: #7fbfbf\">[01/31/22 13:43:06] </span><span style=\"color: #800000; text-decoration-color: #800000\">WARNING </span> The class ParametricSurface has been          <a href=\"file://C:\\Users\\thoma\\AppData\\Local\\Programs\\Python\\Python39\\lib\\site-packages\\manim\\utils\\deprecation.py\"><span style=\"color: #7f7f7f; text-decoration-color: #7f7f7f\">deprecation.py</span></a><span style=\"color: #7f7f7f; text-decoration-color: #7f7f7f\">:</span><a href=\"file://C:\\Users\\thoma\\AppData\\Local\\Programs\\Python\\Python39\\lib\\site-packages\\manim\\utils\\deprecation.py#210\"><span style=\"color: #7f7f7f; text-decoration-color: #7f7f7f\">210</span></a>\n",
       "                             deprecated since v0.<span style=\"color: #008000; text-decoration-color: #008000\">10.0</span> and may be removed                     \n",
       "                             in a later version. Use <span style=\"font-weight: bold\">&lt;</span><span style=\"color: #ff00ff; text-decoration-color: #ff00ff; font-weight: bold\">class</span><span style=\"color: #000000; text-decoration-color: #000000\"> </span>                                 \n",
       "                             <span style=\"color: #008000; text-decoration-color: #008000\">'manim.mobject.three_dimensions.Surface'</span><span style=\"font-weight: bold\">&gt;</span>                       \n",
       "                             instead.                                                        \n",
       "</pre>\n"
      ],
      "text/plain": [
       "\u001b[2;36m[01/31/22 13:43:06]\u001b[0m\u001b[2;36m \u001b[0m\u001b[31mWARNING \u001b[0m The class ParametricSurface has been          \u001b]8;id=709233;file://C:\\Users\\thoma\\AppData\\Local\\Programs\\Python\\Python39\\lib\\site-packages\\manim\\utils\\deprecation.py\u001b\\\u001b[2mdeprecation.py\u001b[0m\u001b]8;;\u001b\\\u001b[2m:\u001b[0m\u001b]8;id=51912;file://C:\\Users\\thoma\\AppData\\Local\\Programs\\Python\\Python39\\lib\\site-packages\\manim\\utils\\deprecation.py#210\u001b\\\u001b[2m210\u001b[0m\u001b]8;;\u001b\\\n",
       "                             deprecated since v0.\u001b[32m10.0\u001b[0m and may be removed                     \n",
       "                             in a later version. Use \u001b[1m<\u001b[0m\u001b[1;95mclass\u001b[0m\u001b[39m \u001b[0m                                 \n",
       "                             \u001b[32m'manim.mobject.three_dimensions.Surface'\u001b[0m\u001b[1m>\u001b[0m                       \n",
       "                             instead.                                                        \n"
      ]
     },
     "metadata": {},
     "output_type": "display_data"
    },
    {
     "name": "stderr",
     "output_type": "stream",
     "text": [
      "Animation 1: Rotating(Polygon), etc.:  27%|##6       | 24/90 [01:18<03:16,  2.97s/it]"
     ]
    },
    {
     "data": {
      "text/html": [
       "<pre style=\"white-space:pre;overflow-x:auto;line-height:normal;font-family:Menlo,'DejaVu Sans Mono',consolas,'Courier New',monospace\"><span style=\"color: #7fbfbf; text-decoration-color: #7fbfbf\">[01/31/22 13:43:09] </span><span style=\"color: #800000; text-decoration-color: #800000\">WARNING </span> The class ParametricSurface has been          <a href=\"file://C:\\Users\\thoma\\AppData\\Local\\Programs\\Python\\Python39\\lib\\site-packages\\manim\\utils\\deprecation.py\"><span style=\"color: #7f7f7f; text-decoration-color: #7f7f7f\">deprecation.py</span></a><span style=\"color: #7f7f7f; text-decoration-color: #7f7f7f\">:</span><a href=\"file://C:\\Users\\thoma\\AppData\\Local\\Programs\\Python\\Python39\\lib\\site-packages\\manim\\utils\\deprecation.py#210\"><span style=\"color: #7f7f7f; text-decoration-color: #7f7f7f\">210</span></a>\n",
       "                             deprecated since v0.<span style=\"color: #008000; text-decoration-color: #008000\">10.0</span> and may be removed                     \n",
       "                             in a later version. Use <span style=\"font-weight: bold\">&lt;</span><span style=\"color: #ff00ff; text-decoration-color: #ff00ff; font-weight: bold\">class</span><span style=\"color: #000000; text-decoration-color: #000000\"> </span>                                 \n",
       "                             <span style=\"color: #008000; text-decoration-color: #008000\">'manim.mobject.three_dimensions.Surface'</span><span style=\"font-weight: bold\">&gt;</span>                       \n",
       "                             instead.                                                        \n",
       "</pre>\n"
      ],
      "text/plain": [
       "\u001b[2;36m[01/31/22 13:43:09]\u001b[0m\u001b[2;36m \u001b[0m\u001b[31mWARNING \u001b[0m The class ParametricSurface has been          \u001b]8;id=761569;file://C:\\Users\\thoma\\AppData\\Local\\Programs\\Python\\Python39\\lib\\site-packages\\manim\\utils\\deprecation.py\u001b\\\u001b[2mdeprecation.py\u001b[0m\u001b]8;;\u001b\\\u001b[2m:\u001b[0m\u001b]8;id=751653;file://C:\\Users\\thoma\\AppData\\Local\\Programs\\Python\\Python39\\lib\\site-packages\\manim\\utils\\deprecation.py#210\u001b\\\u001b[2m210\u001b[0m\u001b]8;;\u001b\\\n",
       "                             deprecated since v0.\u001b[32m10.0\u001b[0m and may be removed                     \n",
       "                             in a later version. Use \u001b[1m<\u001b[0m\u001b[1;95mclass\u001b[0m\u001b[39m \u001b[0m                                 \n",
       "                             \u001b[32m'manim.mobject.three_dimensions.Surface'\u001b[0m\u001b[1m>\u001b[0m                       \n",
       "                             instead.                                                        \n"
      ]
     },
     "metadata": {},
     "output_type": "display_data"
    },
    {
     "name": "stderr",
     "output_type": "stream",
     "text": [
      "Animation 1: Rotating(Polygon), etc.:  28%|##7       | 25/90 [01:20<03:02,  2.81s/it]"
     ]
    },
    {
     "data": {
      "text/html": [
       "<pre style=\"white-space:pre;overflow-x:auto;line-height:normal;font-family:Menlo,'DejaVu Sans Mono',consolas,'Courier New',monospace\"><span style=\"color: #7fbfbf; text-decoration-color: #7fbfbf\">[01/31/22 13:43:11] </span><span style=\"color: #800000; text-decoration-color: #800000\">WARNING </span> The class ParametricSurface has been          <a href=\"file://C:\\Users\\thoma\\AppData\\Local\\Programs\\Python\\Python39\\lib\\site-packages\\manim\\utils\\deprecation.py\"><span style=\"color: #7f7f7f; text-decoration-color: #7f7f7f\">deprecation.py</span></a><span style=\"color: #7f7f7f; text-decoration-color: #7f7f7f\">:</span><a href=\"file://C:\\Users\\thoma\\AppData\\Local\\Programs\\Python\\Python39\\lib\\site-packages\\manim\\utils\\deprecation.py#210\"><span style=\"color: #7f7f7f; text-decoration-color: #7f7f7f\">210</span></a>\n",
       "                             deprecated since v0.<span style=\"color: #008000; text-decoration-color: #008000\">10.0</span> and may be removed                     \n",
       "                             in a later version. Use <span style=\"font-weight: bold\">&lt;</span><span style=\"color: #ff00ff; text-decoration-color: #ff00ff; font-weight: bold\">class</span><span style=\"color: #000000; text-decoration-color: #000000\"> </span>                                 \n",
       "                             <span style=\"color: #008000; text-decoration-color: #008000\">'manim.mobject.three_dimensions.Surface'</span><span style=\"font-weight: bold\">&gt;</span>                       \n",
       "                             instead.                                                        \n",
       "</pre>\n"
      ],
      "text/plain": [
       "\u001b[2;36m[01/31/22 13:43:11]\u001b[0m\u001b[2;36m \u001b[0m\u001b[31mWARNING \u001b[0m The class ParametricSurface has been          \u001b]8;id=908825;file://C:\\Users\\thoma\\AppData\\Local\\Programs\\Python\\Python39\\lib\\site-packages\\manim\\utils\\deprecation.py\u001b\\\u001b[2mdeprecation.py\u001b[0m\u001b]8;;\u001b\\\u001b[2m:\u001b[0m\u001b]8;id=176596;file://C:\\Users\\thoma\\AppData\\Local\\Programs\\Python\\Python39\\lib\\site-packages\\manim\\utils\\deprecation.py#210\u001b\\\u001b[2m210\u001b[0m\u001b]8;;\u001b\\\n",
       "                             deprecated since v0.\u001b[32m10.0\u001b[0m and may be removed                     \n",
       "                             in a later version. Use \u001b[1m<\u001b[0m\u001b[1;95mclass\u001b[0m\u001b[39m \u001b[0m                                 \n",
       "                             \u001b[32m'manim.mobject.three_dimensions.Surface'\u001b[0m\u001b[1m>\u001b[0m                       \n",
       "                             instead.                                                        \n"
      ]
     },
     "metadata": {},
     "output_type": "display_data"
    },
    {
     "name": "stderr",
     "output_type": "stream",
     "text": [
      "Animation 1: Rotating(Polygon), etc.:  29%|##8       | 26/90 [01:24<03:05,  2.91s/it]"
     ]
    },
    {
     "data": {
      "text/html": [
       "<pre style=\"white-space:pre;overflow-x:auto;line-height:normal;font-family:Menlo,'DejaVu Sans Mono',consolas,'Courier New',monospace\"><span style=\"color: #7fbfbf; text-decoration-color: #7fbfbf\">[01/31/22 13:43:14] </span><span style=\"color: #800000; text-decoration-color: #800000\">WARNING </span> The class ParametricSurface has been          <a href=\"file://C:\\Users\\thoma\\AppData\\Local\\Programs\\Python\\Python39\\lib\\site-packages\\manim\\utils\\deprecation.py\"><span style=\"color: #7f7f7f; text-decoration-color: #7f7f7f\">deprecation.py</span></a><span style=\"color: #7f7f7f; text-decoration-color: #7f7f7f\">:</span><a href=\"file://C:\\Users\\thoma\\AppData\\Local\\Programs\\Python\\Python39\\lib\\site-packages\\manim\\utils\\deprecation.py#210\"><span style=\"color: #7f7f7f; text-decoration-color: #7f7f7f\">210</span></a>\n",
       "                             deprecated since v0.<span style=\"color: #008000; text-decoration-color: #008000\">10.0</span> and may be removed                     \n",
       "                             in a later version. Use <span style=\"font-weight: bold\">&lt;</span><span style=\"color: #ff00ff; text-decoration-color: #ff00ff; font-weight: bold\">class</span><span style=\"color: #000000; text-decoration-color: #000000\"> </span>                                 \n",
       "                             <span style=\"color: #008000; text-decoration-color: #008000\">'manim.mobject.three_dimensions.Surface'</span><span style=\"font-weight: bold\">&gt;</span>                       \n",
       "                             instead.                                                        \n",
       "</pre>\n"
      ],
      "text/plain": [
       "\u001b[2;36m[01/31/22 13:43:14]\u001b[0m\u001b[2;36m \u001b[0m\u001b[31mWARNING \u001b[0m The class ParametricSurface has been          \u001b]8;id=896875;file://C:\\Users\\thoma\\AppData\\Local\\Programs\\Python\\Python39\\lib\\site-packages\\manim\\utils\\deprecation.py\u001b\\\u001b[2mdeprecation.py\u001b[0m\u001b]8;;\u001b\\\u001b[2m:\u001b[0m\u001b]8;id=769700;file://C:\\Users\\thoma\\AppData\\Local\\Programs\\Python\\Python39\\lib\\site-packages\\manim\\utils\\deprecation.py#210\u001b\\\u001b[2m210\u001b[0m\u001b]8;;\u001b\\\n",
       "                             deprecated since v0.\u001b[32m10.0\u001b[0m and may be removed                     \n",
       "                             in a later version. Use \u001b[1m<\u001b[0m\u001b[1;95mclass\u001b[0m\u001b[39m \u001b[0m                                 \n",
       "                             \u001b[32m'manim.mobject.three_dimensions.Surface'\u001b[0m\u001b[1m>\u001b[0m                       \n",
       "                             instead.                                                        \n"
      ]
     },
     "metadata": {},
     "output_type": "display_data"
    },
    {
     "name": "stderr",
     "output_type": "stream",
     "text": [
      "Animation 1: Rotating(Polygon), etc.:  30%|###       | 27/90 [01:29<03:46,  3.59s/it]"
     ]
    },
    {
     "data": {
      "text/html": [
       "<pre style=\"white-space:pre;overflow-x:auto;line-height:normal;font-family:Menlo,'DejaVu Sans Mono',consolas,'Courier New',monospace\"><span style=\"color: #7fbfbf; text-decoration-color: #7fbfbf\">[01/31/22 13:43:20] </span><span style=\"color: #800000; text-decoration-color: #800000\">WARNING </span> The class ParametricSurface has been          <a href=\"file://C:\\Users\\thoma\\AppData\\Local\\Programs\\Python\\Python39\\lib\\site-packages\\manim\\utils\\deprecation.py\"><span style=\"color: #7f7f7f; text-decoration-color: #7f7f7f\">deprecation.py</span></a><span style=\"color: #7f7f7f; text-decoration-color: #7f7f7f\">:</span><a href=\"file://C:\\Users\\thoma\\AppData\\Local\\Programs\\Python\\Python39\\lib\\site-packages\\manim\\utils\\deprecation.py#210\"><span style=\"color: #7f7f7f; text-decoration-color: #7f7f7f\">210</span></a>\n",
       "                             deprecated since v0.<span style=\"color: #008000; text-decoration-color: #008000\">10.0</span> and may be removed                     \n",
       "                             in a later version. Use <span style=\"font-weight: bold\">&lt;</span><span style=\"color: #ff00ff; text-decoration-color: #ff00ff; font-weight: bold\">class</span><span style=\"color: #000000; text-decoration-color: #000000\"> </span>                                 \n",
       "                             <span style=\"color: #008000; text-decoration-color: #008000\">'manim.mobject.three_dimensions.Surface'</span><span style=\"font-weight: bold\">&gt;</span>                       \n",
       "                             instead.                                                        \n",
       "</pre>\n"
      ],
      "text/plain": [
       "\u001b[2;36m[01/31/22 13:43:20]\u001b[0m\u001b[2;36m \u001b[0m\u001b[31mWARNING \u001b[0m The class ParametricSurface has been          \u001b]8;id=788066;file://C:\\Users\\thoma\\AppData\\Local\\Programs\\Python\\Python39\\lib\\site-packages\\manim\\utils\\deprecation.py\u001b\\\u001b[2mdeprecation.py\u001b[0m\u001b]8;;\u001b\\\u001b[2m:\u001b[0m\u001b]8;id=676308;file://C:\\Users\\thoma\\AppData\\Local\\Programs\\Python\\Python39\\lib\\site-packages\\manim\\utils\\deprecation.py#210\u001b\\\u001b[2m210\u001b[0m\u001b]8;;\u001b\\\n",
       "                             deprecated since v0.\u001b[32m10.0\u001b[0m and may be removed                     \n",
       "                             in a later version. Use \u001b[1m<\u001b[0m\u001b[1;95mclass\u001b[0m\u001b[39m \u001b[0m                                 \n",
       "                             \u001b[32m'manim.mobject.three_dimensions.Surface'\u001b[0m\u001b[1m>\u001b[0m                       \n",
       "                             instead.                                                        \n"
      ]
     },
     "metadata": {},
     "output_type": "display_data"
    },
    {
     "name": "stderr",
     "output_type": "stream",
     "text": [
      "Animation 1: Rotating(Polygon), etc.:  31%|###1      | 28/90 [01:32<03:35,  3.48s/it]"
     ]
    },
    {
     "data": {
      "text/html": [
       "<pre style=\"white-space:pre;overflow-x:auto;line-height:normal;font-family:Menlo,'DejaVu Sans Mono',consolas,'Courier New',monospace\"><span style=\"color: #7fbfbf; text-decoration-color: #7fbfbf\">[01/31/22 13:43:23] </span><span style=\"color: #800000; text-decoration-color: #800000\">WARNING </span> The class ParametricSurface has been          <a href=\"file://C:\\Users\\thoma\\AppData\\Local\\Programs\\Python\\Python39\\lib\\site-packages\\manim\\utils\\deprecation.py\"><span style=\"color: #7f7f7f; text-decoration-color: #7f7f7f\">deprecation.py</span></a><span style=\"color: #7f7f7f; text-decoration-color: #7f7f7f\">:</span><a href=\"file://C:\\Users\\thoma\\AppData\\Local\\Programs\\Python\\Python39\\lib\\site-packages\\manim\\utils\\deprecation.py#210\"><span style=\"color: #7f7f7f; text-decoration-color: #7f7f7f\">210</span></a>\n",
       "                             deprecated since v0.<span style=\"color: #008000; text-decoration-color: #008000\">10.0</span> and may be removed                     \n",
       "                             in a later version. Use <span style=\"font-weight: bold\">&lt;</span><span style=\"color: #ff00ff; text-decoration-color: #ff00ff; font-weight: bold\">class</span><span style=\"color: #000000; text-decoration-color: #000000\"> </span>                                 \n",
       "                             <span style=\"color: #008000; text-decoration-color: #008000\">'manim.mobject.three_dimensions.Surface'</span><span style=\"font-weight: bold\">&gt;</span>                       \n",
       "                             instead.                                                        \n",
       "</pre>\n"
      ],
      "text/plain": [
       "\u001b[2;36m[01/31/22 13:43:23]\u001b[0m\u001b[2;36m \u001b[0m\u001b[31mWARNING \u001b[0m The class ParametricSurface has been          \u001b]8;id=44083;file://C:\\Users\\thoma\\AppData\\Local\\Programs\\Python\\Python39\\lib\\site-packages\\manim\\utils\\deprecation.py\u001b\\\u001b[2mdeprecation.py\u001b[0m\u001b]8;;\u001b\\\u001b[2m:\u001b[0m\u001b]8;id=378972;file://C:\\Users\\thoma\\AppData\\Local\\Programs\\Python\\Python39\\lib\\site-packages\\manim\\utils\\deprecation.py#210\u001b\\\u001b[2m210\u001b[0m\u001b]8;;\u001b\\\n",
       "                             deprecated since v0.\u001b[32m10.0\u001b[0m and may be removed                     \n",
       "                             in a later version. Use \u001b[1m<\u001b[0m\u001b[1;95mclass\u001b[0m\u001b[39m \u001b[0m                                 \n",
       "                             \u001b[32m'manim.mobject.three_dimensions.Surface'\u001b[0m\u001b[1m>\u001b[0m                       \n",
       "                             instead.                                                        \n"
      ]
     },
     "metadata": {},
     "output_type": "display_data"
    },
    {
     "name": "stderr",
     "output_type": "stream",
     "text": [
      "Animation 1: Rotating(Polygon), etc.:  32%|###2      | 29/90 [01:35<03:21,  3.30s/it]"
     ]
    },
    {
     "data": {
      "text/html": [
       "<pre style=\"white-space:pre;overflow-x:auto;line-height:normal;font-family:Menlo,'DejaVu Sans Mono',consolas,'Courier New',monospace\"><span style=\"color: #7fbfbf; text-decoration-color: #7fbfbf\">[01/31/22 13:43:26] </span><span style=\"color: #800000; text-decoration-color: #800000\">WARNING </span> The class ParametricSurface has been          <a href=\"file://C:\\Users\\thoma\\AppData\\Local\\Programs\\Python\\Python39\\lib\\site-packages\\manim\\utils\\deprecation.py\"><span style=\"color: #7f7f7f; text-decoration-color: #7f7f7f\">deprecation.py</span></a><span style=\"color: #7f7f7f; text-decoration-color: #7f7f7f\">:</span><a href=\"file://C:\\Users\\thoma\\AppData\\Local\\Programs\\Python\\Python39\\lib\\site-packages\\manim\\utils\\deprecation.py#210\"><span style=\"color: #7f7f7f; text-decoration-color: #7f7f7f\">210</span></a>\n",
       "                             deprecated since v0.<span style=\"color: #008000; text-decoration-color: #008000\">10.0</span> and may be removed                     \n",
       "                             in a later version. Use <span style=\"font-weight: bold\">&lt;</span><span style=\"color: #ff00ff; text-decoration-color: #ff00ff; font-weight: bold\">class</span><span style=\"color: #000000; text-decoration-color: #000000\"> </span>                                 \n",
       "                             <span style=\"color: #008000; text-decoration-color: #008000\">'manim.mobject.three_dimensions.Surface'</span><span style=\"font-weight: bold\">&gt;</span>                       \n",
       "                             instead.                                                        \n",
       "</pre>\n"
      ],
      "text/plain": [
       "\u001b[2;36m[01/31/22 13:43:26]\u001b[0m\u001b[2;36m \u001b[0m\u001b[31mWARNING \u001b[0m The class ParametricSurface has been          \u001b]8;id=442482;file://C:\\Users\\thoma\\AppData\\Local\\Programs\\Python\\Python39\\lib\\site-packages\\manim\\utils\\deprecation.py\u001b\\\u001b[2mdeprecation.py\u001b[0m\u001b]8;;\u001b\\\u001b[2m:\u001b[0m\u001b]8;id=985324;file://C:\\Users\\thoma\\AppData\\Local\\Programs\\Python\\Python39\\lib\\site-packages\\manim\\utils\\deprecation.py#210\u001b\\\u001b[2m210\u001b[0m\u001b]8;;\u001b\\\n",
       "                             deprecated since v0.\u001b[32m10.0\u001b[0m and may be removed                     \n",
       "                             in a later version. Use \u001b[1m<\u001b[0m\u001b[1;95mclass\u001b[0m\u001b[39m \u001b[0m                                 \n",
       "                             \u001b[32m'manim.mobject.three_dimensions.Surface'\u001b[0m\u001b[1m>\u001b[0m                       \n",
       "                             instead.                                                        \n"
      ]
     },
     "metadata": {},
     "output_type": "display_data"
    },
    {
     "name": "stderr",
     "output_type": "stream",
     "text": [
      "Animation 1: Rotating(Polygon), etc.:  33%|###3      | 30/90 [01:38<03:21,  3.36s/it]"
     ]
    },
    {
     "data": {
      "text/html": [
       "<pre style=\"white-space:pre;overflow-x:auto;line-height:normal;font-family:Menlo,'DejaVu Sans Mono',consolas,'Courier New',monospace\"><span style=\"color: #7fbfbf; text-decoration-color: #7fbfbf\">[01/31/22 13:43:29] </span><span style=\"color: #800000; text-decoration-color: #800000\">WARNING </span> The class ParametricSurface has been          <a href=\"file://C:\\Users\\thoma\\AppData\\Local\\Programs\\Python\\Python39\\lib\\site-packages\\manim\\utils\\deprecation.py\"><span style=\"color: #7f7f7f; text-decoration-color: #7f7f7f\">deprecation.py</span></a><span style=\"color: #7f7f7f; text-decoration-color: #7f7f7f\">:</span><a href=\"file://C:\\Users\\thoma\\AppData\\Local\\Programs\\Python\\Python39\\lib\\site-packages\\manim\\utils\\deprecation.py#210\"><span style=\"color: #7f7f7f; text-decoration-color: #7f7f7f\">210</span></a>\n",
       "                             deprecated since v0.<span style=\"color: #008000; text-decoration-color: #008000\">10.0</span> and may be removed                     \n",
       "                             in a later version. Use <span style=\"font-weight: bold\">&lt;</span><span style=\"color: #ff00ff; text-decoration-color: #ff00ff; font-weight: bold\">class</span><span style=\"color: #000000; text-decoration-color: #000000\"> </span>                                 \n",
       "                             <span style=\"color: #008000; text-decoration-color: #008000\">'manim.mobject.three_dimensions.Surface'</span><span style=\"font-weight: bold\">&gt;</span>                       \n",
       "                             instead.                                                        \n",
       "</pre>\n"
      ],
      "text/plain": [
       "\u001b[2;36m[01/31/22 13:43:29]\u001b[0m\u001b[2;36m \u001b[0m\u001b[31mWARNING \u001b[0m The class ParametricSurface has been          \u001b]8;id=882167;file://C:\\Users\\thoma\\AppData\\Local\\Programs\\Python\\Python39\\lib\\site-packages\\manim\\utils\\deprecation.py\u001b\\\u001b[2mdeprecation.py\u001b[0m\u001b]8;;\u001b\\\u001b[2m:\u001b[0m\u001b]8;id=480971;file://C:\\Users\\thoma\\AppData\\Local\\Programs\\Python\\Python39\\lib\\site-packages\\manim\\utils\\deprecation.py#210\u001b\\\u001b[2m210\u001b[0m\u001b]8;;\u001b\\\n",
       "                             deprecated since v0.\u001b[32m10.0\u001b[0m and may be removed                     \n",
       "                             in a later version. Use \u001b[1m<\u001b[0m\u001b[1;95mclass\u001b[0m\u001b[39m \u001b[0m                                 \n",
       "                             \u001b[32m'manim.mobject.three_dimensions.Surface'\u001b[0m\u001b[1m>\u001b[0m                       \n",
       "                             instead.                                                        \n"
      ]
     },
     "metadata": {},
     "output_type": "display_data"
    },
    {
     "name": "stderr",
     "output_type": "stream",
     "text": [
      "Animation 1: Rotating(Polygon), etc.:  34%|###4      | 31/90 [01:41<03:09,  3.21s/it]"
     ]
    },
    {
     "data": {
      "text/html": [
       "<pre style=\"white-space:pre;overflow-x:auto;line-height:normal;font-family:Menlo,'DejaVu Sans Mono',consolas,'Courier New',monospace\"><span style=\"color: #7fbfbf; text-decoration-color: #7fbfbf\">[01/31/22 13:43:32] </span><span style=\"color: #800000; text-decoration-color: #800000\">WARNING </span> The class ParametricSurface has been          <a href=\"file://C:\\Users\\thoma\\AppData\\Local\\Programs\\Python\\Python39\\lib\\site-packages\\manim\\utils\\deprecation.py\"><span style=\"color: #7f7f7f; text-decoration-color: #7f7f7f\">deprecation.py</span></a><span style=\"color: #7f7f7f; text-decoration-color: #7f7f7f\">:</span><a href=\"file://C:\\Users\\thoma\\AppData\\Local\\Programs\\Python\\Python39\\lib\\site-packages\\manim\\utils\\deprecation.py#210\"><span style=\"color: #7f7f7f; text-decoration-color: #7f7f7f\">210</span></a>\n",
       "                             deprecated since v0.<span style=\"color: #008000; text-decoration-color: #008000\">10.0</span> and may be removed                     \n",
       "                             in a later version. Use <span style=\"font-weight: bold\">&lt;</span><span style=\"color: #ff00ff; text-decoration-color: #ff00ff; font-weight: bold\">class</span><span style=\"color: #000000; text-decoration-color: #000000\"> </span>                                 \n",
       "                             <span style=\"color: #008000; text-decoration-color: #008000\">'manim.mobject.three_dimensions.Surface'</span><span style=\"font-weight: bold\">&gt;</span>                       \n",
       "                             instead.                                                        \n",
       "</pre>\n"
      ],
      "text/plain": [
       "\u001b[2;36m[01/31/22 13:43:32]\u001b[0m\u001b[2;36m \u001b[0m\u001b[31mWARNING \u001b[0m The class ParametricSurface has been          \u001b]8;id=825594;file://C:\\Users\\thoma\\AppData\\Local\\Programs\\Python\\Python39\\lib\\site-packages\\manim\\utils\\deprecation.py\u001b\\\u001b[2mdeprecation.py\u001b[0m\u001b]8;;\u001b\\\u001b[2m:\u001b[0m\u001b]8;id=310593;file://C:\\Users\\thoma\\AppData\\Local\\Programs\\Python\\Python39\\lib\\site-packages\\manim\\utils\\deprecation.py#210\u001b\\\u001b[2m210\u001b[0m\u001b]8;;\u001b\\\n",
       "                             deprecated since v0.\u001b[32m10.0\u001b[0m and may be removed                     \n",
       "                             in a later version. Use \u001b[1m<\u001b[0m\u001b[1;95mclass\u001b[0m\u001b[39m \u001b[0m                                 \n",
       "                             \u001b[32m'manim.mobject.three_dimensions.Surface'\u001b[0m\u001b[1m>\u001b[0m                       \n",
       "                             instead.                                                        \n"
      ]
     },
     "metadata": {},
     "output_type": "display_data"
    },
    {
     "name": "stderr",
     "output_type": "stream",
     "text": [
      "Animation 1: Rotating(Polygon), etc.:  36%|###5      | 32/90 [01:45<03:10,  3.28s/it]"
     ]
    },
    {
     "data": {
      "text/html": [
       "<pre style=\"white-space:pre;overflow-x:auto;line-height:normal;font-family:Menlo,'DejaVu Sans Mono',consolas,'Courier New',monospace\"><span style=\"color: #7fbfbf; text-decoration-color: #7fbfbf\">[01/31/22 13:43:36] </span><span style=\"color: #800000; text-decoration-color: #800000\">WARNING </span> The class ParametricSurface has been          <a href=\"file://C:\\Users\\thoma\\AppData\\Local\\Programs\\Python\\Python39\\lib\\site-packages\\manim\\utils\\deprecation.py\"><span style=\"color: #7f7f7f; text-decoration-color: #7f7f7f\">deprecation.py</span></a><span style=\"color: #7f7f7f; text-decoration-color: #7f7f7f\">:</span><a href=\"file://C:\\Users\\thoma\\AppData\\Local\\Programs\\Python\\Python39\\lib\\site-packages\\manim\\utils\\deprecation.py#210\"><span style=\"color: #7f7f7f; text-decoration-color: #7f7f7f\">210</span></a>\n",
       "                             deprecated since v0.<span style=\"color: #008000; text-decoration-color: #008000\">10.0</span> and may be removed                     \n",
       "                             in a later version. Use <span style=\"font-weight: bold\">&lt;</span><span style=\"color: #ff00ff; text-decoration-color: #ff00ff; font-weight: bold\">class</span><span style=\"color: #000000; text-decoration-color: #000000\"> </span>                                 \n",
       "                             <span style=\"color: #008000; text-decoration-color: #008000\">'manim.mobject.three_dimensions.Surface'</span><span style=\"font-weight: bold\">&gt;</span>                       \n",
       "                             instead.                                                        \n",
       "</pre>\n"
      ],
      "text/plain": [
       "\u001b[2;36m[01/31/22 13:43:36]\u001b[0m\u001b[2;36m \u001b[0m\u001b[31mWARNING \u001b[0m The class ParametricSurface has been          \u001b]8;id=265771;file://C:\\Users\\thoma\\AppData\\Local\\Programs\\Python\\Python39\\lib\\site-packages\\manim\\utils\\deprecation.py\u001b\\\u001b[2mdeprecation.py\u001b[0m\u001b]8;;\u001b\\\u001b[2m:\u001b[0m\u001b]8;id=60536;file://C:\\Users\\thoma\\AppData\\Local\\Programs\\Python\\Python39\\lib\\site-packages\\manim\\utils\\deprecation.py#210\u001b\\\u001b[2m210\u001b[0m\u001b]8;;\u001b\\\n",
       "                             deprecated since v0.\u001b[32m10.0\u001b[0m and may be removed                     \n",
       "                             in a later version. Use \u001b[1m<\u001b[0m\u001b[1;95mclass\u001b[0m\u001b[39m \u001b[0m                                 \n",
       "                             \u001b[32m'manim.mobject.three_dimensions.Surface'\u001b[0m\u001b[1m>\u001b[0m                       \n",
       "                             instead.                                                        \n"
      ]
     },
     "metadata": {},
     "output_type": "display_data"
    },
    {
     "name": "stderr",
     "output_type": "stream",
     "text": [
      "Animation 1: Rotating(Polygon), etc.:  37%|###6      | 33/90 [01:49<03:18,  3.48s/it]"
     ]
    },
    {
     "data": {
      "text/html": [
       "<pre style=\"white-space:pre;overflow-x:auto;line-height:normal;font-family:Menlo,'DejaVu Sans Mono',consolas,'Courier New',monospace\"><span style=\"color: #7fbfbf; text-decoration-color: #7fbfbf\">[01/31/22 13:43:40] </span><span style=\"color: #800000; text-decoration-color: #800000\">WARNING </span> The class ParametricSurface has been          <a href=\"file://C:\\Users\\thoma\\AppData\\Local\\Programs\\Python\\Python39\\lib\\site-packages\\manim\\utils\\deprecation.py\"><span style=\"color: #7f7f7f; text-decoration-color: #7f7f7f\">deprecation.py</span></a><span style=\"color: #7f7f7f; text-decoration-color: #7f7f7f\">:</span><a href=\"file://C:\\Users\\thoma\\AppData\\Local\\Programs\\Python\\Python39\\lib\\site-packages\\manim\\utils\\deprecation.py#210\"><span style=\"color: #7f7f7f; text-decoration-color: #7f7f7f\">210</span></a>\n",
       "                             deprecated since v0.<span style=\"color: #008000; text-decoration-color: #008000\">10.0</span> and may be removed                     \n",
       "                             in a later version. Use <span style=\"font-weight: bold\">&lt;</span><span style=\"color: #ff00ff; text-decoration-color: #ff00ff; font-weight: bold\">class</span><span style=\"color: #000000; text-decoration-color: #000000\"> </span>                                 \n",
       "                             <span style=\"color: #008000; text-decoration-color: #008000\">'manim.mobject.three_dimensions.Surface'</span><span style=\"font-weight: bold\">&gt;</span>                       \n",
       "                             instead.                                                        \n",
       "</pre>\n"
      ],
      "text/plain": [
       "\u001b[2;36m[01/31/22 13:43:40]\u001b[0m\u001b[2;36m \u001b[0m\u001b[31mWARNING \u001b[0m The class ParametricSurface has been          \u001b]8;id=200474;file://C:\\Users\\thoma\\AppData\\Local\\Programs\\Python\\Python39\\lib\\site-packages\\manim\\utils\\deprecation.py\u001b\\\u001b[2mdeprecation.py\u001b[0m\u001b]8;;\u001b\\\u001b[2m:\u001b[0m\u001b]8;id=372894;file://C:\\Users\\thoma\\AppData\\Local\\Programs\\Python\\Python39\\lib\\site-packages\\manim\\utils\\deprecation.py#210\u001b\\\u001b[2m210\u001b[0m\u001b]8;;\u001b\\\n",
       "                             deprecated since v0.\u001b[32m10.0\u001b[0m and may be removed                     \n",
       "                             in a later version. Use \u001b[1m<\u001b[0m\u001b[1;95mclass\u001b[0m\u001b[39m \u001b[0m                                 \n",
       "                             \u001b[32m'manim.mobject.three_dimensions.Surface'\u001b[0m\u001b[1m>\u001b[0m                       \n",
       "                             instead.                                                        \n"
      ]
     },
     "metadata": {},
     "output_type": "display_data"
    },
    {
     "name": "stderr",
     "output_type": "stream",
     "text": [
      "Animation 1: Rotating(Polygon), etc.:  38%|###7      | 34/90 [01:53<03:21,  3.61s/it]"
     ]
    },
    {
     "data": {
      "text/html": [
       "<pre style=\"white-space:pre;overflow-x:auto;line-height:normal;font-family:Menlo,'DejaVu Sans Mono',consolas,'Courier New',monospace\"><span style=\"color: #7fbfbf; text-decoration-color: #7fbfbf\">[01/31/22 13:43:43] </span><span style=\"color: #800000; text-decoration-color: #800000\">WARNING </span> The class ParametricSurface has been          <a href=\"file://C:\\Users\\thoma\\AppData\\Local\\Programs\\Python\\Python39\\lib\\site-packages\\manim\\utils\\deprecation.py\"><span style=\"color: #7f7f7f; text-decoration-color: #7f7f7f\">deprecation.py</span></a><span style=\"color: #7f7f7f; text-decoration-color: #7f7f7f\">:</span><a href=\"file://C:\\Users\\thoma\\AppData\\Local\\Programs\\Python\\Python39\\lib\\site-packages\\manim\\utils\\deprecation.py#210\"><span style=\"color: #7f7f7f; text-decoration-color: #7f7f7f\">210</span></a>\n",
       "                             deprecated since v0.<span style=\"color: #008000; text-decoration-color: #008000\">10.0</span> and may be removed                     \n",
       "                             in a later version. Use <span style=\"font-weight: bold\">&lt;</span><span style=\"color: #ff00ff; text-decoration-color: #ff00ff; font-weight: bold\">class</span><span style=\"color: #000000; text-decoration-color: #000000\"> </span>                                 \n",
       "                             <span style=\"color: #008000; text-decoration-color: #008000\">'manim.mobject.three_dimensions.Surface'</span><span style=\"font-weight: bold\">&gt;</span>                       \n",
       "                             instead.                                                        \n",
       "</pre>\n"
      ],
      "text/plain": [
       "\u001b[2;36m[01/31/22 13:43:43]\u001b[0m\u001b[2;36m \u001b[0m\u001b[31mWARNING \u001b[0m The class ParametricSurface has been          \u001b]8;id=734471;file://C:\\Users\\thoma\\AppData\\Local\\Programs\\Python\\Python39\\lib\\site-packages\\manim\\utils\\deprecation.py\u001b\\\u001b[2mdeprecation.py\u001b[0m\u001b]8;;\u001b\\\u001b[2m:\u001b[0m\u001b]8;id=639995;file://C:\\Users\\thoma\\AppData\\Local\\Programs\\Python\\Python39\\lib\\site-packages\\manim\\utils\\deprecation.py#210\u001b\\\u001b[2m210\u001b[0m\u001b]8;;\u001b\\\n",
       "                             deprecated since v0.\u001b[32m10.0\u001b[0m and may be removed                     \n",
       "                             in a later version. Use \u001b[1m<\u001b[0m\u001b[1;95mclass\u001b[0m\u001b[39m \u001b[0m                                 \n",
       "                             \u001b[32m'manim.mobject.three_dimensions.Surface'\u001b[0m\u001b[1m>\u001b[0m                       \n",
       "                             instead.                                                        \n"
      ]
     },
     "metadata": {},
     "output_type": "display_data"
    },
    {
     "name": "stderr",
     "output_type": "stream",
     "text": [
      "Animation 1: Rotating(Polygon), etc.:  39%|###8      | 35/90 [01:56<03:18,  3.60s/it]"
     ]
    },
    {
     "data": {
      "text/html": [
       "<pre style=\"white-space:pre;overflow-x:auto;line-height:normal;font-family:Menlo,'DejaVu Sans Mono',consolas,'Courier New',monospace\"><span style=\"color: #7fbfbf; text-decoration-color: #7fbfbf\">[01/31/22 13:43:47] </span><span style=\"color: #800000; text-decoration-color: #800000\">WARNING </span> The class ParametricSurface has been          <a href=\"file://C:\\Users\\thoma\\AppData\\Local\\Programs\\Python\\Python39\\lib\\site-packages\\manim\\utils\\deprecation.py\"><span style=\"color: #7f7f7f; text-decoration-color: #7f7f7f\">deprecation.py</span></a><span style=\"color: #7f7f7f; text-decoration-color: #7f7f7f\">:</span><a href=\"file://C:\\Users\\thoma\\AppData\\Local\\Programs\\Python\\Python39\\lib\\site-packages\\manim\\utils\\deprecation.py#210\"><span style=\"color: #7f7f7f; text-decoration-color: #7f7f7f\">210</span></a>\n",
       "                             deprecated since v0.<span style=\"color: #008000; text-decoration-color: #008000\">10.0</span> and may be removed                     \n",
       "                             in a later version. Use <span style=\"font-weight: bold\">&lt;</span><span style=\"color: #ff00ff; text-decoration-color: #ff00ff; font-weight: bold\">class</span><span style=\"color: #000000; text-decoration-color: #000000\"> </span>                                 \n",
       "                             <span style=\"color: #008000; text-decoration-color: #008000\">'manim.mobject.three_dimensions.Surface'</span><span style=\"font-weight: bold\">&gt;</span>                       \n",
       "                             instead.                                                        \n",
       "</pre>\n"
      ],
      "text/plain": [
       "\u001b[2;36m[01/31/22 13:43:47]\u001b[0m\u001b[2;36m \u001b[0m\u001b[31mWARNING \u001b[0m The class ParametricSurface has been          \u001b]8;id=739428;file://C:\\Users\\thoma\\AppData\\Local\\Programs\\Python\\Python39\\lib\\site-packages\\manim\\utils\\deprecation.py\u001b\\\u001b[2mdeprecation.py\u001b[0m\u001b]8;;\u001b\\\u001b[2m:\u001b[0m\u001b]8;id=629453;file://C:\\Users\\thoma\\AppData\\Local\\Programs\\Python\\Python39\\lib\\site-packages\\manim\\utils\\deprecation.py#210\u001b\\\u001b[2m210\u001b[0m\u001b]8;;\u001b\\\n",
       "                             deprecated since v0.\u001b[32m10.0\u001b[0m and may be removed                     \n",
       "                             in a later version. Use \u001b[1m<\u001b[0m\u001b[1;95mclass\u001b[0m\u001b[39m \u001b[0m                                 \n",
       "                             \u001b[32m'manim.mobject.three_dimensions.Surface'\u001b[0m\u001b[1m>\u001b[0m                       \n",
       "                             instead.                                                        \n"
      ]
     },
     "metadata": {},
     "output_type": "display_data"
    },
    {
     "name": "stderr",
     "output_type": "stream",
     "text": [
      "Animation 1: Rotating(Polygon), etc.:  40%|####      | 36/90 [01:59<03:00,  3.34s/it]"
     ]
    },
    {
     "data": {
      "text/html": [
       "<pre style=\"white-space:pre;overflow-x:auto;line-height:normal;font-family:Menlo,'DejaVu Sans Mono',consolas,'Courier New',monospace\"><span style=\"color: #7fbfbf; text-decoration-color: #7fbfbf\">[01/31/22 13:43:50] </span><span style=\"color: #800000; text-decoration-color: #800000\">WARNING </span> The class ParametricSurface has been          <a href=\"file://C:\\Users\\thoma\\AppData\\Local\\Programs\\Python\\Python39\\lib\\site-packages\\manim\\utils\\deprecation.py\"><span style=\"color: #7f7f7f; text-decoration-color: #7f7f7f\">deprecation.py</span></a><span style=\"color: #7f7f7f; text-decoration-color: #7f7f7f\">:</span><a href=\"file://C:\\Users\\thoma\\AppData\\Local\\Programs\\Python\\Python39\\lib\\site-packages\\manim\\utils\\deprecation.py#210\"><span style=\"color: #7f7f7f; text-decoration-color: #7f7f7f\">210</span></a>\n",
       "                             deprecated since v0.<span style=\"color: #008000; text-decoration-color: #008000\">10.0</span> and may be removed                     \n",
       "                             in a later version. Use <span style=\"font-weight: bold\">&lt;</span><span style=\"color: #ff00ff; text-decoration-color: #ff00ff; font-weight: bold\">class</span><span style=\"color: #000000; text-decoration-color: #000000\"> </span>                                 \n",
       "                             <span style=\"color: #008000; text-decoration-color: #008000\">'manim.mobject.three_dimensions.Surface'</span><span style=\"font-weight: bold\">&gt;</span>                       \n",
       "                             instead.                                                        \n",
       "</pre>\n"
      ],
      "text/plain": [
       "\u001b[2;36m[01/31/22 13:43:50]\u001b[0m\u001b[2;36m \u001b[0m\u001b[31mWARNING \u001b[0m The class ParametricSurface has been          \u001b]8;id=832619;file://C:\\Users\\thoma\\AppData\\Local\\Programs\\Python\\Python39\\lib\\site-packages\\manim\\utils\\deprecation.py\u001b\\\u001b[2mdeprecation.py\u001b[0m\u001b]8;;\u001b\\\u001b[2m:\u001b[0m\u001b]8;id=921387;file://C:\\Users\\thoma\\AppData\\Local\\Programs\\Python\\Python39\\lib\\site-packages\\manim\\utils\\deprecation.py#210\u001b\\\u001b[2m210\u001b[0m\u001b]8;;\u001b\\\n",
       "                             deprecated since v0.\u001b[32m10.0\u001b[0m and may be removed                     \n",
       "                             in a later version. Use \u001b[1m<\u001b[0m\u001b[1;95mclass\u001b[0m\u001b[39m \u001b[0m                                 \n",
       "                             \u001b[32m'manim.mobject.three_dimensions.Surface'\u001b[0m\u001b[1m>\u001b[0m                       \n",
       "                             instead.                                                        \n"
      ]
     },
     "metadata": {},
     "output_type": "display_data"
    },
    {
     "name": "stderr",
     "output_type": "stream",
     "text": [
      "Animation 1: Rotating(Polygon), etc.:  41%|####1     | 37/90 [02:02<02:56,  3.33s/it]"
     ]
    },
    {
     "data": {
      "text/html": [
       "<pre style=\"white-space:pre;overflow-x:auto;line-height:normal;font-family:Menlo,'DejaVu Sans Mono',consolas,'Courier New',monospace\"><span style=\"color: #7fbfbf; text-decoration-color: #7fbfbf\">[01/31/22 13:43:53] </span><span style=\"color: #800000; text-decoration-color: #800000\">WARNING </span> The class ParametricSurface has been          <a href=\"file://C:\\Users\\thoma\\AppData\\Local\\Programs\\Python\\Python39\\lib\\site-packages\\manim\\utils\\deprecation.py\"><span style=\"color: #7f7f7f; text-decoration-color: #7f7f7f\">deprecation.py</span></a><span style=\"color: #7f7f7f; text-decoration-color: #7f7f7f\">:</span><a href=\"file://C:\\Users\\thoma\\AppData\\Local\\Programs\\Python\\Python39\\lib\\site-packages\\manim\\utils\\deprecation.py#210\"><span style=\"color: #7f7f7f; text-decoration-color: #7f7f7f\">210</span></a>\n",
       "                             deprecated since v0.<span style=\"color: #008000; text-decoration-color: #008000\">10.0</span> and may be removed                     \n",
       "                             in a later version. Use <span style=\"font-weight: bold\">&lt;</span><span style=\"color: #ff00ff; text-decoration-color: #ff00ff; font-weight: bold\">class</span><span style=\"color: #000000; text-decoration-color: #000000\"> </span>                                 \n",
       "                             <span style=\"color: #008000; text-decoration-color: #008000\">'manim.mobject.three_dimensions.Surface'</span><span style=\"font-weight: bold\">&gt;</span>                       \n",
       "                             instead.                                                        \n",
       "</pre>\n"
      ],
      "text/plain": [
       "\u001b[2;36m[01/31/22 13:43:53]\u001b[0m\u001b[2;36m \u001b[0m\u001b[31mWARNING \u001b[0m The class ParametricSurface has been          \u001b]8;id=180980;file://C:\\Users\\thoma\\AppData\\Local\\Programs\\Python\\Python39\\lib\\site-packages\\manim\\utils\\deprecation.py\u001b\\\u001b[2mdeprecation.py\u001b[0m\u001b]8;;\u001b\\\u001b[2m:\u001b[0m\u001b]8;id=852986;file://C:\\Users\\thoma\\AppData\\Local\\Programs\\Python\\Python39\\lib\\site-packages\\manim\\utils\\deprecation.py#210\u001b\\\u001b[2m210\u001b[0m\u001b]8;;\u001b\\\n",
       "                             deprecated since v0.\u001b[32m10.0\u001b[0m and may be removed                     \n",
       "                             in a later version. Use \u001b[1m<\u001b[0m\u001b[1;95mclass\u001b[0m\u001b[39m \u001b[0m                                 \n",
       "                             \u001b[32m'manim.mobject.three_dimensions.Surface'\u001b[0m\u001b[1m>\u001b[0m                       \n",
       "                             instead.                                                        \n"
      ]
     },
     "metadata": {},
     "output_type": "display_data"
    },
    {
     "name": "stderr",
     "output_type": "stream",
     "text": [
      "Animation 1: Rotating(Polygon), etc.:  42%|####2     | 38/90 [02:05<02:41,  3.11s/it]"
     ]
    },
    {
     "data": {
      "text/html": [
       "<pre style=\"white-space:pre;overflow-x:auto;line-height:normal;font-family:Menlo,'DejaVu Sans Mono',consolas,'Courier New',monospace\"><span style=\"color: #7fbfbf; text-decoration-color: #7fbfbf\">[01/31/22 13:43:56] </span><span style=\"color: #800000; text-decoration-color: #800000\">WARNING </span> The class ParametricSurface has been          <a href=\"file://C:\\Users\\thoma\\AppData\\Local\\Programs\\Python\\Python39\\lib\\site-packages\\manim\\utils\\deprecation.py\"><span style=\"color: #7f7f7f; text-decoration-color: #7f7f7f\">deprecation.py</span></a><span style=\"color: #7f7f7f; text-decoration-color: #7f7f7f\">:</span><a href=\"file://C:\\Users\\thoma\\AppData\\Local\\Programs\\Python\\Python39\\lib\\site-packages\\manim\\utils\\deprecation.py#210\"><span style=\"color: #7f7f7f; text-decoration-color: #7f7f7f\">210</span></a>\n",
       "                             deprecated since v0.<span style=\"color: #008000; text-decoration-color: #008000\">10.0</span> and may be removed                     \n",
       "                             in a later version. Use <span style=\"font-weight: bold\">&lt;</span><span style=\"color: #ff00ff; text-decoration-color: #ff00ff; font-weight: bold\">class</span><span style=\"color: #000000; text-decoration-color: #000000\"> </span>                                 \n",
       "                             <span style=\"color: #008000; text-decoration-color: #008000\">'manim.mobject.three_dimensions.Surface'</span><span style=\"font-weight: bold\">&gt;</span>                       \n",
       "                             instead.                                                        \n",
       "</pre>\n"
      ],
      "text/plain": [
       "\u001b[2;36m[01/31/22 13:43:56]\u001b[0m\u001b[2;36m \u001b[0m\u001b[31mWARNING \u001b[0m The class ParametricSurface has been          \u001b]8;id=983809;file://C:\\Users\\thoma\\AppData\\Local\\Programs\\Python\\Python39\\lib\\site-packages\\manim\\utils\\deprecation.py\u001b\\\u001b[2mdeprecation.py\u001b[0m\u001b]8;;\u001b\\\u001b[2m:\u001b[0m\u001b]8;id=576854;file://C:\\Users\\thoma\\AppData\\Local\\Programs\\Python\\Python39\\lib\\site-packages\\manim\\utils\\deprecation.py#210\u001b\\\u001b[2m210\u001b[0m\u001b]8;;\u001b\\\n",
       "                             deprecated since v0.\u001b[32m10.0\u001b[0m and may be removed                     \n",
       "                             in a later version. Use \u001b[1m<\u001b[0m\u001b[1;95mclass\u001b[0m\u001b[39m \u001b[0m                                 \n",
       "                             \u001b[32m'manim.mobject.three_dimensions.Surface'\u001b[0m\u001b[1m>\u001b[0m                       \n",
       "                             instead.                                                        \n"
      ]
     },
     "metadata": {},
     "output_type": "display_data"
    },
    {
     "name": "stderr",
     "output_type": "stream",
     "text": [
      "Animation 1: Rotating(Polygon), etc.:  43%|####3     | 39/90 [02:10<03:07,  3.68s/it]"
     ]
    },
    {
     "data": {
      "text/html": [
       "<pre style=\"white-space:pre;overflow-x:auto;line-height:normal;font-family:Menlo,'DejaVu Sans Mono',consolas,'Courier New',monospace\"><span style=\"color: #7fbfbf; text-decoration-color: #7fbfbf\">[01/31/22 13:44:01] </span><span style=\"color: #800000; text-decoration-color: #800000\">WARNING </span> The class ParametricSurface has been          <a href=\"file://C:\\Users\\thoma\\AppData\\Local\\Programs\\Python\\Python39\\lib\\site-packages\\manim\\utils\\deprecation.py\"><span style=\"color: #7f7f7f; text-decoration-color: #7f7f7f\">deprecation.py</span></a><span style=\"color: #7f7f7f; text-decoration-color: #7f7f7f\">:</span><a href=\"file://C:\\Users\\thoma\\AppData\\Local\\Programs\\Python\\Python39\\lib\\site-packages\\manim\\utils\\deprecation.py#210\"><span style=\"color: #7f7f7f; text-decoration-color: #7f7f7f\">210</span></a>\n",
       "                             deprecated since v0.<span style=\"color: #008000; text-decoration-color: #008000\">10.0</span> and may be removed                     \n",
       "                             in a later version. Use <span style=\"font-weight: bold\">&lt;</span><span style=\"color: #ff00ff; text-decoration-color: #ff00ff; font-weight: bold\">class</span><span style=\"color: #000000; text-decoration-color: #000000\"> </span>                                 \n",
       "                             <span style=\"color: #008000; text-decoration-color: #008000\">'manim.mobject.three_dimensions.Surface'</span><span style=\"font-weight: bold\">&gt;</span>                       \n",
       "                             instead.                                                        \n",
       "</pre>\n"
      ],
      "text/plain": [
       "\u001b[2;36m[01/31/22 13:44:01]\u001b[0m\u001b[2;36m \u001b[0m\u001b[31mWARNING \u001b[0m The class ParametricSurface has been          \u001b]8;id=758173;file://C:\\Users\\thoma\\AppData\\Local\\Programs\\Python\\Python39\\lib\\site-packages\\manim\\utils\\deprecation.py\u001b\\\u001b[2mdeprecation.py\u001b[0m\u001b]8;;\u001b\\\u001b[2m:\u001b[0m\u001b]8;id=305379;file://C:\\Users\\thoma\\AppData\\Local\\Programs\\Python\\Python39\\lib\\site-packages\\manim\\utils\\deprecation.py#210\u001b\\\u001b[2m210\u001b[0m\u001b]8;;\u001b\\\n",
       "                             deprecated since v0.\u001b[32m10.0\u001b[0m and may be removed                     \n",
       "                             in a later version. Use \u001b[1m<\u001b[0m\u001b[1;95mclass\u001b[0m\u001b[39m \u001b[0m                                 \n",
       "                             \u001b[32m'manim.mobject.three_dimensions.Surface'\u001b[0m\u001b[1m>\u001b[0m                       \n",
       "                             instead.                                                        \n"
      ]
     },
     "metadata": {},
     "output_type": "display_data"
    },
    {
     "name": "stderr",
     "output_type": "stream",
     "text": [
      "Animation 1: Rotating(Polygon), etc.:  44%|####4     | 40/90 [02:14<03:08,  3.77s/it]"
     ]
    },
    {
     "data": {
      "text/html": [
       "<pre style=\"white-space:pre;overflow-x:auto;line-height:normal;font-family:Menlo,'DejaVu Sans Mono',consolas,'Courier New',monospace\"><span style=\"color: #7fbfbf; text-decoration-color: #7fbfbf\">[01/31/22 13:44:05] </span><span style=\"color: #800000; text-decoration-color: #800000\">WARNING </span> The class ParametricSurface has been          <a href=\"file://C:\\Users\\thoma\\AppData\\Local\\Programs\\Python\\Python39\\lib\\site-packages\\manim\\utils\\deprecation.py\"><span style=\"color: #7f7f7f; text-decoration-color: #7f7f7f\">deprecation.py</span></a><span style=\"color: #7f7f7f; text-decoration-color: #7f7f7f\">:</span><a href=\"file://C:\\Users\\thoma\\AppData\\Local\\Programs\\Python\\Python39\\lib\\site-packages\\manim\\utils\\deprecation.py#210\"><span style=\"color: #7f7f7f; text-decoration-color: #7f7f7f\">210</span></a>\n",
       "                             deprecated since v0.<span style=\"color: #008000; text-decoration-color: #008000\">10.0</span> and may be removed                     \n",
       "                             in a later version. Use <span style=\"font-weight: bold\">&lt;</span><span style=\"color: #ff00ff; text-decoration-color: #ff00ff; font-weight: bold\">class</span><span style=\"color: #000000; text-decoration-color: #000000\"> </span>                                 \n",
       "                             <span style=\"color: #008000; text-decoration-color: #008000\">'manim.mobject.three_dimensions.Surface'</span><span style=\"font-weight: bold\">&gt;</span>                       \n",
       "                             instead.                                                        \n",
       "</pre>\n"
      ],
      "text/plain": [
       "\u001b[2;36m[01/31/22 13:44:05]\u001b[0m\u001b[2;36m \u001b[0m\u001b[31mWARNING \u001b[0m The class ParametricSurface has been          \u001b]8;id=632934;file://C:\\Users\\thoma\\AppData\\Local\\Programs\\Python\\Python39\\lib\\site-packages\\manim\\utils\\deprecation.py\u001b\\\u001b[2mdeprecation.py\u001b[0m\u001b]8;;\u001b\\\u001b[2m:\u001b[0m\u001b]8;id=120275;file://C:\\Users\\thoma\\AppData\\Local\\Programs\\Python\\Python39\\lib\\site-packages\\manim\\utils\\deprecation.py#210\u001b\\\u001b[2m210\u001b[0m\u001b]8;;\u001b\\\n",
       "                             deprecated since v0.\u001b[32m10.0\u001b[0m and may be removed                     \n",
       "                             in a later version. Use \u001b[1m<\u001b[0m\u001b[1;95mclass\u001b[0m\u001b[39m \u001b[0m                                 \n",
       "                             \u001b[32m'manim.mobject.three_dimensions.Surface'\u001b[0m\u001b[1m>\u001b[0m                       \n",
       "                             instead.                                                        \n"
      ]
     },
     "metadata": {},
     "output_type": "display_data"
    },
    {
     "name": "stderr",
     "output_type": "stream",
     "text": [
      "Animation 1: Rotating(Polygon), etc.:  46%|####5     | 41/90 [02:19<03:31,  4.32s/it]"
     ]
    },
    {
     "data": {
      "text/html": [
       "<pre style=\"white-space:pre;overflow-x:auto;line-height:normal;font-family:Menlo,'DejaVu Sans Mono',consolas,'Courier New',monospace\"><span style=\"color: #7fbfbf; text-decoration-color: #7fbfbf\">[01/31/22 13:44:10] </span><span style=\"color: #800000; text-decoration-color: #800000\">WARNING </span> The class ParametricSurface has been          <a href=\"file://C:\\Users\\thoma\\AppData\\Local\\Programs\\Python\\Python39\\lib\\site-packages\\manim\\utils\\deprecation.py\"><span style=\"color: #7f7f7f; text-decoration-color: #7f7f7f\">deprecation.py</span></a><span style=\"color: #7f7f7f; text-decoration-color: #7f7f7f\">:</span><a href=\"file://C:\\Users\\thoma\\AppData\\Local\\Programs\\Python\\Python39\\lib\\site-packages\\manim\\utils\\deprecation.py#210\"><span style=\"color: #7f7f7f; text-decoration-color: #7f7f7f\">210</span></a>\n",
       "                             deprecated since v0.<span style=\"color: #008000; text-decoration-color: #008000\">10.0</span> and may be removed                     \n",
       "                             in a later version. Use <span style=\"font-weight: bold\">&lt;</span><span style=\"color: #ff00ff; text-decoration-color: #ff00ff; font-weight: bold\">class</span><span style=\"color: #000000; text-decoration-color: #000000\"> </span>                                 \n",
       "                             <span style=\"color: #008000; text-decoration-color: #008000\">'manim.mobject.three_dimensions.Surface'</span><span style=\"font-weight: bold\">&gt;</span>                       \n",
       "                             instead.                                                        \n",
       "</pre>\n"
      ],
      "text/plain": [
       "\u001b[2;36m[01/31/22 13:44:10]\u001b[0m\u001b[2;36m \u001b[0m\u001b[31mWARNING \u001b[0m The class ParametricSurface has been          \u001b]8;id=347250;file://C:\\Users\\thoma\\AppData\\Local\\Programs\\Python\\Python39\\lib\\site-packages\\manim\\utils\\deprecation.py\u001b\\\u001b[2mdeprecation.py\u001b[0m\u001b]8;;\u001b\\\u001b[2m:\u001b[0m\u001b]8;id=499353;file://C:\\Users\\thoma\\AppData\\Local\\Programs\\Python\\Python39\\lib\\site-packages\\manim\\utils\\deprecation.py#210\u001b\\\u001b[2m210\u001b[0m\u001b]8;;\u001b\\\n",
       "                             deprecated since v0.\u001b[32m10.0\u001b[0m and may be removed                     \n",
       "                             in a later version. Use \u001b[1m<\u001b[0m\u001b[1;95mclass\u001b[0m\u001b[39m \u001b[0m                                 \n",
       "                             \u001b[32m'manim.mobject.three_dimensions.Surface'\u001b[0m\u001b[1m>\u001b[0m                       \n",
       "                             instead.                                                        \n"
      ]
     },
     "metadata": {},
     "output_type": "display_data"
    },
    {
     "name": "stderr",
     "output_type": "stream",
     "text": [
      "Animation 1: Rotating(Polygon), etc.:  47%|####6     | 42/90 [02:22<03:07,  3.91s/it]"
     ]
    },
    {
     "data": {
      "text/html": [
       "<pre style=\"white-space:pre;overflow-x:auto;line-height:normal;font-family:Menlo,'DejaVu Sans Mono',consolas,'Courier New',monospace\"><span style=\"color: #7fbfbf; text-decoration-color: #7fbfbf\">[01/31/22 13:44:13] </span><span style=\"color: #800000; text-decoration-color: #800000\">WARNING </span> The class ParametricSurface has been          <a href=\"file://C:\\Users\\thoma\\AppData\\Local\\Programs\\Python\\Python39\\lib\\site-packages\\manim\\utils\\deprecation.py\"><span style=\"color: #7f7f7f; text-decoration-color: #7f7f7f\">deprecation.py</span></a><span style=\"color: #7f7f7f; text-decoration-color: #7f7f7f\">:</span><a href=\"file://C:\\Users\\thoma\\AppData\\Local\\Programs\\Python\\Python39\\lib\\site-packages\\manim\\utils\\deprecation.py#210\"><span style=\"color: #7f7f7f; text-decoration-color: #7f7f7f\">210</span></a>\n",
       "                             deprecated since v0.<span style=\"color: #008000; text-decoration-color: #008000\">10.0</span> and may be removed                     \n",
       "                             in a later version. Use <span style=\"font-weight: bold\">&lt;</span><span style=\"color: #ff00ff; text-decoration-color: #ff00ff; font-weight: bold\">class</span><span style=\"color: #000000; text-decoration-color: #000000\"> </span>                                 \n",
       "                             <span style=\"color: #008000; text-decoration-color: #008000\">'manim.mobject.three_dimensions.Surface'</span><span style=\"font-weight: bold\">&gt;</span>                       \n",
       "                             instead.                                                        \n",
       "</pre>\n"
      ],
      "text/plain": [
       "\u001b[2;36m[01/31/22 13:44:13]\u001b[0m\u001b[2;36m \u001b[0m\u001b[31mWARNING \u001b[0m The class ParametricSurface has been          \u001b]8;id=399900;file://C:\\Users\\thoma\\AppData\\Local\\Programs\\Python\\Python39\\lib\\site-packages\\manim\\utils\\deprecation.py\u001b\\\u001b[2mdeprecation.py\u001b[0m\u001b]8;;\u001b\\\u001b[2m:\u001b[0m\u001b]8;id=905239;file://C:\\Users\\thoma\\AppData\\Local\\Programs\\Python\\Python39\\lib\\site-packages\\manim\\utils\\deprecation.py#210\u001b\\\u001b[2m210\u001b[0m\u001b]8;;\u001b\\\n",
       "                             deprecated since v0.\u001b[32m10.0\u001b[0m and may be removed                     \n",
       "                             in a later version. Use \u001b[1m<\u001b[0m\u001b[1;95mclass\u001b[0m\u001b[39m \u001b[0m                                 \n",
       "                             \u001b[32m'manim.mobject.three_dimensions.Surface'\u001b[0m\u001b[1m>\u001b[0m                       \n",
       "                             instead.                                                        \n"
      ]
     },
     "metadata": {},
     "output_type": "display_data"
    },
    {
     "name": "stderr",
     "output_type": "stream",
     "text": [
      "Animation 1: Rotating(Polygon), etc.:  48%|####7     | 43/90 [02:26<02:54,  3.72s/it]"
     ]
    },
    {
     "data": {
      "text/html": [
       "<pre style=\"white-space:pre;overflow-x:auto;line-height:normal;font-family:Menlo,'DejaVu Sans Mono',consolas,'Courier New',monospace\"><span style=\"color: #7fbfbf; text-decoration-color: #7fbfbf\">[01/31/22 13:44:16] </span><span style=\"color: #800000; text-decoration-color: #800000\">WARNING </span> The class ParametricSurface has been          <a href=\"file://C:\\Users\\thoma\\AppData\\Local\\Programs\\Python\\Python39\\lib\\site-packages\\manim\\utils\\deprecation.py\"><span style=\"color: #7f7f7f; text-decoration-color: #7f7f7f\">deprecation.py</span></a><span style=\"color: #7f7f7f; text-decoration-color: #7f7f7f\">:</span><a href=\"file://C:\\Users\\thoma\\AppData\\Local\\Programs\\Python\\Python39\\lib\\site-packages\\manim\\utils\\deprecation.py#210\"><span style=\"color: #7f7f7f; text-decoration-color: #7f7f7f\">210</span></a>\n",
       "                             deprecated since v0.<span style=\"color: #008000; text-decoration-color: #008000\">10.0</span> and may be removed                     \n",
       "                             in a later version. Use <span style=\"font-weight: bold\">&lt;</span><span style=\"color: #ff00ff; text-decoration-color: #ff00ff; font-weight: bold\">class</span><span style=\"color: #000000; text-decoration-color: #000000\"> </span>                                 \n",
       "                             <span style=\"color: #008000; text-decoration-color: #008000\">'manim.mobject.three_dimensions.Surface'</span><span style=\"font-weight: bold\">&gt;</span>                       \n",
       "                             instead.                                                        \n",
       "</pre>\n"
      ],
      "text/plain": [
       "\u001b[2;36m[01/31/22 13:44:16]\u001b[0m\u001b[2;36m \u001b[0m\u001b[31mWARNING \u001b[0m The class ParametricSurface has been          \u001b]8;id=542509;file://C:\\Users\\thoma\\AppData\\Local\\Programs\\Python\\Python39\\lib\\site-packages\\manim\\utils\\deprecation.py\u001b\\\u001b[2mdeprecation.py\u001b[0m\u001b]8;;\u001b\\\u001b[2m:\u001b[0m\u001b]8;id=754291;file://C:\\Users\\thoma\\AppData\\Local\\Programs\\Python\\Python39\\lib\\site-packages\\manim\\utils\\deprecation.py#210\u001b\\\u001b[2m210\u001b[0m\u001b]8;;\u001b\\\n",
       "                             deprecated since v0.\u001b[32m10.0\u001b[0m and may be removed                     \n",
       "                             in a later version. Use \u001b[1m<\u001b[0m\u001b[1;95mclass\u001b[0m\u001b[39m \u001b[0m                                 \n",
       "                             \u001b[32m'manim.mobject.three_dimensions.Surface'\u001b[0m\u001b[1m>\u001b[0m                       \n",
       "                             instead.                                                        \n"
      ]
     },
     "metadata": {},
     "output_type": "display_data"
    },
    {
     "name": "stderr",
     "output_type": "stream",
     "text": [
      "Animation 1: Rotating(Polygon), etc.:  49%|####8     | 44/90 [02:30<02:59,  3.89s/it]"
     ]
    },
    {
     "data": {
      "text/html": [
       "<pre style=\"white-space:pre;overflow-x:auto;line-height:normal;font-family:Menlo,'DejaVu Sans Mono',consolas,'Courier New',monospace\"><span style=\"color: #7fbfbf; text-decoration-color: #7fbfbf\">[01/31/22 13:44:21] </span><span style=\"color: #800000; text-decoration-color: #800000\">WARNING </span> The class ParametricSurface has been          <a href=\"file://C:\\Users\\thoma\\AppData\\Local\\Programs\\Python\\Python39\\lib\\site-packages\\manim\\utils\\deprecation.py\"><span style=\"color: #7f7f7f; text-decoration-color: #7f7f7f\">deprecation.py</span></a><span style=\"color: #7f7f7f; text-decoration-color: #7f7f7f\">:</span><a href=\"file://C:\\Users\\thoma\\AppData\\Local\\Programs\\Python\\Python39\\lib\\site-packages\\manim\\utils\\deprecation.py#210\"><span style=\"color: #7f7f7f; text-decoration-color: #7f7f7f\">210</span></a>\n",
       "                             deprecated since v0.<span style=\"color: #008000; text-decoration-color: #008000\">10.0</span> and may be removed                     \n",
       "                             in a later version. Use <span style=\"font-weight: bold\">&lt;</span><span style=\"color: #ff00ff; text-decoration-color: #ff00ff; font-weight: bold\">class</span><span style=\"color: #000000; text-decoration-color: #000000\"> </span>                                 \n",
       "                             <span style=\"color: #008000; text-decoration-color: #008000\">'manim.mobject.three_dimensions.Surface'</span><span style=\"font-weight: bold\">&gt;</span>                       \n",
       "                             instead.                                                        \n",
       "</pre>\n"
      ],
      "text/plain": [
       "\u001b[2;36m[01/31/22 13:44:21]\u001b[0m\u001b[2;36m \u001b[0m\u001b[31mWARNING \u001b[0m The class ParametricSurface has been          \u001b]8;id=131976;file://C:\\Users\\thoma\\AppData\\Local\\Programs\\Python\\Python39\\lib\\site-packages\\manim\\utils\\deprecation.py\u001b\\\u001b[2mdeprecation.py\u001b[0m\u001b]8;;\u001b\\\u001b[2m:\u001b[0m\u001b]8;id=608111;file://C:\\Users\\thoma\\AppData\\Local\\Programs\\Python\\Python39\\lib\\site-packages\\manim\\utils\\deprecation.py#210\u001b\\\u001b[2m210\u001b[0m\u001b]8;;\u001b\\\n",
       "                             deprecated since v0.\u001b[32m10.0\u001b[0m and may be removed                     \n",
       "                             in a later version. Use \u001b[1m<\u001b[0m\u001b[1;95mclass\u001b[0m\u001b[39m \u001b[0m                                 \n",
       "                             \u001b[32m'manim.mobject.three_dimensions.Surface'\u001b[0m\u001b[1m>\u001b[0m                       \n",
       "                             instead.                                                        \n"
      ]
     },
     "metadata": {},
     "output_type": "display_data"
    },
    {
     "name": "stderr",
     "output_type": "stream",
     "text": [
      "Animation 1: Rotating(Polygon), etc.:  50%|#####     | 45/90 [02:34<03:00,  4.02s/it]"
     ]
    },
    {
     "data": {
      "text/html": [
       "<pre style=\"white-space:pre;overflow-x:auto;line-height:normal;font-family:Menlo,'DejaVu Sans Mono',consolas,'Courier New',monospace\"><span style=\"color: #7fbfbf; text-decoration-color: #7fbfbf\">[01/31/22 13:44:25] </span><span style=\"color: #800000; text-decoration-color: #800000\">WARNING </span> The class ParametricSurface has been          <a href=\"file://C:\\Users\\thoma\\AppData\\Local\\Programs\\Python\\Python39\\lib\\site-packages\\manim\\utils\\deprecation.py\"><span style=\"color: #7f7f7f; text-decoration-color: #7f7f7f\">deprecation.py</span></a><span style=\"color: #7f7f7f; text-decoration-color: #7f7f7f\">:</span><a href=\"file://C:\\Users\\thoma\\AppData\\Local\\Programs\\Python\\Python39\\lib\\site-packages\\manim\\utils\\deprecation.py#210\"><span style=\"color: #7f7f7f; text-decoration-color: #7f7f7f\">210</span></a>\n",
       "                             deprecated since v0.<span style=\"color: #008000; text-decoration-color: #008000\">10.0</span> and may be removed                     \n",
       "                             in a later version. Use <span style=\"font-weight: bold\">&lt;</span><span style=\"color: #ff00ff; text-decoration-color: #ff00ff; font-weight: bold\">class</span><span style=\"color: #000000; text-decoration-color: #000000\"> </span>                                 \n",
       "                             <span style=\"color: #008000; text-decoration-color: #008000\">'manim.mobject.three_dimensions.Surface'</span><span style=\"font-weight: bold\">&gt;</span>                       \n",
       "                             instead.                                                        \n",
       "</pre>\n"
      ],
      "text/plain": [
       "\u001b[2;36m[01/31/22 13:44:25]\u001b[0m\u001b[2;36m \u001b[0m\u001b[31mWARNING \u001b[0m The class ParametricSurface has been          \u001b]8;id=292640;file://C:\\Users\\thoma\\AppData\\Local\\Programs\\Python\\Python39\\lib\\site-packages\\manim\\utils\\deprecation.py\u001b\\\u001b[2mdeprecation.py\u001b[0m\u001b]8;;\u001b\\\u001b[2m:\u001b[0m\u001b]8;id=363401;file://C:\\Users\\thoma\\AppData\\Local\\Programs\\Python\\Python39\\lib\\site-packages\\manim\\utils\\deprecation.py#210\u001b\\\u001b[2m210\u001b[0m\u001b]8;;\u001b\\\n",
       "                             deprecated since v0.\u001b[32m10.0\u001b[0m and may be removed                     \n",
       "                             in a later version. Use \u001b[1m<\u001b[0m\u001b[1;95mclass\u001b[0m\u001b[39m \u001b[0m                                 \n",
       "                             \u001b[32m'manim.mobject.three_dimensions.Surface'\u001b[0m\u001b[1m>\u001b[0m                       \n",
       "                             instead.                                                        \n"
      ]
     },
     "metadata": {},
     "output_type": "display_data"
    },
    {
     "name": "stderr",
     "output_type": "stream",
     "text": [
      "Animation 1: Rotating(Polygon), etc.:  51%|#####1    | 46/90 [02:38<02:48,  3.83s/it]"
     ]
    },
    {
     "data": {
      "text/html": [
       "<pre style=\"white-space:pre;overflow-x:auto;line-height:normal;font-family:Menlo,'DejaVu Sans Mono',consolas,'Courier New',monospace\"><span style=\"color: #7fbfbf; text-decoration-color: #7fbfbf\">[01/31/22 13:44:28] </span><span style=\"color: #800000; text-decoration-color: #800000\">WARNING </span> The class ParametricSurface has been          <a href=\"file://C:\\Users\\thoma\\AppData\\Local\\Programs\\Python\\Python39\\lib\\site-packages\\manim\\utils\\deprecation.py\"><span style=\"color: #7f7f7f; text-decoration-color: #7f7f7f\">deprecation.py</span></a><span style=\"color: #7f7f7f; text-decoration-color: #7f7f7f\">:</span><a href=\"file://C:\\Users\\thoma\\AppData\\Local\\Programs\\Python\\Python39\\lib\\site-packages\\manim\\utils\\deprecation.py#210\"><span style=\"color: #7f7f7f; text-decoration-color: #7f7f7f\">210</span></a>\n",
       "                             deprecated since v0.<span style=\"color: #008000; text-decoration-color: #008000\">10.0</span> and may be removed                     \n",
       "                             in a later version. Use <span style=\"font-weight: bold\">&lt;</span><span style=\"color: #ff00ff; text-decoration-color: #ff00ff; font-weight: bold\">class</span><span style=\"color: #000000; text-decoration-color: #000000\"> </span>                                 \n",
       "                             <span style=\"color: #008000; text-decoration-color: #008000\">'manim.mobject.three_dimensions.Surface'</span><span style=\"font-weight: bold\">&gt;</span>                       \n",
       "                             instead.                                                        \n",
       "</pre>\n"
      ],
      "text/plain": [
       "\u001b[2;36m[01/31/22 13:44:28]\u001b[0m\u001b[2;36m \u001b[0m\u001b[31mWARNING \u001b[0m The class ParametricSurface has been          \u001b]8;id=49518;file://C:\\Users\\thoma\\AppData\\Local\\Programs\\Python\\Python39\\lib\\site-packages\\manim\\utils\\deprecation.py\u001b\\\u001b[2mdeprecation.py\u001b[0m\u001b]8;;\u001b\\\u001b[2m:\u001b[0m\u001b]8;id=162534;file://C:\\Users\\thoma\\AppData\\Local\\Programs\\Python\\Python39\\lib\\site-packages\\manim\\utils\\deprecation.py#210\u001b\\\u001b[2m210\u001b[0m\u001b]8;;\u001b\\\n",
       "                             deprecated since v0.\u001b[32m10.0\u001b[0m and may be removed                     \n",
       "                             in a later version. Use \u001b[1m<\u001b[0m\u001b[1;95mclass\u001b[0m\u001b[39m \u001b[0m                                 \n",
       "                             \u001b[32m'manim.mobject.three_dimensions.Surface'\u001b[0m\u001b[1m>\u001b[0m                       \n",
       "                             instead.                                                        \n"
      ]
     },
     "metadata": {},
     "output_type": "display_data"
    },
    {
     "name": "stderr",
     "output_type": "stream",
     "text": [
      "Animation 1: Rotating(Polygon), etc.:  52%|#####2    | 47/90 [02:42<02:48,  3.92s/it]"
     ]
    },
    {
     "data": {
      "text/html": [
       "<pre style=\"white-space:pre;overflow-x:auto;line-height:normal;font-family:Menlo,'DejaVu Sans Mono',consolas,'Courier New',monospace\"><span style=\"color: #7fbfbf; text-decoration-color: #7fbfbf\">[01/31/22 13:44:33] </span><span style=\"color: #800000; text-decoration-color: #800000\">WARNING </span> The class ParametricSurface has been          <a href=\"file://C:\\Users\\thoma\\AppData\\Local\\Programs\\Python\\Python39\\lib\\site-packages\\manim\\utils\\deprecation.py\"><span style=\"color: #7f7f7f; text-decoration-color: #7f7f7f\">deprecation.py</span></a><span style=\"color: #7f7f7f; text-decoration-color: #7f7f7f\">:</span><a href=\"file://C:\\Users\\thoma\\AppData\\Local\\Programs\\Python\\Python39\\lib\\site-packages\\manim\\utils\\deprecation.py#210\"><span style=\"color: #7f7f7f; text-decoration-color: #7f7f7f\">210</span></a>\n",
       "                             deprecated since v0.<span style=\"color: #008000; text-decoration-color: #008000\">10.0</span> and may be removed                     \n",
       "                             in a later version. Use <span style=\"font-weight: bold\">&lt;</span><span style=\"color: #ff00ff; text-decoration-color: #ff00ff; font-weight: bold\">class</span><span style=\"color: #000000; text-decoration-color: #000000\"> </span>                                 \n",
       "                             <span style=\"color: #008000; text-decoration-color: #008000\">'manim.mobject.three_dimensions.Surface'</span><span style=\"font-weight: bold\">&gt;</span>                       \n",
       "                             instead.                                                        \n",
       "</pre>\n"
      ],
      "text/plain": [
       "\u001b[2;36m[01/31/22 13:44:33]\u001b[0m\u001b[2;36m \u001b[0m\u001b[31mWARNING \u001b[0m The class ParametricSurface has been          \u001b]8;id=388923;file://C:\\Users\\thoma\\AppData\\Local\\Programs\\Python\\Python39\\lib\\site-packages\\manim\\utils\\deprecation.py\u001b\\\u001b[2mdeprecation.py\u001b[0m\u001b]8;;\u001b\\\u001b[2m:\u001b[0m\u001b]8;id=168180;file://C:\\Users\\thoma\\AppData\\Local\\Programs\\Python\\Python39\\lib\\site-packages\\manim\\utils\\deprecation.py#210\u001b\\\u001b[2m210\u001b[0m\u001b]8;;\u001b\\\n",
       "                             deprecated since v0.\u001b[32m10.0\u001b[0m and may be removed                     \n",
       "                             in a later version. Use \u001b[1m<\u001b[0m\u001b[1;95mclass\u001b[0m\u001b[39m \u001b[0m                                 \n",
       "                             \u001b[32m'manim.mobject.three_dimensions.Surface'\u001b[0m\u001b[1m>\u001b[0m                       \n",
       "                             instead.                                                        \n"
      ]
     },
     "metadata": {},
     "output_type": "display_data"
    },
    {
     "name": "stderr",
     "output_type": "stream",
     "text": [
      "Animation 1: Rotating(Polygon), etc.:  53%|#####3    | 48/90 [02:45<02:41,  3.84s/it]"
     ]
    },
    {
     "data": {
      "text/html": [
       "<pre style=\"white-space:pre;overflow-x:auto;line-height:normal;font-family:Menlo,'DejaVu Sans Mono',consolas,'Courier New',monospace\"><span style=\"color: #7fbfbf; text-decoration-color: #7fbfbf\">[01/31/22 13:44:36] </span><span style=\"color: #800000; text-decoration-color: #800000\">WARNING </span> The class ParametricSurface has been          <a href=\"file://C:\\Users\\thoma\\AppData\\Local\\Programs\\Python\\Python39\\lib\\site-packages\\manim\\utils\\deprecation.py\"><span style=\"color: #7f7f7f; text-decoration-color: #7f7f7f\">deprecation.py</span></a><span style=\"color: #7f7f7f; text-decoration-color: #7f7f7f\">:</span><a href=\"file://C:\\Users\\thoma\\AppData\\Local\\Programs\\Python\\Python39\\lib\\site-packages\\manim\\utils\\deprecation.py#210\"><span style=\"color: #7f7f7f; text-decoration-color: #7f7f7f\">210</span></a>\n",
       "                             deprecated since v0.<span style=\"color: #008000; text-decoration-color: #008000\">10.0</span> and may be removed                     \n",
       "                             in a later version. Use <span style=\"font-weight: bold\">&lt;</span><span style=\"color: #ff00ff; text-decoration-color: #ff00ff; font-weight: bold\">class</span><span style=\"color: #000000; text-decoration-color: #000000\"> </span>                                 \n",
       "                             <span style=\"color: #008000; text-decoration-color: #008000\">'manim.mobject.three_dimensions.Surface'</span><span style=\"font-weight: bold\">&gt;</span>                       \n",
       "                             instead.                                                        \n",
       "</pre>\n"
      ],
      "text/plain": [
       "\u001b[2;36m[01/31/22 13:44:36]\u001b[0m\u001b[2;36m \u001b[0m\u001b[31mWARNING \u001b[0m The class ParametricSurface has been          \u001b]8;id=22708;file://C:\\Users\\thoma\\AppData\\Local\\Programs\\Python\\Python39\\lib\\site-packages\\manim\\utils\\deprecation.py\u001b\\\u001b[2mdeprecation.py\u001b[0m\u001b]8;;\u001b\\\u001b[2m:\u001b[0m\u001b]8;id=760152;file://C:\\Users\\thoma\\AppData\\Local\\Programs\\Python\\Python39\\lib\\site-packages\\manim\\utils\\deprecation.py#210\u001b\\\u001b[2m210\u001b[0m\u001b]8;;\u001b\\\n",
       "                             deprecated since v0.\u001b[32m10.0\u001b[0m and may be removed                     \n",
       "                             in a later version. Use \u001b[1m<\u001b[0m\u001b[1;95mclass\u001b[0m\u001b[39m \u001b[0m                                 \n",
       "                             \u001b[32m'manim.mobject.three_dimensions.Surface'\u001b[0m\u001b[1m>\u001b[0m                       \n",
       "                             instead.                                                        \n"
      ]
     },
     "metadata": {},
     "output_type": "display_data"
    },
    {
     "name": "stderr",
     "output_type": "stream",
     "text": [
      "Animation 1: Rotating(Polygon), etc.:  54%|#####4    | 49/90 [02:49<02:31,  3.71s/it]"
     ]
    },
    {
     "data": {
      "text/html": [
       "<pre style=\"white-space:pre;overflow-x:auto;line-height:normal;font-family:Menlo,'DejaVu Sans Mono',consolas,'Courier New',monospace\"><span style=\"color: #7fbfbf; text-decoration-color: #7fbfbf\">[01/31/22 13:44:40] </span><span style=\"color: #800000; text-decoration-color: #800000\">WARNING </span> The class ParametricSurface has been          <a href=\"file://C:\\Users\\thoma\\AppData\\Local\\Programs\\Python\\Python39\\lib\\site-packages\\manim\\utils\\deprecation.py\"><span style=\"color: #7f7f7f; text-decoration-color: #7f7f7f\">deprecation.py</span></a><span style=\"color: #7f7f7f; text-decoration-color: #7f7f7f\">:</span><a href=\"file://C:\\Users\\thoma\\AppData\\Local\\Programs\\Python\\Python39\\lib\\site-packages\\manim\\utils\\deprecation.py#210\"><span style=\"color: #7f7f7f; text-decoration-color: #7f7f7f\">210</span></a>\n",
       "                             deprecated since v0.<span style=\"color: #008000; text-decoration-color: #008000\">10.0</span> and may be removed                     \n",
       "                             in a later version. Use <span style=\"font-weight: bold\">&lt;</span><span style=\"color: #ff00ff; text-decoration-color: #ff00ff; font-weight: bold\">class</span><span style=\"color: #000000; text-decoration-color: #000000\"> </span>                                 \n",
       "                             <span style=\"color: #008000; text-decoration-color: #008000\">'manim.mobject.three_dimensions.Surface'</span><span style=\"font-weight: bold\">&gt;</span>                       \n",
       "                             instead.                                                        \n",
       "</pre>\n"
      ],
      "text/plain": [
       "\u001b[2;36m[01/31/22 13:44:40]\u001b[0m\u001b[2;36m \u001b[0m\u001b[31mWARNING \u001b[0m The class ParametricSurface has been          \u001b]8;id=675218;file://C:\\Users\\thoma\\AppData\\Local\\Programs\\Python\\Python39\\lib\\site-packages\\manim\\utils\\deprecation.py\u001b\\\u001b[2mdeprecation.py\u001b[0m\u001b]8;;\u001b\\\u001b[2m:\u001b[0m\u001b]8;id=545829;file://C:\\Users\\thoma\\AppData\\Local\\Programs\\Python\\Python39\\lib\\site-packages\\manim\\utils\\deprecation.py#210\u001b\\\u001b[2m210\u001b[0m\u001b]8;;\u001b\\\n",
       "                             deprecated since v0.\u001b[32m10.0\u001b[0m and may be removed                     \n",
       "                             in a later version. Use \u001b[1m<\u001b[0m\u001b[1;95mclass\u001b[0m\u001b[39m \u001b[0m                                 \n",
       "                             \u001b[32m'manim.mobject.three_dimensions.Surface'\u001b[0m\u001b[1m>\u001b[0m                       \n",
       "                             instead.                                                        \n"
      ]
     },
     "metadata": {},
     "output_type": "display_data"
    },
    {
     "name": "stderr",
     "output_type": "stream",
     "text": [
      "Animation 1: Rotating(Polygon), etc.:  56%|#####5    | 50/90 [02:52<02:26,  3.66s/it]"
     ]
    },
    {
     "data": {
      "text/html": [
       "<pre style=\"white-space:pre;overflow-x:auto;line-height:normal;font-family:Menlo,'DejaVu Sans Mono',consolas,'Courier New',monospace\"><span style=\"color: #7fbfbf; text-decoration-color: #7fbfbf\">[01/31/22 13:44:43] </span><span style=\"color: #800000; text-decoration-color: #800000\">WARNING </span> The class ParametricSurface has been          <a href=\"file://C:\\Users\\thoma\\AppData\\Local\\Programs\\Python\\Python39\\lib\\site-packages\\manim\\utils\\deprecation.py\"><span style=\"color: #7f7f7f; text-decoration-color: #7f7f7f\">deprecation.py</span></a><span style=\"color: #7f7f7f; text-decoration-color: #7f7f7f\">:</span><a href=\"file://C:\\Users\\thoma\\AppData\\Local\\Programs\\Python\\Python39\\lib\\site-packages\\manim\\utils\\deprecation.py#210\"><span style=\"color: #7f7f7f; text-decoration-color: #7f7f7f\">210</span></a>\n",
       "                             deprecated since v0.<span style=\"color: #008000; text-decoration-color: #008000\">10.0</span> and may be removed                     \n",
       "                             in a later version. Use <span style=\"font-weight: bold\">&lt;</span><span style=\"color: #ff00ff; text-decoration-color: #ff00ff; font-weight: bold\">class</span><span style=\"color: #000000; text-decoration-color: #000000\"> </span>                                 \n",
       "                             <span style=\"color: #008000; text-decoration-color: #008000\">'manim.mobject.three_dimensions.Surface'</span><span style=\"font-weight: bold\">&gt;</span>                       \n",
       "                             instead.                                                        \n",
       "</pre>\n"
      ],
      "text/plain": [
       "\u001b[2;36m[01/31/22 13:44:43]\u001b[0m\u001b[2;36m \u001b[0m\u001b[31mWARNING \u001b[0m The class ParametricSurface has been          \u001b]8;id=691617;file://C:\\Users\\thoma\\AppData\\Local\\Programs\\Python\\Python39\\lib\\site-packages\\manim\\utils\\deprecation.py\u001b\\\u001b[2mdeprecation.py\u001b[0m\u001b]8;;\u001b\\\u001b[2m:\u001b[0m\u001b]8;id=981689;file://C:\\Users\\thoma\\AppData\\Local\\Programs\\Python\\Python39\\lib\\site-packages\\manim\\utils\\deprecation.py#210\u001b\\\u001b[2m210\u001b[0m\u001b]8;;\u001b\\\n",
       "                             deprecated since v0.\u001b[32m10.0\u001b[0m and may be removed                     \n",
       "                             in a later version. Use \u001b[1m<\u001b[0m\u001b[1;95mclass\u001b[0m\u001b[39m \u001b[0m                                 \n",
       "                             \u001b[32m'manim.mobject.three_dimensions.Surface'\u001b[0m\u001b[1m>\u001b[0m                       \n",
       "                             instead.                                                        \n"
      ]
     },
     "metadata": {},
     "output_type": "display_data"
    },
    {
     "name": "stderr",
     "output_type": "stream",
     "text": [
      "Animation 1: Rotating(Polygon), etc.:  57%|#####6    | 51/90 [02:56<02:19,  3.57s/it]"
     ]
    },
    {
     "data": {
      "text/html": [
       "<pre style=\"white-space:pre;overflow-x:auto;line-height:normal;font-family:Menlo,'DejaVu Sans Mono',consolas,'Courier New',monospace\"><span style=\"color: #7fbfbf; text-decoration-color: #7fbfbf\">[01/31/22 13:44:47] </span><span style=\"color: #800000; text-decoration-color: #800000\">WARNING </span> The class ParametricSurface has been          <a href=\"file://C:\\Users\\thoma\\AppData\\Local\\Programs\\Python\\Python39\\lib\\site-packages\\manim\\utils\\deprecation.py\"><span style=\"color: #7f7f7f; text-decoration-color: #7f7f7f\">deprecation.py</span></a><span style=\"color: #7f7f7f; text-decoration-color: #7f7f7f\">:</span><a href=\"file://C:\\Users\\thoma\\AppData\\Local\\Programs\\Python\\Python39\\lib\\site-packages\\manim\\utils\\deprecation.py#210\"><span style=\"color: #7f7f7f; text-decoration-color: #7f7f7f\">210</span></a>\n",
       "                             deprecated since v0.<span style=\"color: #008000; text-decoration-color: #008000\">10.0</span> and may be removed                     \n",
       "                             in a later version. Use <span style=\"font-weight: bold\">&lt;</span><span style=\"color: #ff00ff; text-decoration-color: #ff00ff; font-weight: bold\">class</span><span style=\"color: #000000; text-decoration-color: #000000\"> </span>                                 \n",
       "                             <span style=\"color: #008000; text-decoration-color: #008000\">'manim.mobject.three_dimensions.Surface'</span><span style=\"font-weight: bold\">&gt;</span>                       \n",
       "                             instead.                                                        \n",
       "</pre>\n"
      ],
      "text/plain": [
       "\u001b[2;36m[01/31/22 13:44:47]\u001b[0m\u001b[2;36m \u001b[0m\u001b[31mWARNING \u001b[0m The class ParametricSurface has been          \u001b]8;id=591749;file://C:\\Users\\thoma\\AppData\\Local\\Programs\\Python\\Python39\\lib\\site-packages\\manim\\utils\\deprecation.py\u001b\\\u001b[2mdeprecation.py\u001b[0m\u001b]8;;\u001b\\\u001b[2m:\u001b[0m\u001b]8;id=743755;file://C:\\Users\\thoma\\AppData\\Local\\Programs\\Python\\Python39\\lib\\site-packages\\manim\\utils\\deprecation.py#210\u001b\\\u001b[2m210\u001b[0m\u001b]8;;\u001b\\\n",
       "                             deprecated since v0.\u001b[32m10.0\u001b[0m and may be removed                     \n",
       "                             in a later version. Use \u001b[1m<\u001b[0m\u001b[1;95mclass\u001b[0m\u001b[39m \u001b[0m                                 \n",
       "                             \u001b[32m'manim.mobject.three_dimensions.Surface'\u001b[0m\u001b[1m>\u001b[0m                       \n",
       "                             instead.                                                        \n"
      ]
     },
     "metadata": {},
     "output_type": "display_data"
    },
    {
     "name": "stderr",
     "output_type": "stream",
     "text": [
      "Animation 1: Rotating(Polygon), etc.:  58%|#####7    | 52/90 [02:59<02:14,  3.54s/it]"
     ]
    },
    {
     "data": {
      "text/html": [
       "<pre style=\"white-space:pre;overflow-x:auto;line-height:normal;font-family:Menlo,'DejaVu Sans Mono',consolas,'Courier New',monospace\"><span style=\"color: #7fbfbf; text-decoration-color: #7fbfbf\">[01/31/22 13:44:50] </span><span style=\"color: #800000; text-decoration-color: #800000\">WARNING </span> The class ParametricSurface has been          <a href=\"file://C:\\Users\\thoma\\AppData\\Local\\Programs\\Python\\Python39\\lib\\site-packages\\manim\\utils\\deprecation.py\"><span style=\"color: #7f7f7f; text-decoration-color: #7f7f7f\">deprecation.py</span></a><span style=\"color: #7f7f7f; text-decoration-color: #7f7f7f\">:</span><a href=\"file://C:\\Users\\thoma\\AppData\\Local\\Programs\\Python\\Python39\\lib\\site-packages\\manim\\utils\\deprecation.py#210\"><span style=\"color: #7f7f7f; text-decoration-color: #7f7f7f\">210</span></a>\n",
       "                             deprecated since v0.<span style=\"color: #008000; text-decoration-color: #008000\">10.0</span> and may be removed                     \n",
       "                             in a later version. Use <span style=\"font-weight: bold\">&lt;</span><span style=\"color: #ff00ff; text-decoration-color: #ff00ff; font-weight: bold\">class</span><span style=\"color: #000000; text-decoration-color: #000000\"> </span>                                 \n",
       "                             <span style=\"color: #008000; text-decoration-color: #008000\">'manim.mobject.three_dimensions.Surface'</span><span style=\"font-weight: bold\">&gt;</span>                       \n",
       "                             instead.                                                        \n",
       "</pre>\n"
      ],
      "text/plain": [
       "\u001b[2;36m[01/31/22 13:44:50]\u001b[0m\u001b[2;36m \u001b[0m\u001b[31mWARNING \u001b[0m The class ParametricSurface has been          \u001b]8;id=133780;file://C:\\Users\\thoma\\AppData\\Local\\Programs\\Python\\Python39\\lib\\site-packages\\manim\\utils\\deprecation.py\u001b\\\u001b[2mdeprecation.py\u001b[0m\u001b]8;;\u001b\\\u001b[2m:\u001b[0m\u001b]8;id=464491;file://C:\\Users\\thoma\\AppData\\Local\\Programs\\Python\\Python39\\lib\\site-packages\\manim\\utils\\deprecation.py#210\u001b\\\u001b[2m210\u001b[0m\u001b]8;;\u001b\\\n",
       "                             deprecated since v0.\u001b[32m10.0\u001b[0m and may be removed                     \n",
       "                             in a later version. Use \u001b[1m<\u001b[0m\u001b[1;95mclass\u001b[0m\u001b[39m \u001b[0m                                 \n",
       "                             \u001b[32m'manim.mobject.three_dimensions.Surface'\u001b[0m\u001b[1m>\u001b[0m                       \n",
       "                             instead.                                                        \n"
      ]
     },
     "metadata": {},
     "output_type": "display_data"
    },
    {
     "name": "stderr",
     "output_type": "stream",
     "text": [
      "Animation 1: Rotating(Polygon), etc.:  59%|#####8    | 53/90 [03:03<02:09,  3.50s/it]"
     ]
    },
    {
     "data": {
      "text/html": [
       "<pre style=\"white-space:pre;overflow-x:auto;line-height:normal;font-family:Menlo,'DejaVu Sans Mono',consolas,'Courier New',monospace\"><span style=\"color: #7fbfbf; text-decoration-color: #7fbfbf\">[01/31/22 13:44:53] </span><span style=\"color: #800000; text-decoration-color: #800000\">WARNING </span> The class ParametricSurface has been          <a href=\"file://C:\\Users\\thoma\\AppData\\Local\\Programs\\Python\\Python39\\lib\\site-packages\\manim\\utils\\deprecation.py\"><span style=\"color: #7f7f7f; text-decoration-color: #7f7f7f\">deprecation.py</span></a><span style=\"color: #7f7f7f; text-decoration-color: #7f7f7f\">:</span><a href=\"file://C:\\Users\\thoma\\AppData\\Local\\Programs\\Python\\Python39\\lib\\site-packages\\manim\\utils\\deprecation.py#210\"><span style=\"color: #7f7f7f; text-decoration-color: #7f7f7f\">210</span></a>\n",
       "                             deprecated since v0.<span style=\"color: #008000; text-decoration-color: #008000\">10.0</span> and may be removed                     \n",
       "                             in a later version. Use <span style=\"font-weight: bold\">&lt;</span><span style=\"color: #ff00ff; text-decoration-color: #ff00ff; font-weight: bold\">class</span><span style=\"color: #000000; text-decoration-color: #000000\"> </span>                                 \n",
       "                             <span style=\"color: #008000; text-decoration-color: #008000\">'manim.mobject.three_dimensions.Surface'</span><span style=\"font-weight: bold\">&gt;</span>                       \n",
       "                             instead.                                                        \n",
       "</pre>\n"
      ],
      "text/plain": [
       "\u001b[2;36m[01/31/22 13:44:53]\u001b[0m\u001b[2;36m \u001b[0m\u001b[31mWARNING \u001b[0m The class ParametricSurface has been          \u001b]8;id=739549;file://C:\\Users\\thoma\\AppData\\Local\\Programs\\Python\\Python39\\lib\\site-packages\\manim\\utils\\deprecation.py\u001b\\\u001b[2mdeprecation.py\u001b[0m\u001b]8;;\u001b\\\u001b[2m:\u001b[0m\u001b]8;id=17866;file://C:\\Users\\thoma\\AppData\\Local\\Programs\\Python\\Python39\\lib\\site-packages\\manim\\utils\\deprecation.py#210\u001b\\\u001b[2m210\u001b[0m\u001b]8;;\u001b\\\n",
       "                             deprecated since v0.\u001b[32m10.0\u001b[0m and may be removed                     \n",
       "                             in a later version. Use \u001b[1m<\u001b[0m\u001b[1;95mclass\u001b[0m\u001b[39m \u001b[0m                                 \n",
       "                             \u001b[32m'manim.mobject.three_dimensions.Surface'\u001b[0m\u001b[1m>\u001b[0m                       \n",
       "                             instead.                                                        \n"
      ]
     },
     "metadata": {},
     "output_type": "display_data"
    },
    {
     "name": "stderr",
     "output_type": "stream",
     "text": [
      "Animation 1: Rotating(Polygon), etc.:  60%|######    | 54/90 [03:07<02:14,  3.72s/it]"
     ]
    },
    {
     "data": {
      "text/html": [
       "<pre style=\"white-space:pre;overflow-x:auto;line-height:normal;font-family:Menlo,'DejaVu Sans Mono',consolas,'Courier New',monospace\"><span style=\"color: #7fbfbf; text-decoration-color: #7fbfbf\">[01/31/22 13:44:58] </span><span style=\"color: #800000; text-decoration-color: #800000\">WARNING </span> The class ParametricSurface has been          <a href=\"file://C:\\Users\\thoma\\AppData\\Local\\Programs\\Python\\Python39\\lib\\site-packages\\manim\\utils\\deprecation.py\"><span style=\"color: #7f7f7f; text-decoration-color: #7f7f7f\">deprecation.py</span></a><span style=\"color: #7f7f7f; text-decoration-color: #7f7f7f\">:</span><a href=\"file://C:\\Users\\thoma\\AppData\\Local\\Programs\\Python\\Python39\\lib\\site-packages\\manim\\utils\\deprecation.py#210\"><span style=\"color: #7f7f7f; text-decoration-color: #7f7f7f\">210</span></a>\n",
       "                             deprecated since v0.<span style=\"color: #008000; text-decoration-color: #008000\">10.0</span> and may be removed                     \n",
       "                             in a later version. Use <span style=\"font-weight: bold\">&lt;</span><span style=\"color: #ff00ff; text-decoration-color: #ff00ff; font-weight: bold\">class</span><span style=\"color: #000000; text-decoration-color: #000000\"> </span>                                 \n",
       "                             <span style=\"color: #008000; text-decoration-color: #008000\">'manim.mobject.three_dimensions.Surface'</span><span style=\"font-weight: bold\">&gt;</span>                       \n",
       "                             instead.                                                        \n",
       "</pre>\n"
      ],
      "text/plain": [
       "\u001b[2;36m[01/31/22 13:44:58]\u001b[0m\u001b[2;36m \u001b[0m\u001b[31mWARNING \u001b[0m The class ParametricSurface has been          \u001b]8;id=560211;file://C:\\Users\\thoma\\AppData\\Local\\Programs\\Python\\Python39\\lib\\site-packages\\manim\\utils\\deprecation.py\u001b\\\u001b[2mdeprecation.py\u001b[0m\u001b]8;;\u001b\\\u001b[2m:\u001b[0m\u001b]8;id=198280;file://C:\\Users\\thoma\\AppData\\Local\\Programs\\Python\\Python39\\lib\\site-packages\\manim\\utils\\deprecation.py#210\u001b\\\u001b[2m210\u001b[0m\u001b]8;;\u001b\\\n",
       "                             deprecated since v0.\u001b[32m10.0\u001b[0m and may be removed                     \n",
       "                             in a later version. Use \u001b[1m<\u001b[0m\u001b[1;95mclass\u001b[0m\u001b[39m \u001b[0m                                 \n",
       "                             \u001b[32m'manim.mobject.three_dimensions.Surface'\u001b[0m\u001b[1m>\u001b[0m                       \n",
       "                             instead.                                                        \n"
      ]
     },
     "metadata": {},
     "output_type": "display_data"
    },
    {
     "name": "stderr",
     "output_type": "stream",
     "text": [
      "Animation 1: Rotating(Polygon), etc.:  61%|######1   | 55/90 [03:13<02:34,  4.41s/it]"
     ]
    },
    {
     "data": {
      "text/html": [
       "<pre style=\"white-space:pre;overflow-x:auto;line-height:normal;font-family:Menlo,'DejaVu Sans Mono',consolas,'Courier New',monospace\"><span style=\"color: #7fbfbf; text-decoration-color: #7fbfbf\">[01/31/22 13:45:04] </span><span style=\"color: #800000; text-decoration-color: #800000\">WARNING </span> The class ParametricSurface has been          <a href=\"file://C:\\Users\\thoma\\AppData\\Local\\Programs\\Python\\Python39\\lib\\site-packages\\manim\\utils\\deprecation.py\"><span style=\"color: #7f7f7f; text-decoration-color: #7f7f7f\">deprecation.py</span></a><span style=\"color: #7f7f7f; text-decoration-color: #7f7f7f\">:</span><a href=\"file://C:\\Users\\thoma\\AppData\\Local\\Programs\\Python\\Python39\\lib\\site-packages\\manim\\utils\\deprecation.py#210\"><span style=\"color: #7f7f7f; text-decoration-color: #7f7f7f\">210</span></a>\n",
       "                             deprecated since v0.<span style=\"color: #008000; text-decoration-color: #008000\">10.0</span> and may be removed                     \n",
       "                             in a later version. Use <span style=\"font-weight: bold\">&lt;</span><span style=\"color: #ff00ff; text-decoration-color: #ff00ff; font-weight: bold\">class</span><span style=\"color: #000000; text-decoration-color: #000000\"> </span>                                 \n",
       "                             <span style=\"color: #008000; text-decoration-color: #008000\">'manim.mobject.three_dimensions.Surface'</span><span style=\"font-weight: bold\">&gt;</span>                       \n",
       "                             instead.                                                        \n",
       "</pre>\n"
      ],
      "text/plain": [
       "\u001b[2;36m[01/31/22 13:45:04]\u001b[0m\u001b[2;36m \u001b[0m\u001b[31mWARNING \u001b[0m The class ParametricSurface has been          \u001b]8;id=550593;file://C:\\Users\\thoma\\AppData\\Local\\Programs\\Python\\Python39\\lib\\site-packages\\manim\\utils\\deprecation.py\u001b\\\u001b[2mdeprecation.py\u001b[0m\u001b]8;;\u001b\\\u001b[2m:\u001b[0m\u001b]8;id=767972;file://C:\\Users\\thoma\\AppData\\Local\\Programs\\Python\\Python39\\lib\\site-packages\\manim\\utils\\deprecation.py#210\u001b\\\u001b[2m210\u001b[0m\u001b]8;;\u001b\\\n",
       "                             deprecated since v0.\u001b[32m10.0\u001b[0m and may be removed                     \n",
       "                             in a later version. Use \u001b[1m<\u001b[0m\u001b[1;95mclass\u001b[0m\u001b[39m \u001b[0m                                 \n",
       "                             \u001b[32m'manim.mobject.three_dimensions.Surface'\u001b[0m\u001b[1m>\u001b[0m                       \n",
       "                             instead.                                                        \n"
      ]
     },
     "metadata": {},
     "output_type": "display_data"
    },
    {
     "name": "stderr",
     "output_type": "stream",
     "text": [
      "Animation 1: Rotating(Polygon), etc.:  62%|######2   | 56/90 [03:18<02:43,  4.80s/it]"
     ]
    },
    {
     "data": {
      "text/html": [
       "<pre style=\"white-space:pre;overflow-x:auto;line-height:normal;font-family:Menlo,'DejaVu Sans Mono',consolas,'Courier New',monospace\"><span style=\"color: #7fbfbf; text-decoration-color: #7fbfbf\">[01/31/22 13:45:09] </span><span style=\"color: #800000; text-decoration-color: #800000\">WARNING </span> The class ParametricSurface has been          <a href=\"file://C:\\Users\\thoma\\AppData\\Local\\Programs\\Python\\Python39\\lib\\site-packages\\manim\\utils\\deprecation.py\"><span style=\"color: #7f7f7f; text-decoration-color: #7f7f7f\">deprecation.py</span></a><span style=\"color: #7f7f7f; text-decoration-color: #7f7f7f\">:</span><a href=\"file://C:\\Users\\thoma\\AppData\\Local\\Programs\\Python\\Python39\\lib\\site-packages\\manim\\utils\\deprecation.py#210\"><span style=\"color: #7f7f7f; text-decoration-color: #7f7f7f\">210</span></a>\n",
       "                             deprecated since v0.<span style=\"color: #008000; text-decoration-color: #008000\">10.0</span> and may be removed                     \n",
       "                             in a later version. Use <span style=\"font-weight: bold\">&lt;</span><span style=\"color: #ff00ff; text-decoration-color: #ff00ff; font-weight: bold\">class</span><span style=\"color: #000000; text-decoration-color: #000000\"> </span>                                 \n",
       "                             <span style=\"color: #008000; text-decoration-color: #008000\">'manim.mobject.three_dimensions.Surface'</span><span style=\"font-weight: bold\">&gt;</span>                       \n",
       "                             instead.                                                        \n",
       "</pre>\n"
      ],
      "text/plain": [
       "\u001b[2;36m[01/31/22 13:45:09]\u001b[0m\u001b[2;36m \u001b[0m\u001b[31mWARNING \u001b[0m The class ParametricSurface has been          \u001b]8;id=361437;file://C:\\Users\\thoma\\AppData\\Local\\Programs\\Python\\Python39\\lib\\site-packages\\manim\\utils\\deprecation.py\u001b\\\u001b[2mdeprecation.py\u001b[0m\u001b]8;;\u001b\\\u001b[2m:\u001b[0m\u001b]8;id=231971;file://C:\\Users\\thoma\\AppData\\Local\\Programs\\Python\\Python39\\lib\\site-packages\\manim\\utils\\deprecation.py#210\u001b\\\u001b[2m210\u001b[0m\u001b]8;;\u001b\\\n",
       "                             deprecated since v0.\u001b[32m10.0\u001b[0m and may be removed                     \n",
       "                             in a later version. Use \u001b[1m<\u001b[0m\u001b[1;95mclass\u001b[0m\u001b[39m \u001b[0m                                 \n",
       "                             \u001b[32m'manim.mobject.three_dimensions.Surface'\u001b[0m\u001b[1m>\u001b[0m                       \n",
       "                             instead.                                                        \n"
      ]
     },
     "metadata": {},
     "output_type": "display_data"
    },
    {
     "name": "stderr",
     "output_type": "stream",
     "text": [
      "Animation 1: Rotating(Polygon), etc.:  63%|######3   | 57/90 [03:24<02:44,  4.98s/it]"
     ]
    },
    {
     "data": {
      "text/html": [
       "<pre style=\"white-space:pre;overflow-x:auto;line-height:normal;font-family:Menlo,'DejaVu Sans Mono',consolas,'Courier New',monospace\"><span style=\"color: #7fbfbf; text-decoration-color: #7fbfbf\">[01/31/22 13:45:15] </span><span style=\"color: #800000; text-decoration-color: #800000\">WARNING </span> The class ParametricSurface has been          <a href=\"file://C:\\Users\\thoma\\AppData\\Local\\Programs\\Python\\Python39\\lib\\site-packages\\manim\\utils\\deprecation.py\"><span style=\"color: #7f7f7f; text-decoration-color: #7f7f7f\">deprecation.py</span></a><span style=\"color: #7f7f7f; text-decoration-color: #7f7f7f\">:</span><a href=\"file://C:\\Users\\thoma\\AppData\\Local\\Programs\\Python\\Python39\\lib\\site-packages\\manim\\utils\\deprecation.py#210\"><span style=\"color: #7f7f7f; text-decoration-color: #7f7f7f\">210</span></a>\n",
       "                             deprecated since v0.<span style=\"color: #008000; text-decoration-color: #008000\">10.0</span> and may be removed                     \n",
       "                             in a later version. Use <span style=\"font-weight: bold\">&lt;</span><span style=\"color: #ff00ff; text-decoration-color: #ff00ff; font-weight: bold\">class</span><span style=\"color: #000000; text-decoration-color: #000000\"> </span>                                 \n",
       "                             <span style=\"color: #008000; text-decoration-color: #008000\">'manim.mobject.three_dimensions.Surface'</span><span style=\"font-weight: bold\">&gt;</span>                       \n",
       "                             instead.                                                        \n",
       "</pre>\n"
      ],
      "text/plain": [
       "\u001b[2;36m[01/31/22 13:45:15]\u001b[0m\u001b[2;36m \u001b[0m\u001b[31mWARNING \u001b[0m The class ParametricSurface has been          \u001b]8;id=131481;file://C:\\Users\\thoma\\AppData\\Local\\Programs\\Python\\Python39\\lib\\site-packages\\manim\\utils\\deprecation.py\u001b\\\u001b[2mdeprecation.py\u001b[0m\u001b]8;;\u001b\\\u001b[2m:\u001b[0m\u001b]8;id=22575;file://C:\\Users\\thoma\\AppData\\Local\\Programs\\Python\\Python39\\lib\\site-packages\\manim\\utils\\deprecation.py#210\u001b\\\u001b[2m210\u001b[0m\u001b]8;;\u001b\\\n",
       "                             deprecated since v0.\u001b[32m10.0\u001b[0m and may be removed                     \n",
       "                             in a later version. Use \u001b[1m<\u001b[0m\u001b[1;95mclass\u001b[0m\u001b[39m \u001b[0m                                 \n",
       "                             \u001b[32m'manim.mobject.three_dimensions.Surface'\u001b[0m\u001b[1m>\u001b[0m                       \n",
       "                             instead.                                                        \n"
      ]
     },
     "metadata": {},
     "output_type": "display_data"
    },
    {
     "name": "stderr",
     "output_type": "stream",
     "text": [
      "Animation 1: Rotating(Polygon), etc.:  64%|######4   | 58/90 [03:27<02:23,  4.49s/it]"
     ]
    },
    {
     "data": {
      "text/html": [
       "<pre style=\"white-space:pre;overflow-x:auto;line-height:normal;font-family:Menlo,'DejaVu Sans Mono',consolas,'Courier New',monospace\"><span style=\"color: #7fbfbf; text-decoration-color: #7fbfbf\">[01/31/22 13:45:18] </span><span style=\"color: #800000; text-decoration-color: #800000\">WARNING </span> The class ParametricSurface has been          <a href=\"file://C:\\Users\\thoma\\AppData\\Local\\Programs\\Python\\Python39\\lib\\site-packages\\manim\\utils\\deprecation.py\"><span style=\"color: #7f7f7f; text-decoration-color: #7f7f7f\">deprecation.py</span></a><span style=\"color: #7f7f7f; text-decoration-color: #7f7f7f\">:</span><a href=\"file://C:\\Users\\thoma\\AppData\\Local\\Programs\\Python\\Python39\\lib\\site-packages\\manim\\utils\\deprecation.py#210\"><span style=\"color: #7f7f7f; text-decoration-color: #7f7f7f\">210</span></a>\n",
       "                             deprecated since v0.<span style=\"color: #008000; text-decoration-color: #008000\">10.0</span> and may be removed                     \n",
       "                             in a later version. Use <span style=\"font-weight: bold\">&lt;</span><span style=\"color: #ff00ff; text-decoration-color: #ff00ff; font-weight: bold\">class</span><span style=\"color: #000000; text-decoration-color: #000000\"> </span>                                 \n",
       "                             <span style=\"color: #008000; text-decoration-color: #008000\">'manim.mobject.three_dimensions.Surface'</span><span style=\"font-weight: bold\">&gt;</span>                       \n",
       "                             instead.                                                        \n",
       "</pre>\n"
      ],
      "text/plain": [
       "\u001b[2;36m[01/31/22 13:45:18]\u001b[0m\u001b[2;36m \u001b[0m\u001b[31mWARNING \u001b[0m The class ParametricSurface has been          \u001b]8;id=105767;file://C:\\Users\\thoma\\AppData\\Local\\Programs\\Python\\Python39\\lib\\site-packages\\manim\\utils\\deprecation.py\u001b\\\u001b[2mdeprecation.py\u001b[0m\u001b]8;;\u001b\\\u001b[2m:\u001b[0m\u001b]8;id=512491;file://C:\\Users\\thoma\\AppData\\Local\\Programs\\Python\\Python39\\lib\\site-packages\\manim\\utils\\deprecation.py#210\u001b\\\u001b[2m210\u001b[0m\u001b]8;;\u001b\\\n",
       "                             deprecated since v0.\u001b[32m10.0\u001b[0m and may be removed                     \n",
       "                             in a later version. Use \u001b[1m<\u001b[0m\u001b[1;95mclass\u001b[0m\u001b[39m \u001b[0m                                 \n",
       "                             \u001b[32m'manim.mobject.three_dimensions.Surface'\u001b[0m\u001b[1m>\u001b[0m                       \n",
       "                             instead.                                                        \n"
      ]
     },
     "metadata": {},
     "output_type": "display_data"
    },
    {
     "name": "stderr",
     "output_type": "stream",
     "text": [
      "Animation 1: Rotating(Polygon), etc.:  66%|######5   | 59/90 [03:31<02:08,  4.16s/it]"
     ]
    },
    {
     "data": {
      "text/html": [
       "<pre style=\"white-space:pre;overflow-x:auto;line-height:normal;font-family:Menlo,'DejaVu Sans Mono',consolas,'Courier New',monospace\"><span style=\"color: #7fbfbf; text-decoration-color: #7fbfbf\">[01/31/22 13:45:22] </span><span style=\"color: #800000; text-decoration-color: #800000\">WARNING </span> The class ParametricSurface has been          <a href=\"file://C:\\Users\\thoma\\AppData\\Local\\Programs\\Python\\Python39\\lib\\site-packages\\manim\\utils\\deprecation.py\"><span style=\"color: #7f7f7f; text-decoration-color: #7f7f7f\">deprecation.py</span></a><span style=\"color: #7f7f7f; text-decoration-color: #7f7f7f\">:</span><a href=\"file://C:\\Users\\thoma\\AppData\\Local\\Programs\\Python\\Python39\\lib\\site-packages\\manim\\utils\\deprecation.py#210\"><span style=\"color: #7f7f7f; text-decoration-color: #7f7f7f\">210</span></a>\n",
       "                             deprecated since v0.<span style=\"color: #008000; text-decoration-color: #008000\">10.0</span> and may be removed                     \n",
       "                             in a later version. Use <span style=\"font-weight: bold\">&lt;</span><span style=\"color: #ff00ff; text-decoration-color: #ff00ff; font-weight: bold\">class</span><span style=\"color: #000000; text-decoration-color: #000000\"> </span>                                 \n",
       "                             <span style=\"color: #008000; text-decoration-color: #008000\">'manim.mobject.three_dimensions.Surface'</span><span style=\"font-weight: bold\">&gt;</span>                       \n",
       "                             instead.                                                        \n",
       "</pre>\n"
      ],
      "text/plain": [
       "\u001b[2;36m[01/31/22 13:45:22]\u001b[0m\u001b[2;36m \u001b[0m\u001b[31mWARNING \u001b[0m The class ParametricSurface has been          \u001b]8;id=585473;file://C:\\Users\\thoma\\AppData\\Local\\Programs\\Python\\Python39\\lib\\site-packages\\manim\\utils\\deprecation.py\u001b\\\u001b[2mdeprecation.py\u001b[0m\u001b]8;;\u001b\\\u001b[2m:\u001b[0m\u001b]8;id=351928;file://C:\\Users\\thoma\\AppData\\Local\\Programs\\Python\\Python39\\lib\\site-packages\\manim\\utils\\deprecation.py#210\u001b\\\u001b[2m210\u001b[0m\u001b]8;;\u001b\\\n",
       "                             deprecated since v0.\u001b[32m10.0\u001b[0m and may be removed                     \n",
       "                             in a later version. Use \u001b[1m<\u001b[0m\u001b[1;95mclass\u001b[0m\u001b[39m \u001b[0m                                 \n",
       "                             \u001b[32m'manim.mobject.three_dimensions.Surface'\u001b[0m\u001b[1m>\u001b[0m                       \n",
       "                             instead.                                                        \n"
      ]
     },
     "metadata": {},
     "output_type": "display_data"
    },
    {
     "name": "stderr",
     "output_type": "stream",
     "text": [
      "Animation 1: Rotating(Polygon), etc.:  67%|######6   | 60/90 [03:34<02:01,  4.05s/it]"
     ]
    },
    {
     "data": {
      "text/html": [
       "<pre style=\"white-space:pre;overflow-x:auto;line-height:normal;font-family:Menlo,'DejaVu Sans Mono',consolas,'Courier New',monospace\"><span style=\"color: #7fbfbf; text-decoration-color: #7fbfbf\">[01/31/22 13:45:25] </span><span style=\"color: #800000; text-decoration-color: #800000\">WARNING </span> The class ParametricSurface has been          <a href=\"file://C:\\Users\\thoma\\AppData\\Local\\Programs\\Python\\Python39\\lib\\site-packages\\manim\\utils\\deprecation.py\"><span style=\"color: #7f7f7f; text-decoration-color: #7f7f7f\">deprecation.py</span></a><span style=\"color: #7f7f7f; text-decoration-color: #7f7f7f\">:</span><a href=\"file://C:\\Users\\thoma\\AppData\\Local\\Programs\\Python\\Python39\\lib\\site-packages\\manim\\utils\\deprecation.py#210\"><span style=\"color: #7f7f7f; text-decoration-color: #7f7f7f\">210</span></a>\n",
       "                             deprecated since v0.<span style=\"color: #008000; text-decoration-color: #008000\">10.0</span> and may be removed                     \n",
       "                             in a later version. Use <span style=\"font-weight: bold\">&lt;</span><span style=\"color: #ff00ff; text-decoration-color: #ff00ff; font-weight: bold\">class</span><span style=\"color: #000000; text-decoration-color: #000000\"> </span>                                 \n",
       "                             <span style=\"color: #008000; text-decoration-color: #008000\">'manim.mobject.three_dimensions.Surface'</span><span style=\"font-weight: bold\">&gt;</span>                       \n",
       "                             instead.                                                        \n",
       "</pre>\n"
      ],
      "text/plain": [
       "\u001b[2;36m[01/31/22 13:45:25]\u001b[0m\u001b[2;36m \u001b[0m\u001b[31mWARNING \u001b[0m The class ParametricSurface has been          \u001b]8;id=132783;file://C:\\Users\\thoma\\AppData\\Local\\Programs\\Python\\Python39\\lib\\site-packages\\manim\\utils\\deprecation.py\u001b\\\u001b[2mdeprecation.py\u001b[0m\u001b]8;;\u001b\\\u001b[2m:\u001b[0m\u001b]8;id=652780;file://C:\\Users\\thoma\\AppData\\Local\\Programs\\Python\\Python39\\lib\\site-packages\\manim\\utils\\deprecation.py#210\u001b\\\u001b[2m210\u001b[0m\u001b]8;;\u001b\\\n",
       "                             deprecated since v0.\u001b[32m10.0\u001b[0m and may be removed                     \n",
       "                             in a later version. Use \u001b[1m<\u001b[0m\u001b[1;95mclass\u001b[0m\u001b[39m \u001b[0m                                 \n",
       "                             \u001b[32m'manim.mobject.three_dimensions.Surface'\u001b[0m\u001b[1m>\u001b[0m                       \n",
       "                             instead.                                                        \n"
      ]
     },
     "metadata": {},
     "output_type": "display_data"
    },
    {
     "name": "stderr",
     "output_type": "stream",
     "text": [
      "Animation 1: Rotating(Polygon), etc.:  68%|######7   | 61/90 [03:37<01:48,  3.73s/it]"
     ]
    },
    {
     "data": {
      "text/html": [
       "<pre style=\"white-space:pre;overflow-x:auto;line-height:normal;font-family:Menlo,'DejaVu Sans Mono',consolas,'Courier New',monospace\"><span style=\"color: #7fbfbf; text-decoration-color: #7fbfbf\">[01/31/22 13:45:28] </span><span style=\"color: #800000; text-decoration-color: #800000\">WARNING </span> The class ParametricSurface has been          <a href=\"file://C:\\Users\\thoma\\AppData\\Local\\Programs\\Python\\Python39\\lib\\site-packages\\manim\\utils\\deprecation.py\"><span style=\"color: #7f7f7f; text-decoration-color: #7f7f7f\">deprecation.py</span></a><span style=\"color: #7f7f7f; text-decoration-color: #7f7f7f\">:</span><a href=\"file://C:\\Users\\thoma\\AppData\\Local\\Programs\\Python\\Python39\\lib\\site-packages\\manim\\utils\\deprecation.py#210\"><span style=\"color: #7f7f7f; text-decoration-color: #7f7f7f\">210</span></a>\n",
       "                             deprecated since v0.<span style=\"color: #008000; text-decoration-color: #008000\">10.0</span> and may be removed                     \n",
       "                             in a later version. Use <span style=\"font-weight: bold\">&lt;</span><span style=\"color: #ff00ff; text-decoration-color: #ff00ff; font-weight: bold\">class</span><span style=\"color: #000000; text-decoration-color: #000000\"> </span>                                 \n",
       "                             <span style=\"color: #008000; text-decoration-color: #008000\">'manim.mobject.three_dimensions.Surface'</span><span style=\"font-weight: bold\">&gt;</span>                       \n",
       "                             instead.                                                        \n",
       "</pre>\n"
      ],
      "text/plain": [
       "\u001b[2;36m[01/31/22 13:45:28]\u001b[0m\u001b[2;36m \u001b[0m\u001b[31mWARNING \u001b[0m The class ParametricSurface has been          \u001b]8;id=528647;file://C:\\Users\\thoma\\AppData\\Local\\Programs\\Python\\Python39\\lib\\site-packages\\manim\\utils\\deprecation.py\u001b\\\u001b[2mdeprecation.py\u001b[0m\u001b]8;;\u001b\\\u001b[2m:\u001b[0m\u001b]8;id=714329;file://C:\\Users\\thoma\\AppData\\Local\\Programs\\Python\\Python39\\lib\\site-packages\\manim\\utils\\deprecation.py#210\u001b\\\u001b[2m210\u001b[0m\u001b]8;;\u001b\\\n",
       "                             deprecated since v0.\u001b[32m10.0\u001b[0m and may be removed                     \n",
       "                             in a later version. Use \u001b[1m<\u001b[0m\u001b[1;95mclass\u001b[0m\u001b[39m \u001b[0m                                 \n",
       "                             \u001b[32m'manim.mobject.three_dimensions.Surface'\u001b[0m\u001b[1m>\u001b[0m                       \n",
       "                             instead.                                                        \n"
      ]
     },
     "metadata": {},
     "output_type": "display_data"
    },
    {
     "name": "stderr",
     "output_type": "stream",
     "text": [
      "Animation 1: Rotating(Polygon), etc.:  69%|######8   | 62/90 [03:41<01:41,  3.61s/it]"
     ]
    },
    {
     "data": {
      "text/html": [
       "<pre style=\"white-space:pre;overflow-x:auto;line-height:normal;font-family:Menlo,'DejaVu Sans Mono',consolas,'Courier New',monospace\"><span style=\"color: #7fbfbf; text-decoration-color: #7fbfbf\">[01/31/22 13:45:32] </span><span style=\"color: #800000; text-decoration-color: #800000\">WARNING </span> The class ParametricSurface has been          <a href=\"file://C:\\Users\\thoma\\AppData\\Local\\Programs\\Python\\Python39\\lib\\site-packages\\manim\\utils\\deprecation.py\"><span style=\"color: #7f7f7f; text-decoration-color: #7f7f7f\">deprecation.py</span></a><span style=\"color: #7f7f7f; text-decoration-color: #7f7f7f\">:</span><a href=\"file://C:\\Users\\thoma\\AppData\\Local\\Programs\\Python\\Python39\\lib\\site-packages\\manim\\utils\\deprecation.py#210\"><span style=\"color: #7f7f7f; text-decoration-color: #7f7f7f\">210</span></a>\n",
       "                             deprecated since v0.<span style=\"color: #008000; text-decoration-color: #008000\">10.0</span> and may be removed                     \n",
       "                             in a later version. Use <span style=\"font-weight: bold\">&lt;</span><span style=\"color: #ff00ff; text-decoration-color: #ff00ff; font-weight: bold\">class</span><span style=\"color: #000000; text-decoration-color: #000000\"> </span>                                 \n",
       "                             <span style=\"color: #008000; text-decoration-color: #008000\">'manim.mobject.three_dimensions.Surface'</span><span style=\"font-weight: bold\">&gt;</span>                       \n",
       "                             instead.                                                        \n",
       "</pre>\n"
      ],
      "text/plain": [
       "\u001b[2;36m[01/31/22 13:45:32]\u001b[0m\u001b[2;36m \u001b[0m\u001b[31mWARNING \u001b[0m The class ParametricSurface has been          \u001b]8;id=112609;file://C:\\Users\\thoma\\AppData\\Local\\Programs\\Python\\Python39\\lib\\site-packages\\manim\\utils\\deprecation.py\u001b\\\u001b[2mdeprecation.py\u001b[0m\u001b]8;;\u001b\\\u001b[2m:\u001b[0m\u001b]8;id=792188;file://C:\\Users\\thoma\\AppData\\Local\\Programs\\Python\\Python39\\lib\\site-packages\\manim\\utils\\deprecation.py#210\u001b\\\u001b[2m210\u001b[0m\u001b]8;;\u001b\\\n",
       "                             deprecated since v0.\u001b[32m10.0\u001b[0m and may be removed                     \n",
       "                             in a later version. Use \u001b[1m<\u001b[0m\u001b[1;95mclass\u001b[0m\u001b[39m \u001b[0m                                 \n",
       "                             \u001b[32m'manim.mobject.three_dimensions.Surface'\u001b[0m\u001b[1m>\u001b[0m                       \n",
       "                             instead.                                                        \n"
      ]
     },
     "metadata": {},
     "output_type": "display_data"
    },
    {
     "name": "stderr",
     "output_type": "stream",
     "text": [
      "Animation 1: Rotating(Polygon), etc.:  70%|#######   | 63/90 [03:44<01:34,  3.48s/it]"
     ]
    },
    {
     "data": {
      "text/html": [
       "<pre style=\"white-space:pre;overflow-x:auto;line-height:normal;font-family:Menlo,'DejaVu Sans Mono',consolas,'Courier New',monospace\"><span style=\"color: #7fbfbf; text-decoration-color: #7fbfbf\">[01/31/22 13:45:35] </span><span style=\"color: #800000; text-decoration-color: #800000\">WARNING </span> The class ParametricSurface has been          <a href=\"file://C:\\Users\\thoma\\AppData\\Local\\Programs\\Python\\Python39\\lib\\site-packages\\manim\\utils\\deprecation.py\"><span style=\"color: #7f7f7f; text-decoration-color: #7f7f7f\">deprecation.py</span></a><span style=\"color: #7f7f7f; text-decoration-color: #7f7f7f\">:</span><a href=\"file://C:\\Users\\thoma\\AppData\\Local\\Programs\\Python\\Python39\\lib\\site-packages\\manim\\utils\\deprecation.py#210\"><span style=\"color: #7f7f7f; text-decoration-color: #7f7f7f\">210</span></a>\n",
       "                             deprecated since v0.<span style=\"color: #008000; text-decoration-color: #008000\">10.0</span> and may be removed                     \n",
       "                             in a later version. Use <span style=\"font-weight: bold\">&lt;</span><span style=\"color: #ff00ff; text-decoration-color: #ff00ff; font-weight: bold\">class</span><span style=\"color: #000000; text-decoration-color: #000000\"> </span>                                 \n",
       "                             <span style=\"color: #008000; text-decoration-color: #008000\">'manim.mobject.three_dimensions.Surface'</span><span style=\"font-weight: bold\">&gt;</span>                       \n",
       "                             instead.                                                        \n",
       "</pre>\n"
      ],
      "text/plain": [
       "\u001b[2;36m[01/31/22 13:45:35]\u001b[0m\u001b[2;36m \u001b[0m\u001b[31mWARNING \u001b[0m The class ParametricSurface has been          \u001b]8;id=254955;file://C:\\Users\\thoma\\AppData\\Local\\Programs\\Python\\Python39\\lib\\site-packages\\manim\\utils\\deprecation.py\u001b\\\u001b[2mdeprecation.py\u001b[0m\u001b]8;;\u001b\\\u001b[2m:\u001b[0m\u001b]8;id=378651;file://C:\\Users\\thoma\\AppData\\Local\\Programs\\Python\\Python39\\lib\\site-packages\\manim\\utils\\deprecation.py#210\u001b\\\u001b[2m210\u001b[0m\u001b]8;;\u001b\\\n",
       "                             deprecated since v0.\u001b[32m10.0\u001b[0m and may be removed                     \n",
       "                             in a later version. Use \u001b[1m<\u001b[0m\u001b[1;95mclass\u001b[0m\u001b[39m \u001b[0m                                 \n",
       "                             \u001b[32m'manim.mobject.three_dimensions.Surface'\u001b[0m\u001b[1m>\u001b[0m                       \n",
       "                             instead.                                                        \n"
      ]
     },
     "metadata": {},
     "output_type": "display_data"
    },
    {
     "name": "stderr",
     "output_type": "stream",
     "text": [
      "Animation 1: Rotating(Polygon), etc.:  71%|#######1  | 64/90 [03:47<01:27,  3.35s/it]"
     ]
    },
    {
     "data": {
      "text/html": [
       "<pre style=\"white-space:pre;overflow-x:auto;line-height:normal;font-family:Menlo,'DejaVu Sans Mono',consolas,'Courier New',monospace\"><span style=\"color: #7fbfbf; text-decoration-color: #7fbfbf\">[01/31/22 13:45:38] </span><span style=\"color: #800000; text-decoration-color: #800000\">WARNING </span> The class ParametricSurface has been          <a href=\"file://C:\\Users\\thoma\\AppData\\Local\\Programs\\Python\\Python39\\lib\\site-packages\\manim\\utils\\deprecation.py\"><span style=\"color: #7f7f7f; text-decoration-color: #7f7f7f\">deprecation.py</span></a><span style=\"color: #7f7f7f; text-decoration-color: #7f7f7f\">:</span><a href=\"file://C:\\Users\\thoma\\AppData\\Local\\Programs\\Python\\Python39\\lib\\site-packages\\manim\\utils\\deprecation.py#210\"><span style=\"color: #7f7f7f; text-decoration-color: #7f7f7f\">210</span></a>\n",
       "                             deprecated since v0.<span style=\"color: #008000; text-decoration-color: #008000\">10.0</span> and may be removed                     \n",
       "                             in a later version. Use <span style=\"font-weight: bold\">&lt;</span><span style=\"color: #ff00ff; text-decoration-color: #ff00ff; font-weight: bold\">class</span><span style=\"color: #000000; text-decoration-color: #000000\"> </span>                                 \n",
       "                             <span style=\"color: #008000; text-decoration-color: #008000\">'manim.mobject.three_dimensions.Surface'</span><span style=\"font-weight: bold\">&gt;</span>                       \n",
       "                             instead.                                                        \n",
       "</pre>\n"
      ],
      "text/plain": [
       "\u001b[2;36m[01/31/22 13:45:38]\u001b[0m\u001b[2;36m \u001b[0m\u001b[31mWARNING \u001b[0m The class ParametricSurface has been          \u001b]8;id=345587;file://C:\\Users\\thoma\\AppData\\Local\\Programs\\Python\\Python39\\lib\\site-packages\\manim\\utils\\deprecation.py\u001b\\\u001b[2mdeprecation.py\u001b[0m\u001b]8;;\u001b\\\u001b[2m:\u001b[0m\u001b]8;id=411831;file://C:\\Users\\thoma\\AppData\\Local\\Programs\\Python\\Python39\\lib\\site-packages\\manim\\utils\\deprecation.py#210\u001b\\\u001b[2m210\u001b[0m\u001b]8;;\u001b\\\n",
       "                             deprecated since v0.\u001b[32m10.0\u001b[0m and may be removed                     \n",
       "                             in a later version. Use \u001b[1m<\u001b[0m\u001b[1;95mclass\u001b[0m\u001b[39m \u001b[0m                                 \n",
       "                             \u001b[32m'manim.mobject.three_dimensions.Surface'\u001b[0m\u001b[1m>\u001b[0m                       \n",
       "                             instead.                                                        \n"
      ]
     },
     "metadata": {},
     "output_type": "display_data"
    },
    {
     "name": "stderr",
     "output_type": "stream",
     "text": [
      "Animation 1: Rotating(Polygon), etc.:  72%|#######2  | 65/90 [03:51<01:27,  3.48s/it]"
     ]
    },
    {
     "data": {
      "text/html": [
       "<pre style=\"white-space:pre;overflow-x:auto;line-height:normal;font-family:Menlo,'DejaVu Sans Mono',consolas,'Courier New',monospace\"><span style=\"color: #7fbfbf; text-decoration-color: #7fbfbf\">[01/31/22 13:45:42] </span><span style=\"color: #800000; text-decoration-color: #800000\">WARNING </span> The class ParametricSurface has been          <a href=\"file://C:\\Users\\thoma\\AppData\\Local\\Programs\\Python\\Python39\\lib\\site-packages\\manim\\utils\\deprecation.py\"><span style=\"color: #7f7f7f; text-decoration-color: #7f7f7f\">deprecation.py</span></a><span style=\"color: #7f7f7f; text-decoration-color: #7f7f7f\">:</span><a href=\"file://C:\\Users\\thoma\\AppData\\Local\\Programs\\Python\\Python39\\lib\\site-packages\\manim\\utils\\deprecation.py#210\"><span style=\"color: #7f7f7f; text-decoration-color: #7f7f7f\">210</span></a>\n",
       "                             deprecated since v0.<span style=\"color: #008000; text-decoration-color: #008000\">10.0</span> and may be removed                     \n",
       "                             in a later version. Use <span style=\"font-weight: bold\">&lt;</span><span style=\"color: #ff00ff; text-decoration-color: #ff00ff; font-weight: bold\">class</span><span style=\"color: #000000; text-decoration-color: #000000\"> </span>                                 \n",
       "                             <span style=\"color: #008000; text-decoration-color: #008000\">'manim.mobject.three_dimensions.Surface'</span><span style=\"font-weight: bold\">&gt;</span>                       \n",
       "                             instead.                                                        \n",
       "</pre>\n"
      ],
      "text/plain": [
       "\u001b[2;36m[01/31/22 13:45:42]\u001b[0m\u001b[2;36m \u001b[0m\u001b[31mWARNING \u001b[0m The class ParametricSurface has been          \u001b]8;id=629517;file://C:\\Users\\thoma\\AppData\\Local\\Programs\\Python\\Python39\\lib\\site-packages\\manim\\utils\\deprecation.py\u001b\\\u001b[2mdeprecation.py\u001b[0m\u001b]8;;\u001b\\\u001b[2m:\u001b[0m\u001b]8;id=664583;file://C:\\Users\\thoma\\AppData\\Local\\Programs\\Python\\Python39\\lib\\site-packages\\manim\\utils\\deprecation.py#210\u001b\\\u001b[2m210\u001b[0m\u001b]8;;\u001b\\\n",
       "                             deprecated since v0.\u001b[32m10.0\u001b[0m and may be removed                     \n",
       "                             in a later version. Use \u001b[1m<\u001b[0m\u001b[1;95mclass\u001b[0m\u001b[39m \u001b[0m                                 \n",
       "                             \u001b[32m'manim.mobject.three_dimensions.Surface'\u001b[0m\u001b[1m>\u001b[0m                       \n",
       "                             instead.                                                        \n"
      ]
     },
     "metadata": {},
     "output_type": "display_data"
    },
    {
     "name": "stderr",
     "output_type": "stream",
     "text": [
      "Animation 1: Rotating(Polygon), etc.:  73%|#######3  | 66/90 [03:57<01:40,  4.20s/it]"
     ]
    },
    {
     "data": {
      "text/html": [
       "<pre style=\"white-space:pre;overflow-x:auto;line-height:normal;font-family:Menlo,'DejaVu Sans Mono',consolas,'Courier New',monospace\"><span style=\"color: #7fbfbf; text-decoration-color: #7fbfbf\">[01/31/22 13:45:48] </span><span style=\"color: #800000; text-decoration-color: #800000\">WARNING </span> The class ParametricSurface has been          <a href=\"file://C:\\Users\\thoma\\AppData\\Local\\Programs\\Python\\Python39\\lib\\site-packages\\manim\\utils\\deprecation.py\"><span style=\"color: #7f7f7f; text-decoration-color: #7f7f7f\">deprecation.py</span></a><span style=\"color: #7f7f7f; text-decoration-color: #7f7f7f\">:</span><a href=\"file://C:\\Users\\thoma\\AppData\\Local\\Programs\\Python\\Python39\\lib\\site-packages\\manim\\utils\\deprecation.py#210\"><span style=\"color: #7f7f7f; text-decoration-color: #7f7f7f\">210</span></a>\n",
       "                             deprecated since v0.<span style=\"color: #008000; text-decoration-color: #008000\">10.0</span> and may be removed                     \n",
       "                             in a later version. Use <span style=\"font-weight: bold\">&lt;</span><span style=\"color: #ff00ff; text-decoration-color: #ff00ff; font-weight: bold\">class</span><span style=\"color: #000000; text-decoration-color: #000000\"> </span>                                 \n",
       "                             <span style=\"color: #008000; text-decoration-color: #008000\">'manim.mobject.three_dimensions.Surface'</span><span style=\"font-weight: bold\">&gt;</span>                       \n",
       "                             instead.                                                        \n",
       "</pre>\n"
      ],
      "text/plain": [
       "\u001b[2;36m[01/31/22 13:45:48]\u001b[0m\u001b[2;36m \u001b[0m\u001b[31mWARNING \u001b[0m The class ParametricSurface has been          \u001b]8;id=68731;file://C:\\Users\\thoma\\AppData\\Local\\Programs\\Python\\Python39\\lib\\site-packages\\manim\\utils\\deprecation.py\u001b\\\u001b[2mdeprecation.py\u001b[0m\u001b]8;;\u001b\\\u001b[2m:\u001b[0m\u001b]8;id=958069;file://C:\\Users\\thoma\\AppData\\Local\\Programs\\Python\\Python39\\lib\\site-packages\\manim\\utils\\deprecation.py#210\u001b\\\u001b[2m210\u001b[0m\u001b]8;;\u001b\\\n",
       "                             deprecated since v0.\u001b[32m10.0\u001b[0m and may be removed                     \n",
       "                             in a later version. Use \u001b[1m<\u001b[0m\u001b[1;95mclass\u001b[0m\u001b[39m \u001b[0m                                 \n",
       "                             \u001b[32m'manim.mobject.three_dimensions.Surface'\u001b[0m\u001b[1m>\u001b[0m                       \n",
       "                             instead.                                                        \n"
      ]
     },
     "metadata": {},
     "output_type": "display_data"
    },
    {
     "name": "stderr",
     "output_type": "stream",
     "text": [
      "Animation 1: Rotating(Polygon), etc.:  74%|#######4  | 67/90 [04:03<01:51,  4.87s/it]"
     ]
    },
    {
     "data": {
      "text/html": [
       "<pre style=\"white-space:pre;overflow-x:auto;line-height:normal;font-family:Menlo,'DejaVu Sans Mono',consolas,'Courier New',monospace\"><span style=\"color: #7fbfbf; text-decoration-color: #7fbfbf\">[01/31/22 13:45:54] </span><span style=\"color: #800000; text-decoration-color: #800000\">WARNING </span> The class ParametricSurface has been          <a href=\"file://C:\\Users\\thoma\\AppData\\Local\\Programs\\Python\\Python39\\lib\\site-packages\\manim\\utils\\deprecation.py\"><span style=\"color: #7f7f7f; text-decoration-color: #7f7f7f\">deprecation.py</span></a><span style=\"color: #7f7f7f; text-decoration-color: #7f7f7f\">:</span><a href=\"file://C:\\Users\\thoma\\AppData\\Local\\Programs\\Python\\Python39\\lib\\site-packages\\manim\\utils\\deprecation.py#210\"><span style=\"color: #7f7f7f; text-decoration-color: #7f7f7f\">210</span></a>\n",
       "                             deprecated since v0.<span style=\"color: #008000; text-decoration-color: #008000\">10.0</span> and may be removed                     \n",
       "                             in a later version. Use <span style=\"font-weight: bold\">&lt;</span><span style=\"color: #ff00ff; text-decoration-color: #ff00ff; font-weight: bold\">class</span><span style=\"color: #000000; text-decoration-color: #000000\"> </span>                                 \n",
       "                             <span style=\"color: #008000; text-decoration-color: #008000\">'manim.mobject.three_dimensions.Surface'</span><span style=\"font-weight: bold\">&gt;</span>                       \n",
       "                             instead.                                                        \n",
       "</pre>\n"
      ],
      "text/plain": [
       "\u001b[2;36m[01/31/22 13:45:54]\u001b[0m\u001b[2;36m \u001b[0m\u001b[31mWARNING \u001b[0m The class ParametricSurface has been          \u001b]8;id=811446;file://C:\\Users\\thoma\\AppData\\Local\\Programs\\Python\\Python39\\lib\\site-packages\\manim\\utils\\deprecation.py\u001b\\\u001b[2mdeprecation.py\u001b[0m\u001b]8;;\u001b\\\u001b[2m:\u001b[0m\u001b]8;id=250600;file://C:\\Users\\thoma\\AppData\\Local\\Programs\\Python\\Python39\\lib\\site-packages\\manim\\utils\\deprecation.py#210\u001b\\\u001b[2m210\u001b[0m\u001b]8;;\u001b\\\n",
       "                             deprecated since v0.\u001b[32m10.0\u001b[0m and may be removed                     \n",
       "                             in a later version. Use \u001b[1m<\u001b[0m\u001b[1;95mclass\u001b[0m\u001b[39m \u001b[0m                                 \n",
       "                             \u001b[32m'manim.mobject.three_dimensions.Surface'\u001b[0m\u001b[1m>\u001b[0m                       \n",
       "                             instead.                                                        \n"
      ]
     },
     "metadata": {},
     "output_type": "display_data"
    },
    {
     "name": "stderr",
     "output_type": "stream",
     "text": [
      "Animation 1: Rotating(Polygon), etc.:  76%|#######5  | 68/90 [04:09<01:57,  5.33s/it]"
     ]
    },
    {
     "data": {
      "text/html": [
       "<pre style=\"white-space:pre;overflow-x:auto;line-height:normal;font-family:Menlo,'DejaVu Sans Mono',consolas,'Courier New',monospace\"><span style=\"color: #7fbfbf; text-decoration-color: #7fbfbf\">[01/31/22 13:46:00] </span><span style=\"color: #800000; text-decoration-color: #800000\">WARNING </span> The class ParametricSurface has been          <a href=\"file://C:\\Users\\thoma\\AppData\\Local\\Programs\\Python\\Python39\\lib\\site-packages\\manim\\utils\\deprecation.py\"><span style=\"color: #7f7f7f; text-decoration-color: #7f7f7f\">deprecation.py</span></a><span style=\"color: #7f7f7f; text-decoration-color: #7f7f7f\">:</span><a href=\"file://C:\\Users\\thoma\\AppData\\Local\\Programs\\Python\\Python39\\lib\\site-packages\\manim\\utils\\deprecation.py#210\"><span style=\"color: #7f7f7f; text-decoration-color: #7f7f7f\">210</span></a>\n",
       "                             deprecated since v0.<span style=\"color: #008000; text-decoration-color: #008000\">10.0</span> and may be removed                     \n",
       "                             in a later version. Use <span style=\"font-weight: bold\">&lt;</span><span style=\"color: #ff00ff; text-decoration-color: #ff00ff; font-weight: bold\">class</span><span style=\"color: #000000; text-decoration-color: #000000\"> </span>                                 \n",
       "                             <span style=\"color: #008000; text-decoration-color: #008000\">'manim.mobject.three_dimensions.Surface'</span><span style=\"font-weight: bold\">&gt;</span>                       \n",
       "                             instead.                                                        \n",
       "</pre>\n"
      ],
      "text/plain": [
       "\u001b[2;36m[01/31/22 13:46:00]\u001b[0m\u001b[2;36m \u001b[0m\u001b[31mWARNING \u001b[0m The class ParametricSurface has been          \u001b]8;id=458470;file://C:\\Users\\thoma\\AppData\\Local\\Programs\\Python\\Python39\\lib\\site-packages\\manim\\utils\\deprecation.py\u001b\\\u001b[2mdeprecation.py\u001b[0m\u001b]8;;\u001b\\\u001b[2m:\u001b[0m\u001b]8;id=395962;file://C:\\Users\\thoma\\AppData\\Local\\Programs\\Python\\Python39\\lib\\site-packages\\manim\\utils\\deprecation.py#210\u001b\\\u001b[2m210\u001b[0m\u001b]8;;\u001b\\\n",
       "                             deprecated since v0.\u001b[32m10.0\u001b[0m and may be removed                     \n",
       "                             in a later version. Use \u001b[1m<\u001b[0m\u001b[1;95mclass\u001b[0m\u001b[39m \u001b[0m                                 \n",
       "                             \u001b[32m'manim.mobject.three_dimensions.Surface'\u001b[0m\u001b[1m>\u001b[0m                       \n",
       "                             instead.                                                        \n"
      ]
     },
     "metadata": {},
     "output_type": "display_data"
    },
    {
     "name": "stderr",
     "output_type": "stream",
     "text": [
      "Animation 1: Rotating(Polygon), etc.:  77%|#######6  | 69/90 [04:14<01:46,  5.07s/it]"
     ]
    },
    {
     "data": {
      "text/html": [
       "<pre style=\"white-space:pre;overflow-x:auto;line-height:normal;font-family:Menlo,'DejaVu Sans Mono',consolas,'Courier New',monospace\"><span style=\"color: #7fbfbf; text-decoration-color: #7fbfbf\">[01/31/22 13:46:05] </span><span style=\"color: #800000; text-decoration-color: #800000\">WARNING </span> The class ParametricSurface has been          <a href=\"file://C:\\Users\\thoma\\AppData\\Local\\Programs\\Python\\Python39\\lib\\site-packages\\manim\\utils\\deprecation.py\"><span style=\"color: #7f7f7f; text-decoration-color: #7f7f7f\">deprecation.py</span></a><span style=\"color: #7f7f7f; text-decoration-color: #7f7f7f\">:</span><a href=\"file://C:\\Users\\thoma\\AppData\\Local\\Programs\\Python\\Python39\\lib\\site-packages\\manim\\utils\\deprecation.py#210\"><span style=\"color: #7f7f7f; text-decoration-color: #7f7f7f\">210</span></a>\n",
       "                             deprecated since v0.<span style=\"color: #008000; text-decoration-color: #008000\">10.0</span> and may be removed                     \n",
       "                             in a later version. Use <span style=\"font-weight: bold\">&lt;</span><span style=\"color: #ff00ff; text-decoration-color: #ff00ff; font-weight: bold\">class</span><span style=\"color: #000000; text-decoration-color: #000000\"> </span>                                 \n",
       "                             <span style=\"color: #008000; text-decoration-color: #008000\">'manim.mobject.three_dimensions.Surface'</span><span style=\"font-weight: bold\">&gt;</span>                       \n",
       "                             instead.                                                        \n",
       "</pre>\n"
      ],
      "text/plain": [
       "\u001b[2;36m[01/31/22 13:46:05]\u001b[0m\u001b[2;36m \u001b[0m\u001b[31mWARNING \u001b[0m The class ParametricSurface has been          \u001b]8;id=546807;file://C:\\Users\\thoma\\AppData\\Local\\Programs\\Python\\Python39\\lib\\site-packages\\manim\\utils\\deprecation.py\u001b\\\u001b[2mdeprecation.py\u001b[0m\u001b]8;;\u001b\\\u001b[2m:\u001b[0m\u001b]8;id=282507;file://C:\\Users\\thoma\\AppData\\Local\\Programs\\Python\\Python39\\lib\\site-packages\\manim\\utils\\deprecation.py#210\u001b\\\u001b[2m210\u001b[0m\u001b]8;;\u001b\\\n",
       "                             deprecated since v0.\u001b[32m10.0\u001b[0m and may be removed                     \n",
       "                             in a later version. Use \u001b[1m<\u001b[0m\u001b[1;95mclass\u001b[0m\u001b[39m \u001b[0m                                 \n",
       "                             \u001b[32m'manim.mobject.three_dimensions.Surface'\u001b[0m\u001b[1m>\u001b[0m                       \n",
       "                             instead.                                                        \n"
      ]
     },
     "metadata": {},
     "output_type": "display_data"
    },
    {
     "name": "stderr",
     "output_type": "stream",
     "text": [
      "Animation 1: Rotating(Polygon), etc.:  78%|#######7  | 70/90 [04:17<01:29,  4.47s/it]"
     ]
    },
    {
     "data": {
      "text/html": [
       "<pre style=\"white-space:pre;overflow-x:auto;line-height:normal;font-family:Menlo,'DejaVu Sans Mono',consolas,'Courier New',monospace\"><span style=\"color: #7fbfbf; text-decoration-color: #7fbfbf\">[01/31/22 13:46:08] </span><span style=\"color: #800000; text-decoration-color: #800000\">WARNING </span> The class ParametricSurface has been          <a href=\"file://C:\\Users\\thoma\\AppData\\Local\\Programs\\Python\\Python39\\lib\\site-packages\\manim\\utils\\deprecation.py\"><span style=\"color: #7f7f7f; text-decoration-color: #7f7f7f\">deprecation.py</span></a><span style=\"color: #7f7f7f; text-decoration-color: #7f7f7f\">:</span><a href=\"file://C:\\Users\\thoma\\AppData\\Local\\Programs\\Python\\Python39\\lib\\site-packages\\manim\\utils\\deprecation.py#210\"><span style=\"color: #7f7f7f; text-decoration-color: #7f7f7f\">210</span></a>\n",
       "                             deprecated since v0.<span style=\"color: #008000; text-decoration-color: #008000\">10.0</span> and may be removed                     \n",
       "                             in a later version. Use <span style=\"font-weight: bold\">&lt;</span><span style=\"color: #ff00ff; text-decoration-color: #ff00ff; font-weight: bold\">class</span><span style=\"color: #000000; text-decoration-color: #000000\"> </span>                                 \n",
       "                             <span style=\"color: #008000; text-decoration-color: #008000\">'manim.mobject.three_dimensions.Surface'</span><span style=\"font-weight: bold\">&gt;</span>                       \n",
       "                             instead.                                                        \n",
       "</pre>\n"
      ],
      "text/plain": [
       "\u001b[2;36m[01/31/22 13:46:08]\u001b[0m\u001b[2;36m \u001b[0m\u001b[31mWARNING \u001b[0m The class ParametricSurface has been          \u001b]8;id=299298;file://C:\\Users\\thoma\\AppData\\Local\\Programs\\Python\\Python39\\lib\\site-packages\\manim\\utils\\deprecation.py\u001b\\\u001b[2mdeprecation.py\u001b[0m\u001b]8;;\u001b\\\u001b[2m:\u001b[0m\u001b]8;id=65294;file://C:\\Users\\thoma\\AppData\\Local\\Programs\\Python\\Python39\\lib\\site-packages\\manim\\utils\\deprecation.py#210\u001b\\\u001b[2m210\u001b[0m\u001b]8;;\u001b\\\n",
       "                             deprecated since v0.\u001b[32m10.0\u001b[0m and may be removed                     \n",
       "                             in a later version. Use \u001b[1m<\u001b[0m\u001b[1;95mclass\u001b[0m\u001b[39m \u001b[0m                                 \n",
       "                             \u001b[32m'manim.mobject.three_dimensions.Surface'\u001b[0m\u001b[1m>\u001b[0m                       \n",
       "                             instead.                                                        \n"
      ]
     },
     "metadata": {},
     "output_type": "display_data"
    },
    {
     "name": "stderr",
     "output_type": "stream",
     "text": [
      "Animation 1: Rotating(Polygon), etc.:  79%|#######8  | 71/90 [04:20<01:14,  3.94s/it]"
     ]
    },
    {
     "data": {
      "text/html": [
       "<pre style=\"white-space:pre;overflow-x:auto;line-height:normal;font-family:Menlo,'DejaVu Sans Mono',consolas,'Courier New',monospace\"><span style=\"color: #7fbfbf; text-decoration-color: #7fbfbf\">[01/31/22 13:46:11] </span><span style=\"color: #800000; text-decoration-color: #800000\">WARNING </span> The class ParametricSurface has been          <a href=\"file://C:\\Users\\thoma\\AppData\\Local\\Programs\\Python\\Python39\\lib\\site-packages\\manim\\utils\\deprecation.py\"><span style=\"color: #7f7f7f; text-decoration-color: #7f7f7f\">deprecation.py</span></a><span style=\"color: #7f7f7f; text-decoration-color: #7f7f7f\">:</span><a href=\"file://C:\\Users\\thoma\\AppData\\Local\\Programs\\Python\\Python39\\lib\\site-packages\\manim\\utils\\deprecation.py#210\"><span style=\"color: #7f7f7f; text-decoration-color: #7f7f7f\">210</span></a>\n",
       "                             deprecated since v0.<span style=\"color: #008000; text-decoration-color: #008000\">10.0</span> and may be removed                     \n",
       "                             in a later version. Use <span style=\"font-weight: bold\">&lt;</span><span style=\"color: #ff00ff; text-decoration-color: #ff00ff; font-weight: bold\">class</span><span style=\"color: #000000; text-decoration-color: #000000\"> </span>                                 \n",
       "                             <span style=\"color: #008000; text-decoration-color: #008000\">'manim.mobject.three_dimensions.Surface'</span><span style=\"font-weight: bold\">&gt;</span>                       \n",
       "                             instead.                                                        \n",
       "</pre>\n"
      ],
      "text/plain": [
       "\u001b[2;36m[01/31/22 13:46:11]\u001b[0m\u001b[2;36m \u001b[0m\u001b[31mWARNING \u001b[0m The class ParametricSurface has been          \u001b]8;id=256901;file://C:\\Users\\thoma\\AppData\\Local\\Programs\\Python\\Python39\\lib\\site-packages\\manim\\utils\\deprecation.py\u001b\\\u001b[2mdeprecation.py\u001b[0m\u001b]8;;\u001b\\\u001b[2m:\u001b[0m\u001b]8;id=507518;file://C:\\Users\\thoma\\AppData\\Local\\Programs\\Python\\Python39\\lib\\site-packages\\manim\\utils\\deprecation.py#210\u001b\\\u001b[2m210\u001b[0m\u001b]8;;\u001b\\\n",
       "                             deprecated since v0.\u001b[32m10.0\u001b[0m and may be removed                     \n",
       "                             in a later version. Use \u001b[1m<\u001b[0m\u001b[1;95mclass\u001b[0m\u001b[39m \u001b[0m                                 \n",
       "                             \u001b[32m'manim.mobject.three_dimensions.Surface'\u001b[0m\u001b[1m>\u001b[0m                       \n",
       "                             instead.                                                        \n"
      ]
     },
     "metadata": {},
     "output_type": "display_data"
    },
    {
     "name": "stderr",
     "output_type": "stream",
     "text": [
      "Animation 1: Rotating(Polygon), etc.:  80%|########  | 72/90 [04:24<01:10,  3.92s/it]"
     ]
    },
    {
     "data": {
      "text/html": [
       "<pre style=\"white-space:pre;overflow-x:auto;line-height:normal;font-family:Menlo,'DejaVu Sans Mono',consolas,'Courier New',monospace\"><span style=\"color: #7fbfbf; text-decoration-color: #7fbfbf\">[01/31/22 13:46:15] </span><span style=\"color: #800000; text-decoration-color: #800000\">WARNING </span> The class ParametricSurface has been          <a href=\"file://C:\\Users\\thoma\\AppData\\Local\\Programs\\Python\\Python39\\lib\\site-packages\\manim\\utils\\deprecation.py\"><span style=\"color: #7f7f7f; text-decoration-color: #7f7f7f\">deprecation.py</span></a><span style=\"color: #7f7f7f; text-decoration-color: #7f7f7f\">:</span><a href=\"file://C:\\Users\\thoma\\AppData\\Local\\Programs\\Python\\Python39\\lib\\site-packages\\manim\\utils\\deprecation.py#210\"><span style=\"color: #7f7f7f; text-decoration-color: #7f7f7f\">210</span></a>\n",
       "                             deprecated since v0.<span style=\"color: #008000; text-decoration-color: #008000\">10.0</span> and may be removed                     \n",
       "                             in a later version. Use <span style=\"font-weight: bold\">&lt;</span><span style=\"color: #ff00ff; text-decoration-color: #ff00ff; font-weight: bold\">class</span><span style=\"color: #000000; text-decoration-color: #000000\"> </span>                                 \n",
       "                             <span style=\"color: #008000; text-decoration-color: #008000\">'manim.mobject.three_dimensions.Surface'</span><span style=\"font-weight: bold\">&gt;</span>                       \n",
       "                             instead.                                                        \n",
       "</pre>\n"
      ],
      "text/plain": [
       "\u001b[2;36m[01/31/22 13:46:15]\u001b[0m\u001b[2;36m \u001b[0m\u001b[31mWARNING \u001b[0m The class ParametricSurface has been          \u001b]8;id=253538;file://C:\\Users\\thoma\\AppData\\Local\\Programs\\Python\\Python39\\lib\\site-packages\\manim\\utils\\deprecation.py\u001b\\\u001b[2mdeprecation.py\u001b[0m\u001b]8;;\u001b\\\u001b[2m:\u001b[0m\u001b]8;id=928284;file://C:\\Users\\thoma\\AppData\\Local\\Programs\\Python\\Python39\\lib\\site-packages\\manim\\utils\\deprecation.py#210\u001b\\\u001b[2m210\u001b[0m\u001b]8;;\u001b\\\n",
       "                             deprecated since v0.\u001b[32m10.0\u001b[0m and may be removed                     \n",
       "                             in a later version. Use \u001b[1m<\u001b[0m\u001b[1;95mclass\u001b[0m\u001b[39m \u001b[0m                                 \n",
       "                             \u001b[32m'manim.mobject.three_dimensions.Surface'\u001b[0m\u001b[1m>\u001b[0m                       \n",
       "                             instead.                                                        \n"
      ]
     },
     "metadata": {},
     "output_type": "display_data"
    },
    {
     "name": "stderr",
     "output_type": "stream",
     "text": [
      "Animation 1: Rotating(Polygon), etc.:  81%|########1 | 73/90 [04:29<01:16,  4.52s/it]"
     ]
    },
    {
     "data": {
      "text/html": [
       "<pre style=\"white-space:pre;overflow-x:auto;line-height:normal;font-family:Menlo,'DejaVu Sans Mono',consolas,'Courier New',monospace\"><span style=\"color: #7fbfbf; text-decoration-color: #7fbfbf\">[01/31/22 13:46:20] </span><span style=\"color: #800000; text-decoration-color: #800000\">WARNING </span> The class ParametricSurface has been          <a href=\"file://C:\\Users\\thoma\\AppData\\Local\\Programs\\Python\\Python39\\lib\\site-packages\\manim\\utils\\deprecation.py\"><span style=\"color: #7f7f7f; text-decoration-color: #7f7f7f\">deprecation.py</span></a><span style=\"color: #7f7f7f; text-decoration-color: #7f7f7f\">:</span><a href=\"file://C:\\Users\\thoma\\AppData\\Local\\Programs\\Python\\Python39\\lib\\site-packages\\manim\\utils\\deprecation.py#210\"><span style=\"color: #7f7f7f; text-decoration-color: #7f7f7f\">210</span></a>\n",
       "                             deprecated since v0.<span style=\"color: #008000; text-decoration-color: #008000\">10.0</span> and may be removed                     \n",
       "                             in a later version. Use <span style=\"font-weight: bold\">&lt;</span><span style=\"color: #ff00ff; text-decoration-color: #ff00ff; font-weight: bold\">class</span><span style=\"color: #000000; text-decoration-color: #000000\"> </span>                                 \n",
       "                             <span style=\"color: #008000; text-decoration-color: #008000\">'manim.mobject.three_dimensions.Surface'</span><span style=\"font-weight: bold\">&gt;</span>                       \n",
       "                             instead.                                                        \n",
       "</pre>\n"
      ],
      "text/plain": [
       "\u001b[2;36m[01/31/22 13:46:20]\u001b[0m\u001b[2;36m \u001b[0m\u001b[31mWARNING \u001b[0m The class ParametricSurface has been          \u001b]8;id=62412;file://C:\\Users\\thoma\\AppData\\Local\\Programs\\Python\\Python39\\lib\\site-packages\\manim\\utils\\deprecation.py\u001b\\\u001b[2mdeprecation.py\u001b[0m\u001b]8;;\u001b\\\u001b[2m:\u001b[0m\u001b]8;id=713632;file://C:\\Users\\thoma\\AppData\\Local\\Programs\\Python\\Python39\\lib\\site-packages\\manim\\utils\\deprecation.py#210\u001b\\\u001b[2m210\u001b[0m\u001b]8;;\u001b\\\n",
       "                             deprecated since v0.\u001b[32m10.0\u001b[0m and may be removed                     \n",
       "                             in a later version. Use \u001b[1m<\u001b[0m\u001b[1;95mclass\u001b[0m\u001b[39m \u001b[0m                                 \n",
       "                             \u001b[32m'manim.mobject.three_dimensions.Surface'\u001b[0m\u001b[1m>\u001b[0m                       \n",
       "                             instead.                                                        \n"
      ]
     },
     "metadata": {},
     "output_type": "display_data"
    },
    {
     "name": "stderr",
     "output_type": "stream",
     "text": [
      "Animation 1: Rotating(Polygon), etc.:  82%|########2 | 74/90 [04:34<01:14,  4.65s/it]"
     ]
    },
    {
     "data": {
      "text/html": [
       "<pre style=\"white-space:pre;overflow-x:auto;line-height:normal;font-family:Menlo,'DejaVu Sans Mono',consolas,'Courier New',monospace\"><span style=\"color: #7fbfbf; text-decoration-color: #7fbfbf\">[01/31/22 13:46:25] </span><span style=\"color: #800000; text-decoration-color: #800000\">WARNING </span> The class ParametricSurface has been          <a href=\"file://C:\\Users\\thoma\\AppData\\Local\\Programs\\Python\\Python39\\lib\\site-packages\\manim\\utils\\deprecation.py\"><span style=\"color: #7f7f7f; text-decoration-color: #7f7f7f\">deprecation.py</span></a><span style=\"color: #7f7f7f; text-decoration-color: #7f7f7f\">:</span><a href=\"file://C:\\Users\\thoma\\AppData\\Local\\Programs\\Python\\Python39\\lib\\site-packages\\manim\\utils\\deprecation.py#210\"><span style=\"color: #7f7f7f; text-decoration-color: #7f7f7f\">210</span></a>\n",
       "                             deprecated since v0.<span style=\"color: #008000; text-decoration-color: #008000\">10.0</span> and may be removed                     \n",
       "                             in a later version. Use <span style=\"font-weight: bold\">&lt;</span><span style=\"color: #ff00ff; text-decoration-color: #ff00ff; font-weight: bold\">class</span><span style=\"color: #000000; text-decoration-color: #000000\"> </span>                                 \n",
       "                             <span style=\"color: #008000; text-decoration-color: #008000\">'manim.mobject.three_dimensions.Surface'</span><span style=\"font-weight: bold\">&gt;</span>                       \n",
       "                             instead.                                                        \n",
       "</pre>\n"
      ],
      "text/plain": [
       "\u001b[2;36m[01/31/22 13:46:25]\u001b[0m\u001b[2;36m \u001b[0m\u001b[31mWARNING \u001b[0m The class ParametricSurface has been          \u001b]8;id=791878;file://C:\\Users\\thoma\\AppData\\Local\\Programs\\Python\\Python39\\lib\\site-packages\\manim\\utils\\deprecation.py\u001b\\\u001b[2mdeprecation.py\u001b[0m\u001b]8;;\u001b\\\u001b[2m:\u001b[0m\u001b]8;id=964406;file://C:\\Users\\thoma\\AppData\\Local\\Programs\\Python\\Python39\\lib\\site-packages\\manim\\utils\\deprecation.py#210\u001b\\\u001b[2m210\u001b[0m\u001b]8;;\u001b\\\n",
       "                             deprecated since v0.\u001b[32m10.0\u001b[0m and may be removed                     \n",
       "                             in a later version. Use \u001b[1m<\u001b[0m\u001b[1;95mclass\u001b[0m\u001b[39m \u001b[0m                                 \n",
       "                             \u001b[32m'manim.mobject.three_dimensions.Surface'\u001b[0m\u001b[1m>\u001b[0m                       \n",
       "                             instead.                                                        \n"
      ]
     },
     "metadata": {},
     "output_type": "display_data"
    },
    {
     "name": "stderr",
     "output_type": "stream",
     "text": [
      "Animation 1: Rotating(Polygon), etc.:  83%|########3 | 75/90 [04:38<01:04,  4.27s/it]"
     ]
    },
    {
     "data": {
      "text/html": [
       "<pre style=\"white-space:pre;overflow-x:auto;line-height:normal;font-family:Menlo,'DejaVu Sans Mono',consolas,'Courier New',monospace\"><span style=\"color: #7fbfbf; text-decoration-color: #7fbfbf\">[01/31/22 13:46:29] </span><span style=\"color: #800000; text-decoration-color: #800000\">WARNING </span> The class ParametricSurface has been          <a href=\"file://C:\\Users\\thoma\\AppData\\Local\\Programs\\Python\\Python39\\lib\\site-packages\\manim\\utils\\deprecation.py\"><span style=\"color: #7f7f7f; text-decoration-color: #7f7f7f\">deprecation.py</span></a><span style=\"color: #7f7f7f; text-decoration-color: #7f7f7f\">:</span><a href=\"file://C:\\Users\\thoma\\AppData\\Local\\Programs\\Python\\Python39\\lib\\site-packages\\manim\\utils\\deprecation.py#210\"><span style=\"color: #7f7f7f; text-decoration-color: #7f7f7f\">210</span></a>\n",
       "                             deprecated since v0.<span style=\"color: #008000; text-decoration-color: #008000\">10.0</span> and may be removed                     \n",
       "                             in a later version. Use <span style=\"font-weight: bold\">&lt;</span><span style=\"color: #ff00ff; text-decoration-color: #ff00ff; font-weight: bold\">class</span><span style=\"color: #000000; text-decoration-color: #000000\"> </span>                                 \n",
       "                             <span style=\"color: #008000; text-decoration-color: #008000\">'manim.mobject.three_dimensions.Surface'</span><span style=\"font-weight: bold\">&gt;</span>                       \n",
       "                             instead.                                                        \n",
       "</pre>\n"
      ],
      "text/plain": [
       "\u001b[2;36m[01/31/22 13:46:29]\u001b[0m\u001b[2;36m \u001b[0m\u001b[31mWARNING \u001b[0m The class ParametricSurface has been          \u001b]8;id=983969;file://C:\\Users\\thoma\\AppData\\Local\\Programs\\Python\\Python39\\lib\\site-packages\\manim\\utils\\deprecation.py\u001b\\\u001b[2mdeprecation.py\u001b[0m\u001b]8;;\u001b\\\u001b[2m:\u001b[0m\u001b]8;id=114809;file://C:\\Users\\thoma\\AppData\\Local\\Programs\\Python\\Python39\\lib\\site-packages\\manim\\utils\\deprecation.py#210\u001b\\\u001b[2m210\u001b[0m\u001b]8;;\u001b\\\n",
       "                             deprecated since v0.\u001b[32m10.0\u001b[0m and may be removed                     \n",
       "                             in a later version. Use \u001b[1m<\u001b[0m\u001b[1;95mclass\u001b[0m\u001b[39m \u001b[0m                                 \n",
       "                             \u001b[32m'manim.mobject.three_dimensions.Surface'\u001b[0m\u001b[1m>\u001b[0m                       \n",
       "                             instead.                                                        \n"
      ]
     },
     "metadata": {},
     "output_type": "display_data"
    },
    {
     "name": "stderr",
     "output_type": "stream",
     "text": [
      "Animation 1: Rotating(Polygon), etc.:  84%|########4 | 76/90 [04:41<00:55,  3.97s/it]"
     ]
    },
    {
     "data": {
      "text/html": [
       "<pre style=\"white-space:pre;overflow-x:auto;line-height:normal;font-family:Menlo,'DejaVu Sans Mono',consolas,'Courier New',monospace\"><span style=\"color: #7fbfbf; text-decoration-color: #7fbfbf\">[01/31/22 13:46:32] </span><span style=\"color: #800000; text-decoration-color: #800000\">WARNING </span> The class ParametricSurface has been          <a href=\"file://C:\\Users\\thoma\\AppData\\Local\\Programs\\Python\\Python39\\lib\\site-packages\\manim\\utils\\deprecation.py\"><span style=\"color: #7f7f7f; text-decoration-color: #7f7f7f\">deprecation.py</span></a><span style=\"color: #7f7f7f; text-decoration-color: #7f7f7f\">:</span><a href=\"file://C:\\Users\\thoma\\AppData\\Local\\Programs\\Python\\Python39\\lib\\site-packages\\manim\\utils\\deprecation.py#210\"><span style=\"color: #7f7f7f; text-decoration-color: #7f7f7f\">210</span></a>\n",
       "                             deprecated since v0.<span style=\"color: #008000; text-decoration-color: #008000\">10.0</span> and may be removed                     \n",
       "                             in a later version. Use <span style=\"font-weight: bold\">&lt;</span><span style=\"color: #ff00ff; text-decoration-color: #ff00ff; font-weight: bold\">class</span><span style=\"color: #000000; text-decoration-color: #000000\"> </span>                                 \n",
       "                             <span style=\"color: #008000; text-decoration-color: #008000\">'manim.mobject.three_dimensions.Surface'</span><span style=\"font-weight: bold\">&gt;</span>                       \n",
       "                             instead.                                                        \n",
       "</pre>\n"
      ],
      "text/plain": [
       "\u001b[2;36m[01/31/22 13:46:32]\u001b[0m\u001b[2;36m \u001b[0m\u001b[31mWARNING \u001b[0m The class ParametricSurface has been          \u001b]8;id=249436;file://C:\\Users\\thoma\\AppData\\Local\\Programs\\Python\\Python39\\lib\\site-packages\\manim\\utils\\deprecation.py\u001b\\\u001b[2mdeprecation.py\u001b[0m\u001b]8;;\u001b\\\u001b[2m:\u001b[0m\u001b]8;id=80410;file://C:\\Users\\thoma\\AppData\\Local\\Programs\\Python\\Python39\\lib\\site-packages\\manim\\utils\\deprecation.py#210\u001b\\\u001b[2m210\u001b[0m\u001b]8;;\u001b\\\n",
       "                             deprecated since v0.\u001b[32m10.0\u001b[0m and may be removed                     \n",
       "                             in a later version. Use \u001b[1m<\u001b[0m\u001b[1;95mclass\u001b[0m\u001b[39m \u001b[0m                                 \n",
       "                             \u001b[32m'manim.mobject.three_dimensions.Surface'\u001b[0m\u001b[1m>\u001b[0m                       \n",
       "                             instead.                                                        \n"
      ]
     },
     "metadata": {},
     "output_type": "display_data"
    },
    {
     "name": "stderr",
     "output_type": "stream",
     "text": [
      "Animation 1: Rotating(Polygon), etc.:  86%|########5 | 77/90 [04:44<00:49,  3.78s/it]"
     ]
    },
    {
     "data": {
      "text/html": [
       "<pre style=\"white-space:pre;overflow-x:auto;line-height:normal;font-family:Menlo,'DejaVu Sans Mono',consolas,'Courier New',monospace\"><span style=\"color: #7fbfbf; text-decoration-color: #7fbfbf\">[01/31/22 13:46:35] </span><span style=\"color: #800000; text-decoration-color: #800000\">WARNING </span> The class ParametricSurface has been          <a href=\"file://C:\\Users\\thoma\\AppData\\Local\\Programs\\Python\\Python39\\lib\\site-packages\\manim\\utils\\deprecation.py\"><span style=\"color: #7f7f7f; text-decoration-color: #7f7f7f\">deprecation.py</span></a><span style=\"color: #7f7f7f; text-decoration-color: #7f7f7f\">:</span><a href=\"file://C:\\Users\\thoma\\AppData\\Local\\Programs\\Python\\Python39\\lib\\site-packages\\manim\\utils\\deprecation.py#210\"><span style=\"color: #7f7f7f; text-decoration-color: #7f7f7f\">210</span></a>\n",
       "                             deprecated since v0.<span style=\"color: #008000; text-decoration-color: #008000\">10.0</span> and may be removed                     \n",
       "                             in a later version. Use <span style=\"font-weight: bold\">&lt;</span><span style=\"color: #ff00ff; text-decoration-color: #ff00ff; font-weight: bold\">class</span><span style=\"color: #000000; text-decoration-color: #000000\"> </span>                                 \n",
       "                             <span style=\"color: #008000; text-decoration-color: #008000\">'manim.mobject.three_dimensions.Surface'</span><span style=\"font-weight: bold\">&gt;</span>                       \n",
       "                             instead.                                                        \n",
       "</pre>\n"
      ],
      "text/plain": [
       "\u001b[2;36m[01/31/22 13:46:35]\u001b[0m\u001b[2;36m \u001b[0m\u001b[31mWARNING \u001b[0m The class ParametricSurface has been          \u001b]8;id=538778;file://C:\\Users\\thoma\\AppData\\Local\\Programs\\Python\\Python39\\lib\\site-packages\\manim\\utils\\deprecation.py\u001b\\\u001b[2mdeprecation.py\u001b[0m\u001b]8;;\u001b\\\u001b[2m:\u001b[0m\u001b]8;id=700090;file://C:\\Users\\thoma\\AppData\\Local\\Programs\\Python\\Python39\\lib\\site-packages\\manim\\utils\\deprecation.py#210\u001b\\\u001b[2m210\u001b[0m\u001b]8;;\u001b\\\n",
       "                             deprecated since v0.\u001b[32m10.0\u001b[0m and may be removed                     \n",
       "                             in a later version. Use \u001b[1m<\u001b[0m\u001b[1;95mclass\u001b[0m\u001b[39m \u001b[0m                                 \n",
       "                             \u001b[32m'manim.mobject.three_dimensions.Surface'\u001b[0m\u001b[1m>\u001b[0m                       \n",
       "                             instead.                                                        \n"
      ]
     },
     "metadata": {},
     "output_type": "display_data"
    },
    {
     "name": "stderr",
     "output_type": "stream",
     "text": [
      "Animation 1: Rotating(Polygon), etc.:  87%|########6 | 78/90 [04:48<00:46,  3.85s/it]"
     ]
    },
    {
     "data": {
      "text/html": [
       "<pre style=\"white-space:pre;overflow-x:auto;line-height:normal;font-family:Menlo,'DejaVu Sans Mono',consolas,'Courier New',monospace\"><span style=\"color: #7fbfbf; text-decoration-color: #7fbfbf\">[01/31/22 13:46:39] </span><span style=\"color: #800000; text-decoration-color: #800000\">WARNING </span> The class ParametricSurface has been          <a href=\"file://C:\\Users\\thoma\\AppData\\Local\\Programs\\Python\\Python39\\lib\\site-packages\\manim\\utils\\deprecation.py\"><span style=\"color: #7f7f7f; text-decoration-color: #7f7f7f\">deprecation.py</span></a><span style=\"color: #7f7f7f; text-decoration-color: #7f7f7f\">:</span><a href=\"file://C:\\Users\\thoma\\AppData\\Local\\Programs\\Python\\Python39\\lib\\site-packages\\manim\\utils\\deprecation.py#210\"><span style=\"color: #7f7f7f; text-decoration-color: #7f7f7f\">210</span></a>\n",
       "                             deprecated since v0.<span style=\"color: #008000; text-decoration-color: #008000\">10.0</span> and may be removed                     \n",
       "                             in a later version. Use <span style=\"font-weight: bold\">&lt;</span><span style=\"color: #ff00ff; text-decoration-color: #ff00ff; font-weight: bold\">class</span><span style=\"color: #000000; text-decoration-color: #000000\"> </span>                                 \n",
       "                             <span style=\"color: #008000; text-decoration-color: #008000\">'manim.mobject.three_dimensions.Surface'</span><span style=\"font-weight: bold\">&gt;</span>                       \n",
       "                             instead.                                                        \n",
       "</pre>\n"
      ],
      "text/plain": [
       "\u001b[2;36m[01/31/22 13:46:39]\u001b[0m\u001b[2;36m \u001b[0m\u001b[31mWARNING \u001b[0m The class ParametricSurface has been          \u001b]8;id=805701;file://C:\\Users\\thoma\\AppData\\Local\\Programs\\Python\\Python39\\lib\\site-packages\\manim\\utils\\deprecation.py\u001b\\\u001b[2mdeprecation.py\u001b[0m\u001b]8;;\u001b\\\u001b[2m:\u001b[0m\u001b]8;id=602356;file://C:\\Users\\thoma\\AppData\\Local\\Programs\\Python\\Python39\\lib\\site-packages\\manim\\utils\\deprecation.py#210\u001b\\\u001b[2m210\u001b[0m\u001b]8;;\u001b\\\n",
       "                             deprecated since v0.\u001b[32m10.0\u001b[0m and may be removed                     \n",
       "                             in a later version. Use \u001b[1m<\u001b[0m\u001b[1;95mclass\u001b[0m\u001b[39m \u001b[0m                                 \n",
       "                             \u001b[32m'manim.mobject.three_dimensions.Surface'\u001b[0m\u001b[1m>\u001b[0m                       \n",
       "                             instead.                                                        \n"
      ]
     },
     "metadata": {},
     "output_type": "display_data"
    },
    {
     "name": "stderr",
     "output_type": "stream",
     "text": [
      "Animation 1: Rotating(Polygon), etc.:  88%|########7 | 79/90 [04:52<00:41,  3.77s/it]"
     ]
    },
    {
     "data": {
      "text/html": [
       "<pre style=\"white-space:pre;overflow-x:auto;line-height:normal;font-family:Menlo,'DejaVu Sans Mono',consolas,'Courier New',monospace\"><span style=\"color: #7fbfbf; text-decoration-color: #7fbfbf\">[01/31/22 13:46:43] </span><span style=\"color: #800000; text-decoration-color: #800000\">WARNING </span> The class ParametricSurface has been          <a href=\"file://C:\\Users\\thoma\\AppData\\Local\\Programs\\Python\\Python39\\lib\\site-packages\\manim\\utils\\deprecation.py\"><span style=\"color: #7f7f7f; text-decoration-color: #7f7f7f\">deprecation.py</span></a><span style=\"color: #7f7f7f; text-decoration-color: #7f7f7f\">:</span><a href=\"file://C:\\Users\\thoma\\AppData\\Local\\Programs\\Python\\Python39\\lib\\site-packages\\manim\\utils\\deprecation.py#210\"><span style=\"color: #7f7f7f; text-decoration-color: #7f7f7f\">210</span></a>\n",
       "                             deprecated since v0.<span style=\"color: #008000; text-decoration-color: #008000\">10.0</span> and may be removed                     \n",
       "                             in a later version. Use <span style=\"font-weight: bold\">&lt;</span><span style=\"color: #ff00ff; text-decoration-color: #ff00ff; font-weight: bold\">class</span><span style=\"color: #000000; text-decoration-color: #000000\"> </span>                                 \n",
       "                             <span style=\"color: #008000; text-decoration-color: #008000\">'manim.mobject.three_dimensions.Surface'</span><span style=\"font-weight: bold\">&gt;</span>                       \n",
       "                             instead.                                                        \n",
       "</pre>\n"
      ],
      "text/plain": [
       "\u001b[2;36m[01/31/22 13:46:43]\u001b[0m\u001b[2;36m \u001b[0m\u001b[31mWARNING \u001b[0m The class ParametricSurface has been          \u001b]8;id=11632;file://C:\\Users\\thoma\\AppData\\Local\\Programs\\Python\\Python39\\lib\\site-packages\\manim\\utils\\deprecation.py\u001b\\\u001b[2mdeprecation.py\u001b[0m\u001b]8;;\u001b\\\u001b[2m:\u001b[0m\u001b]8;id=999346;file://C:\\Users\\thoma\\AppData\\Local\\Programs\\Python\\Python39\\lib\\site-packages\\manim\\utils\\deprecation.py#210\u001b\\\u001b[2m210\u001b[0m\u001b]8;;\u001b\\\n",
       "                             deprecated since v0.\u001b[32m10.0\u001b[0m and may be removed                     \n",
       "                             in a later version. Use \u001b[1m<\u001b[0m\u001b[1;95mclass\u001b[0m\u001b[39m \u001b[0m                                 \n",
       "                             \u001b[32m'manim.mobject.three_dimensions.Surface'\u001b[0m\u001b[1m>\u001b[0m                       \n",
       "                             instead.                                                        \n"
      ]
     },
     "metadata": {},
     "output_type": "display_data"
    },
    {
     "name": "stderr",
     "output_type": "stream",
     "text": [
      "Animation 1: Rotating(Polygon), etc.:  89%|########8 | 80/90 [04:55<00:36,  3.62s/it]"
     ]
    },
    {
     "data": {
      "text/html": [
       "<pre style=\"white-space:pre;overflow-x:auto;line-height:normal;font-family:Menlo,'DejaVu Sans Mono',consolas,'Courier New',monospace\"><span style=\"color: #7fbfbf; text-decoration-color: #7fbfbf\">[01/31/22 13:46:46] </span><span style=\"color: #800000; text-decoration-color: #800000\">WARNING </span> The class ParametricSurface has been          <a href=\"file://C:\\Users\\thoma\\AppData\\Local\\Programs\\Python\\Python39\\lib\\site-packages\\manim\\utils\\deprecation.py\"><span style=\"color: #7f7f7f; text-decoration-color: #7f7f7f\">deprecation.py</span></a><span style=\"color: #7f7f7f; text-decoration-color: #7f7f7f\">:</span><a href=\"file://C:\\Users\\thoma\\AppData\\Local\\Programs\\Python\\Python39\\lib\\site-packages\\manim\\utils\\deprecation.py#210\"><span style=\"color: #7f7f7f; text-decoration-color: #7f7f7f\">210</span></a>\n",
       "                             deprecated since v0.<span style=\"color: #008000; text-decoration-color: #008000\">10.0</span> and may be removed                     \n",
       "                             in a later version. Use <span style=\"font-weight: bold\">&lt;</span><span style=\"color: #ff00ff; text-decoration-color: #ff00ff; font-weight: bold\">class</span><span style=\"color: #000000; text-decoration-color: #000000\"> </span>                                 \n",
       "                             <span style=\"color: #008000; text-decoration-color: #008000\">'manim.mobject.three_dimensions.Surface'</span><span style=\"font-weight: bold\">&gt;</span>                       \n",
       "                             instead.                                                        \n",
       "</pre>\n"
      ],
      "text/plain": [
       "\u001b[2;36m[01/31/22 13:46:46]\u001b[0m\u001b[2;36m \u001b[0m\u001b[31mWARNING \u001b[0m The class ParametricSurface has been          \u001b]8;id=281668;file://C:\\Users\\thoma\\AppData\\Local\\Programs\\Python\\Python39\\lib\\site-packages\\manim\\utils\\deprecation.py\u001b\\\u001b[2mdeprecation.py\u001b[0m\u001b]8;;\u001b\\\u001b[2m:\u001b[0m\u001b]8;id=174242;file://C:\\Users\\thoma\\AppData\\Local\\Programs\\Python\\Python39\\lib\\site-packages\\manim\\utils\\deprecation.py#210\u001b\\\u001b[2m210\u001b[0m\u001b]8;;\u001b\\\n",
       "                             deprecated since v0.\u001b[32m10.0\u001b[0m and may be removed                     \n",
       "                             in a later version. Use \u001b[1m<\u001b[0m\u001b[1;95mclass\u001b[0m\u001b[39m \u001b[0m                                 \n",
       "                             \u001b[32m'manim.mobject.three_dimensions.Surface'\u001b[0m\u001b[1m>\u001b[0m                       \n",
       "                             instead.                                                        \n"
      ]
     },
     "metadata": {},
     "output_type": "display_data"
    },
    {
     "name": "stderr",
     "output_type": "stream",
     "text": [
      "Animation 1: Rotating(Polygon), etc.:  90%|######### | 81/90 [04:59<00:33,  3.68s/it]"
     ]
    },
    {
     "data": {
      "text/html": [
       "<pre style=\"white-space:pre;overflow-x:auto;line-height:normal;font-family:Menlo,'DejaVu Sans Mono',consolas,'Courier New',monospace\"><span style=\"color: #7fbfbf; text-decoration-color: #7fbfbf\">[01/31/22 13:46:50] </span><span style=\"color: #800000; text-decoration-color: #800000\">WARNING </span> The class ParametricSurface has been          <a href=\"file://C:\\Users\\thoma\\AppData\\Local\\Programs\\Python\\Python39\\lib\\site-packages\\manim\\utils\\deprecation.py\"><span style=\"color: #7f7f7f; text-decoration-color: #7f7f7f\">deprecation.py</span></a><span style=\"color: #7f7f7f; text-decoration-color: #7f7f7f\">:</span><a href=\"file://C:\\Users\\thoma\\AppData\\Local\\Programs\\Python\\Python39\\lib\\site-packages\\manim\\utils\\deprecation.py#210\"><span style=\"color: #7f7f7f; text-decoration-color: #7f7f7f\">210</span></a>\n",
       "                             deprecated since v0.<span style=\"color: #008000; text-decoration-color: #008000\">10.0</span> and may be removed                     \n",
       "                             in a later version. Use <span style=\"font-weight: bold\">&lt;</span><span style=\"color: #ff00ff; text-decoration-color: #ff00ff; font-weight: bold\">class</span><span style=\"color: #000000; text-decoration-color: #000000\"> </span>                                 \n",
       "                             <span style=\"color: #008000; text-decoration-color: #008000\">'manim.mobject.three_dimensions.Surface'</span><span style=\"font-weight: bold\">&gt;</span>                       \n",
       "                             instead.                                                        \n",
       "</pre>\n"
      ],
      "text/plain": [
       "\u001b[2;36m[01/31/22 13:46:50]\u001b[0m\u001b[2;36m \u001b[0m\u001b[31mWARNING \u001b[0m The class ParametricSurface has been          \u001b]8;id=284563;file://C:\\Users\\thoma\\AppData\\Local\\Programs\\Python\\Python39\\lib\\site-packages\\manim\\utils\\deprecation.py\u001b\\\u001b[2mdeprecation.py\u001b[0m\u001b]8;;\u001b\\\u001b[2m:\u001b[0m\u001b]8;id=771033;file://C:\\Users\\thoma\\AppData\\Local\\Programs\\Python\\Python39\\lib\\site-packages\\manim\\utils\\deprecation.py#210\u001b\\\u001b[2m210\u001b[0m\u001b]8;;\u001b\\\n",
       "                             deprecated since v0.\u001b[32m10.0\u001b[0m and may be removed                     \n",
       "                             in a later version. Use \u001b[1m<\u001b[0m\u001b[1;95mclass\u001b[0m\u001b[39m \u001b[0m                                 \n",
       "                             \u001b[32m'manim.mobject.three_dimensions.Surface'\u001b[0m\u001b[1m>\u001b[0m                       \n",
       "                             instead.                                                        \n"
      ]
     },
     "metadata": {},
     "output_type": "display_data"
    },
    {
     "name": "stderr",
     "output_type": "stream",
     "text": [
      "Animation 1: Rotating(Polygon), etc.:  91%|#########1| 82/90 [05:03<00:31,  3.89s/it]"
     ]
    },
    {
     "data": {
      "text/html": [
       "<pre style=\"white-space:pre;overflow-x:auto;line-height:normal;font-family:Menlo,'DejaVu Sans Mono',consolas,'Courier New',monospace\"><span style=\"color: #7fbfbf; text-decoration-color: #7fbfbf\">[01/31/22 13:46:54] </span><span style=\"color: #800000; text-decoration-color: #800000\">WARNING </span> The class ParametricSurface has been          <a href=\"file://C:\\Users\\thoma\\AppData\\Local\\Programs\\Python\\Python39\\lib\\site-packages\\manim\\utils\\deprecation.py\"><span style=\"color: #7f7f7f; text-decoration-color: #7f7f7f\">deprecation.py</span></a><span style=\"color: #7f7f7f; text-decoration-color: #7f7f7f\">:</span><a href=\"file://C:\\Users\\thoma\\AppData\\Local\\Programs\\Python\\Python39\\lib\\site-packages\\manim\\utils\\deprecation.py#210\"><span style=\"color: #7f7f7f; text-decoration-color: #7f7f7f\">210</span></a>\n",
       "                             deprecated since v0.<span style=\"color: #008000; text-decoration-color: #008000\">10.0</span> and may be removed                     \n",
       "                             in a later version. Use <span style=\"font-weight: bold\">&lt;</span><span style=\"color: #ff00ff; text-decoration-color: #ff00ff; font-weight: bold\">class</span><span style=\"color: #000000; text-decoration-color: #000000\"> </span>                                 \n",
       "                             <span style=\"color: #008000; text-decoration-color: #008000\">'manim.mobject.three_dimensions.Surface'</span><span style=\"font-weight: bold\">&gt;</span>                       \n",
       "                             instead.                                                        \n",
       "</pre>\n"
      ],
      "text/plain": [
       "\u001b[2;36m[01/31/22 13:46:54]\u001b[0m\u001b[2;36m \u001b[0m\u001b[31mWARNING \u001b[0m The class ParametricSurface has been          \u001b]8;id=549680;file://C:\\Users\\thoma\\AppData\\Local\\Programs\\Python\\Python39\\lib\\site-packages\\manim\\utils\\deprecation.py\u001b\\\u001b[2mdeprecation.py\u001b[0m\u001b]8;;\u001b\\\u001b[2m:\u001b[0m\u001b]8;id=34620;file://C:\\Users\\thoma\\AppData\\Local\\Programs\\Python\\Python39\\lib\\site-packages\\manim\\utils\\deprecation.py#210\u001b\\\u001b[2m210\u001b[0m\u001b]8;;\u001b\\\n",
       "                             deprecated since v0.\u001b[32m10.0\u001b[0m and may be removed                     \n",
       "                             in a later version. Use \u001b[1m<\u001b[0m\u001b[1;95mclass\u001b[0m\u001b[39m \u001b[0m                                 \n",
       "                             \u001b[32m'manim.mobject.three_dimensions.Surface'\u001b[0m\u001b[1m>\u001b[0m                       \n",
       "                             instead.                                                        \n"
      ]
     },
     "metadata": {},
     "output_type": "display_data"
    },
    {
     "name": "stderr",
     "output_type": "stream",
     "text": [
      "Animation 1: Rotating(Polygon), etc.:  92%|#########2| 83/90 [05:09<00:31,  4.47s/it]"
     ]
    },
    {
     "data": {
      "text/html": [
       "<pre style=\"white-space:pre;overflow-x:auto;line-height:normal;font-family:Menlo,'DejaVu Sans Mono',consolas,'Courier New',monospace\"><span style=\"color: #7fbfbf; text-decoration-color: #7fbfbf\">[01/31/22 13:47:00] </span><span style=\"color: #800000; text-decoration-color: #800000\">WARNING </span> The class ParametricSurface has been          <a href=\"file://C:\\Users\\thoma\\AppData\\Local\\Programs\\Python\\Python39\\lib\\site-packages\\manim\\utils\\deprecation.py\"><span style=\"color: #7f7f7f; text-decoration-color: #7f7f7f\">deprecation.py</span></a><span style=\"color: #7f7f7f; text-decoration-color: #7f7f7f\">:</span><a href=\"file://C:\\Users\\thoma\\AppData\\Local\\Programs\\Python\\Python39\\lib\\site-packages\\manim\\utils\\deprecation.py#210\"><span style=\"color: #7f7f7f; text-decoration-color: #7f7f7f\">210</span></a>\n",
       "                             deprecated since v0.<span style=\"color: #008000; text-decoration-color: #008000\">10.0</span> and may be removed                     \n",
       "                             in a later version. Use <span style=\"font-weight: bold\">&lt;</span><span style=\"color: #ff00ff; text-decoration-color: #ff00ff; font-weight: bold\">class</span><span style=\"color: #000000; text-decoration-color: #000000\"> </span>                                 \n",
       "                             <span style=\"color: #008000; text-decoration-color: #008000\">'manim.mobject.three_dimensions.Surface'</span><span style=\"font-weight: bold\">&gt;</span>                       \n",
       "                             instead.                                                        \n",
       "</pre>\n"
      ],
      "text/plain": [
       "\u001b[2;36m[01/31/22 13:47:00]\u001b[0m\u001b[2;36m \u001b[0m\u001b[31mWARNING \u001b[0m The class ParametricSurface has been          \u001b]8;id=631238;file://C:\\Users\\thoma\\AppData\\Local\\Programs\\Python\\Python39\\lib\\site-packages\\manim\\utils\\deprecation.py\u001b\\\u001b[2mdeprecation.py\u001b[0m\u001b]8;;\u001b\\\u001b[2m:\u001b[0m\u001b]8;id=972202;file://C:\\Users\\thoma\\AppData\\Local\\Programs\\Python\\Python39\\lib\\site-packages\\manim\\utils\\deprecation.py#210\u001b\\\u001b[2m210\u001b[0m\u001b]8;;\u001b\\\n",
       "                             deprecated since v0.\u001b[32m10.0\u001b[0m and may be removed                     \n",
       "                             in a later version. Use \u001b[1m<\u001b[0m\u001b[1;95mclass\u001b[0m\u001b[39m \u001b[0m                                 \n",
       "                             \u001b[32m'manim.mobject.three_dimensions.Surface'\u001b[0m\u001b[1m>\u001b[0m                       \n",
       "                             instead.                                                        \n"
      ]
     },
     "metadata": {},
     "output_type": "display_data"
    },
    {
     "name": "stderr",
     "output_type": "stream",
     "text": [
      "Animation 1: Rotating(Polygon), etc.:  93%|#########3| 84/90 [05:13<00:25,  4.23s/it]"
     ]
    },
    {
     "data": {
      "text/html": [
       "<pre style=\"white-space:pre;overflow-x:auto;line-height:normal;font-family:Menlo,'DejaVu Sans Mono',consolas,'Courier New',monospace\"><span style=\"color: #7fbfbf; text-decoration-color: #7fbfbf\">[01/31/22 13:47:04] </span><span style=\"color: #800000; text-decoration-color: #800000\">WARNING </span> The class ParametricSurface has been          <a href=\"file://C:\\Users\\thoma\\AppData\\Local\\Programs\\Python\\Python39\\lib\\site-packages\\manim\\utils\\deprecation.py\"><span style=\"color: #7f7f7f; text-decoration-color: #7f7f7f\">deprecation.py</span></a><span style=\"color: #7f7f7f; text-decoration-color: #7f7f7f\">:</span><a href=\"file://C:\\Users\\thoma\\AppData\\Local\\Programs\\Python\\Python39\\lib\\site-packages\\manim\\utils\\deprecation.py#210\"><span style=\"color: #7f7f7f; text-decoration-color: #7f7f7f\">210</span></a>\n",
       "                             deprecated since v0.<span style=\"color: #008000; text-decoration-color: #008000\">10.0</span> and may be removed                     \n",
       "                             in a later version. Use <span style=\"font-weight: bold\">&lt;</span><span style=\"color: #ff00ff; text-decoration-color: #ff00ff; font-weight: bold\">class</span><span style=\"color: #000000; text-decoration-color: #000000\"> </span>                                 \n",
       "                             <span style=\"color: #008000; text-decoration-color: #008000\">'manim.mobject.three_dimensions.Surface'</span><span style=\"font-weight: bold\">&gt;</span>                       \n",
       "                             instead.                                                        \n",
       "</pre>\n"
      ],
      "text/plain": [
       "\u001b[2;36m[01/31/22 13:47:04]\u001b[0m\u001b[2;36m \u001b[0m\u001b[31mWARNING \u001b[0m The class ParametricSurface has been          \u001b]8;id=126545;file://C:\\Users\\thoma\\AppData\\Local\\Programs\\Python\\Python39\\lib\\site-packages\\manim\\utils\\deprecation.py\u001b\\\u001b[2mdeprecation.py\u001b[0m\u001b]8;;\u001b\\\u001b[2m:\u001b[0m\u001b]8;id=119662;file://C:\\Users\\thoma\\AppData\\Local\\Programs\\Python\\Python39\\lib\\site-packages\\manim\\utils\\deprecation.py#210\u001b\\\u001b[2m210\u001b[0m\u001b]8;;\u001b\\\n",
       "                             deprecated since v0.\u001b[32m10.0\u001b[0m and may be removed                     \n",
       "                             in a later version. Use \u001b[1m<\u001b[0m\u001b[1;95mclass\u001b[0m\u001b[39m \u001b[0m                                 \n",
       "                             \u001b[32m'manim.mobject.three_dimensions.Surface'\u001b[0m\u001b[1m>\u001b[0m                       \n",
       "                             instead.                                                        \n"
      ]
     },
     "metadata": {},
     "output_type": "display_data"
    },
    {
     "name": "stderr",
     "output_type": "stream",
     "text": [
      "Animation 1: Rotating(Polygon), etc.:  94%|#########4| 85/90 [05:17<00:20,  4.15s/it]"
     ]
    },
    {
     "data": {
      "text/html": [
       "<pre style=\"white-space:pre;overflow-x:auto;line-height:normal;font-family:Menlo,'DejaVu Sans Mono',consolas,'Courier New',monospace\"><span style=\"color: #7fbfbf; text-decoration-color: #7fbfbf\">[01/31/22 13:47:08] </span><span style=\"color: #800000; text-decoration-color: #800000\">WARNING </span> The class ParametricSurface has been          <a href=\"file://C:\\Users\\thoma\\AppData\\Local\\Programs\\Python\\Python39\\lib\\site-packages\\manim\\utils\\deprecation.py\"><span style=\"color: #7f7f7f; text-decoration-color: #7f7f7f\">deprecation.py</span></a><span style=\"color: #7f7f7f; text-decoration-color: #7f7f7f\">:</span><a href=\"file://C:\\Users\\thoma\\AppData\\Local\\Programs\\Python\\Python39\\lib\\site-packages\\manim\\utils\\deprecation.py#210\"><span style=\"color: #7f7f7f; text-decoration-color: #7f7f7f\">210</span></a>\n",
       "                             deprecated since v0.<span style=\"color: #008000; text-decoration-color: #008000\">10.0</span> and may be removed                     \n",
       "                             in a later version. Use <span style=\"font-weight: bold\">&lt;</span><span style=\"color: #ff00ff; text-decoration-color: #ff00ff; font-weight: bold\">class</span><span style=\"color: #000000; text-decoration-color: #000000\"> </span>                                 \n",
       "                             <span style=\"color: #008000; text-decoration-color: #008000\">'manim.mobject.three_dimensions.Surface'</span><span style=\"font-weight: bold\">&gt;</span>                       \n",
       "                             instead.                                                        \n",
       "</pre>\n"
      ],
      "text/plain": [
       "\u001b[2;36m[01/31/22 13:47:08]\u001b[0m\u001b[2;36m \u001b[0m\u001b[31mWARNING \u001b[0m The class ParametricSurface has been          \u001b]8;id=204763;file://C:\\Users\\thoma\\AppData\\Local\\Programs\\Python\\Python39\\lib\\site-packages\\manim\\utils\\deprecation.py\u001b\\\u001b[2mdeprecation.py\u001b[0m\u001b]8;;\u001b\\\u001b[2m:\u001b[0m\u001b]8;id=381830;file://C:\\Users\\thoma\\AppData\\Local\\Programs\\Python\\Python39\\lib\\site-packages\\manim\\utils\\deprecation.py#210\u001b\\\u001b[2m210\u001b[0m\u001b]8;;\u001b\\\n",
       "                             deprecated since v0.\u001b[32m10.0\u001b[0m and may be removed                     \n",
       "                             in a later version. Use \u001b[1m<\u001b[0m\u001b[1;95mclass\u001b[0m\u001b[39m \u001b[0m                                 \n",
       "                             \u001b[32m'manim.mobject.three_dimensions.Surface'\u001b[0m\u001b[1m>\u001b[0m                       \n",
       "                             instead.                                                        \n"
      ]
     },
     "metadata": {},
     "output_type": "display_data"
    },
    {
     "name": "stderr",
     "output_type": "stream",
     "text": [
      "Animation 1: Rotating(Polygon), etc.:  96%|#########5| 86/90 [05:21<00:16,  4.24s/it]"
     ]
    },
    {
     "data": {
      "text/html": [
       "<pre style=\"white-space:pre;overflow-x:auto;line-height:normal;font-family:Menlo,'DejaVu Sans Mono',consolas,'Courier New',monospace\"><span style=\"color: #7fbfbf; text-decoration-color: #7fbfbf\">[01/31/22 13:47:12] </span><span style=\"color: #800000; text-decoration-color: #800000\">WARNING </span> The class ParametricSurface has been          <a href=\"file://C:\\Users\\thoma\\AppData\\Local\\Programs\\Python\\Python39\\lib\\site-packages\\manim\\utils\\deprecation.py\"><span style=\"color: #7f7f7f; text-decoration-color: #7f7f7f\">deprecation.py</span></a><span style=\"color: #7f7f7f; text-decoration-color: #7f7f7f\">:</span><a href=\"file://C:\\Users\\thoma\\AppData\\Local\\Programs\\Python\\Python39\\lib\\site-packages\\manim\\utils\\deprecation.py#210\"><span style=\"color: #7f7f7f; text-decoration-color: #7f7f7f\">210</span></a>\n",
       "                             deprecated since v0.<span style=\"color: #008000; text-decoration-color: #008000\">10.0</span> and may be removed                     \n",
       "                             in a later version. Use <span style=\"font-weight: bold\">&lt;</span><span style=\"color: #ff00ff; text-decoration-color: #ff00ff; font-weight: bold\">class</span><span style=\"color: #000000; text-decoration-color: #000000\"> </span>                                 \n",
       "                             <span style=\"color: #008000; text-decoration-color: #008000\">'manim.mobject.three_dimensions.Surface'</span><span style=\"font-weight: bold\">&gt;</span>                       \n",
       "                             instead.                                                        \n",
       "</pre>\n"
      ],
      "text/plain": [
       "\u001b[2;36m[01/31/22 13:47:12]\u001b[0m\u001b[2;36m \u001b[0m\u001b[31mWARNING \u001b[0m The class ParametricSurface has been          \u001b]8;id=493464;file://C:\\Users\\thoma\\AppData\\Local\\Programs\\Python\\Python39\\lib\\site-packages\\manim\\utils\\deprecation.py\u001b\\\u001b[2mdeprecation.py\u001b[0m\u001b]8;;\u001b\\\u001b[2m:\u001b[0m\u001b]8;id=434148;file://C:\\Users\\thoma\\AppData\\Local\\Programs\\Python\\Python39\\lib\\site-packages\\manim\\utils\\deprecation.py#210\u001b\\\u001b[2m210\u001b[0m\u001b]8;;\u001b\\\n",
       "                             deprecated since v0.\u001b[32m10.0\u001b[0m and may be removed                     \n",
       "                             in a later version. Use \u001b[1m<\u001b[0m\u001b[1;95mclass\u001b[0m\u001b[39m \u001b[0m                                 \n",
       "                             \u001b[32m'manim.mobject.three_dimensions.Surface'\u001b[0m\u001b[1m>\u001b[0m                       \n",
       "                             instead.                                                        \n"
      ]
     },
     "metadata": {},
     "output_type": "display_data"
    },
    {
     "name": "stderr",
     "output_type": "stream",
     "text": [
      "Animation 1: Rotating(Polygon), etc.:  97%|#########6| 87/90 [05:25<00:11,  3.98s/it]"
     ]
    },
    {
     "data": {
      "text/html": [
       "<pre style=\"white-space:pre;overflow-x:auto;line-height:normal;font-family:Menlo,'DejaVu Sans Mono',consolas,'Courier New',monospace\"><span style=\"color: #7fbfbf; text-decoration-color: #7fbfbf\">[01/31/22 13:47:16] </span><span style=\"color: #800000; text-decoration-color: #800000\">WARNING </span> The class ParametricSurface has been          <a href=\"file://C:\\Users\\thoma\\AppData\\Local\\Programs\\Python\\Python39\\lib\\site-packages\\manim\\utils\\deprecation.py\"><span style=\"color: #7f7f7f; text-decoration-color: #7f7f7f\">deprecation.py</span></a><span style=\"color: #7f7f7f; text-decoration-color: #7f7f7f\">:</span><a href=\"file://C:\\Users\\thoma\\AppData\\Local\\Programs\\Python\\Python39\\lib\\site-packages\\manim\\utils\\deprecation.py#210\"><span style=\"color: #7f7f7f; text-decoration-color: #7f7f7f\">210</span></a>\n",
       "                             deprecated since v0.<span style=\"color: #008000; text-decoration-color: #008000\">10.0</span> and may be removed                     \n",
       "                             in a later version. Use <span style=\"font-weight: bold\">&lt;</span><span style=\"color: #ff00ff; text-decoration-color: #ff00ff; font-weight: bold\">class</span><span style=\"color: #000000; text-decoration-color: #000000\"> </span>                                 \n",
       "                             <span style=\"color: #008000; text-decoration-color: #008000\">'manim.mobject.three_dimensions.Surface'</span><span style=\"font-weight: bold\">&gt;</span>                       \n",
       "                             instead.                                                        \n",
       "</pre>\n"
      ],
      "text/plain": [
       "\u001b[2;36m[01/31/22 13:47:16]\u001b[0m\u001b[2;36m \u001b[0m\u001b[31mWARNING \u001b[0m The class ParametricSurface has been          \u001b]8;id=62608;file://C:\\Users\\thoma\\AppData\\Local\\Programs\\Python\\Python39\\lib\\site-packages\\manim\\utils\\deprecation.py\u001b\\\u001b[2mdeprecation.py\u001b[0m\u001b]8;;\u001b\\\u001b[2m:\u001b[0m\u001b]8;id=378319;file://C:\\Users\\thoma\\AppData\\Local\\Programs\\Python\\Python39\\lib\\site-packages\\manim\\utils\\deprecation.py#210\u001b\\\u001b[2m210\u001b[0m\u001b]8;;\u001b\\\n",
       "                             deprecated since v0.\u001b[32m10.0\u001b[0m and may be removed                     \n",
       "                             in a later version. Use \u001b[1m<\u001b[0m\u001b[1;95mclass\u001b[0m\u001b[39m \u001b[0m                                 \n",
       "                             \u001b[32m'manim.mobject.three_dimensions.Surface'\u001b[0m\u001b[1m>\u001b[0m                       \n",
       "                             instead.                                                        \n"
      ]
     },
     "metadata": {},
     "output_type": "display_data"
    },
    {
     "name": "stderr",
     "output_type": "stream",
     "text": [
      "Animation 1: Rotating(Polygon), etc.:  98%|#########7| 88/90 [05:28<00:07,  3.74s/it]"
     ]
    },
    {
     "data": {
      "text/html": [
       "<pre style=\"white-space:pre;overflow-x:auto;line-height:normal;font-family:Menlo,'DejaVu Sans Mono',consolas,'Courier New',monospace\"><span style=\"color: #7fbfbf; text-decoration-color: #7fbfbf\">[01/31/22 13:47:19] </span><span style=\"color: #800000; text-decoration-color: #800000\">WARNING </span> The class ParametricSurface has been          <a href=\"file://C:\\Users\\thoma\\AppData\\Local\\Programs\\Python\\Python39\\lib\\site-packages\\manim\\utils\\deprecation.py\"><span style=\"color: #7f7f7f; text-decoration-color: #7f7f7f\">deprecation.py</span></a><span style=\"color: #7f7f7f; text-decoration-color: #7f7f7f\">:</span><a href=\"file://C:\\Users\\thoma\\AppData\\Local\\Programs\\Python\\Python39\\lib\\site-packages\\manim\\utils\\deprecation.py#210\"><span style=\"color: #7f7f7f; text-decoration-color: #7f7f7f\">210</span></a>\n",
       "                             deprecated since v0.<span style=\"color: #008000; text-decoration-color: #008000\">10.0</span> and may be removed                     \n",
       "                             in a later version. Use <span style=\"font-weight: bold\">&lt;</span><span style=\"color: #ff00ff; text-decoration-color: #ff00ff; font-weight: bold\">class</span><span style=\"color: #000000; text-decoration-color: #000000\"> </span>                                 \n",
       "                             <span style=\"color: #008000; text-decoration-color: #008000\">'manim.mobject.three_dimensions.Surface'</span><span style=\"font-weight: bold\">&gt;</span>                       \n",
       "                             instead.                                                        \n",
       "</pre>\n"
      ],
      "text/plain": [
       "\u001b[2;36m[01/31/22 13:47:19]\u001b[0m\u001b[2;36m \u001b[0m\u001b[31mWARNING \u001b[0m The class ParametricSurface has been          \u001b]8;id=601754;file://C:\\Users\\thoma\\AppData\\Local\\Programs\\Python\\Python39\\lib\\site-packages\\manim\\utils\\deprecation.py\u001b\\\u001b[2mdeprecation.py\u001b[0m\u001b]8;;\u001b\\\u001b[2m:\u001b[0m\u001b]8;id=315080;file://C:\\Users\\thoma\\AppData\\Local\\Programs\\Python\\Python39\\lib\\site-packages\\manim\\utils\\deprecation.py#210\u001b\\\u001b[2m210\u001b[0m\u001b]8;;\u001b\\\n",
       "                             deprecated since v0.\u001b[32m10.0\u001b[0m and may be removed                     \n",
       "                             in a later version. Use \u001b[1m<\u001b[0m\u001b[1;95mclass\u001b[0m\u001b[39m \u001b[0m                                 \n",
       "                             \u001b[32m'manim.mobject.three_dimensions.Surface'\u001b[0m\u001b[1m>\u001b[0m                       \n",
       "                             instead.                                                        \n"
      ]
     },
     "metadata": {},
     "output_type": "display_data"
    },
    {
     "name": "stderr",
     "output_type": "stream",
     "text": [
      "Animation 1: Rotating(Polygon), etc.:  99%|#########8| 89/90 [05:31<00:03,  3.66s/it]"
     ]
    },
    {
     "data": {
      "text/html": [
       "<pre style=\"white-space:pre;overflow-x:auto;line-height:normal;font-family:Menlo,'DejaVu Sans Mono',consolas,'Courier New',monospace\"><span style=\"color: #7fbfbf; text-decoration-color: #7fbfbf\">[01/31/22 13:47:22] </span><span style=\"color: #800000; text-decoration-color: #800000\">WARNING </span> The class ParametricSurface has been          <a href=\"file://C:\\Users\\thoma\\AppData\\Local\\Programs\\Python\\Python39\\lib\\site-packages\\manim\\utils\\deprecation.py\"><span style=\"color: #7f7f7f; text-decoration-color: #7f7f7f\">deprecation.py</span></a><span style=\"color: #7f7f7f; text-decoration-color: #7f7f7f\">:</span><a href=\"file://C:\\Users\\thoma\\AppData\\Local\\Programs\\Python\\Python39\\lib\\site-packages\\manim\\utils\\deprecation.py#210\"><span style=\"color: #7f7f7f; text-decoration-color: #7f7f7f\">210</span></a>\n",
       "                             deprecated since v0.<span style=\"color: #008000; text-decoration-color: #008000\">10.0</span> and may be removed                     \n",
       "                             in a later version. Use <span style=\"font-weight: bold\">&lt;</span><span style=\"color: #ff00ff; text-decoration-color: #ff00ff; font-weight: bold\">class</span><span style=\"color: #000000; text-decoration-color: #000000\"> </span>                                 \n",
       "                             <span style=\"color: #008000; text-decoration-color: #008000\">'manim.mobject.three_dimensions.Surface'</span><span style=\"font-weight: bold\">&gt;</span>                       \n",
       "                             instead.                                                        \n",
       "</pre>\n"
      ],
      "text/plain": [
       "\u001b[2;36m[01/31/22 13:47:22]\u001b[0m\u001b[2;36m \u001b[0m\u001b[31mWARNING \u001b[0m The class ParametricSurface has been          \u001b]8;id=212866;file://C:\\Users\\thoma\\AppData\\Local\\Programs\\Python\\Python39\\lib\\site-packages\\manim\\utils\\deprecation.py\u001b\\\u001b[2mdeprecation.py\u001b[0m\u001b]8;;\u001b\\\u001b[2m:\u001b[0m\u001b]8;id=757616;file://C:\\Users\\thoma\\AppData\\Local\\Programs\\Python\\Python39\\lib\\site-packages\\manim\\utils\\deprecation.py#210\u001b\\\u001b[2m210\u001b[0m\u001b]8;;\u001b\\\n",
       "                             deprecated since v0.\u001b[32m10.0\u001b[0m and may be removed                     \n",
       "                             in a later version. Use \u001b[1m<\u001b[0m\u001b[1;95mclass\u001b[0m\u001b[39m \u001b[0m                                 \n",
       "                             \u001b[32m'manim.mobject.three_dimensions.Surface'\u001b[0m\u001b[1m>\u001b[0m                       \n",
       "                             instead.                                                        \n"
      ]
     },
     "metadata": {},
     "output_type": "display_data"
    },
    {
     "name": "stderr",
     "output_type": "stream",
     "text": [
      "                                                                                     \r"
     ]
    },
    {
     "data": {
      "text/html": [
       "<pre style=\"white-space:pre;overflow-x:auto;line-height:normal;font-family:Menlo,'DejaVu Sans Mono',consolas,'Courier New',monospace\"><span style=\"color: #7fbfbf; text-decoration-color: #7fbfbf\">[01/31/22 13:47:27] </span><span style=\"color: #800000; text-decoration-color: #800000\">WARNING </span> The class ParametricSurface has been          <a href=\"file://C:\\Users\\thoma\\AppData\\Local\\Programs\\Python\\Python39\\lib\\site-packages\\manim\\utils\\deprecation.py\"><span style=\"color: #7f7f7f; text-decoration-color: #7f7f7f\">deprecation.py</span></a><span style=\"color: #7f7f7f; text-decoration-color: #7f7f7f\">:</span><a href=\"file://C:\\Users\\thoma\\AppData\\Local\\Programs\\Python\\Python39\\lib\\site-packages\\manim\\utils\\deprecation.py#210\"><span style=\"color: #7f7f7f; text-decoration-color: #7f7f7f\">210</span></a>\n",
       "                             deprecated since v0.<span style=\"color: #008000; text-decoration-color: #008000\">10.0</span> and may be removed                     \n",
       "                             in a later version. Use <span style=\"font-weight: bold\">&lt;</span><span style=\"color: #ff00ff; text-decoration-color: #ff00ff; font-weight: bold\">class</span><span style=\"color: #000000; text-decoration-color: #000000\"> </span>                                 \n",
       "                             <span style=\"color: #008000; text-decoration-color: #008000\">'manim.mobject.three_dimensions.Surface'</span><span style=\"font-weight: bold\">&gt;</span>                       \n",
       "                             instead.                                                        \n",
       "</pre>\n"
      ],
      "text/plain": [
       "\u001b[2;36m[01/31/22 13:47:27]\u001b[0m\u001b[2;36m \u001b[0m\u001b[31mWARNING \u001b[0m The class ParametricSurface has been          \u001b]8;id=723119;file://C:\\Users\\thoma\\AppData\\Local\\Programs\\Python\\Python39\\lib\\site-packages\\manim\\utils\\deprecation.py\u001b\\\u001b[2mdeprecation.py\u001b[0m\u001b]8;;\u001b\\\u001b[2m:\u001b[0m\u001b]8;id=318113;file://C:\\Users\\thoma\\AppData\\Local\\Programs\\Python\\Python39\\lib\\site-packages\\manim\\utils\\deprecation.py#210\u001b\\\u001b[2m210\u001b[0m\u001b]8;;\u001b\\\n",
       "                             deprecated since v0.\u001b[32m10.0\u001b[0m and may be removed                     \n",
       "                             in a later version. Use \u001b[1m<\u001b[0m\u001b[1;95mclass\u001b[0m\u001b[39m \u001b[0m                                 \n",
       "                             \u001b[32m'manim.mobject.three_dimensions.Surface'\u001b[0m\u001b[1m>\u001b[0m                       \n",
       "                             instead.                                                        \n"
      ]
     },
     "metadata": {},
     "output_type": "display_data"
    },
    {
     "data": {
      "text/html": [
       "<pre style=\"white-space:pre;overflow-x:auto;line-height:normal;font-family:Menlo,'DejaVu Sans Mono',consolas,'Courier New',monospace\"><span style=\"color: #7fbfbf; text-decoration-color: #7fbfbf\">[01/31/22 13:47:29] </span><span style=\"color: #008000; text-decoration-color: #008000\">INFO    </span> Animation <span style=\"color: #008000; text-decoration-color: #008000\">1</span> : Partial movie file        <a href=\"file://C:\\Users\\thoma\\AppData\\Local\\Programs\\Python\\Python39\\lib\\site-packages\\manim\\scene\\scene_file_writer.py\"><span style=\"color: #7f7f7f; text-decoration-color: #7f7f7f\">scene_file_writer.py</span></a><span style=\"color: #7f7f7f; text-decoration-color: #7f7f7f\">:</span><a href=\"file://C:\\Users\\thoma\\AppData\\Local\\Programs\\Python\\Python39\\lib\\site-packages\\manim\\scene\\scene_file_writer.py#514\"><span style=\"color: #7f7f7f; text-decoration-color: #7f7f7f\">514</span></a>\n",
       "                             written in <span style=\"color: #008000; text-decoration-color: #008000\">'c:\\Users\\thoma\\Desktop\\Apre</span>                         \n",
       "                             <span style=\"color: #008000; text-decoration-color: #008000\">ndizado\\Manim\\media\\videos\\Manim\\480p15</span>                         \n",
       "                             <span style=\"color: #008000; text-decoration-color: #008000\">\\partial_movie_files\\Tute3\\3824940854_2</span>                         \n",
       "                             <span style=\"color: #008000; text-decoration-color: #008000\">477608759_3063406610.mp4'</span>                                       \n",
       "</pre>\n"
      ],
      "text/plain": [
       "\u001b[2;36m[01/31/22 13:47:29]\u001b[0m\u001b[2;36m \u001b[0m\u001b[32mINFO    \u001b[0m Animation \u001b[32m1\u001b[0m : Partial movie file        \u001b]8;id=54650;file://C:\\Users\\thoma\\AppData\\Local\\Programs\\Python\\Python39\\lib\\site-packages\\manim\\scene\\scene_file_writer.py\u001b\\\u001b[2mscene_file_writer.py\u001b[0m\u001b]8;;\u001b\\\u001b[2m:\u001b[0m\u001b]8;id=862923;file://C:\\Users\\thoma\\AppData\\Local\\Programs\\Python\\Python39\\lib\\site-packages\\manim\\scene\\scene_file_writer.py#514\u001b\\\u001b[2m514\u001b[0m\u001b]8;;\u001b\\\n",
       "                             written in \u001b[32m'c:\\Users\\thoma\\Desktop\\Apre\u001b[0m                         \n",
       "                             \u001b[32mndizado\\Manim\\media\\videos\\Manim\\480p15\u001b[0m                         \n",
       "                             \u001b[32m\\partial_movie_files\\Tute3\\3824940854_2\u001b[0m                         \n",
       "                             \u001b[32m477608759_3063406610.mp4'\u001b[0m                                       \n"
      ]
     },
     "metadata": {},
     "output_type": "display_data"
    },
    {
     "data": {
      "text/html": [
       "<pre style=\"white-space:pre;overflow-x:auto;line-height:normal;font-family:Menlo,'DejaVu Sans Mono',consolas,'Courier New',monospace\"><span style=\"color: #7fbfbf; text-decoration-color: #7fbfbf\">                    </span><span style=\"color: #800000; text-decoration-color: #800000\">WARNING </span> The class ParametricSurface has been          <a href=\"file://C:\\Users\\thoma\\AppData\\Local\\Programs\\Python\\Python39\\lib\\site-packages\\manim\\utils\\deprecation.py\"><span style=\"color: #7f7f7f; text-decoration-color: #7f7f7f\">deprecation.py</span></a><span style=\"color: #7f7f7f; text-decoration-color: #7f7f7f\">:</span><a href=\"file://C:\\Users\\thoma\\AppData\\Local\\Programs\\Python\\Python39\\lib\\site-packages\\manim\\utils\\deprecation.py#210\"><span style=\"color: #7f7f7f; text-decoration-color: #7f7f7f\">210</span></a>\n",
       "                             deprecated since v0.<span style=\"color: #008000; text-decoration-color: #008000\">10.0</span> and may be removed                     \n",
       "                             in a later version. Use <span style=\"font-weight: bold\">&lt;</span><span style=\"color: #ff00ff; text-decoration-color: #ff00ff; font-weight: bold\">class</span><span style=\"color: #000000; text-decoration-color: #000000\"> </span>                                 \n",
       "                             <span style=\"color: #008000; text-decoration-color: #008000\">'manim.mobject.three_dimensions.Surface'</span><span style=\"font-weight: bold\">&gt;</span>                       \n",
       "                             instead.                                                        \n",
       "</pre>\n"
      ],
      "text/plain": [
       "\u001b[2;36m                   \u001b[0m\u001b[2;36m \u001b[0m\u001b[31mWARNING \u001b[0m The class ParametricSurface has been          \u001b]8;id=237291;file://C:\\Users\\thoma\\AppData\\Local\\Programs\\Python\\Python39\\lib\\site-packages\\manim\\utils\\deprecation.py\u001b\\\u001b[2mdeprecation.py\u001b[0m\u001b]8;;\u001b\\\u001b[2m:\u001b[0m\u001b]8;id=148600;file://C:\\Users\\thoma\\AppData\\Local\\Programs\\Python\\Python39\\lib\\site-packages\\manim\\utils\\deprecation.py#210\u001b\\\u001b[2m210\u001b[0m\u001b]8;;\u001b\\\n",
       "                             deprecated since v0.\u001b[32m10.0\u001b[0m and may be removed                     \n",
       "                             in a later version. Use \u001b[1m<\u001b[0m\u001b[1;95mclass\u001b[0m\u001b[39m \u001b[0m                                 \n",
       "                             \u001b[32m'manim.mobject.three_dimensions.Surface'\u001b[0m\u001b[1m>\u001b[0m                       \n",
       "                             instead.                                                        \n"
      ]
     },
     "metadata": {},
     "output_type": "display_data"
    },
    {
     "data": {
      "text/html": [
       "<pre style=\"white-space:pre;overflow-x:auto;line-height:normal;font-family:Menlo,'DejaVu Sans Mono',consolas,'Courier New',monospace\"><span style=\"color: #7fbfbf; text-decoration-color: #7fbfbf\">[01/31/22 13:47:35] </span><span style=\"color: #008000; text-decoration-color: #008000\">INFO    </span> Animation <span style=\"color: #008000; text-decoration-color: #008000\">2</span> : Partial movie file        <a href=\"file://C:\\Users\\thoma\\AppData\\Local\\Programs\\Python\\Python39\\lib\\site-packages\\manim\\scene\\scene_file_writer.py\"><span style=\"color: #7f7f7f; text-decoration-color: #7f7f7f\">scene_file_writer.py</span></a><span style=\"color: #7f7f7f; text-decoration-color: #7f7f7f\">:</span><a href=\"file://C:\\Users\\thoma\\AppData\\Local\\Programs\\Python\\Python39\\lib\\site-packages\\manim\\scene\\scene_file_writer.py#514\"><span style=\"color: #7f7f7f; text-decoration-color: #7f7f7f\">514</span></a>\n",
       "                             written in <span style=\"color: #008000; text-decoration-color: #008000\">'c:\\Users\\thoma\\Desktop\\Apre</span>                         \n",
       "                             <span style=\"color: #008000; text-decoration-color: #008000\">ndizado\\Manim\\media\\videos\\Manim\\480p15</span>                         \n",
       "                             <span style=\"color: #008000; text-decoration-color: #008000\">\\partial_movie_files\\Tute3\\3498865341_3</span>                         \n",
       "                             <span style=\"color: #008000; text-decoration-color: #008000\">493041802_2632488312.mp4'</span>                                       \n",
       "</pre>\n"
      ],
      "text/plain": [
       "\u001b[2;36m[01/31/22 13:47:35]\u001b[0m\u001b[2;36m \u001b[0m\u001b[32mINFO    \u001b[0m Animation \u001b[32m2\u001b[0m : Partial movie file        \u001b]8;id=466488;file://C:\\Users\\thoma\\AppData\\Local\\Programs\\Python\\Python39\\lib\\site-packages\\manim\\scene\\scene_file_writer.py\u001b\\\u001b[2mscene_file_writer.py\u001b[0m\u001b]8;;\u001b\\\u001b[2m:\u001b[0m\u001b]8;id=878431;file://C:\\Users\\thoma\\AppData\\Local\\Programs\\Python\\Python39\\lib\\site-packages\\manim\\scene\\scene_file_writer.py#514\u001b\\\u001b[2m514\u001b[0m\u001b]8;;\u001b\\\n",
       "                             written in \u001b[32m'c:\\Users\\thoma\\Desktop\\Apre\u001b[0m                         \n",
       "                             \u001b[32mndizado\\Manim\\media\\videos\\Manim\\480p15\u001b[0m                         \n",
       "                             \u001b[32m\\partial_movie_files\\Tute3\\3498865341_3\u001b[0m                         \n",
       "                             \u001b[32m493041802_2632488312.mp4'\u001b[0m                                       \n"
      ]
     },
     "metadata": {},
     "output_type": "display_data"
    },
    {
     "data": {
      "text/html": [
       "<pre style=\"white-space:pre;overflow-x:auto;line-height:normal;font-family:Menlo,'DejaVu Sans Mono',consolas,'Courier New',monospace\"><span style=\"color: #7fbfbf; text-decoration-color: #7fbfbf\">                    </span><span style=\"color: #008000; text-decoration-color: #008000\">INFO    </span> Combining to Movie file.                <a href=\"file://C:\\Users\\thoma\\AppData\\Local\\Programs\\Python\\Python39\\lib\\site-packages\\manim\\scene\\scene_file_writer.py\"><span style=\"color: #7f7f7f; text-decoration-color: #7f7f7f\">scene_file_writer.py</span></a><span style=\"color: #7f7f7f; text-decoration-color: #7f7f7f\">:</span><a href=\"file://C:\\Users\\thoma\\AppData\\Local\\Programs\\Python\\Python39\\lib\\site-packages\\manim\\scene\\scene_file_writer.py#608\"><span style=\"color: #7f7f7f; text-decoration-color: #7f7f7f\">608</span></a>\n",
       "</pre>\n"
      ],
      "text/plain": [
       "\u001b[2;36m                   \u001b[0m\u001b[2;36m \u001b[0m\u001b[32mINFO    \u001b[0m Combining to Movie file.                \u001b]8;id=450025;file://C:\\Users\\thoma\\AppData\\Local\\Programs\\Python\\Python39\\lib\\site-packages\\manim\\scene\\scene_file_writer.py\u001b\\\u001b[2mscene_file_writer.py\u001b[0m\u001b]8;;\u001b\\\u001b[2m:\u001b[0m\u001b]8;id=504047;file://C:\\Users\\thoma\\AppData\\Local\\Programs\\Python\\Python39\\lib\\site-packages\\manim\\scene\\scene_file_writer.py#608\u001b\\\u001b[2m608\u001b[0m\u001b]8;;\u001b\\\n"
      ]
     },
     "metadata": {},
     "output_type": "display_data"
    },
    {
     "data": {
      "text/html": [
       "<pre style=\"white-space:pre;overflow-x:auto;line-height:normal;font-family:Menlo,'DejaVu Sans Mono',consolas,'Courier New',monospace\"><span style=\"color: #7fbfbf; text-decoration-color: #7fbfbf\">[01/31/22 13:47:36] </span><span style=\"color: #008000; text-decoration-color: #008000\">INFO    </span>                                         <a href=\"file://C:\\Users\\thoma\\AppData\\Local\\Programs\\Python\\Python39\\lib\\site-packages\\manim\\scene\\scene_file_writer.py\"><span style=\"color: #7f7f7f; text-decoration-color: #7f7f7f\">scene_file_writer.py</span></a><span style=\"color: #7f7f7f; text-decoration-color: #7f7f7f\">:</span><a href=\"file://C:\\Users\\thoma\\AppData\\Local\\Programs\\Python\\Python39\\lib\\site-packages\\manim\\scene\\scene_file_writer.py#729\"><span style=\"color: #7f7f7f; text-decoration-color: #7f7f7f\">729</span></a>\n",
       "                             <span style=\"color: #808000; text-decoration-color: #808000; font-weight: bold\">File</span> ready at <span style=\"color: #008000; text-decoration-color: #008000\">'c:\\Users\\thoma\\Desktop\\A</span>                         \n",
       "                             <span style=\"color: #008000; text-decoration-color: #008000\">prendizado\\Manim\\media\\videos\\Manim\\480</span>                         \n",
       "                             <span style=\"color: #008000; text-decoration-color: #008000\">p15\\Tute3.mp4'</span>                                                  \n",
       "                                                                                             \n",
       "</pre>\n"
      ],
      "text/plain": [
       "\u001b[2;36m[01/31/22 13:47:36]\u001b[0m\u001b[2;36m \u001b[0m\u001b[32mINFO    \u001b[0m                                         \u001b]8;id=726037;file://C:\\Users\\thoma\\AppData\\Local\\Programs\\Python\\Python39\\lib\\site-packages\\manim\\scene\\scene_file_writer.py\u001b\\\u001b[2mscene_file_writer.py\u001b[0m\u001b]8;;\u001b\\\u001b[2m:\u001b[0m\u001b]8;id=216233;file://C:\\Users\\thoma\\AppData\\Local\\Programs\\Python\\Python39\\lib\\site-packages\\manim\\scene\\scene_file_writer.py#729\u001b\\\u001b[2m729\u001b[0m\u001b]8;;\u001b\\\n",
       "                             \u001b[1;33mFile\u001b[0m ready at \u001b[32m'c:\\Users\\thoma\\Desktop\\A\u001b[0m                         \n",
       "                             \u001b[32mprendizado\\Manim\\media\\videos\\Manim\\480\u001b[0m                         \n",
       "                             \u001b[32mp15\\Tute3.mp4'\u001b[0m                                                  \n",
       "                                                                                             \n"
      ]
     },
     "metadata": {},
     "output_type": "display_data"
    },
    {
     "data": {
      "text/html": [
       "<pre style=\"white-space:pre;overflow-x:auto;line-height:normal;font-family:Menlo,'DejaVu Sans Mono',consolas,'Courier New',monospace\"><span style=\"color: #7fbfbf; text-decoration-color: #7fbfbf\">                    </span><span style=\"color: #008000; text-decoration-color: #008000\">INFO    </span> <span style=\"color: #808000; text-decoration-color: #808000; font-weight: bold\">Rendered</span> Tute3                                      <a href=\"file://C:\\Users\\thoma\\AppData\\Local\\Programs\\Python\\Python39\\lib\\site-packages\\manim\\scene\\scene.py\"><span style=\"color: #7f7f7f; text-decoration-color: #7f7f7f\">scene.py</span></a><span style=\"color: #7f7f7f; text-decoration-color: #7f7f7f\">:</span><a href=\"file://C:\\Users\\thoma\\AppData\\Local\\Programs\\Python\\Python39\\lib\\site-packages\\manim\\scene\\scene.py#237\"><span style=\"color: #7f7f7f; text-decoration-color: #7f7f7f\">237</span></a>\n",
       "                             <span style=\"color: #808000; text-decoration-color: #808000; font-weight: bold\">Played</span> <span style=\"color: #008000; text-decoration-color: #008000\">3</span> <span style=\"color: #808000; text-decoration-color: #808000; font-weight: bold\">animations</span>                                             \n",
       "</pre>\n"
      ],
      "text/plain": [
       "\u001b[2;36m                   \u001b[0m\u001b[2;36m \u001b[0m\u001b[32mINFO    \u001b[0m \u001b[1;33mRendered\u001b[0m Tute3                                      \u001b]8;id=216927;file://C:\\Users\\thoma\\AppData\\Local\\Programs\\Python\\Python39\\lib\\site-packages\\manim\\scene\\scene.py\u001b\\\u001b[2mscene.py\u001b[0m\u001b]8;;\u001b\\\u001b[2m:\u001b[0m\u001b]8;id=396026;file://C:\\Users\\thoma\\AppData\\Local\\Programs\\Python\\Python39\\lib\\site-packages\\manim\\scene\\scene.py#237\u001b\\\u001b[2m237\u001b[0m\u001b]8;;\u001b\\\n",
       "                             \u001b[1;33mPlayed\u001b[0m \u001b[32m3\u001b[0m \u001b[1;33manimations\u001b[0m                                             \n"
      ]
     },
     "metadata": {},
     "output_type": "display_data"
    },
    {
     "data": {
      "text/html": [
       "<video src=\"media\\jupyter\\Tute3@2022-01-31@13-47-36.mp4\" controls autoplay loop style=\"max-width: 60%;\"  >\n",
       "      Your browser does not support the <code>video</code> element.\n",
       "    </video>"
      ],
      "text/plain": [
       "<IPython.core.display.Video object>"
      ]
     },
     "metadata": {},
     "output_type": "display_data"
    }
   ],
   "source": [
    "%%manim -ql Tute3\n",
    "class Tute3(ThreeDScene):\n",
    "    def construct(self):\n",
    "\n",
    "        self.set_camera_orientation(phi=60 * DEGREES, theta=-45 * DEGREES)\n",
    "\n",
    "        axes = ThreeDAxes()\n",
    "\n",
    "        graph = axes.get_graph(lambda x: x, x_range=[-2, 2], color=RED_B)\n",
    "\n",
    "        area = axes.get_area(graph=graph, x_range=[0, 3])\n",
    "\n",
    "        e = ValueTracker(0)\n",
    "\n",
    "        surface = always_redraw(\n",
    "            lambda: ParametricSurface(\n",
    "                lambda u, v: axes.c2p(v, v * np.cos(u), v * np.sin(u)),\n",
    "                u_range=[0, e.get_value()],  \n",
    "                v_range =[0,3],\n",
    "                checkerboard_colors=[GREEN, PURPLE],\n",
    "            )\n",
    "        )\n",
    "        self.add(axes, surface)\n",
    "        self.begin_ambient_camera_rotation(rate=PI / 15)\n",
    "        self.play(LaggedStart(Create(graph), Create(area)))\n",
    "        self.play(\n",
    "            Rotating(area, axis=RIGHT, radians=2 * PI, about_point=axes.c2p(0, 0, 0)),\n",
    "            e.animate.set_value(2 * PI),\n",
    "            run_time=6,\n",
    "            rate_func=linear,\n",
    "        )\n",
    "        self.stop_ambient_camera_rotation()\n",
    "        self.wait()"
   ]
  }
 ],
 "metadata": {
  "interpreter": {
   "hash": "4badd61a3eb0a98b49024dc08b6e569de2eac3230396ff1e691db44e3b600cf6"
  },
  "kernelspec": {
   "display_name": "Python 3.9.9 64-bit",
   "language": "python",
   "name": "python3"
  },
  "language_info": {
   "codemirror_mode": {
    "name": "ipython",
    "version": 3
   },
   "file_extension": ".py",
   "mimetype": "text/x-python",
   "name": "python",
   "nbconvert_exporter": "python",
   "pygments_lexer": "ipython3",
   "version": "3.9.9"
  },
  "orig_nbformat": 4
 },
 "nbformat": 4,
 "nbformat_minor": 2
}
