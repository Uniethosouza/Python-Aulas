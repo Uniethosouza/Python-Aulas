{
 "cells": [
  {
   "cell_type": "code",
   "execution_count": 1,
   "metadata": {},
   "outputs": [
    {
     "data": {
      "text/html": [
       "<pre style=\"white-space:pre;overflow-x:auto;line-height:normal;font-family:Menlo,'DejaVu Sans Mono',consolas,'Courier New',monospace\">Manim Community <span style=\"color: #008000; text-decoration-color: #008000\">v0.13.1</span>\n",
       "\n",
       "</pre>\n"
      ],
      "text/plain": [
       "Manim Community \u001b[32mv0.\u001b[0m\u001b[32m13.1\u001b[0m\n",
       "\n"
      ]
     },
     "metadata": {},
     "output_type": "display_data"
    }
   ],
   "source": [
    "from manim import *"
   ]
  },
  {
   "cell_type": "code",
   "execution_count": 2,
   "metadata": {},
   "outputs": [],
   "source": [
    "\n",
    "# HELPERS FOR COMPLEX SCENES, you can always create your own :)\n",
    "def get_horizontal_line_to_graph(axes, function, x, width, color):\n",
    "    result = VGroup()\n",
    "    line = DashedLine(\n",
    "        start=axes.c2p(0, function.underlying_function(x)),\n",
    "        end=axes.c2p(x, function.underlying_function(x)),\n",
    "        stroke_width=width,\n",
    "        stroke_color=color,\n",
    "    )\n",
    "    dot = Dot().set_color(color).move_to(axes.c2p(x, function.underlying_function(x)))\n",
    "    result.add(line, dot)\n",
    "    return result\n",
    "\n",
    "\n",
    "def get_arc_lines_on_function(\n",
    "    graph, plane, dx=1, line_color=WHITE, line_width=1, x_min=None, x_max=None\n",
    "):\n",
    "\n",
    "    dots = VGroup()\n",
    "    lines = VGroup()\n",
    "    result = VGroup(dots, lines)\n",
    "\n",
    "    x_range = np.arange(x_min, x_max, dx)\n",
    "    colors = color_gradient([BLUE_B, GREEN_B], len(x_range))\n",
    "\n",
    "    for x, color in zip(x_range, colors):\n",
    "        p1 = Dot().scale(0.7).move_to(plane.input_to_graph_point(x, graph))\n",
    "        p2 = Dot().scale(0.7).move_to(plane.input_to_graph_point(x + dx, graph))\n",
    "        dots.add(p1, p2)\n",
    "        dots.set_fill(colors, opacity=0.8)\n",
    "\n",
    "        line = Line(\n",
    "            p1.get_center(),\n",
    "            p2.get_center(),\n",
    "            stroke_color=line_color,\n",
    "            stroke_width=line_width,\n",
    "        )\n",
    "        lines.add(line)\n",
    "\n",
    "    return result\n",
    "\n"
   ]
  },
  {
   "cell_type": "code",
   "execution_count": 3,
   "metadata": {},
   "outputs": [
    {
     "data": {
      "text/html": [
       "<pre style=\"white-space:pre;overflow-x:auto;line-height:normal;font-family:Menlo,'DejaVu Sans Mono',consolas,'Courier New',monospace\"><span style=\"color: #7fbfbf; text-decoration-color: #7fbfbf\">[01/31/22 20:54:36] </span><span style=\"color: #800000; text-decoration-color: #800000\">WARNING </span> The method CoordinateSystem.get_graph has     <a href=\"file://C:\\Users\\thoma\\AppData\\Local\\Programs\\Python\\Python39\\lib\\site-packages\\manim\\utils\\deprecation.py\"><span style=\"color: #7f7f7f; text-decoration-color: #7f7f7f\">deprecation.py</span></a><span style=\"color: #7f7f7f; text-decoration-color: #7f7f7f\">:</span><a href=\"file://C:\\Users\\thoma\\AppData\\Local\\Programs\\Python\\Python39\\lib\\site-packages\\manim\\utils\\deprecation.py#210\"><span style=\"color: #7f7f7f; text-decoration-color: #7f7f7f\">210</span></a>\n",
       "                             been deprecated since v0.<span style=\"color: #008000; text-decoration-color: #008000\">11.0</span> and is expected                   \n",
       "                             to be removed after v0.<span style=\"color: #008000; text-decoration-color: #008000\">13.0</span>. Use plot                           \n",
       "                             instead.                                                        \n",
       "</pre>\n"
      ],
      "text/plain": [
       "\u001b[2;36m[01/31/22 20:54:36]\u001b[0m\u001b[2;36m \u001b[0m\u001b[31mWARNING \u001b[0m The method CoordinateSystem.get_graph has     \u001b]8;id=719568;file://C:\\Users\\thoma\\AppData\\Local\\Programs\\Python\\Python39\\lib\\site-packages\\manim\\utils\\deprecation.py\u001b\\\u001b[2mdeprecation.py\u001b[0m\u001b]8;;\u001b\\\u001b[2m:\u001b[0m\u001b]8;id=443343;file://C:\\Users\\thoma\\AppData\\Local\\Programs\\Python\\Python39\\lib\\site-packages\\manim\\utils\\deprecation.py#210\u001b\\\u001b[2m210\u001b[0m\u001b]8;;\u001b\\\n",
       "                             been deprecated since v0.\u001b[32m11.0\u001b[0m and is expected                   \n",
       "                             to be removed after v0.\u001b[32m13.0\u001b[0m. Use plot                           \n",
       "                             instead.                                                        \n"
      ]
     },
     "metadata": {},
     "output_type": "display_data"
    },
    {
     "data": {
      "text/html": [
       "<pre style=\"white-space:pre;overflow-x:auto;line-height:normal;font-family:Menlo,'DejaVu Sans Mono',consolas,'Courier New',monospace\"><span style=\"color: #7fbfbf; text-decoration-color: #7fbfbf\">                    </span><span style=\"color: #008000; text-decoration-color: #008000\">INFO    </span> <span style=\"color: #808000; text-decoration-color: #808000; font-weight: bold\">Writing</span> <span style=\"color: #008000; text-decoration-color: #008000\">\"f(x)=\\frac{1}{3} {x}^{3}\"</span> to     <a href=\"file://C:\\Users\\thoma\\AppData\\Local\\Programs\\Python\\Python39\\lib\\site-packages\\manim\\utils\\tex_file_writing.py\"><span style=\"color: #7f7f7f; text-decoration-color: #7f7f7f\">tex_file_writing.py</span></a><span style=\"color: #7f7f7f; text-decoration-color: #7f7f7f\">:</span><a href=\"file://C:\\Users\\thoma\\AppData\\Local\\Programs\\Python\\Python39\\lib\\site-packages\\manim\\utils\\tex_file_writing.py#85\"><span style=\"color: #7f7f7f; text-decoration-color: #7f7f7f\">85</span></a>\n",
       "                             media\\Tex\\9319f03d1240b4ce.tex                                  \n",
       "</pre>\n"
      ],
      "text/plain": [
       "\u001b[2;36m                   \u001b[0m\u001b[2;36m \u001b[0m\u001b[32mINFO    \u001b[0m \u001b[1;33mWriting\u001b[0m \u001b[32m\"f\u001b[0m\u001b[32m(\u001b[0m\u001b[32mx\u001b[0m\u001b[32m)\u001b[0m\u001b[32m=\\frac\u001b[0m\u001b[32m{\u001b[0m\u001b[32m1\u001b[0m\u001b[32m}\u001b[0m\u001b[32m{\u001b[0m\u001b[32m3\u001b[0m\u001b[32m}\u001b[0m\u001b[32m \u001b[0m\u001b[32m{\u001b[0m\u001b[32mx\u001b[0m\u001b[32m}\u001b[0m\u001b[32m^\u001b[0m\u001b[32m{\u001b[0m\u001b[32m3\u001b[0m\u001b[32m}\u001b[0m\u001b[32m\"\u001b[0m to     \u001b]8;id=965646;file://C:\\Users\\thoma\\AppData\\Local\\Programs\\Python\\Python39\\lib\\site-packages\\manim\\utils\\tex_file_writing.py\u001b\\\u001b[2mtex_file_writing.py\u001b[0m\u001b]8;;\u001b\\\u001b[2m:\u001b[0m\u001b]8;id=148837;file://C:\\Users\\thoma\\AppData\\Local\\Programs\\Python\\Python39\\lib\\site-packages\\manim\\utils\\tex_file_writing.py#85\u001b\\\u001b[2m85\u001b[0m\u001b]8;;\u001b\\\n",
       "                             media\\Tex\\9319f03d1240b4ce.tex                                  \n"
      ]
     },
     "metadata": {},
     "output_type": "display_data"
    },
    {
     "data": {
      "text/html": [
       "<pre style=\"white-space:pre;overflow-x:auto;line-height:normal;font-family:Menlo,'DejaVu Sans Mono',consolas,'Courier New',monospace\"><span style=\"color: #7fbfbf; text-decoration-color: #7fbfbf\">[01/31/22 20:54:47] </span><span style=\"color: #800000; text-decoration-color: #800000\">WARNING </span> The method CoordinateSystem.get_graph has     <a href=\"file://C:\\Users\\thoma\\AppData\\Local\\Programs\\Python\\Python39\\lib\\site-packages\\manim\\utils\\deprecation.py\"><span style=\"color: #7f7f7f; text-decoration-color: #7f7f7f\">deprecation.py</span></a><span style=\"color: #7f7f7f; text-decoration-color: #7f7f7f\">:</span><a href=\"file://C:\\Users\\thoma\\AppData\\Local\\Programs\\Python\\Python39\\lib\\site-packages\\manim\\utils\\deprecation.py#210\"><span style=\"color: #7f7f7f; text-decoration-color: #7f7f7f\">210</span></a>\n",
       "                             been deprecated since v0.<span style=\"color: #008000; text-decoration-color: #008000\">11.0</span> and is expected                   \n",
       "                             to be removed after v0.<span style=\"color: #008000; text-decoration-color: #008000\">13.0</span>. Use plot                           \n",
       "                             instead.                                                        \n",
       "</pre>\n"
      ],
      "text/plain": [
       "\u001b[2;36m[01/31/22 20:54:47]\u001b[0m\u001b[2;36m \u001b[0m\u001b[31mWARNING \u001b[0m The method CoordinateSystem.get_graph has     \u001b]8;id=519299;file://C:\\Users\\thoma\\AppData\\Local\\Programs\\Python\\Python39\\lib\\site-packages\\manim\\utils\\deprecation.py\u001b\\\u001b[2mdeprecation.py\u001b[0m\u001b]8;;\u001b\\\u001b[2m:\u001b[0m\u001b]8;id=646489;file://C:\\Users\\thoma\\AppData\\Local\\Programs\\Python\\Python39\\lib\\site-packages\\manim\\utils\\deprecation.py#210\u001b\\\u001b[2m210\u001b[0m\u001b]8;;\u001b\\\n",
       "                             been deprecated since v0.\u001b[32m11.0\u001b[0m and is expected                   \n",
       "                             to be removed after v0.\u001b[32m13.0\u001b[0m. Use plot                           \n",
       "                             instead.                                                        \n"
      ]
     },
     "metadata": {},
     "output_type": "display_data"
    },
    {
     "data": {
      "text/html": [
       "<pre style=\"white-space:pre;overflow-x:auto;line-height:normal;font-family:Menlo,'DejaVu Sans Mono',consolas,'Courier New',monospace\"><span style=\"color: #7fbfbf; text-decoration-color: #7fbfbf\">                    </span><span style=\"color: #008000; text-decoration-color: #008000\">INFO    </span> <span style=\"color: #808000; text-decoration-color: #808000; font-weight: bold\">Writing</span> <span style=\"color: #008000; text-decoration-color: #008000\">\"f'(x)={x}^{2}\"</span> to                <a href=\"file://C:\\Users\\thoma\\AppData\\Local\\Programs\\Python\\Python39\\lib\\site-packages\\manim\\utils\\tex_file_writing.py\"><span style=\"color: #7f7f7f; text-decoration-color: #7f7f7f\">tex_file_writing.py</span></a><span style=\"color: #7f7f7f; text-decoration-color: #7f7f7f\">:</span><a href=\"file://C:\\Users\\thoma\\AppData\\Local\\Programs\\Python\\Python39\\lib\\site-packages\\manim\\utils\\tex_file_writing.py#85\"><span style=\"color: #7f7f7f; text-decoration-color: #7f7f7f\">85</span></a>\n",
       "                             media\\Tex\\14a57dbf4700472c.tex                                  \n",
       "</pre>\n"
      ],
      "text/plain": [
       "\u001b[2;36m                   \u001b[0m\u001b[2;36m \u001b[0m\u001b[32mINFO    \u001b[0m \u001b[1;33mWriting\u001b[0m \u001b[32m\"f'\u001b[0m\u001b[32m(\u001b[0m\u001b[32mx\u001b[0m\u001b[32m)\u001b[0m\u001b[32m=\u001b[0m\u001b[32m{\u001b[0m\u001b[32mx\u001b[0m\u001b[32m}\u001b[0m\u001b[32m^\u001b[0m\u001b[32m{\u001b[0m\u001b[32m2\u001b[0m\u001b[32m}\u001b[0m\u001b[32m\"\u001b[0m to                \u001b]8;id=896392;file://C:\\Users\\thoma\\AppData\\Local\\Programs\\Python\\Python39\\lib\\site-packages\\manim\\utils\\tex_file_writing.py\u001b\\\u001b[2mtex_file_writing.py\u001b[0m\u001b]8;;\u001b\\\u001b[2m:\u001b[0m\u001b]8;id=84240;file://C:\\Users\\thoma\\AppData\\Local\\Programs\\Python\\Python39\\lib\\site-packages\\manim\\utils\\tex_file_writing.py#85\u001b\\\u001b[2m85\u001b[0m\u001b]8;;\u001b\\\n",
       "                             media\\Tex\\14a57dbf4700472c.tex                                  \n"
      ]
     },
     "metadata": {},
     "output_type": "display_data"
    },
    {
     "data": {
      "text/html": [
       "<pre style=\"white-space:pre;overflow-x:auto;line-height:normal;font-family:Menlo,'DejaVu Sans Mono',consolas,'Courier New',monospace\"><span style=\"color: #7fbfbf; text-decoration-color: #7fbfbf\">[01/31/22 20:54:49] </span><span style=\"color: #008000; text-decoration-color: #008000\">INFO    </span> <span style=\"color: #808000; text-decoration-color: #808000; font-weight: bold\">Writing</span> <span style=\"color: #008000; text-decoration-color: #008000\">\"Slope value:\"</span> to                 <a href=\"file://C:\\Users\\thoma\\AppData\\Local\\Programs\\Python\\Python39\\lib\\site-packages\\manim\\utils\\tex_file_writing.py\"><span style=\"color: #7f7f7f; text-decoration-color: #7f7f7f\">tex_file_writing.py</span></a><span style=\"color: #7f7f7f; text-decoration-color: #7f7f7f\">:</span><a href=\"file://C:\\Users\\thoma\\AppData\\Local\\Programs\\Python\\Python39\\lib\\site-packages\\manim\\utils\\tex_file_writing.py#85\"><span style=\"color: #7f7f7f; text-decoration-color: #7f7f7f\">85</span></a>\n",
       "                             media\\Tex\\513c39579fa2409a.tex                                  \n",
       "</pre>\n"
      ],
      "text/plain": [
       "\u001b[2;36m[01/31/22 20:54:49]\u001b[0m\u001b[2;36m \u001b[0m\u001b[32mINFO    \u001b[0m \u001b[1;33mWriting\u001b[0m \u001b[32m\"Slope value:\"\u001b[0m to                 \u001b]8;id=494119;file://C:\\Users\\thoma\\AppData\\Local\\Programs\\Python\\Python39\\lib\\site-packages\\manim\\utils\\tex_file_writing.py\u001b\\\u001b[2mtex_file_writing.py\u001b[0m\u001b]8;;\u001b\\\u001b[2m:\u001b[0m\u001b]8;id=336369;file://C:\\Users\\thoma\\AppData\\Local\\Programs\\Python\\Python39\\lib\\site-packages\\manim\\utils\\tex_file_writing.py#85\u001b\\\u001b[2m85\u001b[0m\u001b]8;;\u001b\\\n",
       "                             media\\Tex\\513c39579fa2409a.tex                                  \n"
      ]
     },
     "metadata": {},
     "output_type": "display_data"
    },
    {
     "name": "stderr",
     "output_type": "stream",
     "text": [
      "                                                                                \r"
     ]
    },
    {
     "data": {
      "text/html": [
       "<pre style=\"white-space:pre;overflow-x:auto;line-height:normal;font-family:Menlo,'DejaVu Sans Mono',consolas,'Courier New',monospace\"><span style=\"color: #7fbfbf; text-decoration-color: #7fbfbf\">[01/31/22 20:55:07] </span><span style=\"color: #008000; text-decoration-color: #008000\">INFO    </span> Animation <span style=\"color: #008000; text-decoration-color: #008000\">0</span> : Partial movie file        <a href=\"file://C:\\Users\\thoma\\AppData\\Local\\Programs\\Python\\Python39\\lib\\site-packages\\manim\\scene\\scene_file_writer.py\"><span style=\"color: #7f7f7f; text-decoration-color: #7f7f7f\">scene_file_writer.py</span></a><span style=\"color: #7f7f7f; text-decoration-color: #7f7f7f\">:</span><a href=\"file://C:\\Users\\thoma\\AppData\\Local\\Programs\\Python\\Python39\\lib\\site-packages\\manim\\scene\\scene_file_writer.py#514\"><span style=\"color: #7f7f7f; text-decoration-color: #7f7f7f\">514</span></a>\n",
       "                             written in <span style=\"color: #008000; text-decoration-color: #008000\">'c:\\Users\\thoma\\Desktop\\Apre</span>                         \n",
       "                             <span style=\"color: #008000; text-decoration-color: #008000\">ndizado\\Manim\\media\\videos\\Manim\\480p15</span>                         \n",
       "                             <span style=\"color: #008000; text-decoration-color: #008000\">\\partial_movie_files\\Derivatives\\316378</span>                         \n",
       "                             <span style=\"color: #008000; text-decoration-color: #008000\">2288_3748430988_212655260.mp4'</span>                                  \n",
       "</pre>\n"
      ],
      "text/plain": [
       "\u001b[2;36m[01/31/22 20:55:07]\u001b[0m\u001b[2;36m \u001b[0m\u001b[32mINFO    \u001b[0m Animation \u001b[32m0\u001b[0m : Partial movie file        \u001b]8;id=352459;file://C:\\Users\\thoma\\AppData\\Local\\Programs\\Python\\Python39\\lib\\site-packages\\manim\\scene\\scene_file_writer.py\u001b\\\u001b[2mscene_file_writer.py\u001b[0m\u001b]8;;\u001b\\\u001b[2m:\u001b[0m\u001b]8;id=960246;file://C:\\Users\\thoma\\AppData\\Local\\Programs\\Python\\Python39\\lib\\site-packages\\manim\\scene\\scene_file_writer.py#514\u001b\\\u001b[2m514\u001b[0m\u001b]8;;\u001b\\\n",
       "                             written in \u001b[32m'c:\\Users\\thoma\\Desktop\\Apre\u001b[0m                         \n",
       "                             \u001b[32mndizado\\Manim\\media\\videos\\Manim\\480p15\u001b[0m                         \n",
       "                             \u001b[32m\\partial_movie_files\\Derivatives\\316378\u001b[0m                         \n",
       "                             \u001b[32m2288_3748430988_212655260.mp4'\u001b[0m                                  \n"
      ]
     },
     "metadata": {},
     "output_type": "display_data"
    },
    {
     "name": "stderr",
     "output_type": "stream",
     "text": [
      "Animation 1: _MethodAnimation(ValueTracker):   0%|          | 0/225 [00:00<?, ?it/s]"
     ]
    },
    {
     "data": {
      "text/html": [
       "<pre style=\"white-space:pre;overflow-x:auto;line-height:normal;font-family:Menlo,'DejaVu Sans Mono',consolas,'Courier New',monospace\"><span style=\"color: #7fbfbf; text-decoration-color: #7fbfbf\">[01/31/22 20:55:08] </span><span style=\"color: #800000; text-decoration-color: #800000\">WARNING </span> The method CoordinateSystem.get_graph has     <a href=\"file://C:\\Users\\thoma\\AppData\\Local\\Programs\\Python\\Python39\\lib\\site-packages\\manim\\utils\\deprecation.py\"><span style=\"color: #7f7f7f; text-decoration-color: #7f7f7f\">deprecation.py</span></a><span style=\"color: #7f7f7f; text-decoration-color: #7f7f7f\">:</span><a href=\"file://C:\\Users\\thoma\\AppData\\Local\\Programs\\Python\\Python39\\lib\\site-packages\\manim\\utils\\deprecation.py#210\"><span style=\"color: #7f7f7f; text-decoration-color: #7f7f7f\">210</span></a>\n",
       "                             been deprecated since v0.<span style=\"color: #008000; text-decoration-color: #008000\">11.0</span> and is expected                   \n",
       "                             to be removed after v0.<span style=\"color: #008000; text-decoration-color: #008000\">13.0</span>. Use plot                           \n",
       "                             instead.                                                        \n",
       "</pre>\n"
      ],
      "text/plain": [
       "\u001b[2;36m[01/31/22 20:55:08]\u001b[0m\u001b[2;36m \u001b[0m\u001b[31mWARNING \u001b[0m The method CoordinateSystem.get_graph has     \u001b]8;id=692988;file://C:\\Users\\thoma\\AppData\\Local\\Programs\\Python\\Python39\\lib\\site-packages\\manim\\utils\\deprecation.py\u001b\\\u001b[2mdeprecation.py\u001b[0m\u001b]8;;\u001b\\\u001b[2m:\u001b[0m\u001b]8;id=42213;file://C:\\Users\\thoma\\AppData\\Local\\Programs\\Python\\Python39\\lib\\site-packages\\manim\\utils\\deprecation.py#210\u001b\\\u001b[2m210\u001b[0m\u001b]8;;\u001b\\\n",
       "                             been deprecated since v0.\u001b[32m11.0\u001b[0m and is expected                   \n",
       "                             to be removed after v0.\u001b[32m13.0\u001b[0m. Use plot                           \n",
       "                             instead.                                                        \n"
      ]
     },
     "metadata": {},
     "output_type": "display_data"
    },
    {
     "data": {
      "text/html": [
       "<pre style=\"white-space:pre;overflow-x:auto;line-height:normal;font-family:Menlo,'DejaVu Sans Mono',consolas,'Courier New',monospace\"><span style=\"color: #7fbfbf; text-decoration-color: #7fbfbf\">                    </span><span style=\"color: #800000; text-decoration-color: #800000\">WARNING </span> The method CoordinateSystem.get_graph has     <a href=\"file://C:\\Users\\thoma\\AppData\\Local\\Programs\\Python\\Python39\\lib\\site-packages\\manim\\utils\\deprecation.py\"><span style=\"color: #7f7f7f; text-decoration-color: #7f7f7f\">deprecation.py</span></a><span style=\"color: #7f7f7f; text-decoration-color: #7f7f7f\">:</span><a href=\"file://C:\\Users\\thoma\\AppData\\Local\\Programs\\Python\\Python39\\lib\\site-packages\\manim\\utils\\deprecation.py#210\"><span style=\"color: #7f7f7f; text-decoration-color: #7f7f7f\">210</span></a>\n",
       "                             been deprecated since v0.<span style=\"color: #008000; text-decoration-color: #008000\">11.0</span> and is expected                   \n",
       "                             to be removed after v0.<span style=\"color: #008000; text-decoration-color: #008000\">13.0</span>. Use plot                           \n",
       "                             instead.                                                        \n",
       "</pre>\n"
      ],
      "text/plain": [
       "\u001b[2;36m                   \u001b[0m\u001b[2;36m \u001b[0m\u001b[31mWARNING \u001b[0m The method CoordinateSystem.get_graph has     \u001b]8;id=786965;file://C:\\Users\\thoma\\AppData\\Local\\Programs\\Python\\Python39\\lib\\site-packages\\manim\\utils\\deprecation.py\u001b\\\u001b[2mdeprecation.py\u001b[0m\u001b]8;;\u001b\\\u001b[2m:\u001b[0m\u001b]8;id=65769;file://C:\\Users\\thoma\\AppData\\Local\\Programs\\Python\\Python39\\lib\\site-packages\\manim\\utils\\deprecation.py#210\u001b\\\u001b[2m210\u001b[0m\u001b]8;;\u001b\\\n",
       "                             been deprecated since v0.\u001b[32m11.0\u001b[0m and is expected                   \n",
       "                             to be removed after v0.\u001b[32m13.0\u001b[0m. Use plot                           \n",
       "                             instead.                                                        \n"
      ]
     },
     "metadata": {},
     "output_type": "display_data"
    },
    {
     "name": "stderr",
     "output_type": "stream",
     "text": [
      "Animation 1: _MethodAnimation(ValueTracker):   1%|          | 2/225 [00:00<00:22,  9.99it/s]"
     ]
    },
    {
     "data": {
      "text/html": [
       "<pre style=\"white-space:pre;overflow-x:auto;line-height:normal;font-family:Menlo,'DejaVu Sans Mono',consolas,'Courier New',monospace\"><span style=\"color: #7fbfbf; text-decoration-color: #7fbfbf\">                    </span><span style=\"color: #800000; text-decoration-color: #800000\">WARNING </span> The method CoordinateSystem.get_graph has     <a href=\"file://C:\\Users\\thoma\\AppData\\Local\\Programs\\Python\\Python39\\lib\\site-packages\\manim\\utils\\deprecation.py\"><span style=\"color: #7f7f7f; text-decoration-color: #7f7f7f\">deprecation.py</span></a><span style=\"color: #7f7f7f; text-decoration-color: #7f7f7f\">:</span><a href=\"file://C:\\Users\\thoma\\AppData\\Local\\Programs\\Python\\Python39\\lib\\site-packages\\manim\\utils\\deprecation.py#210\"><span style=\"color: #7f7f7f; text-decoration-color: #7f7f7f\">210</span></a>\n",
       "                             been deprecated since v0.<span style=\"color: #008000; text-decoration-color: #008000\">11.0</span> and is expected                   \n",
       "                             to be removed after v0.<span style=\"color: #008000; text-decoration-color: #008000\">13.0</span>. Use plot                           \n",
       "                             instead.                                                        \n",
       "</pre>\n"
      ],
      "text/plain": [
       "\u001b[2;36m                   \u001b[0m\u001b[2;36m \u001b[0m\u001b[31mWARNING \u001b[0m The method CoordinateSystem.get_graph has     \u001b]8;id=681392;file://C:\\Users\\thoma\\AppData\\Local\\Programs\\Python\\Python39\\lib\\site-packages\\manim\\utils\\deprecation.py\u001b\\\u001b[2mdeprecation.py\u001b[0m\u001b]8;;\u001b\\\u001b[2m:\u001b[0m\u001b]8;id=511348;file://C:\\Users\\thoma\\AppData\\Local\\Programs\\Python\\Python39\\lib\\site-packages\\manim\\utils\\deprecation.py#210\u001b\\\u001b[2m210\u001b[0m\u001b]8;;\u001b\\\n",
       "                             been deprecated since v0.\u001b[32m11.0\u001b[0m and is expected                   \n",
       "                             to be removed after v0.\u001b[32m13.0\u001b[0m. Use plot                           \n",
       "                             instead.                                                        \n"
      ]
     },
     "metadata": {},
     "output_type": "display_data"
    },
    {
     "name": "stderr",
     "output_type": "stream",
     "text": [
      "Animation 1: _MethodAnimation(ValueTracker):   1%|1         | 3/225 [00:00<00:25,  8.54it/s]"
     ]
    },
    {
     "data": {
      "text/html": [
       "<pre style=\"white-space:pre;overflow-x:auto;line-height:normal;font-family:Menlo,'DejaVu Sans Mono',consolas,'Courier New',monospace\"><span style=\"color: #7fbfbf; text-decoration-color: #7fbfbf\">                    </span><span style=\"color: #800000; text-decoration-color: #800000\">WARNING </span> The method CoordinateSystem.get_graph has     <a href=\"file://C:\\Users\\thoma\\AppData\\Local\\Programs\\Python\\Python39\\lib\\site-packages\\manim\\utils\\deprecation.py\"><span style=\"color: #7f7f7f; text-decoration-color: #7f7f7f\">deprecation.py</span></a><span style=\"color: #7f7f7f; text-decoration-color: #7f7f7f\">:</span><a href=\"file://C:\\Users\\thoma\\AppData\\Local\\Programs\\Python\\Python39\\lib\\site-packages\\manim\\utils\\deprecation.py#210\"><span style=\"color: #7f7f7f; text-decoration-color: #7f7f7f\">210</span></a>\n",
       "                             been deprecated since v0.<span style=\"color: #008000; text-decoration-color: #008000\">11.0</span> and is expected                   \n",
       "                             to be removed after v0.<span style=\"color: #008000; text-decoration-color: #008000\">13.0</span>. Use plot                           \n",
       "                             instead.                                                        \n",
       "</pre>\n"
      ],
      "text/plain": [
       "\u001b[2;36m                   \u001b[0m\u001b[2;36m \u001b[0m\u001b[31mWARNING \u001b[0m The method CoordinateSystem.get_graph has     \u001b]8;id=310370;file://C:\\Users\\thoma\\AppData\\Local\\Programs\\Python\\Python39\\lib\\site-packages\\manim\\utils\\deprecation.py\u001b\\\u001b[2mdeprecation.py\u001b[0m\u001b]8;;\u001b\\\u001b[2m:\u001b[0m\u001b]8;id=955262;file://C:\\Users\\thoma\\AppData\\Local\\Programs\\Python\\Python39\\lib\\site-packages\\manim\\utils\\deprecation.py#210\u001b\\\u001b[2m210\u001b[0m\u001b]8;;\u001b\\\n",
       "                             been deprecated since v0.\u001b[32m11.0\u001b[0m and is expected                   \n",
       "                             to be removed after v0.\u001b[32m13.0\u001b[0m. Use plot                           \n",
       "                             instead.                                                        \n"
      ]
     },
     "metadata": {},
     "output_type": "display_data"
    },
    {
     "name": "stderr",
     "output_type": "stream",
     "text": [
      "Animation 1: _MethodAnimation(ValueTracker):   2%|1         | 4/225 [00:00<00:28,  7.80it/s]"
     ]
    },
    {
     "data": {
      "text/html": [
       "<pre style=\"white-space:pre;overflow-x:auto;line-height:normal;font-family:Menlo,'DejaVu Sans Mono',consolas,'Courier New',monospace\"><span style=\"color: #7fbfbf; text-decoration-color: #7fbfbf\">                    </span><span style=\"color: #800000; text-decoration-color: #800000\">WARNING </span> The method CoordinateSystem.get_graph has     <a href=\"file://C:\\Users\\thoma\\AppData\\Local\\Programs\\Python\\Python39\\lib\\site-packages\\manim\\utils\\deprecation.py\"><span style=\"color: #7f7f7f; text-decoration-color: #7f7f7f\">deprecation.py</span></a><span style=\"color: #7f7f7f; text-decoration-color: #7f7f7f\">:</span><a href=\"file://C:\\Users\\thoma\\AppData\\Local\\Programs\\Python\\Python39\\lib\\site-packages\\manim\\utils\\deprecation.py#210\"><span style=\"color: #7f7f7f; text-decoration-color: #7f7f7f\">210</span></a>\n",
       "                             been deprecated since v0.<span style=\"color: #008000; text-decoration-color: #008000\">11.0</span> and is expected                   \n",
       "                             to be removed after v0.<span style=\"color: #008000; text-decoration-color: #008000\">13.0</span>. Use plot                           \n",
       "                             instead.                                                        \n",
       "</pre>\n"
      ],
      "text/plain": [
       "\u001b[2;36m                   \u001b[0m\u001b[2;36m \u001b[0m\u001b[31mWARNING \u001b[0m The method CoordinateSystem.get_graph has     \u001b]8;id=765679;file://C:\\Users\\thoma\\AppData\\Local\\Programs\\Python\\Python39\\lib\\site-packages\\manim\\utils\\deprecation.py\u001b\\\u001b[2mdeprecation.py\u001b[0m\u001b]8;;\u001b\\\u001b[2m:\u001b[0m\u001b]8;id=388831;file://C:\\Users\\thoma\\AppData\\Local\\Programs\\Python\\Python39\\lib\\site-packages\\manim\\utils\\deprecation.py#210\u001b\\\u001b[2m210\u001b[0m\u001b]8;;\u001b\\\n",
       "                             been deprecated since v0.\u001b[32m11.0\u001b[0m and is expected                   \n",
       "                             to be removed after v0.\u001b[32m13.0\u001b[0m. Use plot                           \n",
       "                             instead.                                                        \n"
      ]
     },
     "metadata": {},
     "output_type": "display_data"
    },
    {
     "name": "stderr",
     "output_type": "stream",
     "text": [
      "Animation 1: _MethodAnimation(ValueTracker):   2%|2         | 5/225 [00:00<00:27,  8.07it/s]"
     ]
    },
    {
     "data": {
      "text/html": [
       "<pre style=\"white-space:pre;overflow-x:auto;line-height:normal;font-family:Menlo,'DejaVu Sans Mono',consolas,'Courier New',monospace\"><span style=\"color: #7fbfbf; text-decoration-color: #7fbfbf\">                    </span><span style=\"color: #800000; text-decoration-color: #800000\">WARNING </span> The method CoordinateSystem.get_graph has     <a href=\"file://C:\\Users\\thoma\\AppData\\Local\\Programs\\Python\\Python39\\lib\\site-packages\\manim\\utils\\deprecation.py\"><span style=\"color: #7f7f7f; text-decoration-color: #7f7f7f\">deprecation.py</span></a><span style=\"color: #7f7f7f; text-decoration-color: #7f7f7f\">:</span><a href=\"file://C:\\Users\\thoma\\AppData\\Local\\Programs\\Python\\Python39\\lib\\site-packages\\manim\\utils\\deprecation.py#210\"><span style=\"color: #7f7f7f; text-decoration-color: #7f7f7f\">210</span></a>\n",
       "                             been deprecated since v0.<span style=\"color: #008000; text-decoration-color: #008000\">11.0</span> and is expected                   \n",
       "                             to be removed after v0.<span style=\"color: #008000; text-decoration-color: #008000\">13.0</span>. Use plot                           \n",
       "                             instead.                                                        \n",
       "</pre>\n"
      ],
      "text/plain": [
       "\u001b[2;36m                   \u001b[0m\u001b[2;36m \u001b[0m\u001b[31mWARNING \u001b[0m The method CoordinateSystem.get_graph has     \u001b]8;id=413237;file://C:\\Users\\thoma\\AppData\\Local\\Programs\\Python\\Python39\\lib\\site-packages\\manim\\utils\\deprecation.py\u001b\\\u001b[2mdeprecation.py\u001b[0m\u001b]8;;\u001b\\\u001b[2m:\u001b[0m\u001b]8;id=886624;file://C:\\Users\\thoma\\AppData\\Local\\Programs\\Python\\Python39\\lib\\site-packages\\manim\\utils\\deprecation.py#210\u001b\\\u001b[2m210\u001b[0m\u001b]8;;\u001b\\\n",
       "                             been deprecated since v0.\u001b[32m11.0\u001b[0m and is expected                   \n",
       "                             to be removed after v0.\u001b[32m13.0\u001b[0m. Use plot                           \n",
       "                             instead.                                                        \n"
      ]
     },
     "metadata": {},
     "output_type": "display_data"
    },
    {
     "name": "stderr",
     "output_type": "stream",
     "text": [
      "Animation 1: _MethodAnimation(ValueTracker):   3%|2         | 6/225 [00:00<00:28,  7.78it/s]"
     ]
    },
    {
     "data": {
      "text/html": [
       "<pre style=\"white-space:pre;overflow-x:auto;line-height:normal;font-family:Menlo,'DejaVu Sans Mono',consolas,'Courier New',monospace\"><span style=\"color: #7fbfbf; text-decoration-color: #7fbfbf\">                    </span><span style=\"color: #800000; text-decoration-color: #800000\">WARNING </span> The method CoordinateSystem.get_graph has     <a href=\"file://C:\\Users\\thoma\\AppData\\Local\\Programs\\Python\\Python39\\lib\\site-packages\\manim\\utils\\deprecation.py\"><span style=\"color: #7f7f7f; text-decoration-color: #7f7f7f\">deprecation.py</span></a><span style=\"color: #7f7f7f; text-decoration-color: #7f7f7f\">:</span><a href=\"file://C:\\Users\\thoma\\AppData\\Local\\Programs\\Python\\Python39\\lib\\site-packages\\manim\\utils\\deprecation.py#210\"><span style=\"color: #7f7f7f; text-decoration-color: #7f7f7f\">210</span></a>\n",
       "                             been deprecated since v0.<span style=\"color: #008000; text-decoration-color: #008000\">11.0</span> and is expected                   \n",
       "                             to be removed after v0.<span style=\"color: #008000; text-decoration-color: #008000\">13.0</span>. Use plot                           \n",
       "                             instead.                                                        \n",
       "</pre>\n"
      ],
      "text/plain": [
       "\u001b[2;36m                   \u001b[0m\u001b[2;36m \u001b[0m\u001b[31mWARNING \u001b[0m The method CoordinateSystem.get_graph has     \u001b]8;id=48610;file://C:\\Users\\thoma\\AppData\\Local\\Programs\\Python\\Python39\\lib\\site-packages\\manim\\utils\\deprecation.py\u001b\\\u001b[2mdeprecation.py\u001b[0m\u001b]8;;\u001b\\\u001b[2m:\u001b[0m\u001b]8;id=922450;file://C:\\Users\\thoma\\AppData\\Local\\Programs\\Python\\Python39\\lib\\site-packages\\manim\\utils\\deprecation.py#210\u001b\\\u001b[2m210\u001b[0m\u001b]8;;\u001b\\\n",
       "                             been deprecated since v0.\u001b[32m11.0\u001b[0m and is expected                   \n",
       "                             to be removed after v0.\u001b[32m13.0\u001b[0m. Use plot                           \n",
       "                             instead.                                                        \n"
      ]
     },
     "metadata": {},
     "output_type": "display_data"
    },
    {
     "name": "stderr",
     "output_type": "stream",
     "text": [
      "Animation 1: _MethodAnimation(ValueTracker):   3%|3         | 7/225 [00:00<00:28,  7.61it/s]"
     ]
    },
    {
     "data": {
      "text/html": [
       "<pre style=\"white-space:pre;overflow-x:auto;line-height:normal;font-family:Menlo,'DejaVu Sans Mono',consolas,'Courier New',monospace\"><span style=\"color: #7fbfbf; text-decoration-color: #7fbfbf\">[01/31/22 20:55:09] </span><span style=\"color: #800000; text-decoration-color: #800000\">WARNING </span> The method CoordinateSystem.get_graph has     <a href=\"file://C:\\Users\\thoma\\AppData\\Local\\Programs\\Python\\Python39\\lib\\site-packages\\manim\\utils\\deprecation.py\"><span style=\"color: #7f7f7f; text-decoration-color: #7f7f7f\">deprecation.py</span></a><span style=\"color: #7f7f7f; text-decoration-color: #7f7f7f\">:</span><a href=\"file://C:\\Users\\thoma\\AppData\\Local\\Programs\\Python\\Python39\\lib\\site-packages\\manim\\utils\\deprecation.py#210\"><span style=\"color: #7f7f7f; text-decoration-color: #7f7f7f\">210</span></a>\n",
       "                             been deprecated since v0.<span style=\"color: #008000; text-decoration-color: #008000\">11.0</span> and is expected                   \n",
       "                             to be removed after v0.<span style=\"color: #008000; text-decoration-color: #008000\">13.0</span>. Use plot                           \n",
       "                             instead.                                                        \n",
       "</pre>\n"
      ],
      "text/plain": [
       "\u001b[2;36m[01/31/22 20:55:09]\u001b[0m\u001b[2;36m \u001b[0m\u001b[31mWARNING \u001b[0m The method CoordinateSystem.get_graph has     \u001b]8;id=291117;file://C:\\Users\\thoma\\AppData\\Local\\Programs\\Python\\Python39\\lib\\site-packages\\manim\\utils\\deprecation.py\u001b\\\u001b[2mdeprecation.py\u001b[0m\u001b]8;;\u001b\\\u001b[2m:\u001b[0m\u001b]8;id=133472;file://C:\\Users\\thoma\\AppData\\Local\\Programs\\Python\\Python39\\lib\\site-packages\\manim\\utils\\deprecation.py#210\u001b\\\u001b[2m210\u001b[0m\u001b]8;;\u001b\\\n",
       "                             been deprecated since v0.\u001b[32m11.0\u001b[0m and is expected                   \n",
       "                             to be removed after v0.\u001b[32m13.0\u001b[0m. Use plot                           \n",
       "                             instead.                                                        \n"
      ]
     },
     "metadata": {},
     "output_type": "display_data"
    },
    {
     "name": "stderr",
     "output_type": "stream",
     "text": [
      "Animation 1: _MethodAnimation(ValueTracker):   4%|3         | 8/225 [00:01<00:29,  7.29it/s]"
     ]
    },
    {
     "data": {
      "text/html": [
       "<pre style=\"white-space:pre;overflow-x:auto;line-height:normal;font-family:Menlo,'DejaVu Sans Mono',consolas,'Courier New',monospace\"><span style=\"color: #7fbfbf; text-decoration-color: #7fbfbf\">                    </span><span style=\"color: #800000; text-decoration-color: #800000\">WARNING </span> The method CoordinateSystem.get_graph has     <a href=\"file://C:\\Users\\thoma\\AppData\\Local\\Programs\\Python\\Python39\\lib\\site-packages\\manim\\utils\\deprecation.py\"><span style=\"color: #7f7f7f; text-decoration-color: #7f7f7f\">deprecation.py</span></a><span style=\"color: #7f7f7f; text-decoration-color: #7f7f7f\">:</span><a href=\"file://C:\\Users\\thoma\\AppData\\Local\\Programs\\Python\\Python39\\lib\\site-packages\\manim\\utils\\deprecation.py#210\"><span style=\"color: #7f7f7f; text-decoration-color: #7f7f7f\">210</span></a>\n",
       "                             been deprecated since v0.<span style=\"color: #008000; text-decoration-color: #008000\">11.0</span> and is expected                   \n",
       "                             to be removed after v0.<span style=\"color: #008000; text-decoration-color: #008000\">13.0</span>. Use plot                           \n",
       "                             instead.                                                        \n",
       "</pre>\n"
      ],
      "text/plain": [
       "\u001b[2;36m                   \u001b[0m\u001b[2;36m \u001b[0m\u001b[31mWARNING \u001b[0m The method CoordinateSystem.get_graph has     \u001b]8;id=541632;file://C:\\Users\\thoma\\AppData\\Local\\Programs\\Python\\Python39\\lib\\site-packages\\manim\\utils\\deprecation.py\u001b\\\u001b[2mdeprecation.py\u001b[0m\u001b]8;;\u001b\\\u001b[2m:\u001b[0m\u001b]8;id=500861;file://C:\\Users\\thoma\\AppData\\Local\\Programs\\Python\\Python39\\lib\\site-packages\\manim\\utils\\deprecation.py#210\u001b\\\u001b[2m210\u001b[0m\u001b]8;;\u001b\\\n",
       "                             been deprecated since v0.\u001b[32m11.0\u001b[0m and is expected                   \n",
       "                             to be removed after v0.\u001b[32m13.0\u001b[0m. Use plot                           \n",
       "                             instead.                                                        \n"
      ]
     },
     "metadata": {},
     "output_type": "display_data"
    },
    {
     "name": "stderr",
     "output_type": "stream",
     "text": [
      "Animation 1: _MethodAnimation(ValueTracker):   4%|4         | 9/225 [00:01<00:30,  7.03it/s]"
     ]
    },
    {
     "data": {
      "text/html": [
       "<pre style=\"white-space:pre;overflow-x:auto;line-height:normal;font-family:Menlo,'DejaVu Sans Mono',consolas,'Courier New',monospace\"><span style=\"color: #7fbfbf; text-decoration-color: #7fbfbf\">                    </span><span style=\"color: #800000; text-decoration-color: #800000\">WARNING </span> The method CoordinateSystem.get_graph has     <a href=\"file://C:\\Users\\thoma\\AppData\\Local\\Programs\\Python\\Python39\\lib\\site-packages\\manim\\utils\\deprecation.py\"><span style=\"color: #7f7f7f; text-decoration-color: #7f7f7f\">deprecation.py</span></a><span style=\"color: #7f7f7f; text-decoration-color: #7f7f7f\">:</span><a href=\"file://C:\\Users\\thoma\\AppData\\Local\\Programs\\Python\\Python39\\lib\\site-packages\\manim\\utils\\deprecation.py#210\"><span style=\"color: #7f7f7f; text-decoration-color: #7f7f7f\">210</span></a>\n",
       "                             been deprecated since v0.<span style=\"color: #008000; text-decoration-color: #008000\">11.0</span> and is expected                   \n",
       "                             to be removed after v0.<span style=\"color: #008000; text-decoration-color: #008000\">13.0</span>. Use plot                           \n",
       "                             instead.                                                        \n",
       "</pre>\n"
      ],
      "text/plain": [
       "\u001b[2;36m                   \u001b[0m\u001b[2;36m \u001b[0m\u001b[31mWARNING \u001b[0m The method CoordinateSystem.get_graph has     \u001b]8;id=869802;file://C:\\Users\\thoma\\AppData\\Local\\Programs\\Python\\Python39\\lib\\site-packages\\manim\\utils\\deprecation.py\u001b\\\u001b[2mdeprecation.py\u001b[0m\u001b]8;;\u001b\\\u001b[2m:\u001b[0m\u001b]8;id=27494;file://C:\\Users\\thoma\\AppData\\Local\\Programs\\Python\\Python39\\lib\\site-packages\\manim\\utils\\deprecation.py#210\u001b\\\u001b[2m210\u001b[0m\u001b]8;;\u001b\\\n",
       "                             been deprecated since v0.\u001b[32m11.0\u001b[0m and is expected                   \n",
       "                             to be removed after v0.\u001b[32m13.0\u001b[0m. Use plot                           \n",
       "                             instead.                                                        \n"
      ]
     },
     "metadata": {},
     "output_type": "display_data"
    },
    {
     "name": "stderr",
     "output_type": "stream",
     "text": [
      "Animation 1: _MethodAnimation(ValueTracker):   4%|4         | 10/225 [00:01<00:30,  7.17it/s]"
     ]
    },
    {
     "data": {
      "text/html": [
       "<pre style=\"white-space:pre;overflow-x:auto;line-height:normal;font-family:Menlo,'DejaVu Sans Mono',consolas,'Courier New',monospace\"><span style=\"color: #7fbfbf; text-decoration-color: #7fbfbf\">                    </span><span style=\"color: #800000; text-decoration-color: #800000\">WARNING </span> The method CoordinateSystem.get_graph has     <a href=\"file://C:\\Users\\thoma\\AppData\\Local\\Programs\\Python\\Python39\\lib\\site-packages\\manim\\utils\\deprecation.py\"><span style=\"color: #7f7f7f; text-decoration-color: #7f7f7f\">deprecation.py</span></a><span style=\"color: #7f7f7f; text-decoration-color: #7f7f7f\">:</span><a href=\"file://C:\\Users\\thoma\\AppData\\Local\\Programs\\Python\\Python39\\lib\\site-packages\\manim\\utils\\deprecation.py#210\"><span style=\"color: #7f7f7f; text-decoration-color: #7f7f7f\">210</span></a>\n",
       "                             been deprecated since v0.<span style=\"color: #008000; text-decoration-color: #008000\">11.0</span> and is expected                   \n",
       "                             to be removed after v0.<span style=\"color: #008000; text-decoration-color: #008000\">13.0</span>. Use plot                           \n",
       "                             instead.                                                        \n",
       "</pre>\n"
      ],
      "text/plain": [
       "\u001b[2;36m                   \u001b[0m\u001b[2;36m \u001b[0m\u001b[31mWARNING \u001b[0m The method CoordinateSystem.get_graph has     \u001b]8;id=617023;file://C:\\Users\\thoma\\AppData\\Local\\Programs\\Python\\Python39\\lib\\site-packages\\manim\\utils\\deprecation.py\u001b\\\u001b[2mdeprecation.py\u001b[0m\u001b]8;;\u001b\\\u001b[2m:\u001b[0m\u001b]8;id=697879;file://C:\\Users\\thoma\\AppData\\Local\\Programs\\Python\\Python39\\lib\\site-packages\\manim\\utils\\deprecation.py#210\u001b\\\u001b[2m210\u001b[0m\u001b]8;;\u001b\\\n",
       "                             been deprecated since v0.\u001b[32m11.0\u001b[0m and is expected                   \n",
       "                             to be removed after v0.\u001b[32m13.0\u001b[0m. Use plot                           \n",
       "                             instead.                                                        \n"
      ]
     },
     "metadata": {},
     "output_type": "display_data"
    },
    {
     "name": "stderr",
     "output_type": "stream",
     "text": [
      "Animation 1: _MethodAnimation(ValueTracker):   5%|4         | 11/225 [00:01<00:29,  7.19it/s]"
     ]
    },
    {
     "data": {
      "text/html": [
       "<pre style=\"white-space:pre;overflow-x:auto;line-height:normal;font-family:Menlo,'DejaVu Sans Mono',consolas,'Courier New',monospace\"><span style=\"color: #7fbfbf; text-decoration-color: #7fbfbf\">                    </span><span style=\"color: #800000; text-decoration-color: #800000\">WARNING </span> The method CoordinateSystem.get_graph has     <a href=\"file://C:\\Users\\thoma\\AppData\\Local\\Programs\\Python\\Python39\\lib\\site-packages\\manim\\utils\\deprecation.py\"><span style=\"color: #7f7f7f; text-decoration-color: #7f7f7f\">deprecation.py</span></a><span style=\"color: #7f7f7f; text-decoration-color: #7f7f7f\">:</span><a href=\"file://C:\\Users\\thoma\\AppData\\Local\\Programs\\Python\\Python39\\lib\\site-packages\\manim\\utils\\deprecation.py#210\"><span style=\"color: #7f7f7f; text-decoration-color: #7f7f7f\">210</span></a>\n",
       "                             been deprecated since v0.<span style=\"color: #008000; text-decoration-color: #008000\">11.0</span> and is expected                   \n",
       "                             to be removed after v0.<span style=\"color: #008000; text-decoration-color: #008000\">13.0</span>. Use plot                           \n",
       "                             instead.                                                        \n",
       "</pre>\n"
      ],
      "text/plain": [
       "\u001b[2;36m                   \u001b[0m\u001b[2;36m \u001b[0m\u001b[31mWARNING \u001b[0m The method CoordinateSystem.get_graph has     \u001b]8;id=356877;file://C:\\Users\\thoma\\AppData\\Local\\Programs\\Python\\Python39\\lib\\site-packages\\manim\\utils\\deprecation.py\u001b\\\u001b[2mdeprecation.py\u001b[0m\u001b]8;;\u001b\\\u001b[2m:\u001b[0m\u001b]8;id=181760;file://C:\\Users\\thoma\\AppData\\Local\\Programs\\Python\\Python39\\lib\\site-packages\\manim\\utils\\deprecation.py#210\u001b\\\u001b[2m210\u001b[0m\u001b]8;;\u001b\\\n",
       "                             been deprecated since v0.\u001b[32m11.0\u001b[0m and is expected                   \n",
       "                             to be removed after v0.\u001b[32m13.0\u001b[0m. Use plot                           \n",
       "                             instead.                                                        \n"
      ]
     },
     "metadata": {},
     "output_type": "display_data"
    },
    {
     "name": "stderr",
     "output_type": "stream",
     "text": [
      "Animation 1: _MethodAnimation(ValueTracker):   5%|5         | 12/225 [00:01<00:34,  6.13it/s]"
     ]
    },
    {
     "data": {
      "text/html": [
       "<pre style=\"white-space:pre;overflow-x:auto;line-height:normal;font-family:Menlo,'DejaVu Sans Mono',consolas,'Courier New',monospace\"><span style=\"color: #7fbfbf; text-decoration-color: #7fbfbf\">                    </span><span style=\"color: #800000; text-decoration-color: #800000\">WARNING </span> The method CoordinateSystem.get_graph has     <a href=\"file://C:\\Users\\thoma\\AppData\\Local\\Programs\\Python\\Python39\\lib\\site-packages\\manim\\utils\\deprecation.py\"><span style=\"color: #7f7f7f; text-decoration-color: #7f7f7f\">deprecation.py</span></a><span style=\"color: #7f7f7f; text-decoration-color: #7f7f7f\">:</span><a href=\"file://C:\\Users\\thoma\\AppData\\Local\\Programs\\Python\\Python39\\lib\\site-packages\\manim\\utils\\deprecation.py#210\"><span style=\"color: #7f7f7f; text-decoration-color: #7f7f7f\">210</span></a>\n",
       "                             been deprecated since v0.<span style=\"color: #008000; text-decoration-color: #008000\">11.0</span> and is expected                   \n",
       "                             to be removed after v0.<span style=\"color: #008000; text-decoration-color: #008000\">13.0</span>. Use plot                           \n",
       "                             instead.                                                        \n",
       "</pre>\n"
      ],
      "text/plain": [
       "\u001b[2;36m                   \u001b[0m\u001b[2;36m \u001b[0m\u001b[31mWARNING \u001b[0m The method CoordinateSystem.get_graph has     \u001b]8;id=380130;file://C:\\Users\\thoma\\AppData\\Local\\Programs\\Python\\Python39\\lib\\site-packages\\manim\\utils\\deprecation.py\u001b\\\u001b[2mdeprecation.py\u001b[0m\u001b]8;;\u001b\\\u001b[2m:\u001b[0m\u001b]8;id=639480;file://C:\\Users\\thoma\\AppData\\Local\\Programs\\Python\\Python39\\lib\\site-packages\\manim\\utils\\deprecation.py#210\u001b\\\u001b[2m210\u001b[0m\u001b]8;;\u001b\\\n",
       "                             been deprecated since v0.\u001b[32m11.0\u001b[0m and is expected                   \n",
       "                             to be removed after v0.\u001b[32m13.0\u001b[0m. Use plot                           \n",
       "                             instead.                                                        \n"
      ]
     },
     "metadata": {},
     "output_type": "display_data"
    },
    {
     "name": "stderr",
     "output_type": "stream",
     "text": [
      "Animation 1: _MethodAnimation(ValueTracker):   6%|5         | 13/225 [00:01<00:34,  6.12it/s]"
     ]
    },
    {
     "data": {
      "text/html": [
       "<pre style=\"white-space:pre;overflow-x:auto;line-height:normal;font-family:Menlo,'DejaVu Sans Mono',consolas,'Courier New',monospace\"><span style=\"color: #7fbfbf; text-decoration-color: #7fbfbf\">[01/31/22 20:55:10] </span><span style=\"color: #800000; text-decoration-color: #800000\">WARNING </span> The method CoordinateSystem.get_graph has     <a href=\"file://C:\\Users\\thoma\\AppData\\Local\\Programs\\Python\\Python39\\lib\\site-packages\\manim\\utils\\deprecation.py\"><span style=\"color: #7f7f7f; text-decoration-color: #7f7f7f\">deprecation.py</span></a><span style=\"color: #7f7f7f; text-decoration-color: #7f7f7f\">:</span><a href=\"file://C:\\Users\\thoma\\AppData\\Local\\Programs\\Python\\Python39\\lib\\site-packages\\manim\\utils\\deprecation.py#210\"><span style=\"color: #7f7f7f; text-decoration-color: #7f7f7f\">210</span></a>\n",
       "                             been deprecated since v0.<span style=\"color: #008000; text-decoration-color: #008000\">11.0</span> and is expected                   \n",
       "                             to be removed after v0.<span style=\"color: #008000; text-decoration-color: #008000\">13.0</span>. Use plot                           \n",
       "                             instead.                                                        \n",
       "</pre>\n"
      ],
      "text/plain": [
       "\u001b[2;36m[01/31/22 20:55:10]\u001b[0m\u001b[2;36m \u001b[0m\u001b[31mWARNING \u001b[0m The method CoordinateSystem.get_graph has     \u001b]8;id=933211;file://C:\\Users\\thoma\\AppData\\Local\\Programs\\Python\\Python39\\lib\\site-packages\\manim\\utils\\deprecation.py\u001b\\\u001b[2mdeprecation.py\u001b[0m\u001b]8;;\u001b\\\u001b[2m:\u001b[0m\u001b]8;id=386716;file://C:\\Users\\thoma\\AppData\\Local\\Programs\\Python\\Python39\\lib\\site-packages\\manim\\utils\\deprecation.py#210\u001b\\\u001b[2m210\u001b[0m\u001b]8;;\u001b\\\n",
       "                             been deprecated since v0.\u001b[32m11.0\u001b[0m and is expected                   \n",
       "                             to be removed after v0.\u001b[32m13.0\u001b[0m. Use plot                           \n",
       "                             instead.                                                        \n"
      ]
     },
     "metadata": {},
     "output_type": "display_data"
    },
    {
     "name": "stderr",
     "output_type": "stream",
     "text": [
      "Animation 1: _MethodAnimation(ValueTracker):   6%|6         | 14/225 [00:02<00:35,  5.94it/s]"
     ]
    },
    {
     "data": {
      "text/html": [
       "<pre style=\"white-space:pre;overflow-x:auto;line-height:normal;font-family:Menlo,'DejaVu Sans Mono',consolas,'Courier New',monospace\"><span style=\"color: #7fbfbf; text-decoration-color: #7fbfbf\">                    </span><span style=\"color: #800000; text-decoration-color: #800000\">WARNING </span> The method CoordinateSystem.get_graph has     <a href=\"file://C:\\Users\\thoma\\AppData\\Local\\Programs\\Python\\Python39\\lib\\site-packages\\manim\\utils\\deprecation.py\"><span style=\"color: #7f7f7f; text-decoration-color: #7f7f7f\">deprecation.py</span></a><span style=\"color: #7f7f7f; text-decoration-color: #7f7f7f\">:</span><a href=\"file://C:\\Users\\thoma\\AppData\\Local\\Programs\\Python\\Python39\\lib\\site-packages\\manim\\utils\\deprecation.py#210\"><span style=\"color: #7f7f7f; text-decoration-color: #7f7f7f\">210</span></a>\n",
       "                             been deprecated since v0.<span style=\"color: #008000; text-decoration-color: #008000\">11.0</span> and is expected                   \n",
       "                             to be removed after v0.<span style=\"color: #008000; text-decoration-color: #008000\">13.0</span>. Use plot                           \n",
       "                             instead.                                                        \n",
       "</pre>\n"
      ],
      "text/plain": [
       "\u001b[2;36m                   \u001b[0m\u001b[2;36m \u001b[0m\u001b[31mWARNING \u001b[0m The method CoordinateSystem.get_graph has     \u001b]8;id=318504;file://C:\\Users\\thoma\\AppData\\Local\\Programs\\Python\\Python39\\lib\\site-packages\\manim\\utils\\deprecation.py\u001b\\\u001b[2mdeprecation.py\u001b[0m\u001b]8;;\u001b\\\u001b[2m:\u001b[0m\u001b]8;id=585711;file://C:\\Users\\thoma\\AppData\\Local\\Programs\\Python\\Python39\\lib\\site-packages\\manim\\utils\\deprecation.py#210\u001b\\\u001b[2m210\u001b[0m\u001b]8;;\u001b\\\n",
       "                             been deprecated since v0.\u001b[32m11.0\u001b[0m and is expected                   \n",
       "                             to be removed after v0.\u001b[32m13.0\u001b[0m. Use plot                           \n",
       "                             instead.                                                        \n"
      ]
     },
     "metadata": {},
     "output_type": "display_data"
    },
    {
     "name": "stderr",
     "output_type": "stream",
     "text": [
      "Animation 1: _MethodAnimation(ValueTracker):   7%|6         | 15/225 [00:02<00:38,  5.44it/s]"
     ]
    },
    {
     "data": {
      "text/html": [
       "<pre style=\"white-space:pre;overflow-x:auto;line-height:normal;font-family:Menlo,'DejaVu Sans Mono',consolas,'Courier New',monospace\"><span style=\"color: #7fbfbf; text-decoration-color: #7fbfbf\">                    </span><span style=\"color: #800000; text-decoration-color: #800000\">WARNING </span> The method CoordinateSystem.get_graph has     <a href=\"file://C:\\Users\\thoma\\AppData\\Local\\Programs\\Python\\Python39\\lib\\site-packages\\manim\\utils\\deprecation.py\"><span style=\"color: #7f7f7f; text-decoration-color: #7f7f7f\">deprecation.py</span></a><span style=\"color: #7f7f7f; text-decoration-color: #7f7f7f\">:</span><a href=\"file://C:\\Users\\thoma\\AppData\\Local\\Programs\\Python\\Python39\\lib\\site-packages\\manim\\utils\\deprecation.py#210\"><span style=\"color: #7f7f7f; text-decoration-color: #7f7f7f\">210</span></a>\n",
       "                             been deprecated since v0.<span style=\"color: #008000; text-decoration-color: #008000\">11.0</span> and is expected                   \n",
       "                             to be removed after v0.<span style=\"color: #008000; text-decoration-color: #008000\">13.0</span>. Use plot                           \n",
       "                             instead.                                                        \n",
       "</pre>\n"
      ],
      "text/plain": [
       "\u001b[2;36m                   \u001b[0m\u001b[2;36m \u001b[0m\u001b[31mWARNING \u001b[0m The method CoordinateSystem.get_graph has     \u001b]8;id=245069;file://C:\\Users\\thoma\\AppData\\Local\\Programs\\Python\\Python39\\lib\\site-packages\\manim\\utils\\deprecation.py\u001b\\\u001b[2mdeprecation.py\u001b[0m\u001b]8;;\u001b\\\u001b[2m:\u001b[0m\u001b]8;id=802860;file://C:\\Users\\thoma\\AppData\\Local\\Programs\\Python\\Python39\\lib\\site-packages\\manim\\utils\\deprecation.py#210\u001b\\\u001b[2m210\u001b[0m\u001b]8;;\u001b\\\n",
       "                             been deprecated since v0.\u001b[32m11.0\u001b[0m and is expected                   \n",
       "                             to be removed after v0.\u001b[32m13.0\u001b[0m. Use plot                           \n",
       "                             instead.                                                        \n"
      ]
     },
     "metadata": {},
     "output_type": "display_data"
    },
    {
     "name": "stderr",
     "output_type": "stream",
     "text": [
      "Animation 1: _MethodAnimation(ValueTracker):   7%|7         | 16/225 [00:02<00:43,  4.80it/s]"
     ]
    },
    {
     "data": {
      "text/html": [
       "<pre style=\"white-space:pre;overflow-x:auto;line-height:normal;font-family:Menlo,'DejaVu Sans Mono',consolas,'Courier New',monospace\"><span style=\"color: #7fbfbf; text-decoration-color: #7fbfbf\">                    </span><span style=\"color: #800000; text-decoration-color: #800000\">WARNING </span> The method CoordinateSystem.get_graph has     <a href=\"file://C:\\Users\\thoma\\AppData\\Local\\Programs\\Python\\Python39\\lib\\site-packages\\manim\\utils\\deprecation.py\"><span style=\"color: #7f7f7f; text-decoration-color: #7f7f7f\">deprecation.py</span></a><span style=\"color: #7f7f7f; text-decoration-color: #7f7f7f\">:</span><a href=\"file://C:\\Users\\thoma\\AppData\\Local\\Programs\\Python\\Python39\\lib\\site-packages\\manim\\utils\\deprecation.py#210\"><span style=\"color: #7f7f7f; text-decoration-color: #7f7f7f\">210</span></a>\n",
       "                             been deprecated since v0.<span style=\"color: #008000; text-decoration-color: #008000\">11.0</span> and is expected                   \n",
       "                             to be removed after v0.<span style=\"color: #008000; text-decoration-color: #008000\">13.0</span>. Use plot                           \n",
       "                             instead.                                                        \n",
       "</pre>\n"
      ],
      "text/plain": [
       "\u001b[2;36m                   \u001b[0m\u001b[2;36m \u001b[0m\u001b[31mWARNING \u001b[0m The method CoordinateSystem.get_graph has     \u001b]8;id=628379;file://C:\\Users\\thoma\\AppData\\Local\\Programs\\Python\\Python39\\lib\\site-packages\\manim\\utils\\deprecation.py\u001b\\\u001b[2mdeprecation.py\u001b[0m\u001b]8;;\u001b\\\u001b[2m:\u001b[0m\u001b]8;id=859596;file://C:\\Users\\thoma\\AppData\\Local\\Programs\\Python\\Python39\\lib\\site-packages\\manim\\utils\\deprecation.py#210\u001b\\\u001b[2m210\u001b[0m\u001b]8;;\u001b\\\n",
       "                             been deprecated since v0.\u001b[32m11.0\u001b[0m and is expected                   \n",
       "                             to be removed after v0.\u001b[32m13.0\u001b[0m. Use plot                           \n",
       "                             instead.                                                        \n"
      ]
     },
     "metadata": {},
     "output_type": "display_data"
    },
    {
     "name": "stderr",
     "output_type": "stream",
     "text": [
      "Animation 1: _MethodAnimation(ValueTracker):   8%|7         | 17/225 [00:02<00:47,  4.36it/s]"
     ]
    },
    {
     "data": {
      "text/html": [
       "<pre style=\"white-space:pre;overflow-x:auto;line-height:normal;font-family:Menlo,'DejaVu Sans Mono',consolas,'Courier New',monospace\"><span style=\"color: #7fbfbf; text-decoration-color: #7fbfbf\">                    </span><span style=\"color: #800000; text-decoration-color: #800000\">WARNING </span> The method CoordinateSystem.get_graph has     <a href=\"file://C:\\Users\\thoma\\AppData\\Local\\Programs\\Python\\Python39\\lib\\site-packages\\manim\\utils\\deprecation.py\"><span style=\"color: #7f7f7f; text-decoration-color: #7f7f7f\">deprecation.py</span></a><span style=\"color: #7f7f7f; text-decoration-color: #7f7f7f\">:</span><a href=\"file://C:\\Users\\thoma\\AppData\\Local\\Programs\\Python\\Python39\\lib\\site-packages\\manim\\utils\\deprecation.py#210\"><span style=\"color: #7f7f7f; text-decoration-color: #7f7f7f\">210</span></a>\n",
       "                             been deprecated since v0.<span style=\"color: #008000; text-decoration-color: #008000\">11.0</span> and is expected                   \n",
       "                             to be removed after v0.<span style=\"color: #008000; text-decoration-color: #008000\">13.0</span>. Use plot                           \n",
       "                             instead.                                                        \n",
       "</pre>\n"
      ],
      "text/plain": [
       "\u001b[2;36m                   \u001b[0m\u001b[2;36m \u001b[0m\u001b[31mWARNING \u001b[0m The method CoordinateSystem.get_graph has     \u001b]8;id=431044;file://C:\\Users\\thoma\\AppData\\Local\\Programs\\Python\\Python39\\lib\\site-packages\\manim\\utils\\deprecation.py\u001b\\\u001b[2mdeprecation.py\u001b[0m\u001b]8;;\u001b\\\u001b[2m:\u001b[0m\u001b]8;id=939865;file://C:\\Users\\thoma\\AppData\\Local\\Programs\\Python\\Python39\\lib\\site-packages\\manim\\utils\\deprecation.py#210\u001b\\\u001b[2m210\u001b[0m\u001b]8;;\u001b\\\n",
       "                             been deprecated since v0.\u001b[32m11.0\u001b[0m and is expected                   \n",
       "                             to be removed after v0.\u001b[32m13.0\u001b[0m. Use plot                           \n",
       "                             instead.                                                        \n"
      ]
     },
     "metadata": {},
     "output_type": "display_data"
    },
    {
     "name": "stderr",
     "output_type": "stream",
     "text": [
      "Animation 1: _MethodAnimation(ValueTracker):   8%|8         | 18/225 [00:02<00:45,  4.51it/s]"
     ]
    },
    {
     "data": {
      "text/html": [
       "<pre style=\"white-space:pre;overflow-x:auto;line-height:normal;font-family:Menlo,'DejaVu Sans Mono',consolas,'Courier New',monospace\"><span style=\"color: #7fbfbf; text-decoration-color: #7fbfbf\">[01/31/22 20:55:11] </span><span style=\"color: #800000; text-decoration-color: #800000\">WARNING </span> The method CoordinateSystem.get_graph has     <a href=\"file://C:\\Users\\thoma\\AppData\\Local\\Programs\\Python\\Python39\\lib\\site-packages\\manim\\utils\\deprecation.py\"><span style=\"color: #7f7f7f; text-decoration-color: #7f7f7f\">deprecation.py</span></a><span style=\"color: #7f7f7f; text-decoration-color: #7f7f7f\">:</span><a href=\"file://C:\\Users\\thoma\\AppData\\Local\\Programs\\Python\\Python39\\lib\\site-packages\\manim\\utils\\deprecation.py#210\"><span style=\"color: #7f7f7f; text-decoration-color: #7f7f7f\">210</span></a>\n",
       "                             been deprecated since v0.<span style=\"color: #008000; text-decoration-color: #008000\">11.0</span> and is expected                   \n",
       "                             to be removed after v0.<span style=\"color: #008000; text-decoration-color: #008000\">13.0</span>. Use plot                           \n",
       "                             instead.                                                        \n",
       "</pre>\n"
      ],
      "text/plain": [
       "\u001b[2;36m[01/31/22 20:55:11]\u001b[0m\u001b[2;36m \u001b[0m\u001b[31mWARNING \u001b[0m The method CoordinateSystem.get_graph has     \u001b]8;id=805038;file://C:\\Users\\thoma\\AppData\\Local\\Programs\\Python\\Python39\\lib\\site-packages\\manim\\utils\\deprecation.py\u001b\\\u001b[2mdeprecation.py\u001b[0m\u001b]8;;\u001b\\\u001b[2m:\u001b[0m\u001b]8;id=304496;file://C:\\Users\\thoma\\AppData\\Local\\Programs\\Python\\Python39\\lib\\site-packages\\manim\\utils\\deprecation.py#210\u001b\\\u001b[2m210\u001b[0m\u001b]8;;\u001b\\\n",
       "                             been deprecated since v0.\u001b[32m11.0\u001b[0m and is expected                   \n",
       "                             to be removed after v0.\u001b[32m13.0\u001b[0m. Use plot                           \n",
       "                             instead.                                                        \n"
      ]
     },
     "metadata": {},
     "output_type": "display_data"
    },
    {
     "name": "stderr",
     "output_type": "stream",
     "text": [
      "Animation 1: _MethodAnimation(ValueTracker):   8%|8         | 19/225 [00:03<00:43,  4.75it/s]"
     ]
    },
    {
     "data": {
      "text/html": [
       "<pre style=\"white-space:pre;overflow-x:auto;line-height:normal;font-family:Menlo,'DejaVu Sans Mono',consolas,'Courier New',monospace\"><span style=\"color: #7fbfbf; text-decoration-color: #7fbfbf\">                    </span><span style=\"color: #800000; text-decoration-color: #800000\">WARNING </span> The method CoordinateSystem.get_graph has     <a href=\"file://C:\\Users\\thoma\\AppData\\Local\\Programs\\Python\\Python39\\lib\\site-packages\\manim\\utils\\deprecation.py\"><span style=\"color: #7f7f7f; text-decoration-color: #7f7f7f\">deprecation.py</span></a><span style=\"color: #7f7f7f; text-decoration-color: #7f7f7f\">:</span><a href=\"file://C:\\Users\\thoma\\AppData\\Local\\Programs\\Python\\Python39\\lib\\site-packages\\manim\\utils\\deprecation.py#210\"><span style=\"color: #7f7f7f; text-decoration-color: #7f7f7f\">210</span></a>\n",
       "                             been deprecated since v0.<span style=\"color: #008000; text-decoration-color: #008000\">11.0</span> and is expected                   \n",
       "                             to be removed after v0.<span style=\"color: #008000; text-decoration-color: #008000\">13.0</span>. Use plot                           \n",
       "                             instead.                                                        \n",
       "</pre>\n"
      ],
      "text/plain": [
       "\u001b[2;36m                   \u001b[0m\u001b[2;36m \u001b[0m\u001b[31mWARNING \u001b[0m The method CoordinateSystem.get_graph has     \u001b]8;id=82381;file://C:\\Users\\thoma\\AppData\\Local\\Programs\\Python\\Python39\\lib\\site-packages\\manim\\utils\\deprecation.py\u001b\\\u001b[2mdeprecation.py\u001b[0m\u001b]8;;\u001b\\\u001b[2m:\u001b[0m\u001b]8;id=696938;file://C:\\Users\\thoma\\AppData\\Local\\Programs\\Python\\Python39\\lib\\site-packages\\manim\\utils\\deprecation.py#210\u001b\\\u001b[2m210\u001b[0m\u001b]8;;\u001b\\\n",
       "                             been deprecated since v0.\u001b[32m11.0\u001b[0m and is expected                   \n",
       "                             to be removed after v0.\u001b[32m13.0\u001b[0m. Use plot                           \n",
       "                             instead.                                                        \n"
      ]
     },
     "metadata": {},
     "output_type": "display_data"
    },
    {
     "name": "stderr",
     "output_type": "stream",
     "text": [
      "Animation 1: _MethodAnimation(ValueTracker):   9%|8         | 20/225 [00:03<00:41,  4.99it/s]"
     ]
    },
    {
     "data": {
      "text/html": [
       "<pre style=\"white-space:pre;overflow-x:auto;line-height:normal;font-family:Menlo,'DejaVu Sans Mono',consolas,'Courier New',monospace\"><span style=\"color: #7fbfbf; text-decoration-color: #7fbfbf\">                    </span><span style=\"color: #800000; text-decoration-color: #800000\">WARNING </span> The method CoordinateSystem.get_graph has     <a href=\"file://C:\\Users\\thoma\\AppData\\Local\\Programs\\Python\\Python39\\lib\\site-packages\\manim\\utils\\deprecation.py\"><span style=\"color: #7f7f7f; text-decoration-color: #7f7f7f\">deprecation.py</span></a><span style=\"color: #7f7f7f; text-decoration-color: #7f7f7f\">:</span><a href=\"file://C:\\Users\\thoma\\AppData\\Local\\Programs\\Python\\Python39\\lib\\site-packages\\manim\\utils\\deprecation.py#210\"><span style=\"color: #7f7f7f; text-decoration-color: #7f7f7f\">210</span></a>\n",
       "                             been deprecated since v0.<span style=\"color: #008000; text-decoration-color: #008000\">11.0</span> and is expected                   \n",
       "                             to be removed after v0.<span style=\"color: #008000; text-decoration-color: #008000\">13.0</span>. Use plot                           \n",
       "                             instead.                                                        \n",
       "</pre>\n"
      ],
      "text/plain": [
       "\u001b[2;36m                   \u001b[0m\u001b[2;36m \u001b[0m\u001b[31mWARNING \u001b[0m The method CoordinateSystem.get_graph has     \u001b]8;id=82092;file://C:\\Users\\thoma\\AppData\\Local\\Programs\\Python\\Python39\\lib\\site-packages\\manim\\utils\\deprecation.py\u001b\\\u001b[2mdeprecation.py\u001b[0m\u001b]8;;\u001b\\\u001b[2m:\u001b[0m\u001b]8;id=613320;file://C:\\Users\\thoma\\AppData\\Local\\Programs\\Python\\Python39\\lib\\site-packages\\manim\\utils\\deprecation.py#210\u001b\\\u001b[2m210\u001b[0m\u001b]8;;\u001b\\\n",
       "                             been deprecated since v0.\u001b[32m11.0\u001b[0m and is expected                   \n",
       "                             to be removed after v0.\u001b[32m13.0\u001b[0m. Use plot                           \n",
       "                             instead.                                                        \n"
      ]
     },
     "metadata": {},
     "output_type": "display_data"
    },
    {
     "name": "stderr",
     "output_type": "stream",
     "text": [
      "Animation 1: _MethodAnimation(ValueTracker):   9%|9         | 21/225 [00:03<00:39,  5.12it/s]"
     ]
    },
    {
     "data": {
      "text/html": [
       "<pre style=\"white-space:pre;overflow-x:auto;line-height:normal;font-family:Menlo,'DejaVu Sans Mono',consolas,'Courier New',monospace\"><span style=\"color: #7fbfbf; text-decoration-color: #7fbfbf\">                    </span><span style=\"color: #800000; text-decoration-color: #800000\">WARNING </span> The method CoordinateSystem.get_graph has     <a href=\"file://C:\\Users\\thoma\\AppData\\Local\\Programs\\Python\\Python39\\lib\\site-packages\\manim\\utils\\deprecation.py\"><span style=\"color: #7f7f7f; text-decoration-color: #7f7f7f\">deprecation.py</span></a><span style=\"color: #7f7f7f; text-decoration-color: #7f7f7f\">:</span><a href=\"file://C:\\Users\\thoma\\AppData\\Local\\Programs\\Python\\Python39\\lib\\site-packages\\manim\\utils\\deprecation.py#210\"><span style=\"color: #7f7f7f; text-decoration-color: #7f7f7f\">210</span></a>\n",
       "                             been deprecated since v0.<span style=\"color: #008000; text-decoration-color: #008000\">11.0</span> and is expected                   \n",
       "                             to be removed after v0.<span style=\"color: #008000; text-decoration-color: #008000\">13.0</span>. Use plot                           \n",
       "                             instead.                                                        \n",
       "</pre>\n"
      ],
      "text/plain": [
       "\u001b[2;36m                   \u001b[0m\u001b[2;36m \u001b[0m\u001b[31mWARNING \u001b[0m The method CoordinateSystem.get_graph has     \u001b]8;id=282041;file://C:\\Users\\thoma\\AppData\\Local\\Programs\\Python\\Python39\\lib\\site-packages\\manim\\utils\\deprecation.py\u001b\\\u001b[2mdeprecation.py\u001b[0m\u001b]8;;\u001b\\\u001b[2m:\u001b[0m\u001b]8;id=183584;file://C:\\Users\\thoma\\AppData\\Local\\Programs\\Python\\Python39\\lib\\site-packages\\manim\\utils\\deprecation.py#210\u001b\\\u001b[2m210\u001b[0m\u001b]8;;\u001b\\\n",
       "                             been deprecated since v0.\u001b[32m11.0\u001b[0m and is expected                   \n",
       "                             to be removed after v0.\u001b[32m13.0\u001b[0m. Use plot                           \n",
       "                             instead.                                                        \n"
      ]
     },
     "metadata": {},
     "output_type": "display_data"
    },
    {
     "name": "stderr",
     "output_type": "stream",
     "text": [
      "Animation 1: _MethodAnimation(ValueTracker):  10%|9         | 22/225 [00:03<00:38,  5.28it/s]"
     ]
    },
    {
     "data": {
      "text/html": [
       "<pre style=\"white-space:pre;overflow-x:auto;line-height:normal;font-family:Menlo,'DejaVu Sans Mono',consolas,'Courier New',monospace\"><span style=\"color: #7fbfbf; text-decoration-color: #7fbfbf\">                    </span><span style=\"color: #800000; text-decoration-color: #800000\">WARNING </span> The method CoordinateSystem.get_graph has     <a href=\"file://C:\\Users\\thoma\\AppData\\Local\\Programs\\Python\\Python39\\lib\\site-packages\\manim\\utils\\deprecation.py\"><span style=\"color: #7f7f7f; text-decoration-color: #7f7f7f\">deprecation.py</span></a><span style=\"color: #7f7f7f; text-decoration-color: #7f7f7f\">:</span><a href=\"file://C:\\Users\\thoma\\AppData\\Local\\Programs\\Python\\Python39\\lib\\site-packages\\manim\\utils\\deprecation.py#210\"><span style=\"color: #7f7f7f; text-decoration-color: #7f7f7f\">210</span></a>\n",
       "                             been deprecated since v0.<span style=\"color: #008000; text-decoration-color: #008000\">11.0</span> and is expected                   \n",
       "                             to be removed after v0.<span style=\"color: #008000; text-decoration-color: #008000\">13.0</span>. Use plot                           \n",
       "                             instead.                                                        \n",
       "</pre>\n"
      ],
      "text/plain": [
       "\u001b[2;36m                   \u001b[0m\u001b[2;36m \u001b[0m\u001b[31mWARNING \u001b[0m The method CoordinateSystem.get_graph has     \u001b]8;id=520810;file://C:\\Users\\thoma\\AppData\\Local\\Programs\\Python\\Python39\\lib\\site-packages\\manim\\utils\\deprecation.py\u001b\\\u001b[2mdeprecation.py\u001b[0m\u001b]8;;\u001b\\\u001b[2m:\u001b[0m\u001b]8;id=319295;file://C:\\Users\\thoma\\AppData\\Local\\Programs\\Python\\Python39\\lib\\site-packages\\manim\\utils\\deprecation.py#210\u001b\\\u001b[2m210\u001b[0m\u001b]8;;\u001b\\\n",
       "                             been deprecated since v0.\u001b[32m11.0\u001b[0m and is expected                   \n",
       "                             to be removed after v0.\u001b[32m13.0\u001b[0m. Use plot                           \n",
       "                             instead.                                                        \n"
      ]
     },
     "metadata": {},
     "output_type": "display_data"
    },
    {
     "name": "stderr",
     "output_type": "stream",
     "text": [
      "Animation 1: _MethodAnimation(ValueTracker):  10%|#         | 23/225 [00:03<00:38,  5.28it/s]"
     ]
    },
    {
     "data": {
      "text/html": [
       "<pre style=\"white-space:pre;overflow-x:auto;line-height:normal;font-family:Menlo,'DejaVu Sans Mono',consolas,'Courier New',monospace\"><span style=\"color: #7fbfbf; text-decoration-color: #7fbfbf\">[01/31/22 20:55:12] </span><span style=\"color: #800000; text-decoration-color: #800000\">WARNING </span> The method CoordinateSystem.get_graph has     <a href=\"file://C:\\Users\\thoma\\AppData\\Local\\Programs\\Python\\Python39\\lib\\site-packages\\manim\\utils\\deprecation.py\"><span style=\"color: #7f7f7f; text-decoration-color: #7f7f7f\">deprecation.py</span></a><span style=\"color: #7f7f7f; text-decoration-color: #7f7f7f\">:</span><a href=\"file://C:\\Users\\thoma\\AppData\\Local\\Programs\\Python\\Python39\\lib\\site-packages\\manim\\utils\\deprecation.py#210\"><span style=\"color: #7f7f7f; text-decoration-color: #7f7f7f\">210</span></a>\n",
       "                             been deprecated since v0.<span style=\"color: #008000; text-decoration-color: #008000\">11.0</span> and is expected                   \n",
       "                             to be removed after v0.<span style=\"color: #008000; text-decoration-color: #008000\">13.0</span>. Use plot                           \n",
       "                             instead.                                                        \n",
       "</pre>\n"
      ],
      "text/plain": [
       "\u001b[2;36m[01/31/22 20:55:12]\u001b[0m\u001b[2;36m \u001b[0m\u001b[31mWARNING \u001b[0m The method CoordinateSystem.get_graph has     \u001b]8;id=917098;file://C:\\Users\\thoma\\AppData\\Local\\Programs\\Python\\Python39\\lib\\site-packages\\manim\\utils\\deprecation.py\u001b\\\u001b[2mdeprecation.py\u001b[0m\u001b]8;;\u001b\\\u001b[2m:\u001b[0m\u001b]8;id=545474;file://C:\\Users\\thoma\\AppData\\Local\\Programs\\Python\\Python39\\lib\\site-packages\\manim\\utils\\deprecation.py#210\u001b\\\u001b[2m210\u001b[0m\u001b]8;;\u001b\\\n",
       "                             been deprecated since v0.\u001b[32m11.0\u001b[0m and is expected                   \n",
       "                             to be removed after v0.\u001b[32m13.0\u001b[0m. Use plot                           \n",
       "                             instead.                                                        \n"
      ]
     },
     "metadata": {},
     "output_type": "display_data"
    },
    {
     "name": "stderr",
     "output_type": "stream",
     "text": [
      "Animation 1: _MethodAnimation(ValueTracker):  11%|#         | 24/225 [00:04<00:39,  5.13it/s]"
     ]
    },
    {
     "data": {
      "text/html": [
       "<pre style=\"white-space:pre;overflow-x:auto;line-height:normal;font-family:Menlo,'DejaVu Sans Mono',consolas,'Courier New',monospace\"><span style=\"color: #7fbfbf; text-decoration-color: #7fbfbf\">                    </span><span style=\"color: #800000; text-decoration-color: #800000\">WARNING </span> The method CoordinateSystem.get_graph has     <a href=\"file://C:\\Users\\thoma\\AppData\\Local\\Programs\\Python\\Python39\\lib\\site-packages\\manim\\utils\\deprecation.py\"><span style=\"color: #7f7f7f; text-decoration-color: #7f7f7f\">deprecation.py</span></a><span style=\"color: #7f7f7f; text-decoration-color: #7f7f7f\">:</span><a href=\"file://C:\\Users\\thoma\\AppData\\Local\\Programs\\Python\\Python39\\lib\\site-packages\\manim\\utils\\deprecation.py#210\"><span style=\"color: #7f7f7f; text-decoration-color: #7f7f7f\">210</span></a>\n",
       "                             been deprecated since v0.<span style=\"color: #008000; text-decoration-color: #008000\">11.0</span> and is expected                   \n",
       "                             to be removed after v0.<span style=\"color: #008000; text-decoration-color: #008000\">13.0</span>. Use plot                           \n",
       "                             instead.                                                        \n",
       "</pre>\n"
      ],
      "text/plain": [
       "\u001b[2;36m                   \u001b[0m\u001b[2;36m \u001b[0m\u001b[31mWARNING \u001b[0m The method CoordinateSystem.get_graph has     \u001b]8;id=849410;file://C:\\Users\\thoma\\AppData\\Local\\Programs\\Python\\Python39\\lib\\site-packages\\manim\\utils\\deprecation.py\u001b\\\u001b[2mdeprecation.py\u001b[0m\u001b]8;;\u001b\\\u001b[2m:\u001b[0m\u001b]8;id=896604;file://C:\\Users\\thoma\\AppData\\Local\\Programs\\Python\\Python39\\lib\\site-packages\\manim\\utils\\deprecation.py#210\u001b\\\u001b[2m210\u001b[0m\u001b]8;;\u001b\\\n",
       "                             been deprecated since v0.\u001b[32m11.0\u001b[0m and is expected                   \n",
       "                             to be removed after v0.\u001b[32m13.0\u001b[0m. Use plot                           \n",
       "                             instead.                                                        \n"
      ]
     },
     "metadata": {},
     "output_type": "display_data"
    },
    {
     "name": "stderr",
     "output_type": "stream",
     "text": [
      "Animation 1: _MethodAnimation(ValueTracker):  11%|#1        | 25/225 [00:04<00:39,  5.03it/s]"
     ]
    },
    {
     "data": {
      "text/html": [
       "<pre style=\"white-space:pre;overflow-x:auto;line-height:normal;font-family:Menlo,'DejaVu Sans Mono',consolas,'Courier New',monospace\"><span style=\"color: #7fbfbf; text-decoration-color: #7fbfbf\">                    </span><span style=\"color: #800000; text-decoration-color: #800000\">WARNING </span> The method CoordinateSystem.get_graph has     <a href=\"file://C:\\Users\\thoma\\AppData\\Local\\Programs\\Python\\Python39\\lib\\site-packages\\manim\\utils\\deprecation.py\"><span style=\"color: #7f7f7f; text-decoration-color: #7f7f7f\">deprecation.py</span></a><span style=\"color: #7f7f7f; text-decoration-color: #7f7f7f\">:</span><a href=\"file://C:\\Users\\thoma\\AppData\\Local\\Programs\\Python\\Python39\\lib\\site-packages\\manim\\utils\\deprecation.py#210\"><span style=\"color: #7f7f7f; text-decoration-color: #7f7f7f\">210</span></a>\n",
       "                             been deprecated since v0.<span style=\"color: #008000; text-decoration-color: #008000\">11.0</span> and is expected                   \n",
       "                             to be removed after v0.<span style=\"color: #008000; text-decoration-color: #008000\">13.0</span>. Use plot                           \n",
       "                             instead.                                                        \n",
       "</pre>\n"
      ],
      "text/plain": [
       "\u001b[2;36m                   \u001b[0m\u001b[2;36m \u001b[0m\u001b[31mWARNING \u001b[0m The method CoordinateSystem.get_graph has     \u001b]8;id=931068;file://C:\\Users\\thoma\\AppData\\Local\\Programs\\Python\\Python39\\lib\\site-packages\\manim\\utils\\deprecation.py\u001b\\\u001b[2mdeprecation.py\u001b[0m\u001b]8;;\u001b\\\u001b[2m:\u001b[0m\u001b]8;id=302159;file://C:\\Users\\thoma\\AppData\\Local\\Programs\\Python\\Python39\\lib\\site-packages\\manim\\utils\\deprecation.py#210\u001b\\\u001b[2m210\u001b[0m\u001b]8;;\u001b\\\n",
       "                             been deprecated since v0.\u001b[32m11.0\u001b[0m and is expected                   \n",
       "                             to be removed after v0.\u001b[32m13.0\u001b[0m. Use plot                           \n",
       "                             instead.                                                        \n"
      ]
     },
     "metadata": {},
     "output_type": "display_data"
    },
    {
     "name": "stderr",
     "output_type": "stream",
     "text": [
      "Animation 1: _MethodAnimation(ValueTracker):  12%|#1        | 26/225 [00:04<00:39,  5.02it/s]"
     ]
    },
    {
     "data": {
      "text/html": [
       "<pre style=\"white-space:pre;overflow-x:auto;line-height:normal;font-family:Menlo,'DejaVu Sans Mono',consolas,'Courier New',monospace\"><span style=\"color: #7fbfbf; text-decoration-color: #7fbfbf\">                    </span><span style=\"color: #800000; text-decoration-color: #800000\">WARNING </span> The method CoordinateSystem.get_graph has     <a href=\"file://C:\\Users\\thoma\\AppData\\Local\\Programs\\Python\\Python39\\lib\\site-packages\\manim\\utils\\deprecation.py\"><span style=\"color: #7f7f7f; text-decoration-color: #7f7f7f\">deprecation.py</span></a><span style=\"color: #7f7f7f; text-decoration-color: #7f7f7f\">:</span><a href=\"file://C:\\Users\\thoma\\AppData\\Local\\Programs\\Python\\Python39\\lib\\site-packages\\manim\\utils\\deprecation.py#210\"><span style=\"color: #7f7f7f; text-decoration-color: #7f7f7f\">210</span></a>\n",
       "                             been deprecated since v0.<span style=\"color: #008000; text-decoration-color: #008000\">11.0</span> and is expected                   \n",
       "                             to be removed after v0.<span style=\"color: #008000; text-decoration-color: #008000\">13.0</span>. Use plot                           \n",
       "                             instead.                                                        \n",
       "</pre>\n"
      ],
      "text/plain": [
       "\u001b[2;36m                   \u001b[0m\u001b[2;36m \u001b[0m\u001b[31mWARNING \u001b[0m The method CoordinateSystem.get_graph has     \u001b]8;id=274662;file://C:\\Users\\thoma\\AppData\\Local\\Programs\\Python\\Python39\\lib\\site-packages\\manim\\utils\\deprecation.py\u001b\\\u001b[2mdeprecation.py\u001b[0m\u001b]8;;\u001b\\\u001b[2m:\u001b[0m\u001b]8;id=165778;file://C:\\Users\\thoma\\AppData\\Local\\Programs\\Python\\Python39\\lib\\site-packages\\manim\\utils\\deprecation.py#210\u001b\\\u001b[2m210\u001b[0m\u001b]8;;\u001b\\\n",
       "                             been deprecated since v0.\u001b[32m11.0\u001b[0m and is expected                   \n",
       "                             to be removed after v0.\u001b[32m13.0\u001b[0m. Use plot                           \n",
       "                             instead.                                                        \n"
      ]
     },
     "metadata": {},
     "output_type": "display_data"
    },
    {
     "name": "stderr",
     "output_type": "stream",
     "text": [
      "Animation 1: _MethodAnimation(ValueTracker):  12%|#2        | 27/225 [00:04<00:41,  4.79it/s]"
     ]
    },
    {
     "data": {
      "text/html": [
       "<pre style=\"white-space:pre;overflow-x:auto;line-height:normal;font-family:Menlo,'DejaVu Sans Mono',consolas,'Courier New',monospace\"><span style=\"color: #7fbfbf; text-decoration-color: #7fbfbf\">                    </span><span style=\"color: #800000; text-decoration-color: #800000\">WARNING </span> The method CoordinateSystem.get_graph has     <a href=\"file://C:\\Users\\thoma\\AppData\\Local\\Programs\\Python\\Python39\\lib\\site-packages\\manim\\utils\\deprecation.py\"><span style=\"color: #7f7f7f; text-decoration-color: #7f7f7f\">deprecation.py</span></a><span style=\"color: #7f7f7f; text-decoration-color: #7f7f7f\">:</span><a href=\"file://C:\\Users\\thoma\\AppData\\Local\\Programs\\Python\\Python39\\lib\\site-packages\\manim\\utils\\deprecation.py#210\"><span style=\"color: #7f7f7f; text-decoration-color: #7f7f7f\">210</span></a>\n",
       "                             been deprecated since v0.<span style=\"color: #008000; text-decoration-color: #008000\">11.0</span> and is expected                   \n",
       "                             to be removed after v0.<span style=\"color: #008000; text-decoration-color: #008000\">13.0</span>. Use plot                           \n",
       "                             instead.                                                        \n",
       "</pre>\n"
      ],
      "text/plain": [
       "\u001b[2;36m                   \u001b[0m\u001b[2;36m \u001b[0m\u001b[31mWARNING \u001b[0m The method CoordinateSystem.get_graph has     \u001b]8;id=742231;file://C:\\Users\\thoma\\AppData\\Local\\Programs\\Python\\Python39\\lib\\site-packages\\manim\\utils\\deprecation.py\u001b\\\u001b[2mdeprecation.py\u001b[0m\u001b]8;;\u001b\\\u001b[2m:\u001b[0m\u001b]8;id=596100;file://C:\\Users\\thoma\\AppData\\Local\\Programs\\Python\\Python39\\lib\\site-packages\\manim\\utils\\deprecation.py#210\u001b\\\u001b[2m210\u001b[0m\u001b]8;;\u001b\\\n",
       "                             been deprecated since v0.\u001b[32m11.0\u001b[0m and is expected                   \n",
       "                             to be removed after v0.\u001b[32m13.0\u001b[0m. Use plot                           \n",
       "                             instead.                                                        \n"
      ]
     },
     "metadata": {},
     "output_type": "display_data"
    },
    {
     "name": "stderr",
     "output_type": "stream",
     "text": [
      "Animation 1: _MethodAnimation(ValueTracker):  12%|#2        | 28/225 [00:04<00:41,  4.78it/s]"
     ]
    },
    {
     "data": {
      "text/html": [
       "<pre style=\"white-space:pre;overflow-x:auto;line-height:normal;font-family:Menlo,'DejaVu Sans Mono',consolas,'Courier New',monospace\"><span style=\"color: #7fbfbf; text-decoration-color: #7fbfbf\">[01/31/22 20:55:13] </span><span style=\"color: #800000; text-decoration-color: #800000\">WARNING </span> The method CoordinateSystem.get_graph has     <a href=\"file://C:\\Users\\thoma\\AppData\\Local\\Programs\\Python\\Python39\\lib\\site-packages\\manim\\utils\\deprecation.py\"><span style=\"color: #7f7f7f; text-decoration-color: #7f7f7f\">deprecation.py</span></a><span style=\"color: #7f7f7f; text-decoration-color: #7f7f7f\">:</span><a href=\"file://C:\\Users\\thoma\\AppData\\Local\\Programs\\Python\\Python39\\lib\\site-packages\\manim\\utils\\deprecation.py#210\"><span style=\"color: #7f7f7f; text-decoration-color: #7f7f7f\">210</span></a>\n",
       "                             been deprecated since v0.<span style=\"color: #008000; text-decoration-color: #008000\">11.0</span> and is expected                   \n",
       "                             to be removed after v0.<span style=\"color: #008000; text-decoration-color: #008000\">13.0</span>. Use plot                           \n",
       "                             instead.                                                        \n",
       "</pre>\n"
      ],
      "text/plain": [
       "\u001b[2;36m[01/31/22 20:55:13]\u001b[0m\u001b[2;36m \u001b[0m\u001b[31mWARNING \u001b[0m The method CoordinateSystem.get_graph has     \u001b]8;id=834725;file://C:\\Users\\thoma\\AppData\\Local\\Programs\\Python\\Python39\\lib\\site-packages\\manim\\utils\\deprecation.py\u001b\\\u001b[2mdeprecation.py\u001b[0m\u001b]8;;\u001b\\\u001b[2m:\u001b[0m\u001b]8;id=686939;file://C:\\Users\\thoma\\AppData\\Local\\Programs\\Python\\Python39\\lib\\site-packages\\manim\\utils\\deprecation.py#210\u001b\\\u001b[2m210\u001b[0m\u001b]8;;\u001b\\\n",
       "                             been deprecated since v0.\u001b[32m11.0\u001b[0m and is expected                   \n",
       "                             to be removed after v0.\u001b[32m13.0\u001b[0m. Use plot                           \n",
       "                             instead.                                                        \n"
      ]
     },
     "metadata": {},
     "output_type": "display_data"
    },
    {
     "name": "stderr",
     "output_type": "stream",
     "text": [
      "Animation 1: _MethodAnimation(ValueTracker):  13%|#2        | 29/225 [00:05<00:40,  4.79it/s]"
     ]
    },
    {
     "data": {
      "text/html": [
       "<pre style=\"white-space:pre;overflow-x:auto;line-height:normal;font-family:Menlo,'DejaVu Sans Mono',consolas,'Courier New',monospace\"><span style=\"color: #7fbfbf; text-decoration-color: #7fbfbf\">                    </span><span style=\"color: #800000; text-decoration-color: #800000\">WARNING </span> The method CoordinateSystem.get_graph has     <a href=\"file://C:\\Users\\thoma\\AppData\\Local\\Programs\\Python\\Python39\\lib\\site-packages\\manim\\utils\\deprecation.py\"><span style=\"color: #7f7f7f; text-decoration-color: #7f7f7f\">deprecation.py</span></a><span style=\"color: #7f7f7f; text-decoration-color: #7f7f7f\">:</span><a href=\"file://C:\\Users\\thoma\\AppData\\Local\\Programs\\Python\\Python39\\lib\\site-packages\\manim\\utils\\deprecation.py#210\"><span style=\"color: #7f7f7f; text-decoration-color: #7f7f7f\">210</span></a>\n",
       "                             been deprecated since v0.<span style=\"color: #008000; text-decoration-color: #008000\">11.0</span> and is expected                   \n",
       "                             to be removed after v0.<span style=\"color: #008000; text-decoration-color: #008000\">13.0</span>. Use plot                           \n",
       "                             instead.                                                        \n",
       "</pre>\n"
      ],
      "text/plain": [
       "\u001b[2;36m                   \u001b[0m\u001b[2;36m \u001b[0m\u001b[31mWARNING \u001b[0m The method CoordinateSystem.get_graph has     \u001b]8;id=819709;file://C:\\Users\\thoma\\AppData\\Local\\Programs\\Python\\Python39\\lib\\site-packages\\manim\\utils\\deprecation.py\u001b\\\u001b[2mdeprecation.py\u001b[0m\u001b]8;;\u001b\\\u001b[2m:\u001b[0m\u001b]8;id=727464;file://C:\\Users\\thoma\\AppData\\Local\\Programs\\Python\\Python39\\lib\\site-packages\\manim\\utils\\deprecation.py#210\u001b\\\u001b[2m210\u001b[0m\u001b]8;;\u001b\\\n",
       "                             been deprecated since v0.\u001b[32m11.0\u001b[0m and is expected                   \n",
       "                             to be removed after v0.\u001b[32m13.0\u001b[0m. Use plot                           \n",
       "                             instead.                                                        \n"
      ]
     },
     "metadata": {},
     "output_type": "display_data"
    },
    {
     "name": "stderr",
     "output_type": "stream",
     "text": [
      "Animation 1: _MethodAnimation(ValueTracker):  13%|#3        | 30/225 [00:05<00:40,  4.83it/s]"
     ]
    },
    {
     "data": {
      "text/html": [
       "<pre style=\"white-space:pre;overflow-x:auto;line-height:normal;font-family:Menlo,'DejaVu Sans Mono',consolas,'Courier New',monospace\"><span style=\"color: #7fbfbf; text-decoration-color: #7fbfbf\">                    </span><span style=\"color: #800000; text-decoration-color: #800000\">WARNING </span> The method CoordinateSystem.get_graph has     <a href=\"file://C:\\Users\\thoma\\AppData\\Local\\Programs\\Python\\Python39\\lib\\site-packages\\manim\\utils\\deprecation.py\"><span style=\"color: #7f7f7f; text-decoration-color: #7f7f7f\">deprecation.py</span></a><span style=\"color: #7f7f7f; text-decoration-color: #7f7f7f\">:</span><a href=\"file://C:\\Users\\thoma\\AppData\\Local\\Programs\\Python\\Python39\\lib\\site-packages\\manim\\utils\\deprecation.py#210\"><span style=\"color: #7f7f7f; text-decoration-color: #7f7f7f\">210</span></a>\n",
       "                             been deprecated since v0.<span style=\"color: #008000; text-decoration-color: #008000\">11.0</span> and is expected                   \n",
       "                             to be removed after v0.<span style=\"color: #008000; text-decoration-color: #008000\">13.0</span>. Use plot                           \n",
       "                             instead.                                                        \n",
       "</pre>\n"
      ],
      "text/plain": [
       "\u001b[2;36m                   \u001b[0m\u001b[2;36m \u001b[0m\u001b[31mWARNING \u001b[0m The method CoordinateSystem.get_graph has     \u001b]8;id=422409;file://C:\\Users\\thoma\\AppData\\Local\\Programs\\Python\\Python39\\lib\\site-packages\\manim\\utils\\deprecation.py\u001b\\\u001b[2mdeprecation.py\u001b[0m\u001b]8;;\u001b\\\u001b[2m:\u001b[0m\u001b]8;id=213502;file://C:\\Users\\thoma\\AppData\\Local\\Programs\\Python\\Python39\\lib\\site-packages\\manim\\utils\\deprecation.py#210\u001b\\\u001b[2m210\u001b[0m\u001b]8;;\u001b\\\n",
       "                             been deprecated since v0.\u001b[32m11.0\u001b[0m and is expected                   \n",
       "                             to be removed after v0.\u001b[32m13.0\u001b[0m. Use plot                           \n",
       "                             instead.                                                        \n"
      ]
     },
     "metadata": {},
     "output_type": "display_data"
    },
    {
     "name": "stderr",
     "output_type": "stream",
     "text": [
      "Animation 1: _MethodAnimation(ValueTracker):  14%|#3        | 31/225 [00:05<00:40,  4.83it/s]"
     ]
    },
    {
     "data": {
      "text/html": [
       "<pre style=\"white-space:pre;overflow-x:auto;line-height:normal;font-family:Menlo,'DejaVu Sans Mono',consolas,'Courier New',monospace\"><span style=\"color: #7fbfbf; text-decoration-color: #7fbfbf\">                    </span><span style=\"color: #800000; text-decoration-color: #800000\">WARNING </span> The method CoordinateSystem.get_graph has     <a href=\"file://C:\\Users\\thoma\\AppData\\Local\\Programs\\Python\\Python39\\lib\\site-packages\\manim\\utils\\deprecation.py\"><span style=\"color: #7f7f7f; text-decoration-color: #7f7f7f\">deprecation.py</span></a><span style=\"color: #7f7f7f; text-decoration-color: #7f7f7f\">:</span><a href=\"file://C:\\Users\\thoma\\AppData\\Local\\Programs\\Python\\Python39\\lib\\site-packages\\manim\\utils\\deprecation.py#210\"><span style=\"color: #7f7f7f; text-decoration-color: #7f7f7f\">210</span></a>\n",
       "                             been deprecated since v0.<span style=\"color: #008000; text-decoration-color: #008000\">11.0</span> and is expected                   \n",
       "                             to be removed after v0.<span style=\"color: #008000; text-decoration-color: #008000\">13.0</span>. Use plot                           \n",
       "                             instead.                                                        \n",
       "</pre>\n"
      ],
      "text/plain": [
       "\u001b[2;36m                   \u001b[0m\u001b[2;36m \u001b[0m\u001b[31mWARNING \u001b[0m The method CoordinateSystem.get_graph has     \u001b]8;id=490647;file://C:\\Users\\thoma\\AppData\\Local\\Programs\\Python\\Python39\\lib\\site-packages\\manim\\utils\\deprecation.py\u001b\\\u001b[2mdeprecation.py\u001b[0m\u001b]8;;\u001b\\\u001b[2m:\u001b[0m\u001b]8;id=99753;file://C:\\Users\\thoma\\AppData\\Local\\Programs\\Python\\Python39\\lib\\site-packages\\manim\\utils\\deprecation.py#210\u001b\\\u001b[2m210\u001b[0m\u001b]8;;\u001b\\\n",
       "                             been deprecated since v0.\u001b[32m11.0\u001b[0m and is expected                   \n",
       "                             to be removed after v0.\u001b[32m13.0\u001b[0m. Use plot                           \n",
       "                             instead.                                                        \n"
      ]
     },
     "metadata": {},
     "output_type": "display_data"
    },
    {
     "name": "stderr",
     "output_type": "stream",
     "text": [
      "Animation 1: _MethodAnimation(ValueTracker):  14%|#4        | 32/225 [00:05<00:40,  4.73it/s]"
     ]
    },
    {
     "data": {
      "text/html": [
       "<pre style=\"white-space:pre;overflow-x:auto;line-height:normal;font-family:Menlo,'DejaVu Sans Mono',consolas,'Courier New',monospace\"><span style=\"color: #7fbfbf; text-decoration-color: #7fbfbf\">                    </span><span style=\"color: #800000; text-decoration-color: #800000\">WARNING </span> The method CoordinateSystem.get_graph has     <a href=\"file://C:\\Users\\thoma\\AppData\\Local\\Programs\\Python\\Python39\\lib\\site-packages\\manim\\utils\\deprecation.py\"><span style=\"color: #7f7f7f; text-decoration-color: #7f7f7f\">deprecation.py</span></a><span style=\"color: #7f7f7f; text-decoration-color: #7f7f7f\">:</span><a href=\"file://C:\\Users\\thoma\\AppData\\Local\\Programs\\Python\\Python39\\lib\\site-packages\\manim\\utils\\deprecation.py#210\"><span style=\"color: #7f7f7f; text-decoration-color: #7f7f7f\">210</span></a>\n",
       "                             been deprecated since v0.<span style=\"color: #008000; text-decoration-color: #008000\">11.0</span> and is expected                   \n",
       "                             to be removed after v0.<span style=\"color: #008000; text-decoration-color: #008000\">13.0</span>. Use plot                           \n",
       "                             instead.                                                        \n",
       "</pre>\n"
      ],
      "text/plain": [
       "\u001b[2;36m                   \u001b[0m\u001b[2;36m \u001b[0m\u001b[31mWARNING \u001b[0m The method CoordinateSystem.get_graph has     \u001b]8;id=771036;file://C:\\Users\\thoma\\AppData\\Local\\Programs\\Python\\Python39\\lib\\site-packages\\manim\\utils\\deprecation.py\u001b\\\u001b[2mdeprecation.py\u001b[0m\u001b]8;;\u001b\\\u001b[2m:\u001b[0m\u001b]8;id=701377;file://C:\\Users\\thoma\\AppData\\Local\\Programs\\Python\\Python39\\lib\\site-packages\\manim\\utils\\deprecation.py#210\u001b\\\u001b[2m210\u001b[0m\u001b]8;;\u001b\\\n",
       "                             been deprecated since v0.\u001b[32m11.0\u001b[0m and is expected                   \n",
       "                             to be removed after v0.\u001b[32m13.0\u001b[0m. Use plot                           \n",
       "                             instead.                                                        \n"
      ]
     },
     "metadata": {},
     "output_type": "display_data"
    },
    {
     "name": "stderr",
     "output_type": "stream",
     "text": [
      "Animation 1: _MethodAnimation(ValueTracker):  15%|#4        | 33/225 [00:06<00:42,  4.54it/s]"
     ]
    },
    {
     "data": {
      "text/html": [
       "<pre style=\"white-space:pre;overflow-x:auto;line-height:normal;font-family:Menlo,'DejaVu Sans Mono',consolas,'Courier New',monospace\"><span style=\"color: #7fbfbf; text-decoration-color: #7fbfbf\">[01/31/22 20:55:14] </span><span style=\"color: #800000; text-decoration-color: #800000\">WARNING </span> The method CoordinateSystem.get_graph has     <a href=\"file://C:\\Users\\thoma\\AppData\\Local\\Programs\\Python\\Python39\\lib\\site-packages\\manim\\utils\\deprecation.py\"><span style=\"color: #7f7f7f; text-decoration-color: #7f7f7f\">deprecation.py</span></a><span style=\"color: #7f7f7f; text-decoration-color: #7f7f7f\">:</span><a href=\"file://C:\\Users\\thoma\\AppData\\Local\\Programs\\Python\\Python39\\lib\\site-packages\\manim\\utils\\deprecation.py#210\"><span style=\"color: #7f7f7f; text-decoration-color: #7f7f7f\">210</span></a>\n",
       "                             been deprecated since v0.<span style=\"color: #008000; text-decoration-color: #008000\">11.0</span> and is expected                   \n",
       "                             to be removed after v0.<span style=\"color: #008000; text-decoration-color: #008000\">13.0</span>. Use plot                           \n",
       "                             instead.                                                        \n",
       "</pre>\n"
      ],
      "text/plain": [
       "\u001b[2;36m[01/31/22 20:55:14]\u001b[0m\u001b[2;36m \u001b[0m\u001b[31mWARNING \u001b[0m The method CoordinateSystem.get_graph has     \u001b]8;id=443453;file://C:\\Users\\thoma\\AppData\\Local\\Programs\\Python\\Python39\\lib\\site-packages\\manim\\utils\\deprecation.py\u001b\\\u001b[2mdeprecation.py\u001b[0m\u001b]8;;\u001b\\\u001b[2m:\u001b[0m\u001b]8;id=775561;file://C:\\Users\\thoma\\AppData\\Local\\Programs\\Python\\Python39\\lib\\site-packages\\manim\\utils\\deprecation.py#210\u001b\\\u001b[2m210\u001b[0m\u001b]8;;\u001b\\\n",
       "                             been deprecated since v0.\u001b[32m11.0\u001b[0m and is expected                   \n",
       "                             to be removed after v0.\u001b[32m13.0\u001b[0m. Use plot                           \n",
       "                             instead.                                                        \n"
      ]
     },
     "metadata": {},
     "output_type": "display_data"
    },
    {
     "name": "stderr",
     "output_type": "stream",
     "text": [
      "Animation 1: _MethodAnimation(ValueTracker):  15%|#5        | 34/225 [00:06<00:44,  4.32it/s]"
     ]
    },
    {
     "data": {
      "text/html": [
       "<pre style=\"white-space:pre;overflow-x:auto;line-height:normal;font-family:Menlo,'DejaVu Sans Mono',consolas,'Courier New',monospace\"><span style=\"color: #7fbfbf; text-decoration-color: #7fbfbf\">                    </span><span style=\"color: #800000; text-decoration-color: #800000\">WARNING </span> The method CoordinateSystem.get_graph has     <a href=\"file://C:\\Users\\thoma\\AppData\\Local\\Programs\\Python\\Python39\\lib\\site-packages\\manim\\utils\\deprecation.py\"><span style=\"color: #7f7f7f; text-decoration-color: #7f7f7f\">deprecation.py</span></a><span style=\"color: #7f7f7f; text-decoration-color: #7f7f7f\">:</span><a href=\"file://C:\\Users\\thoma\\AppData\\Local\\Programs\\Python\\Python39\\lib\\site-packages\\manim\\utils\\deprecation.py#210\"><span style=\"color: #7f7f7f; text-decoration-color: #7f7f7f\">210</span></a>\n",
       "                             been deprecated since v0.<span style=\"color: #008000; text-decoration-color: #008000\">11.0</span> and is expected                   \n",
       "                             to be removed after v0.<span style=\"color: #008000; text-decoration-color: #008000\">13.0</span>. Use plot                           \n",
       "                             instead.                                                        \n",
       "</pre>\n"
      ],
      "text/plain": [
       "\u001b[2;36m                   \u001b[0m\u001b[2;36m \u001b[0m\u001b[31mWARNING \u001b[0m The method CoordinateSystem.get_graph has     \u001b]8;id=575110;file://C:\\Users\\thoma\\AppData\\Local\\Programs\\Python\\Python39\\lib\\site-packages\\manim\\utils\\deprecation.py\u001b\\\u001b[2mdeprecation.py\u001b[0m\u001b]8;;\u001b\\\u001b[2m:\u001b[0m\u001b]8;id=123519;file://C:\\Users\\thoma\\AppData\\Local\\Programs\\Python\\Python39\\lib\\site-packages\\manim\\utils\\deprecation.py#210\u001b\\\u001b[2m210\u001b[0m\u001b]8;;\u001b\\\n",
       "                             been deprecated since v0.\u001b[32m11.0\u001b[0m and is expected                   \n",
       "                             to be removed after v0.\u001b[32m13.0\u001b[0m. Use plot                           \n",
       "                             instead.                                                        \n"
      ]
     },
     "metadata": {},
     "output_type": "display_data"
    },
    {
     "name": "stderr",
     "output_type": "stream",
     "text": [
      "Animation 1: _MethodAnimation(ValueTracker):  16%|#5        | 35/225 [00:06<00:45,  4.22it/s]"
     ]
    },
    {
     "data": {
      "text/html": [
       "<pre style=\"white-space:pre;overflow-x:auto;line-height:normal;font-family:Menlo,'DejaVu Sans Mono',consolas,'Courier New',monospace\"><span style=\"color: #7fbfbf; text-decoration-color: #7fbfbf\">                    </span><span style=\"color: #800000; text-decoration-color: #800000\">WARNING </span> The method CoordinateSystem.get_graph has     <a href=\"file://C:\\Users\\thoma\\AppData\\Local\\Programs\\Python\\Python39\\lib\\site-packages\\manim\\utils\\deprecation.py\"><span style=\"color: #7f7f7f; text-decoration-color: #7f7f7f\">deprecation.py</span></a><span style=\"color: #7f7f7f; text-decoration-color: #7f7f7f\">:</span><a href=\"file://C:\\Users\\thoma\\AppData\\Local\\Programs\\Python\\Python39\\lib\\site-packages\\manim\\utils\\deprecation.py#210\"><span style=\"color: #7f7f7f; text-decoration-color: #7f7f7f\">210</span></a>\n",
       "                             been deprecated since v0.<span style=\"color: #008000; text-decoration-color: #008000\">11.0</span> and is expected                   \n",
       "                             to be removed after v0.<span style=\"color: #008000; text-decoration-color: #008000\">13.0</span>. Use plot                           \n",
       "                             instead.                                                        \n",
       "</pre>\n"
      ],
      "text/plain": [
       "\u001b[2;36m                   \u001b[0m\u001b[2;36m \u001b[0m\u001b[31mWARNING \u001b[0m The method CoordinateSystem.get_graph has     \u001b]8;id=980815;file://C:\\Users\\thoma\\AppData\\Local\\Programs\\Python\\Python39\\lib\\site-packages\\manim\\utils\\deprecation.py\u001b\\\u001b[2mdeprecation.py\u001b[0m\u001b]8;;\u001b\\\u001b[2m:\u001b[0m\u001b]8;id=671739;file://C:\\Users\\thoma\\AppData\\Local\\Programs\\Python\\Python39\\lib\\site-packages\\manim\\utils\\deprecation.py#210\u001b\\\u001b[2m210\u001b[0m\u001b]8;;\u001b\\\n",
       "                             been deprecated since v0.\u001b[32m11.0\u001b[0m and is expected                   \n",
       "                             to be removed after v0.\u001b[32m13.0\u001b[0m. Use plot                           \n",
       "                             instead.                                                        \n"
      ]
     },
     "metadata": {},
     "output_type": "display_data"
    },
    {
     "name": "stderr",
     "output_type": "stream",
     "text": [
      "Animation 1: _MethodAnimation(ValueTracker):  16%|#6        | 36/225 [00:06<00:45,  4.19it/s]"
     ]
    },
    {
     "data": {
      "text/html": [
       "<pre style=\"white-space:pre;overflow-x:auto;line-height:normal;font-family:Menlo,'DejaVu Sans Mono',consolas,'Courier New',monospace\"><span style=\"color: #7fbfbf; text-decoration-color: #7fbfbf\">                    </span><span style=\"color: #800000; text-decoration-color: #800000\">WARNING </span> The method CoordinateSystem.get_graph has     <a href=\"file://C:\\Users\\thoma\\AppData\\Local\\Programs\\Python\\Python39\\lib\\site-packages\\manim\\utils\\deprecation.py\"><span style=\"color: #7f7f7f; text-decoration-color: #7f7f7f\">deprecation.py</span></a><span style=\"color: #7f7f7f; text-decoration-color: #7f7f7f\">:</span><a href=\"file://C:\\Users\\thoma\\AppData\\Local\\Programs\\Python\\Python39\\lib\\site-packages\\manim\\utils\\deprecation.py#210\"><span style=\"color: #7f7f7f; text-decoration-color: #7f7f7f\">210</span></a>\n",
       "                             been deprecated since v0.<span style=\"color: #008000; text-decoration-color: #008000\">11.0</span> and is expected                   \n",
       "                             to be removed after v0.<span style=\"color: #008000; text-decoration-color: #008000\">13.0</span>. Use plot                           \n",
       "                             instead.                                                        \n",
       "</pre>\n"
      ],
      "text/plain": [
       "\u001b[2;36m                   \u001b[0m\u001b[2;36m \u001b[0m\u001b[31mWARNING \u001b[0m The method CoordinateSystem.get_graph has     \u001b]8;id=571466;file://C:\\Users\\thoma\\AppData\\Local\\Programs\\Python\\Python39\\lib\\site-packages\\manim\\utils\\deprecation.py\u001b\\\u001b[2mdeprecation.py\u001b[0m\u001b]8;;\u001b\\\u001b[2m:\u001b[0m\u001b]8;id=246247;file://C:\\Users\\thoma\\AppData\\Local\\Programs\\Python\\Python39\\lib\\site-packages\\manim\\utils\\deprecation.py#210\u001b\\\u001b[2m210\u001b[0m\u001b]8;;\u001b\\\n",
       "                             been deprecated since v0.\u001b[32m11.0\u001b[0m and is expected                   \n",
       "                             to be removed after v0.\u001b[32m13.0\u001b[0m. Use plot                           \n",
       "                             instead.                                                        \n"
      ]
     },
     "metadata": {},
     "output_type": "display_data"
    },
    {
     "name": "stderr",
     "output_type": "stream",
     "text": [
      "Animation 1: _MethodAnimation(ValueTracker):  16%|#6        | 37/225 [00:07<00:46,  4.04it/s]"
     ]
    },
    {
     "data": {
      "text/html": [
       "<pre style=\"white-space:pre;overflow-x:auto;line-height:normal;font-family:Menlo,'DejaVu Sans Mono',consolas,'Courier New',monospace\"><span style=\"color: #7fbfbf; text-decoration-color: #7fbfbf\">[01/31/22 20:55:15] </span><span style=\"color: #800000; text-decoration-color: #800000\">WARNING </span> The method CoordinateSystem.get_graph has     <a href=\"file://C:\\Users\\thoma\\AppData\\Local\\Programs\\Python\\Python39\\lib\\site-packages\\manim\\utils\\deprecation.py\"><span style=\"color: #7f7f7f; text-decoration-color: #7f7f7f\">deprecation.py</span></a><span style=\"color: #7f7f7f; text-decoration-color: #7f7f7f\">:</span><a href=\"file://C:\\Users\\thoma\\AppData\\Local\\Programs\\Python\\Python39\\lib\\site-packages\\manim\\utils\\deprecation.py#210\"><span style=\"color: #7f7f7f; text-decoration-color: #7f7f7f\">210</span></a>\n",
       "                             been deprecated since v0.<span style=\"color: #008000; text-decoration-color: #008000\">11.0</span> and is expected                   \n",
       "                             to be removed after v0.<span style=\"color: #008000; text-decoration-color: #008000\">13.0</span>. Use plot                           \n",
       "                             instead.                                                        \n",
       "</pre>\n"
      ],
      "text/plain": [
       "\u001b[2;36m[01/31/22 20:55:15]\u001b[0m\u001b[2;36m \u001b[0m\u001b[31mWARNING \u001b[0m The method CoordinateSystem.get_graph has     \u001b]8;id=809444;file://C:\\Users\\thoma\\AppData\\Local\\Programs\\Python\\Python39\\lib\\site-packages\\manim\\utils\\deprecation.py\u001b\\\u001b[2mdeprecation.py\u001b[0m\u001b]8;;\u001b\\\u001b[2m:\u001b[0m\u001b]8;id=405200;file://C:\\Users\\thoma\\AppData\\Local\\Programs\\Python\\Python39\\lib\\site-packages\\manim\\utils\\deprecation.py#210\u001b\\\u001b[2m210\u001b[0m\u001b]8;;\u001b\\\n",
       "                             been deprecated since v0.\u001b[32m11.0\u001b[0m and is expected                   \n",
       "                             to be removed after v0.\u001b[32m13.0\u001b[0m. Use plot                           \n",
       "                             instead.                                                        \n"
      ]
     },
     "metadata": {},
     "output_type": "display_data"
    },
    {
     "name": "stderr",
     "output_type": "stream",
     "text": [
      "Animation 1: _MethodAnimation(ValueTracker):  17%|#6        | 38/225 [00:07<00:54,  3.44it/s]"
     ]
    },
    {
     "data": {
      "text/html": [
       "<pre style=\"white-space:pre;overflow-x:auto;line-height:normal;font-family:Menlo,'DejaVu Sans Mono',consolas,'Courier New',monospace\"><span style=\"color: #7fbfbf; text-decoration-color: #7fbfbf\">                    </span><span style=\"color: #800000; text-decoration-color: #800000\">WARNING </span> The method CoordinateSystem.get_graph has     <a href=\"file://C:\\Users\\thoma\\AppData\\Local\\Programs\\Python\\Python39\\lib\\site-packages\\manim\\utils\\deprecation.py\"><span style=\"color: #7f7f7f; text-decoration-color: #7f7f7f\">deprecation.py</span></a><span style=\"color: #7f7f7f; text-decoration-color: #7f7f7f\">:</span><a href=\"file://C:\\Users\\thoma\\AppData\\Local\\Programs\\Python\\Python39\\lib\\site-packages\\manim\\utils\\deprecation.py#210\"><span style=\"color: #7f7f7f; text-decoration-color: #7f7f7f\">210</span></a>\n",
       "                             been deprecated since v0.<span style=\"color: #008000; text-decoration-color: #008000\">11.0</span> and is expected                   \n",
       "                             to be removed after v0.<span style=\"color: #008000; text-decoration-color: #008000\">13.0</span>. Use plot                           \n",
       "                             instead.                                                        \n",
       "</pre>\n"
      ],
      "text/plain": [
       "\u001b[2;36m                   \u001b[0m\u001b[2;36m \u001b[0m\u001b[31mWARNING \u001b[0m The method CoordinateSystem.get_graph has     \u001b]8;id=207781;file://C:\\Users\\thoma\\AppData\\Local\\Programs\\Python\\Python39\\lib\\site-packages\\manim\\utils\\deprecation.py\u001b\\\u001b[2mdeprecation.py\u001b[0m\u001b]8;;\u001b\\\u001b[2m:\u001b[0m\u001b]8;id=522378;file://C:\\Users\\thoma\\AppData\\Local\\Programs\\Python\\Python39\\lib\\site-packages\\manim\\utils\\deprecation.py#210\u001b\\\u001b[2m210\u001b[0m\u001b]8;;\u001b\\\n",
       "                             been deprecated since v0.\u001b[32m11.0\u001b[0m and is expected                   \n",
       "                             to be removed after v0.\u001b[32m13.0\u001b[0m. Use plot                           \n",
       "                             instead.                                                        \n"
      ]
     },
     "metadata": {},
     "output_type": "display_data"
    },
    {
     "name": "stderr",
     "output_type": "stream",
     "text": [
      "Animation 1: _MethodAnimation(ValueTracker):  17%|#7        | 39/225 [00:07<00:59,  3.12it/s]"
     ]
    },
    {
     "data": {
      "text/html": [
       "<pre style=\"white-space:pre;overflow-x:auto;line-height:normal;font-family:Menlo,'DejaVu Sans Mono',consolas,'Courier New',monospace\"><span style=\"color: #7fbfbf; text-decoration-color: #7fbfbf\">[01/31/22 20:55:16] </span><span style=\"color: #800000; text-decoration-color: #800000\">WARNING </span> The method CoordinateSystem.get_graph has     <a href=\"file://C:\\Users\\thoma\\AppData\\Local\\Programs\\Python\\Python39\\lib\\site-packages\\manim\\utils\\deprecation.py\"><span style=\"color: #7f7f7f; text-decoration-color: #7f7f7f\">deprecation.py</span></a><span style=\"color: #7f7f7f; text-decoration-color: #7f7f7f\">:</span><a href=\"file://C:\\Users\\thoma\\AppData\\Local\\Programs\\Python\\Python39\\lib\\site-packages\\manim\\utils\\deprecation.py#210\"><span style=\"color: #7f7f7f; text-decoration-color: #7f7f7f\">210</span></a>\n",
       "                             been deprecated since v0.<span style=\"color: #008000; text-decoration-color: #008000\">11.0</span> and is expected                   \n",
       "                             to be removed after v0.<span style=\"color: #008000; text-decoration-color: #008000\">13.0</span>. Use plot                           \n",
       "                             instead.                                                        \n",
       "</pre>\n"
      ],
      "text/plain": [
       "\u001b[2;36m[01/31/22 20:55:16]\u001b[0m\u001b[2;36m \u001b[0m\u001b[31mWARNING \u001b[0m The method CoordinateSystem.get_graph has     \u001b]8;id=80886;file://C:\\Users\\thoma\\AppData\\Local\\Programs\\Python\\Python39\\lib\\site-packages\\manim\\utils\\deprecation.py\u001b\\\u001b[2mdeprecation.py\u001b[0m\u001b]8;;\u001b\\\u001b[2m:\u001b[0m\u001b]8;id=542133;file://C:\\Users\\thoma\\AppData\\Local\\Programs\\Python\\Python39\\lib\\site-packages\\manim\\utils\\deprecation.py#210\u001b\\\u001b[2m210\u001b[0m\u001b]8;;\u001b\\\n",
       "                             been deprecated since v0.\u001b[32m11.0\u001b[0m and is expected                   \n",
       "                             to be removed after v0.\u001b[32m13.0\u001b[0m. Use plot                           \n",
       "                             instead.                                                        \n"
      ]
     },
     "metadata": {},
     "output_type": "display_data"
    },
    {
     "name": "stderr",
     "output_type": "stream",
     "text": [
      "Animation 1: _MethodAnimation(ValueTracker):  18%|#7        | 40/225 [00:08<00:56,  3.29it/s]"
     ]
    },
    {
     "data": {
      "text/html": [
       "<pre style=\"white-space:pre;overflow-x:auto;line-height:normal;font-family:Menlo,'DejaVu Sans Mono',consolas,'Courier New',monospace\"><span style=\"color: #7fbfbf; text-decoration-color: #7fbfbf\">                    </span><span style=\"color: #800000; text-decoration-color: #800000\">WARNING </span> The method CoordinateSystem.get_graph has     <a href=\"file://C:\\Users\\thoma\\AppData\\Local\\Programs\\Python\\Python39\\lib\\site-packages\\manim\\utils\\deprecation.py\"><span style=\"color: #7f7f7f; text-decoration-color: #7f7f7f\">deprecation.py</span></a><span style=\"color: #7f7f7f; text-decoration-color: #7f7f7f\">:</span><a href=\"file://C:\\Users\\thoma\\AppData\\Local\\Programs\\Python\\Python39\\lib\\site-packages\\manim\\utils\\deprecation.py#210\"><span style=\"color: #7f7f7f; text-decoration-color: #7f7f7f\">210</span></a>\n",
       "                             been deprecated since v0.<span style=\"color: #008000; text-decoration-color: #008000\">11.0</span> and is expected                   \n",
       "                             to be removed after v0.<span style=\"color: #008000; text-decoration-color: #008000\">13.0</span>. Use plot                           \n",
       "                             instead.                                                        \n",
       "</pre>\n"
      ],
      "text/plain": [
       "\u001b[2;36m                   \u001b[0m\u001b[2;36m \u001b[0m\u001b[31mWARNING \u001b[0m The method CoordinateSystem.get_graph has     \u001b]8;id=525971;file://C:\\Users\\thoma\\AppData\\Local\\Programs\\Python\\Python39\\lib\\site-packages\\manim\\utils\\deprecation.py\u001b\\\u001b[2mdeprecation.py\u001b[0m\u001b]8;;\u001b\\\u001b[2m:\u001b[0m\u001b]8;id=605044;file://C:\\Users\\thoma\\AppData\\Local\\Programs\\Python\\Python39\\lib\\site-packages\\manim\\utils\\deprecation.py#210\u001b\\\u001b[2m210\u001b[0m\u001b]8;;\u001b\\\n",
       "                             been deprecated since v0.\u001b[32m11.0\u001b[0m and is expected                   \n",
       "                             to be removed after v0.\u001b[32m13.0\u001b[0m. Use plot                           \n",
       "                             instead.                                                        \n"
      ]
     },
     "metadata": {},
     "output_type": "display_data"
    },
    {
     "name": "stderr",
     "output_type": "stream",
     "text": [
      "Animation 1: _MethodAnimation(ValueTracker):  18%|#8        | 41/225 [00:08<00:54,  3.39it/s]"
     ]
    },
    {
     "data": {
      "text/html": [
       "<pre style=\"white-space:pre;overflow-x:auto;line-height:normal;font-family:Menlo,'DejaVu Sans Mono',consolas,'Courier New',monospace\"><span style=\"color: #7fbfbf; text-decoration-color: #7fbfbf\">                    </span><span style=\"color: #800000; text-decoration-color: #800000\">WARNING </span> The method CoordinateSystem.get_graph has     <a href=\"file://C:\\Users\\thoma\\AppData\\Local\\Programs\\Python\\Python39\\lib\\site-packages\\manim\\utils\\deprecation.py\"><span style=\"color: #7f7f7f; text-decoration-color: #7f7f7f\">deprecation.py</span></a><span style=\"color: #7f7f7f; text-decoration-color: #7f7f7f\">:</span><a href=\"file://C:\\Users\\thoma\\AppData\\Local\\Programs\\Python\\Python39\\lib\\site-packages\\manim\\utils\\deprecation.py#210\"><span style=\"color: #7f7f7f; text-decoration-color: #7f7f7f\">210</span></a>\n",
       "                             been deprecated since v0.<span style=\"color: #008000; text-decoration-color: #008000\">11.0</span> and is expected                   \n",
       "                             to be removed after v0.<span style=\"color: #008000; text-decoration-color: #008000\">13.0</span>. Use plot                           \n",
       "                             instead.                                                        \n",
       "</pre>\n"
      ],
      "text/plain": [
       "\u001b[2;36m                   \u001b[0m\u001b[2;36m \u001b[0m\u001b[31mWARNING \u001b[0m The method CoordinateSystem.get_graph has     \u001b]8;id=524972;file://C:\\Users\\thoma\\AppData\\Local\\Programs\\Python\\Python39\\lib\\site-packages\\manim\\utils\\deprecation.py\u001b\\\u001b[2mdeprecation.py\u001b[0m\u001b]8;;\u001b\\\u001b[2m:\u001b[0m\u001b]8;id=962227;file://C:\\Users\\thoma\\AppData\\Local\\Programs\\Python\\Python39\\lib\\site-packages\\manim\\utils\\deprecation.py#210\u001b\\\u001b[2m210\u001b[0m\u001b]8;;\u001b\\\n",
       "                             been deprecated since v0.\u001b[32m11.0\u001b[0m and is expected                   \n",
       "                             to be removed after v0.\u001b[32m13.0\u001b[0m. Use plot                           \n",
       "                             instead.                                                        \n"
      ]
     },
     "metadata": {},
     "output_type": "display_data"
    },
    {
     "name": "stderr",
     "output_type": "stream",
     "text": [
      "Animation 1: _MethodAnimation(ValueTracker):  19%|#8        | 42/225 [00:08<00:52,  3.49it/s]"
     ]
    },
    {
     "data": {
      "text/html": [
       "<pre style=\"white-space:pre;overflow-x:auto;line-height:normal;font-family:Menlo,'DejaVu Sans Mono',consolas,'Courier New',monospace\"><span style=\"color: #7fbfbf; text-decoration-color: #7fbfbf\">                    </span><span style=\"color: #800000; text-decoration-color: #800000\">WARNING </span> The method CoordinateSystem.get_graph has     <a href=\"file://C:\\Users\\thoma\\AppData\\Local\\Programs\\Python\\Python39\\lib\\site-packages\\manim\\utils\\deprecation.py\"><span style=\"color: #7f7f7f; text-decoration-color: #7f7f7f\">deprecation.py</span></a><span style=\"color: #7f7f7f; text-decoration-color: #7f7f7f\">:</span><a href=\"file://C:\\Users\\thoma\\AppData\\Local\\Programs\\Python\\Python39\\lib\\site-packages\\manim\\utils\\deprecation.py#210\"><span style=\"color: #7f7f7f; text-decoration-color: #7f7f7f\">210</span></a>\n",
       "                             been deprecated since v0.<span style=\"color: #008000; text-decoration-color: #008000\">11.0</span> and is expected                   \n",
       "                             to be removed after v0.<span style=\"color: #008000; text-decoration-color: #008000\">13.0</span>. Use plot                           \n",
       "                             instead.                                                        \n",
       "</pre>\n"
      ],
      "text/plain": [
       "\u001b[2;36m                   \u001b[0m\u001b[2;36m \u001b[0m\u001b[31mWARNING \u001b[0m The method CoordinateSystem.get_graph has     \u001b]8;id=1606;file://C:\\Users\\thoma\\AppData\\Local\\Programs\\Python\\Python39\\lib\\site-packages\\manim\\utils\\deprecation.py\u001b\\\u001b[2mdeprecation.py\u001b[0m\u001b]8;;\u001b\\\u001b[2m:\u001b[0m\u001b]8;id=557352;file://C:\\Users\\thoma\\AppData\\Local\\Programs\\Python\\Python39\\lib\\site-packages\\manim\\utils\\deprecation.py#210\u001b\\\u001b[2m210\u001b[0m\u001b]8;;\u001b\\\n",
       "                             been deprecated since v0.\u001b[32m11.0\u001b[0m and is expected                   \n",
       "                             to be removed after v0.\u001b[32m13.0\u001b[0m. Use plot                           \n",
       "                             instead.                                                        \n"
      ]
     },
     "metadata": {},
     "output_type": "display_data"
    },
    {
     "name": "stderr",
     "output_type": "stream",
     "text": [
      "Animation 1: _MethodAnimation(ValueTracker):  19%|#9        | 43/225 [00:08<00:52,  3.44it/s]"
     ]
    },
    {
     "data": {
      "text/html": [
       "<pre style=\"white-space:pre;overflow-x:auto;line-height:normal;font-family:Menlo,'DejaVu Sans Mono',consolas,'Courier New',monospace\"><span style=\"color: #7fbfbf; text-decoration-color: #7fbfbf\">[01/31/22 20:55:17] </span><span style=\"color: #800000; text-decoration-color: #800000\">WARNING </span> The method CoordinateSystem.get_graph has     <a href=\"file://C:\\Users\\thoma\\AppData\\Local\\Programs\\Python\\Python39\\lib\\site-packages\\manim\\utils\\deprecation.py\"><span style=\"color: #7f7f7f; text-decoration-color: #7f7f7f\">deprecation.py</span></a><span style=\"color: #7f7f7f; text-decoration-color: #7f7f7f\">:</span><a href=\"file://C:\\Users\\thoma\\AppData\\Local\\Programs\\Python\\Python39\\lib\\site-packages\\manim\\utils\\deprecation.py#210\"><span style=\"color: #7f7f7f; text-decoration-color: #7f7f7f\">210</span></a>\n",
       "                             been deprecated since v0.<span style=\"color: #008000; text-decoration-color: #008000\">11.0</span> and is expected                   \n",
       "                             to be removed after v0.<span style=\"color: #008000; text-decoration-color: #008000\">13.0</span>. Use plot                           \n",
       "                             instead.                                                        \n",
       "</pre>\n"
      ],
      "text/plain": [
       "\u001b[2;36m[01/31/22 20:55:17]\u001b[0m\u001b[2;36m \u001b[0m\u001b[31mWARNING \u001b[0m The method CoordinateSystem.get_graph has     \u001b]8;id=871895;file://C:\\Users\\thoma\\AppData\\Local\\Programs\\Python\\Python39\\lib\\site-packages\\manim\\utils\\deprecation.py\u001b\\\u001b[2mdeprecation.py\u001b[0m\u001b]8;;\u001b\\\u001b[2m:\u001b[0m\u001b]8;id=138395;file://C:\\Users\\thoma\\AppData\\Local\\Programs\\Python\\Python39\\lib\\site-packages\\manim\\utils\\deprecation.py#210\u001b\\\u001b[2m210\u001b[0m\u001b]8;;\u001b\\\n",
       "                             been deprecated since v0.\u001b[32m11.0\u001b[0m and is expected                   \n",
       "                             to be removed after v0.\u001b[32m13.0\u001b[0m. Use plot                           \n",
       "                             instead.                                                        \n"
      ]
     },
     "metadata": {},
     "output_type": "display_data"
    },
    {
     "name": "stderr",
     "output_type": "stream",
     "text": [
      "Animation 1: _MethodAnimation(ValueTracker):  20%|#9        | 44/225 [00:09<00:53,  3.39it/s]"
     ]
    },
    {
     "data": {
      "text/html": [
       "<pre style=\"white-space:pre;overflow-x:auto;line-height:normal;font-family:Menlo,'DejaVu Sans Mono',consolas,'Courier New',monospace\"><span style=\"color: #7fbfbf; text-decoration-color: #7fbfbf\">                    </span><span style=\"color: #800000; text-decoration-color: #800000\">WARNING </span> The method CoordinateSystem.get_graph has     <a href=\"file://C:\\Users\\thoma\\AppData\\Local\\Programs\\Python\\Python39\\lib\\site-packages\\manim\\utils\\deprecation.py\"><span style=\"color: #7f7f7f; text-decoration-color: #7f7f7f\">deprecation.py</span></a><span style=\"color: #7f7f7f; text-decoration-color: #7f7f7f\">:</span><a href=\"file://C:\\Users\\thoma\\AppData\\Local\\Programs\\Python\\Python39\\lib\\site-packages\\manim\\utils\\deprecation.py#210\"><span style=\"color: #7f7f7f; text-decoration-color: #7f7f7f\">210</span></a>\n",
       "                             been deprecated since v0.<span style=\"color: #008000; text-decoration-color: #008000\">11.0</span> and is expected                   \n",
       "                             to be removed after v0.<span style=\"color: #008000; text-decoration-color: #008000\">13.0</span>. Use plot                           \n",
       "                             instead.                                                        \n",
       "</pre>\n"
      ],
      "text/plain": [
       "\u001b[2;36m                   \u001b[0m\u001b[2;36m \u001b[0m\u001b[31mWARNING \u001b[0m The method CoordinateSystem.get_graph has     \u001b]8;id=111198;file://C:\\Users\\thoma\\AppData\\Local\\Programs\\Python\\Python39\\lib\\site-packages\\manim\\utils\\deprecation.py\u001b\\\u001b[2mdeprecation.py\u001b[0m\u001b]8;;\u001b\\\u001b[2m:\u001b[0m\u001b]8;id=14959;file://C:\\Users\\thoma\\AppData\\Local\\Programs\\Python\\Python39\\lib\\site-packages\\manim\\utils\\deprecation.py#210\u001b\\\u001b[2m210\u001b[0m\u001b]8;;\u001b\\\n",
       "                             been deprecated since v0.\u001b[32m11.0\u001b[0m and is expected                   \n",
       "                             to be removed after v0.\u001b[32m13.0\u001b[0m. Use plot                           \n",
       "                             instead.                                                        \n"
      ]
     },
     "metadata": {},
     "output_type": "display_data"
    },
    {
     "name": "stderr",
     "output_type": "stream",
     "text": [
      "Animation 1: _MethodAnimation(ValueTracker):  20%|##        | 45/225 [00:09<00:52,  3.42it/s]"
     ]
    },
    {
     "data": {
      "text/html": [
       "<pre style=\"white-space:pre;overflow-x:auto;line-height:normal;font-family:Menlo,'DejaVu Sans Mono',consolas,'Courier New',monospace\"><span style=\"color: #7fbfbf; text-decoration-color: #7fbfbf\">                    </span><span style=\"color: #800000; text-decoration-color: #800000\">WARNING </span> The method CoordinateSystem.get_graph has     <a href=\"file://C:\\Users\\thoma\\AppData\\Local\\Programs\\Python\\Python39\\lib\\site-packages\\manim\\utils\\deprecation.py\"><span style=\"color: #7f7f7f; text-decoration-color: #7f7f7f\">deprecation.py</span></a><span style=\"color: #7f7f7f; text-decoration-color: #7f7f7f\">:</span><a href=\"file://C:\\Users\\thoma\\AppData\\Local\\Programs\\Python\\Python39\\lib\\site-packages\\manim\\utils\\deprecation.py#210\"><span style=\"color: #7f7f7f; text-decoration-color: #7f7f7f\">210</span></a>\n",
       "                             been deprecated since v0.<span style=\"color: #008000; text-decoration-color: #008000\">11.0</span> and is expected                   \n",
       "                             to be removed after v0.<span style=\"color: #008000; text-decoration-color: #008000\">13.0</span>. Use plot                           \n",
       "                             instead.                                                        \n",
       "</pre>\n"
      ],
      "text/plain": [
       "\u001b[2;36m                   \u001b[0m\u001b[2;36m \u001b[0m\u001b[31mWARNING \u001b[0m The method CoordinateSystem.get_graph has     \u001b]8;id=738890;file://C:\\Users\\thoma\\AppData\\Local\\Programs\\Python\\Python39\\lib\\site-packages\\manim\\utils\\deprecation.py\u001b\\\u001b[2mdeprecation.py\u001b[0m\u001b]8;;\u001b\\\u001b[2m:\u001b[0m\u001b]8;id=557501;file://C:\\Users\\thoma\\AppData\\Local\\Programs\\Python\\Python39\\lib\\site-packages\\manim\\utils\\deprecation.py#210\u001b\\\u001b[2m210\u001b[0m\u001b]8;;\u001b\\\n",
       "                             been deprecated since v0.\u001b[32m11.0\u001b[0m and is expected                   \n",
       "                             to be removed after v0.\u001b[32m13.0\u001b[0m. Use plot                           \n",
       "                             instead.                                                        \n"
      ]
     },
     "metadata": {},
     "output_type": "display_data"
    },
    {
     "name": "stderr",
     "output_type": "stream",
     "text": [
      "Animation 1: _MethodAnimation(ValueTracker):  20%|##        | 46/225 [00:09<00:52,  3.41it/s]"
     ]
    },
    {
     "data": {
      "text/html": [
       "<pre style=\"white-space:pre;overflow-x:auto;line-height:normal;font-family:Menlo,'DejaVu Sans Mono',consolas,'Courier New',monospace\"><span style=\"color: #7fbfbf; text-decoration-color: #7fbfbf\">[01/31/22 20:55:18] </span><span style=\"color: #800000; text-decoration-color: #800000\">WARNING </span> The method CoordinateSystem.get_graph has     <a href=\"file://C:\\Users\\thoma\\AppData\\Local\\Programs\\Python\\Python39\\lib\\site-packages\\manim\\utils\\deprecation.py\"><span style=\"color: #7f7f7f; text-decoration-color: #7f7f7f\">deprecation.py</span></a><span style=\"color: #7f7f7f; text-decoration-color: #7f7f7f\">:</span><a href=\"file://C:\\Users\\thoma\\AppData\\Local\\Programs\\Python\\Python39\\lib\\site-packages\\manim\\utils\\deprecation.py#210\"><span style=\"color: #7f7f7f; text-decoration-color: #7f7f7f\">210</span></a>\n",
       "                             been deprecated since v0.<span style=\"color: #008000; text-decoration-color: #008000\">11.0</span> and is expected                   \n",
       "                             to be removed after v0.<span style=\"color: #008000; text-decoration-color: #008000\">13.0</span>. Use plot                           \n",
       "                             instead.                                                        \n",
       "</pre>\n"
      ],
      "text/plain": [
       "\u001b[2;36m[01/31/22 20:55:18]\u001b[0m\u001b[2;36m \u001b[0m\u001b[31mWARNING \u001b[0m The method CoordinateSystem.get_graph has     \u001b]8;id=752834;file://C:\\Users\\thoma\\AppData\\Local\\Programs\\Python\\Python39\\lib\\site-packages\\manim\\utils\\deprecation.py\u001b\\\u001b[2mdeprecation.py\u001b[0m\u001b]8;;\u001b\\\u001b[2m:\u001b[0m\u001b]8;id=852437;file://C:\\Users\\thoma\\AppData\\Local\\Programs\\Python\\Python39\\lib\\site-packages\\manim\\utils\\deprecation.py#210\u001b\\\u001b[2m210\u001b[0m\u001b]8;;\u001b\\\n",
       "                             been deprecated since v0.\u001b[32m11.0\u001b[0m and is expected                   \n",
       "                             to be removed after v0.\u001b[32m13.0\u001b[0m. Use plot                           \n",
       "                             instead.                                                        \n"
      ]
     },
     "metadata": {},
     "output_type": "display_data"
    },
    {
     "name": "stderr",
     "output_type": "stream",
     "text": [
      "Animation 1: _MethodAnimation(ValueTracker):  21%|##        | 47/225 [00:10<00:52,  3.39it/s]"
     ]
    },
    {
     "data": {
      "text/html": [
       "<pre style=\"white-space:pre;overflow-x:auto;line-height:normal;font-family:Menlo,'DejaVu Sans Mono',consolas,'Courier New',monospace\"><span style=\"color: #7fbfbf; text-decoration-color: #7fbfbf\">                    </span><span style=\"color: #800000; text-decoration-color: #800000\">WARNING </span> The method CoordinateSystem.get_graph has     <a href=\"file://C:\\Users\\thoma\\AppData\\Local\\Programs\\Python\\Python39\\lib\\site-packages\\manim\\utils\\deprecation.py\"><span style=\"color: #7f7f7f; text-decoration-color: #7f7f7f\">deprecation.py</span></a><span style=\"color: #7f7f7f; text-decoration-color: #7f7f7f\">:</span><a href=\"file://C:\\Users\\thoma\\AppData\\Local\\Programs\\Python\\Python39\\lib\\site-packages\\manim\\utils\\deprecation.py#210\"><span style=\"color: #7f7f7f; text-decoration-color: #7f7f7f\">210</span></a>\n",
       "                             been deprecated since v0.<span style=\"color: #008000; text-decoration-color: #008000\">11.0</span> and is expected                   \n",
       "                             to be removed after v0.<span style=\"color: #008000; text-decoration-color: #008000\">13.0</span>. Use plot                           \n",
       "                             instead.                                                        \n",
       "</pre>\n"
      ],
      "text/plain": [
       "\u001b[2;36m                   \u001b[0m\u001b[2;36m \u001b[0m\u001b[31mWARNING \u001b[0m The method CoordinateSystem.get_graph has     \u001b]8;id=91412;file://C:\\Users\\thoma\\AppData\\Local\\Programs\\Python\\Python39\\lib\\site-packages\\manim\\utils\\deprecation.py\u001b\\\u001b[2mdeprecation.py\u001b[0m\u001b]8;;\u001b\\\u001b[2m:\u001b[0m\u001b]8;id=587890;file://C:\\Users\\thoma\\AppData\\Local\\Programs\\Python\\Python39\\lib\\site-packages\\manim\\utils\\deprecation.py#210\u001b\\\u001b[2m210\u001b[0m\u001b]8;;\u001b\\\n",
       "                             been deprecated since v0.\u001b[32m11.0\u001b[0m and is expected                   \n",
       "                             to be removed after v0.\u001b[32m13.0\u001b[0m. Use plot                           \n",
       "                             instead.                                                        \n"
      ]
     },
     "metadata": {},
     "output_type": "display_data"
    },
    {
     "name": "stderr",
     "output_type": "stream",
     "text": [
      "Animation 1: _MethodAnimation(ValueTracker):  21%|##1       | 48/225 [00:10<00:53,  3.33it/s]"
     ]
    },
    {
     "data": {
      "text/html": [
       "<pre style=\"white-space:pre;overflow-x:auto;line-height:normal;font-family:Menlo,'DejaVu Sans Mono',consolas,'Courier New',monospace\"><span style=\"color: #7fbfbf; text-decoration-color: #7fbfbf\">                    </span><span style=\"color: #800000; text-decoration-color: #800000\">WARNING </span> The method CoordinateSystem.get_graph has     <a href=\"file://C:\\Users\\thoma\\AppData\\Local\\Programs\\Python\\Python39\\lib\\site-packages\\manim\\utils\\deprecation.py\"><span style=\"color: #7f7f7f; text-decoration-color: #7f7f7f\">deprecation.py</span></a><span style=\"color: #7f7f7f; text-decoration-color: #7f7f7f\">:</span><a href=\"file://C:\\Users\\thoma\\AppData\\Local\\Programs\\Python\\Python39\\lib\\site-packages\\manim\\utils\\deprecation.py#210\"><span style=\"color: #7f7f7f; text-decoration-color: #7f7f7f\">210</span></a>\n",
       "                             been deprecated since v0.<span style=\"color: #008000; text-decoration-color: #008000\">11.0</span> and is expected                   \n",
       "                             to be removed after v0.<span style=\"color: #008000; text-decoration-color: #008000\">13.0</span>. Use plot                           \n",
       "                             instead.                                                        \n",
       "</pre>\n"
      ],
      "text/plain": [
       "\u001b[2;36m                   \u001b[0m\u001b[2;36m \u001b[0m\u001b[31mWARNING \u001b[0m The method CoordinateSystem.get_graph has     \u001b]8;id=813501;file://C:\\Users\\thoma\\AppData\\Local\\Programs\\Python\\Python39\\lib\\site-packages\\manim\\utils\\deprecation.py\u001b\\\u001b[2mdeprecation.py\u001b[0m\u001b]8;;\u001b\\\u001b[2m:\u001b[0m\u001b]8;id=84807;file://C:\\Users\\thoma\\AppData\\Local\\Programs\\Python\\Python39\\lib\\site-packages\\manim\\utils\\deprecation.py#210\u001b\\\u001b[2m210\u001b[0m\u001b]8;;\u001b\\\n",
       "                             been deprecated since v0.\u001b[32m11.0\u001b[0m and is expected                   \n",
       "                             to be removed after v0.\u001b[32m13.0\u001b[0m. Use plot                           \n",
       "                             instead.                                                        \n"
      ]
     },
     "metadata": {},
     "output_type": "display_data"
    },
    {
     "name": "stderr",
     "output_type": "stream",
     "text": [
      "Animation 1: _MethodAnimation(ValueTracker):  22%|##1       | 49/225 [00:10<00:52,  3.38it/s]"
     ]
    },
    {
     "data": {
      "text/html": [
       "<pre style=\"white-space:pre;overflow-x:auto;line-height:normal;font-family:Menlo,'DejaVu Sans Mono',consolas,'Courier New',monospace\"><span style=\"color: #7fbfbf; text-decoration-color: #7fbfbf\">                    </span><span style=\"color: #800000; text-decoration-color: #800000\">WARNING </span> The method CoordinateSystem.get_graph has     <a href=\"file://C:\\Users\\thoma\\AppData\\Local\\Programs\\Python\\Python39\\lib\\site-packages\\manim\\utils\\deprecation.py\"><span style=\"color: #7f7f7f; text-decoration-color: #7f7f7f\">deprecation.py</span></a><span style=\"color: #7f7f7f; text-decoration-color: #7f7f7f\">:</span><a href=\"file://C:\\Users\\thoma\\AppData\\Local\\Programs\\Python\\Python39\\lib\\site-packages\\manim\\utils\\deprecation.py#210\"><span style=\"color: #7f7f7f; text-decoration-color: #7f7f7f\">210</span></a>\n",
       "                             been deprecated since v0.<span style=\"color: #008000; text-decoration-color: #008000\">11.0</span> and is expected                   \n",
       "                             to be removed after v0.<span style=\"color: #008000; text-decoration-color: #008000\">13.0</span>. Use plot                           \n",
       "                             instead.                                                        \n",
       "</pre>\n"
      ],
      "text/plain": [
       "\u001b[2;36m                   \u001b[0m\u001b[2;36m \u001b[0m\u001b[31mWARNING \u001b[0m The method CoordinateSystem.get_graph has     \u001b]8;id=29770;file://C:\\Users\\thoma\\AppData\\Local\\Programs\\Python\\Python39\\lib\\site-packages\\manim\\utils\\deprecation.py\u001b\\\u001b[2mdeprecation.py\u001b[0m\u001b]8;;\u001b\\\u001b[2m:\u001b[0m\u001b]8;id=403255;file://C:\\Users\\thoma\\AppData\\Local\\Programs\\Python\\Python39\\lib\\site-packages\\manim\\utils\\deprecation.py#210\u001b\\\u001b[2m210\u001b[0m\u001b]8;;\u001b\\\n",
       "                             been deprecated since v0.\u001b[32m11.0\u001b[0m and is expected                   \n",
       "                             to be removed after v0.\u001b[32m13.0\u001b[0m. Use plot                           \n",
       "                             instead.                                                        \n"
      ]
     },
     "metadata": {},
     "output_type": "display_data"
    },
    {
     "name": "stderr",
     "output_type": "stream",
     "text": [
      "Animation 1: _MethodAnimation(ValueTracker):  22%|##2       | 50/225 [00:11<00:51,  3.37it/s]"
     ]
    },
    {
     "data": {
      "text/html": [
       "<pre style=\"white-space:pre;overflow-x:auto;line-height:normal;font-family:Menlo,'DejaVu Sans Mono',consolas,'Courier New',monospace\"><span style=\"color: #7fbfbf; text-decoration-color: #7fbfbf\">[01/31/22 20:55:19] </span><span style=\"color: #800000; text-decoration-color: #800000\">WARNING </span> The method CoordinateSystem.get_graph has     <a href=\"file://C:\\Users\\thoma\\AppData\\Local\\Programs\\Python\\Python39\\lib\\site-packages\\manim\\utils\\deprecation.py\"><span style=\"color: #7f7f7f; text-decoration-color: #7f7f7f\">deprecation.py</span></a><span style=\"color: #7f7f7f; text-decoration-color: #7f7f7f\">:</span><a href=\"file://C:\\Users\\thoma\\AppData\\Local\\Programs\\Python\\Python39\\lib\\site-packages\\manim\\utils\\deprecation.py#210\"><span style=\"color: #7f7f7f; text-decoration-color: #7f7f7f\">210</span></a>\n",
       "                             been deprecated since v0.<span style=\"color: #008000; text-decoration-color: #008000\">11.0</span> and is expected                   \n",
       "                             to be removed after v0.<span style=\"color: #008000; text-decoration-color: #008000\">13.0</span>. Use plot                           \n",
       "                             instead.                                                        \n",
       "</pre>\n"
      ],
      "text/plain": [
       "\u001b[2;36m[01/31/22 20:55:19]\u001b[0m\u001b[2;36m \u001b[0m\u001b[31mWARNING \u001b[0m The method CoordinateSystem.get_graph has     \u001b]8;id=645441;file://C:\\Users\\thoma\\AppData\\Local\\Programs\\Python\\Python39\\lib\\site-packages\\manim\\utils\\deprecation.py\u001b\\\u001b[2mdeprecation.py\u001b[0m\u001b]8;;\u001b\\\u001b[2m:\u001b[0m\u001b]8;id=264433;file://C:\\Users\\thoma\\AppData\\Local\\Programs\\Python\\Python39\\lib\\site-packages\\manim\\utils\\deprecation.py#210\u001b\\\u001b[2m210\u001b[0m\u001b]8;;\u001b\\\n",
       "                             been deprecated since v0.\u001b[32m11.0\u001b[0m and is expected                   \n",
       "                             to be removed after v0.\u001b[32m13.0\u001b[0m. Use plot                           \n",
       "                             instead.                                                        \n"
      ]
     },
     "metadata": {},
     "output_type": "display_data"
    },
    {
     "name": "stderr",
     "output_type": "stream",
     "text": [
      "Animation 1: _MethodAnimation(ValueTracker):  23%|##2       | 51/225 [00:11<00:52,  3.31it/s]"
     ]
    },
    {
     "data": {
      "text/html": [
       "<pre style=\"white-space:pre;overflow-x:auto;line-height:normal;font-family:Menlo,'DejaVu Sans Mono',consolas,'Courier New',monospace\"><span style=\"color: #7fbfbf; text-decoration-color: #7fbfbf\">                    </span><span style=\"color: #800000; text-decoration-color: #800000\">WARNING </span> The method CoordinateSystem.get_graph has     <a href=\"file://C:\\Users\\thoma\\AppData\\Local\\Programs\\Python\\Python39\\lib\\site-packages\\manim\\utils\\deprecation.py\"><span style=\"color: #7f7f7f; text-decoration-color: #7f7f7f\">deprecation.py</span></a><span style=\"color: #7f7f7f; text-decoration-color: #7f7f7f\">:</span><a href=\"file://C:\\Users\\thoma\\AppData\\Local\\Programs\\Python\\Python39\\lib\\site-packages\\manim\\utils\\deprecation.py#210\"><span style=\"color: #7f7f7f; text-decoration-color: #7f7f7f\">210</span></a>\n",
       "                             been deprecated since v0.<span style=\"color: #008000; text-decoration-color: #008000\">11.0</span> and is expected                   \n",
       "                             to be removed after v0.<span style=\"color: #008000; text-decoration-color: #008000\">13.0</span>. Use plot                           \n",
       "                             instead.                                                        \n",
       "</pre>\n"
      ],
      "text/plain": [
       "\u001b[2;36m                   \u001b[0m\u001b[2;36m \u001b[0m\u001b[31mWARNING \u001b[0m The method CoordinateSystem.get_graph has     \u001b]8;id=551094;file://C:\\Users\\thoma\\AppData\\Local\\Programs\\Python\\Python39\\lib\\site-packages\\manim\\utils\\deprecation.py\u001b\\\u001b[2mdeprecation.py\u001b[0m\u001b]8;;\u001b\\\u001b[2m:\u001b[0m\u001b]8;id=402433;file://C:\\Users\\thoma\\AppData\\Local\\Programs\\Python\\Python39\\lib\\site-packages\\manim\\utils\\deprecation.py#210\u001b\\\u001b[2m210\u001b[0m\u001b]8;;\u001b\\\n",
       "                             been deprecated since v0.\u001b[32m11.0\u001b[0m and is expected                   \n",
       "                             to be removed after v0.\u001b[32m13.0\u001b[0m. Use plot                           \n",
       "                             instead.                                                        \n"
      ]
     },
     "metadata": {},
     "output_type": "display_data"
    },
    {
     "name": "stderr",
     "output_type": "stream",
     "text": [
      "Animation 1: _MethodAnimation(ValueTracker):  23%|##3       | 52/225 [00:11<00:53,  3.26it/s]"
     ]
    },
    {
     "data": {
      "text/html": [
       "<pre style=\"white-space:pre;overflow-x:auto;line-height:normal;font-family:Menlo,'DejaVu Sans Mono',consolas,'Courier New',monospace\"><span style=\"color: #7fbfbf; text-decoration-color: #7fbfbf\">                    </span><span style=\"color: #800000; text-decoration-color: #800000\">WARNING </span> The method CoordinateSystem.get_graph has     <a href=\"file://C:\\Users\\thoma\\AppData\\Local\\Programs\\Python\\Python39\\lib\\site-packages\\manim\\utils\\deprecation.py\"><span style=\"color: #7f7f7f; text-decoration-color: #7f7f7f\">deprecation.py</span></a><span style=\"color: #7f7f7f; text-decoration-color: #7f7f7f\">:</span><a href=\"file://C:\\Users\\thoma\\AppData\\Local\\Programs\\Python\\Python39\\lib\\site-packages\\manim\\utils\\deprecation.py#210\"><span style=\"color: #7f7f7f; text-decoration-color: #7f7f7f\">210</span></a>\n",
       "                             been deprecated since v0.<span style=\"color: #008000; text-decoration-color: #008000\">11.0</span> and is expected                   \n",
       "                             to be removed after v0.<span style=\"color: #008000; text-decoration-color: #008000\">13.0</span>. Use plot                           \n",
       "                             instead.                                                        \n",
       "</pre>\n"
      ],
      "text/plain": [
       "\u001b[2;36m                   \u001b[0m\u001b[2;36m \u001b[0m\u001b[31mWARNING \u001b[0m The method CoordinateSystem.get_graph has     \u001b]8;id=845241;file://C:\\Users\\thoma\\AppData\\Local\\Programs\\Python\\Python39\\lib\\site-packages\\manim\\utils\\deprecation.py\u001b\\\u001b[2mdeprecation.py\u001b[0m\u001b]8;;\u001b\\\u001b[2m:\u001b[0m\u001b]8;id=350658;file://C:\\Users\\thoma\\AppData\\Local\\Programs\\Python\\Python39\\lib\\site-packages\\manim\\utils\\deprecation.py#210\u001b\\\u001b[2m210\u001b[0m\u001b]8;;\u001b\\\n",
       "                             been deprecated since v0.\u001b[32m11.0\u001b[0m and is expected                   \n",
       "                             to be removed after v0.\u001b[32m13.0\u001b[0m. Use plot                           \n",
       "                             instead.                                                        \n"
      ]
     },
     "metadata": {},
     "output_type": "display_data"
    },
    {
     "name": "stderr",
     "output_type": "stream",
     "text": [
      "Animation 1: _MethodAnimation(ValueTracker):  24%|##3       | 53/225 [00:11<00:54,  3.17it/s]"
     ]
    },
    {
     "data": {
      "text/html": [
       "<pre style=\"white-space:pre;overflow-x:auto;line-height:normal;font-family:Menlo,'DejaVu Sans Mono',consolas,'Courier New',monospace\"><span style=\"color: #7fbfbf; text-decoration-color: #7fbfbf\">[01/31/22 20:55:20] </span><span style=\"color: #800000; text-decoration-color: #800000\">WARNING </span> The method CoordinateSystem.get_graph has     <a href=\"file://C:\\Users\\thoma\\AppData\\Local\\Programs\\Python\\Python39\\lib\\site-packages\\manim\\utils\\deprecation.py\"><span style=\"color: #7f7f7f; text-decoration-color: #7f7f7f\">deprecation.py</span></a><span style=\"color: #7f7f7f; text-decoration-color: #7f7f7f\">:</span><a href=\"file://C:\\Users\\thoma\\AppData\\Local\\Programs\\Python\\Python39\\lib\\site-packages\\manim\\utils\\deprecation.py#210\"><span style=\"color: #7f7f7f; text-decoration-color: #7f7f7f\">210</span></a>\n",
       "                             been deprecated since v0.<span style=\"color: #008000; text-decoration-color: #008000\">11.0</span> and is expected                   \n",
       "                             to be removed after v0.<span style=\"color: #008000; text-decoration-color: #008000\">13.0</span>. Use plot                           \n",
       "                             instead.                                                        \n",
       "</pre>\n"
      ],
      "text/plain": [
       "\u001b[2;36m[01/31/22 20:55:20]\u001b[0m\u001b[2;36m \u001b[0m\u001b[31mWARNING \u001b[0m The method CoordinateSystem.get_graph has     \u001b]8;id=55588;file://C:\\Users\\thoma\\AppData\\Local\\Programs\\Python\\Python39\\lib\\site-packages\\manim\\utils\\deprecation.py\u001b\\\u001b[2mdeprecation.py\u001b[0m\u001b]8;;\u001b\\\u001b[2m:\u001b[0m\u001b]8;id=288143;file://C:\\Users\\thoma\\AppData\\Local\\Programs\\Python\\Python39\\lib\\site-packages\\manim\\utils\\deprecation.py#210\u001b\\\u001b[2m210\u001b[0m\u001b]8;;\u001b\\\n",
       "                             been deprecated since v0.\u001b[32m11.0\u001b[0m and is expected                   \n",
       "                             to be removed after v0.\u001b[32m13.0\u001b[0m. Use plot                           \n",
       "                             instead.                                                        \n"
      ]
     },
     "metadata": {},
     "output_type": "display_data"
    },
    {
     "name": "stderr",
     "output_type": "stream",
     "text": [
      "Animation 1: _MethodAnimation(ValueTracker):  24%|##4       | 54/225 [00:12<01:02,  2.72it/s]"
     ]
    },
    {
     "data": {
      "text/html": [
       "<pre style=\"white-space:pre;overflow-x:auto;line-height:normal;font-family:Menlo,'DejaVu Sans Mono',consolas,'Courier New',monospace\"><span style=\"color: #7fbfbf; text-decoration-color: #7fbfbf\">                    </span><span style=\"color: #800000; text-decoration-color: #800000\">WARNING </span> The method CoordinateSystem.get_graph has     <a href=\"file://C:\\Users\\thoma\\AppData\\Local\\Programs\\Python\\Python39\\lib\\site-packages\\manim\\utils\\deprecation.py\"><span style=\"color: #7f7f7f; text-decoration-color: #7f7f7f\">deprecation.py</span></a><span style=\"color: #7f7f7f; text-decoration-color: #7f7f7f\">:</span><a href=\"file://C:\\Users\\thoma\\AppData\\Local\\Programs\\Python\\Python39\\lib\\site-packages\\manim\\utils\\deprecation.py#210\"><span style=\"color: #7f7f7f; text-decoration-color: #7f7f7f\">210</span></a>\n",
       "                             been deprecated since v0.<span style=\"color: #008000; text-decoration-color: #008000\">11.0</span> and is expected                   \n",
       "                             to be removed after v0.<span style=\"color: #008000; text-decoration-color: #008000\">13.0</span>. Use plot                           \n",
       "                             instead.                                                        \n",
       "</pre>\n"
      ],
      "text/plain": [
       "\u001b[2;36m                   \u001b[0m\u001b[2;36m \u001b[0m\u001b[31mWARNING \u001b[0m The method CoordinateSystem.get_graph has     \u001b]8;id=240881;file://C:\\Users\\thoma\\AppData\\Local\\Programs\\Python\\Python39\\lib\\site-packages\\manim\\utils\\deprecation.py\u001b\\\u001b[2mdeprecation.py\u001b[0m\u001b]8;;\u001b\\\u001b[2m:\u001b[0m\u001b]8;id=596536;file://C:\\Users\\thoma\\AppData\\Local\\Programs\\Python\\Python39\\lib\\site-packages\\manim\\utils\\deprecation.py#210\u001b\\\u001b[2m210\u001b[0m\u001b]8;;\u001b\\\n",
       "                             been deprecated since v0.\u001b[32m11.0\u001b[0m and is expected                   \n",
       "                             to be removed after v0.\u001b[32m13.0\u001b[0m. Use plot                           \n",
       "                             instead.                                                        \n"
      ]
     },
     "metadata": {},
     "output_type": "display_data"
    },
    {
     "name": "stderr",
     "output_type": "stream",
     "text": [
      "Animation 1: _MethodAnimation(ValueTracker):  24%|##4       | 55/225 [00:12<01:08,  2.49it/s]"
     ]
    },
    {
     "data": {
      "text/html": [
       "<pre style=\"white-space:pre;overflow-x:auto;line-height:normal;font-family:Menlo,'DejaVu Sans Mono',consolas,'Courier New',monospace\"><span style=\"color: #7fbfbf; text-decoration-color: #7fbfbf\">[01/31/22 20:55:21] </span><span style=\"color: #800000; text-decoration-color: #800000\">WARNING </span> The method CoordinateSystem.get_graph has     <a href=\"file://C:\\Users\\thoma\\AppData\\Local\\Programs\\Python\\Python39\\lib\\site-packages\\manim\\utils\\deprecation.py\"><span style=\"color: #7f7f7f; text-decoration-color: #7f7f7f\">deprecation.py</span></a><span style=\"color: #7f7f7f; text-decoration-color: #7f7f7f\">:</span><a href=\"file://C:\\Users\\thoma\\AppData\\Local\\Programs\\Python\\Python39\\lib\\site-packages\\manim\\utils\\deprecation.py#210\"><span style=\"color: #7f7f7f; text-decoration-color: #7f7f7f\">210</span></a>\n",
       "                             been deprecated since v0.<span style=\"color: #008000; text-decoration-color: #008000\">11.0</span> and is expected                   \n",
       "                             to be removed after v0.<span style=\"color: #008000; text-decoration-color: #008000\">13.0</span>. Use plot                           \n",
       "                             instead.                                                        \n",
       "</pre>\n"
      ],
      "text/plain": [
       "\u001b[2;36m[01/31/22 20:55:21]\u001b[0m\u001b[2;36m \u001b[0m\u001b[31mWARNING \u001b[0m The method CoordinateSystem.get_graph has     \u001b]8;id=941851;file://C:\\Users\\thoma\\AppData\\Local\\Programs\\Python\\Python39\\lib\\site-packages\\manim\\utils\\deprecation.py\u001b\\\u001b[2mdeprecation.py\u001b[0m\u001b]8;;\u001b\\\u001b[2m:\u001b[0m\u001b]8;id=561106;file://C:\\Users\\thoma\\AppData\\Local\\Programs\\Python\\Python39\\lib\\site-packages\\manim\\utils\\deprecation.py#210\u001b\\\u001b[2m210\u001b[0m\u001b]8;;\u001b\\\n",
       "                             been deprecated since v0.\u001b[32m11.0\u001b[0m and is expected                   \n",
       "                             to be removed after v0.\u001b[32m13.0\u001b[0m. Use plot                           \n",
       "                             instead.                                                        \n"
      ]
     },
     "metadata": {},
     "output_type": "display_data"
    },
    {
     "name": "stderr",
     "output_type": "stream",
     "text": [
      "Animation 1: _MethodAnimation(ValueTracker):  25%|##4       | 56/225 [00:13<01:07,  2.51it/s]"
     ]
    },
    {
     "data": {
      "text/html": [
       "<pre style=\"white-space:pre;overflow-x:auto;line-height:normal;font-family:Menlo,'DejaVu Sans Mono',consolas,'Courier New',monospace\"><span style=\"color: #7fbfbf; text-decoration-color: #7fbfbf\">                    </span><span style=\"color: #800000; text-decoration-color: #800000\">WARNING </span> The method CoordinateSystem.get_graph has     <a href=\"file://C:\\Users\\thoma\\AppData\\Local\\Programs\\Python\\Python39\\lib\\site-packages\\manim\\utils\\deprecation.py\"><span style=\"color: #7f7f7f; text-decoration-color: #7f7f7f\">deprecation.py</span></a><span style=\"color: #7f7f7f; text-decoration-color: #7f7f7f\">:</span><a href=\"file://C:\\Users\\thoma\\AppData\\Local\\Programs\\Python\\Python39\\lib\\site-packages\\manim\\utils\\deprecation.py#210\"><span style=\"color: #7f7f7f; text-decoration-color: #7f7f7f\">210</span></a>\n",
       "                             been deprecated since v0.<span style=\"color: #008000; text-decoration-color: #008000\">11.0</span> and is expected                   \n",
       "                             to be removed after v0.<span style=\"color: #008000; text-decoration-color: #008000\">13.0</span>. Use plot                           \n",
       "                             instead.                                                        \n",
       "</pre>\n"
      ],
      "text/plain": [
       "\u001b[2;36m                   \u001b[0m\u001b[2;36m \u001b[0m\u001b[31mWARNING \u001b[0m The method CoordinateSystem.get_graph has     \u001b]8;id=559755;file://C:\\Users\\thoma\\AppData\\Local\\Programs\\Python\\Python39\\lib\\site-packages\\manim\\utils\\deprecation.py\u001b\\\u001b[2mdeprecation.py\u001b[0m\u001b]8;;\u001b\\\u001b[2m:\u001b[0m\u001b]8;id=655831;file://C:\\Users\\thoma\\AppData\\Local\\Programs\\Python\\Python39\\lib\\site-packages\\manim\\utils\\deprecation.py#210\u001b\\\u001b[2m210\u001b[0m\u001b]8;;\u001b\\\n",
       "                             been deprecated since v0.\u001b[32m11.0\u001b[0m and is expected                   \n",
       "                             to be removed after v0.\u001b[32m13.0\u001b[0m. Use plot                           \n",
       "                             instead.                                                        \n"
      ]
     },
     "metadata": {},
     "output_type": "display_data"
    },
    {
     "name": "stderr",
     "output_type": "stream",
     "text": [
      "Animation 1: _MethodAnimation(ValueTracker):  25%|##5       | 57/225 [00:13<01:04,  2.60it/s]"
     ]
    },
    {
     "data": {
      "text/html": [
       "<pre style=\"white-space:pre;overflow-x:auto;line-height:normal;font-family:Menlo,'DejaVu Sans Mono',consolas,'Courier New',monospace\"><span style=\"color: #7fbfbf; text-decoration-color: #7fbfbf\">                    </span><span style=\"color: #800000; text-decoration-color: #800000\">WARNING </span> The method CoordinateSystem.get_graph has     <a href=\"file://C:\\Users\\thoma\\AppData\\Local\\Programs\\Python\\Python39\\lib\\site-packages\\manim\\utils\\deprecation.py\"><span style=\"color: #7f7f7f; text-decoration-color: #7f7f7f\">deprecation.py</span></a><span style=\"color: #7f7f7f; text-decoration-color: #7f7f7f\">:</span><a href=\"file://C:\\Users\\thoma\\AppData\\Local\\Programs\\Python\\Python39\\lib\\site-packages\\manim\\utils\\deprecation.py#210\"><span style=\"color: #7f7f7f; text-decoration-color: #7f7f7f\">210</span></a>\n",
       "                             been deprecated since v0.<span style=\"color: #008000; text-decoration-color: #008000\">11.0</span> and is expected                   \n",
       "                             to be removed after v0.<span style=\"color: #008000; text-decoration-color: #008000\">13.0</span>. Use plot                           \n",
       "                             instead.                                                        \n",
       "</pre>\n"
      ],
      "text/plain": [
       "\u001b[2;36m                   \u001b[0m\u001b[2;36m \u001b[0m\u001b[31mWARNING \u001b[0m The method CoordinateSystem.get_graph has     \u001b]8;id=3187;file://C:\\Users\\thoma\\AppData\\Local\\Programs\\Python\\Python39\\lib\\site-packages\\manim\\utils\\deprecation.py\u001b\\\u001b[2mdeprecation.py\u001b[0m\u001b]8;;\u001b\\\u001b[2m:\u001b[0m\u001b]8;id=167229;file://C:\\Users\\thoma\\AppData\\Local\\Programs\\Python\\Python39\\lib\\site-packages\\manim\\utils\\deprecation.py#210\u001b\\\u001b[2m210\u001b[0m\u001b]8;;\u001b\\\n",
       "                             been deprecated since v0.\u001b[32m11.0\u001b[0m and is expected                   \n",
       "                             to be removed after v0.\u001b[32m13.0\u001b[0m. Use plot                           \n",
       "                             instead.                                                        \n"
      ]
     },
     "metadata": {},
     "output_type": "display_data"
    },
    {
     "name": "stderr",
     "output_type": "stream",
     "text": [
      "Animation 1: _MethodAnimation(ValueTracker):  26%|##5       | 58/225 [00:14<01:03,  2.64it/s]"
     ]
    },
    {
     "data": {
      "text/html": [
       "<pre style=\"white-space:pre;overflow-x:auto;line-height:normal;font-family:Menlo,'DejaVu Sans Mono',consolas,'Courier New',monospace\"><span style=\"color: #7fbfbf; text-decoration-color: #7fbfbf\">[01/31/22 20:55:22] </span><span style=\"color: #800000; text-decoration-color: #800000\">WARNING </span> The method CoordinateSystem.get_graph has     <a href=\"file://C:\\Users\\thoma\\AppData\\Local\\Programs\\Python\\Python39\\lib\\site-packages\\manim\\utils\\deprecation.py\"><span style=\"color: #7f7f7f; text-decoration-color: #7f7f7f\">deprecation.py</span></a><span style=\"color: #7f7f7f; text-decoration-color: #7f7f7f\">:</span><a href=\"file://C:\\Users\\thoma\\AppData\\Local\\Programs\\Python\\Python39\\lib\\site-packages\\manim\\utils\\deprecation.py#210\"><span style=\"color: #7f7f7f; text-decoration-color: #7f7f7f\">210</span></a>\n",
       "                             been deprecated since v0.<span style=\"color: #008000; text-decoration-color: #008000\">11.0</span> and is expected                   \n",
       "                             to be removed after v0.<span style=\"color: #008000; text-decoration-color: #008000\">13.0</span>. Use plot                           \n",
       "                             instead.                                                        \n",
       "</pre>\n"
      ],
      "text/plain": [
       "\u001b[2;36m[01/31/22 20:55:22]\u001b[0m\u001b[2;36m \u001b[0m\u001b[31mWARNING \u001b[0m The method CoordinateSystem.get_graph has     \u001b]8;id=267134;file://C:\\Users\\thoma\\AppData\\Local\\Programs\\Python\\Python39\\lib\\site-packages\\manim\\utils\\deprecation.py\u001b\\\u001b[2mdeprecation.py\u001b[0m\u001b]8;;\u001b\\\u001b[2m:\u001b[0m\u001b]8;id=627681;file://C:\\Users\\thoma\\AppData\\Local\\Programs\\Python\\Python39\\lib\\site-packages\\manim\\utils\\deprecation.py#210\u001b\\\u001b[2m210\u001b[0m\u001b]8;;\u001b\\\n",
       "                             been deprecated since v0.\u001b[32m11.0\u001b[0m and is expected                   \n",
       "                             to be removed after v0.\u001b[32m13.0\u001b[0m. Use plot                           \n",
       "                             instead.                                                        \n"
      ]
     },
     "metadata": {},
     "output_type": "display_data"
    },
    {
     "name": "stderr",
     "output_type": "stream",
     "text": [
      "Animation 1: _MethodAnimation(ValueTracker):  26%|##6       | 59/225 [00:14<01:00,  2.74it/s]"
     ]
    },
    {
     "data": {
      "text/html": [
       "<pre style=\"white-space:pre;overflow-x:auto;line-height:normal;font-family:Menlo,'DejaVu Sans Mono',consolas,'Courier New',monospace\"><span style=\"color: #7fbfbf; text-decoration-color: #7fbfbf\">                    </span><span style=\"color: #800000; text-decoration-color: #800000\">WARNING </span> The method CoordinateSystem.get_graph has     <a href=\"file://C:\\Users\\thoma\\AppData\\Local\\Programs\\Python\\Python39\\lib\\site-packages\\manim\\utils\\deprecation.py\"><span style=\"color: #7f7f7f; text-decoration-color: #7f7f7f\">deprecation.py</span></a><span style=\"color: #7f7f7f; text-decoration-color: #7f7f7f\">:</span><a href=\"file://C:\\Users\\thoma\\AppData\\Local\\Programs\\Python\\Python39\\lib\\site-packages\\manim\\utils\\deprecation.py#210\"><span style=\"color: #7f7f7f; text-decoration-color: #7f7f7f\">210</span></a>\n",
       "                             been deprecated since v0.<span style=\"color: #008000; text-decoration-color: #008000\">11.0</span> and is expected                   \n",
       "                             to be removed after v0.<span style=\"color: #008000; text-decoration-color: #008000\">13.0</span>. Use plot                           \n",
       "                             instead.                                                        \n",
       "</pre>\n"
      ],
      "text/plain": [
       "\u001b[2;36m                   \u001b[0m\u001b[2;36m \u001b[0m\u001b[31mWARNING \u001b[0m The method CoordinateSystem.get_graph has     \u001b]8;id=246095;file://C:\\Users\\thoma\\AppData\\Local\\Programs\\Python\\Python39\\lib\\site-packages\\manim\\utils\\deprecation.py\u001b\\\u001b[2mdeprecation.py\u001b[0m\u001b]8;;\u001b\\\u001b[2m:\u001b[0m\u001b]8;id=37418;file://C:\\Users\\thoma\\AppData\\Local\\Programs\\Python\\Python39\\lib\\site-packages\\manim\\utils\\deprecation.py#210\u001b\\\u001b[2m210\u001b[0m\u001b]8;;\u001b\\\n",
       "                             been deprecated since v0.\u001b[32m11.0\u001b[0m and is expected                   \n",
       "                             to be removed after v0.\u001b[32m13.0\u001b[0m. Use plot                           \n",
       "                             instead.                                                        \n"
      ]
     },
     "metadata": {},
     "output_type": "display_data"
    },
    {
     "name": "stderr",
     "output_type": "stream",
     "text": [
      "Animation 1: _MethodAnimation(ValueTracker):  27%|##6       | 60/225 [00:14<01:02,  2.63it/s]"
     ]
    },
    {
     "data": {
      "text/html": [
       "<pre style=\"white-space:pre;overflow-x:auto;line-height:normal;font-family:Menlo,'DejaVu Sans Mono',consolas,'Courier New',monospace\"><span style=\"color: #7fbfbf; text-decoration-color: #7fbfbf\">[01/31/22 20:55:23] </span><span style=\"color: #800000; text-decoration-color: #800000\">WARNING </span> The method CoordinateSystem.get_graph has     <a href=\"file://C:\\Users\\thoma\\AppData\\Local\\Programs\\Python\\Python39\\lib\\site-packages\\manim\\utils\\deprecation.py\"><span style=\"color: #7f7f7f; text-decoration-color: #7f7f7f\">deprecation.py</span></a><span style=\"color: #7f7f7f; text-decoration-color: #7f7f7f\">:</span><a href=\"file://C:\\Users\\thoma\\AppData\\Local\\Programs\\Python\\Python39\\lib\\site-packages\\manim\\utils\\deprecation.py#210\"><span style=\"color: #7f7f7f; text-decoration-color: #7f7f7f\">210</span></a>\n",
       "                             been deprecated since v0.<span style=\"color: #008000; text-decoration-color: #008000\">11.0</span> and is expected                   \n",
       "                             to be removed after v0.<span style=\"color: #008000; text-decoration-color: #008000\">13.0</span>. Use plot                           \n",
       "                             instead.                                                        \n",
       "</pre>\n"
      ],
      "text/plain": [
       "\u001b[2;36m[01/31/22 20:55:23]\u001b[0m\u001b[2;36m \u001b[0m\u001b[31mWARNING \u001b[0m The method CoordinateSystem.get_graph has     \u001b]8;id=405949;file://C:\\Users\\thoma\\AppData\\Local\\Programs\\Python\\Python39\\lib\\site-packages\\manim\\utils\\deprecation.py\u001b\\\u001b[2mdeprecation.py\u001b[0m\u001b]8;;\u001b\\\u001b[2m:\u001b[0m\u001b]8;id=589418;file://C:\\Users\\thoma\\AppData\\Local\\Programs\\Python\\Python39\\lib\\site-packages\\manim\\utils\\deprecation.py#210\u001b\\\u001b[2m210\u001b[0m\u001b]8;;\u001b\\\n",
       "                             been deprecated since v0.\u001b[32m11.0\u001b[0m and is expected                   \n",
       "                             to be removed after v0.\u001b[32m13.0\u001b[0m. Use plot                           \n",
       "                             instead.                                                        \n"
      ]
     },
     "metadata": {},
     "output_type": "display_data"
    },
    {
     "name": "stderr",
     "output_type": "stream",
     "text": [
      "Animation 1: _MethodAnimation(ValueTracker):  27%|##7       | 61/225 [00:15<01:01,  2.66it/s]"
     ]
    },
    {
     "data": {
      "text/html": [
       "<pre style=\"white-space:pre;overflow-x:auto;line-height:normal;font-family:Menlo,'DejaVu Sans Mono',consolas,'Courier New',monospace\"><span style=\"color: #7fbfbf; text-decoration-color: #7fbfbf\">                    </span><span style=\"color: #800000; text-decoration-color: #800000\">WARNING </span> The method CoordinateSystem.get_graph has     <a href=\"file://C:\\Users\\thoma\\AppData\\Local\\Programs\\Python\\Python39\\lib\\site-packages\\manim\\utils\\deprecation.py\"><span style=\"color: #7f7f7f; text-decoration-color: #7f7f7f\">deprecation.py</span></a><span style=\"color: #7f7f7f; text-decoration-color: #7f7f7f\">:</span><a href=\"file://C:\\Users\\thoma\\AppData\\Local\\Programs\\Python\\Python39\\lib\\site-packages\\manim\\utils\\deprecation.py#210\"><span style=\"color: #7f7f7f; text-decoration-color: #7f7f7f\">210</span></a>\n",
       "                             been deprecated since v0.<span style=\"color: #008000; text-decoration-color: #008000\">11.0</span> and is expected                   \n",
       "                             to be removed after v0.<span style=\"color: #008000; text-decoration-color: #008000\">13.0</span>. Use plot                           \n",
       "                             instead.                                                        \n",
       "</pre>\n"
      ],
      "text/plain": [
       "\u001b[2;36m                   \u001b[0m\u001b[2;36m \u001b[0m\u001b[31mWARNING \u001b[0m The method CoordinateSystem.get_graph has     \u001b]8;id=929375;file://C:\\Users\\thoma\\AppData\\Local\\Programs\\Python\\Python39\\lib\\site-packages\\manim\\utils\\deprecation.py\u001b\\\u001b[2mdeprecation.py\u001b[0m\u001b]8;;\u001b\\\u001b[2m:\u001b[0m\u001b]8;id=557549;file://C:\\Users\\thoma\\AppData\\Local\\Programs\\Python\\Python39\\lib\\site-packages\\manim\\utils\\deprecation.py#210\u001b\\\u001b[2m210\u001b[0m\u001b]8;;\u001b\\\n",
       "                             been deprecated since v0.\u001b[32m11.0\u001b[0m and is expected                   \n",
       "                             to be removed after v0.\u001b[32m13.0\u001b[0m. Use plot                           \n",
       "                             instead.                                                        \n"
      ]
     },
     "metadata": {},
     "output_type": "display_data"
    },
    {
     "name": "stderr",
     "output_type": "stream",
     "text": [
      "Animation 1: _MethodAnimation(ValueTracker):  28%|##7       | 62/225 [00:15<01:01,  2.67it/s]"
     ]
    },
    {
     "data": {
      "text/html": [
       "<pre style=\"white-space:pre;overflow-x:auto;line-height:normal;font-family:Menlo,'DejaVu Sans Mono',consolas,'Courier New',monospace\"><span style=\"color: #7fbfbf; text-decoration-color: #7fbfbf\">                    </span><span style=\"color: #800000; text-decoration-color: #800000\">WARNING </span> The method CoordinateSystem.get_graph has     <a href=\"file://C:\\Users\\thoma\\AppData\\Local\\Programs\\Python\\Python39\\lib\\site-packages\\manim\\utils\\deprecation.py\"><span style=\"color: #7f7f7f; text-decoration-color: #7f7f7f\">deprecation.py</span></a><span style=\"color: #7f7f7f; text-decoration-color: #7f7f7f\">:</span><a href=\"file://C:\\Users\\thoma\\AppData\\Local\\Programs\\Python\\Python39\\lib\\site-packages\\manim\\utils\\deprecation.py#210\"><span style=\"color: #7f7f7f; text-decoration-color: #7f7f7f\">210</span></a>\n",
       "                             been deprecated since v0.<span style=\"color: #008000; text-decoration-color: #008000\">11.0</span> and is expected                   \n",
       "                             to be removed after v0.<span style=\"color: #008000; text-decoration-color: #008000\">13.0</span>. Use plot                           \n",
       "                             instead.                                                        \n",
       "</pre>\n"
      ],
      "text/plain": [
       "\u001b[2;36m                   \u001b[0m\u001b[2;36m \u001b[0m\u001b[31mWARNING \u001b[0m The method CoordinateSystem.get_graph has     \u001b]8;id=788382;file://C:\\Users\\thoma\\AppData\\Local\\Programs\\Python\\Python39\\lib\\site-packages\\manim\\utils\\deprecation.py\u001b\\\u001b[2mdeprecation.py\u001b[0m\u001b]8;;\u001b\\\u001b[2m:\u001b[0m\u001b]8;id=934153;file://C:\\Users\\thoma\\AppData\\Local\\Programs\\Python\\Python39\\lib\\site-packages\\manim\\utils\\deprecation.py#210\u001b\\\u001b[2m210\u001b[0m\u001b]8;;\u001b\\\n",
       "                             been deprecated since v0.\u001b[32m11.0\u001b[0m and is expected                   \n",
       "                             to be removed after v0.\u001b[32m13.0\u001b[0m. Use plot                           \n",
       "                             instead.                                                        \n"
      ]
     },
     "metadata": {},
     "output_type": "display_data"
    },
    {
     "name": "stderr",
     "output_type": "stream",
     "text": [
      "Animation 1: _MethodAnimation(ValueTracker):  28%|##8       | 63/225 [00:15<00:58,  2.76it/s]"
     ]
    },
    {
     "data": {
      "text/html": [
       "<pre style=\"white-space:pre;overflow-x:auto;line-height:normal;font-family:Menlo,'DejaVu Sans Mono',consolas,'Courier New',monospace\"><span style=\"color: #7fbfbf; text-decoration-color: #7fbfbf\">[01/31/22 20:55:24] </span><span style=\"color: #800000; text-decoration-color: #800000\">WARNING </span> The method CoordinateSystem.get_graph has     <a href=\"file://C:\\Users\\thoma\\AppData\\Local\\Programs\\Python\\Python39\\lib\\site-packages\\manim\\utils\\deprecation.py\"><span style=\"color: #7f7f7f; text-decoration-color: #7f7f7f\">deprecation.py</span></a><span style=\"color: #7f7f7f; text-decoration-color: #7f7f7f\">:</span><a href=\"file://C:\\Users\\thoma\\AppData\\Local\\Programs\\Python\\Python39\\lib\\site-packages\\manim\\utils\\deprecation.py#210\"><span style=\"color: #7f7f7f; text-decoration-color: #7f7f7f\">210</span></a>\n",
       "                             been deprecated since v0.<span style=\"color: #008000; text-decoration-color: #008000\">11.0</span> and is expected                   \n",
       "                             to be removed after v0.<span style=\"color: #008000; text-decoration-color: #008000\">13.0</span>. Use plot                           \n",
       "                             instead.                                                        \n",
       "</pre>\n"
      ],
      "text/plain": [
       "\u001b[2;36m[01/31/22 20:55:24]\u001b[0m\u001b[2;36m \u001b[0m\u001b[31mWARNING \u001b[0m The method CoordinateSystem.get_graph has     \u001b]8;id=572197;file://C:\\Users\\thoma\\AppData\\Local\\Programs\\Python\\Python39\\lib\\site-packages\\manim\\utils\\deprecation.py\u001b\\\u001b[2mdeprecation.py\u001b[0m\u001b]8;;\u001b\\\u001b[2m:\u001b[0m\u001b]8;id=851885;file://C:\\Users\\thoma\\AppData\\Local\\Programs\\Python\\Python39\\lib\\site-packages\\manim\\utils\\deprecation.py#210\u001b\\\u001b[2m210\u001b[0m\u001b]8;;\u001b\\\n",
       "                             been deprecated since v0.\u001b[32m11.0\u001b[0m and is expected                   \n",
       "                             to be removed after v0.\u001b[32m13.0\u001b[0m. Use plot                           \n",
       "                             instead.                                                        \n"
      ]
     },
     "metadata": {},
     "output_type": "display_data"
    },
    {
     "name": "stderr",
     "output_type": "stream",
     "text": [
      "Animation 1: _MethodAnimation(ValueTracker):  28%|##8       | 64/225 [00:16<00:56,  2.84it/s]"
     ]
    },
    {
     "data": {
      "text/html": [
       "<pre style=\"white-space:pre;overflow-x:auto;line-height:normal;font-family:Menlo,'DejaVu Sans Mono',consolas,'Courier New',monospace\"><span style=\"color: #7fbfbf; text-decoration-color: #7fbfbf\">                    </span><span style=\"color: #800000; text-decoration-color: #800000\">WARNING </span> The method CoordinateSystem.get_graph has     <a href=\"file://C:\\Users\\thoma\\AppData\\Local\\Programs\\Python\\Python39\\lib\\site-packages\\manim\\utils\\deprecation.py\"><span style=\"color: #7f7f7f; text-decoration-color: #7f7f7f\">deprecation.py</span></a><span style=\"color: #7f7f7f; text-decoration-color: #7f7f7f\">:</span><a href=\"file://C:\\Users\\thoma\\AppData\\Local\\Programs\\Python\\Python39\\lib\\site-packages\\manim\\utils\\deprecation.py#210\"><span style=\"color: #7f7f7f; text-decoration-color: #7f7f7f\">210</span></a>\n",
       "                             been deprecated since v0.<span style=\"color: #008000; text-decoration-color: #008000\">11.0</span> and is expected                   \n",
       "                             to be removed after v0.<span style=\"color: #008000; text-decoration-color: #008000\">13.0</span>. Use plot                           \n",
       "                             instead.                                                        \n",
       "</pre>\n"
      ],
      "text/plain": [
       "\u001b[2;36m                   \u001b[0m\u001b[2;36m \u001b[0m\u001b[31mWARNING \u001b[0m The method CoordinateSystem.get_graph has     \u001b]8;id=30150;file://C:\\Users\\thoma\\AppData\\Local\\Programs\\Python\\Python39\\lib\\site-packages\\manim\\utils\\deprecation.py\u001b\\\u001b[2mdeprecation.py\u001b[0m\u001b]8;;\u001b\\\u001b[2m:\u001b[0m\u001b]8;id=213119;file://C:\\Users\\thoma\\AppData\\Local\\Programs\\Python\\Python39\\lib\\site-packages\\manim\\utils\\deprecation.py#210\u001b\\\u001b[2m210\u001b[0m\u001b]8;;\u001b\\\n",
       "                             been deprecated since v0.\u001b[32m11.0\u001b[0m and is expected                   \n",
       "                             to be removed after v0.\u001b[32m13.0\u001b[0m. Use plot                           \n",
       "                             instead.                                                        \n"
      ]
     },
     "metadata": {},
     "output_type": "display_data"
    },
    {
     "name": "stderr",
     "output_type": "stream",
     "text": [
      "Animation 1: _MethodAnimation(ValueTracker):  29%|##8       | 65/225 [00:16<01:02,  2.56it/s]"
     ]
    },
    {
     "data": {
      "text/html": [
       "<pre style=\"white-space:pre;overflow-x:auto;line-height:normal;font-family:Menlo,'DejaVu Sans Mono',consolas,'Courier New',monospace\"><span style=\"color: #7fbfbf; text-decoration-color: #7fbfbf\">                    </span><span style=\"color: #800000; text-decoration-color: #800000\">WARNING </span> The method CoordinateSystem.get_graph has     <a href=\"file://C:\\Users\\thoma\\AppData\\Local\\Programs\\Python\\Python39\\lib\\site-packages\\manim\\utils\\deprecation.py\"><span style=\"color: #7f7f7f; text-decoration-color: #7f7f7f\">deprecation.py</span></a><span style=\"color: #7f7f7f; text-decoration-color: #7f7f7f\">:</span><a href=\"file://C:\\Users\\thoma\\AppData\\Local\\Programs\\Python\\Python39\\lib\\site-packages\\manim\\utils\\deprecation.py#210\"><span style=\"color: #7f7f7f; text-decoration-color: #7f7f7f\">210</span></a>\n",
       "                             been deprecated since v0.<span style=\"color: #008000; text-decoration-color: #008000\">11.0</span> and is expected                   \n",
       "                             to be removed after v0.<span style=\"color: #008000; text-decoration-color: #008000\">13.0</span>. Use plot                           \n",
       "                             instead.                                                        \n",
       "</pre>\n"
      ],
      "text/plain": [
       "\u001b[2;36m                   \u001b[0m\u001b[2;36m \u001b[0m\u001b[31mWARNING \u001b[0m The method CoordinateSystem.get_graph has     \u001b]8;id=631502;file://C:\\Users\\thoma\\AppData\\Local\\Programs\\Python\\Python39\\lib\\site-packages\\manim\\utils\\deprecation.py\u001b\\\u001b[2mdeprecation.py\u001b[0m\u001b]8;;\u001b\\\u001b[2m:\u001b[0m\u001b]8;id=284667;file://C:\\Users\\thoma\\AppData\\Local\\Programs\\Python\\Python39\\lib\\site-packages\\manim\\utils\\deprecation.py#210\u001b\\\u001b[2m210\u001b[0m\u001b]8;;\u001b\\\n",
       "                             been deprecated since v0.\u001b[32m11.0\u001b[0m and is expected                   \n",
       "                             to be removed after v0.\u001b[32m13.0\u001b[0m. Use plot                           \n",
       "                             instead.                                                        \n"
      ]
     },
     "metadata": {},
     "output_type": "display_data"
    },
    {
     "name": "stderr",
     "output_type": "stream",
     "text": [
      "Animation 1: _MethodAnimation(ValueTracker):  29%|##9       | 66/225 [00:17<01:02,  2.56it/s]"
     ]
    },
    {
     "data": {
      "text/html": [
       "<pre style=\"white-space:pre;overflow-x:auto;line-height:normal;font-family:Menlo,'DejaVu Sans Mono',consolas,'Courier New',monospace\"><span style=\"color: #7fbfbf; text-decoration-color: #7fbfbf\">[01/31/22 20:55:25] </span><span style=\"color: #800000; text-decoration-color: #800000\">WARNING </span> The method CoordinateSystem.get_graph has     <a href=\"file://C:\\Users\\thoma\\AppData\\Local\\Programs\\Python\\Python39\\lib\\site-packages\\manim\\utils\\deprecation.py\"><span style=\"color: #7f7f7f; text-decoration-color: #7f7f7f\">deprecation.py</span></a><span style=\"color: #7f7f7f; text-decoration-color: #7f7f7f\">:</span><a href=\"file://C:\\Users\\thoma\\AppData\\Local\\Programs\\Python\\Python39\\lib\\site-packages\\manim\\utils\\deprecation.py#210\"><span style=\"color: #7f7f7f; text-decoration-color: #7f7f7f\">210</span></a>\n",
       "                             been deprecated since v0.<span style=\"color: #008000; text-decoration-color: #008000\">11.0</span> and is expected                   \n",
       "                             to be removed after v0.<span style=\"color: #008000; text-decoration-color: #008000\">13.0</span>. Use plot                           \n",
       "                             instead.                                                        \n",
       "</pre>\n"
      ],
      "text/plain": [
       "\u001b[2;36m[01/31/22 20:55:25]\u001b[0m\u001b[2;36m \u001b[0m\u001b[31mWARNING \u001b[0m The method CoordinateSystem.get_graph has     \u001b]8;id=779504;file://C:\\Users\\thoma\\AppData\\Local\\Programs\\Python\\Python39\\lib\\site-packages\\manim\\utils\\deprecation.py\u001b\\\u001b[2mdeprecation.py\u001b[0m\u001b]8;;\u001b\\\u001b[2m:\u001b[0m\u001b]8;id=640;file://C:\\Users\\thoma\\AppData\\Local\\Programs\\Python\\Python39\\lib\\site-packages\\manim\\utils\\deprecation.py#210\u001b\\\u001b[2m210\u001b[0m\u001b]8;;\u001b\\\n",
       "                             been deprecated since v0.\u001b[32m11.0\u001b[0m and is expected                   \n",
       "                             to be removed after v0.\u001b[32m13.0\u001b[0m. Use plot                           \n",
       "                             instead.                                                        \n"
      ]
     },
     "metadata": {},
     "output_type": "display_data"
    },
    {
     "name": "stderr",
     "output_type": "stream",
     "text": [
      "Animation 1: _MethodAnimation(ValueTracker):  30%|##9       | 67/225 [00:17<01:10,  2.24it/s]"
     ]
    },
    {
     "data": {
      "text/html": [
       "<pre style=\"white-space:pre;overflow-x:auto;line-height:normal;font-family:Menlo,'DejaVu Sans Mono',consolas,'Courier New',monospace\"><span style=\"color: #7fbfbf; text-decoration-color: #7fbfbf\">                    </span><span style=\"color: #800000; text-decoration-color: #800000\">WARNING </span> The method CoordinateSystem.get_graph has     <a href=\"file://C:\\Users\\thoma\\AppData\\Local\\Programs\\Python\\Python39\\lib\\site-packages\\manim\\utils\\deprecation.py\"><span style=\"color: #7f7f7f; text-decoration-color: #7f7f7f\">deprecation.py</span></a><span style=\"color: #7f7f7f; text-decoration-color: #7f7f7f\">:</span><a href=\"file://C:\\Users\\thoma\\AppData\\Local\\Programs\\Python\\Python39\\lib\\site-packages\\manim\\utils\\deprecation.py#210\"><span style=\"color: #7f7f7f; text-decoration-color: #7f7f7f\">210</span></a>\n",
       "                             been deprecated since v0.<span style=\"color: #008000; text-decoration-color: #008000\">11.0</span> and is expected                   \n",
       "                             to be removed after v0.<span style=\"color: #008000; text-decoration-color: #008000\">13.0</span>. Use plot                           \n",
       "                             instead.                                                        \n",
       "</pre>\n"
      ],
      "text/plain": [
       "\u001b[2;36m                   \u001b[0m\u001b[2;36m \u001b[0m\u001b[31mWARNING \u001b[0m The method CoordinateSystem.get_graph has     \u001b]8;id=202736;file://C:\\Users\\thoma\\AppData\\Local\\Programs\\Python\\Python39\\lib\\site-packages\\manim\\utils\\deprecation.py\u001b\\\u001b[2mdeprecation.py\u001b[0m\u001b]8;;\u001b\\\u001b[2m:\u001b[0m\u001b]8;id=659671;file://C:\\Users\\thoma\\AppData\\Local\\Programs\\Python\\Python39\\lib\\site-packages\\manim\\utils\\deprecation.py#210\u001b\\\u001b[2m210\u001b[0m\u001b]8;;\u001b\\\n",
       "                             been deprecated since v0.\u001b[32m11.0\u001b[0m and is expected                   \n",
       "                             to be removed after v0.\u001b[32m13.0\u001b[0m. Use plot                           \n",
       "                             instead.                                                        \n"
      ]
     },
     "metadata": {},
     "output_type": "display_data"
    },
    {
     "name": "stderr",
     "output_type": "stream",
     "text": [
      "Animation 1: _MethodAnimation(ValueTracker):  30%|###       | 68/225 [00:18<01:14,  2.10it/s]"
     ]
    },
    {
     "data": {
      "text/html": [
       "<pre style=\"white-space:pre;overflow-x:auto;line-height:normal;font-family:Menlo,'DejaVu Sans Mono',consolas,'Courier New',monospace\"><span style=\"color: #7fbfbf; text-decoration-color: #7fbfbf\">[01/31/22 20:55:26] </span><span style=\"color: #800000; text-decoration-color: #800000\">WARNING </span> The method CoordinateSystem.get_graph has     <a href=\"file://C:\\Users\\thoma\\AppData\\Local\\Programs\\Python\\Python39\\lib\\site-packages\\manim\\utils\\deprecation.py\"><span style=\"color: #7f7f7f; text-decoration-color: #7f7f7f\">deprecation.py</span></a><span style=\"color: #7f7f7f; text-decoration-color: #7f7f7f\">:</span><a href=\"file://C:\\Users\\thoma\\AppData\\Local\\Programs\\Python\\Python39\\lib\\site-packages\\manim\\utils\\deprecation.py#210\"><span style=\"color: #7f7f7f; text-decoration-color: #7f7f7f\">210</span></a>\n",
       "                             been deprecated since v0.<span style=\"color: #008000; text-decoration-color: #008000\">11.0</span> and is expected                   \n",
       "                             to be removed after v0.<span style=\"color: #008000; text-decoration-color: #008000\">13.0</span>. Use plot                           \n",
       "                             instead.                                                        \n",
       "</pre>\n"
      ],
      "text/plain": [
       "\u001b[2;36m[01/31/22 20:55:26]\u001b[0m\u001b[2;36m \u001b[0m\u001b[31mWARNING \u001b[0m The method CoordinateSystem.get_graph has     \u001b]8;id=540955;file://C:\\Users\\thoma\\AppData\\Local\\Programs\\Python\\Python39\\lib\\site-packages\\manim\\utils\\deprecation.py\u001b\\\u001b[2mdeprecation.py\u001b[0m\u001b]8;;\u001b\\\u001b[2m:\u001b[0m\u001b]8;id=304961;file://C:\\Users\\thoma\\AppData\\Local\\Programs\\Python\\Python39\\lib\\site-packages\\manim\\utils\\deprecation.py#210\u001b\\\u001b[2m210\u001b[0m\u001b]8;;\u001b\\\n",
       "                             been deprecated since v0.\u001b[32m11.0\u001b[0m and is expected                   \n",
       "                             to be removed after v0.\u001b[32m13.0\u001b[0m. Use plot                           \n",
       "                             instead.                                                        \n"
      ]
     },
     "metadata": {},
     "output_type": "display_data"
    },
    {
     "name": "stderr",
     "output_type": "stream",
     "text": [
      "Animation 1: _MethodAnimation(ValueTracker):  31%|###       | 69/225 [00:18<01:13,  2.14it/s]"
     ]
    },
    {
     "data": {
      "text/html": [
       "<pre style=\"white-space:pre;overflow-x:auto;line-height:normal;font-family:Menlo,'DejaVu Sans Mono',consolas,'Courier New',monospace\"><span style=\"color: #7fbfbf; text-decoration-color: #7fbfbf\">                    </span><span style=\"color: #800000; text-decoration-color: #800000\">WARNING </span> The method CoordinateSystem.get_graph has     <a href=\"file://C:\\Users\\thoma\\AppData\\Local\\Programs\\Python\\Python39\\lib\\site-packages\\manim\\utils\\deprecation.py\"><span style=\"color: #7f7f7f; text-decoration-color: #7f7f7f\">deprecation.py</span></a><span style=\"color: #7f7f7f; text-decoration-color: #7f7f7f\">:</span><a href=\"file://C:\\Users\\thoma\\AppData\\Local\\Programs\\Python\\Python39\\lib\\site-packages\\manim\\utils\\deprecation.py#210\"><span style=\"color: #7f7f7f; text-decoration-color: #7f7f7f\">210</span></a>\n",
       "                             been deprecated since v0.<span style=\"color: #008000; text-decoration-color: #008000\">11.0</span> and is expected                   \n",
       "                             to be removed after v0.<span style=\"color: #008000; text-decoration-color: #008000\">13.0</span>. Use plot                           \n",
       "                             instead.                                                        \n",
       "</pre>\n"
      ],
      "text/plain": [
       "\u001b[2;36m                   \u001b[0m\u001b[2;36m \u001b[0m\u001b[31mWARNING \u001b[0m The method CoordinateSystem.get_graph has     \u001b]8;id=440383;file://C:\\Users\\thoma\\AppData\\Local\\Programs\\Python\\Python39\\lib\\site-packages\\manim\\utils\\deprecation.py\u001b\\\u001b[2mdeprecation.py\u001b[0m\u001b]8;;\u001b\\\u001b[2m:\u001b[0m\u001b]8;id=143450;file://C:\\Users\\thoma\\AppData\\Local\\Programs\\Python\\Python39\\lib\\site-packages\\manim\\utils\\deprecation.py#210\u001b\\\u001b[2m210\u001b[0m\u001b]8;;\u001b\\\n",
       "                             been deprecated since v0.\u001b[32m11.0\u001b[0m and is expected                   \n",
       "                             to be removed after v0.\u001b[32m13.0\u001b[0m. Use plot                           \n",
       "                             instead.                                                        \n"
      ]
     },
     "metadata": {},
     "output_type": "display_data"
    },
    {
     "name": "stderr",
     "output_type": "stream",
     "text": [
      "Animation 1: _MethodAnimation(ValueTracker):  31%|###1      | 70/225 [00:19<01:13,  2.12it/s]"
     ]
    },
    {
     "data": {
      "text/html": [
       "<pre style=\"white-space:pre;overflow-x:auto;line-height:normal;font-family:Menlo,'DejaVu Sans Mono',consolas,'Courier New',monospace\"><span style=\"color: #7fbfbf; text-decoration-color: #7fbfbf\">[01/31/22 20:55:27] </span><span style=\"color: #800000; text-decoration-color: #800000\">WARNING </span> The method CoordinateSystem.get_graph has     <a href=\"file://C:\\Users\\thoma\\AppData\\Local\\Programs\\Python\\Python39\\lib\\site-packages\\manim\\utils\\deprecation.py\"><span style=\"color: #7f7f7f; text-decoration-color: #7f7f7f\">deprecation.py</span></a><span style=\"color: #7f7f7f; text-decoration-color: #7f7f7f\">:</span><a href=\"file://C:\\Users\\thoma\\AppData\\Local\\Programs\\Python\\Python39\\lib\\site-packages\\manim\\utils\\deprecation.py#210\"><span style=\"color: #7f7f7f; text-decoration-color: #7f7f7f\">210</span></a>\n",
       "                             been deprecated since v0.<span style=\"color: #008000; text-decoration-color: #008000\">11.0</span> and is expected                   \n",
       "                             to be removed after v0.<span style=\"color: #008000; text-decoration-color: #008000\">13.0</span>. Use plot                           \n",
       "                             instead.                                                        \n",
       "</pre>\n"
      ],
      "text/plain": [
       "\u001b[2;36m[01/31/22 20:55:27]\u001b[0m\u001b[2;36m \u001b[0m\u001b[31mWARNING \u001b[0m The method CoordinateSystem.get_graph has     \u001b]8;id=43575;file://C:\\Users\\thoma\\AppData\\Local\\Programs\\Python\\Python39\\lib\\site-packages\\manim\\utils\\deprecation.py\u001b\\\u001b[2mdeprecation.py\u001b[0m\u001b]8;;\u001b\\\u001b[2m:\u001b[0m\u001b]8;id=189309;file://C:\\Users\\thoma\\AppData\\Local\\Programs\\Python\\Python39\\lib\\site-packages\\manim\\utils\\deprecation.py#210\u001b\\\u001b[2m210\u001b[0m\u001b]8;;\u001b\\\n",
       "                             been deprecated since v0.\u001b[32m11.0\u001b[0m and is expected                   \n",
       "                             to be removed after v0.\u001b[32m13.0\u001b[0m. Use plot                           \n",
       "                             instead.                                                        \n"
      ]
     },
     "metadata": {},
     "output_type": "display_data"
    },
    {
     "name": "stderr",
     "output_type": "stream",
     "text": [
      "Animation 1: _MethodAnimation(ValueTracker):  32%|###1      | 71/225 [00:19<01:09,  2.22it/s]"
     ]
    },
    {
     "data": {
      "text/html": [
       "<pre style=\"white-space:pre;overflow-x:auto;line-height:normal;font-family:Menlo,'DejaVu Sans Mono',consolas,'Courier New',monospace\"><span style=\"color: #7fbfbf; text-decoration-color: #7fbfbf\">                    </span><span style=\"color: #800000; text-decoration-color: #800000\">WARNING </span> The method CoordinateSystem.get_graph has     <a href=\"file://C:\\Users\\thoma\\AppData\\Local\\Programs\\Python\\Python39\\lib\\site-packages\\manim\\utils\\deprecation.py\"><span style=\"color: #7f7f7f; text-decoration-color: #7f7f7f\">deprecation.py</span></a><span style=\"color: #7f7f7f; text-decoration-color: #7f7f7f\">:</span><a href=\"file://C:\\Users\\thoma\\AppData\\Local\\Programs\\Python\\Python39\\lib\\site-packages\\manim\\utils\\deprecation.py#210\"><span style=\"color: #7f7f7f; text-decoration-color: #7f7f7f\">210</span></a>\n",
       "                             been deprecated since v0.<span style=\"color: #008000; text-decoration-color: #008000\">11.0</span> and is expected                   \n",
       "                             to be removed after v0.<span style=\"color: #008000; text-decoration-color: #008000\">13.0</span>. Use plot                           \n",
       "                             instead.                                                        \n",
       "</pre>\n"
      ],
      "text/plain": [
       "\u001b[2;36m                   \u001b[0m\u001b[2;36m \u001b[0m\u001b[31mWARNING \u001b[0m The method CoordinateSystem.get_graph has     \u001b]8;id=904705;file://C:\\Users\\thoma\\AppData\\Local\\Programs\\Python\\Python39\\lib\\site-packages\\manim\\utils\\deprecation.py\u001b\\\u001b[2mdeprecation.py\u001b[0m\u001b]8;;\u001b\\\u001b[2m:\u001b[0m\u001b]8;id=859727;file://C:\\Users\\thoma\\AppData\\Local\\Programs\\Python\\Python39\\lib\\site-packages\\manim\\utils\\deprecation.py#210\u001b\\\u001b[2m210\u001b[0m\u001b]8;;\u001b\\\n",
       "                             been deprecated since v0.\u001b[32m11.0\u001b[0m and is expected                   \n",
       "                             to be removed after v0.\u001b[32m13.0\u001b[0m. Use plot                           \n",
       "                             instead.                                                        \n"
      ]
     },
     "metadata": {},
     "output_type": "display_data"
    },
    {
     "name": "stderr",
     "output_type": "stream",
     "text": [
      "Animation 1: _MethodAnimation(ValueTracker):  32%|###2      | 72/225 [00:20<01:10,  2.17it/s]"
     ]
    },
    {
     "data": {
      "text/html": [
       "<pre style=\"white-space:pre;overflow-x:auto;line-height:normal;font-family:Menlo,'DejaVu Sans Mono',consolas,'Courier New',monospace\"><span style=\"color: #7fbfbf; text-decoration-color: #7fbfbf\">[01/31/22 20:55:28] </span><span style=\"color: #800000; text-decoration-color: #800000\">WARNING </span> The method CoordinateSystem.get_graph has     <a href=\"file://C:\\Users\\thoma\\AppData\\Local\\Programs\\Python\\Python39\\lib\\site-packages\\manim\\utils\\deprecation.py\"><span style=\"color: #7f7f7f; text-decoration-color: #7f7f7f\">deprecation.py</span></a><span style=\"color: #7f7f7f; text-decoration-color: #7f7f7f\">:</span><a href=\"file://C:\\Users\\thoma\\AppData\\Local\\Programs\\Python\\Python39\\lib\\site-packages\\manim\\utils\\deprecation.py#210\"><span style=\"color: #7f7f7f; text-decoration-color: #7f7f7f\">210</span></a>\n",
       "                             been deprecated since v0.<span style=\"color: #008000; text-decoration-color: #008000\">11.0</span> and is expected                   \n",
       "                             to be removed after v0.<span style=\"color: #008000; text-decoration-color: #008000\">13.0</span>. Use plot                           \n",
       "                             instead.                                                        \n",
       "</pre>\n"
      ],
      "text/plain": [
       "\u001b[2;36m[01/31/22 20:55:28]\u001b[0m\u001b[2;36m \u001b[0m\u001b[31mWARNING \u001b[0m The method CoordinateSystem.get_graph has     \u001b]8;id=439982;file://C:\\Users\\thoma\\AppData\\Local\\Programs\\Python\\Python39\\lib\\site-packages\\manim\\utils\\deprecation.py\u001b\\\u001b[2mdeprecation.py\u001b[0m\u001b]8;;\u001b\\\u001b[2m:\u001b[0m\u001b]8;id=374044;file://C:\\Users\\thoma\\AppData\\Local\\Programs\\Python\\Python39\\lib\\site-packages\\manim\\utils\\deprecation.py#210\u001b\\\u001b[2m210\u001b[0m\u001b]8;;\u001b\\\n",
       "                             been deprecated since v0.\u001b[32m11.0\u001b[0m and is expected                   \n",
       "                             to be removed after v0.\u001b[32m13.0\u001b[0m. Use plot                           \n",
       "                             instead.                                                        \n"
      ]
     },
     "metadata": {},
     "output_type": "display_data"
    },
    {
     "name": "stderr",
     "output_type": "stream",
     "text": [
      "Animation 1: _MethodAnimation(ValueTracker):  32%|###2      | 73/225 [00:20<01:08,  2.22it/s]"
     ]
    },
    {
     "data": {
      "text/html": [
       "<pre style=\"white-space:pre;overflow-x:auto;line-height:normal;font-family:Menlo,'DejaVu Sans Mono',consolas,'Courier New',monospace\"><span style=\"color: #7fbfbf; text-decoration-color: #7fbfbf\">                    </span><span style=\"color: #800000; text-decoration-color: #800000\">WARNING </span> The method CoordinateSystem.get_graph has     <a href=\"file://C:\\Users\\thoma\\AppData\\Local\\Programs\\Python\\Python39\\lib\\site-packages\\manim\\utils\\deprecation.py\"><span style=\"color: #7f7f7f; text-decoration-color: #7f7f7f\">deprecation.py</span></a><span style=\"color: #7f7f7f; text-decoration-color: #7f7f7f\">:</span><a href=\"file://C:\\Users\\thoma\\AppData\\Local\\Programs\\Python\\Python39\\lib\\site-packages\\manim\\utils\\deprecation.py#210\"><span style=\"color: #7f7f7f; text-decoration-color: #7f7f7f\">210</span></a>\n",
       "                             been deprecated since v0.<span style=\"color: #008000; text-decoration-color: #008000\">11.0</span> and is expected                   \n",
       "                             to be removed after v0.<span style=\"color: #008000; text-decoration-color: #008000\">13.0</span>. Use plot                           \n",
       "                             instead.                                                        \n",
       "</pre>\n"
      ],
      "text/plain": [
       "\u001b[2;36m                   \u001b[0m\u001b[2;36m \u001b[0m\u001b[31mWARNING \u001b[0m The method CoordinateSystem.get_graph has     \u001b]8;id=987402;file://C:\\Users\\thoma\\AppData\\Local\\Programs\\Python\\Python39\\lib\\site-packages\\manim\\utils\\deprecation.py\u001b\\\u001b[2mdeprecation.py\u001b[0m\u001b]8;;\u001b\\\u001b[2m:\u001b[0m\u001b]8;id=555763;file://C:\\Users\\thoma\\AppData\\Local\\Programs\\Python\\Python39\\lib\\site-packages\\manim\\utils\\deprecation.py#210\u001b\\\u001b[2m210\u001b[0m\u001b]8;;\u001b\\\n",
       "                             been deprecated since v0.\u001b[32m11.0\u001b[0m and is expected                   \n",
       "                             to be removed after v0.\u001b[32m13.0\u001b[0m. Use plot                           \n",
       "                             instead.                                                        \n"
      ]
     },
     "metadata": {},
     "output_type": "display_data"
    },
    {
     "name": "stderr",
     "output_type": "stream",
     "text": [
      "Animation 1: _MethodAnimation(ValueTracker):  33%|###2      | 74/225 [00:20<01:06,  2.29it/s]"
     ]
    },
    {
     "data": {
      "text/html": [
       "<pre style=\"white-space:pre;overflow-x:auto;line-height:normal;font-family:Menlo,'DejaVu Sans Mono',consolas,'Courier New',monospace\"><span style=\"color: #7fbfbf; text-decoration-color: #7fbfbf\">[01/31/22 20:55:29] </span><span style=\"color: #800000; text-decoration-color: #800000\">WARNING </span> The method CoordinateSystem.get_graph has     <a href=\"file://C:\\Users\\thoma\\AppData\\Local\\Programs\\Python\\Python39\\lib\\site-packages\\manim\\utils\\deprecation.py\"><span style=\"color: #7f7f7f; text-decoration-color: #7f7f7f\">deprecation.py</span></a><span style=\"color: #7f7f7f; text-decoration-color: #7f7f7f\">:</span><a href=\"file://C:\\Users\\thoma\\AppData\\Local\\Programs\\Python\\Python39\\lib\\site-packages\\manim\\utils\\deprecation.py#210\"><span style=\"color: #7f7f7f; text-decoration-color: #7f7f7f\">210</span></a>\n",
       "                             been deprecated since v0.<span style=\"color: #008000; text-decoration-color: #008000\">11.0</span> and is expected                   \n",
       "                             to be removed after v0.<span style=\"color: #008000; text-decoration-color: #008000\">13.0</span>. Use plot                           \n",
       "                             instead.                                                        \n",
       "</pre>\n"
      ],
      "text/plain": [
       "\u001b[2;36m[01/31/22 20:55:29]\u001b[0m\u001b[2;36m \u001b[0m\u001b[31mWARNING \u001b[0m The method CoordinateSystem.get_graph has     \u001b]8;id=775480;file://C:\\Users\\thoma\\AppData\\Local\\Programs\\Python\\Python39\\lib\\site-packages\\manim\\utils\\deprecation.py\u001b\\\u001b[2mdeprecation.py\u001b[0m\u001b]8;;\u001b\\\u001b[2m:\u001b[0m\u001b]8;id=402268;file://C:\\Users\\thoma\\AppData\\Local\\Programs\\Python\\Python39\\lib\\site-packages\\manim\\utils\\deprecation.py#210\u001b\\\u001b[2m210\u001b[0m\u001b]8;;\u001b\\\n",
       "                             been deprecated since v0.\u001b[32m11.0\u001b[0m and is expected                   \n",
       "                             to be removed after v0.\u001b[32m13.0\u001b[0m. Use plot                           \n",
       "                             instead.                                                        \n"
      ]
     },
     "metadata": {},
     "output_type": "display_data"
    },
    {
     "name": "stderr",
     "output_type": "stream",
     "text": [
      "Animation 1: _MethodAnimation(ValueTracker):  33%|###3      | 75/225 [00:21<01:02,  2.39it/s]"
     ]
    },
    {
     "data": {
      "text/html": [
       "<pre style=\"white-space:pre;overflow-x:auto;line-height:normal;font-family:Menlo,'DejaVu Sans Mono',consolas,'Courier New',monospace\"><span style=\"color: #7fbfbf; text-decoration-color: #7fbfbf\">                    </span><span style=\"color: #800000; text-decoration-color: #800000\">WARNING </span> The method CoordinateSystem.get_graph has     <a href=\"file://C:\\Users\\thoma\\AppData\\Local\\Programs\\Python\\Python39\\lib\\site-packages\\manim\\utils\\deprecation.py\"><span style=\"color: #7f7f7f; text-decoration-color: #7f7f7f\">deprecation.py</span></a><span style=\"color: #7f7f7f; text-decoration-color: #7f7f7f\">:</span><a href=\"file://C:\\Users\\thoma\\AppData\\Local\\Programs\\Python\\Python39\\lib\\site-packages\\manim\\utils\\deprecation.py#210\"><span style=\"color: #7f7f7f; text-decoration-color: #7f7f7f\">210</span></a>\n",
       "                             been deprecated since v0.<span style=\"color: #008000; text-decoration-color: #008000\">11.0</span> and is expected                   \n",
       "                             to be removed after v0.<span style=\"color: #008000; text-decoration-color: #008000\">13.0</span>. Use plot                           \n",
       "                             instead.                                                        \n",
       "</pre>\n"
      ],
      "text/plain": [
       "\u001b[2;36m                   \u001b[0m\u001b[2;36m \u001b[0m\u001b[31mWARNING \u001b[0m The method CoordinateSystem.get_graph has     \u001b]8;id=688242;file://C:\\Users\\thoma\\AppData\\Local\\Programs\\Python\\Python39\\lib\\site-packages\\manim\\utils\\deprecation.py\u001b\\\u001b[2mdeprecation.py\u001b[0m\u001b]8;;\u001b\\\u001b[2m:\u001b[0m\u001b]8;id=96861;file://C:\\Users\\thoma\\AppData\\Local\\Programs\\Python\\Python39\\lib\\site-packages\\manim\\utils\\deprecation.py#210\u001b\\\u001b[2m210\u001b[0m\u001b]8;;\u001b\\\n",
       "                             been deprecated since v0.\u001b[32m11.0\u001b[0m and is expected                   \n",
       "                             to be removed after v0.\u001b[32m13.0\u001b[0m. Use plot                           \n",
       "                             instead.                                                        \n"
      ]
     },
     "metadata": {},
     "output_type": "display_data"
    },
    {
     "name": "stderr",
     "output_type": "stream",
     "text": [
      "Animation 1: _MethodAnimation(ValueTracker):  34%|###3      | 76/225 [00:21<01:01,  2.41it/s]"
     ]
    },
    {
     "data": {
      "text/html": [
       "<pre style=\"white-space:pre;overflow-x:auto;line-height:normal;font-family:Menlo,'DejaVu Sans Mono',consolas,'Courier New',monospace\"><span style=\"color: #7fbfbf; text-decoration-color: #7fbfbf\">                    </span><span style=\"color: #800000; text-decoration-color: #800000\">WARNING </span> The method CoordinateSystem.get_graph has     <a href=\"file://C:\\Users\\thoma\\AppData\\Local\\Programs\\Python\\Python39\\lib\\site-packages\\manim\\utils\\deprecation.py\"><span style=\"color: #7f7f7f; text-decoration-color: #7f7f7f\">deprecation.py</span></a><span style=\"color: #7f7f7f; text-decoration-color: #7f7f7f\">:</span><a href=\"file://C:\\Users\\thoma\\AppData\\Local\\Programs\\Python\\Python39\\lib\\site-packages\\manim\\utils\\deprecation.py#210\"><span style=\"color: #7f7f7f; text-decoration-color: #7f7f7f\">210</span></a>\n",
       "                             been deprecated since v0.<span style=\"color: #008000; text-decoration-color: #008000\">11.0</span> and is expected                   \n",
       "                             to be removed after v0.<span style=\"color: #008000; text-decoration-color: #008000\">13.0</span>. Use plot                           \n",
       "                             instead.                                                        \n",
       "</pre>\n"
      ],
      "text/plain": [
       "\u001b[2;36m                   \u001b[0m\u001b[2;36m \u001b[0m\u001b[31mWARNING \u001b[0m The method CoordinateSystem.get_graph has     \u001b]8;id=542073;file://C:\\Users\\thoma\\AppData\\Local\\Programs\\Python\\Python39\\lib\\site-packages\\manim\\utils\\deprecation.py\u001b\\\u001b[2mdeprecation.py\u001b[0m\u001b]8;;\u001b\\\u001b[2m:\u001b[0m\u001b]8;id=101457;file://C:\\Users\\thoma\\AppData\\Local\\Programs\\Python\\Python39\\lib\\site-packages\\manim\\utils\\deprecation.py#210\u001b\\\u001b[2m210\u001b[0m\u001b]8;;\u001b\\\n",
       "                             been deprecated since v0.\u001b[32m11.0\u001b[0m and is expected                   \n",
       "                             to be removed after v0.\u001b[32m13.0\u001b[0m. Use plot                           \n",
       "                             instead.                                                        \n"
      ]
     },
     "metadata": {},
     "output_type": "display_data"
    },
    {
     "name": "stderr",
     "output_type": "stream",
     "text": [
      "Animation 1: _MethodAnimation(ValueTracker):  34%|###4      | 77/225 [00:22<01:01,  2.39it/s]"
     ]
    },
    {
     "data": {
      "text/html": [
       "<pre style=\"white-space:pre;overflow-x:auto;line-height:normal;font-family:Menlo,'DejaVu Sans Mono',consolas,'Courier New',monospace\"><span style=\"color: #7fbfbf; text-decoration-color: #7fbfbf\">[01/31/22 20:55:30] </span><span style=\"color: #800000; text-decoration-color: #800000\">WARNING </span> The method CoordinateSystem.get_graph has     <a href=\"file://C:\\Users\\thoma\\AppData\\Local\\Programs\\Python\\Python39\\lib\\site-packages\\manim\\utils\\deprecation.py\"><span style=\"color: #7f7f7f; text-decoration-color: #7f7f7f\">deprecation.py</span></a><span style=\"color: #7f7f7f; text-decoration-color: #7f7f7f\">:</span><a href=\"file://C:\\Users\\thoma\\AppData\\Local\\Programs\\Python\\Python39\\lib\\site-packages\\manim\\utils\\deprecation.py#210\"><span style=\"color: #7f7f7f; text-decoration-color: #7f7f7f\">210</span></a>\n",
       "                             been deprecated since v0.<span style=\"color: #008000; text-decoration-color: #008000\">11.0</span> and is expected                   \n",
       "                             to be removed after v0.<span style=\"color: #008000; text-decoration-color: #008000\">13.0</span>. Use plot                           \n",
       "                             instead.                                                        \n",
       "</pre>\n"
      ],
      "text/plain": [
       "\u001b[2;36m[01/31/22 20:55:30]\u001b[0m\u001b[2;36m \u001b[0m\u001b[31mWARNING \u001b[0m The method CoordinateSystem.get_graph has     \u001b]8;id=311896;file://C:\\Users\\thoma\\AppData\\Local\\Programs\\Python\\Python39\\lib\\site-packages\\manim\\utils\\deprecation.py\u001b\\\u001b[2mdeprecation.py\u001b[0m\u001b]8;;\u001b\\\u001b[2m:\u001b[0m\u001b]8;id=761290;file://C:\\Users\\thoma\\AppData\\Local\\Programs\\Python\\Python39\\lib\\site-packages\\manim\\utils\\deprecation.py#210\u001b\\\u001b[2m210\u001b[0m\u001b]8;;\u001b\\\n",
       "                             been deprecated since v0.\u001b[32m11.0\u001b[0m and is expected                   \n",
       "                             to be removed after v0.\u001b[32m13.0\u001b[0m. Use plot                           \n",
       "                             instead.                                                        \n"
      ]
     },
     "metadata": {},
     "output_type": "display_data"
    },
    {
     "name": "stderr",
     "output_type": "stream",
     "text": [
      "Animation 1: _MethodAnimation(ValueTracker):  35%|###4      | 78/225 [00:22<01:05,  2.26it/s]"
     ]
    },
    {
     "data": {
      "text/html": [
       "<pre style=\"white-space:pre;overflow-x:auto;line-height:normal;font-family:Menlo,'DejaVu Sans Mono',consolas,'Courier New',monospace\"><span style=\"color: #7fbfbf; text-decoration-color: #7fbfbf\">                    </span><span style=\"color: #800000; text-decoration-color: #800000\">WARNING </span> The method CoordinateSystem.get_graph has     <a href=\"file://C:\\Users\\thoma\\AppData\\Local\\Programs\\Python\\Python39\\lib\\site-packages\\manim\\utils\\deprecation.py\"><span style=\"color: #7f7f7f; text-decoration-color: #7f7f7f\">deprecation.py</span></a><span style=\"color: #7f7f7f; text-decoration-color: #7f7f7f\">:</span><a href=\"file://C:\\Users\\thoma\\AppData\\Local\\Programs\\Python\\Python39\\lib\\site-packages\\manim\\utils\\deprecation.py#210\"><span style=\"color: #7f7f7f; text-decoration-color: #7f7f7f\">210</span></a>\n",
       "                             been deprecated since v0.<span style=\"color: #008000; text-decoration-color: #008000\">11.0</span> and is expected                   \n",
       "                             to be removed after v0.<span style=\"color: #008000; text-decoration-color: #008000\">13.0</span>. Use plot                           \n",
       "                             instead.                                                        \n",
       "</pre>\n"
      ],
      "text/plain": [
       "\u001b[2;36m                   \u001b[0m\u001b[2;36m \u001b[0m\u001b[31mWARNING \u001b[0m The method CoordinateSystem.get_graph has     \u001b]8;id=80836;file://C:\\Users\\thoma\\AppData\\Local\\Programs\\Python\\Python39\\lib\\site-packages\\manim\\utils\\deprecation.py\u001b\\\u001b[2mdeprecation.py\u001b[0m\u001b]8;;\u001b\\\u001b[2m:\u001b[0m\u001b]8;id=335219;file://C:\\Users\\thoma\\AppData\\Local\\Programs\\Python\\Python39\\lib\\site-packages\\manim\\utils\\deprecation.py#210\u001b\\\u001b[2m210\u001b[0m\u001b]8;;\u001b\\\n",
       "                             been deprecated since v0.\u001b[32m11.0\u001b[0m and is expected                   \n",
       "                             to be removed after v0.\u001b[32m13.0\u001b[0m. Use plot                           \n",
       "                             instead.                                                        \n"
      ]
     },
     "metadata": {},
     "output_type": "display_data"
    },
    {
     "name": "stderr",
     "output_type": "stream",
     "text": [
      "Animation 1: _MethodAnimation(ValueTracker):  35%|###5      | 79/225 [00:23<01:08,  2.13it/s]"
     ]
    },
    {
     "data": {
      "text/html": [
       "<pre style=\"white-space:pre;overflow-x:auto;line-height:normal;font-family:Menlo,'DejaVu Sans Mono',consolas,'Courier New',monospace\"><span style=\"color: #7fbfbf; text-decoration-color: #7fbfbf\">[01/31/22 20:55:31] </span><span style=\"color: #800000; text-decoration-color: #800000\">WARNING </span> The method CoordinateSystem.get_graph has     <a href=\"file://C:\\Users\\thoma\\AppData\\Local\\Programs\\Python\\Python39\\lib\\site-packages\\manim\\utils\\deprecation.py\"><span style=\"color: #7f7f7f; text-decoration-color: #7f7f7f\">deprecation.py</span></a><span style=\"color: #7f7f7f; text-decoration-color: #7f7f7f\">:</span><a href=\"file://C:\\Users\\thoma\\AppData\\Local\\Programs\\Python\\Python39\\lib\\site-packages\\manim\\utils\\deprecation.py#210\"><span style=\"color: #7f7f7f; text-decoration-color: #7f7f7f\">210</span></a>\n",
       "                             been deprecated since v0.<span style=\"color: #008000; text-decoration-color: #008000\">11.0</span> and is expected                   \n",
       "                             to be removed after v0.<span style=\"color: #008000; text-decoration-color: #008000\">13.0</span>. Use plot                           \n",
       "                             instead.                                                        \n",
       "</pre>\n"
      ],
      "text/plain": [
       "\u001b[2;36m[01/31/22 20:55:31]\u001b[0m\u001b[2;36m \u001b[0m\u001b[31mWARNING \u001b[0m The method CoordinateSystem.get_graph has     \u001b]8;id=951644;file://C:\\Users\\thoma\\AppData\\Local\\Programs\\Python\\Python39\\lib\\site-packages\\manim\\utils\\deprecation.py\u001b\\\u001b[2mdeprecation.py\u001b[0m\u001b]8;;\u001b\\\u001b[2m:\u001b[0m\u001b]8;id=331294;file://C:\\Users\\thoma\\AppData\\Local\\Programs\\Python\\Python39\\lib\\site-packages\\manim\\utils\\deprecation.py#210\u001b\\\u001b[2m210\u001b[0m\u001b]8;;\u001b\\\n",
       "                             been deprecated since v0.\u001b[32m11.0\u001b[0m and is expected                   \n",
       "                             to be removed after v0.\u001b[32m13.0\u001b[0m. Use plot                           \n",
       "                             instead.                                                        \n"
      ]
     },
     "metadata": {},
     "output_type": "display_data"
    },
    {
     "name": "stderr",
     "output_type": "stream",
     "text": [
      "Animation 1: _MethodAnimation(ValueTracker):  36%|###5      | 80/225 [00:23<01:05,  2.21it/s]"
     ]
    },
    {
     "data": {
      "text/html": [
       "<pre style=\"white-space:pre;overflow-x:auto;line-height:normal;font-family:Menlo,'DejaVu Sans Mono',consolas,'Courier New',monospace\"><span style=\"color: #7fbfbf; text-decoration-color: #7fbfbf\">                    </span><span style=\"color: #800000; text-decoration-color: #800000\">WARNING </span> The method CoordinateSystem.get_graph has     <a href=\"file://C:\\Users\\thoma\\AppData\\Local\\Programs\\Python\\Python39\\lib\\site-packages\\manim\\utils\\deprecation.py\"><span style=\"color: #7f7f7f; text-decoration-color: #7f7f7f\">deprecation.py</span></a><span style=\"color: #7f7f7f; text-decoration-color: #7f7f7f\">:</span><a href=\"file://C:\\Users\\thoma\\AppData\\Local\\Programs\\Python\\Python39\\lib\\site-packages\\manim\\utils\\deprecation.py#210\"><span style=\"color: #7f7f7f; text-decoration-color: #7f7f7f\">210</span></a>\n",
       "                             been deprecated since v0.<span style=\"color: #008000; text-decoration-color: #008000\">11.0</span> and is expected                   \n",
       "                             to be removed after v0.<span style=\"color: #008000; text-decoration-color: #008000\">13.0</span>. Use plot                           \n",
       "                             instead.                                                        \n",
       "</pre>\n"
      ],
      "text/plain": [
       "\u001b[2;36m                   \u001b[0m\u001b[2;36m \u001b[0m\u001b[31mWARNING \u001b[0m The method CoordinateSystem.get_graph has     \u001b]8;id=570389;file://C:\\Users\\thoma\\AppData\\Local\\Programs\\Python\\Python39\\lib\\site-packages\\manim\\utils\\deprecation.py\u001b\\\u001b[2mdeprecation.py\u001b[0m\u001b]8;;\u001b\\\u001b[2m:\u001b[0m\u001b]8;id=136515;file://C:\\Users\\thoma\\AppData\\Local\\Programs\\Python\\Python39\\lib\\site-packages\\manim\\utils\\deprecation.py#210\u001b\\\u001b[2m210\u001b[0m\u001b]8;;\u001b\\\n",
       "                             been deprecated since v0.\u001b[32m11.0\u001b[0m and is expected                   \n",
       "                             to be removed after v0.\u001b[32m13.0\u001b[0m. Use plot                           \n",
       "                             instead.                                                        \n"
      ]
     },
     "metadata": {},
     "output_type": "display_data"
    },
    {
     "name": "stderr",
     "output_type": "stream",
     "text": [
      "Animation 1: _MethodAnimation(ValueTracker):  36%|###6      | 81/225 [00:23<01:06,  2.17it/s]"
     ]
    },
    {
     "data": {
      "text/html": [
       "<pre style=\"white-space:pre;overflow-x:auto;line-height:normal;font-family:Menlo,'DejaVu Sans Mono',consolas,'Courier New',monospace\"><span style=\"color: #7fbfbf; text-decoration-color: #7fbfbf\">[01/31/22 20:55:32] </span><span style=\"color: #800000; text-decoration-color: #800000\">WARNING </span> The method CoordinateSystem.get_graph has     <a href=\"file://C:\\Users\\thoma\\AppData\\Local\\Programs\\Python\\Python39\\lib\\site-packages\\manim\\utils\\deprecation.py\"><span style=\"color: #7f7f7f; text-decoration-color: #7f7f7f\">deprecation.py</span></a><span style=\"color: #7f7f7f; text-decoration-color: #7f7f7f\">:</span><a href=\"file://C:\\Users\\thoma\\AppData\\Local\\Programs\\Python\\Python39\\lib\\site-packages\\manim\\utils\\deprecation.py#210\"><span style=\"color: #7f7f7f; text-decoration-color: #7f7f7f\">210</span></a>\n",
       "                             been deprecated since v0.<span style=\"color: #008000; text-decoration-color: #008000\">11.0</span> and is expected                   \n",
       "                             to be removed after v0.<span style=\"color: #008000; text-decoration-color: #008000\">13.0</span>. Use plot                           \n",
       "                             instead.                                                        \n",
       "</pre>\n"
      ],
      "text/plain": [
       "\u001b[2;36m[01/31/22 20:55:32]\u001b[0m\u001b[2;36m \u001b[0m\u001b[31mWARNING \u001b[0m The method CoordinateSystem.get_graph has     \u001b]8;id=620900;file://C:\\Users\\thoma\\AppData\\Local\\Programs\\Python\\Python39\\lib\\site-packages\\manim\\utils\\deprecation.py\u001b\\\u001b[2mdeprecation.py\u001b[0m\u001b]8;;\u001b\\\u001b[2m:\u001b[0m\u001b]8;id=642780;file://C:\\Users\\thoma\\AppData\\Local\\Programs\\Python\\Python39\\lib\\site-packages\\manim\\utils\\deprecation.py#210\u001b\\\u001b[2m210\u001b[0m\u001b]8;;\u001b\\\n",
       "                             been deprecated since v0.\u001b[32m11.0\u001b[0m and is expected                   \n",
       "                             to be removed after v0.\u001b[32m13.0\u001b[0m. Use plot                           \n",
       "                             instead.                                                        \n"
      ]
     },
     "metadata": {},
     "output_type": "display_data"
    },
    {
     "name": "stderr",
     "output_type": "stream",
     "text": [
      "Animation 1: _MethodAnimation(ValueTracker):  36%|###6      | 82/225 [00:24<01:04,  2.23it/s]"
     ]
    },
    {
     "data": {
      "text/html": [
       "<pre style=\"white-space:pre;overflow-x:auto;line-height:normal;font-family:Menlo,'DejaVu Sans Mono',consolas,'Courier New',monospace\"><span style=\"color: #7fbfbf; text-decoration-color: #7fbfbf\">                    </span><span style=\"color: #800000; text-decoration-color: #800000\">WARNING </span> The method CoordinateSystem.get_graph has     <a href=\"file://C:\\Users\\thoma\\AppData\\Local\\Programs\\Python\\Python39\\lib\\site-packages\\manim\\utils\\deprecation.py\"><span style=\"color: #7f7f7f; text-decoration-color: #7f7f7f\">deprecation.py</span></a><span style=\"color: #7f7f7f; text-decoration-color: #7f7f7f\">:</span><a href=\"file://C:\\Users\\thoma\\AppData\\Local\\Programs\\Python\\Python39\\lib\\site-packages\\manim\\utils\\deprecation.py#210\"><span style=\"color: #7f7f7f; text-decoration-color: #7f7f7f\">210</span></a>\n",
       "                             been deprecated since v0.<span style=\"color: #008000; text-decoration-color: #008000\">11.0</span> and is expected                   \n",
       "                             to be removed after v0.<span style=\"color: #008000; text-decoration-color: #008000\">13.0</span>. Use plot                           \n",
       "                             instead.                                                        \n",
       "</pre>\n"
      ],
      "text/plain": [
       "\u001b[2;36m                   \u001b[0m\u001b[2;36m \u001b[0m\u001b[31mWARNING \u001b[0m The method CoordinateSystem.get_graph has     \u001b]8;id=469846;file://C:\\Users\\thoma\\AppData\\Local\\Programs\\Python\\Python39\\lib\\site-packages\\manim\\utils\\deprecation.py\u001b\\\u001b[2mdeprecation.py\u001b[0m\u001b]8;;\u001b\\\u001b[2m:\u001b[0m\u001b]8;id=169460;file://C:\\Users\\thoma\\AppData\\Local\\Programs\\Python\\Python39\\lib\\site-packages\\manim\\utils\\deprecation.py#210\u001b\\\u001b[2m210\u001b[0m\u001b]8;;\u001b\\\n",
       "                             been deprecated since v0.\u001b[32m11.0\u001b[0m and is expected                   \n",
       "                             to be removed after v0.\u001b[32m13.0\u001b[0m. Use plot                           \n",
       "                             instead.                                                        \n"
      ]
     },
     "metadata": {},
     "output_type": "display_data"
    },
    {
     "name": "stderr",
     "output_type": "stream",
     "text": [
      "Animation 1: _MethodAnimation(ValueTracker):  37%|###6      | 83/225 [00:24<01:06,  2.13it/s]"
     ]
    },
    {
     "data": {
      "text/html": [
       "<pre style=\"white-space:pre;overflow-x:auto;line-height:normal;font-family:Menlo,'DejaVu Sans Mono',consolas,'Courier New',monospace\"><span style=\"color: #7fbfbf; text-decoration-color: #7fbfbf\">[01/31/22 20:55:33] </span><span style=\"color: #800000; text-decoration-color: #800000\">WARNING </span> The method CoordinateSystem.get_graph has     <a href=\"file://C:\\Users\\thoma\\AppData\\Local\\Programs\\Python\\Python39\\lib\\site-packages\\manim\\utils\\deprecation.py\"><span style=\"color: #7f7f7f; text-decoration-color: #7f7f7f\">deprecation.py</span></a><span style=\"color: #7f7f7f; text-decoration-color: #7f7f7f\">:</span><a href=\"file://C:\\Users\\thoma\\AppData\\Local\\Programs\\Python\\Python39\\lib\\site-packages\\manim\\utils\\deprecation.py#210\"><span style=\"color: #7f7f7f; text-decoration-color: #7f7f7f\">210</span></a>\n",
       "                             been deprecated since v0.<span style=\"color: #008000; text-decoration-color: #008000\">11.0</span> and is expected                   \n",
       "                             to be removed after v0.<span style=\"color: #008000; text-decoration-color: #008000\">13.0</span>. Use plot                           \n",
       "                             instead.                                                        \n",
       "</pre>\n"
      ],
      "text/plain": [
       "\u001b[2;36m[01/31/22 20:55:33]\u001b[0m\u001b[2;36m \u001b[0m\u001b[31mWARNING \u001b[0m The method CoordinateSystem.get_graph has     \u001b]8;id=38601;file://C:\\Users\\thoma\\AppData\\Local\\Programs\\Python\\Python39\\lib\\site-packages\\manim\\utils\\deprecation.py\u001b\\\u001b[2mdeprecation.py\u001b[0m\u001b]8;;\u001b\\\u001b[2m:\u001b[0m\u001b]8;id=913299;file://C:\\Users\\thoma\\AppData\\Local\\Programs\\Python\\Python39\\lib\\site-packages\\manim\\utils\\deprecation.py#210\u001b\\\u001b[2m210\u001b[0m\u001b]8;;\u001b\\\n",
       "                             been deprecated since v0.\u001b[32m11.0\u001b[0m and is expected                   \n",
       "                             to be removed after v0.\u001b[32m13.0\u001b[0m. Use plot                           \n",
       "                             instead.                                                        \n"
      ]
     },
     "metadata": {},
     "output_type": "display_data"
    },
    {
     "name": "stderr",
     "output_type": "stream",
     "text": [
      "Animation 1: _MethodAnimation(ValueTracker):  37%|###7      | 84/225 [00:25<01:07,  2.08it/s]"
     ]
    },
    {
     "data": {
      "text/html": [
       "<pre style=\"white-space:pre;overflow-x:auto;line-height:normal;font-family:Menlo,'DejaVu Sans Mono',consolas,'Courier New',monospace\"><span style=\"color: #7fbfbf; text-decoration-color: #7fbfbf\">                    </span><span style=\"color: #800000; text-decoration-color: #800000\">WARNING </span> The method CoordinateSystem.get_graph has     <a href=\"file://C:\\Users\\thoma\\AppData\\Local\\Programs\\Python\\Python39\\lib\\site-packages\\manim\\utils\\deprecation.py\"><span style=\"color: #7f7f7f; text-decoration-color: #7f7f7f\">deprecation.py</span></a><span style=\"color: #7f7f7f; text-decoration-color: #7f7f7f\">:</span><a href=\"file://C:\\Users\\thoma\\AppData\\Local\\Programs\\Python\\Python39\\lib\\site-packages\\manim\\utils\\deprecation.py#210\"><span style=\"color: #7f7f7f; text-decoration-color: #7f7f7f\">210</span></a>\n",
       "                             been deprecated since v0.<span style=\"color: #008000; text-decoration-color: #008000\">11.0</span> and is expected                   \n",
       "                             to be removed after v0.<span style=\"color: #008000; text-decoration-color: #008000\">13.0</span>. Use plot                           \n",
       "                             instead.                                                        \n",
       "</pre>\n"
      ],
      "text/plain": [
       "\u001b[2;36m                   \u001b[0m\u001b[2;36m \u001b[0m\u001b[31mWARNING \u001b[0m The method CoordinateSystem.get_graph has     \u001b]8;id=160668;file://C:\\Users\\thoma\\AppData\\Local\\Programs\\Python\\Python39\\lib\\site-packages\\manim\\utils\\deprecation.py\u001b\\\u001b[2mdeprecation.py\u001b[0m\u001b]8;;\u001b\\\u001b[2m:\u001b[0m\u001b]8;id=790205;file://C:\\Users\\thoma\\AppData\\Local\\Programs\\Python\\Python39\\lib\\site-packages\\manim\\utils\\deprecation.py#210\u001b\\\u001b[2m210\u001b[0m\u001b]8;;\u001b\\\n",
       "                             been deprecated since v0.\u001b[32m11.0\u001b[0m and is expected                   \n",
       "                             to be removed after v0.\u001b[32m13.0\u001b[0m. Use plot                           \n",
       "                             instead.                                                        \n"
      ]
     },
     "metadata": {},
     "output_type": "display_data"
    },
    {
     "name": "stderr",
     "output_type": "stream",
     "text": [
      "Animation 1: _MethodAnimation(ValueTracker):  38%|###7      | 85/225 [00:25<01:05,  2.15it/s]"
     ]
    },
    {
     "data": {
      "text/html": [
       "<pre style=\"white-space:pre;overflow-x:auto;line-height:normal;font-family:Menlo,'DejaVu Sans Mono',consolas,'Courier New',monospace\"><span style=\"color: #7fbfbf; text-decoration-color: #7fbfbf\">[01/31/22 20:55:34] </span><span style=\"color: #800000; text-decoration-color: #800000\">WARNING </span> The method CoordinateSystem.get_graph has     <a href=\"file://C:\\Users\\thoma\\AppData\\Local\\Programs\\Python\\Python39\\lib\\site-packages\\manim\\utils\\deprecation.py\"><span style=\"color: #7f7f7f; text-decoration-color: #7f7f7f\">deprecation.py</span></a><span style=\"color: #7f7f7f; text-decoration-color: #7f7f7f\">:</span><a href=\"file://C:\\Users\\thoma\\AppData\\Local\\Programs\\Python\\Python39\\lib\\site-packages\\manim\\utils\\deprecation.py#210\"><span style=\"color: #7f7f7f; text-decoration-color: #7f7f7f\">210</span></a>\n",
       "                             been deprecated since v0.<span style=\"color: #008000; text-decoration-color: #008000\">11.0</span> and is expected                   \n",
       "                             to be removed after v0.<span style=\"color: #008000; text-decoration-color: #008000\">13.0</span>. Use plot                           \n",
       "                             instead.                                                        \n",
       "</pre>\n"
      ],
      "text/plain": [
       "\u001b[2;36m[01/31/22 20:55:34]\u001b[0m\u001b[2;36m \u001b[0m\u001b[31mWARNING \u001b[0m The method CoordinateSystem.get_graph has     \u001b]8;id=246854;file://C:\\Users\\thoma\\AppData\\Local\\Programs\\Python\\Python39\\lib\\site-packages\\manim\\utils\\deprecation.py\u001b\\\u001b[2mdeprecation.py\u001b[0m\u001b]8;;\u001b\\\u001b[2m:\u001b[0m\u001b]8;id=879919;file://C:\\Users\\thoma\\AppData\\Local\\Programs\\Python\\Python39\\lib\\site-packages\\manim\\utils\\deprecation.py#210\u001b\\\u001b[2m210\u001b[0m\u001b]8;;\u001b\\\n",
       "                             been deprecated since v0.\u001b[32m11.0\u001b[0m and is expected                   \n",
       "                             to be removed after v0.\u001b[32m13.0\u001b[0m. Use plot                           \n",
       "                             instead.                                                        \n"
      ]
     },
     "metadata": {},
     "output_type": "display_data"
    },
    {
     "name": "stderr",
     "output_type": "stream",
     "text": [
      "Animation 1: _MethodAnimation(ValueTracker):  38%|###8      | 86/225 [00:26<01:03,  2.19it/s]"
     ]
    },
    {
     "data": {
      "text/html": [
       "<pre style=\"white-space:pre;overflow-x:auto;line-height:normal;font-family:Menlo,'DejaVu Sans Mono',consolas,'Courier New',monospace\"><span style=\"color: #7fbfbf; text-decoration-color: #7fbfbf\">                    </span><span style=\"color: #800000; text-decoration-color: #800000\">WARNING </span> The method CoordinateSystem.get_graph has     <a href=\"file://C:\\Users\\thoma\\AppData\\Local\\Programs\\Python\\Python39\\lib\\site-packages\\manim\\utils\\deprecation.py\"><span style=\"color: #7f7f7f; text-decoration-color: #7f7f7f\">deprecation.py</span></a><span style=\"color: #7f7f7f; text-decoration-color: #7f7f7f\">:</span><a href=\"file://C:\\Users\\thoma\\AppData\\Local\\Programs\\Python\\Python39\\lib\\site-packages\\manim\\utils\\deprecation.py#210\"><span style=\"color: #7f7f7f; text-decoration-color: #7f7f7f\">210</span></a>\n",
       "                             been deprecated since v0.<span style=\"color: #008000; text-decoration-color: #008000\">11.0</span> and is expected                   \n",
       "                             to be removed after v0.<span style=\"color: #008000; text-decoration-color: #008000\">13.0</span>. Use plot                           \n",
       "                             instead.                                                        \n",
       "</pre>\n"
      ],
      "text/plain": [
       "\u001b[2;36m                   \u001b[0m\u001b[2;36m \u001b[0m\u001b[31mWARNING \u001b[0m The method CoordinateSystem.get_graph has     \u001b]8;id=367449;file://C:\\Users\\thoma\\AppData\\Local\\Programs\\Python\\Python39\\lib\\site-packages\\manim\\utils\\deprecation.py\u001b\\\u001b[2mdeprecation.py\u001b[0m\u001b]8;;\u001b\\\u001b[2m:\u001b[0m\u001b]8;id=613553;file://C:\\Users\\thoma\\AppData\\Local\\Programs\\Python\\Python39\\lib\\site-packages\\manim\\utils\\deprecation.py#210\u001b\\\u001b[2m210\u001b[0m\u001b]8;;\u001b\\\n",
       "                             been deprecated since v0.\u001b[32m11.0\u001b[0m and is expected                   \n",
       "                             to be removed after v0.\u001b[32m13.0\u001b[0m. Use plot                           \n",
       "                             instead.                                                        \n"
      ]
     },
     "metadata": {},
     "output_type": "display_data"
    },
    {
     "name": "stderr",
     "output_type": "stream",
     "text": [
      "Animation 1: _MethodAnimation(ValueTracker):  39%|###8      | 87/225 [00:26<01:03,  2.17it/s]"
     ]
    },
    {
     "data": {
      "text/html": [
       "<pre style=\"white-space:pre;overflow-x:auto;line-height:normal;font-family:Menlo,'DejaVu Sans Mono',consolas,'Courier New',monospace\"><span style=\"color: #7fbfbf; text-decoration-color: #7fbfbf\">                    </span><span style=\"color: #800000; text-decoration-color: #800000\">WARNING </span> The method CoordinateSystem.get_graph has     <a href=\"file://C:\\Users\\thoma\\AppData\\Local\\Programs\\Python\\Python39\\lib\\site-packages\\manim\\utils\\deprecation.py\"><span style=\"color: #7f7f7f; text-decoration-color: #7f7f7f\">deprecation.py</span></a><span style=\"color: #7f7f7f; text-decoration-color: #7f7f7f\">:</span><a href=\"file://C:\\Users\\thoma\\AppData\\Local\\Programs\\Python\\Python39\\lib\\site-packages\\manim\\utils\\deprecation.py#210\"><span style=\"color: #7f7f7f; text-decoration-color: #7f7f7f\">210</span></a>\n",
       "                             been deprecated since v0.<span style=\"color: #008000; text-decoration-color: #008000\">11.0</span> and is expected                   \n",
       "                             to be removed after v0.<span style=\"color: #008000; text-decoration-color: #008000\">13.0</span>. Use plot                           \n",
       "                             instead.                                                        \n",
       "</pre>\n"
      ],
      "text/plain": [
       "\u001b[2;36m                   \u001b[0m\u001b[2;36m \u001b[0m\u001b[31mWARNING \u001b[0m The method CoordinateSystem.get_graph has     \u001b]8;id=798789;file://C:\\Users\\thoma\\AppData\\Local\\Programs\\Python\\Python39\\lib\\site-packages\\manim\\utils\\deprecation.py\u001b\\\u001b[2mdeprecation.py\u001b[0m\u001b]8;;\u001b\\\u001b[2m:\u001b[0m\u001b]8;id=835246;file://C:\\Users\\thoma\\AppData\\Local\\Programs\\Python\\Python39\\lib\\site-packages\\manim\\utils\\deprecation.py#210\u001b\\\u001b[2m210\u001b[0m\u001b]8;;\u001b\\\n",
       "                             been deprecated since v0.\u001b[32m11.0\u001b[0m and is expected                   \n",
       "                             to be removed after v0.\u001b[32m13.0\u001b[0m. Use plot                           \n",
       "                             instead.                                                        \n"
      ]
     },
     "metadata": {},
     "output_type": "display_data"
    },
    {
     "name": "stderr",
     "output_type": "stream",
     "text": [
      "Animation 1: _MethodAnimation(ValueTracker):  39%|###9      | 88/225 [00:27<01:06,  2.07it/s]"
     ]
    },
    {
     "data": {
      "text/html": [
       "<pre style=\"white-space:pre;overflow-x:auto;line-height:normal;font-family:Menlo,'DejaVu Sans Mono',consolas,'Courier New',monospace\"><span style=\"color: #7fbfbf; text-decoration-color: #7fbfbf\">[01/31/22 20:55:35] </span><span style=\"color: #800000; text-decoration-color: #800000\">WARNING </span> The method CoordinateSystem.get_graph has     <a href=\"file://C:\\Users\\thoma\\AppData\\Local\\Programs\\Python\\Python39\\lib\\site-packages\\manim\\utils\\deprecation.py\"><span style=\"color: #7f7f7f; text-decoration-color: #7f7f7f\">deprecation.py</span></a><span style=\"color: #7f7f7f; text-decoration-color: #7f7f7f\">:</span><a href=\"file://C:\\Users\\thoma\\AppData\\Local\\Programs\\Python\\Python39\\lib\\site-packages\\manim\\utils\\deprecation.py#210\"><span style=\"color: #7f7f7f; text-decoration-color: #7f7f7f\">210</span></a>\n",
       "                             been deprecated since v0.<span style=\"color: #008000; text-decoration-color: #008000\">11.0</span> and is expected                   \n",
       "                             to be removed after v0.<span style=\"color: #008000; text-decoration-color: #008000\">13.0</span>. Use plot                           \n",
       "                             instead.                                                        \n",
       "</pre>\n"
      ],
      "text/plain": [
       "\u001b[2;36m[01/31/22 20:55:35]\u001b[0m\u001b[2;36m \u001b[0m\u001b[31mWARNING \u001b[0m The method CoordinateSystem.get_graph has     \u001b]8;id=635446;file://C:\\Users\\thoma\\AppData\\Local\\Programs\\Python\\Python39\\lib\\site-packages\\manim\\utils\\deprecation.py\u001b\\\u001b[2mdeprecation.py\u001b[0m\u001b]8;;\u001b\\\u001b[2m:\u001b[0m\u001b]8;id=326654;file://C:\\Users\\thoma\\AppData\\Local\\Programs\\Python\\Python39\\lib\\site-packages\\manim\\utils\\deprecation.py#210\u001b\\\u001b[2m210\u001b[0m\u001b]8;;\u001b\\\n",
       "                             been deprecated since v0.\u001b[32m11.0\u001b[0m and is expected                   \n",
       "                             to be removed after v0.\u001b[32m13.0\u001b[0m. Use plot                           \n",
       "                             instead.                                                        \n"
      ]
     },
     "metadata": {},
     "output_type": "display_data"
    },
    {
     "name": "stderr",
     "output_type": "stream",
     "text": [
      "Animation 1: _MethodAnimation(ValueTracker):  40%|###9      | 89/225 [00:27<01:09,  1.95it/s]"
     ]
    },
    {
     "data": {
      "text/html": [
       "<pre style=\"white-space:pre;overflow-x:auto;line-height:normal;font-family:Menlo,'DejaVu Sans Mono',consolas,'Courier New',monospace\"><span style=\"color: #7fbfbf; text-decoration-color: #7fbfbf\">[01/31/22 20:55:36] </span><span style=\"color: #800000; text-decoration-color: #800000\">WARNING </span> The method CoordinateSystem.get_graph has     <a href=\"file://C:\\Users\\thoma\\AppData\\Local\\Programs\\Python\\Python39\\lib\\site-packages\\manim\\utils\\deprecation.py\"><span style=\"color: #7f7f7f; text-decoration-color: #7f7f7f\">deprecation.py</span></a><span style=\"color: #7f7f7f; text-decoration-color: #7f7f7f\">:</span><a href=\"file://C:\\Users\\thoma\\AppData\\Local\\Programs\\Python\\Python39\\lib\\site-packages\\manim\\utils\\deprecation.py#210\"><span style=\"color: #7f7f7f; text-decoration-color: #7f7f7f\">210</span></a>\n",
       "                             been deprecated since v0.<span style=\"color: #008000; text-decoration-color: #008000\">11.0</span> and is expected                   \n",
       "                             to be removed after v0.<span style=\"color: #008000; text-decoration-color: #008000\">13.0</span>. Use plot                           \n",
       "                             instead.                                                        \n",
       "</pre>\n"
      ],
      "text/plain": [
       "\u001b[2;36m[01/31/22 20:55:36]\u001b[0m\u001b[2;36m \u001b[0m\u001b[31mWARNING \u001b[0m The method CoordinateSystem.get_graph has     \u001b]8;id=120704;file://C:\\Users\\thoma\\AppData\\Local\\Programs\\Python\\Python39\\lib\\site-packages\\manim\\utils\\deprecation.py\u001b\\\u001b[2mdeprecation.py\u001b[0m\u001b]8;;\u001b\\\u001b[2m:\u001b[0m\u001b]8;id=684287;file://C:\\Users\\thoma\\AppData\\Local\\Programs\\Python\\Python39\\lib\\site-packages\\manim\\utils\\deprecation.py#210\u001b\\\u001b[2m210\u001b[0m\u001b]8;;\u001b\\\n",
       "                             been deprecated since v0.\u001b[32m11.0\u001b[0m and is expected                   \n",
       "                             to be removed after v0.\u001b[32m13.0\u001b[0m. Use plot                           \n",
       "                             instead.                                                        \n"
      ]
     },
     "metadata": {},
     "output_type": "display_data"
    },
    {
     "name": "stderr",
     "output_type": "stream",
     "text": [
      "Animation 1: _MethodAnimation(ValueTracker):  40%|####      | 90/225 [00:28<01:08,  1.96it/s]"
     ]
    },
    {
     "data": {
      "text/html": [
       "<pre style=\"white-space:pre;overflow-x:auto;line-height:normal;font-family:Menlo,'DejaVu Sans Mono',consolas,'Courier New',monospace\"><span style=\"color: #7fbfbf; text-decoration-color: #7fbfbf\">                    </span><span style=\"color: #800000; text-decoration-color: #800000\">WARNING </span> The method CoordinateSystem.get_graph has     <a href=\"file://C:\\Users\\thoma\\AppData\\Local\\Programs\\Python\\Python39\\lib\\site-packages\\manim\\utils\\deprecation.py\"><span style=\"color: #7f7f7f; text-decoration-color: #7f7f7f\">deprecation.py</span></a><span style=\"color: #7f7f7f; text-decoration-color: #7f7f7f\">:</span><a href=\"file://C:\\Users\\thoma\\AppData\\Local\\Programs\\Python\\Python39\\lib\\site-packages\\manim\\utils\\deprecation.py#210\"><span style=\"color: #7f7f7f; text-decoration-color: #7f7f7f\">210</span></a>\n",
       "                             been deprecated since v0.<span style=\"color: #008000; text-decoration-color: #008000\">11.0</span> and is expected                   \n",
       "                             to be removed after v0.<span style=\"color: #008000; text-decoration-color: #008000\">13.0</span>. Use plot                           \n",
       "                             instead.                                                        \n",
       "</pre>\n"
      ],
      "text/plain": [
       "\u001b[2;36m                   \u001b[0m\u001b[2;36m \u001b[0m\u001b[31mWARNING \u001b[0m The method CoordinateSystem.get_graph has     \u001b]8;id=906834;file://C:\\Users\\thoma\\AppData\\Local\\Programs\\Python\\Python39\\lib\\site-packages\\manim\\utils\\deprecation.py\u001b\\\u001b[2mdeprecation.py\u001b[0m\u001b]8;;\u001b\\\u001b[2m:\u001b[0m\u001b]8;id=217109;file://C:\\Users\\thoma\\AppData\\Local\\Programs\\Python\\Python39\\lib\\site-packages\\manim\\utils\\deprecation.py#210\u001b\\\u001b[2m210\u001b[0m\u001b]8;;\u001b\\\n",
       "                             been deprecated since v0.\u001b[32m11.0\u001b[0m and is expected                   \n",
       "                             to be removed after v0.\u001b[32m13.0\u001b[0m. Use plot                           \n",
       "                             instead.                                                        \n"
      ]
     },
     "metadata": {},
     "output_type": "display_data"
    },
    {
     "name": "stderr",
     "output_type": "stream",
     "text": [
      "Animation 1: _MethodAnimation(ValueTracker):  40%|####      | 91/225 [00:28<01:08,  1.97it/s]"
     ]
    },
    {
     "data": {
      "text/html": [
       "<pre style=\"white-space:pre;overflow-x:auto;line-height:normal;font-family:Menlo,'DejaVu Sans Mono',consolas,'Courier New',monospace\"><span style=\"color: #7fbfbf; text-decoration-color: #7fbfbf\">[01/31/22 20:55:37] </span><span style=\"color: #800000; text-decoration-color: #800000\">WARNING </span> The method CoordinateSystem.get_graph has     <a href=\"file://C:\\Users\\thoma\\AppData\\Local\\Programs\\Python\\Python39\\lib\\site-packages\\manim\\utils\\deprecation.py\"><span style=\"color: #7f7f7f; text-decoration-color: #7f7f7f\">deprecation.py</span></a><span style=\"color: #7f7f7f; text-decoration-color: #7f7f7f\">:</span><a href=\"file://C:\\Users\\thoma\\AppData\\Local\\Programs\\Python\\Python39\\lib\\site-packages\\manim\\utils\\deprecation.py#210\"><span style=\"color: #7f7f7f; text-decoration-color: #7f7f7f\">210</span></a>\n",
       "                             been deprecated since v0.<span style=\"color: #008000; text-decoration-color: #008000\">11.0</span> and is expected                   \n",
       "                             to be removed after v0.<span style=\"color: #008000; text-decoration-color: #008000\">13.0</span>. Use plot                           \n",
       "                             instead.                                                        \n",
       "</pre>\n"
      ],
      "text/plain": [
       "\u001b[2;36m[01/31/22 20:55:37]\u001b[0m\u001b[2;36m \u001b[0m\u001b[31mWARNING \u001b[0m The method CoordinateSystem.get_graph has     \u001b]8;id=961894;file://C:\\Users\\thoma\\AppData\\Local\\Programs\\Python\\Python39\\lib\\site-packages\\manim\\utils\\deprecation.py\u001b\\\u001b[2mdeprecation.py\u001b[0m\u001b]8;;\u001b\\\u001b[2m:\u001b[0m\u001b]8;id=351124;file://C:\\Users\\thoma\\AppData\\Local\\Programs\\Python\\Python39\\lib\\site-packages\\manim\\utils\\deprecation.py#210\u001b\\\u001b[2m210\u001b[0m\u001b]8;;\u001b\\\n",
       "                             been deprecated since v0.\u001b[32m11.0\u001b[0m and is expected                   \n",
       "                             to be removed after v0.\u001b[32m13.0\u001b[0m. Use plot                           \n",
       "                             instead.                                                        \n"
      ]
     },
     "metadata": {},
     "output_type": "display_data"
    },
    {
     "name": "stderr",
     "output_type": "stream",
     "text": [
      "Animation 1: _MethodAnimation(ValueTracker):  41%|####      | 92/225 [00:29<01:05,  2.04it/s]"
     ]
    },
    {
     "data": {
      "text/html": [
       "<pre style=\"white-space:pre;overflow-x:auto;line-height:normal;font-family:Menlo,'DejaVu Sans Mono',consolas,'Courier New',monospace\"><span style=\"color: #7fbfbf; text-decoration-color: #7fbfbf\">                    </span><span style=\"color: #800000; text-decoration-color: #800000\">WARNING </span> The method CoordinateSystem.get_graph has     <a href=\"file://C:\\Users\\thoma\\AppData\\Local\\Programs\\Python\\Python39\\lib\\site-packages\\manim\\utils\\deprecation.py\"><span style=\"color: #7f7f7f; text-decoration-color: #7f7f7f\">deprecation.py</span></a><span style=\"color: #7f7f7f; text-decoration-color: #7f7f7f\">:</span><a href=\"file://C:\\Users\\thoma\\AppData\\Local\\Programs\\Python\\Python39\\lib\\site-packages\\manim\\utils\\deprecation.py#210\"><span style=\"color: #7f7f7f; text-decoration-color: #7f7f7f\">210</span></a>\n",
       "                             been deprecated since v0.<span style=\"color: #008000; text-decoration-color: #008000\">11.0</span> and is expected                   \n",
       "                             to be removed after v0.<span style=\"color: #008000; text-decoration-color: #008000\">13.0</span>. Use plot                           \n",
       "                             instead.                                                        \n",
       "</pre>\n"
      ],
      "text/plain": [
       "\u001b[2;36m                   \u001b[0m\u001b[2;36m \u001b[0m\u001b[31mWARNING \u001b[0m The method CoordinateSystem.get_graph has     \u001b]8;id=739400;file://C:\\Users\\thoma\\AppData\\Local\\Programs\\Python\\Python39\\lib\\site-packages\\manim\\utils\\deprecation.py\u001b\\\u001b[2mdeprecation.py\u001b[0m\u001b]8;;\u001b\\\u001b[2m:\u001b[0m\u001b]8;id=831559;file://C:\\Users\\thoma\\AppData\\Local\\Programs\\Python\\Python39\\lib\\site-packages\\manim\\utils\\deprecation.py#210\u001b\\\u001b[2m210\u001b[0m\u001b]8;;\u001b\\\n",
       "                             been deprecated since v0.\u001b[32m11.0\u001b[0m and is expected                   \n",
       "                             to be removed after v0.\u001b[32m13.0\u001b[0m. Use plot                           \n",
       "                             instead.                                                        \n"
      ]
     },
     "metadata": {},
     "output_type": "display_data"
    },
    {
     "name": "stderr",
     "output_type": "stream",
     "text": [
      "Animation 1: _MethodAnimation(ValueTracker):  41%|####1     | 93/225 [00:29<01:05,  2.01it/s]"
     ]
    },
    {
     "data": {
      "text/html": [
       "<pre style=\"white-space:pre;overflow-x:auto;line-height:normal;font-family:Menlo,'DejaVu Sans Mono',consolas,'Courier New',monospace\"><span style=\"color: #7fbfbf; text-decoration-color: #7fbfbf\">[01/31/22 20:55:38] </span><span style=\"color: #800000; text-decoration-color: #800000\">WARNING </span> The method CoordinateSystem.get_graph has     <a href=\"file://C:\\Users\\thoma\\AppData\\Local\\Programs\\Python\\Python39\\lib\\site-packages\\manim\\utils\\deprecation.py\"><span style=\"color: #7f7f7f; text-decoration-color: #7f7f7f\">deprecation.py</span></a><span style=\"color: #7f7f7f; text-decoration-color: #7f7f7f\">:</span><a href=\"file://C:\\Users\\thoma\\AppData\\Local\\Programs\\Python\\Python39\\lib\\site-packages\\manim\\utils\\deprecation.py#210\"><span style=\"color: #7f7f7f; text-decoration-color: #7f7f7f\">210</span></a>\n",
       "                             been deprecated since v0.<span style=\"color: #008000; text-decoration-color: #008000\">11.0</span> and is expected                   \n",
       "                             to be removed after v0.<span style=\"color: #008000; text-decoration-color: #008000\">13.0</span>. Use plot                           \n",
       "                             instead.                                                        \n",
       "</pre>\n"
      ],
      "text/plain": [
       "\u001b[2;36m[01/31/22 20:55:38]\u001b[0m\u001b[2;36m \u001b[0m\u001b[31mWARNING \u001b[0m The method CoordinateSystem.get_graph has     \u001b]8;id=861982;file://C:\\Users\\thoma\\AppData\\Local\\Programs\\Python\\Python39\\lib\\site-packages\\manim\\utils\\deprecation.py\u001b\\\u001b[2mdeprecation.py\u001b[0m\u001b]8;;\u001b\\\u001b[2m:\u001b[0m\u001b]8;id=41119;file://C:\\Users\\thoma\\AppData\\Local\\Programs\\Python\\Python39\\lib\\site-packages\\manim\\utils\\deprecation.py#210\u001b\\\u001b[2m210\u001b[0m\u001b]8;;\u001b\\\n",
       "                             been deprecated since v0.\u001b[32m11.0\u001b[0m and is expected                   \n",
       "                             to be removed after v0.\u001b[32m13.0\u001b[0m. Use plot                           \n",
       "                             instead.                                                        \n"
      ]
     },
     "metadata": {},
     "output_type": "display_data"
    },
    {
     "name": "stderr",
     "output_type": "stream",
     "text": [
      "Animation 1: _MethodAnimation(ValueTracker):  42%|####1     | 94/225 [00:30<01:05,  1.98it/s]"
     ]
    },
    {
     "data": {
      "text/html": [
       "<pre style=\"white-space:pre;overflow-x:auto;line-height:normal;font-family:Menlo,'DejaVu Sans Mono',consolas,'Courier New',monospace\"><span style=\"color: #7fbfbf; text-decoration-color: #7fbfbf\">                    </span><span style=\"color: #800000; text-decoration-color: #800000\">WARNING </span> The method CoordinateSystem.get_graph has     <a href=\"file://C:\\Users\\thoma\\AppData\\Local\\Programs\\Python\\Python39\\lib\\site-packages\\manim\\utils\\deprecation.py\"><span style=\"color: #7f7f7f; text-decoration-color: #7f7f7f\">deprecation.py</span></a><span style=\"color: #7f7f7f; text-decoration-color: #7f7f7f\">:</span><a href=\"file://C:\\Users\\thoma\\AppData\\Local\\Programs\\Python\\Python39\\lib\\site-packages\\manim\\utils\\deprecation.py#210\"><span style=\"color: #7f7f7f; text-decoration-color: #7f7f7f\">210</span></a>\n",
       "                             been deprecated since v0.<span style=\"color: #008000; text-decoration-color: #008000\">11.0</span> and is expected                   \n",
       "                             to be removed after v0.<span style=\"color: #008000; text-decoration-color: #008000\">13.0</span>. Use plot                           \n",
       "                             instead.                                                        \n",
       "</pre>\n"
      ],
      "text/plain": [
       "\u001b[2;36m                   \u001b[0m\u001b[2;36m \u001b[0m\u001b[31mWARNING \u001b[0m The method CoordinateSystem.get_graph has     \u001b]8;id=902682;file://C:\\Users\\thoma\\AppData\\Local\\Programs\\Python\\Python39\\lib\\site-packages\\manim\\utils\\deprecation.py\u001b\\\u001b[2mdeprecation.py\u001b[0m\u001b]8;;\u001b\\\u001b[2m:\u001b[0m\u001b]8;id=827631;file://C:\\Users\\thoma\\AppData\\Local\\Programs\\Python\\Python39\\lib\\site-packages\\manim\\utils\\deprecation.py#210\u001b\\\u001b[2m210\u001b[0m\u001b]8;;\u001b\\\n",
       "                             been deprecated since v0.\u001b[32m11.0\u001b[0m and is expected                   \n",
       "                             to be removed after v0.\u001b[32m13.0\u001b[0m. Use plot                           \n",
       "                             instead.                                                        \n"
      ]
     },
     "metadata": {},
     "output_type": "display_data"
    },
    {
     "name": "stderr",
     "output_type": "stream",
     "text": [
      "Animation 1: _MethodAnimation(ValueTracker):  42%|####2     | 95/225 [00:30<01:04,  2.02it/s]"
     ]
    },
    {
     "data": {
      "text/html": [
       "<pre style=\"white-space:pre;overflow-x:auto;line-height:normal;font-family:Menlo,'DejaVu Sans Mono',consolas,'Courier New',monospace\"><span style=\"color: #7fbfbf; text-decoration-color: #7fbfbf\">[01/31/22 20:55:39] </span><span style=\"color: #800000; text-decoration-color: #800000\">WARNING </span> The method CoordinateSystem.get_graph has     <a href=\"file://C:\\Users\\thoma\\AppData\\Local\\Programs\\Python\\Python39\\lib\\site-packages\\manim\\utils\\deprecation.py\"><span style=\"color: #7f7f7f; text-decoration-color: #7f7f7f\">deprecation.py</span></a><span style=\"color: #7f7f7f; text-decoration-color: #7f7f7f\">:</span><a href=\"file://C:\\Users\\thoma\\AppData\\Local\\Programs\\Python\\Python39\\lib\\site-packages\\manim\\utils\\deprecation.py#210\"><span style=\"color: #7f7f7f; text-decoration-color: #7f7f7f\">210</span></a>\n",
       "                             been deprecated since v0.<span style=\"color: #008000; text-decoration-color: #008000\">11.0</span> and is expected                   \n",
       "                             to be removed after v0.<span style=\"color: #008000; text-decoration-color: #008000\">13.0</span>. Use plot                           \n",
       "                             instead.                                                        \n",
       "</pre>\n"
      ],
      "text/plain": [
       "\u001b[2;36m[01/31/22 20:55:39]\u001b[0m\u001b[2;36m \u001b[0m\u001b[31mWARNING \u001b[0m The method CoordinateSystem.get_graph has     \u001b]8;id=76351;file://C:\\Users\\thoma\\AppData\\Local\\Programs\\Python\\Python39\\lib\\site-packages\\manim\\utils\\deprecation.py\u001b\\\u001b[2mdeprecation.py\u001b[0m\u001b]8;;\u001b\\\u001b[2m:\u001b[0m\u001b]8;id=597991;file://C:\\Users\\thoma\\AppData\\Local\\Programs\\Python\\Python39\\lib\\site-packages\\manim\\utils\\deprecation.py#210\u001b\\\u001b[2m210\u001b[0m\u001b]8;;\u001b\\\n",
       "                             been deprecated since v0.\u001b[32m11.0\u001b[0m and is expected                   \n",
       "                             to be removed after v0.\u001b[32m13.0\u001b[0m. Use plot                           \n",
       "                             instead.                                                        \n"
      ]
     },
     "metadata": {},
     "output_type": "display_data"
    },
    {
     "name": "stderr",
     "output_type": "stream",
     "text": [
      "Animation 1: _MethodAnimation(ValueTracker):  43%|####2     | 96/225 [00:31<01:02,  2.06it/s]"
     ]
    },
    {
     "data": {
      "text/html": [
       "<pre style=\"white-space:pre;overflow-x:auto;line-height:normal;font-family:Menlo,'DejaVu Sans Mono',consolas,'Courier New',monospace\"><span style=\"color: #7fbfbf; text-decoration-color: #7fbfbf\">                    </span><span style=\"color: #800000; text-decoration-color: #800000\">WARNING </span> The method CoordinateSystem.get_graph has     <a href=\"file://C:\\Users\\thoma\\AppData\\Local\\Programs\\Python\\Python39\\lib\\site-packages\\manim\\utils\\deprecation.py\"><span style=\"color: #7f7f7f; text-decoration-color: #7f7f7f\">deprecation.py</span></a><span style=\"color: #7f7f7f; text-decoration-color: #7f7f7f\">:</span><a href=\"file://C:\\Users\\thoma\\AppData\\Local\\Programs\\Python\\Python39\\lib\\site-packages\\manim\\utils\\deprecation.py#210\"><span style=\"color: #7f7f7f; text-decoration-color: #7f7f7f\">210</span></a>\n",
       "                             been deprecated since v0.<span style=\"color: #008000; text-decoration-color: #008000\">11.0</span> and is expected                   \n",
       "                             to be removed after v0.<span style=\"color: #008000; text-decoration-color: #008000\">13.0</span>. Use plot                           \n",
       "                             instead.                                                        \n",
       "</pre>\n"
      ],
      "text/plain": [
       "\u001b[2;36m                   \u001b[0m\u001b[2;36m \u001b[0m\u001b[31mWARNING \u001b[0m The method CoordinateSystem.get_graph has     \u001b]8;id=586471;file://C:\\Users\\thoma\\AppData\\Local\\Programs\\Python\\Python39\\lib\\site-packages\\manim\\utils\\deprecation.py\u001b\\\u001b[2mdeprecation.py\u001b[0m\u001b]8;;\u001b\\\u001b[2m:\u001b[0m\u001b]8;id=625930;file://C:\\Users\\thoma\\AppData\\Local\\Programs\\Python\\Python39\\lib\\site-packages\\manim\\utils\\deprecation.py#210\u001b\\\u001b[2m210\u001b[0m\u001b]8;;\u001b\\\n",
       "                             been deprecated since v0.\u001b[32m11.0\u001b[0m and is expected                   \n",
       "                             to be removed after v0.\u001b[32m13.0\u001b[0m. Use plot                           \n",
       "                             instead.                                                        \n"
      ]
     },
     "metadata": {},
     "output_type": "display_data"
    },
    {
     "name": "stderr",
     "output_type": "stream",
     "text": [
      "Animation 1: _MethodAnimation(ValueTracker):  43%|####3     | 97/225 [00:31<01:02,  2.05it/s]"
     ]
    },
    {
     "data": {
      "text/html": [
       "<pre style=\"white-space:pre;overflow-x:auto;line-height:normal;font-family:Menlo,'DejaVu Sans Mono',consolas,'Courier New',monospace\"><span style=\"color: #7fbfbf; text-decoration-color: #7fbfbf\">[01/31/22 20:55:40] </span><span style=\"color: #800000; text-decoration-color: #800000\">WARNING </span> The method CoordinateSystem.get_graph has     <a href=\"file://C:\\Users\\thoma\\AppData\\Local\\Programs\\Python\\Python39\\lib\\site-packages\\manim\\utils\\deprecation.py\"><span style=\"color: #7f7f7f; text-decoration-color: #7f7f7f\">deprecation.py</span></a><span style=\"color: #7f7f7f; text-decoration-color: #7f7f7f\">:</span><a href=\"file://C:\\Users\\thoma\\AppData\\Local\\Programs\\Python\\Python39\\lib\\site-packages\\manim\\utils\\deprecation.py#210\"><span style=\"color: #7f7f7f; text-decoration-color: #7f7f7f\">210</span></a>\n",
       "                             been deprecated since v0.<span style=\"color: #008000; text-decoration-color: #008000\">11.0</span> and is expected                   \n",
       "                             to be removed after v0.<span style=\"color: #008000; text-decoration-color: #008000\">13.0</span>. Use plot                           \n",
       "                             instead.                                                        \n",
       "</pre>\n"
      ],
      "text/plain": [
       "\u001b[2;36m[01/31/22 20:55:40]\u001b[0m\u001b[2;36m \u001b[0m\u001b[31mWARNING \u001b[0m The method CoordinateSystem.get_graph has     \u001b]8;id=187308;file://C:\\Users\\thoma\\AppData\\Local\\Programs\\Python\\Python39\\lib\\site-packages\\manim\\utils\\deprecation.py\u001b\\\u001b[2mdeprecation.py\u001b[0m\u001b]8;;\u001b\\\u001b[2m:\u001b[0m\u001b]8;id=557491;file://C:\\Users\\thoma\\AppData\\Local\\Programs\\Python\\Python39\\lib\\site-packages\\manim\\utils\\deprecation.py#210\u001b\\\u001b[2m210\u001b[0m\u001b]8;;\u001b\\\n",
       "                             been deprecated since v0.\u001b[32m11.0\u001b[0m and is expected                   \n",
       "                             to be removed after v0.\u001b[32m13.0\u001b[0m. Use plot                           \n",
       "                             instead.                                                        \n"
      ]
     },
     "metadata": {},
     "output_type": "display_data"
    },
    {
     "name": "stderr",
     "output_type": "stream",
     "text": [
      "Animation 1: _MethodAnimation(ValueTracker):  44%|####3     | 98/225 [00:32<01:05,  1.94it/s]"
     ]
    },
    {
     "data": {
      "text/html": [
       "<pre style=\"white-space:pre;overflow-x:auto;line-height:normal;font-family:Menlo,'DejaVu Sans Mono',consolas,'Courier New',monospace\"><span style=\"color: #7fbfbf; text-decoration-color: #7fbfbf\">                    </span><span style=\"color: #800000; text-decoration-color: #800000\">WARNING </span> The method CoordinateSystem.get_graph has     <a href=\"file://C:\\Users\\thoma\\AppData\\Local\\Programs\\Python\\Python39\\lib\\site-packages\\manim\\utils\\deprecation.py\"><span style=\"color: #7f7f7f; text-decoration-color: #7f7f7f\">deprecation.py</span></a><span style=\"color: #7f7f7f; text-decoration-color: #7f7f7f\">:</span><a href=\"file://C:\\Users\\thoma\\AppData\\Local\\Programs\\Python\\Python39\\lib\\site-packages\\manim\\utils\\deprecation.py#210\"><span style=\"color: #7f7f7f; text-decoration-color: #7f7f7f\">210</span></a>\n",
       "                             been deprecated since v0.<span style=\"color: #008000; text-decoration-color: #008000\">11.0</span> and is expected                   \n",
       "                             to be removed after v0.<span style=\"color: #008000; text-decoration-color: #008000\">13.0</span>. Use plot                           \n",
       "                             instead.                                                        \n",
       "</pre>\n"
      ],
      "text/plain": [
       "\u001b[2;36m                   \u001b[0m\u001b[2;36m \u001b[0m\u001b[31mWARNING \u001b[0m The method CoordinateSystem.get_graph has     \u001b]8;id=534666;file://C:\\Users\\thoma\\AppData\\Local\\Programs\\Python\\Python39\\lib\\site-packages\\manim\\utils\\deprecation.py\u001b\\\u001b[2mdeprecation.py\u001b[0m\u001b]8;;\u001b\\\u001b[2m:\u001b[0m\u001b]8;id=43722;file://C:\\Users\\thoma\\AppData\\Local\\Programs\\Python\\Python39\\lib\\site-packages\\manim\\utils\\deprecation.py#210\u001b\\\u001b[2m210\u001b[0m\u001b]8;;\u001b\\\n",
       "                             been deprecated since v0.\u001b[32m11.0\u001b[0m and is expected                   \n",
       "                             to be removed after v0.\u001b[32m13.0\u001b[0m. Use plot                           \n",
       "                             instead.                                                        \n"
      ]
     },
     "metadata": {},
     "output_type": "display_data"
    },
    {
     "name": "stderr",
     "output_type": "stream",
     "text": [
      "Animation 1: _MethodAnimation(ValueTracker):  44%|####4     | 99/225 [00:33<01:10,  1.78it/s]"
     ]
    },
    {
     "data": {
      "text/html": [
       "<pre style=\"white-space:pre;overflow-x:auto;line-height:normal;font-family:Menlo,'DejaVu Sans Mono',consolas,'Courier New',monospace\"><span style=\"color: #7fbfbf; text-decoration-color: #7fbfbf\">[01/31/22 20:55:41] </span><span style=\"color: #800000; text-decoration-color: #800000\">WARNING </span> The method CoordinateSystem.get_graph has     <a href=\"file://C:\\Users\\thoma\\AppData\\Local\\Programs\\Python\\Python39\\lib\\site-packages\\manim\\utils\\deprecation.py\"><span style=\"color: #7f7f7f; text-decoration-color: #7f7f7f\">deprecation.py</span></a><span style=\"color: #7f7f7f; text-decoration-color: #7f7f7f\">:</span><a href=\"file://C:\\Users\\thoma\\AppData\\Local\\Programs\\Python\\Python39\\lib\\site-packages\\manim\\utils\\deprecation.py#210\"><span style=\"color: #7f7f7f; text-decoration-color: #7f7f7f\">210</span></a>\n",
       "                             been deprecated since v0.<span style=\"color: #008000; text-decoration-color: #008000\">11.0</span> and is expected                   \n",
       "                             to be removed after v0.<span style=\"color: #008000; text-decoration-color: #008000\">13.0</span>. Use plot                           \n",
       "                             instead.                                                        \n",
       "</pre>\n"
      ],
      "text/plain": [
       "\u001b[2;36m[01/31/22 20:55:41]\u001b[0m\u001b[2;36m \u001b[0m\u001b[31mWARNING \u001b[0m The method CoordinateSystem.get_graph has     \u001b]8;id=959862;file://C:\\Users\\thoma\\AppData\\Local\\Programs\\Python\\Python39\\lib\\site-packages\\manim\\utils\\deprecation.py\u001b\\\u001b[2mdeprecation.py\u001b[0m\u001b]8;;\u001b\\\u001b[2m:\u001b[0m\u001b]8;id=600943;file://C:\\Users\\thoma\\AppData\\Local\\Programs\\Python\\Python39\\lib\\site-packages\\manim\\utils\\deprecation.py#210\u001b\\\u001b[2m210\u001b[0m\u001b]8;;\u001b\\\n",
       "                             been deprecated since v0.\u001b[32m11.0\u001b[0m and is expected                   \n",
       "                             to be removed after v0.\u001b[32m13.0\u001b[0m. Use plot                           \n",
       "                             instead.                                                        \n"
      ]
     },
     "metadata": {},
     "output_type": "display_data"
    },
    {
     "name": "stderr",
     "output_type": "stream",
     "text": [
      "Animation 1: _MethodAnimation(ValueTracker):  44%|####4     | 100/225 [00:33<01:07,  1.86it/s]"
     ]
    },
    {
     "data": {
      "text/html": [
       "<pre style=\"white-space:pre;overflow-x:auto;line-height:normal;font-family:Menlo,'DejaVu Sans Mono',consolas,'Courier New',monospace\"><span style=\"color: #7fbfbf; text-decoration-color: #7fbfbf\">                    </span><span style=\"color: #800000; text-decoration-color: #800000\">WARNING </span> The method CoordinateSystem.get_graph has     <a href=\"file://C:\\Users\\thoma\\AppData\\Local\\Programs\\Python\\Python39\\lib\\site-packages\\manim\\utils\\deprecation.py\"><span style=\"color: #7f7f7f; text-decoration-color: #7f7f7f\">deprecation.py</span></a><span style=\"color: #7f7f7f; text-decoration-color: #7f7f7f\">:</span><a href=\"file://C:\\Users\\thoma\\AppData\\Local\\Programs\\Python\\Python39\\lib\\site-packages\\manim\\utils\\deprecation.py#210\"><span style=\"color: #7f7f7f; text-decoration-color: #7f7f7f\">210</span></a>\n",
       "                             been deprecated since v0.<span style=\"color: #008000; text-decoration-color: #008000\">11.0</span> and is expected                   \n",
       "                             to be removed after v0.<span style=\"color: #008000; text-decoration-color: #008000\">13.0</span>. Use plot                           \n",
       "                             instead.                                                        \n",
       "</pre>\n"
      ],
      "text/plain": [
       "\u001b[2;36m                   \u001b[0m\u001b[2;36m \u001b[0m\u001b[31mWARNING \u001b[0m The method CoordinateSystem.get_graph has     \u001b]8;id=39447;file://C:\\Users\\thoma\\AppData\\Local\\Programs\\Python\\Python39\\lib\\site-packages\\manim\\utils\\deprecation.py\u001b\\\u001b[2mdeprecation.py\u001b[0m\u001b]8;;\u001b\\\u001b[2m:\u001b[0m\u001b]8;id=22913;file://C:\\Users\\thoma\\AppData\\Local\\Programs\\Python\\Python39\\lib\\site-packages\\manim\\utils\\deprecation.py#210\u001b\\\u001b[2m210\u001b[0m\u001b]8;;\u001b\\\n",
       "                             been deprecated since v0.\u001b[32m11.0\u001b[0m and is expected                   \n",
       "                             to be removed after v0.\u001b[32m13.0\u001b[0m. Use plot                           \n",
       "                             instead.                                                        \n"
      ]
     },
     "metadata": {},
     "output_type": "display_data"
    },
    {
     "name": "stderr",
     "output_type": "stream",
     "text": [
      "Animation 1: _MethodAnimation(ValueTracker):  45%|####4     | 101/225 [00:34<01:03,  1.95it/s]"
     ]
    },
    {
     "data": {
      "text/html": [
       "<pre style=\"white-space:pre;overflow-x:auto;line-height:normal;font-family:Menlo,'DejaVu Sans Mono',consolas,'Courier New',monospace\"><span style=\"color: #7fbfbf; text-decoration-color: #7fbfbf\">[01/31/22 20:55:42] </span><span style=\"color: #800000; text-decoration-color: #800000\">WARNING </span> The method CoordinateSystem.get_graph has     <a href=\"file://C:\\Users\\thoma\\AppData\\Local\\Programs\\Python\\Python39\\lib\\site-packages\\manim\\utils\\deprecation.py\"><span style=\"color: #7f7f7f; text-decoration-color: #7f7f7f\">deprecation.py</span></a><span style=\"color: #7f7f7f; text-decoration-color: #7f7f7f\">:</span><a href=\"file://C:\\Users\\thoma\\AppData\\Local\\Programs\\Python\\Python39\\lib\\site-packages\\manim\\utils\\deprecation.py#210\"><span style=\"color: #7f7f7f; text-decoration-color: #7f7f7f\">210</span></a>\n",
       "                             been deprecated since v0.<span style=\"color: #008000; text-decoration-color: #008000\">11.0</span> and is expected                   \n",
       "                             to be removed after v0.<span style=\"color: #008000; text-decoration-color: #008000\">13.0</span>. Use plot                           \n",
       "                             instead.                                                        \n",
       "</pre>\n"
      ],
      "text/plain": [
       "\u001b[2;36m[01/31/22 20:55:42]\u001b[0m\u001b[2;36m \u001b[0m\u001b[31mWARNING \u001b[0m The method CoordinateSystem.get_graph has     \u001b]8;id=884609;file://C:\\Users\\thoma\\AppData\\Local\\Programs\\Python\\Python39\\lib\\site-packages\\manim\\utils\\deprecation.py\u001b\\\u001b[2mdeprecation.py\u001b[0m\u001b]8;;\u001b\\\u001b[2m:\u001b[0m\u001b]8;id=201500;file://C:\\Users\\thoma\\AppData\\Local\\Programs\\Python\\Python39\\lib\\site-packages\\manim\\utils\\deprecation.py#210\u001b\\\u001b[2m210\u001b[0m\u001b]8;;\u001b\\\n",
       "                             been deprecated since v0.\u001b[32m11.0\u001b[0m and is expected                   \n",
       "                             to be removed after v0.\u001b[32m13.0\u001b[0m. Use plot                           \n",
       "                             instead.                                                        \n"
      ]
     },
     "metadata": {},
     "output_type": "display_data"
    },
    {
     "name": "stderr",
     "output_type": "stream",
     "text": [
      "Animation 1: _MethodAnimation(ValueTracker):  45%|####5     | 102/225 [00:34<01:00,  2.02it/s]"
     ]
    },
    {
     "data": {
      "text/html": [
       "<pre style=\"white-space:pre;overflow-x:auto;line-height:normal;font-family:Menlo,'DejaVu Sans Mono',consolas,'Courier New',monospace\"><span style=\"color: #7fbfbf; text-decoration-color: #7fbfbf\">                    </span><span style=\"color: #800000; text-decoration-color: #800000\">WARNING </span> The method CoordinateSystem.get_graph has     <a href=\"file://C:\\Users\\thoma\\AppData\\Local\\Programs\\Python\\Python39\\lib\\site-packages\\manim\\utils\\deprecation.py\"><span style=\"color: #7f7f7f; text-decoration-color: #7f7f7f\">deprecation.py</span></a><span style=\"color: #7f7f7f; text-decoration-color: #7f7f7f\">:</span><a href=\"file://C:\\Users\\thoma\\AppData\\Local\\Programs\\Python\\Python39\\lib\\site-packages\\manim\\utils\\deprecation.py#210\"><span style=\"color: #7f7f7f; text-decoration-color: #7f7f7f\">210</span></a>\n",
       "                             been deprecated since v0.<span style=\"color: #008000; text-decoration-color: #008000\">11.0</span> and is expected                   \n",
       "                             to be removed after v0.<span style=\"color: #008000; text-decoration-color: #008000\">13.0</span>. Use plot                           \n",
       "                             instead.                                                        \n",
       "</pre>\n"
      ],
      "text/plain": [
       "\u001b[2;36m                   \u001b[0m\u001b[2;36m \u001b[0m\u001b[31mWARNING \u001b[0m The method CoordinateSystem.get_graph has     \u001b]8;id=467466;file://C:\\Users\\thoma\\AppData\\Local\\Programs\\Python\\Python39\\lib\\site-packages\\manim\\utils\\deprecation.py\u001b\\\u001b[2mdeprecation.py\u001b[0m\u001b]8;;\u001b\\\u001b[2m:\u001b[0m\u001b]8;id=165150;file://C:\\Users\\thoma\\AppData\\Local\\Programs\\Python\\Python39\\lib\\site-packages\\manim\\utils\\deprecation.py#210\u001b\\\u001b[2m210\u001b[0m\u001b]8;;\u001b\\\n",
       "                             been deprecated since v0.\u001b[32m11.0\u001b[0m and is expected                   \n",
       "                             to be removed after v0.\u001b[32m13.0\u001b[0m. Use plot                           \n",
       "                             instead.                                                        \n"
      ]
     },
     "metadata": {},
     "output_type": "display_data"
    },
    {
     "name": "stderr",
     "output_type": "stream",
     "text": [
      "Animation 1: _MethodAnimation(ValueTracker):  46%|####5     | 103/225 [00:34<01:00,  2.03it/s]"
     ]
    },
    {
     "data": {
      "text/html": [
       "<pre style=\"white-space:pre;overflow-x:auto;line-height:normal;font-family:Menlo,'DejaVu Sans Mono',consolas,'Courier New',monospace\"><span style=\"color: #7fbfbf; text-decoration-color: #7fbfbf\">[01/31/22 20:55:43] </span><span style=\"color: #800000; text-decoration-color: #800000\">WARNING </span> The method CoordinateSystem.get_graph has     <a href=\"file://C:\\Users\\thoma\\AppData\\Local\\Programs\\Python\\Python39\\lib\\site-packages\\manim\\utils\\deprecation.py\"><span style=\"color: #7f7f7f; text-decoration-color: #7f7f7f\">deprecation.py</span></a><span style=\"color: #7f7f7f; text-decoration-color: #7f7f7f\">:</span><a href=\"file://C:\\Users\\thoma\\AppData\\Local\\Programs\\Python\\Python39\\lib\\site-packages\\manim\\utils\\deprecation.py#210\"><span style=\"color: #7f7f7f; text-decoration-color: #7f7f7f\">210</span></a>\n",
       "                             been deprecated since v0.<span style=\"color: #008000; text-decoration-color: #008000\">11.0</span> and is expected                   \n",
       "                             to be removed after v0.<span style=\"color: #008000; text-decoration-color: #008000\">13.0</span>. Use plot                           \n",
       "                             instead.                                                        \n",
       "</pre>\n"
      ],
      "text/plain": [
       "\u001b[2;36m[01/31/22 20:55:43]\u001b[0m\u001b[2;36m \u001b[0m\u001b[31mWARNING \u001b[0m The method CoordinateSystem.get_graph has     \u001b]8;id=4312;file://C:\\Users\\thoma\\AppData\\Local\\Programs\\Python\\Python39\\lib\\site-packages\\manim\\utils\\deprecation.py\u001b\\\u001b[2mdeprecation.py\u001b[0m\u001b]8;;\u001b\\\u001b[2m:\u001b[0m\u001b]8;id=349498;file://C:\\Users\\thoma\\AppData\\Local\\Programs\\Python\\Python39\\lib\\site-packages\\manim\\utils\\deprecation.py#210\u001b\\\u001b[2m210\u001b[0m\u001b]8;;\u001b\\\n",
       "                             been deprecated since v0.\u001b[32m11.0\u001b[0m and is expected                   \n",
       "                             to be removed after v0.\u001b[32m13.0\u001b[0m. Use plot                           \n",
       "                             instead.                                                        \n"
      ]
     },
     "metadata": {},
     "output_type": "display_data"
    },
    {
     "name": "stderr",
     "output_type": "stream",
     "text": [
      "Animation 1: _MethodAnimation(ValueTracker):  46%|####6     | 104/225 [00:35<00:59,  2.04it/s]"
     ]
    },
    {
     "data": {
      "text/html": [
       "<pre style=\"white-space:pre;overflow-x:auto;line-height:normal;font-family:Menlo,'DejaVu Sans Mono',consolas,'Courier New',monospace\"><span style=\"color: #7fbfbf; text-decoration-color: #7fbfbf\">                    </span><span style=\"color: #800000; text-decoration-color: #800000\">WARNING </span> The method CoordinateSystem.get_graph has     <a href=\"file://C:\\Users\\thoma\\AppData\\Local\\Programs\\Python\\Python39\\lib\\site-packages\\manim\\utils\\deprecation.py\"><span style=\"color: #7f7f7f; text-decoration-color: #7f7f7f\">deprecation.py</span></a><span style=\"color: #7f7f7f; text-decoration-color: #7f7f7f\">:</span><a href=\"file://C:\\Users\\thoma\\AppData\\Local\\Programs\\Python\\Python39\\lib\\site-packages\\manim\\utils\\deprecation.py#210\"><span style=\"color: #7f7f7f; text-decoration-color: #7f7f7f\">210</span></a>\n",
       "                             been deprecated since v0.<span style=\"color: #008000; text-decoration-color: #008000\">11.0</span> and is expected                   \n",
       "                             to be removed after v0.<span style=\"color: #008000; text-decoration-color: #008000\">13.0</span>. Use plot                           \n",
       "                             instead.                                                        \n",
       "</pre>\n"
      ],
      "text/plain": [
       "\u001b[2;36m                   \u001b[0m\u001b[2;36m \u001b[0m\u001b[31mWARNING \u001b[0m The method CoordinateSystem.get_graph has     \u001b]8;id=922537;file://C:\\Users\\thoma\\AppData\\Local\\Programs\\Python\\Python39\\lib\\site-packages\\manim\\utils\\deprecation.py\u001b\\\u001b[2mdeprecation.py\u001b[0m\u001b]8;;\u001b\\\u001b[2m:\u001b[0m\u001b]8;id=245545;file://C:\\Users\\thoma\\AppData\\Local\\Programs\\Python\\Python39\\lib\\site-packages\\manim\\utils\\deprecation.py#210\u001b\\\u001b[2m210\u001b[0m\u001b]8;;\u001b\\\n",
       "                             been deprecated since v0.\u001b[32m11.0\u001b[0m and is expected                   \n",
       "                             to be removed after v0.\u001b[32m13.0\u001b[0m. Use plot                           \n",
       "                             instead.                                                        \n"
      ]
     },
     "metadata": {},
     "output_type": "display_data"
    },
    {
     "name": "stderr",
     "output_type": "stream",
     "text": [
      "Animation 1: _MethodAnimation(ValueTracker):  47%|####6     | 105/225 [00:35<00:58,  2.06it/s]"
     ]
    },
    {
     "data": {
      "text/html": [
       "<pre style=\"white-space:pre;overflow-x:auto;line-height:normal;font-family:Menlo,'DejaVu Sans Mono',consolas,'Courier New',monospace\"><span style=\"color: #7fbfbf; text-decoration-color: #7fbfbf\">[01/31/22 20:55:44] </span><span style=\"color: #800000; text-decoration-color: #800000\">WARNING </span> The method CoordinateSystem.get_graph has     <a href=\"file://C:\\Users\\thoma\\AppData\\Local\\Programs\\Python\\Python39\\lib\\site-packages\\manim\\utils\\deprecation.py\"><span style=\"color: #7f7f7f; text-decoration-color: #7f7f7f\">deprecation.py</span></a><span style=\"color: #7f7f7f; text-decoration-color: #7f7f7f\">:</span><a href=\"file://C:\\Users\\thoma\\AppData\\Local\\Programs\\Python\\Python39\\lib\\site-packages\\manim\\utils\\deprecation.py#210\"><span style=\"color: #7f7f7f; text-decoration-color: #7f7f7f\">210</span></a>\n",
       "                             been deprecated since v0.<span style=\"color: #008000; text-decoration-color: #008000\">11.0</span> and is expected                   \n",
       "                             to be removed after v0.<span style=\"color: #008000; text-decoration-color: #008000\">13.0</span>. Use plot                           \n",
       "                             instead.                                                        \n",
       "</pre>\n"
      ],
      "text/plain": [
       "\u001b[2;36m[01/31/22 20:55:44]\u001b[0m\u001b[2;36m \u001b[0m\u001b[31mWARNING \u001b[0m The method CoordinateSystem.get_graph has     \u001b]8;id=910369;file://C:\\Users\\thoma\\AppData\\Local\\Programs\\Python\\Python39\\lib\\site-packages\\manim\\utils\\deprecation.py\u001b\\\u001b[2mdeprecation.py\u001b[0m\u001b]8;;\u001b\\\u001b[2m:\u001b[0m\u001b]8;id=269719;file://C:\\Users\\thoma\\AppData\\Local\\Programs\\Python\\Python39\\lib\\site-packages\\manim\\utils\\deprecation.py#210\u001b\\\u001b[2m210\u001b[0m\u001b]8;;\u001b\\\n",
       "                             been deprecated since v0.\u001b[32m11.0\u001b[0m and is expected                   \n",
       "                             to be removed after v0.\u001b[32m13.0\u001b[0m. Use plot                           \n",
       "                             instead.                                                        \n"
      ]
     },
     "metadata": {},
     "output_type": "display_data"
    },
    {
     "name": "stderr",
     "output_type": "stream",
     "text": [
      "Animation 1: _MethodAnimation(ValueTracker):  47%|####7     | 106/225 [00:36<00:56,  2.11it/s]"
     ]
    },
    {
     "data": {
      "text/html": [
       "<pre style=\"white-space:pre;overflow-x:auto;line-height:normal;font-family:Menlo,'DejaVu Sans Mono',consolas,'Courier New',monospace\"><span style=\"color: #7fbfbf; text-decoration-color: #7fbfbf\">                    </span><span style=\"color: #800000; text-decoration-color: #800000\">WARNING </span> The method CoordinateSystem.get_graph has     <a href=\"file://C:\\Users\\thoma\\AppData\\Local\\Programs\\Python\\Python39\\lib\\site-packages\\manim\\utils\\deprecation.py\"><span style=\"color: #7f7f7f; text-decoration-color: #7f7f7f\">deprecation.py</span></a><span style=\"color: #7f7f7f; text-decoration-color: #7f7f7f\">:</span><a href=\"file://C:\\Users\\thoma\\AppData\\Local\\Programs\\Python\\Python39\\lib\\site-packages\\manim\\utils\\deprecation.py#210\"><span style=\"color: #7f7f7f; text-decoration-color: #7f7f7f\">210</span></a>\n",
       "                             been deprecated since v0.<span style=\"color: #008000; text-decoration-color: #008000\">11.0</span> and is expected                   \n",
       "                             to be removed after v0.<span style=\"color: #008000; text-decoration-color: #008000\">13.0</span>. Use plot                           \n",
       "                             instead.                                                        \n",
       "</pre>\n"
      ],
      "text/plain": [
       "\u001b[2;36m                   \u001b[0m\u001b[2;36m \u001b[0m\u001b[31mWARNING \u001b[0m The method CoordinateSystem.get_graph has     \u001b]8;id=699120;file://C:\\Users\\thoma\\AppData\\Local\\Programs\\Python\\Python39\\lib\\site-packages\\manim\\utils\\deprecation.py\u001b\\\u001b[2mdeprecation.py\u001b[0m\u001b]8;;\u001b\\\u001b[2m:\u001b[0m\u001b]8;id=533332;file://C:\\Users\\thoma\\AppData\\Local\\Programs\\Python\\Python39\\lib\\site-packages\\manim\\utils\\deprecation.py#210\u001b\\\u001b[2m210\u001b[0m\u001b]8;;\u001b\\\n",
       "                             been deprecated since v0.\u001b[32m11.0\u001b[0m and is expected                   \n",
       "                             to be removed after v0.\u001b[32m13.0\u001b[0m. Use plot                           \n",
       "                             instead.                                                        \n"
      ]
     },
     "metadata": {},
     "output_type": "display_data"
    },
    {
     "name": "stderr",
     "output_type": "stream",
     "text": [
      "Animation 1: _MethodAnimation(ValueTracker):  48%|####7     | 107/225 [00:36<00:57,  2.07it/s]"
     ]
    },
    {
     "data": {
      "text/html": [
       "<pre style=\"white-space:pre;overflow-x:auto;line-height:normal;font-family:Menlo,'DejaVu Sans Mono',consolas,'Courier New',monospace\"><span style=\"color: #7fbfbf; text-decoration-color: #7fbfbf\">[01/31/22 20:55:45] </span><span style=\"color: #800000; text-decoration-color: #800000\">WARNING </span> The method CoordinateSystem.get_graph has     <a href=\"file://C:\\Users\\thoma\\AppData\\Local\\Programs\\Python\\Python39\\lib\\site-packages\\manim\\utils\\deprecation.py\"><span style=\"color: #7f7f7f; text-decoration-color: #7f7f7f\">deprecation.py</span></a><span style=\"color: #7f7f7f; text-decoration-color: #7f7f7f\">:</span><a href=\"file://C:\\Users\\thoma\\AppData\\Local\\Programs\\Python\\Python39\\lib\\site-packages\\manim\\utils\\deprecation.py#210\"><span style=\"color: #7f7f7f; text-decoration-color: #7f7f7f\">210</span></a>\n",
       "                             been deprecated since v0.<span style=\"color: #008000; text-decoration-color: #008000\">11.0</span> and is expected                   \n",
       "                             to be removed after v0.<span style=\"color: #008000; text-decoration-color: #008000\">13.0</span>. Use plot                           \n",
       "                             instead.                                                        \n",
       "</pre>\n"
      ],
      "text/plain": [
       "\u001b[2;36m[01/31/22 20:55:45]\u001b[0m\u001b[2;36m \u001b[0m\u001b[31mWARNING \u001b[0m The method CoordinateSystem.get_graph has     \u001b]8;id=794147;file://C:\\Users\\thoma\\AppData\\Local\\Programs\\Python\\Python39\\lib\\site-packages\\manim\\utils\\deprecation.py\u001b\\\u001b[2mdeprecation.py\u001b[0m\u001b]8;;\u001b\\\u001b[2m:\u001b[0m\u001b]8;id=809163;file://C:\\Users\\thoma\\AppData\\Local\\Programs\\Python\\Python39\\lib\\site-packages\\manim\\utils\\deprecation.py#210\u001b\\\u001b[2m210\u001b[0m\u001b]8;;\u001b\\\n",
       "                             been deprecated since v0.\u001b[32m11.0\u001b[0m and is expected                   \n",
       "                             to be removed after v0.\u001b[32m13.0\u001b[0m. Use plot                           \n",
       "                             instead.                                                        \n"
      ]
     },
     "metadata": {},
     "output_type": "display_data"
    },
    {
     "name": "stderr",
     "output_type": "stream",
     "text": [
      "Animation 1: _MethodAnimation(ValueTracker):  48%|####8     | 108/225 [00:37<00:58,  1.99it/s]"
     ]
    },
    {
     "data": {
      "text/html": [
       "<pre style=\"white-space:pre;overflow-x:auto;line-height:normal;font-family:Menlo,'DejaVu Sans Mono',consolas,'Courier New',monospace\"><span style=\"color: #7fbfbf; text-decoration-color: #7fbfbf\">                    </span><span style=\"color: #800000; text-decoration-color: #800000\">WARNING </span> The method CoordinateSystem.get_graph has     <a href=\"file://C:\\Users\\thoma\\AppData\\Local\\Programs\\Python\\Python39\\lib\\site-packages\\manim\\utils\\deprecation.py\"><span style=\"color: #7f7f7f; text-decoration-color: #7f7f7f\">deprecation.py</span></a><span style=\"color: #7f7f7f; text-decoration-color: #7f7f7f\">:</span><a href=\"file://C:\\Users\\thoma\\AppData\\Local\\Programs\\Python\\Python39\\lib\\site-packages\\manim\\utils\\deprecation.py#210\"><span style=\"color: #7f7f7f; text-decoration-color: #7f7f7f\">210</span></a>\n",
       "                             been deprecated since v0.<span style=\"color: #008000; text-decoration-color: #008000\">11.0</span> and is expected                   \n",
       "                             to be removed after v0.<span style=\"color: #008000; text-decoration-color: #008000\">13.0</span>. Use plot                           \n",
       "                             instead.                                                        \n",
       "</pre>\n"
      ],
      "text/plain": [
       "\u001b[2;36m                   \u001b[0m\u001b[2;36m \u001b[0m\u001b[31mWARNING \u001b[0m The method CoordinateSystem.get_graph has     \u001b]8;id=942104;file://C:\\Users\\thoma\\AppData\\Local\\Programs\\Python\\Python39\\lib\\site-packages\\manim\\utils\\deprecation.py\u001b\\\u001b[2mdeprecation.py\u001b[0m\u001b]8;;\u001b\\\u001b[2m:\u001b[0m\u001b]8;id=512170;file://C:\\Users\\thoma\\AppData\\Local\\Programs\\Python\\Python39\\lib\\site-packages\\manim\\utils\\deprecation.py#210\u001b\\\u001b[2m210\u001b[0m\u001b]8;;\u001b\\\n",
       "                             been deprecated since v0.\u001b[32m11.0\u001b[0m and is expected                   \n",
       "                             to be removed after v0.\u001b[32m13.0\u001b[0m. Use plot                           \n",
       "                             instead.                                                        \n"
      ]
     },
     "metadata": {},
     "output_type": "display_data"
    },
    {
     "name": "stderr",
     "output_type": "stream",
     "text": [
      "Animation 1: _MethodAnimation(ValueTracker):  48%|####8     | 109/225 [00:37<01:01,  1.89it/s]"
     ]
    },
    {
     "data": {
      "text/html": [
       "<pre style=\"white-space:pre;overflow-x:auto;line-height:normal;font-family:Menlo,'DejaVu Sans Mono',consolas,'Courier New',monospace\"><span style=\"color: #7fbfbf; text-decoration-color: #7fbfbf\">[01/31/22 20:55:46] </span><span style=\"color: #800000; text-decoration-color: #800000\">WARNING </span> The method CoordinateSystem.get_graph has     <a href=\"file://C:\\Users\\thoma\\AppData\\Local\\Programs\\Python\\Python39\\lib\\site-packages\\manim\\utils\\deprecation.py\"><span style=\"color: #7f7f7f; text-decoration-color: #7f7f7f\">deprecation.py</span></a><span style=\"color: #7f7f7f; text-decoration-color: #7f7f7f\">:</span><a href=\"file://C:\\Users\\thoma\\AppData\\Local\\Programs\\Python\\Python39\\lib\\site-packages\\manim\\utils\\deprecation.py#210\"><span style=\"color: #7f7f7f; text-decoration-color: #7f7f7f\">210</span></a>\n",
       "                             been deprecated since v0.<span style=\"color: #008000; text-decoration-color: #008000\">11.0</span> and is expected                   \n",
       "                             to be removed after v0.<span style=\"color: #008000; text-decoration-color: #008000\">13.0</span>. Use plot                           \n",
       "                             instead.                                                        \n",
       "</pre>\n"
      ],
      "text/plain": [
       "\u001b[2;36m[01/31/22 20:55:46]\u001b[0m\u001b[2;36m \u001b[0m\u001b[31mWARNING \u001b[0m The method CoordinateSystem.get_graph has     \u001b]8;id=748166;file://C:\\Users\\thoma\\AppData\\Local\\Programs\\Python\\Python39\\lib\\site-packages\\manim\\utils\\deprecation.py\u001b\\\u001b[2mdeprecation.py\u001b[0m\u001b]8;;\u001b\\\u001b[2m:\u001b[0m\u001b]8;id=934380;file://C:\\Users\\thoma\\AppData\\Local\\Programs\\Python\\Python39\\lib\\site-packages\\manim\\utils\\deprecation.py#210\u001b\\\u001b[2m210\u001b[0m\u001b]8;;\u001b\\\n",
       "                             been deprecated since v0.\u001b[32m11.0\u001b[0m and is expected                   \n",
       "                             to be removed after v0.\u001b[32m13.0\u001b[0m. Use plot                           \n",
       "                             instead.                                                        \n"
      ]
     },
     "metadata": {},
     "output_type": "display_data"
    },
    {
     "name": "stderr",
     "output_type": "stream",
     "text": [
      "Animation 1: _MethodAnimation(ValueTracker):  49%|####8     | 110/225 [00:38<01:00,  1.91it/s]"
     ]
    },
    {
     "data": {
      "text/html": [
       "<pre style=\"white-space:pre;overflow-x:auto;line-height:normal;font-family:Menlo,'DejaVu Sans Mono',consolas,'Courier New',monospace\"><span style=\"color: #7fbfbf; text-decoration-color: #7fbfbf\">                    </span><span style=\"color: #800000; text-decoration-color: #800000\">WARNING </span> The method CoordinateSystem.get_graph has     <a href=\"file://C:\\Users\\thoma\\AppData\\Local\\Programs\\Python\\Python39\\lib\\site-packages\\manim\\utils\\deprecation.py\"><span style=\"color: #7f7f7f; text-decoration-color: #7f7f7f\">deprecation.py</span></a><span style=\"color: #7f7f7f; text-decoration-color: #7f7f7f\">:</span><a href=\"file://C:\\Users\\thoma\\AppData\\Local\\Programs\\Python\\Python39\\lib\\site-packages\\manim\\utils\\deprecation.py#210\"><span style=\"color: #7f7f7f; text-decoration-color: #7f7f7f\">210</span></a>\n",
       "                             been deprecated since v0.<span style=\"color: #008000; text-decoration-color: #008000\">11.0</span> and is expected                   \n",
       "                             to be removed after v0.<span style=\"color: #008000; text-decoration-color: #008000\">13.0</span>. Use plot                           \n",
       "                             instead.                                                        \n",
       "</pre>\n"
      ],
      "text/plain": [
       "\u001b[2;36m                   \u001b[0m\u001b[2;36m \u001b[0m\u001b[31mWARNING \u001b[0m The method CoordinateSystem.get_graph has     \u001b]8;id=73741;file://C:\\Users\\thoma\\AppData\\Local\\Programs\\Python\\Python39\\lib\\site-packages\\manim\\utils\\deprecation.py\u001b\\\u001b[2mdeprecation.py\u001b[0m\u001b]8;;\u001b\\\u001b[2m:\u001b[0m\u001b]8;id=638459;file://C:\\Users\\thoma\\AppData\\Local\\Programs\\Python\\Python39\\lib\\site-packages\\manim\\utils\\deprecation.py#210\u001b\\\u001b[2m210\u001b[0m\u001b]8;;\u001b\\\n",
       "                             been deprecated since v0.\u001b[32m11.0\u001b[0m and is expected                   \n",
       "                             to be removed after v0.\u001b[32m13.0\u001b[0m. Use plot                           \n",
       "                             instead.                                                        \n"
      ]
     },
     "metadata": {},
     "output_type": "display_data"
    },
    {
     "name": "stderr",
     "output_type": "stream",
     "text": [
      "Animation 1: _MethodAnimation(ValueTracker):  49%|####9     | 111/225 [00:38<00:57,  1.97it/s]"
     ]
    },
    {
     "data": {
      "text/html": [
       "<pre style=\"white-space:pre;overflow-x:auto;line-height:normal;font-family:Menlo,'DejaVu Sans Mono',consolas,'Courier New',monospace\"><span style=\"color: #7fbfbf; text-decoration-color: #7fbfbf\">[01/31/22 20:55:47] </span><span style=\"color: #800000; text-decoration-color: #800000\">WARNING </span> The method CoordinateSystem.get_graph has     <a href=\"file://C:\\Users\\thoma\\AppData\\Local\\Programs\\Python\\Python39\\lib\\site-packages\\manim\\utils\\deprecation.py\"><span style=\"color: #7f7f7f; text-decoration-color: #7f7f7f\">deprecation.py</span></a><span style=\"color: #7f7f7f; text-decoration-color: #7f7f7f\">:</span><a href=\"file://C:\\Users\\thoma\\AppData\\Local\\Programs\\Python\\Python39\\lib\\site-packages\\manim\\utils\\deprecation.py#210\"><span style=\"color: #7f7f7f; text-decoration-color: #7f7f7f\">210</span></a>\n",
       "                             been deprecated since v0.<span style=\"color: #008000; text-decoration-color: #008000\">11.0</span> and is expected                   \n",
       "                             to be removed after v0.<span style=\"color: #008000; text-decoration-color: #008000\">13.0</span>. Use plot                           \n",
       "                             instead.                                                        \n",
       "</pre>\n"
      ],
      "text/plain": [
       "\u001b[2;36m[01/31/22 20:55:47]\u001b[0m\u001b[2;36m \u001b[0m\u001b[31mWARNING \u001b[0m The method CoordinateSystem.get_graph has     \u001b]8;id=896205;file://C:\\Users\\thoma\\AppData\\Local\\Programs\\Python\\Python39\\lib\\site-packages\\manim\\utils\\deprecation.py\u001b\\\u001b[2mdeprecation.py\u001b[0m\u001b]8;;\u001b\\\u001b[2m:\u001b[0m\u001b]8;id=578658;file://C:\\Users\\thoma\\AppData\\Local\\Programs\\Python\\Python39\\lib\\site-packages\\manim\\utils\\deprecation.py#210\u001b\\\u001b[2m210\u001b[0m\u001b]8;;\u001b\\\n",
       "                             been deprecated since v0.\u001b[32m11.0\u001b[0m and is expected                   \n",
       "                             to be removed after v0.\u001b[32m13.0\u001b[0m. Use plot                           \n",
       "                             instead.                                                        \n"
      ]
     },
     "metadata": {},
     "output_type": "display_data"
    },
    {
     "name": "stderr",
     "output_type": "stream",
     "text": [
      "Animation 1: _MethodAnimation(ValueTracker):  50%|####9     | 112/225 [00:39<00:55,  2.04it/s]"
     ]
    },
    {
     "data": {
      "text/html": [
       "<pre style=\"white-space:pre;overflow-x:auto;line-height:normal;font-family:Menlo,'DejaVu Sans Mono',consolas,'Courier New',monospace\"><span style=\"color: #7fbfbf; text-decoration-color: #7fbfbf\">                    </span><span style=\"color: #800000; text-decoration-color: #800000\">WARNING </span> The method CoordinateSystem.get_graph has     <a href=\"file://C:\\Users\\thoma\\AppData\\Local\\Programs\\Python\\Python39\\lib\\site-packages\\manim\\utils\\deprecation.py\"><span style=\"color: #7f7f7f; text-decoration-color: #7f7f7f\">deprecation.py</span></a><span style=\"color: #7f7f7f; text-decoration-color: #7f7f7f\">:</span><a href=\"file://C:\\Users\\thoma\\AppData\\Local\\Programs\\Python\\Python39\\lib\\site-packages\\manim\\utils\\deprecation.py#210\"><span style=\"color: #7f7f7f; text-decoration-color: #7f7f7f\">210</span></a>\n",
       "                             been deprecated since v0.<span style=\"color: #008000; text-decoration-color: #008000\">11.0</span> and is expected                   \n",
       "                             to be removed after v0.<span style=\"color: #008000; text-decoration-color: #008000\">13.0</span>. Use plot                           \n",
       "                             instead.                                                        \n",
       "</pre>\n"
      ],
      "text/plain": [
       "\u001b[2;36m                   \u001b[0m\u001b[2;36m \u001b[0m\u001b[31mWARNING \u001b[0m The method CoordinateSystem.get_graph has     \u001b]8;id=760804;file://C:\\Users\\thoma\\AppData\\Local\\Programs\\Python\\Python39\\lib\\site-packages\\manim\\utils\\deprecation.py\u001b\\\u001b[2mdeprecation.py\u001b[0m\u001b]8;;\u001b\\\u001b[2m:\u001b[0m\u001b]8;id=139649;file://C:\\Users\\thoma\\AppData\\Local\\Programs\\Python\\Python39\\lib\\site-packages\\manim\\utils\\deprecation.py#210\u001b\\\u001b[2m210\u001b[0m\u001b]8;;\u001b\\\n",
       "                             been deprecated since v0.\u001b[32m11.0\u001b[0m and is expected                   \n",
       "                             to be removed after v0.\u001b[32m13.0\u001b[0m. Use plot                           \n",
       "                             instead.                                                        \n"
      ]
     },
     "metadata": {},
     "output_type": "display_data"
    },
    {
     "name": "stderr",
     "output_type": "stream",
     "text": [
      "Animation 1: _MethodAnimation(ValueTracker):  50%|#####     | 113/225 [00:39<00:53,  2.08it/s]"
     ]
    },
    {
     "data": {
      "text/html": [
       "<pre style=\"white-space:pre;overflow-x:auto;line-height:normal;font-family:Menlo,'DejaVu Sans Mono',consolas,'Courier New',monospace\"><span style=\"color: #7fbfbf; text-decoration-color: #7fbfbf\">[01/31/22 20:55:48] </span><span style=\"color: #800000; text-decoration-color: #800000\">WARNING </span> The method CoordinateSystem.get_graph has     <a href=\"file://C:\\Users\\thoma\\AppData\\Local\\Programs\\Python\\Python39\\lib\\site-packages\\manim\\utils\\deprecation.py\"><span style=\"color: #7f7f7f; text-decoration-color: #7f7f7f\">deprecation.py</span></a><span style=\"color: #7f7f7f; text-decoration-color: #7f7f7f\">:</span><a href=\"file://C:\\Users\\thoma\\AppData\\Local\\Programs\\Python\\Python39\\lib\\site-packages\\manim\\utils\\deprecation.py#210\"><span style=\"color: #7f7f7f; text-decoration-color: #7f7f7f\">210</span></a>\n",
       "                             been deprecated since v0.<span style=\"color: #008000; text-decoration-color: #008000\">11.0</span> and is expected                   \n",
       "                             to be removed after v0.<span style=\"color: #008000; text-decoration-color: #008000\">13.0</span>. Use plot                           \n",
       "                             instead.                                                        \n",
       "</pre>\n"
      ],
      "text/plain": [
       "\u001b[2;36m[01/31/22 20:55:48]\u001b[0m\u001b[2;36m \u001b[0m\u001b[31mWARNING \u001b[0m The method CoordinateSystem.get_graph has     \u001b]8;id=306469;file://C:\\Users\\thoma\\AppData\\Local\\Programs\\Python\\Python39\\lib\\site-packages\\manim\\utils\\deprecation.py\u001b\\\u001b[2mdeprecation.py\u001b[0m\u001b]8;;\u001b\\\u001b[2m:\u001b[0m\u001b]8;id=29699;file://C:\\Users\\thoma\\AppData\\Local\\Programs\\Python\\Python39\\lib\\site-packages\\manim\\utils\\deprecation.py#210\u001b\\\u001b[2m210\u001b[0m\u001b]8;;\u001b\\\n",
       "                             been deprecated since v0.\u001b[32m11.0\u001b[0m and is expected                   \n",
       "                             to be removed after v0.\u001b[32m13.0\u001b[0m. Use plot                           \n",
       "                             instead.                                                        \n"
      ]
     },
     "metadata": {},
     "output_type": "display_data"
    },
    {
     "name": "stderr",
     "output_type": "stream",
     "text": [
      "Animation 1: _MethodAnimation(ValueTracker):  51%|#####     | 114/225 [00:40<00:53,  2.09it/s]"
     ]
    },
    {
     "data": {
      "text/html": [
       "<pre style=\"white-space:pre;overflow-x:auto;line-height:normal;font-family:Menlo,'DejaVu Sans Mono',consolas,'Courier New',monospace\"><span style=\"color: #7fbfbf; text-decoration-color: #7fbfbf\">                    </span><span style=\"color: #800000; text-decoration-color: #800000\">WARNING </span> The method CoordinateSystem.get_graph has     <a href=\"file://C:\\Users\\thoma\\AppData\\Local\\Programs\\Python\\Python39\\lib\\site-packages\\manim\\utils\\deprecation.py\"><span style=\"color: #7f7f7f; text-decoration-color: #7f7f7f\">deprecation.py</span></a><span style=\"color: #7f7f7f; text-decoration-color: #7f7f7f\">:</span><a href=\"file://C:\\Users\\thoma\\AppData\\Local\\Programs\\Python\\Python39\\lib\\site-packages\\manim\\utils\\deprecation.py#210\"><span style=\"color: #7f7f7f; text-decoration-color: #7f7f7f\">210</span></a>\n",
       "                             been deprecated since v0.<span style=\"color: #008000; text-decoration-color: #008000\">11.0</span> and is expected                   \n",
       "                             to be removed after v0.<span style=\"color: #008000; text-decoration-color: #008000\">13.0</span>. Use plot                           \n",
       "                             instead.                                                        \n",
       "</pre>\n"
      ],
      "text/plain": [
       "\u001b[2;36m                   \u001b[0m\u001b[2;36m \u001b[0m\u001b[31mWARNING \u001b[0m The method CoordinateSystem.get_graph has     \u001b]8;id=16770;file://C:\\Users\\thoma\\AppData\\Local\\Programs\\Python\\Python39\\lib\\site-packages\\manim\\utils\\deprecation.py\u001b\\\u001b[2mdeprecation.py\u001b[0m\u001b]8;;\u001b\\\u001b[2m:\u001b[0m\u001b]8;id=413790;file://C:\\Users\\thoma\\AppData\\Local\\Programs\\Python\\Python39\\lib\\site-packages\\manim\\utils\\deprecation.py#210\u001b\\\u001b[2m210\u001b[0m\u001b]8;;\u001b\\\n",
       "                             been deprecated since v0.\u001b[32m11.0\u001b[0m and is expected                   \n",
       "                             to be removed after v0.\u001b[32m13.0\u001b[0m. Use plot                           \n",
       "                             instead.                                                        \n"
      ]
     },
     "metadata": {},
     "output_type": "display_data"
    },
    {
     "name": "stderr",
     "output_type": "stream",
     "text": [
      "Animation 1: _MethodAnimation(ValueTracker):  51%|#####1    | 115/225 [00:40<00:55,  1.99it/s]"
     ]
    },
    {
     "data": {
      "text/html": [
       "<pre style=\"white-space:pre;overflow-x:auto;line-height:normal;font-family:Menlo,'DejaVu Sans Mono',consolas,'Courier New',monospace\"><span style=\"color: #7fbfbf; text-decoration-color: #7fbfbf\">[01/31/22 20:55:49] </span><span style=\"color: #800000; text-decoration-color: #800000\">WARNING </span> The method CoordinateSystem.get_graph has     <a href=\"file://C:\\Users\\thoma\\AppData\\Local\\Programs\\Python\\Python39\\lib\\site-packages\\manim\\utils\\deprecation.py\"><span style=\"color: #7f7f7f; text-decoration-color: #7f7f7f\">deprecation.py</span></a><span style=\"color: #7f7f7f; text-decoration-color: #7f7f7f\">:</span><a href=\"file://C:\\Users\\thoma\\AppData\\Local\\Programs\\Python\\Python39\\lib\\site-packages\\manim\\utils\\deprecation.py#210\"><span style=\"color: #7f7f7f; text-decoration-color: #7f7f7f\">210</span></a>\n",
       "                             been deprecated since v0.<span style=\"color: #008000; text-decoration-color: #008000\">11.0</span> and is expected                   \n",
       "                             to be removed after v0.<span style=\"color: #008000; text-decoration-color: #008000\">13.0</span>. Use plot                           \n",
       "                             instead.                                                        \n",
       "</pre>\n"
      ],
      "text/plain": [
       "\u001b[2;36m[01/31/22 20:55:49]\u001b[0m\u001b[2;36m \u001b[0m\u001b[31mWARNING \u001b[0m The method CoordinateSystem.get_graph has     \u001b]8;id=178939;file://C:\\Users\\thoma\\AppData\\Local\\Programs\\Python\\Python39\\lib\\site-packages\\manim\\utils\\deprecation.py\u001b\\\u001b[2mdeprecation.py\u001b[0m\u001b]8;;\u001b\\\u001b[2m:\u001b[0m\u001b]8;id=379298;file://C:\\Users\\thoma\\AppData\\Local\\Programs\\Python\\Python39\\lib\\site-packages\\manim\\utils\\deprecation.py#210\u001b\\\u001b[2m210\u001b[0m\u001b]8;;\u001b\\\n",
       "                             been deprecated since v0.\u001b[32m11.0\u001b[0m and is expected                   \n",
       "                             to be removed after v0.\u001b[32m13.0\u001b[0m. Use plot                           \n",
       "                             instead.                                                        \n"
      ]
     },
     "metadata": {},
     "output_type": "display_data"
    },
    {
     "name": "stderr",
     "output_type": "stream",
     "text": [
      "Animation 1: _MethodAnimation(ValueTracker):  52%|#####1    | 116/225 [00:41<01:05,  1.65it/s]"
     ]
    },
    {
     "data": {
      "text/html": [
       "<pre style=\"white-space:pre;overflow-x:auto;line-height:normal;font-family:Menlo,'DejaVu Sans Mono',consolas,'Courier New',monospace\"><span style=\"color: #7fbfbf; text-decoration-color: #7fbfbf\">                    </span><span style=\"color: #800000; text-decoration-color: #800000\">WARNING </span> The method CoordinateSystem.get_graph has     <a href=\"file://C:\\Users\\thoma\\AppData\\Local\\Programs\\Python\\Python39\\lib\\site-packages\\manim\\utils\\deprecation.py\"><span style=\"color: #7f7f7f; text-decoration-color: #7f7f7f\">deprecation.py</span></a><span style=\"color: #7f7f7f; text-decoration-color: #7f7f7f\">:</span><a href=\"file://C:\\Users\\thoma\\AppData\\Local\\Programs\\Python\\Python39\\lib\\site-packages\\manim\\utils\\deprecation.py#210\"><span style=\"color: #7f7f7f; text-decoration-color: #7f7f7f\">210</span></a>\n",
       "                             been deprecated since v0.<span style=\"color: #008000; text-decoration-color: #008000\">11.0</span> and is expected                   \n",
       "                             to be removed after v0.<span style=\"color: #008000; text-decoration-color: #008000\">13.0</span>. Use plot                           \n",
       "                             instead.                                                        \n",
       "</pre>\n"
      ],
      "text/plain": [
       "\u001b[2;36m                   \u001b[0m\u001b[2;36m \u001b[0m\u001b[31mWARNING \u001b[0m The method CoordinateSystem.get_graph has     \u001b]8;id=41810;file://C:\\Users\\thoma\\AppData\\Local\\Programs\\Python\\Python39\\lib\\site-packages\\manim\\utils\\deprecation.py\u001b\\\u001b[2mdeprecation.py\u001b[0m\u001b]8;;\u001b\\\u001b[2m:\u001b[0m\u001b]8;id=799395;file://C:\\Users\\thoma\\AppData\\Local\\Programs\\Python\\Python39\\lib\\site-packages\\manim\\utils\\deprecation.py#210\u001b\\\u001b[2m210\u001b[0m\u001b]8;;\u001b\\\n",
       "                             been deprecated since v0.\u001b[32m11.0\u001b[0m and is expected                   \n",
       "                             to be removed after v0.\u001b[32m13.0\u001b[0m. Use plot                           \n",
       "                             instead.                                                        \n"
      ]
     },
     "metadata": {},
     "output_type": "display_data"
    },
    {
     "name": "stderr",
     "output_type": "stream",
     "text": [
      "Animation 1: _MethodAnimation(ValueTracker):  52%|#####2    | 117/225 [00:42<01:14,  1.45it/s]"
     ]
    },
    {
     "data": {
      "text/html": [
       "<pre style=\"white-space:pre;overflow-x:auto;line-height:normal;font-family:Menlo,'DejaVu Sans Mono',consolas,'Courier New',monospace\"><span style=\"color: #7fbfbf; text-decoration-color: #7fbfbf\">[01/31/22 20:55:50] </span><span style=\"color: #800000; text-decoration-color: #800000\">WARNING </span> The method CoordinateSystem.get_graph has     <a href=\"file://C:\\Users\\thoma\\AppData\\Local\\Programs\\Python\\Python39\\lib\\site-packages\\manim\\utils\\deprecation.py\"><span style=\"color: #7f7f7f; text-decoration-color: #7f7f7f\">deprecation.py</span></a><span style=\"color: #7f7f7f; text-decoration-color: #7f7f7f\">:</span><a href=\"file://C:\\Users\\thoma\\AppData\\Local\\Programs\\Python\\Python39\\lib\\site-packages\\manim\\utils\\deprecation.py#210\"><span style=\"color: #7f7f7f; text-decoration-color: #7f7f7f\">210</span></a>\n",
       "                             been deprecated since v0.<span style=\"color: #008000; text-decoration-color: #008000\">11.0</span> and is expected                   \n",
       "                             to be removed after v0.<span style=\"color: #008000; text-decoration-color: #008000\">13.0</span>. Use plot                           \n",
       "                             instead.                                                        \n",
       "</pre>\n"
      ],
      "text/plain": [
       "\u001b[2;36m[01/31/22 20:55:50]\u001b[0m\u001b[2;36m \u001b[0m\u001b[31mWARNING \u001b[0m The method CoordinateSystem.get_graph has     \u001b]8;id=340593;file://C:\\Users\\thoma\\AppData\\Local\\Programs\\Python\\Python39\\lib\\site-packages\\manim\\utils\\deprecation.py\u001b\\\u001b[2mdeprecation.py\u001b[0m\u001b]8;;\u001b\\\u001b[2m:\u001b[0m\u001b]8;id=686995;file://C:\\Users\\thoma\\AppData\\Local\\Programs\\Python\\Python39\\lib\\site-packages\\manim\\utils\\deprecation.py#210\u001b\\\u001b[2m210\u001b[0m\u001b]8;;\u001b\\\n",
       "                             been deprecated since v0.\u001b[32m11.0\u001b[0m and is expected                   \n",
       "                             to be removed after v0.\u001b[32m13.0\u001b[0m. Use plot                           \n",
       "                             instead.                                                        \n"
      ]
     },
     "metadata": {},
     "output_type": "display_data"
    },
    {
     "name": "stderr",
     "output_type": "stream",
     "text": [
      "Animation 1: _MethodAnimation(ValueTracker):  52%|#####2    | 118/225 [00:43<01:22,  1.30it/s]"
     ]
    },
    {
     "data": {
      "text/html": [
       "<pre style=\"white-space:pre;overflow-x:auto;line-height:normal;font-family:Menlo,'DejaVu Sans Mono',consolas,'Courier New',monospace\"><span style=\"color: #7fbfbf; text-decoration-color: #7fbfbf\">[01/31/22 20:55:51] </span><span style=\"color: #800000; text-decoration-color: #800000\">WARNING </span> The method CoordinateSystem.get_graph has     <a href=\"file://C:\\Users\\thoma\\AppData\\Local\\Programs\\Python\\Python39\\lib\\site-packages\\manim\\utils\\deprecation.py\"><span style=\"color: #7f7f7f; text-decoration-color: #7f7f7f\">deprecation.py</span></a><span style=\"color: #7f7f7f; text-decoration-color: #7f7f7f\">:</span><a href=\"file://C:\\Users\\thoma\\AppData\\Local\\Programs\\Python\\Python39\\lib\\site-packages\\manim\\utils\\deprecation.py#210\"><span style=\"color: #7f7f7f; text-decoration-color: #7f7f7f\">210</span></a>\n",
       "                             been deprecated since v0.<span style=\"color: #008000; text-decoration-color: #008000\">11.0</span> and is expected                   \n",
       "                             to be removed after v0.<span style=\"color: #008000; text-decoration-color: #008000\">13.0</span>. Use plot                           \n",
       "                             instead.                                                        \n",
       "</pre>\n"
      ],
      "text/plain": [
       "\u001b[2;36m[01/31/22 20:55:51]\u001b[0m\u001b[2;36m \u001b[0m\u001b[31mWARNING \u001b[0m The method CoordinateSystem.get_graph has     \u001b]8;id=891107;file://C:\\Users\\thoma\\AppData\\Local\\Programs\\Python\\Python39\\lib\\site-packages\\manim\\utils\\deprecation.py\u001b\\\u001b[2mdeprecation.py\u001b[0m\u001b]8;;\u001b\\\u001b[2m:\u001b[0m\u001b]8;id=425758;file://C:\\Users\\thoma\\AppData\\Local\\Programs\\Python\\Python39\\lib\\site-packages\\manim\\utils\\deprecation.py#210\u001b\\\u001b[2m210\u001b[0m\u001b]8;;\u001b\\\n",
       "                             been deprecated since v0.\u001b[32m11.0\u001b[0m and is expected                   \n",
       "                             to be removed after v0.\u001b[32m13.0\u001b[0m. Use plot                           \n",
       "                             instead.                                                        \n"
      ]
     },
     "metadata": {},
     "output_type": "display_data"
    },
    {
     "name": "stderr",
     "output_type": "stream",
     "text": [
      "Animation 1: _MethodAnimation(ValueTracker):  53%|#####2    | 119/225 [00:44<01:15,  1.40it/s]"
     ]
    },
    {
     "data": {
      "text/html": [
       "<pre style=\"white-space:pre;overflow-x:auto;line-height:normal;font-family:Menlo,'DejaVu Sans Mono',consolas,'Courier New',monospace\"><span style=\"color: #7fbfbf; text-decoration-color: #7fbfbf\">[01/31/22 20:55:52] </span><span style=\"color: #800000; text-decoration-color: #800000\">WARNING </span> The method CoordinateSystem.get_graph has     <a href=\"file://C:\\Users\\thoma\\AppData\\Local\\Programs\\Python\\Python39\\lib\\site-packages\\manim\\utils\\deprecation.py\"><span style=\"color: #7f7f7f; text-decoration-color: #7f7f7f\">deprecation.py</span></a><span style=\"color: #7f7f7f; text-decoration-color: #7f7f7f\">:</span><a href=\"file://C:\\Users\\thoma\\AppData\\Local\\Programs\\Python\\Python39\\lib\\site-packages\\manim\\utils\\deprecation.py#210\"><span style=\"color: #7f7f7f; text-decoration-color: #7f7f7f\">210</span></a>\n",
       "                             been deprecated since v0.<span style=\"color: #008000; text-decoration-color: #008000\">11.0</span> and is expected                   \n",
       "                             to be removed after v0.<span style=\"color: #008000; text-decoration-color: #008000\">13.0</span>. Use plot                           \n",
       "                             instead.                                                        \n",
       "</pre>\n"
      ],
      "text/plain": [
       "\u001b[2;36m[01/31/22 20:55:52]\u001b[0m\u001b[2;36m \u001b[0m\u001b[31mWARNING \u001b[0m The method CoordinateSystem.get_graph has     \u001b]8;id=783799;file://C:\\Users\\thoma\\AppData\\Local\\Programs\\Python\\Python39\\lib\\site-packages\\manim\\utils\\deprecation.py\u001b\\\u001b[2mdeprecation.py\u001b[0m\u001b]8;;\u001b\\\u001b[2m:\u001b[0m\u001b]8;id=423092;file://C:\\Users\\thoma\\AppData\\Local\\Programs\\Python\\Python39\\lib\\site-packages\\manim\\utils\\deprecation.py#210\u001b\\\u001b[2m210\u001b[0m\u001b]8;;\u001b\\\n",
       "                             been deprecated since v0.\u001b[32m11.0\u001b[0m and is expected                   \n",
       "                             to be removed after v0.\u001b[32m13.0\u001b[0m. Use plot                           \n",
       "                             instead.                                                        \n"
      ]
     },
     "metadata": {},
     "output_type": "display_data"
    },
    {
     "name": "stderr",
     "output_type": "stream",
     "text": [
      "Animation 1: _MethodAnimation(ValueTracker):  53%|#####3    | 120/225 [00:44<01:12,  1.45it/s]"
     ]
    },
    {
     "data": {
      "text/html": [
       "<pre style=\"white-space:pre;overflow-x:auto;line-height:normal;font-family:Menlo,'DejaVu Sans Mono',consolas,'Courier New',monospace\"><span style=\"color: #7fbfbf; text-decoration-color: #7fbfbf\">[01/31/22 20:55:53] </span><span style=\"color: #800000; text-decoration-color: #800000\">WARNING </span> The method CoordinateSystem.get_graph has     <a href=\"file://C:\\Users\\thoma\\AppData\\Local\\Programs\\Python\\Python39\\lib\\site-packages\\manim\\utils\\deprecation.py\"><span style=\"color: #7f7f7f; text-decoration-color: #7f7f7f\">deprecation.py</span></a><span style=\"color: #7f7f7f; text-decoration-color: #7f7f7f\">:</span><a href=\"file://C:\\Users\\thoma\\AppData\\Local\\Programs\\Python\\Python39\\lib\\site-packages\\manim\\utils\\deprecation.py#210\"><span style=\"color: #7f7f7f; text-decoration-color: #7f7f7f\">210</span></a>\n",
       "                             been deprecated since v0.<span style=\"color: #008000; text-decoration-color: #008000\">11.0</span> and is expected                   \n",
       "                             to be removed after v0.<span style=\"color: #008000; text-decoration-color: #008000\">13.0</span>. Use plot                           \n",
       "                             instead.                                                        \n",
       "</pre>\n"
      ],
      "text/plain": [
       "\u001b[2;36m[01/31/22 20:55:53]\u001b[0m\u001b[2;36m \u001b[0m\u001b[31mWARNING \u001b[0m The method CoordinateSystem.get_graph has     \u001b]8;id=657283;file://C:\\Users\\thoma\\AppData\\Local\\Programs\\Python\\Python39\\lib\\site-packages\\manim\\utils\\deprecation.py\u001b\\\u001b[2mdeprecation.py\u001b[0m\u001b]8;;\u001b\\\u001b[2m:\u001b[0m\u001b]8;id=313;file://C:\\Users\\thoma\\AppData\\Local\\Programs\\Python\\Python39\\lib\\site-packages\\manim\\utils\\deprecation.py#210\u001b\\\u001b[2m210\u001b[0m\u001b]8;;\u001b\\\n",
       "                             been deprecated since v0.\u001b[32m11.0\u001b[0m and is expected                   \n",
       "                             to be removed after v0.\u001b[32m13.0\u001b[0m. Use plot                           \n",
       "                             instead.                                                        \n"
      ]
     },
     "metadata": {},
     "output_type": "display_data"
    },
    {
     "name": "stderr",
     "output_type": "stream",
     "text": [
      "Animation 1: _MethodAnimation(ValueTracker):  54%|#####3    | 121/225 [00:45<01:06,  1.56it/s]"
     ]
    },
    {
     "data": {
      "text/html": [
       "<pre style=\"white-space:pre;overflow-x:auto;line-height:normal;font-family:Menlo,'DejaVu Sans Mono',consolas,'Courier New',monospace\"><span style=\"color: #7fbfbf; text-decoration-color: #7fbfbf\">                    </span><span style=\"color: #800000; text-decoration-color: #800000\">WARNING </span> The method CoordinateSystem.get_graph has     <a href=\"file://C:\\Users\\thoma\\AppData\\Local\\Programs\\Python\\Python39\\lib\\site-packages\\manim\\utils\\deprecation.py\"><span style=\"color: #7f7f7f; text-decoration-color: #7f7f7f\">deprecation.py</span></a><span style=\"color: #7f7f7f; text-decoration-color: #7f7f7f\">:</span><a href=\"file://C:\\Users\\thoma\\AppData\\Local\\Programs\\Python\\Python39\\lib\\site-packages\\manim\\utils\\deprecation.py#210\"><span style=\"color: #7f7f7f; text-decoration-color: #7f7f7f\">210</span></a>\n",
       "                             been deprecated since v0.<span style=\"color: #008000; text-decoration-color: #008000\">11.0</span> and is expected                   \n",
       "                             to be removed after v0.<span style=\"color: #008000; text-decoration-color: #008000\">13.0</span>. Use plot                           \n",
       "                             instead.                                                        \n",
       "</pre>\n"
      ],
      "text/plain": [
       "\u001b[2;36m                   \u001b[0m\u001b[2;36m \u001b[0m\u001b[31mWARNING \u001b[0m The method CoordinateSystem.get_graph has     \u001b]8;id=152598;file://C:\\Users\\thoma\\AppData\\Local\\Programs\\Python\\Python39\\lib\\site-packages\\manim\\utils\\deprecation.py\u001b\\\u001b[2mdeprecation.py\u001b[0m\u001b]8;;\u001b\\\u001b[2m:\u001b[0m\u001b]8;id=767322;file://C:\\Users\\thoma\\AppData\\Local\\Programs\\Python\\Python39\\lib\\site-packages\\manim\\utils\\deprecation.py#210\u001b\\\u001b[2m210\u001b[0m\u001b]8;;\u001b\\\n",
       "                             been deprecated since v0.\u001b[32m11.0\u001b[0m and is expected                   \n",
       "                             to be removed after v0.\u001b[32m13.0\u001b[0m. Use plot                           \n",
       "                             instead.                                                        \n"
      ]
     },
     "metadata": {},
     "output_type": "display_data"
    },
    {
     "name": "stderr",
     "output_type": "stream",
     "text": [
      "Animation 1: _MethodAnimation(ValueTracker):  54%|#####4    | 122/225 [00:45<01:04,  1.59it/s]"
     ]
    },
    {
     "data": {
      "text/html": [
       "<pre style=\"white-space:pre;overflow-x:auto;line-height:normal;font-family:Menlo,'DejaVu Sans Mono',consolas,'Courier New',monospace\"><span style=\"color: #7fbfbf; text-decoration-color: #7fbfbf\">[01/31/22 20:55:54] </span><span style=\"color: #800000; text-decoration-color: #800000\">WARNING </span> The method CoordinateSystem.get_graph has     <a href=\"file://C:\\Users\\thoma\\AppData\\Local\\Programs\\Python\\Python39\\lib\\site-packages\\manim\\utils\\deprecation.py\"><span style=\"color: #7f7f7f; text-decoration-color: #7f7f7f\">deprecation.py</span></a><span style=\"color: #7f7f7f; text-decoration-color: #7f7f7f\">:</span><a href=\"file://C:\\Users\\thoma\\AppData\\Local\\Programs\\Python\\Python39\\lib\\site-packages\\manim\\utils\\deprecation.py#210\"><span style=\"color: #7f7f7f; text-decoration-color: #7f7f7f\">210</span></a>\n",
       "                             been deprecated since v0.<span style=\"color: #008000; text-decoration-color: #008000\">11.0</span> and is expected                   \n",
       "                             to be removed after v0.<span style=\"color: #008000; text-decoration-color: #008000\">13.0</span>. Use plot                           \n",
       "                             instead.                                                        \n",
       "</pre>\n"
      ],
      "text/plain": [
       "\u001b[2;36m[01/31/22 20:55:54]\u001b[0m\u001b[2;36m \u001b[0m\u001b[31mWARNING \u001b[0m The method CoordinateSystem.get_graph has     \u001b]8;id=952939;file://C:\\Users\\thoma\\AppData\\Local\\Programs\\Python\\Python39\\lib\\site-packages\\manim\\utils\\deprecation.py\u001b\\\u001b[2mdeprecation.py\u001b[0m\u001b]8;;\u001b\\\u001b[2m:\u001b[0m\u001b]8;id=362971;file://C:\\Users\\thoma\\AppData\\Local\\Programs\\Python\\Python39\\lib\\site-packages\\manim\\utils\\deprecation.py#210\u001b\\\u001b[2m210\u001b[0m\u001b]8;;\u001b\\\n",
       "                             been deprecated since v0.\u001b[32m11.0\u001b[0m and is expected                   \n",
       "                             to be removed after v0.\u001b[32m13.0\u001b[0m. Use plot                           \n",
       "                             instead.                                                        \n"
      ]
     },
     "metadata": {},
     "output_type": "display_data"
    },
    {
     "name": "stderr",
     "output_type": "stream",
     "text": [
      "Animation 1: _MethodAnimation(ValueTracker):  55%|#####4    | 123/225 [00:46<01:04,  1.59it/s]"
     ]
    },
    {
     "data": {
      "text/html": [
       "<pre style=\"white-space:pre;overflow-x:auto;line-height:normal;font-family:Menlo,'DejaVu Sans Mono',consolas,'Courier New',monospace\"><span style=\"color: #7fbfbf; text-decoration-color: #7fbfbf\">                    </span><span style=\"color: #800000; text-decoration-color: #800000\">WARNING </span> The method CoordinateSystem.get_graph has     <a href=\"file://C:\\Users\\thoma\\AppData\\Local\\Programs\\Python\\Python39\\lib\\site-packages\\manim\\utils\\deprecation.py\"><span style=\"color: #7f7f7f; text-decoration-color: #7f7f7f\">deprecation.py</span></a><span style=\"color: #7f7f7f; text-decoration-color: #7f7f7f\">:</span><a href=\"file://C:\\Users\\thoma\\AppData\\Local\\Programs\\Python\\Python39\\lib\\site-packages\\manim\\utils\\deprecation.py#210\"><span style=\"color: #7f7f7f; text-decoration-color: #7f7f7f\">210</span></a>\n",
       "                             been deprecated since v0.<span style=\"color: #008000; text-decoration-color: #008000\">11.0</span> and is expected                   \n",
       "                             to be removed after v0.<span style=\"color: #008000; text-decoration-color: #008000\">13.0</span>. Use plot                           \n",
       "                             instead.                                                        \n",
       "</pre>\n"
      ],
      "text/plain": [
       "\u001b[2;36m                   \u001b[0m\u001b[2;36m \u001b[0m\u001b[31mWARNING \u001b[0m The method CoordinateSystem.get_graph has     \u001b]8;id=208618;file://C:\\Users\\thoma\\AppData\\Local\\Programs\\Python\\Python39\\lib\\site-packages\\manim\\utils\\deprecation.py\u001b\\\u001b[2mdeprecation.py\u001b[0m\u001b]8;;\u001b\\\u001b[2m:\u001b[0m\u001b]8;id=995972;file://C:\\Users\\thoma\\AppData\\Local\\Programs\\Python\\Python39\\lib\\site-packages\\manim\\utils\\deprecation.py#210\u001b\\\u001b[2m210\u001b[0m\u001b]8;;\u001b\\\n",
       "                             been deprecated since v0.\u001b[32m11.0\u001b[0m and is expected                   \n",
       "                             to be removed after v0.\u001b[32m13.0\u001b[0m. Use plot                           \n",
       "                             instead.                                                        \n"
      ]
     },
     "metadata": {},
     "output_type": "display_data"
    },
    {
     "name": "stderr",
     "output_type": "stream",
     "text": [
      "Animation 1: _MethodAnimation(ValueTracker):  55%|#####5    | 124/225 [00:47<01:08,  1.48it/s]"
     ]
    },
    {
     "data": {
      "text/html": [
       "<pre style=\"white-space:pre;overflow-x:auto;line-height:normal;font-family:Menlo,'DejaVu Sans Mono',consolas,'Courier New',monospace\"><span style=\"color: #7fbfbf; text-decoration-color: #7fbfbf\">[01/31/22 20:55:55] </span><span style=\"color: #800000; text-decoration-color: #800000\">WARNING </span> The method CoordinateSystem.get_graph has     <a href=\"file://C:\\Users\\thoma\\AppData\\Local\\Programs\\Python\\Python39\\lib\\site-packages\\manim\\utils\\deprecation.py\"><span style=\"color: #7f7f7f; text-decoration-color: #7f7f7f\">deprecation.py</span></a><span style=\"color: #7f7f7f; text-decoration-color: #7f7f7f\">:</span><a href=\"file://C:\\Users\\thoma\\AppData\\Local\\Programs\\Python\\Python39\\lib\\site-packages\\manim\\utils\\deprecation.py#210\"><span style=\"color: #7f7f7f; text-decoration-color: #7f7f7f\">210</span></a>\n",
       "                             been deprecated since v0.<span style=\"color: #008000; text-decoration-color: #008000\">11.0</span> and is expected                   \n",
       "                             to be removed after v0.<span style=\"color: #008000; text-decoration-color: #008000\">13.0</span>. Use plot                           \n",
       "                             instead.                                                        \n",
       "</pre>\n"
      ],
      "text/plain": [
       "\u001b[2;36m[01/31/22 20:55:55]\u001b[0m\u001b[2;36m \u001b[0m\u001b[31mWARNING \u001b[0m The method CoordinateSystem.get_graph has     \u001b]8;id=13904;file://C:\\Users\\thoma\\AppData\\Local\\Programs\\Python\\Python39\\lib\\site-packages\\manim\\utils\\deprecation.py\u001b\\\u001b[2mdeprecation.py\u001b[0m\u001b]8;;\u001b\\\u001b[2m:\u001b[0m\u001b]8;id=366866;file://C:\\Users\\thoma\\AppData\\Local\\Programs\\Python\\Python39\\lib\\site-packages\\manim\\utils\\deprecation.py#210\u001b\\\u001b[2m210\u001b[0m\u001b]8;;\u001b\\\n",
       "                             been deprecated since v0.\u001b[32m11.0\u001b[0m and is expected                   \n",
       "                             to be removed after v0.\u001b[32m13.0\u001b[0m. Use plot                           \n",
       "                             instead.                                                        \n"
      ]
     },
     "metadata": {},
     "output_type": "display_data"
    },
    {
     "name": "stderr",
     "output_type": "stream",
     "text": [
      "Animation 1: _MethodAnimation(ValueTracker):  56%|#####5    | 125/225 [00:48<01:16,  1.31it/s]"
     ]
    },
    {
     "data": {
      "text/html": [
       "<pre style=\"white-space:pre;overflow-x:auto;line-height:normal;font-family:Menlo,'DejaVu Sans Mono',consolas,'Courier New',monospace\"><span style=\"color: #7fbfbf; text-decoration-color: #7fbfbf\">[01/31/22 20:55:56] </span><span style=\"color: #800000; text-decoration-color: #800000\">WARNING </span> The method CoordinateSystem.get_graph has     <a href=\"file://C:\\Users\\thoma\\AppData\\Local\\Programs\\Python\\Python39\\lib\\site-packages\\manim\\utils\\deprecation.py\"><span style=\"color: #7f7f7f; text-decoration-color: #7f7f7f\">deprecation.py</span></a><span style=\"color: #7f7f7f; text-decoration-color: #7f7f7f\">:</span><a href=\"file://C:\\Users\\thoma\\AppData\\Local\\Programs\\Python\\Python39\\lib\\site-packages\\manim\\utils\\deprecation.py#210\"><span style=\"color: #7f7f7f; text-decoration-color: #7f7f7f\">210</span></a>\n",
       "                             been deprecated since v0.<span style=\"color: #008000; text-decoration-color: #008000\">11.0</span> and is expected                   \n",
       "                             to be removed after v0.<span style=\"color: #008000; text-decoration-color: #008000\">13.0</span>. Use plot                           \n",
       "                             instead.                                                        \n",
       "</pre>\n"
      ],
      "text/plain": [
       "\u001b[2;36m[01/31/22 20:55:56]\u001b[0m\u001b[2;36m \u001b[0m\u001b[31mWARNING \u001b[0m The method CoordinateSystem.get_graph has     \u001b]8;id=295188;file://C:\\Users\\thoma\\AppData\\Local\\Programs\\Python\\Python39\\lib\\site-packages\\manim\\utils\\deprecation.py\u001b\\\u001b[2mdeprecation.py\u001b[0m\u001b]8;;\u001b\\\u001b[2m:\u001b[0m\u001b]8;id=278010;file://C:\\Users\\thoma\\AppData\\Local\\Programs\\Python\\Python39\\lib\\site-packages\\manim\\utils\\deprecation.py#210\u001b\\\u001b[2m210\u001b[0m\u001b]8;;\u001b\\\n",
       "                             been deprecated since v0.\u001b[32m11.0\u001b[0m and is expected                   \n",
       "                             to be removed after v0.\u001b[32m13.0\u001b[0m. Use plot                           \n",
       "                             instead.                                                        \n"
      ]
     },
     "metadata": {},
     "output_type": "display_data"
    },
    {
     "name": "stderr",
     "output_type": "stream",
     "text": [
      "Animation 1: _MethodAnimation(ValueTracker):  56%|#####6    | 126/225 [00:48<01:09,  1.42it/s]"
     ]
    },
    {
     "data": {
      "text/html": [
       "<pre style=\"white-space:pre;overflow-x:auto;line-height:normal;font-family:Menlo,'DejaVu Sans Mono',consolas,'Courier New',monospace\"><span style=\"color: #7fbfbf; text-decoration-color: #7fbfbf\">[01/31/22 20:55:57] </span><span style=\"color: #800000; text-decoration-color: #800000\">WARNING </span> The method CoordinateSystem.get_graph has     <a href=\"file://C:\\Users\\thoma\\AppData\\Local\\Programs\\Python\\Python39\\lib\\site-packages\\manim\\utils\\deprecation.py\"><span style=\"color: #7f7f7f; text-decoration-color: #7f7f7f\">deprecation.py</span></a><span style=\"color: #7f7f7f; text-decoration-color: #7f7f7f\">:</span><a href=\"file://C:\\Users\\thoma\\AppData\\Local\\Programs\\Python\\Python39\\lib\\site-packages\\manim\\utils\\deprecation.py#210\"><span style=\"color: #7f7f7f; text-decoration-color: #7f7f7f\">210</span></a>\n",
       "                             been deprecated since v0.<span style=\"color: #008000; text-decoration-color: #008000\">11.0</span> and is expected                   \n",
       "                             to be removed after v0.<span style=\"color: #008000; text-decoration-color: #008000\">13.0</span>. Use plot                           \n",
       "                             instead.                                                        \n",
       "</pre>\n"
      ],
      "text/plain": [
       "\u001b[2;36m[01/31/22 20:55:57]\u001b[0m\u001b[2;36m \u001b[0m\u001b[31mWARNING \u001b[0m The method CoordinateSystem.get_graph has     \u001b]8;id=371575;file://C:\\Users\\thoma\\AppData\\Local\\Programs\\Python\\Python39\\lib\\site-packages\\manim\\utils\\deprecation.py\u001b\\\u001b[2mdeprecation.py\u001b[0m\u001b]8;;\u001b\\\u001b[2m:\u001b[0m\u001b]8;id=5053;file://C:\\Users\\thoma\\AppData\\Local\\Programs\\Python\\Python39\\lib\\site-packages\\manim\\utils\\deprecation.py#210\u001b\\\u001b[2m210\u001b[0m\u001b]8;;\u001b\\\n",
       "                             been deprecated since v0.\u001b[32m11.0\u001b[0m and is expected                   \n",
       "                             to be removed after v0.\u001b[32m13.0\u001b[0m. Use plot                           \n",
       "                             instead.                                                        \n"
      ]
     },
     "metadata": {},
     "output_type": "display_data"
    },
    {
     "name": "stderr",
     "output_type": "stream",
     "text": [
      "Animation 1: _MethodAnimation(ValueTracker):  56%|#####6    | 127/225 [00:49<01:03,  1.54it/s]"
     ]
    },
    {
     "data": {
      "text/html": [
       "<pre style=\"white-space:pre;overflow-x:auto;line-height:normal;font-family:Menlo,'DejaVu Sans Mono',consolas,'Courier New',monospace\"><span style=\"color: #7fbfbf; text-decoration-color: #7fbfbf\">                    </span><span style=\"color: #800000; text-decoration-color: #800000\">WARNING </span> The method CoordinateSystem.get_graph has     <a href=\"file://C:\\Users\\thoma\\AppData\\Local\\Programs\\Python\\Python39\\lib\\site-packages\\manim\\utils\\deprecation.py\"><span style=\"color: #7f7f7f; text-decoration-color: #7f7f7f\">deprecation.py</span></a><span style=\"color: #7f7f7f; text-decoration-color: #7f7f7f\">:</span><a href=\"file://C:\\Users\\thoma\\AppData\\Local\\Programs\\Python\\Python39\\lib\\site-packages\\manim\\utils\\deprecation.py#210\"><span style=\"color: #7f7f7f; text-decoration-color: #7f7f7f\">210</span></a>\n",
       "                             been deprecated since v0.<span style=\"color: #008000; text-decoration-color: #008000\">11.0</span> and is expected                   \n",
       "                             to be removed after v0.<span style=\"color: #008000; text-decoration-color: #008000\">13.0</span>. Use plot                           \n",
       "                             instead.                                                        \n",
       "</pre>\n"
      ],
      "text/plain": [
       "\u001b[2;36m                   \u001b[0m\u001b[2;36m \u001b[0m\u001b[31mWARNING \u001b[0m The method CoordinateSystem.get_graph has     \u001b]8;id=925437;file://C:\\Users\\thoma\\AppData\\Local\\Programs\\Python\\Python39\\lib\\site-packages\\manim\\utils\\deprecation.py\u001b\\\u001b[2mdeprecation.py\u001b[0m\u001b]8;;\u001b\\\u001b[2m:\u001b[0m\u001b]8;id=72673;file://C:\\Users\\thoma\\AppData\\Local\\Programs\\Python\\Python39\\lib\\site-packages\\manim\\utils\\deprecation.py#210\u001b\\\u001b[2m210\u001b[0m\u001b]8;;\u001b\\\n",
       "                             been deprecated since v0.\u001b[32m11.0\u001b[0m and is expected                   \n",
       "                             to be removed after v0.\u001b[32m13.0\u001b[0m. Use plot                           \n",
       "                             instead.                                                        \n"
      ]
     },
     "metadata": {},
     "output_type": "display_data"
    },
    {
     "name": "stderr",
     "output_type": "stream",
     "text": [
      "Animation 1: _MethodAnimation(ValueTracker):  57%|#####6    | 128/225 [00:49<00:57,  1.68it/s]"
     ]
    },
    {
     "data": {
      "text/html": [
       "<pre style=\"white-space:pre;overflow-x:auto;line-height:normal;font-family:Menlo,'DejaVu Sans Mono',consolas,'Courier New',monospace\"><span style=\"color: #7fbfbf; text-decoration-color: #7fbfbf\">[01/31/22 20:55:58] </span><span style=\"color: #800000; text-decoration-color: #800000\">WARNING </span> The method CoordinateSystem.get_graph has     <a href=\"file://C:\\Users\\thoma\\AppData\\Local\\Programs\\Python\\Python39\\lib\\site-packages\\manim\\utils\\deprecation.py\"><span style=\"color: #7f7f7f; text-decoration-color: #7f7f7f\">deprecation.py</span></a><span style=\"color: #7f7f7f; text-decoration-color: #7f7f7f\">:</span><a href=\"file://C:\\Users\\thoma\\AppData\\Local\\Programs\\Python\\Python39\\lib\\site-packages\\manim\\utils\\deprecation.py#210\"><span style=\"color: #7f7f7f; text-decoration-color: #7f7f7f\">210</span></a>\n",
       "                             been deprecated since v0.<span style=\"color: #008000; text-decoration-color: #008000\">11.0</span> and is expected                   \n",
       "                             to be removed after v0.<span style=\"color: #008000; text-decoration-color: #008000\">13.0</span>. Use plot                           \n",
       "                             instead.                                                        \n",
       "</pre>\n"
      ],
      "text/plain": [
       "\u001b[2;36m[01/31/22 20:55:58]\u001b[0m\u001b[2;36m \u001b[0m\u001b[31mWARNING \u001b[0m The method CoordinateSystem.get_graph has     \u001b]8;id=616897;file://C:\\Users\\thoma\\AppData\\Local\\Programs\\Python\\Python39\\lib\\site-packages\\manim\\utils\\deprecation.py\u001b\\\u001b[2mdeprecation.py\u001b[0m\u001b]8;;\u001b\\\u001b[2m:\u001b[0m\u001b]8;id=64865;file://C:\\Users\\thoma\\AppData\\Local\\Programs\\Python\\Python39\\lib\\site-packages\\manim\\utils\\deprecation.py#210\u001b\\\u001b[2m210\u001b[0m\u001b]8;;\u001b\\\n",
       "                             been deprecated since v0.\u001b[32m11.0\u001b[0m and is expected                   \n",
       "                             to be removed after v0.\u001b[32m13.0\u001b[0m. Use plot                           \n",
       "                             instead.                                                        \n"
      ]
     },
     "metadata": {},
     "output_type": "display_data"
    },
    {
     "name": "stderr",
     "output_type": "stream",
     "text": [
      "Animation 1: _MethodAnimation(ValueTracker):  57%|#####7    | 129/225 [00:50<00:56,  1.71it/s]"
     ]
    },
    {
     "data": {
      "text/html": [
       "<pre style=\"white-space:pre;overflow-x:auto;line-height:normal;font-family:Menlo,'DejaVu Sans Mono',consolas,'Courier New',monospace\"><span style=\"color: #7fbfbf; text-decoration-color: #7fbfbf\">                    </span><span style=\"color: #800000; text-decoration-color: #800000\">WARNING </span> The method CoordinateSystem.get_graph has     <a href=\"file://C:\\Users\\thoma\\AppData\\Local\\Programs\\Python\\Python39\\lib\\site-packages\\manim\\utils\\deprecation.py\"><span style=\"color: #7f7f7f; text-decoration-color: #7f7f7f\">deprecation.py</span></a><span style=\"color: #7f7f7f; text-decoration-color: #7f7f7f\">:</span><a href=\"file://C:\\Users\\thoma\\AppData\\Local\\Programs\\Python\\Python39\\lib\\site-packages\\manim\\utils\\deprecation.py#210\"><span style=\"color: #7f7f7f; text-decoration-color: #7f7f7f\">210</span></a>\n",
       "                             been deprecated since v0.<span style=\"color: #008000; text-decoration-color: #008000\">11.0</span> and is expected                   \n",
       "                             to be removed after v0.<span style=\"color: #008000; text-decoration-color: #008000\">13.0</span>. Use plot                           \n",
       "                             instead.                                                        \n",
       "</pre>\n"
      ],
      "text/plain": [
       "\u001b[2;36m                   \u001b[0m\u001b[2;36m \u001b[0m\u001b[31mWARNING \u001b[0m The method CoordinateSystem.get_graph has     \u001b]8;id=17813;file://C:\\Users\\thoma\\AppData\\Local\\Programs\\Python\\Python39\\lib\\site-packages\\manim\\utils\\deprecation.py\u001b\\\u001b[2mdeprecation.py\u001b[0m\u001b]8;;\u001b\\\u001b[2m:\u001b[0m\u001b]8;id=363099;file://C:\\Users\\thoma\\AppData\\Local\\Programs\\Python\\Python39\\lib\\site-packages\\manim\\utils\\deprecation.py#210\u001b\\\u001b[2m210\u001b[0m\u001b]8;;\u001b\\\n",
       "                             been deprecated since v0.\u001b[32m11.0\u001b[0m and is expected                   \n",
       "                             to be removed after v0.\u001b[32m13.0\u001b[0m. Use plot                           \n",
       "                             instead.                                                        \n"
      ]
     },
     "metadata": {},
     "output_type": "display_data"
    },
    {
     "name": "stderr",
     "output_type": "stream",
     "text": [
      "Animation 1: _MethodAnimation(ValueTracker):  58%|#####7    | 130/225 [00:50<00:53,  1.78it/s]"
     ]
    },
    {
     "data": {
      "text/html": [
       "<pre style=\"white-space:pre;overflow-x:auto;line-height:normal;font-family:Menlo,'DejaVu Sans Mono',consolas,'Courier New',monospace\"><span style=\"color: #7fbfbf; text-decoration-color: #7fbfbf\">[01/31/22 20:55:59] </span><span style=\"color: #800000; text-decoration-color: #800000\">WARNING </span> The method CoordinateSystem.get_graph has     <a href=\"file://C:\\Users\\thoma\\AppData\\Local\\Programs\\Python\\Python39\\lib\\site-packages\\manim\\utils\\deprecation.py\"><span style=\"color: #7f7f7f; text-decoration-color: #7f7f7f\">deprecation.py</span></a><span style=\"color: #7f7f7f; text-decoration-color: #7f7f7f\">:</span><a href=\"file://C:\\Users\\thoma\\AppData\\Local\\Programs\\Python\\Python39\\lib\\site-packages\\manim\\utils\\deprecation.py#210\"><span style=\"color: #7f7f7f; text-decoration-color: #7f7f7f\">210</span></a>\n",
       "                             been deprecated since v0.<span style=\"color: #008000; text-decoration-color: #008000\">11.0</span> and is expected                   \n",
       "                             to be removed after v0.<span style=\"color: #008000; text-decoration-color: #008000\">13.0</span>. Use plot                           \n",
       "                             instead.                                                        \n",
       "</pre>\n"
      ],
      "text/plain": [
       "\u001b[2;36m[01/31/22 20:55:59]\u001b[0m\u001b[2;36m \u001b[0m\u001b[31mWARNING \u001b[0m The method CoordinateSystem.get_graph has     \u001b]8;id=136566;file://C:\\Users\\thoma\\AppData\\Local\\Programs\\Python\\Python39\\lib\\site-packages\\manim\\utils\\deprecation.py\u001b\\\u001b[2mdeprecation.py\u001b[0m\u001b]8;;\u001b\\\u001b[2m:\u001b[0m\u001b]8;id=406440;file://C:\\Users\\thoma\\AppData\\Local\\Programs\\Python\\Python39\\lib\\site-packages\\manim\\utils\\deprecation.py#210\u001b\\\u001b[2m210\u001b[0m\u001b]8;;\u001b\\\n",
       "                             been deprecated since v0.\u001b[32m11.0\u001b[0m and is expected                   \n",
       "                             to be removed after v0.\u001b[32m13.0\u001b[0m. Use plot                           \n",
       "                             instead.                                                        \n"
      ]
     },
     "metadata": {},
     "output_type": "display_data"
    },
    {
     "name": "stderr",
     "output_type": "stream",
     "text": [
      "Animation 1: _MethodAnimation(ValueTracker):  58%|#####8    | 131/225 [00:51<00:50,  1.87it/s]"
     ]
    },
    {
     "data": {
      "text/html": [
       "<pre style=\"white-space:pre;overflow-x:auto;line-height:normal;font-family:Menlo,'DejaVu Sans Mono',consolas,'Courier New',monospace\"><span style=\"color: #7fbfbf; text-decoration-color: #7fbfbf\">                    </span><span style=\"color: #800000; text-decoration-color: #800000\">WARNING </span> The method CoordinateSystem.get_graph has     <a href=\"file://C:\\Users\\thoma\\AppData\\Local\\Programs\\Python\\Python39\\lib\\site-packages\\manim\\utils\\deprecation.py\"><span style=\"color: #7f7f7f; text-decoration-color: #7f7f7f\">deprecation.py</span></a><span style=\"color: #7f7f7f; text-decoration-color: #7f7f7f\">:</span><a href=\"file://C:\\Users\\thoma\\AppData\\Local\\Programs\\Python\\Python39\\lib\\site-packages\\manim\\utils\\deprecation.py#210\"><span style=\"color: #7f7f7f; text-decoration-color: #7f7f7f\">210</span></a>\n",
       "                             been deprecated since v0.<span style=\"color: #008000; text-decoration-color: #008000\">11.0</span> and is expected                   \n",
       "                             to be removed after v0.<span style=\"color: #008000; text-decoration-color: #008000\">13.0</span>. Use plot                           \n",
       "                             instead.                                                        \n",
       "</pre>\n"
      ],
      "text/plain": [
       "\u001b[2;36m                   \u001b[0m\u001b[2;36m \u001b[0m\u001b[31mWARNING \u001b[0m The method CoordinateSystem.get_graph has     \u001b]8;id=538749;file://C:\\Users\\thoma\\AppData\\Local\\Programs\\Python\\Python39\\lib\\site-packages\\manim\\utils\\deprecation.py\u001b\\\u001b[2mdeprecation.py\u001b[0m\u001b]8;;\u001b\\\u001b[2m:\u001b[0m\u001b]8;id=968132;file://C:\\Users\\thoma\\AppData\\Local\\Programs\\Python\\Python39\\lib\\site-packages\\manim\\utils\\deprecation.py#210\u001b\\\u001b[2m210\u001b[0m\u001b]8;;\u001b\\\n",
       "                             been deprecated since v0.\u001b[32m11.0\u001b[0m and is expected                   \n",
       "                             to be removed after v0.\u001b[32m13.0\u001b[0m. Use plot                           \n",
       "                             instead.                                                        \n"
      ]
     },
     "metadata": {},
     "output_type": "display_data"
    },
    {
     "name": "stderr",
     "output_type": "stream",
     "text": [
      "Animation 1: _MethodAnimation(ValueTracker):  59%|#####8    | 132/225 [00:51<00:48,  1.93it/s]"
     ]
    },
    {
     "data": {
      "text/html": [
       "<pre style=\"white-space:pre;overflow-x:auto;line-height:normal;font-family:Menlo,'DejaVu Sans Mono',consolas,'Courier New',monospace\"><span style=\"color: #7fbfbf; text-decoration-color: #7fbfbf\">[01/31/22 20:56:00] </span><span style=\"color: #800000; text-decoration-color: #800000\">WARNING </span> The method CoordinateSystem.get_graph has     <a href=\"file://C:\\Users\\thoma\\AppData\\Local\\Programs\\Python\\Python39\\lib\\site-packages\\manim\\utils\\deprecation.py\"><span style=\"color: #7f7f7f; text-decoration-color: #7f7f7f\">deprecation.py</span></a><span style=\"color: #7f7f7f; text-decoration-color: #7f7f7f\">:</span><a href=\"file://C:\\Users\\thoma\\AppData\\Local\\Programs\\Python\\Python39\\lib\\site-packages\\manim\\utils\\deprecation.py#210\"><span style=\"color: #7f7f7f; text-decoration-color: #7f7f7f\">210</span></a>\n",
       "                             been deprecated since v0.<span style=\"color: #008000; text-decoration-color: #008000\">11.0</span> and is expected                   \n",
       "                             to be removed after v0.<span style=\"color: #008000; text-decoration-color: #008000\">13.0</span>. Use plot                           \n",
       "                             instead.                                                        \n",
       "</pre>\n"
      ],
      "text/plain": [
       "\u001b[2;36m[01/31/22 20:56:00]\u001b[0m\u001b[2;36m \u001b[0m\u001b[31mWARNING \u001b[0m The method CoordinateSystem.get_graph has     \u001b]8;id=420018;file://C:\\Users\\thoma\\AppData\\Local\\Programs\\Python\\Python39\\lib\\site-packages\\manim\\utils\\deprecation.py\u001b\\\u001b[2mdeprecation.py\u001b[0m\u001b]8;;\u001b\\\u001b[2m:\u001b[0m\u001b]8;id=549659;file://C:\\Users\\thoma\\AppData\\Local\\Programs\\Python\\Python39\\lib\\site-packages\\manim\\utils\\deprecation.py#210\u001b\\\u001b[2m210\u001b[0m\u001b]8;;\u001b\\\n",
       "                             been deprecated since v0.\u001b[32m11.0\u001b[0m and is expected                   \n",
       "                             to be removed after v0.\u001b[32m13.0\u001b[0m. Use plot                           \n",
       "                             instead.                                                        \n"
      ]
     },
     "metadata": {},
     "output_type": "display_data"
    },
    {
     "name": "stderr",
     "output_type": "stream",
     "text": [
      "Animation 1: _MethodAnimation(ValueTracker):  59%|#####9    | 133/225 [00:52<01:01,  1.49it/s]"
     ]
    },
    {
     "data": {
      "text/html": [
       "<pre style=\"white-space:pre;overflow-x:auto;line-height:normal;font-family:Menlo,'DejaVu Sans Mono',consolas,'Courier New',monospace\"><span style=\"color: #7fbfbf; text-decoration-color: #7fbfbf\">[01/31/22 20:56:01] </span><span style=\"color: #800000; text-decoration-color: #800000\">WARNING </span> The method CoordinateSystem.get_graph has     <a href=\"file://C:\\Users\\thoma\\AppData\\Local\\Programs\\Python\\Python39\\lib\\site-packages\\manim\\utils\\deprecation.py\"><span style=\"color: #7f7f7f; text-decoration-color: #7f7f7f\">deprecation.py</span></a><span style=\"color: #7f7f7f; text-decoration-color: #7f7f7f\">:</span><a href=\"file://C:\\Users\\thoma\\AppData\\Local\\Programs\\Python\\Python39\\lib\\site-packages\\manim\\utils\\deprecation.py#210\"><span style=\"color: #7f7f7f; text-decoration-color: #7f7f7f\">210</span></a>\n",
       "                             been deprecated since v0.<span style=\"color: #008000; text-decoration-color: #008000\">11.0</span> and is expected                   \n",
       "                             to be removed after v0.<span style=\"color: #008000; text-decoration-color: #008000\">13.0</span>. Use plot                           \n",
       "                             instead.                                                        \n",
       "</pre>\n"
      ],
      "text/plain": [
       "\u001b[2;36m[01/31/22 20:56:01]\u001b[0m\u001b[2;36m \u001b[0m\u001b[31mWARNING \u001b[0m The method CoordinateSystem.get_graph has     \u001b]8;id=786653;file://C:\\Users\\thoma\\AppData\\Local\\Programs\\Python\\Python39\\lib\\site-packages\\manim\\utils\\deprecation.py\u001b\\\u001b[2mdeprecation.py\u001b[0m\u001b]8;;\u001b\\\u001b[2m:\u001b[0m\u001b]8;id=570726;file://C:\\Users\\thoma\\AppData\\Local\\Programs\\Python\\Python39\\lib\\site-packages\\manim\\utils\\deprecation.py#210\u001b\\\u001b[2m210\u001b[0m\u001b]8;;\u001b\\\n",
       "                             been deprecated since v0.\u001b[32m11.0\u001b[0m and is expected                   \n",
       "                             to be removed after v0.\u001b[32m13.0\u001b[0m. Use plot                           \n",
       "                             instead.                                                        \n"
      ]
     },
     "metadata": {},
     "output_type": "display_data"
    },
    {
     "name": "stderr",
     "output_type": "stream",
     "text": [
      "Animation 1: _MethodAnimation(ValueTracker):  60%|#####9    | 134/225 [00:53<00:59,  1.54it/s]"
     ]
    },
    {
     "data": {
      "text/html": [
       "<pre style=\"white-space:pre;overflow-x:auto;line-height:normal;font-family:Menlo,'DejaVu Sans Mono',consolas,'Courier New',monospace\"><span style=\"color: #7fbfbf; text-decoration-color: #7fbfbf\">                    </span><span style=\"color: #800000; text-decoration-color: #800000\">WARNING </span> The method CoordinateSystem.get_graph has     <a href=\"file://C:\\Users\\thoma\\AppData\\Local\\Programs\\Python\\Python39\\lib\\site-packages\\manim\\utils\\deprecation.py\"><span style=\"color: #7f7f7f; text-decoration-color: #7f7f7f\">deprecation.py</span></a><span style=\"color: #7f7f7f; text-decoration-color: #7f7f7f\">:</span><a href=\"file://C:\\Users\\thoma\\AppData\\Local\\Programs\\Python\\Python39\\lib\\site-packages\\manim\\utils\\deprecation.py#210\"><span style=\"color: #7f7f7f; text-decoration-color: #7f7f7f\">210</span></a>\n",
       "                             been deprecated since v0.<span style=\"color: #008000; text-decoration-color: #008000\">11.0</span> and is expected                   \n",
       "                             to be removed after v0.<span style=\"color: #008000; text-decoration-color: #008000\">13.0</span>. Use plot                           \n",
       "                             instead.                                                        \n",
       "</pre>\n"
      ],
      "text/plain": [
       "\u001b[2;36m                   \u001b[0m\u001b[2;36m \u001b[0m\u001b[31mWARNING \u001b[0m The method CoordinateSystem.get_graph has     \u001b]8;id=514016;file://C:\\Users\\thoma\\AppData\\Local\\Programs\\Python\\Python39\\lib\\site-packages\\manim\\utils\\deprecation.py\u001b\\\u001b[2mdeprecation.py\u001b[0m\u001b]8;;\u001b\\\u001b[2m:\u001b[0m\u001b]8;id=878278;file://C:\\Users\\thoma\\AppData\\Local\\Programs\\Python\\Python39\\lib\\site-packages\\manim\\utils\\deprecation.py#210\u001b\\\u001b[2m210\u001b[0m\u001b]8;;\u001b\\\n",
       "                             been deprecated since v0.\u001b[32m11.0\u001b[0m and is expected                   \n",
       "                             to be removed after v0.\u001b[32m13.0\u001b[0m. Use plot                           \n",
       "                             instead.                                                        \n"
      ]
     },
     "metadata": {},
     "output_type": "display_data"
    },
    {
     "name": "stderr",
     "output_type": "stream",
     "text": [
      "Animation 1: _MethodAnimation(ValueTracker):  60%|######    | 135/225 [00:54<00:54,  1.65it/s]"
     ]
    },
    {
     "data": {
      "text/html": [
       "<pre style=\"white-space:pre;overflow-x:auto;line-height:normal;font-family:Menlo,'DejaVu Sans Mono',consolas,'Courier New',monospace\"><span style=\"color: #7fbfbf; text-decoration-color: #7fbfbf\">[01/31/22 20:56:02] </span><span style=\"color: #800000; text-decoration-color: #800000\">WARNING </span> The method CoordinateSystem.get_graph has     <a href=\"file://C:\\Users\\thoma\\AppData\\Local\\Programs\\Python\\Python39\\lib\\site-packages\\manim\\utils\\deprecation.py\"><span style=\"color: #7f7f7f; text-decoration-color: #7f7f7f\">deprecation.py</span></a><span style=\"color: #7f7f7f; text-decoration-color: #7f7f7f\">:</span><a href=\"file://C:\\Users\\thoma\\AppData\\Local\\Programs\\Python\\Python39\\lib\\site-packages\\manim\\utils\\deprecation.py#210\"><span style=\"color: #7f7f7f; text-decoration-color: #7f7f7f\">210</span></a>\n",
       "                             been deprecated since v0.<span style=\"color: #008000; text-decoration-color: #008000\">11.0</span> and is expected                   \n",
       "                             to be removed after v0.<span style=\"color: #008000; text-decoration-color: #008000\">13.0</span>. Use plot                           \n",
       "                             instead.                                                        \n",
       "</pre>\n"
      ],
      "text/plain": [
       "\u001b[2;36m[01/31/22 20:56:02]\u001b[0m\u001b[2;36m \u001b[0m\u001b[31mWARNING \u001b[0m The method CoordinateSystem.get_graph has     \u001b]8;id=781079;file://C:\\Users\\thoma\\AppData\\Local\\Programs\\Python\\Python39\\lib\\site-packages\\manim\\utils\\deprecation.py\u001b\\\u001b[2mdeprecation.py\u001b[0m\u001b]8;;\u001b\\\u001b[2m:\u001b[0m\u001b]8;id=839610;file://C:\\Users\\thoma\\AppData\\Local\\Programs\\Python\\Python39\\lib\\site-packages\\manim\\utils\\deprecation.py#210\u001b\\\u001b[2m210\u001b[0m\u001b]8;;\u001b\\\n",
       "                             been deprecated since v0.\u001b[32m11.0\u001b[0m and is expected                   \n",
       "                             to be removed after v0.\u001b[32m13.0\u001b[0m. Use plot                           \n",
       "                             instead.                                                        \n"
      ]
     },
     "metadata": {},
     "output_type": "display_data"
    },
    {
     "name": "stderr",
     "output_type": "stream",
     "text": [
      "Animation 1: _MethodAnimation(ValueTracker):  60%|######    | 136/225 [00:54<00:51,  1.73it/s]"
     ]
    },
    {
     "data": {
      "text/html": [
       "<pre style=\"white-space:pre;overflow-x:auto;line-height:normal;font-family:Menlo,'DejaVu Sans Mono',consolas,'Courier New',monospace\"><span style=\"color: #7fbfbf; text-decoration-color: #7fbfbf\">                    </span><span style=\"color: #800000; text-decoration-color: #800000\">WARNING </span> The method CoordinateSystem.get_graph has     <a href=\"file://C:\\Users\\thoma\\AppData\\Local\\Programs\\Python\\Python39\\lib\\site-packages\\manim\\utils\\deprecation.py\"><span style=\"color: #7f7f7f; text-decoration-color: #7f7f7f\">deprecation.py</span></a><span style=\"color: #7f7f7f; text-decoration-color: #7f7f7f\">:</span><a href=\"file://C:\\Users\\thoma\\AppData\\Local\\Programs\\Python\\Python39\\lib\\site-packages\\manim\\utils\\deprecation.py#210\"><span style=\"color: #7f7f7f; text-decoration-color: #7f7f7f\">210</span></a>\n",
       "                             been deprecated since v0.<span style=\"color: #008000; text-decoration-color: #008000\">11.0</span> and is expected                   \n",
       "                             to be removed after v0.<span style=\"color: #008000; text-decoration-color: #008000\">13.0</span>. Use plot                           \n",
       "                             instead.                                                        \n",
       "</pre>\n"
      ],
      "text/plain": [
       "\u001b[2;36m                   \u001b[0m\u001b[2;36m \u001b[0m\u001b[31mWARNING \u001b[0m The method CoordinateSystem.get_graph has     \u001b]8;id=115330;file://C:\\Users\\thoma\\AppData\\Local\\Programs\\Python\\Python39\\lib\\site-packages\\manim\\utils\\deprecation.py\u001b\\\u001b[2mdeprecation.py\u001b[0m\u001b]8;;\u001b\\\u001b[2m:\u001b[0m\u001b]8;id=962601;file://C:\\Users\\thoma\\AppData\\Local\\Programs\\Python\\Python39\\lib\\site-packages\\manim\\utils\\deprecation.py#210\u001b\\\u001b[2m210\u001b[0m\u001b]8;;\u001b\\\n",
       "                             been deprecated since v0.\u001b[32m11.0\u001b[0m and is expected                   \n",
       "                             to be removed after v0.\u001b[32m13.0\u001b[0m. Use plot                           \n",
       "                             instead.                                                        \n"
      ]
     },
     "metadata": {},
     "output_type": "display_data"
    },
    {
     "name": "stderr",
     "output_type": "stream",
     "text": [
      "Animation 1: _MethodAnimation(ValueTracker):  61%|######    | 137/225 [00:55<00:49,  1.78it/s]"
     ]
    },
    {
     "data": {
      "text/html": [
       "<pre style=\"white-space:pre;overflow-x:auto;line-height:normal;font-family:Menlo,'DejaVu Sans Mono',consolas,'Courier New',monospace\"><span style=\"color: #7fbfbf; text-decoration-color: #7fbfbf\">[01/31/22 20:56:03] </span><span style=\"color: #800000; text-decoration-color: #800000\">WARNING </span> The method CoordinateSystem.get_graph has     <a href=\"file://C:\\Users\\thoma\\AppData\\Local\\Programs\\Python\\Python39\\lib\\site-packages\\manim\\utils\\deprecation.py\"><span style=\"color: #7f7f7f; text-decoration-color: #7f7f7f\">deprecation.py</span></a><span style=\"color: #7f7f7f; text-decoration-color: #7f7f7f\">:</span><a href=\"file://C:\\Users\\thoma\\AppData\\Local\\Programs\\Python\\Python39\\lib\\site-packages\\manim\\utils\\deprecation.py#210\"><span style=\"color: #7f7f7f; text-decoration-color: #7f7f7f\">210</span></a>\n",
       "                             been deprecated since v0.<span style=\"color: #008000; text-decoration-color: #008000\">11.0</span> and is expected                   \n",
       "                             to be removed after v0.<span style=\"color: #008000; text-decoration-color: #008000\">13.0</span>. Use plot                           \n",
       "                             instead.                                                        \n",
       "</pre>\n"
      ],
      "text/plain": [
       "\u001b[2;36m[01/31/22 20:56:03]\u001b[0m\u001b[2;36m \u001b[0m\u001b[31mWARNING \u001b[0m The method CoordinateSystem.get_graph has     \u001b]8;id=58336;file://C:\\Users\\thoma\\AppData\\Local\\Programs\\Python\\Python39\\lib\\site-packages\\manim\\utils\\deprecation.py\u001b\\\u001b[2mdeprecation.py\u001b[0m\u001b]8;;\u001b\\\u001b[2m:\u001b[0m\u001b]8;id=27598;file://C:\\Users\\thoma\\AppData\\Local\\Programs\\Python\\Python39\\lib\\site-packages\\manim\\utils\\deprecation.py#210\u001b\\\u001b[2m210\u001b[0m\u001b]8;;\u001b\\\n",
       "                             been deprecated since v0.\u001b[32m11.0\u001b[0m and is expected                   \n",
       "                             to be removed after v0.\u001b[32m13.0\u001b[0m. Use plot                           \n",
       "                             instead.                                                        \n"
      ]
     },
     "metadata": {},
     "output_type": "display_data"
    },
    {
     "name": "stderr",
     "output_type": "stream",
     "text": [
      "Animation 1: _MethodAnimation(ValueTracker):  61%|######1   | 138/225 [00:55<00:47,  1.83it/s]"
     ]
    },
    {
     "data": {
      "text/html": [
       "<pre style=\"white-space:pre;overflow-x:auto;line-height:normal;font-family:Menlo,'DejaVu Sans Mono',consolas,'Courier New',monospace\"><span style=\"color: #7fbfbf; text-decoration-color: #7fbfbf\">                    </span><span style=\"color: #800000; text-decoration-color: #800000\">WARNING </span> The method CoordinateSystem.get_graph has     <a href=\"file://C:\\Users\\thoma\\AppData\\Local\\Programs\\Python\\Python39\\lib\\site-packages\\manim\\utils\\deprecation.py\"><span style=\"color: #7f7f7f; text-decoration-color: #7f7f7f\">deprecation.py</span></a><span style=\"color: #7f7f7f; text-decoration-color: #7f7f7f\">:</span><a href=\"file://C:\\Users\\thoma\\AppData\\Local\\Programs\\Python\\Python39\\lib\\site-packages\\manim\\utils\\deprecation.py#210\"><span style=\"color: #7f7f7f; text-decoration-color: #7f7f7f\">210</span></a>\n",
       "                             been deprecated since v0.<span style=\"color: #008000; text-decoration-color: #008000\">11.0</span> and is expected                   \n",
       "                             to be removed after v0.<span style=\"color: #008000; text-decoration-color: #008000\">13.0</span>. Use plot                           \n",
       "                             instead.                                                        \n",
       "</pre>\n"
      ],
      "text/plain": [
       "\u001b[2;36m                   \u001b[0m\u001b[2;36m \u001b[0m\u001b[31mWARNING \u001b[0m The method CoordinateSystem.get_graph has     \u001b]8;id=710263;file://C:\\Users\\thoma\\AppData\\Local\\Programs\\Python\\Python39\\lib\\site-packages\\manim\\utils\\deprecation.py\u001b\\\u001b[2mdeprecation.py\u001b[0m\u001b]8;;\u001b\\\u001b[2m:\u001b[0m\u001b]8;id=186523;file://C:\\Users\\thoma\\AppData\\Local\\Programs\\Python\\Python39\\lib\\site-packages\\manim\\utils\\deprecation.py#210\u001b\\\u001b[2m210\u001b[0m\u001b]8;;\u001b\\\n",
       "                             been deprecated since v0.\u001b[32m11.0\u001b[0m and is expected                   \n",
       "                             to be removed after v0.\u001b[32m13.0\u001b[0m. Use plot                           \n",
       "                             instead.                                                        \n"
      ]
     },
     "metadata": {},
     "output_type": "display_data"
    },
    {
     "name": "stderr",
     "output_type": "stream",
     "text": [
      "Animation 1: _MethodAnimation(ValueTracker):  62%|######1   | 139/225 [00:56<00:52,  1.64it/s]"
     ]
    },
    {
     "data": {
      "text/html": [
       "<pre style=\"white-space:pre;overflow-x:auto;line-height:normal;font-family:Menlo,'DejaVu Sans Mono',consolas,'Courier New',monospace\"><span style=\"color: #7fbfbf; text-decoration-color: #7fbfbf\">[01/31/22 20:56:04] </span><span style=\"color: #800000; text-decoration-color: #800000\">WARNING </span> The method CoordinateSystem.get_graph has     <a href=\"file://C:\\Users\\thoma\\AppData\\Local\\Programs\\Python\\Python39\\lib\\site-packages\\manim\\utils\\deprecation.py\"><span style=\"color: #7f7f7f; text-decoration-color: #7f7f7f\">deprecation.py</span></a><span style=\"color: #7f7f7f; text-decoration-color: #7f7f7f\">:</span><a href=\"file://C:\\Users\\thoma\\AppData\\Local\\Programs\\Python\\Python39\\lib\\site-packages\\manim\\utils\\deprecation.py#210\"><span style=\"color: #7f7f7f; text-decoration-color: #7f7f7f\">210</span></a>\n",
       "                             been deprecated since v0.<span style=\"color: #008000; text-decoration-color: #008000\">11.0</span> and is expected                   \n",
       "                             to be removed after v0.<span style=\"color: #008000; text-decoration-color: #008000\">13.0</span>. Use plot                           \n",
       "                             instead.                                                        \n",
       "</pre>\n"
      ],
      "text/plain": [
       "\u001b[2;36m[01/31/22 20:56:04]\u001b[0m\u001b[2;36m \u001b[0m\u001b[31mWARNING \u001b[0m The method CoordinateSystem.get_graph has     \u001b]8;id=906642;file://C:\\Users\\thoma\\AppData\\Local\\Programs\\Python\\Python39\\lib\\site-packages\\manim\\utils\\deprecation.py\u001b\\\u001b[2mdeprecation.py\u001b[0m\u001b]8;;\u001b\\\u001b[2m:\u001b[0m\u001b]8;id=893511;file://C:\\Users\\thoma\\AppData\\Local\\Programs\\Python\\Python39\\lib\\site-packages\\manim\\utils\\deprecation.py#210\u001b\\\u001b[2m210\u001b[0m\u001b]8;;\u001b\\\n",
       "                             been deprecated since v0.\u001b[32m11.0\u001b[0m and is expected                   \n",
       "                             to be removed after v0.\u001b[32m13.0\u001b[0m. Use plot                           \n",
       "                             instead.                                                        \n"
      ]
     },
     "metadata": {},
     "output_type": "display_data"
    },
    {
     "name": "stderr",
     "output_type": "stream",
     "text": [
      "Animation 1: _MethodAnimation(ValueTracker):  62%|######2   | 140/225 [00:57<01:03,  1.33it/s]"
     ]
    },
    {
     "data": {
      "text/html": [
       "<pre style=\"white-space:pre;overflow-x:auto;line-height:normal;font-family:Menlo,'DejaVu Sans Mono',consolas,'Courier New',monospace\"><span style=\"color: #7fbfbf; text-decoration-color: #7fbfbf\">[01/31/22 20:56:05] </span><span style=\"color: #800000; text-decoration-color: #800000\">WARNING </span> The method CoordinateSystem.get_graph has     <a href=\"file://C:\\Users\\thoma\\AppData\\Local\\Programs\\Python\\Python39\\lib\\site-packages\\manim\\utils\\deprecation.py\"><span style=\"color: #7f7f7f; text-decoration-color: #7f7f7f\">deprecation.py</span></a><span style=\"color: #7f7f7f; text-decoration-color: #7f7f7f\">:</span><a href=\"file://C:\\Users\\thoma\\AppData\\Local\\Programs\\Python\\Python39\\lib\\site-packages\\manim\\utils\\deprecation.py#210\"><span style=\"color: #7f7f7f; text-decoration-color: #7f7f7f\">210</span></a>\n",
       "                             been deprecated since v0.<span style=\"color: #008000; text-decoration-color: #008000\">11.0</span> and is expected                   \n",
       "                             to be removed after v0.<span style=\"color: #008000; text-decoration-color: #008000\">13.0</span>. Use plot                           \n",
       "                             instead.                                                        \n",
       "</pre>\n"
      ],
      "text/plain": [
       "\u001b[2;36m[01/31/22 20:56:05]\u001b[0m\u001b[2;36m \u001b[0m\u001b[31mWARNING \u001b[0m The method CoordinateSystem.get_graph has     \u001b]8;id=356627;file://C:\\Users\\thoma\\AppData\\Local\\Programs\\Python\\Python39\\lib\\site-packages\\manim\\utils\\deprecation.py\u001b\\\u001b[2mdeprecation.py\u001b[0m\u001b]8;;\u001b\\\u001b[2m:\u001b[0m\u001b]8;id=239785;file://C:\\Users\\thoma\\AppData\\Local\\Programs\\Python\\Python39\\lib\\site-packages\\manim\\utils\\deprecation.py#210\u001b\\\u001b[2m210\u001b[0m\u001b]8;;\u001b\\\n",
       "                             been deprecated since v0.\u001b[32m11.0\u001b[0m and is expected                   \n",
       "                             to be removed after v0.\u001b[32m13.0\u001b[0m. Use plot                           \n",
       "                             instead.                                                        \n"
      ]
     },
     "metadata": {},
     "output_type": "display_data"
    },
    {
     "name": "stderr",
     "output_type": "stream",
     "text": [
      "Animation 1: _MethodAnimation(ValueTracker):  63%|######2   | 141/225 [00:58<01:02,  1.35it/s]"
     ]
    },
    {
     "data": {
      "text/html": [
       "<pre style=\"white-space:pre;overflow-x:auto;line-height:normal;font-family:Menlo,'DejaVu Sans Mono',consolas,'Courier New',monospace\"><span style=\"color: #7fbfbf; text-decoration-color: #7fbfbf\">[01/31/22 20:56:06] </span><span style=\"color: #800000; text-decoration-color: #800000\">WARNING </span> The method CoordinateSystem.get_graph has     <a href=\"file://C:\\Users\\thoma\\AppData\\Local\\Programs\\Python\\Python39\\lib\\site-packages\\manim\\utils\\deprecation.py\"><span style=\"color: #7f7f7f; text-decoration-color: #7f7f7f\">deprecation.py</span></a><span style=\"color: #7f7f7f; text-decoration-color: #7f7f7f\">:</span><a href=\"file://C:\\Users\\thoma\\AppData\\Local\\Programs\\Python\\Python39\\lib\\site-packages\\manim\\utils\\deprecation.py#210\"><span style=\"color: #7f7f7f; text-decoration-color: #7f7f7f\">210</span></a>\n",
       "                             been deprecated since v0.<span style=\"color: #008000; text-decoration-color: #008000\">11.0</span> and is expected                   \n",
       "                             to be removed after v0.<span style=\"color: #008000; text-decoration-color: #008000\">13.0</span>. Use plot                           \n",
       "                             instead.                                                        \n",
       "</pre>\n"
      ],
      "text/plain": [
       "\u001b[2;36m[01/31/22 20:56:06]\u001b[0m\u001b[2;36m \u001b[0m\u001b[31mWARNING \u001b[0m The method CoordinateSystem.get_graph has     \u001b]8;id=564315;file://C:\\Users\\thoma\\AppData\\Local\\Programs\\Python\\Python39\\lib\\site-packages\\manim\\utils\\deprecation.py\u001b\\\u001b[2mdeprecation.py\u001b[0m\u001b]8;;\u001b\\\u001b[2m:\u001b[0m\u001b]8;id=544840;file://C:\\Users\\thoma\\AppData\\Local\\Programs\\Python\\Python39\\lib\\site-packages\\manim\\utils\\deprecation.py#210\u001b\\\u001b[2m210\u001b[0m\u001b]8;;\u001b\\\n",
       "                             been deprecated since v0.\u001b[32m11.0\u001b[0m and is expected                   \n",
       "                             to be removed after v0.\u001b[32m13.0\u001b[0m. Use plot                           \n",
       "                             instead.                                                        \n"
      ]
     },
     "metadata": {},
     "output_type": "display_data"
    },
    {
     "name": "stderr",
     "output_type": "stream",
     "text": [
      "Animation 1: _MethodAnimation(ValueTracker):  63%|######3   | 142/225 [00:58<00:55,  1.48it/s]"
     ]
    },
    {
     "data": {
      "text/html": [
       "<pre style=\"white-space:pre;overflow-x:auto;line-height:normal;font-family:Menlo,'DejaVu Sans Mono',consolas,'Courier New',monospace\"><span style=\"color: #7fbfbf; text-decoration-color: #7fbfbf\">                    </span><span style=\"color: #800000; text-decoration-color: #800000\">WARNING </span> The method CoordinateSystem.get_graph has     <a href=\"file://C:\\Users\\thoma\\AppData\\Local\\Programs\\Python\\Python39\\lib\\site-packages\\manim\\utils\\deprecation.py\"><span style=\"color: #7f7f7f; text-decoration-color: #7f7f7f\">deprecation.py</span></a><span style=\"color: #7f7f7f; text-decoration-color: #7f7f7f\">:</span><a href=\"file://C:\\Users\\thoma\\AppData\\Local\\Programs\\Python\\Python39\\lib\\site-packages\\manim\\utils\\deprecation.py#210\"><span style=\"color: #7f7f7f; text-decoration-color: #7f7f7f\">210</span></a>\n",
       "                             been deprecated since v0.<span style=\"color: #008000; text-decoration-color: #008000\">11.0</span> and is expected                   \n",
       "                             to be removed after v0.<span style=\"color: #008000; text-decoration-color: #008000\">13.0</span>. Use plot                           \n",
       "                             instead.                                                        \n",
       "</pre>\n"
      ],
      "text/plain": [
       "\u001b[2;36m                   \u001b[0m\u001b[2;36m \u001b[0m\u001b[31mWARNING \u001b[0m The method CoordinateSystem.get_graph has     \u001b]8;id=166325;file://C:\\Users\\thoma\\AppData\\Local\\Programs\\Python\\Python39\\lib\\site-packages\\manim\\utils\\deprecation.py\u001b\\\u001b[2mdeprecation.py\u001b[0m\u001b]8;;\u001b\\\u001b[2m:\u001b[0m\u001b]8;id=172775;file://C:\\Users\\thoma\\AppData\\Local\\Programs\\Python\\Python39\\lib\\site-packages\\manim\\utils\\deprecation.py#210\u001b\\\u001b[2m210\u001b[0m\u001b]8;;\u001b\\\n",
       "                             been deprecated since v0.\u001b[32m11.0\u001b[0m and is expected                   \n",
       "                             to be removed after v0.\u001b[32m13.0\u001b[0m. Use plot                           \n",
       "                             instead.                                                        \n"
      ]
     },
     "metadata": {},
     "output_type": "display_data"
    },
    {
     "name": "stderr",
     "output_type": "stream",
     "text": [
      "Animation 1: _MethodAnimation(ValueTracker):  64%|######3   | 143/225 [00:59<00:51,  1.60it/s]"
     ]
    },
    {
     "data": {
      "text/html": [
       "<pre style=\"white-space:pre;overflow-x:auto;line-height:normal;font-family:Menlo,'DejaVu Sans Mono',consolas,'Courier New',monospace\"><span style=\"color: #7fbfbf; text-decoration-color: #7fbfbf\">[01/31/22 20:56:07] </span><span style=\"color: #800000; text-decoration-color: #800000\">WARNING </span> The method CoordinateSystem.get_graph has     <a href=\"file://C:\\Users\\thoma\\AppData\\Local\\Programs\\Python\\Python39\\lib\\site-packages\\manim\\utils\\deprecation.py\"><span style=\"color: #7f7f7f; text-decoration-color: #7f7f7f\">deprecation.py</span></a><span style=\"color: #7f7f7f; text-decoration-color: #7f7f7f\">:</span><a href=\"file://C:\\Users\\thoma\\AppData\\Local\\Programs\\Python\\Python39\\lib\\site-packages\\manim\\utils\\deprecation.py#210\"><span style=\"color: #7f7f7f; text-decoration-color: #7f7f7f\">210</span></a>\n",
       "                             been deprecated since v0.<span style=\"color: #008000; text-decoration-color: #008000\">11.0</span> and is expected                   \n",
       "                             to be removed after v0.<span style=\"color: #008000; text-decoration-color: #008000\">13.0</span>. Use plot                           \n",
       "                             instead.                                                        \n",
       "</pre>\n"
      ],
      "text/plain": [
       "\u001b[2;36m[01/31/22 20:56:07]\u001b[0m\u001b[2;36m \u001b[0m\u001b[31mWARNING \u001b[0m The method CoordinateSystem.get_graph has     \u001b]8;id=888391;file://C:\\Users\\thoma\\AppData\\Local\\Programs\\Python\\Python39\\lib\\site-packages\\manim\\utils\\deprecation.py\u001b\\\u001b[2mdeprecation.py\u001b[0m\u001b]8;;\u001b\\\u001b[2m:\u001b[0m\u001b]8;id=822646;file://C:\\Users\\thoma\\AppData\\Local\\Programs\\Python\\Python39\\lib\\site-packages\\manim\\utils\\deprecation.py#210\u001b\\\u001b[2m210\u001b[0m\u001b]8;;\u001b\\\n",
       "                             been deprecated since v0.\u001b[32m11.0\u001b[0m and is expected                   \n",
       "                             to be removed after v0.\u001b[32m13.0\u001b[0m. Use plot                           \n",
       "                             instead.                                                        \n"
      ]
     },
     "metadata": {},
     "output_type": "display_data"
    },
    {
     "name": "stderr",
     "output_type": "stream",
     "text": [
      "Animation 1: _MethodAnimation(ValueTracker):  64%|######4   | 144/225 [00:59<00:48,  1.67it/s]"
     ]
    },
    {
     "data": {
      "text/html": [
       "<pre style=\"white-space:pre;overflow-x:auto;line-height:normal;font-family:Menlo,'DejaVu Sans Mono',consolas,'Courier New',monospace\"><span style=\"color: #7fbfbf; text-decoration-color: #7fbfbf\">                    </span><span style=\"color: #800000; text-decoration-color: #800000\">WARNING </span> The method CoordinateSystem.get_graph has     <a href=\"file://C:\\Users\\thoma\\AppData\\Local\\Programs\\Python\\Python39\\lib\\site-packages\\manim\\utils\\deprecation.py\"><span style=\"color: #7f7f7f; text-decoration-color: #7f7f7f\">deprecation.py</span></a><span style=\"color: #7f7f7f; text-decoration-color: #7f7f7f\">:</span><a href=\"file://C:\\Users\\thoma\\AppData\\Local\\Programs\\Python\\Python39\\lib\\site-packages\\manim\\utils\\deprecation.py#210\"><span style=\"color: #7f7f7f; text-decoration-color: #7f7f7f\">210</span></a>\n",
       "                             been deprecated since v0.<span style=\"color: #008000; text-decoration-color: #008000\">11.0</span> and is expected                   \n",
       "                             to be removed after v0.<span style=\"color: #008000; text-decoration-color: #008000\">13.0</span>. Use plot                           \n",
       "                             instead.                                                        \n",
       "</pre>\n"
      ],
      "text/plain": [
       "\u001b[2;36m                   \u001b[0m\u001b[2;36m \u001b[0m\u001b[31mWARNING \u001b[0m The method CoordinateSystem.get_graph has     \u001b]8;id=8658;file://C:\\Users\\thoma\\AppData\\Local\\Programs\\Python\\Python39\\lib\\site-packages\\manim\\utils\\deprecation.py\u001b\\\u001b[2mdeprecation.py\u001b[0m\u001b]8;;\u001b\\\u001b[2m:\u001b[0m\u001b]8;id=991807;file://C:\\Users\\thoma\\AppData\\Local\\Programs\\Python\\Python39\\lib\\site-packages\\manim\\utils\\deprecation.py#210\u001b\\\u001b[2m210\u001b[0m\u001b]8;;\u001b\\\n",
       "                             been deprecated since v0.\u001b[32m11.0\u001b[0m and is expected                   \n",
       "                             to be removed after v0.\u001b[32m13.0\u001b[0m. Use plot                           \n",
       "                             instead.                                                        \n"
      ]
     },
     "metadata": {},
     "output_type": "display_data"
    },
    {
     "name": "stderr",
     "output_type": "stream",
     "text": [
      "Animation 1: _MethodAnimation(ValueTracker):  64%|######4   | 145/225 [01:00<00:48,  1.64it/s]"
     ]
    },
    {
     "data": {
      "text/html": [
       "<pre style=\"white-space:pre;overflow-x:auto;line-height:normal;font-family:Menlo,'DejaVu Sans Mono',consolas,'Courier New',monospace\"><span style=\"color: #7fbfbf; text-decoration-color: #7fbfbf\">[01/31/22 20:56:08] </span><span style=\"color: #800000; text-decoration-color: #800000\">WARNING </span> The method CoordinateSystem.get_graph has     <a href=\"file://C:\\Users\\thoma\\AppData\\Local\\Programs\\Python\\Python39\\lib\\site-packages\\manim\\utils\\deprecation.py\"><span style=\"color: #7f7f7f; text-decoration-color: #7f7f7f\">deprecation.py</span></a><span style=\"color: #7f7f7f; text-decoration-color: #7f7f7f\">:</span><a href=\"file://C:\\Users\\thoma\\AppData\\Local\\Programs\\Python\\Python39\\lib\\site-packages\\manim\\utils\\deprecation.py#210\"><span style=\"color: #7f7f7f; text-decoration-color: #7f7f7f\">210</span></a>\n",
       "                             been deprecated since v0.<span style=\"color: #008000; text-decoration-color: #008000\">11.0</span> and is expected                   \n",
       "                             to be removed after v0.<span style=\"color: #008000; text-decoration-color: #008000\">13.0</span>. Use plot                           \n",
       "                             instead.                                                        \n",
       "</pre>\n"
      ],
      "text/plain": [
       "\u001b[2;36m[01/31/22 20:56:08]\u001b[0m\u001b[2;36m \u001b[0m\u001b[31mWARNING \u001b[0m The method CoordinateSystem.get_graph has     \u001b]8;id=70320;file://C:\\Users\\thoma\\AppData\\Local\\Programs\\Python\\Python39\\lib\\site-packages\\manim\\utils\\deprecation.py\u001b\\\u001b[2mdeprecation.py\u001b[0m\u001b]8;;\u001b\\\u001b[2m:\u001b[0m\u001b]8;id=593929;file://C:\\Users\\thoma\\AppData\\Local\\Programs\\Python\\Python39\\lib\\site-packages\\manim\\utils\\deprecation.py#210\u001b\\\u001b[2m210\u001b[0m\u001b]8;;\u001b\\\n",
       "                             been deprecated since v0.\u001b[32m11.0\u001b[0m and is expected                   \n",
       "                             to be removed after v0.\u001b[32m13.0\u001b[0m. Use plot                           \n",
       "                             instead.                                                        \n"
      ]
     },
     "metadata": {},
     "output_type": "display_data"
    },
    {
     "name": "stderr",
     "output_type": "stream",
     "text": [
      "Animation 1: _MethodAnimation(ValueTracker):  65%|######4   | 146/225 [01:00<00:46,  1.69it/s]"
     ]
    },
    {
     "data": {
      "text/html": [
       "<pre style=\"white-space:pre;overflow-x:auto;line-height:normal;font-family:Menlo,'DejaVu Sans Mono',consolas,'Courier New',monospace\"><span style=\"color: #7fbfbf; text-decoration-color: #7fbfbf\">[01/31/22 20:56:09] </span><span style=\"color: #800000; text-decoration-color: #800000\">WARNING </span> The method CoordinateSystem.get_graph has     <a href=\"file://C:\\Users\\thoma\\AppData\\Local\\Programs\\Python\\Python39\\lib\\site-packages\\manim\\utils\\deprecation.py\"><span style=\"color: #7f7f7f; text-decoration-color: #7f7f7f\">deprecation.py</span></a><span style=\"color: #7f7f7f; text-decoration-color: #7f7f7f\">:</span><a href=\"file://C:\\Users\\thoma\\AppData\\Local\\Programs\\Python\\Python39\\lib\\site-packages\\manim\\utils\\deprecation.py#210\"><span style=\"color: #7f7f7f; text-decoration-color: #7f7f7f\">210</span></a>\n",
       "                             been deprecated since v0.<span style=\"color: #008000; text-decoration-color: #008000\">11.0</span> and is expected                   \n",
       "                             to be removed after v0.<span style=\"color: #008000; text-decoration-color: #008000\">13.0</span>. Use plot                           \n",
       "                             instead.                                                        \n",
       "</pre>\n"
      ],
      "text/plain": [
       "\u001b[2;36m[01/31/22 20:56:09]\u001b[0m\u001b[2;36m \u001b[0m\u001b[31mWARNING \u001b[0m The method CoordinateSystem.get_graph has     \u001b]8;id=507974;file://C:\\Users\\thoma\\AppData\\Local\\Programs\\Python\\Python39\\lib\\site-packages\\manim\\utils\\deprecation.py\u001b\\\u001b[2mdeprecation.py\u001b[0m\u001b]8;;\u001b\\\u001b[2m:\u001b[0m\u001b]8;id=328003;file://C:\\Users\\thoma\\AppData\\Local\\Programs\\Python\\Python39\\lib\\site-packages\\manim\\utils\\deprecation.py#210\u001b\\\u001b[2m210\u001b[0m\u001b]8;;\u001b\\\n",
       "                             been deprecated since v0.\u001b[32m11.0\u001b[0m and is expected                   \n",
       "                             to be removed after v0.\u001b[32m13.0\u001b[0m. Use plot                           \n",
       "                             instead.                                                        \n"
      ]
     },
     "metadata": {},
     "output_type": "display_data"
    },
    {
     "name": "stderr",
     "output_type": "stream",
     "text": [
      "Animation 1: _MethodAnimation(ValueTracker):  65%|######5   | 147/225 [01:01<00:44,  1.77it/s]"
     ]
    },
    {
     "data": {
      "text/html": [
       "<pre style=\"white-space:pre;overflow-x:auto;line-height:normal;font-family:Menlo,'DejaVu Sans Mono',consolas,'Courier New',monospace\"><span style=\"color: #7fbfbf; text-decoration-color: #7fbfbf\">                    </span><span style=\"color: #800000; text-decoration-color: #800000\">WARNING </span> The method CoordinateSystem.get_graph has     <a href=\"file://C:\\Users\\thoma\\AppData\\Local\\Programs\\Python\\Python39\\lib\\site-packages\\manim\\utils\\deprecation.py\"><span style=\"color: #7f7f7f; text-decoration-color: #7f7f7f\">deprecation.py</span></a><span style=\"color: #7f7f7f; text-decoration-color: #7f7f7f\">:</span><a href=\"file://C:\\Users\\thoma\\AppData\\Local\\Programs\\Python\\Python39\\lib\\site-packages\\manim\\utils\\deprecation.py#210\"><span style=\"color: #7f7f7f; text-decoration-color: #7f7f7f\">210</span></a>\n",
       "                             been deprecated since v0.<span style=\"color: #008000; text-decoration-color: #008000\">11.0</span> and is expected                   \n",
       "                             to be removed after v0.<span style=\"color: #008000; text-decoration-color: #008000\">13.0</span>. Use plot                           \n",
       "                             instead.                                                        \n",
       "</pre>\n"
      ],
      "text/plain": [
       "\u001b[2;36m                   \u001b[0m\u001b[2;36m \u001b[0m\u001b[31mWARNING \u001b[0m The method CoordinateSystem.get_graph has     \u001b]8;id=882077;file://C:\\Users\\thoma\\AppData\\Local\\Programs\\Python\\Python39\\lib\\site-packages\\manim\\utils\\deprecation.py\u001b\\\u001b[2mdeprecation.py\u001b[0m\u001b]8;;\u001b\\\u001b[2m:\u001b[0m\u001b]8;id=929806;file://C:\\Users\\thoma\\AppData\\Local\\Programs\\Python\\Python39\\lib\\site-packages\\manim\\utils\\deprecation.py#210\u001b\\\u001b[2m210\u001b[0m\u001b]8;;\u001b\\\n",
       "                             been deprecated since v0.\u001b[32m11.0\u001b[0m and is expected                   \n",
       "                             to be removed after v0.\u001b[32m13.0\u001b[0m. Use plot                           \n",
       "                             instead.                                                        \n"
      ]
     },
     "metadata": {},
     "output_type": "display_data"
    },
    {
     "name": "stderr",
     "output_type": "stream",
     "text": [
      "Animation 1: _MethodAnimation(ValueTracker):  66%|######5   | 148/225 [01:01<00:42,  1.80it/s]"
     ]
    },
    {
     "data": {
      "text/html": [
       "<pre style=\"white-space:pre;overflow-x:auto;line-height:normal;font-family:Menlo,'DejaVu Sans Mono',consolas,'Courier New',monospace\"><span style=\"color: #7fbfbf; text-decoration-color: #7fbfbf\">[01/31/22 20:56:10] </span><span style=\"color: #800000; text-decoration-color: #800000\">WARNING </span> The method CoordinateSystem.get_graph has     <a href=\"file://C:\\Users\\thoma\\AppData\\Local\\Programs\\Python\\Python39\\lib\\site-packages\\manim\\utils\\deprecation.py\"><span style=\"color: #7f7f7f; text-decoration-color: #7f7f7f\">deprecation.py</span></a><span style=\"color: #7f7f7f; text-decoration-color: #7f7f7f\">:</span><a href=\"file://C:\\Users\\thoma\\AppData\\Local\\Programs\\Python\\Python39\\lib\\site-packages\\manim\\utils\\deprecation.py#210\"><span style=\"color: #7f7f7f; text-decoration-color: #7f7f7f\">210</span></a>\n",
       "                             been deprecated since v0.<span style=\"color: #008000; text-decoration-color: #008000\">11.0</span> and is expected                   \n",
       "                             to be removed after v0.<span style=\"color: #008000; text-decoration-color: #008000\">13.0</span>. Use plot                           \n",
       "                             instead.                                                        \n",
       "</pre>\n"
      ],
      "text/plain": [
       "\u001b[2;36m[01/31/22 20:56:10]\u001b[0m\u001b[2;36m \u001b[0m\u001b[31mWARNING \u001b[0m The method CoordinateSystem.get_graph has     \u001b]8;id=76625;file://C:\\Users\\thoma\\AppData\\Local\\Programs\\Python\\Python39\\lib\\site-packages\\manim\\utils\\deprecation.py\u001b\\\u001b[2mdeprecation.py\u001b[0m\u001b]8;;\u001b\\\u001b[2m:\u001b[0m\u001b]8;id=780015;file://C:\\Users\\thoma\\AppData\\Local\\Programs\\Python\\Python39\\lib\\site-packages\\manim\\utils\\deprecation.py#210\u001b\\\u001b[2m210\u001b[0m\u001b]8;;\u001b\\\n",
       "                             been deprecated since v0.\u001b[32m11.0\u001b[0m and is expected                   \n",
       "                             to be removed after v0.\u001b[32m13.0\u001b[0m. Use plot                           \n",
       "                             instead.                                                        \n"
      ]
     },
     "metadata": {},
     "output_type": "display_data"
    },
    {
     "name": "stderr",
     "output_type": "stream",
     "text": [
      "Animation 1: _MethodAnimation(ValueTracker):  66%|######6   | 149/225 [01:02<00:45,  1.68it/s]"
     ]
    },
    {
     "data": {
      "text/html": [
       "<pre style=\"white-space:pre;overflow-x:auto;line-height:normal;font-family:Menlo,'DejaVu Sans Mono',consolas,'Courier New',monospace\"><span style=\"color: #7fbfbf; text-decoration-color: #7fbfbf\">                    </span><span style=\"color: #800000; text-decoration-color: #800000\">WARNING </span> The method CoordinateSystem.get_graph has     <a href=\"file://C:\\Users\\thoma\\AppData\\Local\\Programs\\Python\\Python39\\lib\\site-packages\\manim\\utils\\deprecation.py\"><span style=\"color: #7f7f7f; text-decoration-color: #7f7f7f\">deprecation.py</span></a><span style=\"color: #7f7f7f; text-decoration-color: #7f7f7f\">:</span><a href=\"file://C:\\Users\\thoma\\AppData\\Local\\Programs\\Python\\Python39\\lib\\site-packages\\manim\\utils\\deprecation.py#210\"><span style=\"color: #7f7f7f; text-decoration-color: #7f7f7f\">210</span></a>\n",
       "                             been deprecated since v0.<span style=\"color: #008000; text-decoration-color: #008000\">11.0</span> and is expected                   \n",
       "                             to be removed after v0.<span style=\"color: #008000; text-decoration-color: #008000\">13.0</span>. Use plot                           \n",
       "                             instead.                                                        \n",
       "</pre>\n"
      ],
      "text/plain": [
       "\u001b[2;36m                   \u001b[0m\u001b[2;36m \u001b[0m\u001b[31mWARNING \u001b[0m The method CoordinateSystem.get_graph has     \u001b]8;id=604447;file://C:\\Users\\thoma\\AppData\\Local\\Programs\\Python\\Python39\\lib\\site-packages\\manim\\utils\\deprecation.py\u001b\\\u001b[2mdeprecation.py\u001b[0m\u001b]8;;\u001b\\\u001b[2m:\u001b[0m\u001b]8;id=78268;file://C:\\Users\\thoma\\AppData\\Local\\Programs\\Python\\Python39\\lib\\site-packages\\manim\\utils\\deprecation.py#210\u001b\\\u001b[2m210\u001b[0m\u001b]8;;\u001b\\\n",
       "                             been deprecated since v0.\u001b[32m11.0\u001b[0m and is expected                   \n",
       "                             to be removed after v0.\u001b[32m13.0\u001b[0m. Use plot                           \n",
       "                             instead.                                                        \n"
      ]
     },
     "metadata": {},
     "output_type": "display_data"
    },
    {
     "name": "stderr",
     "output_type": "stream",
     "text": [
      "Animation 1: _MethodAnimation(ValueTracker):  67%|######6   | 150/225 [01:03<00:46,  1.63it/s]"
     ]
    },
    {
     "data": {
      "text/html": [
       "<pre style=\"white-space:pre;overflow-x:auto;line-height:normal;font-family:Menlo,'DejaVu Sans Mono',consolas,'Courier New',monospace\"><span style=\"color: #7fbfbf; text-decoration-color: #7fbfbf\">[01/31/22 20:56:11] </span><span style=\"color: #800000; text-decoration-color: #800000\">WARNING </span> The method CoordinateSystem.get_graph has     <a href=\"file://C:\\Users\\thoma\\AppData\\Local\\Programs\\Python\\Python39\\lib\\site-packages\\manim\\utils\\deprecation.py\"><span style=\"color: #7f7f7f; text-decoration-color: #7f7f7f\">deprecation.py</span></a><span style=\"color: #7f7f7f; text-decoration-color: #7f7f7f\">:</span><a href=\"file://C:\\Users\\thoma\\AppData\\Local\\Programs\\Python\\Python39\\lib\\site-packages\\manim\\utils\\deprecation.py#210\"><span style=\"color: #7f7f7f; text-decoration-color: #7f7f7f\">210</span></a>\n",
       "                             been deprecated since v0.<span style=\"color: #008000; text-decoration-color: #008000\">11.0</span> and is expected                   \n",
       "                             to be removed after v0.<span style=\"color: #008000; text-decoration-color: #008000\">13.0</span>. Use plot                           \n",
       "                             instead.                                                        \n",
       "</pre>\n"
      ],
      "text/plain": [
       "\u001b[2;36m[01/31/22 20:56:11]\u001b[0m\u001b[2;36m \u001b[0m\u001b[31mWARNING \u001b[0m The method CoordinateSystem.get_graph has     \u001b]8;id=669689;file://C:\\Users\\thoma\\AppData\\Local\\Programs\\Python\\Python39\\lib\\site-packages\\manim\\utils\\deprecation.py\u001b\\\u001b[2mdeprecation.py\u001b[0m\u001b]8;;\u001b\\\u001b[2m:\u001b[0m\u001b]8;id=307322;file://C:\\Users\\thoma\\AppData\\Local\\Programs\\Python\\Python39\\lib\\site-packages\\manim\\utils\\deprecation.py#210\u001b\\\u001b[2m210\u001b[0m\u001b]8;;\u001b\\\n",
       "                             been deprecated since v0.\u001b[32m11.0\u001b[0m and is expected                   \n",
       "                             to be removed after v0.\u001b[32m13.0\u001b[0m. Use plot                           \n",
       "                             instead.                                                        \n"
      ]
     },
     "metadata": {},
     "output_type": "display_data"
    },
    {
     "name": "stderr",
     "output_type": "stream",
     "text": [
      "Animation 1: _MethodAnimation(ValueTracker):  67%|######7   | 151/225 [01:03<00:42,  1.72it/s]"
     ]
    },
    {
     "data": {
      "text/html": [
       "<pre style=\"white-space:pre;overflow-x:auto;line-height:normal;font-family:Menlo,'DejaVu Sans Mono',consolas,'Courier New',monospace\"><span style=\"color: #7fbfbf; text-decoration-color: #7fbfbf\">                    </span><span style=\"color: #800000; text-decoration-color: #800000\">WARNING </span> The method CoordinateSystem.get_graph has     <a href=\"file://C:\\Users\\thoma\\AppData\\Local\\Programs\\Python\\Python39\\lib\\site-packages\\manim\\utils\\deprecation.py\"><span style=\"color: #7f7f7f; text-decoration-color: #7f7f7f\">deprecation.py</span></a><span style=\"color: #7f7f7f; text-decoration-color: #7f7f7f\">:</span><a href=\"file://C:\\Users\\thoma\\AppData\\Local\\Programs\\Python\\Python39\\lib\\site-packages\\manim\\utils\\deprecation.py#210\"><span style=\"color: #7f7f7f; text-decoration-color: #7f7f7f\">210</span></a>\n",
       "                             been deprecated since v0.<span style=\"color: #008000; text-decoration-color: #008000\">11.0</span> and is expected                   \n",
       "                             to be removed after v0.<span style=\"color: #008000; text-decoration-color: #008000\">13.0</span>. Use plot                           \n",
       "                             instead.                                                        \n",
       "</pre>\n"
      ],
      "text/plain": [
       "\u001b[2;36m                   \u001b[0m\u001b[2;36m \u001b[0m\u001b[31mWARNING \u001b[0m The method CoordinateSystem.get_graph has     \u001b]8;id=303509;file://C:\\Users\\thoma\\AppData\\Local\\Programs\\Python\\Python39\\lib\\site-packages\\manim\\utils\\deprecation.py\u001b\\\u001b[2mdeprecation.py\u001b[0m\u001b]8;;\u001b\\\u001b[2m:\u001b[0m\u001b]8;id=378242;file://C:\\Users\\thoma\\AppData\\Local\\Programs\\Python\\Python39\\lib\\site-packages\\manim\\utils\\deprecation.py#210\u001b\\\u001b[2m210\u001b[0m\u001b]8;;\u001b\\\n",
       "                             been deprecated since v0.\u001b[32m11.0\u001b[0m and is expected                   \n",
       "                             to be removed after v0.\u001b[32m13.0\u001b[0m. Use plot                           \n",
       "                             instead.                                                        \n"
      ]
     },
     "metadata": {},
     "output_type": "display_data"
    },
    {
     "name": "stderr",
     "output_type": "stream",
     "text": [
      "Animation 1: _MethodAnimation(ValueTracker):  68%|######7   | 152/225 [01:04<00:42,  1.71it/s]"
     ]
    },
    {
     "data": {
      "text/html": [
       "<pre style=\"white-space:pre;overflow-x:auto;line-height:normal;font-family:Menlo,'DejaVu Sans Mono',consolas,'Courier New',monospace\"><span style=\"color: #7fbfbf; text-decoration-color: #7fbfbf\">[01/31/22 20:56:12] </span><span style=\"color: #800000; text-decoration-color: #800000\">WARNING </span> The method CoordinateSystem.get_graph has     <a href=\"file://C:\\Users\\thoma\\AppData\\Local\\Programs\\Python\\Python39\\lib\\site-packages\\manim\\utils\\deprecation.py\"><span style=\"color: #7f7f7f; text-decoration-color: #7f7f7f\">deprecation.py</span></a><span style=\"color: #7f7f7f; text-decoration-color: #7f7f7f\">:</span><a href=\"file://C:\\Users\\thoma\\AppData\\Local\\Programs\\Python\\Python39\\lib\\site-packages\\manim\\utils\\deprecation.py#210\"><span style=\"color: #7f7f7f; text-decoration-color: #7f7f7f\">210</span></a>\n",
       "                             been deprecated since v0.<span style=\"color: #008000; text-decoration-color: #008000\">11.0</span> and is expected                   \n",
       "                             to be removed after v0.<span style=\"color: #008000; text-decoration-color: #008000\">13.0</span>. Use plot                           \n",
       "                             instead.                                                        \n",
       "</pre>\n"
      ],
      "text/plain": [
       "\u001b[2;36m[01/31/22 20:56:12]\u001b[0m\u001b[2;36m \u001b[0m\u001b[31mWARNING \u001b[0m The method CoordinateSystem.get_graph has     \u001b]8;id=989925;file://C:\\Users\\thoma\\AppData\\Local\\Programs\\Python\\Python39\\lib\\site-packages\\manim\\utils\\deprecation.py\u001b\\\u001b[2mdeprecation.py\u001b[0m\u001b]8;;\u001b\\\u001b[2m:\u001b[0m\u001b]8;id=143049;file://C:\\Users\\thoma\\AppData\\Local\\Programs\\Python\\Python39\\lib\\site-packages\\manim\\utils\\deprecation.py#210\u001b\\\u001b[2m210\u001b[0m\u001b]8;;\u001b\\\n",
       "                             been deprecated since v0.\u001b[32m11.0\u001b[0m and is expected                   \n",
       "                             to be removed after v0.\u001b[32m13.0\u001b[0m. Use plot                           \n",
       "                             instead.                                                        \n"
      ]
     },
     "metadata": {},
     "output_type": "display_data"
    },
    {
     "name": "stderr",
     "output_type": "stream",
     "text": [
      "Animation 1: _MethodAnimation(ValueTracker):  68%|######8   | 153/225 [01:04<00:41,  1.73it/s]"
     ]
    },
    {
     "data": {
      "text/html": [
       "<pre style=\"white-space:pre;overflow-x:auto;line-height:normal;font-family:Menlo,'DejaVu Sans Mono',consolas,'Courier New',monospace\"><span style=\"color: #7fbfbf; text-decoration-color: #7fbfbf\">[01/31/22 20:56:13] </span><span style=\"color: #800000; text-decoration-color: #800000\">WARNING </span> The method CoordinateSystem.get_graph has     <a href=\"file://C:\\Users\\thoma\\AppData\\Local\\Programs\\Python\\Python39\\lib\\site-packages\\manim\\utils\\deprecation.py\"><span style=\"color: #7f7f7f; text-decoration-color: #7f7f7f\">deprecation.py</span></a><span style=\"color: #7f7f7f; text-decoration-color: #7f7f7f\">:</span><a href=\"file://C:\\Users\\thoma\\AppData\\Local\\Programs\\Python\\Python39\\lib\\site-packages\\manim\\utils\\deprecation.py#210\"><span style=\"color: #7f7f7f; text-decoration-color: #7f7f7f\">210</span></a>\n",
       "                             been deprecated since v0.<span style=\"color: #008000; text-decoration-color: #008000\">11.0</span> and is expected                   \n",
       "                             to be removed after v0.<span style=\"color: #008000; text-decoration-color: #008000\">13.0</span>. Use plot                           \n",
       "                             instead.                                                        \n",
       "</pre>\n"
      ],
      "text/plain": [
       "\u001b[2;36m[01/31/22 20:56:13]\u001b[0m\u001b[2;36m \u001b[0m\u001b[31mWARNING \u001b[0m The method CoordinateSystem.get_graph has     \u001b]8;id=132302;file://C:\\Users\\thoma\\AppData\\Local\\Programs\\Python\\Python39\\lib\\site-packages\\manim\\utils\\deprecation.py\u001b\\\u001b[2mdeprecation.py\u001b[0m\u001b]8;;\u001b\\\u001b[2m:\u001b[0m\u001b]8;id=243525;file://C:\\Users\\thoma\\AppData\\Local\\Programs\\Python\\Python39\\lib\\site-packages\\manim\\utils\\deprecation.py#210\u001b\\\u001b[2m210\u001b[0m\u001b]8;;\u001b\\\n",
       "                             been deprecated since v0.\u001b[32m11.0\u001b[0m and is expected                   \n",
       "                             to be removed after v0.\u001b[32m13.0\u001b[0m. Use plot                           \n",
       "                             instead.                                                        \n"
      ]
     },
     "metadata": {},
     "output_type": "display_data"
    },
    {
     "name": "stderr",
     "output_type": "stream",
     "text": [
      "Animation 1: _MethodAnimation(ValueTracker):  68%|######8   | 154/225 [01:05<00:40,  1.75it/s]"
     ]
    },
    {
     "data": {
      "text/html": [
       "<pre style=\"white-space:pre;overflow-x:auto;line-height:normal;font-family:Menlo,'DejaVu Sans Mono',consolas,'Courier New',monospace\"><span style=\"color: #7fbfbf; text-decoration-color: #7fbfbf\">                    </span><span style=\"color: #800000; text-decoration-color: #800000\">WARNING </span> The method CoordinateSystem.get_graph has     <a href=\"file://C:\\Users\\thoma\\AppData\\Local\\Programs\\Python\\Python39\\lib\\site-packages\\manim\\utils\\deprecation.py\"><span style=\"color: #7f7f7f; text-decoration-color: #7f7f7f\">deprecation.py</span></a><span style=\"color: #7f7f7f; text-decoration-color: #7f7f7f\">:</span><a href=\"file://C:\\Users\\thoma\\AppData\\Local\\Programs\\Python\\Python39\\lib\\site-packages\\manim\\utils\\deprecation.py#210\"><span style=\"color: #7f7f7f; text-decoration-color: #7f7f7f\">210</span></a>\n",
       "                             been deprecated since v0.<span style=\"color: #008000; text-decoration-color: #008000\">11.0</span> and is expected                   \n",
       "                             to be removed after v0.<span style=\"color: #008000; text-decoration-color: #008000\">13.0</span>. Use plot                           \n",
       "                             instead.                                                        \n",
       "</pre>\n"
      ],
      "text/plain": [
       "\u001b[2;36m                   \u001b[0m\u001b[2;36m \u001b[0m\u001b[31mWARNING \u001b[0m The method CoordinateSystem.get_graph has     \u001b]8;id=206196;file://C:\\Users\\thoma\\AppData\\Local\\Programs\\Python\\Python39\\lib\\site-packages\\manim\\utils\\deprecation.py\u001b\\\u001b[2mdeprecation.py\u001b[0m\u001b]8;;\u001b\\\u001b[2m:\u001b[0m\u001b]8;id=537862;file://C:\\Users\\thoma\\AppData\\Local\\Programs\\Python\\Python39\\lib\\site-packages\\manim\\utils\\deprecation.py#210\u001b\\\u001b[2m210\u001b[0m\u001b]8;;\u001b\\\n",
       "                             been deprecated since v0.\u001b[32m11.0\u001b[0m and is expected                   \n",
       "                             to be removed after v0.\u001b[32m13.0\u001b[0m. Use plot                           \n",
       "                             instead.                                                        \n"
      ]
     },
     "metadata": {},
     "output_type": "display_data"
    },
    {
     "name": "stderr",
     "output_type": "stream",
     "text": [
      "Animation 1: _MethodAnimation(ValueTracker):  69%|######8   | 155/225 [01:06<00:43,  1.61it/s]"
     ]
    },
    {
     "data": {
      "text/html": [
       "<pre style=\"white-space:pre;overflow-x:auto;line-height:normal;font-family:Menlo,'DejaVu Sans Mono',consolas,'Courier New',monospace\"><span style=\"color: #7fbfbf; text-decoration-color: #7fbfbf\">[01/31/22 20:56:14] </span><span style=\"color: #800000; text-decoration-color: #800000\">WARNING </span> The method CoordinateSystem.get_graph has     <a href=\"file://C:\\Users\\thoma\\AppData\\Local\\Programs\\Python\\Python39\\lib\\site-packages\\manim\\utils\\deprecation.py\"><span style=\"color: #7f7f7f; text-decoration-color: #7f7f7f\">deprecation.py</span></a><span style=\"color: #7f7f7f; text-decoration-color: #7f7f7f\">:</span><a href=\"file://C:\\Users\\thoma\\AppData\\Local\\Programs\\Python\\Python39\\lib\\site-packages\\manim\\utils\\deprecation.py#210\"><span style=\"color: #7f7f7f; text-decoration-color: #7f7f7f\">210</span></a>\n",
       "                             been deprecated since v0.<span style=\"color: #008000; text-decoration-color: #008000\">11.0</span> and is expected                   \n",
       "                             to be removed after v0.<span style=\"color: #008000; text-decoration-color: #008000\">13.0</span>. Use plot                           \n",
       "                             instead.                                                        \n",
       "</pre>\n"
      ],
      "text/plain": [
       "\u001b[2;36m[01/31/22 20:56:14]\u001b[0m\u001b[2;36m \u001b[0m\u001b[31mWARNING \u001b[0m The method CoordinateSystem.get_graph has     \u001b]8;id=640389;file://C:\\Users\\thoma\\AppData\\Local\\Programs\\Python\\Python39\\lib\\site-packages\\manim\\utils\\deprecation.py\u001b\\\u001b[2mdeprecation.py\u001b[0m\u001b]8;;\u001b\\\u001b[2m:\u001b[0m\u001b]8;id=120481;file://C:\\Users\\thoma\\AppData\\Local\\Programs\\Python\\Python39\\lib\\site-packages\\manim\\utils\\deprecation.py#210\u001b\\\u001b[2m210\u001b[0m\u001b]8;;\u001b\\\n",
       "                             been deprecated since v0.\u001b[32m11.0\u001b[0m and is expected                   \n",
       "                             to be removed after v0.\u001b[32m13.0\u001b[0m. Use plot                           \n",
       "                             instead.                                                        \n"
      ]
     },
     "metadata": {},
     "output_type": "display_data"
    },
    {
     "name": "stderr",
     "output_type": "stream",
     "text": [
      "Animation 1: _MethodAnimation(ValueTracker):  69%|######9   | 156/225 [01:06<00:41,  1.64it/s]"
     ]
    },
    {
     "data": {
      "text/html": [
       "<pre style=\"white-space:pre;overflow-x:auto;line-height:normal;font-family:Menlo,'DejaVu Sans Mono',consolas,'Courier New',monospace\"><span style=\"color: #7fbfbf; text-decoration-color: #7fbfbf\">                    </span><span style=\"color: #800000; text-decoration-color: #800000\">WARNING </span> The method CoordinateSystem.get_graph has     <a href=\"file://C:\\Users\\thoma\\AppData\\Local\\Programs\\Python\\Python39\\lib\\site-packages\\manim\\utils\\deprecation.py\"><span style=\"color: #7f7f7f; text-decoration-color: #7f7f7f\">deprecation.py</span></a><span style=\"color: #7f7f7f; text-decoration-color: #7f7f7f\">:</span><a href=\"file://C:\\Users\\thoma\\AppData\\Local\\Programs\\Python\\Python39\\lib\\site-packages\\manim\\utils\\deprecation.py#210\"><span style=\"color: #7f7f7f; text-decoration-color: #7f7f7f\">210</span></a>\n",
       "                             been deprecated since v0.<span style=\"color: #008000; text-decoration-color: #008000\">11.0</span> and is expected                   \n",
       "                             to be removed after v0.<span style=\"color: #008000; text-decoration-color: #008000\">13.0</span>. Use plot                           \n",
       "                             instead.                                                        \n",
       "</pre>\n"
      ],
      "text/plain": [
       "\u001b[2;36m                   \u001b[0m\u001b[2;36m \u001b[0m\u001b[31mWARNING \u001b[0m The method CoordinateSystem.get_graph has     \u001b]8;id=980997;file://C:\\Users\\thoma\\AppData\\Local\\Programs\\Python\\Python39\\lib\\site-packages\\manim\\utils\\deprecation.py\u001b\\\u001b[2mdeprecation.py\u001b[0m\u001b]8;;\u001b\\\u001b[2m:\u001b[0m\u001b]8;id=241011;file://C:\\Users\\thoma\\AppData\\Local\\Programs\\Python\\Python39\\lib\\site-packages\\manim\\utils\\deprecation.py#210\u001b\\\u001b[2m210\u001b[0m\u001b]8;;\u001b\\\n",
       "                             been deprecated since v0.\u001b[32m11.0\u001b[0m and is expected                   \n",
       "                             to be removed after v0.\u001b[32m13.0\u001b[0m. Use plot                           \n",
       "                             instead.                                                        \n"
      ]
     },
     "metadata": {},
     "output_type": "display_data"
    },
    {
     "name": "stderr",
     "output_type": "stream",
     "text": [
      "Animation 1: _MethodAnimation(ValueTracker):  70%|######9   | 157/225 [01:07<00:42,  1.60it/s]"
     ]
    },
    {
     "data": {
      "text/html": [
       "<pre style=\"white-space:pre;overflow-x:auto;line-height:normal;font-family:Menlo,'DejaVu Sans Mono',consolas,'Courier New',monospace\"><span style=\"color: #7fbfbf; text-decoration-color: #7fbfbf\">[01/31/22 20:56:15] </span><span style=\"color: #800000; text-decoration-color: #800000\">WARNING </span> The method CoordinateSystem.get_graph has     <a href=\"file://C:\\Users\\thoma\\AppData\\Local\\Programs\\Python\\Python39\\lib\\site-packages\\manim\\utils\\deprecation.py\"><span style=\"color: #7f7f7f; text-decoration-color: #7f7f7f\">deprecation.py</span></a><span style=\"color: #7f7f7f; text-decoration-color: #7f7f7f\">:</span><a href=\"file://C:\\Users\\thoma\\AppData\\Local\\Programs\\Python\\Python39\\lib\\site-packages\\manim\\utils\\deprecation.py#210\"><span style=\"color: #7f7f7f; text-decoration-color: #7f7f7f\">210</span></a>\n",
       "                             been deprecated since v0.<span style=\"color: #008000; text-decoration-color: #008000\">11.0</span> and is expected                   \n",
       "                             to be removed after v0.<span style=\"color: #008000; text-decoration-color: #008000\">13.0</span>. Use plot                           \n",
       "                             instead.                                                        \n",
       "</pre>\n"
      ],
      "text/plain": [
       "\u001b[2;36m[01/31/22 20:56:15]\u001b[0m\u001b[2;36m \u001b[0m\u001b[31mWARNING \u001b[0m The method CoordinateSystem.get_graph has     \u001b]8;id=268608;file://C:\\Users\\thoma\\AppData\\Local\\Programs\\Python\\Python39\\lib\\site-packages\\manim\\utils\\deprecation.py\u001b\\\u001b[2mdeprecation.py\u001b[0m\u001b]8;;\u001b\\\u001b[2m:\u001b[0m\u001b]8;id=656882;file://C:\\Users\\thoma\\AppData\\Local\\Programs\\Python\\Python39\\lib\\site-packages\\manim\\utils\\deprecation.py#210\u001b\\\u001b[2m210\u001b[0m\u001b]8;;\u001b\\\n",
       "                             been deprecated since v0.\u001b[32m11.0\u001b[0m and is expected                   \n",
       "                             to be removed after v0.\u001b[32m13.0\u001b[0m. Use plot                           \n",
       "                             instead.                                                        \n"
      ]
     },
     "metadata": {},
     "output_type": "display_data"
    },
    {
     "name": "stderr",
     "output_type": "stream",
     "text": [
      "Animation 1: _MethodAnimation(ValueTracker):  70%|#######   | 158/225 [01:08<00:44,  1.50it/s]"
     ]
    },
    {
     "data": {
      "text/html": [
       "<pre style=\"white-space:pre;overflow-x:auto;line-height:normal;font-family:Menlo,'DejaVu Sans Mono',consolas,'Courier New',monospace\"><span style=\"color: #7fbfbf; text-decoration-color: #7fbfbf\">[01/31/22 20:56:16] </span><span style=\"color: #800000; text-decoration-color: #800000\">WARNING </span> The method CoordinateSystem.get_graph has     <a href=\"file://C:\\Users\\thoma\\AppData\\Local\\Programs\\Python\\Python39\\lib\\site-packages\\manim\\utils\\deprecation.py\"><span style=\"color: #7f7f7f; text-decoration-color: #7f7f7f\">deprecation.py</span></a><span style=\"color: #7f7f7f; text-decoration-color: #7f7f7f\">:</span><a href=\"file://C:\\Users\\thoma\\AppData\\Local\\Programs\\Python\\Python39\\lib\\site-packages\\manim\\utils\\deprecation.py#210\"><span style=\"color: #7f7f7f; text-decoration-color: #7f7f7f\">210</span></a>\n",
       "                             been deprecated since v0.<span style=\"color: #008000; text-decoration-color: #008000\">11.0</span> and is expected                   \n",
       "                             to be removed after v0.<span style=\"color: #008000; text-decoration-color: #008000\">13.0</span>. Use plot                           \n",
       "                             instead.                                                        \n",
       "</pre>\n"
      ],
      "text/plain": [
       "\u001b[2;36m[01/31/22 20:56:16]\u001b[0m\u001b[2;36m \u001b[0m\u001b[31mWARNING \u001b[0m The method CoordinateSystem.get_graph has     \u001b]8;id=787601;file://C:\\Users\\thoma\\AppData\\Local\\Programs\\Python\\Python39\\lib\\site-packages\\manim\\utils\\deprecation.py\u001b\\\u001b[2mdeprecation.py\u001b[0m\u001b]8;;\u001b\\\u001b[2m:\u001b[0m\u001b]8;id=334075;file://C:\\Users\\thoma\\AppData\\Local\\Programs\\Python\\Python39\\lib\\site-packages\\manim\\utils\\deprecation.py#210\u001b\\\u001b[2m210\u001b[0m\u001b]8;;\u001b\\\n",
       "                             been deprecated since v0.\u001b[32m11.0\u001b[0m and is expected                   \n",
       "                             to be removed after v0.\u001b[32m13.0\u001b[0m. Use plot                           \n",
       "                             instead.                                                        \n"
      ]
     },
     "metadata": {},
     "output_type": "display_data"
    },
    {
     "name": "stderr",
     "output_type": "stream",
     "text": [
      "Animation 1: _MethodAnimation(ValueTracker):  71%|#######   | 159/225 [01:08<00:45,  1.46it/s]"
     ]
    },
    {
     "data": {
      "text/html": [
       "<pre style=\"white-space:pre;overflow-x:auto;line-height:normal;font-family:Menlo,'DejaVu Sans Mono',consolas,'Courier New',monospace\"><span style=\"color: #7fbfbf; text-decoration-color: #7fbfbf\">[01/31/22 20:56:17] </span><span style=\"color: #800000; text-decoration-color: #800000\">WARNING </span> The method CoordinateSystem.get_graph has     <a href=\"file://C:\\Users\\thoma\\AppData\\Local\\Programs\\Python\\Python39\\lib\\site-packages\\manim\\utils\\deprecation.py\"><span style=\"color: #7f7f7f; text-decoration-color: #7f7f7f\">deprecation.py</span></a><span style=\"color: #7f7f7f; text-decoration-color: #7f7f7f\">:</span><a href=\"file://C:\\Users\\thoma\\AppData\\Local\\Programs\\Python\\Python39\\lib\\site-packages\\manim\\utils\\deprecation.py#210\"><span style=\"color: #7f7f7f; text-decoration-color: #7f7f7f\">210</span></a>\n",
       "                             been deprecated since v0.<span style=\"color: #008000; text-decoration-color: #008000\">11.0</span> and is expected                   \n",
       "                             to be removed after v0.<span style=\"color: #008000; text-decoration-color: #008000\">13.0</span>. Use plot                           \n",
       "                             instead.                                                        \n",
       "</pre>\n"
      ],
      "text/plain": [
       "\u001b[2;36m[01/31/22 20:56:17]\u001b[0m\u001b[2;36m \u001b[0m\u001b[31mWARNING \u001b[0m The method CoordinateSystem.get_graph has     \u001b]8;id=441808;file://C:\\Users\\thoma\\AppData\\Local\\Programs\\Python\\Python39\\lib\\site-packages\\manim\\utils\\deprecation.py\u001b\\\u001b[2mdeprecation.py\u001b[0m\u001b]8;;\u001b\\\u001b[2m:\u001b[0m\u001b]8;id=772070;file://C:\\Users\\thoma\\AppData\\Local\\Programs\\Python\\Python39\\lib\\site-packages\\manim\\utils\\deprecation.py#210\u001b\\\u001b[2m210\u001b[0m\u001b]8;;\u001b\\\n",
       "                             been deprecated since v0.\u001b[32m11.0\u001b[0m and is expected                   \n",
       "                             to be removed after v0.\u001b[32m13.0\u001b[0m. Use plot                           \n",
       "                             instead.                                                        \n"
      ]
     },
     "metadata": {},
     "output_type": "display_data"
    },
    {
     "name": "stderr",
     "output_type": "stream",
     "text": [
      "Animation 1: _MethodAnimation(ValueTracker):  71%|#######1  | 160/225 [01:09<00:48,  1.33it/s]"
     ]
    },
    {
     "data": {
      "text/html": [
       "<pre style=\"white-space:pre;overflow-x:auto;line-height:normal;font-family:Menlo,'DejaVu Sans Mono',consolas,'Courier New',monospace\"><span style=\"color: #7fbfbf; text-decoration-color: #7fbfbf\">[01/31/22 20:56:18] </span><span style=\"color: #800000; text-decoration-color: #800000\">WARNING </span> The method CoordinateSystem.get_graph has     <a href=\"file://C:\\Users\\thoma\\AppData\\Local\\Programs\\Python\\Python39\\lib\\site-packages\\manim\\utils\\deprecation.py\"><span style=\"color: #7f7f7f; text-decoration-color: #7f7f7f\">deprecation.py</span></a><span style=\"color: #7f7f7f; text-decoration-color: #7f7f7f\">:</span><a href=\"file://C:\\Users\\thoma\\AppData\\Local\\Programs\\Python\\Python39\\lib\\site-packages\\manim\\utils\\deprecation.py#210\"><span style=\"color: #7f7f7f; text-decoration-color: #7f7f7f\">210</span></a>\n",
       "                             been deprecated since v0.<span style=\"color: #008000; text-decoration-color: #008000\">11.0</span> and is expected                   \n",
       "                             to be removed after v0.<span style=\"color: #008000; text-decoration-color: #008000\">13.0</span>. Use plot                           \n",
       "                             instead.                                                        \n",
       "</pre>\n"
      ],
      "text/plain": [
       "\u001b[2;36m[01/31/22 20:56:18]\u001b[0m\u001b[2;36m \u001b[0m\u001b[31mWARNING \u001b[0m The method CoordinateSystem.get_graph has     \u001b]8;id=918640;file://C:\\Users\\thoma\\AppData\\Local\\Programs\\Python\\Python39\\lib\\site-packages\\manim\\utils\\deprecation.py\u001b\\\u001b[2mdeprecation.py\u001b[0m\u001b]8;;\u001b\\\u001b[2m:\u001b[0m\u001b]8;id=218788;file://C:\\Users\\thoma\\AppData\\Local\\Programs\\Python\\Python39\\lib\\site-packages\\manim\\utils\\deprecation.py#210\u001b\\\u001b[2m210\u001b[0m\u001b]8;;\u001b\\\n",
       "                             been deprecated since v0.\u001b[32m11.0\u001b[0m and is expected                   \n",
       "                             to be removed after v0.\u001b[32m13.0\u001b[0m. Use plot                           \n",
       "                             instead.                                                        \n"
      ]
     },
     "metadata": {},
     "output_type": "display_data"
    },
    {
     "name": "stderr",
     "output_type": "stream",
     "text": [
      "Animation 1: _MethodAnimation(ValueTracker):  72%|#######1  | 161/225 [01:10<00:52,  1.23it/s]"
     ]
    },
    {
     "data": {
      "text/html": [
       "<pre style=\"white-space:pre;overflow-x:auto;line-height:normal;font-family:Menlo,'DejaVu Sans Mono',consolas,'Courier New',monospace\"><span style=\"color: #7fbfbf; text-decoration-color: #7fbfbf\">[01/31/22 20:56:19] </span><span style=\"color: #800000; text-decoration-color: #800000\">WARNING </span> The method CoordinateSystem.get_graph has     <a href=\"file://C:\\Users\\thoma\\AppData\\Local\\Programs\\Python\\Python39\\lib\\site-packages\\manim\\utils\\deprecation.py\"><span style=\"color: #7f7f7f; text-decoration-color: #7f7f7f\">deprecation.py</span></a><span style=\"color: #7f7f7f; text-decoration-color: #7f7f7f\">:</span><a href=\"file://C:\\Users\\thoma\\AppData\\Local\\Programs\\Python\\Python39\\lib\\site-packages\\manim\\utils\\deprecation.py#210\"><span style=\"color: #7f7f7f; text-decoration-color: #7f7f7f\">210</span></a>\n",
       "                             been deprecated since v0.<span style=\"color: #008000; text-decoration-color: #008000\">11.0</span> and is expected                   \n",
       "                             to be removed after v0.<span style=\"color: #008000; text-decoration-color: #008000\">13.0</span>. Use plot                           \n",
       "                             instead.                                                        \n",
       "</pre>\n"
      ],
      "text/plain": [
       "\u001b[2;36m[01/31/22 20:56:19]\u001b[0m\u001b[2;36m \u001b[0m\u001b[31mWARNING \u001b[0m The method CoordinateSystem.get_graph has     \u001b]8;id=92135;file://C:\\Users\\thoma\\AppData\\Local\\Programs\\Python\\Python39\\lib\\site-packages\\manim\\utils\\deprecation.py\u001b\\\u001b[2mdeprecation.py\u001b[0m\u001b]8;;\u001b\\\u001b[2m:\u001b[0m\u001b]8;id=499211;file://C:\\Users\\thoma\\AppData\\Local\\Programs\\Python\\Python39\\lib\\site-packages\\manim\\utils\\deprecation.py#210\u001b\\\u001b[2m210\u001b[0m\u001b]8;;\u001b\\\n",
       "                             been deprecated since v0.\u001b[32m11.0\u001b[0m and is expected                   \n",
       "                             to be removed after v0.\u001b[32m13.0\u001b[0m. Use plot                           \n",
       "                             instead.                                                        \n"
      ]
     },
     "metadata": {},
     "output_type": "display_data"
    },
    {
     "name": "stderr",
     "output_type": "stream",
     "text": [
      "Animation 1: _MethodAnimation(ValueTracker):  72%|#######2  | 162/225 [01:11<00:55,  1.13it/s]"
     ]
    },
    {
     "data": {
      "text/html": [
       "<pre style=\"white-space:pre;overflow-x:auto;line-height:normal;font-family:Menlo,'DejaVu Sans Mono',consolas,'Courier New',monospace\"><span style=\"color: #7fbfbf; text-decoration-color: #7fbfbf\">[01/31/22 20:56:20] </span><span style=\"color: #800000; text-decoration-color: #800000\">WARNING </span> The method CoordinateSystem.get_graph has     <a href=\"file://C:\\Users\\thoma\\AppData\\Local\\Programs\\Python\\Python39\\lib\\site-packages\\manim\\utils\\deprecation.py\"><span style=\"color: #7f7f7f; text-decoration-color: #7f7f7f\">deprecation.py</span></a><span style=\"color: #7f7f7f; text-decoration-color: #7f7f7f\">:</span><a href=\"file://C:\\Users\\thoma\\AppData\\Local\\Programs\\Python\\Python39\\lib\\site-packages\\manim\\utils\\deprecation.py#210\"><span style=\"color: #7f7f7f; text-decoration-color: #7f7f7f\">210</span></a>\n",
       "                             been deprecated since v0.<span style=\"color: #008000; text-decoration-color: #008000\">11.0</span> and is expected                   \n",
       "                             to be removed after v0.<span style=\"color: #008000; text-decoration-color: #008000\">13.0</span>. Use plot                           \n",
       "                             instead.                                                        \n",
       "</pre>\n"
      ],
      "text/plain": [
       "\u001b[2;36m[01/31/22 20:56:20]\u001b[0m\u001b[2;36m \u001b[0m\u001b[31mWARNING \u001b[0m The method CoordinateSystem.get_graph has     \u001b]8;id=391564;file://C:\\Users\\thoma\\AppData\\Local\\Programs\\Python\\Python39\\lib\\site-packages\\manim\\utils\\deprecation.py\u001b\\\u001b[2mdeprecation.py\u001b[0m\u001b]8;;\u001b\\\u001b[2m:\u001b[0m\u001b]8;id=745408;file://C:\\Users\\thoma\\AppData\\Local\\Programs\\Python\\Python39\\lib\\site-packages\\manim\\utils\\deprecation.py#210\u001b\\\u001b[2m210\u001b[0m\u001b]8;;\u001b\\\n",
       "                             been deprecated since v0.\u001b[32m11.0\u001b[0m and is expected                   \n",
       "                             to be removed after v0.\u001b[32m13.0\u001b[0m. Use plot                           \n",
       "                             instead.                                                        \n"
      ]
     },
     "metadata": {},
     "output_type": "display_data"
    },
    {
     "name": "stderr",
     "output_type": "stream",
     "text": [
      "Animation 1: _MethodAnimation(ValueTracker):  72%|#######2  | 163/225 [01:13<01:08,  1.11s/it]"
     ]
    },
    {
     "data": {
      "text/html": [
       "<pre style=\"white-space:pre;overflow-x:auto;line-height:normal;font-family:Menlo,'DejaVu Sans Mono',consolas,'Courier New',monospace\"><span style=\"color: #7fbfbf; text-decoration-color: #7fbfbf\">[01/31/22 20:56:21] </span><span style=\"color: #800000; text-decoration-color: #800000\">WARNING </span> The method CoordinateSystem.get_graph has     <a href=\"file://C:\\Users\\thoma\\AppData\\Local\\Programs\\Python\\Python39\\lib\\site-packages\\manim\\utils\\deprecation.py\"><span style=\"color: #7f7f7f; text-decoration-color: #7f7f7f\">deprecation.py</span></a><span style=\"color: #7f7f7f; text-decoration-color: #7f7f7f\">:</span><a href=\"file://C:\\Users\\thoma\\AppData\\Local\\Programs\\Python\\Python39\\lib\\site-packages\\manim\\utils\\deprecation.py#210\"><span style=\"color: #7f7f7f; text-decoration-color: #7f7f7f\">210</span></a>\n",
       "                             been deprecated since v0.<span style=\"color: #008000; text-decoration-color: #008000\">11.0</span> and is expected                   \n",
       "                             to be removed after v0.<span style=\"color: #008000; text-decoration-color: #008000\">13.0</span>. Use plot                           \n",
       "                             instead.                                                        \n",
       "</pre>\n"
      ],
      "text/plain": [
       "\u001b[2;36m[01/31/22 20:56:21]\u001b[0m\u001b[2;36m \u001b[0m\u001b[31mWARNING \u001b[0m The method CoordinateSystem.get_graph has     \u001b]8;id=663719;file://C:\\Users\\thoma\\AppData\\Local\\Programs\\Python\\Python39\\lib\\site-packages\\manim\\utils\\deprecation.py\u001b\\\u001b[2mdeprecation.py\u001b[0m\u001b]8;;\u001b\\\u001b[2m:\u001b[0m\u001b]8;id=59104;file://C:\\Users\\thoma\\AppData\\Local\\Programs\\Python\\Python39\\lib\\site-packages\\manim\\utils\\deprecation.py#210\u001b\\\u001b[2m210\u001b[0m\u001b]8;;\u001b\\\n",
       "                             been deprecated since v0.\u001b[32m11.0\u001b[0m and is expected                   \n",
       "                             to be removed after v0.\u001b[32m13.0\u001b[0m. Use plot                           \n",
       "                             instead.                                                        \n"
      ]
     },
     "metadata": {},
     "output_type": "display_data"
    },
    {
     "name": "stderr",
     "output_type": "stream",
     "text": [
      "Animation 1: _MethodAnimation(ValueTracker):  73%|#######2  | 164/225 [01:14<01:04,  1.06s/it]"
     ]
    },
    {
     "data": {
      "text/html": [
       "<pre style=\"white-space:pre;overflow-x:auto;line-height:normal;font-family:Menlo,'DejaVu Sans Mono',consolas,'Courier New',monospace\"><span style=\"color: #7fbfbf; text-decoration-color: #7fbfbf\">[01/31/22 20:56:22] </span><span style=\"color: #800000; text-decoration-color: #800000\">WARNING </span> The method CoordinateSystem.get_graph has     <a href=\"file://C:\\Users\\thoma\\AppData\\Local\\Programs\\Python\\Python39\\lib\\site-packages\\manim\\utils\\deprecation.py\"><span style=\"color: #7f7f7f; text-decoration-color: #7f7f7f\">deprecation.py</span></a><span style=\"color: #7f7f7f; text-decoration-color: #7f7f7f\">:</span><a href=\"file://C:\\Users\\thoma\\AppData\\Local\\Programs\\Python\\Python39\\lib\\site-packages\\manim\\utils\\deprecation.py#210\"><span style=\"color: #7f7f7f; text-decoration-color: #7f7f7f\">210</span></a>\n",
       "                             been deprecated since v0.<span style=\"color: #008000; text-decoration-color: #008000\">11.0</span> and is expected                   \n",
       "                             to be removed after v0.<span style=\"color: #008000; text-decoration-color: #008000\">13.0</span>. Use plot                           \n",
       "                             instead.                                                        \n",
       "</pre>\n"
      ],
      "text/plain": [
       "\u001b[2;36m[01/31/22 20:56:22]\u001b[0m\u001b[2;36m \u001b[0m\u001b[31mWARNING \u001b[0m The method CoordinateSystem.get_graph has     \u001b]8;id=981248;file://C:\\Users\\thoma\\AppData\\Local\\Programs\\Python\\Python39\\lib\\site-packages\\manim\\utils\\deprecation.py\u001b\\\u001b[2mdeprecation.py\u001b[0m\u001b]8;;\u001b\\\u001b[2m:\u001b[0m\u001b]8;id=290498;file://C:\\Users\\thoma\\AppData\\Local\\Programs\\Python\\Python39\\lib\\site-packages\\manim\\utils\\deprecation.py#210\u001b\\\u001b[2m210\u001b[0m\u001b]8;;\u001b\\\n",
       "                             been deprecated since v0.\u001b[32m11.0\u001b[0m and is expected                   \n",
       "                             to be removed after v0.\u001b[32m13.0\u001b[0m. Use plot                           \n",
       "                             instead.                                                        \n"
      ]
     },
     "metadata": {},
     "output_type": "display_data"
    },
    {
     "name": "stderr",
     "output_type": "stream",
     "text": [
      "Animation 1: _MethodAnimation(ValueTracker):  73%|#######3  | 165/225 [01:15<00:56,  1.07it/s]"
     ]
    },
    {
     "data": {
      "text/html": [
       "<pre style=\"white-space:pre;overflow-x:auto;line-height:normal;font-family:Menlo,'DejaVu Sans Mono',consolas,'Courier New',monospace\"><span style=\"color: #7fbfbf; text-decoration-color: #7fbfbf\">[01/31/22 20:56:23] </span><span style=\"color: #800000; text-decoration-color: #800000\">WARNING </span> The method CoordinateSystem.get_graph has     <a href=\"file://C:\\Users\\thoma\\AppData\\Local\\Programs\\Python\\Python39\\lib\\site-packages\\manim\\utils\\deprecation.py\"><span style=\"color: #7f7f7f; text-decoration-color: #7f7f7f\">deprecation.py</span></a><span style=\"color: #7f7f7f; text-decoration-color: #7f7f7f\">:</span><a href=\"file://C:\\Users\\thoma\\AppData\\Local\\Programs\\Python\\Python39\\lib\\site-packages\\manim\\utils\\deprecation.py#210\"><span style=\"color: #7f7f7f; text-decoration-color: #7f7f7f\">210</span></a>\n",
       "                             been deprecated since v0.<span style=\"color: #008000; text-decoration-color: #008000\">11.0</span> and is expected                   \n",
       "                             to be removed after v0.<span style=\"color: #008000; text-decoration-color: #008000\">13.0</span>. Use plot                           \n",
       "                             instead.                                                        \n",
       "</pre>\n"
      ],
      "text/plain": [
       "\u001b[2;36m[01/31/22 20:56:23]\u001b[0m\u001b[2;36m \u001b[0m\u001b[31mWARNING \u001b[0m The method CoordinateSystem.get_graph has     \u001b]8;id=421236;file://C:\\Users\\thoma\\AppData\\Local\\Programs\\Python\\Python39\\lib\\site-packages\\manim\\utils\\deprecation.py\u001b\\\u001b[2mdeprecation.py\u001b[0m\u001b]8;;\u001b\\\u001b[2m:\u001b[0m\u001b]8;id=748361;file://C:\\Users\\thoma\\AppData\\Local\\Programs\\Python\\Python39\\lib\\site-packages\\manim\\utils\\deprecation.py#210\u001b\\\u001b[2m210\u001b[0m\u001b]8;;\u001b\\\n",
       "                             been deprecated since v0.\u001b[32m11.0\u001b[0m and is expected                   \n",
       "                             to be removed after v0.\u001b[32m13.0\u001b[0m. Use plot                           \n",
       "                             instead.                                                        \n"
      ]
     },
     "metadata": {},
     "output_type": "display_data"
    },
    {
     "name": "stderr",
     "output_type": "stream",
     "text": [
      "Animation 1: _MethodAnimation(ValueTracker):  74%|#######3  | 166/225 [01:15<00:47,  1.24it/s]"
     ]
    },
    {
     "data": {
      "text/html": [
       "<pre style=\"white-space:pre;overflow-x:auto;line-height:normal;font-family:Menlo,'DejaVu Sans Mono',consolas,'Courier New',monospace\"><span style=\"color: #7fbfbf; text-decoration-color: #7fbfbf\">                    </span><span style=\"color: #800000; text-decoration-color: #800000\">WARNING </span> The method CoordinateSystem.get_graph has     <a href=\"file://C:\\Users\\thoma\\AppData\\Local\\Programs\\Python\\Python39\\lib\\site-packages\\manim\\utils\\deprecation.py\"><span style=\"color: #7f7f7f; text-decoration-color: #7f7f7f\">deprecation.py</span></a><span style=\"color: #7f7f7f; text-decoration-color: #7f7f7f\">:</span><a href=\"file://C:\\Users\\thoma\\AppData\\Local\\Programs\\Python\\Python39\\lib\\site-packages\\manim\\utils\\deprecation.py#210\"><span style=\"color: #7f7f7f; text-decoration-color: #7f7f7f\">210</span></a>\n",
       "                             been deprecated since v0.<span style=\"color: #008000; text-decoration-color: #008000\">11.0</span> and is expected                   \n",
       "                             to be removed after v0.<span style=\"color: #008000; text-decoration-color: #008000\">13.0</span>. Use plot                           \n",
       "                             instead.                                                        \n",
       "</pre>\n"
      ],
      "text/plain": [
       "\u001b[2;36m                   \u001b[0m\u001b[2;36m \u001b[0m\u001b[31mWARNING \u001b[0m The method CoordinateSystem.get_graph has     \u001b]8;id=993392;file://C:\\Users\\thoma\\AppData\\Local\\Programs\\Python\\Python39\\lib\\site-packages\\manim\\utils\\deprecation.py\u001b\\\u001b[2mdeprecation.py\u001b[0m\u001b]8;;\u001b\\\u001b[2m:\u001b[0m\u001b]8;id=811561;file://C:\\Users\\thoma\\AppData\\Local\\Programs\\Python\\Python39\\lib\\site-packages\\manim\\utils\\deprecation.py#210\u001b\\\u001b[2m210\u001b[0m\u001b]8;;\u001b\\\n",
       "                             been deprecated since v0.\u001b[32m11.0\u001b[0m and is expected                   \n",
       "                             to be removed after v0.\u001b[32m13.0\u001b[0m. Use plot                           \n",
       "                             instead.                                                        \n"
      ]
     },
     "metadata": {},
     "output_type": "display_data"
    },
    {
     "name": "stderr",
     "output_type": "stream",
     "text": [
      "Animation 1: _MethodAnimation(ValueTracker):  74%|#######4  | 167/225 [01:16<00:42,  1.37it/s]"
     ]
    },
    {
     "data": {
      "text/html": [
       "<pre style=\"white-space:pre;overflow-x:auto;line-height:normal;font-family:Menlo,'DejaVu Sans Mono',consolas,'Courier New',monospace\"><span style=\"color: #7fbfbf; text-decoration-color: #7fbfbf\">[01/31/22 20:56:24] </span><span style=\"color: #800000; text-decoration-color: #800000\">WARNING </span> The method CoordinateSystem.get_graph has     <a href=\"file://C:\\Users\\thoma\\AppData\\Local\\Programs\\Python\\Python39\\lib\\site-packages\\manim\\utils\\deprecation.py\"><span style=\"color: #7f7f7f; text-decoration-color: #7f7f7f\">deprecation.py</span></a><span style=\"color: #7f7f7f; text-decoration-color: #7f7f7f\">:</span><a href=\"file://C:\\Users\\thoma\\AppData\\Local\\Programs\\Python\\Python39\\lib\\site-packages\\manim\\utils\\deprecation.py#210\"><span style=\"color: #7f7f7f; text-decoration-color: #7f7f7f\">210</span></a>\n",
       "                             been deprecated since v0.<span style=\"color: #008000; text-decoration-color: #008000\">11.0</span> and is expected                   \n",
       "                             to be removed after v0.<span style=\"color: #008000; text-decoration-color: #008000\">13.0</span>. Use plot                           \n",
       "                             instead.                                                        \n",
       "</pre>\n"
      ],
      "text/plain": [
       "\u001b[2;36m[01/31/22 20:56:24]\u001b[0m\u001b[2;36m \u001b[0m\u001b[31mWARNING \u001b[0m The method CoordinateSystem.get_graph has     \u001b]8;id=659543;file://C:\\Users\\thoma\\AppData\\Local\\Programs\\Python\\Python39\\lib\\site-packages\\manim\\utils\\deprecation.py\u001b\\\u001b[2mdeprecation.py\u001b[0m\u001b]8;;\u001b\\\u001b[2m:\u001b[0m\u001b]8;id=806761;file://C:\\Users\\thoma\\AppData\\Local\\Programs\\Python\\Python39\\lib\\site-packages\\manim\\utils\\deprecation.py#210\u001b\\\u001b[2m210\u001b[0m\u001b]8;;\u001b\\\n",
       "                             been deprecated since v0.\u001b[32m11.0\u001b[0m and is expected                   \n",
       "                             to be removed after v0.\u001b[32m13.0\u001b[0m. Use plot                           \n",
       "                             instead.                                                        \n"
      ]
     },
     "metadata": {},
     "output_type": "display_data"
    },
    {
     "name": "stderr",
     "output_type": "stream",
     "text": [
      "Animation 1: _MethodAnimation(ValueTracker):  75%|#######4  | 168/225 [01:16<00:40,  1.42it/s]"
     ]
    },
    {
     "data": {
      "text/html": [
       "<pre style=\"white-space:pre;overflow-x:auto;line-height:normal;font-family:Menlo,'DejaVu Sans Mono',consolas,'Courier New',monospace\"><span style=\"color: #7fbfbf; text-decoration-color: #7fbfbf\">                    </span><span style=\"color: #800000; text-decoration-color: #800000\">WARNING </span> The method CoordinateSystem.get_graph has     <a href=\"file://C:\\Users\\thoma\\AppData\\Local\\Programs\\Python\\Python39\\lib\\site-packages\\manim\\utils\\deprecation.py\"><span style=\"color: #7f7f7f; text-decoration-color: #7f7f7f\">deprecation.py</span></a><span style=\"color: #7f7f7f; text-decoration-color: #7f7f7f\">:</span><a href=\"file://C:\\Users\\thoma\\AppData\\Local\\Programs\\Python\\Python39\\lib\\site-packages\\manim\\utils\\deprecation.py#210\"><span style=\"color: #7f7f7f; text-decoration-color: #7f7f7f\">210</span></a>\n",
       "                             been deprecated since v0.<span style=\"color: #008000; text-decoration-color: #008000\">11.0</span> and is expected                   \n",
       "                             to be removed after v0.<span style=\"color: #008000; text-decoration-color: #008000\">13.0</span>. Use plot                           \n",
       "                             instead.                                                        \n",
       "</pre>\n"
      ],
      "text/plain": [
       "\u001b[2;36m                   \u001b[0m\u001b[2;36m \u001b[0m\u001b[31mWARNING \u001b[0m The method CoordinateSystem.get_graph has     \u001b]8;id=238939;file://C:\\Users\\thoma\\AppData\\Local\\Programs\\Python\\Python39\\lib\\site-packages\\manim\\utils\\deprecation.py\u001b\\\u001b[2mdeprecation.py\u001b[0m\u001b]8;;\u001b\\\u001b[2m:\u001b[0m\u001b]8;id=561983;file://C:\\Users\\thoma\\AppData\\Local\\Programs\\Python\\Python39\\lib\\site-packages\\manim\\utils\\deprecation.py#210\u001b\\\u001b[2m210\u001b[0m\u001b]8;;\u001b\\\n",
       "                             been deprecated since v0.\u001b[32m11.0\u001b[0m and is expected                   \n",
       "                             to be removed after v0.\u001b[32m13.0\u001b[0m. Use plot                           \n",
       "                             instead.                                                        \n"
      ]
     },
     "metadata": {},
     "output_type": "display_data"
    },
    {
     "name": "stderr",
     "output_type": "stream",
     "text": [
      "Animation 1: _MethodAnimation(ValueTracker):  75%|#######5  | 169/225 [01:17<00:38,  1.44it/s]"
     ]
    },
    {
     "data": {
      "text/html": [
       "<pre style=\"white-space:pre;overflow-x:auto;line-height:normal;font-family:Menlo,'DejaVu Sans Mono',consolas,'Courier New',monospace\"><span style=\"color: #7fbfbf; text-decoration-color: #7fbfbf\">[01/31/22 20:56:25] </span><span style=\"color: #800000; text-decoration-color: #800000\">WARNING </span> The method CoordinateSystem.get_graph has     <a href=\"file://C:\\Users\\thoma\\AppData\\Local\\Programs\\Python\\Python39\\lib\\site-packages\\manim\\utils\\deprecation.py\"><span style=\"color: #7f7f7f; text-decoration-color: #7f7f7f\">deprecation.py</span></a><span style=\"color: #7f7f7f; text-decoration-color: #7f7f7f\">:</span><a href=\"file://C:\\Users\\thoma\\AppData\\Local\\Programs\\Python\\Python39\\lib\\site-packages\\manim\\utils\\deprecation.py#210\"><span style=\"color: #7f7f7f; text-decoration-color: #7f7f7f\">210</span></a>\n",
       "                             been deprecated since v0.<span style=\"color: #008000; text-decoration-color: #008000\">11.0</span> and is expected                   \n",
       "                             to be removed after v0.<span style=\"color: #008000; text-decoration-color: #008000\">13.0</span>. Use plot                           \n",
       "                             instead.                                                        \n",
       "</pre>\n"
      ],
      "text/plain": [
       "\u001b[2;36m[01/31/22 20:56:25]\u001b[0m\u001b[2;36m \u001b[0m\u001b[31mWARNING \u001b[0m The method CoordinateSystem.get_graph has     \u001b]8;id=819554;file://C:\\Users\\thoma\\AppData\\Local\\Programs\\Python\\Python39\\lib\\site-packages\\manim\\utils\\deprecation.py\u001b\\\u001b[2mdeprecation.py\u001b[0m\u001b]8;;\u001b\\\u001b[2m:\u001b[0m\u001b]8;id=957064;file://C:\\Users\\thoma\\AppData\\Local\\Programs\\Python\\Python39\\lib\\site-packages\\manim\\utils\\deprecation.py#210\u001b\\\u001b[2m210\u001b[0m\u001b]8;;\u001b\\\n",
       "                             been deprecated since v0.\u001b[32m11.0\u001b[0m and is expected                   \n",
       "                             to be removed after v0.\u001b[32m13.0\u001b[0m. Use plot                           \n",
       "                             instead.                                                        \n"
      ]
     },
     "metadata": {},
     "output_type": "display_data"
    },
    {
     "name": "stderr",
     "output_type": "stream",
     "text": [
      "Animation 1: _MethodAnimation(ValueTracker):  76%|#######5  | 170/225 [01:18<00:36,  1.51it/s]"
     ]
    },
    {
     "data": {
      "text/html": [
       "<pre style=\"white-space:pre;overflow-x:auto;line-height:normal;font-family:Menlo,'DejaVu Sans Mono',consolas,'Courier New',monospace\"><span style=\"color: #7fbfbf; text-decoration-color: #7fbfbf\">[01/31/22 20:56:26] </span><span style=\"color: #800000; text-decoration-color: #800000\">WARNING </span> The method CoordinateSystem.get_graph has     <a href=\"file://C:\\Users\\thoma\\AppData\\Local\\Programs\\Python\\Python39\\lib\\site-packages\\manim\\utils\\deprecation.py\"><span style=\"color: #7f7f7f; text-decoration-color: #7f7f7f\">deprecation.py</span></a><span style=\"color: #7f7f7f; text-decoration-color: #7f7f7f\">:</span><a href=\"file://C:\\Users\\thoma\\AppData\\Local\\Programs\\Python\\Python39\\lib\\site-packages\\manim\\utils\\deprecation.py#210\"><span style=\"color: #7f7f7f; text-decoration-color: #7f7f7f\">210</span></a>\n",
       "                             been deprecated since v0.<span style=\"color: #008000; text-decoration-color: #008000\">11.0</span> and is expected                   \n",
       "                             to be removed after v0.<span style=\"color: #008000; text-decoration-color: #008000\">13.0</span>. Use plot                           \n",
       "                             instead.                                                        \n",
       "</pre>\n"
      ],
      "text/plain": [
       "\u001b[2;36m[01/31/22 20:56:26]\u001b[0m\u001b[2;36m \u001b[0m\u001b[31mWARNING \u001b[0m The method CoordinateSystem.get_graph has     \u001b]8;id=506645;file://C:\\Users\\thoma\\AppData\\Local\\Programs\\Python\\Python39\\lib\\site-packages\\manim\\utils\\deprecation.py\u001b\\\u001b[2mdeprecation.py\u001b[0m\u001b]8;;\u001b\\\u001b[2m:\u001b[0m\u001b]8;id=606883;file://C:\\Users\\thoma\\AppData\\Local\\Programs\\Python\\Python39\\lib\\site-packages\\manim\\utils\\deprecation.py#210\u001b\\\u001b[2m210\u001b[0m\u001b]8;;\u001b\\\n",
       "                             been deprecated since v0.\u001b[32m11.0\u001b[0m and is expected                   \n",
       "                             to be removed after v0.\u001b[32m13.0\u001b[0m. Use plot                           \n",
       "                             instead.                                                        \n"
      ]
     },
     "metadata": {},
     "output_type": "display_data"
    },
    {
     "name": "stderr",
     "output_type": "stream",
     "text": [
      "Animation 1: _MethodAnimation(ValueTracker):  76%|#######6  | 171/225 [01:18<00:32,  1.65it/s]"
     ]
    },
    {
     "data": {
      "text/html": [
       "<pre style=\"white-space:pre;overflow-x:auto;line-height:normal;font-family:Menlo,'DejaVu Sans Mono',consolas,'Courier New',monospace\"><span style=\"color: #7fbfbf; text-decoration-color: #7fbfbf\">                    </span><span style=\"color: #800000; text-decoration-color: #800000\">WARNING </span> The method CoordinateSystem.get_graph has     <a href=\"file://C:\\Users\\thoma\\AppData\\Local\\Programs\\Python\\Python39\\lib\\site-packages\\manim\\utils\\deprecation.py\"><span style=\"color: #7f7f7f; text-decoration-color: #7f7f7f\">deprecation.py</span></a><span style=\"color: #7f7f7f; text-decoration-color: #7f7f7f\">:</span><a href=\"file://C:\\Users\\thoma\\AppData\\Local\\Programs\\Python\\Python39\\lib\\site-packages\\manim\\utils\\deprecation.py#210\"><span style=\"color: #7f7f7f; text-decoration-color: #7f7f7f\">210</span></a>\n",
       "                             been deprecated since v0.<span style=\"color: #008000; text-decoration-color: #008000\">11.0</span> and is expected                   \n",
       "                             to be removed after v0.<span style=\"color: #008000; text-decoration-color: #008000\">13.0</span>. Use plot                           \n",
       "                             instead.                                                        \n",
       "</pre>\n"
      ],
      "text/plain": [
       "\u001b[2;36m                   \u001b[0m\u001b[2;36m \u001b[0m\u001b[31mWARNING \u001b[0m The method CoordinateSystem.get_graph has     \u001b]8;id=884738;file://C:\\Users\\thoma\\AppData\\Local\\Programs\\Python\\Python39\\lib\\site-packages\\manim\\utils\\deprecation.py\u001b\\\u001b[2mdeprecation.py\u001b[0m\u001b]8;;\u001b\\\u001b[2m:\u001b[0m\u001b]8;id=39560;file://C:\\Users\\thoma\\AppData\\Local\\Programs\\Python\\Python39\\lib\\site-packages\\manim\\utils\\deprecation.py#210\u001b\\\u001b[2m210\u001b[0m\u001b]8;;\u001b\\\n",
       "                             been deprecated since v0.\u001b[32m11.0\u001b[0m and is expected                   \n",
       "                             to be removed after v0.\u001b[32m13.0\u001b[0m. Use plot                           \n",
       "                             instead.                                                        \n"
      ]
     },
     "metadata": {},
     "output_type": "display_data"
    },
    {
     "name": "stderr",
     "output_type": "stream",
     "text": [
      "Animation 1: _MethodAnimation(ValueTracker):  76%|#######6  | 172/225 [01:18<00:29,  1.80it/s]"
     ]
    },
    {
     "data": {
      "text/html": [
       "<pre style=\"white-space:pre;overflow-x:auto;line-height:normal;font-family:Menlo,'DejaVu Sans Mono',consolas,'Courier New',monospace\"><span style=\"color: #7fbfbf; text-decoration-color: #7fbfbf\">[01/31/22 20:56:27] </span><span style=\"color: #800000; text-decoration-color: #800000\">WARNING </span> The method CoordinateSystem.get_graph has     <a href=\"file://C:\\Users\\thoma\\AppData\\Local\\Programs\\Python\\Python39\\lib\\site-packages\\manim\\utils\\deprecation.py\"><span style=\"color: #7f7f7f; text-decoration-color: #7f7f7f\">deprecation.py</span></a><span style=\"color: #7f7f7f; text-decoration-color: #7f7f7f\">:</span><a href=\"file://C:\\Users\\thoma\\AppData\\Local\\Programs\\Python\\Python39\\lib\\site-packages\\manim\\utils\\deprecation.py#210\"><span style=\"color: #7f7f7f; text-decoration-color: #7f7f7f\">210</span></a>\n",
       "                             been deprecated since v0.<span style=\"color: #008000; text-decoration-color: #008000\">11.0</span> and is expected                   \n",
       "                             to be removed after v0.<span style=\"color: #008000; text-decoration-color: #008000\">13.0</span>. Use plot                           \n",
       "                             instead.                                                        \n",
       "</pre>\n"
      ],
      "text/plain": [
       "\u001b[2;36m[01/31/22 20:56:27]\u001b[0m\u001b[2;36m \u001b[0m\u001b[31mWARNING \u001b[0m The method CoordinateSystem.get_graph has     \u001b]8;id=932457;file://C:\\Users\\thoma\\AppData\\Local\\Programs\\Python\\Python39\\lib\\site-packages\\manim\\utils\\deprecation.py\u001b\\\u001b[2mdeprecation.py\u001b[0m\u001b]8;;\u001b\\\u001b[2m:\u001b[0m\u001b]8;id=760122;file://C:\\Users\\thoma\\AppData\\Local\\Programs\\Python\\Python39\\lib\\site-packages\\manim\\utils\\deprecation.py#210\u001b\\\u001b[2m210\u001b[0m\u001b]8;;\u001b\\\n",
       "                             been deprecated since v0.\u001b[32m11.0\u001b[0m and is expected                   \n",
       "                             to be removed after v0.\u001b[32m13.0\u001b[0m. Use plot                           \n",
       "                             instead.                                                        \n"
      ]
     },
     "metadata": {},
     "output_type": "display_data"
    },
    {
     "name": "stderr",
     "output_type": "stream",
     "text": [
      "Animation 1: _MethodAnimation(ValueTracker):  77%|#######6  | 173/225 [01:19<00:29,  1.76it/s]"
     ]
    },
    {
     "data": {
      "text/html": [
       "<pre style=\"white-space:pre;overflow-x:auto;line-height:normal;font-family:Menlo,'DejaVu Sans Mono',consolas,'Courier New',monospace\"><span style=\"color: #7fbfbf; text-decoration-color: #7fbfbf\">                    </span><span style=\"color: #800000; text-decoration-color: #800000\">WARNING </span> The method CoordinateSystem.get_graph has     <a href=\"file://C:\\Users\\thoma\\AppData\\Local\\Programs\\Python\\Python39\\lib\\site-packages\\manim\\utils\\deprecation.py\"><span style=\"color: #7f7f7f; text-decoration-color: #7f7f7f\">deprecation.py</span></a><span style=\"color: #7f7f7f; text-decoration-color: #7f7f7f\">:</span><a href=\"file://C:\\Users\\thoma\\AppData\\Local\\Programs\\Python\\Python39\\lib\\site-packages\\manim\\utils\\deprecation.py#210\"><span style=\"color: #7f7f7f; text-decoration-color: #7f7f7f\">210</span></a>\n",
       "                             been deprecated since v0.<span style=\"color: #008000; text-decoration-color: #008000\">11.0</span> and is expected                   \n",
       "                             to be removed after v0.<span style=\"color: #008000; text-decoration-color: #008000\">13.0</span>. Use plot                           \n",
       "                             instead.                                                        \n",
       "</pre>\n"
      ],
      "text/plain": [
       "\u001b[2;36m                   \u001b[0m\u001b[2;36m \u001b[0m\u001b[31mWARNING \u001b[0m The method CoordinateSystem.get_graph has     \u001b]8;id=431158;file://C:\\Users\\thoma\\AppData\\Local\\Programs\\Python\\Python39\\lib\\site-packages\\manim\\utils\\deprecation.py\u001b\\\u001b[2mdeprecation.py\u001b[0m\u001b]8;;\u001b\\\u001b[2m:\u001b[0m\u001b]8;id=182776;file://C:\\Users\\thoma\\AppData\\Local\\Programs\\Python\\Python39\\lib\\site-packages\\manim\\utils\\deprecation.py#210\u001b\\\u001b[2m210\u001b[0m\u001b]8;;\u001b\\\n",
       "                             been deprecated since v0.\u001b[32m11.0\u001b[0m and is expected                   \n",
       "                             to be removed after v0.\u001b[32m13.0\u001b[0m. Use plot                           \n",
       "                             instead.                                                        \n"
      ]
     },
     "metadata": {},
     "output_type": "display_data"
    },
    {
     "name": "stderr",
     "output_type": "stream",
     "text": [
      "Animation 1: _MethodAnimation(ValueTracker):  77%|#######7  | 174/225 [01:20<00:28,  1.78it/s]"
     ]
    },
    {
     "data": {
      "text/html": [
       "<pre style=\"white-space:pre;overflow-x:auto;line-height:normal;font-family:Menlo,'DejaVu Sans Mono',consolas,'Courier New',monospace\"><span style=\"color: #7fbfbf; text-decoration-color: #7fbfbf\">[01/31/22 20:56:28] </span><span style=\"color: #800000; text-decoration-color: #800000\">WARNING </span> The method CoordinateSystem.get_graph has     <a href=\"file://C:\\Users\\thoma\\AppData\\Local\\Programs\\Python\\Python39\\lib\\site-packages\\manim\\utils\\deprecation.py\"><span style=\"color: #7f7f7f; text-decoration-color: #7f7f7f\">deprecation.py</span></a><span style=\"color: #7f7f7f; text-decoration-color: #7f7f7f\">:</span><a href=\"file://C:\\Users\\thoma\\AppData\\Local\\Programs\\Python\\Python39\\lib\\site-packages\\manim\\utils\\deprecation.py#210\"><span style=\"color: #7f7f7f; text-decoration-color: #7f7f7f\">210</span></a>\n",
       "                             been deprecated since v0.<span style=\"color: #008000; text-decoration-color: #008000\">11.0</span> and is expected                   \n",
       "                             to be removed after v0.<span style=\"color: #008000; text-decoration-color: #008000\">13.0</span>. Use plot                           \n",
       "                             instead.                                                        \n",
       "</pre>\n"
      ],
      "text/plain": [
       "\u001b[2;36m[01/31/22 20:56:28]\u001b[0m\u001b[2;36m \u001b[0m\u001b[31mWARNING \u001b[0m The method CoordinateSystem.get_graph has     \u001b]8;id=512111;file://C:\\Users\\thoma\\AppData\\Local\\Programs\\Python\\Python39\\lib\\site-packages\\manim\\utils\\deprecation.py\u001b\\\u001b[2mdeprecation.py\u001b[0m\u001b]8;;\u001b\\\u001b[2m:\u001b[0m\u001b]8;id=918350;file://C:\\Users\\thoma\\AppData\\Local\\Programs\\Python\\Python39\\lib\\site-packages\\manim\\utils\\deprecation.py#210\u001b\\\u001b[2m210\u001b[0m\u001b]8;;\u001b\\\n",
       "                             been deprecated since v0.\u001b[32m11.0\u001b[0m and is expected                   \n",
       "                             to be removed after v0.\u001b[32m13.0\u001b[0m. Use plot                           \n",
       "                             instead.                                                        \n"
      ]
     },
     "metadata": {},
     "output_type": "display_data"
    },
    {
     "name": "stderr",
     "output_type": "stream",
     "text": [
      "Animation 1: _MethodAnimation(ValueTracker):  78%|#######7  | 175/225 [01:20<00:29,  1.69it/s]"
     ]
    },
    {
     "data": {
      "text/html": [
       "<pre style=\"white-space:pre;overflow-x:auto;line-height:normal;font-family:Menlo,'DejaVu Sans Mono',consolas,'Courier New',monospace\"><span style=\"color: #7fbfbf; text-decoration-color: #7fbfbf\">                    </span><span style=\"color: #800000; text-decoration-color: #800000\">WARNING </span> The method CoordinateSystem.get_graph has     <a href=\"file://C:\\Users\\thoma\\AppData\\Local\\Programs\\Python\\Python39\\lib\\site-packages\\manim\\utils\\deprecation.py\"><span style=\"color: #7f7f7f; text-decoration-color: #7f7f7f\">deprecation.py</span></a><span style=\"color: #7f7f7f; text-decoration-color: #7f7f7f\">:</span><a href=\"file://C:\\Users\\thoma\\AppData\\Local\\Programs\\Python\\Python39\\lib\\site-packages\\manim\\utils\\deprecation.py#210\"><span style=\"color: #7f7f7f; text-decoration-color: #7f7f7f\">210</span></a>\n",
       "                             been deprecated since v0.<span style=\"color: #008000; text-decoration-color: #008000\">11.0</span> and is expected                   \n",
       "                             to be removed after v0.<span style=\"color: #008000; text-decoration-color: #008000\">13.0</span>. Use plot                           \n",
       "                             instead.                                                        \n",
       "</pre>\n"
      ],
      "text/plain": [
       "\u001b[2;36m                   \u001b[0m\u001b[2;36m \u001b[0m\u001b[31mWARNING \u001b[0m The method CoordinateSystem.get_graph has     \u001b]8;id=562550;file://C:\\Users\\thoma\\AppData\\Local\\Programs\\Python\\Python39\\lib\\site-packages\\manim\\utils\\deprecation.py\u001b\\\u001b[2mdeprecation.py\u001b[0m\u001b]8;;\u001b\\\u001b[2m:\u001b[0m\u001b]8;id=8396;file://C:\\Users\\thoma\\AppData\\Local\\Programs\\Python\\Python39\\lib\\site-packages\\manim\\utils\\deprecation.py#210\u001b\\\u001b[2m210\u001b[0m\u001b]8;;\u001b\\\n",
       "                             been deprecated since v0.\u001b[32m11.0\u001b[0m and is expected                   \n",
       "                             to be removed after v0.\u001b[32m13.0\u001b[0m. Use plot                           \n",
       "                             instead.                                                        \n"
      ]
     },
     "metadata": {},
     "output_type": "display_data"
    },
    {
     "name": "stderr",
     "output_type": "stream",
     "text": [
      "Animation 1: _MethodAnimation(ValueTracker):  78%|#######8  | 176/225 [01:21<00:28,  1.69it/s]"
     ]
    },
    {
     "data": {
      "text/html": [
       "<pre style=\"white-space:pre;overflow-x:auto;line-height:normal;font-family:Menlo,'DejaVu Sans Mono',consolas,'Courier New',monospace\"><span style=\"color: #7fbfbf; text-decoration-color: #7fbfbf\">[01/31/22 20:56:29] </span><span style=\"color: #800000; text-decoration-color: #800000\">WARNING </span> The method CoordinateSystem.get_graph has     <a href=\"file://C:\\Users\\thoma\\AppData\\Local\\Programs\\Python\\Python39\\lib\\site-packages\\manim\\utils\\deprecation.py\"><span style=\"color: #7f7f7f; text-decoration-color: #7f7f7f\">deprecation.py</span></a><span style=\"color: #7f7f7f; text-decoration-color: #7f7f7f\">:</span><a href=\"file://C:\\Users\\thoma\\AppData\\Local\\Programs\\Python\\Python39\\lib\\site-packages\\manim\\utils\\deprecation.py#210\"><span style=\"color: #7f7f7f; text-decoration-color: #7f7f7f\">210</span></a>\n",
       "                             been deprecated since v0.<span style=\"color: #008000; text-decoration-color: #008000\">11.0</span> and is expected                   \n",
       "                             to be removed after v0.<span style=\"color: #008000; text-decoration-color: #008000\">13.0</span>. Use plot                           \n",
       "                             instead.                                                        \n",
       "</pre>\n"
      ],
      "text/plain": [
       "\u001b[2;36m[01/31/22 20:56:29]\u001b[0m\u001b[2;36m \u001b[0m\u001b[31mWARNING \u001b[0m The method CoordinateSystem.get_graph has     \u001b]8;id=305279;file://C:\\Users\\thoma\\AppData\\Local\\Programs\\Python\\Python39\\lib\\site-packages\\manim\\utils\\deprecation.py\u001b\\\u001b[2mdeprecation.py\u001b[0m\u001b]8;;\u001b\\\u001b[2m:\u001b[0m\u001b]8;id=172470;file://C:\\Users\\thoma\\AppData\\Local\\Programs\\Python\\Python39\\lib\\site-packages\\manim\\utils\\deprecation.py#210\u001b\\\u001b[2m210\u001b[0m\u001b]8;;\u001b\\\n",
       "                             been deprecated since v0.\u001b[32m11.0\u001b[0m and is expected                   \n",
       "                             to be removed after v0.\u001b[32m13.0\u001b[0m. Use plot                           \n",
       "                             instead.                                                        \n"
      ]
     },
     "metadata": {},
     "output_type": "display_data"
    },
    {
     "name": "stderr",
     "output_type": "stream",
     "text": [
      "Animation 1: _MethodAnimation(ValueTracker):  79%|#######8  | 177/225 [01:22<00:31,  1.54it/s]"
     ]
    },
    {
     "data": {
      "text/html": [
       "<pre style=\"white-space:pre;overflow-x:auto;line-height:normal;font-family:Menlo,'DejaVu Sans Mono',consolas,'Courier New',monospace\"><span style=\"color: #7fbfbf; text-decoration-color: #7fbfbf\">[01/31/22 20:56:30] </span><span style=\"color: #800000; text-decoration-color: #800000\">WARNING </span> The method CoordinateSystem.get_graph has     <a href=\"file://C:\\Users\\thoma\\AppData\\Local\\Programs\\Python\\Python39\\lib\\site-packages\\manim\\utils\\deprecation.py\"><span style=\"color: #7f7f7f; text-decoration-color: #7f7f7f\">deprecation.py</span></a><span style=\"color: #7f7f7f; text-decoration-color: #7f7f7f\">:</span><a href=\"file://C:\\Users\\thoma\\AppData\\Local\\Programs\\Python\\Python39\\lib\\site-packages\\manim\\utils\\deprecation.py#210\"><span style=\"color: #7f7f7f; text-decoration-color: #7f7f7f\">210</span></a>\n",
       "                             been deprecated since v0.<span style=\"color: #008000; text-decoration-color: #008000\">11.0</span> and is expected                   \n",
       "                             to be removed after v0.<span style=\"color: #008000; text-decoration-color: #008000\">13.0</span>. Use plot                           \n",
       "                             instead.                                                        \n",
       "</pre>\n"
      ],
      "text/plain": [
       "\u001b[2;36m[01/31/22 20:56:30]\u001b[0m\u001b[2;36m \u001b[0m\u001b[31mWARNING \u001b[0m The method CoordinateSystem.get_graph has     \u001b]8;id=290963;file://C:\\Users\\thoma\\AppData\\Local\\Programs\\Python\\Python39\\lib\\site-packages\\manim\\utils\\deprecation.py\u001b\\\u001b[2mdeprecation.py\u001b[0m\u001b]8;;\u001b\\\u001b[2m:\u001b[0m\u001b]8;id=891155;file://C:\\Users\\thoma\\AppData\\Local\\Programs\\Python\\Python39\\lib\\site-packages\\manim\\utils\\deprecation.py#210\u001b\\\u001b[2m210\u001b[0m\u001b]8;;\u001b\\\n",
       "                             been deprecated since v0.\u001b[32m11.0\u001b[0m and is expected                   \n",
       "                             to be removed after v0.\u001b[32m13.0\u001b[0m. Use plot                           \n",
       "                             instead.                                                        \n"
      ]
     },
     "metadata": {},
     "output_type": "display_data"
    },
    {
     "name": "stderr",
     "output_type": "stream",
     "text": [
      "Animation 1: _MethodAnimation(ValueTracker):  79%|#######9  | 178/225 [01:22<00:33,  1.42it/s]"
     ]
    },
    {
     "data": {
      "text/html": [
       "<pre style=\"white-space:pre;overflow-x:auto;line-height:normal;font-family:Menlo,'DejaVu Sans Mono',consolas,'Courier New',monospace\"><span style=\"color: #7fbfbf; text-decoration-color: #7fbfbf\">[01/31/22 20:56:31] </span><span style=\"color: #800000; text-decoration-color: #800000\">WARNING </span> The method CoordinateSystem.get_graph has     <a href=\"file://C:\\Users\\thoma\\AppData\\Local\\Programs\\Python\\Python39\\lib\\site-packages\\manim\\utils\\deprecation.py\"><span style=\"color: #7f7f7f; text-decoration-color: #7f7f7f\">deprecation.py</span></a><span style=\"color: #7f7f7f; text-decoration-color: #7f7f7f\">:</span><a href=\"file://C:\\Users\\thoma\\AppData\\Local\\Programs\\Python\\Python39\\lib\\site-packages\\manim\\utils\\deprecation.py#210\"><span style=\"color: #7f7f7f; text-decoration-color: #7f7f7f\">210</span></a>\n",
       "                             been deprecated since v0.<span style=\"color: #008000; text-decoration-color: #008000\">11.0</span> and is expected                   \n",
       "                             to be removed after v0.<span style=\"color: #008000; text-decoration-color: #008000\">13.0</span>. Use plot                           \n",
       "                             instead.                                                        \n",
       "</pre>\n"
      ],
      "text/plain": [
       "\u001b[2;36m[01/31/22 20:56:31]\u001b[0m\u001b[2;36m \u001b[0m\u001b[31mWARNING \u001b[0m The method CoordinateSystem.get_graph has     \u001b]8;id=522289;file://C:\\Users\\thoma\\AppData\\Local\\Programs\\Python\\Python39\\lib\\site-packages\\manim\\utils\\deprecation.py\u001b\\\u001b[2mdeprecation.py\u001b[0m\u001b]8;;\u001b\\\u001b[2m:\u001b[0m\u001b]8;id=31559;file://C:\\Users\\thoma\\AppData\\Local\\Programs\\Python\\Python39\\lib\\site-packages\\manim\\utils\\deprecation.py#210\u001b\\\u001b[2m210\u001b[0m\u001b]8;;\u001b\\\n",
       "                             been deprecated since v0.\u001b[32m11.0\u001b[0m and is expected                   \n",
       "                             to be removed after v0.\u001b[32m13.0\u001b[0m. Use plot                           \n",
       "                             instead.                                                        \n"
      ]
     },
     "metadata": {},
     "output_type": "display_data"
    },
    {
     "name": "stderr",
     "output_type": "stream",
     "text": [
      "Animation 1: _MethodAnimation(ValueTracker):  80%|#######9  | 179/225 [01:23<00:29,  1.57it/s]"
     ]
    },
    {
     "data": {
      "text/html": [
       "<pre style=\"white-space:pre;overflow-x:auto;line-height:normal;font-family:Menlo,'DejaVu Sans Mono',consolas,'Courier New',monospace\"><span style=\"color: #7fbfbf; text-decoration-color: #7fbfbf\">                    </span><span style=\"color: #800000; text-decoration-color: #800000\">WARNING </span> The method CoordinateSystem.get_graph has     <a href=\"file://C:\\Users\\thoma\\AppData\\Local\\Programs\\Python\\Python39\\lib\\site-packages\\manim\\utils\\deprecation.py\"><span style=\"color: #7f7f7f; text-decoration-color: #7f7f7f\">deprecation.py</span></a><span style=\"color: #7f7f7f; text-decoration-color: #7f7f7f\">:</span><a href=\"file://C:\\Users\\thoma\\AppData\\Local\\Programs\\Python\\Python39\\lib\\site-packages\\manim\\utils\\deprecation.py#210\"><span style=\"color: #7f7f7f; text-decoration-color: #7f7f7f\">210</span></a>\n",
       "                             been deprecated since v0.<span style=\"color: #008000; text-decoration-color: #008000\">11.0</span> and is expected                   \n",
       "                             to be removed after v0.<span style=\"color: #008000; text-decoration-color: #008000\">13.0</span>. Use plot                           \n",
       "                             instead.                                                        \n",
       "</pre>\n"
      ],
      "text/plain": [
       "\u001b[2;36m                   \u001b[0m\u001b[2;36m \u001b[0m\u001b[31mWARNING \u001b[0m The method CoordinateSystem.get_graph has     \u001b]8;id=53665;file://C:\\Users\\thoma\\AppData\\Local\\Programs\\Python\\Python39\\lib\\site-packages\\manim\\utils\\deprecation.py\u001b\\\u001b[2mdeprecation.py\u001b[0m\u001b]8;;\u001b\\\u001b[2m:\u001b[0m\u001b]8;id=499781;file://C:\\Users\\thoma\\AppData\\Local\\Programs\\Python\\Python39\\lib\\site-packages\\manim\\utils\\deprecation.py#210\u001b\\\u001b[2m210\u001b[0m\u001b]8;;\u001b\\\n",
       "                             been deprecated since v0.\u001b[32m11.0\u001b[0m and is expected                   \n",
       "                             to be removed after v0.\u001b[32m13.0\u001b[0m. Use plot                           \n",
       "                             instead.                                                        \n"
      ]
     },
     "metadata": {},
     "output_type": "display_data"
    },
    {
     "name": "stderr",
     "output_type": "stream",
     "text": [
      "Animation 1: _MethodAnimation(ValueTracker):  80%|########  | 180/225 [01:23<00:26,  1.67it/s]"
     ]
    },
    {
     "data": {
      "text/html": [
       "<pre style=\"white-space:pre;overflow-x:auto;line-height:normal;font-family:Menlo,'DejaVu Sans Mono',consolas,'Courier New',monospace\"><span style=\"color: #7fbfbf; text-decoration-color: #7fbfbf\">[01/31/22 20:56:32] </span><span style=\"color: #800000; text-decoration-color: #800000\">WARNING </span> The method CoordinateSystem.get_graph has     <a href=\"file://C:\\Users\\thoma\\AppData\\Local\\Programs\\Python\\Python39\\lib\\site-packages\\manim\\utils\\deprecation.py\"><span style=\"color: #7f7f7f; text-decoration-color: #7f7f7f\">deprecation.py</span></a><span style=\"color: #7f7f7f; text-decoration-color: #7f7f7f\">:</span><a href=\"file://C:\\Users\\thoma\\AppData\\Local\\Programs\\Python\\Python39\\lib\\site-packages\\manim\\utils\\deprecation.py#210\"><span style=\"color: #7f7f7f; text-decoration-color: #7f7f7f\">210</span></a>\n",
       "                             been deprecated since v0.<span style=\"color: #008000; text-decoration-color: #008000\">11.0</span> and is expected                   \n",
       "                             to be removed after v0.<span style=\"color: #008000; text-decoration-color: #008000\">13.0</span>. Use plot                           \n",
       "                             instead.                                                        \n",
       "</pre>\n"
      ],
      "text/plain": [
       "\u001b[2;36m[01/31/22 20:56:32]\u001b[0m\u001b[2;36m \u001b[0m\u001b[31mWARNING \u001b[0m The method CoordinateSystem.get_graph has     \u001b]8;id=212364;file://C:\\Users\\thoma\\AppData\\Local\\Programs\\Python\\Python39\\lib\\site-packages\\manim\\utils\\deprecation.py\u001b\\\u001b[2mdeprecation.py\u001b[0m\u001b]8;;\u001b\\\u001b[2m:\u001b[0m\u001b]8;id=85912;file://C:\\Users\\thoma\\AppData\\Local\\Programs\\Python\\Python39\\lib\\site-packages\\manim\\utils\\deprecation.py#210\u001b\\\u001b[2m210\u001b[0m\u001b]8;;\u001b\\\n",
       "                             been deprecated since v0.\u001b[32m11.0\u001b[0m and is expected                   \n",
       "                             to be removed after v0.\u001b[32m13.0\u001b[0m. Use plot                           \n",
       "                             instead.                                                        \n"
      ]
     },
     "metadata": {},
     "output_type": "display_data"
    },
    {
     "name": "stderr",
     "output_type": "stream",
     "text": [
      "Animation 1: _MethodAnimation(ValueTracker):  80%|########  | 181/225 [01:24<00:26,  1.67it/s]"
     ]
    },
    {
     "data": {
      "text/html": [
       "<pre style=\"white-space:pre;overflow-x:auto;line-height:normal;font-family:Menlo,'DejaVu Sans Mono',consolas,'Courier New',monospace\"><span style=\"color: #7fbfbf; text-decoration-color: #7fbfbf\">                    </span><span style=\"color: #800000; text-decoration-color: #800000\">WARNING </span> The method CoordinateSystem.get_graph has     <a href=\"file://C:\\Users\\thoma\\AppData\\Local\\Programs\\Python\\Python39\\lib\\site-packages\\manim\\utils\\deprecation.py\"><span style=\"color: #7f7f7f; text-decoration-color: #7f7f7f\">deprecation.py</span></a><span style=\"color: #7f7f7f; text-decoration-color: #7f7f7f\">:</span><a href=\"file://C:\\Users\\thoma\\AppData\\Local\\Programs\\Python\\Python39\\lib\\site-packages\\manim\\utils\\deprecation.py#210\"><span style=\"color: #7f7f7f; text-decoration-color: #7f7f7f\">210</span></a>\n",
       "                             been deprecated since v0.<span style=\"color: #008000; text-decoration-color: #008000\">11.0</span> and is expected                   \n",
       "                             to be removed after v0.<span style=\"color: #008000; text-decoration-color: #008000\">13.0</span>. Use plot                           \n",
       "                             instead.                                                        \n",
       "</pre>\n"
      ],
      "text/plain": [
       "\u001b[2;36m                   \u001b[0m\u001b[2;36m \u001b[0m\u001b[31mWARNING \u001b[0m The method CoordinateSystem.get_graph has     \u001b]8;id=345262;file://C:\\Users\\thoma\\AppData\\Local\\Programs\\Python\\Python39\\lib\\site-packages\\manim\\utils\\deprecation.py\u001b\\\u001b[2mdeprecation.py\u001b[0m\u001b]8;;\u001b\\\u001b[2m:\u001b[0m\u001b]8;id=15467;file://C:\\Users\\thoma\\AppData\\Local\\Programs\\Python\\Python39\\lib\\site-packages\\manim\\utils\\deprecation.py#210\u001b\\\u001b[2m210\u001b[0m\u001b]8;;\u001b\\\n",
       "                             been deprecated since v0.\u001b[32m11.0\u001b[0m and is expected                   \n",
       "                             to be removed after v0.\u001b[32m13.0\u001b[0m. Use plot                           \n",
       "                             instead.                                                        \n"
      ]
     },
     "metadata": {},
     "output_type": "display_data"
    },
    {
     "name": "stderr",
     "output_type": "stream",
     "text": [
      "Animation 1: _MethodAnimation(ValueTracker):  81%|########  | 182/225 [01:25<00:24,  1.76it/s]"
     ]
    },
    {
     "data": {
      "text/html": [
       "<pre style=\"white-space:pre;overflow-x:auto;line-height:normal;font-family:Menlo,'DejaVu Sans Mono',consolas,'Courier New',monospace\"><span style=\"color: #7fbfbf; text-decoration-color: #7fbfbf\">[01/31/22 20:56:33] </span><span style=\"color: #800000; text-decoration-color: #800000\">WARNING </span> The method CoordinateSystem.get_graph has     <a href=\"file://C:\\Users\\thoma\\AppData\\Local\\Programs\\Python\\Python39\\lib\\site-packages\\manim\\utils\\deprecation.py\"><span style=\"color: #7f7f7f; text-decoration-color: #7f7f7f\">deprecation.py</span></a><span style=\"color: #7f7f7f; text-decoration-color: #7f7f7f\">:</span><a href=\"file://C:\\Users\\thoma\\AppData\\Local\\Programs\\Python\\Python39\\lib\\site-packages\\manim\\utils\\deprecation.py#210\"><span style=\"color: #7f7f7f; text-decoration-color: #7f7f7f\">210</span></a>\n",
       "                             been deprecated since v0.<span style=\"color: #008000; text-decoration-color: #008000\">11.0</span> and is expected                   \n",
       "                             to be removed after v0.<span style=\"color: #008000; text-decoration-color: #008000\">13.0</span>. Use plot                           \n",
       "                             instead.                                                        \n",
       "</pre>\n"
      ],
      "text/plain": [
       "\u001b[2;36m[01/31/22 20:56:33]\u001b[0m\u001b[2;36m \u001b[0m\u001b[31mWARNING \u001b[0m The method CoordinateSystem.get_graph has     \u001b]8;id=79831;file://C:\\Users\\thoma\\AppData\\Local\\Programs\\Python\\Python39\\lib\\site-packages\\manim\\utils\\deprecation.py\u001b\\\u001b[2mdeprecation.py\u001b[0m\u001b]8;;\u001b\\\u001b[2m:\u001b[0m\u001b]8;id=826875;file://C:\\Users\\thoma\\AppData\\Local\\Programs\\Python\\Python39\\lib\\site-packages\\manim\\utils\\deprecation.py#210\u001b\\\u001b[2m210\u001b[0m\u001b]8;;\u001b\\\n",
       "                             been deprecated since v0.\u001b[32m11.0\u001b[0m and is expected                   \n",
       "                             to be removed after v0.\u001b[32m13.0\u001b[0m. Use plot                           \n",
       "                             instead.                                                        \n"
      ]
     },
     "metadata": {},
     "output_type": "display_data"
    },
    {
     "name": "stderr",
     "output_type": "stream",
     "text": [
      "Animation 1: _MethodAnimation(ValueTracker):  81%|########1 | 183/225 [01:25<00:23,  1.77it/s]"
     ]
    },
    {
     "data": {
      "text/html": [
       "<pre style=\"white-space:pre;overflow-x:auto;line-height:normal;font-family:Menlo,'DejaVu Sans Mono',consolas,'Courier New',monospace\"><span style=\"color: #7fbfbf; text-decoration-color: #7fbfbf\">                    </span><span style=\"color: #800000; text-decoration-color: #800000\">WARNING </span> The method CoordinateSystem.get_graph has     <a href=\"file://C:\\Users\\thoma\\AppData\\Local\\Programs\\Python\\Python39\\lib\\site-packages\\manim\\utils\\deprecation.py\"><span style=\"color: #7f7f7f; text-decoration-color: #7f7f7f\">deprecation.py</span></a><span style=\"color: #7f7f7f; text-decoration-color: #7f7f7f\">:</span><a href=\"file://C:\\Users\\thoma\\AppData\\Local\\Programs\\Python\\Python39\\lib\\site-packages\\manim\\utils\\deprecation.py#210\"><span style=\"color: #7f7f7f; text-decoration-color: #7f7f7f\">210</span></a>\n",
       "                             been deprecated since v0.<span style=\"color: #008000; text-decoration-color: #008000\">11.0</span> and is expected                   \n",
       "                             to be removed after v0.<span style=\"color: #008000; text-decoration-color: #008000\">13.0</span>. Use plot                           \n",
       "                             instead.                                                        \n",
       "</pre>\n"
      ],
      "text/plain": [
       "\u001b[2;36m                   \u001b[0m\u001b[2;36m \u001b[0m\u001b[31mWARNING \u001b[0m The method CoordinateSystem.get_graph has     \u001b]8;id=599291;file://C:\\Users\\thoma\\AppData\\Local\\Programs\\Python\\Python39\\lib\\site-packages\\manim\\utils\\deprecation.py\u001b\\\u001b[2mdeprecation.py\u001b[0m\u001b]8;;\u001b\\\u001b[2m:\u001b[0m\u001b]8;id=264688;file://C:\\Users\\thoma\\AppData\\Local\\Programs\\Python\\Python39\\lib\\site-packages\\manim\\utils\\deprecation.py#210\u001b\\\u001b[2m210\u001b[0m\u001b]8;;\u001b\\\n",
       "                             been deprecated since v0.\u001b[32m11.0\u001b[0m and is expected                   \n",
       "                             to be removed after v0.\u001b[32m13.0\u001b[0m. Use plot                           \n",
       "                             instead.                                                        \n"
      ]
     },
     "metadata": {},
     "output_type": "display_data"
    },
    {
     "name": "stderr",
     "output_type": "stream",
     "text": [
      "Animation 1: _MethodAnimation(ValueTracker):  82%|########1 | 184/225 [01:26<00:23,  1.72it/s]"
     ]
    },
    {
     "data": {
      "text/html": [
       "<pre style=\"white-space:pre;overflow-x:auto;line-height:normal;font-family:Menlo,'DejaVu Sans Mono',consolas,'Courier New',monospace\"><span style=\"color: #7fbfbf; text-decoration-color: #7fbfbf\">[01/31/22 20:56:34] </span><span style=\"color: #800000; text-decoration-color: #800000\">WARNING </span> The method CoordinateSystem.get_graph has     <a href=\"file://C:\\Users\\thoma\\AppData\\Local\\Programs\\Python\\Python39\\lib\\site-packages\\manim\\utils\\deprecation.py\"><span style=\"color: #7f7f7f; text-decoration-color: #7f7f7f\">deprecation.py</span></a><span style=\"color: #7f7f7f; text-decoration-color: #7f7f7f\">:</span><a href=\"file://C:\\Users\\thoma\\AppData\\Local\\Programs\\Python\\Python39\\lib\\site-packages\\manim\\utils\\deprecation.py#210\"><span style=\"color: #7f7f7f; text-decoration-color: #7f7f7f\">210</span></a>\n",
       "                             been deprecated since v0.<span style=\"color: #008000; text-decoration-color: #008000\">11.0</span> and is expected                   \n",
       "                             to be removed after v0.<span style=\"color: #008000; text-decoration-color: #008000\">13.0</span>. Use plot                           \n",
       "                             instead.                                                        \n",
       "</pre>\n"
      ],
      "text/plain": [
       "\u001b[2;36m[01/31/22 20:56:34]\u001b[0m\u001b[2;36m \u001b[0m\u001b[31mWARNING \u001b[0m The method CoordinateSystem.get_graph has     \u001b]8;id=535914;file://C:\\Users\\thoma\\AppData\\Local\\Programs\\Python\\Python39\\lib\\site-packages\\manim\\utils\\deprecation.py\u001b\\\u001b[2mdeprecation.py\u001b[0m\u001b]8;;\u001b\\\u001b[2m:\u001b[0m\u001b]8;id=575269;file://C:\\Users\\thoma\\AppData\\Local\\Programs\\Python\\Python39\\lib\\site-packages\\manim\\utils\\deprecation.py#210\u001b\\\u001b[2m210\u001b[0m\u001b]8;;\u001b\\\n",
       "                             been deprecated since v0.\u001b[32m11.0\u001b[0m and is expected                   \n",
       "                             to be removed after v0.\u001b[32m13.0\u001b[0m. Use plot                           \n",
       "                             instead.                                                        \n"
      ]
     },
     "metadata": {},
     "output_type": "display_data"
    },
    {
     "name": "stderr",
     "output_type": "stream",
     "text": [
      "Animation 1: _MethodAnimation(ValueTracker):  82%|########2 | 185/225 [01:26<00:23,  1.70it/s]"
     ]
    },
    {
     "data": {
      "text/html": [
       "<pre style=\"white-space:pre;overflow-x:auto;line-height:normal;font-family:Menlo,'DejaVu Sans Mono',consolas,'Courier New',monospace\"><span style=\"color: #7fbfbf; text-decoration-color: #7fbfbf\">[01/31/22 20:56:35] </span><span style=\"color: #800000; text-decoration-color: #800000\">WARNING </span> The method CoordinateSystem.get_graph has     <a href=\"file://C:\\Users\\thoma\\AppData\\Local\\Programs\\Python\\Python39\\lib\\site-packages\\manim\\utils\\deprecation.py\"><span style=\"color: #7f7f7f; text-decoration-color: #7f7f7f\">deprecation.py</span></a><span style=\"color: #7f7f7f; text-decoration-color: #7f7f7f\">:</span><a href=\"file://C:\\Users\\thoma\\AppData\\Local\\Programs\\Python\\Python39\\lib\\site-packages\\manim\\utils\\deprecation.py#210\"><span style=\"color: #7f7f7f; text-decoration-color: #7f7f7f\">210</span></a>\n",
       "                             been deprecated since v0.<span style=\"color: #008000; text-decoration-color: #008000\">11.0</span> and is expected                   \n",
       "                             to be removed after v0.<span style=\"color: #008000; text-decoration-color: #008000\">13.0</span>. Use plot                           \n",
       "                             instead.                                                        \n",
       "</pre>\n"
      ],
      "text/plain": [
       "\u001b[2;36m[01/31/22 20:56:35]\u001b[0m\u001b[2;36m \u001b[0m\u001b[31mWARNING \u001b[0m The method CoordinateSystem.get_graph has     \u001b]8;id=958463;file://C:\\Users\\thoma\\AppData\\Local\\Programs\\Python\\Python39\\lib\\site-packages\\manim\\utils\\deprecation.py\u001b\\\u001b[2mdeprecation.py\u001b[0m\u001b]8;;\u001b\\\u001b[2m:\u001b[0m\u001b]8;id=448065;file://C:\\Users\\thoma\\AppData\\Local\\Programs\\Python\\Python39\\lib\\site-packages\\manim\\utils\\deprecation.py#210\u001b\\\u001b[2m210\u001b[0m\u001b]8;;\u001b\\\n",
       "                             been deprecated since v0.\u001b[32m11.0\u001b[0m and is expected                   \n",
       "                             to be removed after v0.\u001b[32m13.0\u001b[0m. Use plot                           \n",
       "                             instead.                                                        \n"
      ]
     },
     "metadata": {},
     "output_type": "display_data"
    },
    {
     "name": "stderr",
     "output_type": "stream",
     "text": [
      "Animation 1: _MethodAnimation(ValueTracker):  83%|########2 | 186/225 [01:27<00:26,  1.49it/s]"
     ]
    },
    {
     "data": {
      "text/html": [
       "<pre style=\"white-space:pre;overflow-x:auto;line-height:normal;font-family:Menlo,'DejaVu Sans Mono',consolas,'Courier New',monospace\"><span style=\"color: #7fbfbf; text-decoration-color: #7fbfbf\">                    </span><span style=\"color: #800000; text-decoration-color: #800000\">WARNING </span> The method CoordinateSystem.get_graph has     <a href=\"file://C:\\Users\\thoma\\AppData\\Local\\Programs\\Python\\Python39\\lib\\site-packages\\manim\\utils\\deprecation.py\"><span style=\"color: #7f7f7f; text-decoration-color: #7f7f7f\">deprecation.py</span></a><span style=\"color: #7f7f7f; text-decoration-color: #7f7f7f\">:</span><a href=\"file://C:\\Users\\thoma\\AppData\\Local\\Programs\\Python\\Python39\\lib\\site-packages\\manim\\utils\\deprecation.py#210\"><span style=\"color: #7f7f7f; text-decoration-color: #7f7f7f\">210</span></a>\n",
       "                             been deprecated since v0.<span style=\"color: #008000; text-decoration-color: #008000\">11.0</span> and is expected                   \n",
       "                             to be removed after v0.<span style=\"color: #008000; text-decoration-color: #008000\">13.0</span>. Use plot                           \n",
       "                             instead.                                                        \n",
       "</pre>\n"
      ],
      "text/plain": [
       "\u001b[2;36m                   \u001b[0m\u001b[2;36m \u001b[0m\u001b[31mWARNING \u001b[0m The method CoordinateSystem.get_graph has     \u001b]8;id=340319;file://C:\\Users\\thoma\\AppData\\Local\\Programs\\Python\\Python39\\lib\\site-packages\\manim\\utils\\deprecation.py\u001b\\\u001b[2mdeprecation.py\u001b[0m\u001b]8;;\u001b\\\u001b[2m:\u001b[0m\u001b]8;id=595450;file://C:\\Users\\thoma\\AppData\\Local\\Programs\\Python\\Python39\\lib\\site-packages\\manim\\utils\\deprecation.py#210\u001b\\\u001b[2m210\u001b[0m\u001b]8;;\u001b\\\n",
       "                             been deprecated since v0.\u001b[32m11.0\u001b[0m and is expected                   \n",
       "                             to be removed after v0.\u001b[32m13.0\u001b[0m. Use plot                           \n",
       "                             instead.                                                        \n"
      ]
     },
     "metadata": {},
     "output_type": "display_data"
    },
    {
     "name": "stderr",
     "output_type": "stream",
     "text": [
      "Animation 1: _MethodAnimation(ValueTracker):  83%|########3 | 187/225 [01:29<00:32,  1.15it/s]"
     ]
    },
    {
     "data": {
      "text/html": [
       "<pre style=\"white-space:pre;overflow-x:auto;line-height:normal;font-family:Menlo,'DejaVu Sans Mono',consolas,'Courier New',monospace\"><span style=\"color: #7fbfbf; text-decoration-color: #7fbfbf\">[01/31/22 20:56:37] </span><span style=\"color: #800000; text-decoration-color: #800000\">WARNING </span> The method CoordinateSystem.get_graph has     <a href=\"file://C:\\Users\\thoma\\AppData\\Local\\Programs\\Python\\Python39\\lib\\site-packages\\manim\\utils\\deprecation.py\"><span style=\"color: #7f7f7f; text-decoration-color: #7f7f7f\">deprecation.py</span></a><span style=\"color: #7f7f7f; text-decoration-color: #7f7f7f\">:</span><a href=\"file://C:\\Users\\thoma\\AppData\\Local\\Programs\\Python\\Python39\\lib\\site-packages\\manim\\utils\\deprecation.py#210\"><span style=\"color: #7f7f7f; text-decoration-color: #7f7f7f\">210</span></a>\n",
       "                             been deprecated since v0.<span style=\"color: #008000; text-decoration-color: #008000\">11.0</span> and is expected                   \n",
       "                             to be removed after v0.<span style=\"color: #008000; text-decoration-color: #008000\">13.0</span>. Use plot                           \n",
       "                             instead.                                                        \n",
       "</pre>\n"
      ],
      "text/plain": [
       "\u001b[2;36m[01/31/22 20:56:37]\u001b[0m\u001b[2;36m \u001b[0m\u001b[31mWARNING \u001b[0m The method CoordinateSystem.get_graph has     \u001b]8;id=335328;file://C:\\Users\\thoma\\AppData\\Local\\Programs\\Python\\Python39\\lib\\site-packages\\manim\\utils\\deprecation.py\u001b\\\u001b[2mdeprecation.py\u001b[0m\u001b]8;;\u001b\\\u001b[2m:\u001b[0m\u001b]8;id=826737;file://C:\\Users\\thoma\\AppData\\Local\\Programs\\Python\\Python39\\lib\\site-packages\\manim\\utils\\deprecation.py#210\u001b\\\u001b[2m210\u001b[0m\u001b]8;;\u001b\\\n",
       "                             been deprecated since v0.\u001b[32m11.0\u001b[0m and is expected                   \n",
       "                             to be removed after v0.\u001b[32m13.0\u001b[0m. Use plot                           \n",
       "                             instead.                                                        \n"
      ]
     },
     "metadata": {},
     "output_type": "display_data"
    },
    {
     "name": "stderr",
     "output_type": "stream",
     "text": [
      "Animation 1: _MethodAnimation(ValueTracker):  84%|########3 | 188/225 [01:29<00:28,  1.28it/s]"
     ]
    },
    {
     "data": {
      "text/html": [
       "<pre style=\"white-space:pre;overflow-x:auto;line-height:normal;font-family:Menlo,'DejaVu Sans Mono',consolas,'Courier New',monospace\"><span style=\"color: #7fbfbf; text-decoration-color: #7fbfbf\">                    </span><span style=\"color: #800000; text-decoration-color: #800000\">WARNING </span> The method CoordinateSystem.get_graph has     <a href=\"file://C:\\Users\\thoma\\AppData\\Local\\Programs\\Python\\Python39\\lib\\site-packages\\manim\\utils\\deprecation.py\"><span style=\"color: #7f7f7f; text-decoration-color: #7f7f7f\">deprecation.py</span></a><span style=\"color: #7f7f7f; text-decoration-color: #7f7f7f\">:</span><a href=\"file://C:\\Users\\thoma\\AppData\\Local\\Programs\\Python\\Python39\\lib\\site-packages\\manim\\utils\\deprecation.py#210\"><span style=\"color: #7f7f7f; text-decoration-color: #7f7f7f\">210</span></a>\n",
       "                             been deprecated since v0.<span style=\"color: #008000; text-decoration-color: #008000\">11.0</span> and is expected                   \n",
       "                             to be removed after v0.<span style=\"color: #008000; text-decoration-color: #008000\">13.0</span>. Use plot                           \n",
       "                             instead.                                                        \n",
       "</pre>\n"
      ],
      "text/plain": [
       "\u001b[2;36m                   \u001b[0m\u001b[2;36m \u001b[0m\u001b[31mWARNING \u001b[0m The method CoordinateSystem.get_graph has     \u001b]8;id=898524;file://C:\\Users\\thoma\\AppData\\Local\\Programs\\Python\\Python39\\lib\\site-packages\\manim\\utils\\deprecation.py\u001b\\\u001b[2mdeprecation.py\u001b[0m\u001b]8;;\u001b\\\u001b[2m:\u001b[0m\u001b]8;id=685329;file://C:\\Users\\thoma\\AppData\\Local\\Programs\\Python\\Python39\\lib\\site-packages\\manim\\utils\\deprecation.py#210\u001b\\\u001b[2m210\u001b[0m\u001b]8;;\u001b\\\n",
       "                             been deprecated since v0.\u001b[32m11.0\u001b[0m and is expected                   \n",
       "                             to be removed after v0.\u001b[32m13.0\u001b[0m. Use plot                           \n",
       "                             instead.                                                        \n"
      ]
     },
     "metadata": {},
     "output_type": "display_data"
    },
    {
     "name": "stderr",
     "output_type": "stream",
     "text": [
      "Animation 1: _MethodAnimation(ValueTracker):  84%|########4 | 189/225 [01:30<00:27,  1.31it/s]"
     ]
    },
    {
     "data": {
      "text/html": [
       "<pre style=\"white-space:pre;overflow-x:auto;line-height:normal;font-family:Menlo,'DejaVu Sans Mono',consolas,'Courier New',monospace\"><span style=\"color: #7fbfbf; text-decoration-color: #7fbfbf\">[01/31/22 20:56:38] </span><span style=\"color: #800000; text-decoration-color: #800000\">WARNING </span> The method CoordinateSystem.get_graph has     <a href=\"file://C:\\Users\\thoma\\AppData\\Local\\Programs\\Python\\Python39\\lib\\site-packages\\manim\\utils\\deprecation.py\"><span style=\"color: #7f7f7f; text-decoration-color: #7f7f7f\">deprecation.py</span></a><span style=\"color: #7f7f7f; text-decoration-color: #7f7f7f\">:</span><a href=\"file://C:\\Users\\thoma\\AppData\\Local\\Programs\\Python\\Python39\\lib\\site-packages\\manim\\utils\\deprecation.py#210\"><span style=\"color: #7f7f7f; text-decoration-color: #7f7f7f\">210</span></a>\n",
       "                             been deprecated since v0.<span style=\"color: #008000; text-decoration-color: #008000\">11.0</span> and is expected                   \n",
       "                             to be removed after v0.<span style=\"color: #008000; text-decoration-color: #008000\">13.0</span>. Use plot                           \n",
       "                             instead.                                                        \n",
       "</pre>\n"
      ],
      "text/plain": [
       "\u001b[2;36m[01/31/22 20:56:38]\u001b[0m\u001b[2;36m \u001b[0m\u001b[31mWARNING \u001b[0m The method CoordinateSystem.get_graph has     \u001b]8;id=400269;file://C:\\Users\\thoma\\AppData\\Local\\Programs\\Python\\Python39\\lib\\site-packages\\manim\\utils\\deprecation.py\u001b\\\u001b[2mdeprecation.py\u001b[0m\u001b]8;;\u001b\\\u001b[2m:\u001b[0m\u001b]8;id=877184;file://C:\\Users\\thoma\\AppData\\Local\\Programs\\Python\\Python39\\lib\\site-packages\\manim\\utils\\deprecation.py#210\u001b\\\u001b[2m210\u001b[0m\u001b]8;;\u001b\\\n",
       "                             been deprecated since v0.\u001b[32m11.0\u001b[0m and is expected                   \n",
       "                             to be removed after v0.\u001b[32m13.0\u001b[0m. Use plot                           \n",
       "                             instead.                                                        \n"
      ]
     },
     "metadata": {},
     "output_type": "display_data"
    },
    {
     "name": "stderr",
     "output_type": "stream",
     "text": [
      "Animation 1: _MethodAnimation(ValueTracker):  84%|########4 | 190/225 [01:31<00:28,  1.21it/s]"
     ]
    },
    {
     "data": {
      "text/html": [
       "<pre style=\"white-space:pre;overflow-x:auto;line-height:normal;font-family:Menlo,'DejaVu Sans Mono',consolas,'Courier New',monospace\"><span style=\"color: #7fbfbf; text-decoration-color: #7fbfbf\">[01/31/22 20:56:39] </span><span style=\"color: #800000; text-decoration-color: #800000\">WARNING </span> The method CoordinateSystem.get_graph has     <a href=\"file://C:\\Users\\thoma\\AppData\\Local\\Programs\\Python\\Python39\\lib\\site-packages\\manim\\utils\\deprecation.py\"><span style=\"color: #7f7f7f; text-decoration-color: #7f7f7f\">deprecation.py</span></a><span style=\"color: #7f7f7f; text-decoration-color: #7f7f7f\">:</span><a href=\"file://C:\\Users\\thoma\\AppData\\Local\\Programs\\Python\\Python39\\lib\\site-packages\\manim\\utils\\deprecation.py#210\"><span style=\"color: #7f7f7f; text-decoration-color: #7f7f7f\">210</span></a>\n",
       "                             been deprecated since v0.<span style=\"color: #008000; text-decoration-color: #008000\">11.0</span> and is expected                   \n",
       "                             to be removed after v0.<span style=\"color: #008000; text-decoration-color: #008000\">13.0</span>. Use plot                           \n",
       "                             instead.                                                        \n",
       "</pre>\n"
      ],
      "text/plain": [
       "\u001b[2;36m[01/31/22 20:56:39]\u001b[0m\u001b[2;36m \u001b[0m\u001b[31mWARNING \u001b[0m The method CoordinateSystem.get_graph has     \u001b]8;id=222404;file://C:\\Users\\thoma\\AppData\\Local\\Programs\\Python\\Python39\\lib\\site-packages\\manim\\utils\\deprecation.py\u001b\\\u001b[2mdeprecation.py\u001b[0m\u001b]8;;\u001b\\\u001b[2m:\u001b[0m\u001b]8;id=423354;file://C:\\Users\\thoma\\AppData\\Local\\Programs\\Python\\Python39\\lib\\site-packages\\manim\\utils\\deprecation.py#210\u001b\\\u001b[2m210\u001b[0m\u001b]8;;\u001b\\\n",
       "                             been deprecated since v0.\u001b[32m11.0\u001b[0m and is expected                   \n",
       "                             to be removed after v0.\u001b[32m13.0\u001b[0m. Use plot                           \n",
       "                             instead.                                                        \n"
      ]
     },
     "metadata": {},
     "output_type": "display_data"
    },
    {
     "name": "stderr",
     "output_type": "stream",
     "text": [
      "Animation 1: _MethodAnimation(ValueTracker):  85%|########4 | 191/225 [01:32<00:27,  1.25it/s]"
     ]
    },
    {
     "data": {
      "text/html": [
       "<pre style=\"white-space:pre;overflow-x:auto;line-height:normal;font-family:Menlo,'DejaVu Sans Mono',consolas,'Courier New',monospace\"><span style=\"color: #7fbfbf; text-decoration-color: #7fbfbf\">[01/31/22 20:56:40] </span><span style=\"color: #800000; text-decoration-color: #800000\">WARNING </span> The method CoordinateSystem.get_graph has     <a href=\"file://C:\\Users\\thoma\\AppData\\Local\\Programs\\Python\\Python39\\lib\\site-packages\\manim\\utils\\deprecation.py\"><span style=\"color: #7f7f7f; text-decoration-color: #7f7f7f\">deprecation.py</span></a><span style=\"color: #7f7f7f; text-decoration-color: #7f7f7f\">:</span><a href=\"file://C:\\Users\\thoma\\AppData\\Local\\Programs\\Python\\Python39\\lib\\site-packages\\manim\\utils\\deprecation.py#210\"><span style=\"color: #7f7f7f; text-decoration-color: #7f7f7f\">210</span></a>\n",
       "                             been deprecated since v0.<span style=\"color: #008000; text-decoration-color: #008000\">11.0</span> and is expected                   \n",
       "                             to be removed after v0.<span style=\"color: #008000; text-decoration-color: #008000\">13.0</span>. Use plot                           \n",
       "                             instead.                                                        \n",
       "</pre>\n"
      ],
      "text/plain": [
       "\u001b[2;36m[01/31/22 20:56:40]\u001b[0m\u001b[2;36m \u001b[0m\u001b[31mWARNING \u001b[0m The method CoordinateSystem.get_graph has     \u001b]8;id=284879;file://C:\\Users\\thoma\\AppData\\Local\\Programs\\Python\\Python39\\lib\\site-packages\\manim\\utils\\deprecation.py\u001b\\\u001b[2mdeprecation.py\u001b[0m\u001b]8;;\u001b\\\u001b[2m:\u001b[0m\u001b]8;id=220105;file://C:\\Users\\thoma\\AppData\\Local\\Programs\\Python\\Python39\\lib\\site-packages\\manim\\utils\\deprecation.py#210\u001b\\\u001b[2m210\u001b[0m\u001b]8;;\u001b\\\n",
       "                             been deprecated since v0.\u001b[32m11.0\u001b[0m and is expected                   \n",
       "                             to be removed after v0.\u001b[32m13.0\u001b[0m. Use plot                           \n",
       "                             instead.                                                        \n"
      ]
     },
     "metadata": {},
     "output_type": "display_data"
    },
    {
     "name": "stderr",
     "output_type": "stream",
     "text": [
      "Animation 1: _MethodAnimation(ValueTracker):  85%|########5 | 192/225 [01:33<00:28,  1.17it/s]"
     ]
    },
    {
     "data": {
      "text/html": [
       "<pre style=\"white-space:pre;overflow-x:auto;line-height:normal;font-family:Menlo,'DejaVu Sans Mono',consolas,'Courier New',monospace\"><span style=\"color: #7fbfbf; text-decoration-color: #7fbfbf\">[01/31/22 20:56:41] </span><span style=\"color: #800000; text-decoration-color: #800000\">WARNING </span> The method CoordinateSystem.get_graph has     <a href=\"file://C:\\Users\\thoma\\AppData\\Local\\Programs\\Python\\Python39\\lib\\site-packages\\manim\\utils\\deprecation.py\"><span style=\"color: #7f7f7f; text-decoration-color: #7f7f7f\">deprecation.py</span></a><span style=\"color: #7f7f7f; text-decoration-color: #7f7f7f\">:</span><a href=\"file://C:\\Users\\thoma\\AppData\\Local\\Programs\\Python\\Python39\\lib\\site-packages\\manim\\utils\\deprecation.py#210\"><span style=\"color: #7f7f7f; text-decoration-color: #7f7f7f\">210</span></a>\n",
       "                             been deprecated since v0.<span style=\"color: #008000; text-decoration-color: #008000\">11.0</span> and is expected                   \n",
       "                             to be removed after v0.<span style=\"color: #008000; text-decoration-color: #008000\">13.0</span>. Use plot                           \n",
       "                             instead.                                                        \n",
       "</pre>\n"
      ],
      "text/plain": [
       "\u001b[2;36m[01/31/22 20:56:41]\u001b[0m\u001b[2;36m \u001b[0m\u001b[31mWARNING \u001b[0m The method CoordinateSystem.get_graph has     \u001b]8;id=79039;file://C:\\Users\\thoma\\AppData\\Local\\Programs\\Python\\Python39\\lib\\site-packages\\manim\\utils\\deprecation.py\u001b\\\u001b[2mdeprecation.py\u001b[0m\u001b]8;;\u001b\\\u001b[2m:\u001b[0m\u001b]8;id=857287;file://C:\\Users\\thoma\\AppData\\Local\\Programs\\Python\\Python39\\lib\\site-packages\\manim\\utils\\deprecation.py#210\u001b\\\u001b[2m210\u001b[0m\u001b]8;;\u001b\\\n",
       "                             been deprecated since v0.\u001b[32m11.0\u001b[0m and is expected                   \n",
       "                             to be removed after v0.\u001b[32m13.0\u001b[0m. Use plot                           \n",
       "                             instead.                                                        \n"
      ]
     },
     "metadata": {},
     "output_type": "display_data"
    },
    {
     "name": "stderr",
     "output_type": "stream",
     "text": [
      "Animation 1: _MethodAnimation(ValueTracker):  86%|########5 | 193/225 [01:34<00:33,  1.03s/it]"
     ]
    },
    {
     "data": {
      "text/html": [
       "<pre style=\"white-space:pre;overflow-x:auto;line-height:normal;font-family:Menlo,'DejaVu Sans Mono',consolas,'Courier New',monospace\"><span style=\"color: #7fbfbf; text-decoration-color: #7fbfbf\">[01/31/22 20:56:42] </span><span style=\"color: #800000; text-decoration-color: #800000\">WARNING </span> The method CoordinateSystem.get_graph has     <a href=\"file://C:\\Users\\thoma\\AppData\\Local\\Programs\\Python\\Python39\\lib\\site-packages\\manim\\utils\\deprecation.py\"><span style=\"color: #7f7f7f; text-decoration-color: #7f7f7f\">deprecation.py</span></a><span style=\"color: #7f7f7f; text-decoration-color: #7f7f7f\">:</span><a href=\"file://C:\\Users\\thoma\\AppData\\Local\\Programs\\Python\\Python39\\lib\\site-packages\\manim\\utils\\deprecation.py#210\"><span style=\"color: #7f7f7f; text-decoration-color: #7f7f7f\">210</span></a>\n",
       "                             been deprecated since v0.<span style=\"color: #008000; text-decoration-color: #008000\">11.0</span> and is expected                   \n",
       "                             to be removed after v0.<span style=\"color: #008000; text-decoration-color: #008000\">13.0</span>. Use plot                           \n",
       "                             instead.                                                        \n",
       "</pre>\n"
      ],
      "text/plain": [
       "\u001b[2;36m[01/31/22 20:56:42]\u001b[0m\u001b[2;36m \u001b[0m\u001b[31mWARNING \u001b[0m The method CoordinateSystem.get_graph has     \u001b]8;id=317181;file://C:\\Users\\thoma\\AppData\\Local\\Programs\\Python\\Python39\\lib\\site-packages\\manim\\utils\\deprecation.py\u001b\\\u001b[2mdeprecation.py\u001b[0m\u001b]8;;\u001b\\\u001b[2m:\u001b[0m\u001b]8;id=385718;file://C:\\Users\\thoma\\AppData\\Local\\Programs\\Python\\Python39\\lib\\site-packages\\manim\\utils\\deprecation.py#210\u001b\\\u001b[2m210\u001b[0m\u001b]8;;\u001b\\\n",
       "                             been deprecated since v0.\u001b[32m11.0\u001b[0m and is expected                   \n",
       "                             to be removed after v0.\u001b[32m13.0\u001b[0m. Use plot                           \n",
       "                             instead.                                                        \n"
      ]
     },
     "metadata": {},
     "output_type": "display_data"
    },
    {
     "name": "stderr",
     "output_type": "stream",
     "text": [
      "Animation 1: _MethodAnimation(ValueTracker):  86%|########6 | 194/225 [01:35<00:30,  1.02it/s]"
     ]
    },
    {
     "data": {
      "text/html": [
       "<pre style=\"white-space:pre;overflow-x:auto;line-height:normal;font-family:Menlo,'DejaVu Sans Mono',consolas,'Courier New',monospace\"><span style=\"color: #7fbfbf; text-decoration-color: #7fbfbf\">[01/31/22 20:56:43] </span><span style=\"color: #800000; text-decoration-color: #800000\">WARNING </span> The method CoordinateSystem.get_graph has     <a href=\"file://C:\\Users\\thoma\\AppData\\Local\\Programs\\Python\\Python39\\lib\\site-packages\\manim\\utils\\deprecation.py\"><span style=\"color: #7f7f7f; text-decoration-color: #7f7f7f\">deprecation.py</span></a><span style=\"color: #7f7f7f; text-decoration-color: #7f7f7f\">:</span><a href=\"file://C:\\Users\\thoma\\AppData\\Local\\Programs\\Python\\Python39\\lib\\site-packages\\manim\\utils\\deprecation.py#210\"><span style=\"color: #7f7f7f; text-decoration-color: #7f7f7f\">210</span></a>\n",
       "                             been deprecated since v0.<span style=\"color: #008000; text-decoration-color: #008000\">11.0</span> and is expected                   \n",
       "                             to be removed after v0.<span style=\"color: #008000; text-decoration-color: #008000\">13.0</span>. Use plot                           \n",
       "                             instead.                                                        \n",
       "</pre>\n"
      ],
      "text/plain": [
       "\u001b[2;36m[01/31/22 20:56:43]\u001b[0m\u001b[2;36m \u001b[0m\u001b[31mWARNING \u001b[0m The method CoordinateSystem.get_graph has     \u001b]8;id=269589;file://C:\\Users\\thoma\\AppData\\Local\\Programs\\Python\\Python39\\lib\\site-packages\\manim\\utils\\deprecation.py\u001b\\\u001b[2mdeprecation.py\u001b[0m\u001b]8;;\u001b\\\u001b[2m:\u001b[0m\u001b]8;id=141829;file://C:\\Users\\thoma\\AppData\\Local\\Programs\\Python\\Python39\\lib\\site-packages\\manim\\utils\\deprecation.py#210\u001b\\\u001b[2m210\u001b[0m\u001b]8;;\u001b\\\n",
       "                             been deprecated since v0.\u001b[32m11.0\u001b[0m and is expected                   \n",
       "                             to be removed after v0.\u001b[32m13.0\u001b[0m. Use plot                           \n",
       "                             instead.                                                        \n"
      ]
     },
     "metadata": {},
     "output_type": "display_data"
    },
    {
     "name": "stderr",
     "output_type": "stream",
     "text": [
      "Animation 1: _MethodAnimation(ValueTracker):  87%|########6 | 195/225 [01:36<00:30,  1.03s/it]"
     ]
    },
    {
     "data": {
      "text/html": [
       "<pre style=\"white-space:pre;overflow-x:auto;line-height:normal;font-family:Menlo,'DejaVu Sans Mono',consolas,'Courier New',monospace\"><span style=\"color: #7fbfbf; text-decoration-color: #7fbfbf\">[01/31/22 20:56:44] </span><span style=\"color: #800000; text-decoration-color: #800000\">WARNING </span> The method CoordinateSystem.get_graph has     <a href=\"file://C:\\Users\\thoma\\AppData\\Local\\Programs\\Python\\Python39\\lib\\site-packages\\manim\\utils\\deprecation.py\"><span style=\"color: #7f7f7f; text-decoration-color: #7f7f7f\">deprecation.py</span></a><span style=\"color: #7f7f7f; text-decoration-color: #7f7f7f\">:</span><a href=\"file://C:\\Users\\thoma\\AppData\\Local\\Programs\\Python\\Python39\\lib\\site-packages\\manim\\utils\\deprecation.py#210\"><span style=\"color: #7f7f7f; text-decoration-color: #7f7f7f\">210</span></a>\n",
       "                             been deprecated since v0.<span style=\"color: #008000; text-decoration-color: #008000\">11.0</span> and is expected                   \n",
       "                             to be removed after v0.<span style=\"color: #008000; text-decoration-color: #008000\">13.0</span>. Use plot                           \n",
       "                             instead.                                                        \n",
       "</pre>\n"
      ],
      "text/plain": [
       "\u001b[2;36m[01/31/22 20:56:44]\u001b[0m\u001b[2;36m \u001b[0m\u001b[31mWARNING \u001b[0m The method CoordinateSystem.get_graph has     \u001b]8;id=498091;file://C:\\Users\\thoma\\AppData\\Local\\Programs\\Python\\Python39\\lib\\site-packages\\manim\\utils\\deprecation.py\u001b\\\u001b[2mdeprecation.py\u001b[0m\u001b]8;;\u001b\\\u001b[2m:\u001b[0m\u001b]8;id=739624;file://C:\\Users\\thoma\\AppData\\Local\\Programs\\Python\\Python39\\lib\\site-packages\\manim\\utils\\deprecation.py#210\u001b\\\u001b[2m210\u001b[0m\u001b]8;;\u001b\\\n",
       "                             been deprecated since v0.\u001b[32m11.0\u001b[0m and is expected                   \n",
       "                             to be removed after v0.\u001b[32m13.0\u001b[0m. Use plot                           \n",
       "                             instead.                                                        \n"
      ]
     },
     "metadata": {},
     "output_type": "display_data"
    },
    {
     "name": "stderr",
     "output_type": "stream",
     "text": [
      "Animation 1: _MethodAnimation(ValueTracker):  87%|########7 | 196/225 [01:37<00:30,  1.06s/it]"
     ]
    },
    {
     "data": {
      "text/html": [
       "<pre style=\"white-space:pre;overflow-x:auto;line-height:normal;font-family:Menlo,'DejaVu Sans Mono',consolas,'Courier New',monospace\"><span style=\"color: #7fbfbf; text-decoration-color: #7fbfbf\">[01/31/22 20:56:45] </span><span style=\"color: #800000; text-decoration-color: #800000\">WARNING </span> The method CoordinateSystem.get_graph has     <a href=\"file://C:\\Users\\thoma\\AppData\\Local\\Programs\\Python\\Python39\\lib\\site-packages\\manim\\utils\\deprecation.py\"><span style=\"color: #7f7f7f; text-decoration-color: #7f7f7f\">deprecation.py</span></a><span style=\"color: #7f7f7f; text-decoration-color: #7f7f7f\">:</span><a href=\"file://C:\\Users\\thoma\\AppData\\Local\\Programs\\Python\\Python39\\lib\\site-packages\\manim\\utils\\deprecation.py#210\"><span style=\"color: #7f7f7f; text-decoration-color: #7f7f7f\">210</span></a>\n",
       "                             been deprecated since v0.<span style=\"color: #008000; text-decoration-color: #008000\">11.0</span> and is expected                   \n",
       "                             to be removed after v0.<span style=\"color: #008000; text-decoration-color: #008000\">13.0</span>. Use plot                           \n",
       "                             instead.                                                        \n",
       "</pre>\n"
      ],
      "text/plain": [
       "\u001b[2;36m[01/31/22 20:56:45]\u001b[0m\u001b[2;36m \u001b[0m\u001b[31mWARNING \u001b[0m The method CoordinateSystem.get_graph has     \u001b]8;id=111564;file://C:\\Users\\thoma\\AppData\\Local\\Programs\\Python\\Python39\\lib\\site-packages\\manim\\utils\\deprecation.py\u001b\\\u001b[2mdeprecation.py\u001b[0m\u001b]8;;\u001b\\\u001b[2m:\u001b[0m\u001b]8;id=916507;file://C:\\Users\\thoma\\AppData\\Local\\Programs\\Python\\Python39\\lib\\site-packages\\manim\\utils\\deprecation.py#210\u001b\\\u001b[2m210\u001b[0m\u001b]8;;\u001b\\\n",
       "                             been deprecated since v0.\u001b[32m11.0\u001b[0m and is expected                   \n",
       "                             to be removed after v0.\u001b[32m13.0\u001b[0m. Use plot                           \n",
       "                             instead.                                                        \n"
      ]
     },
     "metadata": {},
     "output_type": "display_data"
    },
    {
     "name": "stderr",
     "output_type": "stream",
     "text": [
      "Animation 1: _MethodAnimation(ValueTracker):  88%|########7 | 197/225 [01:38<00:30,  1.09s/it]"
     ]
    },
    {
     "data": {
      "text/html": [
       "<pre style=\"white-space:pre;overflow-x:auto;line-height:normal;font-family:Menlo,'DejaVu Sans Mono',consolas,'Courier New',monospace\"><span style=\"color: #7fbfbf; text-decoration-color: #7fbfbf\">[01/31/22 20:56:46] </span><span style=\"color: #800000; text-decoration-color: #800000\">WARNING </span> The method CoordinateSystem.get_graph has     <a href=\"file://C:\\Users\\thoma\\AppData\\Local\\Programs\\Python\\Python39\\lib\\site-packages\\manim\\utils\\deprecation.py\"><span style=\"color: #7f7f7f; text-decoration-color: #7f7f7f\">deprecation.py</span></a><span style=\"color: #7f7f7f; text-decoration-color: #7f7f7f\">:</span><a href=\"file://C:\\Users\\thoma\\AppData\\Local\\Programs\\Python\\Python39\\lib\\site-packages\\manim\\utils\\deprecation.py#210\"><span style=\"color: #7f7f7f; text-decoration-color: #7f7f7f\">210</span></a>\n",
       "                             been deprecated since v0.<span style=\"color: #008000; text-decoration-color: #008000\">11.0</span> and is expected                   \n",
       "                             to be removed after v0.<span style=\"color: #008000; text-decoration-color: #008000\">13.0</span>. Use plot                           \n",
       "                             instead.                                                        \n",
       "</pre>\n"
      ],
      "text/plain": [
       "\u001b[2;36m[01/31/22 20:56:46]\u001b[0m\u001b[2;36m \u001b[0m\u001b[31mWARNING \u001b[0m The method CoordinateSystem.get_graph has     \u001b]8;id=676889;file://C:\\Users\\thoma\\AppData\\Local\\Programs\\Python\\Python39\\lib\\site-packages\\manim\\utils\\deprecation.py\u001b\\\u001b[2mdeprecation.py\u001b[0m\u001b]8;;\u001b\\\u001b[2m:\u001b[0m\u001b]8;id=448083;file://C:\\Users\\thoma\\AppData\\Local\\Programs\\Python\\Python39\\lib\\site-packages\\manim\\utils\\deprecation.py#210\u001b\\\u001b[2m210\u001b[0m\u001b]8;;\u001b\\\n",
       "                             been deprecated since v0.\u001b[32m11.0\u001b[0m and is expected                   \n",
       "                             to be removed after v0.\u001b[32m13.0\u001b[0m. Use plot                           \n",
       "                             instead.                                                        \n"
      ]
     },
     "metadata": {},
     "output_type": "display_data"
    },
    {
     "name": "stderr",
     "output_type": "stream",
     "text": [
      "Animation 1: _MethodAnimation(ValueTracker):  88%|########8 | 198/225 [01:39<00:28,  1.07s/it]"
     ]
    },
    {
     "data": {
      "text/html": [
       "<pre style=\"white-space:pre;overflow-x:auto;line-height:normal;font-family:Menlo,'DejaVu Sans Mono',consolas,'Courier New',monospace\"><span style=\"color: #7fbfbf; text-decoration-color: #7fbfbf\">[01/31/22 20:56:47] </span><span style=\"color: #800000; text-decoration-color: #800000\">WARNING </span> The method CoordinateSystem.get_graph has     <a href=\"file://C:\\Users\\thoma\\AppData\\Local\\Programs\\Python\\Python39\\lib\\site-packages\\manim\\utils\\deprecation.py\"><span style=\"color: #7f7f7f; text-decoration-color: #7f7f7f\">deprecation.py</span></a><span style=\"color: #7f7f7f; text-decoration-color: #7f7f7f\">:</span><a href=\"file://C:\\Users\\thoma\\AppData\\Local\\Programs\\Python\\Python39\\lib\\site-packages\\manim\\utils\\deprecation.py#210\"><span style=\"color: #7f7f7f; text-decoration-color: #7f7f7f\">210</span></a>\n",
       "                             been deprecated since v0.<span style=\"color: #008000; text-decoration-color: #008000\">11.0</span> and is expected                   \n",
       "                             to be removed after v0.<span style=\"color: #008000; text-decoration-color: #008000\">13.0</span>. Use plot                           \n",
       "                             instead.                                                        \n",
       "</pre>\n"
      ],
      "text/plain": [
       "\u001b[2;36m[01/31/22 20:56:47]\u001b[0m\u001b[2;36m \u001b[0m\u001b[31mWARNING \u001b[0m The method CoordinateSystem.get_graph has     \u001b]8;id=428613;file://C:\\Users\\thoma\\AppData\\Local\\Programs\\Python\\Python39\\lib\\site-packages\\manim\\utils\\deprecation.py\u001b\\\u001b[2mdeprecation.py\u001b[0m\u001b]8;;\u001b\\\u001b[2m:\u001b[0m\u001b]8;id=685316;file://C:\\Users\\thoma\\AppData\\Local\\Programs\\Python\\Python39\\lib\\site-packages\\manim\\utils\\deprecation.py#210\u001b\\\u001b[2m210\u001b[0m\u001b]8;;\u001b\\\n",
       "                             been deprecated since v0.\u001b[32m11.0\u001b[0m and is expected                   \n",
       "                             to be removed after v0.\u001b[32m13.0\u001b[0m. Use plot                           \n",
       "                             instead.                                                        \n"
      ]
     },
     "metadata": {},
     "output_type": "display_data"
    },
    {
     "name": "stderr",
     "output_type": "stream",
     "text": [
      "Animation 1: _MethodAnimation(ValueTracker):  88%|########8 | 199/225 [01:40<00:27,  1.04s/it]"
     ]
    },
    {
     "data": {
      "text/html": [
       "<pre style=\"white-space:pre;overflow-x:auto;line-height:normal;font-family:Menlo,'DejaVu Sans Mono',consolas,'Courier New',monospace\"><span style=\"color: #7fbfbf; text-decoration-color: #7fbfbf\">[01/31/22 20:56:48] </span><span style=\"color: #800000; text-decoration-color: #800000\">WARNING </span> The method CoordinateSystem.get_graph has     <a href=\"file://C:\\Users\\thoma\\AppData\\Local\\Programs\\Python\\Python39\\lib\\site-packages\\manim\\utils\\deprecation.py\"><span style=\"color: #7f7f7f; text-decoration-color: #7f7f7f\">deprecation.py</span></a><span style=\"color: #7f7f7f; text-decoration-color: #7f7f7f\">:</span><a href=\"file://C:\\Users\\thoma\\AppData\\Local\\Programs\\Python\\Python39\\lib\\site-packages\\manim\\utils\\deprecation.py#210\"><span style=\"color: #7f7f7f; text-decoration-color: #7f7f7f\">210</span></a>\n",
       "                             been deprecated since v0.<span style=\"color: #008000; text-decoration-color: #008000\">11.0</span> and is expected                   \n",
       "                             to be removed after v0.<span style=\"color: #008000; text-decoration-color: #008000\">13.0</span>. Use plot                           \n",
       "                             instead.                                                        \n",
       "</pre>\n"
      ],
      "text/plain": [
       "\u001b[2;36m[01/31/22 20:56:48]\u001b[0m\u001b[2;36m \u001b[0m\u001b[31mWARNING \u001b[0m The method CoordinateSystem.get_graph has     \u001b]8;id=814289;file://C:\\Users\\thoma\\AppData\\Local\\Programs\\Python\\Python39\\lib\\site-packages\\manim\\utils\\deprecation.py\u001b\\\u001b[2mdeprecation.py\u001b[0m\u001b]8;;\u001b\\\u001b[2m:\u001b[0m\u001b]8;id=891575;file://C:\\Users\\thoma\\AppData\\Local\\Programs\\Python\\Python39\\lib\\site-packages\\manim\\utils\\deprecation.py#210\u001b\\\u001b[2m210\u001b[0m\u001b]8;;\u001b\\\n",
       "                             been deprecated since v0.\u001b[32m11.0\u001b[0m and is expected                   \n",
       "                             to be removed after v0.\u001b[32m13.0\u001b[0m. Use plot                           \n",
       "                             instead.                                                        \n"
      ]
     },
     "metadata": {},
     "output_type": "display_data"
    },
    {
     "name": "stderr",
     "output_type": "stream",
     "text": [
      "Animation 1: _MethodAnimation(ValueTracker):  89%|########8 | 200/225 [01:42<00:28,  1.15s/it]"
     ]
    },
    {
     "data": {
      "text/html": [
       "<pre style=\"white-space:pre;overflow-x:auto;line-height:normal;font-family:Menlo,'DejaVu Sans Mono',consolas,'Courier New',monospace\"><span style=\"color: #7fbfbf; text-decoration-color: #7fbfbf\">[01/31/22 20:56:50] </span><span style=\"color: #800000; text-decoration-color: #800000\">WARNING </span> The method CoordinateSystem.get_graph has     <a href=\"file://C:\\Users\\thoma\\AppData\\Local\\Programs\\Python\\Python39\\lib\\site-packages\\manim\\utils\\deprecation.py\"><span style=\"color: #7f7f7f; text-decoration-color: #7f7f7f\">deprecation.py</span></a><span style=\"color: #7f7f7f; text-decoration-color: #7f7f7f\">:</span><a href=\"file://C:\\Users\\thoma\\AppData\\Local\\Programs\\Python\\Python39\\lib\\site-packages\\manim\\utils\\deprecation.py#210\"><span style=\"color: #7f7f7f; text-decoration-color: #7f7f7f\">210</span></a>\n",
       "                             been deprecated since v0.<span style=\"color: #008000; text-decoration-color: #008000\">11.0</span> and is expected                   \n",
       "                             to be removed after v0.<span style=\"color: #008000; text-decoration-color: #008000\">13.0</span>. Use plot                           \n",
       "                             instead.                                                        \n",
       "</pre>\n"
      ],
      "text/plain": [
       "\u001b[2;36m[01/31/22 20:56:50]\u001b[0m\u001b[2;36m \u001b[0m\u001b[31mWARNING \u001b[0m The method CoordinateSystem.get_graph has     \u001b]8;id=983483;file://C:\\Users\\thoma\\AppData\\Local\\Programs\\Python\\Python39\\lib\\site-packages\\manim\\utils\\deprecation.py\u001b\\\u001b[2mdeprecation.py\u001b[0m\u001b]8;;\u001b\\\u001b[2m:\u001b[0m\u001b]8;id=444392;file://C:\\Users\\thoma\\AppData\\Local\\Programs\\Python\\Python39\\lib\\site-packages\\manim\\utils\\deprecation.py#210\u001b\\\u001b[2m210\u001b[0m\u001b]8;;\u001b\\\n",
       "                             been deprecated since v0.\u001b[32m11.0\u001b[0m and is expected                   \n",
       "                             to be removed after v0.\u001b[32m13.0\u001b[0m. Use plot                           \n",
       "                             instead.                                                        \n"
      ]
     },
     "metadata": {},
     "output_type": "display_data"
    },
    {
     "name": "stderr",
     "output_type": "stream",
     "text": [
      "Animation 1: _MethodAnimation(ValueTracker):  89%|########9 | 201/225 [01:43<00:26,  1.10s/it]"
     ]
    },
    {
     "data": {
      "text/html": [
       "<pre style=\"white-space:pre;overflow-x:auto;line-height:normal;font-family:Menlo,'DejaVu Sans Mono',consolas,'Courier New',monospace\"><span style=\"color: #7fbfbf; text-decoration-color: #7fbfbf\">[01/31/22 20:56:51] </span><span style=\"color: #800000; text-decoration-color: #800000\">WARNING </span> The method CoordinateSystem.get_graph has     <a href=\"file://C:\\Users\\thoma\\AppData\\Local\\Programs\\Python\\Python39\\lib\\site-packages\\manim\\utils\\deprecation.py\"><span style=\"color: #7f7f7f; text-decoration-color: #7f7f7f\">deprecation.py</span></a><span style=\"color: #7f7f7f; text-decoration-color: #7f7f7f\">:</span><a href=\"file://C:\\Users\\thoma\\AppData\\Local\\Programs\\Python\\Python39\\lib\\site-packages\\manim\\utils\\deprecation.py#210\"><span style=\"color: #7f7f7f; text-decoration-color: #7f7f7f\">210</span></a>\n",
       "                             been deprecated since v0.<span style=\"color: #008000; text-decoration-color: #008000\">11.0</span> and is expected                   \n",
       "                             to be removed after v0.<span style=\"color: #008000; text-decoration-color: #008000\">13.0</span>. Use plot                           \n",
       "                             instead.                                                        \n",
       "</pre>\n"
      ],
      "text/plain": [
       "\u001b[2;36m[01/31/22 20:56:51]\u001b[0m\u001b[2;36m \u001b[0m\u001b[31mWARNING \u001b[0m The method CoordinateSystem.get_graph has     \u001b]8;id=681804;file://C:\\Users\\thoma\\AppData\\Local\\Programs\\Python\\Python39\\lib\\site-packages\\manim\\utils\\deprecation.py\u001b\\\u001b[2mdeprecation.py\u001b[0m\u001b]8;;\u001b\\\u001b[2m:\u001b[0m\u001b]8;id=420145;file://C:\\Users\\thoma\\AppData\\Local\\Programs\\Python\\Python39\\lib\\site-packages\\manim\\utils\\deprecation.py#210\u001b\\\u001b[2m210\u001b[0m\u001b]8;;\u001b\\\n",
       "                             been deprecated since v0.\u001b[32m11.0\u001b[0m and is expected                   \n",
       "                             to be removed after v0.\u001b[32m13.0\u001b[0m. Use plot                           \n",
       "                             instead.                                                        \n"
      ]
     },
     "metadata": {},
     "output_type": "display_data"
    },
    {
     "name": "stderr",
     "output_type": "stream",
     "text": [
      "Animation 1: _MethodAnimation(ValueTracker):  90%|########9 | 202/225 [01:44<00:27,  1.18s/it]"
     ]
    },
    {
     "data": {
      "text/html": [
       "<pre style=\"white-space:pre;overflow-x:auto;line-height:normal;font-family:Menlo,'DejaVu Sans Mono',consolas,'Courier New',monospace\"><span style=\"color: #7fbfbf; text-decoration-color: #7fbfbf\">[01/31/22 20:56:52] </span><span style=\"color: #800000; text-decoration-color: #800000\">WARNING </span> The method CoordinateSystem.get_graph has     <a href=\"file://C:\\Users\\thoma\\AppData\\Local\\Programs\\Python\\Python39\\lib\\site-packages\\manim\\utils\\deprecation.py\"><span style=\"color: #7f7f7f; text-decoration-color: #7f7f7f\">deprecation.py</span></a><span style=\"color: #7f7f7f; text-decoration-color: #7f7f7f\">:</span><a href=\"file://C:\\Users\\thoma\\AppData\\Local\\Programs\\Python\\Python39\\lib\\site-packages\\manim\\utils\\deprecation.py#210\"><span style=\"color: #7f7f7f; text-decoration-color: #7f7f7f\">210</span></a>\n",
       "                             been deprecated since v0.<span style=\"color: #008000; text-decoration-color: #008000\">11.0</span> and is expected                   \n",
       "                             to be removed after v0.<span style=\"color: #008000; text-decoration-color: #008000\">13.0</span>. Use plot                           \n",
       "                             instead.                                                        \n",
       "</pre>\n"
      ],
      "text/plain": [
       "\u001b[2;36m[01/31/22 20:56:52]\u001b[0m\u001b[2;36m \u001b[0m\u001b[31mWARNING \u001b[0m The method CoordinateSystem.get_graph has     \u001b]8;id=817883;file://C:\\Users\\thoma\\AppData\\Local\\Programs\\Python\\Python39\\lib\\site-packages\\manim\\utils\\deprecation.py\u001b\\\u001b[2mdeprecation.py\u001b[0m\u001b]8;;\u001b\\\u001b[2m:\u001b[0m\u001b]8;id=31518;file://C:\\Users\\thoma\\AppData\\Local\\Programs\\Python\\Python39\\lib\\site-packages\\manim\\utils\\deprecation.py#210\u001b\\\u001b[2m210\u001b[0m\u001b]8;;\u001b\\\n",
       "                             been deprecated since v0.\u001b[32m11.0\u001b[0m and is expected                   \n",
       "                             to be removed after v0.\u001b[32m13.0\u001b[0m. Use plot                           \n",
       "                             instead.                                                        \n"
      ]
     },
     "metadata": {},
     "output_type": "display_data"
    },
    {
     "name": "stderr",
     "output_type": "stream",
     "text": [
      "Animation 1: _MethodAnimation(ValueTracker):  90%|######### | 203/225 [01:45<00:24,  1.10s/it]"
     ]
    },
    {
     "data": {
      "text/html": [
       "<pre style=\"white-space:pre;overflow-x:auto;line-height:normal;font-family:Menlo,'DejaVu Sans Mono',consolas,'Courier New',monospace\"><span style=\"color: #7fbfbf; text-decoration-color: #7fbfbf\">[01/31/22 20:56:53] </span><span style=\"color: #800000; text-decoration-color: #800000\">WARNING </span> The method CoordinateSystem.get_graph has     <a href=\"file://C:\\Users\\thoma\\AppData\\Local\\Programs\\Python\\Python39\\lib\\site-packages\\manim\\utils\\deprecation.py\"><span style=\"color: #7f7f7f; text-decoration-color: #7f7f7f\">deprecation.py</span></a><span style=\"color: #7f7f7f; text-decoration-color: #7f7f7f\">:</span><a href=\"file://C:\\Users\\thoma\\AppData\\Local\\Programs\\Python\\Python39\\lib\\site-packages\\manim\\utils\\deprecation.py#210\"><span style=\"color: #7f7f7f; text-decoration-color: #7f7f7f\">210</span></a>\n",
       "                             been deprecated since v0.<span style=\"color: #008000; text-decoration-color: #008000\">11.0</span> and is expected                   \n",
       "                             to be removed after v0.<span style=\"color: #008000; text-decoration-color: #008000\">13.0</span>. Use plot                           \n",
       "                             instead.                                                        \n",
       "</pre>\n"
      ],
      "text/plain": [
       "\u001b[2;36m[01/31/22 20:56:53]\u001b[0m\u001b[2;36m \u001b[0m\u001b[31mWARNING \u001b[0m The method CoordinateSystem.get_graph has     \u001b]8;id=519672;file://C:\\Users\\thoma\\AppData\\Local\\Programs\\Python\\Python39\\lib\\site-packages\\manim\\utils\\deprecation.py\u001b\\\u001b[2mdeprecation.py\u001b[0m\u001b]8;;\u001b\\\u001b[2m:\u001b[0m\u001b]8;id=729598;file://C:\\Users\\thoma\\AppData\\Local\\Programs\\Python\\Python39\\lib\\site-packages\\manim\\utils\\deprecation.py#210\u001b\\\u001b[2m210\u001b[0m\u001b]8;;\u001b\\\n",
       "                             been deprecated since v0.\u001b[32m11.0\u001b[0m and is expected                   \n",
       "                             to be removed after v0.\u001b[32m13.0\u001b[0m. Use plot                           \n",
       "                             instead.                                                        \n"
      ]
     },
     "metadata": {},
     "output_type": "display_data"
    },
    {
     "name": "stderr",
     "output_type": "stream",
     "text": [
      "Animation 1: _MethodAnimation(ValueTracker):  91%|######### | 204/225 [01:46<00:24,  1.15s/it]"
     ]
    },
    {
     "data": {
      "text/html": [
       "<pre style=\"white-space:pre;overflow-x:auto;line-height:normal;font-family:Menlo,'DejaVu Sans Mono',consolas,'Courier New',monospace\"><span style=\"color: #7fbfbf; text-decoration-color: #7fbfbf\">[01/31/22 20:56:54] </span><span style=\"color: #800000; text-decoration-color: #800000\">WARNING </span> The method CoordinateSystem.get_graph has     <a href=\"file://C:\\Users\\thoma\\AppData\\Local\\Programs\\Python\\Python39\\lib\\site-packages\\manim\\utils\\deprecation.py\"><span style=\"color: #7f7f7f; text-decoration-color: #7f7f7f\">deprecation.py</span></a><span style=\"color: #7f7f7f; text-decoration-color: #7f7f7f\">:</span><a href=\"file://C:\\Users\\thoma\\AppData\\Local\\Programs\\Python\\Python39\\lib\\site-packages\\manim\\utils\\deprecation.py#210\"><span style=\"color: #7f7f7f; text-decoration-color: #7f7f7f\">210</span></a>\n",
       "                             been deprecated since v0.<span style=\"color: #008000; text-decoration-color: #008000\">11.0</span> and is expected                   \n",
       "                             to be removed after v0.<span style=\"color: #008000; text-decoration-color: #008000\">13.0</span>. Use plot                           \n",
       "                             instead.                                                        \n",
       "</pre>\n"
      ],
      "text/plain": [
       "\u001b[2;36m[01/31/22 20:56:54]\u001b[0m\u001b[2;36m \u001b[0m\u001b[31mWARNING \u001b[0m The method CoordinateSystem.get_graph has     \u001b]8;id=131581;file://C:\\Users\\thoma\\AppData\\Local\\Programs\\Python\\Python39\\lib\\site-packages\\manim\\utils\\deprecation.py\u001b\\\u001b[2mdeprecation.py\u001b[0m\u001b]8;;\u001b\\\u001b[2m:\u001b[0m\u001b]8;id=627040;file://C:\\Users\\thoma\\AppData\\Local\\Programs\\Python\\Python39\\lib\\site-packages\\manim\\utils\\deprecation.py#210\u001b\\\u001b[2m210\u001b[0m\u001b]8;;\u001b\\\n",
       "                             been deprecated since v0.\u001b[32m11.0\u001b[0m and is expected                   \n",
       "                             to be removed after v0.\u001b[32m13.0\u001b[0m. Use plot                           \n",
       "                             instead.                                                        \n"
      ]
     },
     "metadata": {},
     "output_type": "display_data"
    },
    {
     "name": "stderr",
     "output_type": "stream",
     "text": [
      "Animation 1: _MethodAnimation(ValueTracker):  91%|#########1| 205/225 [01:47<00:20,  1.03s/it]"
     ]
    },
    {
     "data": {
      "text/html": [
       "<pre style=\"white-space:pre;overflow-x:auto;line-height:normal;font-family:Menlo,'DejaVu Sans Mono',consolas,'Courier New',monospace\"><span style=\"color: #7fbfbf; text-decoration-color: #7fbfbf\">[01/31/22 20:56:55] </span><span style=\"color: #800000; text-decoration-color: #800000\">WARNING </span> The method CoordinateSystem.get_graph has     <a href=\"file://C:\\Users\\thoma\\AppData\\Local\\Programs\\Python\\Python39\\lib\\site-packages\\manim\\utils\\deprecation.py\"><span style=\"color: #7f7f7f; text-decoration-color: #7f7f7f\">deprecation.py</span></a><span style=\"color: #7f7f7f; text-decoration-color: #7f7f7f\">:</span><a href=\"file://C:\\Users\\thoma\\AppData\\Local\\Programs\\Python\\Python39\\lib\\site-packages\\manim\\utils\\deprecation.py#210\"><span style=\"color: #7f7f7f; text-decoration-color: #7f7f7f\">210</span></a>\n",
       "                             been deprecated since v0.<span style=\"color: #008000; text-decoration-color: #008000\">11.0</span> and is expected                   \n",
       "                             to be removed after v0.<span style=\"color: #008000; text-decoration-color: #008000\">13.0</span>. Use plot                           \n",
       "                             instead.                                                        \n",
       "</pre>\n"
      ],
      "text/plain": [
       "\u001b[2;36m[01/31/22 20:56:55]\u001b[0m\u001b[2;36m \u001b[0m\u001b[31mWARNING \u001b[0m The method CoordinateSystem.get_graph has     \u001b]8;id=95564;file://C:\\Users\\thoma\\AppData\\Local\\Programs\\Python\\Python39\\lib\\site-packages\\manim\\utils\\deprecation.py\u001b\\\u001b[2mdeprecation.py\u001b[0m\u001b]8;;\u001b\\\u001b[2m:\u001b[0m\u001b]8;id=886091;file://C:\\Users\\thoma\\AppData\\Local\\Programs\\Python\\Python39\\lib\\site-packages\\manim\\utils\\deprecation.py#210\u001b\\\u001b[2m210\u001b[0m\u001b]8;;\u001b\\\n",
       "                             been deprecated since v0.\u001b[32m11.0\u001b[0m and is expected                   \n",
       "                             to be removed after v0.\u001b[32m13.0\u001b[0m. Use plot                           \n",
       "                             instead.                                                        \n"
      ]
     },
     "metadata": {},
     "output_type": "display_data"
    },
    {
     "name": "stderr",
     "output_type": "stream",
     "text": [
      "Animation 1: _MethodAnimation(ValueTracker):  92%|#########1| 206/225 [01:48<00:19,  1.03s/it]"
     ]
    },
    {
     "data": {
      "text/html": [
       "<pre style=\"white-space:pre;overflow-x:auto;line-height:normal;font-family:Menlo,'DejaVu Sans Mono',consolas,'Courier New',monospace\"><span style=\"color: #7fbfbf; text-decoration-color: #7fbfbf\">[01/31/22 20:56:56] </span><span style=\"color: #800000; text-decoration-color: #800000\">WARNING </span> The method CoordinateSystem.get_graph has     <a href=\"file://C:\\Users\\thoma\\AppData\\Local\\Programs\\Python\\Python39\\lib\\site-packages\\manim\\utils\\deprecation.py\"><span style=\"color: #7f7f7f; text-decoration-color: #7f7f7f\">deprecation.py</span></a><span style=\"color: #7f7f7f; text-decoration-color: #7f7f7f\">:</span><a href=\"file://C:\\Users\\thoma\\AppData\\Local\\Programs\\Python\\Python39\\lib\\site-packages\\manim\\utils\\deprecation.py#210\"><span style=\"color: #7f7f7f; text-decoration-color: #7f7f7f\">210</span></a>\n",
       "                             been deprecated since v0.<span style=\"color: #008000; text-decoration-color: #008000\">11.0</span> and is expected                   \n",
       "                             to be removed after v0.<span style=\"color: #008000; text-decoration-color: #008000\">13.0</span>. Use plot                           \n",
       "                             instead.                                                        \n",
       "</pre>\n"
      ],
      "text/plain": [
       "\u001b[2;36m[01/31/22 20:56:56]\u001b[0m\u001b[2;36m \u001b[0m\u001b[31mWARNING \u001b[0m The method CoordinateSystem.get_graph has     \u001b]8;id=219787;file://C:\\Users\\thoma\\AppData\\Local\\Programs\\Python\\Python39\\lib\\site-packages\\manim\\utils\\deprecation.py\u001b\\\u001b[2mdeprecation.py\u001b[0m\u001b]8;;\u001b\\\u001b[2m:\u001b[0m\u001b]8;id=700404;file://C:\\Users\\thoma\\AppData\\Local\\Programs\\Python\\Python39\\lib\\site-packages\\manim\\utils\\deprecation.py#210\u001b\\\u001b[2m210\u001b[0m\u001b]8;;\u001b\\\n",
       "                             been deprecated since v0.\u001b[32m11.0\u001b[0m and is expected                   \n",
       "                             to be removed after v0.\u001b[32m13.0\u001b[0m. Use plot                           \n",
       "                             instead.                                                        \n"
      ]
     },
     "metadata": {},
     "output_type": "display_data"
    },
    {
     "name": "stderr",
     "output_type": "stream",
     "text": [
      "Animation 1: _MethodAnimation(ValueTracker):  92%|#########2| 207/225 [01:49<00:20,  1.13s/it]"
     ]
    },
    {
     "data": {
      "text/html": [
       "<pre style=\"white-space:pre;overflow-x:auto;line-height:normal;font-family:Menlo,'DejaVu Sans Mono',consolas,'Courier New',monospace\"><span style=\"color: #7fbfbf; text-decoration-color: #7fbfbf\">[01/31/22 20:56:58] </span><span style=\"color: #800000; text-decoration-color: #800000\">WARNING </span> The method CoordinateSystem.get_graph has     <a href=\"file://C:\\Users\\thoma\\AppData\\Local\\Programs\\Python\\Python39\\lib\\site-packages\\manim\\utils\\deprecation.py\"><span style=\"color: #7f7f7f; text-decoration-color: #7f7f7f\">deprecation.py</span></a><span style=\"color: #7f7f7f; text-decoration-color: #7f7f7f\">:</span><a href=\"file://C:\\Users\\thoma\\AppData\\Local\\Programs\\Python\\Python39\\lib\\site-packages\\manim\\utils\\deprecation.py#210\"><span style=\"color: #7f7f7f; text-decoration-color: #7f7f7f\">210</span></a>\n",
       "                             been deprecated since v0.<span style=\"color: #008000; text-decoration-color: #008000\">11.0</span> and is expected                   \n",
       "                             to be removed after v0.<span style=\"color: #008000; text-decoration-color: #008000\">13.0</span>. Use plot                           \n",
       "                             instead.                                                        \n",
       "</pre>\n"
      ],
      "text/plain": [
       "\u001b[2;36m[01/31/22 20:56:58]\u001b[0m\u001b[2;36m \u001b[0m\u001b[31mWARNING \u001b[0m The method CoordinateSystem.get_graph has     \u001b]8;id=931013;file://C:\\Users\\thoma\\AppData\\Local\\Programs\\Python\\Python39\\lib\\site-packages\\manim\\utils\\deprecation.py\u001b\\\u001b[2mdeprecation.py\u001b[0m\u001b]8;;\u001b\\\u001b[2m:\u001b[0m\u001b]8;id=669307;file://C:\\Users\\thoma\\AppData\\Local\\Programs\\Python\\Python39\\lib\\site-packages\\manim\\utils\\deprecation.py#210\u001b\\\u001b[2m210\u001b[0m\u001b]8;;\u001b\\\n",
       "                             been deprecated since v0.\u001b[32m11.0\u001b[0m and is expected                   \n",
       "                             to be removed after v0.\u001b[32m13.0\u001b[0m. Use plot                           \n",
       "                             instead.                                                        \n"
      ]
     },
     "metadata": {},
     "output_type": "display_data"
    },
    {
     "name": "stderr",
     "output_type": "stream",
     "text": [
      "Animation 1: _MethodAnimation(ValueTracker):  92%|#########2| 208/225 [01:50<00:18,  1.11s/it]"
     ]
    },
    {
     "data": {
      "text/html": [
       "<pre style=\"white-space:pre;overflow-x:auto;line-height:normal;font-family:Menlo,'DejaVu Sans Mono',consolas,'Courier New',monospace\"><span style=\"color: #7fbfbf; text-decoration-color: #7fbfbf\">[01/31/22 20:56:59] </span><span style=\"color: #800000; text-decoration-color: #800000\">WARNING </span> The method CoordinateSystem.get_graph has     <a href=\"file://C:\\Users\\thoma\\AppData\\Local\\Programs\\Python\\Python39\\lib\\site-packages\\manim\\utils\\deprecation.py\"><span style=\"color: #7f7f7f; text-decoration-color: #7f7f7f\">deprecation.py</span></a><span style=\"color: #7f7f7f; text-decoration-color: #7f7f7f\">:</span><a href=\"file://C:\\Users\\thoma\\AppData\\Local\\Programs\\Python\\Python39\\lib\\site-packages\\manim\\utils\\deprecation.py#210\"><span style=\"color: #7f7f7f; text-decoration-color: #7f7f7f\">210</span></a>\n",
       "                             been deprecated since v0.<span style=\"color: #008000; text-decoration-color: #008000\">11.0</span> and is expected                   \n",
       "                             to be removed after v0.<span style=\"color: #008000; text-decoration-color: #008000\">13.0</span>. Use plot                           \n",
       "                             instead.                                                        \n",
       "</pre>\n"
      ],
      "text/plain": [
       "\u001b[2;36m[01/31/22 20:56:59]\u001b[0m\u001b[2;36m \u001b[0m\u001b[31mWARNING \u001b[0m The method CoordinateSystem.get_graph has     \u001b]8;id=989512;file://C:\\Users\\thoma\\AppData\\Local\\Programs\\Python\\Python39\\lib\\site-packages\\manim\\utils\\deprecation.py\u001b\\\u001b[2mdeprecation.py\u001b[0m\u001b]8;;\u001b\\\u001b[2m:\u001b[0m\u001b]8;id=300261;file://C:\\Users\\thoma\\AppData\\Local\\Programs\\Python\\Python39\\lib\\site-packages\\manim\\utils\\deprecation.py#210\u001b\\\u001b[2m210\u001b[0m\u001b]8;;\u001b\\\n",
       "                             been deprecated since v0.\u001b[32m11.0\u001b[0m and is expected                   \n",
       "                             to be removed after v0.\u001b[32m13.0\u001b[0m. Use plot                           \n",
       "                             instead.                                                        \n"
      ]
     },
     "metadata": {},
     "output_type": "display_data"
    },
    {
     "name": "stderr",
     "output_type": "stream",
     "text": [
      "Animation 1: _MethodAnimation(ValueTracker):  93%|#########2| 209/225 [01:51<00:16,  1.02s/it]"
     ]
    },
    {
     "data": {
      "text/html": [
       "<pre style=\"white-space:pre;overflow-x:auto;line-height:normal;font-family:Menlo,'DejaVu Sans Mono',consolas,'Courier New',monospace\"><span style=\"color: #7fbfbf; text-decoration-color: #7fbfbf\">                    </span><span style=\"color: #800000; text-decoration-color: #800000\">WARNING </span> The method CoordinateSystem.get_graph has     <a href=\"file://C:\\Users\\thoma\\AppData\\Local\\Programs\\Python\\Python39\\lib\\site-packages\\manim\\utils\\deprecation.py\"><span style=\"color: #7f7f7f; text-decoration-color: #7f7f7f\">deprecation.py</span></a><span style=\"color: #7f7f7f; text-decoration-color: #7f7f7f\">:</span><a href=\"file://C:\\Users\\thoma\\AppData\\Local\\Programs\\Python\\Python39\\lib\\site-packages\\manim\\utils\\deprecation.py#210\"><span style=\"color: #7f7f7f; text-decoration-color: #7f7f7f\">210</span></a>\n",
       "                             been deprecated since v0.<span style=\"color: #008000; text-decoration-color: #008000\">11.0</span> and is expected                   \n",
       "                             to be removed after v0.<span style=\"color: #008000; text-decoration-color: #008000\">13.0</span>. Use plot                           \n",
       "                             instead.                                                        \n",
       "</pre>\n"
      ],
      "text/plain": [
       "\u001b[2;36m                   \u001b[0m\u001b[2;36m \u001b[0m\u001b[31mWARNING \u001b[0m The method CoordinateSystem.get_graph has     \u001b]8;id=143589;file://C:\\Users\\thoma\\AppData\\Local\\Programs\\Python\\Python39\\lib\\site-packages\\manim\\utils\\deprecation.py\u001b\\\u001b[2mdeprecation.py\u001b[0m\u001b]8;;\u001b\\\u001b[2m:\u001b[0m\u001b]8;id=518953;file://C:\\Users\\thoma\\AppData\\Local\\Programs\\Python\\Python39\\lib\\site-packages\\manim\\utils\\deprecation.py#210\u001b\\\u001b[2m210\u001b[0m\u001b]8;;\u001b\\\n",
       "                             been deprecated since v0.\u001b[32m11.0\u001b[0m and is expected                   \n",
       "                             to be removed after v0.\u001b[32m13.0\u001b[0m. Use plot                           \n",
       "                             instead.                                                        \n"
      ]
     },
     "metadata": {},
     "output_type": "display_data"
    },
    {
     "name": "stderr",
     "output_type": "stream",
     "text": [
      "Animation 1: _MethodAnimation(ValueTracker):  93%|#########3| 210/225 [01:52<00:16,  1.09s/it]"
     ]
    },
    {
     "data": {
      "text/html": [
       "<pre style=\"white-space:pre;overflow-x:auto;line-height:normal;font-family:Menlo,'DejaVu Sans Mono',consolas,'Courier New',monospace\"><span style=\"color: #7fbfbf; text-decoration-color: #7fbfbf\">[01/31/22 20:57:01] </span><span style=\"color: #800000; text-decoration-color: #800000\">WARNING </span> The method CoordinateSystem.get_graph has     <a href=\"file://C:\\Users\\thoma\\AppData\\Local\\Programs\\Python\\Python39\\lib\\site-packages\\manim\\utils\\deprecation.py\"><span style=\"color: #7f7f7f; text-decoration-color: #7f7f7f\">deprecation.py</span></a><span style=\"color: #7f7f7f; text-decoration-color: #7f7f7f\">:</span><a href=\"file://C:\\Users\\thoma\\AppData\\Local\\Programs\\Python\\Python39\\lib\\site-packages\\manim\\utils\\deprecation.py#210\"><span style=\"color: #7f7f7f; text-decoration-color: #7f7f7f\">210</span></a>\n",
       "                             been deprecated since v0.<span style=\"color: #008000; text-decoration-color: #008000\">11.0</span> and is expected                   \n",
       "                             to be removed after v0.<span style=\"color: #008000; text-decoration-color: #008000\">13.0</span>. Use plot                           \n",
       "                             instead.                                                        \n",
       "</pre>\n"
      ],
      "text/plain": [
       "\u001b[2;36m[01/31/22 20:57:01]\u001b[0m\u001b[2;36m \u001b[0m\u001b[31mWARNING \u001b[0m The method CoordinateSystem.get_graph has     \u001b]8;id=774223;file://C:\\Users\\thoma\\AppData\\Local\\Programs\\Python\\Python39\\lib\\site-packages\\manim\\utils\\deprecation.py\u001b\\\u001b[2mdeprecation.py\u001b[0m\u001b]8;;\u001b\\\u001b[2m:\u001b[0m\u001b]8;id=652220;file://C:\\Users\\thoma\\AppData\\Local\\Programs\\Python\\Python39\\lib\\site-packages\\manim\\utils\\deprecation.py#210\u001b\\\u001b[2m210\u001b[0m\u001b]8;;\u001b\\\n",
       "                             been deprecated since v0.\u001b[32m11.0\u001b[0m and is expected                   \n",
       "                             to be removed after v0.\u001b[32m13.0\u001b[0m. Use plot                           \n",
       "                             instead.                                                        \n"
      ]
     },
     "metadata": {},
     "output_type": "display_data"
    },
    {
     "name": "stderr",
     "output_type": "stream",
     "text": [
      "Animation 1: _MethodAnimation(ValueTracker):  94%|#########3| 211/225 [01:53<00:14,  1.07s/it]"
     ]
    },
    {
     "data": {
      "text/html": [
       "<pre style=\"white-space:pre;overflow-x:auto;line-height:normal;font-family:Menlo,'DejaVu Sans Mono',consolas,'Courier New',monospace\"><span style=\"color: #7fbfbf; text-decoration-color: #7fbfbf\">[01/31/22 20:57:02] </span><span style=\"color: #800000; text-decoration-color: #800000\">WARNING </span> The method CoordinateSystem.get_graph has     <a href=\"file://C:\\Users\\thoma\\AppData\\Local\\Programs\\Python\\Python39\\lib\\site-packages\\manim\\utils\\deprecation.py\"><span style=\"color: #7f7f7f; text-decoration-color: #7f7f7f\">deprecation.py</span></a><span style=\"color: #7f7f7f; text-decoration-color: #7f7f7f\">:</span><a href=\"file://C:\\Users\\thoma\\AppData\\Local\\Programs\\Python\\Python39\\lib\\site-packages\\manim\\utils\\deprecation.py#210\"><span style=\"color: #7f7f7f; text-decoration-color: #7f7f7f\">210</span></a>\n",
       "                             been deprecated since v0.<span style=\"color: #008000; text-decoration-color: #008000\">11.0</span> and is expected                   \n",
       "                             to be removed after v0.<span style=\"color: #008000; text-decoration-color: #008000\">13.0</span>. Use plot                           \n",
       "                             instead.                                                        \n",
       "</pre>\n"
      ],
      "text/plain": [
       "\u001b[2;36m[01/31/22 20:57:02]\u001b[0m\u001b[2;36m \u001b[0m\u001b[31mWARNING \u001b[0m The method CoordinateSystem.get_graph has     \u001b]8;id=799123;file://C:\\Users\\thoma\\AppData\\Local\\Programs\\Python\\Python39\\lib\\site-packages\\manim\\utils\\deprecation.py\u001b\\\u001b[2mdeprecation.py\u001b[0m\u001b]8;;\u001b\\\u001b[2m:\u001b[0m\u001b]8;id=625636;file://C:\\Users\\thoma\\AppData\\Local\\Programs\\Python\\Python39\\lib\\site-packages\\manim\\utils\\deprecation.py#210\u001b\\\u001b[2m210\u001b[0m\u001b]8;;\u001b\\\n",
       "                             been deprecated since v0.\u001b[32m11.0\u001b[0m and is expected                   \n",
       "                             to be removed after v0.\u001b[32m13.0\u001b[0m. Use plot                           \n",
       "                             instead.                                                        \n"
      ]
     },
     "metadata": {},
     "output_type": "display_data"
    },
    {
     "name": "stderr",
     "output_type": "stream",
     "text": [
      "Animation 1: _MethodAnimation(ValueTracker):  94%|#########4| 212/225 [01:55<00:13,  1.05s/it]"
     ]
    },
    {
     "data": {
      "text/html": [
       "<pre style=\"white-space:pre;overflow-x:auto;line-height:normal;font-family:Menlo,'DejaVu Sans Mono',consolas,'Courier New',monospace\"><span style=\"color: #7fbfbf; text-decoration-color: #7fbfbf\">[01/31/22 20:57:03] </span><span style=\"color: #800000; text-decoration-color: #800000\">WARNING </span> The method CoordinateSystem.get_graph has     <a href=\"file://C:\\Users\\thoma\\AppData\\Local\\Programs\\Python\\Python39\\lib\\site-packages\\manim\\utils\\deprecation.py\"><span style=\"color: #7f7f7f; text-decoration-color: #7f7f7f\">deprecation.py</span></a><span style=\"color: #7f7f7f; text-decoration-color: #7f7f7f\">:</span><a href=\"file://C:\\Users\\thoma\\AppData\\Local\\Programs\\Python\\Python39\\lib\\site-packages\\manim\\utils\\deprecation.py#210\"><span style=\"color: #7f7f7f; text-decoration-color: #7f7f7f\">210</span></a>\n",
       "                             been deprecated since v0.<span style=\"color: #008000; text-decoration-color: #008000\">11.0</span> and is expected                   \n",
       "                             to be removed after v0.<span style=\"color: #008000; text-decoration-color: #008000\">13.0</span>. Use plot                           \n",
       "                             instead.                                                        \n",
       "</pre>\n"
      ],
      "text/plain": [
       "\u001b[2;36m[01/31/22 20:57:03]\u001b[0m\u001b[2;36m \u001b[0m\u001b[31mWARNING \u001b[0m The method CoordinateSystem.get_graph has     \u001b]8;id=267274;file://C:\\Users\\thoma\\AppData\\Local\\Programs\\Python\\Python39\\lib\\site-packages\\manim\\utils\\deprecation.py\u001b\\\u001b[2mdeprecation.py\u001b[0m\u001b]8;;\u001b\\\u001b[2m:\u001b[0m\u001b]8;id=494315;file://C:\\Users\\thoma\\AppData\\Local\\Programs\\Python\\Python39\\lib\\site-packages\\manim\\utils\\deprecation.py#210\u001b\\\u001b[2m210\u001b[0m\u001b]8;;\u001b\\\n",
       "                             been deprecated since v0.\u001b[32m11.0\u001b[0m and is expected                   \n",
       "                             to be removed after v0.\u001b[32m13.0\u001b[0m. Use plot                           \n",
       "                             instead.                                                        \n"
      ]
     },
     "metadata": {},
     "output_type": "display_data"
    },
    {
     "name": "stderr",
     "output_type": "stream",
     "text": [
      "Animation 1: _MethodAnimation(ValueTracker):  95%|#########4| 213/225 [01:55<00:12,  1.03s/it]"
     ]
    },
    {
     "data": {
      "text/html": [
       "<pre style=\"white-space:pre;overflow-x:auto;line-height:normal;font-family:Menlo,'DejaVu Sans Mono',consolas,'Courier New',monospace\"><span style=\"color: #7fbfbf; text-decoration-color: #7fbfbf\">[01/31/22 20:57:04] </span><span style=\"color: #800000; text-decoration-color: #800000\">WARNING </span> The method CoordinateSystem.get_graph has     <a href=\"file://C:\\Users\\thoma\\AppData\\Local\\Programs\\Python\\Python39\\lib\\site-packages\\manim\\utils\\deprecation.py\"><span style=\"color: #7f7f7f; text-decoration-color: #7f7f7f\">deprecation.py</span></a><span style=\"color: #7f7f7f; text-decoration-color: #7f7f7f\">:</span><a href=\"file://C:\\Users\\thoma\\AppData\\Local\\Programs\\Python\\Python39\\lib\\site-packages\\manim\\utils\\deprecation.py#210\"><span style=\"color: #7f7f7f; text-decoration-color: #7f7f7f\">210</span></a>\n",
       "                             been deprecated since v0.<span style=\"color: #008000; text-decoration-color: #008000\">11.0</span> and is expected                   \n",
       "                             to be removed after v0.<span style=\"color: #008000; text-decoration-color: #008000\">13.0</span>. Use plot                           \n",
       "                             instead.                                                        \n",
       "</pre>\n"
      ],
      "text/plain": [
       "\u001b[2;36m[01/31/22 20:57:04]\u001b[0m\u001b[2;36m \u001b[0m\u001b[31mWARNING \u001b[0m The method CoordinateSystem.get_graph has     \u001b]8;id=548307;file://C:\\Users\\thoma\\AppData\\Local\\Programs\\Python\\Python39\\lib\\site-packages\\manim\\utils\\deprecation.py\u001b\\\u001b[2mdeprecation.py\u001b[0m\u001b]8;;\u001b\\\u001b[2m:\u001b[0m\u001b]8;id=117766;file://C:\\Users\\thoma\\AppData\\Local\\Programs\\Python\\Python39\\lib\\site-packages\\manim\\utils\\deprecation.py#210\u001b\\\u001b[2m210\u001b[0m\u001b]8;;\u001b\\\n",
       "                             been deprecated since v0.\u001b[32m11.0\u001b[0m and is expected                   \n",
       "                             to be removed after v0.\u001b[32m13.0\u001b[0m. Use plot                           \n",
       "                             instead.                                                        \n"
      ]
     },
     "metadata": {},
     "output_type": "display_data"
    },
    {
     "name": "stderr",
     "output_type": "stream",
     "text": [
      "Animation 1: _MethodAnimation(ValueTracker):  95%|#########5| 214/225 [01:57<00:11,  1.05s/it]"
     ]
    },
    {
     "data": {
      "text/html": [
       "<pre style=\"white-space:pre;overflow-x:auto;line-height:normal;font-family:Menlo,'DejaVu Sans Mono',consolas,'Courier New',monospace\"><span style=\"color: #7fbfbf; text-decoration-color: #7fbfbf\">[01/31/22 20:57:05] </span><span style=\"color: #800000; text-decoration-color: #800000\">WARNING </span> The method CoordinateSystem.get_graph has     <a href=\"file://C:\\Users\\thoma\\AppData\\Local\\Programs\\Python\\Python39\\lib\\site-packages\\manim\\utils\\deprecation.py\"><span style=\"color: #7f7f7f; text-decoration-color: #7f7f7f\">deprecation.py</span></a><span style=\"color: #7f7f7f; text-decoration-color: #7f7f7f\">:</span><a href=\"file://C:\\Users\\thoma\\AppData\\Local\\Programs\\Python\\Python39\\lib\\site-packages\\manim\\utils\\deprecation.py#210\"><span style=\"color: #7f7f7f; text-decoration-color: #7f7f7f\">210</span></a>\n",
       "                             been deprecated since v0.<span style=\"color: #008000; text-decoration-color: #008000\">11.0</span> and is expected                   \n",
       "                             to be removed after v0.<span style=\"color: #008000; text-decoration-color: #008000\">13.0</span>. Use plot                           \n",
       "                             instead.                                                        \n",
       "</pre>\n"
      ],
      "text/plain": [
       "\u001b[2;36m[01/31/22 20:57:05]\u001b[0m\u001b[2;36m \u001b[0m\u001b[31mWARNING \u001b[0m The method CoordinateSystem.get_graph has     \u001b]8;id=814442;file://C:\\Users\\thoma\\AppData\\Local\\Programs\\Python\\Python39\\lib\\site-packages\\manim\\utils\\deprecation.py\u001b\\\u001b[2mdeprecation.py\u001b[0m\u001b]8;;\u001b\\\u001b[2m:\u001b[0m\u001b]8;id=597014;file://C:\\Users\\thoma\\AppData\\Local\\Programs\\Python\\Python39\\lib\\site-packages\\manim\\utils\\deprecation.py#210\u001b\\\u001b[2m210\u001b[0m\u001b]8;;\u001b\\\n",
       "                             been deprecated since v0.\u001b[32m11.0\u001b[0m and is expected                   \n",
       "                             to be removed after v0.\u001b[32m13.0\u001b[0m. Use plot                           \n",
       "                             instead.                                                        \n"
      ]
     },
     "metadata": {},
     "output_type": "display_data"
    },
    {
     "name": "stderr",
     "output_type": "stream",
     "text": [
      "Animation 1: _MethodAnimation(ValueTracker):  96%|#########5| 215/225 [01:58<00:10,  1.08s/it]"
     ]
    },
    {
     "data": {
      "text/html": [
       "<pre style=\"white-space:pre;overflow-x:auto;line-height:normal;font-family:Menlo,'DejaVu Sans Mono',consolas,'Courier New',monospace\"><span style=\"color: #7fbfbf; text-decoration-color: #7fbfbf\">[01/31/22 20:57:06] </span><span style=\"color: #800000; text-decoration-color: #800000\">WARNING </span> The method CoordinateSystem.get_graph has     <a href=\"file://C:\\Users\\thoma\\AppData\\Local\\Programs\\Python\\Python39\\lib\\site-packages\\manim\\utils\\deprecation.py\"><span style=\"color: #7f7f7f; text-decoration-color: #7f7f7f\">deprecation.py</span></a><span style=\"color: #7f7f7f; text-decoration-color: #7f7f7f\">:</span><a href=\"file://C:\\Users\\thoma\\AppData\\Local\\Programs\\Python\\Python39\\lib\\site-packages\\manim\\utils\\deprecation.py#210\"><span style=\"color: #7f7f7f; text-decoration-color: #7f7f7f\">210</span></a>\n",
       "                             been deprecated since v0.<span style=\"color: #008000; text-decoration-color: #008000\">11.0</span> and is expected                   \n",
       "                             to be removed after v0.<span style=\"color: #008000; text-decoration-color: #008000\">13.0</span>. Use plot                           \n",
       "                             instead.                                                        \n",
       "</pre>\n"
      ],
      "text/plain": [
       "\u001b[2;36m[01/31/22 20:57:06]\u001b[0m\u001b[2;36m \u001b[0m\u001b[31mWARNING \u001b[0m The method CoordinateSystem.get_graph has     \u001b]8;id=494563;file://C:\\Users\\thoma\\AppData\\Local\\Programs\\Python\\Python39\\lib\\site-packages\\manim\\utils\\deprecation.py\u001b\\\u001b[2mdeprecation.py\u001b[0m\u001b]8;;\u001b\\\u001b[2m:\u001b[0m\u001b]8;id=888123;file://C:\\Users\\thoma\\AppData\\Local\\Programs\\Python\\Python39\\lib\\site-packages\\manim\\utils\\deprecation.py#210\u001b\\\u001b[2m210\u001b[0m\u001b]8;;\u001b\\\n",
       "                             been deprecated since v0.\u001b[32m11.0\u001b[0m and is expected                   \n",
       "                             to be removed after v0.\u001b[32m13.0\u001b[0m. Use plot                           \n",
       "                             instead.                                                        \n"
      ]
     },
     "metadata": {},
     "output_type": "display_data"
    },
    {
     "name": "stderr",
     "output_type": "stream",
     "text": [
      "Animation 1: _MethodAnimation(ValueTracker):  96%|#########6| 216/225 [01:59<00:09,  1.07s/it]"
     ]
    },
    {
     "data": {
      "text/html": [
       "<pre style=\"white-space:pre;overflow-x:auto;line-height:normal;font-family:Menlo,'DejaVu Sans Mono',consolas,'Courier New',monospace\"><span style=\"color: #7fbfbf; text-decoration-color: #7fbfbf\">[01/31/22 20:57:07] </span><span style=\"color: #800000; text-decoration-color: #800000\">WARNING </span> The method CoordinateSystem.get_graph has     <a href=\"file://C:\\Users\\thoma\\AppData\\Local\\Programs\\Python\\Python39\\lib\\site-packages\\manim\\utils\\deprecation.py\"><span style=\"color: #7f7f7f; text-decoration-color: #7f7f7f\">deprecation.py</span></a><span style=\"color: #7f7f7f; text-decoration-color: #7f7f7f\">:</span><a href=\"file://C:\\Users\\thoma\\AppData\\Local\\Programs\\Python\\Python39\\lib\\site-packages\\manim\\utils\\deprecation.py#210\"><span style=\"color: #7f7f7f; text-decoration-color: #7f7f7f\">210</span></a>\n",
       "                             been deprecated since v0.<span style=\"color: #008000; text-decoration-color: #008000\">11.0</span> and is expected                   \n",
       "                             to be removed after v0.<span style=\"color: #008000; text-decoration-color: #008000\">13.0</span>. Use plot                           \n",
       "                             instead.                                                        \n",
       "</pre>\n"
      ],
      "text/plain": [
       "\u001b[2;36m[01/31/22 20:57:07]\u001b[0m\u001b[2;36m \u001b[0m\u001b[31mWARNING \u001b[0m The method CoordinateSystem.get_graph has     \u001b]8;id=651449;file://C:\\Users\\thoma\\AppData\\Local\\Programs\\Python\\Python39\\lib\\site-packages\\manim\\utils\\deprecation.py\u001b\\\u001b[2mdeprecation.py\u001b[0m\u001b]8;;\u001b\\\u001b[2m:\u001b[0m\u001b]8;id=3430;file://C:\\Users\\thoma\\AppData\\Local\\Programs\\Python\\Python39\\lib\\site-packages\\manim\\utils\\deprecation.py#210\u001b\\\u001b[2m210\u001b[0m\u001b]8;;\u001b\\\n",
       "                             been deprecated since v0.\u001b[32m11.0\u001b[0m and is expected                   \n",
       "                             to be removed after v0.\u001b[32m13.0\u001b[0m. Use plot                           \n",
       "                             instead.                                                        \n"
      ]
     },
     "metadata": {},
     "output_type": "display_data"
    },
    {
     "name": "stderr",
     "output_type": "stream",
     "text": [
      "Animation 1: _MethodAnimation(ValueTracker):  96%|#########6| 217/225 [02:00<00:07,  1.00it/s]"
     ]
    },
    {
     "data": {
      "text/html": [
       "<pre style=\"white-space:pre;overflow-x:auto;line-height:normal;font-family:Menlo,'DejaVu Sans Mono',consolas,'Courier New',monospace\"><span style=\"color: #7fbfbf; text-decoration-color: #7fbfbf\">[01/31/22 20:57:08] </span><span style=\"color: #800000; text-decoration-color: #800000\">WARNING </span> The method CoordinateSystem.get_graph has     <a href=\"file://C:\\Users\\thoma\\AppData\\Local\\Programs\\Python\\Python39\\lib\\site-packages\\manim\\utils\\deprecation.py\"><span style=\"color: #7f7f7f; text-decoration-color: #7f7f7f\">deprecation.py</span></a><span style=\"color: #7f7f7f; text-decoration-color: #7f7f7f\">:</span><a href=\"file://C:\\Users\\thoma\\AppData\\Local\\Programs\\Python\\Python39\\lib\\site-packages\\manim\\utils\\deprecation.py#210\"><span style=\"color: #7f7f7f; text-decoration-color: #7f7f7f\">210</span></a>\n",
       "                             been deprecated since v0.<span style=\"color: #008000; text-decoration-color: #008000\">11.0</span> and is expected                   \n",
       "                             to be removed after v0.<span style=\"color: #008000; text-decoration-color: #008000\">13.0</span>. Use plot                           \n",
       "                             instead.                                                        \n",
       "</pre>\n"
      ],
      "text/plain": [
       "\u001b[2;36m[01/31/22 20:57:08]\u001b[0m\u001b[2;36m \u001b[0m\u001b[31mWARNING \u001b[0m The method CoordinateSystem.get_graph has     \u001b]8;id=37984;file://C:\\Users\\thoma\\AppData\\Local\\Programs\\Python\\Python39\\lib\\site-packages\\manim\\utils\\deprecation.py\u001b\\\u001b[2mdeprecation.py\u001b[0m\u001b]8;;\u001b\\\u001b[2m:\u001b[0m\u001b]8;id=757344;file://C:\\Users\\thoma\\AppData\\Local\\Programs\\Python\\Python39\\lib\\site-packages\\manim\\utils\\deprecation.py#210\u001b\\\u001b[2m210\u001b[0m\u001b]8;;\u001b\\\n",
       "                             been deprecated since v0.\u001b[32m11.0\u001b[0m and is expected                   \n",
       "                             to be removed after v0.\u001b[32m13.0\u001b[0m. Use plot                           \n",
       "                             instead.                                                        \n"
      ]
     },
     "metadata": {},
     "output_type": "display_data"
    },
    {
     "name": "stderr",
     "output_type": "stream",
     "text": [
      "Animation 1: _MethodAnimation(ValueTracker):  97%|#########6| 218/225 [02:00<00:06,  1.07it/s]"
     ]
    },
    {
     "data": {
      "text/html": [
       "<pre style=\"white-space:pre;overflow-x:auto;line-height:normal;font-family:Menlo,'DejaVu Sans Mono',consolas,'Courier New',monospace\"><span style=\"color: #7fbfbf; text-decoration-color: #7fbfbf\">[01/31/22 20:57:09] </span><span style=\"color: #800000; text-decoration-color: #800000\">WARNING </span> The method CoordinateSystem.get_graph has     <a href=\"file://C:\\Users\\thoma\\AppData\\Local\\Programs\\Python\\Python39\\lib\\site-packages\\manim\\utils\\deprecation.py\"><span style=\"color: #7f7f7f; text-decoration-color: #7f7f7f\">deprecation.py</span></a><span style=\"color: #7f7f7f; text-decoration-color: #7f7f7f\">:</span><a href=\"file://C:\\Users\\thoma\\AppData\\Local\\Programs\\Python\\Python39\\lib\\site-packages\\manim\\utils\\deprecation.py#210\"><span style=\"color: #7f7f7f; text-decoration-color: #7f7f7f\">210</span></a>\n",
       "                             been deprecated since v0.<span style=\"color: #008000; text-decoration-color: #008000\">11.0</span> and is expected                   \n",
       "                             to be removed after v0.<span style=\"color: #008000; text-decoration-color: #008000\">13.0</span>. Use plot                           \n",
       "                             instead.                                                        \n",
       "</pre>\n"
      ],
      "text/plain": [
       "\u001b[2;36m[01/31/22 20:57:09]\u001b[0m\u001b[2;36m \u001b[0m\u001b[31mWARNING \u001b[0m The method CoordinateSystem.get_graph has     \u001b]8;id=29790;file://C:\\Users\\thoma\\AppData\\Local\\Programs\\Python\\Python39\\lib\\site-packages\\manim\\utils\\deprecation.py\u001b\\\u001b[2mdeprecation.py\u001b[0m\u001b]8;;\u001b\\\u001b[2m:\u001b[0m\u001b]8;id=411484;file://C:\\Users\\thoma\\AppData\\Local\\Programs\\Python\\Python39\\lib\\site-packages\\manim\\utils\\deprecation.py#210\u001b\\\u001b[2m210\u001b[0m\u001b]8;;\u001b\\\n",
       "                             been deprecated since v0.\u001b[32m11.0\u001b[0m and is expected                   \n",
       "                             to be removed after v0.\u001b[32m13.0\u001b[0m. Use plot                           \n",
       "                             instead.                                                        \n"
      ]
     },
     "metadata": {},
     "output_type": "display_data"
    },
    {
     "name": "stderr",
     "output_type": "stream",
     "text": [
      "Animation 1: _MethodAnimation(ValueTracker):  97%|#########7| 219/225 [02:01<00:05,  1.06it/s]"
     ]
    },
    {
     "data": {
      "text/html": [
       "<pre style=\"white-space:pre;overflow-x:auto;line-height:normal;font-family:Menlo,'DejaVu Sans Mono',consolas,'Courier New',monospace\"><span style=\"color: #7fbfbf; text-decoration-color: #7fbfbf\">[01/31/22 20:57:10] </span><span style=\"color: #800000; text-decoration-color: #800000\">WARNING </span> The method CoordinateSystem.get_graph has     <a href=\"file://C:\\Users\\thoma\\AppData\\Local\\Programs\\Python\\Python39\\lib\\site-packages\\manim\\utils\\deprecation.py\"><span style=\"color: #7f7f7f; text-decoration-color: #7f7f7f\">deprecation.py</span></a><span style=\"color: #7f7f7f; text-decoration-color: #7f7f7f\">:</span><a href=\"file://C:\\Users\\thoma\\AppData\\Local\\Programs\\Python\\Python39\\lib\\site-packages\\manim\\utils\\deprecation.py#210\"><span style=\"color: #7f7f7f; text-decoration-color: #7f7f7f\">210</span></a>\n",
       "                             been deprecated since v0.<span style=\"color: #008000; text-decoration-color: #008000\">11.0</span> and is expected                   \n",
       "                             to be removed after v0.<span style=\"color: #008000; text-decoration-color: #008000\">13.0</span>. Use plot                           \n",
       "                             instead.                                                        \n",
       "</pre>\n"
      ],
      "text/plain": [
       "\u001b[2;36m[01/31/22 20:57:10]\u001b[0m\u001b[2;36m \u001b[0m\u001b[31mWARNING \u001b[0m The method CoordinateSystem.get_graph has     \u001b]8;id=179365;file://C:\\Users\\thoma\\AppData\\Local\\Programs\\Python\\Python39\\lib\\site-packages\\manim\\utils\\deprecation.py\u001b\\\u001b[2mdeprecation.py\u001b[0m\u001b]8;;\u001b\\\u001b[2m:\u001b[0m\u001b]8;id=750204;file://C:\\Users\\thoma\\AppData\\Local\\Programs\\Python\\Python39\\lib\\site-packages\\manim\\utils\\deprecation.py#210\u001b\\\u001b[2m210\u001b[0m\u001b]8;;\u001b\\\n",
       "                             been deprecated since v0.\u001b[32m11.0\u001b[0m and is expected                   \n",
       "                             to be removed after v0.\u001b[32m13.0\u001b[0m. Use plot                           \n",
       "                             instead.                                                        \n"
      ]
     },
     "metadata": {},
     "output_type": "display_data"
    },
    {
     "name": "stderr",
     "output_type": "stream",
     "text": [
      "Animation 1: _MethodAnimation(ValueTracker):  98%|#########7| 220/225 [02:02<00:04,  1.05it/s]"
     ]
    },
    {
     "data": {
      "text/html": [
       "<pre style=\"white-space:pre;overflow-x:auto;line-height:normal;font-family:Menlo,'DejaVu Sans Mono',consolas,'Courier New',monospace\"><span style=\"color: #7fbfbf; text-decoration-color: #7fbfbf\">[01/31/22 20:57:11] </span><span style=\"color: #800000; text-decoration-color: #800000\">WARNING </span> The method CoordinateSystem.get_graph has     <a href=\"file://C:\\Users\\thoma\\AppData\\Local\\Programs\\Python\\Python39\\lib\\site-packages\\manim\\utils\\deprecation.py\"><span style=\"color: #7f7f7f; text-decoration-color: #7f7f7f\">deprecation.py</span></a><span style=\"color: #7f7f7f; text-decoration-color: #7f7f7f\">:</span><a href=\"file://C:\\Users\\thoma\\AppData\\Local\\Programs\\Python\\Python39\\lib\\site-packages\\manim\\utils\\deprecation.py#210\"><span style=\"color: #7f7f7f; text-decoration-color: #7f7f7f\">210</span></a>\n",
       "                             been deprecated since v0.<span style=\"color: #008000; text-decoration-color: #008000\">11.0</span> and is expected                   \n",
       "                             to be removed after v0.<span style=\"color: #008000; text-decoration-color: #008000\">13.0</span>. Use plot                           \n",
       "                             instead.                                                        \n",
       "</pre>\n"
      ],
      "text/plain": [
       "\u001b[2;36m[01/31/22 20:57:11]\u001b[0m\u001b[2;36m \u001b[0m\u001b[31mWARNING \u001b[0m The method CoordinateSystem.get_graph has     \u001b]8;id=274933;file://C:\\Users\\thoma\\AppData\\Local\\Programs\\Python\\Python39\\lib\\site-packages\\manim\\utils\\deprecation.py\u001b\\\u001b[2mdeprecation.py\u001b[0m\u001b]8;;\u001b\\\u001b[2m:\u001b[0m\u001b]8;id=344903;file://C:\\Users\\thoma\\AppData\\Local\\Programs\\Python\\Python39\\lib\\site-packages\\manim\\utils\\deprecation.py#210\u001b\\\u001b[2m210\u001b[0m\u001b]8;;\u001b\\\n",
       "                             been deprecated since v0.\u001b[32m11.0\u001b[0m and is expected                   \n",
       "                             to be removed after v0.\u001b[32m13.0\u001b[0m. Use plot                           \n",
       "                             instead.                                                        \n"
      ]
     },
     "metadata": {},
     "output_type": "display_data"
    },
    {
     "name": "stderr",
     "output_type": "stream",
     "text": [
      "Animation 1: _MethodAnimation(ValueTracker):  98%|#########8| 221/225 [02:03<00:03,  1.01it/s]"
     ]
    },
    {
     "data": {
      "text/html": [
       "<pre style=\"white-space:pre;overflow-x:auto;line-height:normal;font-family:Menlo,'DejaVu Sans Mono',consolas,'Courier New',monospace\"><span style=\"color: #7fbfbf; text-decoration-color: #7fbfbf\">[01/31/22 20:57:12] </span><span style=\"color: #800000; text-decoration-color: #800000\">WARNING </span> The method CoordinateSystem.get_graph has     <a href=\"file://C:\\Users\\thoma\\AppData\\Local\\Programs\\Python\\Python39\\lib\\site-packages\\manim\\utils\\deprecation.py\"><span style=\"color: #7f7f7f; text-decoration-color: #7f7f7f\">deprecation.py</span></a><span style=\"color: #7f7f7f; text-decoration-color: #7f7f7f\">:</span><a href=\"file://C:\\Users\\thoma\\AppData\\Local\\Programs\\Python\\Python39\\lib\\site-packages\\manim\\utils\\deprecation.py#210\"><span style=\"color: #7f7f7f; text-decoration-color: #7f7f7f\">210</span></a>\n",
       "                             been deprecated since v0.<span style=\"color: #008000; text-decoration-color: #008000\">11.0</span> and is expected                   \n",
       "                             to be removed after v0.<span style=\"color: #008000; text-decoration-color: #008000\">13.0</span>. Use plot                           \n",
       "                             instead.                                                        \n",
       "</pre>\n"
      ],
      "text/plain": [
       "\u001b[2;36m[01/31/22 20:57:12]\u001b[0m\u001b[2;36m \u001b[0m\u001b[31mWARNING \u001b[0m The method CoordinateSystem.get_graph has     \u001b]8;id=965616;file://C:\\Users\\thoma\\AppData\\Local\\Programs\\Python\\Python39\\lib\\site-packages\\manim\\utils\\deprecation.py\u001b\\\u001b[2mdeprecation.py\u001b[0m\u001b]8;;\u001b\\\u001b[2m:\u001b[0m\u001b]8;id=621812;file://C:\\Users\\thoma\\AppData\\Local\\Programs\\Python\\Python39\\lib\\site-packages\\manim\\utils\\deprecation.py#210\u001b\\\u001b[2m210\u001b[0m\u001b]8;;\u001b\\\n",
       "                             been deprecated since v0.\u001b[32m11.0\u001b[0m and is expected                   \n",
       "                             to be removed after v0.\u001b[32m13.0\u001b[0m. Use plot                           \n",
       "                             instead.                                                        \n"
      ]
     },
     "metadata": {},
     "output_type": "display_data"
    },
    {
     "name": "stderr",
     "output_type": "stream",
     "text": [
      "Animation 1: _MethodAnimation(ValueTracker):  99%|#########8| 222/225 [02:05<00:03,  1.05s/it]"
     ]
    },
    {
     "data": {
      "text/html": [
       "<pre style=\"white-space:pre;overflow-x:auto;line-height:normal;font-family:Menlo,'DejaVu Sans Mono',consolas,'Courier New',monospace\"><span style=\"color: #7fbfbf; text-decoration-color: #7fbfbf\">[01/31/22 20:57:13] </span><span style=\"color: #800000; text-decoration-color: #800000\">WARNING </span> The method CoordinateSystem.get_graph has     <a href=\"file://C:\\Users\\thoma\\AppData\\Local\\Programs\\Python\\Python39\\lib\\site-packages\\manim\\utils\\deprecation.py\"><span style=\"color: #7f7f7f; text-decoration-color: #7f7f7f\">deprecation.py</span></a><span style=\"color: #7f7f7f; text-decoration-color: #7f7f7f\">:</span><a href=\"file://C:\\Users\\thoma\\AppData\\Local\\Programs\\Python\\Python39\\lib\\site-packages\\manim\\utils\\deprecation.py#210\"><span style=\"color: #7f7f7f; text-decoration-color: #7f7f7f\">210</span></a>\n",
       "                             been deprecated since v0.<span style=\"color: #008000; text-decoration-color: #008000\">11.0</span> and is expected                   \n",
       "                             to be removed after v0.<span style=\"color: #008000; text-decoration-color: #008000\">13.0</span>. Use plot                           \n",
       "                             instead.                                                        \n",
       "</pre>\n"
      ],
      "text/plain": [
       "\u001b[2;36m[01/31/22 20:57:13]\u001b[0m\u001b[2;36m \u001b[0m\u001b[31mWARNING \u001b[0m The method CoordinateSystem.get_graph has     \u001b]8;id=609370;file://C:\\Users\\thoma\\AppData\\Local\\Programs\\Python\\Python39\\lib\\site-packages\\manim\\utils\\deprecation.py\u001b\\\u001b[2mdeprecation.py\u001b[0m\u001b]8;;\u001b\\\u001b[2m:\u001b[0m\u001b]8;id=184813;file://C:\\Users\\thoma\\AppData\\Local\\Programs\\Python\\Python39\\lib\\site-packages\\manim\\utils\\deprecation.py#210\u001b\\\u001b[2m210\u001b[0m\u001b]8;;\u001b\\\n",
       "                             been deprecated since v0.\u001b[32m11.0\u001b[0m and is expected                   \n",
       "                             to be removed after v0.\u001b[32m13.0\u001b[0m. Use plot                           \n",
       "                             instead.                                                        \n"
      ]
     },
     "metadata": {},
     "output_type": "display_data"
    },
    {
     "name": "stderr",
     "output_type": "stream",
     "text": [
      "Animation 1: _MethodAnimation(ValueTracker):  99%|#########9| 223/225 [02:05<00:02,  1.00s/it]"
     ]
    },
    {
     "data": {
      "text/html": [
       "<pre style=\"white-space:pre;overflow-x:auto;line-height:normal;font-family:Menlo,'DejaVu Sans Mono',consolas,'Courier New',monospace\"><span style=\"color: #7fbfbf; text-decoration-color: #7fbfbf\">[01/31/22 20:57:14] </span><span style=\"color: #800000; text-decoration-color: #800000\">WARNING </span> The method CoordinateSystem.get_graph has     <a href=\"file://C:\\Users\\thoma\\AppData\\Local\\Programs\\Python\\Python39\\lib\\site-packages\\manim\\utils\\deprecation.py\"><span style=\"color: #7f7f7f; text-decoration-color: #7f7f7f\">deprecation.py</span></a><span style=\"color: #7f7f7f; text-decoration-color: #7f7f7f\">:</span><a href=\"file://C:\\Users\\thoma\\AppData\\Local\\Programs\\Python\\Python39\\lib\\site-packages\\manim\\utils\\deprecation.py#210\"><span style=\"color: #7f7f7f; text-decoration-color: #7f7f7f\">210</span></a>\n",
       "                             been deprecated since v0.<span style=\"color: #008000; text-decoration-color: #008000\">11.0</span> and is expected                   \n",
       "                             to be removed after v0.<span style=\"color: #008000; text-decoration-color: #008000\">13.0</span>. Use plot                           \n",
       "                             instead.                                                        \n",
       "</pre>\n"
      ],
      "text/plain": [
       "\u001b[2;36m[01/31/22 20:57:14]\u001b[0m\u001b[2;36m \u001b[0m\u001b[31mWARNING \u001b[0m The method CoordinateSystem.get_graph has     \u001b]8;id=794797;file://C:\\Users\\thoma\\AppData\\Local\\Programs\\Python\\Python39\\lib\\site-packages\\manim\\utils\\deprecation.py\u001b\\\u001b[2mdeprecation.py\u001b[0m\u001b]8;;\u001b\\\u001b[2m:\u001b[0m\u001b]8;id=791523;file://C:\\Users\\thoma\\AppData\\Local\\Programs\\Python\\Python39\\lib\\site-packages\\manim\\utils\\deprecation.py#210\u001b\\\u001b[2m210\u001b[0m\u001b]8;;\u001b\\\n",
       "                             been deprecated since v0.\u001b[32m11.0\u001b[0m and is expected                   \n",
       "                             to be removed after v0.\u001b[32m13.0\u001b[0m. Use plot                           \n",
       "                             instead.                                                        \n"
      ]
     },
     "metadata": {},
     "output_type": "display_data"
    },
    {
     "name": "stderr",
     "output_type": "stream",
     "text": [
      "Animation 1: _MethodAnimation(ValueTracker): 100%|#########9| 224/225 [02:06<00:00,  1.05it/s]"
     ]
    },
    {
     "data": {
      "text/html": [
       "<pre style=\"white-space:pre;overflow-x:auto;line-height:normal;font-family:Menlo,'DejaVu Sans Mono',consolas,'Courier New',monospace\"><span style=\"color: #7fbfbf; text-decoration-color: #7fbfbf\">                    </span><span style=\"color: #800000; text-decoration-color: #800000\">WARNING </span> The method CoordinateSystem.get_graph has     <a href=\"file://C:\\Users\\thoma\\AppData\\Local\\Programs\\Python\\Python39\\lib\\site-packages\\manim\\utils\\deprecation.py\"><span style=\"color: #7f7f7f; text-decoration-color: #7f7f7f\">deprecation.py</span></a><span style=\"color: #7f7f7f; text-decoration-color: #7f7f7f\">:</span><a href=\"file://C:\\Users\\thoma\\AppData\\Local\\Programs\\Python\\Python39\\lib\\site-packages\\manim\\utils\\deprecation.py#210\"><span style=\"color: #7f7f7f; text-decoration-color: #7f7f7f\">210</span></a>\n",
       "                             been deprecated since v0.<span style=\"color: #008000; text-decoration-color: #008000\">11.0</span> and is expected                   \n",
       "                             to be removed after v0.<span style=\"color: #008000; text-decoration-color: #008000\">13.0</span>. Use plot                           \n",
       "                             instead.                                                        \n",
       "</pre>\n"
      ],
      "text/plain": [
       "\u001b[2;36m                   \u001b[0m\u001b[2;36m \u001b[0m\u001b[31mWARNING \u001b[0m The method CoordinateSystem.get_graph has     \u001b]8;id=411867;file://C:\\Users\\thoma\\AppData\\Local\\Programs\\Python\\Python39\\lib\\site-packages\\manim\\utils\\deprecation.py\u001b\\\u001b[2mdeprecation.py\u001b[0m\u001b]8;;\u001b\\\u001b[2m:\u001b[0m\u001b]8;id=298431;file://C:\\Users\\thoma\\AppData\\Local\\Programs\\Python\\Python39\\lib\\site-packages\\manim\\utils\\deprecation.py#210\u001b\\\u001b[2m210\u001b[0m\u001b]8;;\u001b\\\n",
       "                             been deprecated since v0.\u001b[32m11.0\u001b[0m and is expected                   \n",
       "                             to be removed after v0.\u001b[32m13.0\u001b[0m. Use plot                           \n",
       "                             instead.                                                        \n"
      ]
     },
     "metadata": {},
     "output_type": "display_data"
    },
    {
     "name": "stderr",
     "output_type": "stream",
     "text": [
      "                                                                                              \r"
     ]
    },
    {
     "data": {
      "text/html": [
       "<pre style=\"white-space:pre;overflow-x:auto;line-height:normal;font-family:Menlo,'DejaVu Sans Mono',consolas,'Courier New',monospace\"><span style=\"color: #7fbfbf; text-decoration-color: #7fbfbf\">[01/31/22 20:57:15] </span><span style=\"color: #800000; text-decoration-color: #800000\">WARNING </span> The method CoordinateSystem.get_graph has     <a href=\"file://C:\\Users\\thoma\\AppData\\Local\\Programs\\Python\\Python39\\lib\\site-packages\\manim\\utils\\deprecation.py\"><span style=\"color: #7f7f7f; text-decoration-color: #7f7f7f\">deprecation.py</span></a><span style=\"color: #7f7f7f; text-decoration-color: #7f7f7f\">:</span><a href=\"file://C:\\Users\\thoma\\AppData\\Local\\Programs\\Python\\Python39\\lib\\site-packages\\manim\\utils\\deprecation.py#210\"><span style=\"color: #7f7f7f; text-decoration-color: #7f7f7f\">210</span></a>\n",
       "                             been deprecated since v0.<span style=\"color: #008000; text-decoration-color: #008000\">11.0</span> and is expected                   \n",
       "                             to be removed after v0.<span style=\"color: #008000; text-decoration-color: #008000\">13.0</span>. Use plot                           \n",
       "                             instead.                                                        \n",
       "</pre>\n"
      ],
      "text/plain": [
       "\u001b[2;36m[01/31/22 20:57:15]\u001b[0m\u001b[2;36m \u001b[0m\u001b[31mWARNING \u001b[0m The method CoordinateSystem.get_graph has     \u001b]8;id=417159;file://C:\\Users\\thoma\\AppData\\Local\\Programs\\Python\\Python39\\lib\\site-packages\\manim\\utils\\deprecation.py\u001b\\\u001b[2mdeprecation.py\u001b[0m\u001b]8;;\u001b\\\u001b[2m:\u001b[0m\u001b]8;id=256733;file://C:\\Users\\thoma\\AppData\\Local\\Programs\\Python\\Python39\\lib\\site-packages\\manim\\utils\\deprecation.py#210\u001b\\\u001b[2m210\u001b[0m\u001b]8;;\u001b\\\n",
       "                             been deprecated since v0.\u001b[32m11.0\u001b[0m and is expected                   \n",
       "                             to be removed after v0.\u001b[32m13.0\u001b[0m. Use plot                           \n",
       "                             instead.                                                        \n"
      ]
     },
     "metadata": {},
     "output_type": "display_data"
    },
    {
     "data": {
      "text/html": [
       "<pre style=\"white-space:pre;overflow-x:auto;line-height:normal;font-family:Menlo,'DejaVu Sans Mono',consolas,'Courier New',monospace\"><span style=\"color: #7fbfbf; text-decoration-color: #7fbfbf\">[01/31/22 20:57:17] </span><span style=\"color: #008000; text-decoration-color: #008000\">INFO    </span> Animation <span style=\"color: #008000; text-decoration-color: #008000\">1</span> : Partial movie file        <a href=\"file://C:\\Users\\thoma\\AppData\\Local\\Programs\\Python\\Python39\\lib\\site-packages\\manim\\scene\\scene_file_writer.py\"><span style=\"color: #7f7f7f; text-decoration-color: #7f7f7f\">scene_file_writer.py</span></a><span style=\"color: #7f7f7f; text-decoration-color: #7f7f7f\">:</span><a href=\"file://C:\\Users\\thoma\\AppData\\Local\\Programs\\Python\\Python39\\lib\\site-packages\\manim\\scene\\scene_file_writer.py#514\"><span style=\"color: #7f7f7f; text-decoration-color: #7f7f7f\">514</span></a>\n",
       "                             written in <span style=\"color: #008000; text-decoration-color: #008000\">'c:\\Users\\thoma\\Desktop\\Apre</span>                         \n",
       "                             <span style=\"color: #008000; text-decoration-color: #008000\">ndizado\\Manim\\media\\videos\\Manim\\480p15</span>                         \n",
       "                             <span style=\"color: #008000; text-decoration-color: #008000\">\\partial_movie_files\\Derivatives\\220183</span>                         \n",
       "                             <span style=\"color: #008000; text-decoration-color: #008000\">0969_3333911111_3277232953.mp4'</span>                                 \n",
       "</pre>\n"
      ],
      "text/plain": [
       "\u001b[2;36m[01/31/22 20:57:17]\u001b[0m\u001b[2;36m \u001b[0m\u001b[32mINFO    \u001b[0m Animation \u001b[32m1\u001b[0m : Partial movie file        \u001b]8;id=243690;file://C:\\Users\\thoma\\AppData\\Local\\Programs\\Python\\Python39\\lib\\site-packages\\manim\\scene\\scene_file_writer.py\u001b\\\u001b[2mscene_file_writer.py\u001b[0m\u001b]8;;\u001b\\\u001b[2m:\u001b[0m\u001b]8;id=155351;file://C:\\Users\\thoma\\AppData\\Local\\Programs\\Python\\Python39\\lib\\site-packages\\manim\\scene\\scene_file_writer.py#514\u001b\\\u001b[2m514\u001b[0m\u001b]8;;\u001b\\\n",
       "                             written in \u001b[32m'c:\\Users\\thoma\\Desktop\\Apre\u001b[0m                         \n",
       "                             \u001b[32mndizado\\Manim\\media\\videos\\Manim\\480p15\u001b[0m                         \n",
       "                             \u001b[32m\\partial_movie_files\\Derivatives\\220183\u001b[0m                         \n",
       "                             \u001b[32m0969_3333911111_3277232953.mp4'\u001b[0m                                 \n"
      ]
     },
     "metadata": {},
     "output_type": "display_data"
    },
    {
     "data": {
      "text/html": [
       "<pre style=\"white-space:pre;overflow-x:auto;line-height:normal;font-family:Menlo,'DejaVu Sans Mono',consolas,'Courier New',monospace\"><span style=\"color: #7fbfbf; text-decoration-color: #7fbfbf\">                    </span><span style=\"color: #800000; text-decoration-color: #800000\">WARNING </span> The method CoordinateSystem.get_graph has     <a href=\"file://C:\\Users\\thoma\\AppData\\Local\\Programs\\Python\\Python39\\lib\\site-packages\\manim\\utils\\deprecation.py\"><span style=\"color: #7f7f7f; text-decoration-color: #7f7f7f\">deprecation.py</span></a><span style=\"color: #7f7f7f; text-decoration-color: #7f7f7f\">:</span><a href=\"file://C:\\Users\\thoma\\AppData\\Local\\Programs\\Python\\Python39\\lib\\site-packages\\manim\\utils\\deprecation.py#210\"><span style=\"color: #7f7f7f; text-decoration-color: #7f7f7f\">210</span></a>\n",
       "                             been deprecated since v0.<span style=\"color: #008000; text-decoration-color: #008000\">11.0</span> and is expected                   \n",
       "                             to be removed after v0.<span style=\"color: #008000; text-decoration-color: #008000\">13.0</span>. Use plot                           \n",
       "                             instead.                                                        \n",
       "</pre>\n"
      ],
      "text/plain": [
       "\u001b[2;36m                   \u001b[0m\u001b[2;36m \u001b[0m\u001b[31mWARNING \u001b[0m The method CoordinateSystem.get_graph has     \u001b]8;id=949830;file://C:\\Users\\thoma\\AppData\\Local\\Programs\\Python\\Python39\\lib\\site-packages\\manim\\utils\\deprecation.py\u001b\\\u001b[2mdeprecation.py\u001b[0m\u001b]8;;\u001b\\\u001b[2m:\u001b[0m\u001b]8;id=503257;file://C:\\Users\\thoma\\AppData\\Local\\Programs\\Python\\Python39\\lib\\site-packages\\manim\\utils\\deprecation.py#210\u001b\\\u001b[2m210\u001b[0m\u001b]8;;\u001b\\\n",
       "                             been deprecated since v0.\u001b[32m11.0\u001b[0m and is expected                   \n",
       "                             to be removed after v0.\u001b[32m13.0\u001b[0m. Use plot                           \n",
       "                             instead.                                                        \n"
      ]
     },
     "metadata": {},
     "output_type": "display_data"
    },
    {
     "data": {
      "text/html": [
       "<pre style=\"white-space:pre;overflow-x:auto;line-height:normal;font-family:Menlo,'DejaVu Sans Mono',consolas,'Courier New',monospace\"><span style=\"color: #7fbfbf; text-decoration-color: #7fbfbf\">[01/31/22 20:57:19] </span><span style=\"color: #008000; text-decoration-color: #008000\">INFO    </span> Animation <span style=\"color: #008000; text-decoration-color: #008000\">2</span> : Partial movie file        <a href=\"file://C:\\Users\\thoma\\AppData\\Local\\Programs\\Python\\Python39\\lib\\site-packages\\manim\\scene\\scene_file_writer.py\"><span style=\"color: #7f7f7f; text-decoration-color: #7f7f7f\">scene_file_writer.py</span></a><span style=\"color: #7f7f7f; text-decoration-color: #7f7f7f\">:</span><a href=\"file://C:\\Users\\thoma\\AppData\\Local\\Programs\\Python\\Python39\\lib\\site-packages\\manim\\scene\\scene_file_writer.py#514\"><span style=\"color: #7f7f7f; text-decoration-color: #7f7f7f\">514</span></a>\n",
       "                             written in <span style=\"color: #008000; text-decoration-color: #008000\">'c:\\Users\\thoma\\Desktop\\Apre</span>                         \n",
       "                             <span style=\"color: #008000; text-decoration-color: #008000\">ndizado\\Manim\\media\\videos\\Manim\\480p15</span>                         \n",
       "                             <span style=\"color: #008000; text-decoration-color: #008000\">\\partial_movie_files\\Derivatives\\220183</span>                         \n",
       "                             <span style=\"color: #008000; text-decoration-color: #008000\">0969_398514950_1477742130.mp4'</span>                                  \n",
       "</pre>\n"
      ],
      "text/plain": [
       "\u001b[2;36m[01/31/22 20:57:19]\u001b[0m\u001b[2;36m \u001b[0m\u001b[32mINFO    \u001b[0m Animation \u001b[32m2\u001b[0m : Partial movie file        \u001b]8;id=450047;file://C:\\Users\\thoma\\AppData\\Local\\Programs\\Python\\Python39\\lib\\site-packages\\manim\\scene\\scene_file_writer.py\u001b\\\u001b[2mscene_file_writer.py\u001b[0m\u001b]8;;\u001b\\\u001b[2m:\u001b[0m\u001b]8;id=975865;file://C:\\Users\\thoma\\AppData\\Local\\Programs\\Python\\Python39\\lib\\site-packages\\manim\\scene\\scene_file_writer.py#514\u001b\\\u001b[2m514\u001b[0m\u001b]8;;\u001b\\\n",
       "                             written in \u001b[32m'c:\\Users\\thoma\\Desktop\\Apre\u001b[0m                         \n",
       "                             \u001b[32mndizado\\Manim\\media\\videos\\Manim\\480p15\u001b[0m                         \n",
       "                             \u001b[32m\\partial_movie_files\\Derivatives\\220183\u001b[0m                         \n",
       "                             \u001b[32m0969_398514950_1477742130.mp4'\u001b[0m                                  \n"
      ]
     },
     "metadata": {},
     "output_type": "display_data"
    },
    {
     "data": {
      "text/html": [
       "<pre style=\"white-space:pre;overflow-x:auto;line-height:normal;font-family:Menlo,'DejaVu Sans Mono',consolas,'Courier New',monospace\"><span style=\"color: #7fbfbf; text-decoration-color: #7fbfbf\">                    </span><span style=\"color: #008000; text-decoration-color: #008000\">INFO    </span> Combining to Movie file.                <a href=\"file://C:\\Users\\thoma\\AppData\\Local\\Programs\\Python\\Python39\\lib\\site-packages\\manim\\scene\\scene_file_writer.py\"><span style=\"color: #7f7f7f; text-decoration-color: #7f7f7f\">scene_file_writer.py</span></a><span style=\"color: #7f7f7f; text-decoration-color: #7f7f7f\">:</span><a href=\"file://C:\\Users\\thoma\\AppData\\Local\\Programs\\Python\\Python39\\lib\\site-packages\\manim\\scene\\scene_file_writer.py#608\"><span style=\"color: #7f7f7f; text-decoration-color: #7f7f7f\">608</span></a>\n",
       "</pre>\n"
      ],
      "text/plain": [
       "\u001b[2;36m                   \u001b[0m\u001b[2;36m \u001b[0m\u001b[32mINFO    \u001b[0m Combining to Movie file.                \u001b]8;id=731817;file://C:\\Users\\thoma\\AppData\\Local\\Programs\\Python\\Python39\\lib\\site-packages\\manim\\scene\\scene_file_writer.py\u001b\\\u001b[2mscene_file_writer.py\u001b[0m\u001b]8;;\u001b\\\u001b[2m:\u001b[0m\u001b]8;id=414534;file://C:\\Users\\thoma\\AppData\\Local\\Programs\\Python\\Python39\\lib\\site-packages\\manim\\scene\\scene_file_writer.py#608\u001b\\\u001b[2m608\u001b[0m\u001b]8;;\u001b\\\n"
      ]
     },
     "metadata": {},
     "output_type": "display_data"
    },
    {
     "data": {
      "text/html": [
       "<pre style=\"white-space:pre;overflow-x:auto;line-height:normal;font-family:Menlo,'DejaVu Sans Mono',consolas,'Courier New',monospace\"><span style=\"color: #7fbfbf; text-decoration-color: #7fbfbf\">[01/31/22 20:57:20] </span><span style=\"color: #008000; text-decoration-color: #008000\">INFO    </span>                                         <a href=\"file://C:\\Users\\thoma\\AppData\\Local\\Programs\\Python\\Python39\\lib\\site-packages\\manim\\scene\\scene_file_writer.py\"><span style=\"color: #7f7f7f; text-decoration-color: #7f7f7f\">scene_file_writer.py</span></a><span style=\"color: #7f7f7f; text-decoration-color: #7f7f7f\">:</span><a href=\"file://C:\\Users\\thoma\\AppData\\Local\\Programs\\Python\\Python39\\lib\\site-packages\\manim\\scene\\scene_file_writer.py#729\"><span style=\"color: #7f7f7f; text-decoration-color: #7f7f7f\">729</span></a>\n",
       "                             <span style=\"color: #808000; text-decoration-color: #808000; font-weight: bold\">File</span> ready at <span style=\"color: #008000; text-decoration-color: #008000\">'c:\\Users\\thoma\\Desktop\\A</span>                         \n",
       "                             <span style=\"color: #008000; text-decoration-color: #008000\">prendizado\\Manim\\media\\videos\\Manim\\480</span>                         \n",
       "                             <span style=\"color: #008000; text-decoration-color: #008000\">p15\\Derivatives.mp4'</span>                                            \n",
       "                                                                                             \n",
       "</pre>\n"
      ],
      "text/plain": [
       "\u001b[2;36m[01/31/22 20:57:20]\u001b[0m\u001b[2;36m \u001b[0m\u001b[32mINFO    \u001b[0m                                         \u001b]8;id=862858;file://C:\\Users\\thoma\\AppData\\Local\\Programs\\Python\\Python39\\lib\\site-packages\\manim\\scene\\scene_file_writer.py\u001b\\\u001b[2mscene_file_writer.py\u001b[0m\u001b]8;;\u001b\\\u001b[2m:\u001b[0m\u001b]8;id=979621;file://C:\\Users\\thoma\\AppData\\Local\\Programs\\Python\\Python39\\lib\\site-packages\\manim\\scene\\scene_file_writer.py#729\u001b\\\u001b[2m729\u001b[0m\u001b]8;;\u001b\\\n",
       "                             \u001b[1;33mFile\u001b[0m ready at \u001b[32m'c:\\Users\\thoma\\Desktop\\A\u001b[0m                         \n",
       "                             \u001b[32mprendizado\\Manim\\media\\videos\\Manim\\480\u001b[0m                         \n",
       "                             \u001b[32mp15\\Derivatives.mp4'\u001b[0m                                            \n",
       "                                                                                             \n"
      ]
     },
     "metadata": {},
     "output_type": "display_data"
    },
    {
     "data": {
      "text/html": [
       "<pre style=\"white-space:pre;overflow-x:auto;line-height:normal;font-family:Menlo,'DejaVu Sans Mono',consolas,'Courier New',monospace\"><span style=\"color: #7fbfbf; text-decoration-color: #7fbfbf\">                    </span><span style=\"color: #008000; text-decoration-color: #008000\">INFO    </span> <span style=\"color: #808000; text-decoration-color: #808000; font-weight: bold\">Rendered</span> Derivatives                                <a href=\"file://C:\\Users\\thoma\\AppData\\Local\\Programs\\Python\\Python39\\lib\\site-packages\\manim\\scene\\scene.py\"><span style=\"color: #7f7f7f; text-decoration-color: #7f7f7f\">scene.py</span></a><span style=\"color: #7f7f7f; text-decoration-color: #7f7f7f\">:</span><a href=\"file://C:\\Users\\thoma\\AppData\\Local\\Programs\\Python\\Python39\\lib\\site-packages\\manim\\scene\\scene.py#237\"><span style=\"color: #7f7f7f; text-decoration-color: #7f7f7f\">237</span></a>\n",
       "                             <span style=\"color: #808000; text-decoration-color: #808000; font-weight: bold\">Played</span> <span style=\"color: #008000; text-decoration-color: #008000\">3</span> <span style=\"color: #808000; text-decoration-color: #808000; font-weight: bold\">animations</span>                                             \n",
       "</pre>\n"
      ],
      "text/plain": [
       "\u001b[2;36m                   \u001b[0m\u001b[2;36m \u001b[0m\u001b[32mINFO    \u001b[0m \u001b[1;33mRendered\u001b[0m Derivatives                                \u001b]8;id=334538;file://C:\\Users\\thoma\\AppData\\Local\\Programs\\Python\\Python39\\lib\\site-packages\\manim\\scene\\scene.py\u001b\\\u001b[2mscene.py\u001b[0m\u001b]8;;\u001b\\\u001b[2m:\u001b[0m\u001b]8;id=364810;file://C:\\Users\\thoma\\AppData\\Local\\Programs\\Python\\Python39\\lib\\site-packages\\manim\\scene\\scene.py#237\u001b\\\u001b[2m237\u001b[0m\u001b]8;;\u001b\\\n",
       "                             \u001b[1;33mPlayed\u001b[0m \u001b[32m3\u001b[0m \u001b[1;33manimations\u001b[0m                                             \n"
      ]
     },
     "metadata": {},
     "output_type": "display_data"
    },
    {
     "data": {
      "text/html": [
       "<video src=\"media\\jupyter\\Derivatives@2022-01-31@20-57-20.mp4\" controls autoplay loop style=\"max-width: 60%;\"  >\n",
       "      Your browser does not support the <code>video</code> element.\n",
       "    </video>"
      ],
      "text/plain": [
       "<IPython.core.display.Video object>"
      ]
     },
     "metadata": {},
     "output_type": "display_data"
    }
   ],
   "source": [
    "%%manim -ql Derivatives\n",
    "class Derivatives(Scene):\n",
    "    def construct(self):\n",
    "\n",
    "        k = ValueTracker(-3)  # Tracking the end values of stuff to show\n",
    "\n",
    "        # Adding Mobjects for the first plane\n",
    "        plane1 = (\n",
    "            NumberPlane(x_range=[-3, 4, 1], x_length=5, y_range=[-8, 9, 2], y_length=5)\n",
    "            .add_coordinates()\n",
    "            .shift(LEFT * 3.5)\n",
    "        )\n",
    "\n",
    "        func1 = plane1.get_graph(\n",
    "            lambda x: (1 / 3) * x ** 3, x_range=[-3, 3], color=RED_C\n",
    "        )\n",
    "        func1_lab = (\n",
    "            MathTex(\"f(x)=\\\\frac{1}{3} {x}^{3}\")\n",
    "            .set(width=2.5)\n",
    "            .next_to(plane1, UP, buff=0.2)\n",
    "            .set_color(RED_C)\n",
    "        )\n",
    "\n",
    "        moving_slope = always_redraw(\n",
    "            lambda: plane1.get_secant_slope_group(\n",
    "                x=k.get_value(),\n",
    "                graph=func1,\n",
    "                dx=0.05,\n",
    "                secant_line_length=4,\n",
    "                secant_line_color=YELLOW,\n",
    "            )\n",
    "        )\n",
    "\n",
    "        dot = always_redraw(\n",
    "            lambda: Dot().move_to(\n",
    "                plane1.c2p(k.get_value(), func1.underlying_function(k.get_value()))\n",
    "            )\n",
    "        )\n",
    "\n",
    "        # Adding Mobjects for the second plane\n",
    "        plane2 = (\n",
    "            NumberPlane(x_range=[-3, 4, 1], x_length=5, y_range=[0, 11, 2], y_length=5)\n",
    "            .add_coordinates()\n",
    "            .shift(RIGHT * 3.5)\n",
    "        )\n",
    "\n",
    "        func2 = always_redraw(\n",
    "            lambda: plane2.get_graph(\n",
    "                lambda x: x ** 2, x_range=[-3, k.get_value()], color=GREEN\n",
    "            )\n",
    "        )\n",
    "        func2_lab = (\n",
    "            MathTex(\"f'(x)={x}^{2}\")\n",
    "            .set(width=2.5)\n",
    "            .next_to(plane2, UP, buff=0.2)\n",
    "            .set_color(GREEN)\n",
    "        )\n",
    "\n",
    "        moving_h_line = always_redraw(\n",
    "            lambda: get_horizontal_line_to_graph(\n",
    "                axes=plane2, function=func2, x=k.get_value(), width=4, color=YELLOW\n",
    "            )\n",
    "        )\n",
    "\n",
    "        # Adding the slope value stuff\n",
    "        slope_value_text = (\n",
    "            Tex(\"Slope value: \")\n",
    "            .next_to(plane1, DOWN, buff=0.1)\n",
    "            .set_color(YELLOW)\n",
    "            .add_background_rectangle()\n",
    "        )\n",
    "\n",
    "        slope_value = always_redraw(\n",
    "            lambda: DecimalNumber(num_decimal_places=1)\n",
    "            .set_value(func2.underlying_function(k.get_value()))\n",
    "            .next_to(slope_value_text, RIGHT, buff=0.1)\n",
    "            .set_color(YELLOW)\n",
    "        ).add_background_rectangle()\n",
    "\n",
    "        # Playing the animation\n",
    "        self.play(\n",
    "            LaggedStart(\n",
    "                DrawBorderThenFill(plane1),\n",
    "                DrawBorderThenFill(plane2),\n",
    "                Create(func1),\n",
    "                Write(func1_lab),\n",
    "                Write(func2_lab),\n",
    "                run_time=5,\n",
    "                lag_ratio=0.5,\n",
    "            )\n",
    "        )\n",
    "        self.add(moving_slope, moving_h_line, func2, slope_value, slope_value_text, dot)\n",
    "        self.play(k.animate.set_value(3), run_time=15, rate_func=linear)\n",
    "        self.wait()\n",
    "\n"
   ]
  },
  {
   "cell_type": "code",
   "execution_count": 4,
   "metadata": {},
   "outputs": [
    {
     "data": {
      "text/html": [
       "<pre style=\"white-space:pre;overflow-x:auto;line-height:normal;font-family:Menlo,'DejaVu Sans Mono',consolas,'Courier New',monospace\"><span style=\"color: #7fbfbf; text-decoration-color: #7fbfbf\">[01/31/22 20:58:23] </span><span style=\"color: #800000; text-decoration-color: #800000\">WARNING </span> The method CoordinateSystem.get_graph has     <a href=\"file://C:\\Users\\thoma\\AppData\\Local\\Programs\\Python\\Python39\\lib\\site-packages\\manim\\utils\\deprecation.py\"><span style=\"color: #7f7f7f; text-decoration-color: #7f7f7f\">deprecation.py</span></a><span style=\"color: #7f7f7f; text-decoration-color: #7f7f7f\">:</span><a href=\"file://C:\\Users\\thoma\\AppData\\Local\\Programs\\Python\\Python39\\lib\\site-packages\\manim\\utils\\deprecation.py#210\"><span style=\"color: #7f7f7f; text-decoration-color: #7f7f7f\">210</span></a>\n",
       "                             been deprecated since v0.<span style=\"color: #008000; text-decoration-color: #008000\">11.0</span> and is expected                   \n",
       "                             to be removed after v0.<span style=\"color: #008000; text-decoration-color: #008000\">13.0</span>. Use plot                           \n",
       "                             instead.                                                        \n",
       "</pre>\n"
      ],
      "text/plain": [
       "\u001b[2;36m[01/31/22 20:58:23]\u001b[0m\u001b[2;36m \u001b[0m\u001b[31mWARNING \u001b[0m The method CoordinateSystem.get_graph has     \u001b]8;id=222116;file://C:\\Users\\thoma\\AppData\\Local\\Programs\\Python\\Python39\\lib\\site-packages\\manim\\utils\\deprecation.py\u001b\\\u001b[2mdeprecation.py\u001b[0m\u001b]8;;\u001b\\\u001b[2m:\u001b[0m\u001b]8;id=591577;file://C:\\Users\\thoma\\AppData\\Local\\Programs\\Python\\Python39\\lib\\site-packages\\manim\\utils\\deprecation.py#210\u001b\\\u001b[2m210\u001b[0m\u001b]8;;\u001b\\\n",
       "                             been deprecated since v0.\u001b[32m11.0\u001b[0m and is expected                   \n",
       "                             to be removed after v0.\u001b[32m13.0\u001b[0m. Use plot                           \n",
       "                             instead.                                                        \n"
      ]
     },
     "metadata": {},
     "output_type": "display_data"
    },
    {
     "data": {
      "text/html": [
       "<pre style=\"white-space:pre;overflow-x:auto;line-height:normal;font-family:Menlo,'DejaVu Sans Mono',consolas,'Courier New',monospace\"><span style=\"color: #7fbfbf; text-decoration-color: #7fbfbf\">                    </span><span style=\"color: #008000; text-decoration-color: #008000\">INFO    </span> <span style=\"color: #808000; text-decoration-color: #808000; font-weight: bold\">Writing</span> <span style=\"color: #008000; text-decoration-color: #008000\">\"y={x}^{2}\"</span> to                    <a href=\"file://C:\\Users\\thoma\\AppData\\Local\\Programs\\Python\\Python39\\lib\\site-packages\\manim\\utils\\tex_file_writing.py\"><span style=\"color: #7f7f7f; text-decoration-color: #7f7f7f\">tex_file_writing.py</span></a><span style=\"color: #7f7f7f; text-decoration-color: #7f7f7f\">:</span><a href=\"file://C:\\Users\\thoma\\AppData\\Local\\Programs\\Python\\Python39\\lib\\site-packages\\manim\\utils\\tex_file_writing.py#85\"><span style=\"color: #7f7f7f; text-decoration-color: #7f7f7f\">85</span></a>\n",
       "                             media\\Tex\\f4ed45afaefbcfe8.tex                                  \n",
       "</pre>\n"
      ],
      "text/plain": [
       "\u001b[2;36m                   \u001b[0m\u001b[2;36m \u001b[0m\u001b[32mINFO    \u001b[0m \u001b[1;33mWriting\u001b[0m \u001b[32m\"\u001b[0m\u001b[32my\u001b[0m\u001b[32m=\u001b[0m\u001b[32m{\u001b[0m\u001b[32mx\u001b[0m\u001b[32m}\u001b[0m\u001b[32m^\u001b[0m\u001b[32m{\u001b[0m\u001b[32m2\u001b[0m\u001b[32m}\u001b[0m\u001b[32m\"\u001b[0m to                    \u001b]8;id=983784;file://C:\\Users\\thoma\\AppData\\Local\\Programs\\Python\\Python39\\lib\\site-packages\\manim\\utils\\tex_file_writing.py\u001b\\\u001b[2mtex_file_writing.py\u001b[0m\u001b]8;;\u001b\\\u001b[2m:\u001b[0m\u001b]8;id=785896;file://C:\\Users\\thoma\\AppData\\Local\\Programs\\Python\\Python39\\lib\\site-packages\\manim\\utils\\tex_file_writing.py#85\u001b\\\u001b[2m85\u001b[0m\u001b]8;;\u001b\\\n",
       "                             media\\Tex\\f4ed45afaefbcfe8.tex                                  \n"
      ]
     },
     "metadata": {},
     "output_type": "display_data"
    },
    {
     "data": {
      "text/html": [
       "<pre style=\"white-space:pre;overflow-x:auto;line-height:normal;font-family:Menlo,'DejaVu Sans Mono',consolas,'Courier New',monospace\"><span style=\"color: #7fbfbf; text-decoration-color: #7fbfbf\">[01/31/22 20:58:28] </span><span style=\"color: #800000; text-decoration-color: #800000\">WARNING </span> The method CoordinateSystem.get_graph has     <a href=\"file://C:\\Users\\thoma\\AppData\\Local\\Programs\\Python\\Python39\\lib\\site-packages\\manim\\utils\\deprecation.py\"><span style=\"color: #7f7f7f; text-decoration-color: #7f7f7f\">deprecation.py</span></a><span style=\"color: #7f7f7f; text-decoration-color: #7f7f7f\">:</span><a href=\"file://C:\\Users\\thoma\\AppData\\Local\\Programs\\Python\\Python39\\lib\\site-packages\\manim\\utils\\deprecation.py#210\"><span style=\"color: #7f7f7f; text-decoration-color: #7f7f7f\">210</span></a>\n",
       "                             been deprecated since v0.<span style=\"color: #008000; text-decoration-color: #008000\">11.0</span> and is expected                   \n",
       "                             to be removed after v0.<span style=\"color: #008000; text-decoration-color: #008000\">13.0</span>. Use plot                           \n",
       "                             instead.                                                        \n",
       "</pre>\n"
      ],
      "text/plain": [
       "\u001b[2;36m[01/31/22 20:58:28]\u001b[0m\u001b[2;36m \u001b[0m\u001b[31mWARNING \u001b[0m The method CoordinateSystem.get_graph has     \u001b]8;id=367127;file://C:\\Users\\thoma\\AppData\\Local\\Programs\\Python\\Python39\\lib\\site-packages\\manim\\utils\\deprecation.py\u001b\\\u001b[2mdeprecation.py\u001b[0m\u001b]8;;\u001b\\\u001b[2m:\u001b[0m\u001b]8;id=775718;file://C:\\Users\\thoma\\AppData\\Local\\Programs\\Python\\Python39\\lib\\site-packages\\manim\\utils\\deprecation.py#210\u001b\\\u001b[2m210\u001b[0m\u001b]8;;\u001b\\\n",
       "                             been deprecated since v0.\u001b[32m11.0\u001b[0m and is expected                   \n",
       "                             to be removed after v0.\u001b[32m13.0\u001b[0m. Use plot                           \n",
       "                             instead.                                                        \n"
      ]
     },
     "metadata": {},
     "output_type": "display_data"
    },
    {
     "data": {
      "text/html": [
       "<pre style=\"white-space:pre;overflow-x:auto;line-height:normal;font-family:Menlo,'DejaVu Sans Mono',consolas,'Courier New',monospace\"><span style=\"color: #7fbfbf; text-decoration-color: #7fbfbf\">                    </span><span style=\"color: #008000; text-decoration-color: #008000\">INFO    </span> <span style=\"color: #808000; text-decoration-color: #808000; font-weight: bold\">Writing</span> <span style=\"color: #008000; text-decoration-color: #008000\">\"y=x\"</span> to                          <a href=\"file://C:\\Users\\thoma\\AppData\\Local\\Programs\\Python\\Python39\\lib\\site-packages\\manim\\utils\\tex_file_writing.py\"><span style=\"color: #7f7f7f; text-decoration-color: #7f7f7f\">tex_file_writing.py</span></a><span style=\"color: #7f7f7f; text-decoration-color: #7f7f7f\">:</span><a href=\"file://C:\\Users\\thoma\\AppData\\Local\\Programs\\Python\\Python39\\lib\\site-packages\\manim\\utils\\tex_file_writing.py#85\"><span style=\"color: #7f7f7f; text-decoration-color: #7f7f7f\">85</span></a>\n",
       "                             media\\Tex\\8fcbf7dd37bfd5c3.tex                                  \n",
       "</pre>\n"
      ],
      "text/plain": [
       "\u001b[2;36m                   \u001b[0m\u001b[2;36m \u001b[0m\u001b[32mINFO    \u001b[0m \u001b[1;33mWriting\u001b[0m \u001b[32m\"\u001b[0m\u001b[32my\u001b[0m\u001b[32m=\u001b[0m\u001b[32mx\"\u001b[0m to                          \u001b]8;id=584263;file://C:\\Users\\thoma\\AppData\\Local\\Programs\\Python\\Python39\\lib\\site-packages\\manim\\utils\\tex_file_writing.py\u001b\\\u001b[2mtex_file_writing.py\u001b[0m\u001b]8;;\u001b\\\u001b[2m:\u001b[0m\u001b]8;id=951117;file://C:\\Users\\thoma\\AppData\\Local\\Programs\\Python\\Python39\\lib\\site-packages\\manim\\utils\\tex_file_writing.py#85\u001b\\\u001b[2m85\u001b[0m\u001b]8;;\u001b\\\n",
       "                             media\\Tex\\8fcbf7dd37bfd5c3.tex                                  \n"
      ]
     },
     "metadata": {},
     "output_type": "display_data"
    },
    {
     "data": {
      "text/html": [
       "<pre style=\"white-space:pre;overflow-x:auto;line-height:normal;font-family:Menlo,'DejaVu Sans Mono',consolas,'Courier New',monospace\"><span style=\"color: #7fbfbf; text-decoration-color: #7fbfbf\">[01/31/22 20:58:34] </span><span style=\"color: #800000; text-decoration-color: #800000\">WARNING </span> The method CoordinateSystem.get_graph has     <a href=\"file://C:\\Users\\thoma\\AppData\\Local\\Programs\\Python\\Python39\\lib\\site-packages\\manim\\utils\\deprecation.py\"><span style=\"color: #7f7f7f; text-decoration-color: #7f7f7f\">deprecation.py</span></a><span style=\"color: #7f7f7f; text-decoration-color: #7f7f7f\">:</span><a href=\"file://C:\\Users\\thoma\\AppData\\Local\\Programs\\Python\\Python39\\lib\\site-packages\\manim\\utils\\deprecation.py#210\"><span style=\"color: #7f7f7f; text-decoration-color: #7f7f7f\">210</span></a>\n",
       "                             been deprecated since v0.<span style=\"color: #008000; text-decoration-color: #008000\">11.0</span> and is expected                   \n",
       "                             to be removed after v0.<span style=\"color: #008000; text-decoration-color: #008000\">13.0</span>. Use plot                           \n",
       "                             instead.                                                        \n",
       "</pre>\n"
      ],
      "text/plain": [
       "\u001b[2;36m[01/31/22 20:58:34]\u001b[0m\u001b[2;36m \u001b[0m\u001b[31mWARNING \u001b[0m The method CoordinateSystem.get_graph has     \u001b]8;id=14899;file://C:\\Users\\thoma\\AppData\\Local\\Programs\\Python\\Python39\\lib\\site-packages\\manim\\utils\\deprecation.py\u001b\\\u001b[2mdeprecation.py\u001b[0m\u001b]8;;\u001b\\\u001b[2m:\u001b[0m\u001b]8;id=350123;file://C:\\Users\\thoma\\AppData\\Local\\Programs\\Python\\Python39\\lib\\site-packages\\manim\\utils\\deprecation.py#210\u001b\\\u001b[2m210\u001b[0m\u001b]8;;\u001b\\\n",
       "                             been deprecated since v0.\u001b[32m11.0\u001b[0m and is expected                   \n",
       "                             to be removed after v0.\u001b[32m13.0\u001b[0m. Use plot                           \n",
       "                             instead.                                                        \n"
      ]
     },
     "metadata": {},
     "output_type": "display_data"
    },
    {
     "data": {
      "text/html": [
       "<pre style=\"white-space:pre;overflow-x:auto;line-height:normal;font-family:Menlo,'DejaVu Sans Mono',consolas,'Courier New',monospace\"><span style=\"color: #7fbfbf; text-decoration-color: #7fbfbf\">                    </span><span style=\"color: #008000; text-decoration-color: #008000\">INFO    </span> <span style=\"color: #808000; text-decoration-color: #808000; font-weight: bold\">Writing</span> <span style=\"color: #008000; text-decoration-color: #008000\">\"y={x}^{2} + x\"</span> to                <a href=\"file://C:\\Users\\thoma\\AppData\\Local\\Programs\\Python\\Python39\\lib\\site-packages\\manim\\utils\\tex_file_writing.py\"><span style=\"color: #7f7f7f; text-decoration-color: #7f7f7f\">tex_file_writing.py</span></a><span style=\"color: #7f7f7f; text-decoration-color: #7f7f7f\">:</span><a href=\"file://C:\\Users\\thoma\\AppData\\Local\\Programs\\Python\\Python39\\lib\\site-packages\\manim\\utils\\tex_file_writing.py#85\"><span style=\"color: #7f7f7f; text-decoration-color: #7f7f7f\">85</span></a>\n",
       "                             media\\Tex\\0401009939c8ad70.tex                                  \n",
       "</pre>\n"
      ],
      "text/plain": [
       "\u001b[2;36m                   \u001b[0m\u001b[2;36m \u001b[0m\u001b[32mINFO    \u001b[0m \u001b[1;33mWriting\u001b[0m \u001b[32m\"\u001b[0m\u001b[32my\u001b[0m\u001b[32m=\u001b[0m\u001b[32m{\u001b[0m\u001b[32mx\u001b[0m\u001b[32m}\u001b[0m\u001b[32m^\u001b[0m\u001b[32m{\u001b[0m\u001b[32m2\u001b[0m\u001b[32m}\u001b[0m\u001b[32m + x\"\u001b[0m to                \u001b]8;id=362702;file://C:\\Users\\thoma\\AppData\\Local\\Programs\\Python\\Python39\\lib\\site-packages\\manim\\utils\\tex_file_writing.py\u001b\\\u001b[2mtex_file_writing.py\u001b[0m\u001b]8;;\u001b\\\u001b[2m:\u001b[0m\u001b]8;id=936490;file://C:\\Users\\thoma\\AppData\\Local\\Programs\\Python\\Python39\\lib\\site-packages\\manim\\utils\\tex_file_writing.py#85\u001b\\\u001b[2m85\u001b[0m\u001b]8;;\u001b\\\n",
       "                             media\\Tex\\0401009939c8ad70.tex                                  \n"
      ]
     },
     "metadata": {},
     "output_type": "display_data"
    },
    {
     "data": {
      "text/html": [
       "<pre style=\"white-space:pre;overflow-x:auto;line-height:normal;font-family:Menlo,'DejaVu Sans Mono',consolas,'Courier New',monospace\"><span style=\"color: #7fbfbf; text-decoration-color: #7fbfbf\">[01/31/22 20:58:38] </span><span style=\"color: #008000; text-decoration-color: #008000\">INFO    </span> Animation <span style=\"color: #008000; text-decoration-color: #008000\">0</span> : Partial movie file        <a href=\"file://C:\\Users\\thoma\\AppData\\Local\\Programs\\Python\\Python39\\lib\\site-packages\\manim\\scene\\scene_file_writer.py\"><span style=\"color: #7f7f7f; text-decoration-color: #7f7f7f\">scene_file_writer.py</span></a><span style=\"color: #7f7f7f; text-decoration-color: #7f7f7f\">:</span><a href=\"file://C:\\Users\\thoma\\AppData\\Local\\Programs\\Python\\Python39\\lib\\site-packages\\manim\\scene\\scene_file_writer.py#514\"><span style=\"color: #7f7f7f; text-decoration-color: #7f7f7f\">514</span></a>\n",
       "                             written in <span style=\"color: #008000; text-decoration-color: #008000\">'c:\\Users\\thoma\\Desktop\\Apre</span>                         \n",
       "                             <span style=\"color: #008000; text-decoration-color: #008000\">ndizado\\Manim\\media\\videos\\Manim\\480p15</span>                         \n",
       "                             <span style=\"color: #008000; text-decoration-color: #008000\">\\partial_movie_files\\AdditiveFunctions\\</span>                         \n",
       "                             <span style=\"color: #008000; text-decoration-color: #008000\">3163782288_1515588106_1091439300.mp4'</span>                           \n",
       "</pre>\n"
      ],
      "text/plain": [
       "\u001b[2;36m[01/31/22 20:58:38]\u001b[0m\u001b[2;36m \u001b[0m\u001b[32mINFO    \u001b[0m Animation \u001b[32m0\u001b[0m : Partial movie file        \u001b]8;id=13658;file://C:\\Users\\thoma\\AppData\\Local\\Programs\\Python\\Python39\\lib\\site-packages\\manim\\scene\\scene_file_writer.py\u001b\\\u001b[2mscene_file_writer.py\u001b[0m\u001b]8;;\u001b\\\u001b[2m:\u001b[0m\u001b]8;id=171899;file://C:\\Users\\thoma\\AppData\\Local\\Programs\\Python\\Python39\\lib\\site-packages\\manim\\scene\\scene_file_writer.py#514\u001b\\\u001b[2m514\u001b[0m\u001b]8;;\u001b\\\n",
       "                             written in \u001b[32m'c:\\Users\\thoma\\Desktop\\Apre\u001b[0m                         \n",
       "                             \u001b[32mndizado\\Manim\\media\\videos\\Manim\\480p15\u001b[0m                         \n",
       "                             \u001b[32m\\partial_movie_files\\AdditiveFunctions\\\u001b[0m                         \n",
       "                             \u001b[32m3163782288_1515588106_1091439300.mp4'\u001b[0m                           \n"
      ]
     },
     "metadata": {},
     "output_type": "display_data"
    },
    {
     "name": "stderr",
     "output_type": "stream",
     "text": [
      "                                                                                \r"
     ]
    },
    {
     "data": {
      "text/html": [
       "<pre style=\"white-space:pre;overflow-x:auto;line-height:normal;font-family:Menlo,'DejaVu Sans Mono',consolas,'Courier New',monospace\"><span style=\"color: #7fbfbf; text-decoration-color: #7fbfbf\">                    </span><span style=\"color: #008000; text-decoration-color: #008000\">INFO    </span> Animation <span style=\"color: #008000; text-decoration-color: #008000\">1</span> : Partial movie file        <a href=\"file://C:\\Users\\thoma\\AppData\\Local\\Programs\\Python\\Python39\\lib\\site-packages\\manim\\scene\\scene_file_writer.py\"><span style=\"color: #7f7f7f; text-decoration-color: #7f7f7f\">scene_file_writer.py</span></a><span style=\"color: #7f7f7f; text-decoration-color: #7f7f7f\">:</span><a href=\"file://C:\\Users\\thoma\\AppData\\Local\\Programs\\Python\\Python39\\lib\\site-packages\\manim\\scene\\scene_file_writer.py#514\"><span style=\"color: #7f7f7f; text-decoration-color: #7f7f7f\">514</span></a>\n",
       "                             written in <span style=\"color: #008000; text-decoration-color: #008000\">'c:\\Users\\thoma\\Desktop\\Apre</span>                         \n",
       "                             <span style=\"color: #008000; text-decoration-color: #008000\">ndizado\\Manim\\media\\videos\\Manim\\480p15</span>                         \n",
       "                             <span style=\"color: #008000; text-decoration-color: #008000\">\\partial_movie_files\\AdditiveFunctions\\</span>                         \n",
       "                             <span style=\"color: #008000; text-decoration-color: #008000\">2201830969_3932054853_1272507802.mp4'</span>                           \n",
       "</pre>\n"
      ],
      "text/plain": [
       "\u001b[2;36m                   \u001b[0m\u001b[2;36m \u001b[0m\u001b[32mINFO    \u001b[0m Animation \u001b[32m1\u001b[0m : Partial movie file        \u001b]8;id=599914;file://C:\\Users\\thoma\\AppData\\Local\\Programs\\Python\\Python39\\lib\\site-packages\\manim\\scene\\scene_file_writer.py\u001b\\\u001b[2mscene_file_writer.py\u001b[0m\u001b]8;;\u001b\\\u001b[2m:\u001b[0m\u001b]8;id=653363;file://C:\\Users\\thoma\\AppData\\Local\\Programs\\Python\\Python39\\lib\\site-packages\\manim\\scene\\scene_file_writer.py#514\u001b\\\u001b[2m514\u001b[0m\u001b]8;;\u001b\\\n",
       "                             written in \u001b[32m'c:\\Users\\thoma\\Desktop\\Apre\u001b[0m                         \n",
       "                             \u001b[32mndizado\\Manim\\media\\videos\\Manim\\480p15\u001b[0m                         \n",
       "                             \u001b[32m\\partial_movie_files\\AdditiveFunctions\\\u001b[0m                         \n",
       "                             \u001b[32m2201830969_3932054853_1272507802.mp4'\u001b[0m                           \n"
      ]
     },
     "metadata": {},
     "output_type": "display_data"
    },
    {
     "name": "stderr",
     "output_type": "stream",
     "text": [
      "                                                                               \r"
     ]
    },
    {
     "data": {
      "text/html": [
       "<pre style=\"white-space:pre;overflow-x:auto;line-height:normal;font-family:Menlo,'DejaVu Sans Mono',consolas,'Courier New',monospace\"><span style=\"color: #7fbfbf; text-decoration-color: #7fbfbf\">[01/31/22 20:58:39] </span><span style=\"color: #008000; text-decoration-color: #008000\">INFO    </span> Animation <span style=\"color: #008000; text-decoration-color: #008000\">2</span> : Partial movie file        <a href=\"file://C:\\Users\\thoma\\AppData\\Local\\Programs\\Python\\Python39\\lib\\site-packages\\manim\\scene\\scene_file_writer.py\"><span style=\"color: #7f7f7f; text-decoration-color: #7f7f7f\">scene_file_writer.py</span></a><span style=\"color: #7f7f7f; text-decoration-color: #7f7f7f\">:</span><a href=\"file://C:\\Users\\thoma\\AppData\\Local\\Programs\\Python\\Python39\\lib\\site-packages\\manim\\scene\\scene_file_writer.py#514\"><span style=\"color: #7f7f7f; text-decoration-color: #7f7f7f\">514</span></a>\n",
       "                             written in <span style=\"color: #008000; text-decoration-color: #008000\">'c:\\Users\\thoma\\Desktop\\Apre</span>                         \n",
       "                             <span style=\"color: #008000; text-decoration-color: #008000\">ndizado\\Manim\\media\\videos\\Manim\\480p15</span>                         \n",
       "                             <span style=\"color: #008000; text-decoration-color: #008000\">\\partial_movie_files\\AdditiveFunctions\\</span>                         \n",
       "                             <span style=\"color: #008000; text-decoration-color: #008000\">2201830969_963901136_1840722056.mp4'</span>                            \n",
       "</pre>\n"
      ],
      "text/plain": [
       "\u001b[2;36m[01/31/22 20:58:39]\u001b[0m\u001b[2;36m \u001b[0m\u001b[32mINFO    \u001b[0m Animation \u001b[32m2\u001b[0m : Partial movie file        \u001b]8;id=938509;file://C:\\Users\\thoma\\AppData\\Local\\Programs\\Python\\Python39\\lib\\site-packages\\manim\\scene\\scene_file_writer.py\u001b\\\u001b[2mscene_file_writer.py\u001b[0m\u001b]8;;\u001b\\\u001b[2m:\u001b[0m\u001b]8;id=578596;file://C:\\Users\\thoma\\AppData\\Local\\Programs\\Python\\Python39\\lib\\site-packages\\manim\\scene\\scene_file_writer.py#514\u001b\\\u001b[2m514\u001b[0m\u001b]8;;\u001b\\\n",
       "                             written in \u001b[32m'c:\\Users\\thoma\\Desktop\\Apre\u001b[0m                         \n",
       "                             \u001b[32mndizado\\Manim\\media\\videos\\Manim\\480p15\u001b[0m                         \n",
       "                             \u001b[32m\\partial_movie_files\\AdditiveFunctions\\\u001b[0m                         \n",
       "                             \u001b[32m2201830969_963901136_1840722056.mp4'\u001b[0m                            \n"
      ]
     },
     "metadata": {},
     "output_type": "display_data"
    },
    {
     "name": "stderr",
     "output_type": "stream",
     "text": [
      "                                                                                         \r"
     ]
    },
    {
     "data": {
      "text/html": [
       "<pre style=\"white-space:pre;overflow-x:auto;line-height:normal;font-family:Menlo,'DejaVu Sans Mono',consolas,'Courier New',monospace\"><span style=\"color: #7fbfbf; text-decoration-color: #7fbfbf\">[01/31/22 20:58:40] </span><span style=\"color: #008000; text-decoration-color: #008000\">INFO    </span> Animation <span style=\"color: #008000; text-decoration-color: #008000\">3</span> : Partial movie file        <a href=\"file://C:\\Users\\thoma\\AppData\\Local\\Programs\\Python\\Python39\\lib\\site-packages\\manim\\scene\\scene_file_writer.py\"><span style=\"color: #7f7f7f; text-decoration-color: #7f7f7f\">scene_file_writer.py</span></a><span style=\"color: #7f7f7f; text-decoration-color: #7f7f7f\">:</span><a href=\"file://C:\\Users\\thoma\\AppData\\Local\\Programs\\Python\\Python39\\lib\\site-packages\\manim\\scene\\scene_file_writer.py#514\"><span style=\"color: #7f7f7f; text-decoration-color: #7f7f7f\">514</span></a>\n",
       "                             written in <span style=\"color: #008000; text-decoration-color: #008000\">'c:\\Users\\thoma\\Desktop\\Apre</span>                         \n",
       "                             <span style=\"color: #008000; text-decoration-color: #008000\">ndizado\\Manim\\media\\videos\\Manim\\480p15</span>                         \n",
       "                             <span style=\"color: #008000; text-decoration-color: #008000\">\\partial_movie_files\\AdditiveFunctions\\</span>                         \n",
       "                             <span style=\"color: #008000; text-decoration-color: #008000\">2201830969_345100509_3390299931.mp4'</span>                            \n",
       "</pre>\n"
      ],
      "text/plain": [
       "\u001b[2;36m[01/31/22 20:58:40]\u001b[0m\u001b[2;36m \u001b[0m\u001b[32mINFO    \u001b[0m Animation \u001b[32m3\u001b[0m : Partial movie file        \u001b]8;id=636414;file://C:\\Users\\thoma\\AppData\\Local\\Programs\\Python\\Python39\\lib\\site-packages\\manim\\scene\\scene_file_writer.py\u001b\\\u001b[2mscene_file_writer.py\u001b[0m\u001b]8;;\u001b\\\u001b[2m:\u001b[0m\u001b]8;id=952340;file://C:\\Users\\thoma\\AppData\\Local\\Programs\\Python\\Python39\\lib\\site-packages\\manim\\scene\\scene_file_writer.py#514\u001b\\\u001b[2m514\u001b[0m\u001b]8;;\u001b\\\n",
       "                             written in \u001b[32m'c:\\Users\\thoma\\Desktop\\Apre\u001b[0m                         \n",
       "                             \u001b[32mndizado\\Manim\\media\\videos\\Manim\\480p15\u001b[0m                         \n",
       "                             \u001b[32m\\partial_movie_files\\AdditiveFunctions\\\u001b[0m                         \n",
       "                             \u001b[32m2201830969_345100509_3390299931.mp4'\u001b[0m                            \n"
      ]
     },
     "metadata": {},
     "output_type": "display_data"
    },
    {
     "name": "stderr",
     "output_type": "stream",
     "text": [
      "                                                                         \r"
     ]
    },
    {
     "data": {
      "text/html": [
       "<pre style=\"white-space:pre;overflow-x:auto;line-height:normal;font-family:Menlo,'DejaVu Sans Mono',consolas,'Courier New',monospace\"><span style=\"color: #7fbfbf; text-decoration-color: #7fbfbf\">[01/31/22 20:58:41] </span><span style=\"color: #008000; text-decoration-color: #008000\">INFO    </span> Animation <span style=\"color: #008000; text-decoration-color: #008000\">4</span> : Partial movie file        <a href=\"file://C:\\Users\\thoma\\AppData\\Local\\Programs\\Python\\Python39\\lib\\site-packages\\manim\\scene\\scene_file_writer.py\"><span style=\"color: #7f7f7f; text-decoration-color: #7f7f7f\">scene_file_writer.py</span></a><span style=\"color: #7f7f7f; text-decoration-color: #7f7f7f\">:</span><a href=\"file://C:\\Users\\thoma\\AppData\\Local\\Programs\\Python\\Python39\\lib\\site-packages\\manim\\scene\\scene_file_writer.py#514\"><span style=\"color: #7f7f7f; text-decoration-color: #7f7f7f\">514</span></a>\n",
       "                             written in <span style=\"color: #008000; text-decoration-color: #008000\">'c:\\Users\\thoma\\Desktop\\Apre</span>                         \n",
       "                             <span style=\"color: #008000; text-decoration-color: #008000\">ndizado\\Manim\\media\\videos\\Manim\\480p15</span>                         \n",
       "                             <span style=\"color: #008000; text-decoration-color: #008000\">\\partial_movie_files\\AdditiveFunctions\\</span>                         \n",
       "                             <span style=\"color: #008000; text-decoration-color: #008000\">2201830969_2799450988_4008296289.mp4'</span>                           \n",
       "</pre>\n"
      ],
      "text/plain": [
       "\u001b[2;36m[01/31/22 20:58:41]\u001b[0m\u001b[2;36m \u001b[0m\u001b[32mINFO    \u001b[0m Animation \u001b[32m4\u001b[0m : Partial movie file        \u001b]8;id=636937;file://C:\\Users\\thoma\\AppData\\Local\\Programs\\Python\\Python39\\lib\\site-packages\\manim\\scene\\scene_file_writer.py\u001b\\\u001b[2mscene_file_writer.py\u001b[0m\u001b]8;;\u001b\\\u001b[2m:\u001b[0m\u001b]8;id=341785;file://C:\\Users\\thoma\\AppData\\Local\\Programs\\Python\\Python39\\lib\\site-packages\\manim\\scene\\scene_file_writer.py#514\u001b\\\u001b[2m514\u001b[0m\u001b]8;;\u001b\\\n",
       "                             written in \u001b[32m'c:\\Users\\thoma\\Desktop\\Apre\u001b[0m                         \n",
       "                             \u001b[32mndizado\\Manim\\media\\videos\\Manim\\480p15\u001b[0m                         \n",
       "                             \u001b[32m\\partial_movie_files\\AdditiveFunctions\\\u001b[0m                         \n",
       "                             \u001b[32m2201830969_2799450988_4008296289.mp4'\u001b[0m                           \n"
      ]
     },
     "metadata": {},
     "output_type": "display_data"
    },
    {
     "name": "stderr",
     "output_type": "stream",
     "text": [
      "                                                                               \r"
     ]
    },
    {
     "data": {
      "text/html": [
       "<pre style=\"white-space:pre;overflow-x:auto;line-height:normal;font-family:Menlo,'DejaVu Sans Mono',consolas,'Courier New',monospace\"><span style=\"color: #7fbfbf; text-decoration-color: #7fbfbf\">                    </span><span style=\"color: #008000; text-decoration-color: #008000\">INFO    </span> Animation <span style=\"color: #008000; text-decoration-color: #008000\">5</span> : Partial movie file        <a href=\"file://C:\\Users\\thoma\\AppData\\Local\\Programs\\Python\\Python39\\lib\\site-packages\\manim\\scene\\scene_file_writer.py\"><span style=\"color: #7f7f7f; text-decoration-color: #7f7f7f\">scene_file_writer.py</span></a><span style=\"color: #7f7f7f; text-decoration-color: #7f7f7f\">:</span><a href=\"file://C:\\Users\\thoma\\AppData\\Local\\Programs\\Python\\Python39\\lib\\site-packages\\manim\\scene\\scene_file_writer.py#514\"><span style=\"color: #7f7f7f; text-decoration-color: #7f7f7f\">514</span></a>\n",
       "                             written in <span style=\"color: #008000; text-decoration-color: #008000\">'c:\\Users\\thoma\\Desktop\\Apre</span>                         \n",
       "                             <span style=\"color: #008000; text-decoration-color: #008000\">ndizado\\Manim\\media\\videos\\Manim\\480p15</span>                         \n",
       "                             <span style=\"color: #008000; text-decoration-color: #008000\">\\partial_movie_files\\AdditiveFunctions\\</span>                         \n",
       "                             <span style=\"color: #008000; text-decoration-color: #008000\">2201830969_1322170699_1550054310.mp4'</span>                           \n",
       "</pre>\n"
      ],
      "text/plain": [
       "\u001b[2;36m                   \u001b[0m\u001b[2;36m \u001b[0m\u001b[32mINFO    \u001b[0m Animation \u001b[32m5\u001b[0m : Partial movie file        \u001b]8;id=779738;file://C:\\Users\\thoma\\AppData\\Local\\Programs\\Python\\Python39\\lib\\site-packages\\manim\\scene\\scene_file_writer.py\u001b\\\u001b[2mscene_file_writer.py\u001b[0m\u001b]8;;\u001b\\\u001b[2m:\u001b[0m\u001b]8;id=468890;file://C:\\Users\\thoma\\AppData\\Local\\Programs\\Python\\Python39\\lib\\site-packages\\manim\\scene\\scene_file_writer.py#514\u001b\\\u001b[2m514\u001b[0m\u001b]8;;\u001b\\\n",
       "                             written in \u001b[32m'c:\\Users\\thoma\\Desktop\\Apre\u001b[0m                         \n",
       "                             \u001b[32mndizado\\Manim\\media\\videos\\Manim\\480p15\u001b[0m                         \n",
       "                             \u001b[32m\\partial_movie_files\\AdditiveFunctions\\\u001b[0m                         \n",
       "                             \u001b[32m2201830969_1322170699_1550054310.mp4'\u001b[0m                           \n"
      ]
     },
     "metadata": {},
     "output_type": "display_data"
    },
    {
     "name": "stderr",
     "output_type": "stream",
     "text": [
      "                                                                               \r"
     ]
    },
    {
     "data": {
      "text/html": [
       "<pre style=\"white-space:pre;overflow-x:auto;line-height:normal;font-family:Menlo,'DejaVu Sans Mono',consolas,'Courier New',monospace\"><span style=\"color: #7fbfbf; text-decoration-color: #7fbfbf\">[01/31/22 20:58:42] </span><span style=\"color: #008000; text-decoration-color: #008000\">INFO    </span> Animation <span style=\"color: #008000; text-decoration-color: #008000\">6</span> : Partial movie file        <a href=\"file://C:\\Users\\thoma\\AppData\\Local\\Programs\\Python\\Python39\\lib\\site-packages\\manim\\scene\\scene_file_writer.py\"><span style=\"color: #7f7f7f; text-decoration-color: #7f7f7f\">scene_file_writer.py</span></a><span style=\"color: #7f7f7f; text-decoration-color: #7f7f7f\">:</span><a href=\"file://C:\\Users\\thoma\\AppData\\Local\\Programs\\Python\\Python39\\lib\\site-packages\\manim\\scene\\scene_file_writer.py#514\"><span style=\"color: #7f7f7f; text-decoration-color: #7f7f7f\">514</span></a>\n",
       "                             written in <span style=\"color: #008000; text-decoration-color: #008000\">'c:\\Users\\thoma\\Desktop\\Apre</span>                         \n",
       "                             <span style=\"color: #008000; text-decoration-color: #008000\">ndizado\\Manim\\media\\videos\\Manim\\480p15</span>                         \n",
       "                             <span style=\"color: #008000; text-decoration-color: #008000\">\\partial_movie_files\\AdditiveFunctions\\</span>                         \n",
       "                             <span style=\"color: #008000; text-decoration-color: #008000\">2201830969_3513247780_704447189.mp4'</span>                            \n",
       "</pre>\n"
      ],
      "text/plain": [
       "\u001b[2;36m[01/31/22 20:58:42]\u001b[0m\u001b[2;36m \u001b[0m\u001b[32mINFO    \u001b[0m Animation \u001b[32m6\u001b[0m : Partial movie file        \u001b]8;id=607565;file://C:\\Users\\thoma\\AppData\\Local\\Programs\\Python\\Python39\\lib\\site-packages\\manim\\scene\\scene_file_writer.py\u001b\\\u001b[2mscene_file_writer.py\u001b[0m\u001b]8;;\u001b\\\u001b[2m:\u001b[0m\u001b]8;id=341187;file://C:\\Users\\thoma\\AppData\\Local\\Programs\\Python\\Python39\\lib\\site-packages\\manim\\scene\\scene_file_writer.py#514\u001b\\\u001b[2m514\u001b[0m\u001b]8;;\u001b\\\n",
       "                             written in \u001b[32m'c:\\Users\\thoma\\Desktop\\Apre\u001b[0m                         \n",
       "                             \u001b[32mndizado\\Manim\\media\\videos\\Manim\\480p15\u001b[0m                         \n",
       "                             \u001b[32m\\partial_movie_files\\AdditiveFunctions\\\u001b[0m                         \n",
       "                             \u001b[32m2201830969_3513247780_704447189.mp4'\u001b[0m                            \n"
      ]
     },
     "metadata": {},
     "output_type": "display_data"
    },
    {
     "name": "stderr",
     "output_type": "stream",
     "text": [
      "                                                                                          \r"
     ]
    },
    {
     "data": {
      "text/html": [
       "<pre style=\"white-space:pre;overflow-x:auto;line-height:normal;font-family:Menlo,'DejaVu Sans Mono',consolas,'Courier New',monospace\"><span style=\"color: #7fbfbf; text-decoration-color: #7fbfbf\">[01/31/22 20:58:43] </span><span style=\"color: #008000; text-decoration-color: #008000\">INFO    </span> Animation <span style=\"color: #008000; text-decoration-color: #008000\">7</span> : Partial movie file        <a href=\"file://C:\\Users\\thoma\\AppData\\Local\\Programs\\Python\\Python39\\lib\\site-packages\\manim\\scene\\scene_file_writer.py\"><span style=\"color: #7f7f7f; text-decoration-color: #7f7f7f\">scene_file_writer.py</span></a><span style=\"color: #7f7f7f; text-decoration-color: #7f7f7f\">:</span><a href=\"file://C:\\Users\\thoma\\AppData\\Local\\Programs\\Python\\Python39\\lib\\site-packages\\manim\\scene\\scene_file_writer.py#514\"><span style=\"color: #7f7f7f; text-decoration-color: #7f7f7f\">514</span></a>\n",
       "                             written in <span style=\"color: #008000; text-decoration-color: #008000\">'c:\\Users\\thoma\\Desktop\\Apre</span>                         \n",
       "                             <span style=\"color: #008000; text-decoration-color: #008000\">ndizado\\Manim\\media\\videos\\Manim\\480p15</span>                         \n",
       "                             <span style=\"color: #008000; text-decoration-color: #008000\">\\partial_movie_files\\AdditiveFunctions\\</span>                         \n",
       "                             <span style=\"color: #008000; text-decoration-color: #008000\">1495979052_3502704088_882075435.mp4'</span>                            \n",
       "</pre>\n"
      ],
      "text/plain": [
       "\u001b[2;36m[01/31/22 20:58:43]\u001b[0m\u001b[2;36m \u001b[0m\u001b[32mINFO    \u001b[0m Animation \u001b[32m7\u001b[0m : Partial movie file        \u001b]8;id=984125;file://C:\\Users\\thoma\\AppData\\Local\\Programs\\Python\\Python39\\lib\\site-packages\\manim\\scene\\scene_file_writer.py\u001b\\\u001b[2mscene_file_writer.py\u001b[0m\u001b]8;;\u001b\\\u001b[2m:\u001b[0m\u001b]8;id=310962;file://C:\\Users\\thoma\\AppData\\Local\\Programs\\Python\\Python39\\lib\\site-packages\\manim\\scene\\scene_file_writer.py#514\u001b\\\u001b[2m514\u001b[0m\u001b]8;;\u001b\\\n",
       "                             written in \u001b[32m'c:\\Users\\thoma\\Desktop\\Apre\u001b[0m                         \n",
       "                             \u001b[32mndizado\\Manim\\media\\videos\\Manim\\480p15\u001b[0m                         \n",
       "                             \u001b[32m\\partial_movie_files\\AdditiveFunctions\\\u001b[0m                         \n",
       "                             \u001b[32m1495979052_3502704088_882075435.mp4'\u001b[0m                            \n"
      ]
     },
     "metadata": {},
     "output_type": "display_data"
    },
    {
     "name": "stderr",
     "output_type": "stream",
     "text": [
      "                                                                          \r"
     ]
    },
    {
     "data": {
      "text/html": [
       "<pre style=\"white-space:pre;overflow-x:auto;line-height:normal;font-family:Menlo,'DejaVu Sans Mono',consolas,'Courier New',monospace\"><span style=\"color: #7fbfbf; text-decoration-color: #7fbfbf\">                    </span><span style=\"color: #008000; text-decoration-color: #008000\">INFO    </span> Animation <span style=\"color: #008000; text-decoration-color: #008000\">8</span> : Partial movie file        <a href=\"file://C:\\Users\\thoma\\AppData\\Local\\Programs\\Python\\Python39\\lib\\site-packages\\manim\\scene\\scene_file_writer.py\"><span style=\"color: #7f7f7f; text-decoration-color: #7f7f7f\">scene_file_writer.py</span></a><span style=\"color: #7f7f7f; text-decoration-color: #7f7f7f\">:</span><a href=\"file://C:\\Users\\thoma\\AppData\\Local\\Programs\\Python\\Python39\\lib\\site-packages\\manim\\scene\\scene_file_writer.py#514\"><span style=\"color: #7f7f7f; text-decoration-color: #7f7f7f\">514</span></a>\n",
       "                             written in <span style=\"color: #008000; text-decoration-color: #008000\">'c:\\Users\\thoma\\Desktop\\Apre</span>                         \n",
       "                             <span style=\"color: #008000; text-decoration-color: #008000\">ndizado\\Manim\\media\\videos\\Manim\\480p15</span>                         \n",
       "                             <span style=\"color: #008000; text-decoration-color: #008000\">\\partial_movie_files\\AdditiveFunctions\\</span>                         \n",
       "                             <span style=\"color: #008000; text-decoration-color: #008000\">2201830969_2833960926_1728737390.mp4'</span>                           \n",
       "</pre>\n"
      ],
      "text/plain": [
       "\u001b[2;36m                   \u001b[0m\u001b[2;36m \u001b[0m\u001b[32mINFO    \u001b[0m Animation \u001b[32m8\u001b[0m : Partial movie file        \u001b]8;id=696355;file://C:\\Users\\thoma\\AppData\\Local\\Programs\\Python\\Python39\\lib\\site-packages\\manim\\scene\\scene_file_writer.py\u001b\\\u001b[2mscene_file_writer.py\u001b[0m\u001b]8;;\u001b\\\u001b[2m:\u001b[0m\u001b]8;id=974197;file://C:\\Users\\thoma\\AppData\\Local\\Programs\\Python\\Python39\\lib\\site-packages\\manim\\scene\\scene_file_writer.py#514\u001b\\\u001b[2m514\u001b[0m\u001b]8;;\u001b\\\n",
       "                             written in \u001b[32m'c:\\Users\\thoma\\Desktop\\Apre\u001b[0m                         \n",
       "                             \u001b[32mndizado\\Manim\\media\\videos\\Manim\\480p15\u001b[0m                         \n",
       "                             \u001b[32m\\partial_movie_files\\AdditiveFunctions\\\u001b[0m                         \n",
       "                             \u001b[32m2201830969_2833960926_1728737390.mp4'\u001b[0m                           \n"
      ]
     },
     "metadata": {},
     "output_type": "display_data"
    },
    {
     "name": "stderr",
     "output_type": "stream",
     "text": [
      "                                                                                \r"
     ]
    },
    {
     "data": {
      "text/html": [
       "<pre style=\"white-space:pre;overflow-x:auto;line-height:normal;font-family:Menlo,'DejaVu Sans Mono',consolas,'Courier New',monospace\"><span style=\"color: #7fbfbf; text-decoration-color: #7fbfbf\">[01/31/22 20:58:44] </span><span style=\"color: #008000; text-decoration-color: #008000\">INFO    </span> Animation <span style=\"color: #008000; text-decoration-color: #008000\">9</span> : Partial movie file        <a href=\"file://C:\\Users\\thoma\\AppData\\Local\\Programs\\Python\\Python39\\lib\\site-packages\\manim\\scene\\scene_file_writer.py\"><span style=\"color: #7f7f7f; text-decoration-color: #7f7f7f\">scene_file_writer.py</span></a><span style=\"color: #7f7f7f; text-decoration-color: #7f7f7f\">:</span><a href=\"file://C:\\Users\\thoma\\AppData\\Local\\Programs\\Python\\Python39\\lib\\site-packages\\manim\\scene\\scene_file_writer.py#514\"><span style=\"color: #7f7f7f; text-decoration-color: #7f7f7f\">514</span></a>\n",
       "                             written in <span style=\"color: #008000; text-decoration-color: #008000\">'c:\\Users\\thoma\\Desktop\\Apre</span>                         \n",
       "                             <span style=\"color: #008000; text-decoration-color: #008000\">ndizado\\Manim\\media\\videos\\Manim\\480p15</span>                         \n",
       "                             <span style=\"color: #008000; text-decoration-color: #008000\">\\partial_movie_files\\AdditiveFunctions\\</span>                         \n",
       "                             <span style=\"color: #008000; text-decoration-color: #008000\">2201830969_2140311703_1446292686.mp4'</span>                           \n",
       "</pre>\n"
      ],
      "text/plain": [
       "\u001b[2;36m[01/31/22 20:58:44]\u001b[0m\u001b[2;36m \u001b[0m\u001b[32mINFO    \u001b[0m Animation \u001b[32m9\u001b[0m : Partial movie file        \u001b]8;id=169180;file://C:\\Users\\thoma\\AppData\\Local\\Programs\\Python\\Python39\\lib\\site-packages\\manim\\scene\\scene_file_writer.py\u001b\\\u001b[2mscene_file_writer.py\u001b[0m\u001b]8;;\u001b\\\u001b[2m:\u001b[0m\u001b]8;id=406277;file://C:\\Users\\thoma\\AppData\\Local\\Programs\\Python\\Python39\\lib\\site-packages\\manim\\scene\\scene_file_writer.py#514\u001b\\\u001b[2m514\u001b[0m\u001b]8;;\u001b\\\n",
       "                             written in \u001b[32m'c:\\Users\\thoma\\Desktop\\Apre\u001b[0m                         \n",
       "                             \u001b[32mndizado\\Manim\\media\\videos\\Manim\\480p15\u001b[0m                         \n",
       "                             \u001b[32m\\partial_movie_files\\AdditiveFunctions\\\u001b[0m                         \n",
       "                             \u001b[32m2201830969_2140311703_1446292686.mp4'\u001b[0m                           \n"
      ]
     },
     "metadata": {},
     "output_type": "display_data"
    },
    {
     "name": "stderr",
     "output_type": "stream",
     "text": [
      "                                                                                \r"
     ]
    },
    {
     "data": {
      "text/html": [
       "<pre style=\"white-space:pre;overflow-x:auto;line-height:normal;font-family:Menlo,'DejaVu Sans Mono',consolas,'Courier New',monospace\"><span style=\"color: #7fbfbf; text-decoration-color: #7fbfbf\">[01/31/22 20:58:45] </span><span style=\"color: #008000; text-decoration-color: #008000\">INFO    </span> Animation <span style=\"color: #008000; text-decoration-color: #008000\">10</span> : Partial movie file       <a href=\"file://C:\\Users\\thoma\\AppData\\Local\\Programs\\Python\\Python39\\lib\\site-packages\\manim\\scene\\scene_file_writer.py\"><span style=\"color: #7f7f7f; text-decoration-color: #7f7f7f\">scene_file_writer.py</span></a><span style=\"color: #7f7f7f; text-decoration-color: #7f7f7f\">:</span><a href=\"file://C:\\Users\\thoma\\AppData\\Local\\Programs\\Python\\Python39\\lib\\site-packages\\manim\\scene\\scene_file_writer.py#514\"><span style=\"color: #7f7f7f; text-decoration-color: #7f7f7f\">514</span></a>\n",
       "                             written in <span style=\"color: #008000; text-decoration-color: #008000\">'c:\\Users\\thoma\\Desktop\\Apre</span>                         \n",
       "                             <span style=\"color: #008000; text-decoration-color: #008000\">ndizado\\Manim\\media\\videos\\Manim\\480p15</span>                         \n",
       "                             <span style=\"color: #008000; text-decoration-color: #008000\">\\partial_movie_files\\AdditiveFunctions\\</span>                         \n",
       "                             <span style=\"color: #008000; text-decoration-color: #008000\">2201830969_2809669610_1791415574.mp4'</span>                           \n",
       "</pre>\n"
      ],
      "text/plain": [
       "\u001b[2;36m[01/31/22 20:58:45]\u001b[0m\u001b[2;36m \u001b[0m\u001b[32mINFO    \u001b[0m Animation \u001b[32m10\u001b[0m : Partial movie file       \u001b]8;id=347431;file://C:\\Users\\thoma\\AppData\\Local\\Programs\\Python\\Python39\\lib\\site-packages\\manim\\scene\\scene_file_writer.py\u001b\\\u001b[2mscene_file_writer.py\u001b[0m\u001b]8;;\u001b\\\u001b[2m:\u001b[0m\u001b]8;id=998047;file://C:\\Users\\thoma\\AppData\\Local\\Programs\\Python\\Python39\\lib\\site-packages\\manim\\scene\\scene_file_writer.py#514\u001b\\\u001b[2m514\u001b[0m\u001b]8;;\u001b\\\n",
       "                             written in \u001b[32m'c:\\Users\\thoma\\Desktop\\Apre\u001b[0m                         \n",
       "                             \u001b[32mndizado\\Manim\\media\\videos\\Manim\\480p15\u001b[0m                         \n",
       "                             \u001b[32m\\partial_movie_files\\AdditiveFunctions\\\u001b[0m                         \n",
       "                             \u001b[32m2201830969_2809669610_1791415574.mp4'\u001b[0m                           \n"
      ]
     },
     "metadata": {},
     "output_type": "display_data"
    },
    {
     "name": "stderr",
     "output_type": "stream",
     "text": [
      "                                                                                           \r"
     ]
    },
    {
     "data": {
      "text/html": [
       "<pre style=\"white-space:pre;overflow-x:auto;line-height:normal;font-family:Menlo,'DejaVu Sans Mono',consolas,'Courier New',monospace\"><span style=\"color: #7fbfbf; text-decoration-color: #7fbfbf\">[01/31/22 20:58:46] </span><span style=\"color: #008000; text-decoration-color: #008000\">INFO    </span> Animation <span style=\"color: #008000; text-decoration-color: #008000\">11</span> : Partial movie file       <a href=\"file://C:\\Users\\thoma\\AppData\\Local\\Programs\\Python\\Python39\\lib\\site-packages\\manim\\scene\\scene_file_writer.py\"><span style=\"color: #7f7f7f; text-decoration-color: #7f7f7f\">scene_file_writer.py</span></a><span style=\"color: #7f7f7f; text-decoration-color: #7f7f7f\">:</span><a href=\"file://C:\\Users\\thoma\\AppData\\Local\\Programs\\Python\\Python39\\lib\\site-packages\\manim\\scene\\scene_file_writer.py#514\"><span style=\"color: #7f7f7f; text-decoration-color: #7f7f7f\">514</span></a>\n",
       "                             written in <span style=\"color: #008000; text-decoration-color: #008000\">'c:\\Users\\thoma\\Desktop\\Apre</span>                         \n",
       "                             <span style=\"color: #008000; text-decoration-color: #008000\">ndizado\\Manim\\media\\videos\\Manim\\480p15</span>                         \n",
       "                             <span style=\"color: #008000; text-decoration-color: #008000\">\\partial_movie_files\\AdditiveFunctions\\</span>                         \n",
       "                             <span style=\"color: #008000; text-decoration-color: #008000\">2201830969_3221650381_58371786.mp4'</span>                             \n",
       "</pre>\n"
      ],
      "text/plain": [
       "\u001b[2;36m[01/31/22 20:58:46]\u001b[0m\u001b[2;36m \u001b[0m\u001b[32mINFO    \u001b[0m Animation \u001b[32m11\u001b[0m : Partial movie file       \u001b]8;id=167299;file://C:\\Users\\thoma\\AppData\\Local\\Programs\\Python\\Python39\\lib\\site-packages\\manim\\scene\\scene_file_writer.py\u001b\\\u001b[2mscene_file_writer.py\u001b[0m\u001b]8;;\u001b\\\u001b[2m:\u001b[0m\u001b]8;id=856258;file://C:\\Users\\thoma\\AppData\\Local\\Programs\\Python\\Python39\\lib\\site-packages\\manim\\scene\\scene_file_writer.py#514\u001b\\\u001b[2m514\u001b[0m\u001b]8;;\u001b\\\n",
       "                             written in \u001b[32m'c:\\Users\\thoma\\Desktop\\Apre\u001b[0m                         \n",
       "                             \u001b[32mndizado\\Manim\\media\\videos\\Manim\\480p15\u001b[0m                         \n",
       "                             \u001b[32m\\partial_movie_files\\AdditiveFunctions\\\u001b[0m                         \n",
       "                             \u001b[32m2201830969_3221650381_58371786.mp4'\u001b[0m                             \n"
      ]
     },
     "metadata": {},
     "output_type": "display_data"
    },
    {
     "name": "stderr",
     "output_type": "stream",
     "text": [
      "                                                                           \r"
     ]
    },
    {
     "data": {
      "text/html": [
       "<pre style=\"white-space:pre;overflow-x:auto;line-height:normal;font-family:Menlo,'DejaVu Sans Mono',consolas,'Courier New',monospace\"><span style=\"color: #7fbfbf; text-decoration-color: #7fbfbf\">                    </span><span style=\"color: #008000; text-decoration-color: #008000\">INFO    </span> Animation <span style=\"color: #008000; text-decoration-color: #008000\">12</span> : Partial movie file       <a href=\"file://C:\\Users\\thoma\\AppData\\Local\\Programs\\Python\\Python39\\lib\\site-packages\\manim\\scene\\scene_file_writer.py\"><span style=\"color: #7f7f7f; text-decoration-color: #7f7f7f\">scene_file_writer.py</span></a><span style=\"color: #7f7f7f; text-decoration-color: #7f7f7f\">:</span><a href=\"file://C:\\Users\\thoma\\AppData\\Local\\Programs\\Python\\Python39\\lib\\site-packages\\manim\\scene\\scene_file_writer.py#514\"><span style=\"color: #7f7f7f; text-decoration-color: #7f7f7f\">514</span></a>\n",
       "                             written in <span style=\"color: #008000; text-decoration-color: #008000\">'c:\\Users\\thoma\\Desktop\\Apre</span>                         \n",
       "                             <span style=\"color: #008000; text-decoration-color: #008000\">ndizado\\Manim\\media\\videos\\Manim\\480p15</span>                         \n",
       "                             <span style=\"color: #008000; text-decoration-color: #008000\">\\partial_movie_files\\AdditiveFunctions\\</span>                         \n",
       "                             <span style=\"color: #008000; text-decoration-color: #008000\">2201830969_1876330634_3652605924.mp4'</span>                           \n",
       "</pre>\n"
      ],
      "text/plain": [
       "\u001b[2;36m                   \u001b[0m\u001b[2;36m \u001b[0m\u001b[32mINFO    \u001b[0m Animation \u001b[32m12\u001b[0m : Partial movie file       \u001b]8;id=339838;file://C:\\Users\\thoma\\AppData\\Local\\Programs\\Python\\Python39\\lib\\site-packages\\manim\\scene\\scene_file_writer.py\u001b\\\u001b[2mscene_file_writer.py\u001b[0m\u001b]8;;\u001b\\\u001b[2m:\u001b[0m\u001b]8;id=608243;file://C:\\Users\\thoma\\AppData\\Local\\Programs\\Python\\Python39\\lib\\site-packages\\manim\\scene\\scene_file_writer.py#514\u001b\\\u001b[2m514\u001b[0m\u001b]8;;\u001b\\\n",
       "                             written in \u001b[32m'c:\\Users\\thoma\\Desktop\\Apre\u001b[0m                         \n",
       "                             \u001b[32mndizado\\Manim\\media\\videos\\Manim\\480p15\u001b[0m                         \n",
       "                             \u001b[32m\\partial_movie_files\\AdditiveFunctions\\\u001b[0m                         \n",
       "                             \u001b[32m2201830969_1876330634_3652605924.mp4'\u001b[0m                           \n"
      ]
     },
     "metadata": {},
     "output_type": "display_data"
    },
    {
     "name": "stderr",
     "output_type": "stream",
     "text": [
      "                                                                                 \r"
     ]
    },
    {
     "data": {
      "text/html": [
       "<pre style=\"white-space:pre;overflow-x:auto;line-height:normal;font-family:Menlo,'DejaVu Sans Mono',consolas,'Courier New',monospace\"><span style=\"color: #7fbfbf; text-decoration-color: #7fbfbf\">[01/31/22 20:58:47] </span><span style=\"color: #008000; text-decoration-color: #008000\">INFO    </span> Animation <span style=\"color: #008000; text-decoration-color: #008000\">13</span> : Partial movie file       <a href=\"file://C:\\Users\\thoma\\AppData\\Local\\Programs\\Python\\Python39\\lib\\site-packages\\manim\\scene\\scene_file_writer.py\"><span style=\"color: #7f7f7f; text-decoration-color: #7f7f7f\">scene_file_writer.py</span></a><span style=\"color: #7f7f7f; text-decoration-color: #7f7f7f\">:</span><a href=\"file://C:\\Users\\thoma\\AppData\\Local\\Programs\\Python\\Python39\\lib\\site-packages\\manim\\scene\\scene_file_writer.py#514\"><span style=\"color: #7f7f7f; text-decoration-color: #7f7f7f\">514</span></a>\n",
       "                             written in <span style=\"color: #008000; text-decoration-color: #008000\">'c:\\Users\\thoma\\Desktop\\Apre</span>                         \n",
       "                             <span style=\"color: #008000; text-decoration-color: #008000\">ndizado\\Manim\\media\\videos\\Manim\\480p15</span>                         \n",
       "                             <span style=\"color: #008000; text-decoration-color: #008000\">\\partial_movie_files\\AdditiveFunctions\\</span>                         \n",
       "                             <span style=\"color: #008000; text-decoration-color: #008000\">2201830969_3834125750_4077431572.mp4'</span>                           \n",
       "</pre>\n"
      ],
      "text/plain": [
       "\u001b[2;36m[01/31/22 20:58:47]\u001b[0m\u001b[2;36m \u001b[0m\u001b[32mINFO    \u001b[0m Animation \u001b[32m13\u001b[0m : Partial movie file       \u001b]8;id=92789;file://C:\\Users\\thoma\\AppData\\Local\\Programs\\Python\\Python39\\lib\\site-packages\\manim\\scene\\scene_file_writer.py\u001b\\\u001b[2mscene_file_writer.py\u001b[0m\u001b]8;;\u001b\\\u001b[2m:\u001b[0m\u001b]8;id=967015;file://C:\\Users\\thoma\\AppData\\Local\\Programs\\Python\\Python39\\lib\\site-packages\\manim\\scene\\scene_file_writer.py#514\u001b\\\u001b[2m514\u001b[0m\u001b]8;;\u001b\\\n",
       "                             written in \u001b[32m'c:\\Users\\thoma\\Desktop\\Apre\u001b[0m                         \n",
       "                             \u001b[32mndizado\\Manim\\media\\videos\\Manim\\480p15\u001b[0m                         \n",
       "                             \u001b[32m\\partial_movie_files\\AdditiveFunctions\\\u001b[0m                         \n",
       "                             \u001b[32m2201830969_3834125750_4077431572.mp4'\u001b[0m                           \n"
      ]
     },
     "metadata": {},
     "output_type": "display_data"
    },
    {
     "name": "stderr",
     "output_type": "stream",
     "text": [
      "                                                                                 \r"
     ]
    },
    {
     "data": {
      "text/html": [
       "<pre style=\"white-space:pre;overflow-x:auto;line-height:normal;font-family:Menlo,'DejaVu Sans Mono',consolas,'Courier New',monospace\"><span style=\"color: #7fbfbf; text-decoration-color: #7fbfbf\">[01/31/22 20:58:48] </span><span style=\"color: #008000; text-decoration-color: #008000\">INFO    </span> Animation <span style=\"color: #008000; text-decoration-color: #008000\">14</span> : Partial movie file       <a href=\"file://C:\\Users\\thoma\\AppData\\Local\\Programs\\Python\\Python39\\lib\\site-packages\\manim\\scene\\scene_file_writer.py\"><span style=\"color: #7f7f7f; text-decoration-color: #7f7f7f\">scene_file_writer.py</span></a><span style=\"color: #7f7f7f; text-decoration-color: #7f7f7f\">:</span><a href=\"file://C:\\Users\\thoma\\AppData\\Local\\Programs\\Python\\Python39\\lib\\site-packages\\manim\\scene\\scene_file_writer.py#514\"><span style=\"color: #7f7f7f; text-decoration-color: #7f7f7f\">514</span></a>\n",
       "                             written in <span style=\"color: #008000; text-decoration-color: #008000\">'c:\\Users\\thoma\\Desktop\\Apre</span>                         \n",
       "                             <span style=\"color: #008000; text-decoration-color: #008000\">ndizado\\Manim\\media\\videos\\Manim\\480p15</span>                         \n",
       "                             <span style=\"color: #008000; text-decoration-color: #008000\">\\partial_movie_files\\AdditiveFunctions\\</span>                         \n",
       "                             <span style=\"color: #008000; text-decoration-color: #008000\">2201830969_3158970597_2781612860.mp4'</span>                           \n",
       "</pre>\n"
      ],
      "text/plain": [
       "\u001b[2;36m[01/31/22 20:58:48]\u001b[0m\u001b[2;36m \u001b[0m\u001b[32mINFO    \u001b[0m Animation \u001b[32m14\u001b[0m : Partial movie file       \u001b]8;id=448027;file://C:\\Users\\thoma\\AppData\\Local\\Programs\\Python\\Python39\\lib\\site-packages\\manim\\scene\\scene_file_writer.py\u001b\\\u001b[2mscene_file_writer.py\u001b[0m\u001b]8;;\u001b\\\u001b[2m:\u001b[0m\u001b]8;id=407781;file://C:\\Users\\thoma\\AppData\\Local\\Programs\\Python\\Python39\\lib\\site-packages\\manim\\scene\\scene_file_writer.py#514\u001b\\\u001b[2m514\u001b[0m\u001b]8;;\u001b\\\n",
       "                             written in \u001b[32m'c:\\Users\\thoma\\Desktop\\Apre\u001b[0m                         \n",
       "                             \u001b[32mndizado\\Manim\\media\\videos\\Manim\\480p15\u001b[0m                         \n",
       "                             \u001b[32m\\partial_movie_files\\AdditiveFunctions\\\u001b[0m                         \n",
       "                             \u001b[32m2201830969_3158970597_2781612860.mp4'\u001b[0m                           \n"
      ]
     },
     "metadata": {},
     "output_type": "display_data"
    },
    {
     "name": "stderr",
     "output_type": "stream",
     "text": [
      "                                                                                           \r"
     ]
    },
    {
     "data": {
      "text/html": [
       "<pre style=\"white-space:pre;overflow-x:auto;line-height:normal;font-family:Menlo,'DejaVu Sans Mono',consolas,'Courier New',monospace\"><span style=\"color: #7fbfbf; text-decoration-color: #7fbfbf\">[01/31/22 20:58:49] </span><span style=\"color: #008000; text-decoration-color: #008000\">INFO    </span> Animation <span style=\"color: #008000; text-decoration-color: #008000\">15</span> : Partial movie file       <a href=\"file://C:\\Users\\thoma\\AppData\\Local\\Programs\\Python\\Python39\\lib\\site-packages\\manim\\scene\\scene_file_writer.py\"><span style=\"color: #7f7f7f; text-decoration-color: #7f7f7f\">scene_file_writer.py</span></a><span style=\"color: #7f7f7f; text-decoration-color: #7f7f7f\">:</span><a href=\"file://C:\\Users\\thoma\\AppData\\Local\\Programs\\Python\\Python39\\lib\\site-packages\\manim\\scene\\scene_file_writer.py#514\"><span style=\"color: #7f7f7f; text-decoration-color: #7f7f7f\">514</span></a>\n",
       "                             written in <span style=\"color: #008000; text-decoration-color: #008000\">'c:\\Users\\thoma\\Desktop\\Apre</span>                         \n",
       "                             <span style=\"color: #008000; text-decoration-color: #008000\">ndizado\\Manim\\media\\videos\\Manim\\480p15</span>                         \n",
       "                             <span style=\"color: #008000; text-decoration-color: #008000\">\\partial_movie_files\\AdditiveFunctions\\</span>                         \n",
       "                             <span style=\"color: #008000; text-decoration-color: #008000\">2201830969_4139744718_1648150327.mp4'</span>                           \n",
       "</pre>\n"
      ],
      "text/plain": [
       "\u001b[2;36m[01/31/22 20:58:49]\u001b[0m\u001b[2;36m \u001b[0m\u001b[32mINFO    \u001b[0m Animation \u001b[32m15\u001b[0m : Partial movie file       \u001b]8;id=785740;file://C:\\Users\\thoma\\AppData\\Local\\Programs\\Python\\Python39\\lib\\site-packages\\manim\\scene\\scene_file_writer.py\u001b\\\u001b[2mscene_file_writer.py\u001b[0m\u001b]8;;\u001b\\\u001b[2m:\u001b[0m\u001b]8;id=191165;file://C:\\Users\\thoma\\AppData\\Local\\Programs\\Python\\Python39\\lib\\site-packages\\manim\\scene\\scene_file_writer.py#514\u001b\\\u001b[2m514\u001b[0m\u001b]8;;\u001b\\\n",
       "                             written in \u001b[32m'c:\\Users\\thoma\\Desktop\\Apre\u001b[0m                         \n",
       "                             \u001b[32mndizado\\Manim\\media\\videos\\Manim\\480p15\u001b[0m                         \n",
       "                             \u001b[32m\\partial_movie_files\\AdditiveFunctions\\\u001b[0m                         \n",
       "                             \u001b[32m2201830969_4139744718_1648150327.mp4'\u001b[0m                           \n"
      ]
     },
     "metadata": {},
     "output_type": "display_data"
    },
    {
     "name": "stderr",
     "output_type": "stream",
     "text": [
      "                                                                          \r"
     ]
    },
    {
     "data": {
      "text/html": [
       "<pre style=\"white-space:pre;overflow-x:auto;line-height:normal;font-family:Menlo,'DejaVu Sans Mono',consolas,'Courier New',monospace\"><span style=\"color: #7fbfbf; text-decoration-color: #7fbfbf\">[01/31/22 20:58:50] </span><span style=\"color: #008000; text-decoration-color: #008000\">INFO    </span> Animation <span style=\"color: #008000; text-decoration-color: #008000\">16</span> : Partial movie file       <a href=\"file://C:\\Users\\thoma\\AppData\\Local\\Programs\\Python\\Python39\\lib\\site-packages\\manim\\scene\\scene_file_writer.py\"><span style=\"color: #7f7f7f; text-decoration-color: #7f7f7f\">scene_file_writer.py</span></a><span style=\"color: #7f7f7f; text-decoration-color: #7f7f7f\">:</span><a href=\"file://C:\\Users\\thoma\\AppData\\Local\\Programs\\Python\\Python39\\lib\\site-packages\\manim\\scene\\scene_file_writer.py#514\"><span style=\"color: #7f7f7f; text-decoration-color: #7f7f7f\">514</span></a>\n",
       "                             written in <span style=\"color: #008000; text-decoration-color: #008000\">'c:\\Users\\thoma\\Desktop\\Apre</span>                         \n",
       "                             <span style=\"color: #008000; text-decoration-color: #008000\">ndizado\\Manim\\media\\videos\\Manim\\480p15</span>                         \n",
       "                             <span style=\"color: #008000; text-decoration-color: #008000\">\\partial_movie_files\\AdditiveFunctions\\</span>                         \n",
       "                             <span style=\"color: #008000; text-decoration-color: #008000\">2201830969_3755977150_867769947.mp4'</span>                            \n",
       "</pre>\n"
      ],
      "text/plain": [
       "\u001b[2;36m[01/31/22 20:58:50]\u001b[0m\u001b[2;36m \u001b[0m\u001b[32mINFO    \u001b[0m Animation \u001b[32m16\u001b[0m : Partial movie file       \u001b]8;id=766302;file://C:\\Users\\thoma\\AppData\\Local\\Programs\\Python\\Python39\\lib\\site-packages\\manim\\scene\\scene_file_writer.py\u001b\\\u001b[2mscene_file_writer.py\u001b[0m\u001b]8;;\u001b\\\u001b[2m:\u001b[0m\u001b]8;id=836332;file://C:\\Users\\thoma\\AppData\\Local\\Programs\\Python\\Python39\\lib\\site-packages\\manim\\scene\\scene_file_writer.py#514\u001b\\\u001b[2m514\u001b[0m\u001b]8;;\u001b\\\n",
       "                             written in \u001b[32m'c:\\Users\\thoma\\Desktop\\Apre\u001b[0m                         \n",
       "                             \u001b[32mndizado\\Manim\\media\\videos\\Manim\\480p15\u001b[0m                         \n",
       "                             \u001b[32m\\partial_movie_files\\AdditiveFunctions\\\u001b[0m                         \n",
       "                             \u001b[32m2201830969_3755977150_867769947.mp4'\u001b[0m                            \n"
      ]
     },
     "metadata": {},
     "output_type": "display_data"
    },
    {
     "name": "stderr",
     "output_type": "stream",
     "text": [
      "                                                                                \r"
     ]
    },
    {
     "data": {
      "text/html": [
       "<pre style=\"white-space:pre;overflow-x:auto;line-height:normal;font-family:Menlo,'DejaVu Sans Mono',consolas,'Courier New',monospace\"><span style=\"color: #7fbfbf; text-decoration-color: #7fbfbf\">                    </span><span style=\"color: #008000; text-decoration-color: #008000\">INFO    </span> Animation <span style=\"color: #008000; text-decoration-color: #008000\">17</span> : Partial movie file       <a href=\"file://C:\\Users\\thoma\\AppData\\Local\\Programs\\Python\\Python39\\lib\\site-packages\\manim\\scene\\scene_file_writer.py\"><span style=\"color: #7f7f7f; text-decoration-color: #7f7f7f\">scene_file_writer.py</span></a><span style=\"color: #7f7f7f; text-decoration-color: #7f7f7f\">:</span><a href=\"file://C:\\Users\\thoma\\AppData\\Local\\Programs\\Python\\Python39\\lib\\site-packages\\manim\\scene\\scene_file_writer.py#514\"><span style=\"color: #7f7f7f; text-decoration-color: #7f7f7f\">514</span></a>\n",
       "                             written in <span style=\"color: #008000; text-decoration-color: #008000\">'c:\\Users\\thoma\\Desktop\\Apre</span>                         \n",
       "                             <span style=\"color: #008000; text-decoration-color: #008000\">ndizado\\Manim\\media\\videos\\Manim\\480p15</span>                         \n",
       "                             <span style=\"color: #008000; text-decoration-color: #008000\">\\partial_movie_files\\AdditiveFunctions\\</span>                         \n",
       "                             <span style=\"color: #008000; text-decoration-color: #008000\">2201830969_2991337666_92303088.mp4'</span>                             \n",
       "</pre>\n"
      ],
      "text/plain": [
       "\u001b[2;36m                   \u001b[0m\u001b[2;36m \u001b[0m\u001b[32mINFO    \u001b[0m Animation \u001b[32m17\u001b[0m : Partial movie file       \u001b]8;id=422674;file://C:\\Users\\thoma\\AppData\\Local\\Programs\\Python\\Python39\\lib\\site-packages\\manim\\scene\\scene_file_writer.py\u001b\\\u001b[2mscene_file_writer.py\u001b[0m\u001b]8;;\u001b\\\u001b[2m:\u001b[0m\u001b]8;id=107240;file://C:\\Users\\thoma\\AppData\\Local\\Programs\\Python\\Python39\\lib\\site-packages\\manim\\scene\\scene_file_writer.py#514\u001b\\\u001b[2m514\u001b[0m\u001b]8;;\u001b\\\n",
       "                             written in \u001b[32m'c:\\Users\\thoma\\Desktop\\Apre\u001b[0m                         \n",
       "                             \u001b[32mndizado\\Manim\\media\\videos\\Manim\\480p15\u001b[0m                         \n",
       "                             \u001b[32m\\partial_movie_files\\AdditiveFunctions\\\u001b[0m                         \n",
       "                             \u001b[32m2201830969_2991337666_92303088.mp4'\u001b[0m                             \n"
      ]
     },
     "metadata": {},
     "output_type": "display_data"
    },
    {
     "name": "stderr",
     "output_type": "stream",
     "text": [
      "                                                                                \r"
     ]
    },
    {
     "data": {
      "text/html": [
       "<pre style=\"white-space:pre;overflow-x:auto;line-height:normal;font-family:Menlo,'DejaVu Sans Mono',consolas,'Courier New',monospace\"><span style=\"color: #7fbfbf; text-decoration-color: #7fbfbf\">[01/31/22 20:58:51] </span><span style=\"color: #008000; text-decoration-color: #008000\">INFO    </span> Animation <span style=\"color: #008000; text-decoration-color: #008000\">18</span> : Partial movie file       <a href=\"file://C:\\Users\\thoma\\AppData\\Local\\Programs\\Python\\Python39\\lib\\site-packages\\manim\\scene\\scene_file_writer.py\"><span style=\"color: #7f7f7f; text-decoration-color: #7f7f7f\">scene_file_writer.py</span></a><span style=\"color: #7f7f7f; text-decoration-color: #7f7f7f\">:</span><a href=\"file://C:\\Users\\thoma\\AppData\\Local\\Programs\\Python\\Python39\\lib\\site-packages\\manim\\scene\\scene_file_writer.py#514\"><span style=\"color: #7f7f7f; text-decoration-color: #7f7f7f\">514</span></a>\n",
       "                             written in <span style=\"color: #008000; text-decoration-color: #008000\">'c:\\Users\\thoma\\Desktop\\Apre</span>                         \n",
       "                             <span style=\"color: #008000; text-decoration-color: #008000\">ndizado\\Manim\\media\\videos\\Manim\\480p15</span>                         \n",
       "                             <span style=\"color: #008000; text-decoration-color: #008000\">\\partial_movie_files\\AdditiveFunctions\\</span>                         \n",
       "                             <span style=\"color: #008000; text-decoration-color: #008000\">2201830969_1116134214_3808619791.mp4'</span>                           \n",
       "</pre>\n"
      ],
      "text/plain": [
       "\u001b[2;36m[01/31/22 20:58:51]\u001b[0m\u001b[2;36m \u001b[0m\u001b[32mINFO    \u001b[0m Animation \u001b[32m18\u001b[0m : Partial movie file       \u001b]8;id=350539;file://C:\\Users\\thoma\\AppData\\Local\\Programs\\Python\\Python39\\lib\\site-packages\\manim\\scene\\scene_file_writer.py\u001b\\\u001b[2mscene_file_writer.py\u001b[0m\u001b]8;;\u001b\\\u001b[2m:\u001b[0m\u001b]8;id=685697;file://C:\\Users\\thoma\\AppData\\Local\\Programs\\Python\\Python39\\lib\\site-packages\\manim\\scene\\scene_file_writer.py#514\u001b\\\u001b[2m514\u001b[0m\u001b]8;;\u001b\\\n",
       "                             written in \u001b[32m'c:\\Users\\thoma\\Desktop\\Apre\u001b[0m                         \n",
       "                             \u001b[32mndizado\\Manim\\media\\videos\\Manim\\480p15\u001b[0m                         \n",
       "                             \u001b[32m\\partial_movie_files\\AdditiveFunctions\\\u001b[0m                         \n",
       "                             \u001b[32m2201830969_1116134214_3808619791.mp4'\u001b[0m                           \n"
      ]
     },
     "metadata": {},
     "output_type": "display_data"
    },
    {
     "name": "stderr",
     "output_type": "stream",
     "text": [
      "                                                                                           \r"
     ]
    },
    {
     "data": {
      "text/html": [
       "<pre style=\"white-space:pre;overflow-x:auto;line-height:normal;font-family:Menlo,'DejaVu Sans Mono',consolas,'Courier New',monospace\"><span style=\"color: #7fbfbf; text-decoration-color: #7fbfbf\">[01/31/22 20:58:52] </span><span style=\"color: #008000; text-decoration-color: #008000\">INFO    </span> Animation <span style=\"color: #008000; text-decoration-color: #008000\">19</span> : Partial movie file       <a href=\"file://C:\\Users\\thoma\\AppData\\Local\\Programs\\Python\\Python39\\lib\\site-packages\\manim\\scene\\scene_file_writer.py\"><span style=\"color: #7f7f7f; text-decoration-color: #7f7f7f\">scene_file_writer.py</span></a><span style=\"color: #7f7f7f; text-decoration-color: #7f7f7f\">:</span><a href=\"file://C:\\Users\\thoma\\AppData\\Local\\Programs\\Python\\Python39\\lib\\site-packages\\manim\\scene\\scene_file_writer.py#514\"><span style=\"color: #7f7f7f; text-decoration-color: #7f7f7f\">514</span></a>\n",
       "                             written in <span style=\"color: #008000; text-decoration-color: #008000\">'c:\\Users\\thoma\\Desktop\\Apre</span>                         \n",
       "                             <span style=\"color: #008000; text-decoration-color: #008000\">ndizado\\Manim\\media\\videos\\Manim\\480p15</span>                         \n",
       "                             <span style=\"color: #008000; text-decoration-color: #008000\">\\partial_movie_files\\AdditiveFunctions\\</span>                         \n",
       "                             <span style=\"color: #008000; text-decoration-color: #008000\">2201830969_3988707811_2453724099.mp4'</span>                           \n",
       "</pre>\n"
      ],
      "text/plain": [
       "\u001b[2;36m[01/31/22 20:58:52]\u001b[0m\u001b[2;36m \u001b[0m\u001b[32mINFO    \u001b[0m Animation \u001b[32m19\u001b[0m : Partial movie file       \u001b]8;id=844449;file://C:\\Users\\thoma\\AppData\\Local\\Programs\\Python\\Python39\\lib\\site-packages\\manim\\scene\\scene_file_writer.py\u001b\\\u001b[2mscene_file_writer.py\u001b[0m\u001b]8;;\u001b\\\u001b[2m:\u001b[0m\u001b]8;id=395317;file://C:\\Users\\thoma\\AppData\\Local\\Programs\\Python\\Python39\\lib\\site-packages\\manim\\scene\\scene_file_writer.py#514\u001b\\\u001b[2m514\u001b[0m\u001b]8;;\u001b\\\n",
       "                             written in \u001b[32m'c:\\Users\\thoma\\Desktop\\Apre\u001b[0m                         \n",
       "                             \u001b[32mndizado\\Manim\\media\\videos\\Manim\\480p15\u001b[0m                         \n",
       "                             \u001b[32m\\partial_movie_files\\AdditiveFunctions\\\u001b[0m                         \n",
       "                             \u001b[32m2201830969_3988707811_2453724099.mp4'\u001b[0m                           \n"
      ]
     },
     "metadata": {},
     "output_type": "display_data"
    },
    {
     "name": "stderr",
     "output_type": "stream",
     "text": [
      "                                                                          \r"
     ]
    },
    {
     "data": {
      "text/html": [
       "<pre style=\"white-space:pre;overflow-x:auto;line-height:normal;font-family:Menlo,'DejaVu Sans Mono',consolas,'Courier New',monospace\"><span style=\"color: #7fbfbf; text-decoration-color: #7fbfbf\">[01/31/22 20:58:53] </span><span style=\"color: #008000; text-decoration-color: #008000\">INFO    </span> Animation <span style=\"color: #008000; text-decoration-color: #008000\">20</span> : Partial movie file       <a href=\"file://C:\\Users\\thoma\\AppData\\Local\\Programs\\Python\\Python39\\lib\\site-packages\\manim\\scene\\scene_file_writer.py\"><span style=\"color: #7f7f7f; text-decoration-color: #7f7f7f\">scene_file_writer.py</span></a><span style=\"color: #7f7f7f; text-decoration-color: #7f7f7f\">:</span><a href=\"file://C:\\Users\\thoma\\AppData\\Local\\Programs\\Python\\Python39\\lib\\site-packages\\manim\\scene\\scene_file_writer.py#514\"><span style=\"color: #7f7f7f; text-decoration-color: #7f7f7f\">514</span></a>\n",
       "                             written in <span style=\"color: #008000; text-decoration-color: #008000\">'c:\\Users\\thoma\\Desktop\\Apre</span>                         \n",
       "                             <span style=\"color: #008000; text-decoration-color: #008000\">ndizado\\Manim\\media\\videos\\Manim\\480p15</span>                         \n",
       "                             <span style=\"color: #008000; text-decoration-color: #008000\">\\partial_movie_files\\AdditiveFunctions\\</span>                         \n",
       "                             <span style=\"color: #008000; text-decoration-color: #008000\">2201830969_2163305056_4198127339.mp4'</span>                           \n",
       "</pre>\n"
      ],
      "text/plain": [
       "\u001b[2;36m[01/31/22 20:58:53]\u001b[0m\u001b[2;36m \u001b[0m\u001b[32mINFO    \u001b[0m Animation \u001b[32m20\u001b[0m : Partial movie file       \u001b]8;id=806095;file://C:\\Users\\thoma\\AppData\\Local\\Programs\\Python\\Python39\\lib\\site-packages\\manim\\scene\\scene_file_writer.py\u001b\\\u001b[2mscene_file_writer.py\u001b[0m\u001b]8;;\u001b\\\u001b[2m:\u001b[0m\u001b]8;id=349860;file://C:\\Users\\thoma\\AppData\\Local\\Programs\\Python\\Python39\\lib\\site-packages\\manim\\scene\\scene_file_writer.py#514\u001b\\\u001b[2m514\u001b[0m\u001b]8;;\u001b\\\n",
       "                             written in \u001b[32m'c:\\Users\\thoma\\Desktop\\Apre\u001b[0m                         \n",
       "                             \u001b[32mndizado\\Manim\\media\\videos\\Manim\\480p15\u001b[0m                         \n",
       "                             \u001b[32m\\partial_movie_files\\AdditiveFunctions\\\u001b[0m                         \n",
       "                             \u001b[32m2201830969_2163305056_4198127339.mp4'\u001b[0m                           \n"
      ]
     },
     "metadata": {},
     "output_type": "display_data"
    },
    {
     "name": "stderr",
     "output_type": "stream",
     "text": [
      "                                                                                 \r"
     ]
    },
    {
     "data": {
      "text/html": [
       "<pre style=\"white-space:pre;overflow-x:auto;line-height:normal;font-family:Menlo,'DejaVu Sans Mono',consolas,'Courier New',monospace\"><span style=\"color: #7fbfbf; text-decoration-color: #7fbfbf\">[01/31/22 20:58:54] </span><span style=\"color: #008000; text-decoration-color: #008000\">INFO    </span> Animation <span style=\"color: #008000; text-decoration-color: #008000\">21</span> : Partial movie file       <a href=\"file://C:\\Users\\thoma\\AppData\\Local\\Programs\\Python\\Python39\\lib\\site-packages\\manim\\scene\\scene_file_writer.py\"><span style=\"color: #7f7f7f; text-decoration-color: #7f7f7f\">scene_file_writer.py</span></a><span style=\"color: #7f7f7f; text-decoration-color: #7f7f7f\">:</span><a href=\"file://C:\\Users\\thoma\\AppData\\Local\\Programs\\Python\\Python39\\lib\\site-packages\\manim\\scene\\scene_file_writer.py#514\"><span style=\"color: #7f7f7f; text-decoration-color: #7f7f7f\">514</span></a>\n",
       "                             written in <span style=\"color: #008000; text-decoration-color: #008000\">'c:\\Users\\thoma\\Desktop\\Apre</span>                         \n",
       "                             <span style=\"color: #008000; text-decoration-color: #008000\">ndizado\\Manim\\media\\videos\\Manim\\480p15</span>                         \n",
       "                             <span style=\"color: #008000; text-decoration-color: #008000\">\\partial_movie_files\\AdditiveFunctions\\</span>                         \n",
       "                             <span style=\"color: #008000; text-decoration-color: #008000\">2201830969_1367991666_794577920.mp4'</span>                            \n",
       "</pre>\n"
      ],
      "text/plain": [
       "\u001b[2;36m[01/31/22 20:58:54]\u001b[0m\u001b[2;36m \u001b[0m\u001b[32mINFO    \u001b[0m Animation \u001b[32m21\u001b[0m : Partial movie file       \u001b]8;id=803080;file://C:\\Users\\thoma\\AppData\\Local\\Programs\\Python\\Python39\\lib\\site-packages\\manim\\scene\\scene_file_writer.py\u001b\\\u001b[2mscene_file_writer.py\u001b[0m\u001b]8;;\u001b\\\u001b[2m:\u001b[0m\u001b]8;id=322441;file://C:\\Users\\thoma\\AppData\\Local\\Programs\\Python\\Python39\\lib\\site-packages\\manim\\scene\\scene_file_writer.py#514\u001b\\\u001b[2m514\u001b[0m\u001b]8;;\u001b\\\n",
       "                             written in \u001b[32m'c:\\Users\\thoma\\Desktop\\Apre\u001b[0m                         \n",
       "                             \u001b[32mndizado\\Manim\\media\\videos\\Manim\\480p15\u001b[0m                         \n",
       "                             \u001b[32m\\partial_movie_files\\AdditiveFunctions\\\u001b[0m                         \n",
       "                             \u001b[32m2201830969_1367991666_794577920.mp4'\u001b[0m                            \n"
      ]
     },
     "metadata": {},
     "output_type": "display_data"
    },
    {
     "name": "stderr",
     "output_type": "stream",
     "text": [
      "                                                                                 \r"
     ]
    },
    {
     "data": {
      "text/html": [
       "<pre style=\"white-space:pre;overflow-x:auto;line-height:normal;font-family:Menlo,'DejaVu Sans Mono',consolas,'Courier New',monospace\"><span style=\"color: #7fbfbf; text-decoration-color: #7fbfbf\">[01/31/22 20:58:55] </span><span style=\"color: #008000; text-decoration-color: #008000\">INFO    </span> Animation <span style=\"color: #008000; text-decoration-color: #008000\">22</span> : Partial movie file       <a href=\"file://C:\\Users\\thoma\\AppData\\Local\\Programs\\Python\\Python39\\lib\\site-packages\\manim\\scene\\scene_file_writer.py\"><span style=\"color: #7f7f7f; text-decoration-color: #7f7f7f\">scene_file_writer.py</span></a><span style=\"color: #7f7f7f; text-decoration-color: #7f7f7f\">:</span><a href=\"file://C:\\Users\\thoma\\AppData\\Local\\Programs\\Python\\Python39\\lib\\site-packages\\manim\\scene\\scene_file_writer.py#514\"><span style=\"color: #7f7f7f; text-decoration-color: #7f7f7f\">514</span></a>\n",
       "                             written in <span style=\"color: #008000; text-decoration-color: #008000\">'c:\\Users\\thoma\\Desktop\\Apre</span>                         \n",
       "                             <span style=\"color: #008000; text-decoration-color: #008000\">ndizado\\Manim\\media\\videos\\Manim\\480p15</span>                         \n",
       "                             <span style=\"color: #008000; text-decoration-color: #008000\">\\partial_movie_files\\AdditiveFunctions\\</span>                         \n",
       "                             <span style=\"color: #008000; text-decoration-color: #008000\">1495979052_522847710_2412491660.mp4'</span>                            \n",
       "</pre>\n"
      ],
      "text/plain": [
       "\u001b[2;36m[01/31/22 20:58:55]\u001b[0m\u001b[2;36m \u001b[0m\u001b[32mINFO    \u001b[0m Animation \u001b[32m22\u001b[0m : Partial movie file       \u001b]8;id=423587;file://C:\\Users\\thoma\\AppData\\Local\\Programs\\Python\\Python39\\lib\\site-packages\\manim\\scene\\scene_file_writer.py\u001b\\\u001b[2mscene_file_writer.py\u001b[0m\u001b]8;;\u001b\\\u001b[2m:\u001b[0m\u001b]8;id=49877;file://C:\\Users\\thoma\\AppData\\Local\\Programs\\Python\\Python39\\lib\\site-packages\\manim\\scene\\scene_file_writer.py#514\u001b\\\u001b[2m514\u001b[0m\u001b]8;;\u001b\\\n",
       "                             written in \u001b[32m'c:\\Users\\thoma\\Desktop\\Apre\u001b[0m                         \n",
       "                             \u001b[32mndizado\\Manim\\media\\videos\\Manim\\480p15\u001b[0m                         \n",
       "                             \u001b[32m\\partial_movie_files\\AdditiveFunctions\\\u001b[0m                         \n",
       "                             \u001b[32m1495979052_522847710_2412491660.mp4'\u001b[0m                            \n"
      ]
     },
     "metadata": {},
     "output_type": "display_data"
    },
    {
     "name": "stderr",
     "output_type": "stream",
     "text": [
      "                                                                                           \r"
     ]
    },
    {
     "data": {
      "text/html": [
       "<pre style=\"white-space:pre;overflow-x:auto;line-height:normal;font-family:Menlo,'DejaVu Sans Mono',consolas,'Courier New',monospace\"><span style=\"color: #7fbfbf; text-decoration-color: #7fbfbf\">[01/31/22 20:58:56] </span><span style=\"color: #008000; text-decoration-color: #008000\">INFO    </span> Animation <span style=\"color: #008000; text-decoration-color: #008000\">23</span> : Partial movie file       <a href=\"file://C:\\Users\\thoma\\AppData\\Local\\Programs\\Python\\Python39\\lib\\site-packages\\manim\\scene\\scene_file_writer.py\"><span style=\"color: #7f7f7f; text-decoration-color: #7f7f7f\">scene_file_writer.py</span></a><span style=\"color: #7f7f7f; text-decoration-color: #7f7f7f\">:</span><a href=\"file://C:\\Users\\thoma\\AppData\\Local\\Programs\\Python\\Python39\\lib\\site-packages\\manim\\scene\\scene_file_writer.py#514\"><span style=\"color: #7f7f7f; text-decoration-color: #7f7f7f\">514</span></a>\n",
       "                             written in <span style=\"color: #008000; text-decoration-color: #008000\">'c:\\Users\\thoma\\Desktop\\Apre</span>                         \n",
       "                             <span style=\"color: #008000; text-decoration-color: #008000\">ndizado\\Manim\\media\\videos\\Manim\\480p15</span>                         \n",
       "                             <span style=\"color: #008000; text-decoration-color: #008000\">\\partial_movie_files\\AdditiveFunctions\\</span>                         \n",
       "                             <span style=\"color: #008000; text-decoration-color: #008000\">2201830969_1772967918_4175737658.mp4'</span>                           \n",
       "</pre>\n"
      ],
      "text/plain": [
       "\u001b[2;36m[01/31/22 20:58:56]\u001b[0m\u001b[2;36m \u001b[0m\u001b[32mINFO    \u001b[0m Animation \u001b[32m23\u001b[0m : Partial movie file       \u001b]8;id=406784;file://C:\\Users\\thoma\\AppData\\Local\\Programs\\Python\\Python39\\lib\\site-packages\\manim\\scene\\scene_file_writer.py\u001b\\\u001b[2mscene_file_writer.py\u001b[0m\u001b]8;;\u001b\\\u001b[2m:\u001b[0m\u001b]8;id=91651;file://C:\\Users\\thoma\\AppData\\Local\\Programs\\Python\\Python39\\lib\\site-packages\\manim\\scene\\scene_file_writer.py#514\u001b\\\u001b[2m514\u001b[0m\u001b]8;;\u001b\\\n",
       "                             written in \u001b[32m'c:\\Users\\thoma\\Desktop\\Apre\u001b[0m                         \n",
       "                             \u001b[32mndizado\\Manim\\media\\videos\\Manim\\480p15\u001b[0m                         \n",
       "                             \u001b[32m\\partial_movie_files\\AdditiveFunctions\\\u001b[0m                         \n",
       "                             \u001b[32m2201830969_1772967918_4175737658.mp4'\u001b[0m                           \n"
      ]
     },
     "metadata": {},
     "output_type": "display_data"
    },
    {
     "name": "stderr",
     "output_type": "stream",
     "text": [
      "                                                                           \r"
     ]
    },
    {
     "data": {
      "text/html": [
       "<pre style=\"white-space:pre;overflow-x:auto;line-height:normal;font-family:Menlo,'DejaVu Sans Mono',consolas,'Courier New',monospace\"><span style=\"color: #7fbfbf; text-decoration-color: #7fbfbf\">[01/31/22 20:58:57] </span><span style=\"color: #008000; text-decoration-color: #008000\">INFO    </span> Animation <span style=\"color: #008000; text-decoration-color: #008000\">24</span> : Partial movie file       <a href=\"file://C:\\Users\\thoma\\AppData\\Local\\Programs\\Python\\Python39\\lib\\site-packages\\manim\\scene\\scene_file_writer.py\"><span style=\"color: #7f7f7f; text-decoration-color: #7f7f7f\">scene_file_writer.py</span></a><span style=\"color: #7f7f7f; text-decoration-color: #7f7f7f\">:</span><a href=\"file://C:\\Users\\thoma\\AppData\\Local\\Programs\\Python\\Python39\\lib\\site-packages\\manim\\scene\\scene_file_writer.py#514\"><span style=\"color: #7f7f7f; text-decoration-color: #7f7f7f\">514</span></a>\n",
       "                             written in <span style=\"color: #008000; text-decoration-color: #008000\">'c:\\Users\\thoma\\Desktop\\Apre</span>                         \n",
       "                             <span style=\"color: #008000; text-decoration-color: #008000\">ndizado\\Manim\\media\\videos\\Manim\\480p15</span>                         \n",
       "                             <span style=\"color: #008000; text-decoration-color: #008000\">\\partial_movie_files\\AdditiveFunctions\\</span>                         \n",
       "                             <span style=\"color: #008000; text-decoration-color: #008000\">2201830969_4267677780_3158208764.mp4'</span>                           \n",
       "</pre>\n"
      ],
      "text/plain": [
       "\u001b[2;36m[01/31/22 20:58:57]\u001b[0m\u001b[2;36m \u001b[0m\u001b[32mINFO    \u001b[0m Animation \u001b[32m24\u001b[0m : Partial movie file       \u001b]8;id=320444;file://C:\\Users\\thoma\\AppData\\Local\\Programs\\Python\\Python39\\lib\\site-packages\\manim\\scene\\scene_file_writer.py\u001b\\\u001b[2mscene_file_writer.py\u001b[0m\u001b]8;;\u001b\\\u001b[2m:\u001b[0m\u001b]8;id=537044;file://C:\\Users\\thoma\\AppData\\Local\\Programs\\Python\\Python39\\lib\\site-packages\\manim\\scene\\scene_file_writer.py#514\u001b\\\u001b[2m514\u001b[0m\u001b]8;;\u001b\\\n",
       "                             written in \u001b[32m'c:\\Users\\thoma\\Desktop\\Apre\u001b[0m                         \n",
       "                             \u001b[32mndizado\\Manim\\media\\videos\\Manim\\480p15\u001b[0m                         \n",
       "                             \u001b[32m\\partial_movie_files\\AdditiveFunctions\\\u001b[0m                         \n",
       "                             \u001b[32m2201830969_4267677780_3158208764.mp4'\u001b[0m                           \n"
      ]
     },
     "metadata": {},
     "output_type": "display_data"
    },
    {
     "name": "stderr",
     "output_type": "stream",
     "text": [
      "                                                                                 \r"
     ]
    },
    {
     "data": {
      "text/html": [
       "<pre style=\"white-space:pre;overflow-x:auto;line-height:normal;font-family:Menlo,'DejaVu Sans Mono',consolas,'Courier New',monospace\"><span style=\"color: #7fbfbf; text-decoration-color: #7fbfbf\">[01/31/22 20:58:58] </span><span style=\"color: #008000; text-decoration-color: #008000\">INFO    </span> Animation <span style=\"color: #008000; text-decoration-color: #008000\">25</span> : Partial movie file       <a href=\"file://C:\\Users\\thoma\\AppData\\Local\\Programs\\Python\\Python39\\lib\\site-packages\\manim\\scene\\scene_file_writer.py\"><span style=\"color: #7f7f7f; text-decoration-color: #7f7f7f\">scene_file_writer.py</span></a><span style=\"color: #7f7f7f; text-decoration-color: #7f7f7f\">:</span><a href=\"file://C:\\Users\\thoma\\AppData\\Local\\Programs\\Python\\Python39\\lib\\site-packages\\manim\\scene\\scene_file_writer.py#514\"><span style=\"color: #7f7f7f; text-decoration-color: #7f7f7f\">514</span></a>\n",
       "                             written in <span style=\"color: #008000; text-decoration-color: #008000\">'c:\\Users\\thoma\\Desktop\\Apre</span>                         \n",
       "                             <span style=\"color: #008000; text-decoration-color: #008000\">ndizado\\Manim\\media\\videos\\Manim\\480p15</span>                         \n",
       "                             <span style=\"color: #008000; text-decoration-color: #008000\">\\partial_movie_files\\AdditiveFunctions\\</span>                         \n",
       "                             <span style=\"color: #008000; text-decoration-color: #008000\">2201830969_1998495783_674927082.mp4'</span>                            \n",
       "</pre>\n"
      ],
      "text/plain": [
       "\u001b[2;36m[01/31/22 20:58:58]\u001b[0m\u001b[2;36m \u001b[0m\u001b[32mINFO    \u001b[0m Animation \u001b[32m25\u001b[0m : Partial movie file       \u001b]8;id=941606;file://C:\\Users\\thoma\\AppData\\Local\\Programs\\Python\\Python39\\lib\\site-packages\\manim\\scene\\scene_file_writer.py\u001b\\\u001b[2mscene_file_writer.py\u001b[0m\u001b]8;;\u001b\\\u001b[2m:\u001b[0m\u001b]8;id=152925;file://C:\\Users\\thoma\\AppData\\Local\\Programs\\Python\\Python39\\lib\\site-packages\\manim\\scene\\scene_file_writer.py#514\u001b\\\u001b[2m514\u001b[0m\u001b]8;;\u001b\\\n",
       "                             written in \u001b[32m'c:\\Users\\thoma\\Desktop\\Apre\u001b[0m                         \n",
       "                             \u001b[32mndizado\\Manim\\media\\videos\\Manim\\480p15\u001b[0m                         \n",
       "                             \u001b[32m\\partial_movie_files\\AdditiveFunctions\\\u001b[0m                         \n",
       "                             \u001b[32m2201830969_1998495783_674927082.mp4'\u001b[0m                            \n"
      ]
     },
     "metadata": {},
     "output_type": "display_data"
    },
    {
     "name": "stderr",
     "output_type": "stream",
     "text": [
      "                                                                                 \r"
     ]
    },
    {
     "data": {
      "text/html": [
       "<pre style=\"white-space:pre;overflow-x:auto;line-height:normal;font-family:Menlo,'DejaVu Sans Mono',consolas,'Courier New',monospace\"><span style=\"color: #7fbfbf; text-decoration-color: #7fbfbf\">[01/31/22 20:58:59] </span><span style=\"color: #008000; text-decoration-color: #008000\">INFO    </span> Animation <span style=\"color: #008000; text-decoration-color: #008000\">26</span> : Partial movie file       <a href=\"file://C:\\Users\\thoma\\AppData\\Local\\Programs\\Python\\Python39\\lib\\site-packages\\manim\\scene\\scene_file_writer.py\"><span style=\"color: #7f7f7f; text-decoration-color: #7f7f7f\">scene_file_writer.py</span></a><span style=\"color: #7f7f7f; text-decoration-color: #7f7f7f\">:</span><a href=\"file://C:\\Users\\thoma\\AppData\\Local\\Programs\\Python\\Python39\\lib\\site-packages\\manim\\scene\\scene_file_writer.py#514\"><span style=\"color: #7f7f7f; text-decoration-color: #7f7f7f\">514</span></a>\n",
       "                             written in <span style=\"color: #008000; text-decoration-color: #008000\">'c:\\Users\\thoma\\Desktop\\Apre</span>                         \n",
       "                             <span style=\"color: #008000; text-decoration-color: #008000\">ndizado\\Manim\\media\\videos\\Manim\\480p15</span>                         \n",
       "                             <span style=\"color: #008000; text-decoration-color: #008000\">\\partial_movie_files\\AdditiveFunctions\\</span>                         \n",
       "                             <span style=\"color: #008000; text-decoration-color: #008000\">2201830969_3801594654_1269015131.mp4'</span>                           \n",
       "</pre>\n"
      ],
      "text/plain": [
       "\u001b[2;36m[01/31/22 20:58:59]\u001b[0m\u001b[2;36m \u001b[0m\u001b[32mINFO    \u001b[0m Animation \u001b[32m26\u001b[0m : Partial movie file       \u001b]8;id=618995;file://C:\\Users\\thoma\\AppData\\Local\\Programs\\Python\\Python39\\lib\\site-packages\\manim\\scene\\scene_file_writer.py\u001b\\\u001b[2mscene_file_writer.py\u001b[0m\u001b]8;;\u001b\\\u001b[2m:\u001b[0m\u001b]8;id=361735;file://C:\\Users\\thoma\\AppData\\Local\\Programs\\Python\\Python39\\lib\\site-packages\\manim\\scene\\scene_file_writer.py#514\u001b\\\u001b[2m514\u001b[0m\u001b]8;;\u001b\\\n",
       "                             written in \u001b[32m'c:\\Users\\thoma\\Desktop\\Apre\u001b[0m                         \n",
       "                             \u001b[32mndizado\\Manim\\media\\videos\\Manim\\480p15\u001b[0m                         \n",
       "                             \u001b[32m\\partial_movie_files\\AdditiveFunctions\\\u001b[0m                         \n",
       "                             \u001b[32m2201830969_3801594654_1269015131.mp4'\u001b[0m                           \n"
      ]
     },
     "metadata": {},
     "output_type": "display_data"
    },
    {
     "name": "stderr",
     "output_type": "stream",
     "text": [
      "                                                                                           \r"
     ]
    },
    {
     "data": {
      "text/html": [
       "<pre style=\"white-space:pre;overflow-x:auto;line-height:normal;font-family:Menlo,'DejaVu Sans Mono',consolas,'Courier New',monospace\"><span style=\"color: #7fbfbf; text-decoration-color: #7fbfbf\">[01/31/22 20:59:00] </span><span style=\"color: #008000; text-decoration-color: #008000\">INFO    </span> Animation <span style=\"color: #008000; text-decoration-color: #008000\">27</span> : Partial movie file       <a href=\"file://C:\\Users\\thoma\\AppData\\Local\\Programs\\Python\\Python39\\lib\\site-packages\\manim\\scene\\scene_file_writer.py\"><span style=\"color: #7f7f7f; text-decoration-color: #7f7f7f\">scene_file_writer.py</span></a><span style=\"color: #7f7f7f; text-decoration-color: #7f7f7f\">:</span><a href=\"file://C:\\Users\\thoma\\AppData\\Local\\Programs\\Python\\Python39\\lib\\site-packages\\manim\\scene\\scene_file_writer.py#514\"><span style=\"color: #7f7f7f; text-decoration-color: #7f7f7f\">514</span></a>\n",
       "                             written in <span style=\"color: #008000; text-decoration-color: #008000\">'c:\\Users\\thoma\\Desktop\\Apre</span>                         \n",
       "                             <span style=\"color: #008000; text-decoration-color: #008000\">ndizado\\Manim\\media\\videos\\Manim\\480p15</span>                         \n",
       "                             <span style=\"color: #008000; text-decoration-color: #008000\">\\partial_movie_files\\AdditiveFunctions\\</span>                         \n",
       "                             <span style=\"color: #008000; text-decoration-color: #008000\">2201830969_1036944952_3925859600.mp4'</span>                           \n",
       "</pre>\n"
      ],
      "text/plain": [
       "\u001b[2;36m[01/31/22 20:59:00]\u001b[0m\u001b[2;36m \u001b[0m\u001b[32mINFO    \u001b[0m Animation \u001b[32m27\u001b[0m : Partial movie file       \u001b]8;id=149828;file://C:\\Users\\thoma\\AppData\\Local\\Programs\\Python\\Python39\\lib\\site-packages\\manim\\scene\\scene_file_writer.py\u001b\\\u001b[2mscene_file_writer.py\u001b[0m\u001b]8;;\u001b\\\u001b[2m:\u001b[0m\u001b]8;id=786055;file://C:\\Users\\thoma\\AppData\\Local\\Programs\\Python\\Python39\\lib\\site-packages\\manim\\scene\\scene_file_writer.py#514\u001b\\\u001b[2m514\u001b[0m\u001b]8;;\u001b\\\n",
       "                             written in \u001b[32m'c:\\Users\\thoma\\Desktop\\Apre\u001b[0m                         \n",
       "                             \u001b[32mndizado\\Manim\\media\\videos\\Manim\\480p15\u001b[0m                         \n",
       "                             \u001b[32m\\partial_movie_files\\AdditiveFunctions\\\u001b[0m                         \n",
       "                             \u001b[32m2201830969_1036944952_3925859600.mp4'\u001b[0m                           \n"
      ]
     },
     "metadata": {},
     "output_type": "display_data"
    },
    {
     "name": "stderr",
     "output_type": "stream",
     "text": [
      "                                                                          \r"
     ]
    },
    {
     "data": {
      "text/html": [
       "<pre style=\"white-space:pre;overflow-x:auto;line-height:normal;font-family:Menlo,'DejaVu Sans Mono',consolas,'Courier New',monospace\"><span style=\"color: #7fbfbf; text-decoration-color: #7fbfbf\">[01/31/22 20:59:02] </span><span style=\"color: #008000; text-decoration-color: #008000\">INFO    </span> Animation <span style=\"color: #008000; text-decoration-color: #008000\">28</span> : Partial movie file       <a href=\"file://C:\\Users\\thoma\\AppData\\Local\\Programs\\Python\\Python39\\lib\\site-packages\\manim\\scene\\scene_file_writer.py\"><span style=\"color: #7f7f7f; text-decoration-color: #7f7f7f\">scene_file_writer.py</span></a><span style=\"color: #7f7f7f; text-decoration-color: #7f7f7f\">:</span><a href=\"file://C:\\Users\\thoma\\AppData\\Local\\Programs\\Python\\Python39\\lib\\site-packages\\manim\\scene\\scene_file_writer.py#514\"><span style=\"color: #7f7f7f; text-decoration-color: #7f7f7f\">514</span></a>\n",
       "                             written in <span style=\"color: #008000; text-decoration-color: #008000\">'c:\\Users\\thoma\\Desktop\\Apre</span>                         \n",
       "                             <span style=\"color: #008000; text-decoration-color: #008000\">ndizado\\Manim\\media\\videos\\Manim\\480p15</span>                         \n",
       "                             <span style=\"color: #008000; text-decoration-color: #008000\">\\partial_movie_files\\AdditiveFunctions\\</span>                         \n",
       "                             <span style=\"color: #008000; text-decoration-color: #008000\">2201830969_1223005619_4276823586.mp4'</span>                           \n",
       "</pre>\n"
      ],
      "text/plain": [
       "\u001b[2;36m[01/31/22 20:59:02]\u001b[0m\u001b[2;36m \u001b[0m\u001b[32mINFO    \u001b[0m Animation \u001b[32m28\u001b[0m : Partial movie file       \u001b]8;id=155851;file://C:\\Users\\thoma\\AppData\\Local\\Programs\\Python\\Python39\\lib\\site-packages\\manim\\scene\\scene_file_writer.py\u001b\\\u001b[2mscene_file_writer.py\u001b[0m\u001b]8;;\u001b\\\u001b[2m:\u001b[0m\u001b]8;id=757483;file://C:\\Users\\thoma\\AppData\\Local\\Programs\\Python\\Python39\\lib\\site-packages\\manim\\scene\\scene_file_writer.py#514\u001b\\\u001b[2m514\u001b[0m\u001b]8;;\u001b\\\n",
       "                             written in \u001b[32m'c:\\Users\\thoma\\Desktop\\Apre\u001b[0m                         \n",
       "                             \u001b[32mndizado\\Manim\\media\\videos\\Manim\\480p15\u001b[0m                         \n",
       "                             \u001b[32m\\partial_movie_files\\AdditiveFunctions\\\u001b[0m                         \n",
       "                             \u001b[32m2201830969_1223005619_4276823586.mp4'\u001b[0m                           \n"
      ]
     },
     "metadata": {},
     "output_type": "display_data"
    },
    {
     "name": "stderr",
     "output_type": "stream",
     "text": [
      "                                                                                 \r"
     ]
    },
    {
     "data": {
      "text/html": [
       "<pre style=\"white-space:pre;overflow-x:auto;line-height:normal;font-family:Menlo,'DejaVu Sans Mono',consolas,'Courier New',monospace\"><span style=\"color: #7fbfbf; text-decoration-color: #7fbfbf\">[01/31/22 20:59:03] </span><span style=\"color: #008000; text-decoration-color: #008000\">INFO    </span> Animation <span style=\"color: #008000; text-decoration-color: #008000\">29</span> : Partial movie file       <a href=\"file://C:\\Users\\thoma\\AppData\\Local\\Programs\\Python\\Python39\\lib\\site-packages\\manim\\scene\\scene_file_writer.py\"><span style=\"color: #7f7f7f; text-decoration-color: #7f7f7f\">scene_file_writer.py</span></a><span style=\"color: #7f7f7f; text-decoration-color: #7f7f7f\">:</span><a href=\"file://C:\\Users\\thoma\\AppData\\Local\\Programs\\Python\\Python39\\lib\\site-packages\\manim\\scene\\scene_file_writer.py#514\"><span style=\"color: #7f7f7f; text-decoration-color: #7f7f7f\">514</span></a>\n",
       "                             written in <span style=\"color: #008000; text-decoration-color: #008000\">'c:\\Users\\thoma\\Desktop\\Apre</span>                         \n",
       "                             <span style=\"color: #008000; text-decoration-color: #008000\">ndizado\\Manim\\media\\videos\\Manim\\480p15</span>                         \n",
       "                             <span style=\"color: #008000; text-decoration-color: #008000\">\\partial_movie_files\\AdditiveFunctions\\</span>                         \n",
       "                             <span style=\"color: #008000; text-decoration-color: #008000\">2201830969_4029219157_3856379154.mp4'</span>                           \n",
       "</pre>\n"
      ],
      "text/plain": [
       "\u001b[2;36m[01/31/22 20:59:03]\u001b[0m\u001b[2;36m \u001b[0m\u001b[32mINFO    \u001b[0m Animation \u001b[32m29\u001b[0m : Partial movie file       \u001b]8;id=966608;file://C:\\Users\\thoma\\AppData\\Local\\Programs\\Python\\Python39\\lib\\site-packages\\manim\\scene\\scene_file_writer.py\u001b\\\u001b[2mscene_file_writer.py\u001b[0m\u001b]8;;\u001b\\\u001b[2m:\u001b[0m\u001b]8;id=798006;file://C:\\Users\\thoma\\AppData\\Local\\Programs\\Python\\Python39\\lib\\site-packages\\manim\\scene\\scene_file_writer.py#514\u001b\\\u001b[2m514\u001b[0m\u001b]8;;\u001b\\\n",
       "                             written in \u001b[32m'c:\\Users\\thoma\\Desktop\\Apre\u001b[0m                         \n",
       "                             \u001b[32mndizado\\Manim\\media\\videos\\Manim\\480p15\u001b[0m                         \n",
       "                             \u001b[32m\\partial_movie_files\\AdditiveFunctions\\\u001b[0m                         \n",
       "                             \u001b[32m2201830969_4029219157_3856379154.mp4'\u001b[0m                           \n"
      ]
     },
     "metadata": {},
     "output_type": "display_data"
    },
    {
     "name": "stderr",
     "output_type": "stream",
     "text": [
      "                                                                                \r"
     ]
    },
    {
     "data": {
      "text/html": [
       "<pre style=\"white-space:pre;overflow-x:auto;line-height:normal;font-family:Menlo,'DejaVu Sans Mono',consolas,'Courier New',monospace\"><span style=\"color: #7fbfbf; text-decoration-color: #7fbfbf\">                    </span><span style=\"color: #008000; text-decoration-color: #008000\">INFO    </span> Animation <span style=\"color: #008000; text-decoration-color: #008000\">30</span> : Partial movie file       <a href=\"file://C:\\Users\\thoma\\AppData\\Local\\Programs\\Python\\Python39\\lib\\site-packages\\manim\\scene\\scene_file_writer.py\"><span style=\"color: #7f7f7f; text-decoration-color: #7f7f7f\">scene_file_writer.py</span></a><span style=\"color: #7f7f7f; text-decoration-color: #7f7f7f\">:</span><a href=\"file://C:\\Users\\thoma\\AppData\\Local\\Programs\\Python\\Python39\\lib\\site-packages\\manim\\scene\\scene_file_writer.py#514\"><span style=\"color: #7f7f7f; text-decoration-color: #7f7f7f\">514</span></a>\n",
       "                             written in <span style=\"color: #008000; text-decoration-color: #008000\">'c:\\Users\\thoma\\Desktop\\Apre</span>                         \n",
       "                             <span style=\"color: #008000; text-decoration-color: #008000\">ndizado\\Manim\\media\\videos\\Manim\\480p15</span>                         \n",
       "                             <span style=\"color: #008000; text-decoration-color: #008000\">\\partial_movie_files\\AdditiveFunctions\\</span>                         \n",
       "                             <span style=\"color: #008000; text-decoration-color: #008000\">2201830969_3262687313_3957348910.mp4'</span>                           \n",
       "</pre>\n"
      ],
      "text/plain": [
       "\u001b[2;36m                   \u001b[0m\u001b[2;36m \u001b[0m\u001b[32mINFO    \u001b[0m Animation \u001b[32m30\u001b[0m : Partial movie file       \u001b]8;id=412545;file://C:\\Users\\thoma\\AppData\\Local\\Programs\\Python\\Python39\\lib\\site-packages\\manim\\scene\\scene_file_writer.py\u001b\\\u001b[2mscene_file_writer.py\u001b[0m\u001b]8;;\u001b\\\u001b[2m:\u001b[0m\u001b]8;id=80547;file://C:\\Users\\thoma\\AppData\\Local\\Programs\\Python\\Python39\\lib\\site-packages\\manim\\scene\\scene_file_writer.py#514\u001b\\\u001b[2m514\u001b[0m\u001b]8;;\u001b\\\n",
       "                             written in \u001b[32m'c:\\Users\\thoma\\Desktop\\Apre\u001b[0m                         \n",
       "                             \u001b[32mndizado\\Manim\\media\\videos\\Manim\\480p15\u001b[0m                         \n",
       "                             \u001b[32m\\partial_movie_files\\AdditiveFunctions\\\u001b[0m                         \n",
       "                             \u001b[32m2201830969_3262687313_3957348910.mp4'\u001b[0m                           \n"
      ]
     },
     "metadata": {},
     "output_type": "display_data"
    },
    {
     "name": "stderr",
     "output_type": "stream",
     "text": [
      "                                                                                          \r"
     ]
    },
    {
     "data": {
      "text/html": [
       "<pre style=\"white-space:pre;overflow-x:auto;line-height:normal;font-family:Menlo,'DejaVu Sans Mono',consolas,'Courier New',monospace\"><span style=\"color: #7fbfbf; text-decoration-color: #7fbfbf\">[01/31/22 20:59:05] </span><span style=\"color: #008000; text-decoration-color: #008000\">INFO    </span> Animation <span style=\"color: #008000; text-decoration-color: #008000\">31</span> : Partial movie file       <a href=\"file://C:\\Users\\thoma\\AppData\\Local\\Programs\\Python\\Python39\\lib\\site-packages\\manim\\scene\\scene_file_writer.py\"><span style=\"color: #7f7f7f; text-decoration-color: #7f7f7f\">scene_file_writer.py</span></a><span style=\"color: #7f7f7f; text-decoration-color: #7f7f7f\">:</span><a href=\"file://C:\\Users\\thoma\\AppData\\Local\\Programs\\Python\\Python39\\lib\\site-packages\\manim\\scene\\scene_file_writer.py#514\"><span style=\"color: #7f7f7f; text-decoration-color: #7f7f7f\">514</span></a>\n",
       "                             written in <span style=\"color: #008000; text-decoration-color: #008000\">'c:\\Users\\thoma\\Desktop\\Apre</span>                         \n",
       "                             <span style=\"color: #008000; text-decoration-color: #008000\">ndizado\\Manim\\media\\videos\\Manim\\480p15</span>                         \n",
       "                             <span style=\"color: #008000; text-decoration-color: #008000\">\\partial_movie_files\\AdditiveFunctions\\</span>                         \n",
       "                             <span style=\"color: #008000; text-decoration-color: #008000\">2201830969_2433100301_518270506.mp4'</span>                            \n",
       "</pre>\n"
      ],
      "text/plain": [
       "\u001b[2;36m[01/31/22 20:59:05]\u001b[0m\u001b[2;36m \u001b[0m\u001b[32mINFO    \u001b[0m Animation \u001b[32m31\u001b[0m : Partial movie file       \u001b]8;id=945880;file://C:\\Users\\thoma\\AppData\\Local\\Programs\\Python\\Python39\\lib\\site-packages\\manim\\scene\\scene_file_writer.py\u001b\\\u001b[2mscene_file_writer.py\u001b[0m\u001b]8;;\u001b\\\u001b[2m:\u001b[0m\u001b]8;id=315338;file://C:\\Users\\thoma\\AppData\\Local\\Programs\\Python\\Python39\\lib\\site-packages\\manim\\scene\\scene_file_writer.py#514\u001b\\\u001b[2m514\u001b[0m\u001b]8;;\u001b\\\n",
       "                             written in \u001b[32m'c:\\Users\\thoma\\Desktop\\Apre\u001b[0m                         \n",
       "                             \u001b[32mndizado\\Manim\\media\\videos\\Manim\\480p15\u001b[0m                         \n",
       "                             \u001b[32m\\partial_movie_files\\AdditiveFunctions\\\u001b[0m                         \n",
       "                             \u001b[32m2201830969_2433100301_518270506.mp4'\u001b[0m                            \n"
      ]
     },
     "metadata": {},
     "output_type": "display_data"
    },
    {
     "name": "stderr",
     "output_type": "stream",
     "text": [
      "                                                                          \r"
     ]
    },
    {
     "data": {
      "text/html": [
       "<pre style=\"white-space:pre;overflow-x:auto;line-height:normal;font-family:Menlo,'DejaVu Sans Mono',consolas,'Courier New',monospace\"><span style=\"color: #7fbfbf; text-decoration-color: #7fbfbf\">[01/31/22 20:59:06] </span><span style=\"color: #008000; text-decoration-color: #008000\">INFO    </span> Animation <span style=\"color: #008000; text-decoration-color: #008000\">32</span> : Partial movie file       <a href=\"file://C:\\Users\\thoma\\AppData\\Local\\Programs\\Python\\Python39\\lib\\site-packages\\manim\\scene\\scene_file_writer.py\"><span style=\"color: #7f7f7f; text-decoration-color: #7f7f7f\">scene_file_writer.py</span></a><span style=\"color: #7f7f7f; text-decoration-color: #7f7f7f\">:</span><a href=\"file://C:\\Users\\thoma\\AppData\\Local\\Programs\\Python\\Python39\\lib\\site-packages\\manim\\scene\\scene_file_writer.py#514\"><span style=\"color: #7f7f7f; text-decoration-color: #7f7f7f\">514</span></a>\n",
       "                             written in <span style=\"color: #008000; text-decoration-color: #008000\">'c:\\Users\\thoma\\Desktop\\Apre</span>                         \n",
       "                             <span style=\"color: #008000; text-decoration-color: #008000\">ndizado\\Manim\\media\\videos\\Manim\\480p15</span>                         \n",
       "                             <span style=\"color: #008000; text-decoration-color: #008000\">\\partial_movie_files\\AdditiveFunctions\\</span>                         \n",
       "                             <span style=\"color: #008000; text-decoration-color: #008000\">2201830969_3088638849_2650531416.mp4'</span>                           \n",
       "</pre>\n"
      ],
      "text/plain": [
       "\u001b[2;36m[01/31/22 20:59:06]\u001b[0m\u001b[2;36m \u001b[0m\u001b[32mINFO    \u001b[0m Animation \u001b[32m32\u001b[0m : Partial movie file       \u001b]8;id=358403;file://C:\\Users\\thoma\\AppData\\Local\\Programs\\Python\\Python39\\lib\\site-packages\\manim\\scene\\scene_file_writer.py\u001b\\\u001b[2mscene_file_writer.py\u001b[0m\u001b]8;;\u001b\\\u001b[2m:\u001b[0m\u001b]8;id=20924;file://C:\\Users\\thoma\\AppData\\Local\\Programs\\Python\\Python39\\lib\\site-packages\\manim\\scene\\scene_file_writer.py#514\u001b\\\u001b[2m514\u001b[0m\u001b]8;;\u001b\\\n",
       "                             written in \u001b[32m'c:\\Users\\thoma\\Desktop\\Apre\u001b[0m                         \n",
       "                             \u001b[32mndizado\\Manim\\media\\videos\\Manim\\480p15\u001b[0m                         \n",
       "                             \u001b[32m\\partial_movie_files\\AdditiveFunctions\\\u001b[0m                         \n",
       "                             \u001b[32m2201830969_3088638849_2650531416.mp4'\u001b[0m                           \n"
      ]
     },
     "metadata": {},
     "output_type": "display_data"
    },
    {
     "name": "stderr",
     "output_type": "stream",
     "text": [
      "                                                                                \r"
     ]
    },
    {
     "data": {
      "text/html": [
       "<pre style=\"white-space:pre;overflow-x:auto;line-height:normal;font-family:Menlo,'DejaVu Sans Mono',consolas,'Courier New',monospace\"><span style=\"color: #7fbfbf; text-decoration-color: #7fbfbf\">[01/31/22 20:59:07] </span><span style=\"color: #008000; text-decoration-color: #008000\">INFO    </span> Animation <span style=\"color: #008000; text-decoration-color: #008000\">33</span> : Partial movie file       <a href=\"file://C:\\Users\\thoma\\AppData\\Local\\Programs\\Python\\Python39\\lib\\site-packages\\manim\\scene\\scene_file_writer.py\"><span style=\"color: #7f7f7f; text-decoration-color: #7f7f7f\">scene_file_writer.py</span></a><span style=\"color: #7f7f7f; text-decoration-color: #7f7f7f\">:</span><a href=\"file://C:\\Users\\thoma\\AppData\\Local\\Programs\\Python\\Python39\\lib\\site-packages\\manim\\scene\\scene_file_writer.py#514\"><span style=\"color: #7f7f7f; text-decoration-color: #7f7f7f\">514</span></a>\n",
       "                             written in <span style=\"color: #008000; text-decoration-color: #008000\">'c:\\Users\\thoma\\Desktop\\Apre</span>                         \n",
       "                             <span style=\"color: #008000; text-decoration-color: #008000\">ndizado\\Manim\\media\\videos\\Manim\\480p15</span>                         \n",
       "                             <span style=\"color: #008000; text-decoration-color: #008000\">\\partial_movie_files\\AdditiveFunctions\\</span>                         \n",
       "                             <span style=\"color: #008000; text-decoration-color: #008000\">2201830969_178350917_3819744795.mp4'</span>                            \n",
       "</pre>\n"
      ],
      "text/plain": [
       "\u001b[2;36m[01/31/22 20:59:07]\u001b[0m\u001b[2;36m \u001b[0m\u001b[32mINFO    \u001b[0m Animation \u001b[32m33\u001b[0m : Partial movie file       \u001b]8;id=980552;file://C:\\Users\\thoma\\AppData\\Local\\Programs\\Python\\Python39\\lib\\site-packages\\manim\\scene\\scene_file_writer.py\u001b\\\u001b[2mscene_file_writer.py\u001b[0m\u001b]8;;\u001b\\\u001b[2m:\u001b[0m\u001b]8;id=824146;file://C:\\Users\\thoma\\AppData\\Local\\Programs\\Python\\Python39\\lib\\site-packages\\manim\\scene\\scene_file_writer.py#514\u001b\\\u001b[2m514\u001b[0m\u001b]8;;\u001b\\\n",
       "                             written in \u001b[32m'c:\\Users\\thoma\\Desktop\\Apre\u001b[0m                         \n",
       "                             \u001b[32mndizado\\Manim\\media\\videos\\Manim\\480p15\u001b[0m                         \n",
       "                             \u001b[32m\\partial_movie_files\\AdditiveFunctions\\\u001b[0m                         \n",
       "                             \u001b[32m2201830969_178350917_3819744795.mp4'\u001b[0m                            \n"
      ]
     },
     "metadata": {},
     "output_type": "display_data"
    },
    {
     "name": "stderr",
     "output_type": "stream",
     "text": [
      "                                                                                 \r"
     ]
    },
    {
     "data": {
      "text/html": [
       "<pre style=\"white-space:pre;overflow-x:auto;line-height:normal;font-family:Menlo,'DejaVu Sans Mono',consolas,'Courier New',monospace\"><span style=\"color: #7fbfbf; text-decoration-color: #7fbfbf\">[01/31/22 20:59:08] </span><span style=\"color: #008000; text-decoration-color: #008000\">INFO    </span> Animation <span style=\"color: #008000; text-decoration-color: #008000\">34</span> : Partial movie file       <a href=\"file://C:\\Users\\thoma\\AppData\\Local\\Programs\\Python\\Python39\\lib\\site-packages\\manim\\scene\\scene_file_writer.py\"><span style=\"color: #7f7f7f; text-decoration-color: #7f7f7f\">scene_file_writer.py</span></a><span style=\"color: #7f7f7f; text-decoration-color: #7f7f7f\">:</span><a href=\"file://C:\\Users\\thoma\\AppData\\Local\\Programs\\Python\\Python39\\lib\\site-packages\\manim\\scene\\scene_file_writer.py#514\"><span style=\"color: #7f7f7f; text-decoration-color: #7f7f7f\">514</span></a>\n",
       "                             written in <span style=\"color: #008000; text-decoration-color: #008000\">'c:\\Users\\thoma\\Desktop\\Apre</span>                         \n",
       "                             <span style=\"color: #008000; text-decoration-color: #008000\">ndizado\\Manim\\media\\videos\\Manim\\480p15</span>                         \n",
       "                             <span style=\"color: #008000; text-decoration-color: #008000\">\\partial_movie_files\\AdditiveFunctions\\</span>                         \n",
       "                             <span style=\"color: #008000; text-decoration-color: #008000\">2201830969_1940361434_649674173.mp4'</span>                            \n",
       "</pre>\n"
      ],
      "text/plain": [
       "\u001b[2;36m[01/31/22 20:59:08]\u001b[0m\u001b[2;36m \u001b[0m\u001b[32mINFO    \u001b[0m Animation \u001b[32m34\u001b[0m : Partial movie file       \u001b]8;id=455788;file://C:\\Users\\thoma\\AppData\\Local\\Programs\\Python\\Python39\\lib\\site-packages\\manim\\scene\\scene_file_writer.py\u001b\\\u001b[2mscene_file_writer.py\u001b[0m\u001b]8;;\u001b\\\u001b[2m:\u001b[0m\u001b]8;id=717667;file://C:\\Users\\thoma\\AppData\\Local\\Programs\\Python\\Python39\\lib\\site-packages\\manim\\scene\\scene_file_writer.py#514\u001b\\\u001b[2m514\u001b[0m\u001b]8;;\u001b\\\n",
       "                             written in \u001b[32m'c:\\Users\\thoma\\Desktop\\Apre\u001b[0m                         \n",
       "                             \u001b[32mndizado\\Manim\\media\\videos\\Manim\\480p15\u001b[0m                         \n",
       "                             \u001b[32m\\partial_movie_files\\AdditiveFunctions\\\u001b[0m                         \n",
       "                             \u001b[32m2201830969_1940361434_649674173.mp4'\u001b[0m                            \n"
      ]
     },
     "metadata": {},
     "output_type": "display_data"
    },
    {
     "name": "stderr",
     "output_type": "stream",
     "text": [
      "                                                                                          \r"
     ]
    },
    {
     "data": {
      "text/html": [
       "<pre style=\"white-space:pre;overflow-x:auto;line-height:normal;font-family:Menlo,'DejaVu Sans Mono',consolas,'Courier New',monospace\"><span style=\"color: #7fbfbf; text-decoration-color: #7fbfbf\">[01/31/22 20:59:09] </span><span style=\"color: #008000; text-decoration-color: #008000\">INFO    </span> Animation <span style=\"color: #008000; text-decoration-color: #008000\">35</span> : Partial movie file       <a href=\"file://C:\\Users\\thoma\\AppData\\Local\\Programs\\Python\\Python39\\lib\\site-packages\\manim\\scene\\scene_file_writer.py\"><span style=\"color: #7f7f7f; text-decoration-color: #7f7f7f\">scene_file_writer.py</span></a><span style=\"color: #7f7f7f; text-decoration-color: #7f7f7f\">:</span><a href=\"file://C:\\Users\\thoma\\AppData\\Local\\Programs\\Python\\Python39\\lib\\site-packages\\manim\\scene\\scene_file_writer.py#514\"><span style=\"color: #7f7f7f; text-decoration-color: #7f7f7f\">514</span></a>\n",
       "                             written in <span style=\"color: #008000; text-decoration-color: #008000\">'c:\\Users\\thoma\\Desktop\\Apre</span>                         \n",
       "                             <span style=\"color: #008000; text-decoration-color: #008000\">ndizado\\Manim\\media\\videos\\Manim\\480p15</span>                         \n",
       "                             <span style=\"color: #008000; text-decoration-color: #008000\">\\partial_movie_files\\AdditiveFunctions\\</span>                         \n",
       "                             <span style=\"color: #008000; text-decoration-color: #008000\">2201830969_1958198080_3692890340.mp4'</span>                           \n",
       "</pre>\n"
      ],
      "text/plain": [
       "\u001b[2;36m[01/31/22 20:59:09]\u001b[0m\u001b[2;36m \u001b[0m\u001b[32mINFO    \u001b[0m Animation \u001b[32m35\u001b[0m : Partial movie file       \u001b]8;id=531277;file://C:\\Users\\thoma\\AppData\\Local\\Programs\\Python\\Python39\\lib\\site-packages\\manim\\scene\\scene_file_writer.py\u001b\\\u001b[2mscene_file_writer.py\u001b[0m\u001b]8;;\u001b\\\u001b[2m:\u001b[0m\u001b]8;id=43421;file://C:\\Users\\thoma\\AppData\\Local\\Programs\\Python\\Python39\\lib\\site-packages\\manim\\scene\\scene_file_writer.py#514\u001b\\\u001b[2m514\u001b[0m\u001b]8;;\u001b\\\n",
       "                             written in \u001b[32m'c:\\Users\\thoma\\Desktop\\Apre\u001b[0m                         \n",
       "                             \u001b[32mndizado\\Manim\\media\\videos\\Manim\\480p15\u001b[0m                         \n",
       "                             \u001b[32m\\partial_movie_files\\AdditiveFunctions\\\u001b[0m                         \n",
       "                             \u001b[32m2201830969_1958198080_3692890340.mp4'\u001b[0m                           \n"
      ]
     },
     "metadata": {},
     "output_type": "display_data"
    },
    {
     "name": "stderr",
     "output_type": "stream",
     "text": [
      "                                                                          \r"
     ]
    },
    {
     "data": {
      "text/html": [
       "<pre style=\"white-space:pre;overflow-x:auto;line-height:normal;font-family:Menlo,'DejaVu Sans Mono',consolas,'Courier New',monospace\"><span style=\"color: #7fbfbf; text-decoration-color: #7fbfbf\">[01/31/22 20:59:10] </span><span style=\"color: #008000; text-decoration-color: #008000\">INFO    </span> Animation <span style=\"color: #008000; text-decoration-color: #008000\">36</span> : Partial movie file       <a href=\"file://C:\\Users\\thoma\\AppData\\Local\\Programs\\Python\\Python39\\lib\\site-packages\\manim\\scene\\scene_file_writer.py\"><span style=\"color: #7f7f7f; text-decoration-color: #7f7f7f\">scene_file_writer.py</span></a><span style=\"color: #7f7f7f; text-decoration-color: #7f7f7f\">:</span><a href=\"file://C:\\Users\\thoma\\AppData\\Local\\Programs\\Python\\Python39\\lib\\site-packages\\manim\\scene\\scene_file_writer.py#514\"><span style=\"color: #7f7f7f; text-decoration-color: #7f7f7f\">514</span></a>\n",
       "                             written in <span style=\"color: #008000; text-decoration-color: #008000\">'c:\\Users\\thoma\\Desktop\\Apre</span>                         \n",
       "                             <span style=\"color: #008000; text-decoration-color: #008000\">ndizado\\Manim\\media\\videos\\Manim\\480p15</span>                         \n",
       "                             <span style=\"color: #008000; text-decoration-color: #008000\">\\partial_movie_files\\AdditiveFunctions\\</span>                         \n",
       "                             <span style=\"color: #008000; text-decoration-color: #008000\">2201830969_3440390878_2257857524.mp4'</span>                           \n",
       "</pre>\n"
      ],
      "text/plain": [
       "\u001b[2;36m[01/31/22 20:59:10]\u001b[0m\u001b[2;36m \u001b[0m\u001b[32mINFO    \u001b[0m Animation \u001b[32m36\u001b[0m : Partial movie file       \u001b]8;id=743621;file://C:\\Users\\thoma\\AppData\\Local\\Programs\\Python\\Python39\\lib\\site-packages\\manim\\scene\\scene_file_writer.py\u001b\\\u001b[2mscene_file_writer.py\u001b[0m\u001b]8;;\u001b\\\u001b[2m:\u001b[0m\u001b]8;id=28938;file://C:\\Users\\thoma\\AppData\\Local\\Programs\\Python\\Python39\\lib\\site-packages\\manim\\scene\\scene_file_writer.py#514\u001b\\\u001b[2m514\u001b[0m\u001b]8;;\u001b\\\n",
       "                             written in \u001b[32m'c:\\Users\\thoma\\Desktop\\Apre\u001b[0m                         \n",
       "                             \u001b[32mndizado\\Manim\\media\\videos\\Manim\\480p15\u001b[0m                         \n",
       "                             \u001b[32m\\partial_movie_files\\AdditiveFunctions\\\u001b[0m                         \n",
       "                             \u001b[32m2201830969_3440390878_2257857524.mp4'\u001b[0m                           \n"
      ]
     },
     "metadata": {},
     "output_type": "display_data"
    },
    {
     "name": "stderr",
     "output_type": "stream",
     "text": [
      "                                                                                 \r"
     ]
    },
    {
     "data": {
      "text/html": [
       "<pre style=\"white-space:pre;overflow-x:auto;line-height:normal;font-family:Menlo,'DejaVu Sans Mono',consolas,'Courier New',monospace\"><span style=\"color: #7fbfbf; text-decoration-color: #7fbfbf\">[01/31/22 20:59:11] </span><span style=\"color: #008000; text-decoration-color: #008000\">INFO    </span> Animation <span style=\"color: #008000; text-decoration-color: #008000\">37</span> : Partial movie file       <a href=\"file://C:\\Users\\thoma\\AppData\\Local\\Programs\\Python\\Python39\\lib\\site-packages\\manim\\scene\\scene_file_writer.py\"><span style=\"color: #7f7f7f; text-decoration-color: #7f7f7f\">scene_file_writer.py</span></a><span style=\"color: #7f7f7f; text-decoration-color: #7f7f7f\">:</span><a href=\"file://C:\\Users\\thoma\\AppData\\Local\\Programs\\Python\\Python39\\lib\\site-packages\\manim\\scene\\scene_file_writer.py#514\"><span style=\"color: #7f7f7f; text-decoration-color: #7f7f7f\">514</span></a>\n",
       "                             written in <span style=\"color: #008000; text-decoration-color: #008000\">'c:\\Users\\thoma\\Desktop\\Apre</span>                         \n",
       "                             <span style=\"color: #008000; text-decoration-color: #008000\">ndizado\\Manim\\media\\videos\\Manim\\480p15</span>                         \n",
       "                             <span style=\"color: #008000; text-decoration-color: #008000\">\\partial_movie_files\\AdditiveFunctions\\</span>                         \n",
       "                             <span style=\"color: #008000; text-decoration-color: #008000\">2201830969_2731049987_3265155353.mp4'</span>                           \n",
       "</pre>\n"
      ],
      "text/plain": [
       "\u001b[2;36m[01/31/22 20:59:11]\u001b[0m\u001b[2;36m \u001b[0m\u001b[32mINFO    \u001b[0m Animation \u001b[32m37\u001b[0m : Partial movie file       \u001b]8;id=651628;file://C:\\Users\\thoma\\AppData\\Local\\Programs\\Python\\Python39\\lib\\site-packages\\manim\\scene\\scene_file_writer.py\u001b\\\u001b[2mscene_file_writer.py\u001b[0m\u001b]8;;\u001b\\\u001b[2m:\u001b[0m\u001b]8;id=597351;file://C:\\Users\\thoma\\AppData\\Local\\Programs\\Python\\Python39\\lib\\site-packages\\manim\\scene\\scene_file_writer.py#514\u001b\\\u001b[2m514\u001b[0m\u001b]8;;\u001b\\\n",
       "                             written in \u001b[32m'c:\\Users\\thoma\\Desktop\\Apre\u001b[0m                         \n",
       "                             \u001b[32mndizado\\Manim\\media\\videos\\Manim\\480p15\u001b[0m                         \n",
       "                             \u001b[32m\\partial_movie_files\\AdditiveFunctions\\\u001b[0m                         \n",
       "                             \u001b[32m2201830969_2731049987_3265155353.mp4'\u001b[0m                           \n"
      ]
     },
     "metadata": {},
     "output_type": "display_data"
    },
    {
     "name": "stderr",
     "output_type": "stream",
     "text": [
      "                                                                                 \r"
     ]
    },
    {
     "data": {
      "text/html": [
       "<pre style=\"white-space:pre;overflow-x:auto;line-height:normal;font-family:Menlo,'DejaVu Sans Mono',consolas,'Courier New',monospace\"><span style=\"color: #7fbfbf; text-decoration-color: #7fbfbf\">[01/31/22 20:59:13] </span><span style=\"color: #008000; text-decoration-color: #008000\">INFO    </span> Animation <span style=\"color: #008000; text-decoration-color: #008000\">38</span> : Partial movie file       <a href=\"file://C:\\Users\\thoma\\AppData\\Local\\Programs\\Python\\Python39\\lib\\site-packages\\manim\\scene\\scene_file_writer.py\"><span style=\"color: #7f7f7f; text-decoration-color: #7f7f7f\">scene_file_writer.py</span></a><span style=\"color: #7f7f7f; text-decoration-color: #7f7f7f\">:</span><a href=\"file://C:\\Users\\thoma\\AppData\\Local\\Programs\\Python\\Python39\\lib\\site-packages\\manim\\scene\\scene_file_writer.py#514\"><span style=\"color: #7f7f7f; text-decoration-color: #7f7f7f\">514</span></a>\n",
       "                             written in <span style=\"color: #008000; text-decoration-color: #008000\">'c:\\Users\\thoma\\Desktop\\Apre</span>                         \n",
       "                             <span style=\"color: #008000; text-decoration-color: #008000\">ndizado\\Manim\\media\\videos\\Manim\\480p15</span>                         \n",
       "                             <span style=\"color: #008000; text-decoration-color: #008000\">\\partial_movie_files\\AdditiveFunctions\\</span>                         \n",
       "                             <span style=\"color: #008000; text-decoration-color: #008000\">2201830969_3412025272_1788851072.mp4'</span>                           \n",
       "</pre>\n"
      ],
      "text/plain": [
       "\u001b[2;36m[01/31/22 20:59:13]\u001b[0m\u001b[2;36m \u001b[0m\u001b[32mINFO    \u001b[0m Animation \u001b[32m38\u001b[0m : Partial movie file       \u001b]8;id=941781;file://C:\\Users\\thoma\\AppData\\Local\\Programs\\Python\\Python39\\lib\\site-packages\\manim\\scene\\scene_file_writer.py\u001b\\\u001b[2mscene_file_writer.py\u001b[0m\u001b]8;;\u001b\\\u001b[2m:\u001b[0m\u001b]8;id=693750;file://C:\\Users\\thoma\\AppData\\Local\\Programs\\Python\\Python39\\lib\\site-packages\\manim\\scene\\scene_file_writer.py#514\u001b\\\u001b[2m514\u001b[0m\u001b]8;;\u001b\\\n",
       "                             written in \u001b[32m'c:\\Users\\thoma\\Desktop\\Apre\u001b[0m                         \n",
       "                             \u001b[32mndizado\\Manim\\media\\videos\\Manim\\480p15\u001b[0m                         \n",
       "                             \u001b[32m\\partial_movie_files\\AdditiveFunctions\\\u001b[0m                         \n",
       "                             \u001b[32m2201830969_3412025272_1788851072.mp4'\u001b[0m                           \n"
      ]
     },
     "metadata": {},
     "output_type": "display_data"
    },
    {
     "name": "stderr",
     "output_type": "stream",
     "text": [
      "                                                                                           \r"
     ]
    },
    {
     "data": {
      "text/html": [
       "<pre style=\"white-space:pre;overflow-x:auto;line-height:normal;font-family:Menlo,'DejaVu Sans Mono',consolas,'Courier New',monospace\"><span style=\"color: #7fbfbf; text-decoration-color: #7fbfbf\">[01/31/22 20:59:15] </span><span style=\"color: #008000; text-decoration-color: #008000\">INFO    </span> Animation <span style=\"color: #008000; text-decoration-color: #008000\">39</span> : Partial movie file       <a href=\"file://C:\\Users\\thoma\\AppData\\Local\\Programs\\Python\\Python39\\lib\\site-packages\\manim\\scene\\scene_file_writer.py\"><span style=\"color: #7f7f7f; text-decoration-color: #7f7f7f\">scene_file_writer.py</span></a><span style=\"color: #7f7f7f; text-decoration-color: #7f7f7f\">:</span><a href=\"file://C:\\Users\\thoma\\AppData\\Local\\Programs\\Python\\Python39\\lib\\site-packages\\manim\\scene\\scene_file_writer.py#514\"><span style=\"color: #7f7f7f; text-decoration-color: #7f7f7f\">514</span></a>\n",
       "                             written in <span style=\"color: #008000; text-decoration-color: #008000\">'c:\\Users\\thoma\\Desktop\\Apre</span>                         \n",
       "                             <span style=\"color: #008000; text-decoration-color: #008000\">ndizado\\Manim\\media\\videos\\Manim\\480p15</span>                         \n",
       "                             <span style=\"color: #008000; text-decoration-color: #008000\">\\partial_movie_files\\AdditiveFunctions\\</span>                         \n",
       "                             <span style=\"color: #008000; text-decoration-color: #008000\">2201830969_4287727340_1005392747.mp4'</span>                           \n",
       "</pre>\n"
      ],
      "text/plain": [
       "\u001b[2;36m[01/31/22 20:59:15]\u001b[0m\u001b[2;36m \u001b[0m\u001b[32mINFO    \u001b[0m Animation \u001b[32m39\u001b[0m : Partial movie file       \u001b]8;id=117438;file://C:\\Users\\thoma\\AppData\\Local\\Programs\\Python\\Python39\\lib\\site-packages\\manim\\scene\\scene_file_writer.py\u001b\\\u001b[2mscene_file_writer.py\u001b[0m\u001b]8;;\u001b\\\u001b[2m:\u001b[0m\u001b]8;id=405532;file://C:\\Users\\thoma\\AppData\\Local\\Programs\\Python\\Python39\\lib\\site-packages\\manim\\scene\\scene_file_writer.py#514\u001b\\\u001b[2m514\u001b[0m\u001b]8;;\u001b\\\n",
       "                             written in \u001b[32m'c:\\Users\\thoma\\Desktop\\Apre\u001b[0m                         \n",
       "                             \u001b[32mndizado\\Manim\\media\\videos\\Manim\\480p15\u001b[0m                         \n",
       "                             \u001b[32m\\partial_movie_files\\AdditiveFunctions\\\u001b[0m                         \n",
       "                             \u001b[32m2201830969_4287727340_1005392747.mp4'\u001b[0m                           \n"
      ]
     },
     "metadata": {},
     "output_type": "display_data"
    },
    {
     "name": "stderr",
     "output_type": "stream",
     "text": [
      "                                                                          \r"
     ]
    },
    {
     "data": {
      "text/html": [
       "<pre style=\"white-space:pre;overflow-x:auto;line-height:normal;font-family:Menlo,'DejaVu Sans Mono',consolas,'Courier New',monospace\"><span style=\"color: #7fbfbf; text-decoration-color: #7fbfbf\">[01/31/22 20:59:16] </span><span style=\"color: #008000; text-decoration-color: #008000\">INFO    </span> Animation <span style=\"color: #008000; text-decoration-color: #008000\">40</span> : Partial movie file       <a href=\"file://C:\\Users\\thoma\\AppData\\Local\\Programs\\Python\\Python39\\lib\\site-packages\\manim\\scene\\scene_file_writer.py\"><span style=\"color: #7f7f7f; text-decoration-color: #7f7f7f\">scene_file_writer.py</span></a><span style=\"color: #7f7f7f; text-decoration-color: #7f7f7f\">:</span><a href=\"file://C:\\Users\\thoma\\AppData\\Local\\Programs\\Python\\Python39\\lib\\site-packages\\manim\\scene\\scene_file_writer.py#514\"><span style=\"color: #7f7f7f; text-decoration-color: #7f7f7f\">514</span></a>\n",
       "                             written in <span style=\"color: #008000; text-decoration-color: #008000\">'c:\\Users\\thoma\\Desktop\\Apre</span>                         \n",
       "                             <span style=\"color: #008000; text-decoration-color: #008000\">ndizado\\Manim\\media\\videos\\Manim\\480p15</span>                         \n",
       "                             <span style=\"color: #008000; text-decoration-color: #008000\">\\partial_movie_files\\AdditiveFunctions\\</span>                         \n",
       "                             <span style=\"color: #008000; text-decoration-color: #008000\">2201830969_42216849_149945648.mp4'</span>                              \n",
       "</pre>\n"
      ],
      "text/plain": [
       "\u001b[2;36m[01/31/22 20:59:16]\u001b[0m\u001b[2;36m \u001b[0m\u001b[32mINFO    \u001b[0m Animation \u001b[32m40\u001b[0m : Partial movie file       \u001b]8;id=429351;file://C:\\Users\\thoma\\AppData\\Local\\Programs\\Python\\Python39\\lib\\site-packages\\manim\\scene\\scene_file_writer.py\u001b\\\u001b[2mscene_file_writer.py\u001b[0m\u001b]8;;\u001b\\\u001b[2m:\u001b[0m\u001b]8;id=744062;file://C:\\Users\\thoma\\AppData\\Local\\Programs\\Python\\Python39\\lib\\site-packages\\manim\\scene\\scene_file_writer.py#514\u001b\\\u001b[2m514\u001b[0m\u001b]8;;\u001b\\\n",
       "                             written in \u001b[32m'c:\\Users\\thoma\\Desktop\\Apre\u001b[0m                         \n",
       "                             \u001b[32mndizado\\Manim\\media\\videos\\Manim\\480p15\u001b[0m                         \n",
       "                             \u001b[32m\\partial_movie_files\\AdditiveFunctions\\\u001b[0m                         \n",
       "                             \u001b[32m2201830969_42216849_149945648.mp4'\u001b[0m                              \n"
      ]
     },
     "metadata": {},
     "output_type": "display_data"
    },
    {
     "data": {
      "text/html": [
       "<pre style=\"white-space:pre;overflow-x:auto;line-height:normal;font-family:Menlo,'DejaVu Sans Mono',consolas,'Courier New',monospace\"><span style=\"color: #7fbfbf; text-decoration-color: #7fbfbf\">[01/31/22 20:59:17] </span><span style=\"color: #008000; text-decoration-color: #008000\">INFO    </span> Animation <span style=\"color: #008000; text-decoration-color: #008000\">41</span> : Partial movie file       <a href=\"file://C:\\Users\\thoma\\AppData\\Local\\Programs\\Python\\Python39\\lib\\site-packages\\manim\\scene\\scene_file_writer.py\"><span style=\"color: #7f7f7f; text-decoration-color: #7f7f7f\">scene_file_writer.py</span></a><span style=\"color: #7f7f7f; text-decoration-color: #7f7f7f\">:</span><a href=\"file://C:\\Users\\thoma\\AppData\\Local\\Programs\\Python\\Python39\\lib\\site-packages\\manim\\scene\\scene_file_writer.py#514\"><span style=\"color: #7f7f7f; text-decoration-color: #7f7f7f\">514</span></a>\n",
       "                             written in <span style=\"color: #008000; text-decoration-color: #008000\">'c:\\Users\\thoma\\Desktop\\Apre</span>                         \n",
       "                             <span style=\"color: #008000; text-decoration-color: #008000\">ndizado\\Manim\\media\\videos\\Manim\\480p15</span>                         \n",
       "                             <span style=\"color: #008000; text-decoration-color: #008000\">\\partial_movie_files\\AdditiveFunctions\\</span>                         \n",
       "                             <span style=\"color: #008000; text-decoration-color: #008000\">2201830969_398514950_2507735279.mp4'</span>                            \n",
       "</pre>\n"
      ],
      "text/plain": [
       "\u001b[2;36m[01/31/22 20:59:17]\u001b[0m\u001b[2;36m \u001b[0m\u001b[32mINFO    \u001b[0m Animation \u001b[32m41\u001b[0m : Partial movie file       \u001b]8;id=476382;file://C:\\Users\\thoma\\AppData\\Local\\Programs\\Python\\Python39\\lib\\site-packages\\manim\\scene\\scene_file_writer.py\u001b\\\u001b[2mscene_file_writer.py\u001b[0m\u001b]8;;\u001b\\\u001b[2m:\u001b[0m\u001b]8;id=143291;file://C:\\Users\\thoma\\AppData\\Local\\Programs\\Python\\Python39\\lib\\site-packages\\manim\\scene\\scene_file_writer.py#514\u001b\\\u001b[2m514\u001b[0m\u001b]8;;\u001b\\\n",
       "                             written in \u001b[32m'c:\\Users\\thoma\\Desktop\\Apre\u001b[0m                         \n",
       "                             \u001b[32mndizado\\Manim\\media\\videos\\Manim\\480p15\u001b[0m                         \n",
       "                             \u001b[32m\\partial_movie_files\\AdditiveFunctions\\\u001b[0m                         \n",
       "                             \u001b[32m2201830969_398514950_2507735279.mp4'\u001b[0m                            \n"
      ]
     },
     "metadata": {},
     "output_type": "display_data"
    },
    {
     "name": "stderr",
     "output_type": "stream",
     "text": [
      "                                                                                              \r"
     ]
    },
    {
     "data": {
      "text/html": [
       "<pre style=\"white-space:pre;overflow-x:auto;line-height:normal;font-family:Menlo,'DejaVu Sans Mono',consolas,'Courier New',monospace\"><span style=\"color: #7fbfbf; text-decoration-color: #7fbfbf\">[01/31/22 20:59:18] </span><span style=\"color: #008000; text-decoration-color: #008000\">INFO    </span> Animation <span style=\"color: #008000; text-decoration-color: #008000\">42</span> : Partial movie file       <a href=\"file://C:\\Users\\thoma\\AppData\\Local\\Programs\\Python\\Python39\\lib\\site-packages\\manim\\scene\\scene_file_writer.py\"><span style=\"color: #7f7f7f; text-decoration-color: #7f7f7f\">scene_file_writer.py</span></a><span style=\"color: #7f7f7f; text-decoration-color: #7f7f7f\">:</span><a href=\"file://C:\\Users\\thoma\\AppData\\Local\\Programs\\Python\\Python39\\lib\\site-packages\\manim\\scene\\scene_file_writer.py#514\"><span style=\"color: #7f7f7f; text-decoration-color: #7f7f7f\">514</span></a>\n",
       "                             written in <span style=\"color: #008000; text-decoration-color: #008000\">'c:\\Users\\thoma\\Desktop\\Apre</span>                         \n",
       "                             <span style=\"color: #008000; text-decoration-color: #008000\">ndizado\\Manim\\media\\videos\\Manim\\480p15</span>                         \n",
       "                             <span style=\"color: #008000; text-decoration-color: #008000\">\\partial_movie_files\\AdditiveFunctions\\</span>                         \n",
       "                             <span style=\"color: #008000; text-decoration-color: #008000\">2201830969_4186982604_3188573612.mp4'</span>                           \n",
       "</pre>\n"
      ],
      "text/plain": [
       "\u001b[2;36m[01/31/22 20:59:18]\u001b[0m\u001b[2;36m \u001b[0m\u001b[32mINFO    \u001b[0m Animation \u001b[32m42\u001b[0m : Partial movie file       \u001b]8;id=126115;file://C:\\Users\\thoma\\AppData\\Local\\Programs\\Python\\Python39\\lib\\site-packages\\manim\\scene\\scene_file_writer.py\u001b\\\u001b[2mscene_file_writer.py\u001b[0m\u001b]8;;\u001b\\\u001b[2m:\u001b[0m\u001b]8;id=695171;file://C:\\Users\\thoma\\AppData\\Local\\Programs\\Python\\Python39\\lib\\site-packages\\manim\\scene\\scene_file_writer.py#514\u001b\\\u001b[2m514\u001b[0m\u001b]8;;\u001b\\\n",
       "                             written in \u001b[32m'c:\\Users\\thoma\\Desktop\\Apre\u001b[0m                         \n",
       "                             \u001b[32mndizado\\Manim\\media\\videos\\Manim\\480p15\u001b[0m                         \n",
       "                             \u001b[32m\\partial_movie_files\\AdditiveFunctions\\\u001b[0m                         \n",
       "                             \u001b[32m2201830969_4186982604_3188573612.mp4'\u001b[0m                           \n"
      ]
     },
     "metadata": {},
     "output_type": "display_data"
    },
    {
     "name": "stderr",
     "output_type": "stream",
     "text": [
      "                                                                                                        \r"
     ]
    },
    {
     "data": {
      "text/html": [
       "<pre style=\"white-space:pre;overflow-x:auto;line-height:normal;font-family:Menlo,'DejaVu Sans Mono',consolas,'Courier New',monospace\"><span style=\"color: #7fbfbf; text-decoration-color: #7fbfbf\">[01/31/22 20:59:19] </span><span style=\"color: #008000; text-decoration-color: #008000\">INFO    </span> Animation <span style=\"color: #008000; text-decoration-color: #008000\">43</span> : Partial movie file       <a href=\"file://C:\\Users\\thoma\\AppData\\Local\\Programs\\Python\\Python39\\lib\\site-packages\\manim\\scene\\scene_file_writer.py\"><span style=\"color: #7f7f7f; text-decoration-color: #7f7f7f\">scene_file_writer.py</span></a><span style=\"color: #7f7f7f; text-decoration-color: #7f7f7f\">:</span><a href=\"file://C:\\Users\\thoma\\AppData\\Local\\Programs\\Python\\Python39\\lib\\site-packages\\manim\\scene\\scene_file_writer.py#514\"><span style=\"color: #7f7f7f; text-decoration-color: #7f7f7f\">514</span></a>\n",
       "                             written in <span style=\"color: #008000; text-decoration-color: #008000\">'c:\\Users\\thoma\\Desktop\\Apre</span>                         \n",
       "                             <span style=\"color: #008000; text-decoration-color: #008000\">ndizado\\Manim\\media\\videos\\Manim\\480p15</span>                         \n",
       "                             <span style=\"color: #008000; text-decoration-color: #008000\">\\partial_movie_files\\AdditiveFunctions\\</span>                         \n",
       "                             <span style=\"color: #008000; text-decoration-color: #008000\">2201830969_3269119518_1258112838.mp4'</span>                           \n",
       "</pre>\n"
      ],
      "text/plain": [
       "\u001b[2;36m[01/31/22 20:59:19]\u001b[0m\u001b[2;36m \u001b[0m\u001b[32mINFO    \u001b[0m Animation \u001b[32m43\u001b[0m : Partial movie file       \u001b]8;id=469615;file://C:\\Users\\thoma\\AppData\\Local\\Programs\\Python\\Python39\\lib\\site-packages\\manim\\scene\\scene_file_writer.py\u001b\\\u001b[2mscene_file_writer.py\u001b[0m\u001b]8;;\u001b\\\u001b[2m:\u001b[0m\u001b]8;id=6810;file://C:\\Users\\thoma\\AppData\\Local\\Programs\\Python\\Python39\\lib\\site-packages\\manim\\scene\\scene_file_writer.py#514\u001b\\\u001b[2m514\u001b[0m\u001b]8;;\u001b\\\n",
       "                             written in \u001b[32m'c:\\Users\\thoma\\Desktop\\Apre\u001b[0m                         \n",
       "                             \u001b[32mndizado\\Manim\\media\\videos\\Manim\\480p15\u001b[0m                         \n",
       "                             \u001b[32m\\partial_movie_files\\AdditiveFunctions\\\u001b[0m                         \n",
       "                             \u001b[32m2201830969_3269119518_1258112838.mp4'\u001b[0m                           \n"
      ]
     },
     "metadata": {},
     "output_type": "display_data"
    },
    {
     "name": "stderr",
     "output_type": "stream",
     "text": [
      "                                                                                              \r"
     ]
    },
    {
     "data": {
      "text/html": [
       "<pre style=\"white-space:pre;overflow-x:auto;line-height:normal;font-family:Menlo,'DejaVu Sans Mono',consolas,'Courier New',monospace\"><span style=\"color: #7fbfbf; text-decoration-color: #7fbfbf\">[01/31/22 20:59:20] </span><span style=\"color: #008000; text-decoration-color: #008000\">INFO    </span> Animation <span style=\"color: #008000; text-decoration-color: #008000\">44</span> : Partial movie file       <a href=\"file://C:\\Users\\thoma\\AppData\\Local\\Programs\\Python\\Python39\\lib\\site-packages\\manim\\scene\\scene_file_writer.py\"><span style=\"color: #7f7f7f; text-decoration-color: #7f7f7f\">scene_file_writer.py</span></a><span style=\"color: #7f7f7f; text-decoration-color: #7f7f7f\">:</span><a href=\"file://C:\\Users\\thoma\\AppData\\Local\\Programs\\Python\\Python39\\lib\\site-packages\\manim\\scene\\scene_file_writer.py#514\"><span style=\"color: #7f7f7f; text-decoration-color: #7f7f7f\">514</span></a>\n",
       "                             written in <span style=\"color: #008000; text-decoration-color: #008000\">'c:\\Users\\thoma\\Desktop\\Apre</span>                         \n",
       "                             <span style=\"color: #008000; text-decoration-color: #008000\">ndizado\\Manim\\media\\videos\\Manim\\480p15</span>                         \n",
       "                             <span style=\"color: #008000; text-decoration-color: #008000\">\\partial_movie_files\\AdditiveFunctions\\</span>                         \n",
       "                             <span style=\"color: #008000; text-decoration-color: #008000\">2201830969_3790505814_1103194265.mp4'</span>                           \n",
       "</pre>\n"
      ],
      "text/plain": [
       "\u001b[2;36m[01/31/22 20:59:20]\u001b[0m\u001b[2;36m \u001b[0m\u001b[32mINFO    \u001b[0m Animation \u001b[32m44\u001b[0m : Partial movie file       \u001b]8;id=586732;file://C:\\Users\\thoma\\AppData\\Local\\Programs\\Python\\Python39\\lib\\site-packages\\manim\\scene\\scene_file_writer.py\u001b\\\u001b[2mscene_file_writer.py\u001b[0m\u001b]8;;\u001b\\\u001b[2m:\u001b[0m\u001b]8;id=643593;file://C:\\Users\\thoma\\AppData\\Local\\Programs\\Python\\Python39\\lib\\site-packages\\manim\\scene\\scene_file_writer.py#514\u001b\\\u001b[2m514\u001b[0m\u001b]8;;\u001b\\\n",
       "                             written in \u001b[32m'c:\\Users\\thoma\\Desktop\\Apre\u001b[0m                         \n",
       "                             \u001b[32mndizado\\Manim\\media\\videos\\Manim\\480p15\u001b[0m                         \n",
       "                             \u001b[32m\\partial_movie_files\\AdditiveFunctions\\\u001b[0m                         \n",
       "                             \u001b[32m2201830969_3790505814_1103194265.mp4'\u001b[0m                           \n"
      ]
     },
     "metadata": {},
     "output_type": "display_data"
    },
    {
     "data": {
      "text/html": [
       "<pre style=\"white-space:pre;overflow-x:auto;line-height:normal;font-family:Menlo,'DejaVu Sans Mono',consolas,'Courier New',monospace\"><span style=\"color: #7fbfbf; text-decoration-color: #7fbfbf\">[01/31/22 20:59:21] </span><span style=\"color: #008000; text-decoration-color: #008000\">INFO    </span> Animation <span style=\"color: #008000; text-decoration-color: #008000\">45</span> : Partial movie file       <a href=\"file://C:\\Users\\thoma\\AppData\\Local\\Programs\\Python\\Python39\\lib\\site-packages\\manim\\scene\\scene_file_writer.py\"><span style=\"color: #7f7f7f; text-decoration-color: #7f7f7f\">scene_file_writer.py</span></a><span style=\"color: #7f7f7f; text-decoration-color: #7f7f7f\">:</span><a href=\"file://C:\\Users\\thoma\\AppData\\Local\\Programs\\Python\\Python39\\lib\\site-packages\\manim\\scene\\scene_file_writer.py#514\"><span style=\"color: #7f7f7f; text-decoration-color: #7f7f7f\">514</span></a>\n",
       "                             written in <span style=\"color: #008000; text-decoration-color: #008000\">'c:\\Users\\thoma\\Desktop\\Apre</span>                         \n",
       "                             <span style=\"color: #008000; text-decoration-color: #008000\">ndizado\\Manim\\media\\videos\\Manim\\480p15</span>                         \n",
       "                             <span style=\"color: #008000; text-decoration-color: #008000\">\\partial_movie_files\\AdditiveFunctions\\</span>                         \n",
       "                             <span style=\"color: #008000; text-decoration-color: #008000\">2201830969_3493041802_3381875317.mp4'</span>                           \n",
       "</pre>\n"
      ],
      "text/plain": [
       "\u001b[2;36m[01/31/22 20:59:21]\u001b[0m\u001b[2;36m \u001b[0m\u001b[32mINFO    \u001b[0m Animation \u001b[32m45\u001b[0m : Partial movie file       \u001b]8;id=176544;file://C:\\Users\\thoma\\AppData\\Local\\Programs\\Python\\Python39\\lib\\site-packages\\manim\\scene\\scene_file_writer.py\u001b\\\u001b[2mscene_file_writer.py\u001b[0m\u001b]8;;\u001b\\\u001b[2m:\u001b[0m\u001b]8;id=803009;file://C:\\Users\\thoma\\AppData\\Local\\Programs\\Python\\Python39\\lib\\site-packages\\manim\\scene\\scene_file_writer.py#514\u001b\\\u001b[2m514\u001b[0m\u001b]8;;\u001b\\\n",
       "                             written in \u001b[32m'c:\\Users\\thoma\\Desktop\\Apre\u001b[0m                         \n",
       "                             \u001b[32mndizado\\Manim\\media\\videos\\Manim\\480p15\u001b[0m                         \n",
       "                             \u001b[32m\\partial_movie_files\\AdditiveFunctions\\\u001b[0m                         \n",
       "                             \u001b[32m2201830969_3493041802_3381875317.mp4'\u001b[0m                           \n"
      ]
     },
     "metadata": {},
     "output_type": "display_data"
    },
    {
     "name": "stderr",
     "output_type": "stream",
     "text": [
      "<string>:77: DeprecationWarning: This method is not guaranteed to stay around. Please prefer getting the attribute normally.\n",
      "                                                                                         \r"
     ]
    },
    {
     "data": {
      "text/html": [
       "<pre style=\"white-space:pre;overflow-x:auto;line-height:normal;font-family:Menlo,'DejaVu Sans Mono',consolas,'Courier New',monospace\"><span style=\"color: #7fbfbf; text-decoration-color: #7fbfbf\">[01/31/22 20:59:23] </span><span style=\"color: #008000; text-decoration-color: #008000\">INFO    </span> Animation <span style=\"color: #008000; text-decoration-color: #008000\">46</span> : Partial movie file       <a href=\"file://C:\\Users\\thoma\\AppData\\Local\\Programs\\Python\\Python39\\lib\\site-packages\\manim\\scene\\scene_file_writer.py\"><span style=\"color: #7f7f7f; text-decoration-color: #7f7f7f\">scene_file_writer.py</span></a><span style=\"color: #7f7f7f; text-decoration-color: #7f7f7f\">:</span><a href=\"file://C:\\Users\\thoma\\AppData\\Local\\Programs\\Python\\Python39\\lib\\site-packages\\manim\\scene\\scene_file_writer.py#514\"><span style=\"color: #7f7f7f; text-decoration-color: #7f7f7f\">514</span></a>\n",
       "                             written in <span style=\"color: #008000; text-decoration-color: #008000\">'c:\\Users\\thoma\\Desktop\\Apre</span>                         \n",
       "                             <span style=\"color: #008000; text-decoration-color: #008000\">ndizado\\Manim\\media\\videos\\Manim\\480p15</span>                         \n",
       "                             <span style=\"color: #008000; text-decoration-color: #008000\">\\partial_movie_files\\AdditiveFunctions\\</span>                         \n",
       "                             <span style=\"color: #008000; text-decoration-color: #008000\">2201830969_2294735661_894175904.mp4'</span>                            \n",
       "</pre>\n"
      ],
      "text/plain": [
       "\u001b[2;36m[01/31/22 20:59:23]\u001b[0m\u001b[2;36m \u001b[0m\u001b[32mINFO    \u001b[0m Animation \u001b[32m46\u001b[0m : Partial movie file       \u001b]8;id=730054;file://C:\\Users\\thoma\\AppData\\Local\\Programs\\Python\\Python39\\lib\\site-packages\\manim\\scene\\scene_file_writer.py\u001b\\\u001b[2mscene_file_writer.py\u001b[0m\u001b]8;;\u001b\\\u001b[2m:\u001b[0m\u001b]8;id=647798;file://C:\\Users\\thoma\\AppData\\Local\\Programs\\Python\\Python39\\lib\\site-packages\\manim\\scene\\scene_file_writer.py#514\u001b\\\u001b[2m514\u001b[0m\u001b]8;;\u001b\\\n",
       "                             written in \u001b[32m'c:\\Users\\thoma\\Desktop\\Apre\u001b[0m                         \n",
       "                             \u001b[32mndizado\\Manim\\media\\videos\\Manim\\480p15\u001b[0m                         \n",
       "                             \u001b[32m\\partial_movie_files\\AdditiveFunctions\\\u001b[0m                         \n",
       "                             \u001b[32m2201830969_2294735661_894175904.mp4'\u001b[0m                            \n"
      ]
     },
     "metadata": {},
     "output_type": "display_data"
    },
    {
     "name": "stderr",
     "output_type": "stream",
     "text": [
      "                                                                                          \r"
     ]
    },
    {
     "data": {
      "text/html": [
       "<pre style=\"white-space:pre;overflow-x:auto;line-height:normal;font-family:Menlo,'DejaVu Sans Mono',consolas,'Courier New',monospace\"><span style=\"color: #7fbfbf; text-decoration-color: #7fbfbf\">[01/31/22 20:59:24] </span><span style=\"color: #008000; text-decoration-color: #008000\">INFO    </span> Animation <span style=\"color: #008000; text-decoration-color: #008000\">47</span> : Partial movie file       <a href=\"file://C:\\Users\\thoma\\AppData\\Local\\Programs\\Python\\Python39\\lib\\site-packages\\manim\\scene\\scene_file_writer.py\"><span style=\"color: #7f7f7f; text-decoration-color: #7f7f7f\">scene_file_writer.py</span></a><span style=\"color: #7f7f7f; text-decoration-color: #7f7f7f\">:</span><a href=\"file://C:\\Users\\thoma\\AppData\\Local\\Programs\\Python\\Python39\\lib\\site-packages\\manim\\scene\\scene_file_writer.py#514\"><span style=\"color: #7f7f7f; text-decoration-color: #7f7f7f\">514</span></a>\n",
       "                             written in <span style=\"color: #008000; text-decoration-color: #008000\">'c:\\Users\\thoma\\Desktop\\Apre</span>                         \n",
       "                             <span style=\"color: #008000; text-decoration-color: #008000\">ndizado\\Manim\\media\\videos\\Manim\\480p15</span>                         \n",
       "                             <span style=\"color: #008000; text-decoration-color: #008000\">\\partial_movie_files\\AdditiveFunctions\\</span>                         \n",
       "                             <span style=\"color: #008000; text-decoration-color: #008000\">2201830969_768890804_947654416.mp4'</span>                             \n",
       "</pre>\n"
      ],
      "text/plain": [
       "\u001b[2;36m[01/31/22 20:59:24]\u001b[0m\u001b[2;36m \u001b[0m\u001b[32mINFO    \u001b[0m Animation \u001b[32m47\u001b[0m : Partial movie file       \u001b]8;id=811940;file://C:\\Users\\thoma\\AppData\\Local\\Programs\\Python\\Python39\\lib\\site-packages\\manim\\scene\\scene_file_writer.py\u001b\\\u001b[2mscene_file_writer.py\u001b[0m\u001b]8;;\u001b\\\u001b[2m:\u001b[0m\u001b]8;id=793920;file://C:\\Users\\thoma\\AppData\\Local\\Programs\\Python\\Python39\\lib\\site-packages\\manim\\scene\\scene_file_writer.py#514\u001b\\\u001b[2m514\u001b[0m\u001b]8;;\u001b\\\n",
       "                             written in \u001b[32m'c:\\Users\\thoma\\Desktop\\Apre\u001b[0m                         \n",
       "                             \u001b[32mndizado\\Manim\\media\\videos\\Manim\\480p15\u001b[0m                         \n",
       "                             \u001b[32m\\partial_movie_files\\AdditiveFunctions\\\u001b[0m                         \n",
       "                             \u001b[32m2201830969_768890804_947654416.mp4'\u001b[0m                             \n"
      ]
     },
     "metadata": {},
     "output_type": "display_data"
    },
    {
     "name": "stderr",
     "output_type": "stream",
     "text": [
      "                                                                                         \r"
     ]
    },
    {
     "data": {
      "text/html": [
       "<pre style=\"white-space:pre;overflow-x:auto;line-height:normal;font-family:Menlo,'DejaVu Sans Mono',consolas,'Courier New',monospace\"><span style=\"color: #7fbfbf; text-decoration-color: #7fbfbf\">[01/31/22 20:59:25] </span><span style=\"color: #008000; text-decoration-color: #008000\">INFO    </span> Animation <span style=\"color: #008000; text-decoration-color: #008000\">48</span> : Partial movie file       <a href=\"file://C:\\Users\\thoma\\AppData\\Local\\Programs\\Python\\Python39\\lib\\site-packages\\manim\\scene\\scene_file_writer.py\"><span style=\"color: #7f7f7f; text-decoration-color: #7f7f7f\">scene_file_writer.py</span></a><span style=\"color: #7f7f7f; text-decoration-color: #7f7f7f\">:</span><a href=\"file://C:\\Users\\thoma\\AppData\\Local\\Programs\\Python\\Python39\\lib\\site-packages\\manim\\scene\\scene_file_writer.py#514\"><span style=\"color: #7f7f7f; text-decoration-color: #7f7f7f\">514</span></a>\n",
       "                             written in <span style=\"color: #008000; text-decoration-color: #008000\">'c:\\Users\\thoma\\Desktop\\Apre</span>                         \n",
       "                             <span style=\"color: #008000; text-decoration-color: #008000\">ndizado\\Manim\\media\\videos\\Manim\\480p15</span>                         \n",
       "                             <span style=\"color: #008000; text-decoration-color: #008000\">\\partial_movie_files\\AdditiveFunctions\\</span>                         \n",
       "                             <span style=\"color: #008000; text-decoration-color: #008000\">2201830969_1194406388_66941357.mp4'</span>                             \n",
       "</pre>\n"
      ],
      "text/plain": [
       "\u001b[2;36m[01/31/22 20:59:25]\u001b[0m\u001b[2;36m \u001b[0m\u001b[32mINFO    \u001b[0m Animation \u001b[32m48\u001b[0m : Partial movie file       \u001b]8;id=317406;file://C:\\Users\\thoma\\AppData\\Local\\Programs\\Python\\Python39\\lib\\site-packages\\manim\\scene\\scene_file_writer.py\u001b\\\u001b[2mscene_file_writer.py\u001b[0m\u001b]8;;\u001b\\\u001b[2m:\u001b[0m\u001b]8;id=531576;file://C:\\Users\\thoma\\AppData\\Local\\Programs\\Python\\Python39\\lib\\site-packages\\manim\\scene\\scene_file_writer.py#514\u001b\\\u001b[2m514\u001b[0m\u001b]8;;\u001b\\\n",
       "                             written in \u001b[32m'c:\\Users\\thoma\\Desktop\\Apre\u001b[0m                         \n",
       "                             \u001b[32mndizado\\Manim\\media\\videos\\Manim\\480p15\u001b[0m                         \n",
       "                             \u001b[32m\\partial_movie_files\\AdditiveFunctions\\\u001b[0m                         \n",
       "                             \u001b[32m2201830969_1194406388_66941357.mp4'\u001b[0m                             \n"
      ]
     },
     "metadata": {},
     "output_type": "display_data"
    },
    {
     "name": "stderr",
     "output_type": "stream",
     "text": [
      "                                                                                         \r"
     ]
    },
    {
     "data": {
      "text/html": [
       "<pre style=\"white-space:pre;overflow-x:auto;line-height:normal;font-family:Menlo,'DejaVu Sans Mono',consolas,'Courier New',monospace\"><span style=\"color: #7fbfbf; text-decoration-color: #7fbfbf\">[01/31/22 20:59:26] </span><span style=\"color: #008000; text-decoration-color: #008000\">INFO    </span> Animation <span style=\"color: #008000; text-decoration-color: #008000\">49</span> : Partial movie file       <a href=\"file://C:\\Users\\thoma\\AppData\\Local\\Programs\\Python\\Python39\\lib\\site-packages\\manim\\scene\\scene_file_writer.py\"><span style=\"color: #7f7f7f; text-decoration-color: #7f7f7f\">scene_file_writer.py</span></a><span style=\"color: #7f7f7f; text-decoration-color: #7f7f7f\">:</span><a href=\"file://C:\\Users\\thoma\\AppData\\Local\\Programs\\Python\\Python39\\lib\\site-packages\\manim\\scene\\scene_file_writer.py#514\"><span style=\"color: #7f7f7f; text-decoration-color: #7f7f7f\">514</span></a>\n",
       "                             written in <span style=\"color: #008000; text-decoration-color: #008000\">'c:\\Users\\thoma\\Desktop\\Apre</span>                         \n",
       "                             <span style=\"color: #008000; text-decoration-color: #008000\">ndizado\\Manim\\media\\videos\\Manim\\480p15</span>                         \n",
       "                             <span style=\"color: #008000; text-decoration-color: #008000\">\\partial_movie_files\\AdditiveFunctions\\</span>                         \n",
       "                             <span style=\"color: #008000; text-decoration-color: #008000\">1495979052_2469270362_1602408721.mp4'</span>                           \n",
       "</pre>\n"
      ],
      "text/plain": [
       "\u001b[2;36m[01/31/22 20:59:26]\u001b[0m\u001b[2;36m \u001b[0m\u001b[32mINFO    \u001b[0m Animation \u001b[32m49\u001b[0m : Partial movie file       \u001b]8;id=126048;file://C:\\Users\\thoma\\AppData\\Local\\Programs\\Python\\Python39\\lib\\site-packages\\manim\\scene\\scene_file_writer.py\u001b\\\u001b[2mscene_file_writer.py\u001b[0m\u001b]8;;\u001b\\\u001b[2m:\u001b[0m\u001b]8;id=831199;file://C:\\Users\\thoma\\AppData\\Local\\Programs\\Python\\Python39\\lib\\site-packages\\manim\\scene\\scene_file_writer.py#514\u001b\\\u001b[2m514\u001b[0m\u001b]8;;\u001b\\\n",
       "                             written in \u001b[32m'c:\\Users\\thoma\\Desktop\\Apre\u001b[0m                         \n",
       "                             \u001b[32mndizado\\Manim\\media\\videos\\Manim\\480p15\u001b[0m                         \n",
       "                             \u001b[32m\\partial_movie_files\\AdditiveFunctions\\\u001b[0m                         \n",
       "                             \u001b[32m1495979052_2469270362_1602408721.mp4'\u001b[0m                           \n"
      ]
     },
     "metadata": {},
     "output_type": "display_data"
    },
    {
     "name": "stderr",
     "output_type": "stream",
     "text": [
      "                                                                                          \r"
     ]
    },
    {
     "data": {
      "text/html": [
       "<pre style=\"white-space:pre;overflow-x:auto;line-height:normal;font-family:Menlo,'DejaVu Sans Mono',consolas,'Courier New',monospace\"><span style=\"color: #7fbfbf; text-decoration-color: #7fbfbf\">[01/31/22 20:59:27] </span><span style=\"color: #008000; text-decoration-color: #008000\">INFO    </span> Animation <span style=\"color: #008000; text-decoration-color: #008000\">50</span> : Partial movie file       <a href=\"file://C:\\Users\\thoma\\AppData\\Local\\Programs\\Python\\Python39\\lib\\site-packages\\manim\\scene\\scene_file_writer.py\"><span style=\"color: #7f7f7f; text-decoration-color: #7f7f7f\">scene_file_writer.py</span></a><span style=\"color: #7f7f7f; text-decoration-color: #7f7f7f\">:</span><a href=\"file://C:\\Users\\thoma\\AppData\\Local\\Programs\\Python\\Python39\\lib\\site-packages\\manim\\scene\\scene_file_writer.py#514\"><span style=\"color: #7f7f7f; text-decoration-color: #7f7f7f\">514</span></a>\n",
       "                             written in <span style=\"color: #008000; text-decoration-color: #008000\">'c:\\Users\\thoma\\Desktop\\Apre</span>                         \n",
       "                             <span style=\"color: #008000; text-decoration-color: #008000\">ndizado\\Manim\\media\\videos\\Manim\\480p15</span>                         \n",
       "                             <span style=\"color: #008000; text-decoration-color: #008000\">\\partial_movie_files\\AdditiveFunctions\\</span>                         \n",
       "                             <span style=\"color: #008000; text-decoration-color: #008000\">2201830969_1516734613_2524651410.mp4'</span>                           \n",
       "</pre>\n"
      ],
      "text/plain": [
       "\u001b[2;36m[01/31/22 20:59:27]\u001b[0m\u001b[2;36m \u001b[0m\u001b[32mINFO    \u001b[0m Animation \u001b[32m50\u001b[0m : Partial movie file       \u001b]8;id=803838;file://C:\\Users\\thoma\\AppData\\Local\\Programs\\Python\\Python39\\lib\\site-packages\\manim\\scene\\scene_file_writer.py\u001b\\\u001b[2mscene_file_writer.py\u001b[0m\u001b]8;;\u001b\\\u001b[2m:\u001b[0m\u001b]8;id=186650;file://C:\\Users\\thoma\\AppData\\Local\\Programs\\Python\\Python39\\lib\\site-packages\\manim\\scene\\scene_file_writer.py#514\u001b\\\u001b[2m514\u001b[0m\u001b]8;;\u001b\\\n",
       "                             written in \u001b[32m'c:\\Users\\thoma\\Desktop\\Apre\u001b[0m                         \n",
       "                             \u001b[32mndizado\\Manim\\media\\videos\\Manim\\480p15\u001b[0m                         \n",
       "                             \u001b[32m\\partial_movie_files\\AdditiveFunctions\\\u001b[0m                         \n",
       "                             \u001b[32m2201830969_1516734613_2524651410.mp4'\u001b[0m                           \n"
      ]
     },
     "metadata": {},
     "output_type": "display_data"
    },
    {
     "name": "stderr",
     "output_type": "stream",
     "text": [
      "                                                                                          \r"
     ]
    },
    {
     "data": {
      "text/html": [
       "<pre style=\"white-space:pre;overflow-x:auto;line-height:normal;font-family:Menlo,'DejaVu Sans Mono',consolas,'Courier New',monospace\"><span style=\"color: #7fbfbf; text-decoration-color: #7fbfbf\">[01/31/22 20:59:29] </span><span style=\"color: #008000; text-decoration-color: #008000\">INFO    </span> Animation <span style=\"color: #008000; text-decoration-color: #008000\">51</span> : Partial movie file       <a href=\"file://C:\\Users\\thoma\\AppData\\Local\\Programs\\Python\\Python39\\lib\\site-packages\\manim\\scene\\scene_file_writer.py\"><span style=\"color: #7f7f7f; text-decoration-color: #7f7f7f\">scene_file_writer.py</span></a><span style=\"color: #7f7f7f; text-decoration-color: #7f7f7f\">:</span><a href=\"file://C:\\Users\\thoma\\AppData\\Local\\Programs\\Python\\Python39\\lib\\site-packages\\manim\\scene\\scene_file_writer.py#514\"><span style=\"color: #7f7f7f; text-decoration-color: #7f7f7f\">514</span></a>\n",
       "                             written in <span style=\"color: #008000; text-decoration-color: #008000\">'c:\\Users\\thoma\\Desktop\\Apre</span>                         \n",
       "                             <span style=\"color: #008000; text-decoration-color: #008000\">ndizado\\Manim\\media\\videos\\Manim\\480p15</span>                         \n",
       "                             <span style=\"color: #008000; text-decoration-color: #008000\">\\partial_movie_files\\AdditiveFunctions\\</span>                         \n",
       "                             <span style=\"color: #008000; text-decoration-color: #008000\">2201830969_4067971990_3790901664.mp4'</span>                           \n",
       "</pre>\n"
      ],
      "text/plain": [
       "\u001b[2;36m[01/31/22 20:59:29]\u001b[0m\u001b[2;36m \u001b[0m\u001b[32mINFO    \u001b[0m Animation \u001b[32m51\u001b[0m : Partial movie file       \u001b]8;id=365922;file://C:\\Users\\thoma\\AppData\\Local\\Programs\\Python\\Python39\\lib\\site-packages\\manim\\scene\\scene_file_writer.py\u001b\\\u001b[2mscene_file_writer.py\u001b[0m\u001b]8;;\u001b\\\u001b[2m:\u001b[0m\u001b]8;id=426967;file://C:\\Users\\thoma\\AppData\\Local\\Programs\\Python\\Python39\\lib\\site-packages\\manim\\scene\\scene_file_writer.py#514\u001b\\\u001b[2m514\u001b[0m\u001b]8;;\u001b\\\n",
       "                             written in \u001b[32m'c:\\Users\\thoma\\Desktop\\Apre\u001b[0m                         \n",
       "                             \u001b[32mndizado\\Manim\\media\\videos\\Manim\\480p15\u001b[0m                         \n",
       "                             \u001b[32m\\partial_movie_files\\AdditiveFunctions\\\u001b[0m                         \n",
       "                             \u001b[32m2201830969_4067971990_3790901664.mp4'\u001b[0m                           \n"
      ]
     },
     "metadata": {},
     "output_type": "display_data"
    },
    {
     "name": "stderr",
     "output_type": "stream",
     "text": [
      "                                                                                         \r"
     ]
    },
    {
     "data": {
      "text/html": [
       "<pre style=\"white-space:pre;overflow-x:auto;line-height:normal;font-family:Menlo,'DejaVu Sans Mono',consolas,'Courier New',monospace\"><span style=\"color: #7fbfbf; text-decoration-color: #7fbfbf\">[01/31/22 20:59:30] </span><span style=\"color: #008000; text-decoration-color: #008000\">INFO    </span> Animation <span style=\"color: #008000; text-decoration-color: #008000\">52</span> : Partial movie file       <a href=\"file://C:\\Users\\thoma\\AppData\\Local\\Programs\\Python\\Python39\\lib\\site-packages\\manim\\scene\\scene_file_writer.py\"><span style=\"color: #7f7f7f; text-decoration-color: #7f7f7f\">scene_file_writer.py</span></a><span style=\"color: #7f7f7f; text-decoration-color: #7f7f7f\">:</span><a href=\"file://C:\\Users\\thoma\\AppData\\Local\\Programs\\Python\\Python39\\lib\\site-packages\\manim\\scene\\scene_file_writer.py#514\"><span style=\"color: #7f7f7f; text-decoration-color: #7f7f7f\">514</span></a>\n",
       "                             written in <span style=\"color: #008000; text-decoration-color: #008000\">'c:\\Users\\thoma\\Desktop\\Apre</span>                         \n",
       "                             <span style=\"color: #008000; text-decoration-color: #008000\">ndizado\\Manim\\media\\videos\\Manim\\480p15</span>                         \n",
       "                             <span style=\"color: #008000; text-decoration-color: #008000\">\\partial_movie_files\\AdditiveFunctions\\</span>                         \n",
       "                             <span style=\"color: #008000; text-decoration-color: #008000\">2201830969_2274444784_2972943346.mp4'</span>                           \n",
       "</pre>\n"
      ],
      "text/plain": [
       "\u001b[2;36m[01/31/22 20:59:30]\u001b[0m\u001b[2;36m \u001b[0m\u001b[32mINFO    \u001b[0m Animation \u001b[32m52\u001b[0m : Partial movie file       \u001b]8;id=432241;file://C:\\Users\\thoma\\AppData\\Local\\Programs\\Python\\Python39\\lib\\site-packages\\manim\\scene\\scene_file_writer.py\u001b\\\u001b[2mscene_file_writer.py\u001b[0m\u001b]8;;\u001b\\\u001b[2m:\u001b[0m\u001b]8;id=707913;file://C:\\Users\\thoma\\AppData\\Local\\Programs\\Python\\Python39\\lib\\site-packages\\manim\\scene\\scene_file_writer.py#514\u001b\\\u001b[2m514\u001b[0m\u001b]8;;\u001b\\\n",
       "                             written in \u001b[32m'c:\\Users\\thoma\\Desktop\\Apre\u001b[0m                         \n",
       "                             \u001b[32mndizado\\Manim\\media\\videos\\Manim\\480p15\u001b[0m                         \n",
       "                             \u001b[32m\\partial_movie_files\\AdditiveFunctions\\\u001b[0m                         \n",
       "                             \u001b[32m2201830969_2274444784_2972943346.mp4'\u001b[0m                           \n"
      ]
     },
     "metadata": {},
     "output_type": "display_data"
    },
    {
     "name": "stderr",
     "output_type": "stream",
     "text": [
      "                                                                                         \r"
     ]
    },
    {
     "data": {
      "text/html": [
       "<pre style=\"white-space:pre;overflow-x:auto;line-height:normal;font-family:Menlo,'DejaVu Sans Mono',consolas,'Courier New',monospace\"><span style=\"color: #7fbfbf; text-decoration-color: #7fbfbf\">[01/31/22 20:59:31] </span><span style=\"color: #008000; text-decoration-color: #008000\">INFO    </span> Animation <span style=\"color: #008000; text-decoration-color: #008000\">53</span> : Partial movie file       <a href=\"file://C:\\Users\\thoma\\AppData\\Local\\Programs\\Python\\Python39\\lib\\site-packages\\manim\\scene\\scene_file_writer.py\"><span style=\"color: #7f7f7f; text-decoration-color: #7f7f7f\">scene_file_writer.py</span></a><span style=\"color: #7f7f7f; text-decoration-color: #7f7f7f\">:</span><a href=\"file://C:\\Users\\thoma\\AppData\\Local\\Programs\\Python\\Python39\\lib\\site-packages\\manim\\scene\\scene_file_writer.py#514\"><span style=\"color: #7f7f7f; text-decoration-color: #7f7f7f\">514</span></a>\n",
       "                             written in <span style=\"color: #008000; text-decoration-color: #008000\">'c:\\Users\\thoma\\Desktop\\Apre</span>                         \n",
       "                             <span style=\"color: #008000; text-decoration-color: #008000\">ndizado\\Manim\\media\\videos\\Manim\\480p15</span>                         \n",
       "                             <span style=\"color: #008000; text-decoration-color: #008000\">\\partial_movie_files\\AdditiveFunctions\\</span>                         \n",
       "                             <span style=\"color: #008000; text-decoration-color: #008000\">2201830969_3286797772_3820274860.mp4'</span>                           \n",
       "</pre>\n"
      ],
      "text/plain": [
       "\u001b[2;36m[01/31/22 20:59:31]\u001b[0m\u001b[2;36m \u001b[0m\u001b[32mINFO    \u001b[0m Animation \u001b[32m53\u001b[0m : Partial movie file       \u001b]8;id=807803;file://C:\\Users\\thoma\\AppData\\Local\\Programs\\Python\\Python39\\lib\\site-packages\\manim\\scene\\scene_file_writer.py\u001b\\\u001b[2mscene_file_writer.py\u001b[0m\u001b]8;;\u001b\\\u001b[2m:\u001b[0m\u001b]8;id=673871;file://C:\\Users\\thoma\\AppData\\Local\\Programs\\Python\\Python39\\lib\\site-packages\\manim\\scene\\scene_file_writer.py#514\u001b\\\u001b[2m514\u001b[0m\u001b]8;;\u001b\\\n",
       "                             written in \u001b[32m'c:\\Users\\thoma\\Desktop\\Apre\u001b[0m                         \n",
       "                             \u001b[32mndizado\\Manim\\media\\videos\\Manim\\480p15\u001b[0m                         \n",
       "                             \u001b[32m\\partial_movie_files\\AdditiveFunctions\\\u001b[0m                         \n",
       "                             \u001b[32m2201830969_3286797772_3820274860.mp4'\u001b[0m                           \n"
      ]
     },
     "metadata": {},
     "output_type": "display_data"
    },
    {
     "name": "stderr",
     "output_type": "stream",
     "text": [
      "                                                                                         \r"
     ]
    },
    {
     "data": {
      "text/html": [
       "<pre style=\"white-space:pre;overflow-x:auto;line-height:normal;font-family:Menlo,'DejaVu Sans Mono',consolas,'Courier New',monospace\"><span style=\"color: #7fbfbf; text-decoration-color: #7fbfbf\">[01/31/22 20:59:32] </span><span style=\"color: #008000; text-decoration-color: #008000\">INFO    </span> Animation <span style=\"color: #008000; text-decoration-color: #008000\">54</span> : Partial movie file       <a href=\"file://C:\\Users\\thoma\\AppData\\Local\\Programs\\Python\\Python39\\lib\\site-packages\\manim\\scene\\scene_file_writer.py\"><span style=\"color: #7f7f7f; text-decoration-color: #7f7f7f\">scene_file_writer.py</span></a><span style=\"color: #7f7f7f; text-decoration-color: #7f7f7f\">:</span><a href=\"file://C:\\Users\\thoma\\AppData\\Local\\Programs\\Python\\Python39\\lib\\site-packages\\manim\\scene\\scene_file_writer.py#514\"><span style=\"color: #7f7f7f; text-decoration-color: #7f7f7f\">514</span></a>\n",
       "                             written in <span style=\"color: #008000; text-decoration-color: #008000\">'c:\\Users\\thoma\\Desktop\\Apre</span>                         \n",
       "                             <span style=\"color: #008000; text-decoration-color: #008000\">ndizado\\Manim\\media\\videos\\Manim\\480p15</span>                         \n",
       "                             <span style=\"color: #008000; text-decoration-color: #008000\">\\partial_movie_files\\AdditiveFunctions\\</span>                         \n",
       "                             <span style=\"color: #008000; text-decoration-color: #008000\">1495979052_4102722961_1446890689.mp4'</span>                           \n",
       "</pre>\n"
      ],
      "text/plain": [
       "\u001b[2;36m[01/31/22 20:59:32]\u001b[0m\u001b[2;36m \u001b[0m\u001b[32mINFO    \u001b[0m Animation \u001b[32m54\u001b[0m : Partial movie file       \u001b]8;id=819157;file://C:\\Users\\thoma\\AppData\\Local\\Programs\\Python\\Python39\\lib\\site-packages\\manim\\scene\\scene_file_writer.py\u001b\\\u001b[2mscene_file_writer.py\u001b[0m\u001b]8;;\u001b\\\u001b[2m:\u001b[0m\u001b]8;id=833323;file://C:\\Users\\thoma\\AppData\\Local\\Programs\\Python\\Python39\\lib\\site-packages\\manim\\scene\\scene_file_writer.py#514\u001b\\\u001b[2m514\u001b[0m\u001b]8;;\u001b\\\n",
       "                             written in \u001b[32m'c:\\Users\\thoma\\Desktop\\Apre\u001b[0m                         \n",
       "                             \u001b[32mndizado\\Manim\\media\\videos\\Manim\\480p15\u001b[0m                         \n",
       "                             \u001b[32m\\partial_movie_files\\AdditiveFunctions\\\u001b[0m                         \n",
       "                             \u001b[32m1495979052_4102722961_1446890689.mp4'\u001b[0m                           \n"
      ]
     },
     "metadata": {},
     "output_type": "display_data"
    },
    {
     "name": "stderr",
     "output_type": "stream",
     "text": [
      "                                                                                         \r"
     ]
    },
    {
     "data": {
      "text/html": [
       "<pre style=\"white-space:pre;overflow-x:auto;line-height:normal;font-family:Menlo,'DejaVu Sans Mono',consolas,'Courier New',monospace\"><span style=\"color: #7fbfbf; text-decoration-color: #7fbfbf\">[01/31/22 20:59:33] </span><span style=\"color: #008000; text-decoration-color: #008000\">INFO    </span> Animation <span style=\"color: #008000; text-decoration-color: #008000\">55</span> : Partial movie file       <a href=\"file://C:\\Users\\thoma\\AppData\\Local\\Programs\\Python\\Python39\\lib\\site-packages\\manim\\scene\\scene_file_writer.py\"><span style=\"color: #7f7f7f; text-decoration-color: #7f7f7f\">scene_file_writer.py</span></a><span style=\"color: #7f7f7f; text-decoration-color: #7f7f7f\">:</span><a href=\"file://C:\\Users\\thoma\\AppData\\Local\\Programs\\Python\\Python39\\lib\\site-packages\\manim\\scene\\scene_file_writer.py#514\"><span style=\"color: #7f7f7f; text-decoration-color: #7f7f7f\">514</span></a>\n",
       "                             written in <span style=\"color: #008000; text-decoration-color: #008000\">'c:\\Users\\thoma\\Desktop\\Apre</span>                         \n",
       "                             <span style=\"color: #008000; text-decoration-color: #008000\">ndizado\\Manim\\media\\videos\\Manim\\480p15</span>                         \n",
       "                             <span style=\"color: #008000; text-decoration-color: #008000\">\\partial_movie_files\\AdditiveFunctions\\</span>                         \n",
       "                             <span style=\"color: #008000; text-decoration-color: #008000\">2201830969_4043031457_531821497.mp4'</span>                            \n",
       "</pre>\n"
      ],
      "text/plain": [
       "\u001b[2;36m[01/31/22 20:59:33]\u001b[0m\u001b[2;36m \u001b[0m\u001b[32mINFO    \u001b[0m Animation \u001b[32m55\u001b[0m : Partial movie file       \u001b]8;id=467299;file://C:\\Users\\thoma\\AppData\\Local\\Programs\\Python\\Python39\\lib\\site-packages\\manim\\scene\\scene_file_writer.py\u001b\\\u001b[2mscene_file_writer.py\u001b[0m\u001b]8;;\u001b\\\u001b[2m:\u001b[0m\u001b]8;id=383249;file://C:\\Users\\thoma\\AppData\\Local\\Programs\\Python\\Python39\\lib\\site-packages\\manim\\scene\\scene_file_writer.py#514\u001b\\\u001b[2m514\u001b[0m\u001b]8;;\u001b\\\n",
       "                             written in \u001b[32m'c:\\Users\\thoma\\Desktop\\Apre\u001b[0m                         \n",
       "                             \u001b[32mndizado\\Manim\\media\\videos\\Manim\\480p15\u001b[0m                         \n",
       "                             \u001b[32m\\partial_movie_files\\AdditiveFunctions\\\u001b[0m                         \n",
       "                             \u001b[32m2201830969_4043031457_531821497.mp4'\u001b[0m                            \n"
      ]
     },
     "metadata": {},
     "output_type": "display_data"
    },
    {
     "name": "stderr",
     "output_type": "stream",
     "text": [
      "                                                                                          \r"
     ]
    },
    {
     "data": {
      "text/html": [
       "<pre style=\"white-space:pre;overflow-x:auto;line-height:normal;font-family:Menlo,'DejaVu Sans Mono',consolas,'Courier New',monospace\"><span style=\"color: #7fbfbf; text-decoration-color: #7fbfbf\">[01/31/22 20:59:34] </span><span style=\"color: #008000; text-decoration-color: #008000\">INFO    </span> Animation <span style=\"color: #008000; text-decoration-color: #008000\">56</span> : Partial movie file       <a href=\"file://C:\\Users\\thoma\\AppData\\Local\\Programs\\Python\\Python39\\lib\\site-packages\\manim\\scene\\scene_file_writer.py\"><span style=\"color: #7f7f7f; text-decoration-color: #7f7f7f\">scene_file_writer.py</span></a><span style=\"color: #7f7f7f; text-decoration-color: #7f7f7f\">:</span><a href=\"file://C:\\Users\\thoma\\AppData\\Local\\Programs\\Python\\Python39\\lib\\site-packages\\manim\\scene\\scene_file_writer.py#514\"><span style=\"color: #7f7f7f; text-decoration-color: #7f7f7f\">514</span></a>\n",
       "                             written in <span style=\"color: #008000; text-decoration-color: #008000\">'c:\\Users\\thoma\\Desktop\\Apre</span>                         \n",
       "                             <span style=\"color: #008000; text-decoration-color: #008000\">ndizado\\Manim\\media\\videos\\Manim\\480p15</span>                         \n",
       "                             <span style=\"color: #008000; text-decoration-color: #008000\">\\partial_movie_files\\AdditiveFunctions\\</span>                         \n",
       "                             <span style=\"color: #008000; text-decoration-color: #008000\">2201830969_1561422685_4028005803.mp4'</span>                           \n",
       "</pre>\n"
      ],
      "text/plain": [
       "\u001b[2;36m[01/31/22 20:59:34]\u001b[0m\u001b[2;36m \u001b[0m\u001b[32mINFO    \u001b[0m Animation \u001b[32m56\u001b[0m : Partial movie file       \u001b]8;id=349295;file://C:\\Users\\thoma\\AppData\\Local\\Programs\\Python\\Python39\\lib\\site-packages\\manim\\scene\\scene_file_writer.py\u001b\\\u001b[2mscene_file_writer.py\u001b[0m\u001b]8;;\u001b\\\u001b[2m:\u001b[0m\u001b]8;id=954659;file://C:\\Users\\thoma\\AppData\\Local\\Programs\\Python\\Python39\\lib\\site-packages\\manim\\scene\\scene_file_writer.py#514\u001b\\\u001b[2m514\u001b[0m\u001b]8;;\u001b\\\n",
       "                             written in \u001b[32m'c:\\Users\\thoma\\Desktop\\Apre\u001b[0m                         \n",
       "                             \u001b[32mndizado\\Manim\\media\\videos\\Manim\\480p15\u001b[0m                         \n",
       "                             \u001b[32m\\partial_movie_files\\AdditiveFunctions\\\u001b[0m                         \n",
       "                             \u001b[32m2201830969_1561422685_4028005803.mp4'\u001b[0m                           \n"
      ]
     },
     "metadata": {},
     "output_type": "display_data"
    },
    {
     "name": "stderr",
     "output_type": "stream",
     "text": [
      "                                                                                         \r"
     ]
    },
    {
     "data": {
      "text/html": [
       "<pre style=\"white-space:pre;overflow-x:auto;line-height:normal;font-family:Menlo,'DejaVu Sans Mono',consolas,'Courier New',monospace\"><span style=\"color: #7fbfbf; text-decoration-color: #7fbfbf\">[01/31/22 20:59:36] </span><span style=\"color: #008000; text-decoration-color: #008000\">INFO    </span> Animation <span style=\"color: #008000; text-decoration-color: #008000\">57</span> : Partial movie file       <a href=\"file://C:\\Users\\thoma\\AppData\\Local\\Programs\\Python\\Python39\\lib\\site-packages\\manim\\scene\\scene_file_writer.py\"><span style=\"color: #7f7f7f; text-decoration-color: #7f7f7f\">scene_file_writer.py</span></a><span style=\"color: #7f7f7f; text-decoration-color: #7f7f7f\">:</span><a href=\"file://C:\\Users\\thoma\\AppData\\Local\\Programs\\Python\\Python39\\lib\\site-packages\\manim\\scene\\scene_file_writer.py#514\"><span style=\"color: #7f7f7f; text-decoration-color: #7f7f7f\">514</span></a>\n",
       "                             written in <span style=\"color: #008000; text-decoration-color: #008000\">'c:\\Users\\thoma\\Desktop\\Apre</span>                         \n",
       "                             <span style=\"color: #008000; text-decoration-color: #008000\">ndizado\\Manim\\media\\videos\\Manim\\480p15</span>                         \n",
       "                             <span style=\"color: #008000; text-decoration-color: #008000\">\\partial_movie_files\\AdditiveFunctions\\</span>                         \n",
       "                             <span style=\"color: #008000; text-decoration-color: #008000\">2201830969_3267405704_3049628366.mp4'</span>                           \n",
       "</pre>\n"
      ],
      "text/plain": [
       "\u001b[2;36m[01/31/22 20:59:36]\u001b[0m\u001b[2;36m \u001b[0m\u001b[32mINFO    \u001b[0m Animation \u001b[32m57\u001b[0m : Partial movie file       \u001b]8;id=643256;file://C:\\Users\\thoma\\AppData\\Local\\Programs\\Python\\Python39\\lib\\site-packages\\manim\\scene\\scene_file_writer.py\u001b\\\u001b[2mscene_file_writer.py\u001b[0m\u001b]8;;\u001b\\\u001b[2m:\u001b[0m\u001b]8;id=461946;file://C:\\Users\\thoma\\AppData\\Local\\Programs\\Python\\Python39\\lib\\site-packages\\manim\\scene\\scene_file_writer.py#514\u001b\\\u001b[2m514\u001b[0m\u001b]8;;\u001b\\\n",
       "                             written in \u001b[32m'c:\\Users\\thoma\\Desktop\\Apre\u001b[0m                         \n",
       "                             \u001b[32mndizado\\Manim\\media\\videos\\Manim\\480p15\u001b[0m                         \n",
       "                             \u001b[32m\\partial_movie_files\\AdditiveFunctions\\\u001b[0m                         \n",
       "                             \u001b[32m2201830969_3267405704_3049628366.mp4'\u001b[0m                           \n"
      ]
     },
     "metadata": {},
     "output_type": "display_data"
    },
    {
     "name": "stderr",
     "output_type": "stream",
     "text": [
      "                                                                                         \r"
     ]
    },
    {
     "data": {
      "text/html": [
       "<pre style=\"white-space:pre;overflow-x:auto;line-height:normal;font-family:Menlo,'DejaVu Sans Mono',consolas,'Courier New',monospace\"><span style=\"color: #7fbfbf; text-decoration-color: #7fbfbf\">[01/31/22 20:59:37] </span><span style=\"color: #008000; text-decoration-color: #008000\">INFO    </span> Animation <span style=\"color: #008000; text-decoration-color: #008000\">58</span> : Partial movie file       <a href=\"file://C:\\Users\\thoma\\AppData\\Local\\Programs\\Python\\Python39\\lib\\site-packages\\manim\\scene\\scene_file_writer.py\"><span style=\"color: #7f7f7f; text-decoration-color: #7f7f7f\">scene_file_writer.py</span></a><span style=\"color: #7f7f7f; text-decoration-color: #7f7f7f\">:</span><a href=\"file://C:\\Users\\thoma\\AppData\\Local\\Programs\\Python\\Python39\\lib\\site-packages\\manim\\scene\\scene_file_writer.py#514\"><span style=\"color: #7f7f7f; text-decoration-color: #7f7f7f\">514</span></a>\n",
       "                             written in <span style=\"color: #008000; text-decoration-color: #008000\">'c:\\Users\\thoma\\Desktop\\Apre</span>                         \n",
       "                             <span style=\"color: #008000; text-decoration-color: #008000\">ndizado\\Manim\\media\\videos\\Manim\\480p15</span>                         \n",
       "                             <span style=\"color: #008000; text-decoration-color: #008000\">\\partial_movie_files\\AdditiveFunctions\\</span>                         \n",
       "                             <span style=\"color: #008000; text-decoration-color: #008000\">1495979052_571490170_1321614743.mp4'</span>                            \n",
       "</pre>\n"
      ],
      "text/plain": [
       "\u001b[2;36m[01/31/22 20:59:37]\u001b[0m\u001b[2;36m \u001b[0m\u001b[32mINFO    \u001b[0m Animation \u001b[32m58\u001b[0m : Partial movie file       \u001b]8;id=743770;file://C:\\Users\\thoma\\AppData\\Local\\Programs\\Python\\Python39\\lib\\site-packages\\manim\\scene\\scene_file_writer.py\u001b\\\u001b[2mscene_file_writer.py\u001b[0m\u001b]8;;\u001b\\\u001b[2m:\u001b[0m\u001b]8;id=318049;file://C:\\Users\\thoma\\AppData\\Local\\Programs\\Python\\Python39\\lib\\site-packages\\manim\\scene\\scene_file_writer.py#514\u001b\\\u001b[2m514\u001b[0m\u001b]8;;\u001b\\\n",
       "                             written in \u001b[32m'c:\\Users\\thoma\\Desktop\\Apre\u001b[0m                         \n",
       "                             \u001b[32mndizado\\Manim\\media\\videos\\Manim\\480p15\u001b[0m                         \n",
       "                             \u001b[32m\\partial_movie_files\\AdditiveFunctions\\\u001b[0m                         \n",
       "                             \u001b[32m1495979052_571490170_1321614743.mp4'\u001b[0m                            \n"
      ]
     },
     "metadata": {},
     "output_type": "display_data"
    },
    {
     "name": "stderr",
     "output_type": "stream",
     "text": [
      "                                                                                         \r"
     ]
    },
    {
     "data": {
      "text/html": [
       "<pre style=\"white-space:pre;overflow-x:auto;line-height:normal;font-family:Menlo,'DejaVu Sans Mono',consolas,'Courier New',monospace\"><span style=\"color: #7fbfbf; text-decoration-color: #7fbfbf\">[01/31/22 20:59:39] </span><span style=\"color: #008000; text-decoration-color: #008000\">INFO    </span> Animation <span style=\"color: #008000; text-decoration-color: #008000\">59</span> : Partial movie file       <a href=\"file://C:\\Users\\thoma\\AppData\\Local\\Programs\\Python\\Python39\\lib\\site-packages\\manim\\scene\\scene_file_writer.py\"><span style=\"color: #7f7f7f; text-decoration-color: #7f7f7f\">scene_file_writer.py</span></a><span style=\"color: #7f7f7f; text-decoration-color: #7f7f7f\">:</span><a href=\"file://C:\\Users\\thoma\\AppData\\Local\\Programs\\Python\\Python39\\lib\\site-packages\\manim\\scene\\scene_file_writer.py#514\"><span style=\"color: #7f7f7f; text-decoration-color: #7f7f7f\">514</span></a>\n",
       "                             written in <span style=\"color: #008000; text-decoration-color: #008000\">'c:\\Users\\thoma\\Desktop\\Apre</span>                         \n",
       "                             <span style=\"color: #008000; text-decoration-color: #008000\">ndizado\\Manim\\media\\videos\\Manim\\480p15</span>                         \n",
       "                             <span style=\"color: #008000; text-decoration-color: #008000\">\\partial_movie_files\\AdditiveFunctions\\</span>                         \n",
       "                             <span style=\"color: #008000; text-decoration-color: #008000\">2201830969_954116087_309551098.mp4'</span>                             \n",
       "</pre>\n"
      ],
      "text/plain": [
       "\u001b[2;36m[01/31/22 20:59:39]\u001b[0m\u001b[2;36m \u001b[0m\u001b[32mINFO    \u001b[0m Animation \u001b[32m59\u001b[0m : Partial movie file       \u001b]8;id=122147;file://C:\\Users\\thoma\\AppData\\Local\\Programs\\Python\\Python39\\lib\\site-packages\\manim\\scene\\scene_file_writer.py\u001b\\\u001b[2mscene_file_writer.py\u001b[0m\u001b]8;;\u001b\\\u001b[2m:\u001b[0m\u001b]8;id=606189;file://C:\\Users\\thoma\\AppData\\Local\\Programs\\Python\\Python39\\lib\\site-packages\\manim\\scene\\scene_file_writer.py#514\u001b\\\u001b[2m514\u001b[0m\u001b]8;;\u001b\\\n",
       "                             written in \u001b[32m'c:\\Users\\thoma\\Desktop\\Apre\u001b[0m                         \n",
       "                             \u001b[32mndizado\\Manim\\media\\videos\\Manim\\480p15\u001b[0m                         \n",
       "                             \u001b[32m\\partial_movie_files\\AdditiveFunctions\\\u001b[0m                         \n",
       "                             \u001b[32m2201830969_954116087_309551098.mp4'\u001b[0m                             \n"
      ]
     },
     "metadata": {},
     "output_type": "display_data"
    },
    {
     "name": "stderr",
     "output_type": "stream",
     "text": [
      "                                                                                         \r"
     ]
    },
    {
     "data": {
      "text/html": [
       "<pre style=\"white-space:pre;overflow-x:auto;line-height:normal;font-family:Menlo,'DejaVu Sans Mono',consolas,'Courier New',monospace\"><span style=\"color: #7fbfbf; text-decoration-color: #7fbfbf\">[01/31/22 20:59:40] </span><span style=\"color: #008000; text-decoration-color: #008000\">INFO    </span> Animation <span style=\"color: #008000; text-decoration-color: #008000\">60</span> : Partial movie file       <a href=\"file://C:\\Users\\thoma\\AppData\\Local\\Programs\\Python\\Python39\\lib\\site-packages\\manim\\scene\\scene_file_writer.py\"><span style=\"color: #7f7f7f; text-decoration-color: #7f7f7f\">scene_file_writer.py</span></a><span style=\"color: #7f7f7f; text-decoration-color: #7f7f7f\">:</span><a href=\"file://C:\\Users\\thoma\\AppData\\Local\\Programs\\Python\\Python39\\lib\\site-packages\\manim\\scene\\scene_file_writer.py#514\"><span style=\"color: #7f7f7f; text-decoration-color: #7f7f7f\">514</span></a>\n",
       "                             written in <span style=\"color: #008000; text-decoration-color: #008000\">'c:\\Users\\thoma\\Desktop\\Apre</span>                         \n",
       "                             <span style=\"color: #008000; text-decoration-color: #008000\">ndizado\\Manim\\media\\videos\\Manim\\480p15</span>                         \n",
       "                             <span style=\"color: #008000; text-decoration-color: #008000\">\\partial_movie_files\\AdditiveFunctions\\</span>                         \n",
       "                             <span style=\"color: #008000; text-decoration-color: #008000\">2201830969_1807471577_2532360415.mp4'</span>                           \n",
       "</pre>\n"
      ],
      "text/plain": [
       "\u001b[2;36m[01/31/22 20:59:40]\u001b[0m\u001b[2;36m \u001b[0m\u001b[32mINFO    \u001b[0m Animation \u001b[32m60\u001b[0m : Partial movie file       \u001b]8;id=113155;file://C:\\Users\\thoma\\AppData\\Local\\Programs\\Python\\Python39\\lib\\site-packages\\manim\\scene\\scene_file_writer.py\u001b\\\u001b[2mscene_file_writer.py\u001b[0m\u001b]8;;\u001b\\\u001b[2m:\u001b[0m\u001b]8;id=651408;file://C:\\Users\\thoma\\AppData\\Local\\Programs\\Python\\Python39\\lib\\site-packages\\manim\\scene\\scene_file_writer.py#514\u001b\\\u001b[2m514\u001b[0m\u001b]8;;\u001b\\\n",
       "                             written in \u001b[32m'c:\\Users\\thoma\\Desktop\\Apre\u001b[0m                         \n",
       "                             \u001b[32mndizado\\Manim\\media\\videos\\Manim\\480p15\u001b[0m                         \n",
       "                             \u001b[32m\\partial_movie_files\\AdditiveFunctions\\\u001b[0m                         \n",
       "                             \u001b[32m2201830969_1807471577_2532360415.mp4'\u001b[0m                           \n"
      ]
     },
     "metadata": {},
     "output_type": "display_data"
    },
    {
     "name": "stderr",
     "output_type": "stream",
     "text": [
      "                                                                                         \r"
     ]
    },
    {
     "data": {
      "text/html": [
       "<pre style=\"white-space:pre;overflow-x:auto;line-height:normal;font-family:Menlo,'DejaVu Sans Mono',consolas,'Courier New',monospace\"><span style=\"color: #7fbfbf; text-decoration-color: #7fbfbf\">[01/31/22 20:59:41] </span><span style=\"color: #008000; text-decoration-color: #008000\">INFO    </span> Animation <span style=\"color: #008000; text-decoration-color: #008000\">61</span> : Partial movie file       <a href=\"file://C:\\Users\\thoma\\AppData\\Local\\Programs\\Python\\Python39\\lib\\site-packages\\manim\\scene\\scene_file_writer.py\"><span style=\"color: #7f7f7f; text-decoration-color: #7f7f7f\">scene_file_writer.py</span></a><span style=\"color: #7f7f7f; text-decoration-color: #7f7f7f\">:</span><a href=\"file://C:\\Users\\thoma\\AppData\\Local\\Programs\\Python\\Python39\\lib\\site-packages\\manim\\scene\\scene_file_writer.py#514\"><span style=\"color: #7f7f7f; text-decoration-color: #7f7f7f\">514</span></a>\n",
       "                             written in <span style=\"color: #008000; text-decoration-color: #008000\">'c:\\Users\\thoma\\Desktop\\Apre</span>                         \n",
       "                             <span style=\"color: #008000; text-decoration-color: #008000\">ndizado\\Manim\\media\\videos\\Manim\\480p15</span>                         \n",
       "                             <span style=\"color: #008000; text-decoration-color: #008000\">\\partial_movie_files\\AdditiveFunctions\\</span>                         \n",
       "                             <span style=\"color: #008000; text-decoration-color: #008000\">2201830969_3097204725_63555454.mp4'</span>                             \n",
       "</pre>\n"
      ],
      "text/plain": [
       "\u001b[2;36m[01/31/22 20:59:41]\u001b[0m\u001b[2;36m \u001b[0m\u001b[32mINFO    \u001b[0m Animation \u001b[32m61\u001b[0m : Partial movie file       \u001b]8;id=365515;file://C:\\Users\\thoma\\AppData\\Local\\Programs\\Python\\Python39\\lib\\site-packages\\manim\\scene\\scene_file_writer.py\u001b\\\u001b[2mscene_file_writer.py\u001b[0m\u001b]8;;\u001b\\\u001b[2m:\u001b[0m\u001b]8;id=153964;file://C:\\Users\\thoma\\AppData\\Local\\Programs\\Python\\Python39\\lib\\site-packages\\manim\\scene\\scene_file_writer.py#514\u001b\\\u001b[2m514\u001b[0m\u001b]8;;\u001b\\\n",
       "                             written in \u001b[32m'c:\\Users\\thoma\\Desktop\\Apre\u001b[0m                         \n",
       "                             \u001b[32mndizado\\Manim\\media\\videos\\Manim\\480p15\u001b[0m                         \n",
       "                             \u001b[32m\\partial_movie_files\\AdditiveFunctions\\\u001b[0m                         \n",
       "                             \u001b[32m2201830969_3097204725_63555454.mp4'\u001b[0m                             \n"
      ]
     },
     "metadata": {},
     "output_type": "display_data"
    },
    {
     "name": "stderr",
     "output_type": "stream",
     "text": [
      "                                                                                          \r"
     ]
    },
    {
     "data": {
      "text/html": [
       "<pre style=\"white-space:pre;overflow-x:auto;line-height:normal;font-family:Menlo,'DejaVu Sans Mono',consolas,'Courier New',monospace\"><span style=\"color: #7fbfbf; text-decoration-color: #7fbfbf\">[01/31/22 20:59:42] </span><span style=\"color: #008000; text-decoration-color: #008000\">INFO    </span> Animation <span style=\"color: #008000; text-decoration-color: #008000\">62</span> : Partial movie file       <a href=\"file://C:\\Users\\thoma\\AppData\\Local\\Programs\\Python\\Python39\\lib\\site-packages\\manim\\scene\\scene_file_writer.py\"><span style=\"color: #7f7f7f; text-decoration-color: #7f7f7f\">scene_file_writer.py</span></a><span style=\"color: #7f7f7f; text-decoration-color: #7f7f7f\">:</span><a href=\"file://C:\\Users\\thoma\\AppData\\Local\\Programs\\Python\\Python39\\lib\\site-packages\\manim\\scene\\scene_file_writer.py#514\"><span style=\"color: #7f7f7f; text-decoration-color: #7f7f7f\">514</span></a>\n",
       "                             written in <span style=\"color: #008000; text-decoration-color: #008000\">'c:\\Users\\thoma\\Desktop\\Apre</span>                         \n",
       "                             <span style=\"color: #008000; text-decoration-color: #008000\">ndizado\\Manim\\media\\videos\\Manim\\480p15</span>                         \n",
       "                             <span style=\"color: #008000; text-decoration-color: #008000\">\\partial_movie_files\\AdditiveFunctions\\</span>                         \n",
       "                             <span style=\"color: #008000; text-decoration-color: #008000\">2201830969_352338218_1547756167.mp4'</span>                            \n",
       "</pre>\n"
      ],
      "text/plain": [
       "\u001b[2;36m[01/31/22 20:59:42]\u001b[0m\u001b[2;36m \u001b[0m\u001b[32mINFO    \u001b[0m Animation \u001b[32m62\u001b[0m : Partial movie file       \u001b]8;id=866459;file://C:\\Users\\thoma\\AppData\\Local\\Programs\\Python\\Python39\\lib\\site-packages\\manim\\scene\\scene_file_writer.py\u001b\\\u001b[2mscene_file_writer.py\u001b[0m\u001b]8;;\u001b\\\u001b[2m:\u001b[0m\u001b]8;id=940490;file://C:\\Users\\thoma\\AppData\\Local\\Programs\\Python\\Python39\\lib\\site-packages\\manim\\scene\\scene_file_writer.py#514\u001b\\\u001b[2m514\u001b[0m\u001b]8;;\u001b\\\n",
       "                             written in \u001b[32m'c:\\Users\\thoma\\Desktop\\Apre\u001b[0m                         \n",
       "                             \u001b[32mndizado\\Manim\\media\\videos\\Manim\\480p15\u001b[0m                         \n",
       "                             \u001b[32m\\partial_movie_files\\AdditiveFunctions\\\u001b[0m                         \n",
       "                             \u001b[32m2201830969_352338218_1547756167.mp4'\u001b[0m                            \n"
      ]
     },
     "metadata": {},
     "output_type": "display_data"
    },
    {
     "name": "stderr",
     "output_type": "stream",
     "text": [
      "                                                                                         \r"
     ]
    },
    {
     "data": {
      "text/html": [
       "<pre style=\"white-space:pre;overflow-x:auto;line-height:normal;font-family:Menlo,'DejaVu Sans Mono',consolas,'Courier New',monospace\"><span style=\"color: #7fbfbf; text-decoration-color: #7fbfbf\">[01/31/22 20:59:43] </span><span style=\"color: #008000; text-decoration-color: #008000\">INFO    </span> Animation <span style=\"color: #008000; text-decoration-color: #008000\">63</span> : Partial movie file       <a href=\"file://C:\\Users\\thoma\\AppData\\Local\\Programs\\Python\\Python39\\lib\\site-packages\\manim\\scene\\scene_file_writer.py\"><span style=\"color: #7f7f7f; text-decoration-color: #7f7f7f\">scene_file_writer.py</span></a><span style=\"color: #7f7f7f; text-decoration-color: #7f7f7f\">:</span><a href=\"file://C:\\Users\\thoma\\AppData\\Local\\Programs\\Python\\Python39\\lib\\site-packages\\manim\\scene\\scene_file_writer.py#514\"><span style=\"color: #7f7f7f; text-decoration-color: #7f7f7f\">514</span></a>\n",
       "                             written in <span style=\"color: #008000; text-decoration-color: #008000\">'c:\\Users\\thoma\\Desktop\\Apre</span>                         \n",
       "                             <span style=\"color: #008000; text-decoration-color: #008000\">ndizado\\Manim\\media\\videos\\Manim\\480p15</span>                         \n",
       "                             <span style=\"color: #008000; text-decoration-color: #008000\">\\partial_movie_files\\AdditiveFunctions\\</span>                         \n",
       "                             <span style=\"color: #008000; text-decoration-color: #008000\">2201830969_1004959878_775099149.mp4'</span>                            \n",
       "</pre>\n"
      ],
      "text/plain": [
       "\u001b[2;36m[01/31/22 20:59:43]\u001b[0m\u001b[2;36m \u001b[0m\u001b[32mINFO    \u001b[0m Animation \u001b[32m63\u001b[0m : Partial movie file       \u001b]8;id=236705;file://C:\\Users\\thoma\\AppData\\Local\\Programs\\Python\\Python39\\lib\\site-packages\\manim\\scene\\scene_file_writer.py\u001b\\\u001b[2mscene_file_writer.py\u001b[0m\u001b]8;;\u001b\\\u001b[2m:\u001b[0m\u001b]8;id=61735;file://C:\\Users\\thoma\\AppData\\Local\\Programs\\Python\\Python39\\lib\\site-packages\\manim\\scene\\scene_file_writer.py#514\u001b\\\u001b[2m514\u001b[0m\u001b]8;;\u001b\\\n",
       "                             written in \u001b[32m'c:\\Users\\thoma\\Desktop\\Apre\u001b[0m                         \n",
       "                             \u001b[32mndizado\\Manim\\media\\videos\\Manim\\480p15\u001b[0m                         \n",
       "                             \u001b[32m\\partial_movie_files\\AdditiveFunctions\\\u001b[0m                         \n",
       "                             \u001b[32m2201830969_1004959878_775099149.mp4'\u001b[0m                            \n"
      ]
     },
     "metadata": {},
     "output_type": "display_data"
    },
    {
     "name": "stderr",
     "output_type": "stream",
     "text": [
      "                                                                                         \r"
     ]
    },
    {
     "data": {
      "text/html": [
       "<pre style=\"white-space:pre;overflow-x:auto;line-height:normal;font-family:Menlo,'DejaVu Sans Mono',consolas,'Courier New',monospace\"><span style=\"color: #7fbfbf; text-decoration-color: #7fbfbf\">[01/31/22 20:59:44] </span><span style=\"color: #008000; text-decoration-color: #008000\">INFO    </span> Animation <span style=\"color: #008000; text-decoration-color: #008000\">64</span> : Partial movie file       <a href=\"file://C:\\Users\\thoma\\AppData\\Local\\Programs\\Python\\Python39\\lib\\site-packages\\manim\\scene\\scene_file_writer.py\"><span style=\"color: #7f7f7f; text-decoration-color: #7f7f7f\">scene_file_writer.py</span></a><span style=\"color: #7f7f7f; text-decoration-color: #7f7f7f\">:</span><a href=\"file://C:\\Users\\thoma\\AppData\\Local\\Programs\\Python\\Python39\\lib\\site-packages\\manim\\scene\\scene_file_writer.py#514\"><span style=\"color: #7f7f7f; text-decoration-color: #7f7f7f\">514</span></a>\n",
       "                             written in <span style=\"color: #008000; text-decoration-color: #008000\">'c:\\Users\\thoma\\Desktop\\Apre</span>                         \n",
       "                             <span style=\"color: #008000; text-decoration-color: #008000\">ndizado\\Manim\\media\\videos\\Manim\\480p15</span>                         \n",
       "                             <span style=\"color: #008000; text-decoration-color: #008000\">\\partial_movie_files\\AdditiveFunctions\\</span>                         \n",
       "                             <span style=\"color: #008000; text-decoration-color: #008000\">1495979052_2560646942_58866182.mp4'</span>                             \n",
       "</pre>\n"
      ],
      "text/plain": [
       "\u001b[2;36m[01/31/22 20:59:44]\u001b[0m\u001b[2;36m \u001b[0m\u001b[32mINFO    \u001b[0m Animation \u001b[32m64\u001b[0m : Partial movie file       \u001b]8;id=369521;file://C:\\Users\\thoma\\AppData\\Local\\Programs\\Python\\Python39\\lib\\site-packages\\manim\\scene\\scene_file_writer.py\u001b\\\u001b[2mscene_file_writer.py\u001b[0m\u001b]8;;\u001b\\\u001b[2m:\u001b[0m\u001b]8;id=482068;file://C:\\Users\\thoma\\AppData\\Local\\Programs\\Python\\Python39\\lib\\site-packages\\manim\\scene\\scene_file_writer.py#514\u001b\\\u001b[2m514\u001b[0m\u001b]8;;\u001b\\\n",
       "                             written in \u001b[32m'c:\\Users\\thoma\\Desktop\\Apre\u001b[0m                         \n",
       "                             \u001b[32mndizado\\Manim\\media\\videos\\Manim\\480p15\u001b[0m                         \n",
       "                             \u001b[32m\\partial_movie_files\\AdditiveFunctions\\\u001b[0m                         \n",
       "                             \u001b[32m1495979052_2560646942_58866182.mp4'\u001b[0m                             \n"
      ]
     },
     "metadata": {},
     "output_type": "display_data"
    },
    {
     "name": "stderr",
     "output_type": "stream",
     "text": [
      "                                                                                         \r"
     ]
    },
    {
     "data": {
      "text/html": [
       "<pre style=\"white-space:pre;overflow-x:auto;line-height:normal;font-family:Menlo,'DejaVu Sans Mono',consolas,'Courier New',monospace\"><span style=\"color: #7fbfbf; text-decoration-color: #7fbfbf\">[01/31/22 20:59:46] </span><span style=\"color: #008000; text-decoration-color: #008000\">INFO    </span> Animation <span style=\"color: #008000; text-decoration-color: #008000\">65</span> : Partial movie file       <a href=\"file://C:\\Users\\thoma\\AppData\\Local\\Programs\\Python\\Python39\\lib\\site-packages\\manim\\scene\\scene_file_writer.py\"><span style=\"color: #7f7f7f; text-decoration-color: #7f7f7f\">scene_file_writer.py</span></a><span style=\"color: #7f7f7f; text-decoration-color: #7f7f7f\">:</span><a href=\"file://C:\\Users\\thoma\\AppData\\Local\\Programs\\Python\\Python39\\lib\\site-packages\\manim\\scene\\scene_file_writer.py#514\"><span style=\"color: #7f7f7f; text-decoration-color: #7f7f7f\">514</span></a>\n",
       "                             written in <span style=\"color: #008000; text-decoration-color: #008000\">'c:\\Users\\thoma\\Desktop\\Apre</span>                         \n",
       "                             <span style=\"color: #008000; text-decoration-color: #008000\">ndizado\\Manim\\media\\videos\\Manim\\480p15</span>                         \n",
       "                             <span style=\"color: #008000; text-decoration-color: #008000\">\\partial_movie_files\\AdditiveFunctions\\</span>                         \n",
       "                             <span style=\"color: #008000; text-decoration-color: #008000\">2201830969_1621716898_819151231.mp4'</span>                            \n",
       "</pre>\n"
      ],
      "text/plain": [
       "\u001b[2;36m[01/31/22 20:59:46]\u001b[0m\u001b[2;36m \u001b[0m\u001b[32mINFO    \u001b[0m Animation \u001b[32m65\u001b[0m : Partial movie file       \u001b]8;id=844388;file://C:\\Users\\thoma\\AppData\\Local\\Programs\\Python\\Python39\\lib\\site-packages\\manim\\scene\\scene_file_writer.py\u001b\\\u001b[2mscene_file_writer.py\u001b[0m\u001b]8;;\u001b\\\u001b[2m:\u001b[0m\u001b]8;id=4272;file://C:\\Users\\thoma\\AppData\\Local\\Programs\\Python\\Python39\\lib\\site-packages\\manim\\scene\\scene_file_writer.py#514\u001b\\\u001b[2m514\u001b[0m\u001b]8;;\u001b\\\n",
       "                             written in \u001b[32m'c:\\Users\\thoma\\Desktop\\Apre\u001b[0m                         \n",
       "                             \u001b[32mndizado\\Manim\\media\\videos\\Manim\\480p15\u001b[0m                         \n",
       "                             \u001b[32m\\partial_movie_files\\AdditiveFunctions\\\u001b[0m                         \n",
       "                             \u001b[32m2201830969_1621716898_819151231.mp4'\u001b[0m                            \n"
      ]
     },
     "metadata": {},
     "output_type": "display_data"
    },
    {
     "data": {
      "text/html": [
       "<pre style=\"white-space:pre;overflow-x:auto;line-height:normal;font-family:Menlo,'DejaVu Sans Mono',consolas,'Courier New',monospace\"><span style=\"color: #7fbfbf; text-decoration-color: #7fbfbf\">[01/31/22 20:59:47] </span><span style=\"color: #008000; text-decoration-color: #008000\">INFO    </span> Animation <span style=\"color: #008000; text-decoration-color: #008000\">66</span> : Partial movie file       <a href=\"file://C:\\Users\\thoma\\AppData\\Local\\Programs\\Python\\Python39\\lib\\site-packages\\manim\\scene\\scene_file_writer.py\"><span style=\"color: #7f7f7f; text-decoration-color: #7f7f7f\">scene_file_writer.py</span></a><span style=\"color: #7f7f7f; text-decoration-color: #7f7f7f\">:</span><a href=\"file://C:\\Users\\thoma\\AppData\\Local\\Programs\\Python\\Python39\\lib\\site-packages\\manim\\scene\\scene_file_writer.py#514\"><span style=\"color: #7f7f7f; text-decoration-color: #7f7f7f\">514</span></a>\n",
       "                             written in <span style=\"color: #008000; text-decoration-color: #008000\">'c:\\Users\\thoma\\Desktop\\Apre</span>                         \n",
       "                             <span style=\"color: #008000; text-decoration-color: #008000\">ndizado\\Manim\\media\\videos\\Manim\\480p15</span>                         \n",
       "                             <span style=\"color: #008000; text-decoration-color: #008000\">\\partial_movie_files\\AdditiveFunctions\\</span>                         \n",
       "                             <span style=\"color: #008000; text-decoration-color: #008000\">2201830969_3493041802_4010288867.mp4'</span>                           \n",
       "</pre>\n"
      ],
      "text/plain": [
       "\u001b[2;36m[01/31/22 20:59:47]\u001b[0m\u001b[2;36m \u001b[0m\u001b[32mINFO    \u001b[0m Animation \u001b[32m66\u001b[0m : Partial movie file       \u001b]8;id=207586;file://C:\\Users\\thoma\\AppData\\Local\\Programs\\Python\\Python39\\lib\\site-packages\\manim\\scene\\scene_file_writer.py\u001b\\\u001b[2mscene_file_writer.py\u001b[0m\u001b]8;;\u001b\\\u001b[2m:\u001b[0m\u001b]8;id=806102;file://C:\\Users\\thoma\\AppData\\Local\\Programs\\Python\\Python39\\lib\\site-packages\\manim\\scene\\scene_file_writer.py#514\u001b\\\u001b[2m514\u001b[0m\u001b]8;;\u001b\\\n",
       "                             written in \u001b[32m'c:\\Users\\thoma\\Desktop\\Apre\u001b[0m                         \n",
       "                             \u001b[32mndizado\\Manim\\media\\videos\\Manim\\480p15\u001b[0m                         \n",
       "                             \u001b[32m\\partial_movie_files\\AdditiveFunctions\\\u001b[0m                         \n",
       "                             \u001b[32m2201830969_3493041802_4010288867.mp4'\u001b[0m                           \n"
      ]
     },
     "metadata": {},
     "output_type": "display_data"
    },
    {
     "data": {
      "text/html": [
       "<pre style=\"white-space:pre;overflow-x:auto;line-height:normal;font-family:Menlo,'DejaVu Sans Mono',consolas,'Courier New',monospace\"><span style=\"color: #7fbfbf; text-decoration-color: #7fbfbf\">                    </span><span style=\"color: #008000; text-decoration-color: #008000\">INFO    </span> Combining to Movie file.                <a href=\"file://C:\\Users\\thoma\\AppData\\Local\\Programs\\Python\\Python39\\lib\\site-packages\\manim\\scene\\scene_file_writer.py\"><span style=\"color: #7f7f7f; text-decoration-color: #7f7f7f\">scene_file_writer.py</span></a><span style=\"color: #7f7f7f; text-decoration-color: #7f7f7f\">:</span><a href=\"file://C:\\Users\\thoma\\AppData\\Local\\Programs\\Python\\Python39\\lib\\site-packages\\manim\\scene\\scene_file_writer.py#608\"><span style=\"color: #7f7f7f; text-decoration-color: #7f7f7f\">608</span></a>\n",
       "</pre>\n"
      ],
      "text/plain": [
       "\u001b[2;36m                   \u001b[0m\u001b[2;36m \u001b[0m\u001b[32mINFO    \u001b[0m Combining to Movie file.                \u001b]8;id=225240;file://C:\\Users\\thoma\\AppData\\Local\\Programs\\Python\\Python39\\lib\\site-packages\\manim\\scene\\scene_file_writer.py\u001b\\\u001b[2mscene_file_writer.py\u001b[0m\u001b]8;;\u001b\\\u001b[2m:\u001b[0m\u001b]8;id=542964;file://C:\\Users\\thoma\\AppData\\Local\\Programs\\Python\\Python39\\lib\\site-packages\\manim\\scene\\scene_file_writer.py#608\u001b\\\u001b[2m608\u001b[0m\u001b]8;;\u001b\\\n"
      ]
     },
     "metadata": {},
     "output_type": "display_data"
    },
    {
     "data": {
      "text/html": [
       "<pre style=\"white-space:pre;overflow-x:auto;line-height:normal;font-family:Menlo,'DejaVu Sans Mono',consolas,'Courier New',monospace\"><span style=\"color: #7fbfbf; text-decoration-color: #7fbfbf\">                    </span><span style=\"color: #008000; text-decoration-color: #008000\">INFO    </span>                                         <a href=\"file://C:\\Users\\thoma\\AppData\\Local\\Programs\\Python\\Python39\\lib\\site-packages\\manim\\scene\\scene_file_writer.py\"><span style=\"color: #7f7f7f; text-decoration-color: #7f7f7f\">scene_file_writer.py</span></a><span style=\"color: #7f7f7f; text-decoration-color: #7f7f7f\">:</span><a href=\"file://C:\\Users\\thoma\\AppData\\Local\\Programs\\Python\\Python39\\lib\\site-packages\\manim\\scene\\scene_file_writer.py#729\"><span style=\"color: #7f7f7f; text-decoration-color: #7f7f7f\">729</span></a>\n",
       "                             <span style=\"color: #808000; text-decoration-color: #808000; font-weight: bold\">File</span> ready at <span style=\"color: #008000; text-decoration-color: #008000\">'c:\\Users\\thoma\\Desktop\\A</span>                         \n",
       "                             <span style=\"color: #008000; text-decoration-color: #008000\">prendizado\\Manim\\media\\videos\\Manim\\480</span>                         \n",
       "                             <span style=\"color: #008000; text-decoration-color: #008000\">p15\\AdditiveFunctions.mp4'</span>                                      \n",
       "                                                                                             \n",
       "</pre>\n"
      ],
      "text/plain": [
       "\u001b[2;36m                   \u001b[0m\u001b[2;36m \u001b[0m\u001b[32mINFO    \u001b[0m                                         \u001b]8;id=525147;file://C:\\Users\\thoma\\AppData\\Local\\Programs\\Python\\Python39\\lib\\site-packages\\manim\\scene\\scene_file_writer.py\u001b\\\u001b[2mscene_file_writer.py\u001b[0m\u001b]8;;\u001b\\\u001b[2m:\u001b[0m\u001b]8;id=625644;file://C:\\Users\\thoma\\AppData\\Local\\Programs\\Python\\Python39\\lib\\site-packages\\manim\\scene\\scene_file_writer.py#729\u001b\\\u001b[2m729\u001b[0m\u001b]8;;\u001b\\\n",
       "                             \u001b[1;33mFile\u001b[0m ready at \u001b[32m'c:\\Users\\thoma\\Desktop\\A\u001b[0m                         \n",
       "                             \u001b[32mprendizado\\Manim\\media\\videos\\Manim\\480\u001b[0m                         \n",
       "                             \u001b[32mp15\\AdditiveFunctions.mp4'\u001b[0m                                      \n",
       "                                                                                             \n"
      ]
     },
     "metadata": {},
     "output_type": "display_data"
    },
    {
     "data": {
      "text/html": [
       "<pre style=\"white-space:pre;overflow-x:auto;line-height:normal;font-family:Menlo,'DejaVu Sans Mono',consolas,'Courier New',monospace\"><span style=\"color: #7fbfbf; text-decoration-color: #7fbfbf\">                    </span><span style=\"color: #008000; text-decoration-color: #008000\">INFO    </span> <span style=\"color: #808000; text-decoration-color: #808000; font-weight: bold\">Rendered</span> AdditiveFunctions                          <a href=\"file://C:\\Users\\thoma\\AppData\\Local\\Programs\\Python\\Python39\\lib\\site-packages\\manim\\scene\\scene.py\"><span style=\"color: #7f7f7f; text-decoration-color: #7f7f7f\">scene.py</span></a><span style=\"color: #7f7f7f; text-decoration-color: #7f7f7f\">:</span><a href=\"file://C:\\Users\\thoma\\AppData\\Local\\Programs\\Python\\Python39\\lib\\site-packages\\manim\\scene\\scene.py#237\"><span style=\"color: #7f7f7f; text-decoration-color: #7f7f7f\">237</span></a>\n",
       "                             <span style=\"color: #808000; text-decoration-color: #808000; font-weight: bold\">Played</span> <span style=\"color: #008000; text-decoration-color: #008000\">67</span> <span style=\"color: #808000; text-decoration-color: #808000; font-weight: bold\">animations</span>                                            \n",
       "</pre>\n"
      ],
      "text/plain": [
       "\u001b[2;36m                   \u001b[0m\u001b[2;36m \u001b[0m\u001b[32mINFO    \u001b[0m \u001b[1;33mRendered\u001b[0m AdditiveFunctions                          \u001b]8;id=895499;file://C:\\Users\\thoma\\AppData\\Local\\Programs\\Python\\Python39\\lib\\site-packages\\manim\\scene\\scene.py\u001b\\\u001b[2mscene.py\u001b[0m\u001b]8;;\u001b\\\u001b[2m:\u001b[0m\u001b]8;id=969552;file://C:\\Users\\thoma\\AppData\\Local\\Programs\\Python\\Python39\\lib\\site-packages\\manim\\scene\\scene.py#237\u001b\\\u001b[2m237\u001b[0m\u001b]8;;\u001b\\\n",
       "                             \u001b[1;33mPlayed\u001b[0m \u001b[32m67\u001b[0m \u001b[1;33manimations\u001b[0m                                            \n"
      ]
     },
     "metadata": {},
     "output_type": "display_data"
    },
    {
     "data": {
      "text/html": [
       "<video src=\"media\\jupyter\\AdditiveFunctions@2022-01-31@20-59-47.mp4\" controls autoplay loop style=\"max-width: 60%;\"  >\n",
       "      Your browser does not support the <code>video</code> element.\n",
       "    </video>"
      ],
      "text/plain": [
       "<IPython.core.display.Video object>"
      ]
     },
     "metadata": {},
     "output_type": "display_data"
    }
   ],
   "source": [
    "%%manim -ql AdditiveFunctions\n",
    "class AdditiveFunctions(Scene):\n",
    "    def construct(self):\n",
    "\n",
    "        axes = (\n",
    "            Axes(x_range=[0, 2.1, 1], x_length=12, y_range=[0, 7, 2], y_length=7)\n",
    "            .add_coordinates()\n",
    "            .to_edge(DL, buff=0.25)\n",
    "        )\n",
    "\n",
    "        func1 = axes.get_graph(lambda x: x ** 2, x_range=[0, 2], color=YELLOW)\n",
    "        func1_lab = (\n",
    "            MathTex(\"y={x}^{2}\").scale(0.8).next_to(func1, UR, buff=0).set_color(YELLOW)\n",
    "        )\n",
    "\n",
    "        func2 = axes.get_graph(lambda x: x, x_range=[0, 2], color=GREEN)\n",
    "        func2_lab = (\n",
    "            MathTex(\"y=x\").scale(0.8).next_to(func2, UR, buff=0).set_color(GREEN)\n",
    "        )\n",
    "\n",
    "        func3 = axes.get_graph(lambda x: x ** 2 + x, x_range=[0, 2], color=PURPLE_D)\n",
    "        func3_lab = (\n",
    "            MathTex(\"y={x}^{2} + x\")\n",
    "            .scale(0.8)\n",
    "            .next_to(func3, UR, buff=0)\n",
    "            .set_color(PURPLE_D)\n",
    "        )\n",
    "\n",
    "        self.add(axes, func1, func2, func3, func1_lab, func2_lab, func3_lab)\n",
    "        self.wait()\n",
    "\n",
    "        for k in np.arange(0.2, 2.1, 0.2):\n",
    "            line1 = DashedLine(\n",
    "                start=axes.c2p(k, 0),\n",
    "                end=axes.c2p(k, func1.underlying_function(k)),\n",
    "                stroke_color=YELLOW,\n",
    "                stroke_width=5,\n",
    "            )\n",
    "\n",
    "            line2 = DashedLine(\n",
    "                start=axes.c2p(k, 0),\n",
    "                end=axes.c2p(k, func2.underlying_function(k)),\n",
    "                stroke_color=GREEN,\n",
    "                stroke_width=7,\n",
    "            )\n",
    "\n",
    "            line3 = Line(\n",
    "                start=axes.c2p(k, 0),\n",
    "                end=axes.c2p(k, func3.underlying_function(k)),\n",
    "                stroke_color=PURPLE,\n",
    "                stroke_width=10,\n",
    "            )\n",
    "\n",
    "            self.play(Create(line1))\n",
    "            self.play(Create(line2))\n",
    "\n",
    "            if len(line1) > len(line2):\n",
    "                self.play(line2.animate.shift(UP * line1.get_length()))\n",
    "            else:\n",
    "                self.play(line1.animate.shift(UP * line2.get_length()))\n",
    "\n",
    "            self.play(Create(line3))\n",
    "        self.wait()\n",
    "\n",
    "        # Explaining the area additive rule\n",
    "        area1 = axes.get_riemann_rectangles(\n",
    "            graph=func1, x_range=[0, 2], dx=0.1, color=[BLUE, GREEN]\n",
    "        )\n",
    "        area2 = axes.get_riemann_rectangles(\n",
    "            graph=func2, x_range=[0, 2], dx=0.1, color=[YELLOW, PURPLE]\n",
    "        )\n",
    "\n",
    "        self.play(Create(area1))\n",
    "        self.play(area1.animate.set_opacity(0.5))\n",
    "        self.play(Create(area2))\n",
    "        self.wait()\n",
    "        for k in range(20):\n",
    "            self.play(area2[k].animate.shift(UP * area1[k].get_height()))\n",
    "        self.wait()\n",
    "\n"
   ]
  },
  {
   "cell_type": "code",
   "execution_count": 5,
   "metadata": {},
   "outputs": [
    {
     "data": {
      "text/html": [
       "<pre style=\"white-space:pre;overflow-x:auto;line-height:normal;font-family:Menlo,'DejaVu Sans Mono',consolas,'Courier New',monospace\"><span style=\"color: #7fbfbf; text-decoration-color: #7fbfbf\">                    </span><span style=\"color: #800000; text-decoration-color: #800000\">WARNING </span> The method CoordinateSystem.get_graph has     <a href=\"file://C:\\Users\\thoma\\AppData\\Local\\Programs\\Python\\Python39\\lib\\site-packages\\manim\\utils\\deprecation.py\"><span style=\"color: #7f7f7f; text-decoration-color: #7f7f7f\">deprecation.py</span></a><span style=\"color: #7f7f7f; text-decoration-color: #7f7f7f\">:</span><a href=\"file://C:\\Users\\thoma\\AppData\\Local\\Programs\\Python\\Python39\\lib\\site-packages\\manim\\utils\\deprecation.py#210\"><span style=\"color: #7f7f7f; text-decoration-color: #7f7f7f\">210</span></a>\n",
       "                             been deprecated since v0.<span style=\"color: #008000; text-decoration-color: #008000\">11.0</span> and is expected                   \n",
       "                             to be removed after v0.<span style=\"color: #008000; text-decoration-color: #008000\">13.0</span>. Use plot                           \n",
       "                             instead.                                                        \n",
       "</pre>\n"
      ],
      "text/plain": [
       "\u001b[2;36m                   \u001b[0m\u001b[2;36m \u001b[0m\u001b[31mWARNING \u001b[0m The method CoordinateSystem.get_graph has     \u001b]8;id=308689;file://C:\\Users\\thoma\\AppData\\Local\\Programs\\Python\\Python39\\lib\\site-packages\\manim\\utils\\deprecation.py\u001b\\\u001b[2mdeprecation.py\u001b[0m\u001b]8;;\u001b\\\u001b[2m:\u001b[0m\u001b]8;id=26121;file://C:\\Users\\thoma\\AppData\\Local\\Programs\\Python\\Python39\\lib\\site-packages\\manim\\utils\\deprecation.py#210\u001b\\\u001b[2m210\u001b[0m\u001b]8;;\u001b\\\n",
       "                             been deprecated since v0.\u001b[32m11.0\u001b[0m and is expected                   \n",
       "                             to be removed after v0.\u001b[32m13.0\u001b[0m. Use plot                           \n",
       "                             instead.                                                        \n"
      ]
     },
     "metadata": {},
     "output_type": "display_data"
    },
    {
     "data": {
      "text/html": [
       "<pre style=\"white-space:pre;overflow-x:auto;line-height:normal;font-family:Menlo,'DejaVu Sans Mono',consolas,'Courier New',monospace\"><span style=\"color: #7fbfbf; text-decoration-color: #7fbfbf\">[01/31/22 20:59:48] </span><span style=\"color: #008000; text-decoration-color: #008000\">INFO    </span> <span style=\"color: #808000; text-decoration-color: #808000; font-weight: bold\">Writing</span> <span style=\"color: #008000; text-decoration-color: #008000\">\"dx\"</span> to                           <a href=\"file://C:\\Users\\thoma\\AppData\\Local\\Programs\\Python\\Python39\\lib\\site-packages\\manim\\utils\\tex_file_writing.py\"><span style=\"color: #7f7f7f; text-decoration-color: #7f7f7f\">tex_file_writing.py</span></a><span style=\"color: #7f7f7f; text-decoration-color: #7f7f7f\">:</span><a href=\"file://C:\\Users\\thoma\\AppData\\Local\\Programs\\Python\\Python39\\lib\\site-packages\\manim\\utils\\tex_file_writing.py#85\"><span style=\"color: #7f7f7f; text-decoration-color: #7f7f7f\">85</span></a>\n",
       "                             media\\Tex\\36a14945045b842f.tex                                  \n",
       "</pre>\n"
      ],
      "text/plain": [
       "\u001b[2;36m[01/31/22 20:59:48]\u001b[0m\u001b[2;36m \u001b[0m\u001b[32mINFO    \u001b[0m \u001b[1;33mWriting\u001b[0m \u001b[32m\"dx\"\u001b[0m to                           \u001b]8;id=725962;file://C:\\Users\\thoma\\AppData\\Local\\Programs\\Python\\Python39\\lib\\site-packages\\manim\\utils\\tex_file_writing.py\u001b\\\u001b[2mtex_file_writing.py\u001b[0m\u001b]8;;\u001b\\\u001b[2m:\u001b[0m\u001b]8;id=707604;file://C:\\Users\\thoma\\AppData\\Local\\Programs\\Python\\Python39\\lib\\site-packages\\manim\\utils\\tex_file_writing.py#85\u001b\\\u001b[2m85\u001b[0m\u001b]8;;\u001b\\\n",
       "                             media\\Tex\\36a14945045b842f.tex                                  \n"
      ]
     },
     "metadata": {},
     "output_type": "display_data"
    },
    {
     "data": {
      "text/html": [
       "<pre style=\"white-space:pre;overflow-x:auto;line-height:normal;font-family:Menlo,'DejaVu Sans Mono',consolas,'Courier New',monospace\"><span style=\"color: #7fbfbf; text-decoration-color: #7fbfbf\">[01/31/22 20:59:52] </span><span style=\"color: #008000; text-decoration-color: #008000\">INFO    </span> <span style=\"color: #808000; text-decoration-color: #808000; font-weight: bold\">Writing</span> <span style=\"color: #008000; text-decoration-color: #008000\">\"dy\"</span> to                           <a href=\"file://C:\\Users\\thoma\\AppData\\Local\\Programs\\Python\\Python39\\lib\\site-packages\\manim\\utils\\tex_file_writing.py\"><span style=\"color: #7f7f7f; text-decoration-color: #7f7f7f\">tex_file_writing.py</span></a><span style=\"color: #7f7f7f; text-decoration-color: #7f7f7f\">:</span><a href=\"file://C:\\Users\\thoma\\AppData\\Local\\Programs\\Python\\Python39\\lib\\site-packages\\manim\\utils\\tex_file_writing.py#85\"><span style=\"color: #7f7f7f; text-decoration-color: #7f7f7f\">85</span></a>\n",
       "                             media\\Tex\\d9d761eaf4a53366.tex                                  \n",
       "</pre>\n"
      ],
      "text/plain": [
       "\u001b[2;36m[01/31/22 20:59:52]\u001b[0m\u001b[2;36m \u001b[0m\u001b[32mINFO    \u001b[0m \u001b[1;33mWriting\u001b[0m \u001b[32m\"dy\"\u001b[0m to                           \u001b]8;id=649080;file://C:\\Users\\thoma\\AppData\\Local\\Programs\\Python\\Python39\\lib\\site-packages\\manim\\utils\\tex_file_writing.py\u001b\\\u001b[2mtex_file_writing.py\u001b[0m\u001b]8;;\u001b\\\u001b[2m:\u001b[0m\u001b]8;id=767355;file://C:\\Users\\thoma\\AppData\\Local\\Programs\\Python\\Python39\\lib\\site-packages\\manim\\utils\\tex_file_writing.py#85\u001b\\\u001b[2m85\u001b[0m\u001b]8;;\u001b\\\n",
       "                             media\\Tex\\d9d761eaf4a53366.tex                                  \n"
      ]
     },
     "metadata": {},
     "output_type": "display_data"
    },
    {
     "data": {
      "text/html": [
       "<pre style=\"white-space:pre;overflow-x:auto;line-height:normal;font-family:Menlo,'DejaVu Sans Mono',consolas,'Courier New',monospace\"><span style=\"color: #7fbfbf; text-decoration-color: #7fbfbf\">[01/31/22 20:59:56] </span><span style=\"color: #008000; text-decoration-color: #008000\">INFO    </span> <span style=\"color: #808000; text-decoration-color: #808000; font-weight: bold\">Writing</span> <span style=\"color: #008000; text-decoration-color: #008000\">\"dL\"</span> to                           <a href=\"file://C:\\Users\\thoma\\AppData\\Local\\Programs\\Python\\Python39\\lib\\site-packages\\manim\\utils\\tex_file_writing.py\"><span style=\"color: #7f7f7f; text-decoration-color: #7f7f7f\">tex_file_writing.py</span></a><span style=\"color: #7f7f7f; text-decoration-color: #7f7f7f\">:</span><a href=\"file://C:\\Users\\thoma\\AppData\\Local\\Programs\\Python\\Python39\\lib\\site-packages\\manim\\utils\\tex_file_writing.py#85\"><span style=\"color: #7f7f7f; text-decoration-color: #7f7f7f\">85</span></a>\n",
       "                             media\\Tex\\0747c53975982eb3.tex                                  \n",
       "</pre>\n"
      ],
      "text/plain": [
       "\u001b[2;36m[01/31/22 20:59:56]\u001b[0m\u001b[2;36m \u001b[0m\u001b[32mINFO    \u001b[0m \u001b[1;33mWriting\u001b[0m \u001b[32m\"dL\"\u001b[0m to                           \u001b]8;id=657178;file://C:\\Users\\thoma\\AppData\\Local\\Programs\\Python\\Python39\\lib\\site-packages\\manim\\utils\\tex_file_writing.py\u001b\\\u001b[2mtex_file_writing.py\u001b[0m\u001b]8;;\u001b\\\u001b[2m:\u001b[0m\u001b]8;id=825298;file://C:\\Users\\thoma\\AppData\\Local\\Programs\\Python\\Python39\\lib\\site-packages\\manim\\utils\\tex_file_writing.py#85\u001b\\\u001b[2m85\u001b[0m\u001b]8;;\u001b\\\n",
       "                             media\\Tex\\0747c53975982eb3.tex                                  \n"
      ]
     },
     "metadata": {},
     "output_type": "display_data"
    },
    {
     "data": {
      "text/html": [
       "<pre style=\"white-space:pre;overflow-x:auto;line-height:normal;font-family:Menlo,'DejaVu Sans Mono',consolas,'Courier New',monospace\"><span style=\"color: #7fbfbf; text-decoration-color: #7fbfbf\">[01/31/22 20:59:59] </span><span style=\"color: #008000; text-decoration-color: #008000\">INFO    </span> <span style=\"color: #808000; text-decoration-color: #808000; font-weight: bold\">Writing</span> <span style=\"color: #008000; text-decoration-color: #008000\">\"dL \\ approximates \\ curve \\ as \\</span> <a href=\"file://C:\\Users\\thoma\\AppData\\Local\\Programs\\Python\\Python39\\lib\\site-packages\\manim\\utils\\tex_file_writing.py\"><span style=\"color: #7f7f7f; text-decoration-color: #7f7f7f\">tex_file_writing.py</span></a><span style=\"color: #7f7f7f; text-decoration-color: #7f7f7f\">:</span><a href=\"file://C:\\Users\\thoma\\AppData\\Local\\Programs\\Python\\Python39\\lib\\site-packages\\manim\\utils\\tex_file_writing.py#85\"><span style=\"color: #7f7f7f; text-decoration-color: #7f7f7f\">85</span></a>\n",
       "                             <span style=\"color: #008000; text-decoration-color: #008000\">dx\\ approaches \\ 0\"</span> to                                          \n",
       "                             media\\Tex\\3eff57953857bbdb.tex                                  \n",
       "</pre>\n"
      ],
      "text/plain": [
       "\u001b[2;36m[01/31/22 20:59:59]\u001b[0m\u001b[2;36m \u001b[0m\u001b[32mINFO    \u001b[0m \u001b[1;33mWriting\u001b[0m \u001b[32m\"dL \\ approximates \\ curve \\ as \\\u001b[0m \u001b]8;id=393182;file://C:\\Users\\thoma\\AppData\\Local\\Programs\\Python\\Python39\\lib\\site-packages\\manim\\utils\\tex_file_writing.py\u001b\\\u001b[2mtex_file_writing.py\u001b[0m\u001b]8;;\u001b\\\u001b[2m:\u001b[0m\u001b]8;id=513352;file://C:\\Users\\thoma\\AppData\\Local\\Programs\\Python\\Python39\\lib\\site-packages\\manim\\utils\\tex_file_writing.py#85\u001b\\\u001b[2m85\u001b[0m\u001b]8;;\u001b\\\n",
       "                             \u001b[32mdx\\ approaches \\ 0\"\u001b[0m to                                          \n",
       "                             media\\Tex\\3eff57953857bbdb.tex                                  \n"
      ]
     },
     "metadata": {},
     "output_type": "display_data"
    },
    {
     "data": {
      "text/html": [
       "<pre style=\"white-space:pre;overflow-x:auto;line-height:normal;font-family:Menlo,'DejaVu Sans Mono',consolas,'Courier New',monospace\"><span style=\"color: #7fbfbf; text-decoration-color: #7fbfbf\">[01/31/22 21:00:03] </span><span style=\"color: #008000; text-decoration-color: #008000\">INFO    </span> <span style=\"color: #808000; text-decoration-color: #808000; font-weight: bold\">Writing</span> <span style=\"color: #008000; text-decoration-color: #008000\">\"{dL}^{2}={dx}^{2}+{dy}^{2}\"</span> to   <a href=\"file://C:\\Users\\thoma\\AppData\\Local\\Programs\\Python\\Python39\\lib\\site-packages\\manim\\utils\\tex_file_writing.py\"><span style=\"color: #7f7f7f; text-decoration-color: #7f7f7f\">tex_file_writing.py</span></a><span style=\"color: #7f7f7f; text-decoration-color: #7f7f7f\">:</span><a href=\"file://C:\\Users\\thoma\\AppData\\Local\\Programs\\Python\\Python39\\lib\\site-packages\\manim\\utils\\tex_file_writing.py#85\"><span style=\"color: #7f7f7f; text-decoration-color: #7f7f7f\">85</span></a>\n",
       "                             media\\Tex\\80080eb8d4593b32.tex                                  \n",
       "</pre>\n"
      ],
      "text/plain": [
       "\u001b[2;36m[01/31/22 21:00:03]\u001b[0m\u001b[2;36m \u001b[0m\u001b[32mINFO    \u001b[0m \u001b[1;33mWriting\u001b[0m \u001b[32m\"\u001b[0m\u001b[32m{\u001b[0m\u001b[32mdL\u001b[0m\u001b[32m}\u001b[0m\u001b[32m^\u001b[0m\u001b[32m{\u001b[0m\u001b[32m2\u001b[0m\u001b[32m}\u001b[0m\u001b[32m=\u001b[0m\u001b[32m{\u001b[0m\u001b[32mdx\u001b[0m\u001b[32m}\u001b[0m\u001b[32m^\u001b[0m\u001b[32m{\u001b[0m\u001b[32m2\u001b[0m\u001b[32m}\u001b[0m\u001b[32m+\u001b[0m\u001b[32m{\u001b[0m\u001b[32mdy\u001b[0m\u001b[32m}\u001b[0m\u001b[32m^\u001b[0m\u001b[32m{\u001b[0m\u001b[32m2\u001b[0m\u001b[32m}\u001b[0m\u001b[32m\"\u001b[0m to   \u001b]8;id=360863;file://C:\\Users\\thoma\\AppData\\Local\\Programs\\Python\\Python39\\lib\\site-packages\\manim\\utils\\tex_file_writing.py\u001b\\\u001b[2mtex_file_writing.py\u001b[0m\u001b]8;;\u001b\\\u001b[2m:\u001b[0m\u001b]8;id=772474;file://C:\\Users\\thoma\\AppData\\Local\\Programs\\Python\\Python39\\lib\\site-packages\\manim\\utils\\tex_file_writing.py#85\u001b\\\u001b[2m85\u001b[0m\u001b]8;;\u001b\\\n",
       "                             media\\Tex\\80080eb8d4593b32.tex                                  \n"
      ]
     },
     "metadata": {},
     "output_type": "display_data"
    },
    {
     "data": {
      "text/html": [
       "<pre style=\"white-space:pre;overflow-x:auto;line-height:normal;font-family:Menlo,'DejaVu Sans Mono',consolas,'Courier New',monospace\"><span style=\"color: #7fbfbf; text-decoration-color: #7fbfbf\">[01/31/22 21:00:05] </span><span style=\"color: #008000; text-decoration-color: #008000\">INFO    </span> <span style=\"color: #808000; text-decoration-color: #808000; font-weight: bold\">Writing</span> <span style=\"color: #008000; text-decoration-color: #008000\">\"{dL}^{2}={dx}^{2}(1+(\\frac{dy}{d</span> <a href=\"file://C:\\Users\\thoma\\AppData\\Local\\Programs\\Python\\Python39\\lib\\site-packages\\manim\\utils\\tex_file_writing.py\"><span style=\"color: #7f7f7f; text-decoration-color: #7f7f7f\">tex_file_writing.py</span></a><span style=\"color: #7f7f7f; text-decoration-color: #7f7f7f\">:</span><a href=\"file://C:\\Users\\thoma\\AppData\\Local\\Programs\\Python\\Python39\\lib\\site-packages\\manim\\utils\\tex_file_writing.py#85\"><span style=\"color: #7f7f7f; text-decoration-color: #7f7f7f\">85</span></a>\n",
       "                             <span style=\"color: #008000; text-decoration-color: #008000\">x})^{2})\"</span> to                                                    \n",
       "                             media\\Tex\\370bbcb50fc43e60.tex                                  \n",
       "</pre>\n"
      ],
      "text/plain": [
       "\u001b[2;36m[01/31/22 21:00:05]\u001b[0m\u001b[2;36m \u001b[0m\u001b[32mINFO    \u001b[0m \u001b[1;33mWriting\u001b[0m \u001b[32m\"\u001b[0m\u001b[32m{\u001b[0m\u001b[32mdL\u001b[0m\u001b[32m}\u001b[0m\u001b[32m^\u001b[0m\u001b[32m{\u001b[0m\u001b[32m2\u001b[0m\u001b[32m}\u001b[0m\u001b[32m=\u001b[0m\u001b[32m{\u001b[0m\u001b[32mdx\u001b[0m\u001b[32m}\u001b[0m\u001b[32m^\u001b[0m\u001b[32m{\u001b[0m\u001b[32m2\u001b[0m\u001b[32m}\u001b[0m\u001b[32m(\u001b[0m\u001b[32m1+\u001b[0m\u001b[32m(\u001b[0m\u001b[32m\\frac\u001b[0m\u001b[32m{\u001b[0m\u001b[32mdy\u001b[0m\u001b[32m}\u001b[0m\u001b[32m{\u001b[0m\u001b[32md\u001b[0m \u001b]8;id=578769;file://C:\\Users\\thoma\\AppData\\Local\\Programs\\Python\\Python39\\lib\\site-packages\\manim\\utils\\tex_file_writing.py\u001b\\\u001b[2mtex_file_writing.py\u001b[0m\u001b]8;;\u001b\\\u001b[2m:\u001b[0m\u001b]8;id=448661;file://C:\\Users\\thoma\\AppData\\Local\\Programs\\Python\\Python39\\lib\\site-packages\\manim\\utils\\tex_file_writing.py#85\u001b\\\u001b[2m85\u001b[0m\u001b]8;;\u001b\\\n",
       "                             \u001b[32mx\u001b[0m\u001b[32m}\u001b[0m\u001b[32m)\u001b[0m\u001b[32m^\u001b[0m\u001b[32m{\u001b[0m\u001b[32m2\u001b[0m\u001b[32m}\u001b[0m\u001b[32m)\u001b[0m\u001b[32m\"\u001b[0m to                                                    \n",
       "                             media\\Tex\\370bbcb50fc43e60.tex                                  \n"
      ]
     },
     "metadata": {},
     "output_type": "display_data"
    },
    {
     "data": {
      "text/html": [
       "<pre style=\"white-space:pre;overflow-x:auto;line-height:normal;font-family:Menlo,'DejaVu Sans Mono',consolas,'Courier New',monospace\"><span style=\"color: #7fbfbf; text-decoration-color: #7fbfbf\">[01/31/22 21:00:08] </span><span style=\"color: #008000; text-decoration-color: #008000\">INFO    </span> <span style=\"color: #808000; text-decoration-color: #808000; font-weight: bold\">Writing</span> <span style=\"color: #008000; text-decoration-color: #008000\">\"dL = \\sqrt{ </span>                     <a href=\"file://C:\\Users\\thoma\\AppData\\Local\\Programs\\Python\\Python39\\lib\\site-packages\\manim\\utils\\tex_file_writing.py\"><span style=\"color: #7f7f7f; text-decoration-color: #7f7f7f\">tex_file_writing.py</span></a><span style=\"color: #7f7f7f; text-decoration-color: #7f7f7f\">:</span><a href=\"file://C:\\Users\\thoma\\AppData\\Local\\Programs\\Python\\Python39\\lib\\site-packages\\manim\\utils\\tex_file_writing.py#85\"><span style=\"color: #7f7f7f; text-decoration-color: #7f7f7f\">85</span></a>\n",
       "                             <span style=\"color: #008000; text-decoration-color: #008000\">{dx}^{2}(1+(\\frac{dy}{dx})^{2}) }\"</span> to                           \n",
       "                             media\\Tex\\1a8b66638256d4f2.tex                                  \n",
       "</pre>\n"
      ],
      "text/plain": [
       "\u001b[2;36m[01/31/22 21:00:08]\u001b[0m\u001b[2;36m \u001b[0m\u001b[32mINFO    \u001b[0m \u001b[1;33mWriting\u001b[0m \u001b[32m\"dL = \\sqrt\u001b[0m\u001b[32m{\u001b[0m\u001b[32m \u001b[0m                     \u001b]8;id=932776;file://C:\\Users\\thoma\\AppData\\Local\\Programs\\Python\\Python39\\lib\\site-packages\\manim\\utils\\tex_file_writing.py\u001b\\\u001b[2mtex_file_writing.py\u001b[0m\u001b]8;;\u001b\\\u001b[2m:\u001b[0m\u001b]8;id=540865;file://C:\\Users\\thoma\\AppData\\Local\\Programs\\Python\\Python39\\lib\\site-packages\\manim\\utils\\tex_file_writing.py#85\u001b\\\u001b[2m85\u001b[0m\u001b]8;;\u001b\\\n",
       "                             \u001b[32m{\u001b[0m\u001b[32mdx\u001b[0m\u001b[32m}\u001b[0m\u001b[32m^\u001b[0m\u001b[32m{\u001b[0m\u001b[32m2\u001b[0m\u001b[32m}\u001b[0m\u001b[32m(\u001b[0m\u001b[32m1+\u001b[0m\u001b[32m(\u001b[0m\u001b[32m\\frac\u001b[0m\u001b[32m{\u001b[0m\u001b[32mdy\u001b[0m\u001b[32m}\u001b[0m\u001b[32m{\u001b[0m\u001b[32mdx\u001b[0m\u001b[32m}\u001b[0m\u001b[32m)\u001b[0m\u001b[32m^\u001b[0m\u001b[32m{\u001b[0m\u001b[32m2\u001b[0m\u001b[32m}\u001b[0m\u001b[32m)\u001b[0m\u001b[32m \u001b[0m\u001b[32m}\u001b[0m\u001b[32m\"\u001b[0m to                           \n",
       "                             media\\Tex\\1a8b66638256d4f2.tex                                  \n"
      ]
     },
     "metadata": {},
     "output_type": "display_data"
    },
    {
     "data": {
      "text/html": [
       "<pre style=\"white-space:pre;overflow-x:auto;line-height:normal;font-family:Menlo,'DejaVu Sans Mono',consolas,'Courier New',monospace\"><span style=\"color: #7fbfbf; text-decoration-color: #7fbfbf\">[01/31/22 21:00:11] </span><span style=\"color: #008000; text-decoration-color: #008000\">INFO    </span> <span style=\"color: #808000; text-decoration-color: #808000; font-weight: bold\">Writing</span> <span style=\"color: #008000; text-decoration-color: #008000\">\"dL = \\sqrt{1 + </span>                  <a href=\"file://C:\\Users\\thoma\\AppData\\Local\\Programs\\Python\\Python39\\lib\\site-packages\\manim\\utils\\tex_file_writing.py\"><span style=\"color: #7f7f7f; text-decoration-color: #7f7f7f\">tex_file_writing.py</span></a><span style=\"color: #7f7f7f; text-decoration-color: #7f7f7f\">:</span><a href=\"file://C:\\Users\\thoma\\AppData\\Local\\Programs\\Python\\Python39\\lib\\site-packages\\manim\\utils\\tex_file_writing.py#85\"><span style=\"color: #7f7f7f; text-decoration-color: #7f7f7f\">85</span></a>\n",
       "                             <span style=\"color: #008000; text-decoration-color: #008000\">(\\frac{dy}{dx})^{2} } dx\"</span> to                                    \n",
       "                             media\\Tex\\7f79fabdc839d65c.tex                                  \n",
       "</pre>\n"
      ],
      "text/plain": [
       "\u001b[2;36m[01/31/22 21:00:11]\u001b[0m\u001b[2;36m \u001b[0m\u001b[32mINFO    \u001b[0m \u001b[1;33mWriting\u001b[0m \u001b[32m\"dL = \\sqrt\u001b[0m\u001b[32m{\u001b[0m\u001b[32m1 + \u001b[0m                  \u001b]8;id=578469;file://C:\\Users\\thoma\\AppData\\Local\\Programs\\Python\\Python39\\lib\\site-packages\\manim\\utils\\tex_file_writing.py\u001b\\\u001b[2mtex_file_writing.py\u001b[0m\u001b]8;;\u001b\\\u001b[2m:\u001b[0m\u001b]8;id=537352;file://C:\\Users\\thoma\\AppData\\Local\\Programs\\Python\\Python39\\lib\\site-packages\\manim\\utils\\tex_file_writing.py#85\u001b\\\u001b[2m85\u001b[0m\u001b]8;;\u001b\\\n",
       "                             \u001b[32m(\u001b[0m\u001b[32m\\frac\u001b[0m\u001b[32m{\u001b[0m\u001b[32mdy\u001b[0m\u001b[32m}\u001b[0m\u001b[32m{\u001b[0m\u001b[32mdx\u001b[0m\u001b[32m}\u001b[0m\u001b[32m)\u001b[0m\u001b[32m^\u001b[0m\u001b[32m{\u001b[0m\u001b[32m2\u001b[0m\u001b[32m}\u001b[0m\u001b[32m \u001b[0m\u001b[32m}\u001b[0m\u001b[32m dx\"\u001b[0m to                                    \n",
       "                             media\\Tex\\7f79fabdc839d65c.tex                                  \n"
      ]
     },
     "metadata": {},
     "output_type": "display_data"
    },
    {
     "data": {
      "text/html": [
       "<pre style=\"white-space:pre;overflow-x:auto;line-height:normal;font-family:Menlo,'DejaVu Sans Mono',consolas,'Courier New',monospace\"><span style=\"color: #7fbfbf; text-decoration-color: #7fbfbf\">[01/31/22 21:00:14] </span><span style=\"color: #008000; text-decoration-color: #008000\">INFO    </span> Animation <span style=\"color: #008000; text-decoration-color: #008000\">0</span> : Partial movie file        <a href=\"file://C:\\Users\\thoma\\AppData\\Local\\Programs\\Python\\Python39\\lib\\site-packages\\manim\\scene\\scene_file_writer.py\"><span style=\"color: #7f7f7f; text-decoration-color: #7f7f7f\">scene_file_writer.py</span></a><span style=\"color: #7f7f7f; text-decoration-color: #7f7f7f\">:</span><a href=\"file://C:\\Users\\thoma\\AppData\\Local\\Programs\\Python\\Python39\\lib\\site-packages\\manim\\scene\\scene_file_writer.py#514\"><span style=\"color: #7f7f7f; text-decoration-color: #7f7f7f\">514</span></a>\n",
       "                             written in <span style=\"color: #008000; text-decoration-color: #008000\">'c:\\Users\\thoma\\Desktop\\Apre</span>                         \n",
       "                             <span style=\"color: #008000; text-decoration-color: #008000\">ndizado\\Manim\\media\\videos\\Manim\\480p15</span>                         \n",
       "                             <span style=\"color: #008000; text-decoration-color: #008000\">\\partial_movie_files\\ArcLength\\31637822</span>                         \n",
       "                             <span style=\"color: #008000; text-decoration-color: #008000\">88_1515588106_2018177935.mp4'</span>                                   \n",
       "</pre>\n"
      ],
      "text/plain": [
       "\u001b[2;36m[01/31/22 21:00:14]\u001b[0m\u001b[2;36m \u001b[0m\u001b[32mINFO    \u001b[0m Animation \u001b[32m0\u001b[0m : Partial movie file        \u001b]8;id=589042;file://C:\\Users\\thoma\\AppData\\Local\\Programs\\Python\\Python39\\lib\\site-packages\\manim\\scene\\scene_file_writer.py\u001b\\\u001b[2mscene_file_writer.py\u001b[0m\u001b]8;;\u001b\\\u001b[2m:\u001b[0m\u001b]8;id=402752;file://C:\\Users\\thoma\\AppData\\Local\\Programs\\Python\\Python39\\lib\\site-packages\\manim\\scene\\scene_file_writer.py#514\u001b\\\u001b[2m514\u001b[0m\u001b]8;;\u001b\\\n",
       "                             written in \u001b[32m'c:\\Users\\thoma\\Desktop\\Apre\u001b[0m                         \n",
       "                             \u001b[32mndizado\\Manim\\media\\videos\\Manim\\480p15\u001b[0m                         \n",
       "                             \u001b[32m\\partial_movie_files\\ArcLength\\31637822\u001b[0m                         \n",
       "                             \u001b[32m88_1515588106_2018177935.mp4'\u001b[0m                                   \n"
      ]
     },
     "metadata": {},
     "output_type": "display_data"
    },
    {
     "name": "stderr",
     "output_type": "stream",
     "text": [
      "                                                                                      \r"
     ]
    },
    {
     "data": {
      "text/html": [
       "<pre style=\"white-space:pre;overflow-x:auto;line-height:normal;font-family:Menlo,'DejaVu Sans Mono',consolas,'Courier New',monospace\"><span style=\"color: #7fbfbf; text-decoration-color: #7fbfbf\">[01/31/22 21:00:15] </span><span style=\"color: #008000; text-decoration-color: #008000\">INFO    </span> Animation <span style=\"color: #008000; text-decoration-color: #008000\">1</span> : Partial movie file        <a href=\"file://C:\\Users\\thoma\\AppData\\Local\\Programs\\Python\\Python39\\lib\\site-packages\\manim\\scene\\scene_file_writer.py\"><span style=\"color: #7f7f7f; text-decoration-color: #7f7f7f\">scene_file_writer.py</span></a><span style=\"color: #7f7f7f; text-decoration-color: #7f7f7f\">:</span><a href=\"file://C:\\Users\\thoma\\AppData\\Local\\Programs\\Python\\Python39\\lib\\site-packages\\manim\\scene\\scene_file_writer.py#514\"><span style=\"color: #7f7f7f; text-decoration-color: #7f7f7f\">514</span></a>\n",
       "                             written in <span style=\"color: #008000; text-decoration-color: #008000\">'c:\\Users\\thoma\\Desktop\\Apre</span>                         \n",
       "                             <span style=\"color: #008000; text-decoration-color: #008000\">ndizado\\Manim\\media\\videos\\Manim\\480p15</span>                         \n",
       "                             <span style=\"color: #008000; text-decoration-color: #008000\">\\partial_movie_files\\ArcLength\\22018309</span>                         \n",
       "                             <span style=\"color: #008000; text-decoration-color: #008000\">69_106665963_2732358039.mp4'</span>                                    \n",
       "</pre>\n"
      ],
      "text/plain": [
       "\u001b[2;36m[01/31/22 21:00:15]\u001b[0m\u001b[2;36m \u001b[0m\u001b[32mINFO    \u001b[0m Animation \u001b[32m1\u001b[0m : Partial movie file        \u001b]8;id=391752;file://C:\\Users\\thoma\\AppData\\Local\\Programs\\Python\\Python39\\lib\\site-packages\\manim\\scene\\scene_file_writer.py\u001b\\\u001b[2mscene_file_writer.py\u001b[0m\u001b]8;;\u001b\\\u001b[2m:\u001b[0m\u001b]8;id=16284;file://C:\\Users\\thoma\\AppData\\Local\\Programs\\Python\\Python39\\lib\\site-packages\\manim\\scene\\scene_file_writer.py#514\u001b\\\u001b[2m514\u001b[0m\u001b]8;;\u001b\\\n",
       "                             written in \u001b[32m'c:\\Users\\thoma\\Desktop\\Apre\u001b[0m                         \n",
       "                             \u001b[32mndizado\\Manim\\media\\videos\\Manim\\480p15\u001b[0m                         \n",
       "                             \u001b[32m\\partial_movie_files\\ArcLength\\22018309\u001b[0m                         \n",
       "                             \u001b[32m69_106665963_2732358039.mp4'\u001b[0m                                    \n"
      ]
     },
     "metadata": {},
     "output_type": "display_data"
    },
    {
     "name": "stderr",
     "output_type": "stream",
     "text": [
      "                                                                          \r"
     ]
    },
    {
     "data": {
      "text/html": [
       "<pre style=\"white-space:pre;overflow-x:auto;line-height:normal;font-family:Menlo,'DejaVu Sans Mono',consolas,'Courier New',monospace\"><span style=\"color: #7fbfbf; text-decoration-color: #7fbfbf\">[01/31/22 21:00:16] </span><span style=\"color: #008000; text-decoration-color: #008000\">INFO    </span> Animation <span style=\"color: #008000; text-decoration-color: #008000\">2</span> : Partial movie file        <a href=\"file://C:\\Users\\thoma\\AppData\\Local\\Programs\\Python\\Python39\\lib\\site-packages\\manim\\scene\\scene_file_writer.py\"><span style=\"color: #7f7f7f; text-decoration-color: #7f7f7f\">scene_file_writer.py</span></a><span style=\"color: #7f7f7f; text-decoration-color: #7f7f7f\">:</span><a href=\"file://C:\\Users\\thoma\\AppData\\Local\\Programs\\Python\\Python39\\lib\\site-packages\\manim\\scene\\scene_file_writer.py#514\"><span style=\"color: #7f7f7f; text-decoration-color: #7f7f7f\">514</span></a>\n",
       "                             written in <span style=\"color: #008000; text-decoration-color: #008000\">'c:\\Users\\thoma\\Desktop\\Apre</span>                         \n",
       "                             <span style=\"color: #008000; text-decoration-color: #008000\">ndizado\\Manim\\media\\videos\\Manim\\480p15</span>                         \n",
       "                             <span style=\"color: #008000; text-decoration-color: #008000\">\\partial_movie_files\\ArcLength\\22018309</span>                         \n",
       "                             <span style=\"color: #008000; text-decoration-color: #008000\">69_2723146564_1036758635.mp4'</span>                                   \n",
       "</pre>\n"
      ],
      "text/plain": [
       "\u001b[2;36m[01/31/22 21:00:16]\u001b[0m\u001b[2;36m \u001b[0m\u001b[32mINFO    \u001b[0m Animation \u001b[32m2\u001b[0m : Partial movie file        \u001b]8;id=862487;file://C:\\Users\\thoma\\AppData\\Local\\Programs\\Python\\Python39\\lib\\site-packages\\manim\\scene\\scene_file_writer.py\u001b\\\u001b[2mscene_file_writer.py\u001b[0m\u001b]8;;\u001b\\\u001b[2m:\u001b[0m\u001b]8;id=469908;file://C:\\Users\\thoma\\AppData\\Local\\Programs\\Python\\Python39\\lib\\site-packages\\manim\\scene\\scene_file_writer.py#514\u001b\\\u001b[2m514\u001b[0m\u001b]8;;\u001b\\\n",
       "                             written in \u001b[32m'c:\\Users\\thoma\\Desktop\\Apre\u001b[0m                         \n",
       "                             \u001b[32mndizado\\Manim\\media\\videos\\Manim\\480p15\u001b[0m                         \n",
       "                             \u001b[32m\\partial_movie_files\\ArcLength\\22018309\u001b[0m                         \n",
       "                             \u001b[32m69_2723146564_1036758635.mp4'\u001b[0m                                   \n"
      ]
     },
     "metadata": {},
     "output_type": "display_data"
    },
    {
     "name": "stderr",
     "output_type": "stream",
     "text": [
      "                                                                                            \r"
     ]
    },
    {
     "data": {
      "text/html": [
       "<pre style=\"white-space:pre;overflow-x:auto;line-height:normal;font-family:Menlo,'DejaVu Sans Mono',consolas,'Courier New',monospace\"><span style=\"color: #7fbfbf; text-decoration-color: #7fbfbf\">[01/31/22 21:00:33] </span><span style=\"color: #008000; text-decoration-color: #008000\">INFO    </span> Animation <span style=\"color: #008000; text-decoration-color: #008000\">3</span> : Partial movie file        <a href=\"file://C:\\Users\\thoma\\AppData\\Local\\Programs\\Python\\Python39\\lib\\site-packages\\manim\\scene\\scene_file_writer.py\"><span style=\"color: #7f7f7f; text-decoration-color: #7f7f7f\">scene_file_writer.py</span></a><span style=\"color: #7f7f7f; text-decoration-color: #7f7f7f\">:</span><a href=\"file://C:\\Users\\thoma\\AppData\\Local\\Programs\\Python\\Python39\\lib\\site-packages\\manim\\scene\\scene_file_writer.py#514\"><span style=\"color: #7f7f7f; text-decoration-color: #7f7f7f\">514</span></a>\n",
       "                             written in <span style=\"color: #008000; text-decoration-color: #008000\">'c:\\Users\\thoma\\Desktop\\Apre</span>                         \n",
       "                             <span style=\"color: #008000; text-decoration-color: #008000\">ndizado\\Manim\\media\\videos\\Manim\\480p15</span>                         \n",
       "                             <span style=\"color: #008000; text-decoration-color: #008000\">\\partial_movie_files\\ArcLength\\22018309</span>                         \n",
       "                             <span style=\"color: #008000; text-decoration-color: #008000\">69_161734299_4042830904.mp4'</span>                                    \n",
       "</pre>\n"
      ],
      "text/plain": [
       "\u001b[2;36m[01/31/22 21:00:33]\u001b[0m\u001b[2;36m \u001b[0m\u001b[32mINFO    \u001b[0m Animation \u001b[32m3\u001b[0m : Partial movie file        \u001b]8;id=600460;file://C:\\Users\\thoma\\AppData\\Local\\Programs\\Python\\Python39\\lib\\site-packages\\manim\\scene\\scene_file_writer.py\u001b\\\u001b[2mscene_file_writer.py\u001b[0m\u001b]8;;\u001b\\\u001b[2m:\u001b[0m\u001b]8;id=49716;file://C:\\Users\\thoma\\AppData\\Local\\Programs\\Python\\Python39\\lib\\site-packages\\manim\\scene\\scene_file_writer.py#514\u001b\\\u001b[2m514\u001b[0m\u001b]8;;\u001b\\\n",
       "                             written in \u001b[32m'c:\\Users\\thoma\\Desktop\\Apre\u001b[0m                         \n",
       "                             \u001b[32mndizado\\Manim\\media\\videos\\Manim\\480p15\u001b[0m                         \n",
       "                             \u001b[32m\\partial_movie_files\\ArcLength\\22018309\u001b[0m                         \n",
       "                             \u001b[32m69_161734299_4042830904.mp4'\u001b[0m                                    \n"
      ]
     },
     "metadata": {},
     "output_type": "display_data"
    },
    {
     "data": {
      "text/html": [
       "<pre style=\"white-space:pre;overflow-x:auto;line-height:normal;font-family:Menlo,'DejaVu Sans Mono',consolas,'Courier New',monospace\"><span style=\"color: #7fbfbf; text-decoration-color: #7fbfbf\">[01/31/22 21:00:34] </span><span style=\"color: #008000; text-decoration-color: #008000\">INFO    </span> Animation <span style=\"color: #008000; text-decoration-color: #008000\">4</span> : Partial movie file        <a href=\"file://C:\\Users\\thoma\\AppData\\Local\\Programs\\Python\\Python39\\lib\\site-packages\\manim\\scene\\scene_file_writer.py\"><span style=\"color: #7f7f7f; text-decoration-color: #7f7f7f\">scene_file_writer.py</span></a><span style=\"color: #7f7f7f; text-decoration-color: #7f7f7f\">:</span><a href=\"file://C:\\Users\\thoma\\AppData\\Local\\Programs\\Python\\Python39\\lib\\site-packages\\manim\\scene\\scene_file_writer.py#514\"><span style=\"color: #7f7f7f; text-decoration-color: #7f7f7f\">514</span></a>\n",
       "                             written in <span style=\"color: #008000; text-decoration-color: #008000\">'c:\\Users\\thoma\\Desktop\\Apre</span>                         \n",
       "                             <span style=\"color: #008000; text-decoration-color: #008000\">ndizado\\Manim\\media\\videos\\Manim\\480p15</span>                         \n",
       "                             <span style=\"color: #008000; text-decoration-color: #008000\">\\partial_movie_files\\ArcLength\\22018309</span>                         \n",
       "                             <span style=\"color: #008000; text-decoration-color: #008000\">69_398514950_301423896.mp4'</span>                                     \n",
       "</pre>\n"
      ],
      "text/plain": [
       "\u001b[2;36m[01/31/22 21:00:34]\u001b[0m\u001b[2;36m \u001b[0m\u001b[32mINFO    \u001b[0m Animation \u001b[32m4\u001b[0m : Partial movie file        \u001b]8;id=445607;file://C:\\Users\\thoma\\AppData\\Local\\Programs\\Python\\Python39\\lib\\site-packages\\manim\\scene\\scene_file_writer.py\u001b\\\u001b[2mscene_file_writer.py\u001b[0m\u001b]8;;\u001b\\\u001b[2m:\u001b[0m\u001b]8;id=328262;file://C:\\Users\\thoma\\AppData\\Local\\Programs\\Python\\Python39\\lib\\site-packages\\manim\\scene\\scene_file_writer.py#514\u001b\\\u001b[2m514\u001b[0m\u001b]8;;\u001b\\\n",
       "                             written in \u001b[32m'c:\\Users\\thoma\\Desktop\\Apre\u001b[0m                         \n",
       "                             \u001b[32mndizado\\Manim\\media\\videos\\Manim\\480p15\u001b[0m                         \n",
       "                             \u001b[32m\\partial_movie_files\\ArcLength\\22018309\u001b[0m                         \n",
       "                             \u001b[32m69_398514950_301423896.mp4'\u001b[0m                                     \n"
      ]
     },
     "metadata": {},
     "output_type": "display_data"
    },
    {
     "name": "stderr",
     "output_type": "stream",
     "text": [
      "                                                                                                                                         \r"
     ]
    },
    {
     "data": {
      "text/html": [
       "<pre style=\"white-space:pre;overflow-x:auto;line-height:normal;font-family:Menlo,'DejaVu Sans Mono',consolas,'Courier New',monospace\"><span style=\"color: #7fbfbf; text-decoration-color: #7fbfbf\">[01/31/22 21:00:41] </span><span style=\"color: #008000; text-decoration-color: #008000\">INFO    </span> Animation <span style=\"color: #008000; text-decoration-color: #008000\">5</span> : Partial movie file        <a href=\"file://C:\\Users\\thoma\\AppData\\Local\\Programs\\Python\\Python39\\lib\\site-packages\\manim\\scene\\scene_file_writer.py\"><span style=\"color: #7f7f7f; text-decoration-color: #7f7f7f\">scene_file_writer.py</span></a><span style=\"color: #7f7f7f; text-decoration-color: #7f7f7f\">:</span><a href=\"file://C:\\Users\\thoma\\AppData\\Local\\Programs\\Python\\Python39\\lib\\site-packages\\manim\\scene\\scene_file_writer.py#514\"><span style=\"color: #7f7f7f; text-decoration-color: #7f7f7f\">514</span></a>\n",
       "                             written in <span style=\"color: #008000; text-decoration-color: #008000\">'c:\\Users\\thoma\\Desktop\\Apre</span>                         \n",
       "                             <span style=\"color: #008000; text-decoration-color: #008000\">ndizado\\Manim\\media\\videos\\Manim\\480p15</span>                         \n",
       "                             <span style=\"color: #008000; text-decoration-color: #008000\">\\partial_movie_files\\ArcLength\\22018309</span>                         \n",
       "                             <span style=\"color: #008000; text-decoration-color: #008000\">69_776719942_2510994844.mp4'</span>                                    \n",
       "</pre>\n"
      ],
      "text/plain": [
       "\u001b[2;36m[01/31/22 21:00:41]\u001b[0m\u001b[2;36m \u001b[0m\u001b[32mINFO    \u001b[0m Animation \u001b[32m5\u001b[0m : Partial movie file        \u001b]8;id=733694;file://C:\\Users\\thoma\\AppData\\Local\\Programs\\Python\\Python39\\lib\\site-packages\\manim\\scene\\scene_file_writer.py\u001b\\\u001b[2mscene_file_writer.py\u001b[0m\u001b]8;;\u001b\\\u001b[2m:\u001b[0m\u001b]8;id=489486;file://C:\\Users\\thoma\\AppData\\Local\\Programs\\Python\\Python39\\lib\\site-packages\\manim\\scene\\scene_file_writer.py#514\u001b\\\u001b[2m514\u001b[0m\u001b]8;;\u001b\\\n",
       "                             written in \u001b[32m'c:\\Users\\thoma\\Desktop\\Apre\u001b[0m                         \n",
       "                             \u001b[32mndizado\\Manim\\media\\videos\\Manim\\480p15\u001b[0m                         \n",
       "                             \u001b[32m\\partial_movie_files\\ArcLength\\22018309\u001b[0m                         \n",
       "                             \u001b[32m69_776719942_2510994844.mp4'\u001b[0m                                    \n"
      ]
     },
     "metadata": {},
     "output_type": "display_data"
    },
    {
     "name": "stderr",
     "output_type": "stream",
     "text": [
      "                                                                                          \r"
     ]
    },
    {
     "data": {
      "text/html": [
       "<pre style=\"white-space:pre;overflow-x:auto;line-height:normal;font-family:Menlo,'DejaVu Sans Mono',consolas,'Courier New',monospace\"><span style=\"color: #7fbfbf; text-decoration-color: #7fbfbf\">[01/31/22 21:00:48] </span><span style=\"color: #008000; text-decoration-color: #008000\">INFO    </span> Animation <span style=\"color: #008000; text-decoration-color: #008000\">6</span> : Partial movie file        <a href=\"file://C:\\Users\\thoma\\AppData\\Local\\Programs\\Python\\Python39\\lib\\site-packages\\manim\\scene\\scene_file_writer.py\"><span style=\"color: #7f7f7f; text-decoration-color: #7f7f7f\">scene_file_writer.py</span></a><span style=\"color: #7f7f7f; text-decoration-color: #7f7f7f\">:</span><a href=\"file://C:\\Users\\thoma\\AppData\\Local\\Programs\\Python\\Python39\\lib\\site-packages\\manim\\scene\\scene_file_writer.py#514\"><span style=\"color: #7f7f7f; text-decoration-color: #7f7f7f\">514</span></a>\n",
       "                             written in <span style=\"color: #008000; text-decoration-color: #008000\">'c:\\Users\\thoma\\Desktop\\Apre</span>                         \n",
       "                             <span style=\"color: #008000; text-decoration-color: #008000\">ndizado\\Manim\\media\\videos\\Manim\\480p15</span>                         \n",
       "                             <span style=\"color: #008000; text-decoration-color: #008000\">\\partial_movie_files\\ArcLength\\22018309</span>                         \n",
       "                             <span style=\"color: #008000; text-decoration-color: #008000\">69_158904324_3844736756.mp4'</span>                                    \n",
       "</pre>\n"
      ],
      "text/plain": [
       "\u001b[2;36m[01/31/22 21:00:48]\u001b[0m\u001b[2;36m \u001b[0m\u001b[32mINFO    \u001b[0m Animation \u001b[32m6\u001b[0m : Partial movie file        \u001b]8;id=556595;file://C:\\Users\\thoma\\AppData\\Local\\Programs\\Python\\Python39\\lib\\site-packages\\manim\\scene\\scene_file_writer.py\u001b\\\u001b[2mscene_file_writer.py\u001b[0m\u001b]8;;\u001b\\\u001b[2m:\u001b[0m\u001b]8;id=592187;file://C:\\Users\\thoma\\AppData\\Local\\Programs\\Python\\Python39\\lib\\site-packages\\manim\\scene\\scene_file_writer.py#514\u001b\\\u001b[2m514\u001b[0m\u001b]8;;\u001b\\\n",
       "                             written in \u001b[32m'c:\\Users\\thoma\\Desktop\\Apre\u001b[0m                         \n",
       "                             \u001b[32mndizado\\Manim\\media\\videos\\Manim\\480p15\u001b[0m                         \n",
       "                             \u001b[32m\\partial_movie_files\\ArcLength\\22018309\u001b[0m                         \n",
       "                             \u001b[32m69_158904324_3844736756.mp4'\u001b[0m                                    \n"
      ]
     },
     "metadata": {},
     "output_type": "display_data"
    },
    {
     "name": "stderr",
     "output_type": "stream",
     "text": [
      "                                                                                              \r"
     ]
    },
    {
     "data": {
      "text/html": [
       "<pre style=\"white-space:pre;overflow-x:auto;line-height:normal;font-family:Menlo,'DejaVu Sans Mono',consolas,'Courier New',monospace\"><span style=\"color: #7fbfbf; text-decoration-color: #7fbfbf\">[01/31/22 21:01:14] </span><span style=\"color: #008000; text-decoration-color: #008000\">INFO    </span> Animation <span style=\"color: #008000; text-decoration-color: #008000\">7</span> : Partial movie file        <a href=\"file://C:\\Users\\thoma\\AppData\\Local\\Programs\\Python\\Python39\\lib\\site-packages\\manim\\scene\\scene_file_writer.py\"><span style=\"color: #7f7f7f; text-decoration-color: #7f7f7f\">scene_file_writer.py</span></a><span style=\"color: #7f7f7f; text-decoration-color: #7f7f7f\">:</span><a href=\"file://C:\\Users\\thoma\\AppData\\Local\\Programs\\Python\\Python39\\lib\\site-packages\\manim\\scene\\scene_file_writer.py#514\"><span style=\"color: #7f7f7f; text-decoration-color: #7f7f7f\">514</span></a>\n",
       "                             written in <span style=\"color: #008000; text-decoration-color: #008000\">'c:\\Users\\thoma\\Desktop\\Apre</span>                         \n",
       "                             <span style=\"color: #008000; text-decoration-color: #008000\">ndizado\\Manim\\media\\videos\\Manim\\480p15</span>                         \n",
       "                             <span style=\"color: #008000; text-decoration-color: #008000\">\\partial_movie_files\\ArcLength\\22018309</span>                         \n",
       "                             <span style=\"color: #008000; text-decoration-color: #008000\">69_3381157093_2269409533.mp4'</span>                                   \n",
       "</pre>\n"
      ],
      "text/plain": [
       "\u001b[2;36m[01/31/22 21:01:14]\u001b[0m\u001b[2;36m \u001b[0m\u001b[32mINFO    \u001b[0m Animation \u001b[32m7\u001b[0m : Partial movie file        \u001b]8;id=530338;file://C:\\Users\\thoma\\AppData\\Local\\Programs\\Python\\Python39\\lib\\site-packages\\manim\\scene\\scene_file_writer.py\u001b\\\u001b[2mscene_file_writer.py\u001b[0m\u001b]8;;\u001b\\\u001b[2m:\u001b[0m\u001b]8;id=436329;file://C:\\Users\\thoma\\AppData\\Local\\Programs\\Python\\Python39\\lib\\site-packages\\manim\\scene\\scene_file_writer.py#514\u001b\\\u001b[2m514\u001b[0m\u001b]8;;\u001b\\\n",
       "                             written in \u001b[32m'c:\\Users\\thoma\\Desktop\\Apre\u001b[0m                         \n",
       "                             \u001b[32mndizado\\Manim\\media\\videos\\Manim\\480p15\u001b[0m                         \n",
       "                             \u001b[32m\\partial_movie_files\\ArcLength\\22018309\u001b[0m                         \n",
       "                             \u001b[32m69_3381157093_2269409533.mp4'\u001b[0m                                   \n"
      ]
     },
     "metadata": {},
     "output_type": "display_data"
    },
    {
     "name": "stderr",
     "output_type": "stream",
     "text": [
      "                                                                                                    \r"
     ]
    },
    {
     "data": {
      "text/html": [
       "<pre style=\"white-space:pre;overflow-x:auto;line-height:normal;font-family:Menlo,'DejaVu Sans Mono',consolas,'Courier New',monospace\"><span style=\"color: #7fbfbf; text-decoration-color: #7fbfbf\">[01/31/22 21:01:35] </span><span style=\"color: #008000; text-decoration-color: #008000\">INFO    </span> Animation <span style=\"color: #008000; text-decoration-color: #008000\">8</span> : Partial movie file        <a href=\"file://C:\\Users\\thoma\\AppData\\Local\\Programs\\Python\\Python39\\lib\\site-packages\\manim\\scene\\scene_file_writer.py\"><span style=\"color: #7f7f7f; text-decoration-color: #7f7f7f\">scene_file_writer.py</span></a><span style=\"color: #7f7f7f; text-decoration-color: #7f7f7f\">:</span><a href=\"file://C:\\Users\\thoma\\AppData\\Local\\Programs\\Python\\Python39\\lib\\site-packages\\manim\\scene\\scene_file_writer.py#514\"><span style=\"color: #7f7f7f; text-decoration-color: #7f7f7f\">514</span></a>\n",
       "                             written in <span style=\"color: #008000; text-decoration-color: #008000\">'c:\\Users\\thoma\\Desktop\\Apre</span>                         \n",
       "                             <span style=\"color: #008000; text-decoration-color: #008000\">ndizado\\Manim\\media\\videos\\Manim\\480p15</span>                         \n",
       "                             <span style=\"color: #008000; text-decoration-color: #008000\">\\partial_movie_files\\ArcLength\\22018309</span>                         \n",
       "                             <span style=\"color: #008000; text-decoration-color: #008000\">69_361754215_2695396895.mp4'</span>                                    \n",
       "</pre>\n"
      ],
      "text/plain": [
       "\u001b[2;36m[01/31/22 21:01:35]\u001b[0m\u001b[2;36m \u001b[0m\u001b[32mINFO    \u001b[0m Animation \u001b[32m8\u001b[0m : Partial movie file        \u001b]8;id=837542;file://C:\\Users\\thoma\\AppData\\Local\\Programs\\Python\\Python39\\lib\\site-packages\\manim\\scene\\scene_file_writer.py\u001b\\\u001b[2mscene_file_writer.py\u001b[0m\u001b]8;;\u001b\\\u001b[2m:\u001b[0m\u001b]8;id=492079;file://C:\\Users\\thoma\\AppData\\Local\\Programs\\Python\\Python39\\lib\\site-packages\\manim\\scene\\scene_file_writer.py#514\u001b\\\u001b[2m514\u001b[0m\u001b]8;;\u001b\\\n",
       "                             written in \u001b[32m'c:\\Users\\thoma\\Desktop\\Apre\u001b[0m                         \n",
       "                             \u001b[32mndizado\\Manim\\media\\videos\\Manim\\480p15\u001b[0m                         \n",
       "                             \u001b[32m\\partial_movie_files\\ArcLength\\22018309\u001b[0m                         \n",
       "                             \u001b[32m69_361754215_2695396895.mp4'\u001b[0m                                    \n"
      ]
     },
     "metadata": {},
     "output_type": "display_data"
    },
    {
     "name": "stderr",
     "output_type": "stream",
     "text": [
      "                                                                                             \r"
     ]
    },
    {
     "data": {
      "text/html": [
       "<pre style=\"white-space:pre;overflow-x:auto;line-height:normal;font-family:Menlo,'DejaVu Sans Mono',consolas,'Courier New',monospace\"><span style=\"color: #7fbfbf; text-decoration-color: #7fbfbf\">[01/31/22 21:01:36] </span><span style=\"color: #008000; text-decoration-color: #008000\">INFO    </span> Animation <span style=\"color: #008000; text-decoration-color: #008000\">9</span> : Partial movie file        <a href=\"file://C:\\Users\\thoma\\AppData\\Local\\Programs\\Python\\Python39\\lib\\site-packages\\manim\\scene\\scene_file_writer.py\"><span style=\"color: #7f7f7f; text-decoration-color: #7f7f7f\">scene_file_writer.py</span></a><span style=\"color: #7f7f7f; text-decoration-color: #7f7f7f\">:</span><a href=\"file://C:\\Users\\thoma\\AppData\\Local\\Programs\\Python\\Python39\\lib\\site-packages\\manim\\scene\\scene_file_writer.py#514\"><span style=\"color: #7f7f7f; text-decoration-color: #7f7f7f\">514</span></a>\n",
       "                             written in <span style=\"color: #008000; text-decoration-color: #008000\">'c:\\Users\\thoma\\Desktop\\Apre</span>                         \n",
       "                             <span style=\"color: #008000; text-decoration-color: #008000\">ndizado\\Manim\\media\\videos\\Manim\\480p15</span>                         \n",
       "                             <span style=\"color: #008000; text-decoration-color: #008000\">\\partial_movie_files\\ArcLength\\22018309</span>                         \n",
       "                             <span style=\"color: #008000; text-decoration-color: #008000\">69_2998236849_1964687352.mp4'</span>                                   \n",
       "</pre>\n"
      ],
      "text/plain": [
       "\u001b[2;36m[01/31/22 21:01:36]\u001b[0m\u001b[2;36m \u001b[0m\u001b[32mINFO    \u001b[0m Animation \u001b[32m9\u001b[0m : Partial movie file        \u001b]8;id=542230;file://C:\\Users\\thoma\\AppData\\Local\\Programs\\Python\\Python39\\lib\\site-packages\\manim\\scene\\scene_file_writer.py\u001b\\\u001b[2mscene_file_writer.py\u001b[0m\u001b]8;;\u001b\\\u001b[2m:\u001b[0m\u001b]8;id=38020;file://C:\\Users\\thoma\\AppData\\Local\\Programs\\Python\\Python39\\lib\\site-packages\\manim\\scene\\scene_file_writer.py#514\u001b\\\u001b[2m514\u001b[0m\u001b]8;;\u001b\\\n",
       "                             written in \u001b[32m'c:\\Users\\thoma\\Desktop\\Apre\u001b[0m                         \n",
       "                             \u001b[32mndizado\\Manim\\media\\videos\\Manim\\480p15\u001b[0m                         \n",
       "                             \u001b[32m\\partial_movie_files\\ArcLength\\22018309\u001b[0m                         \n",
       "                             \u001b[32m69_2998236849_1964687352.mp4'\u001b[0m                                   \n"
      ]
     },
     "metadata": {},
     "output_type": "display_data"
    },
    {
     "name": "stderr",
     "output_type": "stream",
     "text": [
      "                                                                                               \r"
     ]
    },
    {
     "data": {
      "text/html": [
       "<pre style=\"white-space:pre;overflow-x:auto;line-height:normal;font-family:Menlo,'DejaVu Sans Mono',consolas,'Courier New',monospace\"><span style=\"color: #7fbfbf; text-decoration-color: #7fbfbf\">[01/31/22 21:01:55] </span><span style=\"color: #008000; text-decoration-color: #008000\">INFO    </span> Animation <span style=\"color: #008000; text-decoration-color: #008000\">10</span> : Partial movie file       <a href=\"file://C:\\Users\\thoma\\AppData\\Local\\Programs\\Python\\Python39\\lib\\site-packages\\manim\\scene\\scene_file_writer.py\"><span style=\"color: #7f7f7f; text-decoration-color: #7f7f7f\">scene_file_writer.py</span></a><span style=\"color: #7f7f7f; text-decoration-color: #7f7f7f\">:</span><a href=\"file://C:\\Users\\thoma\\AppData\\Local\\Programs\\Python\\Python39\\lib\\site-packages\\manim\\scene\\scene_file_writer.py#514\"><span style=\"color: #7f7f7f; text-decoration-color: #7f7f7f\">514</span></a>\n",
       "                             written in <span style=\"color: #008000; text-decoration-color: #008000\">'c:\\Users\\thoma\\Desktop\\Apre</span>                         \n",
       "                             <span style=\"color: #008000; text-decoration-color: #008000\">ndizado\\Manim\\media\\videos\\Manim\\480p15</span>                         \n",
       "                             <span style=\"color: #008000; text-decoration-color: #008000\">\\partial_movie_files\\ArcLength\\22018309</span>                         \n",
       "                             <span style=\"color: #008000; text-decoration-color: #008000\">69_4079350985_3469497919.mp4'</span>                                   \n",
       "</pre>\n"
      ],
      "text/plain": [
       "\u001b[2;36m[01/31/22 21:01:55]\u001b[0m\u001b[2;36m \u001b[0m\u001b[32mINFO    \u001b[0m Animation \u001b[32m10\u001b[0m : Partial movie file       \u001b]8;id=425392;file://C:\\Users\\thoma\\AppData\\Local\\Programs\\Python\\Python39\\lib\\site-packages\\manim\\scene\\scene_file_writer.py\u001b\\\u001b[2mscene_file_writer.py\u001b[0m\u001b]8;;\u001b\\\u001b[2m:\u001b[0m\u001b]8;id=707794;file://C:\\Users\\thoma\\AppData\\Local\\Programs\\Python\\Python39\\lib\\site-packages\\manim\\scene\\scene_file_writer.py#514\u001b\\\u001b[2m514\u001b[0m\u001b]8;;\u001b\\\n",
       "                             written in \u001b[32m'c:\\Users\\thoma\\Desktop\\Apre\u001b[0m                         \n",
       "                             \u001b[32mndizado\\Manim\\media\\videos\\Manim\\480p15\u001b[0m                         \n",
       "                             \u001b[32m\\partial_movie_files\\ArcLength\\22018309\u001b[0m                         \n",
       "                             \u001b[32m69_4079350985_3469497919.mp4'\u001b[0m                                   \n"
      ]
     },
     "metadata": {},
     "output_type": "display_data"
    },
    {
     "data": {
      "text/html": [
       "<pre style=\"white-space:pre;overflow-x:auto;line-height:normal;font-family:Menlo,'DejaVu Sans Mono',consolas,'Courier New',monospace\"><span style=\"color: #7fbfbf; text-decoration-color: #7fbfbf\">[01/31/22 21:01:56] </span><span style=\"color: #008000; text-decoration-color: #008000\">INFO    </span> Animation <span style=\"color: #008000; text-decoration-color: #008000\">11</span> : Partial movie file       <a href=\"file://C:\\Users\\thoma\\AppData\\Local\\Programs\\Python\\Python39\\lib\\site-packages\\manim\\scene\\scene_file_writer.py\"><span style=\"color: #7f7f7f; text-decoration-color: #7f7f7f\">scene_file_writer.py</span></a><span style=\"color: #7f7f7f; text-decoration-color: #7f7f7f\">:</span><a href=\"file://C:\\Users\\thoma\\AppData\\Local\\Programs\\Python\\Python39\\lib\\site-packages\\manim\\scene\\scene_file_writer.py#514\"><span style=\"color: #7f7f7f; text-decoration-color: #7f7f7f\">514</span></a>\n",
       "                             written in <span style=\"color: #008000; text-decoration-color: #008000\">'c:\\Users\\thoma\\Desktop\\Apre</span>                         \n",
       "                             <span style=\"color: #008000; text-decoration-color: #008000\">ndizado\\Manim\\media\\videos\\Manim\\480p15</span>                         \n",
       "                             <span style=\"color: #008000; text-decoration-color: #008000\">\\partial_movie_files\\ArcLength\\22018309</span>                         \n",
       "                             <span style=\"color: #008000; text-decoration-color: #008000\">69_398514950_2245889332.mp4'</span>                                    \n",
       "</pre>\n"
      ],
      "text/plain": [
       "\u001b[2;36m[01/31/22 21:01:56]\u001b[0m\u001b[2;36m \u001b[0m\u001b[32mINFO    \u001b[0m Animation \u001b[32m11\u001b[0m : Partial movie file       \u001b]8;id=331386;file://C:\\Users\\thoma\\AppData\\Local\\Programs\\Python\\Python39\\lib\\site-packages\\manim\\scene\\scene_file_writer.py\u001b\\\u001b[2mscene_file_writer.py\u001b[0m\u001b]8;;\u001b\\\u001b[2m:\u001b[0m\u001b]8;id=942717;file://C:\\Users\\thoma\\AppData\\Local\\Programs\\Python\\Python39\\lib\\site-packages\\manim\\scene\\scene_file_writer.py#514\u001b\\\u001b[2m514\u001b[0m\u001b]8;;\u001b\\\n",
       "                             written in \u001b[32m'c:\\Users\\thoma\\Desktop\\Apre\u001b[0m                         \n",
       "                             \u001b[32mndizado\\Manim\\media\\videos\\Manim\\480p15\u001b[0m                         \n",
       "                             \u001b[32m\\partial_movie_files\\ArcLength\\22018309\u001b[0m                         \n",
       "                             \u001b[32m69_398514950_2245889332.mp4'\u001b[0m                                    \n"
      ]
     },
     "metadata": {},
     "output_type": "display_data"
    },
    {
     "data": {
      "text/html": [
       "<pre style=\"white-space:pre;overflow-x:auto;line-height:normal;font-family:Menlo,'DejaVu Sans Mono',consolas,'Courier New',monospace\"><span style=\"color: #7fbfbf; text-decoration-color: #7fbfbf\">                    </span><span style=\"color: #008000; text-decoration-color: #008000\">INFO    </span> Combining to Movie file.                <a href=\"file://C:\\Users\\thoma\\AppData\\Local\\Programs\\Python\\Python39\\lib\\site-packages\\manim\\scene\\scene_file_writer.py\"><span style=\"color: #7f7f7f; text-decoration-color: #7f7f7f\">scene_file_writer.py</span></a><span style=\"color: #7f7f7f; text-decoration-color: #7f7f7f\">:</span><a href=\"file://C:\\Users\\thoma\\AppData\\Local\\Programs\\Python\\Python39\\lib\\site-packages\\manim\\scene\\scene_file_writer.py#608\"><span style=\"color: #7f7f7f; text-decoration-color: #7f7f7f\">608</span></a>\n",
       "</pre>\n"
      ],
      "text/plain": [
       "\u001b[2;36m                   \u001b[0m\u001b[2;36m \u001b[0m\u001b[32mINFO    \u001b[0m Combining to Movie file.                \u001b]8;id=519928;file://C:\\Users\\thoma\\AppData\\Local\\Programs\\Python\\Python39\\lib\\site-packages\\manim\\scene\\scene_file_writer.py\u001b\\\u001b[2mscene_file_writer.py\u001b[0m\u001b]8;;\u001b\\\u001b[2m:\u001b[0m\u001b]8;id=690757;file://C:\\Users\\thoma\\AppData\\Local\\Programs\\Python\\Python39\\lib\\site-packages\\manim\\scene\\scene_file_writer.py#608\u001b\\\u001b[2m608\u001b[0m\u001b]8;;\u001b\\\n"
      ]
     },
     "metadata": {},
     "output_type": "display_data"
    },
    {
     "data": {
      "text/html": [
       "<pre style=\"white-space:pre;overflow-x:auto;line-height:normal;font-family:Menlo,'DejaVu Sans Mono',consolas,'Courier New',monospace\"><span style=\"color: #7fbfbf; text-decoration-color: #7fbfbf\">                    </span><span style=\"color: #008000; text-decoration-color: #008000\">INFO    </span>                                         <a href=\"file://C:\\Users\\thoma\\AppData\\Local\\Programs\\Python\\Python39\\lib\\site-packages\\manim\\scene\\scene_file_writer.py\"><span style=\"color: #7f7f7f; text-decoration-color: #7f7f7f\">scene_file_writer.py</span></a><span style=\"color: #7f7f7f; text-decoration-color: #7f7f7f\">:</span><a href=\"file://C:\\Users\\thoma\\AppData\\Local\\Programs\\Python\\Python39\\lib\\site-packages\\manim\\scene\\scene_file_writer.py#729\"><span style=\"color: #7f7f7f; text-decoration-color: #7f7f7f\">729</span></a>\n",
       "                             <span style=\"color: #808000; text-decoration-color: #808000; font-weight: bold\">File</span> ready at <span style=\"color: #008000; text-decoration-color: #008000\">'c:\\Users\\thoma\\Desktop\\A</span>                         \n",
       "                             <span style=\"color: #008000; text-decoration-color: #008000\">prendizado\\Manim\\media\\videos\\Manim\\480</span>                         \n",
       "                             <span style=\"color: #008000; text-decoration-color: #008000\">p15\\ArcLength.mp4'</span>                                              \n",
       "                                                                                             \n",
       "</pre>\n"
      ],
      "text/plain": [
       "\u001b[2;36m                   \u001b[0m\u001b[2;36m \u001b[0m\u001b[32mINFO    \u001b[0m                                         \u001b]8;id=75858;file://C:\\Users\\thoma\\AppData\\Local\\Programs\\Python\\Python39\\lib\\site-packages\\manim\\scene\\scene_file_writer.py\u001b\\\u001b[2mscene_file_writer.py\u001b[0m\u001b]8;;\u001b\\\u001b[2m:\u001b[0m\u001b]8;id=262242;file://C:\\Users\\thoma\\AppData\\Local\\Programs\\Python\\Python39\\lib\\site-packages\\manim\\scene\\scene_file_writer.py#729\u001b\\\u001b[2m729\u001b[0m\u001b]8;;\u001b\\\n",
       "                             \u001b[1;33mFile\u001b[0m ready at \u001b[32m'c:\\Users\\thoma\\Desktop\\A\u001b[0m                         \n",
       "                             \u001b[32mprendizado\\Manim\\media\\videos\\Manim\\480\u001b[0m                         \n",
       "                             \u001b[32mp15\\ArcLength.mp4'\u001b[0m                                              \n",
       "                                                                                             \n"
      ]
     },
     "metadata": {},
     "output_type": "display_data"
    },
    {
     "data": {
      "text/html": [
       "<pre style=\"white-space:pre;overflow-x:auto;line-height:normal;font-family:Menlo,'DejaVu Sans Mono',consolas,'Courier New',monospace\"><span style=\"color: #7fbfbf; text-decoration-color: #7fbfbf\">                    </span><span style=\"color: #008000; text-decoration-color: #008000\">INFO    </span> <span style=\"color: #808000; text-decoration-color: #808000; font-weight: bold\">Rendered</span> ArcLength                                  <a href=\"file://C:\\Users\\thoma\\AppData\\Local\\Programs\\Python\\Python39\\lib\\site-packages\\manim\\scene\\scene.py\"><span style=\"color: #7f7f7f; text-decoration-color: #7f7f7f\">scene.py</span></a><span style=\"color: #7f7f7f; text-decoration-color: #7f7f7f\">:</span><a href=\"file://C:\\Users\\thoma\\AppData\\Local\\Programs\\Python\\Python39\\lib\\site-packages\\manim\\scene\\scene.py#237\"><span style=\"color: #7f7f7f; text-decoration-color: #7f7f7f\">237</span></a>\n",
       "                             <span style=\"color: #808000; text-decoration-color: #808000; font-weight: bold\">Played</span> <span style=\"color: #008000; text-decoration-color: #008000\">12</span> <span style=\"color: #808000; text-decoration-color: #808000; font-weight: bold\">animations</span>                                            \n",
       "</pre>\n"
      ],
      "text/plain": [
       "\u001b[2;36m                   \u001b[0m\u001b[2;36m \u001b[0m\u001b[32mINFO    \u001b[0m \u001b[1;33mRendered\u001b[0m ArcLength                                  \u001b]8;id=558745;file://C:\\Users\\thoma\\AppData\\Local\\Programs\\Python\\Python39\\lib\\site-packages\\manim\\scene\\scene.py\u001b\\\u001b[2mscene.py\u001b[0m\u001b]8;;\u001b\\\u001b[2m:\u001b[0m\u001b]8;id=354796;file://C:\\Users\\thoma\\AppData\\Local\\Programs\\Python\\Python39\\lib\\site-packages\\manim\\scene\\scene.py#237\u001b\\\u001b[2m237\u001b[0m\u001b]8;;\u001b\\\n",
       "                             \u001b[1;33mPlayed\u001b[0m \u001b[32m12\u001b[0m \u001b[1;33manimations\u001b[0m                                            \n"
      ]
     },
     "metadata": {},
     "output_type": "display_data"
    },
    {
     "data": {
      "text/html": [
       "<video src=\"media\\jupyter\\ArcLength@2022-01-31@21-01-56.mp4\" controls autoplay loop style=\"max-width: 60%;\"  >\n",
       "      Your browser does not support the <code>video</code> element.\n",
       "    </video>"
      ],
      "text/plain": [
       "<IPython.core.display.Video object>"
      ]
     },
     "metadata": {},
     "output_type": "display_data"
    }
   ],
   "source": [
    "%%manim -ql ArcLength\n",
    "class ArcLength(Scene):\n",
    "    def construct(self):\n",
    "\n",
    "        axes = (\n",
    "            Axes(x_range=[-1, 4.1, 1], x_length=8, y_range=[0, 3.1, 1], y_length=6)\n",
    "            .to_edge(DL)\n",
    "            .add_coordinates()\n",
    "        )\n",
    "        labels = axes.get_axis_labels(x_label=\"x\", y_label=\"f(x)\")\n",
    "\n",
    "        graph = axes.get_graph(\n",
    "            lambda x: 0.1 * x * (x + 1) * (x - 3) + 1, x_range=[-1, 4], color=BLUE\n",
    "        )\n",
    "\n",
    "        # Mobjects for explaining construction of Line Integral\n",
    "        dist = ValueTracker(1)\n",
    "\n",
    "        dx = always_redraw(\n",
    "            lambda: DashedLine(\n",
    "                start=axes.c2p(2, graph.underlying_function(2)),\n",
    "                end=axes.c2p(2 + dist.get_value(), graph.underlying_function(2)),\n",
    "                stroke_color=GREEN,\n",
    "            )\n",
    "        )\n",
    "\n",
    "        dx_brace = always_redraw(lambda: Brace(dx).next_to(dx, DOWN, buff=0.1))\n",
    "        dx_text = always_redraw(\n",
    "            lambda: MathTex(\"dx\").set(width=0.3).next_to(dx_brace, DOWN, buff=0)\n",
    "        )\n",
    "\n",
    "        dy = always_redraw(\n",
    "            lambda: DashedLine(\n",
    "                start=axes.c2p(\n",
    "                    2 + dist.get_value(),\n",
    "                    graph.underlying_function(2 + dist.get_value()),\n",
    "                ),\n",
    "                end=axes.c2p(2 + dist.get_value(), graph.underlying_function(2)),\n",
    "                stroke_color=GREEN,\n",
    "            )\n",
    "        )\n",
    "\n",
    "        dy_brace = always_redraw(\n",
    "            lambda: Brace(dy, direction=RIGHT).next_to(dy, RIGHT, buff=0.1)\n",
    "        )\n",
    "        dy_text = always_redraw(\n",
    "            lambda: MathTex(\"dy\").set(width=0.3).next_to(dy_brace, RIGHT, buff=0)\n",
    "        )\n",
    "\n",
    "        dl = always_redraw(\n",
    "            lambda: Line(\n",
    "                start=axes.c2p(2, graph.underlying_function(2)),\n",
    "                end=axes.c2p(\n",
    "                    2 + dist.get_value(),\n",
    "                    graph.underlying_function(2 + dist.get_value()),\n",
    "                ),\n",
    "                stroke_color=YELLOW,\n",
    "            )\n",
    "        )\n",
    "\n",
    "        dl_brace = always_redraw(\n",
    "            lambda: BraceBetweenPoints(point_1=dl.get_end(), point_2=dl.get_start())\n",
    "        )\n",
    "        dl_text = always_redraw(\n",
    "            lambda: MathTex(\"dL\")\n",
    "            .set(width=0.3)\n",
    "            .next_to(dl_brace, UP, buff=0)\n",
    "            .set_color(YELLOW)\n",
    "        )\n",
    "\n",
    "        demo_mobjects = VGroup(\n",
    "            dx, dx_brace, dx_text, dy, dy_brace, dy_text, dl, dl_brace, dl_text\n",
    "        )\n",
    "\n",
    "        # Adding the Latex Mobjects for Mini-Proof\n",
    "        helper_text = (\n",
    "            MathTex(\"dL \\\\ approximates \\\\ curve \\\\ as \\\\ dx\\\\ approaches \\\\ 0\")\n",
    "            .set(width=6)\n",
    "            .to_edge(UR, buff=0.2)\n",
    "        )\n",
    "        line1 = MathTex(\"{dL}^{2}={dx}^{2}+{dy}^{2}\")\n",
    "        line2 = MathTex(\"{dL}^{2}={dx}^{2}(1+(\\\\frac{dy}{dx})^{2})\")\n",
    "        line3 = MathTex(\n",
    "            \"dL = \\\\sqrt{ {dx}^{2}(1+(\\\\frac{dy}{dx})^{2}) }\"\n",
    "        )  # Then using surds\n",
    "        line4 = MathTex(\"dL = \\\\sqrt{1 + (\\\\frac{dy}{dx})^{2} } dx\")\n",
    "        proof = (\n",
    "            VGroup(line1, line2, line3, line4)\n",
    "            .scale(0.8)\n",
    "            .arrange(DOWN, aligned_edge=LEFT)\n",
    "            .next_to(helper_text, DOWN, buff=0.25)\n",
    "        )\n",
    "\n",
    "        box = SurroundingRectangle(helper_text)\n",
    "\n",
    "        # The actual line integral\n",
    "        dx_tracker = ValueTracker(1)  # Tracking the dx distance of line integral\n",
    "\n",
    "        line_integral = always_redraw(\n",
    "            lambda: get_arc_lines_on_function(\n",
    "                graph=graph,\n",
    "                plane=axes,\n",
    "                dx=dx_tracker.get_value(),\n",
    "                x_min=-1,\n",
    "                x_max=4,\n",
    "                line_color=RED,\n",
    "                line_width=5,\n",
    "            )\n",
    "        )\n",
    "\n",
    "        # Playing the animation\n",
    "        self.add(axes, graph)\n",
    "        self.wait()\n",
    "        self.play(Create(dx), Create(dy))\n",
    "        self.play(Create(dl))\n",
    "        self.add(dx_brace, dx_text, dy_brace, dy_text, dl_brace, dl_text)\n",
    "\n",
    "        self.play(Write(proof), run_time=5, rate_func=linear)\n",
    "        self.wait()\n",
    "        self.play(Write(helper_text))\n",
    "        self.play(Create(box), run_time=2)\n",
    "        self.play(dist.animate.set_value(0.5), run_time=10)\n",
    "        self.play(\n",
    "            FadeOut(proof),\n",
    "            demo_mobjects.animate.set_width(0.5).next_to(box, LEFT, buff=0.1),\n",
    "            FadeOut(demo_mobjects),\n",
    "            run_time=3,\n",
    "        )\n",
    "\n",
    "        self.play(Create(line_integral))\n",
    "        self.play(dx_tracker.animate.set_value(0.2), run_time=10)\n",
    "        self.wait()"
   ]
  }
 ],
 "metadata": {
  "interpreter": {
   "hash": "4badd61a3eb0a98b49024dc08b6e569de2eac3230396ff1e691db44e3b600cf6"
  },
  "kernelspec": {
   "display_name": "Python 3.9.9 64-bit",
   "language": "python",
   "name": "python3"
  },
  "language_info": {
   "codemirror_mode": {
    "name": "ipython",
    "version": 3
   },
   "file_extension": ".py",
   "mimetype": "text/x-python",
   "name": "python",
   "nbconvert_exporter": "python",
   "pygments_lexer": "ipython3",
   "version": "3.9.9"
  },
  "orig_nbformat": 4
 },
 "nbformat": 4,
 "nbformat_minor": 2
}
