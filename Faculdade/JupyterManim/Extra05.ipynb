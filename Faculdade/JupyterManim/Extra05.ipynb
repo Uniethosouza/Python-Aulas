{
 "cells": [
  {
   "cell_type": "code",
   "execution_count": 2,
   "metadata": {},
   "outputs": [
    {
     "data": {
      "text/html": [
       "<pre style=\"white-space:pre;overflow-x:auto;line-height:normal;font-family:Menlo,'DejaVu Sans Mono',consolas,'Courier New',monospace\">Manim Community <span style=\"color: #008000; text-decoration-color: #008000\">v0.13.1</span>\n",
       "\n",
       "</pre>\n"
      ],
      "text/plain": [
       "Manim Community \u001b[32mv0.\u001b[0m\u001b[32m13.1\u001b[0m\n",
       "\n"
      ]
     },
     "metadata": {},
     "output_type": "display_data"
    }
   ],
   "source": [
    "from manim import *"
   ]
  },
  {
   "cell_type": "code",
   "execution_count": 4,
   "metadata": {},
   "outputs": [
    {
     "data": {
      "text/html": [
       "<pre style=\"white-space:pre;overflow-x:auto;line-height:normal;font-family:Menlo,'DejaVu Sans Mono',consolas,'Courier New',monospace\"><span style=\"color: #7fbfbf; text-decoration-color: #7fbfbf\">[01/31/22 22:10:28] </span><span style=\"color: #800000; text-decoration-color: #800000\">WARNING </span> The method CoordinateSystem.get_graph has     <a href=\"file://C:\\Users\\thoma\\AppData\\Local\\Programs\\Python\\Python39\\lib\\site-packages\\manim\\utils\\deprecation.py\"><span style=\"color: #7f7f7f; text-decoration-color: #7f7f7f\">deprecation.py</span></a><span style=\"color: #7f7f7f; text-decoration-color: #7f7f7f\">:</span><a href=\"file://C:\\Users\\thoma\\AppData\\Local\\Programs\\Python\\Python39\\lib\\site-packages\\manim\\utils\\deprecation.py#210\"><span style=\"color: #7f7f7f; text-decoration-color: #7f7f7f\">210</span></a>\n",
       "                             been deprecated since v0.<span style=\"color: #008000; text-decoration-color: #008000\">11.0</span> and is expected                   \n",
       "                             to be removed after v0.<span style=\"color: #008000; text-decoration-color: #008000\">13.0</span>. Use plot                           \n",
       "                             instead.                                                        \n",
       "</pre>\n"
      ],
      "text/plain": [
       "\u001b[2;36m[01/31/22 22:10:28]\u001b[0m\u001b[2;36m \u001b[0m\u001b[31mWARNING \u001b[0m The method CoordinateSystem.get_graph has     \u001b]8;id=666534;file://C:\\Users\\thoma\\AppData\\Local\\Programs\\Python\\Python39\\lib\\site-packages\\manim\\utils\\deprecation.py\u001b\\\u001b[2mdeprecation.py\u001b[0m\u001b]8;;\u001b\\\u001b[2m:\u001b[0m\u001b]8;id=668480;file://C:\\Users\\thoma\\AppData\\Local\\Programs\\Python\\Python39\\lib\\site-packages\\manim\\utils\\deprecation.py#210\u001b\\\u001b[2m210\u001b[0m\u001b]8;;\u001b\\\n",
       "                             been deprecated since v0.\u001b[32m11.0\u001b[0m and is expected                   \n",
       "                             to be removed after v0.\u001b[32m13.0\u001b[0m. Use plot                           \n",
       "                             instead.                                                        \n"
      ]
     },
     "metadata": {},
     "output_type": "display_data"
    },
    {
     "name": "stderr",
     "output_type": "stream",
     "text": [
      "                                                                                \r"
     ]
    },
    {
     "data": {
      "text/html": [
       "<pre style=\"white-space:pre;overflow-x:auto;line-height:normal;font-family:Menlo,'DejaVu Sans Mono',consolas,'Courier New',monospace\"><span style=\"color: #7fbfbf; text-decoration-color: #7fbfbf\">[01/31/22 22:10:35] </span><span style=\"color: #008000; text-decoration-color: #008000\">INFO    </span> Animation <span style=\"color: #008000; text-decoration-color: #008000\">0</span> : Partial movie file        <a href=\"file://C:\\Users\\thoma\\AppData\\Local\\Programs\\Python\\Python39\\lib\\site-packages\\manim\\scene\\scene_file_writer.py\"><span style=\"color: #7f7f7f; text-decoration-color: #7f7f7f\">scene_file_writer.py</span></a><span style=\"color: #7f7f7f; text-decoration-color: #7f7f7f\">:</span><a href=\"file://C:\\Users\\thoma\\AppData\\Local\\Programs\\Python\\Python39\\lib\\site-packages\\manim\\scene\\scene_file_writer.py#514\"><span style=\"color: #7f7f7f; text-decoration-color: #7f7f7f\">514</span></a>\n",
       "                             written in <span style=\"color: #008000; text-decoration-color: #008000\">'c:\\Users\\thoma\\Desktop\\Apre</span>                         \n",
       "                             <span style=\"color: #008000; text-decoration-color: #008000\">ndizado\\Manim\\media\\videos\\Manim\\720p30</span>                         \n",
       "                             <span style=\"color: #008000; text-decoration-color: #008000\">\\partial_movie_files\\Tute2\\1342159004_3</span>                         \n",
       "                             <span style=\"color: #008000; text-decoration-color: #008000\">666205535_212655260.mp4'</span>                                        \n",
       "</pre>\n"
      ],
      "text/plain": [
       "\u001b[2;36m[01/31/22 22:10:35]\u001b[0m\u001b[2;36m \u001b[0m\u001b[32mINFO    \u001b[0m Animation \u001b[32m0\u001b[0m : Partial movie file        \u001b]8;id=432868;file://C:\\Users\\thoma\\AppData\\Local\\Programs\\Python\\Python39\\lib\\site-packages\\manim\\scene\\scene_file_writer.py\u001b\\\u001b[2mscene_file_writer.py\u001b[0m\u001b]8;;\u001b\\\u001b[2m:\u001b[0m\u001b]8;id=858863;file://C:\\Users\\thoma\\AppData\\Local\\Programs\\Python\\Python39\\lib\\site-packages\\manim\\scene\\scene_file_writer.py#514\u001b\\\u001b[2m514\u001b[0m\u001b]8;;\u001b\\\n",
       "                             written in \u001b[32m'c:\\Users\\thoma\\Desktop\\Apre\u001b[0m                         \n",
       "                             \u001b[32mndizado\\Manim\\media\\videos\\Manim\\720p30\u001b[0m                         \n",
       "                             \u001b[32m\\partial_movie_files\\Tute2\\1342159004_3\u001b[0m                         \n",
       "                             \u001b[32m666205535_212655260.mp4'\u001b[0m                                        \n"
      ]
     },
     "metadata": {},
     "output_type": "display_data"
    },
    {
     "name": "stderr",
     "output_type": "stream",
     "text": [
      "Animation 1: _MethodAnimation(ValueTracker):   0%|          | 0/300 [00:00<?, ?it/s]"
     ]
    },
    {
     "data": {
      "text/html": [
       "<pre style=\"white-space:pre;overflow-x:auto;line-height:normal;font-family:Menlo,'DejaVu Sans Mono',consolas,'Courier New',monospace\"><span style=\"color: #7fbfbf; text-decoration-color: #7fbfbf\">                    </span><span style=\"color: #800000; text-decoration-color: #800000\">WARNING </span> The method CoordinateSystem.get_graph has     <a href=\"file://C:\\Users\\thoma\\AppData\\Local\\Programs\\Python\\Python39\\lib\\site-packages\\manim\\utils\\deprecation.py\"><span style=\"color: #7f7f7f; text-decoration-color: #7f7f7f\">deprecation.py</span></a><span style=\"color: #7f7f7f; text-decoration-color: #7f7f7f\">:</span><a href=\"file://C:\\Users\\thoma\\AppData\\Local\\Programs\\Python\\Python39\\lib\\site-packages\\manim\\utils\\deprecation.py#210\"><span style=\"color: #7f7f7f; text-decoration-color: #7f7f7f\">210</span></a>\n",
       "                             been deprecated since v0.<span style=\"color: #008000; text-decoration-color: #008000\">11.0</span> and is expected                   \n",
       "                             to be removed after v0.<span style=\"color: #008000; text-decoration-color: #008000\">13.0</span>. Use plot                           \n",
       "                             instead.                                                        \n",
       "</pre>\n"
      ],
      "text/plain": [
       "\u001b[2;36m                   \u001b[0m\u001b[2;36m \u001b[0m\u001b[31mWARNING \u001b[0m The method CoordinateSystem.get_graph has     \u001b]8;id=644748;file://C:\\Users\\thoma\\AppData\\Local\\Programs\\Python\\Python39\\lib\\site-packages\\manim\\utils\\deprecation.py\u001b\\\u001b[2mdeprecation.py\u001b[0m\u001b]8;;\u001b\\\u001b[2m:\u001b[0m\u001b]8;id=58245;file://C:\\Users\\thoma\\AppData\\Local\\Programs\\Python\\Python39\\lib\\site-packages\\manim\\utils\\deprecation.py#210\u001b\\\u001b[2m210\u001b[0m\u001b]8;;\u001b\\\n",
       "                             been deprecated since v0.\u001b[32m11.0\u001b[0m and is expected                   \n",
       "                             to be removed after v0.\u001b[32m13.0\u001b[0m. Use plot                           \n",
       "                             instead.                                                        \n"
      ]
     },
     "metadata": {},
     "output_type": "display_data"
    },
    {
     "data": {
      "text/html": [
       "<pre style=\"white-space:pre;overflow-x:auto;line-height:normal;font-family:Menlo,'DejaVu Sans Mono',consolas,'Courier New',monospace\"><span style=\"color: #7fbfbf; text-decoration-color: #7fbfbf\">                    </span><span style=\"color: #800000; text-decoration-color: #800000\">WARNING </span> The method CoordinateSystem.get_graph has     <a href=\"file://C:\\Users\\thoma\\AppData\\Local\\Programs\\Python\\Python39\\lib\\site-packages\\manim\\utils\\deprecation.py\"><span style=\"color: #7f7f7f; text-decoration-color: #7f7f7f\">deprecation.py</span></a><span style=\"color: #7f7f7f; text-decoration-color: #7f7f7f\">:</span><a href=\"file://C:\\Users\\thoma\\AppData\\Local\\Programs\\Python\\Python39\\lib\\site-packages\\manim\\utils\\deprecation.py#210\"><span style=\"color: #7f7f7f; text-decoration-color: #7f7f7f\">210</span></a>\n",
       "                             been deprecated since v0.<span style=\"color: #008000; text-decoration-color: #008000\">11.0</span> and is expected                   \n",
       "                             to be removed after v0.<span style=\"color: #008000; text-decoration-color: #008000\">13.0</span>. Use plot                           \n",
       "                             instead.                                                        \n",
       "</pre>\n"
      ],
      "text/plain": [
       "\u001b[2;36m                   \u001b[0m\u001b[2;36m \u001b[0m\u001b[31mWARNING \u001b[0m The method CoordinateSystem.get_graph has     \u001b]8;id=985619;file://C:\\Users\\thoma\\AppData\\Local\\Programs\\Python\\Python39\\lib\\site-packages\\manim\\utils\\deprecation.py\u001b\\\u001b[2mdeprecation.py\u001b[0m\u001b]8;;\u001b\\\u001b[2m:\u001b[0m\u001b]8;id=217081;file://C:\\Users\\thoma\\AppData\\Local\\Programs\\Python\\Python39\\lib\\site-packages\\manim\\utils\\deprecation.py#210\u001b\\\u001b[2m210\u001b[0m\u001b]8;;\u001b\\\n",
       "                             been deprecated since v0.\u001b[32m11.0\u001b[0m and is expected                   \n",
       "                             to be removed after v0.\u001b[32m13.0\u001b[0m. Use plot                           \n",
       "                             instead.                                                        \n"
      ]
     },
     "metadata": {},
     "output_type": "display_data"
    },
    {
     "data": {
      "text/html": [
       "<pre style=\"white-space:pre;overflow-x:auto;line-height:normal;font-family:Menlo,'DejaVu Sans Mono',consolas,'Courier New',monospace\"><span style=\"color: #7fbfbf; text-decoration-color: #7fbfbf\">                    </span><span style=\"color: #800000; text-decoration-color: #800000\">WARNING </span> The method CoordinateSystem.get_graph has     <a href=\"file://C:\\Users\\thoma\\AppData\\Local\\Programs\\Python\\Python39\\lib\\site-packages\\manim\\utils\\deprecation.py\"><span style=\"color: #7f7f7f; text-decoration-color: #7f7f7f\">deprecation.py</span></a><span style=\"color: #7f7f7f; text-decoration-color: #7f7f7f\">:</span><a href=\"file://C:\\Users\\thoma\\AppData\\Local\\Programs\\Python\\Python39\\lib\\site-packages\\manim\\utils\\deprecation.py#210\"><span style=\"color: #7f7f7f; text-decoration-color: #7f7f7f\">210</span></a>\n",
       "                             been deprecated since v0.<span style=\"color: #008000; text-decoration-color: #008000\">11.0</span> and is expected                   \n",
       "                             to be removed after v0.<span style=\"color: #008000; text-decoration-color: #008000\">13.0</span>. Use plot                           \n",
       "                             instead.                                                        \n",
       "</pre>\n"
      ],
      "text/plain": [
       "\u001b[2;36m                   \u001b[0m\u001b[2;36m \u001b[0m\u001b[31mWARNING \u001b[0m The method CoordinateSystem.get_graph has     \u001b]8;id=686621;file://C:\\Users\\thoma\\AppData\\Local\\Programs\\Python\\Python39\\lib\\site-packages\\manim\\utils\\deprecation.py\u001b\\\u001b[2mdeprecation.py\u001b[0m\u001b]8;;\u001b\\\u001b[2m:\u001b[0m\u001b]8;id=470738;file://C:\\Users\\thoma\\AppData\\Local\\Programs\\Python\\Python39\\lib\\site-packages\\manim\\utils\\deprecation.py#210\u001b\\\u001b[2m210\u001b[0m\u001b]8;;\u001b\\\n",
       "                             been deprecated since v0.\u001b[32m11.0\u001b[0m and is expected                   \n",
       "                             to be removed after v0.\u001b[32m13.0\u001b[0m. Use plot                           \n",
       "                             instead.                                                        \n"
      ]
     },
     "metadata": {},
     "output_type": "display_data"
    },
    {
     "name": "stderr",
     "output_type": "stream",
     "text": [
      "Animation 1: _MethodAnimation(ValueTracker):   1%|1         | 3/300 [00:00<00:12, 24.24it/s]"
     ]
    },
    {
     "data": {
      "text/html": [
       "<pre style=\"white-space:pre;overflow-x:auto;line-height:normal;font-family:Menlo,'DejaVu Sans Mono',consolas,'Courier New',monospace\"><span style=\"color: #7fbfbf; text-decoration-color: #7fbfbf\">[01/31/22 22:10:36] </span><span style=\"color: #800000; text-decoration-color: #800000\">WARNING </span> The method CoordinateSystem.get_graph has     <a href=\"file://C:\\Users\\thoma\\AppData\\Local\\Programs\\Python\\Python39\\lib\\site-packages\\manim\\utils\\deprecation.py\"><span style=\"color: #7f7f7f; text-decoration-color: #7f7f7f\">deprecation.py</span></a><span style=\"color: #7f7f7f; text-decoration-color: #7f7f7f\">:</span><a href=\"file://C:\\Users\\thoma\\AppData\\Local\\Programs\\Python\\Python39\\lib\\site-packages\\manim\\utils\\deprecation.py#210\"><span style=\"color: #7f7f7f; text-decoration-color: #7f7f7f\">210</span></a>\n",
       "                             been deprecated since v0.<span style=\"color: #008000; text-decoration-color: #008000\">11.0</span> and is expected                   \n",
       "                             to be removed after v0.<span style=\"color: #008000; text-decoration-color: #008000\">13.0</span>. Use plot                           \n",
       "                             instead.                                                        \n",
       "</pre>\n"
      ],
      "text/plain": [
       "\u001b[2;36m[01/31/22 22:10:36]\u001b[0m\u001b[2;36m \u001b[0m\u001b[31mWARNING \u001b[0m The method CoordinateSystem.get_graph has     \u001b]8;id=639261;file://C:\\Users\\thoma\\AppData\\Local\\Programs\\Python\\Python39\\lib\\site-packages\\manim\\utils\\deprecation.py\u001b\\\u001b[2mdeprecation.py\u001b[0m\u001b]8;;\u001b\\\u001b[2m:\u001b[0m\u001b]8;id=92262;file://C:\\Users\\thoma\\AppData\\Local\\Programs\\Python\\Python39\\lib\\site-packages\\manim\\utils\\deprecation.py#210\u001b\\\u001b[2m210\u001b[0m\u001b]8;;\u001b\\\n",
       "                             been deprecated since v0.\u001b[32m11.0\u001b[0m and is expected                   \n",
       "                             to be removed after v0.\u001b[32m13.0\u001b[0m. Use plot                           \n",
       "                             instead.                                                        \n"
      ]
     },
     "metadata": {},
     "output_type": "display_data"
    },
    {
     "data": {
      "text/html": [
       "<pre style=\"white-space:pre;overflow-x:auto;line-height:normal;font-family:Menlo,'DejaVu Sans Mono',consolas,'Courier New',monospace\"><span style=\"color: #7fbfbf; text-decoration-color: #7fbfbf\">                    </span><span style=\"color: #800000; text-decoration-color: #800000\">WARNING </span> The method CoordinateSystem.get_graph has     <a href=\"file://C:\\Users\\thoma\\AppData\\Local\\Programs\\Python\\Python39\\lib\\site-packages\\manim\\utils\\deprecation.py\"><span style=\"color: #7f7f7f; text-decoration-color: #7f7f7f\">deprecation.py</span></a><span style=\"color: #7f7f7f; text-decoration-color: #7f7f7f\">:</span><a href=\"file://C:\\Users\\thoma\\AppData\\Local\\Programs\\Python\\Python39\\lib\\site-packages\\manim\\utils\\deprecation.py#210\"><span style=\"color: #7f7f7f; text-decoration-color: #7f7f7f\">210</span></a>\n",
       "                             been deprecated since v0.<span style=\"color: #008000; text-decoration-color: #008000\">11.0</span> and is expected                   \n",
       "                             to be removed after v0.<span style=\"color: #008000; text-decoration-color: #008000\">13.0</span>. Use plot                           \n",
       "                             instead.                                                        \n",
       "</pre>\n"
      ],
      "text/plain": [
       "\u001b[2;36m                   \u001b[0m\u001b[2;36m \u001b[0m\u001b[31mWARNING \u001b[0m The method CoordinateSystem.get_graph has     \u001b]8;id=312870;file://C:\\Users\\thoma\\AppData\\Local\\Programs\\Python\\Python39\\lib\\site-packages\\manim\\utils\\deprecation.py\u001b\\\u001b[2mdeprecation.py\u001b[0m\u001b]8;;\u001b\\\u001b[2m:\u001b[0m\u001b]8;id=573319;file://C:\\Users\\thoma\\AppData\\Local\\Programs\\Python\\Python39\\lib\\site-packages\\manim\\utils\\deprecation.py#210\u001b\\\u001b[2m210\u001b[0m\u001b]8;;\u001b\\\n",
       "                             been deprecated since v0.\u001b[32m11.0\u001b[0m and is expected                   \n",
       "                             to be removed after v0.\u001b[32m13.0\u001b[0m. Use plot                           \n",
       "                             instead.                                                        \n"
      ]
     },
     "metadata": {},
     "output_type": "display_data"
    },
    {
     "data": {
      "text/html": [
       "<pre style=\"white-space:pre;overflow-x:auto;line-height:normal;font-family:Menlo,'DejaVu Sans Mono',consolas,'Courier New',monospace\"><span style=\"color: #7fbfbf; text-decoration-color: #7fbfbf\">                    </span><span style=\"color: #800000; text-decoration-color: #800000\">WARNING </span> The method CoordinateSystem.get_graph has     <a href=\"file://C:\\Users\\thoma\\AppData\\Local\\Programs\\Python\\Python39\\lib\\site-packages\\manim\\utils\\deprecation.py\"><span style=\"color: #7f7f7f; text-decoration-color: #7f7f7f\">deprecation.py</span></a><span style=\"color: #7f7f7f; text-decoration-color: #7f7f7f\">:</span><a href=\"file://C:\\Users\\thoma\\AppData\\Local\\Programs\\Python\\Python39\\lib\\site-packages\\manim\\utils\\deprecation.py#210\"><span style=\"color: #7f7f7f; text-decoration-color: #7f7f7f\">210</span></a>\n",
       "                             been deprecated since v0.<span style=\"color: #008000; text-decoration-color: #008000\">11.0</span> and is expected                   \n",
       "                             to be removed after v0.<span style=\"color: #008000; text-decoration-color: #008000\">13.0</span>. Use plot                           \n",
       "                             instead.                                                        \n",
       "</pre>\n"
      ],
      "text/plain": [
       "\u001b[2;36m                   \u001b[0m\u001b[2;36m \u001b[0m\u001b[31mWARNING \u001b[0m The method CoordinateSystem.get_graph has     \u001b]8;id=587681;file://C:\\Users\\thoma\\AppData\\Local\\Programs\\Python\\Python39\\lib\\site-packages\\manim\\utils\\deprecation.py\u001b\\\u001b[2mdeprecation.py\u001b[0m\u001b]8;;\u001b\\\u001b[2m:\u001b[0m\u001b]8;id=555719;file://C:\\Users\\thoma\\AppData\\Local\\Programs\\Python\\Python39\\lib\\site-packages\\manim\\utils\\deprecation.py#210\u001b\\\u001b[2m210\u001b[0m\u001b]8;;\u001b\\\n",
       "                             been deprecated since v0.\u001b[32m11.0\u001b[0m and is expected                   \n",
       "                             to be removed after v0.\u001b[32m13.0\u001b[0m. Use plot                           \n",
       "                             instead.                                                        \n"
      ]
     },
     "metadata": {},
     "output_type": "display_data"
    },
    {
     "data": {
      "text/html": [
       "<pre style=\"white-space:pre;overflow-x:auto;line-height:normal;font-family:Menlo,'DejaVu Sans Mono',consolas,'Courier New',monospace\"><span style=\"color: #7fbfbf; text-decoration-color: #7fbfbf\">                    </span><span style=\"color: #800000; text-decoration-color: #800000\">WARNING </span> The method CoordinateSystem.get_graph has     <a href=\"file://C:\\Users\\thoma\\AppData\\Local\\Programs\\Python\\Python39\\lib\\site-packages\\manim\\utils\\deprecation.py\"><span style=\"color: #7f7f7f; text-decoration-color: #7f7f7f\">deprecation.py</span></a><span style=\"color: #7f7f7f; text-decoration-color: #7f7f7f\">:</span><a href=\"file://C:\\Users\\thoma\\AppData\\Local\\Programs\\Python\\Python39\\lib\\site-packages\\manim\\utils\\deprecation.py#210\"><span style=\"color: #7f7f7f; text-decoration-color: #7f7f7f\">210</span></a>\n",
       "                             been deprecated since v0.<span style=\"color: #008000; text-decoration-color: #008000\">11.0</span> and is expected                   \n",
       "                             to be removed after v0.<span style=\"color: #008000; text-decoration-color: #008000\">13.0</span>. Use plot                           \n",
       "                             instead.                                                        \n",
       "</pre>\n"
      ],
      "text/plain": [
       "\u001b[2;36m                   \u001b[0m\u001b[2;36m \u001b[0m\u001b[31mWARNING \u001b[0m The method CoordinateSystem.get_graph has     \u001b]8;id=598975;file://C:\\Users\\thoma\\AppData\\Local\\Programs\\Python\\Python39\\lib\\site-packages\\manim\\utils\\deprecation.py\u001b\\\u001b[2mdeprecation.py\u001b[0m\u001b]8;;\u001b\\\u001b[2m:\u001b[0m\u001b]8;id=834344;file://C:\\Users\\thoma\\AppData\\Local\\Programs\\Python\\Python39\\lib\\site-packages\\manim\\utils\\deprecation.py#210\u001b\\\u001b[2m210\u001b[0m\u001b]8;;\u001b\\\n",
       "                             been deprecated since v0.\u001b[32m11.0\u001b[0m and is expected                   \n",
       "                             to be removed after v0.\u001b[32m13.0\u001b[0m. Use plot                           \n",
       "                             instead.                                                        \n"
      ]
     },
     "metadata": {},
     "output_type": "display_data"
    },
    {
     "name": "stderr",
     "output_type": "stream",
     "text": [
      "Animation 1: _MethodAnimation(ValueTracker):   2%|2         | 7/300 [00:00<00:10, 29.09it/s]"
     ]
    },
    {
     "data": {
      "text/html": [
       "<pre style=\"white-space:pre;overflow-x:auto;line-height:normal;font-family:Menlo,'DejaVu Sans Mono',consolas,'Courier New',monospace\"><span style=\"color: #7fbfbf; text-decoration-color: #7fbfbf\">                    </span><span style=\"color: #800000; text-decoration-color: #800000\">WARNING </span> The method CoordinateSystem.get_graph has     <a href=\"file://C:\\Users\\thoma\\AppData\\Local\\Programs\\Python\\Python39\\lib\\site-packages\\manim\\utils\\deprecation.py\"><span style=\"color: #7f7f7f; text-decoration-color: #7f7f7f\">deprecation.py</span></a><span style=\"color: #7f7f7f; text-decoration-color: #7f7f7f\">:</span><a href=\"file://C:\\Users\\thoma\\AppData\\Local\\Programs\\Python\\Python39\\lib\\site-packages\\manim\\utils\\deprecation.py#210\"><span style=\"color: #7f7f7f; text-decoration-color: #7f7f7f\">210</span></a>\n",
       "                             been deprecated since v0.<span style=\"color: #008000; text-decoration-color: #008000\">11.0</span> and is expected                   \n",
       "                             to be removed after v0.<span style=\"color: #008000; text-decoration-color: #008000\">13.0</span>. Use plot                           \n",
       "                             instead.                                                        \n",
       "</pre>\n"
      ],
      "text/plain": [
       "\u001b[2;36m                   \u001b[0m\u001b[2;36m \u001b[0m\u001b[31mWARNING \u001b[0m The method CoordinateSystem.get_graph has     \u001b]8;id=769207;file://C:\\Users\\thoma\\AppData\\Local\\Programs\\Python\\Python39\\lib\\site-packages\\manim\\utils\\deprecation.py\u001b\\\u001b[2mdeprecation.py\u001b[0m\u001b]8;;\u001b\\\u001b[2m:\u001b[0m\u001b]8;id=913658;file://C:\\Users\\thoma\\AppData\\Local\\Programs\\Python\\Python39\\lib\\site-packages\\manim\\utils\\deprecation.py#210\u001b\\\u001b[2m210\u001b[0m\u001b]8;;\u001b\\\n",
       "                             been deprecated since v0.\u001b[32m11.0\u001b[0m and is expected                   \n",
       "                             to be removed after v0.\u001b[32m13.0\u001b[0m. Use plot                           \n",
       "                             instead.                                                        \n"
      ]
     },
     "metadata": {},
     "output_type": "display_data"
    },
    {
     "data": {
      "text/html": [
       "<pre style=\"white-space:pre;overflow-x:auto;line-height:normal;font-family:Menlo,'DejaVu Sans Mono',consolas,'Courier New',monospace\"><span style=\"color: #7fbfbf; text-decoration-color: #7fbfbf\">                    </span><span style=\"color: #800000; text-decoration-color: #800000\">WARNING </span> The method CoordinateSystem.get_graph has     <a href=\"file://C:\\Users\\thoma\\AppData\\Local\\Programs\\Python\\Python39\\lib\\site-packages\\manim\\utils\\deprecation.py\"><span style=\"color: #7f7f7f; text-decoration-color: #7f7f7f\">deprecation.py</span></a><span style=\"color: #7f7f7f; text-decoration-color: #7f7f7f\">:</span><a href=\"file://C:\\Users\\thoma\\AppData\\Local\\Programs\\Python\\Python39\\lib\\site-packages\\manim\\utils\\deprecation.py#210\"><span style=\"color: #7f7f7f; text-decoration-color: #7f7f7f\">210</span></a>\n",
       "                             been deprecated since v0.<span style=\"color: #008000; text-decoration-color: #008000\">11.0</span> and is expected                   \n",
       "                             to be removed after v0.<span style=\"color: #008000; text-decoration-color: #008000\">13.0</span>. Use plot                           \n",
       "                             instead.                                                        \n",
       "</pre>\n"
      ],
      "text/plain": [
       "\u001b[2;36m                   \u001b[0m\u001b[2;36m \u001b[0m\u001b[31mWARNING \u001b[0m The method CoordinateSystem.get_graph has     \u001b]8;id=23292;file://C:\\Users\\thoma\\AppData\\Local\\Programs\\Python\\Python39\\lib\\site-packages\\manim\\utils\\deprecation.py\u001b\\\u001b[2mdeprecation.py\u001b[0m\u001b]8;;\u001b\\\u001b[2m:\u001b[0m\u001b]8;id=726684;file://C:\\Users\\thoma\\AppData\\Local\\Programs\\Python\\Python39\\lib\\site-packages\\manim\\utils\\deprecation.py#210\u001b\\\u001b[2m210\u001b[0m\u001b]8;;\u001b\\\n",
       "                             been deprecated since v0.\u001b[32m11.0\u001b[0m and is expected                   \n",
       "                             to be removed after v0.\u001b[32m13.0\u001b[0m. Use plot                           \n",
       "                             instead.                                                        \n"
      ]
     },
     "metadata": {},
     "output_type": "display_data"
    },
    {
     "data": {
      "text/html": [
       "<pre style=\"white-space:pre;overflow-x:auto;line-height:normal;font-family:Menlo,'DejaVu Sans Mono',consolas,'Courier New',monospace\"><span style=\"color: #7fbfbf; text-decoration-color: #7fbfbf\">                    </span><span style=\"color: #800000; text-decoration-color: #800000\">WARNING </span> The method CoordinateSystem.get_graph has     <a href=\"file://C:\\Users\\thoma\\AppData\\Local\\Programs\\Python\\Python39\\lib\\site-packages\\manim\\utils\\deprecation.py\"><span style=\"color: #7f7f7f; text-decoration-color: #7f7f7f\">deprecation.py</span></a><span style=\"color: #7f7f7f; text-decoration-color: #7f7f7f\">:</span><a href=\"file://C:\\Users\\thoma\\AppData\\Local\\Programs\\Python\\Python39\\lib\\site-packages\\manim\\utils\\deprecation.py#210\"><span style=\"color: #7f7f7f; text-decoration-color: #7f7f7f\">210</span></a>\n",
       "                             been deprecated since v0.<span style=\"color: #008000; text-decoration-color: #008000\">11.0</span> and is expected                   \n",
       "                             to be removed after v0.<span style=\"color: #008000; text-decoration-color: #008000\">13.0</span>. Use plot                           \n",
       "                             instead.                                                        \n",
       "</pre>\n"
      ],
      "text/plain": [
       "\u001b[2;36m                   \u001b[0m\u001b[2;36m \u001b[0m\u001b[31mWARNING \u001b[0m The method CoordinateSystem.get_graph has     \u001b]8;id=972974;file://C:\\Users\\thoma\\AppData\\Local\\Programs\\Python\\Python39\\lib\\site-packages\\manim\\utils\\deprecation.py\u001b\\\u001b[2mdeprecation.py\u001b[0m\u001b]8;;\u001b\\\u001b[2m:\u001b[0m\u001b]8;id=322267;file://C:\\Users\\thoma\\AppData\\Local\\Programs\\Python\\Python39\\lib\\site-packages\\manim\\utils\\deprecation.py#210\u001b\\\u001b[2m210\u001b[0m\u001b]8;;\u001b\\\n",
       "                             been deprecated since v0.\u001b[32m11.0\u001b[0m and is expected                   \n",
       "                             to be removed after v0.\u001b[32m13.0\u001b[0m. Use plot                           \n",
       "                             instead.                                                        \n"
      ]
     },
     "metadata": {},
     "output_type": "display_data"
    },
    {
     "name": "stderr",
     "output_type": "stream",
     "text": [
      "Animation 1: _MethodAnimation(ValueTracker):   3%|3         | 10/300 [00:00<00:10, 27.00it/s]"
     ]
    },
    {
     "data": {
      "text/html": [
       "<pre style=\"white-space:pre;overflow-x:auto;line-height:normal;font-family:Menlo,'DejaVu Sans Mono',consolas,'Courier New',monospace\"><span style=\"color: #7fbfbf; text-decoration-color: #7fbfbf\">                    </span><span style=\"color: #800000; text-decoration-color: #800000\">WARNING </span> The method CoordinateSystem.get_graph has     <a href=\"file://C:\\Users\\thoma\\AppData\\Local\\Programs\\Python\\Python39\\lib\\site-packages\\manim\\utils\\deprecation.py\"><span style=\"color: #7f7f7f; text-decoration-color: #7f7f7f\">deprecation.py</span></a><span style=\"color: #7f7f7f; text-decoration-color: #7f7f7f\">:</span><a href=\"file://C:\\Users\\thoma\\AppData\\Local\\Programs\\Python\\Python39\\lib\\site-packages\\manim\\utils\\deprecation.py#210\"><span style=\"color: #7f7f7f; text-decoration-color: #7f7f7f\">210</span></a>\n",
       "                             been deprecated since v0.<span style=\"color: #008000; text-decoration-color: #008000\">11.0</span> and is expected                   \n",
       "                             to be removed after v0.<span style=\"color: #008000; text-decoration-color: #008000\">13.0</span>. Use plot                           \n",
       "                             instead.                                                        \n",
       "</pre>\n"
      ],
      "text/plain": [
       "\u001b[2;36m                   \u001b[0m\u001b[2;36m \u001b[0m\u001b[31mWARNING \u001b[0m The method CoordinateSystem.get_graph has     \u001b]8;id=639443;file://C:\\Users\\thoma\\AppData\\Local\\Programs\\Python\\Python39\\lib\\site-packages\\manim\\utils\\deprecation.py\u001b\\\u001b[2mdeprecation.py\u001b[0m\u001b]8;;\u001b\\\u001b[2m:\u001b[0m\u001b]8;id=210721;file://C:\\Users\\thoma\\AppData\\Local\\Programs\\Python\\Python39\\lib\\site-packages\\manim\\utils\\deprecation.py#210\u001b\\\u001b[2m210\u001b[0m\u001b]8;;\u001b\\\n",
       "                             been deprecated since v0.\u001b[32m11.0\u001b[0m and is expected                   \n",
       "                             to be removed after v0.\u001b[32m13.0\u001b[0m. Use plot                           \n",
       "                             instead.                                                        \n"
      ]
     },
     "metadata": {},
     "output_type": "display_data"
    },
    {
     "data": {
      "text/html": [
       "<pre style=\"white-space:pre;overflow-x:auto;line-height:normal;font-family:Menlo,'DejaVu Sans Mono',consolas,'Courier New',monospace\"><span style=\"color: #7fbfbf; text-decoration-color: #7fbfbf\">                    </span><span style=\"color: #800000; text-decoration-color: #800000\">WARNING </span> The method CoordinateSystem.get_graph has     <a href=\"file://C:\\Users\\thoma\\AppData\\Local\\Programs\\Python\\Python39\\lib\\site-packages\\manim\\utils\\deprecation.py\"><span style=\"color: #7f7f7f; text-decoration-color: #7f7f7f\">deprecation.py</span></a><span style=\"color: #7f7f7f; text-decoration-color: #7f7f7f\">:</span><a href=\"file://C:\\Users\\thoma\\AppData\\Local\\Programs\\Python\\Python39\\lib\\site-packages\\manim\\utils\\deprecation.py#210\"><span style=\"color: #7f7f7f; text-decoration-color: #7f7f7f\">210</span></a>\n",
       "                             been deprecated since v0.<span style=\"color: #008000; text-decoration-color: #008000\">11.0</span> and is expected                   \n",
       "                             to be removed after v0.<span style=\"color: #008000; text-decoration-color: #008000\">13.0</span>. Use plot                           \n",
       "                             instead.                                                        \n",
       "</pre>\n"
      ],
      "text/plain": [
       "\u001b[2;36m                   \u001b[0m\u001b[2;36m \u001b[0m\u001b[31mWARNING \u001b[0m The method CoordinateSystem.get_graph has     \u001b]8;id=275257;file://C:\\Users\\thoma\\AppData\\Local\\Programs\\Python\\Python39\\lib\\site-packages\\manim\\utils\\deprecation.py\u001b\\\u001b[2mdeprecation.py\u001b[0m\u001b]8;;\u001b\\\u001b[2m:\u001b[0m\u001b]8;id=902800;file://C:\\Users\\thoma\\AppData\\Local\\Programs\\Python\\Python39\\lib\\site-packages\\manim\\utils\\deprecation.py#210\u001b\\\u001b[2m210\u001b[0m\u001b]8;;\u001b\\\n",
       "                             been deprecated since v0.\u001b[32m11.0\u001b[0m and is expected                   \n",
       "                             to be removed after v0.\u001b[32m13.0\u001b[0m. Use plot                           \n",
       "                             instead.                                                        \n"
      ]
     },
     "metadata": {},
     "output_type": "display_data"
    },
    {
     "data": {
      "text/html": [
       "<pre style=\"white-space:pre;overflow-x:auto;line-height:normal;font-family:Menlo,'DejaVu Sans Mono',consolas,'Courier New',monospace\"><span style=\"color: #7fbfbf; text-decoration-color: #7fbfbf\">                    </span><span style=\"color: #800000; text-decoration-color: #800000\">WARNING </span> The method CoordinateSystem.get_graph has     <a href=\"file://C:\\Users\\thoma\\AppData\\Local\\Programs\\Python\\Python39\\lib\\site-packages\\manim\\utils\\deprecation.py\"><span style=\"color: #7f7f7f; text-decoration-color: #7f7f7f\">deprecation.py</span></a><span style=\"color: #7f7f7f; text-decoration-color: #7f7f7f\">:</span><a href=\"file://C:\\Users\\thoma\\AppData\\Local\\Programs\\Python\\Python39\\lib\\site-packages\\manim\\utils\\deprecation.py#210\"><span style=\"color: #7f7f7f; text-decoration-color: #7f7f7f\">210</span></a>\n",
       "                             been deprecated since v0.<span style=\"color: #008000; text-decoration-color: #008000\">11.0</span> and is expected                   \n",
       "                             to be removed after v0.<span style=\"color: #008000; text-decoration-color: #008000\">13.0</span>. Use plot                           \n",
       "                             instead.                                                        \n",
       "</pre>\n"
      ],
      "text/plain": [
       "\u001b[2;36m                   \u001b[0m\u001b[2;36m \u001b[0m\u001b[31mWARNING \u001b[0m The method CoordinateSystem.get_graph has     \u001b]8;id=158051;file://C:\\Users\\thoma\\AppData\\Local\\Programs\\Python\\Python39\\lib\\site-packages\\manim\\utils\\deprecation.py\u001b\\\u001b[2mdeprecation.py\u001b[0m\u001b]8;;\u001b\\\u001b[2m:\u001b[0m\u001b]8;id=176013;file://C:\\Users\\thoma\\AppData\\Local\\Programs\\Python\\Python39\\lib\\site-packages\\manim\\utils\\deprecation.py#210\u001b\\\u001b[2m210\u001b[0m\u001b]8;;\u001b\\\n",
       "                             been deprecated since v0.\u001b[32m11.0\u001b[0m and is expected                   \n",
       "                             to be removed after v0.\u001b[32m13.0\u001b[0m. Use plot                           \n",
       "                             instead.                                                        \n"
      ]
     },
     "metadata": {},
     "output_type": "display_data"
    },
    {
     "name": "stderr",
     "output_type": "stream",
     "text": [
      "Animation 1: _MethodAnimation(ValueTracker):   4%|4         | 13/300 [00:00<00:12, 23.50it/s]"
     ]
    },
    {
     "data": {
      "text/html": [
       "<pre style=\"white-space:pre;overflow-x:auto;line-height:normal;font-family:Menlo,'DejaVu Sans Mono',consolas,'Courier New',monospace\"><span style=\"color: #7fbfbf; text-decoration-color: #7fbfbf\">                    </span><span style=\"color: #800000; text-decoration-color: #800000\">WARNING </span> The method CoordinateSystem.get_graph has     <a href=\"file://C:\\Users\\thoma\\AppData\\Local\\Programs\\Python\\Python39\\lib\\site-packages\\manim\\utils\\deprecation.py\"><span style=\"color: #7f7f7f; text-decoration-color: #7f7f7f\">deprecation.py</span></a><span style=\"color: #7f7f7f; text-decoration-color: #7f7f7f\">:</span><a href=\"file://C:\\Users\\thoma\\AppData\\Local\\Programs\\Python\\Python39\\lib\\site-packages\\manim\\utils\\deprecation.py#210\"><span style=\"color: #7f7f7f; text-decoration-color: #7f7f7f\">210</span></a>\n",
       "                             been deprecated since v0.<span style=\"color: #008000; text-decoration-color: #008000\">11.0</span> and is expected                   \n",
       "                             to be removed after v0.<span style=\"color: #008000; text-decoration-color: #008000\">13.0</span>. Use plot                           \n",
       "                             instead.                                                        \n",
       "</pre>\n"
      ],
      "text/plain": [
       "\u001b[2;36m                   \u001b[0m\u001b[2;36m \u001b[0m\u001b[31mWARNING \u001b[0m The method CoordinateSystem.get_graph has     \u001b]8;id=740607;file://C:\\Users\\thoma\\AppData\\Local\\Programs\\Python\\Python39\\lib\\site-packages\\manim\\utils\\deprecation.py\u001b\\\u001b[2mdeprecation.py\u001b[0m\u001b]8;;\u001b\\\u001b[2m:\u001b[0m\u001b]8;id=996602;file://C:\\Users\\thoma\\AppData\\Local\\Programs\\Python\\Python39\\lib\\site-packages\\manim\\utils\\deprecation.py#210\u001b\\\u001b[2m210\u001b[0m\u001b]8;;\u001b\\\n",
       "                             been deprecated since v0.\u001b[32m11.0\u001b[0m and is expected                   \n",
       "                             to be removed after v0.\u001b[32m13.0\u001b[0m. Use plot                           \n",
       "                             instead.                                                        \n"
      ]
     },
     "metadata": {},
     "output_type": "display_data"
    },
    {
     "data": {
      "text/html": [
       "<pre style=\"white-space:pre;overflow-x:auto;line-height:normal;font-family:Menlo,'DejaVu Sans Mono',consolas,'Courier New',monospace\"><span style=\"color: #7fbfbf; text-decoration-color: #7fbfbf\">                    </span><span style=\"color: #800000; text-decoration-color: #800000\">WARNING </span> The method CoordinateSystem.get_graph has     <a href=\"file://C:\\Users\\thoma\\AppData\\Local\\Programs\\Python\\Python39\\lib\\site-packages\\manim\\utils\\deprecation.py\"><span style=\"color: #7f7f7f; text-decoration-color: #7f7f7f\">deprecation.py</span></a><span style=\"color: #7f7f7f; text-decoration-color: #7f7f7f\">:</span><a href=\"file://C:\\Users\\thoma\\AppData\\Local\\Programs\\Python\\Python39\\lib\\site-packages\\manim\\utils\\deprecation.py#210\"><span style=\"color: #7f7f7f; text-decoration-color: #7f7f7f\">210</span></a>\n",
       "                             been deprecated since v0.<span style=\"color: #008000; text-decoration-color: #008000\">11.0</span> and is expected                   \n",
       "                             to be removed after v0.<span style=\"color: #008000; text-decoration-color: #008000\">13.0</span>. Use plot                           \n",
       "                             instead.                                                        \n",
       "</pre>\n"
      ],
      "text/plain": [
       "\u001b[2;36m                   \u001b[0m\u001b[2;36m \u001b[0m\u001b[31mWARNING \u001b[0m The method CoordinateSystem.get_graph has     \u001b]8;id=657842;file://C:\\Users\\thoma\\AppData\\Local\\Programs\\Python\\Python39\\lib\\site-packages\\manim\\utils\\deprecation.py\u001b\\\u001b[2mdeprecation.py\u001b[0m\u001b]8;;\u001b\\\u001b[2m:\u001b[0m\u001b]8;id=197468;file://C:\\Users\\thoma\\AppData\\Local\\Programs\\Python\\Python39\\lib\\site-packages\\manim\\utils\\deprecation.py#210\u001b\\\u001b[2m210\u001b[0m\u001b]8;;\u001b\\\n",
       "                             been deprecated since v0.\u001b[32m11.0\u001b[0m and is expected                   \n",
       "                             to be removed after v0.\u001b[32m13.0\u001b[0m. Use plot                           \n",
       "                             instead.                                                        \n"
      ]
     },
     "metadata": {},
     "output_type": "display_data"
    },
    {
     "data": {
      "text/html": [
       "<pre style=\"white-space:pre;overflow-x:auto;line-height:normal;font-family:Menlo,'DejaVu Sans Mono',consolas,'Courier New',monospace\"><span style=\"color: #7fbfbf; text-decoration-color: #7fbfbf\">                    </span><span style=\"color: #800000; text-decoration-color: #800000\">WARNING </span> The method CoordinateSystem.get_graph has     <a href=\"file://C:\\Users\\thoma\\AppData\\Local\\Programs\\Python\\Python39\\lib\\site-packages\\manim\\utils\\deprecation.py\"><span style=\"color: #7f7f7f; text-decoration-color: #7f7f7f\">deprecation.py</span></a><span style=\"color: #7f7f7f; text-decoration-color: #7f7f7f\">:</span><a href=\"file://C:\\Users\\thoma\\AppData\\Local\\Programs\\Python\\Python39\\lib\\site-packages\\manim\\utils\\deprecation.py#210\"><span style=\"color: #7f7f7f; text-decoration-color: #7f7f7f\">210</span></a>\n",
       "                             been deprecated since v0.<span style=\"color: #008000; text-decoration-color: #008000\">11.0</span> and is expected                   \n",
       "                             to be removed after v0.<span style=\"color: #008000; text-decoration-color: #008000\">13.0</span>. Use plot                           \n",
       "                             instead.                                                        \n",
       "</pre>\n"
      ],
      "text/plain": [
       "\u001b[2;36m                   \u001b[0m\u001b[2;36m \u001b[0m\u001b[31mWARNING \u001b[0m The method CoordinateSystem.get_graph has     \u001b]8;id=756323;file://C:\\Users\\thoma\\AppData\\Local\\Programs\\Python\\Python39\\lib\\site-packages\\manim\\utils\\deprecation.py\u001b\\\u001b[2mdeprecation.py\u001b[0m\u001b]8;;\u001b\\\u001b[2m:\u001b[0m\u001b]8;id=673403;file://C:\\Users\\thoma\\AppData\\Local\\Programs\\Python\\Python39\\lib\\site-packages\\manim\\utils\\deprecation.py#210\u001b\\\u001b[2m210\u001b[0m\u001b]8;;\u001b\\\n",
       "                             been deprecated since v0.\u001b[32m11.0\u001b[0m and is expected                   \n",
       "                             to be removed after v0.\u001b[32m13.0\u001b[0m. Use plot                           \n",
       "                             instead.                                                        \n"
      ]
     },
     "metadata": {},
     "output_type": "display_data"
    },
    {
     "name": "stderr",
     "output_type": "stream",
     "text": [
      "Animation 1: _MethodAnimation(ValueTracker):   5%|5         | 16/300 [00:00<00:15, 18.85it/s]"
     ]
    },
    {
     "data": {
      "text/html": [
       "<pre style=\"white-space:pre;overflow-x:auto;line-height:normal;font-family:Menlo,'DejaVu Sans Mono',consolas,'Courier New',monospace\"><span style=\"color: #7fbfbf; text-decoration-color: #7fbfbf\">                    </span><span style=\"color: #800000; text-decoration-color: #800000\">WARNING </span> The method CoordinateSystem.get_graph has     <a href=\"file://C:\\Users\\thoma\\AppData\\Local\\Programs\\Python\\Python39\\lib\\site-packages\\manim\\utils\\deprecation.py\"><span style=\"color: #7f7f7f; text-decoration-color: #7f7f7f\">deprecation.py</span></a><span style=\"color: #7f7f7f; text-decoration-color: #7f7f7f\">:</span><a href=\"file://C:\\Users\\thoma\\AppData\\Local\\Programs\\Python\\Python39\\lib\\site-packages\\manim\\utils\\deprecation.py#210\"><span style=\"color: #7f7f7f; text-decoration-color: #7f7f7f\">210</span></a>\n",
       "                             been deprecated since v0.<span style=\"color: #008000; text-decoration-color: #008000\">11.0</span> and is expected                   \n",
       "                             to be removed after v0.<span style=\"color: #008000; text-decoration-color: #008000\">13.0</span>. Use plot                           \n",
       "                             instead.                                                        \n",
       "</pre>\n"
      ],
      "text/plain": [
       "\u001b[2;36m                   \u001b[0m\u001b[2;36m \u001b[0m\u001b[31mWARNING \u001b[0m The method CoordinateSystem.get_graph has     \u001b]8;id=497178;file://C:\\Users\\thoma\\AppData\\Local\\Programs\\Python\\Python39\\lib\\site-packages\\manim\\utils\\deprecation.py\u001b\\\u001b[2mdeprecation.py\u001b[0m\u001b]8;;\u001b\\\u001b[2m:\u001b[0m\u001b]8;id=378434;file://C:\\Users\\thoma\\AppData\\Local\\Programs\\Python\\Python39\\lib\\site-packages\\manim\\utils\\deprecation.py#210\u001b\\\u001b[2m210\u001b[0m\u001b]8;;\u001b\\\n",
       "                             been deprecated since v0.\u001b[32m11.0\u001b[0m and is expected                   \n",
       "                             to be removed after v0.\u001b[32m13.0\u001b[0m. Use plot                           \n",
       "                             instead.                                                        \n"
      ]
     },
     "metadata": {},
     "output_type": "display_data"
    },
    {
     "data": {
      "text/html": [
       "<pre style=\"white-space:pre;overflow-x:auto;line-height:normal;font-family:Menlo,'DejaVu Sans Mono',consolas,'Courier New',monospace\"><span style=\"color: #7fbfbf; text-decoration-color: #7fbfbf\">                    </span><span style=\"color: #800000; text-decoration-color: #800000\">WARNING </span> The method CoordinateSystem.get_graph has     <a href=\"file://C:\\Users\\thoma\\AppData\\Local\\Programs\\Python\\Python39\\lib\\site-packages\\manim\\utils\\deprecation.py\"><span style=\"color: #7f7f7f; text-decoration-color: #7f7f7f\">deprecation.py</span></a><span style=\"color: #7f7f7f; text-decoration-color: #7f7f7f\">:</span><a href=\"file://C:\\Users\\thoma\\AppData\\Local\\Programs\\Python\\Python39\\lib\\site-packages\\manim\\utils\\deprecation.py#210\"><span style=\"color: #7f7f7f; text-decoration-color: #7f7f7f\">210</span></a>\n",
       "                             been deprecated since v0.<span style=\"color: #008000; text-decoration-color: #008000\">11.0</span> and is expected                   \n",
       "                             to be removed after v0.<span style=\"color: #008000; text-decoration-color: #008000\">13.0</span>. Use plot                           \n",
       "                             instead.                                                        \n",
       "</pre>\n"
      ],
      "text/plain": [
       "\u001b[2;36m                   \u001b[0m\u001b[2;36m \u001b[0m\u001b[31mWARNING \u001b[0m The method CoordinateSystem.get_graph has     \u001b]8;id=707714;file://C:\\Users\\thoma\\AppData\\Local\\Programs\\Python\\Python39\\lib\\site-packages\\manim\\utils\\deprecation.py\u001b\\\u001b[2mdeprecation.py\u001b[0m\u001b]8;;\u001b\\\u001b[2m:\u001b[0m\u001b]8;id=616035;file://C:\\Users\\thoma\\AppData\\Local\\Programs\\Python\\Python39\\lib\\site-packages\\manim\\utils\\deprecation.py#210\u001b\\\u001b[2m210\u001b[0m\u001b]8;;\u001b\\\n",
       "                             been deprecated since v0.\u001b[32m11.0\u001b[0m and is expected                   \n",
       "                             to be removed after v0.\u001b[32m13.0\u001b[0m. Use plot                           \n",
       "                             instead.                                                        \n"
      ]
     },
     "metadata": {},
     "output_type": "display_data"
    },
    {
     "data": {
      "text/html": [
       "<pre style=\"white-space:pre;overflow-x:auto;line-height:normal;font-family:Menlo,'DejaVu Sans Mono',consolas,'Courier New',monospace\"><span style=\"color: #7fbfbf; text-decoration-color: #7fbfbf\">                    </span><span style=\"color: #800000; text-decoration-color: #800000\">WARNING </span> The method CoordinateSystem.get_graph has     <a href=\"file://C:\\Users\\thoma\\AppData\\Local\\Programs\\Python\\Python39\\lib\\site-packages\\manim\\utils\\deprecation.py\"><span style=\"color: #7f7f7f; text-decoration-color: #7f7f7f\">deprecation.py</span></a><span style=\"color: #7f7f7f; text-decoration-color: #7f7f7f\">:</span><a href=\"file://C:\\Users\\thoma\\AppData\\Local\\Programs\\Python\\Python39\\lib\\site-packages\\manim\\utils\\deprecation.py#210\"><span style=\"color: #7f7f7f; text-decoration-color: #7f7f7f\">210</span></a>\n",
       "                             been deprecated since v0.<span style=\"color: #008000; text-decoration-color: #008000\">11.0</span> and is expected                   \n",
       "                             to be removed after v0.<span style=\"color: #008000; text-decoration-color: #008000\">13.0</span>. Use plot                           \n",
       "                             instead.                                                        \n",
       "</pre>\n"
      ],
      "text/plain": [
       "\u001b[2;36m                   \u001b[0m\u001b[2;36m \u001b[0m\u001b[31mWARNING \u001b[0m The method CoordinateSystem.get_graph has     \u001b]8;id=785542;file://C:\\Users\\thoma\\AppData\\Local\\Programs\\Python\\Python39\\lib\\site-packages\\manim\\utils\\deprecation.py\u001b\\\u001b[2mdeprecation.py\u001b[0m\u001b]8;;\u001b\\\u001b[2m:\u001b[0m\u001b]8;id=762271;file://C:\\Users\\thoma\\AppData\\Local\\Programs\\Python\\Python39\\lib\\site-packages\\manim\\utils\\deprecation.py#210\u001b\\\u001b[2m210\u001b[0m\u001b]8;;\u001b\\\n",
       "                             been deprecated since v0.\u001b[32m11.0\u001b[0m and is expected                   \n",
       "                             to be removed after v0.\u001b[32m13.0\u001b[0m. Use plot                           \n",
       "                             instead.                                                        \n"
      ]
     },
     "metadata": {},
     "output_type": "display_data"
    },
    {
     "name": "stderr",
     "output_type": "stream",
     "text": [
      "Animation 1: _MethodAnimation(ValueTracker):   6%|6         | 19/300 [00:00<00:17, 15.99it/s]"
     ]
    },
    {
     "data": {
      "text/html": [
       "<pre style=\"white-space:pre;overflow-x:auto;line-height:normal;font-family:Menlo,'DejaVu Sans Mono',consolas,'Courier New',monospace\"><span style=\"color: #7fbfbf; text-decoration-color: #7fbfbf\">                    </span><span style=\"color: #800000; text-decoration-color: #800000\">WARNING </span> The method CoordinateSystem.get_graph has     <a href=\"file://C:\\Users\\thoma\\AppData\\Local\\Programs\\Python\\Python39\\lib\\site-packages\\manim\\utils\\deprecation.py\"><span style=\"color: #7f7f7f; text-decoration-color: #7f7f7f\">deprecation.py</span></a><span style=\"color: #7f7f7f; text-decoration-color: #7f7f7f\">:</span><a href=\"file://C:\\Users\\thoma\\AppData\\Local\\Programs\\Python\\Python39\\lib\\site-packages\\manim\\utils\\deprecation.py#210\"><span style=\"color: #7f7f7f; text-decoration-color: #7f7f7f\">210</span></a>\n",
       "                             been deprecated since v0.<span style=\"color: #008000; text-decoration-color: #008000\">11.0</span> and is expected                   \n",
       "                             to be removed after v0.<span style=\"color: #008000; text-decoration-color: #008000\">13.0</span>. Use plot                           \n",
       "                             instead.                                                        \n",
       "</pre>\n"
      ],
      "text/plain": [
       "\u001b[2;36m                   \u001b[0m\u001b[2;36m \u001b[0m\u001b[31mWARNING \u001b[0m The method CoordinateSystem.get_graph has     \u001b]8;id=974640;file://C:\\Users\\thoma\\AppData\\Local\\Programs\\Python\\Python39\\lib\\site-packages\\manim\\utils\\deprecation.py\u001b\\\u001b[2mdeprecation.py\u001b[0m\u001b]8;;\u001b\\\u001b[2m:\u001b[0m\u001b]8;id=624463;file://C:\\Users\\thoma\\AppData\\Local\\Programs\\Python\\Python39\\lib\\site-packages\\manim\\utils\\deprecation.py#210\u001b\\\u001b[2m210\u001b[0m\u001b]8;;\u001b\\\n",
       "                             been deprecated since v0.\u001b[32m11.0\u001b[0m and is expected                   \n",
       "                             to be removed after v0.\u001b[32m13.0\u001b[0m. Use plot                           \n",
       "                             instead.                                                        \n"
      ]
     },
     "metadata": {},
     "output_type": "display_data"
    },
    {
     "data": {
      "text/html": [
       "<pre style=\"white-space:pre;overflow-x:auto;line-height:normal;font-family:Menlo,'DejaVu Sans Mono',consolas,'Courier New',monospace\"><span style=\"color: #7fbfbf; text-decoration-color: #7fbfbf\">[01/31/22 22:10:37] </span><span style=\"color: #800000; text-decoration-color: #800000\">WARNING </span> The method CoordinateSystem.get_graph has     <a href=\"file://C:\\Users\\thoma\\AppData\\Local\\Programs\\Python\\Python39\\lib\\site-packages\\manim\\utils\\deprecation.py\"><span style=\"color: #7f7f7f; text-decoration-color: #7f7f7f\">deprecation.py</span></a><span style=\"color: #7f7f7f; text-decoration-color: #7f7f7f\">:</span><a href=\"file://C:\\Users\\thoma\\AppData\\Local\\Programs\\Python\\Python39\\lib\\site-packages\\manim\\utils\\deprecation.py#210\"><span style=\"color: #7f7f7f; text-decoration-color: #7f7f7f\">210</span></a>\n",
       "                             been deprecated since v0.<span style=\"color: #008000; text-decoration-color: #008000\">11.0</span> and is expected                   \n",
       "                             to be removed after v0.<span style=\"color: #008000; text-decoration-color: #008000\">13.0</span>. Use plot                           \n",
       "                             instead.                                                        \n",
       "</pre>\n"
      ],
      "text/plain": [
       "\u001b[2;36m[01/31/22 22:10:37]\u001b[0m\u001b[2;36m \u001b[0m\u001b[31mWARNING \u001b[0m The method CoordinateSystem.get_graph has     \u001b]8;id=289411;file://C:\\Users\\thoma\\AppData\\Local\\Programs\\Python\\Python39\\lib\\site-packages\\manim\\utils\\deprecation.py\u001b\\\u001b[2mdeprecation.py\u001b[0m\u001b]8;;\u001b\\\u001b[2m:\u001b[0m\u001b]8;id=611873;file://C:\\Users\\thoma\\AppData\\Local\\Programs\\Python\\Python39\\lib\\site-packages\\manim\\utils\\deprecation.py#210\u001b\\\u001b[2m210\u001b[0m\u001b]8;;\u001b\\\n",
       "                             been deprecated since v0.\u001b[32m11.0\u001b[0m and is expected                   \n",
       "                             to be removed after v0.\u001b[32m13.0\u001b[0m. Use plot                           \n",
       "                             instead.                                                        \n"
      ]
     },
     "metadata": {},
     "output_type": "display_data"
    },
    {
     "name": "stderr",
     "output_type": "stream",
     "text": [
      "Animation 1: _MethodAnimation(ValueTracker):   7%|7         | 21/300 [00:01<00:18, 14.96it/s]"
     ]
    },
    {
     "data": {
      "text/html": [
       "<pre style=\"white-space:pre;overflow-x:auto;line-height:normal;font-family:Menlo,'DejaVu Sans Mono',consolas,'Courier New',monospace\"><span style=\"color: #7fbfbf; text-decoration-color: #7fbfbf\">                    </span><span style=\"color: #800000; text-decoration-color: #800000\">WARNING </span> The method CoordinateSystem.get_graph has     <a href=\"file://C:\\Users\\thoma\\AppData\\Local\\Programs\\Python\\Python39\\lib\\site-packages\\manim\\utils\\deprecation.py\"><span style=\"color: #7f7f7f; text-decoration-color: #7f7f7f\">deprecation.py</span></a><span style=\"color: #7f7f7f; text-decoration-color: #7f7f7f\">:</span><a href=\"file://C:\\Users\\thoma\\AppData\\Local\\Programs\\Python\\Python39\\lib\\site-packages\\manim\\utils\\deprecation.py#210\"><span style=\"color: #7f7f7f; text-decoration-color: #7f7f7f\">210</span></a>\n",
       "                             been deprecated since v0.<span style=\"color: #008000; text-decoration-color: #008000\">11.0</span> and is expected                   \n",
       "                             to be removed after v0.<span style=\"color: #008000; text-decoration-color: #008000\">13.0</span>. Use plot                           \n",
       "                             instead.                                                        \n",
       "</pre>\n"
      ],
      "text/plain": [
       "\u001b[2;36m                   \u001b[0m\u001b[2;36m \u001b[0m\u001b[31mWARNING \u001b[0m The method CoordinateSystem.get_graph has     \u001b]8;id=306509;file://C:\\Users\\thoma\\AppData\\Local\\Programs\\Python\\Python39\\lib\\site-packages\\manim\\utils\\deprecation.py\u001b\\\u001b[2mdeprecation.py\u001b[0m\u001b]8;;\u001b\\\u001b[2m:\u001b[0m\u001b]8;id=733453;file://C:\\Users\\thoma\\AppData\\Local\\Programs\\Python\\Python39\\lib\\site-packages\\manim\\utils\\deprecation.py#210\u001b\\\u001b[2m210\u001b[0m\u001b]8;;\u001b\\\n",
       "                             been deprecated since v0.\u001b[32m11.0\u001b[0m and is expected                   \n",
       "                             to be removed after v0.\u001b[32m13.0\u001b[0m. Use plot                           \n",
       "                             instead.                                                        \n"
      ]
     },
     "metadata": {},
     "output_type": "display_data"
    },
    {
     "data": {
      "text/html": [
       "<pre style=\"white-space:pre;overflow-x:auto;line-height:normal;font-family:Menlo,'DejaVu Sans Mono',consolas,'Courier New',monospace\"><span style=\"color: #7fbfbf; text-decoration-color: #7fbfbf\">                    </span><span style=\"color: #800000; text-decoration-color: #800000\">WARNING </span> The method CoordinateSystem.get_graph has     <a href=\"file://C:\\Users\\thoma\\AppData\\Local\\Programs\\Python\\Python39\\lib\\site-packages\\manim\\utils\\deprecation.py\"><span style=\"color: #7f7f7f; text-decoration-color: #7f7f7f\">deprecation.py</span></a><span style=\"color: #7f7f7f; text-decoration-color: #7f7f7f\">:</span><a href=\"file://C:\\Users\\thoma\\AppData\\Local\\Programs\\Python\\Python39\\lib\\site-packages\\manim\\utils\\deprecation.py#210\"><span style=\"color: #7f7f7f; text-decoration-color: #7f7f7f\">210</span></a>\n",
       "                             been deprecated since v0.<span style=\"color: #008000; text-decoration-color: #008000\">11.0</span> and is expected                   \n",
       "                             to be removed after v0.<span style=\"color: #008000; text-decoration-color: #008000\">13.0</span>. Use plot                           \n",
       "                             instead.                                                        \n",
       "</pre>\n"
      ],
      "text/plain": [
       "\u001b[2;36m                   \u001b[0m\u001b[2;36m \u001b[0m\u001b[31mWARNING \u001b[0m The method CoordinateSystem.get_graph has     \u001b]8;id=833637;file://C:\\Users\\thoma\\AppData\\Local\\Programs\\Python\\Python39\\lib\\site-packages\\manim\\utils\\deprecation.py\u001b\\\u001b[2mdeprecation.py\u001b[0m\u001b]8;;\u001b\\\u001b[2m:\u001b[0m\u001b]8;id=659354;file://C:\\Users\\thoma\\AppData\\Local\\Programs\\Python\\Python39\\lib\\site-packages\\manim\\utils\\deprecation.py#210\u001b\\\u001b[2m210\u001b[0m\u001b]8;;\u001b\\\n",
       "                             been deprecated since v0.\u001b[32m11.0\u001b[0m and is expected                   \n",
       "                             to be removed after v0.\u001b[32m13.0\u001b[0m. Use plot                           \n",
       "                             instead.                                                        \n"
      ]
     },
     "metadata": {},
     "output_type": "display_data"
    },
    {
     "name": "stderr",
     "output_type": "stream",
     "text": [
      "Animation 1: _MethodAnimation(ValueTracker):   8%|7         | 23/300 [00:01<00:18, 14.95it/s]"
     ]
    },
    {
     "data": {
      "text/html": [
       "<pre style=\"white-space:pre;overflow-x:auto;line-height:normal;font-family:Menlo,'DejaVu Sans Mono',consolas,'Courier New',monospace\"><span style=\"color: #7fbfbf; text-decoration-color: #7fbfbf\">                    </span><span style=\"color: #800000; text-decoration-color: #800000\">WARNING </span> The method CoordinateSystem.get_graph has     <a href=\"file://C:\\Users\\thoma\\AppData\\Local\\Programs\\Python\\Python39\\lib\\site-packages\\manim\\utils\\deprecation.py\"><span style=\"color: #7f7f7f; text-decoration-color: #7f7f7f\">deprecation.py</span></a><span style=\"color: #7f7f7f; text-decoration-color: #7f7f7f\">:</span><a href=\"file://C:\\Users\\thoma\\AppData\\Local\\Programs\\Python\\Python39\\lib\\site-packages\\manim\\utils\\deprecation.py#210\"><span style=\"color: #7f7f7f; text-decoration-color: #7f7f7f\">210</span></a>\n",
       "                             been deprecated since v0.<span style=\"color: #008000; text-decoration-color: #008000\">11.0</span> and is expected                   \n",
       "                             to be removed after v0.<span style=\"color: #008000; text-decoration-color: #008000\">13.0</span>. Use plot                           \n",
       "                             instead.                                                        \n",
       "</pre>\n"
      ],
      "text/plain": [
       "\u001b[2;36m                   \u001b[0m\u001b[2;36m \u001b[0m\u001b[31mWARNING \u001b[0m The method CoordinateSystem.get_graph has     \u001b]8;id=698015;file://C:\\Users\\thoma\\AppData\\Local\\Programs\\Python\\Python39\\lib\\site-packages\\manim\\utils\\deprecation.py\u001b\\\u001b[2mdeprecation.py\u001b[0m\u001b]8;;\u001b\\\u001b[2m:\u001b[0m\u001b]8;id=506682;file://C:\\Users\\thoma\\AppData\\Local\\Programs\\Python\\Python39\\lib\\site-packages\\manim\\utils\\deprecation.py#210\u001b\\\u001b[2m210\u001b[0m\u001b]8;;\u001b\\\n",
       "                             been deprecated since v0.\u001b[32m11.0\u001b[0m and is expected                   \n",
       "                             to be removed after v0.\u001b[32m13.0\u001b[0m. Use plot                           \n",
       "                             instead.                                                        \n"
      ]
     },
     "metadata": {},
     "output_type": "display_data"
    },
    {
     "data": {
      "text/html": [
       "<pre style=\"white-space:pre;overflow-x:auto;line-height:normal;font-family:Menlo,'DejaVu Sans Mono',consolas,'Courier New',monospace\"><span style=\"color: #7fbfbf; text-decoration-color: #7fbfbf\">                    </span><span style=\"color: #800000; text-decoration-color: #800000\">WARNING </span> The method CoordinateSystem.get_graph has     <a href=\"file://C:\\Users\\thoma\\AppData\\Local\\Programs\\Python\\Python39\\lib\\site-packages\\manim\\utils\\deprecation.py\"><span style=\"color: #7f7f7f; text-decoration-color: #7f7f7f\">deprecation.py</span></a><span style=\"color: #7f7f7f; text-decoration-color: #7f7f7f\">:</span><a href=\"file://C:\\Users\\thoma\\AppData\\Local\\Programs\\Python\\Python39\\lib\\site-packages\\manim\\utils\\deprecation.py#210\"><span style=\"color: #7f7f7f; text-decoration-color: #7f7f7f\">210</span></a>\n",
       "                             been deprecated since v0.<span style=\"color: #008000; text-decoration-color: #008000\">11.0</span> and is expected                   \n",
       "                             to be removed after v0.<span style=\"color: #008000; text-decoration-color: #008000\">13.0</span>. Use plot                           \n",
       "                             instead.                                                        \n",
       "</pre>\n"
      ],
      "text/plain": [
       "\u001b[2;36m                   \u001b[0m\u001b[2;36m \u001b[0m\u001b[31mWARNING \u001b[0m The method CoordinateSystem.get_graph has     \u001b]8;id=563984;file://C:\\Users\\thoma\\AppData\\Local\\Programs\\Python\\Python39\\lib\\site-packages\\manim\\utils\\deprecation.py\u001b\\\u001b[2mdeprecation.py\u001b[0m\u001b]8;;\u001b\\\u001b[2m:\u001b[0m\u001b]8;id=240709;file://C:\\Users\\thoma\\AppData\\Local\\Programs\\Python\\Python39\\lib\\site-packages\\manim\\utils\\deprecation.py#210\u001b\\\u001b[2m210\u001b[0m\u001b]8;;\u001b\\\n",
       "                             been deprecated since v0.\u001b[32m11.0\u001b[0m and is expected                   \n",
       "                             to be removed after v0.\u001b[32m13.0\u001b[0m. Use plot                           \n",
       "                             instead.                                                        \n"
      ]
     },
     "metadata": {},
     "output_type": "display_data"
    },
    {
     "name": "stderr",
     "output_type": "stream",
     "text": [
      "Animation 1: _MethodAnimation(ValueTracker):   8%|8         | 25/300 [00:01<00:18, 14.77it/s]"
     ]
    },
    {
     "data": {
      "text/html": [
       "<pre style=\"white-space:pre;overflow-x:auto;line-height:normal;font-family:Menlo,'DejaVu Sans Mono',consolas,'Courier New',monospace\"><span style=\"color: #7fbfbf; text-decoration-color: #7fbfbf\">                    </span><span style=\"color: #800000; text-decoration-color: #800000\">WARNING </span> The method CoordinateSystem.get_graph has     <a href=\"file://C:\\Users\\thoma\\AppData\\Local\\Programs\\Python\\Python39\\lib\\site-packages\\manim\\utils\\deprecation.py\"><span style=\"color: #7f7f7f; text-decoration-color: #7f7f7f\">deprecation.py</span></a><span style=\"color: #7f7f7f; text-decoration-color: #7f7f7f\">:</span><a href=\"file://C:\\Users\\thoma\\AppData\\Local\\Programs\\Python\\Python39\\lib\\site-packages\\manim\\utils\\deprecation.py#210\"><span style=\"color: #7f7f7f; text-decoration-color: #7f7f7f\">210</span></a>\n",
       "                             been deprecated since v0.<span style=\"color: #008000; text-decoration-color: #008000\">11.0</span> and is expected                   \n",
       "                             to be removed after v0.<span style=\"color: #008000; text-decoration-color: #008000\">13.0</span>. Use plot                           \n",
       "                             instead.                                                        \n",
       "</pre>\n"
      ],
      "text/plain": [
       "\u001b[2;36m                   \u001b[0m\u001b[2;36m \u001b[0m\u001b[31mWARNING \u001b[0m The method CoordinateSystem.get_graph has     \u001b]8;id=19816;file://C:\\Users\\thoma\\AppData\\Local\\Programs\\Python\\Python39\\lib\\site-packages\\manim\\utils\\deprecation.py\u001b\\\u001b[2mdeprecation.py\u001b[0m\u001b]8;;\u001b\\\u001b[2m:\u001b[0m\u001b]8;id=641065;file://C:\\Users\\thoma\\AppData\\Local\\Programs\\Python\\Python39\\lib\\site-packages\\manim\\utils\\deprecation.py#210\u001b\\\u001b[2m210\u001b[0m\u001b]8;;\u001b\\\n",
       "                             been deprecated since v0.\u001b[32m11.0\u001b[0m and is expected                   \n",
       "                             to be removed after v0.\u001b[32m13.0\u001b[0m. Use plot                           \n",
       "                             instead.                                                        \n"
      ]
     },
     "metadata": {},
     "output_type": "display_data"
    },
    {
     "data": {
      "text/html": [
       "<pre style=\"white-space:pre;overflow-x:auto;line-height:normal;font-family:Menlo,'DejaVu Sans Mono',consolas,'Courier New',monospace\"><span style=\"color: #7fbfbf; text-decoration-color: #7fbfbf\">                    </span><span style=\"color: #800000; text-decoration-color: #800000\">WARNING </span> The method CoordinateSystem.get_graph has     <a href=\"file://C:\\Users\\thoma\\AppData\\Local\\Programs\\Python\\Python39\\lib\\site-packages\\manim\\utils\\deprecation.py\"><span style=\"color: #7f7f7f; text-decoration-color: #7f7f7f\">deprecation.py</span></a><span style=\"color: #7f7f7f; text-decoration-color: #7f7f7f\">:</span><a href=\"file://C:\\Users\\thoma\\AppData\\Local\\Programs\\Python\\Python39\\lib\\site-packages\\manim\\utils\\deprecation.py#210\"><span style=\"color: #7f7f7f; text-decoration-color: #7f7f7f\">210</span></a>\n",
       "                             been deprecated since v0.<span style=\"color: #008000; text-decoration-color: #008000\">11.0</span> and is expected                   \n",
       "                             to be removed after v0.<span style=\"color: #008000; text-decoration-color: #008000\">13.0</span>. Use plot                           \n",
       "                             instead.                                                        \n",
       "</pre>\n"
      ],
      "text/plain": [
       "\u001b[2;36m                   \u001b[0m\u001b[2;36m \u001b[0m\u001b[31mWARNING \u001b[0m The method CoordinateSystem.get_graph has     \u001b]8;id=286142;file://C:\\Users\\thoma\\AppData\\Local\\Programs\\Python\\Python39\\lib\\site-packages\\manim\\utils\\deprecation.py\u001b\\\u001b[2mdeprecation.py\u001b[0m\u001b]8;;\u001b\\\u001b[2m:\u001b[0m\u001b]8;id=357689;file://C:\\Users\\thoma\\AppData\\Local\\Programs\\Python\\Python39\\lib\\site-packages\\manim\\utils\\deprecation.py#210\u001b\\\u001b[2m210\u001b[0m\u001b]8;;\u001b\\\n",
       "                             been deprecated since v0.\u001b[32m11.0\u001b[0m and is expected                   \n",
       "                             to be removed after v0.\u001b[32m13.0\u001b[0m. Use plot                           \n",
       "                             instead.                                                        \n"
      ]
     },
     "metadata": {},
     "output_type": "display_data"
    },
    {
     "name": "stderr",
     "output_type": "stream",
     "text": [
      "Animation 1: _MethodAnimation(ValueTracker):   9%|9         | 27/300 [00:01<00:18, 14.67it/s]"
     ]
    },
    {
     "data": {
      "text/html": [
       "<pre style=\"white-space:pre;overflow-x:auto;line-height:normal;font-family:Menlo,'DejaVu Sans Mono',consolas,'Courier New',monospace\"><span style=\"color: #7fbfbf; text-decoration-color: #7fbfbf\">                    </span><span style=\"color: #800000; text-decoration-color: #800000\">WARNING </span> The method CoordinateSystem.get_graph has     <a href=\"file://C:\\Users\\thoma\\AppData\\Local\\Programs\\Python\\Python39\\lib\\site-packages\\manim\\utils\\deprecation.py\"><span style=\"color: #7f7f7f; text-decoration-color: #7f7f7f\">deprecation.py</span></a><span style=\"color: #7f7f7f; text-decoration-color: #7f7f7f\">:</span><a href=\"file://C:\\Users\\thoma\\AppData\\Local\\Programs\\Python\\Python39\\lib\\site-packages\\manim\\utils\\deprecation.py#210\"><span style=\"color: #7f7f7f; text-decoration-color: #7f7f7f\">210</span></a>\n",
       "                             been deprecated since v0.<span style=\"color: #008000; text-decoration-color: #008000\">11.0</span> and is expected                   \n",
       "                             to be removed after v0.<span style=\"color: #008000; text-decoration-color: #008000\">13.0</span>. Use plot                           \n",
       "                             instead.                                                        \n",
       "</pre>\n"
      ],
      "text/plain": [
       "\u001b[2;36m                   \u001b[0m\u001b[2;36m \u001b[0m\u001b[31mWARNING \u001b[0m The method CoordinateSystem.get_graph has     \u001b]8;id=354223;file://C:\\Users\\thoma\\AppData\\Local\\Programs\\Python\\Python39\\lib\\site-packages\\manim\\utils\\deprecation.py\u001b\\\u001b[2mdeprecation.py\u001b[0m\u001b]8;;\u001b\\\u001b[2m:\u001b[0m\u001b]8;id=565641;file://C:\\Users\\thoma\\AppData\\Local\\Programs\\Python\\Python39\\lib\\site-packages\\manim\\utils\\deprecation.py#210\u001b\\\u001b[2m210\u001b[0m\u001b]8;;\u001b\\\n",
       "                             been deprecated since v0.\u001b[32m11.0\u001b[0m and is expected                   \n",
       "                             to be removed after v0.\u001b[32m13.0\u001b[0m. Use plot                           \n",
       "                             instead.                                                        \n"
      ]
     },
     "metadata": {},
     "output_type": "display_data"
    },
    {
     "data": {
      "text/html": [
       "<pre style=\"white-space:pre;overflow-x:auto;line-height:normal;font-family:Menlo,'DejaVu Sans Mono',consolas,'Courier New',monospace\"><span style=\"color: #7fbfbf; text-decoration-color: #7fbfbf\">                    </span><span style=\"color: #800000; text-decoration-color: #800000\">WARNING </span> The method CoordinateSystem.get_graph has     <a href=\"file://C:\\Users\\thoma\\AppData\\Local\\Programs\\Python\\Python39\\lib\\site-packages\\manim\\utils\\deprecation.py\"><span style=\"color: #7f7f7f; text-decoration-color: #7f7f7f\">deprecation.py</span></a><span style=\"color: #7f7f7f; text-decoration-color: #7f7f7f\">:</span><a href=\"file://C:\\Users\\thoma\\AppData\\Local\\Programs\\Python\\Python39\\lib\\site-packages\\manim\\utils\\deprecation.py#210\"><span style=\"color: #7f7f7f; text-decoration-color: #7f7f7f\">210</span></a>\n",
       "                             been deprecated since v0.<span style=\"color: #008000; text-decoration-color: #008000\">11.0</span> and is expected                   \n",
       "                             to be removed after v0.<span style=\"color: #008000; text-decoration-color: #008000\">13.0</span>. Use plot                           \n",
       "                             instead.                                                        \n",
       "</pre>\n"
      ],
      "text/plain": [
       "\u001b[2;36m                   \u001b[0m\u001b[2;36m \u001b[0m\u001b[31mWARNING \u001b[0m The method CoordinateSystem.get_graph has     \u001b]8;id=130408;file://C:\\Users\\thoma\\AppData\\Local\\Programs\\Python\\Python39\\lib\\site-packages\\manim\\utils\\deprecation.py\u001b\\\u001b[2mdeprecation.py\u001b[0m\u001b]8;;\u001b\\\u001b[2m:\u001b[0m\u001b]8;id=828870;file://C:\\Users\\thoma\\AppData\\Local\\Programs\\Python\\Python39\\lib\\site-packages\\manim\\utils\\deprecation.py#210\u001b\\\u001b[2m210\u001b[0m\u001b]8;;\u001b\\\n",
       "                             been deprecated since v0.\u001b[32m11.0\u001b[0m and is expected                   \n",
       "                             to be removed after v0.\u001b[32m13.0\u001b[0m. Use plot                           \n",
       "                             instead.                                                        \n"
      ]
     },
     "metadata": {},
     "output_type": "display_data"
    },
    {
     "name": "stderr",
     "output_type": "stream",
     "text": [
      "Animation 1: _MethodAnimation(ValueTracker):  10%|9         | 29/300 [00:01<00:19, 14.17it/s]"
     ]
    },
    {
     "data": {
      "text/html": [
       "<pre style=\"white-space:pre;overflow-x:auto;line-height:normal;font-family:Menlo,'DejaVu Sans Mono',consolas,'Courier New',monospace\"><span style=\"color: #7fbfbf; text-decoration-color: #7fbfbf\">                    </span><span style=\"color: #800000; text-decoration-color: #800000\">WARNING </span> The method CoordinateSystem.get_graph has     <a href=\"file://C:\\Users\\thoma\\AppData\\Local\\Programs\\Python\\Python39\\lib\\site-packages\\manim\\utils\\deprecation.py\"><span style=\"color: #7f7f7f; text-decoration-color: #7f7f7f\">deprecation.py</span></a><span style=\"color: #7f7f7f; text-decoration-color: #7f7f7f\">:</span><a href=\"file://C:\\Users\\thoma\\AppData\\Local\\Programs\\Python\\Python39\\lib\\site-packages\\manim\\utils\\deprecation.py#210\"><span style=\"color: #7f7f7f; text-decoration-color: #7f7f7f\">210</span></a>\n",
       "                             been deprecated since v0.<span style=\"color: #008000; text-decoration-color: #008000\">11.0</span> and is expected                   \n",
       "                             to be removed after v0.<span style=\"color: #008000; text-decoration-color: #008000\">13.0</span>. Use plot                           \n",
       "                             instead.                                                        \n",
       "</pre>\n"
      ],
      "text/plain": [
       "\u001b[2;36m                   \u001b[0m\u001b[2;36m \u001b[0m\u001b[31mWARNING \u001b[0m The method CoordinateSystem.get_graph has     \u001b]8;id=555518;file://C:\\Users\\thoma\\AppData\\Local\\Programs\\Python\\Python39\\lib\\site-packages\\manim\\utils\\deprecation.py\u001b\\\u001b[2mdeprecation.py\u001b[0m\u001b]8;;\u001b\\\u001b[2m:\u001b[0m\u001b]8;id=200708;file://C:\\Users\\thoma\\AppData\\Local\\Programs\\Python\\Python39\\lib\\site-packages\\manim\\utils\\deprecation.py#210\u001b\\\u001b[2m210\u001b[0m\u001b]8;;\u001b\\\n",
       "                             been deprecated since v0.\u001b[32m11.0\u001b[0m and is expected                   \n",
       "                             to be removed after v0.\u001b[32m13.0\u001b[0m. Use plot                           \n",
       "                             instead.                                                        \n"
      ]
     },
     "metadata": {},
     "output_type": "display_data"
    },
    {
     "data": {
      "text/html": [
       "<pre style=\"white-space:pre;overflow-x:auto;line-height:normal;font-family:Menlo,'DejaVu Sans Mono',consolas,'Courier New',monospace\"><span style=\"color: #7fbfbf; text-decoration-color: #7fbfbf\">                    </span><span style=\"color: #800000; text-decoration-color: #800000\">WARNING </span> The method CoordinateSystem.get_graph has     <a href=\"file://C:\\Users\\thoma\\AppData\\Local\\Programs\\Python\\Python39\\lib\\site-packages\\manim\\utils\\deprecation.py\"><span style=\"color: #7f7f7f; text-decoration-color: #7f7f7f\">deprecation.py</span></a><span style=\"color: #7f7f7f; text-decoration-color: #7f7f7f\">:</span><a href=\"file://C:\\Users\\thoma\\AppData\\Local\\Programs\\Python\\Python39\\lib\\site-packages\\manim\\utils\\deprecation.py#210\"><span style=\"color: #7f7f7f; text-decoration-color: #7f7f7f\">210</span></a>\n",
       "                             been deprecated since v0.<span style=\"color: #008000; text-decoration-color: #008000\">11.0</span> and is expected                   \n",
       "                             to be removed after v0.<span style=\"color: #008000; text-decoration-color: #008000\">13.0</span>. Use plot                           \n",
       "                             instead.                                                        \n",
       "</pre>\n"
      ],
      "text/plain": [
       "\u001b[2;36m                   \u001b[0m\u001b[2;36m \u001b[0m\u001b[31mWARNING \u001b[0m The method CoordinateSystem.get_graph has     \u001b]8;id=250023;file://C:\\Users\\thoma\\AppData\\Local\\Programs\\Python\\Python39\\lib\\site-packages\\manim\\utils\\deprecation.py\u001b\\\u001b[2mdeprecation.py\u001b[0m\u001b]8;;\u001b\\\u001b[2m:\u001b[0m\u001b]8;id=853128;file://C:\\Users\\thoma\\AppData\\Local\\Programs\\Python\\Python39\\lib\\site-packages\\manim\\utils\\deprecation.py#210\u001b\\\u001b[2m210\u001b[0m\u001b]8;;\u001b\\\n",
       "                             been deprecated since v0.\u001b[32m11.0\u001b[0m and is expected                   \n",
       "                             to be removed after v0.\u001b[32m13.0\u001b[0m. Use plot                           \n",
       "                             instead.                                                        \n"
      ]
     },
     "metadata": {},
     "output_type": "display_data"
    },
    {
     "name": "stderr",
     "output_type": "stream",
     "text": [
      "Animation 1: _MethodAnimation(ValueTracker):  10%|#         | 31/300 [00:01<00:20, 13.33it/s]"
     ]
    },
    {
     "data": {
      "text/html": [
       "<pre style=\"white-space:pre;overflow-x:auto;line-height:normal;font-family:Menlo,'DejaVu Sans Mono',consolas,'Courier New',monospace\"><span style=\"color: #7fbfbf; text-decoration-color: #7fbfbf\">                    </span><span style=\"color: #800000; text-decoration-color: #800000\">WARNING </span> The method CoordinateSystem.get_graph has     <a href=\"file://C:\\Users\\thoma\\AppData\\Local\\Programs\\Python\\Python39\\lib\\site-packages\\manim\\utils\\deprecation.py\"><span style=\"color: #7f7f7f; text-decoration-color: #7f7f7f\">deprecation.py</span></a><span style=\"color: #7f7f7f; text-decoration-color: #7f7f7f\">:</span><a href=\"file://C:\\Users\\thoma\\AppData\\Local\\Programs\\Python\\Python39\\lib\\site-packages\\manim\\utils\\deprecation.py#210\"><span style=\"color: #7f7f7f; text-decoration-color: #7f7f7f\">210</span></a>\n",
       "                             been deprecated since v0.<span style=\"color: #008000; text-decoration-color: #008000\">11.0</span> and is expected                   \n",
       "                             to be removed after v0.<span style=\"color: #008000; text-decoration-color: #008000\">13.0</span>. Use plot                           \n",
       "                             instead.                                                        \n",
       "</pre>\n"
      ],
      "text/plain": [
       "\u001b[2;36m                   \u001b[0m\u001b[2;36m \u001b[0m\u001b[31mWARNING \u001b[0m The method CoordinateSystem.get_graph has     \u001b]8;id=387190;file://C:\\Users\\thoma\\AppData\\Local\\Programs\\Python\\Python39\\lib\\site-packages\\manim\\utils\\deprecation.py\u001b\\\u001b[2mdeprecation.py\u001b[0m\u001b]8;;\u001b\\\u001b[2m:\u001b[0m\u001b]8;id=956872;file://C:\\Users\\thoma\\AppData\\Local\\Programs\\Python\\Python39\\lib\\site-packages\\manim\\utils\\deprecation.py#210\u001b\\\u001b[2m210\u001b[0m\u001b]8;;\u001b\\\n",
       "                             been deprecated since v0.\u001b[32m11.0\u001b[0m and is expected                   \n",
       "                             to be removed after v0.\u001b[32m13.0\u001b[0m. Use plot                           \n",
       "                             instead.                                                        \n"
      ]
     },
     "metadata": {},
     "output_type": "display_data"
    },
    {
     "data": {
      "text/html": [
       "<pre style=\"white-space:pre;overflow-x:auto;line-height:normal;font-family:Menlo,'DejaVu Sans Mono',consolas,'Courier New',monospace\"><span style=\"color: #7fbfbf; text-decoration-color: #7fbfbf\">                    </span><span style=\"color: #800000; text-decoration-color: #800000\">WARNING </span> The method CoordinateSystem.get_graph has     <a href=\"file://C:\\Users\\thoma\\AppData\\Local\\Programs\\Python\\Python39\\lib\\site-packages\\manim\\utils\\deprecation.py\"><span style=\"color: #7f7f7f; text-decoration-color: #7f7f7f\">deprecation.py</span></a><span style=\"color: #7f7f7f; text-decoration-color: #7f7f7f\">:</span><a href=\"file://C:\\Users\\thoma\\AppData\\Local\\Programs\\Python\\Python39\\lib\\site-packages\\manim\\utils\\deprecation.py#210\"><span style=\"color: #7f7f7f; text-decoration-color: #7f7f7f\">210</span></a>\n",
       "                             been deprecated since v0.<span style=\"color: #008000; text-decoration-color: #008000\">11.0</span> and is expected                   \n",
       "                             to be removed after v0.<span style=\"color: #008000; text-decoration-color: #008000\">13.0</span>. Use plot                           \n",
       "                             instead.                                                        \n",
       "</pre>\n"
      ],
      "text/plain": [
       "\u001b[2;36m                   \u001b[0m\u001b[2;36m \u001b[0m\u001b[31mWARNING \u001b[0m The method CoordinateSystem.get_graph has     \u001b]8;id=922621;file://C:\\Users\\thoma\\AppData\\Local\\Programs\\Python\\Python39\\lib\\site-packages\\manim\\utils\\deprecation.py\u001b\\\u001b[2mdeprecation.py\u001b[0m\u001b]8;;\u001b\\\u001b[2m:\u001b[0m\u001b]8;id=974807;file://C:\\Users\\thoma\\AppData\\Local\\Programs\\Python\\Python39\\lib\\site-packages\\manim\\utils\\deprecation.py#210\u001b\\\u001b[2m210\u001b[0m\u001b]8;;\u001b\\\n",
       "                             been deprecated since v0.\u001b[32m11.0\u001b[0m and is expected                   \n",
       "                             to be removed after v0.\u001b[32m13.0\u001b[0m. Use plot                           \n",
       "                             instead.                                                        \n"
      ]
     },
     "metadata": {},
     "output_type": "display_data"
    },
    {
     "name": "stderr",
     "output_type": "stream",
     "text": [
      "Animation 1: _MethodAnimation(ValueTracker):  11%|#1        | 33/300 [00:02<00:20, 12.84it/s]"
     ]
    },
    {
     "data": {
      "text/html": [
       "<pre style=\"white-space:pre;overflow-x:auto;line-height:normal;font-family:Menlo,'DejaVu Sans Mono',consolas,'Courier New',monospace\"><span style=\"color: #7fbfbf; text-decoration-color: #7fbfbf\">[01/31/22 22:10:38] </span><span style=\"color: #800000; text-decoration-color: #800000\">WARNING </span> The method CoordinateSystem.get_graph has     <a href=\"file://C:\\Users\\thoma\\AppData\\Local\\Programs\\Python\\Python39\\lib\\site-packages\\manim\\utils\\deprecation.py\"><span style=\"color: #7f7f7f; text-decoration-color: #7f7f7f\">deprecation.py</span></a><span style=\"color: #7f7f7f; text-decoration-color: #7f7f7f\">:</span><a href=\"file://C:\\Users\\thoma\\AppData\\Local\\Programs\\Python\\Python39\\lib\\site-packages\\manim\\utils\\deprecation.py#210\"><span style=\"color: #7f7f7f; text-decoration-color: #7f7f7f\">210</span></a>\n",
       "                             been deprecated since v0.<span style=\"color: #008000; text-decoration-color: #008000\">11.0</span> and is expected                   \n",
       "                             to be removed after v0.<span style=\"color: #008000; text-decoration-color: #008000\">13.0</span>. Use plot                           \n",
       "                             instead.                                                        \n",
       "</pre>\n"
      ],
      "text/plain": [
       "\u001b[2;36m[01/31/22 22:10:38]\u001b[0m\u001b[2;36m \u001b[0m\u001b[31mWARNING \u001b[0m The method CoordinateSystem.get_graph has     \u001b]8;id=652152;file://C:\\Users\\thoma\\AppData\\Local\\Programs\\Python\\Python39\\lib\\site-packages\\manim\\utils\\deprecation.py\u001b\\\u001b[2mdeprecation.py\u001b[0m\u001b]8;;\u001b\\\u001b[2m:\u001b[0m\u001b]8;id=504701;file://C:\\Users\\thoma\\AppData\\Local\\Programs\\Python\\Python39\\lib\\site-packages\\manim\\utils\\deprecation.py#210\u001b\\\u001b[2m210\u001b[0m\u001b]8;;\u001b\\\n",
       "                             been deprecated since v0.\u001b[32m11.0\u001b[0m and is expected                   \n",
       "                             to be removed after v0.\u001b[32m13.0\u001b[0m. Use plot                           \n",
       "                             instead.                                                        \n"
      ]
     },
     "metadata": {},
     "output_type": "display_data"
    },
    {
     "data": {
      "text/html": [
       "<pre style=\"white-space:pre;overflow-x:auto;line-height:normal;font-family:Menlo,'DejaVu Sans Mono',consolas,'Courier New',monospace\"><span style=\"color: #7fbfbf; text-decoration-color: #7fbfbf\">                    </span><span style=\"color: #800000; text-decoration-color: #800000\">WARNING </span> The method CoordinateSystem.get_graph has     <a href=\"file://C:\\Users\\thoma\\AppData\\Local\\Programs\\Python\\Python39\\lib\\site-packages\\manim\\utils\\deprecation.py\"><span style=\"color: #7f7f7f; text-decoration-color: #7f7f7f\">deprecation.py</span></a><span style=\"color: #7f7f7f; text-decoration-color: #7f7f7f\">:</span><a href=\"file://C:\\Users\\thoma\\AppData\\Local\\Programs\\Python\\Python39\\lib\\site-packages\\manim\\utils\\deprecation.py#210\"><span style=\"color: #7f7f7f; text-decoration-color: #7f7f7f\">210</span></a>\n",
       "                             been deprecated since v0.<span style=\"color: #008000; text-decoration-color: #008000\">11.0</span> and is expected                   \n",
       "                             to be removed after v0.<span style=\"color: #008000; text-decoration-color: #008000\">13.0</span>. Use plot                           \n",
       "                             instead.                                                        \n",
       "</pre>\n"
      ],
      "text/plain": [
       "\u001b[2;36m                   \u001b[0m\u001b[2;36m \u001b[0m\u001b[31mWARNING \u001b[0m The method CoordinateSystem.get_graph has     \u001b]8;id=984928;file://C:\\Users\\thoma\\AppData\\Local\\Programs\\Python\\Python39\\lib\\site-packages\\manim\\utils\\deprecation.py\u001b\\\u001b[2mdeprecation.py\u001b[0m\u001b]8;;\u001b\\\u001b[2m:\u001b[0m\u001b]8;id=330810;file://C:\\Users\\thoma\\AppData\\Local\\Programs\\Python\\Python39\\lib\\site-packages\\manim\\utils\\deprecation.py#210\u001b\\\u001b[2m210\u001b[0m\u001b]8;;\u001b\\\n",
       "                             been deprecated since v0.\u001b[32m11.0\u001b[0m and is expected                   \n",
       "                             to be removed after v0.\u001b[32m13.0\u001b[0m. Use plot                           \n",
       "                             instead.                                                        \n"
      ]
     },
     "metadata": {},
     "output_type": "display_data"
    },
    {
     "name": "stderr",
     "output_type": "stream",
     "text": [
      "Animation 1: _MethodAnimation(ValueTracker):  12%|#1        | 35/300 [00:02<00:23, 11.35it/s]"
     ]
    },
    {
     "data": {
      "text/html": [
       "<pre style=\"white-space:pre;overflow-x:auto;line-height:normal;font-family:Menlo,'DejaVu Sans Mono',consolas,'Courier New',monospace\"><span style=\"color: #7fbfbf; text-decoration-color: #7fbfbf\">                    </span><span style=\"color: #800000; text-decoration-color: #800000\">WARNING </span> The method CoordinateSystem.get_graph has     <a href=\"file://C:\\Users\\thoma\\AppData\\Local\\Programs\\Python\\Python39\\lib\\site-packages\\manim\\utils\\deprecation.py\"><span style=\"color: #7f7f7f; text-decoration-color: #7f7f7f\">deprecation.py</span></a><span style=\"color: #7f7f7f; text-decoration-color: #7f7f7f\">:</span><a href=\"file://C:\\Users\\thoma\\AppData\\Local\\Programs\\Python\\Python39\\lib\\site-packages\\manim\\utils\\deprecation.py#210\"><span style=\"color: #7f7f7f; text-decoration-color: #7f7f7f\">210</span></a>\n",
       "                             been deprecated since v0.<span style=\"color: #008000; text-decoration-color: #008000\">11.0</span> and is expected                   \n",
       "                             to be removed after v0.<span style=\"color: #008000; text-decoration-color: #008000\">13.0</span>. Use plot                           \n",
       "                             instead.                                                        \n",
       "</pre>\n"
      ],
      "text/plain": [
       "\u001b[2;36m                   \u001b[0m\u001b[2;36m \u001b[0m\u001b[31mWARNING \u001b[0m The method CoordinateSystem.get_graph has     \u001b]8;id=173180;file://C:\\Users\\thoma\\AppData\\Local\\Programs\\Python\\Python39\\lib\\site-packages\\manim\\utils\\deprecation.py\u001b\\\u001b[2mdeprecation.py\u001b[0m\u001b]8;;\u001b\\\u001b[2m:\u001b[0m\u001b]8;id=262849;file://C:\\Users\\thoma\\AppData\\Local\\Programs\\Python\\Python39\\lib\\site-packages\\manim\\utils\\deprecation.py#210\u001b\\\u001b[2m210\u001b[0m\u001b]8;;\u001b\\\n",
       "                             been deprecated since v0.\u001b[32m11.0\u001b[0m and is expected                   \n",
       "                             to be removed after v0.\u001b[32m13.0\u001b[0m. Use plot                           \n",
       "                             instead.                                                        \n"
      ]
     },
     "metadata": {},
     "output_type": "display_data"
    },
    {
     "data": {
      "text/html": [
       "<pre style=\"white-space:pre;overflow-x:auto;line-height:normal;font-family:Menlo,'DejaVu Sans Mono',consolas,'Courier New',monospace\"><span style=\"color: #7fbfbf; text-decoration-color: #7fbfbf\">                    </span><span style=\"color: #800000; text-decoration-color: #800000\">WARNING </span> The method CoordinateSystem.get_graph has     <a href=\"file://C:\\Users\\thoma\\AppData\\Local\\Programs\\Python\\Python39\\lib\\site-packages\\manim\\utils\\deprecation.py\"><span style=\"color: #7f7f7f; text-decoration-color: #7f7f7f\">deprecation.py</span></a><span style=\"color: #7f7f7f; text-decoration-color: #7f7f7f\">:</span><a href=\"file://C:\\Users\\thoma\\AppData\\Local\\Programs\\Python\\Python39\\lib\\site-packages\\manim\\utils\\deprecation.py#210\"><span style=\"color: #7f7f7f; text-decoration-color: #7f7f7f\">210</span></a>\n",
       "                             been deprecated since v0.<span style=\"color: #008000; text-decoration-color: #008000\">11.0</span> and is expected                   \n",
       "                             to be removed after v0.<span style=\"color: #008000; text-decoration-color: #008000\">13.0</span>. Use plot                           \n",
       "                             instead.                                                        \n",
       "</pre>\n"
      ],
      "text/plain": [
       "\u001b[2;36m                   \u001b[0m\u001b[2;36m \u001b[0m\u001b[31mWARNING \u001b[0m The method CoordinateSystem.get_graph has     \u001b]8;id=360150;file://C:\\Users\\thoma\\AppData\\Local\\Programs\\Python\\Python39\\lib\\site-packages\\manim\\utils\\deprecation.py\u001b\\\u001b[2mdeprecation.py\u001b[0m\u001b]8;;\u001b\\\u001b[2m:\u001b[0m\u001b]8;id=818101;file://C:\\Users\\thoma\\AppData\\Local\\Programs\\Python\\Python39\\lib\\site-packages\\manim\\utils\\deprecation.py#210\u001b\\\u001b[2m210\u001b[0m\u001b]8;;\u001b\\\n",
       "                             been deprecated since v0.\u001b[32m11.0\u001b[0m and is expected                   \n",
       "                             to be removed after v0.\u001b[32m13.0\u001b[0m. Use plot                           \n",
       "                             instead.                                                        \n"
      ]
     },
     "metadata": {},
     "output_type": "display_data"
    },
    {
     "name": "stderr",
     "output_type": "stream",
     "text": [
      "Animation 1: _MethodAnimation(ValueTracker):  12%|#2        | 37/300 [00:02<00:28,  9.31it/s]"
     ]
    },
    {
     "data": {
      "text/html": [
       "<pre style=\"white-space:pre;overflow-x:auto;line-height:normal;font-family:Menlo,'DejaVu Sans Mono',consolas,'Courier New',monospace\"><span style=\"color: #7fbfbf; text-decoration-color: #7fbfbf\">                    </span><span style=\"color: #800000; text-decoration-color: #800000\">WARNING </span> The method CoordinateSystem.get_graph has     <a href=\"file://C:\\Users\\thoma\\AppData\\Local\\Programs\\Python\\Python39\\lib\\site-packages\\manim\\utils\\deprecation.py\"><span style=\"color: #7f7f7f; text-decoration-color: #7f7f7f\">deprecation.py</span></a><span style=\"color: #7f7f7f; text-decoration-color: #7f7f7f\">:</span><a href=\"file://C:\\Users\\thoma\\AppData\\Local\\Programs\\Python\\Python39\\lib\\site-packages\\manim\\utils\\deprecation.py#210\"><span style=\"color: #7f7f7f; text-decoration-color: #7f7f7f\">210</span></a>\n",
       "                             been deprecated since v0.<span style=\"color: #008000; text-decoration-color: #008000\">11.0</span> and is expected                   \n",
       "                             to be removed after v0.<span style=\"color: #008000; text-decoration-color: #008000\">13.0</span>. Use plot                           \n",
       "                             instead.                                                        \n",
       "</pre>\n"
      ],
      "text/plain": [
       "\u001b[2;36m                   \u001b[0m\u001b[2;36m \u001b[0m\u001b[31mWARNING \u001b[0m The method CoordinateSystem.get_graph has     \u001b]8;id=154013;file://C:\\Users\\thoma\\AppData\\Local\\Programs\\Python\\Python39\\lib\\site-packages\\manim\\utils\\deprecation.py\u001b\\\u001b[2mdeprecation.py\u001b[0m\u001b]8;;\u001b\\\u001b[2m:\u001b[0m\u001b]8;id=351904;file://C:\\Users\\thoma\\AppData\\Local\\Programs\\Python\\Python39\\lib\\site-packages\\manim\\utils\\deprecation.py#210\u001b\\\u001b[2m210\u001b[0m\u001b]8;;\u001b\\\n",
       "                             been deprecated since v0.\u001b[32m11.0\u001b[0m and is expected                   \n",
       "                             to be removed after v0.\u001b[32m13.0\u001b[0m. Use plot                           \n",
       "                             instead.                                                        \n"
      ]
     },
     "metadata": {},
     "output_type": "display_data"
    },
    {
     "data": {
      "text/html": [
       "<pre style=\"white-space:pre;overflow-x:auto;line-height:normal;font-family:Menlo,'DejaVu Sans Mono',consolas,'Courier New',monospace\"><span style=\"color: #7fbfbf; text-decoration-color: #7fbfbf\">                    </span><span style=\"color: #800000; text-decoration-color: #800000\">WARNING </span> The method CoordinateSystem.get_graph has     <a href=\"file://C:\\Users\\thoma\\AppData\\Local\\Programs\\Python\\Python39\\lib\\site-packages\\manim\\utils\\deprecation.py\"><span style=\"color: #7f7f7f; text-decoration-color: #7f7f7f\">deprecation.py</span></a><span style=\"color: #7f7f7f; text-decoration-color: #7f7f7f\">:</span><a href=\"file://C:\\Users\\thoma\\AppData\\Local\\Programs\\Python\\Python39\\lib\\site-packages\\manim\\utils\\deprecation.py#210\"><span style=\"color: #7f7f7f; text-decoration-color: #7f7f7f\">210</span></a>\n",
       "                             been deprecated since v0.<span style=\"color: #008000; text-decoration-color: #008000\">11.0</span> and is expected                   \n",
       "                             to be removed after v0.<span style=\"color: #008000; text-decoration-color: #008000\">13.0</span>. Use plot                           \n",
       "                             instead.                                                        \n",
       "</pre>\n"
      ],
      "text/plain": [
       "\u001b[2;36m                   \u001b[0m\u001b[2;36m \u001b[0m\u001b[31mWARNING \u001b[0m The method CoordinateSystem.get_graph has     \u001b]8;id=126832;file://C:\\Users\\thoma\\AppData\\Local\\Programs\\Python\\Python39\\lib\\site-packages\\manim\\utils\\deprecation.py\u001b\\\u001b[2mdeprecation.py\u001b[0m\u001b]8;;\u001b\\\u001b[2m:\u001b[0m\u001b]8;id=665970;file://C:\\Users\\thoma\\AppData\\Local\\Programs\\Python\\Python39\\lib\\site-packages\\manim\\utils\\deprecation.py#210\u001b\\\u001b[2m210\u001b[0m\u001b]8;;\u001b\\\n",
       "                             been deprecated since v0.\u001b[32m11.0\u001b[0m and is expected                   \n",
       "                             to be removed after v0.\u001b[32m13.0\u001b[0m. Use plot                           \n",
       "                             instead.                                                        \n"
      ]
     },
     "metadata": {},
     "output_type": "display_data"
    },
    {
     "name": "stderr",
     "output_type": "stream",
     "text": [
      "Animation 1: _MethodAnimation(ValueTracker):  13%|#3        | 39/300 [00:02<00:30,  8.52it/s]"
     ]
    },
    {
     "data": {
      "text/html": [
       "<pre style=\"white-space:pre;overflow-x:auto;line-height:normal;font-family:Menlo,'DejaVu Sans Mono',consolas,'Courier New',monospace\"><span style=\"color: #7fbfbf; text-decoration-color: #7fbfbf\">                    </span><span style=\"color: #800000; text-decoration-color: #800000\">WARNING </span> The method CoordinateSystem.get_graph has     <a href=\"file://C:\\Users\\thoma\\AppData\\Local\\Programs\\Python\\Python39\\lib\\site-packages\\manim\\utils\\deprecation.py\"><span style=\"color: #7f7f7f; text-decoration-color: #7f7f7f\">deprecation.py</span></a><span style=\"color: #7f7f7f; text-decoration-color: #7f7f7f\">:</span><a href=\"file://C:\\Users\\thoma\\AppData\\Local\\Programs\\Python\\Python39\\lib\\site-packages\\manim\\utils\\deprecation.py#210\"><span style=\"color: #7f7f7f; text-decoration-color: #7f7f7f\">210</span></a>\n",
       "                             been deprecated since v0.<span style=\"color: #008000; text-decoration-color: #008000\">11.0</span> and is expected                   \n",
       "                             to be removed after v0.<span style=\"color: #008000; text-decoration-color: #008000\">13.0</span>. Use plot                           \n",
       "                             instead.                                                        \n",
       "</pre>\n"
      ],
      "text/plain": [
       "\u001b[2;36m                   \u001b[0m\u001b[2;36m \u001b[0m\u001b[31mWARNING \u001b[0m The method CoordinateSystem.get_graph has     \u001b]8;id=140208;file://C:\\Users\\thoma\\AppData\\Local\\Programs\\Python\\Python39\\lib\\site-packages\\manim\\utils\\deprecation.py\u001b\\\u001b[2mdeprecation.py\u001b[0m\u001b]8;;\u001b\\\u001b[2m:\u001b[0m\u001b]8;id=492362;file://C:\\Users\\thoma\\AppData\\Local\\Programs\\Python\\Python39\\lib\\site-packages\\manim\\utils\\deprecation.py#210\u001b\\\u001b[2m210\u001b[0m\u001b]8;;\u001b\\\n",
       "                             been deprecated since v0.\u001b[32m11.0\u001b[0m and is expected                   \n",
       "                             to be removed after v0.\u001b[32m13.0\u001b[0m. Use plot                           \n",
       "                             instead.                                                        \n"
      ]
     },
     "metadata": {},
     "output_type": "display_data"
    },
    {
     "name": "stderr",
     "output_type": "stream",
     "text": [
      "Animation 1: _MethodAnimation(ValueTracker):  13%|#3        | 40/300 [00:02<00:30,  8.65it/s]"
     ]
    },
    {
     "data": {
      "text/html": [
       "<pre style=\"white-space:pre;overflow-x:auto;line-height:normal;font-family:Menlo,'DejaVu Sans Mono',consolas,'Courier New',monospace\"><span style=\"color: #7fbfbf; text-decoration-color: #7fbfbf\">                    </span><span style=\"color: #800000; text-decoration-color: #800000\">WARNING </span> The method CoordinateSystem.get_graph has     <a href=\"file://C:\\Users\\thoma\\AppData\\Local\\Programs\\Python\\Python39\\lib\\site-packages\\manim\\utils\\deprecation.py\"><span style=\"color: #7f7f7f; text-decoration-color: #7f7f7f\">deprecation.py</span></a><span style=\"color: #7f7f7f; text-decoration-color: #7f7f7f\">:</span><a href=\"file://C:\\Users\\thoma\\AppData\\Local\\Programs\\Python\\Python39\\lib\\site-packages\\manim\\utils\\deprecation.py#210\"><span style=\"color: #7f7f7f; text-decoration-color: #7f7f7f\">210</span></a>\n",
       "                             been deprecated since v0.<span style=\"color: #008000; text-decoration-color: #008000\">11.0</span> and is expected                   \n",
       "                             to be removed after v0.<span style=\"color: #008000; text-decoration-color: #008000\">13.0</span>. Use plot                           \n",
       "                             instead.                                                        \n",
       "</pre>\n"
      ],
      "text/plain": [
       "\u001b[2;36m                   \u001b[0m\u001b[2;36m \u001b[0m\u001b[31mWARNING \u001b[0m The method CoordinateSystem.get_graph has     \u001b]8;id=181125;file://C:\\Users\\thoma\\AppData\\Local\\Programs\\Python\\Python39\\lib\\site-packages\\manim\\utils\\deprecation.py\u001b\\\u001b[2mdeprecation.py\u001b[0m\u001b]8;;\u001b\\\u001b[2m:\u001b[0m\u001b]8;id=743933;file://C:\\Users\\thoma\\AppData\\Local\\Programs\\Python\\Python39\\lib\\site-packages\\manim\\utils\\deprecation.py#210\u001b\\\u001b[2m210\u001b[0m\u001b]8;;\u001b\\\n",
       "                             been deprecated since v0.\u001b[32m11.0\u001b[0m and is expected                   \n",
       "                             to be removed after v0.\u001b[32m13.0\u001b[0m. Use plot                           \n",
       "                             instead.                                                        \n"
      ]
     },
     "metadata": {},
     "output_type": "display_data"
    },
    {
     "name": "stderr",
     "output_type": "stream",
     "text": [
      "Animation 1: _MethodAnimation(ValueTracker):  14%|#3        | 41/300 [00:03<00:29,  8.76it/s]"
     ]
    },
    {
     "data": {
      "text/html": [
       "<pre style=\"white-space:pre;overflow-x:auto;line-height:normal;font-family:Menlo,'DejaVu Sans Mono',consolas,'Courier New',monospace\"><span style=\"color: #7fbfbf; text-decoration-color: #7fbfbf\">[01/31/22 22:10:39] </span><span style=\"color: #800000; text-decoration-color: #800000\">WARNING </span> The method CoordinateSystem.get_graph has     <a href=\"file://C:\\Users\\thoma\\AppData\\Local\\Programs\\Python\\Python39\\lib\\site-packages\\manim\\utils\\deprecation.py\"><span style=\"color: #7f7f7f; text-decoration-color: #7f7f7f\">deprecation.py</span></a><span style=\"color: #7f7f7f; text-decoration-color: #7f7f7f\">:</span><a href=\"file://C:\\Users\\thoma\\AppData\\Local\\Programs\\Python\\Python39\\lib\\site-packages\\manim\\utils\\deprecation.py#210\"><span style=\"color: #7f7f7f; text-decoration-color: #7f7f7f\">210</span></a>\n",
       "                             been deprecated since v0.<span style=\"color: #008000; text-decoration-color: #008000\">11.0</span> and is expected                   \n",
       "                             to be removed after v0.<span style=\"color: #008000; text-decoration-color: #008000\">13.0</span>. Use plot                           \n",
       "                             instead.                                                        \n",
       "</pre>\n"
      ],
      "text/plain": [
       "\u001b[2;36m[01/31/22 22:10:39]\u001b[0m\u001b[2;36m \u001b[0m\u001b[31mWARNING \u001b[0m The method CoordinateSystem.get_graph has     \u001b]8;id=128080;file://C:\\Users\\thoma\\AppData\\Local\\Programs\\Python\\Python39\\lib\\site-packages\\manim\\utils\\deprecation.py\u001b\\\u001b[2mdeprecation.py\u001b[0m\u001b]8;;\u001b\\\u001b[2m:\u001b[0m\u001b]8;id=240487;file://C:\\Users\\thoma\\AppData\\Local\\Programs\\Python\\Python39\\lib\\site-packages\\manim\\utils\\deprecation.py#210\u001b\\\u001b[2m210\u001b[0m\u001b]8;;\u001b\\\n",
       "                             been deprecated since v0.\u001b[32m11.0\u001b[0m and is expected                   \n",
       "                             to be removed after v0.\u001b[32m13.0\u001b[0m. Use plot                           \n",
       "                             instead.                                                        \n"
      ]
     },
     "metadata": {},
     "output_type": "display_data"
    },
    {
     "name": "stderr",
     "output_type": "stream",
     "text": [
      "Animation 1: _MethodAnimation(ValueTracker):  14%|#4        | 42/300 [00:03<00:29,  8.89it/s]"
     ]
    },
    {
     "data": {
      "text/html": [
       "<pre style=\"white-space:pre;overflow-x:auto;line-height:normal;font-family:Menlo,'DejaVu Sans Mono',consolas,'Courier New',monospace\"><span style=\"color: #7fbfbf; text-decoration-color: #7fbfbf\">                    </span><span style=\"color: #800000; text-decoration-color: #800000\">WARNING </span> The method CoordinateSystem.get_graph has     <a href=\"file://C:\\Users\\thoma\\AppData\\Local\\Programs\\Python\\Python39\\lib\\site-packages\\manim\\utils\\deprecation.py\"><span style=\"color: #7f7f7f; text-decoration-color: #7f7f7f\">deprecation.py</span></a><span style=\"color: #7f7f7f; text-decoration-color: #7f7f7f\">:</span><a href=\"file://C:\\Users\\thoma\\AppData\\Local\\Programs\\Python\\Python39\\lib\\site-packages\\manim\\utils\\deprecation.py#210\"><span style=\"color: #7f7f7f; text-decoration-color: #7f7f7f\">210</span></a>\n",
       "                             been deprecated since v0.<span style=\"color: #008000; text-decoration-color: #008000\">11.0</span> and is expected                   \n",
       "                             to be removed after v0.<span style=\"color: #008000; text-decoration-color: #008000\">13.0</span>. Use plot                           \n",
       "                             instead.                                                        \n",
       "</pre>\n"
      ],
      "text/plain": [
       "\u001b[2;36m                   \u001b[0m\u001b[2;36m \u001b[0m\u001b[31mWARNING \u001b[0m The method CoordinateSystem.get_graph has     \u001b]8;id=317509;file://C:\\Users\\thoma\\AppData\\Local\\Programs\\Python\\Python39\\lib\\site-packages\\manim\\utils\\deprecation.py\u001b\\\u001b[2mdeprecation.py\u001b[0m\u001b]8;;\u001b\\\u001b[2m:\u001b[0m\u001b]8;id=17086;file://C:\\Users\\thoma\\AppData\\Local\\Programs\\Python\\Python39\\lib\\site-packages\\manim\\utils\\deprecation.py#210\u001b\\\u001b[2m210\u001b[0m\u001b]8;;\u001b\\\n",
       "                             been deprecated since v0.\u001b[32m11.0\u001b[0m and is expected                   \n",
       "                             to be removed after v0.\u001b[32m13.0\u001b[0m. Use plot                           \n",
       "                             instead.                                                        \n"
      ]
     },
     "metadata": {},
     "output_type": "display_data"
    },
    {
     "name": "stderr",
     "output_type": "stream",
     "text": [
      "Animation 1: _MethodAnimation(ValueTracker):  14%|#4        | 43/300 [00:03<00:30,  8.49it/s]"
     ]
    },
    {
     "data": {
      "text/html": [
       "<pre style=\"white-space:pre;overflow-x:auto;line-height:normal;font-family:Menlo,'DejaVu Sans Mono',consolas,'Courier New',monospace\"><span style=\"color: #7fbfbf; text-decoration-color: #7fbfbf\">                    </span><span style=\"color: #800000; text-decoration-color: #800000\">WARNING </span> The method CoordinateSystem.get_graph has     <a href=\"file://C:\\Users\\thoma\\AppData\\Local\\Programs\\Python\\Python39\\lib\\site-packages\\manim\\utils\\deprecation.py\"><span style=\"color: #7f7f7f; text-decoration-color: #7f7f7f\">deprecation.py</span></a><span style=\"color: #7f7f7f; text-decoration-color: #7f7f7f\">:</span><a href=\"file://C:\\Users\\thoma\\AppData\\Local\\Programs\\Python\\Python39\\lib\\site-packages\\manim\\utils\\deprecation.py#210\"><span style=\"color: #7f7f7f; text-decoration-color: #7f7f7f\">210</span></a>\n",
       "                             been deprecated since v0.<span style=\"color: #008000; text-decoration-color: #008000\">11.0</span> and is expected                   \n",
       "                             to be removed after v0.<span style=\"color: #008000; text-decoration-color: #008000\">13.0</span>. Use plot                           \n",
       "                             instead.                                                        \n",
       "</pre>\n"
      ],
      "text/plain": [
       "\u001b[2;36m                   \u001b[0m\u001b[2;36m \u001b[0m\u001b[31mWARNING \u001b[0m The method CoordinateSystem.get_graph has     \u001b]8;id=477530;file://C:\\Users\\thoma\\AppData\\Local\\Programs\\Python\\Python39\\lib\\site-packages\\manim\\utils\\deprecation.py\u001b\\\u001b[2mdeprecation.py\u001b[0m\u001b]8;;\u001b\\\u001b[2m:\u001b[0m\u001b]8;id=461074;file://C:\\Users\\thoma\\AppData\\Local\\Programs\\Python\\Python39\\lib\\site-packages\\manim\\utils\\deprecation.py#210\u001b\\\u001b[2m210\u001b[0m\u001b]8;;\u001b\\\n",
       "                             been deprecated since v0.\u001b[32m11.0\u001b[0m and is expected                   \n",
       "                             to be removed after v0.\u001b[32m13.0\u001b[0m. Use plot                           \n",
       "                             instead.                                                        \n"
      ]
     },
     "metadata": {},
     "output_type": "display_data"
    },
    {
     "name": "stderr",
     "output_type": "stream",
     "text": [
      "Animation 1: _MethodAnimation(ValueTracker):  15%|#4        | 44/300 [00:03<00:30,  8.26it/s]"
     ]
    },
    {
     "data": {
      "text/html": [
       "<pre style=\"white-space:pre;overflow-x:auto;line-height:normal;font-family:Menlo,'DejaVu Sans Mono',consolas,'Courier New',monospace\"><span style=\"color: #7fbfbf; text-decoration-color: #7fbfbf\">                    </span><span style=\"color: #800000; text-decoration-color: #800000\">WARNING </span> The method CoordinateSystem.get_graph has     <a href=\"file://C:\\Users\\thoma\\AppData\\Local\\Programs\\Python\\Python39\\lib\\site-packages\\manim\\utils\\deprecation.py\"><span style=\"color: #7f7f7f; text-decoration-color: #7f7f7f\">deprecation.py</span></a><span style=\"color: #7f7f7f; text-decoration-color: #7f7f7f\">:</span><a href=\"file://C:\\Users\\thoma\\AppData\\Local\\Programs\\Python\\Python39\\lib\\site-packages\\manim\\utils\\deprecation.py#210\"><span style=\"color: #7f7f7f; text-decoration-color: #7f7f7f\">210</span></a>\n",
       "                             been deprecated since v0.<span style=\"color: #008000; text-decoration-color: #008000\">11.0</span> and is expected                   \n",
       "                             to be removed after v0.<span style=\"color: #008000; text-decoration-color: #008000\">13.0</span>. Use plot                           \n",
       "                             instead.                                                        \n",
       "</pre>\n"
      ],
      "text/plain": [
       "\u001b[2;36m                   \u001b[0m\u001b[2;36m \u001b[0m\u001b[31mWARNING \u001b[0m The method CoordinateSystem.get_graph has     \u001b]8;id=734619;file://C:\\Users\\thoma\\AppData\\Local\\Programs\\Python\\Python39\\lib\\site-packages\\manim\\utils\\deprecation.py\u001b\\\u001b[2mdeprecation.py\u001b[0m\u001b]8;;\u001b\\\u001b[2m:\u001b[0m\u001b]8;id=578778;file://C:\\Users\\thoma\\AppData\\Local\\Programs\\Python\\Python39\\lib\\site-packages\\manim\\utils\\deprecation.py#210\u001b\\\u001b[2m210\u001b[0m\u001b]8;;\u001b\\\n",
       "                             been deprecated since v0.\u001b[32m11.0\u001b[0m and is expected                   \n",
       "                             to be removed after v0.\u001b[32m13.0\u001b[0m. Use plot                           \n",
       "                             instead.                                                        \n"
      ]
     },
     "metadata": {},
     "output_type": "display_data"
    },
    {
     "name": "stderr",
     "output_type": "stream",
     "text": [
      "Animation 1: _MethodAnimation(ValueTracker):  15%|#5        | 45/300 [00:03<00:31,  8.12it/s]"
     ]
    },
    {
     "data": {
      "text/html": [
       "<pre style=\"white-space:pre;overflow-x:auto;line-height:normal;font-family:Menlo,'DejaVu Sans Mono',consolas,'Courier New',monospace\"><span style=\"color: #7fbfbf; text-decoration-color: #7fbfbf\">                    </span><span style=\"color: #800000; text-decoration-color: #800000\">WARNING </span> The method CoordinateSystem.get_graph has     <a href=\"file://C:\\Users\\thoma\\AppData\\Local\\Programs\\Python\\Python39\\lib\\site-packages\\manim\\utils\\deprecation.py\"><span style=\"color: #7f7f7f; text-decoration-color: #7f7f7f\">deprecation.py</span></a><span style=\"color: #7f7f7f; text-decoration-color: #7f7f7f\">:</span><a href=\"file://C:\\Users\\thoma\\AppData\\Local\\Programs\\Python\\Python39\\lib\\site-packages\\manim\\utils\\deprecation.py#210\"><span style=\"color: #7f7f7f; text-decoration-color: #7f7f7f\">210</span></a>\n",
       "                             been deprecated since v0.<span style=\"color: #008000; text-decoration-color: #008000\">11.0</span> and is expected                   \n",
       "                             to be removed after v0.<span style=\"color: #008000; text-decoration-color: #008000\">13.0</span>. Use plot                           \n",
       "                             instead.                                                        \n",
       "</pre>\n"
      ],
      "text/plain": [
       "\u001b[2;36m                   \u001b[0m\u001b[2;36m \u001b[0m\u001b[31mWARNING \u001b[0m The method CoordinateSystem.get_graph has     \u001b]8;id=782971;file://C:\\Users\\thoma\\AppData\\Local\\Programs\\Python\\Python39\\lib\\site-packages\\manim\\utils\\deprecation.py\u001b\\\u001b[2mdeprecation.py\u001b[0m\u001b]8;;\u001b\\\u001b[2m:\u001b[0m\u001b]8;id=530654;file://C:\\Users\\thoma\\AppData\\Local\\Programs\\Python\\Python39\\lib\\site-packages\\manim\\utils\\deprecation.py#210\u001b\\\u001b[2m210\u001b[0m\u001b]8;;\u001b\\\n",
       "                             been deprecated since v0.\u001b[32m11.0\u001b[0m and is expected                   \n",
       "                             to be removed after v0.\u001b[32m13.0\u001b[0m. Use plot                           \n",
       "                             instead.                                                        \n"
      ]
     },
     "metadata": {},
     "output_type": "display_data"
    },
    {
     "name": "stderr",
     "output_type": "stream",
     "text": [
      "Animation 1: _MethodAnimation(ValueTracker):  15%|#5        | 46/300 [00:03<00:31,  8.05it/s]"
     ]
    },
    {
     "data": {
      "text/html": [
       "<pre style=\"white-space:pre;overflow-x:auto;line-height:normal;font-family:Menlo,'DejaVu Sans Mono',consolas,'Courier New',monospace\"><span style=\"color: #7fbfbf; text-decoration-color: #7fbfbf\">                    </span><span style=\"color: #800000; text-decoration-color: #800000\">WARNING </span> The method CoordinateSystem.get_graph has     <a href=\"file://C:\\Users\\thoma\\AppData\\Local\\Programs\\Python\\Python39\\lib\\site-packages\\manim\\utils\\deprecation.py\"><span style=\"color: #7f7f7f; text-decoration-color: #7f7f7f\">deprecation.py</span></a><span style=\"color: #7f7f7f; text-decoration-color: #7f7f7f\">:</span><a href=\"file://C:\\Users\\thoma\\AppData\\Local\\Programs\\Python\\Python39\\lib\\site-packages\\manim\\utils\\deprecation.py#210\"><span style=\"color: #7f7f7f; text-decoration-color: #7f7f7f\">210</span></a>\n",
       "                             been deprecated since v0.<span style=\"color: #008000; text-decoration-color: #008000\">11.0</span> and is expected                   \n",
       "                             to be removed after v0.<span style=\"color: #008000; text-decoration-color: #008000\">13.0</span>. Use plot                           \n",
       "                             instead.                                                        \n",
       "</pre>\n"
      ],
      "text/plain": [
       "\u001b[2;36m                   \u001b[0m\u001b[2;36m \u001b[0m\u001b[31mWARNING \u001b[0m The method CoordinateSystem.get_graph has     \u001b]8;id=361561;file://C:\\Users\\thoma\\AppData\\Local\\Programs\\Python\\Python39\\lib\\site-packages\\manim\\utils\\deprecation.py\u001b\\\u001b[2mdeprecation.py\u001b[0m\u001b]8;;\u001b\\\u001b[2m:\u001b[0m\u001b]8;id=310416;file://C:\\Users\\thoma\\AppData\\Local\\Programs\\Python\\Python39\\lib\\site-packages\\manim\\utils\\deprecation.py#210\u001b\\\u001b[2m210\u001b[0m\u001b]8;;\u001b\\\n",
       "                             been deprecated since v0.\u001b[32m11.0\u001b[0m and is expected                   \n",
       "                             to be removed after v0.\u001b[32m13.0\u001b[0m. Use plot                           \n",
       "                             instead.                                                        \n"
      ]
     },
     "metadata": {},
     "output_type": "display_data"
    },
    {
     "name": "stderr",
     "output_type": "stream",
     "text": [
      "Animation 1: _MethodAnimation(ValueTracker):  16%|#5        | 47/300 [00:03<00:32,  7.72it/s]"
     ]
    },
    {
     "data": {
      "text/html": [
       "<pre style=\"white-space:pre;overflow-x:auto;line-height:normal;font-family:Menlo,'DejaVu Sans Mono',consolas,'Courier New',monospace\"><span style=\"color: #7fbfbf; text-decoration-color: #7fbfbf\">                    </span><span style=\"color: #800000; text-decoration-color: #800000\">WARNING </span> The method CoordinateSystem.get_graph has     <a href=\"file://C:\\Users\\thoma\\AppData\\Local\\Programs\\Python\\Python39\\lib\\site-packages\\manim\\utils\\deprecation.py\"><span style=\"color: #7f7f7f; text-decoration-color: #7f7f7f\">deprecation.py</span></a><span style=\"color: #7f7f7f; text-decoration-color: #7f7f7f\">:</span><a href=\"file://C:\\Users\\thoma\\AppData\\Local\\Programs\\Python\\Python39\\lib\\site-packages\\manim\\utils\\deprecation.py#210\"><span style=\"color: #7f7f7f; text-decoration-color: #7f7f7f\">210</span></a>\n",
       "                             been deprecated since v0.<span style=\"color: #008000; text-decoration-color: #008000\">11.0</span> and is expected                   \n",
       "                             to be removed after v0.<span style=\"color: #008000; text-decoration-color: #008000\">13.0</span>. Use plot                           \n",
       "                             instead.                                                        \n",
       "</pre>\n"
      ],
      "text/plain": [
       "\u001b[2;36m                   \u001b[0m\u001b[2;36m \u001b[0m\u001b[31mWARNING \u001b[0m The method CoordinateSystem.get_graph has     \u001b]8;id=801708;file://C:\\Users\\thoma\\AppData\\Local\\Programs\\Python\\Python39\\lib\\site-packages\\manim\\utils\\deprecation.py\u001b\\\u001b[2mdeprecation.py\u001b[0m\u001b]8;;\u001b\\\u001b[2m:\u001b[0m\u001b]8;id=202224;file://C:\\Users\\thoma\\AppData\\Local\\Programs\\Python\\Python39\\lib\\site-packages\\manim\\utils\\deprecation.py#210\u001b\\\u001b[2m210\u001b[0m\u001b]8;;\u001b\\\n",
       "                             been deprecated since v0.\u001b[32m11.0\u001b[0m and is expected                   \n",
       "                             to be removed after v0.\u001b[32m13.0\u001b[0m. Use plot                           \n",
       "                             instead.                                                        \n"
      ]
     },
     "metadata": {},
     "output_type": "display_data"
    },
    {
     "name": "stderr",
     "output_type": "stream",
     "text": [
      "Animation 1: _MethodAnimation(ValueTracker):  16%|#6        | 48/300 [00:04<00:41,  6.05it/s]"
     ]
    },
    {
     "data": {
      "text/html": [
       "<pre style=\"white-space:pre;overflow-x:auto;line-height:normal;font-family:Menlo,'DejaVu Sans Mono',consolas,'Courier New',monospace\"><span style=\"color: #7fbfbf; text-decoration-color: #7fbfbf\">[01/31/22 22:10:40] </span><span style=\"color: #800000; text-decoration-color: #800000\">WARNING </span> The method CoordinateSystem.get_graph has     <a href=\"file://C:\\Users\\thoma\\AppData\\Local\\Programs\\Python\\Python39\\lib\\site-packages\\manim\\utils\\deprecation.py\"><span style=\"color: #7f7f7f; text-decoration-color: #7f7f7f\">deprecation.py</span></a><span style=\"color: #7f7f7f; text-decoration-color: #7f7f7f\">:</span><a href=\"file://C:\\Users\\thoma\\AppData\\Local\\Programs\\Python\\Python39\\lib\\site-packages\\manim\\utils\\deprecation.py#210\"><span style=\"color: #7f7f7f; text-decoration-color: #7f7f7f\">210</span></a>\n",
       "                             been deprecated since v0.<span style=\"color: #008000; text-decoration-color: #008000\">11.0</span> and is expected                   \n",
       "                             to be removed after v0.<span style=\"color: #008000; text-decoration-color: #008000\">13.0</span>. Use plot                           \n",
       "                             instead.                                                        \n",
       "</pre>\n"
      ],
      "text/plain": [
       "\u001b[2;36m[01/31/22 22:10:40]\u001b[0m\u001b[2;36m \u001b[0m\u001b[31mWARNING \u001b[0m The method CoordinateSystem.get_graph has     \u001b]8;id=720707;file://C:\\Users\\thoma\\AppData\\Local\\Programs\\Python\\Python39\\lib\\site-packages\\manim\\utils\\deprecation.py\u001b\\\u001b[2mdeprecation.py\u001b[0m\u001b]8;;\u001b\\\u001b[2m:\u001b[0m\u001b]8;id=925257;file://C:\\Users\\thoma\\AppData\\Local\\Programs\\Python\\Python39\\lib\\site-packages\\manim\\utils\\deprecation.py#210\u001b\\\u001b[2m210\u001b[0m\u001b]8;;\u001b\\\n",
       "                             been deprecated since v0.\u001b[32m11.0\u001b[0m and is expected                   \n",
       "                             to be removed after v0.\u001b[32m13.0\u001b[0m. Use plot                           \n",
       "                             instead.                                                        \n"
      ]
     },
     "metadata": {},
     "output_type": "display_data"
    },
    {
     "name": "stderr",
     "output_type": "stream",
     "text": [
      "Animation 1: _MethodAnimation(ValueTracker):  16%|#6        | 49/300 [00:04<00:43,  5.80it/s]"
     ]
    },
    {
     "data": {
      "text/html": [
       "<pre style=\"white-space:pre;overflow-x:auto;line-height:normal;font-family:Menlo,'DejaVu Sans Mono',consolas,'Courier New',monospace\"><span style=\"color: #7fbfbf; text-decoration-color: #7fbfbf\">                    </span><span style=\"color: #800000; text-decoration-color: #800000\">WARNING </span> The method CoordinateSystem.get_graph has     <a href=\"file://C:\\Users\\thoma\\AppData\\Local\\Programs\\Python\\Python39\\lib\\site-packages\\manim\\utils\\deprecation.py\"><span style=\"color: #7f7f7f; text-decoration-color: #7f7f7f\">deprecation.py</span></a><span style=\"color: #7f7f7f; text-decoration-color: #7f7f7f\">:</span><a href=\"file://C:\\Users\\thoma\\AppData\\Local\\Programs\\Python\\Python39\\lib\\site-packages\\manim\\utils\\deprecation.py#210\"><span style=\"color: #7f7f7f; text-decoration-color: #7f7f7f\">210</span></a>\n",
       "                             been deprecated since v0.<span style=\"color: #008000; text-decoration-color: #008000\">11.0</span> and is expected                   \n",
       "                             to be removed after v0.<span style=\"color: #008000; text-decoration-color: #008000\">13.0</span>. Use plot                           \n",
       "                             instead.                                                        \n",
       "</pre>\n"
      ],
      "text/plain": [
       "\u001b[2;36m                   \u001b[0m\u001b[2;36m \u001b[0m\u001b[31mWARNING \u001b[0m The method CoordinateSystem.get_graph has     \u001b]8;id=488478;file://C:\\Users\\thoma\\AppData\\Local\\Programs\\Python\\Python39\\lib\\site-packages\\manim\\utils\\deprecation.py\u001b\\\u001b[2mdeprecation.py\u001b[0m\u001b]8;;\u001b\\\u001b[2m:\u001b[0m\u001b]8;id=430079;file://C:\\Users\\thoma\\AppData\\Local\\Programs\\Python\\Python39\\lib\\site-packages\\manim\\utils\\deprecation.py#210\u001b\\\u001b[2m210\u001b[0m\u001b]8;;\u001b\\\n",
       "                             been deprecated since v0.\u001b[32m11.0\u001b[0m and is expected                   \n",
       "                             to be removed after v0.\u001b[32m13.0\u001b[0m. Use plot                           \n",
       "                             instead.                                                        \n"
      ]
     },
     "metadata": {},
     "output_type": "display_data"
    },
    {
     "name": "stderr",
     "output_type": "stream",
     "text": [
      "Animation 1: _MethodAnimation(ValueTracker):  17%|#6        | 50/300 [00:04<00:41,  5.97it/s]"
     ]
    },
    {
     "data": {
      "text/html": [
       "<pre style=\"white-space:pre;overflow-x:auto;line-height:normal;font-family:Menlo,'DejaVu Sans Mono',consolas,'Courier New',monospace\"><span style=\"color: #7fbfbf; text-decoration-color: #7fbfbf\">                    </span><span style=\"color: #800000; text-decoration-color: #800000\">WARNING </span> The method CoordinateSystem.get_graph has     <a href=\"file://C:\\Users\\thoma\\AppData\\Local\\Programs\\Python\\Python39\\lib\\site-packages\\manim\\utils\\deprecation.py\"><span style=\"color: #7f7f7f; text-decoration-color: #7f7f7f\">deprecation.py</span></a><span style=\"color: #7f7f7f; text-decoration-color: #7f7f7f\">:</span><a href=\"file://C:\\Users\\thoma\\AppData\\Local\\Programs\\Python\\Python39\\lib\\site-packages\\manim\\utils\\deprecation.py#210\"><span style=\"color: #7f7f7f; text-decoration-color: #7f7f7f\">210</span></a>\n",
       "                             been deprecated since v0.<span style=\"color: #008000; text-decoration-color: #008000\">11.0</span> and is expected                   \n",
       "                             to be removed after v0.<span style=\"color: #008000; text-decoration-color: #008000\">13.0</span>. Use plot                           \n",
       "                             instead.                                                        \n",
       "</pre>\n"
      ],
      "text/plain": [
       "\u001b[2;36m                   \u001b[0m\u001b[2;36m \u001b[0m\u001b[31mWARNING \u001b[0m The method CoordinateSystem.get_graph has     \u001b]8;id=98645;file://C:\\Users\\thoma\\AppData\\Local\\Programs\\Python\\Python39\\lib\\site-packages\\manim\\utils\\deprecation.py\u001b\\\u001b[2mdeprecation.py\u001b[0m\u001b]8;;\u001b\\\u001b[2m:\u001b[0m\u001b]8;id=705296;file://C:\\Users\\thoma\\AppData\\Local\\Programs\\Python\\Python39\\lib\\site-packages\\manim\\utils\\deprecation.py#210\u001b\\\u001b[2m210\u001b[0m\u001b]8;;\u001b\\\n",
       "                             been deprecated since v0.\u001b[32m11.0\u001b[0m and is expected                   \n",
       "                             to be removed after v0.\u001b[32m13.0\u001b[0m. Use plot                           \n",
       "                             instead.                                                        \n"
      ]
     },
     "metadata": {},
     "output_type": "display_data"
    },
    {
     "name": "stderr",
     "output_type": "stream",
     "text": [
      "Animation 1: _MethodAnimation(ValueTracker):  17%|#7        | 51/300 [00:04<00:40,  6.16it/s]"
     ]
    },
    {
     "data": {
      "text/html": [
       "<pre style=\"white-space:pre;overflow-x:auto;line-height:normal;font-family:Menlo,'DejaVu Sans Mono',consolas,'Courier New',monospace\"><span style=\"color: #7fbfbf; text-decoration-color: #7fbfbf\">                    </span><span style=\"color: #800000; text-decoration-color: #800000\">WARNING </span> The method CoordinateSystem.get_graph has     <a href=\"file://C:\\Users\\thoma\\AppData\\Local\\Programs\\Python\\Python39\\lib\\site-packages\\manim\\utils\\deprecation.py\"><span style=\"color: #7f7f7f; text-decoration-color: #7f7f7f\">deprecation.py</span></a><span style=\"color: #7f7f7f; text-decoration-color: #7f7f7f\">:</span><a href=\"file://C:\\Users\\thoma\\AppData\\Local\\Programs\\Python\\Python39\\lib\\site-packages\\manim\\utils\\deprecation.py#210\"><span style=\"color: #7f7f7f; text-decoration-color: #7f7f7f\">210</span></a>\n",
       "                             been deprecated since v0.<span style=\"color: #008000; text-decoration-color: #008000\">11.0</span> and is expected                   \n",
       "                             to be removed after v0.<span style=\"color: #008000; text-decoration-color: #008000\">13.0</span>. Use plot                           \n",
       "                             instead.                                                        \n",
       "</pre>\n"
      ],
      "text/plain": [
       "\u001b[2;36m                   \u001b[0m\u001b[2;36m \u001b[0m\u001b[31mWARNING \u001b[0m The method CoordinateSystem.get_graph has     \u001b]8;id=506953;file://C:\\Users\\thoma\\AppData\\Local\\Programs\\Python\\Python39\\lib\\site-packages\\manim\\utils\\deprecation.py\u001b\\\u001b[2mdeprecation.py\u001b[0m\u001b]8;;\u001b\\\u001b[2m:\u001b[0m\u001b]8;id=859706;file://C:\\Users\\thoma\\AppData\\Local\\Programs\\Python\\Python39\\lib\\site-packages\\manim\\utils\\deprecation.py#210\u001b\\\u001b[2m210\u001b[0m\u001b]8;;\u001b\\\n",
       "                             been deprecated since v0.\u001b[32m11.0\u001b[0m and is expected                   \n",
       "                             to be removed after v0.\u001b[32m13.0\u001b[0m. Use plot                           \n",
       "                             instead.                                                        \n"
      ]
     },
     "metadata": {},
     "output_type": "display_data"
    },
    {
     "name": "stderr",
     "output_type": "stream",
     "text": [
      "Animation 1: _MethodAnimation(ValueTracker):  17%|#7        | 52/300 [00:04<00:40,  6.16it/s]"
     ]
    },
    {
     "data": {
      "text/html": [
       "<pre style=\"white-space:pre;overflow-x:auto;line-height:normal;font-family:Menlo,'DejaVu Sans Mono',consolas,'Courier New',monospace\"><span style=\"color: #7fbfbf; text-decoration-color: #7fbfbf\">                    </span><span style=\"color: #800000; text-decoration-color: #800000\">WARNING </span> The method CoordinateSystem.get_graph has     <a href=\"file://C:\\Users\\thoma\\AppData\\Local\\Programs\\Python\\Python39\\lib\\site-packages\\manim\\utils\\deprecation.py\"><span style=\"color: #7f7f7f; text-decoration-color: #7f7f7f\">deprecation.py</span></a><span style=\"color: #7f7f7f; text-decoration-color: #7f7f7f\">:</span><a href=\"file://C:\\Users\\thoma\\AppData\\Local\\Programs\\Python\\Python39\\lib\\site-packages\\manim\\utils\\deprecation.py#210\"><span style=\"color: #7f7f7f; text-decoration-color: #7f7f7f\">210</span></a>\n",
       "                             been deprecated since v0.<span style=\"color: #008000; text-decoration-color: #008000\">11.0</span> and is expected                   \n",
       "                             to be removed after v0.<span style=\"color: #008000; text-decoration-color: #008000\">13.0</span>. Use plot                           \n",
       "                             instead.                                                        \n",
       "</pre>\n"
      ],
      "text/plain": [
       "\u001b[2;36m                   \u001b[0m\u001b[2;36m \u001b[0m\u001b[31mWARNING \u001b[0m The method CoordinateSystem.get_graph has     \u001b]8;id=845781;file://C:\\Users\\thoma\\AppData\\Local\\Programs\\Python\\Python39\\lib\\site-packages\\manim\\utils\\deprecation.py\u001b\\\u001b[2mdeprecation.py\u001b[0m\u001b]8;;\u001b\\\u001b[2m:\u001b[0m\u001b]8;id=906870;file://C:\\Users\\thoma\\AppData\\Local\\Programs\\Python\\Python39\\lib\\site-packages\\manim\\utils\\deprecation.py#210\u001b\\\u001b[2m210\u001b[0m\u001b]8;;\u001b\\\n",
       "                             been deprecated since v0.\u001b[32m11.0\u001b[0m and is expected                   \n",
       "                             to be removed after v0.\u001b[32m13.0\u001b[0m. Use plot                           \n",
       "                             instead.                                                        \n"
      ]
     },
     "metadata": {},
     "output_type": "display_data"
    },
    {
     "name": "stderr",
     "output_type": "stream",
     "text": [
      "Animation 1: _MethodAnimation(ValueTracker):  18%|#7        | 53/300 [00:04<00:39,  6.21it/s]"
     ]
    },
    {
     "data": {
      "text/html": [
       "<pre style=\"white-space:pre;overflow-x:auto;line-height:normal;font-family:Menlo,'DejaVu Sans Mono',consolas,'Courier New',monospace\"><span style=\"color: #7fbfbf; text-decoration-color: #7fbfbf\">                    </span><span style=\"color: #800000; text-decoration-color: #800000\">WARNING </span> The method CoordinateSystem.get_graph has     <a href=\"file://C:\\Users\\thoma\\AppData\\Local\\Programs\\Python\\Python39\\lib\\site-packages\\manim\\utils\\deprecation.py\"><span style=\"color: #7f7f7f; text-decoration-color: #7f7f7f\">deprecation.py</span></a><span style=\"color: #7f7f7f; text-decoration-color: #7f7f7f\">:</span><a href=\"file://C:\\Users\\thoma\\AppData\\Local\\Programs\\Python\\Python39\\lib\\site-packages\\manim\\utils\\deprecation.py#210\"><span style=\"color: #7f7f7f; text-decoration-color: #7f7f7f\">210</span></a>\n",
       "                             been deprecated since v0.<span style=\"color: #008000; text-decoration-color: #008000\">11.0</span> and is expected                   \n",
       "                             to be removed after v0.<span style=\"color: #008000; text-decoration-color: #008000\">13.0</span>. Use plot                           \n",
       "                             instead.                                                        \n",
       "</pre>\n"
      ],
      "text/plain": [
       "\u001b[2;36m                   \u001b[0m\u001b[2;36m \u001b[0m\u001b[31mWARNING \u001b[0m The method CoordinateSystem.get_graph has     \u001b]8;id=596137;file://C:\\Users\\thoma\\AppData\\Local\\Programs\\Python\\Python39\\lib\\site-packages\\manim\\utils\\deprecation.py\u001b\\\u001b[2mdeprecation.py\u001b[0m\u001b]8;;\u001b\\\u001b[2m:\u001b[0m\u001b]8;id=133890;file://C:\\Users\\thoma\\AppData\\Local\\Programs\\Python\\Python39\\lib\\site-packages\\manim\\utils\\deprecation.py#210\u001b\\\u001b[2m210\u001b[0m\u001b]8;;\u001b\\\n",
       "                             been deprecated since v0.\u001b[32m11.0\u001b[0m and is expected                   \n",
       "                             to be removed after v0.\u001b[32m13.0\u001b[0m. Use plot                           \n",
       "                             instead.                                                        \n"
      ]
     },
     "metadata": {},
     "output_type": "display_data"
    },
    {
     "name": "stderr",
     "output_type": "stream",
     "text": [
      "Animation 1: _MethodAnimation(ValueTracker):  18%|#8        | 54/300 [00:05<00:41,  5.88it/s]"
     ]
    },
    {
     "data": {
      "text/html": [
       "<pre style=\"white-space:pre;overflow-x:auto;line-height:normal;font-family:Menlo,'DejaVu Sans Mono',consolas,'Courier New',monospace\"><span style=\"color: #7fbfbf; text-decoration-color: #7fbfbf\">[01/31/22 22:10:41] </span><span style=\"color: #800000; text-decoration-color: #800000\">WARNING </span> The method CoordinateSystem.get_graph has     <a href=\"file://C:\\Users\\thoma\\AppData\\Local\\Programs\\Python\\Python39\\lib\\site-packages\\manim\\utils\\deprecation.py\"><span style=\"color: #7f7f7f; text-decoration-color: #7f7f7f\">deprecation.py</span></a><span style=\"color: #7f7f7f; text-decoration-color: #7f7f7f\">:</span><a href=\"file://C:\\Users\\thoma\\AppData\\Local\\Programs\\Python\\Python39\\lib\\site-packages\\manim\\utils\\deprecation.py#210\"><span style=\"color: #7f7f7f; text-decoration-color: #7f7f7f\">210</span></a>\n",
       "                             been deprecated since v0.<span style=\"color: #008000; text-decoration-color: #008000\">11.0</span> and is expected                   \n",
       "                             to be removed after v0.<span style=\"color: #008000; text-decoration-color: #008000\">13.0</span>. Use plot                           \n",
       "                             instead.                                                        \n",
       "</pre>\n"
      ],
      "text/plain": [
       "\u001b[2;36m[01/31/22 22:10:41]\u001b[0m\u001b[2;36m \u001b[0m\u001b[31mWARNING \u001b[0m The method CoordinateSystem.get_graph has     \u001b]8;id=629695;file://C:\\Users\\thoma\\AppData\\Local\\Programs\\Python\\Python39\\lib\\site-packages\\manim\\utils\\deprecation.py\u001b\\\u001b[2mdeprecation.py\u001b[0m\u001b]8;;\u001b\\\u001b[2m:\u001b[0m\u001b]8;id=419832;file://C:\\Users\\thoma\\AppData\\Local\\Programs\\Python\\Python39\\lib\\site-packages\\manim\\utils\\deprecation.py#210\u001b\\\u001b[2m210\u001b[0m\u001b]8;;\u001b\\\n",
       "                             been deprecated since v0.\u001b[32m11.0\u001b[0m and is expected                   \n",
       "                             to be removed after v0.\u001b[32m13.0\u001b[0m. Use plot                           \n",
       "                             instead.                                                        \n"
      ]
     },
     "metadata": {},
     "output_type": "display_data"
    },
    {
     "name": "stderr",
     "output_type": "stream",
     "text": [
      "Animation 1: _MethodAnimation(ValueTracker):  18%|#8        | 55/300 [00:05<00:41,  5.86it/s]"
     ]
    },
    {
     "data": {
      "text/html": [
       "<pre style=\"white-space:pre;overflow-x:auto;line-height:normal;font-family:Menlo,'DejaVu Sans Mono',consolas,'Courier New',monospace\"><span style=\"color: #7fbfbf; text-decoration-color: #7fbfbf\">                    </span><span style=\"color: #800000; text-decoration-color: #800000\">WARNING </span> The method CoordinateSystem.get_graph has     <a href=\"file://C:\\Users\\thoma\\AppData\\Local\\Programs\\Python\\Python39\\lib\\site-packages\\manim\\utils\\deprecation.py\"><span style=\"color: #7f7f7f; text-decoration-color: #7f7f7f\">deprecation.py</span></a><span style=\"color: #7f7f7f; text-decoration-color: #7f7f7f\">:</span><a href=\"file://C:\\Users\\thoma\\AppData\\Local\\Programs\\Python\\Python39\\lib\\site-packages\\manim\\utils\\deprecation.py#210\"><span style=\"color: #7f7f7f; text-decoration-color: #7f7f7f\">210</span></a>\n",
       "                             been deprecated since v0.<span style=\"color: #008000; text-decoration-color: #008000\">11.0</span> and is expected                   \n",
       "                             to be removed after v0.<span style=\"color: #008000; text-decoration-color: #008000\">13.0</span>. Use plot                           \n",
       "                             instead.                                                        \n",
       "</pre>\n"
      ],
      "text/plain": [
       "\u001b[2;36m                   \u001b[0m\u001b[2;36m \u001b[0m\u001b[31mWARNING \u001b[0m The method CoordinateSystem.get_graph has     \u001b]8;id=983949;file://C:\\Users\\thoma\\AppData\\Local\\Programs\\Python\\Python39\\lib\\site-packages\\manim\\utils\\deprecation.py\u001b\\\u001b[2mdeprecation.py\u001b[0m\u001b]8;;\u001b\\\u001b[2m:\u001b[0m\u001b]8;id=560837;file://C:\\Users\\thoma\\AppData\\Local\\Programs\\Python\\Python39\\lib\\site-packages\\manim\\utils\\deprecation.py#210\u001b\\\u001b[2m210\u001b[0m\u001b]8;;\u001b\\\n",
       "                             been deprecated since v0.\u001b[32m11.0\u001b[0m and is expected                   \n",
       "                             to be removed after v0.\u001b[32m13.0\u001b[0m. Use plot                           \n",
       "                             instead.                                                        \n"
      ]
     },
     "metadata": {},
     "output_type": "display_data"
    },
    {
     "name": "stderr",
     "output_type": "stream",
     "text": [
      "Animation 1: _MethodAnimation(ValueTracker):  19%|#8        | 56/300 [00:05<00:41,  5.86it/s]"
     ]
    },
    {
     "data": {
      "text/html": [
       "<pre style=\"white-space:pre;overflow-x:auto;line-height:normal;font-family:Menlo,'DejaVu Sans Mono',consolas,'Courier New',monospace\"><span style=\"color: #7fbfbf; text-decoration-color: #7fbfbf\">                    </span><span style=\"color: #800000; text-decoration-color: #800000\">WARNING </span> The method CoordinateSystem.get_graph has     <a href=\"file://C:\\Users\\thoma\\AppData\\Local\\Programs\\Python\\Python39\\lib\\site-packages\\manim\\utils\\deprecation.py\"><span style=\"color: #7f7f7f; text-decoration-color: #7f7f7f\">deprecation.py</span></a><span style=\"color: #7f7f7f; text-decoration-color: #7f7f7f\">:</span><a href=\"file://C:\\Users\\thoma\\AppData\\Local\\Programs\\Python\\Python39\\lib\\site-packages\\manim\\utils\\deprecation.py#210\"><span style=\"color: #7f7f7f; text-decoration-color: #7f7f7f\">210</span></a>\n",
       "                             been deprecated since v0.<span style=\"color: #008000; text-decoration-color: #008000\">11.0</span> and is expected                   \n",
       "                             to be removed after v0.<span style=\"color: #008000; text-decoration-color: #008000\">13.0</span>. Use plot                           \n",
       "                             instead.                                                        \n",
       "</pre>\n"
      ],
      "text/plain": [
       "\u001b[2;36m                   \u001b[0m\u001b[2;36m \u001b[0m\u001b[31mWARNING \u001b[0m The method CoordinateSystem.get_graph has     \u001b]8;id=430746;file://C:\\Users\\thoma\\AppData\\Local\\Programs\\Python\\Python39\\lib\\site-packages\\manim\\utils\\deprecation.py\u001b\\\u001b[2mdeprecation.py\u001b[0m\u001b]8;;\u001b\\\u001b[2m:\u001b[0m\u001b]8;id=372498;file://C:\\Users\\thoma\\AppData\\Local\\Programs\\Python\\Python39\\lib\\site-packages\\manim\\utils\\deprecation.py#210\u001b\\\u001b[2m210\u001b[0m\u001b]8;;\u001b\\\n",
       "                             been deprecated since v0.\u001b[32m11.0\u001b[0m and is expected                   \n",
       "                             to be removed after v0.\u001b[32m13.0\u001b[0m. Use plot                           \n",
       "                             instead.                                                        \n"
      ]
     },
     "metadata": {},
     "output_type": "display_data"
    },
    {
     "name": "stderr",
     "output_type": "stream",
     "text": [
      "Animation 1: _MethodAnimation(ValueTracker):  19%|#9        | 57/300 [00:05<00:44,  5.49it/s]"
     ]
    },
    {
     "data": {
      "text/html": [
       "<pre style=\"white-space:pre;overflow-x:auto;line-height:normal;font-family:Menlo,'DejaVu Sans Mono',consolas,'Courier New',monospace\"><span style=\"color: #7fbfbf; text-decoration-color: #7fbfbf\">                    </span><span style=\"color: #800000; text-decoration-color: #800000\">WARNING </span> The method CoordinateSystem.get_graph has     <a href=\"file://C:\\Users\\thoma\\AppData\\Local\\Programs\\Python\\Python39\\lib\\site-packages\\manim\\utils\\deprecation.py\"><span style=\"color: #7f7f7f; text-decoration-color: #7f7f7f\">deprecation.py</span></a><span style=\"color: #7f7f7f; text-decoration-color: #7f7f7f\">:</span><a href=\"file://C:\\Users\\thoma\\AppData\\Local\\Programs\\Python\\Python39\\lib\\site-packages\\manim\\utils\\deprecation.py#210\"><span style=\"color: #7f7f7f; text-decoration-color: #7f7f7f\">210</span></a>\n",
       "                             been deprecated since v0.<span style=\"color: #008000; text-decoration-color: #008000\">11.0</span> and is expected                   \n",
       "                             to be removed after v0.<span style=\"color: #008000; text-decoration-color: #008000\">13.0</span>. Use plot                           \n",
       "                             instead.                                                        \n",
       "</pre>\n"
      ],
      "text/plain": [
       "\u001b[2;36m                   \u001b[0m\u001b[2;36m \u001b[0m\u001b[31mWARNING \u001b[0m The method CoordinateSystem.get_graph has     \u001b]8;id=669552;file://C:\\Users\\thoma\\AppData\\Local\\Programs\\Python\\Python39\\lib\\site-packages\\manim\\utils\\deprecation.py\u001b\\\u001b[2mdeprecation.py\u001b[0m\u001b]8;;\u001b\\\u001b[2m:\u001b[0m\u001b]8;id=347370;file://C:\\Users\\thoma\\AppData\\Local\\Programs\\Python\\Python39\\lib\\site-packages\\manim\\utils\\deprecation.py#210\u001b\\\u001b[2m210\u001b[0m\u001b]8;;\u001b\\\n",
       "                             been deprecated since v0.\u001b[32m11.0\u001b[0m and is expected                   \n",
       "                             to be removed after v0.\u001b[32m13.0\u001b[0m. Use plot                           \n",
       "                             instead.                                                        \n"
      ]
     },
     "metadata": {},
     "output_type": "display_data"
    },
    {
     "name": "stderr",
     "output_type": "stream",
     "text": [
      "Animation 1: _MethodAnimation(ValueTracker):  19%|#9        | 58/300 [00:05<00:47,  5.10it/s]"
     ]
    },
    {
     "data": {
      "text/html": [
       "<pre style=\"white-space:pre;overflow-x:auto;line-height:normal;font-family:Menlo,'DejaVu Sans Mono',consolas,'Courier New',monospace\"><span style=\"color: #7fbfbf; text-decoration-color: #7fbfbf\">                    </span><span style=\"color: #800000; text-decoration-color: #800000\">WARNING </span> The method CoordinateSystem.get_graph has     <a href=\"file://C:\\Users\\thoma\\AppData\\Local\\Programs\\Python\\Python39\\lib\\site-packages\\manim\\utils\\deprecation.py\"><span style=\"color: #7f7f7f; text-decoration-color: #7f7f7f\">deprecation.py</span></a><span style=\"color: #7f7f7f; text-decoration-color: #7f7f7f\">:</span><a href=\"file://C:\\Users\\thoma\\AppData\\Local\\Programs\\Python\\Python39\\lib\\site-packages\\manim\\utils\\deprecation.py#210\"><span style=\"color: #7f7f7f; text-decoration-color: #7f7f7f\">210</span></a>\n",
       "                             been deprecated since v0.<span style=\"color: #008000; text-decoration-color: #008000\">11.0</span> and is expected                   \n",
       "                             to be removed after v0.<span style=\"color: #008000; text-decoration-color: #008000\">13.0</span>. Use plot                           \n",
       "                             instead.                                                        \n",
       "</pre>\n"
      ],
      "text/plain": [
       "\u001b[2;36m                   \u001b[0m\u001b[2;36m \u001b[0m\u001b[31mWARNING \u001b[0m The method CoordinateSystem.get_graph has     \u001b]8;id=922145;file://C:\\Users\\thoma\\AppData\\Local\\Programs\\Python\\Python39\\lib\\site-packages\\manim\\utils\\deprecation.py\u001b\\\u001b[2mdeprecation.py\u001b[0m\u001b]8;;\u001b\\\u001b[2m:\u001b[0m\u001b]8;id=237825;file://C:\\Users\\thoma\\AppData\\Local\\Programs\\Python\\Python39\\lib\\site-packages\\manim\\utils\\deprecation.py#210\u001b\\\u001b[2m210\u001b[0m\u001b]8;;\u001b\\\n",
       "                             been deprecated since v0.\u001b[32m11.0\u001b[0m and is expected                   \n",
       "                             to be removed after v0.\u001b[32m13.0\u001b[0m. Use plot                           \n",
       "                             instead.                                                        \n"
      ]
     },
     "metadata": {},
     "output_type": "display_data"
    },
    {
     "name": "stderr",
     "output_type": "stream",
     "text": [
      "Animation 1: _MethodAnimation(ValueTracker):  20%|#9        | 59/300 [00:06<00:48,  4.94it/s]"
     ]
    },
    {
     "data": {
      "text/html": [
       "<pre style=\"white-space:pre;overflow-x:auto;line-height:normal;font-family:Menlo,'DejaVu Sans Mono',consolas,'Courier New',monospace\"><span style=\"color: #7fbfbf; text-decoration-color: #7fbfbf\">[01/31/22 22:10:42] </span><span style=\"color: #800000; text-decoration-color: #800000\">WARNING </span> The method CoordinateSystem.get_graph has     <a href=\"file://C:\\Users\\thoma\\AppData\\Local\\Programs\\Python\\Python39\\lib\\site-packages\\manim\\utils\\deprecation.py\"><span style=\"color: #7f7f7f; text-decoration-color: #7f7f7f\">deprecation.py</span></a><span style=\"color: #7f7f7f; text-decoration-color: #7f7f7f\">:</span><a href=\"file://C:\\Users\\thoma\\AppData\\Local\\Programs\\Python\\Python39\\lib\\site-packages\\manim\\utils\\deprecation.py#210\"><span style=\"color: #7f7f7f; text-decoration-color: #7f7f7f\">210</span></a>\n",
       "                             been deprecated since v0.<span style=\"color: #008000; text-decoration-color: #008000\">11.0</span> and is expected                   \n",
       "                             to be removed after v0.<span style=\"color: #008000; text-decoration-color: #008000\">13.0</span>. Use plot                           \n",
       "                             instead.                                                        \n",
       "</pre>\n"
      ],
      "text/plain": [
       "\u001b[2;36m[01/31/22 22:10:42]\u001b[0m\u001b[2;36m \u001b[0m\u001b[31mWARNING \u001b[0m The method CoordinateSystem.get_graph has     \u001b]8;id=620466;file://C:\\Users\\thoma\\AppData\\Local\\Programs\\Python\\Python39\\lib\\site-packages\\manim\\utils\\deprecation.py\u001b\\\u001b[2mdeprecation.py\u001b[0m\u001b]8;;\u001b\\\u001b[2m:\u001b[0m\u001b]8;id=482215;file://C:\\Users\\thoma\\AppData\\Local\\Programs\\Python\\Python39\\lib\\site-packages\\manim\\utils\\deprecation.py#210\u001b\\\u001b[2m210\u001b[0m\u001b]8;;\u001b\\\n",
       "                             been deprecated since v0.\u001b[32m11.0\u001b[0m and is expected                   \n",
       "                             to be removed after v0.\u001b[32m13.0\u001b[0m. Use plot                           \n",
       "                             instead.                                                        \n"
      ]
     },
     "metadata": {},
     "output_type": "display_data"
    },
    {
     "name": "stderr",
     "output_type": "stream",
     "text": [
      "Animation 1: _MethodAnimation(ValueTracker):  20%|##        | 60/300 [00:06<00:46,  5.19it/s]"
     ]
    },
    {
     "data": {
      "text/html": [
       "<pre style=\"white-space:pre;overflow-x:auto;line-height:normal;font-family:Menlo,'DejaVu Sans Mono',consolas,'Courier New',monospace\"><span style=\"color: #7fbfbf; text-decoration-color: #7fbfbf\">                    </span><span style=\"color: #800000; text-decoration-color: #800000\">WARNING </span> The method CoordinateSystem.get_graph has     <a href=\"file://C:\\Users\\thoma\\AppData\\Local\\Programs\\Python\\Python39\\lib\\site-packages\\manim\\utils\\deprecation.py\"><span style=\"color: #7f7f7f; text-decoration-color: #7f7f7f\">deprecation.py</span></a><span style=\"color: #7f7f7f; text-decoration-color: #7f7f7f\">:</span><a href=\"file://C:\\Users\\thoma\\AppData\\Local\\Programs\\Python\\Python39\\lib\\site-packages\\manim\\utils\\deprecation.py#210\"><span style=\"color: #7f7f7f; text-decoration-color: #7f7f7f\">210</span></a>\n",
       "                             been deprecated since v0.<span style=\"color: #008000; text-decoration-color: #008000\">11.0</span> and is expected                   \n",
       "                             to be removed after v0.<span style=\"color: #008000; text-decoration-color: #008000\">13.0</span>. Use plot                           \n",
       "                             instead.                                                        \n",
       "</pre>\n"
      ],
      "text/plain": [
       "\u001b[2;36m                   \u001b[0m\u001b[2;36m \u001b[0m\u001b[31mWARNING \u001b[0m The method CoordinateSystem.get_graph has     \u001b]8;id=993373;file://C:\\Users\\thoma\\AppData\\Local\\Programs\\Python\\Python39\\lib\\site-packages\\manim\\utils\\deprecation.py\u001b\\\u001b[2mdeprecation.py\u001b[0m\u001b]8;;\u001b\\\u001b[2m:\u001b[0m\u001b]8;id=80547;file://C:\\Users\\thoma\\AppData\\Local\\Programs\\Python\\Python39\\lib\\site-packages\\manim\\utils\\deprecation.py#210\u001b\\\u001b[2m210\u001b[0m\u001b]8;;\u001b\\\n",
       "                             been deprecated since v0.\u001b[32m11.0\u001b[0m and is expected                   \n",
       "                             to be removed after v0.\u001b[32m13.0\u001b[0m. Use plot                           \n",
       "                             instead.                                                        \n"
      ]
     },
     "metadata": {},
     "output_type": "display_data"
    },
    {
     "name": "stderr",
     "output_type": "stream",
     "text": [
      "Animation 1: _MethodAnimation(ValueTracker):  20%|##        | 61/300 [00:06<00:44,  5.39it/s]"
     ]
    },
    {
     "data": {
      "text/html": [
       "<pre style=\"white-space:pre;overflow-x:auto;line-height:normal;font-family:Menlo,'DejaVu Sans Mono',consolas,'Courier New',monospace\"><span style=\"color: #7fbfbf; text-decoration-color: #7fbfbf\">                    </span><span style=\"color: #800000; text-decoration-color: #800000\">WARNING </span> The method CoordinateSystem.get_graph has     <a href=\"file://C:\\Users\\thoma\\AppData\\Local\\Programs\\Python\\Python39\\lib\\site-packages\\manim\\utils\\deprecation.py\"><span style=\"color: #7f7f7f; text-decoration-color: #7f7f7f\">deprecation.py</span></a><span style=\"color: #7f7f7f; text-decoration-color: #7f7f7f\">:</span><a href=\"file://C:\\Users\\thoma\\AppData\\Local\\Programs\\Python\\Python39\\lib\\site-packages\\manim\\utils\\deprecation.py#210\"><span style=\"color: #7f7f7f; text-decoration-color: #7f7f7f\">210</span></a>\n",
       "                             been deprecated since v0.<span style=\"color: #008000; text-decoration-color: #008000\">11.0</span> and is expected                   \n",
       "                             to be removed after v0.<span style=\"color: #008000; text-decoration-color: #008000\">13.0</span>. Use plot                           \n",
       "                             instead.                                                        \n",
       "</pre>\n"
      ],
      "text/plain": [
       "\u001b[2;36m                   \u001b[0m\u001b[2;36m \u001b[0m\u001b[31mWARNING \u001b[0m The method CoordinateSystem.get_graph has     \u001b]8;id=619887;file://C:\\Users\\thoma\\AppData\\Local\\Programs\\Python\\Python39\\lib\\site-packages\\manim\\utils\\deprecation.py\u001b\\\u001b[2mdeprecation.py\u001b[0m\u001b]8;;\u001b\\\u001b[2m:\u001b[0m\u001b]8;id=38598;file://C:\\Users\\thoma\\AppData\\Local\\Programs\\Python\\Python39\\lib\\site-packages\\manim\\utils\\deprecation.py#210\u001b\\\u001b[2m210\u001b[0m\u001b]8;;\u001b\\\n",
       "                             been deprecated since v0.\u001b[32m11.0\u001b[0m and is expected                   \n",
       "                             to be removed after v0.\u001b[32m13.0\u001b[0m. Use plot                           \n",
       "                             instead.                                                        \n"
      ]
     },
     "metadata": {},
     "output_type": "display_data"
    },
    {
     "name": "stderr",
     "output_type": "stream",
     "text": [
      "Animation 1: _MethodAnimation(ValueTracker):  21%|##        | 62/300 [00:06<00:43,  5.44it/s]"
     ]
    },
    {
     "data": {
      "text/html": [
       "<pre style=\"white-space:pre;overflow-x:auto;line-height:normal;font-family:Menlo,'DejaVu Sans Mono',consolas,'Courier New',monospace\"><span style=\"color: #7fbfbf; text-decoration-color: #7fbfbf\">                    </span><span style=\"color: #800000; text-decoration-color: #800000\">WARNING </span> The method CoordinateSystem.get_graph has     <a href=\"file://C:\\Users\\thoma\\AppData\\Local\\Programs\\Python\\Python39\\lib\\site-packages\\manim\\utils\\deprecation.py\"><span style=\"color: #7f7f7f; text-decoration-color: #7f7f7f\">deprecation.py</span></a><span style=\"color: #7f7f7f; text-decoration-color: #7f7f7f\">:</span><a href=\"file://C:\\Users\\thoma\\AppData\\Local\\Programs\\Python\\Python39\\lib\\site-packages\\manim\\utils\\deprecation.py#210\"><span style=\"color: #7f7f7f; text-decoration-color: #7f7f7f\">210</span></a>\n",
       "                             been deprecated since v0.<span style=\"color: #008000; text-decoration-color: #008000\">11.0</span> and is expected                   \n",
       "                             to be removed after v0.<span style=\"color: #008000; text-decoration-color: #008000\">13.0</span>. Use plot                           \n",
       "                             instead.                                                        \n",
       "</pre>\n"
      ],
      "text/plain": [
       "\u001b[2;36m                   \u001b[0m\u001b[2;36m \u001b[0m\u001b[31mWARNING \u001b[0m The method CoordinateSystem.get_graph has     \u001b]8;id=576718;file://C:\\Users\\thoma\\AppData\\Local\\Programs\\Python\\Python39\\lib\\site-packages\\manim\\utils\\deprecation.py\u001b\\\u001b[2mdeprecation.py\u001b[0m\u001b]8;;\u001b\\\u001b[2m:\u001b[0m\u001b]8;id=851794;file://C:\\Users\\thoma\\AppData\\Local\\Programs\\Python\\Python39\\lib\\site-packages\\manim\\utils\\deprecation.py#210\u001b\\\u001b[2m210\u001b[0m\u001b]8;;\u001b\\\n",
       "                             been deprecated since v0.\u001b[32m11.0\u001b[0m and is expected                   \n",
       "                             to be removed after v0.\u001b[32m13.0\u001b[0m. Use plot                           \n",
       "                             instead.                                                        \n"
      ]
     },
     "metadata": {},
     "output_type": "display_data"
    },
    {
     "name": "stderr",
     "output_type": "stream",
     "text": [
      "Animation 1: _MethodAnimation(ValueTracker):  21%|##1       | 63/300 [00:06<00:43,  5.41it/s]"
     ]
    },
    {
     "data": {
      "text/html": [
       "<pre style=\"white-space:pre;overflow-x:auto;line-height:normal;font-family:Menlo,'DejaVu Sans Mono',consolas,'Courier New',monospace\"><span style=\"color: #7fbfbf; text-decoration-color: #7fbfbf\">                    </span><span style=\"color: #800000; text-decoration-color: #800000\">WARNING </span> The method CoordinateSystem.get_graph has     <a href=\"file://C:\\Users\\thoma\\AppData\\Local\\Programs\\Python\\Python39\\lib\\site-packages\\manim\\utils\\deprecation.py\"><span style=\"color: #7f7f7f; text-decoration-color: #7f7f7f\">deprecation.py</span></a><span style=\"color: #7f7f7f; text-decoration-color: #7f7f7f\">:</span><a href=\"file://C:\\Users\\thoma\\AppData\\Local\\Programs\\Python\\Python39\\lib\\site-packages\\manim\\utils\\deprecation.py#210\"><span style=\"color: #7f7f7f; text-decoration-color: #7f7f7f\">210</span></a>\n",
       "                             been deprecated since v0.<span style=\"color: #008000; text-decoration-color: #008000\">11.0</span> and is expected                   \n",
       "                             to be removed after v0.<span style=\"color: #008000; text-decoration-color: #008000\">13.0</span>. Use plot                           \n",
       "                             instead.                                                        \n",
       "</pre>\n"
      ],
      "text/plain": [
       "\u001b[2;36m                   \u001b[0m\u001b[2;36m \u001b[0m\u001b[31mWARNING \u001b[0m The method CoordinateSystem.get_graph has     \u001b]8;id=815161;file://C:\\Users\\thoma\\AppData\\Local\\Programs\\Python\\Python39\\lib\\site-packages\\manim\\utils\\deprecation.py\u001b\\\u001b[2mdeprecation.py\u001b[0m\u001b]8;;\u001b\\\u001b[2m:\u001b[0m\u001b]8;id=361893;file://C:\\Users\\thoma\\AppData\\Local\\Programs\\Python\\Python39\\lib\\site-packages\\manim\\utils\\deprecation.py#210\u001b\\\u001b[2m210\u001b[0m\u001b]8;;\u001b\\\n",
       "                             been deprecated since v0.\u001b[32m11.0\u001b[0m and is expected                   \n",
       "                             to be removed after v0.\u001b[32m13.0\u001b[0m. Use plot                           \n",
       "                             instead.                                                        \n"
      ]
     },
     "metadata": {},
     "output_type": "display_data"
    },
    {
     "name": "stderr",
     "output_type": "stream",
     "text": [
      "Animation 1: _MethodAnimation(ValueTracker):  21%|##1       | 64/300 [00:07<00:43,  5.37it/s]"
     ]
    },
    {
     "data": {
      "text/html": [
       "<pre style=\"white-space:pre;overflow-x:auto;line-height:normal;font-family:Menlo,'DejaVu Sans Mono',consolas,'Courier New',monospace\"><span style=\"color: #7fbfbf; text-decoration-color: #7fbfbf\">[01/31/22 22:10:43] </span><span style=\"color: #800000; text-decoration-color: #800000\">WARNING </span> The method CoordinateSystem.get_graph has     <a href=\"file://C:\\Users\\thoma\\AppData\\Local\\Programs\\Python\\Python39\\lib\\site-packages\\manim\\utils\\deprecation.py\"><span style=\"color: #7f7f7f; text-decoration-color: #7f7f7f\">deprecation.py</span></a><span style=\"color: #7f7f7f; text-decoration-color: #7f7f7f\">:</span><a href=\"file://C:\\Users\\thoma\\AppData\\Local\\Programs\\Python\\Python39\\lib\\site-packages\\manim\\utils\\deprecation.py#210\"><span style=\"color: #7f7f7f; text-decoration-color: #7f7f7f\">210</span></a>\n",
       "                             been deprecated since v0.<span style=\"color: #008000; text-decoration-color: #008000\">11.0</span> and is expected                   \n",
       "                             to be removed after v0.<span style=\"color: #008000; text-decoration-color: #008000\">13.0</span>. Use plot                           \n",
       "                             instead.                                                        \n",
       "</pre>\n"
      ],
      "text/plain": [
       "\u001b[2;36m[01/31/22 22:10:43]\u001b[0m\u001b[2;36m \u001b[0m\u001b[31mWARNING \u001b[0m The method CoordinateSystem.get_graph has     \u001b]8;id=161586;file://C:\\Users\\thoma\\AppData\\Local\\Programs\\Python\\Python39\\lib\\site-packages\\manim\\utils\\deprecation.py\u001b\\\u001b[2mdeprecation.py\u001b[0m\u001b]8;;\u001b\\\u001b[2m:\u001b[0m\u001b]8;id=440524;file://C:\\Users\\thoma\\AppData\\Local\\Programs\\Python\\Python39\\lib\\site-packages\\manim\\utils\\deprecation.py#210\u001b\\\u001b[2m210\u001b[0m\u001b]8;;\u001b\\\n",
       "                             been deprecated since v0.\u001b[32m11.0\u001b[0m and is expected                   \n",
       "                             to be removed after v0.\u001b[32m13.0\u001b[0m. Use plot                           \n",
       "                             instead.                                                        \n"
      ]
     },
     "metadata": {},
     "output_type": "display_data"
    },
    {
     "name": "stderr",
     "output_type": "stream",
     "text": [
      "Animation 1: _MethodAnimation(ValueTracker):  22%|##1       | 65/300 [00:07<00:43,  5.39it/s]"
     ]
    },
    {
     "data": {
      "text/html": [
       "<pre style=\"white-space:pre;overflow-x:auto;line-height:normal;font-family:Menlo,'DejaVu Sans Mono',consolas,'Courier New',monospace\"><span style=\"color: #7fbfbf; text-decoration-color: #7fbfbf\">                    </span><span style=\"color: #800000; text-decoration-color: #800000\">WARNING </span> The method CoordinateSystem.get_graph has     <a href=\"file://C:\\Users\\thoma\\AppData\\Local\\Programs\\Python\\Python39\\lib\\site-packages\\manim\\utils\\deprecation.py\"><span style=\"color: #7f7f7f; text-decoration-color: #7f7f7f\">deprecation.py</span></a><span style=\"color: #7f7f7f; text-decoration-color: #7f7f7f\">:</span><a href=\"file://C:\\Users\\thoma\\AppData\\Local\\Programs\\Python\\Python39\\lib\\site-packages\\manim\\utils\\deprecation.py#210\"><span style=\"color: #7f7f7f; text-decoration-color: #7f7f7f\">210</span></a>\n",
       "                             been deprecated since v0.<span style=\"color: #008000; text-decoration-color: #008000\">11.0</span> and is expected                   \n",
       "                             to be removed after v0.<span style=\"color: #008000; text-decoration-color: #008000\">13.0</span>. Use plot                           \n",
       "                             instead.                                                        \n",
       "</pre>\n"
      ],
      "text/plain": [
       "\u001b[2;36m                   \u001b[0m\u001b[2;36m \u001b[0m\u001b[31mWARNING \u001b[0m The method CoordinateSystem.get_graph has     \u001b]8;id=432714;file://C:\\Users\\thoma\\AppData\\Local\\Programs\\Python\\Python39\\lib\\site-packages\\manim\\utils\\deprecation.py\u001b\\\u001b[2mdeprecation.py\u001b[0m\u001b]8;;\u001b\\\u001b[2m:\u001b[0m\u001b]8;id=460210;file://C:\\Users\\thoma\\AppData\\Local\\Programs\\Python\\Python39\\lib\\site-packages\\manim\\utils\\deprecation.py#210\u001b\\\u001b[2m210\u001b[0m\u001b]8;;\u001b\\\n",
       "                             been deprecated since v0.\u001b[32m11.0\u001b[0m and is expected                   \n",
       "                             to be removed after v0.\u001b[32m13.0\u001b[0m. Use plot                           \n",
       "                             instead.                                                        \n"
      ]
     },
     "metadata": {},
     "output_type": "display_data"
    },
    {
     "name": "stderr",
     "output_type": "stream",
     "text": [
      "Animation 1: _MethodAnimation(ValueTracker):  22%|##2       | 66/300 [00:07<00:43,  5.43it/s]"
     ]
    },
    {
     "data": {
      "text/html": [
       "<pre style=\"white-space:pre;overflow-x:auto;line-height:normal;font-family:Menlo,'DejaVu Sans Mono',consolas,'Courier New',monospace\"><span style=\"color: #7fbfbf; text-decoration-color: #7fbfbf\">                    </span><span style=\"color: #800000; text-decoration-color: #800000\">WARNING </span> The method CoordinateSystem.get_graph has     <a href=\"file://C:\\Users\\thoma\\AppData\\Local\\Programs\\Python\\Python39\\lib\\site-packages\\manim\\utils\\deprecation.py\"><span style=\"color: #7f7f7f; text-decoration-color: #7f7f7f\">deprecation.py</span></a><span style=\"color: #7f7f7f; text-decoration-color: #7f7f7f\">:</span><a href=\"file://C:\\Users\\thoma\\AppData\\Local\\Programs\\Python\\Python39\\lib\\site-packages\\manim\\utils\\deprecation.py#210\"><span style=\"color: #7f7f7f; text-decoration-color: #7f7f7f\">210</span></a>\n",
       "                             been deprecated since v0.<span style=\"color: #008000; text-decoration-color: #008000\">11.0</span> and is expected                   \n",
       "                             to be removed after v0.<span style=\"color: #008000; text-decoration-color: #008000\">13.0</span>. Use plot                           \n",
       "                             instead.                                                        \n",
       "</pre>\n"
      ],
      "text/plain": [
       "\u001b[2;36m                   \u001b[0m\u001b[2;36m \u001b[0m\u001b[31mWARNING \u001b[0m The method CoordinateSystem.get_graph has     \u001b]8;id=58888;file://C:\\Users\\thoma\\AppData\\Local\\Programs\\Python\\Python39\\lib\\site-packages\\manim\\utils\\deprecation.py\u001b\\\u001b[2mdeprecation.py\u001b[0m\u001b]8;;\u001b\\\u001b[2m:\u001b[0m\u001b]8;id=998192;file://C:\\Users\\thoma\\AppData\\Local\\Programs\\Python\\Python39\\lib\\site-packages\\manim\\utils\\deprecation.py#210\u001b\\\u001b[2m210\u001b[0m\u001b]8;;\u001b\\\n",
       "                             been deprecated since v0.\u001b[32m11.0\u001b[0m and is expected                   \n",
       "                             to be removed after v0.\u001b[32m13.0\u001b[0m. Use plot                           \n",
       "                             instead.                                                        \n"
      ]
     },
     "metadata": {},
     "output_type": "display_data"
    },
    {
     "name": "stderr",
     "output_type": "stream",
     "text": [
      "Animation 1: _MethodAnimation(ValueTracker):  22%|##2       | 67/300 [00:07<00:43,  5.36it/s]"
     ]
    },
    {
     "data": {
      "text/html": [
       "<pre style=\"white-space:pre;overflow-x:auto;line-height:normal;font-family:Menlo,'DejaVu Sans Mono',consolas,'Courier New',monospace\"><span style=\"color: #7fbfbf; text-decoration-color: #7fbfbf\">                    </span><span style=\"color: #800000; text-decoration-color: #800000\">WARNING </span> The method CoordinateSystem.get_graph has     <a href=\"file://C:\\Users\\thoma\\AppData\\Local\\Programs\\Python\\Python39\\lib\\site-packages\\manim\\utils\\deprecation.py\"><span style=\"color: #7f7f7f; text-decoration-color: #7f7f7f\">deprecation.py</span></a><span style=\"color: #7f7f7f; text-decoration-color: #7f7f7f\">:</span><a href=\"file://C:\\Users\\thoma\\AppData\\Local\\Programs\\Python\\Python39\\lib\\site-packages\\manim\\utils\\deprecation.py#210\"><span style=\"color: #7f7f7f; text-decoration-color: #7f7f7f\">210</span></a>\n",
       "                             been deprecated since v0.<span style=\"color: #008000; text-decoration-color: #008000\">11.0</span> and is expected                   \n",
       "                             to be removed after v0.<span style=\"color: #008000; text-decoration-color: #008000\">13.0</span>. Use plot                           \n",
       "                             instead.                                                        \n",
       "</pre>\n"
      ],
      "text/plain": [
       "\u001b[2;36m                   \u001b[0m\u001b[2;36m \u001b[0m\u001b[31mWARNING \u001b[0m The method CoordinateSystem.get_graph has     \u001b]8;id=405240;file://C:\\Users\\thoma\\AppData\\Local\\Programs\\Python\\Python39\\lib\\site-packages\\manim\\utils\\deprecation.py\u001b\\\u001b[2mdeprecation.py\u001b[0m\u001b]8;;\u001b\\\u001b[2m:\u001b[0m\u001b]8;id=817458;file://C:\\Users\\thoma\\AppData\\Local\\Programs\\Python\\Python39\\lib\\site-packages\\manim\\utils\\deprecation.py#210\u001b\\\u001b[2m210\u001b[0m\u001b]8;;\u001b\\\n",
       "                             been deprecated since v0.\u001b[32m11.0\u001b[0m and is expected                   \n",
       "                             to be removed after v0.\u001b[32m13.0\u001b[0m. Use plot                           \n",
       "                             instead.                                                        \n"
      ]
     },
     "metadata": {},
     "output_type": "display_data"
    },
    {
     "name": "stderr",
     "output_type": "stream",
     "text": [
      "Animation 1: _MethodAnimation(ValueTracker):  23%|##2       | 68/300 [00:07<00:46,  4.98it/s]"
     ]
    },
    {
     "data": {
      "text/html": [
       "<pre style=\"white-space:pre;overflow-x:auto;line-height:normal;font-family:Menlo,'DejaVu Sans Mono',consolas,'Courier New',monospace\"><span style=\"color: #7fbfbf; text-decoration-color: #7fbfbf\">                    </span><span style=\"color: #800000; text-decoration-color: #800000\">WARNING </span> The method CoordinateSystem.get_graph has     <a href=\"file://C:\\Users\\thoma\\AppData\\Local\\Programs\\Python\\Python39\\lib\\site-packages\\manim\\utils\\deprecation.py\"><span style=\"color: #7f7f7f; text-decoration-color: #7f7f7f\">deprecation.py</span></a><span style=\"color: #7f7f7f; text-decoration-color: #7f7f7f\">:</span><a href=\"file://C:\\Users\\thoma\\AppData\\Local\\Programs\\Python\\Python39\\lib\\site-packages\\manim\\utils\\deprecation.py#210\"><span style=\"color: #7f7f7f; text-decoration-color: #7f7f7f\">210</span></a>\n",
       "                             been deprecated since v0.<span style=\"color: #008000; text-decoration-color: #008000\">11.0</span> and is expected                   \n",
       "                             to be removed after v0.<span style=\"color: #008000; text-decoration-color: #008000\">13.0</span>. Use plot                           \n",
       "                             instead.                                                        \n",
       "</pre>\n"
      ],
      "text/plain": [
       "\u001b[2;36m                   \u001b[0m\u001b[2;36m \u001b[0m\u001b[31mWARNING \u001b[0m The method CoordinateSystem.get_graph has     \u001b]8;id=339103;file://C:\\Users\\thoma\\AppData\\Local\\Programs\\Python\\Python39\\lib\\site-packages\\manim\\utils\\deprecation.py\u001b\\\u001b[2mdeprecation.py\u001b[0m\u001b]8;;\u001b\\\u001b[2m:\u001b[0m\u001b]8;id=297245;file://C:\\Users\\thoma\\AppData\\Local\\Programs\\Python\\Python39\\lib\\site-packages\\manim\\utils\\deprecation.py#210\u001b\\\u001b[2m210\u001b[0m\u001b]8;;\u001b\\\n",
       "                             been deprecated since v0.\u001b[32m11.0\u001b[0m and is expected                   \n",
       "                             to be removed after v0.\u001b[32m13.0\u001b[0m. Use plot                           \n",
       "                             instead.                                                        \n"
      ]
     },
     "metadata": {},
     "output_type": "display_data"
    },
    {
     "name": "stderr",
     "output_type": "stream",
     "text": [
      "Animation 1: _MethodAnimation(ValueTracker):  23%|##3       | 69/300 [00:08<00:49,  4.68it/s]"
     ]
    },
    {
     "data": {
      "text/html": [
       "<pre style=\"white-space:pre;overflow-x:auto;line-height:normal;font-family:Menlo,'DejaVu Sans Mono',consolas,'Courier New',monospace\"><span style=\"color: #7fbfbf; text-decoration-color: #7fbfbf\">[01/31/22 22:10:44] </span><span style=\"color: #800000; text-decoration-color: #800000\">WARNING </span> The method CoordinateSystem.get_graph has     <a href=\"file://C:\\Users\\thoma\\AppData\\Local\\Programs\\Python\\Python39\\lib\\site-packages\\manim\\utils\\deprecation.py\"><span style=\"color: #7f7f7f; text-decoration-color: #7f7f7f\">deprecation.py</span></a><span style=\"color: #7f7f7f; text-decoration-color: #7f7f7f\">:</span><a href=\"file://C:\\Users\\thoma\\AppData\\Local\\Programs\\Python\\Python39\\lib\\site-packages\\manim\\utils\\deprecation.py#210\"><span style=\"color: #7f7f7f; text-decoration-color: #7f7f7f\">210</span></a>\n",
       "                             been deprecated since v0.<span style=\"color: #008000; text-decoration-color: #008000\">11.0</span> and is expected                   \n",
       "                             to be removed after v0.<span style=\"color: #008000; text-decoration-color: #008000\">13.0</span>. Use plot                           \n",
       "                             instead.                                                        \n",
       "</pre>\n"
      ],
      "text/plain": [
       "\u001b[2;36m[01/31/22 22:10:44]\u001b[0m\u001b[2;36m \u001b[0m\u001b[31mWARNING \u001b[0m The method CoordinateSystem.get_graph has     \u001b]8;id=804572;file://C:\\Users\\thoma\\AppData\\Local\\Programs\\Python\\Python39\\lib\\site-packages\\manim\\utils\\deprecation.py\u001b\\\u001b[2mdeprecation.py\u001b[0m\u001b]8;;\u001b\\\u001b[2m:\u001b[0m\u001b]8;id=383235;file://C:\\Users\\thoma\\AppData\\Local\\Programs\\Python\\Python39\\lib\\site-packages\\manim\\utils\\deprecation.py#210\u001b\\\u001b[2m210\u001b[0m\u001b]8;;\u001b\\\n",
       "                             been deprecated since v0.\u001b[32m11.0\u001b[0m and is expected                   \n",
       "                             to be removed after v0.\u001b[32m13.0\u001b[0m. Use plot                           \n",
       "                             instead.                                                        \n"
      ]
     },
     "metadata": {},
     "output_type": "display_data"
    },
    {
     "name": "stderr",
     "output_type": "stream",
     "text": [
      "Animation 1: _MethodAnimation(ValueTracker):  23%|##3       | 70/300 [00:08<00:49,  4.66it/s]"
     ]
    },
    {
     "data": {
      "text/html": [
       "<pre style=\"white-space:pre;overflow-x:auto;line-height:normal;font-family:Menlo,'DejaVu Sans Mono',consolas,'Courier New',monospace\"><span style=\"color: #7fbfbf; text-decoration-color: #7fbfbf\">                    </span><span style=\"color: #800000; text-decoration-color: #800000\">WARNING </span> The method CoordinateSystem.get_graph has     <a href=\"file://C:\\Users\\thoma\\AppData\\Local\\Programs\\Python\\Python39\\lib\\site-packages\\manim\\utils\\deprecation.py\"><span style=\"color: #7f7f7f; text-decoration-color: #7f7f7f\">deprecation.py</span></a><span style=\"color: #7f7f7f; text-decoration-color: #7f7f7f\">:</span><a href=\"file://C:\\Users\\thoma\\AppData\\Local\\Programs\\Python\\Python39\\lib\\site-packages\\manim\\utils\\deprecation.py#210\"><span style=\"color: #7f7f7f; text-decoration-color: #7f7f7f\">210</span></a>\n",
       "                             been deprecated since v0.<span style=\"color: #008000; text-decoration-color: #008000\">11.0</span> and is expected                   \n",
       "                             to be removed after v0.<span style=\"color: #008000; text-decoration-color: #008000\">13.0</span>. Use plot                           \n",
       "                             instead.                                                        \n",
       "</pre>\n"
      ],
      "text/plain": [
       "\u001b[2;36m                   \u001b[0m\u001b[2;36m \u001b[0m\u001b[31mWARNING \u001b[0m The method CoordinateSystem.get_graph has     \u001b]8;id=108894;file://C:\\Users\\thoma\\AppData\\Local\\Programs\\Python\\Python39\\lib\\site-packages\\manim\\utils\\deprecation.py\u001b\\\u001b[2mdeprecation.py\u001b[0m\u001b]8;;\u001b\\\u001b[2m:\u001b[0m\u001b]8;id=145479;file://C:\\Users\\thoma\\AppData\\Local\\Programs\\Python\\Python39\\lib\\site-packages\\manim\\utils\\deprecation.py#210\u001b\\\u001b[2m210\u001b[0m\u001b]8;;\u001b\\\n",
       "                             been deprecated since v0.\u001b[32m11.0\u001b[0m and is expected                   \n",
       "                             to be removed after v0.\u001b[32m13.0\u001b[0m. Use plot                           \n",
       "                             instead.                                                        \n"
      ]
     },
     "metadata": {},
     "output_type": "display_data"
    },
    {
     "name": "stderr",
     "output_type": "stream",
     "text": [
      "Animation 1: _MethodAnimation(ValueTracker):  24%|##3       | 71/300 [00:08<00:48,  4.68it/s]"
     ]
    },
    {
     "data": {
      "text/html": [
       "<pre style=\"white-space:pre;overflow-x:auto;line-height:normal;font-family:Menlo,'DejaVu Sans Mono',consolas,'Courier New',monospace\"><span style=\"color: #7fbfbf; text-decoration-color: #7fbfbf\">                    </span><span style=\"color: #800000; text-decoration-color: #800000\">WARNING </span> The method CoordinateSystem.get_graph has     <a href=\"file://C:\\Users\\thoma\\AppData\\Local\\Programs\\Python\\Python39\\lib\\site-packages\\manim\\utils\\deprecation.py\"><span style=\"color: #7f7f7f; text-decoration-color: #7f7f7f\">deprecation.py</span></a><span style=\"color: #7f7f7f; text-decoration-color: #7f7f7f\">:</span><a href=\"file://C:\\Users\\thoma\\AppData\\Local\\Programs\\Python\\Python39\\lib\\site-packages\\manim\\utils\\deprecation.py#210\"><span style=\"color: #7f7f7f; text-decoration-color: #7f7f7f\">210</span></a>\n",
       "                             been deprecated since v0.<span style=\"color: #008000; text-decoration-color: #008000\">11.0</span> and is expected                   \n",
       "                             to be removed after v0.<span style=\"color: #008000; text-decoration-color: #008000\">13.0</span>. Use plot                           \n",
       "                             instead.                                                        \n",
       "</pre>\n"
      ],
      "text/plain": [
       "\u001b[2;36m                   \u001b[0m\u001b[2;36m \u001b[0m\u001b[31mWARNING \u001b[0m The method CoordinateSystem.get_graph has     \u001b]8;id=335671;file://C:\\Users\\thoma\\AppData\\Local\\Programs\\Python\\Python39\\lib\\site-packages\\manim\\utils\\deprecation.py\u001b\\\u001b[2mdeprecation.py\u001b[0m\u001b]8;;\u001b\\\u001b[2m:\u001b[0m\u001b]8;id=415877;file://C:\\Users\\thoma\\AppData\\Local\\Programs\\Python\\Python39\\lib\\site-packages\\manim\\utils\\deprecation.py#210\u001b\\\u001b[2m210\u001b[0m\u001b]8;;\u001b\\\n",
       "                             been deprecated since v0.\u001b[32m11.0\u001b[0m and is expected                   \n",
       "                             to be removed after v0.\u001b[32m13.0\u001b[0m. Use plot                           \n",
       "                             instead.                                                        \n"
      ]
     },
     "metadata": {},
     "output_type": "display_data"
    },
    {
     "name": "stderr",
     "output_type": "stream",
     "text": [
      "Animation 1: _MethodAnimation(ValueTracker):  24%|##4       | 72/300 [00:08<00:52,  4.33it/s]"
     ]
    },
    {
     "data": {
      "text/html": [
       "<pre style=\"white-space:pre;overflow-x:auto;line-height:normal;font-family:Menlo,'DejaVu Sans Mono',consolas,'Courier New',monospace\"><span style=\"color: #7fbfbf; text-decoration-color: #7fbfbf\">                    </span><span style=\"color: #800000; text-decoration-color: #800000\">WARNING </span> The method CoordinateSystem.get_graph has     <a href=\"file://C:\\Users\\thoma\\AppData\\Local\\Programs\\Python\\Python39\\lib\\site-packages\\manim\\utils\\deprecation.py\"><span style=\"color: #7f7f7f; text-decoration-color: #7f7f7f\">deprecation.py</span></a><span style=\"color: #7f7f7f; text-decoration-color: #7f7f7f\">:</span><a href=\"file://C:\\Users\\thoma\\AppData\\Local\\Programs\\Python\\Python39\\lib\\site-packages\\manim\\utils\\deprecation.py#210\"><span style=\"color: #7f7f7f; text-decoration-color: #7f7f7f\">210</span></a>\n",
       "                             been deprecated since v0.<span style=\"color: #008000; text-decoration-color: #008000\">11.0</span> and is expected                   \n",
       "                             to be removed after v0.<span style=\"color: #008000; text-decoration-color: #008000\">13.0</span>. Use plot                           \n",
       "                             instead.                                                        \n",
       "</pre>\n"
      ],
      "text/plain": [
       "\u001b[2;36m                   \u001b[0m\u001b[2;36m \u001b[0m\u001b[31mWARNING \u001b[0m The method CoordinateSystem.get_graph has     \u001b]8;id=211965;file://C:\\Users\\thoma\\AppData\\Local\\Programs\\Python\\Python39\\lib\\site-packages\\manim\\utils\\deprecation.py\u001b\\\u001b[2mdeprecation.py\u001b[0m\u001b]8;;\u001b\\\u001b[2m:\u001b[0m\u001b]8;id=135839;file://C:\\Users\\thoma\\AppData\\Local\\Programs\\Python\\Python39\\lib\\site-packages\\manim\\utils\\deprecation.py#210\u001b\\\u001b[2m210\u001b[0m\u001b]8;;\u001b\\\n",
       "                             been deprecated since v0.\u001b[32m11.0\u001b[0m and is expected                   \n",
       "                             to be removed after v0.\u001b[32m13.0\u001b[0m. Use plot                           \n",
       "                             instead.                                                        \n"
      ]
     },
     "metadata": {},
     "output_type": "display_data"
    },
    {
     "name": "stderr",
     "output_type": "stream",
     "text": [
      "Animation 1: _MethodAnimation(ValueTracker):  24%|##4       | 73/300 [00:08<00:52,  4.30it/s]"
     ]
    },
    {
     "data": {
      "text/html": [
       "<pre style=\"white-space:pre;overflow-x:auto;line-height:normal;font-family:Menlo,'DejaVu Sans Mono',consolas,'Courier New',monospace\"><span style=\"color: #7fbfbf; text-decoration-color: #7fbfbf\">[01/31/22 22:10:45] </span><span style=\"color: #800000; text-decoration-color: #800000\">WARNING </span> The method CoordinateSystem.get_graph has     <a href=\"file://C:\\Users\\thoma\\AppData\\Local\\Programs\\Python\\Python39\\lib\\site-packages\\manim\\utils\\deprecation.py\"><span style=\"color: #7f7f7f; text-decoration-color: #7f7f7f\">deprecation.py</span></a><span style=\"color: #7f7f7f; text-decoration-color: #7f7f7f\">:</span><a href=\"file://C:\\Users\\thoma\\AppData\\Local\\Programs\\Python\\Python39\\lib\\site-packages\\manim\\utils\\deprecation.py#210\"><span style=\"color: #7f7f7f; text-decoration-color: #7f7f7f\">210</span></a>\n",
       "                             been deprecated since v0.<span style=\"color: #008000; text-decoration-color: #008000\">11.0</span> and is expected                   \n",
       "                             to be removed after v0.<span style=\"color: #008000; text-decoration-color: #008000\">13.0</span>. Use plot                           \n",
       "                             instead.                                                        \n",
       "</pre>\n"
      ],
      "text/plain": [
       "\u001b[2;36m[01/31/22 22:10:45]\u001b[0m\u001b[2;36m \u001b[0m\u001b[31mWARNING \u001b[0m The method CoordinateSystem.get_graph has     \u001b]8;id=490974;file://C:\\Users\\thoma\\AppData\\Local\\Programs\\Python\\Python39\\lib\\site-packages\\manim\\utils\\deprecation.py\u001b\\\u001b[2mdeprecation.py\u001b[0m\u001b]8;;\u001b\\\u001b[2m:\u001b[0m\u001b]8;id=373010;file://C:\\Users\\thoma\\AppData\\Local\\Programs\\Python\\Python39\\lib\\site-packages\\manim\\utils\\deprecation.py#210\u001b\\\u001b[2m210\u001b[0m\u001b]8;;\u001b\\\n",
       "                             been deprecated since v0.\u001b[32m11.0\u001b[0m and is expected                   \n",
       "                             to be removed after v0.\u001b[32m13.0\u001b[0m. Use plot                           \n",
       "                             instead.                                                        \n"
      ]
     },
     "metadata": {},
     "output_type": "display_data"
    },
    {
     "name": "stderr",
     "output_type": "stream",
     "text": [
      "Animation 1: _MethodAnimation(ValueTracker):  25%|##4       | 74/300 [00:09<00:56,  3.97it/s]"
     ]
    },
    {
     "data": {
      "text/html": [
       "<pre style=\"white-space:pre;overflow-x:auto;line-height:normal;font-family:Menlo,'DejaVu Sans Mono',consolas,'Courier New',monospace\"><span style=\"color: #7fbfbf; text-decoration-color: #7fbfbf\">                    </span><span style=\"color: #800000; text-decoration-color: #800000\">WARNING </span> The method CoordinateSystem.get_graph has     <a href=\"file://C:\\Users\\thoma\\AppData\\Local\\Programs\\Python\\Python39\\lib\\site-packages\\manim\\utils\\deprecation.py\"><span style=\"color: #7f7f7f; text-decoration-color: #7f7f7f\">deprecation.py</span></a><span style=\"color: #7f7f7f; text-decoration-color: #7f7f7f\">:</span><a href=\"file://C:\\Users\\thoma\\AppData\\Local\\Programs\\Python\\Python39\\lib\\site-packages\\manim\\utils\\deprecation.py#210\"><span style=\"color: #7f7f7f; text-decoration-color: #7f7f7f\">210</span></a>\n",
       "                             been deprecated since v0.<span style=\"color: #008000; text-decoration-color: #008000\">11.0</span> and is expected                   \n",
       "                             to be removed after v0.<span style=\"color: #008000; text-decoration-color: #008000\">13.0</span>. Use plot                           \n",
       "                             instead.                                                        \n",
       "</pre>\n"
      ],
      "text/plain": [
       "\u001b[2;36m                   \u001b[0m\u001b[2;36m \u001b[0m\u001b[31mWARNING \u001b[0m The method CoordinateSystem.get_graph has     \u001b]8;id=620521;file://C:\\Users\\thoma\\AppData\\Local\\Programs\\Python\\Python39\\lib\\site-packages\\manim\\utils\\deprecation.py\u001b\\\u001b[2mdeprecation.py\u001b[0m\u001b]8;;\u001b\\\u001b[2m:\u001b[0m\u001b]8;id=59586;file://C:\\Users\\thoma\\AppData\\Local\\Programs\\Python\\Python39\\lib\\site-packages\\manim\\utils\\deprecation.py#210\u001b\\\u001b[2m210\u001b[0m\u001b]8;;\u001b\\\n",
       "                             been deprecated since v0.\u001b[32m11.0\u001b[0m and is expected                   \n",
       "                             to be removed after v0.\u001b[32m13.0\u001b[0m. Use plot                           \n",
       "                             instead.                                                        \n"
      ]
     },
     "metadata": {},
     "output_type": "display_data"
    },
    {
     "name": "stderr",
     "output_type": "stream",
     "text": [
      "Animation 1: _MethodAnimation(ValueTracker):  25%|##5       | 75/300 [00:09<01:10,  3.18it/s]"
     ]
    },
    {
     "data": {
      "text/html": [
       "<pre style=\"white-space:pre;overflow-x:auto;line-height:normal;font-family:Menlo,'DejaVu Sans Mono',consolas,'Courier New',monospace\"><span style=\"color: #7fbfbf; text-decoration-color: #7fbfbf\">                    </span><span style=\"color: #800000; text-decoration-color: #800000\">WARNING </span> The method CoordinateSystem.get_graph has     <a href=\"file://C:\\Users\\thoma\\AppData\\Local\\Programs\\Python\\Python39\\lib\\site-packages\\manim\\utils\\deprecation.py\"><span style=\"color: #7f7f7f; text-decoration-color: #7f7f7f\">deprecation.py</span></a><span style=\"color: #7f7f7f; text-decoration-color: #7f7f7f\">:</span><a href=\"file://C:\\Users\\thoma\\AppData\\Local\\Programs\\Python\\Python39\\lib\\site-packages\\manim\\utils\\deprecation.py#210\"><span style=\"color: #7f7f7f; text-decoration-color: #7f7f7f\">210</span></a>\n",
       "                             been deprecated since v0.<span style=\"color: #008000; text-decoration-color: #008000\">11.0</span> and is expected                   \n",
       "                             to be removed after v0.<span style=\"color: #008000; text-decoration-color: #008000\">13.0</span>. Use plot                           \n",
       "                             instead.                                                        \n",
       "</pre>\n"
      ],
      "text/plain": [
       "\u001b[2;36m                   \u001b[0m\u001b[2;36m \u001b[0m\u001b[31mWARNING \u001b[0m The method CoordinateSystem.get_graph has     \u001b]8;id=900066;file://C:\\Users\\thoma\\AppData\\Local\\Programs\\Python\\Python39\\lib\\site-packages\\manim\\utils\\deprecation.py\u001b\\\u001b[2mdeprecation.py\u001b[0m\u001b]8;;\u001b\\\u001b[2m:\u001b[0m\u001b]8;id=396214;file://C:\\Users\\thoma\\AppData\\Local\\Programs\\Python\\Python39\\lib\\site-packages\\manim\\utils\\deprecation.py#210\u001b\\\u001b[2m210\u001b[0m\u001b]8;;\u001b\\\n",
       "                             been deprecated since v0.\u001b[32m11.0\u001b[0m and is expected                   \n",
       "                             to be removed after v0.\u001b[32m13.0\u001b[0m. Use plot                           \n",
       "                             instead.                                                        \n"
      ]
     },
     "metadata": {},
     "output_type": "display_data"
    },
    {
     "name": "stderr",
     "output_type": "stream",
     "text": [
      "Animation 1: _MethodAnimation(ValueTracker):  25%|##5       | 76/300 [00:10<01:11,  3.15it/s]"
     ]
    },
    {
     "data": {
      "text/html": [
       "<pre style=\"white-space:pre;overflow-x:auto;line-height:normal;font-family:Menlo,'DejaVu Sans Mono',consolas,'Courier New',monospace\"><span style=\"color: #7fbfbf; text-decoration-color: #7fbfbf\">[01/31/22 22:10:46] </span><span style=\"color: #800000; text-decoration-color: #800000\">WARNING </span> The method CoordinateSystem.get_graph has     <a href=\"file://C:\\Users\\thoma\\AppData\\Local\\Programs\\Python\\Python39\\lib\\site-packages\\manim\\utils\\deprecation.py\"><span style=\"color: #7f7f7f; text-decoration-color: #7f7f7f\">deprecation.py</span></a><span style=\"color: #7f7f7f; text-decoration-color: #7f7f7f\">:</span><a href=\"file://C:\\Users\\thoma\\AppData\\Local\\Programs\\Python\\Python39\\lib\\site-packages\\manim\\utils\\deprecation.py#210\"><span style=\"color: #7f7f7f; text-decoration-color: #7f7f7f\">210</span></a>\n",
       "                             been deprecated since v0.<span style=\"color: #008000; text-decoration-color: #008000\">11.0</span> and is expected                   \n",
       "                             to be removed after v0.<span style=\"color: #008000; text-decoration-color: #008000\">13.0</span>. Use plot                           \n",
       "                             instead.                                                        \n",
       "</pre>\n"
      ],
      "text/plain": [
       "\u001b[2;36m[01/31/22 22:10:46]\u001b[0m\u001b[2;36m \u001b[0m\u001b[31mWARNING \u001b[0m The method CoordinateSystem.get_graph has     \u001b]8;id=359478;file://C:\\Users\\thoma\\AppData\\Local\\Programs\\Python\\Python39\\lib\\site-packages\\manim\\utils\\deprecation.py\u001b\\\u001b[2mdeprecation.py\u001b[0m\u001b]8;;\u001b\\\u001b[2m:\u001b[0m\u001b]8;id=854927;file://C:\\Users\\thoma\\AppData\\Local\\Programs\\Python\\Python39\\lib\\site-packages\\manim\\utils\\deprecation.py#210\u001b\\\u001b[2m210\u001b[0m\u001b]8;;\u001b\\\n",
       "                             been deprecated since v0.\u001b[32m11.0\u001b[0m and is expected                   \n",
       "                             to be removed after v0.\u001b[32m13.0\u001b[0m. Use plot                           \n",
       "                             instead.                                                        \n"
      ]
     },
     "metadata": {},
     "output_type": "display_data"
    },
    {
     "name": "stderr",
     "output_type": "stream",
     "text": [
      "Animation 1: _MethodAnimation(ValueTracker):  26%|##5       | 77/300 [00:10<01:08,  3.28it/s]"
     ]
    },
    {
     "data": {
      "text/html": [
       "<pre style=\"white-space:pre;overflow-x:auto;line-height:normal;font-family:Menlo,'DejaVu Sans Mono',consolas,'Courier New',monospace\"><span style=\"color: #7fbfbf; text-decoration-color: #7fbfbf\">                    </span><span style=\"color: #800000; text-decoration-color: #800000\">WARNING </span> The method CoordinateSystem.get_graph has     <a href=\"file://C:\\Users\\thoma\\AppData\\Local\\Programs\\Python\\Python39\\lib\\site-packages\\manim\\utils\\deprecation.py\"><span style=\"color: #7f7f7f; text-decoration-color: #7f7f7f\">deprecation.py</span></a><span style=\"color: #7f7f7f; text-decoration-color: #7f7f7f\">:</span><a href=\"file://C:\\Users\\thoma\\AppData\\Local\\Programs\\Python\\Python39\\lib\\site-packages\\manim\\utils\\deprecation.py#210\"><span style=\"color: #7f7f7f; text-decoration-color: #7f7f7f\">210</span></a>\n",
       "                             been deprecated since v0.<span style=\"color: #008000; text-decoration-color: #008000\">11.0</span> and is expected                   \n",
       "                             to be removed after v0.<span style=\"color: #008000; text-decoration-color: #008000\">13.0</span>. Use plot                           \n",
       "                             instead.                                                        \n",
       "</pre>\n"
      ],
      "text/plain": [
       "\u001b[2;36m                   \u001b[0m\u001b[2;36m \u001b[0m\u001b[31mWARNING \u001b[0m The method CoordinateSystem.get_graph has     \u001b]8;id=421766;file://C:\\Users\\thoma\\AppData\\Local\\Programs\\Python\\Python39\\lib\\site-packages\\manim\\utils\\deprecation.py\u001b\\\u001b[2mdeprecation.py\u001b[0m\u001b]8;;\u001b\\\u001b[2m:\u001b[0m\u001b]8;id=409074;file://C:\\Users\\thoma\\AppData\\Local\\Programs\\Python\\Python39\\lib\\site-packages\\manim\\utils\\deprecation.py#210\u001b\\\u001b[2m210\u001b[0m\u001b]8;;\u001b\\\n",
       "                             been deprecated since v0.\u001b[32m11.0\u001b[0m and is expected                   \n",
       "                             to be removed after v0.\u001b[32m13.0\u001b[0m. Use plot                           \n",
       "                             instead.                                                        \n"
      ]
     },
     "metadata": {},
     "output_type": "display_data"
    },
    {
     "name": "stderr",
     "output_type": "stream",
     "text": [
      "Animation 1: _MethodAnimation(ValueTracker):  26%|##6       | 78/300 [00:10<01:07,  3.27it/s]"
     ]
    },
    {
     "data": {
      "text/html": [
       "<pre style=\"white-space:pre;overflow-x:auto;line-height:normal;font-family:Menlo,'DejaVu Sans Mono',consolas,'Courier New',monospace\"><span style=\"color: #7fbfbf; text-decoration-color: #7fbfbf\">                    </span><span style=\"color: #800000; text-decoration-color: #800000\">WARNING </span> The method CoordinateSystem.get_graph has     <a href=\"file://C:\\Users\\thoma\\AppData\\Local\\Programs\\Python\\Python39\\lib\\site-packages\\manim\\utils\\deprecation.py\"><span style=\"color: #7f7f7f; text-decoration-color: #7f7f7f\">deprecation.py</span></a><span style=\"color: #7f7f7f; text-decoration-color: #7f7f7f\">:</span><a href=\"file://C:\\Users\\thoma\\AppData\\Local\\Programs\\Python\\Python39\\lib\\site-packages\\manim\\utils\\deprecation.py#210\"><span style=\"color: #7f7f7f; text-decoration-color: #7f7f7f\">210</span></a>\n",
       "                             been deprecated since v0.<span style=\"color: #008000; text-decoration-color: #008000\">11.0</span> and is expected                   \n",
       "                             to be removed after v0.<span style=\"color: #008000; text-decoration-color: #008000\">13.0</span>. Use plot                           \n",
       "                             instead.                                                        \n",
       "</pre>\n"
      ],
      "text/plain": [
       "\u001b[2;36m                   \u001b[0m\u001b[2;36m \u001b[0m\u001b[31mWARNING \u001b[0m The method CoordinateSystem.get_graph has     \u001b]8;id=493571;file://C:\\Users\\thoma\\AppData\\Local\\Programs\\Python\\Python39\\lib\\site-packages\\manim\\utils\\deprecation.py\u001b\\\u001b[2mdeprecation.py\u001b[0m\u001b]8;;\u001b\\\u001b[2m:\u001b[0m\u001b]8;id=735546;file://C:\\Users\\thoma\\AppData\\Local\\Programs\\Python\\Python39\\lib\\site-packages\\manim\\utils\\deprecation.py#210\u001b\\\u001b[2m210\u001b[0m\u001b]8;;\u001b\\\n",
       "                             been deprecated since v0.\u001b[32m11.0\u001b[0m and is expected                   \n",
       "                             to be removed after v0.\u001b[32m13.0\u001b[0m. Use plot                           \n",
       "                             instead.                                                        \n"
      ]
     },
     "metadata": {},
     "output_type": "display_data"
    },
    {
     "name": "stderr",
     "output_type": "stream",
     "text": [
      "Animation 1: _MethodAnimation(ValueTracker):  26%|##6       | 79/300 [00:10<01:09,  3.17it/s]"
     ]
    },
    {
     "data": {
      "text/html": [
       "<pre style=\"white-space:pre;overflow-x:auto;line-height:normal;font-family:Menlo,'DejaVu Sans Mono',consolas,'Courier New',monospace\"><span style=\"color: #7fbfbf; text-decoration-color: #7fbfbf\">[01/31/22 22:10:47] </span><span style=\"color: #800000; text-decoration-color: #800000\">WARNING </span> The method CoordinateSystem.get_graph has     <a href=\"file://C:\\Users\\thoma\\AppData\\Local\\Programs\\Python\\Python39\\lib\\site-packages\\manim\\utils\\deprecation.py\"><span style=\"color: #7f7f7f; text-decoration-color: #7f7f7f\">deprecation.py</span></a><span style=\"color: #7f7f7f; text-decoration-color: #7f7f7f\">:</span><a href=\"file://C:\\Users\\thoma\\AppData\\Local\\Programs\\Python\\Python39\\lib\\site-packages\\manim\\utils\\deprecation.py#210\"><span style=\"color: #7f7f7f; text-decoration-color: #7f7f7f\">210</span></a>\n",
       "                             been deprecated since v0.<span style=\"color: #008000; text-decoration-color: #008000\">11.0</span> and is expected                   \n",
       "                             to be removed after v0.<span style=\"color: #008000; text-decoration-color: #008000\">13.0</span>. Use plot                           \n",
       "                             instead.                                                        \n",
       "</pre>\n"
      ],
      "text/plain": [
       "\u001b[2;36m[01/31/22 22:10:47]\u001b[0m\u001b[2;36m \u001b[0m\u001b[31mWARNING \u001b[0m The method CoordinateSystem.get_graph has     \u001b]8;id=126546;file://C:\\Users\\thoma\\AppData\\Local\\Programs\\Python\\Python39\\lib\\site-packages\\manim\\utils\\deprecation.py\u001b\\\u001b[2mdeprecation.py\u001b[0m\u001b]8;;\u001b\\\u001b[2m:\u001b[0m\u001b]8;id=412303;file://C:\\Users\\thoma\\AppData\\Local\\Programs\\Python\\Python39\\lib\\site-packages\\manim\\utils\\deprecation.py#210\u001b\\\u001b[2m210\u001b[0m\u001b]8;;\u001b\\\n",
       "                             been deprecated since v0.\u001b[32m11.0\u001b[0m and is expected                   \n",
       "                             to be removed after v0.\u001b[32m13.0\u001b[0m. Use plot                           \n",
       "                             instead.                                                        \n"
      ]
     },
     "metadata": {},
     "output_type": "display_data"
    },
    {
     "name": "stderr",
     "output_type": "stream",
     "text": [
      "Animation 1: _MethodAnimation(ValueTracker):  27%|##6       | 80/300 [00:11<01:17,  2.85it/s]"
     ]
    },
    {
     "data": {
      "text/html": [
       "<pre style=\"white-space:pre;overflow-x:auto;line-height:normal;font-family:Menlo,'DejaVu Sans Mono',consolas,'Courier New',monospace\"><span style=\"color: #7fbfbf; text-decoration-color: #7fbfbf\">                    </span><span style=\"color: #800000; text-decoration-color: #800000\">WARNING </span> The method CoordinateSystem.get_graph has     <a href=\"file://C:\\Users\\thoma\\AppData\\Local\\Programs\\Python\\Python39\\lib\\site-packages\\manim\\utils\\deprecation.py\"><span style=\"color: #7f7f7f; text-decoration-color: #7f7f7f\">deprecation.py</span></a><span style=\"color: #7f7f7f; text-decoration-color: #7f7f7f\">:</span><a href=\"file://C:\\Users\\thoma\\AppData\\Local\\Programs\\Python\\Python39\\lib\\site-packages\\manim\\utils\\deprecation.py#210\"><span style=\"color: #7f7f7f; text-decoration-color: #7f7f7f\">210</span></a>\n",
       "                             been deprecated since v0.<span style=\"color: #008000; text-decoration-color: #008000\">11.0</span> and is expected                   \n",
       "                             to be removed after v0.<span style=\"color: #008000; text-decoration-color: #008000\">13.0</span>. Use plot                           \n",
       "                             instead.                                                        \n",
       "</pre>\n"
      ],
      "text/plain": [
       "\u001b[2;36m                   \u001b[0m\u001b[2;36m \u001b[0m\u001b[31mWARNING \u001b[0m The method CoordinateSystem.get_graph has     \u001b]8;id=840786;file://C:\\Users\\thoma\\AppData\\Local\\Programs\\Python\\Python39\\lib\\site-packages\\manim\\utils\\deprecation.py\u001b\\\u001b[2mdeprecation.py\u001b[0m\u001b]8;;\u001b\\\u001b[2m:\u001b[0m\u001b]8;id=962224;file://C:\\Users\\thoma\\AppData\\Local\\Programs\\Python\\Python39\\lib\\site-packages\\manim\\utils\\deprecation.py#210\u001b\\\u001b[2m210\u001b[0m\u001b]8;;\u001b\\\n",
       "                             been deprecated since v0.\u001b[32m11.0\u001b[0m and is expected                   \n",
       "                             to be removed after v0.\u001b[32m13.0\u001b[0m. Use plot                           \n",
       "                             instead.                                                        \n"
      ]
     },
     "metadata": {},
     "output_type": "display_data"
    },
    {
     "name": "stderr",
     "output_type": "stream",
     "text": [
      "Animation 1: _MethodAnimation(ValueTracker):  27%|##7       | 81/300 [00:11<01:16,  2.87it/s]"
     ]
    },
    {
     "data": {
      "text/html": [
       "<pre style=\"white-space:pre;overflow-x:auto;line-height:normal;font-family:Menlo,'DejaVu Sans Mono',consolas,'Courier New',monospace\"><span style=\"color: #7fbfbf; text-decoration-color: #7fbfbf\">                    </span><span style=\"color: #800000; text-decoration-color: #800000\">WARNING </span> The method CoordinateSystem.get_graph has     <a href=\"file://C:\\Users\\thoma\\AppData\\Local\\Programs\\Python\\Python39\\lib\\site-packages\\manim\\utils\\deprecation.py\"><span style=\"color: #7f7f7f; text-decoration-color: #7f7f7f\">deprecation.py</span></a><span style=\"color: #7f7f7f; text-decoration-color: #7f7f7f\">:</span><a href=\"file://C:\\Users\\thoma\\AppData\\Local\\Programs\\Python\\Python39\\lib\\site-packages\\manim\\utils\\deprecation.py#210\"><span style=\"color: #7f7f7f; text-decoration-color: #7f7f7f\">210</span></a>\n",
       "                             been deprecated since v0.<span style=\"color: #008000; text-decoration-color: #008000\">11.0</span> and is expected                   \n",
       "                             to be removed after v0.<span style=\"color: #008000; text-decoration-color: #008000\">13.0</span>. Use plot                           \n",
       "                             instead.                                                        \n",
       "</pre>\n"
      ],
      "text/plain": [
       "\u001b[2;36m                   \u001b[0m\u001b[2;36m \u001b[0m\u001b[31mWARNING \u001b[0m The method CoordinateSystem.get_graph has     \u001b]8;id=167973;file://C:\\Users\\thoma\\AppData\\Local\\Programs\\Python\\Python39\\lib\\site-packages\\manim\\utils\\deprecation.py\u001b\\\u001b[2mdeprecation.py\u001b[0m\u001b]8;;\u001b\\\u001b[2m:\u001b[0m\u001b]8;id=321020;file://C:\\Users\\thoma\\AppData\\Local\\Programs\\Python\\Python39\\lib\\site-packages\\manim\\utils\\deprecation.py#210\u001b\\\u001b[2m210\u001b[0m\u001b]8;;\u001b\\\n",
       "                             been deprecated since v0.\u001b[32m11.0\u001b[0m and is expected                   \n",
       "                             to be removed after v0.\u001b[32m13.0\u001b[0m. Use plot                           \n",
       "                             instead.                                                        \n"
      ]
     },
     "metadata": {},
     "output_type": "display_data"
    },
    {
     "name": "stderr",
     "output_type": "stream",
     "text": [
      "Animation 1: _MethodAnimation(ValueTracker):  27%|##7       | 82/300 [00:12<01:13,  2.97it/s]"
     ]
    },
    {
     "data": {
      "text/html": [
       "<pre style=\"white-space:pre;overflow-x:auto;line-height:normal;font-family:Menlo,'DejaVu Sans Mono',consolas,'Courier New',monospace\"><span style=\"color: #7fbfbf; text-decoration-color: #7fbfbf\">[01/31/22 22:10:48] </span><span style=\"color: #800000; text-decoration-color: #800000\">WARNING </span> The method CoordinateSystem.get_graph has     <a href=\"file://C:\\Users\\thoma\\AppData\\Local\\Programs\\Python\\Python39\\lib\\site-packages\\manim\\utils\\deprecation.py\"><span style=\"color: #7f7f7f; text-decoration-color: #7f7f7f\">deprecation.py</span></a><span style=\"color: #7f7f7f; text-decoration-color: #7f7f7f\">:</span><a href=\"file://C:\\Users\\thoma\\AppData\\Local\\Programs\\Python\\Python39\\lib\\site-packages\\manim\\utils\\deprecation.py#210\"><span style=\"color: #7f7f7f; text-decoration-color: #7f7f7f\">210</span></a>\n",
       "                             been deprecated since v0.<span style=\"color: #008000; text-decoration-color: #008000\">11.0</span> and is expected                   \n",
       "                             to be removed after v0.<span style=\"color: #008000; text-decoration-color: #008000\">13.0</span>. Use plot                           \n",
       "                             instead.                                                        \n",
       "</pre>\n"
      ],
      "text/plain": [
       "\u001b[2;36m[01/31/22 22:10:48]\u001b[0m\u001b[2;36m \u001b[0m\u001b[31mWARNING \u001b[0m The method CoordinateSystem.get_graph has     \u001b]8;id=16724;file://C:\\Users\\thoma\\AppData\\Local\\Programs\\Python\\Python39\\lib\\site-packages\\manim\\utils\\deprecation.py\u001b\\\u001b[2mdeprecation.py\u001b[0m\u001b]8;;\u001b\\\u001b[2m:\u001b[0m\u001b]8;id=652548;file://C:\\Users\\thoma\\AppData\\Local\\Programs\\Python\\Python39\\lib\\site-packages\\manim\\utils\\deprecation.py#210\u001b\\\u001b[2m210\u001b[0m\u001b]8;;\u001b\\\n",
       "                             been deprecated since v0.\u001b[32m11.0\u001b[0m and is expected                   \n",
       "                             to be removed after v0.\u001b[32m13.0\u001b[0m. Use plot                           \n",
       "                             instead.                                                        \n"
      ]
     },
     "metadata": {},
     "output_type": "display_data"
    },
    {
     "name": "stderr",
     "output_type": "stream",
     "text": [
      "Animation 1: _MethodAnimation(ValueTracker):  28%|##7       | 83/300 [00:12<01:09,  3.14it/s]"
     ]
    },
    {
     "data": {
      "text/html": [
       "<pre style=\"white-space:pre;overflow-x:auto;line-height:normal;font-family:Menlo,'DejaVu Sans Mono',consolas,'Courier New',monospace\"><span style=\"color: #7fbfbf; text-decoration-color: #7fbfbf\">                    </span><span style=\"color: #800000; text-decoration-color: #800000\">WARNING </span> The method CoordinateSystem.get_graph has     <a href=\"file://C:\\Users\\thoma\\AppData\\Local\\Programs\\Python\\Python39\\lib\\site-packages\\manim\\utils\\deprecation.py\"><span style=\"color: #7f7f7f; text-decoration-color: #7f7f7f\">deprecation.py</span></a><span style=\"color: #7f7f7f; text-decoration-color: #7f7f7f\">:</span><a href=\"file://C:\\Users\\thoma\\AppData\\Local\\Programs\\Python\\Python39\\lib\\site-packages\\manim\\utils\\deprecation.py#210\"><span style=\"color: #7f7f7f; text-decoration-color: #7f7f7f\">210</span></a>\n",
       "                             been deprecated since v0.<span style=\"color: #008000; text-decoration-color: #008000\">11.0</span> and is expected                   \n",
       "                             to be removed after v0.<span style=\"color: #008000; text-decoration-color: #008000\">13.0</span>. Use plot                           \n",
       "                             instead.                                                        \n",
       "</pre>\n"
      ],
      "text/plain": [
       "\u001b[2;36m                   \u001b[0m\u001b[2;36m \u001b[0m\u001b[31mWARNING \u001b[0m The method CoordinateSystem.get_graph has     \u001b]8;id=785318;file://C:\\Users\\thoma\\AppData\\Local\\Programs\\Python\\Python39\\lib\\site-packages\\manim\\utils\\deprecation.py\u001b\\\u001b[2mdeprecation.py\u001b[0m\u001b]8;;\u001b\\\u001b[2m:\u001b[0m\u001b]8;id=25376;file://C:\\Users\\thoma\\AppData\\Local\\Programs\\Python\\Python39\\lib\\site-packages\\manim\\utils\\deprecation.py#210\u001b\\\u001b[2m210\u001b[0m\u001b]8;;\u001b\\\n",
       "                             been deprecated since v0.\u001b[32m11.0\u001b[0m and is expected                   \n",
       "                             to be removed after v0.\u001b[32m13.0\u001b[0m. Use plot                           \n",
       "                             instead.                                                        \n"
      ]
     },
     "metadata": {},
     "output_type": "display_data"
    },
    {
     "name": "stderr",
     "output_type": "stream",
     "text": [
      "Animation 1: _MethodAnimation(ValueTracker):  28%|##8       | 84/300 [00:12<01:05,  3.31it/s]"
     ]
    },
    {
     "data": {
      "text/html": [
       "<pre style=\"white-space:pre;overflow-x:auto;line-height:normal;font-family:Menlo,'DejaVu Sans Mono',consolas,'Courier New',monospace\"><span style=\"color: #7fbfbf; text-decoration-color: #7fbfbf\">                    </span><span style=\"color: #800000; text-decoration-color: #800000\">WARNING </span> The method CoordinateSystem.get_graph has     <a href=\"file://C:\\Users\\thoma\\AppData\\Local\\Programs\\Python\\Python39\\lib\\site-packages\\manim\\utils\\deprecation.py\"><span style=\"color: #7f7f7f; text-decoration-color: #7f7f7f\">deprecation.py</span></a><span style=\"color: #7f7f7f; text-decoration-color: #7f7f7f\">:</span><a href=\"file://C:\\Users\\thoma\\AppData\\Local\\Programs\\Python\\Python39\\lib\\site-packages\\manim\\utils\\deprecation.py#210\"><span style=\"color: #7f7f7f; text-decoration-color: #7f7f7f\">210</span></a>\n",
       "                             been deprecated since v0.<span style=\"color: #008000; text-decoration-color: #008000\">11.0</span> and is expected                   \n",
       "                             to be removed after v0.<span style=\"color: #008000; text-decoration-color: #008000\">13.0</span>. Use plot                           \n",
       "                             instead.                                                        \n",
       "</pre>\n"
      ],
      "text/plain": [
       "\u001b[2;36m                   \u001b[0m\u001b[2;36m \u001b[0m\u001b[31mWARNING \u001b[0m The method CoordinateSystem.get_graph has     \u001b]8;id=112725;file://C:\\Users\\thoma\\AppData\\Local\\Programs\\Python\\Python39\\lib\\site-packages\\manim\\utils\\deprecation.py\u001b\\\u001b[2mdeprecation.py\u001b[0m\u001b]8;;\u001b\\\u001b[2m:\u001b[0m\u001b]8;id=755745;file://C:\\Users\\thoma\\AppData\\Local\\Programs\\Python\\Python39\\lib\\site-packages\\manim\\utils\\deprecation.py#210\u001b\\\u001b[2m210\u001b[0m\u001b]8;;\u001b\\\n",
       "                             been deprecated since v0.\u001b[32m11.0\u001b[0m and is expected                   \n",
       "                             to be removed after v0.\u001b[32m13.0\u001b[0m. Use plot                           \n",
       "                             instead.                                                        \n"
      ]
     },
     "metadata": {},
     "output_type": "display_data"
    },
    {
     "name": "stderr",
     "output_type": "stream",
     "text": [
      "Animation 1: _MethodAnimation(ValueTracker):  28%|##8       | 85/300 [00:12<01:03,  3.41it/s]"
     ]
    },
    {
     "data": {
      "text/html": [
       "<pre style=\"white-space:pre;overflow-x:auto;line-height:normal;font-family:Menlo,'DejaVu Sans Mono',consolas,'Courier New',monospace\"><span style=\"color: #7fbfbf; text-decoration-color: #7fbfbf\">[01/31/22 22:10:49] </span><span style=\"color: #800000; text-decoration-color: #800000\">WARNING </span> The method CoordinateSystem.get_graph has     <a href=\"file://C:\\Users\\thoma\\AppData\\Local\\Programs\\Python\\Python39\\lib\\site-packages\\manim\\utils\\deprecation.py\"><span style=\"color: #7f7f7f; text-decoration-color: #7f7f7f\">deprecation.py</span></a><span style=\"color: #7f7f7f; text-decoration-color: #7f7f7f\">:</span><a href=\"file://C:\\Users\\thoma\\AppData\\Local\\Programs\\Python\\Python39\\lib\\site-packages\\manim\\utils\\deprecation.py#210\"><span style=\"color: #7f7f7f; text-decoration-color: #7f7f7f\">210</span></a>\n",
       "                             been deprecated since v0.<span style=\"color: #008000; text-decoration-color: #008000\">11.0</span> and is expected                   \n",
       "                             to be removed after v0.<span style=\"color: #008000; text-decoration-color: #008000\">13.0</span>. Use plot                           \n",
       "                             instead.                                                        \n",
       "</pre>\n"
      ],
      "text/plain": [
       "\u001b[2;36m[01/31/22 22:10:49]\u001b[0m\u001b[2;36m \u001b[0m\u001b[31mWARNING \u001b[0m The method CoordinateSystem.get_graph has     \u001b]8;id=86971;file://C:\\Users\\thoma\\AppData\\Local\\Programs\\Python\\Python39\\lib\\site-packages\\manim\\utils\\deprecation.py\u001b\\\u001b[2mdeprecation.py\u001b[0m\u001b]8;;\u001b\\\u001b[2m:\u001b[0m\u001b]8;id=457588;file://C:\\Users\\thoma\\AppData\\Local\\Programs\\Python\\Python39\\lib\\site-packages\\manim\\utils\\deprecation.py#210\u001b\\\u001b[2m210\u001b[0m\u001b]8;;\u001b\\\n",
       "                             been deprecated since v0.\u001b[32m11.0\u001b[0m and is expected                   \n",
       "                             to be removed after v0.\u001b[32m13.0\u001b[0m. Use plot                           \n",
       "                             instead.                                                        \n"
      ]
     },
     "metadata": {},
     "output_type": "display_data"
    },
    {
     "name": "stderr",
     "output_type": "stream",
     "text": [
      "Animation 1: _MethodAnimation(ValueTracker):  29%|##8       | 86/300 [00:13<01:01,  3.49it/s]"
     ]
    },
    {
     "data": {
      "text/html": [
       "<pre style=\"white-space:pre;overflow-x:auto;line-height:normal;font-family:Menlo,'DejaVu Sans Mono',consolas,'Courier New',monospace\"><span style=\"color: #7fbfbf; text-decoration-color: #7fbfbf\">                    </span><span style=\"color: #800000; text-decoration-color: #800000\">WARNING </span> The method CoordinateSystem.get_graph has     <a href=\"file://C:\\Users\\thoma\\AppData\\Local\\Programs\\Python\\Python39\\lib\\site-packages\\manim\\utils\\deprecation.py\"><span style=\"color: #7f7f7f; text-decoration-color: #7f7f7f\">deprecation.py</span></a><span style=\"color: #7f7f7f; text-decoration-color: #7f7f7f\">:</span><a href=\"file://C:\\Users\\thoma\\AppData\\Local\\Programs\\Python\\Python39\\lib\\site-packages\\manim\\utils\\deprecation.py#210\"><span style=\"color: #7f7f7f; text-decoration-color: #7f7f7f\">210</span></a>\n",
       "                             been deprecated since v0.<span style=\"color: #008000; text-decoration-color: #008000\">11.0</span> and is expected                   \n",
       "                             to be removed after v0.<span style=\"color: #008000; text-decoration-color: #008000\">13.0</span>. Use plot                           \n",
       "                             instead.                                                        \n",
       "</pre>\n"
      ],
      "text/plain": [
       "\u001b[2;36m                   \u001b[0m\u001b[2;36m \u001b[0m\u001b[31mWARNING \u001b[0m The method CoordinateSystem.get_graph has     \u001b]8;id=224048;file://C:\\Users\\thoma\\AppData\\Local\\Programs\\Python\\Python39\\lib\\site-packages\\manim\\utils\\deprecation.py\u001b\\\u001b[2mdeprecation.py\u001b[0m\u001b]8;;\u001b\\\u001b[2m:\u001b[0m\u001b]8;id=958104;file://C:\\Users\\thoma\\AppData\\Local\\Programs\\Python\\Python39\\lib\\site-packages\\manim\\utils\\deprecation.py#210\u001b\\\u001b[2m210\u001b[0m\u001b]8;;\u001b\\\n",
       "                             been deprecated since v0.\u001b[32m11.0\u001b[0m and is expected                   \n",
       "                             to be removed after v0.\u001b[32m13.0\u001b[0m. Use plot                           \n",
       "                             instead.                                                        \n"
      ]
     },
     "metadata": {},
     "output_type": "display_data"
    },
    {
     "name": "stderr",
     "output_type": "stream",
     "text": [
      "Animation 1: _MethodAnimation(ValueTracker):  29%|##9       | 87/300 [00:13<01:00,  3.55it/s]"
     ]
    },
    {
     "data": {
      "text/html": [
       "<pre style=\"white-space:pre;overflow-x:auto;line-height:normal;font-family:Menlo,'DejaVu Sans Mono',consolas,'Courier New',monospace\"><span style=\"color: #7fbfbf; text-decoration-color: #7fbfbf\">                    </span><span style=\"color: #800000; text-decoration-color: #800000\">WARNING </span> The method CoordinateSystem.get_graph has     <a href=\"file://C:\\Users\\thoma\\AppData\\Local\\Programs\\Python\\Python39\\lib\\site-packages\\manim\\utils\\deprecation.py\"><span style=\"color: #7f7f7f; text-decoration-color: #7f7f7f\">deprecation.py</span></a><span style=\"color: #7f7f7f; text-decoration-color: #7f7f7f\">:</span><a href=\"file://C:\\Users\\thoma\\AppData\\Local\\Programs\\Python\\Python39\\lib\\site-packages\\manim\\utils\\deprecation.py#210\"><span style=\"color: #7f7f7f; text-decoration-color: #7f7f7f\">210</span></a>\n",
       "                             been deprecated since v0.<span style=\"color: #008000; text-decoration-color: #008000\">11.0</span> and is expected                   \n",
       "                             to be removed after v0.<span style=\"color: #008000; text-decoration-color: #008000\">13.0</span>. Use plot                           \n",
       "                             instead.                                                        \n",
       "</pre>\n"
      ],
      "text/plain": [
       "\u001b[2;36m                   \u001b[0m\u001b[2;36m \u001b[0m\u001b[31mWARNING \u001b[0m The method CoordinateSystem.get_graph has     \u001b]8;id=130628;file://C:\\Users\\thoma\\AppData\\Local\\Programs\\Python\\Python39\\lib\\site-packages\\manim\\utils\\deprecation.py\u001b\\\u001b[2mdeprecation.py\u001b[0m\u001b]8;;\u001b\\\u001b[2m:\u001b[0m\u001b]8;id=771510;file://C:\\Users\\thoma\\AppData\\Local\\Programs\\Python\\Python39\\lib\\site-packages\\manim\\utils\\deprecation.py#210\u001b\\\u001b[2m210\u001b[0m\u001b]8;;\u001b\\\n",
       "                             been deprecated since v0.\u001b[32m11.0\u001b[0m and is expected                   \n",
       "                             to be removed after v0.\u001b[32m13.0\u001b[0m. Use plot                           \n",
       "                             instead.                                                        \n"
      ]
     },
     "metadata": {},
     "output_type": "display_data"
    },
    {
     "name": "stderr",
     "output_type": "stream",
     "text": [
      "Animation 1: _MethodAnimation(ValueTracker):  29%|##9       | 88/300 [00:13<01:02,  3.41it/s]"
     ]
    },
    {
     "data": {
      "text/html": [
       "<pre style=\"white-space:pre;overflow-x:auto;line-height:normal;font-family:Menlo,'DejaVu Sans Mono',consolas,'Courier New',monospace\"><span style=\"color: #7fbfbf; text-decoration-color: #7fbfbf\">                    </span><span style=\"color: #800000; text-decoration-color: #800000\">WARNING </span> The method CoordinateSystem.get_graph has     <a href=\"file://C:\\Users\\thoma\\AppData\\Local\\Programs\\Python\\Python39\\lib\\site-packages\\manim\\utils\\deprecation.py\"><span style=\"color: #7f7f7f; text-decoration-color: #7f7f7f\">deprecation.py</span></a><span style=\"color: #7f7f7f; text-decoration-color: #7f7f7f\">:</span><a href=\"file://C:\\Users\\thoma\\AppData\\Local\\Programs\\Python\\Python39\\lib\\site-packages\\manim\\utils\\deprecation.py#210\"><span style=\"color: #7f7f7f; text-decoration-color: #7f7f7f\">210</span></a>\n",
       "                             been deprecated since v0.<span style=\"color: #008000; text-decoration-color: #008000\">11.0</span> and is expected                   \n",
       "                             to be removed after v0.<span style=\"color: #008000; text-decoration-color: #008000\">13.0</span>. Use plot                           \n",
       "                             instead.                                                        \n",
       "</pre>\n"
      ],
      "text/plain": [
       "\u001b[2;36m                   \u001b[0m\u001b[2;36m \u001b[0m\u001b[31mWARNING \u001b[0m The method CoordinateSystem.get_graph has     \u001b]8;id=289088;file://C:\\Users\\thoma\\AppData\\Local\\Programs\\Python\\Python39\\lib\\site-packages\\manim\\utils\\deprecation.py\u001b\\\u001b[2mdeprecation.py\u001b[0m\u001b]8;;\u001b\\\u001b[2m:\u001b[0m\u001b]8;id=770270;file://C:\\Users\\thoma\\AppData\\Local\\Programs\\Python\\Python39\\lib\\site-packages\\manim\\utils\\deprecation.py#210\u001b\\\u001b[2m210\u001b[0m\u001b]8;;\u001b\\\n",
       "                             been deprecated since v0.\u001b[32m11.0\u001b[0m and is expected                   \n",
       "                             to be removed after v0.\u001b[32m13.0\u001b[0m. Use plot                           \n",
       "                             instead.                                                        \n"
      ]
     },
     "metadata": {},
     "output_type": "display_data"
    },
    {
     "name": "stderr",
     "output_type": "stream",
     "text": [
      "Animation 1: _MethodAnimation(ValueTracker):  30%|##9       | 89/300 [00:14<01:04,  3.27it/s]"
     ]
    },
    {
     "data": {
      "text/html": [
       "<pre style=\"white-space:pre;overflow-x:auto;line-height:normal;font-family:Menlo,'DejaVu Sans Mono',consolas,'Courier New',monospace\"><span style=\"color: #7fbfbf; text-decoration-color: #7fbfbf\">[01/31/22 22:10:50] </span><span style=\"color: #800000; text-decoration-color: #800000\">WARNING </span> The method CoordinateSystem.get_graph has     <a href=\"file://C:\\Users\\thoma\\AppData\\Local\\Programs\\Python\\Python39\\lib\\site-packages\\manim\\utils\\deprecation.py\"><span style=\"color: #7f7f7f; text-decoration-color: #7f7f7f\">deprecation.py</span></a><span style=\"color: #7f7f7f; text-decoration-color: #7f7f7f\">:</span><a href=\"file://C:\\Users\\thoma\\AppData\\Local\\Programs\\Python\\Python39\\lib\\site-packages\\manim\\utils\\deprecation.py#210\"><span style=\"color: #7f7f7f; text-decoration-color: #7f7f7f\">210</span></a>\n",
       "                             been deprecated since v0.<span style=\"color: #008000; text-decoration-color: #008000\">11.0</span> and is expected                   \n",
       "                             to be removed after v0.<span style=\"color: #008000; text-decoration-color: #008000\">13.0</span>. Use plot                           \n",
       "                             instead.                                                        \n",
       "</pre>\n"
      ],
      "text/plain": [
       "\u001b[2;36m[01/31/22 22:10:50]\u001b[0m\u001b[2;36m \u001b[0m\u001b[31mWARNING \u001b[0m The method CoordinateSystem.get_graph has     \u001b]8;id=704854;file://C:\\Users\\thoma\\AppData\\Local\\Programs\\Python\\Python39\\lib\\site-packages\\manim\\utils\\deprecation.py\u001b\\\u001b[2mdeprecation.py\u001b[0m\u001b]8;;\u001b\\\u001b[2m:\u001b[0m\u001b]8;id=268165;file://C:\\Users\\thoma\\AppData\\Local\\Programs\\Python\\Python39\\lib\\site-packages\\manim\\utils\\deprecation.py#210\u001b\\\u001b[2m210\u001b[0m\u001b]8;;\u001b\\\n",
       "                             been deprecated since v0.\u001b[32m11.0\u001b[0m and is expected                   \n",
       "                             to be removed after v0.\u001b[32m13.0\u001b[0m. Use plot                           \n",
       "                             instead.                                                        \n"
      ]
     },
     "metadata": {},
     "output_type": "display_data"
    },
    {
     "name": "stderr",
     "output_type": "stream",
     "text": [
      "Animation 1: _MethodAnimation(ValueTracker):  30%|###       | 90/300 [00:14<01:06,  3.16it/s]"
     ]
    },
    {
     "data": {
      "text/html": [
       "<pre style=\"white-space:pre;overflow-x:auto;line-height:normal;font-family:Menlo,'DejaVu Sans Mono',consolas,'Courier New',monospace\"><span style=\"color: #7fbfbf; text-decoration-color: #7fbfbf\">                    </span><span style=\"color: #800000; text-decoration-color: #800000\">WARNING </span> The method CoordinateSystem.get_graph has     <a href=\"file://C:\\Users\\thoma\\AppData\\Local\\Programs\\Python\\Python39\\lib\\site-packages\\manim\\utils\\deprecation.py\"><span style=\"color: #7f7f7f; text-decoration-color: #7f7f7f\">deprecation.py</span></a><span style=\"color: #7f7f7f; text-decoration-color: #7f7f7f\">:</span><a href=\"file://C:\\Users\\thoma\\AppData\\Local\\Programs\\Python\\Python39\\lib\\site-packages\\manim\\utils\\deprecation.py#210\"><span style=\"color: #7f7f7f; text-decoration-color: #7f7f7f\">210</span></a>\n",
       "                             been deprecated since v0.<span style=\"color: #008000; text-decoration-color: #008000\">11.0</span> and is expected                   \n",
       "                             to be removed after v0.<span style=\"color: #008000; text-decoration-color: #008000\">13.0</span>. Use plot                           \n",
       "                             instead.                                                        \n",
       "</pre>\n"
      ],
      "text/plain": [
       "\u001b[2;36m                   \u001b[0m\u001b[2;36m \u001b[0m\u001b[31mWARNING \u001b[0m The method CoordinateSystem.get_graph has     \u001b]8;id=6191;file://C:\\Users\\thoma\\AppData\\Local\\Programs\\Python\\Python39\\lib\\site-packages\\manim\\utils\\deprecation.py\u001b\\\u001b[2mdeprecation.py\u001b[0m\u001b]8;;\u001b\\\u001b[2m:\u001b[0m\u001b]8;id=208030;file://C:\\Users\\thoma\\AppData\\Local\\Programs\\Python\\Python39\\lib\\site-packages\\manim\\utils\\deprecation.py#210\u001b\\\u001b[2m210\u001b[0m\u001b]8;;\u001b\\\n",
       "                             been deprecated since v0.\u001b[32m11.0\u001b[0m and is expected                   \n",
       "                             to be removed after v0.\u001b[32m13.0\u001b[0m. Use plot                           \n",
       "                             instead.                                                        \n"
      ]
     },
     "metadata": {},
     "output_type": "display_data"
    },
    {
     "name": "stderr",
     "output_type": "stream",
     "text": [
      "Animation 1: _MethodAnimation(ValueTracker):  30%|###       | 91/300 [00:14<01:07,  3.08it/s]"
     ]
    },
    {
     "data": {
      "text/html": [
       "<pre style=\"white-space:pre;overflow-x:auto;line-height:normal;font-family:Menlo,'DejaVu Sans Mono',consolas,'Courier New',monospace\"><span style=\"color: #7fbfbf; text-decoration-color: #7fbfbf\">[01/31/22 22:10:51] </span><span style=\"color: #800000; text-decoration-color: #800000\">WARNING </span> The method CoordinateSystem.get_graph has     <a href=\"file://C:\\Users\\thoma\\AppData\\Local\\Programs\\Python\\Python39\\lib\\site-packages\\manim\\utils\\deprecation.py\"><span style=\"color: #7f7f7f; text-decoration-color: #7f7f7f\">deprecation.py</span></a><span style=\"color: #7f7f7f; text-decoration-color: #7f7f7f\">:</span><a href=\"file://C:\\Users\\thoma\\AppData\\Local\\Programs\\Python\\Python39\\lib\\site-packages\\manim\\utils\\deprecation.py#210\"><span style=\"color: #7f7f7f; text-decoration-color: #7f7f7f\">210</span></a>\n",
       "                             been deprecated since v0.<span style=\"color: #008000; text-decoration-color: #008000\">11.0</span> and is expected                   \n",
       "                             to be removed after v0.<span style=\"color: #008000; text-decoration-color: #008000\">13.0</span>. Use plot                           \n",
       "                             instead.                                                        \n",
       "</pre>\n"
      ],
      "text/plain": [
       "\u001b[2;36m[01/31/22 22:10:51]\u001b[0m\u001b[2;36m \u001b[0m\u001b[31mWARNING \u001b[0m The method CoordinateSystem.get_graph has     \u001b]8;id=697068;file://C:\\Users\\thoma\\AppData\\Local\\Programs\\Python\\Python39\\lib\\site-packages\\manim\\utils\\deprecation.py\u001b\\\u001b[2mdeprecation.py\u001b[0m\u001b]8;;\u001b\\\u001b[2m:\u001b[0m\u001b]8;id=537333;file://C:\\Users\\thoma\\AppData\\Local\\Programs\\Python\\Python39\\lib\\site-packages\\manim\\utils\\deprecation.py#210\u001b\\\u001b[2m210\u001b[0m\u001b]8;;\u001b\\\n",
       "                             been deprecated since v0.\u001b[32m11.0\u001b[0m and is expected                   \n",
       "                             to be removed after v0.\u001b[32m13.0\u001b[0m. Use plot                           \n",
       "                             instead.                                                        \n"
      ]
     },
     "metadata": {},
     "output_type": "display_data"
    },
    {
     "name": "stderr",
     "output_type": "stream",
     "text": [
      "Animation 1: _MethodAnimation(ValueTracker):  31%|###       | 92/300 [00:15<01:12,  2.89it/s]"
     ]
    },
    {
     "data": {
      "text/html": [
       "<pre style=\"white-space:pre;overflow-x:auto;line-height:normal;font-family:Menlo,'DejaVu Sans Mono',consolas,'Courier New',monospace\"><span style=\"color: #7fbfbf; text-decoration-color: #7fbfbf\">                    </span><span style=\"color: #800000; text-decoration-color: #800000\">WARNING </span> The method CoordinateSystem.get_graph has     <a href=\"file://C:\\Users\\thoma\\AppData\\Local\\Programs\\Python\\Python39\\lib\\site-packages\\manim\\utils\\deprecation.py\"><span style=\"color: #7f7f7f; text-decoration-color: #7f7f7f\">deprecation.py</span></a><span style=\"color: #7f7f7f; text-decoration-color: #7f7f7f\">:</span><a href=\"file://C:\\Users\\thoma\\AppData\\Local\\Programs\\Python\\Python39\\lib\\site-packages\\manim\\utils\\deprecation.py#210\"><span style=\"color: #7f7f7f; text-decoration-color: #7f7f7f\">210</span></a>\n",
       "                             been deprecated since v0.<span style=\"color: #008000; text-decoration-color: #008000\">11.0</span> and is expected                   \n",
       "                             to be removed after v0.<span style=\"color: #008000; text-decoration-color: #008000\">13.0</span>. Use plot                           \n",
       "                             instead.                                                        \n",
       "</pre>\n"
      ],
      "text/plain": [
       "\u001b[2;36m                   \u001b[0m\u001b[2;36m \u001b[0m\u001b[31mWARNING \u001b[0m The method CoordinateSystem.get_graph has     \u001b]8;id=391726;file://C:\\Users\\thoma\\AppData\\Local\\Programs\\Python\\Python39\\lib\\site-packages\\manim\\utils\\deprecation.py\u001b\\\u001b[2mdeprecation.py\u001b[0m\u001b]8;;\u001b\\\u001b[2m:\u001b[0m\u001b]8;id=726605;file://C:\\Users\\thoma\\AppData\\Local\\Programs\\Python\\Python39\\lib\\site-packages\\manim\\utils\\deprecation.py#210\u001b\\\u001b[2m210\u001b[0m\u001b]8;;\u001b\\\n",
       "                             been deprecated since v0.\u001b[32m11.0\u001b[0m and is expected                   \n",
       "                             to be removed after v0.\u001b[32m13.0\u001b[0m. Use plot                           \n",
       "                             instead.                                                        \n"
      ]
     },
     "metadata": {},
     "output_type": "display_data"
    },
    {
     "name": "stderr",
     "output_type": "stream",
     "text": [
      "Animation 1: _MethodAnimation(ValueTracker):  31%|###1      | 93/300 [00:15<01:16,  2.72it/s]"
     ]
    },
    {
     "data": {
      "text/html": [
       "<pre style=\"white-space:pre;overflow-x:auto;line-height:normal;font-family:Menlo,'DejaVu Sans Mono',consolas,'Courier New',monospace\"><span style=\"color: #7fbfbf; text-decoration-color: #7fbfbf\">                    </span><span style=\"color: #800000; text-decoration-color: #800000\">WARNING </span> The method CoordinateSystem.get_graph has     <a href=\"file://C:\\Users\\thoma\\AppData\\Local\\Programs\\Python\\Python39\\lib\\site-packages\\manim\\utils\\deprecation.py\"><span style=\"color: #7f7f7f; text-decoration-color: #7f7f7f\">deprecation.py</span></a><span style=\"color: #7f7f7f; text-decoration-color: #7f7f7f\">:</span><a href=\"file://C:\\Users\\thoma\\AppData\\Local\\Programs\\Python\\Python39\\lib\\site-packages\\manim\\utils\\deprecation.py#210\"><span style=\"color: #7f7f7f; text-decoration-color: #7f7f7f\">210</span></a>\n",
       "                             been deprecated since v0.<span style=\"color: #008000; text-decoration-color: #008000\">11.0</span> and is expected                   \n",
       "                             to be removed after v0.<span style=\"color: #008000; text-decoration-color: #008000\">13.0</span>. Use plot                           \n",
       "                             instead.                                                        \n",
       "</pre>\n"
      ],
      "text/plain": [
       "\u001b[2;36m                   \u001b[0m\u001b[2;36m \u001b[0m\u001b[31mWARNING \u001b[0m The method CoordinateSystem.get_graph has     \u001b]8;id=174529;file://C:\\Users\\thoma\\AppData\\Local\\Programs\\Python\\Python39\\lib\\site-packages\\manim\\utils\\deprecation.py\u001b\\\u001b[2mdeprecation.py\u001b[0m\u001b]8;;\u001b\\\u001b[2m:\u001b[0m\u001b]8;id=838932;file://C:\\Users\\thoma\\AppData\\Local\\Programs\\Python\\Python39\\lib\\site-packages\\manim\\utils\\deprecation.py#210\u001b\\\u001b[2m210\u001b[0m\u001b]8;;\u001b\\\n",
       "                             been deprecated since v0.\u001b[32m11.0\u001b[0m and is expected                   \n",
       "                             to be removed after v0.\u001b[32m13.0\u001b[0m. Use plot                           \n",
       "                             instead.                                                        \n"
      ]
     },
     "metadata": {},
     "output_type": "display_data"
    },
    {
     "name": "stderr",
     "output_type": "stream",
     "text": [
      "Animation 1: _MethodAnimation(ValueTracker):  31%|###1      | 94/300 [00:15<01:18,  2.63it/s]"
     ]
    },
    {
     "data": {
      "text/html": [
       "<pre style=\"white-space:pre;overflow-x:auto;line-height:normal;font-family:Menlo,'DejaVu Sans Mono',consolas,'Courier New',monospace\"><span style=\"color: #7fbfbf; text-decoration-color: #7fbfbf\">[01/31/22 22:10:52] </span><span style=\"color: #800000; text-decoration-color: #800000\">WARNING </span> The method CoordinateSystem.get_graph has     <a href=\"file://C:\\Users\\thoma\\AppData\\Local\\Programs\\Python\\Python39\\lib\\site-packages\\manim\\utils\\deprecation.py\"><span style=\"color: #7f7f7f; text-decoration-color: #7f7f7f\">deprecation.py</span></a><span style=\"color: #7f7f7f; text-decoration-color: #7f7f7f\">:</span><a href=\"file://C:\\Users\\thoma\\AppData\\Local\\Programs\\Python\\Python39\\lib\\site-packages\\manim\\utils\\deprecation.py#210\"><span style=\"color: #7f7f7f; text-decoration-color: #7f7f7f\">210</span></a>\n",
       "                             been deprecated since v0.<span style=\"color: #008000; text-decoration-color: #008000\">11.0</span> and is expected                   \n",
       "                             to be removed after v0.<span style=\"color: #008000; text-decoration-color: #008000\">13.0</span>. Use plot                           \n",
       "                             instead.                                                        \n",
       "</pre>\n"
      ],
      "text/plain": [
       "\u001b[2;36m[01/31/22 22:10:52]\u001b[0m\u001b[2;36m \u001b[0m\u001b[31mWARNING \u001b[0m The method CoordinateSystem.get_graph has     \u001b]8;id=143984;file://C:\\Users\\thoma\\AppData\\Local\\Programs\\Python\\Python39\\lib\\site-packages\\manim\\utils\\deprecation.py\u001b\\\u001b[2mdeprecation.py\u001b[0m\u001b]8;;\u001b\\\u001b[2m:\u001b[0m\u001b]8;id=822659;file://C:\\Users\\thoma\\AppData\\Local\\Programs\\Python\\Python39\\lib\\site-packages\\manim\\utils\\deprecation.py#210\u001b\\\u001b[2m210\u001b[0m\u001b]8;;\u001b\\\n",
       "                             been deprecated since v0.\u001b[32m11.0\u001b[0m and is expected                   \n",
       "                             to be removed after v0.\u001b[32m13.0\u001b[0m. Use plot                           \n",
       "                             instead.                                                        \n"
      ]
     },
     "metadata": {},
     "output_type": "display_data"
    },
    {
     "name": "stderr",
     "output_type": "stream",
     "text": [
      "Animation 1: _MethodAnimation(ValueTracker):  32%|###1      | 95/300 [00:16<01:32,  2.22it/s]"
     ]
    },
    {
     "data": {
      "text/html": [
       "<pre style=\"white-space:pre;overflow-x:auto;line-height:normal;font-family:Menlo,'DejaVu Sans Mono',consolas,'Courier New',monospace\"><span style=\"color: #7fbfbf; text-decoration-color: #7fbfbf\">[01/31/22 22:10:53] </span><span style=\"color: #800000; text-decoration-color: #800000\">WARNING </span> The method CoordinateSystem.get_graph has     <a href=\"file://C:\\Users\\thoma\\AppData\\Local\\Programs\\Python\\Python39\\lib\\site-packages\\manim\\utils\\deprecation.py\"><span style=\"color: #7f7f7f; text-decoration-color: #7f7f7f\">deprecation.py</span></a><span style=\"color: #7f7f7f; text-decoration-color: #7f7f7f\">:</span><a href=\"file://C:\\Users\\thoma\\AppData\\Local\\Programs\\Python\\Python39\\lib\\site-packages\\manim\\utils\\deprecation.py#210\"><span style=\"color: #7f7f7f; text-decoration-color: #7f7f7f\">210</span></a>\n",
       "                             been deprecated since v0.<span style=\"color: #008000; text-decoration-color: #008000\">11.0</span> and is expected                   \n",
       "                             to be removed after v0.<span style=\"color: #008000; text-decoration-color: #008000\">13.0</span>. Use plot                           \n",
       "                             instead.                                                        \n",
       "</pre>\n"
      ],
      "text/plain": [
       "\u001b[2;36m[01/31/22 22:10:53]\u001b[0m\u001b[2;36m \u001b[0m\u001b[31mWARNING \u001b[0m The method CoordinateSystem.get_graph has     \u001b]8;id=456887;file://C:\\Users\\thoma\\AppData\\Local\\Programs\\Python\\Python39\\lib\\site-packages\\manim\\utils\\deprecation.py\u001b\\\u001b[2mdeprecation.py\u001b[0m\u001b]8;;\u001b\\\u001b[2m:\u001b[0m\u001b]8;id=15899;file://C:\\Users\\thoma\\AppData\\Local\\Programs\\Python\\Python39\\lib\\site-packages\\manim\\utils\\deprecation.py#210\u001b\\\u001b[2m210\u001b[0m\u001b]8;;\u001b\\\n",
       "                             been deprecated since v0.\u001b[32m11.0\u001b[0m and is expected                   \n",
       "                             to be removed after v0.\u001b[32m13.0\u001b[0m. Use plot                           \n",
       "                             instead.                                                        \n"
      ]
     },
     "metadata": {},
     "output_type": "display_data"
    },
    {
     "name": "stderr",
     "output_type": "stream",
     "text": [
      "Animation 1: _MethodAnimation(ValueTracker):  32%|###2      | 96/300 [00:17<01:37,  2.09it/s]"
     ]
    },
    {
     "data": {
      "text/html": [
       "<pre style=\"white-space:pre;overflow-x:auto;line-height:normal;font-family:Menlo,'DejaVu Sans Mono',consolas,'Courier New',monospace\"><span style=\"color: #7fbfbf; text-decoration-color: #7fbfbf\">                    </span><span style=\"color: #800000; text-decoration-color: #800000\">WARNING </span> The method CoordinateSystem.get_graph has     <a href=\"file://C:\\Users\\thoma\\AppData\\Local\\Programs\\Python\\Python39\\lib\\site-packages\\manim\\utils\\deprecation.py\"><span style=\"color: #7f7f7f; text-decoration-color: #7f7f7f\">deprecation.py</span></a><span style=\"color: #7f7f7f; text-decoration-color: #7f7f7f\">:</span><a href=\"file://C:\\Users\\thoma\\AppData\\Local\\Programs\\Python\\Python39\\lib\\site-packages\\manim\\utils\\deprecation.py#210\"><span style=\"color: #7f7f7f; text-decoration-color: #7f7f7f\">210</span></a>\n",
       "                             been deprecated since v0.<span style=\"color: #008000; text-decoration-color: #008000\">11.0</span> and is expected                   \n",
       "                             to be removed after v0.<span style=\"color: #008000; text-decoration-color: #008000\">13.0</span>. Use plot                           \n",
       "                             instead.                                                        \n",
       "</pre>\n"
      ],
      "text/plain": [
       "\u001b[2;36m                   \u001b[0m\u001b[2;36m \u001b[0m\u001b[31mWARNING \u001b[0m The method CoordinateSystem.get_graph has     \u001b]8;id=851760;file://C:\\Users\\thoma\\AppData\\Local\\Programs\\Python\\Python39\\lib\\site-packages\\manim\\utils\\deprecation.py\u001b\\\u001b[2mdeprecation.py\u001b[0m\u001b]8;;\u001b\\\u001b[2m:\u001b[0m\u001b]8;id=38762;file://C:\\Users\\thoma\\AppData\\Local\\Programs\\Python\\Python39\\lib\\site-packages\\manim\\utils\\deprecation.py#210\u001b\\\u001b[2m210\u001b[0m\u001b]8;;\u001b\\\n",
       "                             been deprecated since v0.\u001b[32m11.0\u001b[0m and is expected                   \n",
       "                             to be removed after v0.\u001b[32m13.0\u001b[0m. Use plot                           \n",
       "                             instead.                                                        \n"
      ]
     },
     "metadata": {},
     "output_type": "display_data"
    },
    {
     "name": "stderr",
     "output_type": "stream",
     "text": [
      "Animation 1: _MethodAnimation(ValueTracker):  32%|###2      | 97/300 [00:17<01:33,  2.16it/s]"
     ]
    },
    {
     "data": {
      "text/html": [
       "<pre style=\"white-space:pre;overflow-x:auto;line-height:normal;font-family:Menlo,'DejaVu Sans Mono',consolas,'Courier New',monospace\"><span style=\"color: #7fbfbf; text-decoration-color: #7fbfbf\">                    </span><span style=\"color: #800000; text-decoration-color: #800000\">WARNING </span> The method CoordinateSystem.get_graph has     <a href=\"file://C:\\Users\\thoma\\AppData\\Local\\Programs\\Python\\Python39\\lib\\site-packages\\manim\\utils\\deprecation.py\"><span style=\"color: #7f7f7f; text-decoration-color: #7f7f7f\">deprecation.py</span></a><span style=\"color: #7f7f7f; text-decoration-color: #7f7f7f\">:</span><a href=\"file://C:\\Users\\thoma\\AppData\\Local\\Programs\\Python\\Python39\\lib\\site-packages\\manim\\utils\\deprecation.py#210\"><span style=\"color: #7f7f7f; text-decoration-color: #7f7f7f\">210</span></a>\n",
       "                             been deprecated since v0.<span style=\"color: #008000; text-decoration-color: #008000\">11.0</span> and is expected                   \n",
       "                             to be removed after v0.<span style=\"color: #008000; text-decoration-color: #008000\">13.0</span>. Use plot                           \n",
       "                             instead.                                                        \n",
       "</pre>\n"
      ],
      "text/plain": [
       "\u001b[2;36m                   \u001b[0m\u001b[2;36m \u001b[0m\u001b[31mWARNING \u001b[0m The method CoordinateSystem.get_graph has     \u001b]8;id=111851;file://C:\\Users\\thoma\\AppData\\Local\\Programs\\Python\\Python39\\lib\\site-packages\\manim\\utils\\deprecation.py\u001b\\\u001b[2mdeprecation.py\u001b[0m\u001b]8;;\u001b\\\u001b[2m:\u001b[0m\u001b]8;id=525746;file://C:\\Users\\thoma\\AppData\\Local\\Programs\\Python\\Python39\\lib\\site-packages\\manim\\utils\\deprecation.py#210\u001b\\\u001b[2m210\u001b[0m\u001b]8;;\u001b\\\n",
       "                             been deprecated since v0.\u001b[32m11.0\u001b[0m and is expected                   \n",
       "                             to be removed after v0.\u001b[32m13.0\u001b[0m. Use plot                           \n",
       "                             instead.                                                        \n"
      ]
     },
     "metadata": {},
     "output_type": "display_data"
    },
    {
     "name": "stderr",
     "output_type": "stream",
     "text": [
      "Animation 1: _MethodAnimation(ValueTracker):  33%|###2      | 98/300 [00:17<01:30,  2.24it/s]"
     ]
    },
    {
     "data": {
      "text/html": [
       "<pre style=\"white-space:pre;overflow-x:auto;line-height:normal;font-family:Menlo,'DejaVu Sans Mono',consolas,'Courier New',monospace\"><span style=\"color: #7fbfbf; text-decoration-color: #7fbfbf\">[01/31/22 22:10:54] </span><span style=\"color: #800000; text-decoration-color: #800000\">WARNING </span> The method CoordinateSystem.get_graph has     <a href=\"file://C:\\Users\\thoma\\AppData\\Local\\Programs\\Python\\Python39\\lib\\site-packages\\manim\\utils\\deprecation.py\"><span style=\"color: #7f7f7f; text-decoration-color: #7f7f7f\">deprecation.py</span></a><span style=\"color: #7f7f7f; text-decoration-color: #7f7f7f\">:</span><a href=\"file://C:\\Users\\thoma\\AppData\\Local\\Programs\\Python\\Python39\\lib\\site-packages\\manim\\utils\\deprecation.py#210\"><span style=\"color: #7f7f7f; text-decoration-color: #7f7f7f\">210</span></a>\n",
       "                             been deprecated since v0.<span style=\"color: #008000; text-decoration-color: #008000\">11.0</span> and is expected                   \n",
       "                             to be removed after v0.<span style=\"color: #008000; text-decoration-color: #008000\">13.0</span>. Use plot                           \n",
       "                             instead.                                                        \n",
       "</pre>\n"
      ],
      "text/plain": [
       "\u001b[2;36m[01/31/22 22:10:54]\u001b[0m\u001b[2;36m \u001b[0m\u001b[31mWARNING \u001b[0m The method CoordinateSystem.get_graph has     \u001b]8;id=723167;file://C:\\Users\\thoma\\AppData\\Local\\Programs\\Python\\Python39\\lib\\site-packages\\manim\\utils\\deprecation.py\u001b\\\u001b[2mdeprecation.py\u001b[0m\u001b]8;;\u001b\\\u001b[2m:\u001b[0m\u001b]8;id=240688;file://C:\\Users\\thoma\\AppData\\Local\\Programs\\Python\\Python39\\lib\\site-packages\\manim\\utils\\deprecation.py#210\u001b\\\u001b[2m210\u001b[0m\u001b]8;;\u001b\\\n",
       "                             been deprecated since v0.\u001b[32m11.0\u001b[0m and is expected                   \n",
       "                             to be removed after v0.\u001b[32m13.0\u001b[0m. Use plot                           \n",
       "                             instead.                                                        \n"
      ]
     },
     "metadata": {},
     "output_type": "display_data"
    },
    {
     "name": "stderr",
     "output_type": "stream",
     "text": [
      "Animation 1: _MethodAnimation(ValueTracker):  33%|###3      | 99/300 [00:18<01:31,  2.20it/s]"
     ]
    },
    {
     "data": {
      "text/html": [
       "<pre style=\"white-space:pre;overflow-x:auto;line-height:normal;font-family:Menlo,'DejaVu Sans Mono',consolas,'Courier New',monospace\"><span style=\"color: #7fbfbf; text-decoration-color: #7fbfbf\">                    </span><span style=\"color: #800000; text-decoration-color: #800000\">WARNING </span> The method CoordinateSystem.get_graph has     <a href=\"file://C:\\Users\\thoma\\AppData\\Local\\Programs\\Python\\Python39\\lib\\site-packages\\manim\\utils\\deprecation.py\"><span style=\"color: #7f7f7f; text-decoration-color: #7f7f7f\">deprecation.py</span></a><span style=\"color: #7f7f7f; text-decoration-color: #7f7f7f\">:</span><a href=\"file://C:\\Users\\thoma\\AppData\\Local\\Programs\\Python\\Python39\\lib\\site-packages\\manim\\utils\\deprecation.py#210\"><span style=\"color: #7f7f7f; text-decoration-color: #7f7f7f\">210</span></a>\n",
       "                             been deprecated since v0.<span style=\"color: #008000; text-decoration-color: #008000\">11.0</span> and is expected                   \n",
       "                             to be removed after v0.<span style=\"color: #008000; text-decoration-color: #008000\">13.0</span>. Use plot                           \n",
       "                             instead.                                                        \n",
       "</pre>\n"
      ],
      "text/plain": [
       "\u001b[2;36m                   \u001b[0m\u001b[2;36m \u001b[0m\u001b[31mWARNING \u001b[0m The method CoordinateSystem.get_graph has     \u001b]8;id=807888;file://C:\\Users\\thoma\\AppData\\Local\\Programs\\Python\\Python39\\lib\\site-packages\\manim\\utils\\deprecation.py\u001b\\\u001b[2mdeprecation.py\u001b[0m\u001b]8;;\u001b\\\u001b[2m:\u001b[0m\u001b]8;id=243789;file://C:\\Users\\thoma\\AppData\\Local\\Programs\\Python\\Python39\\lib\\site-packages\\manim\\utils\\deprecation.py#210\u001b\\\u001b[2m210\u001b[0m\u001b]8;;\u001b\\\n",
       "                             been deprecated since v0.\u001b[32m11.0\u001b[0m and is expected                   \n",
       "                             to be removed after v0.\u001b[32m13.0\u001b[0m. Use plot                           \n",
       "                             instead.                                                        \n"
      ]
     },
     "metadata": {},
     "output_type": "display_data"
    },
    {
     "name": "stderr",
     "output_type": "stream",
     "text": [
      "Animation 1: _MethodAnimation(ValueTracker):  33%|###3      | 100/300 [00:18<01:29,  2.25it/s]"
     ]
    },
    {
     "data": {
      "text/html": [
       "<pre style=\"white-space:pre;overflow-x:auto;line-height:normal;font-family:Menlo,'DejaVu Sans Mono',consolas,'Courier New',monospace\"><span style=\"color: #7fbfbf; text-decoration-color: #7fbfbf\">[01/31/22 22:10:55] </span><span style=\"color: #800000; text-decoration-color: #800000\">WARNING </span> The method CoordinateSystem.get_graph has     <a href=\"file://C:\\Users\\thoma\\AppData\\Local\\Programs\\Python\\Python39\\lib\\site-packages\\manim\\utils\\deprecation.py\"><span style=\"color: #7f7f7f; text-decoration-color: #7f7f7f\">deprecation.py</span></a><span style=\"color: #7f7f7f; text-decoration-color: #7f7f7f\">:</span><a href=\"file://C:\\Users\\thoma\\AppData\\Local\\Programs\\Python\\Python39\\lib\\site-packages\\manim\\utils\\deprecation.py#210\"><span style=\"color: #7f7f7f; text-decoration-color: #7f7f7f\">210</span></a>\n",
       "                             been deprecated since v0.<span style=\"color: #008000; text-decoration-color: #008000\">11.0</span> and is expected                   \n",
       "                             to be removed after v0.<span style=\"color: #008000; text-decoration-color: #008000\">13.0</span>. Use plot                           \n",
       "                             instead.                                                        \n",
       "</pre>\n"
      ],
      "text/plain": [
       "\u001b[2;36m[01/31/22 22:10:55]\u001b[0m\u001b[2;36m \u001b[0m\u001b[31mWARNING \u001b[0m The method CoordinateSystem.get_graph has     \u001b]8;id=410;file://C:\\Users\\thoma\\AppData\\Local\\Programs\\Python\\Python39\\lib\\site-packages\\manim\\utils\\deprecation.py\u001b\\\u001b[2mdeprecation.py\u001b[0m\u001b]8;;\u001b\\\u001b[2m:\u001b[0m\u001b]8;id=211051;file://C:\\Users\\thoma\\AppData\\Local\\Programs\\Python\\Python39\\lib\\site-packages\\manim\\utils\\deprecation.py#210\u001b\\\u001b[2m210\u001b[0m\u001b]8;;\u001b\\\n",
       "                             been deprecated since v0.\u001b[32m11.0\u001b[0m and is expected                   \n",
       "                             to be removed after v0.\u001b[32m13.0\u001b[0m. Use plot                           \n",
       "                             instead.                                                        \n"
      ]
     },
     "metadata": {},
     "output_type": "display_data"
    },
    {
     "name": "stderr",
     "output_type": "stream",
     "text": [
      "Animation 1: _MethodAnimation(ValueTracker):  34%|###3      | 101/300 [00:19<01:30,  2.20it/s]"
     ]
    },
    {
     "data": {
      "text/html": [
       "<pre style=\"white-space:pre;overflow-x:auto;line-height:normal;font-family:Menlo,'DejaVu Sans Mono',consolas,'Courier New',monospace\"><span style=\"color: #7fbfbf; text-decoration-color: #7fbfbf\">                    </span><span style=\"color: #800000; text-decoration-color: #800000\">WARNING </span> The method CoordinateSystem.get_graph has     <a href=\"file://C:\\Users\\thoma\\AppData\\Local\\Programs\\Python\\Python39\\lib\\site-packages\\manim\\utils\\deprecation.py\"><span style=\"color: #7f7f7f; text-decoration-color: #7f7f7f\">deprecation.py</span></a><span style=\"color: #7f7f7f; text-decoration-color: #7f7f7f\">:</span><a href=\"file://C:\\Users\\thoma\\AppData\\Local\\Programs\\Python\\Python39\\lib\\site-packages\\manim\\utils\\deprecation.py#210\"><span style=\"color: #7f7f7f; text-decoration-color: #7f7f7f\">210</span></a>\n",
       "                             been deprecated since v0.<span style=\"color: #008000; text-decoration-color: #008000\">11.0</span> and is expected                   \n",
       "                             to be removed after v0.<span style=\"color: #008000; text-decoration-color: #008000\">13.0</span>. Use plot                           \n",
       "                             instead.                                                        \n",
       "</pre>\n"
      ],
      "text/plain": [
       "\u001b[2;36m                   \u001b[0m\u001b[2;36m \u001b[0m\u001b[31mWARNING \u001b[0m The method CoordinateSystem.get_graph has     \u001b]8;id=408332;file://C:\\Users\\thoma\\AppData\\Local\\Programs\\Python\\Python39\\lib\\site-packages\\manim\\utils\\deprecation.py\u001b\\\u001b[2mdeprecation.py\u001b[0m\u001b]8;;\u001b\\\u001b[2m:\u001b[0m\u001b]8;id=413852;file://C:\\Users\\thoma\\AppData\\Local\\Programs\\Python\\Python39\\lib\\site-packages\\manim\\utils\\deprecation.py#210\u001b\\\u001b[2m210\u001b[0m\u001b]8;;\u001b\\\n",
       "                             been deprecated since v0.\u001b[32m11.0\u001b[0m and is expected                   \n",
       "                             to be removed after v0.\u001b[32m13.0\u001b[0m. Use plot                           \n",
       "                             instead.                                                        \n"
      ]
     },
     "metadata": {},
     "output_type": "display_data"
    },
    {
     "name": "stderr",
     "output_type": "stream",
     "text": [
      "Animation 1: _MethodAnimation(ValueTracker):  34%|###4      | 102/300 [00:19<01:26,  2.28it/s]"
     ]
    },
    {
     "data": {
      "text/html": [
       "<pre style=\"white-space:pre;overflow-x:auto;line-height:normal;font-family:Menlo,'DejaVu Sans Mono',consolas,'Courier New',monospace\"><span style=\"color: #7fbfbf; text-decoration-color: #7fbfbf\">[01/31/22 22:10:56] </span><span style=\"color: #800000; text-decoration-color: #800000\">WARNING </span> The method CoordinateSystem.get_graph has     <a href=\"file://C:\\Users\\thoma\\AppData\\Local\\Programs\\Python\\Python39\\lib\\site-packages\\manim\\utils\\deprecation.py\"><span style=\"color: #7f7f7f; text-decoration-color: #7f7f7f\">deprecation.py</span></a><span style=\"color: #7f7f7f; text-decoration-color: #7f7f7f\">:</span><a href=\"file://C:\\Users\\thoma\\AppData\\Local\\Programs\\Python\\Python39\\lib\\site-packages\\manim\\utils\\deprecation.py#210\"><span style=\"color: #7f7f7f; text-decoration-color: #7f7f7f\">210</span></a>\n",
       "                             been deprecated since v0.<span style=\"color: #008000; text-decoration-color: #008000\">11.0</span> and is expected                   \n",
       "                             to be removed after v0.<span style=\"color: #008000; text-decoration-color: #008000\">13.0</span>. Use plot                           \n",
       "                             instead.                                                        \n",
       "</pre>\n"
      ],
      "text/plain": [
       "\u001b[2;36m[01/31/22 22:10:56]\u001b[0m\u001b[2;36m \u001b[0m\u001b[31mWARNING \u001b[0m The method CoordinateSystem.get_graph has     \u001b]8;id=405824;file://C:\\Users\\thoma\\AppData\\Local\\Programs\\Python\\Python39\\lib\\site-packages\\manim\\utils\\deprecation.py\u001b\\\u001b[2mdeprecation.py\u001b[0m\u001b]8;;\u001b\\\u001b[2m:\u001b[0m\u001b]8;id=113326;file://C:\\Users\\thoma\\AppData\\Local\\Programs\\Python\\Python39\\lib\\site-packages\\manim\\utils\\deprecation.py#210\u001b\\\u001b[2m210\u001b[0m\u001b]8;;\u001b\\\n",
       "                             been deprecated since v0.\u001b[32m11.0\u001b[0m and is expected                   \n",
       "                             to be removed after v0.\u001b[32m13.0\u001b[0m. Use plot                           \n",
       "                             instead.                                                        \n"
      ]
     },
     "metadata": {},
     "output_type": "display_data"
    },
    {
     "name": "stderr",
     "output_type": "stream",
     "text": [
      "Animation 1: _MethodAnimation(ValueTracker):  34%|###4      | 103/300 [00:20<01:24,  2.33it/s]"
     ]
    },
    {
     "data": {
      "text/html": [
       "<pre style=\"white-space:pre;overflow-x:auto;line-height:normal;font-family:Menlo,'DejaVu Sans Mono',consolas,'Courier New',monospace\"><span style=\"color: #7fbfbf; text-decoration-color: #7fbfbf\">                    </span><span style=\"color: #800000; text-decoration-color: #800000\">WARNING </span> The method CoordinateSystem.get_graph has     <a href=\"file://C:\\Users\\thoma\\AppData\\Local\\Programs\\Python\\Python39\\lib\\site-packages\\manim\\utils\\deprecation.py\"><span style=\"color: #7f7f7f; text-decoration-color: #7f7f7f\">deprecation.py</span></a><span style=\"color: #7f7f7f; text-decoration-color: #7f7f7f\">:</span><a href=\"file://C:\\Users\\thoma\\AppData\\Local\\Programs\\Python\\Python39\\lib\\site-packages\\manim\\utils\\deprecation.py#210\"><span style=\"color: #7f7f7f; text-decoration-color: #7f7f7f\">210</span></a>\n",
       "                             been deprecated since v0.<span style=\"color: #008000; text-decoration-color: #008000\">11.0</span> and is expected                   \n",
       "                             to be removed after v0.<span style=\"color: #008000; text-decoration-color: #008000\">13.0</span>. Use plot                           \n",
       "                             instead.                                                        \n",
       "</pre>\n"
      ],
      "text/plain": [
       "\u001b[2;36m                   \u001b[0m\u001b[2;36m \u001b[0m\u001b[31mWARNING \u001b[0m The method CoordinateSystem.get_graph has     \u001b]8;id=429989;file://C:\\Users\\thoma\\AppData\\Local\\Programs\\Python\\Python39\\lib\\site-packages\\manim\\utils\\deprecation.py\u001b\\\u001b[2mdeprecation.py\u001b[0m\u001b]8;;\u001b\\\u001b[2m:\u001b[0m\u001b]8;id=307970;file://C:\\Users\\thoma\\AppData\\Local\\Programs\\Python\\Python39\\lib\\site-packages\\manim\\utils\\deprecation.py#210\u001b\\\u001b[2m210\u001b[0m\u001b]8;;\u001b\\\n",
       "                             been deprecated since v0.\u001b[32m11.0\u001b[0m and is expected                   \n",
       "                             to be removed after v0.\u001b[32m13.0\u001b[0m. Use plot                           \n",
       "                             instead.                                                        \n"
      ]
     },
     "metadata": {},
     "output_type": "display_data"
    },
    {
     "name": "stderr",
     "output_type": "stream",
     "text": [
      "Animation 1: _MethodAnimation(ValueTracker):  35%|###4      | 104/300 [00:20<01:20,  2.43it/s]"
     ]
    },
    {
     "data": {
      "text/html": [
       "<pre style=\"white-space:pre;overflow-x:auto;line-height:normal;font-family:Menlo,'DejaVu Sans Mono',consolas,'Courier New',monospace\"><span style=\"color: #7fbfbf; text-decoration-color: #7fbfbf\">                    </span><span style=\"color: #800000; text-decoration-color: #800000\">WARNING </span> The method CoordinateSystem.get_graph has     <a href=\"file://C:\\Users\\thoma\\AppData\\Local\\Programs\\Python\\Python39\\lib\\site-packages\\manim\\utils\\deprecation.py\"><span style=\"color: #7f7f7f; text-decoration-color: #7f7f7f\">deprecation.py</span></a><span style=\"color: #7f7f7f; text-decoration-color: #7f7f7f\">:</span><a href=\"file://C:\\Users\\thoma\\AppData\\Local\\Programs\\Python\\Python39\\lib\\site-packages\\manim\\utils\\deprecation.py#210\"><span style=\"color: #7f7f7f; text-decoration-color: #7f7f7f\">210</span></a>\n",
       "                             been deprecated since v0.<span style=\"color: #008000; text-decoration-color: #008000\">11.0</span> and is expected                   \n",
       "                             to be removed after v0.<span style=\"color: #008000; text-decoration-color: #008000\">13.0</span>. Use plot                           \n",
       "                             instead.                                                        \n",
       "</pre>\n"
      ],
      "text/plain": [
       "\u001b[2;36m                   \u001b[0m\u001b[2;36m \u001b[0m\u001b[31mWARNING \u001b[0m The method CoordinateSystem.get_graph has     \u001b]8;id=78848;file://C:\\Users\\thoma\\AppData\\Local\\Programs\\Python\\Python39\\lib\\site-packages\\manim\\utils\\deprecation.py\u001b\\\u001b[2mdeprecation.py\u001b[0m\u001b]8;;\u001b\\\u001b[2m:\u001b[0m\u001b]8;id=636485;file://C:\\Users\\thoma\\AppData\\Local\\Programs\\Python\\Python39\\lib\\site-packages\\manim\\utils\\deprecation.py#210\u001b\\\u001b[2m210\u001b[0m\u001b]8;;\u001b\\\n",
       "                             been deprecated since v0.\u001b[32m11.0\u001b[0m and is expected                   \n",
       "                             to be removed after v0.\u001b[32m13.0\u001b[0m. Use plot                           \n",
       "                             instead.                                                        \n"
      ]
     },
     "metadata": {},
     "output_type": "display_data"
    },
    {
     "name": "stderr",
     "output_type": "stream",
     "text": [
      "Animation 1: _MethodAnimation(ValueTracker):  35%|###5      | 105/300 [00:20<01:18,  2.49it/s]"
     ]
    },
    {
     "data": {
      "text/html": [
       "<pre style=\"white-space:pre;overflow-x:auto;line-height:normal;font-family:Menlo,'DejaVu Sans Mono',consolas,'Courier New',monospace\"><span style=\"color: #7fbfbf; text-decoration-color: #7fbfbf\">[01/31/22 22:10:57] </span><span style=\"color: #800000; text-decoration-color: #800000\">WARNING </span> The method CoordinateSystem.get_graph has     <a href=\"file://C:\\Users\\thoma\\AppData\\Local\\Programs\\Python\\Python39\\lib\\site-packages\\manim\\utils\\deprecation.py\"><span style=\"color: #7f7f7f; text-decoration-color: #7f7f7f\">deprecation.py</span></a><span style=\"color: #7f7f7f; text-decoration-color: #7f7f7f\">:</span><a href=\"file://C:\\Users\\thoma\\AppData\\Local\\Programs\\Python\\Python39\\lib\\site-packages\\manim\\utils\\deprecation.py#210\"><span style=\"color: #7f7f7f; text-decoration-color: #7f7f7f\">210</span></a>\n",
       "                             been deprecated since v0.<span style=\"color: #008000; text-decoration-color: #008000\">11.0</span> and is expected                   \n",
       "                             to be removed after v0.<span style=\"color: #008000; text-decoration-color: #008000\">13.0</span>. Use plot                           \n",
       "                             instead.                                                        \n",
       "</pre>\n"
      ],
      "text/plain": [
       "\u001b[2;36m[01/31/22 22:10:57]\u001b[0m\u001b[2;36m \u001b[0m\u001b[31mWARNING \u001b[0m The method CoordinateSystem.get_graph has     \u001b]8;id=453934;file://C:\\Users\\thoma\\AppData\\Local\\Programs\\Python\\Python39\\lib\\site-packages\\manim\\utils\\deprecation.py\u001b\\\u001b[2mdeprecation.py\u001b[0m\u001b]8;;\u001b\\\u001b[2m:\u001b[0m\u001b]8;id=778190;file://C:\\Users\\thoma\\AppData\\Local\\Programs\\Python\\Python39\\lib\\site-packages\\manim\\utils\\deprecation.py#210\u001b\\\u001b[2m210\u001b[0m\u001b]8;;\u001b\\\n",
       "                             been deprecated since v0.\u001b[32m11.0\u001b[0m and is expected                   \n",
       "                             to be removed after v0.\u001b[32m13.0\u001b[0m. Use plot                           \n",
       "                             instead.                                                        \n"
      ]
     },
     "metadata": {},
     "output_type": "display_data"
    },
    {
     "name": "stderr",
     "output_type": "stream",
     "text": [
      "Animation 1: _MethodAnimation(ValueTracker):  35%|###5      | 106/300 [00:21<01:25,  2.26it/s]"
     ]
    },
    {
     "data": {
      "text/html": [
       "<pre style=\"white-space:pre;overflow-x:auto;line-height:normal;font-family:Menlo,'DejaVu Sans Mono',consolas,'Courier New',monospace\"><span style=\"color: #7fbfbf; text-decoration-color: #7fbfbf\">                    </span><span style=\"color: #800000; text-decoration-color: #800000\">WARNING </span> The method CoordinateSystem.get_graph has     <a href=\"file://C:\\Users\\thoma\\AppData\\Local\\Programs\\Python\\Python39\\lib\\site-packages\\manim\\utils\\deprecation.py\"><span style=\"color: #7f7f7f; text-decoration-color: #7f7f7f\">deprecation.py</span></a><span style=\"color: #7f7f7f; text-decoration-color: #7f7f7f\">:</span><a href=\"file://C:\\Users\\thoma\\AppData\\Local\\Programs\\Python\\Python39\\lib\\site-packages\\manim\\utils\\deprecation.py#210\"><span style=\"color: #7f7f7f; text-decoration-color: #7f7f7f\">210</span></a>\n",
       "                             been deprecated since v0.<span style=\"color: #008000; text-decoration-color: #008000\">11.0</span> and is expected                   \n",
       "                             to be removed after v0.<span style=\"color: #008000; text-decoration-color: #008000\">13.0</span>. Use plot                           \n",
       "                             instead.                                                        \n",
       "</pre>\n"
      ],
      "text/plain": [
       "\u001b[2;36m                   \u001b[0m\u001b[2;36m \u001b[0m\u001b[31mWARNING \u001b[0m The method CoordinateSystem.get_graph has     \u001b]8;id=683296;file://C:\\Users\\thoma\\AppData\\Local\\Programs\\Python\\Python39\\lib\\site-packages\\manim\\utils\\deprecation.py\u001b\\\u001b[2mdeprecation.py\u001b[0m\u001b]8;;\u001b\\\u001b[2m:\u001b[0m\u001b]8;id=69607;file://C:\\Users\\thoma\\AppData\\Local\\Programs\\Python\\Python39\\lib\\site-packages\\manim\\utils\\deprecation.py#210\u001b\\\u001b[2m210\u001b[0m\u001b]8;;\u001b\\\n",
       "                             been deprecated since v0.\u001b[32m11.0\u001b[0m and is expected                   \n",
       "                             to be removed after v0.\u001b[32m13.0\u001b[0m. Use plot                           \n",
       "                             instead.                                                        \n"
      ]
     },
     "metadata": {},
     "output_type": "display_data"
    },
    {
     "name": "stderr",
     "output_type": "stream",
     "text": [
      "Animation 1: _MethodAnimation(ValueTracker):  36%|###5      | 107/300 [00:21<01:27,  2.21it/s]"
     ]
    },
    {
     "data": {
      "text/html": [
       "<pre style=\"white-space:pre;overflow-x:auto;line-height:normal;font-family:Menlo,'DejaVu Sans Mono',consolas,'Courier New',monospace\"><span style=\"color: #7fbfbf; text-decoration-color: #7fbfbf\">[01/31/22 22:10:58] </span><span style=\"color: #800000; text-decoration-color: #800000\">WARNING </span> The method CoordinateSystem.get_graph has     <a href=\"file://C:\\Users\\thoma\\AppData\\Local\\Programs\\Python\\Python39\\lib\\site-packages\\manim\\utils\\deprecation.py\"><span style=\"color: #7f7f7f; text-decoration-color: #7f7f7f\">deprecation.py</span></a><span style=\"color: #7f7f7f; text-decoration-color: #7f7f7f\">:</span><a href=\"file://C:\\Users\\thoma\\AppData\\Local\\Programs\\Python\\Python39\\lib\\site-packages\\manim\\utils\\deprecation.py#210\"><span style=\"color: #7f7f7f; text-decoration-color: #7f7f7f\">210</span></a>\n",
       "                             been deprecated since v0.<span style=\"color: #008000; text-decoration-color: #008000\">11.0</span> and is expected                   \n",
       "                             to be removed after v0.<span style=\"color: #008000; text-decoration-color: #008000\">13.0</span>. Use plot                           \n",
       "                             instead.                                                        \n",
       "</pre>\n"
      ],
      "text/plain": [
       "\u001b[2;36m[01/31/22 22:10:58]\u001b[0m\u001b[2;36m \u001b[0m\u001b[31mWARNING \u001b[0m The method CoordinateSystem.get_graph has     \u001b]8;id=485394;file://C:\\Users\\thoma\\AppData\\Local\\Programs\\Python\\Python39\\lib\\site-packages\\manim\\utils\\deprecation.py\u001b\\\u001b[2mdeprecation.py\u001b[0m\u001b]8;;\u001b\\\u001b[2m:\u001b[0m\u001b]8;id=285058;file://C:\\Users\\thoma\\AppData\\Local\\Programs\\Python\\Python39\\lib\\site-packages\\manim\\utils\\deprecation.py#210\u001b\\\u001b[2m210\u001b[0m\u001b]8;;\u001b\\\n",
       "                             been deprecated since v0.\u001b[32m11.0\u001b[0m and is expected                   \n",
       "                             to be removed after v0.\u001b[32m13.0\u001b[0m. Use plot                           \n",
       "                             instead.                                                        \n"
      ]
     },
     "metadata": {},
     "output_type": "display_data"
    },
    {
     "name": "stderr",
     "output_type": "stream",
     "text": [
      "Animation 1: _MethodAnimation(ValueTracker):  36%|###6      | 108/300 [00:22<01:23,  2.29it/s]"
     ]
    },
    {
     "data": {
      "text/html": [
       "<pre style=\"white-space:pre;overflow-x:auto;line-height:normal;font-family:Menlo,'DejaVu Sans Mono',consolas,'Courier New',monospace\"><span style=\"color: #7fbfbf; text-decoration-color: #7fbfbf\">                    </span><span style=\"color: #800000; text-decoration-color: #800000\">WARNING </span> The method CoordinateSystem.get_graph has     <a href=\"file://C:\\Users\\thoma\\AppData\\Local\\Programs\\Python\\Python39\\lib\\site-packages\\manim\\utils\\deprecation.py\"><span style=\"color: #7f7f7f; text-decoration-color: #7f7f7f\">deprecation.py</span></a><span style=\"color: #7f7f7f; text-decoration-color: #7f7f7f\">:</span><a href=\"file://C:\\Users\\thoma\\AppData\\Local\\Programs\\Python\\Python39\\lib\\site-packages\\manim\\utils\\deprecation.py#210\"><span style=\"color: #7f7f7f; text-decoration-color: #7f7f7f\">210</span></a>\n",
       "                             been deprecated since v0.<span style=\"color: #008000; text-decoration-color: #008000\">11.0</span> and is expected                   \n",
       "                             to be removed after v0.<span style=\"color: #008000; text-decoration-color: #008000\">13.0</span>. Use plot                           \n",
       "                             instead.                                                        \n",
       "</pre>\n"
      ],
      "text/plain": [
       "\u001b[2;36m                   \u001b[0m\u001b[2;36m \u001b[0m\u001b[31mWARNING \u001b[0m The method CoordinateSystem.get_graph has     \u001b]8;id=245586;file://C:\\Users\\thoma\\AppData\\Local\\Programs\\Python\\Python39\\lib\\site-packages\\manim\\utils\\deprecation.py\u001b\\\u001b[2mdeprecation.py\u001b[0m\u001b]8;;\u001b\\\u001b[2m:\u001b[0m\u001b]8;id=382228;file://C:\\Users\\thoma\\AppData\\Local\\Programs\\Python\\Python39\\lib\\site-packages\\manim\\utils\\deprecation.py#210\u001b\\\u001b[2m210\u001b[0m\u001b]8;;\u001b\\\n",
       "                             been deprecated since v0.\u001b[32m11.0\u001b[0m and is expected                   \n",
       "                             to be removed after v0.\u001b[32m13.0\u001b[0m. Use plot                           \n",
       "                             instead.                                                        \n"
      ]
     },
     "metadata": {},
     "output_type": "display_data"
    },
    {
     "name": "stderr",
     "output_type": "stream",
     "text": [
      "Animation 1: _MethodAnimation(ValueTracker):  36%|###6      | 109/300 [00:22<01:18,  2.42it/s]"
     ]
    },
    {
     "data": {
      "text/html": [
       "<pre style=\"white-space:pre;overflow-x:auto;line-height:normal;font-family:Menlo,'DejaVu Sans Mono',consolas,'Courier New',monospace\"><span style=\"color: #7fbfbf; text-decoration-color: #7fbfbf\">                    </span><span style=\"color: #800000; text-decoration-color: #800000\">WARNING </span> The method CoordinateSystem.get_graph has     <a href=\"file://C:\\Users\\thoma\\AppData\\Local\\Programs\\Python\\Python39\\lib\\site-packages\\manim\\utils\\deprecation.py\"><span style=\"color: #7f7f7f; text-decoration-color: #7f7f7f\">deprecation.py</span></a><span style=\"color: #7f7f7f; text-decoration-color: #7f7f7f\">:</span><a href=\"file://C:\\Users\\thoma\\AppData\\Local\\Programs\\Python\\Python39\\lib\\site-packages\\manim\\utils\\deprecation.py#210\"><span style=\"color: #7f7f7f; text-decoration-color: #7f7f7f\">210</span></a>\n",
       "                             been deprecated since v0.<span style=\"color: #008000; text-decoration-color: #008000\">11.0</span> and is expected                   \n",
       "                             to be removed after v0.<span style=\"color: #008000; text-decoration-color: #008000\">13.0</span>. Use plot                           \n",
       "                             instead.                                                        \n",
       "</pre>\n"
      ],
      "text/plain": [
       "\u001b[2;36m                   \u001b[0m\u001b[2;36m \u001b[0m\u001b[31mWARNING \u001b[0m The method CoordinateSystem.get_graph has     \u001b]8;id=776079;file://C:\\Users\\thoma\\AppData\\Local\\Programs\\Python\\Python39\\lib\\site-packages\\manim\\utils\\deprecation.py\u001b\\\u001b[2mdeprecation.py\u001b[0m\u001b]8;;\u001b\\\u001b[2m:\u001b[0m\u001b]8;id=626586;file://C:\\Users\\thoma\\AppData\\Local\\Programs\\Python\\Python39\\lib\\site-packages\\manim\\utils\\deprecation.py#210\u001b\\\u001b[2m210\u001b[0m\u001b]8;;\u001b\\\n",
       "                             been deprecated since v0.\u001b[32m11.0\u001b[0m and is expected                   \n",
       "                             to be removed after v0.\u001b[32m13.0\u001b[0m. Use plot                           \n",
       "                             instead.                                                        \n"
      ]
     },
     "metadata": {},
     "output_type": "display_data"
    },
    {
     "name": "stderr",
     "output_type": "stream",
     "text": [
      "Animation 1: _MethodAnimation(ValueTracker):  37%|###6      | 110/300 [00:23<01:15,  2.51it/s]"
     ]
    },
    {
     "data": {
      "text/html": [
       "<pre style=\"white-space:pre;overflow-x:auto;line-height:normal;font-family:Menlo,'DejaVu Sans Mono',consolas,'Courier New',monospace\"><span style=\"color: #7fbfbf; text-decoration-color: #7fbfbf\">[01/31/22 22:10:59] </span><span style=\"color: #800000; text-decoration-color: #800000\">WARNING </span> The method CoordinateSystem.get_graph has     <a href=\"file://C:\\Users\\thoma\\AppData\\Local\\Programs\\Python\\Python39\\lib\\site-packages\\manim\\utils\\deprecation.py\"><span style=\"color: #7f7f7f; text-decoration-color: #7f7f7f\">deprecation.py</span></a><span style=\"color: #7f7f7f; text-decoration-color: #7f7f7f\">:</span><a href=\"file://C:\\Users\\thoma\\AppData\\Local\\Programs\\Python\\Python39\\lib\\site-packages\\manim\\utils\\deprecation.py#210\"><span style=\"color: #7f7f7f; text-decoration-color: #7f7f7f\">210</span></a>\n",
       "                             been deprecated since v0.<span style=\"color: #008000; text-decoration-color: #008000\">11.0</span> and is expected                   \n",
       "                             to be removed after v0.<span style=\"color: #008000; text-decoration-color: #008000\">13.0</span>. Use plot                           \n",
       "                             instead.                                                        \n",
       "</pre>\n"
      ],
      "text/plain": [
       "\u001b[2;36m[01/31/22 22:10:59]\u001b[0m\u001b[2;36m \u001b[0m\u001b[31mWARNING \u001b[0m The method CoordinateSystem.get_graph has     \u001b]8;id=254194;file://C:\\Users\\thoma\\AppData\\Local\\Programs\\Python\\Python39\\lib\\site-packages\\manim\\utils\\deprecation.py\u001b\\\u001b[2mdeprecation.py\u001b[0m\u001b]8;;\u001b\\\u001b[2m:\u001b[0m\u001b]8;id=632353;file://C:\\Users\\thoma\\AppData\\Local\\Programs\\Python\\Python39\\lib\\site-packages\\manim\\utils\\deprecation.py#210\u001b\\\u001b[2m210\u001b[0m\u001b]8;;\u001b\\\n",
       "                             been deprecated since v0.\u001b[32m11.0\u001b[0m and is expected                   \n",
       "                             to be removed after v0.\u001b[32m13.0\u001b[0m. Use plot                           \n",
       "                             instead.                                                        \n"
      ]
     },
     "metadata": {},
     "output_type": "display_data"
    },
    {
     "name": "stderr",
     "output_type": "stream",
     "text": [
      "Animation 1: _MethodAnimation(ValueTracker):  37%|###7      | 111/300 [00:23<01:23,  2.27it/s]"
     ]
    },
    {
     "data": {
      "text/html": [
       "<pre style=\"white-space:pre;overflow-x:auto;line-height:normal;font-family:Menlo,'DejaVu Sans Mono',consolas,'Courier New',monospace\"><span style=\"color: #7fbfbf; text-decoration-color: #7fbfbf\">                    </span><span style=\"color: #800000; text-decoration-color: #800000\">WARNING </span> The method CoordinateSystem.get_graph has     <a href=\"file://C:\\Users\\thoma\\AppData\\Local\\Programs\\Python\\Python39\\lib\\site-packages\\manim\\utils\\deprecation.py\"><span style=\"color: #7f7f7f; text-decoration-color: #7f7f7f\">deprecation.py</span></a><span style=\"color: #7f7f7f; text-decoration-color: #7f7f7f\">:</span><a href=\"file://C:\\Users\\thoma\\AppData\\Local\\Programs\\Python\\Python39\\lib\\site-packages\\manim\\utils\\deprecation.py#210\"><span style=\"color: #7f7f7f; text-decoration-color: #7f7f7f\">210</span></a>\n",
       "                             been deprecated since v0.<span style=\"color: #008000; text-decoration-color: #008000\">11.0</span> and is expected                   \n",
       "                             to be removed after v0.<span style=\"color: #008000; text-decoration-color: #008000\">13.0</span>. Use plot                           \n",
       "                             instead.                                                        \n",
       "</pre>\n"
      ],
      "text/plain": [
       "\u001b[2;36m                   \u001b[0m\u001b[2;36m \u001b[0m\u001b[31mWARNING \u001b[0m The method CoordinateSystem.get_graph has     \u001b]8;id=52915;file://C:\\Users\\thoma\\AppData\\Local\\Programs\\Python\\Python39\\lib\\site-packages\\manim\\utils\\deprecation.py\u001b\\\u001b[2mdeprecation.py\u001b[0m\u001b]8;;\u001b\\\u001b[2m:\u001b[0m\u001b]8;id=903507;file://C:\\Users\\thoma\\AppData\\Local\\Programs\\Python\\Python39\\lib\\site-packages\\manim\\utils\\deprecation.py#210\u001b\\\u001b[2m210\u001b[0m\u001b]8;;\u001b\\\n",
       "                             been deprecated since v0.\u001b[32m11.0\u001b[0m and is expected                   \n",
       "                             to be removed after v0.\u001b[32m13.0\u001b[0m. Use plot                           \n",
       "                             instead.                                                        \n"
      ]
     },
     "metadata": {},
     "output_type": "display_data"
    },
    {
     "name": "stderr",
     "output_type": "stream",
     "text": [
      "Animation 1: _MethodAnimation(ValueTracker):  37%|###7      | 112/300 [00:24<01:25,  2.19it/s]"
     ]
    },
    {
     "data": {
      "text/html": [
       "<pre style=\"white-space:pre;overflow-x:auto;line-height:normal;font-family:Menlo,'DejaVu Sans Mono',consolas,'Courier New',monospace\"><span style=\"color: #7fbfbf; text-decoration-color: #7fbfbf\">[01/31/22 22:11:00] </span><span style=\"color: #800000; text-decoration-color: #800000\">WARNING </span> The method CoordinateSystem.get_graph has     <a href=\"file://C:\\Users\\thoma\\AppData\\Local\\Programs\\Python\\Python39\\lib\\site-packages\\manim\\utils\\deprecation.py\"><span style=\"color: #7f7f7f; text-decoration-color: #7f7f7f\">deprecation.py</span></a><span style=\"color: #7f7f7f; text-decoration-color: #7f7f7f\">:</span><a href=\"file://C:\\Users\\thoma\\AppData\\Local\\Programs\\Python\\Python39\\lib\\site-packages\\manim\\utils\\deprecation.py#210\"><span style=\"color: #7f7f7f; text-decoration-color: #7f7f7f\">210</span></a>\n",
       "                             been deprecated since v0.<span style=\"color: #008000; text-decoration-color: #008000\">11.0</span> and is expected                   \n",
       "                             to be removed after v0.<span style=\"color: #008000; text-decoration-color: #008000\">13.0</span>. Use plot                           \n",
       "                             instead.                                                        \n",
       "</pre>\n"
      ],
      "text/plain": [
       "\u001b[2;36m[01/31/22 22:11:00]\u001b[0m\u001b[2;36m \u001b[0m\u001b[31mWARNING \u001b[0m The method CoordinateSystem.get_graph has     \u001b]8;id=670916;file://C:\\Users\\thoma\\AppData\\Local\\Programs\\Python\\Python39\\lib\\site-packages\\manim\\utils\\deprecation.py\u001b\\\u001b[2mdeprecation.py\u001b[0m\u001b]8;;\u001b\\\u001b[2m:\u001b[0m\u001b]8;id=223437;file://C:\\Users\\thoma\\AppData\\Local\\Programs\\Python\\Python39\\lib\\site-packages\\manim\\utils\\deprecation.py#210\u001b\\\u001b[2m210\u001b[0m\u001b]8;;\u001b\\\n",
       "                             been deprecated since v0.\u001b[32m11.0\u001b[0m and is expected                   \n",
       "                             to be removed after v0.\u001b[32m13.0\u001b[0m. Use plot                           \n",
       "                             instead.                                                        \n"
      ]
     },
     "metadata": {},
     "output_type": "display_data"
    },
    {
     "name": "stderr",
     "output_type": "stream",
     "text": [
      "Animation 1: _MethodAnimation(ValueTracker):  38%|###7      | 113/300 [00:24<01:33,  2.01it/s]"
     ]
    },
    {
     "data": {
      "text/html": [
       "<pre style=\"white-space:pre;overflow-x:auto;line-height:normal;font-family:Menlo,'DejaVu Sans Mono',consolas,'Courier New',monospace\"><span style=\"color: #7fbfbf; text-decoration-color: #7fbfbf\">[01/31/22 22:11:01] </span><span style=\"color: #800000; text-decoration-color: #800000\">WARNING </span> The method CoordinateSystem.get_graph has     <a href=\"file://C:\\Users\\thoma\\AppData\\Local\\Programs\\Python\\Python39\\lib\\site-packages\\manim\\utils\\deprecation.py\"><span style=\"color: #7f7f7f; text-decoration-color: #7f7f7f\">deprecation.py</span></a><span style=\"color: #7f7f7f; text-decoration-color: #7f7f7f\">:</span><a href=\"file://C:\\Users\\thoma\\AppData\\Local\\Programs\\Python\\Python39\\lib\\site-packages\\manim\\utils\\deprecation.py#210\"><span style=\"color: #7f7f7f; text-decoration-color: #7f7f7f\">210</span></a>\n",
       "                             been deprecated since v0.<span style=\"color: #008000; text-decoration-color: #008000\">11.0</span> and is expected                   \n",
       "                             to be removed after v0.<span style=\"color: #008000; text-decoration-color: #008000\">13.0</span>. Use plot                           \n",
       "                             instead.                                                        \n",
       "</pre>\n"
      ],
      "text/plain": [
       "\u001b[2;36m[01/31/22 22:11:01]\u001b[0m\u001b[2;36m \u001b[0m\u001b[31mWARNING \u001b[0m The method CoordinateSystem.get_graph has     \u001b]8;id=65212;file://C:\\Users\\thoma\\AppData\\Local\\Programs\\Python\\Python39\\lib\\site-packages\\manim\\utils\\deprecation.py\u001b\\\u001b[2mdeprecation.py\u001b[0m\u001b]8;;\u001b\\\u001b[2m:\u001b[0m\u001b]8;id=125775;file://C:\\Users\\thoma\\AppData\\Local\\Programs\\Python\\Python39\\lib\\site-packages\\manim\\utils\\deprecation.py#210\u001b\\\u001b[2m210\u001b[0m\u001b]8;;\u001b\\\n",
       "                             been deprecated since v0.\u001b[32m11.0\u001b[0m and is expected                   \n",
       "                             to be removed after v0.\u001b[32m13.0\u001b[0m. Use plot                           \n",
       "                             instead.                                                        \n"
      ]
     },
     "metadata": {},
     "output_type": "display_data"
    },
    {
     "name": "stderr",
     "output_type": "stream",
     "text": [
      "Animation 1: _MethodAnimation(ValueTracker):  38%|###8      | 114/300 [00:25<01:49,  1.70it/s]"
     ]
    },
    {
     "data": {
      "text/html": [
       "<pre style=\"white-space:pre;overflow-x:auto;line-height:normal;font-family:Menlo,'DejaVu Sans Mono',consolas,'Courier New',monospace\"><span style=\"color: #7fbfbf; text-decoration-color: #7fbfbf\">                    </span><span style=\"color: #800000; text-decoration-color: #800000\">WARNING </span> The method CoordinateSystem.get_graph has     <a href=\"file://C:\\Users\\thoma\\AppData\\Local\\Programs\\Python\\Python39\\lib\\site-packages\\manim\\utils\\deprecation.py\"><span style=\"color: #7f7f7f; text-decoration-color: #7f7f7f\">deprecation.py</span></a><span style=\"color: #7f7f7f; text-decoration-color: #7f7f7f\">:</span><a href=\"file://C:\\Users\\thoma\\AppData\\Local\\Programs\\Python\\Python39\\lib\\site-packages\\manim\\utils\\deprecation.py#210\"><span style=\"color: #7f7f7f; text-decoration-color: #7f7f7f\">210</span></a>\n",
       "                             been deprecated since v0.<span style=\"color: #008000; text-decoration-color: #008000\">11.0</span> and is expected                   \n",
       "                             to be removed after v0.<span style=\"color: #008000; text-decoration-color: #008000\">13.0</span>. Use plot                           \n",
       "                             instead.                                                        \n",
       "</pre>\n"
      ],
      "text/plain": [
       "\u001b[2;36m                   \u001b[0m\u001b[2;36m \u001b[0m\u001b[31mWARNING \u001b[0m The method CoordinateSystem.get_graph has     \u001b]8;id=872219;file://C:\\Users\\thoma\\AppData\\Local\\Programs\\Python\\Python39\\lib\\site-packages\\manim\\utils\\deprecation.py\u001b\\\u001b[2mdeprecation.py\u001b[0m\u001b]8;;\u001b\\\u001b[2m:\u001b[0m\u001b]8;id=443942;file://C:\\Users\\thoma\\AppData\\Local\\Programs\\Python\\Python39\\lib\\site-packages\\manim\\utils\\deprecation.py#210\u001b\\\u001b[2m210\u001b[0m\u001b]8;;\u001b\\\n",
       "                             been deprecated since v0.\u001b[32m11.0\u001b[0m and is expected                   \n",
       "                             to be removed after v0.\u001b[32m13.0\u001b[0m. Use plot                           \n",
       "                             instead.                                                        \n"
      ]
     },
     "metadata": {},
     "output_type": "display_data"
    },
    {
     "name": "stderr",
     "output_type": "stream",
     "text": [
      "Animation 1: _MethodAnimation(ValueTracker):  38%|###8      | 115/300 [00:25<01:42,  1.81it/s]"
     ]
    },
    {
     "data": {
      "text/html": [
       "<pre style=\"white-space:pre;overflow-x:auto;line-height:normal;font-family:Menlo,'DejaVu Sans Mono',consolas,'Courier New',monospace\"><span style=\"color: #7fbfbf; text-decoration-color: #7fbfbf\">[01/31/22 22:11:02] </span><span style=\"color: #800000; text-decoration-color: #800000\">WARNING </span> The method CoordinateSystem.get_graph has     <a href=\"file://C:\\Users\\thoma\\AppData\\Local\\Programs\\Python\\Python39\\lib\\site-packages\\manim\\utils\\deprecation.py\"><span style=\"color: #7f7f7f; text-decoration-color: #7f7f7f\">deprecation.py</span></a><span style=\"color: #7f7f7f; text-decoration-color: #7f7f7f\">:</span><a href=\"file://C:\\Users\\thoma\\AppData\\Local\\Programs\\Python\\Python39\\lib\\site-packages\\manim\\utils\\deprecation.py#210\"><span style=\"color: #7f7f7f; text-decoration-color: #7f7f7f\">210</span></a>\n",
       "                             been deprecated since v0.<span style=\"color: #008000; text-decoration-color: #008000\">11.0</span> and is expected                   \n",
       "                             to be removed after v0.<span style=\"color: #008000; text-decoration-color: #008000\">13.0</span>. Use plot                           \n",
       "                             instead.                                                        \n",
       "</pre>\n"
      ],
      "text/plain": [
       "\u001b[2;36m[01/31/22 22:11:02]\u001b[0m\u001b[2;36m \u001b[0m\u001b[31mWARNING \u001b[0m The method CoordinateSystem.get_graph has     \u001b]8;id=466661;file://C:\\Users\\thoma\\AppData\\Local\\Programs\\Python\\Python39\\lib\\site-packages\\manim\\utils\\deprecation.py\u001b\\\u001b[2mdeprecation.py\u001b[0m\u001b]8;;\u001b\\\u001b[2m:\u001b[0m\u001b]8;id=720621;file://C:\\Users\\thoma\\AppData\\Local\\Programs\\Python\\Python39\\lib\\site-packages\\manim\\utils\\deprecation.py#210\u001b\\\u001b[2m210\u001b[0m\u001b]8;;\u001b\\\n",
       "                             been deprecated since v0.\u001b[32m11.0\u001b[0m and is expected                   \n",
       "                             to be removed after v0.\u001b[32m13.0\u001b[0m. Use plot                           \n",
       "                             instead.                                                        \n"
      ]
     },
     "metadata": {},
     "output_type": "display_data"
    },
    {
     "name": "stderr",
     "output_type": "stream",
     "text": [
      "Animation 1: _MethodAnimation(ValueTracker):  39%|###8      | 116/300 [00:26<01:40,  1.83it/s]"
     ]
    },
    {
     "data": {
      "text/html": [
       "<pre style=\"white-space:pre;overflow-x:auto;line-height:normal;font-family:Menlo,'DejaVu Sans Mono',consolas,'Courier New',monospace\"><span style=\"color: #7fbfbf; text-decoration-color: #7fbfbf\">                    </span><span style=\"color: #800000; text-decoration-color: #800000\">WARNING </span> The method CoordinateSystem.get_graph has     <a href=\"file://C:\\Users\\thoma\\AppData\\Local\\Programs\\Python\\Python39\\lib\\site-packages\\manim\\utils\\deprecation.py\"><span style=\"color: #7f7f7f; text-decoration-color: #7f7f7f\">deprecation.py</span></a><span style=\"color: #7f7f7f; text-decoration-color: #7f7f7f\">:</span><a href=\"file://C:\\Users\\thoma\\AppData\\Local\\Programs\\Python\\Python39\\lib\\site-packages\\manim\\utils\\deprecation.py#210\"><span style=\"color: #7f7f7f; text-decoration-color: #7f7f7f\">210</span></a>\n",
       "                             been deprecated since v0.<span style=\"color: #008000; text-decoration-color: #008000\">11.0</span> and is expected                   \n",
       "                             to be removed after v0.<span style=\"color: #008000; text-decoration-color: #008000\">13.0</span>. Use plot                           \n",
       "                             instead.                                                        \n",
       "</pre>\n"
      ],
      "text/plain": [
       "\u001b[2;36m                   \u001b[0m\u001b[2;36m \u001b[0m\u001b[31mWARNING \u001b[0m The method CoordinateSystem.get_graph has     \u001b]8;id=630265;file://C:\\Users\\thoma\\AppData\\Local\\Programs\\Python\\Python39\\lib\\site-packages\\manim\\utils\\deprecation.py\u001b\\\u001b[2mdeprecation.py\u001b[0m\u001b]8;;\u001b\\\u001b[2m:\u001b[0m\u001b]8;id=605735;file://C:\\Users\\thoma\\AppData\\Local\\Programs\\Python\\Python39\\lib\\site-packages\\manim\\utils\\deprecation.py#210\u001b\\\u001b[2m210\u001b[0m\u001b]8;;\u001b\\\n",
       "                             been deprecated since v0.\u001b[32m11.0\u001b[0m and is expected                   \n",
       "                             to be removed after v0.\u001b[32m13.0\u001b[0m. Use plot                           \n",
       "                             instead.                                                        \n"
      ]
     },
     "metadata": {},
     "output_type": "display_data"
    },
    {
     "name": "stderr",
     "output_type": "stream",
     "text": [
      "Animation 1: _MethodAnimation(ValueTracker):  39%|###9      | 117/300 [00:26<01:35,  1.92it/s]"
     ]
    },
    {
     "data": {
      "text/html": [
       "<pre style=\"white-space:pre;overflow-x:auto;line-height:normal;font-family:Menlo,'DejaVu Sans Mono',consolas,'Courier New',monospace\"><span style=\"color: #7fbfbf; text-decoration-color: #7fbfbf\">[01/31/22 22:11:03] </span><span style=\"color: #800000; text-decoration-color: #800000\">WARNING </span> The method CoordinateSystem.get_graph has     <a href=\"file://C:\\Users\\thoma\\AppData\\Local\\Programs\\Python\\Python39\\lib\\site-packages\\manim\\utils\\deprecation.py\"><span style=\"color: #7f7f7f; text-decoration-color: #7f7f7f\">deprecation.py</span></a><span style=\"color: #7f7f7f; text-decoration-color: #7f7f7f\">:</span><a href=\"file://C:\\Users\\thoma\\AppData\\Local\\Programs\\Python\\Python39\\lib\\site-packages\\manim\\utils\\deprecation.py#210\"><span style=\"color: #7f7f7f; text-decoration-color: #7f7f7f\">210</span></a>\n",
       "                             been deprecated since v0.<span style=\"color: #008000; text-decoration-color: #008000\">11.0</span> and is expected                   \n",
       "                             to be removed after v0.<span style=\"color: #008000; text-decoration-color: #008000\">13.0</span>. Use plot                           \n",
       "                             instead.                                                        \n",
       "</pre>\n"
      ],
      "text/plain": [
       "\u001b[2;36m[01/31/22 22:11:03]\u001b[0m\u001b[2;36m \u001b[0m\u001b[31mWARNING \u001b[0m The method CoordinateSystem.get_graph has     \u001b]8;id=80722;file://C:\\Users\\thoma\\AppData\\Local\\Programs\\Python\\Python39\\lib\\site-packages\\manim\\utils\\deprecation.py\u001b\\\u001b[2mdeprecation.py\u001b[0m\u001b]8;;\u001b\\\u001b[2m:\u001b[0m\u001b]8;id=624371;file://C:\\Users\\thoma\\AppData\\Local\\Programs\\Python\\Python39\\lib\\site-packages\\manim\\utils\\deprecation.py#210\u001b\\\u001b[2m210\u001b[0m\u001b]8;;\u001b\\\n",
       "                             been deprecated since v0.\u001b[32m11.0\u001b[0m and is expected                   \n",
       "                             to be removed after v0.\u001b[32m13.0\u001b[0m. Use plot                           \n",
       "                             instead.                                                        \n"
      ]
     },
     "metadata": {},
     "output_type": "display_data"
    },
    {
     "name": "stderr",
     "output_type": "stream",
     "text": [
      "Animation 1: _MethodAnimation(ValueTracker):  39%|###9      | 118/300 [00:27<01:29,  2.04it/s]"
     ]
    },
    {
     "data": {
      "text/html": [
       "<pre style=\"white-space:pre;overflow-x:auto;line-height:normal;font-family:Menlo,'DejaVu Sans Mono',consolas,'Courier New',monospace\"><span style=\"color: #7fbfbf; text-decoration-color: #7fbfbf\">                    </span><span style=\"color: #800000; text-decoration-color: #800000\">WARNING </span> The method CoordinateSystem.get_graph has     <a href=\"file://C:\\Users\\thoma\\AppData\\Local\\Programs\\Python\\Python39\\lib\\site-packages\\manim\\utils\\deprecation.py\"><span style=\"color: #7f7f7f; text-decoration-color: #7f7f7f\">deprecation.py</span></a><span style=\"color: #7f7f7f; text-decoration-color: #7f7f7f\">:</span><a href=\"file://C:\\Users\\thoma\\AppData\\Local\\Programs\\Python\\Python39\\lib\\site-packages\\manim\\utils\\deprecation.py#210\"><span style=\"color: #7f7f7f; text-decoration-color: #7f7f7f\">210</span></a>\n",
       "                             been deprecated since v0.<span style=\"color: #008000; text-decoration-color: #008000\">11.0</span> and is expected                   \n",
       "                             to be removed after v0.<span style=\"color: #008000; text-decoration-color: #008000\">13.0</span>. Use plot                           \n",
       "                             instead.                                                        \n",
       "</pre>\n"
      ],
      "text/plain": [
       "\u001b[2;36m                   \u001b[0m\u001b[2;36m \u001b[0m\u001b[31mWARNING \u001b[0m The method CoordinateSystem.get_graph has     \u001b]8;id=187297;file://C:\\Users\\thoma\\AppData\\Local\\Programs\\Python\\Python39\\lib\\site-packages\\manim\\utils\\deprecation.py\u001b\\\u001b[2mdeprecation.py\u001b[0m\u001b]8;;\u001b\\\u001b[2m:\u001b[0m\u001b]8;id=288377;file://C:\\Users\\thoma\\AppData\\Local\\Programs\\Python\\Python39\\lib\\site-packages\\manim\\utils\\deprecation.py#210\u001b\\\u001b[2m210\u001b[0m\u001b]8;;\u001b\\\n",
       "                             been deprecated since v0.\u001b[32m11.0\u001b[0m and is expected                   \n",
       "                             to be removed after v0.\u001b[32m13.0\u001b[0m. Use plot                           \n",
       "                             instead.                                                        \n"
      ]
     },
     "metadata": {},
     "output_type": "display_data"
    },
    {
     "name": "stderr",
     "output_type": "stream",
     "text": [
      "Animation 1: _MethodAnimation(ValueTracker):  40%|###9      | 119/300 [00:27<01:25,  2.12it/s]"
     ]
    },
    {
     "data": {
      "text/html": [
       "<pre style=\"white-space:pre;overflow-x:auto;line-height:normal;font-family:Menlo,'DejaVu Sans Mono',consolas,'Courier New',monospace\"><span style=\"color: #7fbfbf; text-decoration-color: #7fbfbf\">[01/31/22 22:11:04] </span><span style=\"color: #800000; text-decoration-color: #800000\">WARNING </span> The method CoordinateSystem.get_graph has     <a href=\"file://C:\\Users\\thoma\\AppData\\Local\\Programs\\Python\\Python39\\lib\\site-packages\\manim\\utils\\deprecation.py\"><span style=\"color: #7f7f7f; text-decoration-color: #7f7f7f\">deprecation.py</span></a><span style=\"color: #7f7f7f; text-decoration-color: #7f7f7f\">:</span><a href=\"file://C:\\Users\\thoma\\AppData\\Local\\Programs\\Python\\Python39\\lib\\site-packages\\manim\\utils\\deprecation.py#210\"><span style=\"color: #7f7f7f; text-decoration-color: #7f7f7f\">210</span></a>\n",
       "                             been deprecated since v0.<span style=\"color: #008000; text-decoration-color: #008000\">11.0</span> and is expected                   \n",
       "                             to be removed after v0.<span style=\"color: #008000; text-decoration-color: #008000\">13.0</span>. Use plot                           \n",
       "                             instead.                                                        \n",
       "</pre>\n"
      ],
      "text/plain": [
       "\u001b[2;36m[01/31/22 22:11:04]\u001b[0m\u001b[2;36m \u001b[0m\u001b[31mWARNING \u001b[0m The method CoordinateSystem.get_graph has     \u001b]8;id=824341;file://C:\\Users\\thoma\\AppData\\Local\\Programs\\Python\\Python39\\lib\\site-packages\\manim\\utils\\deprecation.py\u001b\\\u001b[2mdeprecation.py\u001b[0m\u001b]8;;\u001b\\\u001b[2m:\u001b[0m\u001b]8;id=163418;file://C:\\Users\\thoma\\AppData\\Local\\Programs\\Python\\Python39\\lib\\site-packages\\manim\\utils\\deprecation.py#210\u001b\\\u001b[2m210\u001b[0m\u001b]8;;\u001b\\\n",
       "                             been deprecated since v0.\u001b[32m11.0\u001b[0m and is expected                   \n",
       "                             to be removed after v0.\u001b[32m13.0\u001b[0m. Use plot                           \n",
       "                             instead.                                                        \n"
      ]
     },
     "metadata": {},
     "output_type": "display_data"
    },
    {
     "name": "stderr",
     "output_type": "stream",
     "text": [
      "Animation 1: _MethodAnimation(ValueTracker):  40%|####      | 120/300 [00:28<01:27,  2.06it/s]"
     ]
    },
    {
     "data": {
      "text/html": [
       "<pre style=\"white-space:pre;overflow-x:auto;line-height:normal;font-family:Menlo,'DejaVu Sans Mono',consolas,'Courier New',monospace\"><span style=\"color: #7fbfbf; text-decoration-color: #7fbfbf\">                    </span><span style=\"color: #800000; text-decoration-color: #800000\">WARNING </span> The method CoordinateSystem.get_graph has     <a href=\"file://C:\\Users\\thoma\\AppData\\Local\\Programs\\Python\\Python39\\lib\\site-packages\\manim\\utils\\deprecation.py\"><span style=\"color: #7f7f7f; text-decoration-color: #7f7f7f\">deprecation.py</span></a><span style=\"color: #7f7f7f; text-decoration-color: #7f7f7f\">:</span><a href=\"file://C:\\Users\\thoma\\AppData\\Local\\Programs\\Python\\Python39\\lib\\site-packages\\manim\\utils\\deprecation.py#210\"><span style=\"color: #7f7f7f; text-decoration-color: #7f7f7f\">210</span></a>\n",
       "                             been deprecated since v0.<span style=\"color: #008000; text-decoration-color: #008000\">11.0</span> and is expected                   \n",
       "                             to be removed after v0.<span style=\"color: #008000; text-decoration-color: #008000\">13.0</span>. Use plot                           \n",
       "                             instead.                                                        \n",
       "</pre>\n"
      ],
      "text/plain": [
       "\u001b[2;36m                   \u001b[0m\u001b[2;36m \u001b[0m\u001b[31mWARNING \u001b[0m The method CoordinateSystem.get_graph has     \u001b]8;id=243229;file://C:\\Users\\thoma\\AppData\\Local\\Programs\\Python\\Python39\\lib\\site-packages\\manim\\utils\\deprecation.py\u001b\\\u001b[2mdeprecation.py\u001b[0m\u001b]8;;\u001b\\\u001b[2m:\u001b[0m\u001b]8;id=874817;file://C:\\Users\\thoma\\AppData\\Local\\Programs\\Python\\Python39\\lib\\site-packages\\manim\\utils\\deprecation.py#210\u001b\\\u001b[2m210\u001b[0m\u001b]8;;\u001b\\\n",
       "                             been deprecated since v0.\u001b[32m11.0\u001b[0m and is expected                   \n",
       "                             to be removed after v0.\u001b[32m13.0\u001b[0m. Use plot                           \n",
       "                             instead.                                                        \n"
      ]
     },
     "metadata": {},
     "output_type": "display_data"
    },
    {
     "name": "stderr",
     "output_type": "stream",
     "text": [
      "Animation 1: _MethodAnimation(ValueTracker):  40%|####      | 121/300 [00:28<01:26,  2.07it/s]"
     ]
    },
    {
     "data": {
      "text/html": [
       "<pre style=\"white-space:pre;overflow-x:auto;line-height:normal;font-family:Menlo,'DejaVu Sans Mono',consolas,'Courier New',monospace\"><span style=\"color: #7fbfbf; text-decoration-color: #7fbfbf\">[01/31/22 22:11:05] </span><span style=\"color: #800000; text-decoration-color: #800000\">WARNING </span> The method CoordinateSystem.get_graph has     <a href=\"file://C:\\Users\\thoma\\AppData\\Local\\Programs\\Python\\Python39\\lib\\site-packages\\manim\\utils\\deprecation.py\"><span style=\"color: #7f7f7f; text-decoration-color: #7f7f7f\">deprecation.py</span></a><span style=\"color: #7f7f7f; text-decoration-color: #7f7f7f\">:</span><a href=\"file://C:\\Users\\thoma\\AppData\\Local\\Programs\\Python\\Python39\\lib\\site-packages\\manim\\utils\\deprecation.py#210\"><span style=\"color: #7f7f7f; text-decoration-color: #7f7f7f\">210</span></a>\n",
       "                             been deprecated since v0.<span style=\"color: #008000; text-decoration-color: #008000\">11.0</span> and is expected                   \n",
       "                             to be removed after v0.<span style=\"color: #008000; text-decoration-color: #008000\">13.0</span>. Use plot                           \n",
       "                             instead.                                                        \n",
       "</pre>\n"
      ],
      "text/plain": [
       "\u001b[2;36m[01/31/22 22:11:05]\u001b[0m\u001b[2;36m \u001b[0m\u001b[31mWARNING \u001b[0m The method CoordinateSystem.get_graph has     \u001b]8;id=362199;file://C:\\Users\\thoma\\AppData\\Local\\Programs\\Python\\Python39\\lib\\site-packages\\manim\\utils\\deprecation.py\u001b\\\u001b[2mdeprecation.py\u001b[0m\u001b]8;;\u001b\\\u001b[2m:\u001b[0m\u001b]8;id=565135;file://C:\\Users\\thoma\\AppData\\Local\\Programs\\Python\\Python39\\lib\\site-packages\\manim\\utils\\deprecation.py#210\u001b\\\u001b[2m210\u001b[0m\u001b]8;;\u001b\\\n",
       "                             been deprecated since v0.\u001b[32m11.0\u001b[0m and is expected                   \n",
       "                             to be removed after v0.\u001b[32m13.0\u001b[0m. Use plot                           \n",
       "                             instead.                                                        \n"
      ]
     },
     "metadata": {},
     "output_type": "display_data"
    },
    {
     "name": "stderr",
     "output_type": "stream",
     "text": [
      "Animation 1: _MethodAnimation(ValueTracker):  41%|####      | 122/300 [00:29<01:24,  2.12it/s]"
     ]
    },
    {
     "data": {
      "text/html": [
       "<pre style=\"white-space:pre;overflow-x:auto;line-height:normal;font-family:Menlo,'DejaVu Sans Mono',consolas,'Courier New',monospace\"><span style=\"color: #7fbfbf; text-decoration-color: #7fbfbf\">                    </span><span style=\"color: #800000; text-decoration-color: #800000\">WARNING </span> The method CoordinateSystem.get_graph has     <a href=\"file://C:\\Users\\thoma\\AppData\\Local\\Programs\\Python\\Python39\\lib\\site-packages\\manim\\utils\\deprecation.py\"><span style=\"color: #7f7f7f; text-decoration-color: #7f7f7f\">deprecation.py</span></a><span style=\"color: #7f7f7f; text-decoration-color: #7f7f7f\">:</span><a href=\"file://C:\\Users\\thoma\\AppData\\Local\\Programs\\Python\\Python39\\lib\\site-packages\\manim\\utils\\deprecation.py#210\"><span style=\"color: #7f7f7f; text-decoration-color: #7f7f7f\">210</span></a>\n",
       "                             been deprecated since v0.<span style=\"color: #008000; text-decoration-color: #008000\">11.0</span> and is expected                   \n",
       "                             to be removed after v0.<span style=\"color: #008000; text-decoration-color: #008000\">13.0</span>. Use plot                           \n",
       "                             instead.                                                        \n",
       "</pre>\n"
      ],
      "text/plain": [
       "\u001b[2;36m                   \u001b[0m\u001b[2;36m \u001b[0m\u001b[31mWARNING \u001b[0m The method CoordinateSystem.get_graph has     \u001b]8;id=45488;file://C:\\Users\\thoma\\AppData\\Local\\Programs\\Python\\Python39\\lib\\site-packages\\manim\\utils\\deprecation.py\u001b\\\u001b[2mdeprecation.py\u001b[0m\u001b]8;;\u001b\\\u001b[2m:\u001b[0m\u001b]8;id=237715;file://C:\\Users\\thoma\\AppData\\Local\\Programs\\Python\\Python39\\lib\\site-packages\\manim\\utils\\deprecation.py#210\u001b\\\u001b[2m210\u001b[0m\u001b]8;;\u001b\\\n",
       "                             been deprecated since v0.\u001b[32m11.0\u001b[0m and is expected                   \n",
       "                             to be removed after v0.\u001b[32m13.0\u001b[0m. Use plot                           \n",
       "                             instead.                                                        \n"
      ]
     },
     "metadata": {},
     "output_type": "display_data"
    },
    {
     "name": "stderr",
     "output_type": "stream",
     "text": [
      "Animation 1: _MethodAnimation(ValueTracker):  41%|####1     | 123/300 [00:29<01:21,  2.16it/s]"
     ]
    },
    {
     "data": {
      "text/html": [
       "<pre style=\"white-space:pre;overflow-x:auto;line-height:normal;font-family:Menlo,'DejaVu Sans Mono',consolas,'Courier New',monospace\"><span style=\"color: #7fbfbf; text-decoration-color: #7fbfbf\">[01/31/22 22:11:06] </span><span style=\"color: #800000; text-decoration-color: #800000\">WARNING </span> The method CoordinateSystem.get_graph has     <a href=\"file://C:\\Users\\thoma\\AppData\\Local\\Programs\\Python\\Python39\\lib\\site-packages\\manim\\utils\\deprecation.py\"><span style=\"color: #7f7f7f; text-decoration-color: #7f7f7f\">deprecation.py</span></a><span style=\"color: #7f7f7f; text-decoration-color: #7f7f7f\">:</span><a href=\"file://C:\\Users\\thoma\\AppData\\Local\\Programs\\Python\\Python39\\lib\\site-packages\\manim\\utils\\deprecation.py#210\"><span style=\"color: #7f7f7f; text-decoration-color: #7f7f7f\">210</span></a>\n",
       "                             been deprecated since v0.<span style=\"color: #008000; text-decoration-color: #008000\">11.0</span> and is expected                   \n",
       "                             to be removed after v0.<span style=\"color: #008000; text-decoration-color: #008000\">13.0</span>. Use plot                           \n",
       "                             instead.                                                        \n",
       "</pre>\n"
      ],
      "text/plain": [
       "\u001b[2;36m[01/31/22 22:11:06]\u001b[0m\u001b[2;36m \u001b[0m\u001b[31mWARNING \u001b[0m The method CoordinateSystem.get_graph has     \u001b]8;id=931289;file://C:\\Users\\thoma\\AppData\\Local\\Programs\\Python\\Python39\\lib\\site-packages\\manim\\utils\\deprecation.py\u001b\\\u001b[2mdeprecation.py\u001b[0m\u001b]8;;\u001b\\\u001b[2m:\u001b[0m\u001b]8;id=733819;file://C:\\Users\\thoma\\AppData\\Local\\Programs\\Python\\Python39\\lib\\site-packages\\manim\\utils\\deprecation.py#210\u001b\\\u001b[2m210\u001b[0m\u001b]8;;\u001b\\\n",
       "                             been deprecated since v0.\u001b[32m11.0\u001b[0m and is expected                   \n",
       "                             to be removed after v0.\u001b[32m13.0\u001b[0m. Use plot                           \n",
       "                             instead.                                                        \n"
      ]
     },
     "metadata": {},
     "output_type": "display_data"
    },
    {
     "name": "stderr",
     "output_type": "stream",
     "text": [
      "Animation 1: _MethodAnimation(ValueTracker):  41%|####1     | 124/300 [00:30<01:24,  2.09it/s]"
     ]
    },
    {
     "data": {
      "text/html": [
       "<pre style=\"white-space:pre;overflow-x:auto;line-height:normal;font-family:Menlo,'DejaVu Sans Mono',consolas,'Courier New',monospace\"><span style=\"color: #7fbfbf; text-decoration-color: #7fbfbf\">                    </span><span style=\"color: #800000; text-decoration-color: #800000\">WARNING </span> The method CoordinateSystem.get_graph has     <a href=\"file://C:\\Users\\thoma\\AppData\\Local\\Programs\\Python\\Python39\\lib\\site-packages\\manim\\utils\\deprecation.py\"><span style=\"color: #7f7f7f; text-decoration-color: #7f7f7f\">deprecation.py</span></a><span style=\"color: #7f7f7f; text-decoration-color: #7f7f7f\">:</span><a href=\"file://C:\\Users\\thoma\\AppData\\Local\\Programs\\Python\\Python39\\lib\\site-packages\\manim\\utils\\deprecation.py#210\"><span style=\"color: #7f7f7f; text-decoration-color: #7f7f7f\">210</span></a>\n",
       "                             been deprecated since v0.<span style=\"color: #008000; text-decoration-color: #008000\">11.0</span> and is expected                   \n",
       "                             to be removed after v0.<span style=\"color: #008000; text-decoration-color: #008000\">13.0</span>. Use plot                           \n",
       "                             instead.                                                        \n",
       "</pre>\n"
      ],
      "text/plain": [
       "\u001b[2;36m                   \u001b[0m\u001b[2;36m \u001b[0m\u001b[31mWARNING \u001b[0m The method CoordinateSystem.get_graph has     \u001b]8;id=553185;file://C:\\Users\\thoma\\AppData\\Local\\Programs\\Python\\Python39\\lib\\site-packages\\manim\\utils\\deprecation.py\u001b\\\u001b[2mdeprecation.py\u001b[0m\u001b]8;;\u001b\\\u001b[2m:\u001b[0m\u001b]8;id=318769;file://C:\\Users\\thoma\\AppData\\Local\\Programs\\Python\\Python39\\lib\\site-packages\\manim\\utils\\deprecation.py#210\u001b\\\u001b[2m210\u001b[0m\u001b]8;;\u001b\\\n",
       "                             been deprecated since v0.\u001b[32m11.0\u001b[0m and is expected                   \n",
       "                             to be removed after v0.\u001b[32m13.0\u001b[0m. Use plot                           \n",
       "                             instead.                                                        \n"
      ]
     },
     "metadata": {},
     "output_type": "display_data"
    },
    {
     "name": "stderr",
     "output_type": "stream",
     "text": [
      "Animation 1: _MethodAnimation(ValueTracker):  42%|####1     | 125/300 [00:30<01:35,  1.84it/s]"
     ]
    },
    {
     "data": {
      "text/html": [
       "<pre style=\"white-space:pre;overflow-x:auto;line-height:normal;font-family:Menlo,'DejaVu Sans Mono',consolas,'Courier New',monospace\"><span style=\"color: #7fbfbf; text-decoration-color: #7fbfbf\">[01/31/22 22:11:07] </span><span style=\"color: #800000; text-decoration-color: #800000\">WARNING </span> The method CoordinateSystem.get_graph has     <a href=\"file://C:\\Users\\thoma\\AppData\\Local\\Programs\\Python\\Python39\\lib\\site-packages\\manim\\utils\\deprecation.py\"><span style=\"color: #7f7f7f; text-decoration-color: #7f7f7f\">deprecation.py</span></a><span style=\"color: #7f7f7f; text-decoration-color: #7f7f7f\">:</span><a href=\"file://C:\\Users\\thoma\\AppData\\Local\\Programs\\Python\\Python39\\lib\\site-packages\\manim\\utils\\deprecation.py#210\"><span style=\"color: #7f7f7f; text-decoration-color: #7f7f7f\">210</span></a>\n",
       "                             been deprecated since v0.<span style=\"color: #008000; text-decoration-color: #008000\">11.0</span> and is expected                   \n",
       "                             to be removed after v0.<span style=\"color: #008000; text-decoration-color: #008000\">13.0</span>. Use plot                           \n",
       "                             instead.                                                        \n",
       "</pre>\n"
      ],
      "text/plain": [
       "\u001b[2;36m[01/31/22 22:11:07]\u001b[0m\u001b[2;36m \u001b[0m\u001b[31mWARNING \u001b[0m The method CoordinateSystem.get_graph has     \u001b]8;id=516612;file://C:\\Users\\thoma\\AppData\\Local\\Programs\\Python\\Python39\\lib\\site-packages\\manim\\utils\\deprecation.py\u001b\\\u001b[2mdeprecation.py\u001b[0m\u001b]8;;\u001b\\\u001b[2m:\u001b[0m\u001b]8;id=177590;file://C:\\Users\\thoma\\AppData\\Local\\Programs\\Python\\Python39\\lib\\site-packages\\manim\\utils\\deprecation.py#210\u001b\\\u001b[2m210\u001b[0m\u001b]8;;\u001b\\\n",
       "                             been deprecated since v0.\u001b[32m11.0\u001b[0m and is expected                   \n",
       "                             to be removed after v0.\u001b[32m13.0\u001b[0m. Use plot                           \n",
       "                             instead.                                                        \n"
      ]
     },
     "metadata": {},
     "output_type": "display_data"
    },
    {
     "name": "stderr",
     "output_type": "stream",
     "text": [
      "Animation 1: _MethodAnimation(ValueTracker):  42%|####2     | 126/300 [00:31<01:36,  1.80it/s]"
     ]
    },
    {
     "data": {
      "text/html": [
       "<pre style=\"white-space:pre;overflow-x:auto;line-height:normal;font-family:Menlo,'DejaVu Sans Mono',consolas,'Courier New',monospace\"><span style=\"color: #7fbfbf; text-decoration-color: #7fbfbf\">                    </span><span style=\"color: #800000; text-decoration-color: #800000\">WARNING </span> The method CoordinateSystem.get_graph has     <a href=\"file://C:\\Users\\thoma\\AppData\\Local\\Programs\\Python\\Python39\\lib\\site-packages\\manim\\utils\\deprecation.py\"><span style=\"color: #7f7f7f; text-decoration-color: #7f7f7f\">deprecation.py</span></a><span style=\"color: #7f7f7f; text-decoration-color: #7f7f7f\">:</span><a href=\"file://C:\\Users\\thoma\\AppData\\Local\\Programs\\Python\\Python39\\lib\\site-packages\\manim\\utils\\deprecation.py#210\"><span style=\"color: #7f7f7f; text-decoration-color: #7f7f7f\">210</span></a>\n",
       "                             been deprecated since v0.<span style=\"color: #008000; text-decoration-color: #008000\">11.0</span> and is expected                   \n",
       "                             to be removed after v0.<span style=\"color: #008000; text-decoration-color: #008000\">13.0</span>. Use plot                           \n",
       "                             instead.                                                        \n",
       "</pre>\n"
      ],
      "text/plain": [
       "\u001b[2;36m                   \u001b[0m\u001b[2;36m \u001b[0m\u001b[31mWARNING \u001b[0m The method CoordinateSystem.get_graph has     \u001b]8;id=937229;file://C:\\Users\\thoma\\AppData\\Local\\Programs\\Python\\Python39\\lib\\site-packages\\manim\\utils\\deprecation.py\u001b\\\u001b[2mdeprecation.py\u001b[0m\u001b]8;;\u001b\\\u001b[2m:\u001b[0m\u001b]8;id=14531;file://C:\\Users\\thoma\\AppData\\Local\\Programs\\Python\\Python39\\lib\\site-packages\\manim\\utils\\deprecation.py#210\u001b\\\u001b[2m210\u001b[0m\u001b]8;;\u001b\\\n",
       "                             been deprecated since v0.\u001b[32m11.0\u001b[0m and is expected                   \n",
       "                             to be removed after v0.\u001b[32m13.0\u001b[0m. Use plot                           \n",
       "                             instead.                                                        \n"
      ]
     },
     "metadata": {},
     "output_type": "display_data"
    },
    {
     "name": "stderr",
     "output_type": "stream",
     "text": [
      "Animation 1: _MethodAnimation(ValueTracker):  42%|####2     | 127/300 [00:32<01:41,  1.70it/s]"
     ]
    },
    {
     "data": {
      "text/html": [
       "<pre style=\"white-space:pre;overflow-x:auto;line-height:normal;font-family:Menlo,'DejaVu Sans Mono',consolas,'Courier New',monospace\"><span style=\"color: #7fbfbf; text-decoration-color: #7fbfbf\">[01/31/22 22:11:08] </span><span style=\"color: #800000; text-decoration-color: #800000\">WARNING </span> The method CoordinateSystem.get_graph has     <a href=\"file://C:\\Users\\thoma\\AppData\\Local\\Programs\\Python\\Python39\\lib\\site-packages\\manim\\utils\\deprecation.py\"><span style=\"color: #7f7f7f; text-decoration-color: #7f7f7f\">deprecation.py</span></a><span style=\"color: #7f7f7f; text-decoration-color: #7f7f7f\">:</span><a href=\"file://C:\\Users\\thoma\\AppData\\Local\\Programs\\Python\\Python39\\lib\\site-packages\\manim\\utils\\deprecation.py#210\"><span style=\"color: #7f7f7f; text-decoration-color: #7f7f7f\">210</span></a>\n",
       "                             been deprecated since v0.<span style=\"color: #008000; text-decoration-color: #008000\">11.0</span> and is expected                   \n",
       "                             to be removed after v0.<span style=\"color: #008000; text-decoration-color: #008000\">13.0</span>. Use plot                           \n",
       "                             instead.                                                        \n",
       "</pre>\n"
      ],
      "text/plain": [
       "\u001b[2;36m[01/31/22 22:11:08]\u001b[0m\u001b[2;36m \u001b[0m\u001b[31mWARNING \u001b[0m The method CoordinateSystem.get_graph has     \u001b]8;id=978438;file://C:\\Users\\thoma\\AppData\\Local\\Programs\\Python\\Python39\\lib\\site-packages\\manim\\utils\\deprecation.py\u001b\\\u001b[2mdeprecation.py\u001b[0m\u001b]8;;\u001b\\\u001b[2m:\u001b[0m\u001b]8;id=388640;file://C:\\Users\\thoma\\AppData\\Local\\Programs\\Python\\Python39\\lib\\site-packages\\manim\\utils\\deprecation.py#210\u001b\\\u001b[2m210\u001b[0m\u001b]8;;\u001b\\\n",
       "                             been deprecated since v0.\u001b[32m11.0\u001b[0m and is expected                   \n",
       "                             to be removed after v0.\u001b[32m13.0\u001b[0m. Use plot                           \n",
       "                             instead.                                                        \n"
      ]
     },
     "metadata": {},
     "output_type": "display_data"
    },
    {
     "name": "stderr",
     "output_type": "stream",
     "text": [
      "Animation 1: _MethodAnimation(ValueTracker):  43%|####2     | 128/300 [00:32<01:41,  1.69it/s]"
     ]
    },
    {
     "data": {
      "text/html": [
       "<pre style=\"white-space:pre;overflow-x:auto;line-height:normal;font-family:Menlo,'DejaVu Sans Mono',consolas,'Courier New',monospace\"><span style=\"color: #7fbfbf; text-decoration-color: #7fbfbf\">[01/31/22 22:11:09] </span><span style=\"color: #800000; text-decoration-color: #800000\">WARNING </span> The method CoordinateSystem.get_graph has     <a href=\"file://C:\\Users\\thoma\\AppData\\Local\\Programs\\Python\\Python39\\lib\\site-packages\\manim\\utils\\deprecation.py\"><span style=\"color: #7f7f7f; text-decoration-color: #7f7f7f\">deprecation.py</span></a><span style=\"color: #7f7f7f; text-decoration-color: #7f7f7f\">:</span><a href=\"file://C:\\Users\\thoma\\AppData\\Local\\Programs\\Python\\Python39\\lib\\site-packages\\manim\\utils\\deprecation.py#210\"><span style=\"color: #7f7f7f; text-decoration-color: #7f7f7f\">210</span></a>\n",
       "                             been deprecated since v0.<span style=\"color: #008000; text-decoration-color: #008000\">11.0</span> and is expected                   \n",
       "                             to be removed after v0.<span style=\"color: #008000; text-decoration-color: #008000\">13.0</span>. Use plot                           \n",
       "                             instead.                                                        \n",
       "</pre>\n"
      ],
      "text/plain": [
       "\u001b[2;36m[01/31/22 22:11:09]\u001b[0m\u001b[2;36m \u001b[0m\u001b[31mWARNING \u001b[0m The method CoordinateSystem.get_graph has     \u001b]8;id=863660;file://C:\\Users\\thoma\\AppData\\Local\\Programs\\Python\\Python39\\lib\\site-packages\\manim\\utils\\deprecation.py\u001b\\\u001b[2mdeprecation.py\u001b[0m\u001b]8;;\u001b\\\u001b[2m:\u001b[0m\u001b]8;id=899868;file://C:\\Users\\thoma\\AppData\\Local\\Programs\\Python\\Python39\\lib\\site-packages\\manim\\utils\\deprecation.py#210\u001b\\\u001b[2m210\u001b[0m\u001b]8;;\u001b\\\n",
       "                             been deprecated since v0.\u001b[32m11.0\u001b[0m and is expected                   \n",
       "                             to be removed after v0.\u001b[32m13.0\u001b[0m. Use plot                           \n",
       "                             instead.                                                        \n"
      ]
     },
     "metadata": {},
     "output_type": "display_data"
    },
    {
     "name": "stderr",
     "output_type": "stream",
     "text": [
      "Animation 1: _MethodAnimation(ValueTracker):  43%|####3     | 129/300 [00:33<01:36,  1.77it/s]"
     ]
    },
    {
     "data": {
      "text/html": [
       "<pre style=\"white-space:pre;overflow-x:auto;line-height:normal;font-family:Menlo,'DejaVu Sans Mono',consolas,'Courier New',monospace\"><span style=\"color: #7fbfbf; text-decoration-color: #7fbfbf\">                    </span><span style=\"color: #800000; text-decoration-color: #800000\">WARNING </span> The method CoordinateSystem.get_graph has     <a href=\"file://C:\\Users\\thoma\\AppData\\Local\\Programs\\Python\\Python39\\lib\\site-packages\\manim\\utils\\deprecation.py\"><span style=\"color: #7f7f7f; text-decoration-color: #7f7f7f\">deprecation.py</span></a><span style=\"color: #7f7f7f; text-decoration-color: #7f7f7f\">:</span><a href=\"file://C:\\Users\\thoma\\AppData\\Local\\Programs\\Python\\Python39\\lib\\site-packages\\manim\\utils\\deprecation.py#210\"><span style=\"color: #7f7f7f; text-decoration-color: #7f7f7f\">210</span></a>\n",
       "                             been deprecated since v0.<span style=\"color: #008000; text-decoration-color: #008000\">11.0</span> and is expected                   \n",
       "                             to be removed after v0.<span style=\"color: #008000; text-decoration-color: #008000\">13.0</span>. Use plot                           \n",
       "                             instead.                                                        \n",
       "</pre>\n"
      ],
      "text/plain": [
       "\u001b[2;36m                   \u001b[0m\u001b[2;36m \u001b[0m\u001b[31mWARNING \u001b[0m The method CoordinateSystem.get_graph has     \u001b]8;id=574989;file://C:\\Users\\thoma\\AppData\\Local\\Programs\\Python\\Python39\\lib\\site-packages\\manim\\utils\\deprecation.py\u001b\\\u001b[2mdeprecation.py\u001b[0m\u001b]8;;\u001b\\\u001b[2m:\u001b[0m\u001b]8;id=181632;file://C:\\Users\\thoma\\AppData\\Local\\Programs\\Python\\Python39\\lib\\site-packages\\manim\\utils\\deprecation.py#210\u001b\\\u001b[2m210\u001b[0m\u001b]8;;\u001b\\\n",
       "                             been deprecated since v0.\u001b[32m11.0\u001b[0m and is expected                   \n",
       "                             to be removed after v0.\u001b[32m13.0\u001b[0m. Use plot                           \n",
       "                             instead.                                                        \n"
      ]
     },
     "metadata": {},
     "output_type": "display_data"
    },
    {
     "name": "stderr",
     "output_type": "stream",
     "text": [
      "Animation 1: _MethodAnimation(ValueTracker):  43%|####3     | 130/300 [00:33<01:32,  1.85it/s]"
     ]
    },
    {
     "data": {
      "text/html": [
       "<pre style=\"white-space:pre;overflow-x:auto;line-height:normal;font-family:Menlo,'DejaVu Sans Mono',consolas,'Courier New',monospace\"><span style=\"color: #7fbfbf; text-decoration-color: #7fbfbf\">[01/31/22 22:11:10] </span><span style=\"color: #800000; text-decoration-color: #800000\">WARNING </span> The method CoordinateSystem.get_graph has     <a href=\"file://C:\\Users\\thoma\\AppData\\Local\\Programs\\Python\\Python39\\lib\\site-packages\\manim\\utils\\deprecation.py\"><span style=\"color: #7f7f7f; text-decoration-color: #7f7f7f\">deprecation.py</span></a><span style=\"color: #7f7f7f; text-decoration-color: #7f7f7f\">:</span><a href=\"file://C:\\Users\\thoma\\AppData\\Local\\Programs\\Python\\Python39\\lib\\site-packages\\manim\\utils\\deprecation.py#210\"><span style=\"color: #7f7f7f; text-decoration-color: #7f7f7f\">210</span></a>\n",
       "                             been deprecated since v0.<span style=\"color: #008000; text-decoration-color: #008000\">11.0</span> and is expected                   \n",
       "                             to be removed after v0.<span style=\"color: #008000; text-decoration-color: #008000\">13.0</span>. Use plot                           \n",
       "                             instead.                                                        \n",
       "</pre>\n"
      ],
      "text/plain": [
       "\u001b[2;36m[01/31/22 22:11:10]\u001b[0m\u001b[2;36m \u001b[0m\u001b[31mWARNING \u001b[0m The method CoordinateSystem.get_graph has     \u001b]8;id=15404;file://C:\\Users\\thoma\\AppData\\Local\\Programs\\Python\\Python39\\lib\\site-packages\\manim\\utils\\deprecation.py\u001b\\\u001b[2mdeprecation.py\u001b[0m\u001b]8;;\u001b\\\u001b[2m:\u001b[0m\u001b]8;id=64320;file://C:\\Users\\thoma\\AppData\\Local\\Programs\\Python\\Python39\\lib\\site-packages\\manim\\utils\\deprecation.py#210\u001b\\\u001b[2m210\u001b[0m\u001b]8;;\u001b\\\n",
       "                             been deprecated since v0.\u001b[32m11.0\u001b[0m and is expected                   \n",
       "                             to be removed after v0.\u001b[32m13.0\u001b[0m. Use plot                           \n",
       "                             instead.                                                        \n"
      ]
     },
     "metadata": {},
     "output_type": "display_data"
    },
    {
     "name": "stderr",
     "output_type": "stream",
     "text": [
      "Animation 1: _MethodAnimation(ValueTracker):  44%|####3     | 131/300 [00:34<01:27,  1.93it/s]"
     ]
    },
    {
     "data": {
      "text/html": [
       "<pre style=\"white-space:pre;overflow-x:auto;line-height:normal;font-family:Menlo,'DejaVu Sans Mono',consolas,'Courier New',monospace\"><span style=\"color: #7fbfbf; text-decoration-color: #7fbfbf\">                    </span><span style=\"color: #800000; text-decoration-color: #800000\">WARNING </span> The method CoordinateSystem.get_graph has     <a href=\"file://C:\\Users\\thoma\\AppData\\Local\\Programs\\Python\\Python39\\lib\\site-packages\\manim\\utils\\deprecation.py\"><span style=\"color: #7f7f7f; text-decoration-color: #7f7f7f\">deprecation.py</span></a><span style=\"color: #7f7f7f; text-decoration-color: #7f7f7f\">:</span><a href=\"file://C:\\Users\\thoma\\AppData\\Local\\Programs\\Python\\Python39\\lib\\site-packages\\manim\\utils\\deprecation.py#210\"><span style=\"color: #7f7f7f; text-decoration-color: #7f7f7f\">210</span></a>\n",
       "                             been deprecated since v0.<span style=\"color: #008000; text-decoration-color: #008000\">11.0</span> and is expected                   \n",
       "                             to be removed after v0.<span style=\"color: #008000; text-decoration-color: #008000\">13.0</span>. Use plot                           \n",
       "                             instead.                                                        \n",
       "</pre>\n"
      ],
      "text/plain": [
       "\u001b[2;36m                   \u001b[0m\u001b[2;36m \u001b[0m\u001b[31mWARNING \u001b[0m The method CoordinateSystem.get_graph has     \u001b]8;id=406117;file://C:\\Users\\thoma\\AppData\\Local\\Programs\\Python\\Python39\\lib\\site-packages\\manim\\utils\\deprecation.py\u001b\\\u001b[2mdeprecation.py\u001b[0m\u001b]8;;\u001b\\\u001b[2m:\u001b[0m\u001b]8;id=313488;file://C:\\Users\\thoma\\AppData\\Local\\Programs\\Python\\Python39\\lib\\site-packages\\manim\\utils\\deprecation.py#210\u001b\\\u001b[2m210\u001b[0m\u001b]8;;\u001b\\\n",
       "                             been deprecated since v0.\u001b[32m11.0\u001b[0m and is expected                   \n",
       "                             to be removed after v0.\u001b[32m13.0\u001b[0m. Use plot                           \n",
       "                             instead.                                                        \n"
      ]
     },
     "metadata": {},
     "output_type": "display_data"
    },
    {
     "name": "stderr",
     "output_type": "stream",
     "text": [
      "Animation 1: _MethodAnimation(ValueTracker):  44%|####4     | 132/300 [00:34<01:25,  1.96it/s]"
     ]
    },
    {
     "data": {
      "text/html": [
       "<pre style=\"white-space:pre;overflow-x:auto;line-height:normal;font-family:Menlo,'DejaVu Sans Mono',consolas,'Courier New',monospace\"><span style=\"color: #7fbfbf; text-decoration-color: #7fbfbf\">[01/31/22 22:11:11] </span><span style=\"color: #800000; text-decoration-color: #800000\">WARNING </span> The method CoordinateSystem.get_graph has     <a href=\"file://C:\\Users\\thoma\\AppData\\Local\\Programs\\Python\\Python39\\lib\\site-packages\\manim\\utils\\deprecation.py\"><span style=\"color: #7f7f7f; text-decoration-color: #7f7f7f\">deprecation.py</span></a><span style=\"color: #7f7f7f; text-decoration-color: #7f7f7f\">:</span><a href=\"file://C:\\Users\\thoma\\AppData\\Local\\Programs\\Python\\Python39\\lib\\site-packages\\manim\\utils\\deprecation.py#210\"><span style=\"color: #7f7f7f; text-decoration-color: #7f7f7f\">210</span></a>\n",
       "                             been deprecated since v0.<span style=\"color: #008000; text-decoration-color: #008000\">11.0</span> and is expected                   \n",
       "                             to be removed after v0.<span style=\"color: #008000; text-decoration-color: #008000\">13.0</span>. Use plot                           \n",
       "                             instead.                                                        \n",
       "</pre>\n"
      ],
      "text/plain": [
       "\u001b[2;36m[01/31/22 22:11:11]\u001b[0m\u001b[2;36m \u001b[0m\u001b[31mWARNING \u001b[0m The method CoordinateSystem.get_graph has     \u001b]8;id=531914;file://C:\\Users\\thoma\\AppData\\Local\\Programs\\Python\\Python39\\lib\\site-packages\\manim\\utils\\deprecation.py\u001b\\\u001b[2mdeprecation.py\u001b[0m\u001b]8;;\u001b\\\u001b[2m:\u001b[0m\u001b]8;id=317477;file://C:\\Users\\thoma\\AppData\\Local\\Programs\\Python\\Python39\\lib\\site-packages\\manim\\utils\\deprecation.py#210\u001b\\\u001b[2m210\u001b[0m\u001b]8;;\u001b\\\n",
       "                             been deprecated since v0.\u001b[32m11.0\u001b[0m and is expected                   \n",
       "                             to be removed after v0.\u001b[32m13.0\u001b[0m. Use plot                           \n",
       "                             instead.                                                        \n"
      ]
     },
     "metadata": {},
     "output_type": "display_data"
    },
    {
     "name": "stderr",
     "output_type": "stream",
     "text": [
      "Animation 1: _MethodAnimation(ValueTracker):  44%|####4     | 133/300 [00:35<01:26,  1.92it/s]"
     ]
    },
    {
     "data": {
      "text/html": [
       "<pre style=\"white-space:pre;overflow-x:auto;line-height:normal;font-family:Menlo,'DejaVu Sans Mono',consolas,'Courier New',monospace\"><span style=\"color: #7fbfbf; text-decoration-color: #7fbfbf\">                    </span><span style=\"color: #800000; text-decoration-color: #800000\">WARNING </span> The method CoordinateSystem.get_graph has     <a href=\"file://C:\\Users\\thoma\\AppData\\Local\\Programs\\Python\\Python39\\lib\\site-packages\\manim\\utils\\deprecation.py\"><span style=\"color: #7f7f7f; text-decoration-color: #7f7f7f\">deprecation.py</span></a><span style=\"color: #7f7f7f; text-decoration-color: #7f7f7f\">:</span><a href=\"file://C:\\Users\\thoma\\AppData\\Local\\Programs\\Python\\Python39\\lib\\site-packages\\manim\\utils\\deprecation.py#210\"><span style=\"color: #7f7f7f; text-decoration-color: #7f7f7f\">210</span></a>\n",
       "                             been deprecated since v0.<span style=\"color: #008000; text-decoration-color: #008000\">11.0</span> and is expected                   \n",
       "                             to be removed after v0.<span style=\"color: #008000; text-decoration-color: #008000\">13.0</span>. Use plot                           \n",
       "                             instead.                                                        \n",
       "</pre>\n"
      ],
      "text/plain": [
       "\u001b[2;36m                   \u001b[0m\u001b[2;36m \u001b[0m\u001b[31mWARNING \u001b[0m The method CoordinateSystem.get_graph has     \u001b]8;id=228119;file://C:\\Users\\thoma\\AppData\\Local\\Programs\\Python\\Python39\\lib\\site-packages\\manim\\utils\\deprecation.py\u001b\\\u001b[2mdeprecation.py\u001b[0m\u001b]8;;\u001b\\\u001b[2m:\u001b[0m\u001b]8;id=122066;file://C:\\Users\\thoma\\AppData\\Local\\Programs\\Python\\Python39\\lib\\site-packages\\manim\\utils\\deprecation.py#210\u001b\\\u001b[2m210\u001b[0m\u001b]8;;\u001b\\\n",
       "                             been deprecated since v0.\u001b[32m11.0\u001b[0m and is expected                   \n",
       "                             to be removed after v0.\u001b[32m13.0\u001b[0m. Use plot                           \n",
       "                             instead.                                                        \n"
      ]
     },
     "metadata": {},
     "output_type": "display_data"
    },
    {
     "name": "stderr",
     "output_type": "stream",
     "text": [
      "Animation 1: _MethodAnimation(ValueTracker):  45%|####4     | 134/300 [00:35<01:31,  1.82it/s]"
     ]
    },
    {
     "data": {
      "text/html": [
       "<pre style=\"white-space:pre;overflow-x:auto;line-height:normal;font-family:Menlo,'DejaVu Sans Mono',consolas,'Courier New',monospace\"><span style=\"color: #7fbfbf; text-decoration-color: #7fbfbf\">[01/31/22 22:11:12] </span><span style=\"color: #800000; text-decoration-color: #800000\">WARNING </span> The method CoordinateSystem.get_graph has     <a href=\"file://C:\\Users\\thoma\\AppData\\Local\\Programs\\Python\\Python39\\lib\\site-packages\\manim\\utils\\deprecation.py\"><span style=\"color: #7f7f7f; text-decoration-color: #7f7f7f\">deprecation.py</span></a><span style=\"color: #7f7f7f; text-decoration-color: #7f7f7f\">:</span><a href=\"file://C:\\Users\\thoma\\AppData\\Local\\Programs\\Python\\Python39\\lib\\site-packages\\manim\\utils\\deprecation.py#210\"><span style=\"color: #7f7f7f; text-decoration-color: #7f7f7f\">210</span></a>\n",
       "                             been deprecated since v0.<span style=\"color: #008000; text-decoration-color: #008000\">11.0</span> and is expected                   \n",
       "                             to be removed after v0.<span style=\"color: #008000; text-decoration-color: #008000\">13.0</span>. Use plot                           \n",
       "                             instead.                                                        \n",
       "</pre>\n"
      ],
      "text/plain": [
       "\u001b[2;36m[01/31/22 22:11:12]\u001b[0m\u001b[2;36m \u001b[0m\u001b[31mWARNING \u001b[0m The method CoordinateSystem.get_graph has     \u001b]8;id=289557;file://C:\\Users\\thoma\\AppData\\Local\\Programs\\Python\\Python39\\lib\\site-packages\\manim\\utils\\deprecation.py\u001b\\\u001b[2mdeprecation.py\u001b[0m\u001b]8;;\u001b\\\u001b[2m:\u001b[0m\u001b]8;id=668269;file://C:\\Users\\thoma\\AppData\\Local\\Programs\\Python\\Python39\\lib\\site-packages\\manim\\utils\\deprecation.py#210\u001b\\\u001b[2m210\u001b[0m\u001b]8;;\u001b\\\n",
       "                             been deprecated since v0.\u001b[32m11.0\u001b[0m and is expected                   \n",
       "                             to be removed after v0.\u001b[32m13.0\u001b[0m. Use plot                           \n",
       "                             instead.                                                        \n"
      ]
     },
     "metadata": {},
     "output_type": "display_data"
    },
    {
     "name": "stderr",
     "output_type": "stream",
     "text": [
      "Animation 1: _MethodAnimation(ValueTracker):  45%|####5     | 135/300 [00:36<01:31,  1.81it/s]"
     ]
    },
    {
     "data": {
      "text/html": [
       "<pre style=\"white-space:pre;overflow-x:auto;line-height:normal;font-family:Menlo,'DejaVu Sans Mono',consolas,'Courier New',monospace\"><span style=\"color: #7fbfbf; text-decoration-color: #7fbfbf\">                    </span><span style=\"color: #800000; text-decoration-color: #800000\">WARNING </span> The method CoordinateSystem.get_graph has     <a href=\"file://C:\\Users\\thoma\\AppData\\Local\\Programs\\Python\\Python39\\lib\\site-packages\\manim\\utils\\deprecation.py\"><span style=\"color: #7f7f7f; text-decoration-color: #7f7f7f\">deprecation.py</span></a><span style=\"color: #7f7f7f; text-decoration-color: #7f7f7f\">:</span><a href=\"file://C:\\Users\\thoma\\AppData\\Local\\Programs\\Python\\Python39\\lib\\site-packages\\manim\\utils\\deprecation.py#210\"><span style=\"color: #7f7f7f; text-decoration-color: #7f7f7f\">210</span></a>\n",
       "                             been deprecated since v0.<span style=\"color: #008000; text-decoration-color: #008000\">11.0</span> and is expected                   \n",
       "                             to be removed after v0.<span style=\"color: #008000; text-decoration-color: #008000\">13.0</span>. Use plot                           \n",
       "                             instead.                                                        \n",
       "</pre>\n"
      ],
      "text/plain": [
       "\u001b[2;36m                   \u001b[0m\u001b[2;36m \u001b[0m\u001b[31mWARNING \u001b[0m The method CoordinateSystem.get_graph has     \u001b]8;id=391353;file://C:\\Users\\thoma\\AppData\\Local\\Programs\\Python\\Python39\\lib\\site-packages\\manim\\utils\\deprecation.py\u001b\\\u001b[2mdeprecation.py\u001b[0m\u001b]8;;\u001b\\\u001b[2m:\u001b[0m\u001b]8;id=556238;file://C:\\Users\\thoma\\AppData\\Local\\Programs\\Python\\Python39\\lib\\site-packages\\manim\\utils\\deprecation.py#210\u001b\\\u001b[2m210\u001b[0m\u001b]8;;\u001b\\\n",
       "                             been deprecated since v0.\u001b[32m11.0\u001b[0m and is expected                   \n",
       "                             to be removed after v0.\u001b[32m13.0\u001b[0m. Use plot                           \n",
       "                             instead.                                                        \n"
      ]
     },
     "metadata": {},
     "output_type": "display_data"
    },
    {
     "name": "stderr",
     "output_type": "stream",
     "text": [
      "Animation 1: _MethodAnimation(ValueTracker):  45%|####5     | 136/300 [00:36<01:31,  1.79it/s]"
     ]
    },
    {
     "data": {
      "text/html": [
       "<pre style=\"white-space:pre;overflow-x:auto;line-height:normal;font-family:Menlo,'DejaVu Sans Mono',consolas,'Courier New',monospace\"><span style=\"color: #7fbfbf; text-decoration-color: #7fbfbf\">[01/31/22 22:11:13] </span><span style=\"color: #800000; text-decoration-color: #800000\">WARNING </span> The method CoordinateSystem.get_graph has     <a href=\"file://C:\\Users\\thoma\\AppData\\Local\\Programs\\Python\\Python39\\lib\\site-packages\\manim\\utils\\deprecation.py\"><span style=\"color: #7f7f7f; text-decoration-color: #7f7f7f\">deprecation.py</span></a><span style=\"color: #7f7f7f; text-decoration-color: #7f7f7f\">:</span><a href=\"file://C:\\Users\\thoma\\AppData\\Local\\Programs\\Python\\Python39\\lib\\site-packages\\manim\\utils\\deprecation.py#210\"><span style=\"color: #7f7f7f; text-decoration-color: #7f7f7f\">210</span></a>\n",
       "                             been deprecated since v0.<span style=\"color: #008000; text-decoration-color: #008000\">11.0</span> and is expected                   \n",
       "                             to be removed after v0.<span style=\"color: #008000; text-decoration-color: #008000\">13.0</span>. Use plot                           \n",
       "                             instead.                                                        \n",
       "</pre>\n"
      ],
      "text/plain": [
       "\u001b[2;36m[01/31/22 22:11:13]\u001b[0m\u001b[2;36m \u001b[0m\u001b[31mWARNING \u001b[0m The method CoordinateSystem.get_graph has     \u001b]8;id=466078;file://C:\\Users\\thoma\\AppData\\Local\\Programs\\Python\\Python39\\lib\\site-packages\\manim\\utils\\deprecation.py\u001b\\\u001b[2mdeprecation.py\u001b[0m\u001b]8;;\u001b\\\u001b[2m:\u001b[0m\u001b]8;id=434554;file://C:\\Users\\thoma\\AppData\\Local\\Programs\\Python\\Python39\\lib\\site-packages\\manim\\utils\\deprecation.py#210\u001b\\\u001b[2m210\u001b[0m\u001b]8;;\u001b\\\n",
       "                             been deprecated since v0.\u001b[32m11.0\u001b[0m and is expected                   \n",
       "                             to be removed after v0.\u001b[32m13.0\u001b[0m. Use plot                           \n",
       "                             instead.                                                        \n"
      ]
     },
     "metadata": {},
     "output_type": "display_data"
    },
    {
     "name": "stderr",
     "output_type": "stream",
     "text": [
      "Animation 1: _MethodAnimation(ValueTracker):  46%|####5     | 137/300 [00:37<01:47,  1.52it/s]"
     ]
    },
    {
     "data": {
      "text/html": [
       "<pre style=\"white-space:pre;overflow-x:auto;line-height:normal;font-family:Menlo,'DejaVu Sans Mono',consolas,'Courier New',monospace\"><span style=\"color: #7fbfbf; text-decoration-color: #7fbfbf\">[01/31/22 22:11:14] </span><span style=\"color: #800000; text-decoration-color: #800000\">WARNING </span> The method CoordinateSystem.get_graph has     <a href=\"file://C:\\Users\\thoma\\AppData\\Local\\Programs\\Python\\Python39\\lib\\site-packages\\manim\\utils\\deprecation.py\"><span style=\"color: #7f7f7f; text-decoration-color: #7f7f7f\">deprecation.py</span></a><span style=\"color: #7f7f7f; text-decoration-color: #7f7f7f\">:</span><a href=\"file://C:\\Users\\thoma\\AppData\\Local\\Programs\\Python\\Python39\\lib\\site-packages\\manim\\utils\\deprecation.py#210\"><span style=\"color: #7f7f7f; text-decoration-color: #7f7f7f\">210</span></a>\n",
       "                             been deprecated since v0.<span style=\"color: #008000; text-decoration-color: #008000\">11.0</span> and is expected                   \n",
       "                             to be removed after v0.<span style=\"color: #008000; text-decoration-color: #008000\">13.0</span>. Use plot                           \n",
       "                             instead.                                                        \n",
       "</pre>\n"
      ],
      "text/plain": [
       "\u001b[2;36m[01/31/22 22:11:14]\u001b[0m\u001b[2;36m \u001b[0m\u001b[31mWARNING \u001b[0m The method CoordinateSystem.get_graph has     \u001b]8;id=221368;file://C:\\Users\\thoma\\AppData\\Local\\Programs\\Python\\Python39\\lib\\site-packages\\manim\\utils\\deprecation.py\u001b\\\u001b[2mdeprecation.py\u001b[0m\u001b]8;;\u001b\\\u001b[2m:\u001b[0m\u001b]8;id=688119;file://C:\\Users\\thoma\\AppData\\Local\\Programs\\Python\\Python39\\lib\\site-packages\\manim\\utils\\deprecation.py#210\u001b\\\u001b[2m210\u001b[0m\u001b]8;;\u001b\\\n",
       "                             been deprecated since v0.\u001b[32m11.0\u001b[0m and is expected                   \n",
       "                             to be removed after v0.\u001b[32m13.0\u001b[0m. Use plot                           \n",
       "                             instead.                                                        \n"
      ]
     },
     "metadata": {},
     "output_type": "display_data"
    },
    {
     "name": "stderr",
     "output_type": "stream",
     "text": [
      "Animation 1: _MethodAnimation(ValueTracker):  46%|####6     | 138/300 [00:38<01:49,  1.48it/s]"
     ]
    },
    {
     "data": {
      "text/html": [
       "<pre style=\"white-space:pre;overflow-x:auto;line-height:normal;font-family:Menlo,'DejaVu Sans Mono',consolas,'Courier New',monospace\"><span style=\"color: #7fbfbf; text-decoration-color: #7fbfbf\">[01/31/22 22:11:15] </span><span style=\"color: #800000; text-decoration-color: #800000\">WARNING </span> The method CoordinateSystem.get_graph has     <a href=\"file://C:\\Users\\thoma\\AppData\\Local\\Programs\\Python\\Python39\\lib\\site-packages\\manim\\utils\\deprecation.py\"><span style=\"color: #7f7f7f; text-decoration-color: #7f7f7f\">deprecation.py</span></a><span style=\"color: #7f7f7f; text-decoration-color: #7f7f7f\">:</span><a href=\"file://C:\\Users\\thoma\\AppData\\Local\\Programs\\Python\\Python39\\lib\\site-packages\\manim\\utils\\deprecation.py#210\"><span style=\"color: #7f7f7f; text-decoration-color: #7f7f7f\">210</span></a>\n",
       "                             been deprecated since v0.<span style=\"color: #008000; text-decoration-color: #008000\">11.0</span> and is expected                   \n",
       "                             to be removed after v0.<span style=\"color: #008000; text-decoration-color: #008000\">13.0</span>. Use plot                           \n",
       "                             instead.                                                        \n",
       "</pre>\n"
      ],
      "text/plain": [
       "\u001b[2;36m[01/31/22 22:11:15]\u001b[0m\u001b[2;36m \u001b[0m\u001b[31mWARNING \u001b[0m The method CoordinateSystem.get_graph has     \u001b]8;id=691012;file://C:\\Users\\thoma\\AppData\\Local\\Programs\\Python\\Python39\\lib\\site-packages\\manim\\utils\\deprecation.py\u001b\\\u001b[2mdeprecation.py\u001b[0m\u001b]8;;\u001b\\\u001b[2m:\u001b[0m\u001b]8;id=863082;file://C:\\Users\\thoma\\AppData\\Local\\Programs\\Python\\Python39\\lib\\site-packages\\manim\\utils\\deprecation.py#210\u001b\\\u001b[2m210\u001b[0m\u001b]8;;\u001b\\\n",
       "                             been deprecated since v0.\u001b[32m11.0\u001b[0m and is expected                   \n",
       "                             to be removed after v0.\u001b[32m13.0\u001b[0m. Use plot                           \n",
       "                             instead.                                                        \n"
      ]
     },
     "metadata": {},
     "output_type": "display_data"
    },
    {
     "name": "stderr",
     "output_type": "stream",
     "text": [
      "Animation 1: _MethodAnimation(ValueTracker):  46%|####6     | 139/300 [00:39<01:48,  1.48it/s]"
     ]
    },
    {
     "data": {
      "text/html": [
       "<pre style=\"white-space:pre;overflow-x:auto;line-height:normal;font-family:Menlo,'DejaVu Sans Mono',consolas,'Courier New',monospace\"><span style=\"color: #7fbfbf; text-decoration-color: #7fbfbf\">                    </span><span style=\"color: #800000; text-decoration-color: #800000\">WARNING </span> The method CoordinateSystem.get_graph has     <a href=\"file://C:\\Users\\thoma\\AppData\\Local\\Programs\\Python\\Python39\\lib\\site-packages\\manim\\utils\\deprecation.py\"><span style=\"color: #7f7f7f; text-decoration-color: #7f7f7f\">deprecation.py</span></a><span style=\"color: #7f7f7f; text-decoration-color: #7f7f7f\">:</span><a href=\"file://C:\\Users\\thoma\\AppData\\Local\\Programs\\Python\\Python39\\lib\\site-packages\\manim\\utils\\deprecation.py#210\"><span style=\"color: #7f7f7f; text-decoration-color: #7f7f7f\">210</span></a>\n",
       "                             been deprecated since v0.<span style=\"color: #008000; text-decoration-color: #008000\">11.0</span> and is expected                   \n",
       "                             to be removed after v0.<span style=\"color: #008000; text-decoration-color: #008000\">13.0</span>. Use plot                           \n",
       "                             instead.                                                        \n",
       "</pre>\n"
      ],
      "text/plain": [
       "\u001b[2;36m                   \u001b[0m\u001b[2;36m \u001b[0m\u001b[31mWARNING \u001b[0m The method CoordinateSystem.get_graph has     \u001b]8;id=192379;file://C:\\Users\\thoma\\AppData\\Local\\Programs\\Python\\Python39\\lib\\site-packages\\manim\\utils\\deprecation.py\u001b\\\u001b[2mdeprecation.py\u001b[0m\u001b]8;;\u001b\\\u001b[2m:\u001b[0m\u001b]8;id=444052;file://C:\\Users\\thoma\\AppData\\Local\\Programs\\Python\\Python39\\lib\\site-packages\\manim\\utils\\deprecation.py#210\u001b\\\u001b[2m210\u001b[0m\u001b]8;;\u001b\\\n",
       "                             been deprecated since v0.\u001b[32m11.0\u001b[0m and is expected                   \n",
       "                             to be removed after v0.\u001b[32m13.0\u001b[0m. Use plot                           \n",
       "                             instead.                                                        \n"
      ]
     },
     "metadata": {},
     "output_type": "display_data"
    },
    {
     "name": "stderr",
     "output_type": "stream",
     "text": [
      "Animation 1: _MethodAnimation(ValueTracker):  47%|####6     | 140/300 [00:39<01:44,  1.53it/s]"
     ]
    },
    {
     "data": {
      "text/html": [
       "<pre style=\"white-space:pre;overflow-x:auto;line-height:normal;font-family:Menlo,'DejaVu Sans Mono',consolas,'Courier New',monospace\"><span style=\"color: #7fbfbf; text-decoration-color: #7fbfbf\">[01/31/22 22:11:16] </span><span style=\"color: #800000; text-decoration-color: #800000\">WARNING </span> The method CoordinateSystem.get_graph has     <a href=\"file://C:\\Users\\thoma\\AppData\\Local\\Programs\\Python\\Python39\\lib\\site-packages\\manim\\utils\\deprecation.py\"><span style=\"color: #7f7f7f; text-decoration-color: #7f7f7f\">deprecation.py</span></a><span style=\"color: #7f7f7f; text-decoration-color: #7f7f7f\">:</span><a href=\"file://C:\\Users\\thoma\\AppData\\Local\\Programs\\Python\\Python39\\lib\\site-packages\\manim\\utils\\deprecation.py#210\"><span style=\"color: #7f7f7f; text-decoration-color: #7f7f7f\">210</span></a>\n",
       "                             been deprecated since v0.<span style=\"color: #008000; text-decoration-color: #008000\">11.0</span> and is expected                   \n",
       "                             to be removed after v0.<span style=\"color: #008000; text-decoration-color: #008000\">13.0</span>. Use plot                           \n",
       "                             instead.                                                        \n",
       "</pre>\n"
      ],
      "text/plain": [
       "\u001b[2;36m[01/31/22 22:11:16]\u001b[0m\u001b[2;36m \u001b[0m\u001b[31mWARNING \u001b[0m The method CoordinateSystem.get_graph has     \u001b]8;id=515247;file://C:\\Users\\thoma\\AppData\\Local\\Programs\\Python\\Python39\\lib\\site-packages\\manim\\utils\\deprecation.py\u001b\\\u001b[2mdeprecation.py\u001b[0m\u001b]8;;\u001b\\\u001b[2m:\u001b[0m\u001b]8;id=276108;file://C:\\Users\\thoma\\AppData\\Local\\Programs\\Python\\Python39\\lib\\site-packages\\manim\\utils\\deprecation.py#210\u001b\\\u001b[2m210\u001b[0m\u001b]8;;\u001b\\\n",
       "                             been deprecated since v0.\u001b[32m11.0\u001b[0m and is expected                   \n",
       "                             to be removed after v0.\u001b[32m13.0\u001b[0m. Use plot                           \n",
       "                             instead.                                                        \n"
      ]
     },
     "metadata": {},
     "output_type": "display_data"
    },
    {
     "name": "stderr",
     "output_type": "stream",
     "text": [
      "Animation 1: _MethodAnimation(ValueTracker):  47%|####6     | 141/300 [00:40<01:40,  1.59it/s]"
     ]
    },
    {
     "data": {
      "text/html": [
       "<pre style=\"white-space:pre;overflow-x:auto;line-height:normal;font-family:Menlo,'DejaVu Sans Mono',consolas,'Courier New',monospace\"><span style=\"color: #7fbfbf; text-decoration-color: #7fbfbf\">                    </span><span style=\"color: #800000; text-decoration-color: #800000\">WARNING </span> The method CoordinateSystem.get_graph has     <a href=\"file://C:\\Users\\thoma\\AppData\\Local\\Programs\\Python\\Python39\\lib\\site-packages\\manim\\utils\\deprecation.py\"><span style=\"color: #7f7f7f; text-decoration-color: #7f7f7f\">deprecation.py</span></a><span style=\"color: #7f7f7f; text-decoration-color: #7f7f7f\">:</span><a href=\"file://C:\\Users\\thoma\\AppData\\Local\\Programs\\Python\\Python39\\lib\\site-packages\\manim\\utils\\deprecation.py#210\"><span style=\"color: #7f7f7f; text-decoration-color: #7f7f7f\">210</span></a>\n",
       "                             been deprecated since v0.<span style=\"color: #008000; text-decoration-color: #008000\">11.0</span> and is expected                   \n",
       "                             to be removed after v0.<span style=\"color: #008000; text-decoration-color: #008000\">13.0</span>. Use plot                           \n",
       "                             instead.                                                        \n",
       "</pre>\n"
      ],
      "text/plain": [
       "\u001b[2;36m                   \u001b[0m\u001b[2;36m \u001b[0m\u001b[31mWARNING \u001b[0m The method CoordinateSystem.get_graph has     \u001b]8;id=343297;file://C:\\Users\\thoma\\AppData\\Local\\Programs\\Python\\Python39\\lib\\site-packages\\manim\\utils\\deprecation.py\u001b\\\u001b[2mdeprecation.py\u001b[0m\u001b]8;;\u001b\\\u001b[2m:\u001b[0m\u001b]8;id=347808;file://C:\\Users\\thoma\\AppData\\Local\\Programs\\Python\\Python39\\lib\\site-packages\\manim\\utils\\deprecation.py#210\u001b\\\u001b[2m210\u001b[0m\u001b]8;;\u001b\\\n",
       "                             been deprecated since v0.\u001b[32m11.0\u001b[0m and is expected                   \n",
       "                             to be removed after v0.\u001b[32m13.0\u001b[0m. Use plot                           \n",
       "                             instead.                                                        \n"
      ]
     },
     "metadata": {},
     "output_type": "display_data"
    },
    {
     "name": "stderr",
     "output_type": "stream",
     "text": [
      "Animation 1: _MethodAnimation(ValueTracker):  47%|####7     | 142/300 [00:41<01:38,  1.60it/s]"
     ]
    },
    {
     "data": {
      "text/html": [
       "<pre style=\"white-space:pre;overflow-x:auto;line-height:normal;font-family:Menlo,'DejaVu Sans Mono',consolas,'Courier New',monospace\"><span style=\"color: #7fbfbf; text-decoration-color: #7fbfbf\">[01/31/22 22:11:17] </span><span style=\"color: #800000; text-decoration-color: #800000\">WARNING </span> The method CoordinateSystem.get_graph has     <a href=\"file://C:\\Users\\thoma\\AppData\\Local\\Programs\\Python\\Python39\\lib\\site-packages\\manim\\utils\\deprecation.py\"><span style=\"color: #7f7f7f; text-decoration-color: #7f7f7f\">deprecation.py</span></a><span style=\"color: #7f7f7f; text-decoration-color: #7f7f7f\">:</span><a href=\"file://C:\\Users\\thoma\\AppData\\Local\\Programs\\Python\\Python39\\lib\\site-packages\\manim\\utils\\deprecation.py#210\"><span style=\"color: #7f7f7f; text-decoration-color: #7f7f7f\">210</span></a>\n",
       "                             been deprecated since v0.<span style=\"color: #008000; text-decoration-color: #008000\">11.0</span> and is expected                   \n",
       "                             to be removed after v0.<span style=\"color: #008000; text-decoration-color: #008000\">13.0</span>. Use plot                           \n",
       "                             instead.                                                        \n",
       "</pre>\n"
      ],
      "text/plain": [
       "\u001b[2;36m[01/31/22 22:11:17]\u001b[0m\u001b[2;36m \u001b[0m\u001b[31mWARNING \u001b[0m The method CoordinateSystem.get_graph has     \u001b]8;id=754020;file://C:\\Users\\thoma\\AppData\\Local\\Programs\\Python\\Python39\\lib\\site-packages\\manim\\utils\\deprecation.py\u001b\\\u001b[2mdeprecation.py\u001b[0m\u001b]8;;\u001b\\\u001b[2m:\u001b[0m\u001b]8;id=340929;file://C:\\Users\\thoma\\AppData\\Local\\Programs\\Python\\Python39\\lib\\site-packages\\manim\\utils\\deprecation.py#210\u001b\\\u001b[2m210\u001b[0m\u001b]8;;\u001b\\\n",
       "                             been deprecated since v0.\u001b[32m11.0\u001b[0m and is expected                   \n",
       "                             to be removed after v0.\u001b[32m13.0\u001b[0m. Use plot                           \n",
       "                             instead.                                                        \n"
      ]
     },
     "metadata": {},
     "output_type": "display_data"
    },
    {
     "name": "stderr",
     "output_type": "stream",
     "text": [
      "Animation 1: _MethodAnimation(ValueTracker):  48%|####7     | 143/300 [00:41<01:34,  1.66it/s]"
     ]
    },
    {
     "data": {
      "text/html": [
       "<pre style=\"white-space:pre;overflow-x:auto;line-height:normal;font-family:Menlo,'DejaVu Sans Mono',consolas,'Courier New',monospace\"><span style=\"color: #7fbfbf; text-decoration-color: #7fbfbf\">[01/31/22 22:11:18] </span><span style=\"color: #800000; text-decoration-color: #800000\">WARNING </span> The method CoordinateSystem.get_graph has     <a href=\"file://C:\\Users\\thoma\\AppData\\Local\\Programs\\Python\\Python39\\lib\\site-packages\\manim\\utils\\deprecation.py\"><span style=\"color: #7f7f7f; text-decoration-color: #7f7f7f\">deprecation.py</span></a><span style=\"color: #7f7f7f; text-decoration-color: #7f7f7f\">:</span><a href=\"file://C:\\Users\\thoma\\AppData\\Local\\Programs\\Python\\Python39\\lib\\site-packages\\manim\\utils\\deprecation.py#210\"><span style=\"color: #7f7f7f; text-decoration-color: #7f7f7f\">210</span></a>\n",
       "                             been deprecated since v0.<span style=\"color: #008000; text-decoration-color: #008000\">11.0</span> and is expected                   \n",
       "                             to be removed after v0.<span style=\"color: #008000; text-decoration-color: #008000\">13.0</span>. Use plot                           \n",
       "                             instead.                                                        \n",
       "</pre>\n"
      ],
      "text/plain": [
       "\u001b[2;36m[01/31/22 22:11:18]\u001b[0m\u001b[2;36m \u001b[0m\u001b[31mWARNING \u001b[0m The method CoordinateSystem.get_graph has     \u001b]8;id=419732;file://C:\\Users\\thoma\\AppData\\Local\\Programs\\Python\\Python39\\lib\\site-packages\\manim\\utils\\deprecation.py\u001b\\\u001b[2mdeprecation.py\u001b[0m\u001b]8;;\u001b\\\u001b[2m:\u001b[0m\u001b]8;id=212021;file://C:\\Users\\thoma\\AppData\\Local\\Programs\\Python\\Python39\\lib\\site-packages\\manim\\utils\\deprecation.py#210\u001b\\\u001b[2m210\u001b[0m\u001b]8;;\u001b\\\n",
       "                             been deprecated since v0.\u001b[32m11.0\u001b[0m and is expected                   \n",
       "                             to be removed after v0.\u001b[32m13.0\u001b[0m. Use plot                           \n",
       "                             instead.                                                        \n"
      ]
     },
     "metadata": {},
     "output_type": "display_data"
    },
    {
     "name": "stderr",
     "output_type": "stream",
     "text": [
      "Animation 1: _MethodAnimation(ValueTracker):  48%|####8     | 144/300 [00:42<01:36,  1.62it/s]"
     ]
    },
    {
     "data": {
      "text/html": [
       "<pre style=\"white-space:pre;overflow-x:auto;line-height:normal;font-family:Menlo,'DejaVu Sans Mono',consolas,'Courier New',monospace\"><span style=\"color: #7fbfbf; text-decoration-color: #7fbfbf\">                    </span><span style=\"color: #800000; text-decoration-color: #800000\">WARNING </span> The method CoordinateSystem.get_graph has     <a href=\"file://C:\\Users\\thoma\\AppData\\Local\\Programs\\Python\\Python39\\lib\\site-packages\\manim\\utils\\deprecation.py\"><span style=\"color: #7f7f7f; text-decoration-color: #7f7f7f\">deprecation.py</span></a><span style=\"color: #7f7f7f; text-decoration-color: #7f7f7f\">:</span><a href=\"file://C:\\Users\\thoma\\AppData\\Local\\Programs\\Python\\Python39\\lib\\site-packages\\manim\\utils\\deprecation.py#210\"><span style=\"color: #7f7f7f; text-decoration-color: #7f7f7f\">210</span></a>\n",
       "                             been deprecated since v0.<span style=\"color: #008000; text-decoration-color: #008000\">11.0</span> and is expected                   \n",
       "                             to be removed after v0.<span style=\"color: #008000; text-decoration-color: #008000\">13.0</span>. Use plot                           \n",
       "                             instead.                                                        \n",
       "</pre>\n"
      ],
      "text/plain": [
       "\u001b[2;36m                   \u001b[0m\u001b[2;36m \u001b[0m\u001b[31mWARNING \u001b[0m The method CoordinateSystem.get_graph has     \u001b]8;id=714709;file://C:\\Users\\thoma\\AppData\\Local\\Programs\\Python\\Python39\\lib\\site-packages\\manim\\utils\\deprecation.py\u001b\\\u001b[2mdeprecation.py\u001b[0m\u001b]8;;\u001b\\\u001b[2m:\u001b[0m\u001b]8;id=478477;file://C:\\Users\\thoma\\AppData\\Local\\Programs\\Python\\Python39\\lib\\site-packages\\manim\\utils\\deprecation.py#210\u001b\\\u001b[2m210\u001b[0m\u001b]8;;\u001b\\\n",
       "                             been deprecated since v0.\u001b[32m11.0\u001b[0m and is expected                   \n",
       "                             to be removed after v0.\u001b[32m13.0\u001b[0m. Use plot                           \n",
       "                             instead.                                                        \n"
      ]
     },
     "metadata": {},
     "output_type": "display_data"
    },
    {
     "name": "stderr",
     "output_type": "stream",
     "text": [
      "Animation 1: _MethodAnimation(ValueTracker):  48%|####8     | 145/300 [00:42<01:36,  1.61it/s]"
     ]
    },
    {
     "data": {
      "text/html": [
       "<pre style=\"white-space:pre;overflow-x:auto;line-height:normal;font-family:Menlo,'DejaVu Sans Mono',consolas,'Courier New',monospace\"><span style=\"color: #7fbfbf; text-decoration-color: #7fbfbf\">[01/31/22 22:11:19] </span><span style=\"color: #800000; text-decoration-color: #800000\">WARNING </span> The method CoordinateSystem.get_graph has     <a href=\"file://C:\\Users\\thoma\\AppData\\Local\\Programs\\Python\\Python39\\lib\\site-packages\\manim\\utils\\deprecation.py\"><span style=\"color: #7f7f7f; text-decoration-color: #7f7f7f\">deprecation.py</span></a><span style=\"color: #7f7f7f; text-decoration-color: #7f7f7f\">:</span><a href=\"file://C:\\Users\\thoma\\AppData\\Local\\Programs\\Python\\Python39\\lib\\site-packages\\manim\\utils\\deprecation.py#210\"><span style=\"color: #7f7f7f; text-decoration-color: #7f7f7f\">210</span></a>\n",
       "                             been deprecated since v0.<span style=\"color: #008000; text-decoration-color: #008000\">11.0</span> and is expected                   \n",
       "                             to be removed after v0.<span style=\"color: #008000; text-decoration-color: #008000\">13.0</span>. Use plot                           \n",
       "                             instead.                                                        \n",
       "</pre>\n"
      ],
      "text/plain": [
       "\u001b[2;36m[01/31/22 22:11:19]\u001b[0m\u001b[2;36m \u001b[0m\u001b[31mWARNING \u001b[0m The method CoordinateSystem.get_graph has     \u001b]8;id=55959;file://C:\\Users\\thoma\\AppData\\Local\\Programs\\Python\\Python39\\lib\\site-packages\\manim\\utils\\deprecation.py\u001b\\\u001b[2mdeprecation.py\u001b[0m\u001b]8;;\u001b\\\u001b[2m:\u001b[0m\u001b]8;id=966050;file://C:\\Users\\thoma\\AppData\\Local\\Programs\\Python\\Python39\\lib\\site-packages\\manim\\utils\\deprecation.py#210\u001b\\\u001b[2m210\u001b[0m\u001b]8;;\u001b\\\n",
       "                             been deprecated since v0.\u001b[32m11.0\u001b[0m and is expected                   \n",
       "                             to be removed after v0.\u001b[32m13.0\u001b[0m. Use plot                           \n",
       "                             instead.                                                        \n"
      ]
     },
     "metadata": {},
     "output_type": "display_data"
    },
    {
     "name": "stderr",
     "output_type": "stream",
     "text": [
      "Animation 1: _MethodAnimation(ValueTracker):  49%|####8     | 146/300 [00:43<01:36,  1.60it/s]"
     ]
    },
    {
     "data": {
      "text/html": [
       "<pre style=\"white-space:pre;overflow-x:auto;line-height:normal;font-family:Menlo,'DejaVu Sans Mono',consolas,'Courier New',monospace\"><span style=\"color: #7fbfbf; text-decoration-color: #7fbfbf\">[01/31/22 22:11:20] </span><span style=\"color: #800000; text-decoration-color: #800000\">WARNING </span> The method CoordinateSystem.get_graph has     <a href=\"file://C:\\Users\\thoma\\AppData\\Local\\Programs\\Python\\Python39\\lib\\site-packages\\manim\\utils\\deprecation.py\"><span style=\"color: #7f7f7f; text-decoration-color: #7f7f7f\">deprecation.py</span></a><span style=\"color: #7f7f7f; text-decoration-color: #7f7f7f\">:</span><a href=\"file://C:\\Users\\thoma\\AppData\\Local\\Programs\\Python\\Python39\\lib\\site-packages\\manim\\utils\\deprecation.py#210\"><span style=\"color: #7f7f7f; text-decoration-color: #7f7f7f\">210</span></a>\n",
       "                             been deprecated since v0.<span style=\"color: #008000; text-decoration-color: #008000\">11.0</span> and is expected                   \n",
       "                             to be removed after v0.<span style=\"color: #008000; text-decoration-color: #008000\">13.0</span>. Use plot                           \n",
       "                             instead.                                                        \n",
       "</pre>\n"
      ],
      "text/plain": [
       "\u001b[2;36m[01/31/22 22:11:20]\u001b[0m\u001b[2;36m \u001b[0m\u001b[31mWARNING \u001b[0m The method CoordinateSystem.get_graph has     \u001b]8;id=473135;file://C:\\Users\\thoma\\AppData\\Local\\Programs\\Python\\Python39\\lib\\site-packages\\manim\\utils\\deprecation.py\u001b\\\u001b[2mdeprecation.py\u001b[0m\u001b]8;;\u001b\\\u001b[2m:\u001b[0m\u001b]8;id=651058;file://C:\\Users\\thoma\\AppData\\Local\\Programs\\Python\\Python39\\lib\\site-packages\\manim\\utils\\deprecation.py#210\u001b\\\u001b[2m210\u001b[0m\u001b]8;;\u001b\\\n",
       "                             been deprecated since v0.\u001b[32m11.0\u001b[0m and is expected                   \n",
       "                             to be removed after v0.\u001b[32m13.0\u001b[0m. Use plot                           \n",
       "                             instead.                                                        \n"
      ]
     },
     "metadata": {},
     "output_type": "display_data"
    },
    {
     "name": "stderr",
     "output_type": "stream",
     "text": [
      "Animation 1: _MethodAnimation(ValueTracker):  49%|####9     | 147/300 [00:44<01:42,  1.50it/s]"
     ]
    },
    {
     "data": {
      "text/html": [
       "<pre style=\"white-space:pre;overflow-x:auto;line-height:normal;font-family:Menlo,'DejaVu Sans Mono',consolas,'Courier New',monospace\"><span style=\"color: #7fbfbf; text-decoration-color: #7fbfbf\">                    </span><span style=\"color: #800000; text-decoration-color: #800000\">WARNING </span> The method CoordinateSystem.get_graph has     <a href=\"file://C:\\Users\\thoma\\AppData\\Local\\Programs\\Python\\Python39\\lib\\site-packages\\manim\\utils\\deprecation.py\"><span style=\"color: #7f7f7f; text-decoration-color: #7f7f7f\">deprecation.py</span></a><span style=\"color: #7f7f7f; text-decoration-color: #7f7f7f\">:</span><a href=\"file://C:\\Users\\thoma\\AppData\\Local\\Programs\\Python\\Python39\\lib\\site-packages\\manim\\utils\\deprecation.py#210\"><span style=\"color: #7f7f7f; text-decoration-color: #7f7f7f\">210</span></a>\n",
       "                             been deprecated since v0.<span style=\"color: #008000; text-decoration-color: #008000\">11.0</span> and is expected                   \n",
       "                             to be removed after v0.<span style=\"color: #008000; text-decoration-color: #008000\">13.0</span>. Use plot                           \n",
       "                             instead.                                                        \n",
       "</pre>\n"
      ],
      "text/plain": [
       "\u001b[2;36m                   \u001b[0m\u001b[2;36m \u001b[0m\u001b[31mWARNING \u001b[0m The method CoordinateSystem.get_graph has     \u001b]8;id=399451;file://C:\\Users\\thoma\\AppData\\Local\\Programs\\Python\\Python39\\lib\\site-packages\\manim\\utils\\deprecation.py\u001b\\\u001b[2mdeprecation.py\u001b[0m\u001b]8;;\u001b\\\u001b[2m:\u001b[0m\u001b]8;id=465011;file://C:\\Users\\thoma\\AppData\\Local\\Programs\\Python\\Python39\\lib\\site-packages\\manim\\utils\\deprecation.py#210\u001b\\\u001b[2m210\u001b[0m\u001b]8;;\u001b\\\n",
       "                             been deprecated since v0.\u001b[32m11.0\u001b[0m and is expected                   \n",
       "                             to be removed after v0.\u001b[32m13.0\u001b[0m. Use plot                           \n",
       "                             instead.                                                        \n"
      ]
     },
     "metadata": {},
     "output_type": "display_data"
    },
    {
     "name": "stderr",
     "output_type": "stream",
     "text": [
      "Animation 1: _MethodAnimation(ValueTracker):  49%|####9     | 148/300 [00:45<01:48,  1.40it/s]"
     ]
    },
    {
     "data": {
      "text/html": [
       "<pre style=\"white-space:pre;overflow-x:auto;line-height:normal;font-family:Menlo,'DejaVu Sans Mono',consolas,'Courier New',monospace\"><span style=\"color: #7fbfbf; text-decoration-color: #7fbfbf\">[01/31/22 22:11:21] </span><span style=\"color: #800000; text-decoration-color: #800000\">WARNING </span> The method CoordinateSystem.get_graph has     <a href=\"file://C:\\Users\\thoma\\AppData\\Local\\Programs\\Python\\Python39\\lib\\site-packages\\manim\\utils\\deprecation.py\"><span style=\"color: #7f7f7f; text-decoration-color: #7f7f7f\">deprecation.py</span></a><span style=\"color: #7f7f7f; text-decoration-color: #7f7f7f\">:</span><a href=\"file://C:\\Users\\thoma\\AppData\\Local\\Programs\\Python\\Python39\\lib\\site-packages\\manim\\utils\\deprecation.py#210\"><span style=\"color: #7f7f7f; text-decoration-color: #7f7f7f\">210</span></a>\n",
       "                             been deprecated since v0.<span style=\"color: #008000; text-decoration-color: #008000\">11.0</span> and is expected                   \n",
       "                             to be removed after v0.<span style=\"color: #008000; text-decoration-color: #008000\">13.0</span>. Use plot                           \n",
       "                             instead.                                                        \n",
       "</pre>\n"
      ],
      "text/plain": [
       "\u001b[2;36m[01/31/22 22:11:21]\u001b[0m\u001b[2;36m \u001b[0m\u001b[31mWARNING \u001b[0m The method CoordinateSystem.get_graph has     \u001b]8;id=870535;file://C:\\Users\\thoma\\AppData\\Local\\Programs\\Python\\Python39\\lib\\site-packages\\manim\\utils\\deprecation.py\u001b\\\u001b[2mdeprecation.py\u001b[0m\u001b]8;;\u001b\\\u001b[2m:\u001b[0m\u001b]8;id=198897;file://C:\\Users\\thoma\\AppData\\Local\\Programs\\Python\\Python39\\lib\\site-packages\\manim\\utils\\deprecation.py#210\u001b\\\u001b[2m210\u001b[0m\u001b]8;;\u001b\\\n",
       "                             been deprecated since v0.\u001b[32m11.0\u001b[0m and is expected                   \n",
       "                             to be removed after v0.\u001b[32m13.0\u001b[0m. Use plot                           \n",
       "                             instead.                                                        \n"
      ]
     },
     "metadata": {},
     "output_type": "display_data"
    },
    {
     "name": "stderr",
     "output_type": "stream",
     "text": [
      "Animation 1: _MethodAnimation(ValueTracker):  50%|####9     | 149/300 [00:45<01:54,  1.32it/s]"
     ]
    },
    {
     "data": {
      "text/html": [
       "<pre style=\"white-space:pre;overflow-x:auto;line-height:normal;font-family:Menlo,'DejaVu Sans Mono',consolas,'Courier New',monospace\"><span style=\"color: #7fbfbf; text-decoration-color: #7fbfbf\">[01/31/22 22:11:22] </span><span style=\"color: #800000; text-decoration-color: #800000\">WARNING </span> The method CoordinateSystem.get_graph has     <a href=\"file://C:\\Users\\thoma\\AppData\\Local\\Programs\\Python\\Python39\\lib\\site-packages\\manim\\utils\\deprecation.py\"><span style=\"color: #7f7f7f; text-decoration-color: #7f7f7f\">deprecation.py</span></a><span style=\"color: #7f7f7f; text-decoration-color: #7f7f7f\">:</span><a href=\"file://C:\\Users\\thoma\\AppData\\Local\\Programs\\Python\\Python39\\lib\\site-packages\\manim\\utils\\deprecation.py#210\"><span style=\"color: #7f7f7f; text-decoration-color: #7f7f7f\">210</span></a>\n",
       "                             been deprecated since v0.<span style=\"color: #008000; text-decoration-color: #008000\">11.0</span> and is expected                   \n",
       "                             to be removed after v0.<span style=\"color: #008000; text-decoration-color: #008000\">13.0</span>. Use plot                           \n",
       "                             instead.                                                        \n",
       "</pre>\n"
      ],
      "text/plain": [
       "\u001b[2;36m[01/31/22 22:11:22]\u001b[0m\u001b[2;36m \u001b[0m\u001b[31mWARNING \u001b[0m The method CoordinateSystem.get_graph has     \u001b]8;id=244686;file://C:\\Users\\thoma\\AppData\\Local\\Programs\\Python\\Python39\\lib\\site-packages\\manim\\utils\\deprecation.py\u001b\\\u001b[2mdeprecation.py\u001b[0m\u001b]8;;\u001b\\\u001b[2m:\u001b[0m\u001b]8;id=423655;file://C:\\Users\\thoma\\AppData\\Local\\Programs\\Python\\Python39\\lib\\site-packages\\manim\\utils\\deprecation.py#210\u001b\\\u001b[2m210\u001b[0m\u001b]8;;\u001b\\\n",
       "                             been deprecated since v0.\u001b[32m11.0\u001b[0m and is expected                   \n",
       "                             to be removed after v0.\u001b[32m13.0\u001b[0m. Use plot                           \n",
       "                             instead.                                                        \n"
      ]
     },
     "metadata": {},
     "output_type": "display_data"
    },
    {
     "name": "stderr",
     "output_type": "stream",
     "text": [
      "Animation 1: _MethodAnimation(ValueTracker):  50%|#####     | 150/300 [00:46<01:53,  1.32it/s]"
     ]
    },
    {
     "data": {
      "text/html": [
       "<pre style=\"white-space:pre;overflow-x:auto;line-height:normal;font-family:Menlo,'DejaVu Sans Mono',consolas,'Courier New',monospace\"><span style=\"color: #7fbfbf; text-decoration-color: #7fbfbf\">[01/31/22 22:11:23] </span><span style=\"color: #800000; text-decoration-color: #800000\">WARNING </span> The method CoordinateSystem.get_graph has     <a href=\"file://C:\\Users\\thoma\\AppData\\Local\\Programs\\Python\\Python39\\lib\\site-packages\\manim\\utils\\deprecation.py\"><span style=\"color: #7f7f7f; text-decoration-color: #7f7f7f\">deprecation.py</span></a><span style=\"color: #7f7f7f; text-decoration-color: #7f7f7f\">:</span><a href=\"file://C:\\Users\\thoma\\AppData\\Local\\Programs\\Python\\Python39\\lib\\site-packages\\manim\\utils\\deprecation.py#210\"><span style=\"color: #7f7f7f; text-decoration-color: #7f7f7f\">210</span></a>\n",
       "                             been deprecated since v0.<span style=\"color: #008000; text-decoration-color: #008000\">11.0</span> and is expected                   \n",
       "                             to be removed after v0.<span style=\"color: #008000; text-decoration-color: #008000\">13.0</span>. Use plot                           \n",
       "                             instead.                                                        \n",
       "</pre>\n"
      ],
      "text/plain": [
       "\u001b[2;36m[01/31/22 22:11:23]\u001b[0m\u001b[2;36m \u001b[0m\u001b[31mWARNING \u001b[0m The method CoordinateSystem.get_graph has     \u001b]8;id=8896;file://C:\\Users\\thoma\\AppData\\Local\\Programs\\Python\\Python39\\lib\\site-packages\\manim\\utils\\deprecation.py\u001b\\\u001b[2mdeprecation.py\u001b[0m\u001b]8;;\u001b\\\u001b[2m:\u001b[0m\u001b]8;id=977795;file://C:\\Users\\thoma\\AppData\\Local\\Programs\\Python\\Python39\\lib\\site-packages\\manim\\utils\\deprecation.py#210\u001b\\\u001b[2m210\u001b[0m\u001b]8;;\u001b\\\n",
       "                             been deprecated since v0.\u001b[32m11.0\u001b[0m and is expected                   \n",
       "                             to be removed after v0.\u001b[32m13.0\u001b[0m. Use plot                           \n",
       "                             instead.                                                        \n"
      ]
     },
     "metadata": {},
     "output_type": "display_data"
    },
    {
     "name": "stderr",
     "output_type": "stream",
     "text": [
      "Animation 1: _MethodAnimation(ValueTracker):  50%|#####     | 151/300 [00:47<02:05,  1.18it/s]"
     ]
    },
    {
     "data": {
      "text/html": [
       "<pre style=\"white-space:pre;overflow-x:auto;line-height:normal;font-family:Menlo,'DejaVu Sans Mono',consolas,'Courier New',monospace\"><span style=\"color: #7fbfbf; text-decoration-color: #7fbfbf\">[01/31/22 22:11:24] </span><span style=\"color: #800000; text-decoration-color: #800000\">WARNING </span> The method CoordinateSystem.get_graph has     <a href=\"file://C:\\Users\\thoma\\AppData\\Local\\Programs\\Python\\Python39\\lib\\site-packages\\manim\\utils\\deprecation.py\"><span style=\"color: #7f7f7f; text-decoration-color: #7f7f7f\">deprecation.py</span></a><span style=\"color: #7f7f7f; text-decoration-color: #7f7f7f\">:</span><a href=\"file://C:\\Users\\thoma\\AppData\\Local\\Programs\\Python\\Python39\\lib\\site-packages\\manim\\utils\\deprecation.py#210\"><span style=\"color: #7f7f7f; text-decoration-color: #7f7f7f\">210</span></a>\n",
       "                             been deprecated since v0.<span style=\"color: #008000; text-decoration-color: #008000\">11.0</span> and is expected                   \n",
       "                             to be removed after v0.<span style=\"color: #008000; text-decoration-color: #008000\">13.0</span>. Use plot                           \n",
       "                             instead.                                                        \n",
       "</pre>\n"
      ],
      "text/plain": [
       "\u001b[2;36m[01/31/22 22:11:24]\u001b[0m\u001b[2;36m \u001b[0m\u001b[31mWARNING \u001b[0m The method CoordinateSystem.get_graph has     \u001b]8;id=15139;file://C:\\Users\\thoma\\AppData\\Local\\Programs\\Python\\Python39\\lib\\site-packages\\manim\\utils\\deprecation.py\u001b\\\u001b[2mdeprecation.py\u001b[0m\u001b]8;;\u001b\\\u001b[2m:\u001b[0m\u001b]8;id=111687;file://C:\\Users\\thoma\\AppData\\Local\\Programs\\Python\\Python39\\lib\\site-packages\\manim\\utils\\deprecation.py#210\u001b\\\u001b[2m210\u001b[0m\u001b]8;;\u001b\\\n",
       "                             been deprecated since v0.\u001b[32m11.0\u001b[0m and is expected                   \n",
       "                             to be removed after v0.\u001b[32m13.0\u001b[0m. Use plot                           \n",
       "                             instead.                                                        \n"
      ]
     },
     "metadata": {},
     "output_type": "display_data"
    },
    {
     "name": "stderr",
     "output_type": "stream",
     "text": [
      "Animation 1: _MethodAnimation(ValueTracker):  51%|#####     | 152/300 [00:48<01:58,  1.25it/s]"
     ]
    },
    {
     "data": {
      "text/html": [
       "<pre style=\"white-space:pre;overflow-x:auto;line-height:normal;font-family:Menlo,'DejaVu Sans Mono',consolas,'Courier New',monospace\"><span style=\"color: #7fbfbf; text-decoration-color: #7fbfbf\">                    </span><span style=\"color: #800000; text-decoration-color: #800000\">WARNING </span> The method CoordinateSystem.get_graph has     <a href=\"file://C:\\Users\\thoma\\AppData\\Local\\Programs\\Python\\Python39\\lib\\site-packages\\manim\\utils\\deprecation.py\"><span style=\"color: #7f7f7f; text-decoration-color: #7f7f7f\">deprecation.py</span></a><span style=\"color: #7f7f7f; text-decoration-color: #7f7f7f\">:</span><a href=\"file://C:\\Users\\thoma\\AppData\\Local\\Programs\\Python\\Python39\\lib\\site-packages\\manim\\utils\\deprecation.py#210\"><span style=\"color: #7f7f7f; text-decoration-color: #7f7f7f\">210</span></a>\n",
       "                             been deprecated since v0.<span style=\"color: #008000; text-decoration-color: #008000\">11.0</span> and is expected                   \n",
       "                             to be removed after v0.<span style=\"color: #008000; text-decoration-color: #008000\">13.0</span>. Use plot                           \n",
       "                             instead.                                                        \n",
       "</pre>\n"
      ],
      "text/plain": [
       "\u001b[2;36m                   \u001b[0m\u001b[2;36m \u001b[0m\u001b[31mWARNING \u001b[0m The method CoordinateSystem.get_graph has     \u001b]8;id=468691;file://C:\\Users\\thoma\\AppData\\Local\\Programs\\Python\\Python39\\lib\\site-packages\\manim\\utils\\deprecation.py\u001b\\\u001b[2mdeprecation.py\u001b[0m\u001b]8;;\u001b\\\u001b[2m:\u001b[0m\u001b]8;id=466342;file://C:\\Users\\thoma\\AppData\\Local\\Programs\\Python\\Python39\\lib\\site-packages\\manim\\utils\\deprecation.py#210\u001b\\\u001b[2m210\u001b[0m\u001b]8;;\u001b\\\n",
       "                             been deprecated since v0.\u001b[32m11.0\u001b[0m and is expected                   \n",
       "                             to be removed after v0.\u001b[32m13.0\u001b[0m. Use plot                           \n",
       "                             instead.                                                        \n"
      ]
     },
     "metadata": {},
     "output_type": "display_data"
    },
    {
     "name": "stderr",
     "output_type": "stream",
     "text": [
      "Animation 1: _MethodAnimation(ValueTracker):  51%|#####1    | 153/300 [00:49<01:50,  1.33it/s]"
     ]
    },
    {
     "data": {
      "text/html": [
       "<pre style=\"white-space:pre;overflow-x:auto;line-height:normal;font-family:Menlo,'DejaVu Sans Mono',consolas,'Courier New',monospace\"><span style=\"color: #7fbfbf; text-decoration-color: #7fbfbf\">[01/31/22 22:11:25] </span><span style=\"color: #800000; text-decoration-color: #800000\">WARNING </span> The method CoordinateSystem.get_graph has     <a href=\"file://C:\\Users\\thoma\\AppData\\Local\\Programs\\Python\\Python39\\lib\\site-packages\\manim\\utils\\deprecation.py\"><span style=\"color: #7f7f7f; text-decoration-color: #7f7f7f\">deprecation.py</span></a><span style=\"color: #7f7f7f; text-decoration-color: #7f7f7f\">:</span><a href=\"file://C:\\Users\\thoma\\AppData\\Local\\Programs\\Python\\Python39\\lib\\site-packages\\manim\\utils\\deprecation.py#210\"><span style=\"color: #7f7f7f; text-decoration-color: #7f7f7f\">210</span></a>\n",
       "                             been deprecated since v0.<span style=\"color: #008000; text-decoration-color: #008000\">11.0</span> and is expected                   \n",
       "                             to be removed after v0.<span style=\"color: #008000; text-decoration-color: #008000\">13.0</span>. Use plot                           \n",
       "                             instead.                                                        \n",
       "</pre>\n"
      ],
      "text/plain": [
       "\u001b[2;36m[01/31/22 22:11:25]\u001b[0m\u001b[2;36m \u001b[0m\u001b[31mWARNING \u001b[0m The method CoordinateSystem.get_graph has     \u001b]8;id=130098;file://C:\\Users\\thoma\\AppData\\Local\\Programs\\Python\\Python39\\lib\\site-packages\\manim\\utils\\deprecation.py\u001b\\\u001b[2mdeprecation.py\u001b[0m\u001b]8;;\u001b\\\u001b[2m:\u001b[0m\u001b]8;id=828006;file://C:\\Users\\thoma\\AppData\\Local\\Programs\\Python\\Python39\\lib\\site-packages\\manim\\utils\\deprecation.py#210\u001b\\\u001b[2m210\u001b[0m\u001b]8;;\u001b\\\n",
       "                             been deprecated since v0.\u001b[32m11.0\u001b[0m and is expected                   \n",
       "                             to be removed after v0.\u001b[32m13.0\u001b[0m. Use plot                           \n",
       "                             instead.                                                        \n"
      ]
     },
     "metadata": {},
     "output_type": "display_data"
    },
    {
     "name": "stderr",
     "output_type": "stream",
     "text": [
      "Animation 1: _MethodAnimation(ValueTracker):  51%|#####1    | 154/300 [00:49<01:44,  1.40it/s]"
     ]
    },
    {
     "data": {
      "text/html": [
       "<pre style=\"white-space:pre;overflow-x:auto;line-height:normal;font-family:Menlo,'DejaVu Sans Mono',consolas,'Courier New',monospace\"><span style=\"color: #7fbfbf; text-decoration-color: #7fbfbf\">[01/31/22 22:11:26] </span><span style=\"color: #800000; text-decoration-color: #800000\">WARNING </span> The method CoordinateSystem.get_graph has     <a href=\"file://C:\\Users\\thoma\\AppData\\Local\\Programs\\Python\\Python39\\lib\\site-packages\\manim\\utils\\deprecation.py\"><span style=\"color: #7f7f7f; text-decoration-color: #7f7f7f\">deprecation.py</span></a><span style=\"color: #7f7f7f; text-decoration-color: #7f7f7f\">:</span><a href=\"file://C:\\Users\\thoma\\AppData\\Local\\Programs\\Python\\Python39\\lib\\site-packages\\manim\\utils\\deprecation.py#210\"><span style=\"color: #7f7f7f; text-decoration-color: #7f7f7f\">210</span></a>\n",
       "                             been deprecated since v0.<span style=\"color: #008000; text-decoration-color: #008000\">11.0</span> and is expected                   \n",
       "                             to be removed after v0.<span style=\"color: #008000; text-decoration-color: #008000\">13.0</span>. Use plot                           \n",
       "                             instead.                                                        \n",
       "</pre>\n"
      ],
      "text/plain": [
       "\u001b[2;36m[01/31/22 22:11:26]\u001b[0m\u001b[2;36m \u001b[0m\u001b[31mWARNING \u001b[0m The method CoordinateSystem.get_graph has     \u001b]8;id=448912;file://C:\\Users\\thoma\\AppData\\Local\\Programs\\Python\\Python39\\lib\\site-packages\\manim\\utils\\deprecation.py\u001b\\\u001b[2mdeprecation.py\u001b[0m\u001b]8;;\u001b\\\u001b[2m:\u001b[0m\u001b]8;id=7809;file://C:\\Users\\thoma\\AppData\\Local\\Programs\\Python\\Python39\\lib\\site-packages\\manim\\utils\\deprecation.py#210\u001b\\\u001b[2m210\u001b[0m\u001b]8;;\u001b\\\n",
       "                             been deprecated since v0.\u001b[32m11.0\u001b[0m and is expected                   \n",
       "                             to be removed after v0.\u001b[32m13.0\u001b[0m. Use plot                           \n",
       "                             instead.                                                        \n"
      ]
     },
     "metadata": {},
     "output_type": "display_data"
    },
    {
     "name": "stderr",
     "output_type": "stream",
     "text": [
      "Animation 1: _MethodAnimation(ValueTracker):  52%|#####1    | 155/300 [00:50<01:40,  1.44it/s]"
     ]
    },
    {
     "data": {
      "text/html": [
       "<pre style=\"white-space:pre;overflow-x:auto;line-height:normal;font-family:Menlo,'DejaVu Sans Mono',consolas,'Courier New',monospace\"><span style=\"color: #7fbfbf; text-decoration-color: #7fbfbf\">[01/31/22 22:11:27] </span><span style=\"color: #800000; text-decoration-color: #800000\">WARNING </span> The method CoordinateSystem.get_graph has     <a href=\"file://C:\\Users\\thoma\\AppData\\Local\\Programs\\Python\\Python39\\lib\\site-packages\\manim\\utils\\deprecation.py\"><span style=\"color: #7f7f7f; text-decoration-color: #7f7f7f\">deprecation.py</span></a><span style=\"color: #7f7f7f; text-decoration-color: #7f7f7f\">:</span><a href=\"file://C:\\Users\\thoma\\AppData\\Local\\Programs\\Python\\Python39\\lib\\site-packages\\manim\\utils\\deprecation.py#210\"><span style=\"color: #7f7f7f; text-decoration-color: #7f7f7f\">210</span></a>\n",
       "                             been deprecated since v0.<span style=\"color: #008000; text-decoration-color: #008000\">11.0</span> and is expected                   \n",
       "                             to be removed after v0.<span style=\"color: #008000; text-decoration-color: #008000\">13.0</span>. Use plot                           \n",
       "                             instead.                                                        \n",
       "</pre>\n"
      ],
      "text/plain": [
       "\u001b[2;36m[01/31/22 22:11:27]\u001b[0m\u001b[2;36m \u001b[0m\u001b[31mWARNING \u001b[0m The method CoordinateSystem.get_graph has     \u001b]8;id=612938;file://C:\\Users\\thoma\\AppData\\Local\\Programs\\Python\\Python39\\lib\\site-packages\\manim\\utils\\deprecation.py\u001b\\\u001b[2mdeprecation.py\u001b[0m\u001b]8;;\u001b\\\u001b[2m:\u001b[0m\u001b]8;id=648055;file://C:\\Users\\thoma\\AppData\\Local\\Programs\\Python\\Python39\\lib\\site-packages\\manim\\utils\\deprecation.py#210\u001b\\\u001b[2m210\u001b[0m\u001b]8;;\u001b\\\n",
       "                             been deprecated since v0.\u001b[32m11.0\u001b[0m and is expected                   \n",
       "                             to be removed after v0.\u001b[32m13.0\u001b[0m. Use plot                           \n",
       "                             instead.                                                        \n"
      ]
     },
     "metadata": {},
     "output_type": "display_data"
    },
    {
     "name": "stderr",
     "output_type": "stream",
     "text": [
      "Animation 1: _MethodAnimation(ValueTracker):  52%|#####2    | 156/300 [00:51<01:47,  1.35it/s]"
     ]
    },
    {
     "data": {
      "text/html": [
       "<pre style=\"white-space:pre;overflow-x:auto;line-height:normal;font-family:Menlo,'DejaVu Sans Mono',consolas,'Courier New',monospace\"><span style=\"color: #7fbfbf; text-decoration-color: #7fbfbf\">                    </span><span style=\"color: #800000; text-decoration-color: #800000\">WARNING </span> The method CoordinateSystem.get_graph has     <a href=\"file://C:\\Users\\thoma\\AppData\\Local\\Programs\\Python\\Python39\\lib\\site-packages\\manim\\utils\\deprecation.py\"><span style=\"color: #7f7f7f; text-decoration-color: #7f7f7f\">deprecation.py</span></a><span style=\"color: #7f7f7f; text-decoration-color: #7f7f7f\">:</span><a href=\"file://C:\\Users\\thoma\\AppData\\Local\\Programs\\Python\\Python39\\lib\\site-packages\\manim\\utils\\deprecation.py#210\"><span style=\"color: #7f7f7f; text-decoration-color: #7f7f7f\">210</span></a>\n",
       "                             been deprecated since v0.<span style=\"color: #008000; text-decoration-color: #008000\">11.0</span> and is expected                   \n",
       "                             to be removed after v0.<span style=\"color: #008000; text-decoration-color: #008000\">13.0</span>. Use plot                           \n",
       "                             instead.                                                        \n",
       "</pre>\n"
      ],
      "text/plain": [
       "\u001b[2;36m                   \u001b[0m\u001b[2;36m \u001b[0m\u001b[31mWARNING \u001b[0m The method CoordinateSystem.get_graph has     \u001b]8;id=147639;file://C:\\Users\\thoma\\AppData\\Local\\Programs\\Python\\Python39\\lib\\site-packages\\manim\\utils\\deprecation.py\u001b\\\u001b[2mdeprecation.py\u001b[0m\u001b]8;;\u001b\\\u001b[2m:\u001b[0m\u001b]8;id=672931;file://C:\\Users\\thoma\\AppData\\Local\\Programs\\Python\\Python39\\lib\\site-packages\\manim\\utils\\deprecation.py#210\u001b\\\u001b[2m210\u001b[0m\u001b]8;;\u001b\\\n",
       "                             been deprecated since v0.\u001b[32m11.0\u001b[0m and is expected                   \n",
       "                             to be removed after v0.\u001b[32m13.0\u001b[0m. Use plot                           \n",
       "                             instead.                                                        \n"
      ]
     },
     "metadata": {},
     "output_type": "display_data"
    },
    {
     "name": "stderr",
     "output_type": "stream",
     "text": [
      "Animation 1: _MethodAnimation(ValueTracker):  52%|#####2    | 157/300 [00:52<01:49,  1.31it/s]"
     ]
    },
    {
     "data": {
      "text/html": [
       "<pre style=\"white-space:pre;overflow-x:auto;line-height:normal;font-family:Menlo,'DejaVu Sans Mono',consolas,'Courier New',monospace\"><span style=\"color: #7fbfbf; text-decoration-color: #7fbfbf\">[01/31/22 22:11:28] </span><span style=\"color: #800000; text-decoration-color: #800000\">WARNING </span> The method CoordinateSystem.get_graph has     <a href=\"file://C:\\Users\\thoma\\AppData\\Local\\Programs\\Python\\Python39\\lib\\site-packages\\manim\\utils\\deprecation.py\"><span style=\"color: #7f7f7f; text-decoration-color: #7f7f7f\">deprecation.py</span></a><span style=\"color: #7f7f7f; text-decoration-color: #7f7f7f\">:</span><a href=\"file://C:\\Users\\thoma\\AppData\\Local\\Programs\\Python\\Python39\\lib\\site-packages\\manim\\utils\\deprecation.py#210\"><span style=\"color: #7f7f7f; text-decoration-color: #7f7f7f\">210</span></a>\n",
       "                             been deprecated since v0.<span style=\"color: #008000; text-decoration-color: #008000\">11.0</span> and is expected                   \n",
       "                             to be removed after v0.<span style=\"color: #008000; text-decoration-color: #008000\">13.0</span>. Use plot                           \n",
       "                             instead.                                                        \n",
       "</pre>\n"
      ],
      "text/plain": [
       "\u001b[2;36m[01/31/22 22:11:28]\u001b[0m\u001b[2;36m \u001b[0m\u001b[31mWARNING \u001b[0m The method CoordinateSystem.get_graph has     \u001b]8;id=139894;file://C:\\Users\\thoma\\AppData\\Local\\Programs\\Python\\Python39\\lib\\site-packages\\manim\\utils\\deprecation.py\u001b\\\u001b[2mdeprecation.py\u001b[0m\u001b]8;;\u001b\\\u001b[2m:\u001b[0m\u001b]8;id=463468;file://C:\\Users\\thoma\\AppData\\Local\\Programs\\Python\\Python39\\lib\\site-packages\\manim\\utils\\deprecation.py#210\u001b\\\u001b[2m210\u001b[0m\u001b]8;;\u001b\\\n",
       "                             been deprecated since v0.\u001b[32m11.0\u001b[0m and is expected                   \n",
       "                             to be removed after v0.\u001b[32m13.0\u001b[0m. Use plot                           \n",
       "                             instead.                                                        \n"
      ]
     },
     "metadata": {},
     "output_type": "display_data"
    },
    {
     "name": "stderr",
     "output_type": "stream",
     "text": [
      "Animation 1: _MethodAnimation(ValueTracker):  53%|#####2    | 158/300 [00:52<01:55,  1.23it/s]"
     ]
    },
    {
     "data": {
      "text/html": [
       "<pre style=\"white-space:pre;overflow-x:auto;line-height:normal;font-family:Menlo,'DejaVu Sans Mono',consolas,'Courier New',monospace\"><span style=\"color: #7fbfbf; text-decoration-color: #7fbfbf\">[01/31/22 22:11:29] </span><span style=\"color: #800000; text-decoration-color: #800000\">WARNING </span> The method CoordinateSystem.get_graph has     <a href=\"file://C:\\Users\\thoma\\AppData\\Local\\Programs\\Python\\Python39\\lib\\site-packages\\manim\\utils\\deprecation.py\"><span style=\"color: #7f7f7f; text-decoration-color: #7f7f7f\">deprecation.py</span></a><span style=\"color: #7f7f7f; text-decoration-color: #7f7f7f\">:</span><a href=\"file://C:\\Users\\thoma\\AppData\\Local\\Programs\\Python\\Python39\\lib\\site-packages\\manim\\utils\\deprecation.py#210\"><span style=\"color: #7f7f7f; text-decoration-color: #7f7f7f\">210</span></a>\n",
       "                             been deprecated since v0.<span style=\"color: #008000; text-decoration-color: #008000\">11.0</span> and is expected                   \n",
       "                             to be removed after v0.<span style=\"color: #008000; text-decoration-color: #008000\">13.0</span>. Use plot                           \n",
       "                             instead.                                                        \n",
       "</pre>\n"
      ],
      "text/plain": [
       "\u001b[2;36m[01/31/22 22:11:29]\u001b[0m\u001b[2;36m \u001b[0m\u001b[31mWARNING \u001b[0m The method CoordinateSystem.get_graph has     \u001b]8;id=363274;file://C:\\Users\\thoma\\AppData\\Local\\Programs\\Python\\Python39\\lib\\site-packages\\manim\\utils\\deprecation.py\u001b\\\u001b[2mdeprecation.py\u001b[0m\u001b]8;;\u001b\\\u001b[2m:\u001b[0m\u001b]8;id=445623;file://C:\\Users\\thoma\\AppData\\Local\\Programs\\Python\\Python39\\lib\\site-packages\\manim\\utils\\deprecation.py#210\u001b\\\u001b[2m210\u001b[0m\u001b]8;;\u001b\\\n",
       "                             been deprecated since v0.\u001b[32m11.0\u001b[0m and is expected                   \n",
       "                             to be removed after v0.\u001b[32m13.0\u001b[0m. Use plot                           \n",
       "                             instead.                                                        \n"
      ]
     },
     "metadata": {},
     "output_type": "display_data"
    },
    {
     "name": "stderr",
     "output_type": "stream",
     "text": [
      "Animation 1: _MethodAnimation(ValueTracker):  53%|#####3    | 159/300 [00:53<01:52,  1.25it/s]"
     ]
    },
    {
     "data": {
      "text/html": [
       "<pre style=\"white-space:pre;overflow-x:auto;line-height:normal;font-family:Menlo,'DejaVu Sans Mono',consolas,'Courier New',monospace\"><span style=\"color: #7fbfbf; text-decoration-color: #7fbfbf\">[01/31/22 22:11:30] </span><span style=\"color: #800000; text-decoration-color: #800000\">WARNING </span> The method CoordinateSystem.get_graph has     <a href=\"file://C:\\Users\\thoma\\AppData\\Local\\Programs\\Python\\Python39\\lib\\site-packages\\manim\\utils\\deprecation.py\"><span style=\"color: #7f7f7f; text-decoration-color: #7f7f7f\">deprecation.py</span></a><span style=\"color: #7f7f7f; text-decoration-color: #7f7f7f\">:</span><a href=\"file://C:\\Users\\thoma\\AppData\\Local\\Programs\\Python\\Python39\\lib\\site-packages\\manim\\utils\\deprecation.py#210\"><span style=\"color: #7f7f7f; text-decoration-color: #7f7f7f\">210</span></a>\n",
       "                             been deprecated since v0.<span style=\"color: #008000; text-decoration-color: #008000\">11.0</span> and is expected                   \n",
       "                             to be removed after v0.<span style=\"color: #008000; text-decoration-color: #008000\">13.0</span>. Use plot                           \n",
       "                             instead.                                                        \n",
       "</pre>\n"
      ],
      "text/plain": [
       "\u001b[2;36m[01/31/22 22:11:30]\u001b[0m\u001b[2;36m \u001b[0m\u001b[31mWARNING \u001b[0m The method CoordinateSystem.get_graph has     \u001b]8;id=639311;file://C:\\Users\\thoma\\AppData\\Local\\Programs\\Python\\Python39\\lib\\site-packages\\manim\\utils\\deprecation.py\u001b\\\u001b[2mdeprecation.py\u001b[0m\u001b]8;;\u001b\\\u001b[2m:\u001b[0m\u001b]8;id=836308;file://C:\\Users\\thoma\\AppData\\Local\\Programs\\Python\\Python39\\lib\\site-packages\\manim\\utils\\deprecation.py#210\u001b\\\u001b[2m210\u001b[0m\u001b]8;;\u001b\\\n",
       "                             been deprecated since v0.\u001b[32m11.0\u001b[0m and is expected                   \n",
       "                             to be removed after v0.\u001b[32m13.0\u001b[0m. Use plot                           \n",
       "                             instead.                                                        \n"
      ]
     },
     "metadata": {},
     "output_type": "display_data"
    },
    {
     "name": "stderr",
     "output_type": "stream",
     "text": [
      "Animation 1: _MethodAnimation(ValueTracker):  53%|#####3    | 160/300 [00:54<01:50,  1.27it/s]"
     ]
    },
    {
     "data": {
      "text/html": [
       "<pre style=\"white-space:pre;overflow-x:auto;line-height:normal;font-family:Menlo,'DejaVu Sans Mono',consolas,'Courier New',monospace\"><span style=\"color: #7fbfbf; text-decoration-color: #7fbfbf\">[01/31/22 22:11:31] </span><span style=\"color: #800000; text-decoration-color: #800000\">WARNING </span> The method CoordinateSystem.get_graph has     <a href=\"file://C:\\Users\\thoma\\AppData\\Local\\Programs\\Python\\Python39\\lib\\site-packages\\manim\\utils\\deprecation.py\"><span style=\"color: #7f7f7f; text-decoration-color: #7f7f7f\">deprecation.py</span></a><span style=\"color: #7f7f7f; text-decoration-color: #7f7f7f\">:</span><a href=\"file://C:\\Users\\thoma\\AppData\\Local\\Programs\\Python\\Python39\\lib\\site-packages\\manim\\utils\\deprecation.py#210\"><span style=\"color: #7f7f7f; text-decoration-color: #7f7f7f\">210</span></a>\n",
       "                             been deprecated since v0.<span style=\"color: #008000; text-decoration-color: #008000\">11.0</span> and is expected                   \n",
       "                             to be removed after v0.<span style=\"color: #008000; text-decoration-color: #008000\">13.0</span>. Use plot                           \n",
       "                             instead.                                                        \n",
       "</pre>\n"
      ],
      "text/plain": [
       "\u001b[2;36m[01/31/22 22:11:31]\u001b[0m\u001b[2;36m \u001b[0m\u001b[31mWARNING \u001b[0m The method CoordinateSystem.get_graph has     \u001b]8;id=17225;file://C:\\Users\\thoma\\AppData\\Local\\Programs\\Python\\Python39\\lib\\site-packages\\manim\\utils\\deprecation.py\u001b\\\u001b[2mdeprecation.py\u001b[0m\u001b]8;;\u001b\\\u001b[2m:\u001b[0m\u001b]8;id=907912;file://C:\\Users\\thoma\\AppData\\Local\\Programs\\Python\\Python39\\lib\\site-packages\\manim\\utils\\deprecation.py#210\u001b\\\u001b[2m210\u001b[0m\u001b]8;;\u001b\\\n",
       "                             been deprecated since v0.\u001b[32m11.0\u001b[0m and is expected                   \n",
       "                             to be removed after v0.\u001b[32m13.0\u001b[0m. Use plot                           \n",
       "                             instead.                                                        \n"
      ]
     },
     "metadata": {},
     "output_type": "display_data"
    },
    {
     "name": "stderr",
     "output_type": "stream",
     "text": [
      "Animation 1: _MethodAnimation(ValueTracker):  54%|#####3    | 161/300 [00:55<01:45,  1.32it/s]"
     ]
    },
    {
     "data": {
      "text/html": [
       "<pre style=\"white-space:pre;overflow-x:auto;line-height:normal;font-family:Menlo,'DejaVu Sans Mono',consolas,'Courier New',monospace\"><span style=\"color: #7fbfbf; text-decoration-color: #7fbfbf\">                    </span><span style=\"color: #800000; text-decoration-color: #800000\">WARNING </span> The method CoordinateSystem.get_graph has     <a href=\"file://C:\\Users\\thoma\\AppData\\Local\\Programs\\Python\\Python39\\lib\\site-packages\\manim\\utils\\deprecation.py\"><span style=\"color: #7f7f7f; text-decoration-color: #7f7f7f\">deprecation.py</span></a><span style=\"color: #7f7f7f; text-decoration-color: #7f7f7f\">:</span><a href=\"file://C:\\Users\\thoma\\AppData\\Local\\Programs\\Python\\Python39\\lib\\site-packages\\manim\\utils\\deprecation.py#210\"><span style=\"color: #7f7f7f; text-decoration-color: #7f7f7f\">210</span></a>\n",
       "                             been deprecated since v0.<span style=\"color: #008000; text-decoration-color: #008000\">11.0</span> and is expected                   \n",
       "                             to be removed after v0.<span style=\"color: #008000; text-decoration-color: #008000\">13.0</span>. Use plot                           \n",
       "                             instead.                                                        \n",
       "</pre>\n"
      ],
      "text/plain": [
       "\u001b[2;36m                   \u001b[0m\u001b[2;36m \u001b[0m\u001b[31mWARNING \u001b[0m The method CoordinateSystem.get_graph has     \u001b]8;id=48652;file://C:\\Users\\thoma\\AppData\\Local\\Programs\\Python\\Python39\\lib\\site-packages\\manim\\utils\\deprecation.py\u001b\\\u001b[2mdeprecation.py\u001b[0m\u001b]8;;\u001b\\\u001b[2m:\u001b[0m\u001b]8;id=415365;file://C:\\Users\\thoma\\AppData\\Local\\Programs\\Python\\Python39\\lib\\site-packages\\manim\\utils\\deprecation.py#210\u001b\\\u001b[2m210\u001b[0m\u001b]8;;\u001b\\\n",
       "                             been deprecated since v0.\u001b[32m11.0\u001b[0m and is expected                   \n",
       "                             to be removed after v0.\u001b[32m13.0\u001b[0m. Use plot                           \n",
       "                             instead.                                                        \n"
      ]
     },
     "metadata": {},
     "output_type": "display_data"
    },
    {
     "name": "stderr",
     "output_type": "stream",
     "text": [
      "Animation 1: _MethodAnimation(ValueTracker):  54%|#####4    | 162/300 [00:55<01:42,  1.34it/s]"
     ]
    },
    {
     "data": {
      "text/html": [
       "<pre style=\"white-space:pre;overflow-x:auto;line-height:normal;font-family:Menlo,'DejaVu Sans Mono',consolas,'Courier New',monospace\"><span style=\"color: #7fbfbf; text-decoration-color: #7fbfbf\">[01/31/22 22:11:32] </span><span style=\"color: #800000; text-decoration-color: #800000\">WARNING </span> The method CoordinateSystem.get_graph has     <a href=\"file://C:\\Users\\thoma\\AppData\\Local\\Programs\\Python\\Python39\\lib\\site-packages\\manim\\utils\\deprecation.py\"><span style=\"color: #7f7f7f; text-decoration-color: #7f7f7f\">deprecation.py</span></a><span style=\"color: #7f7f7f; text-decoration-color: #7f7f7f\">:</span><a href=\"file://C:\\Users\\thoma\\AppData\\Local\\Programs\\Python\\Python39\\lib\\site-packages\\manim\\utils\\deprecation.py#210\"><span style=\"color: #7f7f7f; text-decoration-color: #7f7f7f\">210</span></a>\n",
       "                             been deprecated since v0.<span style=\"color: #008000; text-decoration-color: #008000\">11.0</span> and is expected                   \n",
       "                             to be removed after v0.<span style=\"color: #008000; text-decoration-color: #008000\">13.0</span>. Use plot                           \n",
       "                             instead.                                                        \n",
       "</pre>\n"
      ],
      "text/plain": [
       "\u001b[2;36m[01/31/22 22:11:32]\u001b[0m\u001b[2;36m \u001b[0m\u001b[31mWARNING \u001b[0m The method CoordinateSystem.get_graph has     \u001b]8;id=782354;file://C:\\Users\\thoma\\AppData\\Local\\Programs\\Python\\Python39\\lib\\site-packages\\manim\\utils\\deprecation.py\u001b\\\u001b[2mdeprecation.py\u001b[0m\u001b]8;;\u001b\\\u001b[2m:\u001b[0m\u001b]8;id=883066;file://C:\\Users\\thoma\\AppData\\Local\\Programs\\Python\\Python39\\lib\\site-packages\\manim\\utils\\deprecation.py#210\u001b\\\u001b[2m210\u001b[0m\u001b]8;;\u001b\\\n",
       "                             been deprecated since v0.\u001b[32m11.0\u001b[0m and is expected                   \n",
       "                             to be removed after v0.\u001b[32m13.0\u001b[0m. Use plot                           \n",
       "                             instead.                                                        \n"
      ]
     },
     "metadata": {},
     "output_type": "display_data"
    },
    {
     "name": "stderr",
     "output_type": "stream",
     "text": [
      "Animation 1: _MethodAnimation(ValueTracker):  54%|#####4    | 163/300 [00:56<01:38,  1.39it/s]"
     ]
    },
    {
     "data": {
      "text/html": [
       "<pre style=\"white-space:pre;overflow-x:auto;line-height:normal;font-family:Menlo,'DejaVu Sans Mono',consolas,'Courier New',monospace\"><span style=\"color: #7fbfbf; text-decoration-color: #7fbfbf\">[01/31/22 22:11:33] </span><span style=\"color: #800000; text-decoration-color: #800000\">WARNING </span> The method CoordinateSystem.get_graph has     <a href=\"file://C:\\Users\\thoma\\AppData\\Local\\Programs\\Python\\Python39\\lib\\site-packages\\manim\\utils\\deprecation.py\"><span style=\"color: #7f7f7f; text-decoration-color: #7f7f7f\">deprecation.py</span></a><span style=\"color: #7f7f7f; text-decoration-color: #7f7f7f\">:</span><a href=\"file://C:\\Users\\thoma\\AppData\\Local\\Programs\\Python\\Python39\\lib\\site-packages\\manim\\utils\\deprecation.py#210\"><span style=\"color: #7f7f7f; text-decoration-color: #7f7f7f\">210</span></a>\n",
       "                             been deprecated since v0.<span style=\"color: #008000; text-decoration-color: #008000\">11.0</span> and is expected                   \n",
       "                             to be removed after v0.<span style=\"color: #008000; text-decoration-color: #008000\">13.0</span>. Use plot                           \n",
       "                             instead.                                                        \n",
       "</pre>\n"
      ],
      "text/plain": [
       "\u001b[2;36m[01/31/22 22:11:33]\u001b[0m\u001b[2;36m \u001b[0m\u001b[31mWARNING \u001b[0m The method CoordinateSystem.get_graph has     \u001b]8;id=775619;file://C:\\Users\\thoma\\AppData\\Local\\Programs\\Python\\Python39\\lib\\site-packages\\manim\\utils\\deprecation.py\u001b\\\u001b[2mdeprecation.py\u001b[0m\u001b]8;;\u001b\\\u001b[2m:\u001b[0m\u001b]8;id=759394;file://C:\\Users\\thoma\\AppData\\Local\\Programs\\Python\\Python39\\lib\\site-packages\\manim\\utils\\deprecation.py#210\u001b\\\u001b[2m210\u001b[0m\u001b]8;;\u001b\\\n",
       "                             been deprecated since v0.\u001b[32m11.0\u001b[0m and is expected                   \n",
       "                             to be removed after v0.\u001b[32m13.0\u001b[0m. Use plot                           \n",
       "                             instead.                                                        \n"
      ]
     },
     "metadata": {},
     "output_type": "display_data"
    },
    {
     "name": "stderr",
     "output_type": "stream",
     "text": [
      "Animation 1: _MethodAnimation(ValueTracker):  55%|#####4    | 164/300 [00:57<01:39,  1.37it/s]"
     ]
    },
    {
     "data": {
      "text/html": [
       "<pre style=\"white-space:pre;overflow-x:auto;line-height:normal;font-family:Menlo,'DejaVu Sans Mono',consolas,'Courier New',monospace\"><span style=\"color: #7fbfbf; text-decoration-color: #7fbfbf\">[01/31/22 22:11:34] </span><span style=\"color: #800000; text-decoration-color: #800000\">WARNING </span> The method CoordinateSystem.get_graph has     <a href=\"file://C:\\Users\\thoma\\AppData\\Local\\Programs\\Python\\Python39\\lib\\site-packages\\manim\\utils\\deprecation.py\"><span style=\"color: #7f7f7f; text-decoration-color: #7f7f7f\">deprecation.py</span></a><span style=\"color: #7f7f7f; text-decoration-color: #7f7f7f\">:</span><a href=\"file://C:\\Users\\thoma\\AppData\\Local\\Programs\\Python\\Python39\\lib\\site-packages\\manim\\utils\\deprecation.py#210\"><span style=\"color: #7f7f7f; text-decoration-color: #7f7f7f\">210</span></a>\n",
       "                             been deprecated since v0.<span style=\"color: #008000; text-decoration-color: #008000\">11.0</span> and is expected                   \n",
       "                             to be removed after v0.<span style=\"color: #008000; text-decoration-color: #008000\">13.0</span>. Use plot                           \n",
       "                             instead.                                                        \n",
       "</pre>\n"
      ],
      "text/plain": [
       "\u001b[2;36m[01/31/22 22:11:34]\u001b[0m\u001b[2;36m \u001b[0m\u001b[31mWARNING \u001b[0m The method CoordinateSystem.get_graph has     \u001b]8;id=669006;file://C:\\Users\\thoma\\AppData\\Local\\Programs\\Python\\Python39\\lib\\site-packages\\manim\\utils\\deprecation.py\u001b\\\u001b[2mdeprecation.py\u001b[0m\u001b]8;;\u001b\\\u001b[2m:\u001b[0m\u001b]8;id=953844;file://C:\\Users\\thoma\\AppData\\Local\\Programs\\Python\\Python39\\lib\\site-packages\\manim\\utils\\deprecation.py#210\u001b\\\u001b[2m210\u001b[0m\u001b]8;;\u001b\\\n",
       "                             been deprecated since v0.\u001b[32m11.0\u001b[0m and is expected                   \n",
       "                             to be removed after v0.\u001b[32m13.0\u001b[0m. Use plot                           \n",
       "                             instead.                                                        \n"
      ]
     },
     "metadata": {},
     "output_type": "display_data"
    },
    {
     "name": "stderr",
     "output_type": "stream",
     "text": [
      "Animation 1: _MethodAnimation(ValueTracker):  55%|#####5    | 165/300 [00:58<01:57,  1.15it/s]"
     ]
    },
    {
     "data": {
      "text/html": [
       "<pre style=\"white-space:pre;overflow-x:auto;line-height:normal;font-family:Menlo,'DejaVu Sans Mono',consolas,'Courier New',monospace\"><span style=\"color: #7fbfbf; text-decoration-color: #7fbfbf\">[01/31/22 22:11:35] </span><span style=\"color: #800000; text-decoration-color: #800000\">WARNING </span> The method CoordinateSystem.get_graph has     <a href=\"file://C:\\Users\\thoma\\AppData\\Local\\Programs\\Python\\Python39\\lib\\site-packages\\manim\\utils\\deprecation.py\"><span style=\"color: #7f7f7f; text-decoration-color: #7f7f7f\">deprecation.py</span></a><span style=\"color: #7f7f7f; text-decoration-color: #7f7f7f\">:</span><a href=\"file://C:\\Users\\thoma\\AppData\\Local\\Programs\\Python\\Python39\\lib\\site-packages\\manim\\utils\\deprecation.py#210\"><span style=\"color: #7f7f7f; text-decoration-color: #7f7f7f\">210</span></a>\n",
       "                             been deprecated since v0.<span style=\"color: #008000; text-decoration-color: #008000\">11.0</span> and is expected                   \n",
       "                             to be removed after v0.<span style=\"color: #008000; text-decoration-color: #008000\">13.0</span>. Use plot                           \n",
       "                             instead.                                                        \n",
       "</pre>\n"
      ],
      "text/plain": [
       "\u001b[2;36m[01/31/22 22:11:35]\u001b[0m\u001b[2;36m \u001b[0m\u001b[31mWARNING \u001b[0m The method CoordinateSystem.get_graph has     \u001b]8;id=888790;file://C:\\Users\\thoma\\AppData\\Local\\Programs\\Python\\Python39\\lib\\site-packages\\manim\\utils\\deprecation.py\u001b\\\u001b[2mdeprecation.py\u001b[0m\u001b]8;;\u001b\\\u001b[2m:\u001b[0m\u001b]8;id=710123;file://C:\\Users\\thoma\\AppData\\Local\\Programs\\Python\\Python39\\lib\\site-packages\\manim\\utils\\deprecation.py#210\u001b\\\u001b[2m210\u001b[0m\u001b]8;;\u001b\\\n",
       "                             been deprecated since v0.\u001b[32m11.0\u001b[0m and is expected                   \n",
       "                             to be removed after v0.\u001b[32m13.0\u001b[0m. Use plot                           \n",
       "                             instead.                                                        \n"
      ]
     },
     "metadata": {},
     "output_type": "display_data"
    },
    {
     "name": "stderr",
     "output_type": "stream",
     "text": [
      "Animation 1: _MethodAnimation(ValueTracker):  55%|#####5    | 166/300 [00:59<01:59,  1.12it/s]"
     ]
    },
    {
     "data": {
      "text/html": [
       "<pre style=\"white-space:pre;overflow-x:auto;line-height:normal;font-family:Menlo,'DejaVu Sans Mono',consolas,'Courier New',monospace\"><span style=\"color: #7fbfbf; text-decoration-color: #7fbfbf\">[01/31/22 22:11:36] </span><span style=\"color: #800000; text-decoration-color: #800000\">WARNING </span> The method CoordinateSystem.get_graph has     <a href=\"file://C:\\Users\\thoma\\AppData\\Local\\Programs\\Python\\Python39\\lib\\site-packages\\manim\\utils\\deprecation.py\"><span style=\"color: #7f7f7f; text-decoration-color: #7f7f7f\">deprecation.py</span></a><span style=\"color: #7f7f7f; text-decoration-color: #7f7f7f\">:</span><a href=\"file://C:\\Users\\thoma\\AppData\\Local\\Programs\\Python\\Python39\\lib\\site-packages\\manim\\utils\\deprecation.py#210\"><span style=\"color: #7f7f7f; text-decoration-color: #7f7f7f\">210</span></a>\n",
       "                             been deprecated since v0.<span style=\"color: #008000; text-decoration-color: #008000\">11.0</span> and is expected                   \n",
       "                             to be removed after v0.<span style=\"color: #008000; text-decoration-color: #008000\">13.0</span>. Use plot                           \n",
       "                             instead.                                                        \n",
       "</pre>\n"
      ],
      "text/plain": [
       "\u001b[2;36m[01/31/22 22:11:36]\u001b[0m\u001b[2;36m \u001b[0m\u001b[31mWARNING \u001b[0m The method CoordinateSystem.get_graph has     \u001b]8;id=729599;file://C:\\Users\\thoma\\AppData\\Local\\Programs\\Python\\Python39\\lib\\site-packages\\manim\\utils\\deprecation.py\u001b\\\u001b[2mdeprecation.py\u001b[0m\u001b]8;;\u001b\\\u001b[2m:\u001b[0m\u001b]8;id=655969;file://C:\\Users\\thoma\\AppData\\Local\\Programs\\Python\\Python39\\lib\\site-packages\\manim\\utils\\deprecation.py#210\u001b\\\u001b[2m210\u001b[0m\u001b]8;;\u001b\\\n",
       "                             been deprecated since v0.\u001b[32m11.0\u001b[0m and is expected                   \n",
       "                             to be removed after v0.\u001b[32m13.0\u001b[0m. Use plot                           \n",
       "                             instead.                                                        \n"
      ]
     },
     "metadata": {},
     "output_type": "display_data"
    },
    {
     "name": "stderr",
     "output_type": "stream",
     "text": [
      "Animation 1: _MethodAnimation(ValueTracker):  56%|#####5    | 167/300 [01:00<01:52,  1.18it/s]"
     ]
    },
    {
     "data": {
      "text/html": [
       "<pre style=\"white-space:pre;overflow-x:auto;line-height:normal;font-family:Menlo,'DejaVu Sans Mono',consolas,'Courier New',monospace\"><span style=\"color: #7fbfbf; text-decoration-color: #7fbfbf\">                    </span><span style=\"color: #800000; text-decoration-color: #800000\">WARNING </span> The method CoordinateSystem.get_graph has     <a href=\"file://C:\\Users\\thoma\\AppData\\Local\\Programs\\Python\\Python39\\lib\\site-packages\\manim\\utils\\deprecation.py\"><span style=\"color: #7f7f7f; text-decoration-color: #7f7f7f\">deprecation.py</span></a><span style=\"color: #7f7f7f; text-decoration-color: #7f7f7f\">:</span><a href=\"file://C:\\Users\\thoma\\AppData\\Local\\Programs\\Python\\Python39\\lib\\site-packages\\manim\\utils\\deprecation.py#210\"><span style=\"color: #7f7f7f; text-decoration-color: #7f7f7f\">210</span></a>\n",
       "                             been deprecated since v0.<span style=\"color: #008000; text-decoration-color: #008000\">11.0</span> and is expected                   \n",
       "                             to be removed after v0.<span style=\"color: #008000; text-decoration-color: #008000\">13.0</span>. Use plot                           \n",
       "                             instead.                                                        \n",
       "</pre>\n"
      ],
      "text/plain": [
       "\u001b[2;36m                   \u001b[0m\u001b[2;36m \u001b[0m\u001b[31mWARNING \u001b[0m The method CoordinateSystem.get_graph has     \u001b]8;id=454720;file://C:\\Users\\thoma\\AppData\\Local\\Programs\\Python\\Python39\\lib\\site-packages\\manim\\utils\\deprecation.py\u001b\\\u001b[2mdeprecation.py\u001b[0m\u001b]8;;\u001b\\\u001b[2m:\u001b[0m\u001b]8;id=568693;file://C:\\Users\\thoma\\AppData\\Local\\Programs\\Python\\Python39\\lib\\site-packages\\manim\\utils\\deprecation.py#210\u001b\\\u001b[2m210\u001b[0m\u001b]8;;\u001b\\\n",
       "                             been deprecated since v0.\u001b[32m11.0\u001b[0m and is expected                   \n",
       "                             to be removed after v0.\u001b[32m13.0\u001b[0m. Use plot                           \n",
       "                             instead.                                                        \n"
      ]
     },
     "metadata": {},
     "output_type": "display_data"
    },
    {
     "name": "stderr",
     "output_type": "stream",
     "text": [
      "Animation 1: _MethodAnimation(ValueTracker):  56%|#####6    | 168/300 [01:00<01:48,  1.22it/s]"
     ]
    },
    {
     "data": {
      "text/html": [
       "<pre style=\"white-space:pre;overflow-x:auto;line-height:normal;font-family:Menlo,'DejaVu Sans Mono',consolas,'Courier New',monospace\"><span style=\"color: #7fbfbf; text-decoration-color: #7fbfbf\">[01/31/22 22:11:37] </span><span style=\"color: #800000; text-decoration-color: #800000\">WARNING </span> The method CoordinateSystem.get_graph has     <a href=\"file://C:\\Users\\thoma\\AppData\\Local\\Programs\\Python\\Python39\\lib\\site-packages\\manim\\utils\\deprecation.py\"><span style=\"color: #7f7f7f; text-decoration-color: #7f7f7f\">deprecation.py</span></a><span style=\"color: #7f7f7f; text-decoration-color: #7f7f7f\">:</span><a href=\"file://C:\\Users\\thoma\\AppData\\Local\\Programs\\Python\\Python39\\lib\\site-packages\\manim\\utils\\deprecation.py#210\"><span style=\"color: #7f7f7f; text-decoration-color: #7f7f7f\">210</span></a>\n",
       "                             been deprecated since v0.<span style=\"color: #008000; text-decoration-color: #008000\">11.0</span> and is expected                   \n",
       "                             to be removed after v0.<span style=\"color: #008000; text-decoration-color: #008000\">13.0</span>. Use plot                           \n",
       "                             instead.                                                        \n",
       "</pre>\n"
      ],
      "text/plain": [
       "\u001b[2;36m[01/31/22 22:11:37]\u001b[0m\u001b[2;36m \u001b[0m\u001b[31mWARNING \u001b[0m The method CoordinateSystem.get_graph has     \u001b]8;id=23689;file://C:\\Users\\thoma\\AppData\\Local\\Programs\\Python\\Python39\\lib\\site-packages\\manim\\utils\\deprecation.py\u001b\\\u001b[2mdeprecation.py\u001b[0m\u001b]8;;\u001b\\\u001b[2m:\u001b[0m\u001b]8;id=800755;file://C:\\Users\\thoma\\AppData\\Local\\Programs\\Python\\Python39\\lib\\site-packages\\manim\\utils\\deprecation.py#210\u001b\\\u001b[2m210\u001b[0m\u001b]8;;\u001b\\\n",
       "                             been deprecated since v0.\u001b[32m11.0\u001b[0m and is expected                   \n",
       "                             to be removed after v0.\u001b[32m13.0\u001b[0m. Use plot                           \n",
       "                             instead.                                                        \n"
      ]
     },
     "metadata": {},
     "output_type": "display_data"
    },
    {
     "name": "stderr",
     "output_type": "stream",
     "text": [
      "Animation 1: _MethodAnimation(ValueTracker):  56%|#####6    | 169/300 [01:01<01:43,  1.27it/s]"
     ]
    },
    {
     "data": {
      "text/html": [
       "<pre style=\"white-space:pre;overflow-x:auto;line-height:normal;font-family:Menlo,'DejaVu Sans Mono',consolas,'Courier New',monospace\"><span style=\"color: #7fbfbf; text-decoration-color: #7fbfbf\">[01/31/22 22:11:38] </span><span style=\"color: #800000; text-decoration-color: #800000\">WARNING </span> The method CoordinateSystem.get_graph has     <a href=\"file://C:\\Users\\thoma\\AppData\\Local\\Programs\\Python\\Python39\\lib\\site-packages\\manim\\utils\\deprecation.py\"><span style=\"color: #7f7f7f; text-decoration-color: #7f7f7f\">deprecation.py</span></a><span style=\"color: #7f7f7f; text-decoration-color: #7f7f7f\">:</span><a href=\"file://C:\\Users\\thoma\\AppData\\Local\\Programs\\Python\\Python39\\lib\\site-packages\\manim\\utils\\deprecation.py#210\"><span style=\"color: #7f7f7f; text-decoration-color: #7f7f7f\">210</span></a>\n",
       "                             been deprecated since v0.<span style=\"color: #008000; text-decoration-color: #008000\">11.0</span> and is expected                   \n",
       "                             to be removed after v0.<span style=\"color: #008000; text-decoration-color: #008000\">13.0</span>. Use plot                           \n",
       "                             instead.                                                        \n",
       "</pre>\n"
      ],
      "text/plain": [
       "\u001b[2;36m[01/31/22 22:11:38]\u001b[0m\u001b[2;36m \u001b[0m\u001b[31mWARNING \u001b[0m The method CoordinateSystem.get_graph has     \u001b]8;id=731442;file://C:\\Users\\thoma\\AppData\\Local\\Programs\\Python\\Python39\\lib\\site-packages\\manim\\utils\\deprecation.py\u001b\\\u001b[2mdeprecation.py\u001b[0m\u001b]8;;\u001b\\\u001b[2m:\u001b[0m\u001b]8;id=726367;file://C:\\Users\\thoma\\AppData\\Local\\Programs\\Python\\Python39\\lib\\site-packages\\manim\\utils\\deprecation.py#210\u001b\\\u001b[2m210\u001b[0m\u001b]8;;\u001b\\\n",
       "                             been deprecated since v0.\u001b[32m11.0\u001b[0m and is expected                   \n",
       "                             to be removed after v0.\u001b[32m13.0\u001b[0m. Use plot                           \n",
       "                             instead.                                                        \n"
      ]
     },
     "metadata": {},
     "output_type": "display_data"
    },
    {
     "name": "stderr",
     "output_type": "stream",
     "text": [
      "Animation 1: _MethodAnimation(ValueTracker):  57%|#####6    | 170/300 [01:02<01:41,  1.28it/s]"
     ]
    },
    {
     "data": {
      "text/html": [
       "<pre style=\"white-space:pre;overflow-x:auto;line-height:normal;font-family:Menlo,'DejaVu Sans Mono',consolas,'Courier New',monospace\"><span style=\"color: #7fbfbf; text-decoration-color: #7fbfbf\">[01/31/22 22:11:39] </span><span style=\"color: #800000; text-decoration-color: #800000\">WARNING </span> The method CoordinateSystem.get_graph has     <a href=\"file://C:\\Users\\thoma\\AppData\\Local\\Programs\\Python\\Python39\\lib\\site-packages\\manim\\utils\\deprecation.py\"><span style=\"color: #7f7f7f; text-decoration-color: #7f7f7f\">deprecation.py</span></a><span style=\"color: #7f7f7f; text-decoration-color: #7f7f7f\">:</span><a href=\"file://C:\\Users\\thoma\\AppData\\Local\\Programs\\Python\\Python39\\lib\\site-packages\\manim\\utils\\deprecation.py#210\"><span style=\"color: #7f7f7f; text-decoration-color: #7f7f7f\">210</span></a>\n",
       "                             been deprecated since v0.<span style=\"color: #008000; text-decoration-color: #008000\">11.0</span> and is expected                   \n",
       "                             to be removed after v0.<span style=\"color: #008000; text-decoration-color: #008000\">13.0</span>. Use plot                           \n",
       "                             instead.                                                        \n",
       "</pre>\n"
      ],
      "text/plain": [
       "\u001b[2;36m[01/31/22 22:11:39]\u001b[0m\u001b[2;36m \u001b[0m\u001b[31mWARNING \u001b[0m The method CoordinateSystem.get_graph has     \u001b]8;id=10576;file://C:\\Users\\thoma\\AppData\\Local\\Programs\\Python\\Python39\\lib\\site-packages\\manim\\utils\\deprecation.py\u001b\\\u001b[2mdeprecation.py\u001b[0m\u001b]8;;\u001b\\\u001b[2m:\u001b[0m\u001b]8;id=671513;file://C:\\Users\\thoma\\AppData\\Local\\Programs\\Python\\Python39\\lib\\site-packages\\manim\\utils\\deprecation.py#210\u001b\\\u001b[2m210\u001b[0m\u001b]8;;\u001b\\\n",
       "                             been deprecated since v0.\u001b[32m11.0\u001b[0m and is expected                   \n",
       "                             to be removed after v0.\u001b[32m13.0\u001b[0m. Use plot                           \n",
       "                             instead.                                                        \n"
      ]
     },
     "metadata": {},
     "output_type": "display_data"
    },
    {
     "name": "stderr",
     "output_type": "stream",
     "text": [
      "Animation 1: _MethodAnimation(ValueTracker):  57%|#####6    | 171/300 [01:03<01:44,  1.23it/s]"
     ]
    },
    {
     "data": {
      "text/html": [
       "<pre style=\"white-space:pre;overflow-x:auto;line-height:normal;font-family:Menlo,'DejaVu Sans Mono',consolas,'Courier New',monospace\"><span style=\"color: #7fbfbf; text-decoration-color: #7fbfbf\">                    </span><span style=\"color: #800000; text-decoration-color: #800000\">WARNING </span> The method CoordinateSystem.get_graph has     <a href=\"file://C:\\Users\\thoma\\AppData\\Local\\Programs\\Python\\Python39\\lib\\site-packages\\manim\\utils\\deprecation.py\"><span style=\"color: #7f7f7f; text-decoration-color: #7f7f7f\">deprecation.py</span></a><span style=\"color: #7f7f7f; text-decoration-color: #7f7f7f\">:</span><a href=\"file://C:\\Users\\thoma\\AppData\\Local\\Programs\\Python\\Python39\\lib\\site-packages\\manim\\utils\\deprecation.py#210\"><span style=\"color: #7f7f7f; text-decoration-color: #7f7f7f\">210</span></a>\n",
       "                             been deprecated since v0.<span style=\"color: #008000; text-decoration-color: #008000\">11.0</span> and is expected                   \n",
       "                             to be removed after v0.<span style=\"color: #008000; text-decoration-color: #008000\">13.0</span>. Use plot                           \n",
       "                             instead.                                                        \n",
       "</pre>\n"
      ],
      "text/plain": [
       "\u001b[2;36m                   \u001b[0m\u001b[2;36m \u001b[0m\u001b[31mWARNING \u001b[0m The method CoordinateSystem.get_graph has     \u001b]8;id=179381;file://C:\\Users\\thoma\\AppData\\Local\\Programs\\Python\\Python39\\lib\\site-packages\\manim\\utils\\deprecation.py\u001b\\\u001b[2mdeprecation.py\u001b[0m\u001b]8;;\u001b\\\u001b[2m:\u001b[0m\u001b]8;id=471528;file://C:\\Users\\thoma\\AppData\\Local\\Programs\\Python\\Python39\\lib\\site-packages\\manim\\utils\\deprecation.py#210\u001b\\\u001b[2m210\u001b[0m\u001b]8;;\u001b\\\n",
       "                             been deprecated since v0.\u001b[32m11.0\u001b[0m and is expected                   \n",
       "                             to be removed after v0.\u001b[32m13.0\u001b[0m. Use plot                           \n",
       "                             instead.                                                        \n"
      ]
     },
     "metadata": {},
     "output_type": "display_data"
    },
    {
     "name": "stderr",
     "output_type": "stream",
     "text": [
      "Animation 1: _MethodAnimation(ValueTracker):  57%|#####7    | 172/300 [01:04<01:40,  1.27it/s]"
     ]
    },
    {
     "data": {
      "text/html": [
       "<pre style=\"white-space:pre;overflow-x:auto;line-height:normal;font-family:Menlo,'DejaVu Sans Mono',consolas,'Courier New',monospace\"><span style=\"color: #7fbfbf; text-decoration-color: #7fbfbf\">[01/31/22 22:11:40] </span><span style=\"color: #800000; text-decoration-color: #800000\">WARNING </span> The method CoordinateSystem.get_graph has     <a href=\"file://C:\\Users\\thoma\\AppData\\Local\\Programs\\Python\\Python39\\lib\\site-packages\\manim\\utils\\deprecation.py\"><span style=\"color: #7f7f7f; text-decoration-color: #7f7f7f\">deprecation.py</span></a><span style=\"color: #7f7f7f; text-decoration-color: #7f7f7f\">:</span><a href=\"file://C:\\Users\\thoma\\AppData\\Local\\Programs\\Python\\Python39\\lib\\site-packages\\manim\\utils\\deprecation.py#210\"><span style=\"color: #7f7f7f; text-decoration-color: #7f7f7f\">210</span></a>\n",
       "                             been deprecated since v0.<span style=\"color: #008000; text-decoration-color: #008000\">11.0</span> and is expected                   \n",
       "                             to be removed after v0.<span style=\"color: #008000; text-decoration-color: #008000\">13.0</span>. Use plot                           \n",
       "                             instead.                                                        \n",
       "</pre>\n"
      ],
      "text/plain": [
       "\u001b[2;36m[01/31/22 22:11:40]\u001b[0m\u001b[2;36m \u001b[0m\u001b[31mWARNING \u001b[0m The method CoordinateSystem.get_graph has     \u001b]8;id=76584;file://C:\\Users\\thoma\\AppData\\Local\\Programs\\Python\\Python39\\lib\\site-packages\\manim\\utils\\deprecation.py\u001b\\\u001b[2mdeprecation.py\u001b[0m\u001b]8;;\u001b\\\u001b[2m:\u001b[0m\u001b]8;id=620197;file://C:\\Users\\thoma\\AppData\\Local\\Programs\\Python\\Python39\\lib\\site-packages\\manim\\utils\\deprecation.py#210\u001b\\\u001b[2m210\u001b[0m\u001b]8;;\u001b\\\n",
       "                             been deprecated since v0.\u001b[32m11.0\u001b[0m and is expected                   \n",
       "                             to be removed after v0.\u001b[32m13.0\u001b[0m. Use plot                           \n",
       "                             instead.                                                        \n"
      ]
     },
     "metadata": {},
     "output_type": "display_data"
    },
    {
     "name": "stderr",
     "output_type": "stream",
     "text": [
      "Animation 1: _MethodAnimation(ValueTracker):  58%|#####7    | 173/300 [01:05<01:52,  1.12it/s]"
     ]
    },
    {
     "data": {
      "text/html": [
       "<pre style=\"white-space:pre;overflow-x:auto;line-height:normal;font-family:Menlo,'DejaVu Sans Mono',consolas,'Courier New',monospace\"><span style=\"color: #7fbfbf; text-decoration-color: #7fbfbf\">[01/31/22 22:11:41] </span><span style=\"color: #800000; text-decoration-color: #800000\">WARNING </span> The method CoordinateSystem.get_graph has     <a href=\"file://C:\\Users\\thoma\\AppData\\Local\\Programs\\Python\\Python39\\lib\\site-packages\\manim\\utils\\deprecation.py\"><span style=\"color: #7f7f7f; text-decoration-color: #7f7f7f\">deprecation.py</span></a><span style=\"color: #7f7f7f; text-decoration-color: #7f7f7f\">:</span><a href=\"file://C:\\Users\\thoma\\AppData\\Local\\Programs\\Python\\Python39\\lib\\site-packages\\manim\\utils\\deprecation.py#210\"><span style=\"color: #7f7f7f; text-decoration-color: #7f7f7f\">210</span></a>\n",
       "                             been deprecated since v0.<span style=\"color: #008000; text-decoration-color: #008000\">11.0</span> and is expected                   \n",
       "                             to be removed after v0.<span style=\"color: #008000; text-decoration-color: #008000\">13.0</span>. Use plot                           \n",
       "                             instead.                                                        \n",
       "</pre>\n"
      ],
      "text/plain": [
       "\u001b[2;36m[01/31/22 22:11:41]\u001b[0m\u001b[2;36m \u001b[0m\u001b[31mWARNING \u001b[0m The method CoordinateSystem.get_graph has     \u001b]8;id=30450;file://C:\\Users\\thoma\\AppData\\Local\\Programs\\Python\\Python39\\lib\\site-packages\\manim\\utils\\deprecation.py\u001b\\\u001b[2mdeprecation.py\u001b[0m\u001b]8;;\u001b\\\u001b[2m:\u001b[0m\u001b]8;id=512173;file://C:\\Users\\thoma\\AppData\\Local\\Programs\\Python\\Python39\\lib\\site-packages\\manim\\utils\\deprecation.py#210\u001b\\\u001b[2m210\u001b[0m\u001b]8;;\u001b\\\n",
       "                             been deprecated since v0.\u001b[32m11.0\u001b[0m and is expected                   \n",
       "                             to be removed after v0.\u001b[32m13.0\u001b[0m. Use plot                           \n",
       "                             instead.                                                        \n"
      ]
     },
     "metadata": {},
     "output_type": "display_data"
    },
    {
     "name": "stderr",
     "output_type": "stream",
     "text": [
      "Animation 1: _MethodAnimation(ValueTracker):  58%|#####8    | 174/300 [01:06<01:55,  1.09it/s]"
     ]
    },
    {
     "data": {
      "text/html": [
       "<pre style=\"white-space:pre;overflow-x:auto;line-height:normal;font-family:Menlo,'DejaVu Sans Mono',consolas,'Courier New',monospace\"><span style=\"color: #7fbfbf; text-decoration-color: #7fbfbf\">[01/31/22 22:11:42] </span><span style=\"color: #800000; text-decoration-color: #800000\">WARNING </span> The method CoordinateSystem.get_graph has     <a href=\"file://C:\\Users\\thoma\\AppData\\Local\\Programs\\Python\\Python39\\lib\\site-packages\\manim\\utils\\deprecation.py\"><span style=\"color: #7f7f7f; text-decoration-color: #7f7f7f\">deprecation.py</span></a><span style=\"color: #7f7f7f; text-decoration-color: #7f7f7f\">:</span><a href=\"file://C:\\Users\\thoma\\AppData\\Local\\Programs\\Python\\Python39\\lib\\site-packages\\manim\\utils\\deprecation.py#210\"><span style=\"color: #7f7f7f; text-decoration-color: #7f7f7f\">210</span></a>\n",
       "                             been deprecated since v0.<span style=\"color: #008000; text-decoration-color: #008000\">11.0</span> and is expected                   \n",
       "                             to be removed after v0.<span style=\"color: #008000; text-decoration-color: #008000\">13.0</span>. Use plot                           \n",
       "                             instead.                                                        \n",
       "</pre>\n"
      ],
      "text/plain": [
       "\u001b[2;36m[01/31/22 22:11:42]\u001b[0m\u001b[2;36m \u001b[0m\u001b[31mWARNING \u001b[0m The method CoordinateSystem.get_graph has     \u001b]8;id=554859;file://C:\\Users\\thoma\\AppData\\Local\\Programs\\Python\\Python39\\lib\\site-packages\\manim\\utils\\deprecation.py\u001b\\\u001b[2mdeprecation.py\u001b[0m\u001b]8;;\u001b\\\u001b[2m:\u001b[0m\u001b]8;id=431712;file://C:\\Users\\thoma\\AppData\\Local\\Programs\\Python\\Python39\\lib\\site-packages\\manim\\utils\\deprecation.py#210\u001b\\\u001b[2m210\u001b[0m\u001b]8;;\u001b\\\n",
       "                             been deprecated since v0.\u001b[32m11.0\u001b[0m and is expected                   \n",
       "                             to be removed after v0.\u001b[32m13.0\u001b[0m. Use plot                           \n",
       "                             instead.                                                        \n"
      ]
     },
     "metadata": {},
     "output_type": "display_data"
    },
    {
     "name": "stderr",
     "output_type": "stream",
     "text": [
      "Animation 1: _MethodAnimation(ValueTracker):  58%|#####8    | 175/300 [01:06<01:50,  1.13it/s]"
     ]
    },
    {
     "data": {
      "text/html": [
       "<pre style=\"white-space:pre;overflow-x:auto;line-height:normal;font-family:Menlo,'DejaVu Sans Mono',consolas,'Courier New',monospace\"><span style=\"color: #7fbfbf; text-decoration-color: #7fbfbf\">[01/31/22 22:11:43] </span><span style=\"color: #800000; text-decoration-color: #800000\">WARNING </span> The method CoordinateSystem.get_graph has     <a href=\"file://C:\\Users\\thoma\\AppData\\Local\\Programs\\Python\\Python39\\lib\\site-packages\\manim\\utils\\deprecation.py\"><span style=\"color: #7f7f7f; text-decoration-color: #7f7f7f\">deprecation.py</span></a><span style=\"color: #7f7f7f; text-decoration-color: #7f7f7f\">:</span><a href=\"file://C:\\Users\\thoma\\AppData\\Local\\Programs\\Python\\Python39\\lib\\site-packages\\manim\\utils\\deprecation.py#210\"><span style=\"color: #7f7f7f; text-decoration-color: #7f7f7f\">210</span></a>\n",
       "                             been deprecated since v0.<span style=\"color: #008000; text-decoration-color: #008000\">11.0</span> and is expected                   \n",
       "                             to be removed after v0.<span style=\"color: #008000; text-decoration-color: #008000\">13.0</span>. Use plot                           \n",
       "                             instead.                                                        \n",
       "</pre>\n"
      ],
      "text/plain": [
       "\u001b[2;36m[01/31/22 22:11:43]\u001b[0m\u001b[2;36m \u001b[0m\u001b[31mWARNING \u001b[0m The method CoordinateSystem.get_graph has     \u001b]8;id=621827;file://C:\\Users\\thoma\\AppData\\Local\\Programs\\Python\\Python39\\lib\\site-packages\\manim\\utils\\deprecation.py\u001b\\\u001b[2mdeprecation.py\u001b[0m\u001b]8;;\u001b\\\u001b[2m:\u001b[0m\u001b]8;id=612549;file://C:\\Users\\thoma\\AppData\\Local\\Programs\\Python\\Python39\\lib\\site-packages\\manim\\utils\\deprecation.py#210\u001b\\\u001b[2m210\u001b[0m\u001b]8;;\u001b\\\n",
       "                             been deprecated since v0.\u001b[32m11.0\u001b[0m and is expected                   \n",
       "                             to be removed after v0.\u001b[32m13.0\u001b[0m. Use plot                           \n",
       "                             instead.                                                        \n"
      ]
     },
     "metadata": {},
     "output_type": "display_data"
    },
    {
     "name": "stderr",
     "output_type": "stream",
     "text": [
      "Animation 1: _MethodAnimation(ValueTracker):  59%|#####8    | 176/300 [01:07<01:53,  1.09it/s]"
     ]
    },
    {
     "data": {
      "text/html": [
       "<pre style=\"white-space:pre;overflow-x:auto;line-height:normal;font-family:Menlo,'DejaVu Sans Mono',consolas,'Courier New',monospace\"><span style=\"color: #7fbfbf; text-decoration-color: #7fbfbf\">[01/31/22 22:11:44] </span><span style=\"color: #800000; text-decoration-color: #800000\">WARNING </span> The method CoordinateSystem.get_graph has     <a href=\"file://C:\\Users\\thoma\\AppData\\Local\\Programs\\Python\\Python39\\lib\\site-packages\\manim\\utils\\deprecation.py\"><span style=\"color: #7f7f7f; text-decoration-color: #7f7f7f\">deprecation.py</span></a><span style=\"color: #7f7f7f; text-decoration-color: #7f7f7f\">:</span><a href=\"file://C:\\Users\\thoma\\AppData\\Local\\Programs\\Python\\Python39\\lib\\site-packages\\manim\\utils\\deprecation.py#210\"><span style=\"color: #7f7f7f; text-decoration-color: #7f7f7f\">210</span></a>\n",
       "                             been deprecated since v0.<span style=\"color: #008000; text-decoration-color: #008000\">11.0</span> and is expected                   \n",
       "                             to be removed after v0.<span style=\"color: #008000; text-decoration-color: #008000\">13.0</span>. Use plot                           \n",
       "                             instead.                                                        \n",
       "</pre>\n"
      ],
      "text/plain": [
       "\u001b[2;36m[01/31/22 22:11:44]\u001b[0m\u001b[2;36m \u001b[0m\u001b[31mWARNING \u001b[0m The method CoordinateSystem.get_graph has     \u001b]8;id=644427;file://C:\\Users\\thoma\\AppData\\Local\\Programs\\Python\\Python39\\lib\\site-packages\\manim\\utils\\deprecation.py\u001b\\\u001b[2mdeprecation.py\u001b[0m\u001b]8;;\u001b\\\u001b[2m:\u001b[0m\u001b]8;id=15889;file://C:\\Users\\thoma\\AppData\\Local\\Programs\\Python\\Python39\\lib\\site-packages\\manim\\utils\\deprecation.py#210\u001b\\\u001b[2m210\u001b[0m\u001b]8;;\u001b\\\n",
       "                             been deprecated since v0.\u001b[32m11.0\u001b[0m and is expected                   \n",
       "                             to be removed after v0.\u001b[32m13.0\u001b[0m. Use plot                           \n",
       "                             instead.                                                        \n"
      ]
     },
     "metadata": {},
     "output_type": "display_data"
    },
    {
     "name": "stderr",
     "output_type": "stream",
     "text": [
      "Animation 1: _MethodAnimation(ValueTracker):  59%|#####8    | 177/300 [01:08<01:51,  1.10it/s]"
     ]
    },
    {
     "data": {
      "text/html": [
       "<pre style=\"white-space:pre;overflow-x:auto;line-height:normal;font-family:Menlo,'DejaVu Sans Mono',consolas,'Courier New',monospace\"><span style=\"color: #7fbfbf; text-decoration-color: #7fbfbf\">[01/31/22 22:11:45] </span><span style=\"color: #800000; text-decoration-color: #800000\">WARNING </span> The method CoordinateSystem.get_graph has     <a href=\"file://C:\\Users\\thoma\\AppData\\Local\\Programs\\Python\\Python39\\lib\\site-packages\\manim\\utils\\deprecation.py\"><span style=\"color: #7f7f7f; text-decoration-color: #7f7f7f\">deprecation.py</span></a><span style=\"color: #7f7f7f; text-decoration-color: #7f7f7f\">:</span><a href=\"file://C:\\Users\\thoma\\AppData\\Local\\Programs\\Python\\Python39\\lib\\site-packages\\manim\\utils\\deprecation.py#210\"><span style=\"color: #7f7f7f; text-decoration-color: #7f7f7f\">210</span></a>\n",
       "                             been deprecated since v0.<span style=\"color: #008000; text-decoration-color: #008000\">11.0</span> and is expected                   \n",
       "                             to be removed after v0.<span style=\"color: #008000; text-decoration-color: #008000\">13.0</span>. Use plot                           \n",
       "                             instead.                                                        \n",
       "</pre>\n"
      ],
      "text/plain": [
       "\u001b[2;36m[01/31/22 22:11:45]\u001b[0m\u001b[2;36m \u001b[0m\u001b[31mWARNING \u001b[0m The method CoordinateSystem.get_graph has     \u001b]8;id=127384;file://C:\\Users\\thoma\\AppData\\Local\\Programs\\Python\\Python39\\lib\\site-packages\\manim\\utils\\deprecation.py\u001b\\\u001b[2mdeprecation.py\u001b[0m\u001b]8;;\u001b\\\u001b[2m:\u001b[0m\u001b]8;id=729157;file://C:\\Users\\thoma\\AppData\\Local\\Programs\\Python\\Python39\\lib\\site-packages\\manim\\utils\\deprecation.py#210\u001b\\\u001b[2m210\u001b[0m\u001b]8;;\u001b\\\n",
       "                             been deprecated since v0.\u001b[32m11.0\u001b[0m and is expected                   \n",
       "                             to be removed after v0.\u001b[32m13.0\u001b[0m. Use plot                           \n",
       "                             instead.                                                        \n"
      ]
     },
     "metadata": {},
     "output_type": "display_data"
    },
    {
     "name": "stderr",
     "output_type": "stream",
     "text": [
      "Animation 1: _MethodAnimation(ValueTracker):  59%|#####9    | 178/300 [01:09<01:47,  1.13it/s]"
     ]
    },
    {
     "data": {
      "text/html": [
       "<pre style=\"white-space:pre;overflow-x:auto;line-height:normal;font-family:Menlo,'DejaVu Sans Mono',consolas,'Courier New',monospace\"><span style=\"color: #7fbfbf; text-decoration-color: #7fbfbf\">[01/31/22 22:11:46] </span><span style=\"color: #800000; text-decoration-color: #800000\">WARNING </span> The method CoordinateSystem.get_graph has     <a href=\"file://C:\\Users\\thoma\\AppData\\Local\\Programs\\Python\\Python39\\lib\\site-packages\\manim\\utils\\deprecation.py\"><span style=\"color: #7f7f7f; text-decoration-color: #7f7f7f\">deprecation.py</span></a><span style=\"color: #7f7f7f; text-decoration-color: #7f7f7f\">:</span><a href=\"file://C:\\Users\\thoma\\AppData\\Local\\Programs\\Python\\Python39\\lib\\site-packages\\manim\\utils\\deprecation.py#210\"><span style=\"color: #7f7f7f; text-decoration-color: #7f7f7f\">210</span></a>\n",
       "                             been deprecated since v0.<span style=\"color: #008000; text-decoration-color: #008000\">11.0</span> and is expected                   \n",
       "                             to be removed after v0.<span style=\"color: #008000; text-decoration-color: #008000\">13.0</span>. Use plot                           \n",
       "                             instead.                                                        \n",
       "</pre>\n"
      ],
      "text/plain": [
       "\u001b[2;36m[01/31/22 22:11:46]\u001b[0m\u001b[2;36m \u001b[0m\u001b[31mWARNING \u001b[0m The method CoordinateSystem.get_graph has     \u001b]8;id=829122;file://C:\\Users\\thoma\\AppData\\Local\\Programs\\Python\\Python39\\lib\\site-packages\\manim\\utils\\deprecation.py\u001b\\\u001b[2mdeprecation.py\u001b[0m\u001b]8;;\u001b\\\u001b[2m:\u001b[0m\u001b]8;id=303424;file://C:\\Users\\thoma\\AppData\\Local\\Programs\\Python\\Python39\\lib\\site-packages\\manim\\utils\\deprecation.py#210\u001b\\\u001b[2m210\u001b[0m\u001b]8;;\u001b\\\n",
       "                             been deprecated since v0.\u001b[32m11.0\u001b[0m and is expected                   \n",
       "                             to be removed after v0.\u001b[32m13.0\u001b[0m. Use plot                           \n",
       "                             instead.                                                        \n"
      ]
     },
     "metadata": {},
     "output_type": "display_data"
    },
    {
     "name": "stderr",
     "output_type": "stream",
     "text": [
      "Animation 1: _MethodAnimation(ValueTracker):  60%|#####9    | 179/300 [01:10<01:43,  1.16it/s]"
     ]
    },
    {
     "data": {
      "text/html": [
       "<pre style=\"white-space:pre;overflow-x:auto;line-height:normal;font-family:Menlo,'DejaVu Sans Mono',consolas,'Courier New',monospace\"><span style=\"color: #7fbfbf; text-decoration-color: #7fbfbf\">[01/31/22 22:11:47] </span><span style=\"color: #800000; text-decoration-color: #800000\">WARNING </span> The method CoordinateSystem.get_graph has     <a href=\"file://C:\\Users\\thoma\\AppData\\Local\\Programs\\Python\\Python39\\lib\\site-packages\\manim\\utils\\deprecation.py\"><span style=\"color: #7f7f7f; text-decoration-color: #7f7f7f\">deprecation.py</span></a><span style=\"color: #7f7f7f; text-decoration-color: #7f7f7f\">:</span><a href=\"file://C:\\Users\\thoma\\AppData\\Local\\Programs\\Python\\Python39\\lib\\site-packages\\manim\\utils\\deprecation.py#210\"><span style=\"color: #7f7f7f; text-decoration-color: #7f7f7f\">210</span></a>\n",
       "                             been deprecated since v0.<span style=\"color: #008000; text-decoration-color: #008000\">11.0</span> and is expected                   \n",
       "                             to be removed after v0.<span style=\"color: #008000; text-decoration-color: #008000\">13.0</span>. Use plot                           \n",
       "                             instead.                                                        \n",
       "</pre>\n"
      ],
      "text/plain": [
       "\u001b[2;36m[01/31/22 22:11:47]\u001b[0m\u001b[2;36m \u001b[0m\u001b[31mWARNING \u001b[0m The method CoordinateSystem.get_graph has     \u001b]8;id=87000;file://C:\\Users\\thoma\\AppData\\Local\\Programs\\Python\\Python39\\lib\\site-packages\\manim\\utils\\deprecation.py\u001b\\\u001b[2mdeprecation.py\u001b[0m\u001b]8;;\u001b\\\u001b[2m:\u001b[0m\u001b]8;id=980694;file://C:\\Users\\thoma\\AppData\\Local\\Programs\\Python\\Python39\\lib\\site-packages\\manim\\utils\\deprecation.py#210\u001b\\\u001b[2m210\u001b[0m\u001b]8;;\u001b\\\n",
       "                             been deprecated since v0.\u001b[32m11.0\u001b[0m and is expected                   \n",
       "                             to be removed after v0.\u001b[32m13.0\u001b[0m. Use plot                           \n",
       "                             instead.                                                        \n"
      ]
     },
     "metadata": {},
     "output_type": "display_data"
    },
    {
     "name": "stderr",
     "output_type": "stream",
     "text": [
      "Animation 1: _MethodAnimation(ValueTracker):  60%|######    | 180/300 [01:11<01:53,  1.06it/s]"
     ]
    },
    {
     "data": {
      "text/html": [
       "<pre style=\"white-space:pre;overflow-x:auto;line-height:normal;font-family:Menlo,'DejaVu Sans Mono',consolas,'Courier New',monospace\"><span style=\"color: #7fbfbf; text-decoration-color: #7fbfbf\">[01/31/22 22:11:48] </span><span style=\"color: #800000; text-decoration-color: #800000\">WARNING </span> The method CoordinateSystem.get_graph has     <a href=\"file://C:\\Users\\thoma\\AppData\\Local\\Programs\\Python\\Python39\\lib\\site-packages\\manim\\utils\\deprecation.py\"><span style=\"color: #7f7f7f; text-decoration-color: #7f7f7f\">deprecation.py</span></a><span style=\"color: #7f7f7f; text-decoration-color: #7f7f7f\">:</span><a href=\"file://C:\\Users\\thoma\\AppData\\Local\\Programs\\Python\\Python39\\lib\\site-packages\\manim\\utils\\deprecation.py#210\"><span style=\"color: #7f7f7f; text-decoration-color: #7f7f7f\">210</span></a>\n",
       "                             been deprecated since v0.<span style=\"color: #008000; text-decoration-color: #008000\">11.0</span> and is expected                   \n",
       "                             to be removed after v0.<span style=\"color: #008000; text-decoration-color: #008000\">13.0</span>. Use plot                           \n",
       "                             instead.                                                        \n",
       "</pre>\n"
      ],
      "text/plain": [
       "\u001b[2;36m[01/31/22 22:11:48]\u001b[0m\u001b[2;36m \u001b[0m\u001b[31mWARNING \u001b[0m The method CoordinateSystem.get_graph has     \u001b]8;id=333526;file://C:\\Users\\thoma\\AppData\\Local\\Programs\\Python\\Python39\\lib\\site-packages\\manim\\utils\\deprecation.py\u001b\\\u001b[2mdeprecation.py\u001b[0m\u001b]8;;\u001b\\\u001b[2m:\u001b[0m\u001b]8;id=973308;file://C:\\Users\\thoma\\AppData\\Local\\Programs\\Python\\Python39\\lib\\site-packages\\manim\\utils\\deprecation.py#210\u001b\\\u001b[2m210\u001b[0m\u001b]8;;\u001b\\\n",
       "                             been deprecated since v0.\u001b[32m11.0\u001b[0m and is expected                   \n",
       "                             to be removed after v0.\u001b[32m13.0\u001b[0m. Use plot                           \n",
       "                             instead.                                                        \n"
      ]
     },
     "metadata": {},
     "output_type": "display_data"
    },
    {
     "name": "stderr",
     "output_type": "stream",
     "text": [
      "Animation 1: _MethodAnimation(ValueTracker):  60%|######    | 181/300 [01:12<01:57,  1.01it/s]"
     ]
    },
    {
     "data": {
      "text/html": [
       "<pre style=\"white-space:pre;overflow-x:auto;line-height:normal;font-family:Menlo,'DejaVu Sans Mono',consolas,'Courier New',monospace\"><span style=\"color: #7fbfbf; text-decoration-color: #7fbfbf\">[01/31/22 22:11:49] </span><span style=\"color: #800000; text-decoration-color: #800000\">WARNING </span> The method CoordinateSystem.get_graph has     <a href=\"file://C:\\Users\\thoma\\AppData\\Local\\Programs\\Python\\Python39\\lib\\site-packages\\manim\\utils\\deprecation.py\"><span style=\"color: #7f7f7f; text-decoration-color: #7f7f7f\">deprecation.py</span></a><span style=\"color: #7f7f7f; text-decoration-color: #7f7f7f\">:</span><a href=\"file://C:\\Users\\thoma\\AppData\\Local\\Programs\\Python\\Python39\\lib\\site-packages\\manim\\utils\\deprecation.py#210\"><span style=\"color: #7f7f7f; text-decoration-color: #7f7f7f\">210</span></a>\n",
       "                             been deprecated since v0.<span style=\"color: #008000; text-decoration-color: #008000\">11.0</span> and is expected                   \n",
       "                             to be removed after v0.<span style=\"color: #008000; text-decoration-color: #008000\">13.0</span>. Use plot                           \n",
       "                             instead.                                                        \n",
       "</pre>\n"
      ],
      "text/plain": [
       "\u001b[2;36m[01/31/22 22:11:49]\u001b[0m\u001b[2;36m \u001b[0m\u001b[31mWARNING \u001b[0m The method CoordinateSystem.get_graph has     \u001b]8;id=629578;file://C:\\Users\\thoma\\AppData\\Local\\Programs\\Python\\Python39\\lib\\site-packages\\manim\\utils\\deprecation.py\u001b\\\u001b[2mdeprecation.py\u001b[0m\u001b]8;;\u001b\\\u001b[2m:\u001b[0m\u001b]8;id=669065;file://C:\\Users\\thoma\\AppData\\Local\\Programs\\Python\\Python39\\lib\\site-packages\\manim\\utils\\deprecation.py#210\u001b\\\u001b[2m210\u001b[0m\u001b]8;;\u001b\\\n",
       "                             been deprecated since v0.\u001b[32m11.0\u001b[0m and is expected                   \n",
       "                             to be removed after v0.\u001b[32m13.0\u001b[0m. Use plot                           \n",
       "                             instead.                                                        \n"
      ]
     },
     "metadata": {},
     "output_type": "display_data"
    },
    {
     "name": "stderr",
     "output_type": "stream",
     "text": [
      "Animation 1: _MethodAnimation(ValueTracker):  61%|######    | 182/300 [01:13<01:57,  1.01it/s]"
     ]
    },
    {
     "data": {
      "text/html": [
       "<pre style=\"white-space:pre;overflow-x:auto;line-height:normal;font-family:Menlo,'DejaVu Sans Mono',consolas,'Courier New',monospace\"><span style=\"color: #7fbfbf; text-decoration-color: #7fbfbf\">[01/31/22 22:11:50] </span><span style=\"color: #800000; text-decoration-color: #800000\">WARNING </span> The method CoordinateSystem.get_graph has     <a href=\"file://C:\\Users\\thoma\\AppData\\Local\\Programs\\Python\\Python39\\lib\\site-packages\\manim\\utils\\deprecation.py\"><span style=\"color: #7f7f7f; text-decoration-color: #7f7f7f\">deprecation.py</span></a><span style=\"color: #7f7f7f; text-decoration-color: #7f7f7f\">:</span><a href=\"file://C:\\Users\\thoma\\AppData\\Local\\Programs\\Python\\Python39\\lib\\site-packages\\manim\\utils\\deprecation.py#210\"><span style=\"color: #7f7f7f; text-decoration-color: #7f7f7f\">210</span></a>\n",
       "                             been deprecated since v0.<span style=\"color: #008000; text-decoration-color: #008000\">11.0</span> and is expected                   \n",
       "                             to be removed after v0.<span style=\"color: #008000; text-decoration-color: #008000\">13.0</span>. Use plot                           \n",
       "                             instead.                                                        \n",
       "</pre>\n"
      ],
      "text/plain": [
       "\u001b[2;36m[01/31/22 22:11:50]\u001b[0m\u001b[2;36m \u001b[0m\u001b[31mWARNING \u001b[0m The method CoordinateSystem.get_graph has     \u001b]8;id=848704;file://C:\\Users\\thoma\\AppData\\Local\\Programs\\Python\\Python39\\lib\\site-packages\\manim\\utils\\deprecation.py\u001b\\\u001b[2mdeprecation.py\u001b[0m\u001b]8;;\u001b\\\u001b[2m:\u001b[0m\u001b]8;id=47905;file://C:\\Users\\thoma\\AppData\\Local\\Programs\\Python\\Python39\\lib\\site-packages\\manim\\utils\\deprecation.py#210\u001b\\\u001b[2m210\u001b[0m\u001b]8;;\u001b\\\n",
       "                             been deprecated since v0.\u001b[32m11.0\u001b[0m and is expected                   \n",
       "                             to be removed after v0.\u001b[32m13.0\u001b[0m. Use plot                           \n",
       "                             instead.                                                        \n"
      ]
     },
     "metadata": {},
     "output_type": "display_data"
    },
    {
     "name": "stderr",
     "output_type": "stream",
     "text": [
      "Animation 1: _MethodAnimation(ValueTracker):  61%|######1   | 183/300 [01:14<01:51,  1.05it/s]"
     ]
    },
    {
     "data": {
      "text/html": [
       "<pre style=\"white-space:pre;overflow-x:auto;line-height:normal;font-family:Menlo,'DejaVu Sans Mono',consolas,'Courier New',monospace\"><span style=\"color: #7fbfbf; text-decoration-color: #7fbfbf\">[01/31/22 22:11:51] </span><span style=\"color: #800000; text-decoration-color: #800000\">WARNING </span> The method CoordinateSystem.get_graph has     <a href=\"file://C:\\Users\\thoma\\AppData\\Local\\Programs\\Python\\Python39\\lib\\site-packages\\manim\\utils\\deprecation.py\"><span style=\"color: #7f7f7f; text-decoration-color: #7f7f7f\">deprecation.py</span></a><span style=\"color: #7f7f7f; text-decoration-color: #7f7f7f\">:</span><a href=\"file://C:\\Users\\thoma\\AppData\\Local\\Programs\\Python\\Python39\\lib\\site-packages\\manim\\utils\\deprecation.py#210\"><span style=\"color: #7f7f7f; text-decoration-color: #7f7f7f\">210</span></a>\n",
       "                             been deprecated since v0.<span style=\"color: #008000; text-decoration-color: #008000\">11.0</span> and is expected                   \n",
       "                             to be removed after v0.<span style=\"color: #008000; text-decoration-color: #008000\">13.0</span>. Use plot                           \n",
       "                             instead.                                                        \n",
       "</pre>\n"
      ],
      "text/plain": [
       "\u001b[2;36m[01/31/22 22:11:51]\u001b[0m\u001b[2;36m \u001b[0m\u001b[31mWARNING \u001b[0m The method CoordinateSystem.get_graph has     \u001b]8;id=119441;file://C:\\Users\\thoma\\AppData\\Local\\Programs\\Python\\Python39\\lib\\site-packages\\manim\\utils\\deprecation.py\u001b\\\u001b[2mdeprecation.py\u001b[0m\u001b]8;;\u001b\\\u001b[2m:\u001b[0m\u001b]8;id=408787;file://C:\\Users\\thoma\\AppData\\Local\\Programs\\Python\\Python39\\lib\\site-packages\\manim\\utils\\deprecation.py#210\u001b\\\u001b[2m210\u001b[0m\u001b]8;;\u001b\\\n",
       "                             been deprecated since v0.\u001b[32m11.0\u001b[0m and is expected                   \n",
       "                             to be removed after v0.\u001b[32m13.0\u001b[0m. Use plot                           \n",
       "                             instead.                                                        \n"
      ]
     },
     "metadata": {},
     "output_type": "display_data"
    },
    {
     "name": "stderr",
     "output_type": "stream",
     "text": [
      "Animation 1: _MethodAnimation(ValueTracker):  61%|######1   | 184/300 [01:15<01:48,  1.07it/s]"
     ]
    },
    {
     "data": {
      "text/html": [
       "<pre style=\"white-space:pre;overflow-x:auto;line-height:normal;font-family:Menlo,'DejaVu Sans Mono',consolas,'Courier New',monospace\"><span style=\"color: #7fbfbf; text-decoration-color: #7fbfbf\">[01/31/22 22:11:52] </span><span style=\"color: #800000; text-decoration-color: #800000\">WARNING </span> The method CoordinateSystem.get_graph has     <a href=\"file://C:\\Users\\thoma\\AppData\\Local\\Programs\\Python\\Python39\\lib\\site-packages\\manim\\utils\\deprecation.py\"><span style=\"color: #7f7f7f; text-decoration-color: #7f7f7f\">deprecation.py</span></a><span style=\"color: #7f7f7f; text-decoration-color: #7f7f7f\">:</span><a href=\"file://C:\\Users\\thoma\\AppData\\Local\\Programs\\Python\\Python39\\lib\\site-packages\\manim\\utils\\deprecation.py#210\"><span style=\"color: #7f7f7f; text-decoration-color: #7f7f7f\">210</span></a>\n",
       "                             been deprecated since v0.<span style=\"color: #008000; text-decoration-color: #008000\">11.0</span> and is expected                   \n",
       "                             to be removed after v0.<span style=\"color: #008000; text-decoration-color: #008000\">13.0</span>. Use plot                           \n",
       "                             instead.                                                        \n",
       "</pre>\n"
      ],
      "text/plain": [
       "\u001b[2;36m[01/31/22 22:11:52]\u001b[0m\u001b[2;36m \u001b[0m\u001b[31mWARNING \u001b[0m The method CoordinateSystem.get_graph has     \u001b]8;id=228573;file://C:\\Users\\thoma\\AppData\\Local\\Programs\\Python\\Python39\\lib\\site-packages\\manim\\utils\\deprecation.py\u001b\\\u001b[2mdeprecation.py\u001b[0m\u001b]8;;\u001b\\\u001b[2m:\u001b[0m\u001b]8;id=342620;file://C:\\Users\\thoma\\AppData\\Local\\Programs\\Python\\Python39\\lib\\site-packages\\manim\\utils\\deprecation.py#210\u001b\\\u001b[2m210\u001b[0m\u001b]8;;\u001b\\\n",
       "                             been deprecated since v0.\u001b[32m11.0\u001b[0m and is expected                   \n",
       "                             to be removed after v0.\u001b[32m13.0\u001b[0m. Use plot                           \n",
       "                             instead.                                                        \n"
      ]
     },
     "metadata": {},
     "output_type": "display_data"
    },
    {
     "name": "stderr",
     "output_type": "stream",
     "text": [
      "Animation 1: _MethodAnimation(ValueTracker):  62%|######1   | 185/300 [01:16<01:46,  1.08it/s]"
     ]
    },
    {
     "data": {
      "text/html": [
       "<pre style=\"white-space:pre;overflow-x:auto;line-height:normal;font-family:Menlo,'DejaVu Sans Mono',consolas,'Courier New',monospace\"><span style=\"color: #7fbfbf; text-decoration-color: #7fbfbf\">[01/31/22 22:11:53] </span><span style=\"color: #800000; text-decoration-color: #800000\">WARNING </span> The method CoordinateSystem.get_graph has     <a href=\"file://C:\\Users\\thoma\\AppData\\Local\\Programs\\Python\\Python39\\lib\\site-packages\\manim\\utils\\deprecation.py\"><span style=\"color: #7f7f7f; text-decoration-color: #7f7f7f\">deprecation.py</span></a><span style=\"color: #7f7f7f; text-decoration-color: #7f7f7f\">:</span><a href=\"file://C:\\Users\\thoma\\AppData\\Local\\Programs\\Python\\Python39\\lib\\site-packages\\manim\\utils\\deprecation.py#210\"><span style=\"color: #7f7f7f; text-decoration-color: #7f7f7f\">210</span></a>\n",
       "                             been deprecated since v0.<span style=\"color: #008000; text-decoration-color: #008000\">11.0</span> and is expected                   \n",
       "                             to be removed after v0.<span style=\"color: #008000; text-decoration-color: #008000\">13.0</span>. Use plot                           \n",
       "                             instead.                                                        \n",
       "</pre>\n"
      ],
      "text/plain": [
       "\u001b[2;36m[01/31/22 22:11:53]\u001b[0m\u001b[2;36m \u001b[0m\u001b[31mWARNING \u001b[0m The method CoordinateSystem.get_graph has     \u001b]8;id=510476;file://C:\\Users\\thoma\\AppData\\Local\\Programs\\Python\\Python39\\lib\\site-packages\\manim\\utils\\deprecation.py\u001b\\\u001b[2mdeprecation.py\u001b[0m\u001b]8;;\u001b\\\u001b[2m:\u001b[0m\u001b]8;id=45571;file://C:\\Users\\thoma\\AppData\\Local\\Programs\\Python\\Python39\\lib\\site-packages\\manim\\utils\\deprecation.py#210\u001b\\\u001b[2m210\u001b[0m\u001b]8;;\u001b\\\n",
       "                             been deprecated since v0.\u001b[32m11.0\u001b[0m and is expected                   \n",
       "                             to be removed after v0.\u001b[32m13.0\u001b[0m. Use plot                           \n",
       "                             instead.                                                        \n"
      ]
     },
     "metadata": {},
     "output_type": "display_data"
    },
    {
     "name": "stderr",
     "output_type": "stream",
     "text": [
      "Animation 1: _MethodAnimation(ValueTracker):  62%|######2   | 186/300 [01:17<01:44,  1.09it/s]"
     ]
    },
    {
     "data": {
      "text/html": [
       "<pre style=\"white-space:pre;overflow-x:auto;line-height:normal;font-family:Menlo,'DejaVu Sans Mono',consolas,'Courier New',monospace\"><span style=\"color: #7fbfbf; text-decoration-color: #7fbfbf\">[01/31/22 22:11:54] </span><span style=\"color: #800000; text-decoration-color: #800000\">WARNING </span> The method CoordinateSystem.get_graph has     <a href=\"file://C:\\Users\\thoma\\AppData\\Local\\Programs\\Python\\Python39\\lib\\site-packages\\manim\\utils\\deprecation.py\"><span style=\"color: #7f7f7f; text-decoration-color: #7f7f7f\">deprecation.py</span></a><span style=\"color: #7f7f7f; text-decoration-color: #7f7f7f\">:</span><a href=\"file://C:\\Users\\thoma\\AppData\\Local\\Programs\\Python\\Python39\\lib\\site-packages\\manim\\utils\\deprecation.py#210\"><span style=\"color: #7f7f7f; text-decoration-color: #7f7f7f\">210</span></a>\n",
       "                             been deprecated since v0.<span style=\"color: #008000; text-decoration-color: #008000\">11.0</span> and is expected                   \n",
       "                             to be removed after v0.<span style=\"color: #008000; text-decoration-color: #008000\">13.0</span>. Use plot                           \n",
       "                             instead.                                                        \n",
       "</pre>\n"
      ],
      "text/plain": [
       "\u001b[2;36m[01/31/22 22:11:54]\u001b[0m\u001b[2;36m \u001b[0m\u001b[31mWARNING \u001b[0m The method CoordinateSystem.get_graph has     \u001b]8;id=182928;file://C:\\Users\\thoma\\AppData\\Local\\Programs\\Python\\Python39\\lib\\site-packages\\manim\\utils\\deprecation.py\u001b\\\u001b[2mdeprecation.py\u001b[0m\u001b]8;;\u001b\\\u001b[2m:\u001b[0m\u001b]8;id=679933;file://C:\\Users\\thoma\\AppData\\Local\\Programs\\Python\\Python39\\lib\\site-packages\\manim\\utils\\deprecation.py#210\u001b\\\u001b[2m210\u001b[0m\u001b]8;;\u001b\\\n",
       "                             been deprecated since v0.\u001b[32m11.0\u001b[0m and is expected                   \n",
       "                             to be removed after v0.\u001b[32m13.0\u001b[0m. Use plot                           \n",
       "                             instead.                                                        \n"
      ]
     },
     "metadata": {},
     "output_type": "display_data"
    },
    {
     "name": "stderr",
     "output_type": "stream",
     "text": [
      "Animation 1: _MethodAnimation(ValueTracker):  62%|######2   | 187/300 [01:18<01:56,  1.03s/it]"
     ]
    },
    {
     "data": {
      "text/html": [
       "<pre style=\"white-space:pre;overflow-x:auto;line-height:normal;font-family:Menlo,'DejaVu Sans Mono',consolas,'Courier New',monospace\"><span style=\"color: #7fbfbf; text-decoration-color: #7fbfbf\">[01/31/22 22:11:55] </span><span style=\"color: #800000; text-decoration-color: #800000\">WARNING </span> The method CoordinateSystem.get_graph has     <a href=\"file://C:\\Users\\thoma\\AppData\\Local\\Programs\\Python\\Python39\\lib\\site-packages\\manim\\utils\\deprecation.py\"><span style=\"color: #7f7f7f; text-decoration-color: #7f7f7f\">deprecation.py</span></a><span style=\"color: #7f7f7f; text-decoration-color: #7f7f7f\">:</span><a href=\"file://C:\\Users\\thoma\\AppData\\Local\\Programs\\Python\\Python39\\lib\\site-packages\\manim\\utils\\deprecation.py#210\"><span style=\"color: #7f7f7f; text-decoration-color: #7f7f7f\">210</span></a>\n",
       "                             been deprecated since v0.<span style=\"color: #008000; text-decoration-color: #008000\">11.0</span> and is expected                   \n",
       "                             to be removed after v0.<span style=\"color: #008000; text-decoration-color: #008000\">13.0</span>. Use plot                           \n",
       "                             instead.                                                        \n",
       "</pre>\n"
      ],
      "text/plain": [
       "\u001b[2;36m[01/31/22 22:11:55]\u001b[0m\u001b[2;36m \u001b[0m\u001b[31mWARNING \u001b[0m The method CoordinateSystem.get_graph has     \u001b]8;id=468397;file://C:\\Users\\thoma\\AppData\\Local\\Programs\\Python\\Python39\\lib\\site-packages\\manim\\utils\\deprecation.py\u001b\\\u001b[2mdeprecation.py\u001b[0m\u001b]8;;\u001b\\\u001b[2m:\u001b[0m\u001b]8;id=68064;file://C:\\Users\\thoma\\AppData\\Local\\Programs\\Python\\Python39\\lib\\site-packages\\manim\\utils\\deprecation.py#210\u001b\\\u001b[2m210\u001b[0m\u001b]8;;\u001b\\\n",
       "                             been deprecated since v0.\u001b[32m11.0\u001b[0m and is expected                   \n",
       "                             to be removed after v0.\u001b[32m13.0\u001b[0m. Use plot                           \n",
       "                             instead.                                                        \n"
      ]
     },
     "metadata": {},
     "output_type": "display_data"
    },
    {
     "name": "stderr",
     "output_type": "stream",
     "text": [
      "Animation 1: _MethodAnimation(ValueTracker):  63%|######2   | 188/300 [01:19<02:00,  1.07s/it]"
     ]
    },
    {
     "data": {
      "text/html": [
       "<pre style=\"white-space:pre;overflow-x:auto;line-height:normal;font-family:Menlo,'DejaVu Sans Mono',consolas,'Courier New',monospace\"><span style=\"color: #7fbfbf; text-decoration-color: #7fbfbf\">[01/31/22 22:11:56] </span><span style=\"color: #800000; text-decoration-color: #800000\">WARNING </span> The method CoordinateSystem.get_graph has     <a href=\"file://C:\\Users\\thoma\\AppData\\Local\\Programs\\Python\\Python39\\lib\\site-packages\\manim\\utils\\deprecation.py\"><span style=\"color: #7f7f7f; text-decoration-color: #7f7f7f\">deprecation.py</span></a><span style=\"color: #7f7f7f; text-decoration-color: #7f7f7f\">:</span><a href=\"file://C:\\Users\\thoma\\AppData\\Local\\Programs\\Python\\Python39\\lib\\site-packages\\manim\\utils\\deprecation.py#210\"><span style=\"color: #7f7f7f; text-decoration-color: #7f7f7f\">210</span></a>\n",
       "                             been deprecated since v0.<span style=\"color: #008000; text-decoration-color: #008000\">11.0</span> and is expected                   \n",
       "                             to be removed after v0.<span style=\"color: #008000; text-decoration-color: #008000\">13.0</span>. Use plot                           \n",
       "                             instead.                                                        \n",
       "</pre>\n"
      ],
      "text/plain": [
       "\u001b[2;36m[01/31/22 22:11:56]\u001b[0m\u001b[2;36m \u001b[0m\u001b[31mWARNING \u001b[0m The method CoordinateSystem.get_graph has     \u001b]8;id=987127;file://C:\\Users\\thoma\\AppData\\Local\\Programs\\Python\\Python39\\lib\\site-packages\\manim\\utils\\deprecation.py\u001b\\\u001b[2mdeprecation.py\u001b[0m\u001b]8;;\u001b\\\u001b[2m:\u001b[0m\u001b]8;id=417147;file://C:\\Users\\thoma\\AppData\\Local\\Programs\\Python\\Python39\\lib\\site-packages\\manim\\utils\\deprecation.py#210\u001b\\\u001b[2m210\u001b[0m\u001b]8;;\u001b\\\n",
       "                             been deprecated since v0.\u001b[32m11.0\u001b[0m and is expected                   \n",
       "                             to be removed after v0.\u001b[32m13.0\u001b[0m. Use plot                           \n",
       "                             instead.                                                        \n"
      ]
     },
     "metadata": {},
     "output_type": "display_data"
    },
    {
     "name": "stderr",
     "output_type": "stream",
     "text": [
      "Animation 1: _MethodAnimation(ValueTracker):  63%|######3   | 189/300 [01:20<01:56,  1.05s/it]"
     ]
    },
    {
     "data": {
      "text/html": [
       "<pre style=\"white-space:pre;overflow-x:auto;line-height:normal;font-family:Menlo,'DejaVu Sans Mono',consolas,'Courier New',monospace\"><span style=\"color: #7fbfbf; text-decoration-color: #7fbfbf\">[01/31/22 22:11:57] </span><span style=\"color: #800000; text-decoration-color: #800000\">WARNING </span> The method CoordinateSystem.get_graph has     <a href=\"file://C:\\Users\\thoma\\AppData\\Local\\Programs\\Python\\Python39\\lib\\site-packages\\manim\\utils\\deprecation.py\"><span style=\"color: #7f7f7f; text-decoration-color: #7f7f7f\">deprecation.py</span></a><span style=\"color: #7f7f7f; text-decoration-color: #7f7f7f\">:</span><a href=\"file://C:\\Users\\thoma\\AppData\\Local\\Programs\\Python\\Python39\\lib\\site-packages\\manim\\utils\\deprecation.py#210\"><span style=\"color: #7f7f7f; text-decoration-color: #7f7f7f\">210</span></a>\n",
       "                             been deprecated since v0.<span style=\"color: #008000; text-decoration-color: #008000\">11.0</span> and is expected                   \n",
       "                             to be removed after v0.<span style=\"color: #008000; text-decoration-color: #008000\">13.0</span>. Use plot                           \n",
       "                             instead.                                                        \n",
       "</pre>\n"
      ],
      "text/plain": [
       "\u001b[2;36m[01/31/22 22:11:57]\u001b[0m\u001b[2;36m \u001b[0m\u001b[31mWARNING \u001b[0m The method CoordinateSystem.get_graph has     \u001b]8;id=613568;file://C:\\Users\\thoma\\AppData\\Local\\Programs\\Python\\Python39\\lib\\site-packages\\manim\\utils\\deprecation.py\u001b\\\u001b[2mdeprecation.py\u001b[0m\u001b]8;;\u001b\\\u001b[2m:\u001b[0m\u001b]8;id=267941;file://C:\\Users\\thoma\\AppData\\Local\\Programs\\Python\\Python39\\lib\\site-packages\\manim\\utils\\deprecation.py#210\u001b\\\u001b[2m210\u001b[0m\u001b]8;;\u001b\\\n",
       "                             been deprecated since v0.\u001b[32m11.0\u001b[0m and is expected                   \n",
       "                             to be removed after v0.\u001b[32m13.0\u001b[0m. Use plot                           \n",
       "                             instead.                                                        \n"
      ]
     },
     "metadata": {},
     "output_type": "display_data"
    },
    {
     "name": "stderr",
     "output_type": "stream",
     "text": [
      "Animation 1: _MethodAnimation(ValueTracker):  63%|######3   | 190/300 [01:21<01:52,  1.02s/it]"
     ]
    },
    {
     "data": {
      "text/html": [
       "<pre style=\"white-space:pre;overflow-x:auto;line-height:normal;font-family:Menlo,'DejaVu Sans Mono',consolas,'Courier New',monospace\"><span style=\"color: #7fbfbf; text-decoration-color: #7fbfbf\">[01/31/22 22:11:58] </span><span style=\"color: #800000; text-decoration-color: #800000\">WARNING </span> The method CoordinateSystem.get_graph has     <a href=\"file://C:\\Users\\thoma\\AppData\\Local\\Programs\\Python\\Python39\\lib\\site-packages\\manim\\utils\\deprecation.py\"><span style=\"color: #7f7f7f; text-decoration-color: #7f7f7f\">deprecation.py</span></a><span style=\"color: #7f7f7f; text-decoration-color: #7f7f7f\">:</span><a href=\"file://C:\\Users\\thoma\\AppData\\Local\\Programs\\Python\\Python39\\lib\\site-packages\\manim\\utils\\deprecation.py#210\"><span style=\"color: #7f7f7f; text-decoration-color: #7f7f7f\">210</span></a>\n",
       "                             been deprecated since v0.<span style=\"color: #008000; text-decoration-color: #008000\">11.0</span> and is expected                   \n",
       "                             to be removed after v0.<span style=\"color: #008000; text-decoration-color: #008000\">13.0</span>. Use plot                           \n",
       "                             instead.                                                        \n",
       "</pre>\n"
      ],
      "text/plain": [
       "\u001b[2;36m[01/31/22 22:11:58]\u001b[0m\u001b[2;36m \u001b[0m\u001b[31mWARNING \u001b[0m The method CoordinateSystem.get_graph has     \u001b]8;id=821336;file://C:\\Users\\thoma\\AppData\\Local\\Programs\\Python\\Python39\\lib\\site-packages\\manim\\utils\\deprecation.py\u001b\\\u001b[2mdeprecation.py\u001b[0m\u001b]8;;\u001b\\\u001b[2m:\u001b[0m\u001b]8;id=509412;file://C:\\Users\\thoma\\AppData\\Local\\Programs\\Python\\Python39\\lib\\site-packages\\manim\\utils\\deprecation.py#210\u001b\\\u001b[2m210\u001b[0m\u001b]8;;\u001b\\\n",
       "                             been deprecated since v0.\u001b[32m11.0\u001b[0m and is expected                   \n",
       "                             to be removed after v0.\u001b[32m13.0\u001b[0m. Use plot                           \n",
       "                             instead.                                                        \n"
      ]
     },
     "metadata": {},
     "output_type": "display_data"
    },
    {
     "name": "stderr",
     "output_type": "stream",
     "text": [
      "Animation 1: _MethodAnimation(ValueTracker):  64%|######3   | 191/300 [01:22<01:46,  1.02it/s]"
     ]
    },
    {
     "data": {
      "text/html": [
       "<pre style=\"white-space:pre;overflow-x:auto;line-height:normal;font-family:Menlo,'DejaVu Sans Mono',consolas,'Courier New',monospace\"><span style=\"color: #7fbfbf; text-decoration-color: #7fbfbf\">[01/31/22 22:11:59] </span><span style=\"color: #800000; text-decoration-color: #800000\">WARNING </span> The method CoordinateSystem.get_graph has     <a href=\"file://C:\\Users\\thoma\\AppData\\Local\\Programs\\Python\\Python39\\lib\\site-packages\\manim\\utils\\deprecation.py\"><span style=\"color: #7f7f7f; text-decoration-color: #7f7f7f\">deprecation.py</span></a><span style=\"color: #7f7f7f; text-decoration-color: #7f7f7f\">:</span><a href=\"file://C:\\Users\\thoma\\AppData\\Local\\Programs\\Python\\Python39\\lib\\site-packages\\manim\\utils\\deprecation.py#210\"><span style=\"color: #7f7f7f; text-decoration-color: #7f7f7f\">210</span></a>\n",
       "                             been deprecated since v0.<span style=\"color: #008000; text-decoration-color: #008000\">11.0</span> and is expected                   \n",
       "                             to be removed after v0.<span style=\"color: #008000; text-decoration-color: #008000\">13.0</span>. Use plot                           \n",
       "                             instead.                                                        \n",
       "</pre>\n"
      ],
      "text/plain": [
       "\u001b[2;36m[01/31/22 22:11:59]\u001b[0m\u001b[2;36m \u001b[0m\u001b[31mWARNING \u001b[0m The method CoordinateSystem.get_graph has     \u001b]8;id=612839;file://C:\\Users\\thoma\\AppData\\Local\\Programs\\Python\\Python39\\lib\\site-packages\\manim\\utils\\deprecation.py\u001b\\\u001b[2mdeprecation.py\u001b[0m\u001b]8;;\u001b\\\u001b[2m:\u001b[0m\u001b]8;id=539999;file://C:\\Users\\thoma\\AppData\\Local\\Programs\\Python\\Python39\\lib\\site-packages\\manim\\utils\\deprecation.py#210\u001b\\\u001b[2m210\u001b[0m\u001b]8;;\u001b\\\n",
       "                             been deprecated since v0.\u001b[32m11.0\u001b[0m and is expected                   \n",
       "                             to be removed after v0.\u001b[32m13.0\u001b[0m. Use plot                           \n",
       "                             instead.                                                        \n"
      ]
     },
     "metadata": {},
     "output_type": "display_data"
    },
    {
     "name": "stderr",
     "output_type": "stream",
     "text": [
      "Animation 1: _MethodAnimation(ValueTracker):  64%|######4   | 192/300 [01:23<01:56,  1.08s/it]"
     ]
    },
    {
     "data": {
      "text/html": [
       "<pre style=\"white-space:pre;overflow-x:auto;line-height:normal;font-family:Menlo,'DejaVu Sans Mono',consolas,'Courier New',monospace\"><span style=\"color: #7fbfbf; text-decoration-color: #7fbfbf\">[01/31/22 22:12:01] </span><span style=\"color: #800000; text-decoration-color: #800000\">WARNING </span> The method CoordinateSystem.get_graph has     <a href=\"file://C:\\Users\\thoma\\AppData\\Local\\Programs\\Python\\Python39\\lib\\site-packages\\manim\\utils\\deprecation.py\"><span style=\"color: #7f7f7f; text-decoration-color: #7f7f7f\">deprecation.py</span></a><span style=\"color: #7f7f7f; text-decoration-color: #7f7f7f\">:</span><a href=\"file://C:\\Users\\thoma\\AppData\\Local\\Programs\\Python\\Python39\\lib\\site-packages\\manim\\utils\\deprecation.py#210\"><span style=\"color: #7f7f7f; text-decoration-color: #7f7f7f\">210</span></a>\n",
       "                             been deprecated since v0.<span style=\"color: #008000; text-decoration-color: #008000\">11.0</span> and is expected                   \n",
       "                             to be removed after v0.<span style=\"color: #008000; text-decoration-color: #008000\">13.0</span>. Use plot                           \n",
       "                             instead.                                                        \n",
       "</pre>\n"
      ],
      "text/plain": [
       "\u001b[2;36m[01/31/22 22:12:01]\u001b[0m\u001b[2;36m \u001b[0m\u001b[31mWARNING \u001b[0m The method CoordinateSystem.get_graph has     \u001b]8;id=275577;file://C:\\Users\\thoma\\AppData\\Local\\Programs\\Python\\Python39\\lib\\site-packages\\manim\\utils\\deprecation.py\u001b\\\u001b[2mdeprecation.py\u001b[0m\u001b]8;;\u001b\\\u001b[2m:\u001b[0m\u001b]8;id=427241;file://C:\\Users\\thoma\\AppData\\Local\\Programs\\Python\\Python39\\lib\\site-packages\\manim\\utils\\deprecation.py#210\u001b\\\u001b[2m210\u001b[0m\u001b]8;;\u001b\\\n",
       "                             been deprecated since v0.\u001b[32m11.0\u001b[0m and is expected                   \n",
       "                             to be removed after v0.\u001b[32m13.0\u001b[0m. Use plot                           \n",
       "                             instead.                                                        \n"
      ]
     },
     "metadata": {},
     "output_type": "display_data"
    },
    {
     "name": "stderr",
     "output_type": "stream",
     "text": [
      "Animation 1: _MethodAnimation(ValueTracker):  64%|######4   | 193/300 [01:25<02:07,  1.19s/it]"
     ]
    },
    {
     "data": {
      "text/html": [
       "<pre style=\"white-space:pre;overflow-x:auto;line-height:normal;font-family:Menlo,'DejaVu Sans Mono',consolas,'Courier New',monospace\"><span style=\"color: #7fbfbf; text-decoration-color: #7fbfbf\">[01/31/22 22:12:02] </span><span style=\"color: #800000; text-decoration-color: #800000\">WARNING </span> The method CoordinateSystem.get_graph has     <a href=\"file://C:\\Users\\thoma\\AppData\\Local\\Programs\\Python\\Python39\\lib\\site-packages\\manim\\utils\\deprecation.py\"><span style=\"color: #7f7f7f; text-decoration-color: #7f7f7f\">deprecation.py</span></a><span style=\"color: #7f7f7f; text-decoration-color: #7f7f7f\">:</span><a href=\"file://C:\\Users\\thoma\\AppData\\Local\\Programs\\Python\\Python39\\lib\\site-packages\\manim\\utils\\deprecation.py#210\"><span style=\"color: #7f7f7f; text-decoration-color: #7f7f7f\">210</span></a>\n",
       "                             been deprecated since v0.<span style=\"color: #008000; text-decoration-color: #008000\">11.0</span> and is expected                   \n",
       "                             to be removed after v0.<span style=\"color: #008000; text-decoration-color: #008000\">13.0</span>. Use plot                           \n",
       "                             instead.                                                        \n",
       "</pre>\n"
      ],
      "text/plain": [
       "\u001b[2;36m[01/31/22 22:12:02]\u001b[0m\u001b[2;36m \u001b[0m\u001b[31mWARNING \u001b[0m The method CoordinateSystem.get_graph has     \u001b]8;id=986563;file://C:\\Users\\thoma\\AppData\\Local\\Programs\\Python\\Python39\\lib\\site-packages\\manim\\utils\\deprecation.py\u001b\\\u001b[2mdeprecation.py\u001b[0m\u001b]8;;\u001b\\\u001b[2m:\u001b[0m\u001b]8;id=724499;file://C:\\Users\\thoma\\AppData\\Local\\Programs\\Python\\Python39\\lib\\site-packages\\manim\\utils\\deprecation.py#210\u001b\\\u001b[2m210\u001b[0m\u001b]8;;\u001b\\\n",
       "                             been deprecated since v0.\u001b[32m11.0\u001b[0m and is expected                   \n",
       "                             to be removed after v0.\u001b[32m13.0\u001b[0m. Use plot                           \n",
       "                             instead.                                                        \n"
      ]
     },
     "metadata": {},
     "output_type": "display_data"
    },
    {
     "name": "stderr",
     "output_type": "stream",
     "text": [
      "Animation 1: _MethodAnimation(ValueTracker):  65%|######4   | 194/300 [01:26<02:07,  1.20s/it]"
     ]
    },
    {
     "data": {
      "text/html": [
       "<pre style=\"white-space:pre;overflow-x:auto;line-height:normal;font-family:Menlo,'DejaVu Sans Mono',consolas,'Courier New',monospace\"><span style=\"color: #7fbfbf; text-decoration-color: #7fbfbf\">[01/31/22 22:12:03] </span><span style=\"color: #800000; text-decoration-color: #800000\">WARNING </span> The method CoordinateSystem.get_graph has     <a href=\"file://C:\\Users\\thoma\\AppData\\Local\\Programs\\Python\\Python39\\lib\\site-packages\\manim\\utils\\deprecation.py\"><span style=\"color: #7f7f7f; text-decoration-color: #7f7f7f\">deprecation.py</span></a><span style=\"color: #7f7f7f; text-decoration-color: #7f7f7f\">:</span><a href=\"file://C:\\Users\\thoma\\AppData\\Local\\Programs\\Python\\Python39\\lib\\site-packages\\manim\\utils\\deprecation.py#210\"><span style=\"color: #7f7f7f; text-decoration-color: #7f7f7f\">210</span></a>\n",
       "                             been deprecated since v0.<span style=\"color: #008000; text-decoration-color: #008000\">11.0</span> and is expected                   \n",
       "                             to be removed after v0.<span style=\"color: #008000; text-decoration-color: #008000\">13.0</span>. Use plot                           \n",
       "                             instead.                                                        \n",
       "</pre>\n"
      ],
      "text/plain": [
       "\u001b[2;36m[01/31/22 22:12:03]\u001b[0m\u001b[2;36m \u001b[0m\u001b[31mWARNING \u001b[0m The method CoordinateSystem.get_graph has     \u001b]8;id=716286;file://C:\\Users\\thoma\\AppData\\Local\\Programs\\Python\\Python39\\lib\\site-packages\\manim\\utils\\deprecation.py\u001b\\\u001b[2mdeprecation.py\u001b[0m\u001b]8;;\u001b\\\u001b[2m:\u001b[0m\u001b]8;id=469593;file://C:\\Users\\thoma\\AppData\\Local\\Programs\\Python\\Python39\\lib\\site-packages\\manim\\utils\\deprecation.py#210\u001b\\\u001b[2m210\u001b[0m\u001b]8;;\u001b\\\n",
       "                             been deprecated since v0.\u001b[32m11.0\u001b[0m and is expected                   \n",
       "                             to be removed after v0.\u001b[32m13.0\u001b[0m. Use plot                           \n",
       "                             instead.                                                        \n"
      ]
     },
     "metadata": {},
     "output_type": "display_data"
    },
    {
     "name": "stderr",
     "output_type": "stream",
     "text": [
      "Animation 1: _MethodAnimation(ValueTracker):  65%|######5   | 195/300 [01:27<01:58,  1.13s/it]"
     ]
    },
    {
     "data": {
      "text/html": [
       "<pre style=\"white-space:pre;overflow-x:auto;line-height:normal;font-family:Menlo,'DejaVu Sans Mono',consolas,'Courier New',monospace\"><span style=\"color: #7fbfbf; text-decoration-color: #7fbfbf\">[01/31/22 22:12:04] </span><span style=\"color: #800000; text-decoration-color: #800000\">WARNING </span> The method CoordinateSystem.get_graph has     <a href=\"file://C:\\Users\\thoma\\AppData\\Local\\Programs\\Python\\Python39\\lib\\site-packages\\manim\\utils\\deprecation.py\"><span style=\"color: #7f7f7f; text-decoration-color: #7f7f7f\">deprecation.py</span></a><span style=\"color: #7f7f7f; text-decoration-color: #7f7f7f\">:</span><a href=\"file://C:\\Users\\thoma\\AppData\\Local\\Programs\\Python\\Python39\\lib\\site-packages\\manim\\utils\\deprecation.py#210\"><span style=\"color: #7f7f7f; text-decoration-color: #7f7f7f\">210</span></a>\n",
       "                             been deprecated since v0.<span style=\"color: #008000; text-decoration-color: #008000\">11.0</span> and is expected                   \n",
       "                             to be removed after v0.<span style=\"color: #008000; text-decoration-color: #008000\">13.0</span>. Use plot                           \n",
       "                             instead.                                                        \n",
       "</pre>\n"
      ],
      "text/plain": [
       "\u001b[2;36m[01/31/22 22:12:04]\u001b[0m\u001b[2;36m \u001b[0m\u001b[31mWARNING \u001b[0m The method CoordinateSystem.get_graph has     \u001b]8;id=524240;file://C:\\Users\\thoma\\AppData\\Local\\Programs\\Python\\Python39\\lib\\site-packages\\manim\\utils\\deprecation.py\u001b\\\u001b[2mdeprecation.py\u001b[0m\u001b]8;;\u001b\\\u001b[2m:\u001b[0m\u001b]8;id=861299;file://C:\\Users\\thoma\\AppData\\Local\\Programs\\Python\\Python39\\lib\\site-packages\\manim\\utils\\deprecation.py#210\u001b\\\u001b[2m210\u001b[0m\u001b]8;;\u001b\\\n",
       "                             been deprecated since v0.\u001b[32m11.0\u001b[0m and is expected                   \n",
       "                             to be removed after v0.\u001b[32m13.0\u001b[0m. Use plot                           \n",
       "                             instead.                                                        \n"
      ]
     },
     "metadata": {},
     "output_type": "display_data"
    },
    {
     "name": "stderr",
     "output_type": "stream",
     "text": [
      "Animation 1: _MethodAnimation(ValueTracker):  65%|######5   | 196/300 [01:28<01:56,  1.12s/it]"
     ]
    },
    {
     "data": {
      "text/html": [
       "<pre style=\"white-space:pre;overflow-x:auto;line-height:normal;font-family:Menlo,'DejaVu Sans Mono',consolas,'Courier New',monospace\"><span style=\"color: #7fbfbf; text-decoration-color: #7fbfbf\">[01/31/22 22:12:05] </span><span style=\"color: #800000; text-decoration-color: #800000\">WARNING </span> The method CoordinateSystem.get_graph has     <a href=\"file://C:\\Users\\thoma\\AppData\\Local\\Programs\\Python\\Python39\\lib\\site-packages\\manim\\utils\\deprecation.py\"><span style=\"color: #7f7f7f; text-decoration-color: #7f7f7f\">deprecation.py</span></a><span style=\"color: #7f7f7f; text-decoration-color: #7f7f7f\">:</span><a href=\"file://C:\\Users\\thoma\\AppData\\Local\\Programs\\Python\\Python39\\lib\\site-packages\\manim\\utils\\deprecation.py#210\"><span style=\"color: #7f7f7f; text-decoration-color: #7f7f7f\">210</span></a>\n",
       "                             been deprecated since v0.<span style=\"color: #008000; text-decoration-color: #008000\">11.0</span> and is expected                   \n",
       "                             to be removed after v0.<span style=\"color: #008000; text-decoration-color: #008000\">13.0</span>. Use plot                           \n",
       "                             instead.                                                        \n",
       "</pre>\n"
      ],
      "text/plain": [
       "\u001b[2;36m[01/31/22 22:12:05]\u001b[0m\u001b[2;36m \u001b[0m\u001b[31mWARNING \u001b[0m The method CoordinateSystem.get_graph has     \u001b]8;id=242561;file://C:\\Users\\thoma\\AppData\\Local\\Programs\\Python\\Python39\\lib\\site-packages\\manim\\utils\\deprecation.py\u001b\\\u001b[2mdeprecation.py\u001b[0m\u001b]8;;\u001b\\\u001b[2m:\u001b[0m\u001b]8;id=925852;file://C:\\Users\\thoma\\AppData\\Local\\Programs\\Python\\Python39\\lib\\site-packages\\manim\\utils\\deprecation.py#210\u001b\\\u001b[2m210\u001b[0m\u001b]8;;\u001b\\\n",
       "                             been deprecated since v0.\u001b[32m11.0\u001b[0m and is expected                   \n",
       "                             to be removed after v0.\u001b[32m13.0\u001b[0m. Use plot                           \n",
       "                             instead.                                                        \n"
      ]
     },
     "metadata": {},
     "output_type": "display_data"
    },
    {
     "name": "stderr",
     "output_type": "stream",
     "text": [
      "Animation 1: _MethodAnimation(ValueTracker):  66%|######5   | 197/300 [01:29<01:55,  1.12s/it]"
     ]
    },
    {
     "data": {
      "text/html": [
       "<pre style=\"white-space:pre;overflow-x:auto;line-height:normal;font-family:Menlo,'DejaVu Sans Mono',consolas,'Courier New',monospace\"><span style=\"color: #7fbfbf; text-decoration-color: #7fbfbf\">[01/31/22 22:12:06] </span><span style=\"color: #800000; text-decoration-color: #800000\">WARNING </span> The method CoordinateSystem.get_graph has     <a href=\"file://C:\\Users\\thoma\\AppData\\Local\\Programs\\Python\\Python39\\lib\\site-packages\\manim\\utils\\deprecation.py\"><span style=\"color: #7f7f7f; text-decoration-color: #7f7f7f\">deprecation.py</span></a><span style=\"color: #7f7f7f; text-decoration-color: #7f7f7f\">:</span><a href=\"file://C:\\Users\\thoma\\AppData\\Local\\Programs\\Python\\Python39\\lib\\site-packages\\manim\\utils\\deprecation.py#210\"><span style=\"color: #7f7f7f; text-decoration-color: #7f7f7f\">210</span></a>\n",
       "                             been deprecated since v0.<span style=\"color: #008000; text-decoration-color: #008000\">11.0</span> and is expected                   \n",
       "                             to be removed after v0.<span style=\"color: #008000; text-decoration-color: #008000\">13.0</span>. Use plot                           \n",
       "                             instead.                                                        \n",
       "</pre>\n"
      ],
      "text/plain": [
       "\u001b[2;36m[01/31/22 22:12:06]\u001b[0m\u001b[2;36m \u001b[0m\u001b[31mWARNING \u001b[0m The method CoordinateSystem.get_graph has     \u001b]8;id=454465;file://C:\\Users\\thoma\\AppData\\Local\\Programs\\Python\\Python39\\lib\\site-packages\\manim\\utils\\deprecation.py\u001b\\\u001b[2mdeprecation.py\u001b[0m\u001b]8;;\u001b\\\u001b[2m:\u001b[0m\u001b]8;id=631240;file://C:\\Users\\thoma\\AppData\\Local\\Programs\\Python\\Python39\\lib\\site-packages\\manim\\utils\\deprecation.py#210\u001b\\\u001b[2m210\u001b[0m\u001b]8;;\u001b\\\n",
       "                             been deprecated since v0.\u001b[32m11.0\u001b[0m and is expected                   \n",
       "                             to be removed after v0.\u001b[32m13.0\u001b[0m. Use plot                           \n",
       "                             instead.                                                        \n"
      ]
     },
     "metadata": {},
     "output_type": "display_data"
    },
    {
     "name": "stderr",
     "output_type": "stream",
     "text": [
      "Animation 1: _MethodAnimation(ValueTracker):  66%|######6   | 198/300 [01:30<01:49,  1.08s/it]"
     ]
    },
    {
     "data": {
      "text/html": [
       "<pre style=\"white-space:pre;overflow-x:auto;line-height:normal;font-family:Menlo,'DejaVu Sans Mono',consolas,'Courier New',monospace\"><span style=\"color: #7fbfbf; text-decoration-color: #7fbfbf\">[01/31/22 22:12:07] </span><span style=\"color: #800000; text-decoration-color: #800000\">WARNING </span> The method CoordinateSystem.get_graph has     <a href=\"file://C:\\Users\\thoma\\AppData\\Local\\Programs\\Python\\Python39\\lib\\site-packages\\manim\\utils\\deprecation.py\"><span style=\"color: #7f7f7f; text-decoration-color: #7f7f7f\">deprecation.py</span></a><span style=\"color: #7f7f7f; text-decoration-color: #7f7f7f\">:</span><a href=\"file://C:\\Users\\thoma\\AppData\\Local\\Programs\\Python\\Python39\\lib\\site-packages\\manim\\utils\\deprecation.py#210\"><span style=\"color: #7f7f7f; text-decoration-color: #7f7f7f\">210</span></a>\n",
       "                             been deprecated since v0.<span style=\"color: #008000; text-decoration-color: #008000\">11.0</span> and is expected                   \n",
       "                             to be removed after v0.<span style=\"color: #008000; text-decoration-color: #008000\">13.0</span>. Use plot                           \n",
       "                             instead.                                                        \n",
       "</pre>\n"
      ],
      "text/plain": [
       "\u001b[2;36m[01/31/22 22:12:07]\u001b[0m\u001b[2;36m \u001b[0m\u001b[31mWARNING \u001b[0m The method CoordinateSystem.get_graph has     \u001b]8;id=84840;file://C:\\Users\\thoma\\AppData\\Local\\Programs\\Python\\Python39\\lib\\site-packages\\manim\\utils\\deprecation.py\u001b\\\u001b[2mdeprecation.py\u001b[0m\u001b]8;;\u001b\\\u001b[2m:\u001b[0m\u001b]8;id=688285;file://C:\\Users\\thoma\\AppData\\Local\\Programs\\Python\\Python39\\lib\\site-packages\\manim\\utils\\deprecation.py#210\u001b\\\u001b[2m210\u001b[0m\u001b]8;;\u001b\\\n",
       "                             been deprecated since v0.\u001b[32m11.0\u001b[0m and is expected                   \n",
       "                             to be removed after v0.\u001b[32m13.0\u001b[0m. Use plot                           \n",
       "                             instead.                                                        \n"
      ]
     },
     "metadata": {},
     "output_type": "display_data"
    },
    {
     "name": "stderr",
     "output_type": "stream",
     "text": [
      "Animation 1: _MethodAnimation(ValueTracker):  66%|######6   | 199/300 [01:31<01:49,  1.09s/it]"
     ]
    },
    {
     "data": {
      "text/html": [
       "<pre style=\"white-space:pre;overflow-x:auto;line-height:normal;font-family:Menlo,'DejaVu Sans Mono',consolas,'Courier New',monospace\"><span style=\"color: #7fbfbf; text-decoration-color: #7fbfbf\">[01/31/22 22:12:08] </span><span style=\"color: #800000; text-decoration-color: #800000\">WARNING </span> The method CoordinateSystem.get_graph has     <a href=\"file://C:\\Users\\thoma\\AppData\\Local\\Programs\\Python\\Python39\\lib\\site-packages\\manim\\utils\\deprecation.py\"><span style=\"color: #7f7f7f; text-decoration-color: #7f7f7f\">deprecation.py</span></a><span style=\"color: #7f7f7f; text-decoration-color: #7f7f7f\">:</span><a href=\"file://C:\\Users\\thoma\\AppData\\Local\\Programs\\Python\\Python39\\lib\\site-packages\\manim\\utils\\deprecation.py#210\"><span style=\"color: #7f7f7f; text-decoration-color: #7f7f7f\">210</span></a>\n",
       "                             been deprecated since v0.<span style=\"color: #008000; text-decoration-color: #008000\">11.0</span> and is expected                   \n",
       "                             to be removed after v0.<span style=\"color: #008000; text-decoration-color: #008000\">13.0</span>. Use plot                           \n",
       "                             instead.                                                        \n",
       "</pre>\n"
      ],
      "text/plain": [
       "\u001b[2;36m[01/31/22 22:12:08]\u001b[0m\u001b[2;36m \u001b[0m\u001b[31mWARNING \u001b[0m The method CoordinateSystem.get_graph has     \u001b]8;id=916558;file://C:\\Users\\thoma\\AppData\\Local\\Programs\\Python\\Python39\\lib\\site-packages\\manim\\utils\\deprecation.py\u001b\\\u001b[2mdeprecation.py\u001b[0m\u001b]8;;\u001b\\\u001b[2m:\u001b[0m\u001b]8;id=58327;file://C:\\Users\\thoma\\AppData\\Local\\Programs\\Python\\Python39\\lib\\site-packages\\manim\\utils\\deprecation.py#210\u001b\\\u001b[2m210\u001b[0m\u001b]8;;\u001b\\\n",
       "                             been deprecated since v0.\u001b[32m11.0\u001b[0m and is expected                   \n",
       "                             to be removed after v0.\u001b[32m13.0\u001b[0m. Use plot                           \n",
       "                             instead.                                                        \n"
      ]
     },
     "metadata": {},
     "output_type": "display_data"
    },
    {
     "name": "stderr",
     "output_type": "stream",
     "text": [
      "Animation 1: _MethodAnimation(ValueTracker):  67%|######6   | 200/300 [01:33<01:55,  1.16s/it]"
     ]
    },
    {
     "data": {
      "text/html": [
       "<pre style=\"white-space:pre;overflow-x:auto;line-height:normal;font-family:Menlo,'DejaVu Sans Mono',consolas,'Courier New',monospace\"><span style=\"color: #7fbfbf; text-decoration-color: #7fbfbf\">[01/31/22 22:12:10] </span><span style=\"color: #800000; text-decoration-color: #800000\">WARNING </span> The method CoordinateSystem.get_graph has     <a href=\"file://C:\\Users\\thoma\\AppData\\Local\\Programs\\Python\\Python39\\lib\\site-packages\\manim\\utils\\deprecation.py\"><span style=\"color: #7f7f7f; text-decoration-color: #7f7f7f\">deprecation.py</span></a><span style=\"color: #7f7f7f; text-decoration-color: #7f7f7f\">:</span><a href=\"file://C:\\Users\\thoma\\AppData\\Local\\Programs\\Python\\Python39\\lib\\site-packages\\manim\\utils\\deprecation.py#210\"><span style=\"color: #7f7f7f; text-decoration-color: #7f7f7f\">210</span></a>\n",
       "                             been deprecated since v0.<span style=\"color: #008000; text-decoration-color: #008000\">11.0</span> and is expected                   \n",
       "                             to be removed after v0.<span style=\"color: #008000; text-decoration-color: #008000\">13.0</span>. Use plot                           \n",
       "                             instead.                                                        \n",
       "</pre>\n"
      ],
      "text/plain": [
       "\u001b[2;36m[01/31/22 22:12:10]\u001b[0m\u001b[2;36m \u001b[0m\u001b[31mWARNING \u001b[0m The method CoordinateSystem.get_graph has     \u001b]8;id=613710;file://C:\\Users\\thoma\\AppData\\Local\\Programs\\Python\\Python39\\lib\\site-packages\\manim\\utils\\deprecation.py\u001b\\\u001b[2mdeprecation.py\u001b[0m\u001b]8;;\u001b\\\u001b[2m:\u001b[0m\u001b]8;id=930163;file://C:\\Users\\thoma\\AppData\\Local\\Programs\\Python\\Python39\\lib\\site-packages\\manim\\utils\\deprecation.py#210\u001b\\\u001b[2m210\u001b[0m\u001b]8;;\u001b\\\n",
       "                             been deprecated since v0.\u001b[32m11.0\u001b[0m and is expected                   \n",
       "                             to be removed after v0.\u001b[32m13.0\u001b[0m. Use plot                           \n",
       "                             instead.                                                        \n"
      ]
     },
     "metadata": {},
     "output_type": "display_data"
    },
    {
     "name": "stderr",
     "output_type": "stream",
     "text": [
      "Animation 1: _MethodAnimation(ValueTracker):  67%|######7   | 201/300 [01:34<01:54,  1.16s/it]"
     ]
    },
    {
     "data": {
      "text/html": [
       "<pre style=\"white-space:pre;overflow-x:auto;line-height:normal;font-family:Menlo,'DejaVu Sans Mono',consolas,'Courier New',monospace\"><span style=\"color: #7fbfbf; text-decoration-color: #7fbfbf\">[01/31/22 22:12:11] </span><span style=\"color: #800000; text-decoration-color: #800000\">WARNING </span> The method CoordinateSystem.get_graph has     <a href=\"file://C:\\Users\\thoma\\AppData\\Local\\Programs\\Python\\Python39\\lib\\site-packages\\manim\\utils\\deprecation.py\"><span style=\"color: #7f7f7f; text-decoration-color: #7f7f7f\">deprecation.py</span></a><span style=\"color: #7f7f7f; text-decoration-color: #7f7f7f\">:</span><a href=\"file://C:\\Users\\thoma\\AppData\\Local\\Programs\\Python\\Python39\\lib\\site-packages\\manim\\utils\\deprecation.py#210\"><span style=\"color: #7f7f7f; text-decoration-color: #7f7f7f\">210</span></a>\n",
       "                             been deprecated since v0.<span style=\"color: #008000; text-decoration-color: #008000\">11.0</span> and is expected                   \n",
       "                             to be removed after v0.<span style=\"color: #008000; text-decoration-color: #008000\">13.0</span>. Use plot                           \n",
       "                             instead.                                                        \n",
       "</pre>\n"
      ],
      "text/plain": [
       "\u001b[2;36m[01/31/22 22:12:11]\u001b[0m\u001b[2;36m \u001b[0m\u001b[31mWARNING \u001b[0m The method CoordinateSystem.get_graph has     \u001b]8;id=793710;file://C:\\Users\\thoma\\AppData\\Local\\Programs\\Python\\Python39\\lib\\site-packages\\manim\\utils\\deprecation.py\u001b\\\u001b[2mdeprecation.py\u001b[0m\u001b]8;;\u001b\\\u001b[2m:\u001b[0m\u001b]8;id=609646;file://C:\\Users\\thoma\\AppData\\Local\\Programs\\Python\\Python39\\lib\\site-packages\\manim\\utils\\deprecation.py#210\u001b\\\u001b[2m210\u001b[0m\u001b]8;;\u001b\\\n",
       "                             been deprecated since v0.\u001b[32m11.0\u001b[0m and is expected                   \n",
       "                             to be removed after v0.\u001b[32m13.0\u001b[0m. Use plot                           \n",
       "                             instead.                                                        \n"
      ]
     },
     "metadata": {},
     "output_type": "display_data"
    },
    {
     "name": "stderr",
     "output_type": "stream",
     "text": [
      "Animation 1: _MethodAnimation(ValueTracker):  67%|######7   | 202/300 [01:35<01:49,  1.12s/it]"
     ]
    },
    {
     "data": {
      "text/html": [
       "<pre style=\"white-space:pre;overflow-x:auto;line-height:normal;font-family:Menlo,'DejaVu Sans Mono',consolas,'Courier New',monospace\"><span style=\"color: #7fbfbf; text-decoration-color: #7fbfbf\">[01/31/22 22:12:12] </span><span style=\"color: #800000; text-decoration-color: #800000\">WARNING </span> The method CoordinateSystem.get_graph has     <a href=\"file://C:\\Users\\thoma\\AppData\\Local\\Programs\\Python\\Python39\\lib\\site-packages\\manim\\utils\\deprecation.py\"><span style=\"color: #7f7f7f; text-decoration-color: #7f7f7f\">deprecation.py</span></a><span style=\"color: #7f7f7f; text-decoration-color: #7f7f7f\">:</span><a href=\"file://C:\\Users\\thoma\\AppData\\Local\\Programs\\Python\\Python39\\lib\\site-packages\\manim\\utils\\deprecation.py#210\"><span style=\"color: #7f7f7f; text-decoration-color: #7f7f7f\">210</span></a>\n",
       "                             been deprecated since v0.<span style=\"color: #008000; text-decoration-color: #008000\">11.0</span> and is expected                   \n",
       "                             to be removed after v0.<span style=\"color: #008000; text-decoration-color: #008000\">13.0</span>. Use plot                           \n",
       "                             instead.                                                        \n",
       "</pre>\n"
      ],
      "text/plain": [
       "\u001b[2;36m[01/31/22 22:12:12]\u001b[0m\u001b[2;36m \u001b[0m\u001b[31mWARNING \u001b[0m The method CoordinateSystem.get_graph has     \u001b]8;id=622391;file://C:\\Users\\thoma\\AppData\\Local\\Programs\\Python\\Python39\\lib\\site-packages\\manim\\utils\\deprecation.py\u001b\\\u001b[2mdeprecation.py\u001b[0m\u001b]8;;\u001b\\\u001b[2m:\u001b[0m\u001b]8;id=207913;file://C:\\Users\\thoma\\AppData\\Local\\Programs\\Python\\Python39\\lib\\site-packages\\manim\\utils\\deprecation.py#210\u001b\\\u001b[2m210\u001b[0m\u001b]8;;\u001b\\\n",
       "                             been deprecated since v0.\u001b[32m11.0\u001b[0m and is expected                   \n",
       "                             to be removed after v0.\u001b[32m13.0\u001b[0m. Use plot                           \n",
       "                             instead.                                                        \n"
      ]
     },
     "metadata": {},
     "output_type": "display_data"
    },
    {
     "name": "stderr",
     "output_type": "stream",
     "text": [
      "Animation 1: _MethodAnimation(ValueTracker):  68%|######7   | 203/300 [01:36<01:46,  1.10s/it]"
     ]
    },
    {
     "data": {
      "text/html": [
       "<pre style=\"white-space:pre;overflow-x:auto;line-height:normal;font-family:Menlo,'DejaVu Sans Mono',consolas,'Courier New',monospace\"><span style=\"color: #7fbfbf; text-decoration-color: #7fbfbf\">[01/31/22 22:12:13] </span><span style=\"color: #800000; text-decoration-color: #800000\">WARNING </span> The method CoordinateSystem.get_graph has     <a href=\"file://C:\\Users\\thoma\\AppData\\Local\\Programs\\Python\\Python39\\lib\\site-packages\\manim\\utils\\deprecation.py\"><span style=\"color: #7f7f7f; text-decoration-color: #7f7f7f\">deprecation.py</span></a><span style=\"color: #7f7f7f; text-decoration-color: #7f7f7f\">:</span><a href=\"file://C:\\Users\\thoma\\AppData\\Local\\Programs\\Python\\Python39\\lib\\site-packages\\manim\\utils\\deprecation.py#210\"><span style=\"color: #7f7f7f; text-decoration-color: #7f7f7f\">210</span></a>\n",
       "                             been deprecated since v0.<span style=\"color: #008000; text-decoration-color: #008000\">11.0</span> and is expected                   \n",
       "                             to be removed after v0.<span style=\"color: #008000; text-decoration-color: #008000\">13.0</span>. Use plot                           \n",
       "                             instead.                                                        \n",
       "</pre>\n"
      ],
      "text/plain": [
       "\u001b[2;36m[01/31/22 22:12:13]\u001b[0m\u001b[2;36m \u001b[0m\u001b[31mWARNING \u001b[0m The method CoordinateSystem.get_graph has     \u001b]8;id=397978;file://C:\\Users\\thoma\\AppData\\Local\\Programs\\Python\\Python39\\lib\\site-packages\\manim\\utils\\deprecation.py\u001b\\\u001b[2mdeprecation.py\u001b[0m\u001b]8;;\u001b\\\u001b[2m:\u001b[0m\u001b]8;id=439685;file://C:\\Users\\thoma\\AppData\\Local\\Programs\\Python\\Python39\\lib\\site-packages\\manim\\utils\\deprecation.py#210\u001b\\\u001b[2m210\u001b[0m\u001b]8;;\u001b\\\n",
       "                             been deprecated since v0.\u001b[32m11.0\u001b[0m and is expected                   \n",
       "                             to be removed after v0.\u001b[32m13.0\u001b[0m. Use plot                           \n",
       "                             instead.                                                        \n"
      ]
     },
     "metadata": {},
     "output_type": "display_data"
    },
    {
     "name": "stderr",
     "output_type": "stream",
     "text": [
      "Animation 1: _MethodAnimation(ValueTracker):  68%|######8   | 204/300 [01:37<01:44,  1.09s/it]"
     ]
    },
    {
     "data": {
      "text/html": [
       "<pre style=\"white-space:pre;overflow-x:auto;line-height:normal;font-family:Menlo,'DejaVu Sans Mono',consolas,'Courier New',monospace\"><span style=\"color: #7fbfbf; text-decoration-color: #7fbfbf\">[01/31/22 22:12:14] </span><span style=\"color: #800000; text-decoration-color: #800000\">WARNING </span> The method CoordinateSystem.get_graph has     <a href=\"file://C:\\Users\\thoma\\AppData\\Local\\Programs\\Python\\Python39\\lib\\site-packages\\manim\\utils\\deprecation.py\"><span style=\"color: #7f7f7f; text-decoration-color: #7f7f7f\">deprecation.py</span></a><span style=\"color: #7f7f7f; text-decoration-color: #7f7f7f\">:</span><a href=\"file://C:\\Users\\thoma\\AppData\\Local\\Programs\\Python\\Python39\\lib\\site-packages\\manim\\utils\\deprecation.py#210\"><span style=\"color: #7f7f7f; text-decoration-color: #7f7f7f\">210</span></a>\n",
       "                             been deprecated since v0.<span style=\"color: #008000; text-decoration-color: #008000\">11.0</span> and is expected                   \n",
       "                             to be removed after v0.<span style=\"color: #008000; text-decoration-color: #008000\">13.0</span>. Use plot                           \n",
       "                             instead.                                                        \n",
       "</pre>\n"
      ],
      "text/plain": [
       "\u001b[2;36m[01/31/22 22:12:14]\u001b[0m\u001b[2;36m \u001b[0m\u001b[31mWARNING \u001b[0m The method CoordinateSystem.get_graph has     \u001b]8;id=666154;file://C:\\Users\\thoma\\AppData\\Local\\Programs\\Python\\Python39\\lib\\site-packages\\manim\\utils\\deprecation.py\u001b\\\u001b[2mdeprecation.py\u001b[0m\u001b]8;;\u001b\\\u001b[2m:\u001b[0m\u001b]8;id=910698;file://C:\\Users\\thoma\\AppData\\Local\\Programs\\Python\\Python39\\lib\\site-packages\\manim\\utils\\deprecation.py#210\u001b\\\u001b[2m210\u001b[0m\u001b]8;;\u001b\\\n",
       "                             been deprecated since v0.\u001b[32m11.0\u001b[0m and is expected                   \n",
       "                             to be removed after v0.\u001b[32m13.0\u001b[0m. Use plot                           \n",
       "                             instead.                                                        \n"
      ]
     },
     "metadata": {},
     "output_type": "display_data"
    },
    {
     "name": "stderr",
     "output_type": "stream",
     "text": [
      "Animation 1: _MethodAnimation(ValueTracker):  68%|######8   | 205/300 [01:38<01:55,  1.21s/it]"
     ]
    },
    {
     "data": {
      "text/html": [
       "<pre style=\"white-space:pre;overflow-x:auto;line-height:normal;font-family:Menlo,'DejaVu Sans Mono',consolas,'Courier New',monospace\"><span style=\"color: #7fbfbf; text-decoration-color: #7fbfbf\">[01/31/22 22:12:16] </span><span style=\"color: #800000; text-decoration-color: #800000\">WARNING </span> The method CoordinateSystem.get_graph has     <a href=\"file://C:\\Users\\thoma\\AppData\\Local\\Programs\\Python\\Python39\\lib\\site-packages\\manim\\utils\\deprecation.py\"><span style=\"color: #7f7f7f; text-decoration-color: #7f7f7f\">deprecation.py</span></a><span style=\"color: #7f7f7f; text-decoration-color: #7f7f7f\">:</span><a href=\"file://C:\\Users\\thoma\\AppData\\Local\\Programs\\Python\\Python39\\lib\\site-packages\\manim\\utils\\deprecation.py#210\"><span style=\"color: #7f7f7f; text-decoration-color: #7f7f7f\">210</span></a>\n",
       "                             been deprecated since v0.<span style=\"color: #008000; text-decoration-color: #008000\">11.0</span> and is expected                   \n",
       "                             to be removed after v0.<span style=\"color: #008000; text-decoration-color: #008000\">13.0</span>. Use plot                           \n",
       "                             instead.                                                        \n",
       "</pre>\n"
      ],
      "text/plain": [
       "\u001b[2;36m[01/31/22 22:12:16]\u001b[0m\u001b[2;36m \u001b[0m\u001b[31mWARNING \u001b[0m The method CoordinateSystem.get_graph has     \u001b]8;id=208144;file://C:\\Users\\thoma\\AppData\\Local\\Programs\\Python\\Python39\\lib\\site-packages\\manim\\utils\\deprecation.py\u001b\\\u001b[2mdeprecation.py\u001b[0m\u001b]8;;\u001b\\\u001b[2m:\u001b[0m\u001b]8;id=551094;file://C:\\Users\\thoma\\AppData\\Local\\Programs\\Python\\Python39\\lib\\site-packages\\manim\\utils\\deprecation.py#210\u001b\\\u001b[2m210\u001b[0m\u001b]8;;\u001b\\\n",
       "                             been deprecated since v0.\u001b[32m11.0\u001b[0m and is expected                   \n",
       "                             to be removed after v0.\u001b[32m13.0\u001b[0m. Use plot                           \n",
       "                             instead.                                                        \n"
      ]
     },
     "metadata": {},
     "output_type": "display_data"
    },
    {
     "name": "stderr",
     "output_type": "stream",
     "text": [
      "Animation 1: _MethodAnimation(ValueTracker):  69%|######8   | 206/300 [01:40<02:07,  1.36s/it]"
     ]
    },
    {
     "data": {
      "text/html": [
       "<pre style=\"white-space:pre;overflow-x:auto;line-height:normal;font-family:Menlo,'DejaVu Sans Mono',consolas,'Courier New',monospace\"><span style=\"color: #7fbfbf; text-decoration-color: #7fbfbf\">[01/31/22 22:12:17] </span><span style=\"color: #800000; text-decoration-color: #800000\">WARNING </span> The method CoordinateSystem.get_graph has     <a href=\"file://C:\\Users\\thoma\\AppData\\Local\\Programs\\Python\\Python39\\lib\\site-packages\\manim\\utils\\deprecation.py\"><span style=\"color: #7f7f7f; text-decoration-color: #7f7f7f\">deprecation.py</span></a><span style=\"color: #7f7f7f; text-decoration-color: #7f7f7f\">:</span><a href=\"file://C:\\Users\\thoma\\AppData\\Local\\Programs\\Python\\Python39\\lib\\site-packages\\manim\\utils\\deprecation.py#210\"><span style=\"color: #7f7f7f; text-decoration-color: #7f7f7f\">210</span></a>\n",
       "                             been deprecated since v0.<span style=\"color: #008000; text-decoration-color: #008000\">11.0</span> and is expected                   \n",
       "                             to be removed after v0.<span style=\"color: #008000; text-decoration-color: #008000\">13.0</span>. Use plot                           \n",
       "                             instead.                                                        \n",
       "</pre>\n"
      ],
      "text/plain": [
       "\u001b[2;36m[01/31/22 22:12:17]\u001b[0m\u001b[2;36m \u001b[0m\u001b[31mWARNING \u001b[0m The method CoordinateSystem.get_graph has     \u001b]8;id=909163;file://C:\\Users\\thoma\\AppData\\Local\\Programs\\Python\\Python39\\lib\\site-packages\\manim\\utils\\deprecation.py\u001b\\\u001b[2mdeprecation.py\u001b[0m\u001b]8;;\u001b\\\u001b[2m:\u001b[0m\u001b]8;id=287525;file://C:\\Users\\thoma\\AppData\\Local\\Programs\\Python\\Python39\\lib\\site-packages\\manim\\utils\\deprecation.py#210\u001b\\\u001b[2m210\u001b[0m\u001b]8;;\u001b\\\n",
       "                             been deprecated since v0.\u001b[32m11.0\u001b[0m and is expected                   \n",
       "                             to be removed after v0.\u001b[32m13.0\u001b[0m. Use plot                           \n",
       "                             instead.                                                        \n"
      ]
     },
     "metadata": {},
     "output_type": "display_data"
    },
    {
     "name": "stderr",
     "output_type": "stream",
     "text": [
      "Animation 1: _MethodAnimation(ValueTracker):  69%|######9   | 207/300 [01:41<02:02,  1.32s/it]"
     ]
    },
    {
     "data": {
      "text/html": [
       "<pre style=\"white-space:pre;overflow-x:auto;line-height:normal;font-family:Menlo,'DejaVu Sans Mono',consolas,'Courier New',monospace\"><span style=\"color: #7fbfbf; text-decoration-color: #7fbfbf\">[01/31/22 22:12:18] </span><span style=\"color: #800000; text-decoration-color: #800000\">WARNING </span> The method CoordinateSystem.get_graph has     <a href=\"file://C:\\Users\\thoma\\AppData\\Local\\Programs\\Python\\Python39\\lib\\site-packages\\manim\\utils\\deprecation.py\"><span style=\"color: #7f7f7f; text-decoration-color: #7f7f7f\">deprecation.py</span></a><span style=\"color: #7f7f7f; text-decoration-color: #7f7f7f\">:</span><a href=\"file://C:\\Users\\thoma\\AppData\\Local\\Programs\\Python\\Python39\\lib\\site-packages\\manim\\utils\\deprecation.py#210\"><span style=\"color: #7f7f7f; text-decoration-color: #7f7f7f\">210</span></a>\n",
       "                             been deprecated since v0.<span style=\"color: #008000; text-decoration-color: #008000\">11.0</span> and is expected                   \n",
       "                             to be removed after v0.<span style=\"color: #008000; text-decoration-color: #008000\">13.0</span>. Use plot                           \n",
       "                             instead.                                                        \n",
       "</pre>\n"
      ],
      "text/plain": [
       "\u001b[2;36m[01/31/22 22:12:18]\u001b[0m\u001b[2;36m \u001b[0m\u001b[31mWARNING \u001b[0m The method CoordinateSystem.get_graph has     \u001b]8;id=151392;file://C:\\Users\\thoma\\AppData\\Local\\Programs\\Python\\Python39\\lib\\site-packages\\manim\\utils\\deprecation.py\u001b\\\u001b[2mdeprecation.py\u001b[0m\u001b]8;;\u001b\\\u001b[2m:\u001b[0m\u001b]8;id=177288;file://C:\\Users\\thoma\\AppData\\Local\\Programs\\Python\\Python39\\lib\\site-packages\\manim\\utils\\deprecation.py#210\u001b\\\u001b[2m210\u001b[0m\u001b]8;;\u001b\\\n",
       "                             been deprecated since v0.\u001b[32m11.0\u001b[0m and is expected                   \n",
       "                             to be removed after v0.\u001b[32m13.0\u001b[0m. Use plot                           \n",
       "                             instead.                                                        \n"
      ]
     },
     "metadata": {},
     "output_type": "display_data"
    },
    {
     "name": "stderr",
     "output_type": "stream",
     "text": [
      "Animation 1: _MethodAnimation(ValueTracker):  69%|######9   | 208/300 [01:42<01:53,  1.23s/it]"
     ]
    },
    {
     "data": {
      "text/html": [
       "<pre style=\"white-space:pre;overflow-x:auto;line-height:normal;font-family:Menlo,'DejaVu Sans Mono',consolas,'Courier New',monospace\"><span style=\"color: #7fbfbf; text-decoration-color: #7fbfbf\">[01/31/22 22:12:19] </span><span style=\"color: #800000; text-decoration-color: #800000\">WARNING </span> The method CoordinateSystem.get_graph has     <a href=\"file://C:\\Users\\thoma\\AppData\\Local\\Programs\\Python\\Python39\\lib\\site-packages\\manim\\utils\\deprecation.py\"><span style=\"color: #7f7f7f; text-decoration-color: #7f7f7f\">deprecation.py</span></a><span style=\"color: #7f7f7f; text-decoration-color: #7f7f7f\">:</span><a href=\"file://C:\\Users\\thoma\\AppData\\Local\\Programs\\Python\\Python39\\lib\\site-packages\\manim\\utils\\deprecation.py#210\"><span style=\"color: #7f7f7f; text-decoration-color: #7f7f7f\">210</span></a>\n",
       "                             been deprecated since v0.<span style=\"color: #008000; text-decoration-color: #008000\">11.0</span> and is expected                   \n",
       "                             to be removed after v0.<span style=\"color: #008000; text-decoration-color: #008000\">13.0</span>. Use plot                           \n",
       "                             instead.                                                        \n",
       "</pre>\n"
      ],
      "text/plain": [
       "\u001b[2;36m[01/31/22 22:12:19]\u001b[0m\u001b[2;36m \u001b[0m\u001b[31mWARNING \u001b[0m The method CoordinateSystem.get_graph has     \u001b]8;id=870499;file://C:\\Users\\thoma\\AppData\\Local\\Programs\\Python\\Python39\\lib\\site-packages\\manim\\utils\\deprecation.py\u001b\\\u001b[2mdeprecation.py\u001b[0m\u001b]8;;\u001b\\\u001b[2m:\u001b[0m\u001b]8;id=473300;file://C:\\Users\\thoma\\AppData\\Local\\Programs\\Python\\Python39\\lib\\site-packages\\manim\\utils\\deprecation.py#210\u001b\\\u001b[2m210\u001b[0m\u001b]8;;\u001b\\\n",
       "                             been deprecated since v0.\u001b[32m11.0\u001b[0m and is expected                   \n",
       "                             to be removed after v0.\u001b[32m13.0\u001b[0m. Use plot                           \n",
       "                             instead.                                                        \n"
      ]
     },
     "metadata": {},
     "output_type": "display_data"
    },
    {
     "name": "stderr",
     "output_type": "stream",
     "text": [
      "Animation 1: _MethodAnimation(ValueTracker):  70%|######9   | 209/300 [01:44<01:52,  1.23s/it]"
     ]
    },
    {
     "data": {
      "text/html": [
       "<pre style=\"white-space:pre;overflow-x:auto;line-height:normal;font-family:Menlo,'DejaVu Sans Mono',consolas,'Courier New',monospace\"><span style=\"color: #7fbfbf; text-decoration-color: #7fbfbf\">[01/31/22 22:12:21] </span><span style=\"color: #800000; text-decoration-color: #800000\">WARNING </span> The method CoordinateSystem.get_graph has     <a href=\"file://C:\\Users\\thoma\\AppData\\Local\\Programs\\Python\\Python39\\lib\\site-packages\\manim\\utils\\deprecation.py\"><span style=\"color: #7f7f7f; text-decoration-color: #7f7f7f\">deprecation.py</span></a><span style=\"color: #7f7f7f; text-decoration-color: #7f7f7f\">:</span><a href=\"file://C:\\Users\\thoma\\AppData\\Local\\Programs\\Python\\Python39\\lib\\site-packages\\manim\\utils\\deprecation.py#210\"><span style=\"color: #7f7f7f; text-decoration-color: #7f7f7f\">210</span></a>\n",
       "                             been deprecated since v0.<span style=\"color: #008000; text-decoration-color: #008000\">11.0</span> and is expected                   \n",
       "                             to be removed after v0.<span style=\"color: #008000; text-decoration-color: #008000\">13.0</span>. Use plot                           \n",
       "                             instead.                                                        \n",
       "</pre>\n"
      ],
      "text/plain": [
       "\u001b[2;36m[01/31/22 22:12:21]\u001b[0m\u001b[2;36m \u001b[0m\u001b[31mWARNING \u001b[0m The method CoordinateSystem.get_graph has     \u001b]8;id=471400;file://C:\\Users\\thoma\\AppData\\Local\\Programs\\Python\\Python39\\lib\\site-packages\\manim\\utils\\deprecation.py\u001b\\\u001b[2mdeprecation.py\u001b[0m\u001b]8;;\u001b\\\u001b[2m:\u001b[0m\u001b]8;id=658914;file://C:\\Users\\thoma\\AppData\\Local\\Programs\\Python\\Python39\\lib\\site-packages\\manim\\utils\\deprecation.py#210\u001b\\\u001b[2m210\u001b[0m\u001b]8;;\u001b\\\n",
       "                             been deprecated since v0.\u001b[32m11.0\u001b[0m and is expected                   \n",
       "                             to be removed after v0.\u001b[32m13.0\u001b[0m. Use plot                           \n",
       "                             instead.                                                        \n"
      ]
     },
     "metadata": {},
     "output_type": "display_data"
    },
    {
     "name": "stderr",
     "output_type": "stream",
     "text": [
      "Animation 1: _MethodAnimation(ValueTracker):  70%|#######   | 210/300 [01:45<01:48,  1.20s/it]"
     ]
    },
    {
     "data": {
      "text/html": [
       "<pre style=\"white-space:pre;overflow-x:auto;line-height:normal;font-family:Menlo,'DejaVu Sans Mono',consolas,'Courier New',monospace\"><span style=\"color: #7fbfbf; text-decoration-color: #7fbfbf\">[01/31/22 22:12:22] </span><span style=\"color: #800000; text-decoration-color: #800000\">WARNING </span> The method CoordinateSystem.get_graph has     <a href=\"file://C:\\Users\\thoma\\AppData\\Local\\Programs\\Python\\Python39\\lib\\site-packages\\manim\\utils\\deprecation.py\"><span style=\"color: #7f7f7f; text-decoration-color: #7f7f7f\">deprecation.py</span></a><span style=\"color: #7f7f7f; text-decoration-color: #7f7f7f\">:</span><a href=\"file://C:\\Users\\thoma\\AppData\\Local\\Programs\\Python\\Python39\\lib\\site-packages\\manim\\utils\\deprecation.py#210\"><span style=\"color: #7f7f7f; text-decoration-color: #7f7f7f\">210</span></a>\n",
       "                             been deprecated since v0.<span style=\"color: #008000; text-decoration-color: #008000\">11.0</span> and is expected                   \n",
       "                             to be removed after v0.<span style=\"color: #008000; text-decoration-color: #008000\">13.0</span>. Use plot                           \n",
       "                             instead.                                                        \n",
       "</pre>\n"
      ],
      "text/plain": [
       "\u001b[2;36m[01/31/22 22:12:22]\u001b[0m\u001b[2;36m \u001b[0m\u001b[31mWARNING \u001b[0m The method CoordinateSystem.get_graph has     \u001b]8;id=973975;file://C:\\Users\\thoma\\AppData\\Local\\Programs\\Python\\Python39\\lib\\site-packages\\manim\\utils\\deprecation.py\u001b\\\u001b[2mdeprecation.py\u001b[0m\u001b]8;;\u001b\\\u001b[2m:\u001b[0m\u001b]8;id=578438;file://C:\\Users\\thoma\\AppData\\Local\\Programs\\Python\\Python39\\lib\\site-packages\\manim\\utils\\deprecation.py#210\u001b\\\u001b[2m210\u001b[0m\u001b]8;;\u001b\\\n",
       "                             been deprecated since v0.\u001b[32m11.0\u001b[0m and is expected                   \n",
       "                             to be removed after v0.\u001b[32m13.0\u001b[0m. Use plot                           \n",
       "                             instead.                                                        \n"
      ]
     },
     "metadata": {},
     "output_type": "display_data"
    },
    {
     "name": "stderr",
     "output_type": "stream",
     "text": [
      "Animation 1: _MethodAnimation(ValueTracker):  70%|#######   | 211/300 [01:46<01:55,  1.29s/it]"
     ]
    },
    {
     "data": {
      "text/html": [
       "<pre style=\"white-space:pre;overflow-x:auto;line-height:normal;font-family:Menlo,'DejaVu Sans Mono',consolas,'Courier New',monospace\"><span style=\"color: #7fbfbf; text-decoration-color: #7fbfbf\">[01/31/22 22:12:23] </span><span style=\"color: #800000; text-decoration-color: #800000\">WARNING </span> The method CoordinateSystem.get_graph has     <a href=\"file://C:\\Users\\thoma\\AppData\\Local\\Programs\\Python\\Python39\\lib\\site-packages\\manim\\utils\\deprecation.py\"><span style=\"color: #7f7f7f; text-decoration-color: #7f7f7f\">deprecation.py</span></a><span style=\"color: #7f7f7f; text-decoration-color: #7f7f7f\">:</span><a href=\"file://C:\\Users\\thoma\\AppData\\Local\\Programs\\Python\\Python39\\lib\\site-packages\\manim\\utils\\deprecation.py#210\"><span style=\"color: #7f7f7f; text-decoration-color: #7f7f7f\">210</span></a>\n",
       "                             been deprecated since v0.<span style=\"color: #008000; text-decoration-color: #008000\">11.0</span> and is expected                   \n",
       "                             to be removed after v0.<span style=\"color: #008000; text-decoration-color: #008000\">13.0</span>. Use plot                           \n",
       "                             instead.                                                        \n",
       "</pre>\n"
      ],
      "text/plain": [
       "\u001b[2;36m[01/31/22 22:12:23]\u001b[0m\u001b[2;36m \u001b[0m\u001b[31mWARNING \u001b[0m The method CoordinateSystem.get_graph has     \u001b]8;id=539475;file://C:\\Users\\thoma\\AppData\\Local\\Programs\\Python\\Python39\\lib\\site-packages\\manim\\utils\\deprecation.py\u001b\\\u001b[2mdeprecation.py\u001b[0m\u001b]8;;\u001b\\\u001b[2m:\u001b[0m\u001b]8;id=453483;file://C:\\Users\\thoma\\AppData\\Local\\Programs\\Python\\Python39\\lib\\site-packages\\manim\\utils\\deprecation.py#210\u001b\\\u001b[2m210\u001b[0m\u001b]8;;\u001b\\\n",
       "                             been deprecated since v0.\u001b[32m11.0\u001b[0m and is expected                   \n",
       "                             to be removed after v0.\u001b[32m13.0\u001b[0m. Use plot                           \n",
       "                             instead.                                                        \n"
      ]
     },
     "metadata": {},
     "output_type": "display_data"
    },
    {
     "name": "stderr",
     "output_type": "stream",
     "text": [
      "Animation 1: _MethodAnimation(ValueTracker):  71%|#######   | 212/300 [01:47<01:50,  1.26s/it]"
     ]
    },
    {
     "data": {
      "text/html": [
       "<pre style=\"white-space:pre;overflow-x:auto;line-height:normal;font-family:Menlo,'DejaVu Sans Mono',consolas,'Courier New',monospace\"><span style=\"color: #7fbfbf; text-decoration-color: #7fbfbf\">[01/31/22 22:12:25] </span><span style=\"color: #800000; text-decoration-color: #800000\">WARNING </span> The method CoordinateSystem.get_graph has     <a href=\"file://C:\\Users\\thoma\\AppData\\Local\\Programs\\Python\\Python39\\lib\\site-packages\\manim\\utils\\deprecation.py\"><span style=\"color: #7f7f7f; text-decoration-color: #7f7f7f\">deprecation.py</span></a><span style=\"color: #7f7f7f; text-decoration-color: #7f7f7f\">:</span><a href=\"file://C:\\Users\\thoma\\AppData\\Local\\Programs\\Python\\Python39\\lib\\site-packages\\manim\\utils\\deprecation.py#210\"><span style=\"color: #7f7f7f; text-decoration-color: #7f7f7f\">210</span></a>\n",
       "                             been deprecated since v0.<span style=\"color: #008000; text-decoration-color: #008000\">11.0</span> and is expected                   \n",
       "                             to be removed after v0.<span style=\"color: #008000; text-decoration-color: #008000\">13.0</span>. Use plot                           \n",
       "                             instead.                                                        \n",
       "</pre>\n"
      ],
      "text/plain": [
       "\u001b[2;36m[01/31/22 22:12:25]\u001b[0m\u001b[2;36m \u001b[0m\u001b[31mWARNING \u001b[0m The method CoordinateSystem.get_graph has     \u001b]8;id=38332;file://C:\\Users\\thoma\\AppData\\Local\\Programs\\Python\\Python39\\lib\\site-packages\\manim\\utils\\deprecation.py\u001b\\\u001b[2mdeprecation.py\u001b[0m\u001b]8;;\u001b\\\u001b[2m:\u001b[0m\u001b]8;id=920943;file://C:\\Users\\thoma\\AppData\\Local\\Programs\\Python\\Python39\\lib\\site-packages\\manim\\utils\\deprecation.py#210\u001b\\\u001b[2m210\u001b[0m\u001b]8;;\u001b\\\n",
       "                             been deprecated since v0.\u001b[32m11.0\u001b[0m and is expected                   \n",
       "                             to be removed after v0.\u001b[32m13.0\u001b[0m. Use plot                           \n",
       "                             instead.                                                        \n"
      ]
     },
     "metadata": {},
     "output_type": "display_data"
    },
    {
     "name": "stderr",
     "output_type": "stream",
     "text": [
      "Animation 1: _MethodAnimation(ValueTracker):  71%|#######1  | 213/300 [01:49<01:49,  1.26s/it]"
     ]
    },
    {
     "data": {
      "text/html": [
       "<pre style=\"white-space:pre;overflow-x:auto;line-height:normal;font-family:Menlo,'DejaVu Sans Mono',consolas,'Courier New',monospace\"><span style=\"color: #7fbfbf; text-decoration-color: #7fbfbf\">[01/31/22 22:12:26] </span><span style=\"color: #800000; text-decoration-color: #800000\">WARNING </span> The method CoordinateSystem.get_graph has     <a href=\"file://C:\\Users\\thoma\\AppData\\Local\\Programs\\Python\\Python39\\lib\\site-packages\\manim\\utils\\deprecation.py\"><span style=\"color: #7f7f7f; text-decoration-color: #7f7f7f\">deprecation.py</span></a><span style=\"color: #7f7f7f; text-decoration-color: #7f7f7f\">:</span><a href=\"file://C:\\Users\\thoma\\AppData\\Local\\Programs\\Python\\Python39\\lib\\site-packages\\manim\\utils\\deprecation.py#210\"><span style=\"color: #7f7f7f; text-decoration-color: #7f7f7f\">210</span></a>\n",
       "                             been deprecated since v0.<span style=\"color: #008000; text-decoration-color: #008000\">11.0</span> and is expected                   \n",
       "                             to be removed after v0.<span style=\"color: #008000; text-decoration-color: #008000\">13.0</span>. Use plot                           \n",
       "                             instead.                                                        \n",
       "</pre>\n"
      ],
      "text/plain": [
       "\u001b[2;36m[01/31/22 22:12:26]\u001b[0m\u001b[2;36m \u001b[0m\u001b[31mWARNING \u001b[0m The method CoordinateSystem.get_graph has     \u001b]8;id=100634;file://C:\\Users\\thoma\\AppData\\Local\\Programs\\Python\\Python39\\lib\\site-packages\\manim\\utils\\deprecation.py\u001b\\\u001b[2mdeprecation.py\u001b[0m\u001b]8;;\u001b\\\u001b[2m:\u001b[0m\u001b]8;id=590503;file://C:\\Users\\thoma\\AppData\\Local\\Programs\\Python\\Python39\\lib\\site-packages\\manim\\utils\\deprecation.py#210\u001b\\\u001b[2m210\u001b[0m\u001b]8;;\u001b\\\n",
       "                             been deprecated since v0.\u001b[32m11.0\u001b[0m and is expected                   \n",
       "                             to be removed after v0.\u001b[32m13.0\u001b[0m. Use plot                           \n",
       "                             instead.                                                        \n"
      ]
     },
     "metadata": {},
     "output_type": "display_data"
    },
    {
     "name": "stderr",
     "output_type": "stream",
     "text": [
      "Animation 1: _MethodAnimation(ValueTracker):  71%|#######1  | 214/300 [01:50<01:44,  1.21s/it]"
     ]
    },
    {
     "data": {
      "text/html": [
       "<pre style=\"white-space:pre;overflow-x:auto;line-height:normal;font-family:Menlo,'DejaVu Sans Mono',consolas,'Courier New',monospace\"><span style=\"color: #7fbfbf; text-decoration-color: #7fbfbf\">[01/31/22 22:12:27] </span><span style=\"color: #800000; text-decoration-color: #800000\">WARNING </span> The method CoordinateSystem.get_graph has     <a href=\"file://C:\\Users\\thoma\\AppData\\Local\\Programs\\Python\\Python39\\lib\\site-packages\\manim\\utils\\deprecation.py\"><span style=\"color: #7f7f7f; text-decoration-color: #7f7f7f\">deprecation.py</span></a><span style=\"color: #7f7f7f; text-decoration-color: #7f7f7f\">:</span><a href=\"file://C:\\Users\\thoma\\AppData\\Local\\Programs\\Python\\Python39\\lib\\site-packages\\manim\\utils\\deprecation.py#210\"><span style=\"color: #7f7f7f; text-decoration-color: #7f7f7f\">210</span></a>\n",
       "                             been deprecated since v0.<span style=\"color: #008000; text-decoration-color: #008000\">11.0</span> and is expected                   \n",
       "                             to be removed after v0.<span style=\"color: #008000; text-decoration-color: #008000\">13.0</span>. Use plot                           \n",
       "                             instead.                                                        \n",
       "</pre>\n"
      ],
      "text/plain": [
       "\u001b[2;36m[01/31/22 22:12:27]\u001b[0m\u001b[2;36m \u001b[0m\u001b[31mWARNING \u001b[0m The method CoordinateSystem.get_graph has     \u001b]8;id=168272;file://C:\\Users\\thoma\\AppData\\Local\\Programs\\Python\\Python39\\lib\\site-packages\\manim\\utils\\deprecation.py\u001b\\\u001b[2mdeprecation.py\u001b[0m\u001b]8;;\u001b\\\u001b[2m:\u001b[0m\u001b]8;id=394653;file://C:\\Users\\thoma\\AppData\\Local\\Programs\\Python\\Python39\\lib\\site-packages\\manim\\utils\\deprecation.py#210\u001b\\\u001b[2m210\u001b[0m\u001b]8;;\u001b\\\n",
       "                             been deprecated since v0.\u001b[32m11.0\u001b[0m and is expected                   \n",
       "                             to be removed after v0.\u001b[32m13.0\u001b[0m. Use plot                           \n",
       "                             instead.                                                        \n"
      ]
     },
     "metadata": {},
     "output_type": "display_data"
    },
    {
     "name": "stderr",
     "output_type": "stream",
     "text": [
      "Animation 1: _MethodAnimation(ValueTracker):  72%|#######1  | 215/300 [01:51<01:45,  1.24s/it]"
     ]
    },
    {
     "data": {
      "text/html": [
       "<pre style=\"white-space:pre;overflow-x:auto;line-height:normal;font-family:Menlo,'DejaVu Sans Mono',consolas,'Courier New',monospace\"><span style=\"color: #7fbfbf; text-decoration-color: #7fbfbf\">[01/31/22 22:12:28] </span><span style=\"color: #800000; text-decoration-color: #800000\">WARNING </span> The method CoordinateSystem.get_graph has     <a href=\"file://C:\\Users\\thoma\\AppData\\Local\\Programs\\Python\\Python39\\lib\\site-packages\\manim\\utils\\deprecation.py\"><span style=\"color: #7f7f7f; text-decoration-color: #7f7f7f\">deprecation.py</span></a><span style=\"color: #7f7f7f; text-decoration-color: #7f7f7f\">:</span><a href=\"file://C:\\Users\\thoma\\AppData\\Local\\Programs\\Python\\Python39\\lib\\site-packages\\manim\\utils\\deprecation.py#210\"><span style=\"color: #7f7f7f; text-decoration-color: #7f7f7f\">210</span></a>\n",
       "                             been deprecated since v0.<span style=\"color: #008000; text-decoration-color: #008000\">11.0</span> and is expected                   \n",
       "                             to be removed after v0.<span style=\"color: #008000; text-decoration-color: #008000\">13.0</span>. Use plot                           \n",
       "                             instead.                                                        \n",
       "</pre>\n"
      ],
      "text/plain": [
       "\u001b[2;36m[01/31/22 22:12:28]\u001b[0m\u001b[2;36m \u001b[0m\u001b[31mWARNING \u001b[0m The method CoordinateSystem.get_graph has     \u001b]8;id=391986;file://C:\\Users\\thoma\\AppData\\Local\\Programs\\Python\\Python39\\lib\\site-packages\\manim\\utils\\deprecation.py\u001b\\\u001b[2mdeprecation.py\u001b[0m\u001b]8;;\u001b\\\u001b[2m:\u001b[0m\u001b]8;id=143342;file://C:\\Users\\thoma\\AppData\\Local\\Programs\\Python\\Python39\\lib\\site-packages\\manim\\utils\\deprecation.py#210\u001b\\\u001b[2m210\u001b[0m\u001b]8;;\u001b\\\n",
       "                             been deprecated since v0.\u001b[32m11.0\u001b[0m and is expected                   \n",
       "                             to be removed after v0.\u001b[32m13.0\u001b[0m. Use plot                           \n",
       "                             instead.                                                        \n"
      ]
     },
     "metadata": {},
     "output_type": "display_data"
    },
    {
     "name": "stderr",
     "output_type": "stream",
     "text": [
      "Animation 1: _MethodAnimation(ValueTracker):  72%|#######2  | 216/300 [01:53<01:49,  1.31s/it]"
     ]
    },
    {
     "data": {
      "text/html": [
       "<pre style=\"white-space:pre;overflow-x:auto;line-height:normal;font-family:Menlo,'DejaVu Sans Mono',consolas,'Courier New',monospace\"><span style=\"color: #7fbfbf; text-decoration-color: #7fbfbf\">[01/31/22 22:12:30] </span><span style=\"color: #800000; text-decoration-color: #800000\">WARNING </span> The method CoordinateSystem.get_graph has     <a href=\"file://C:\\Users\\thoma\\AppData\\Local\\Programs\\Python\\Python39\\lib\\site-packages\\manim\\utils\\deprecation.py\"><span style=\"color: #7f7f7f; text-decoration-color: #7f7f7f\">deprecation.py</span></a><span style=\"color: #7f7f7f; text-decoration-color: #7f7f7f\">:</span><a href=\"file://C:\\Users\\thoma\\AppData\\Local\\Programs\\Python\\Python39\\lib\\site-packages\\manim\\utils\\deprecation.py#210\"><span style=\"color: #7f7f7f; text-decoration-color: #7f7f7f\">210</span></a>\n",
       "                             been deprecated since v0.<span style=\"color: #008000; text-decoration-color: #008000\">11.0</span> and is expected                   \n",
       "                             to be removed after v0.<span style=\"color: #008000; text-decoration-color: #008000\">13.0</span>. Use plot                           \n",
       "                             instead.                                                        \n",
       "</pre>\n"
      ],
      "text/plain": [
       "\u001b[2;36m[01/31/22 22:12:30]\u001b[0m\u001b[2;36m \u001b[0m\u001b[31mWARNING \u001b[0m The method CoordinateSystem.get_graph has     \u001b]8;id=688241;file://C:\\Users\\thoma\\AppData\\Local\\Programs\\Python\\Python39\\lib\\site-packages\\manim\\utils\\deprecation.py\u001b\\\u001b[2mdeprecation.py\u001b[0m\u001b]8;;\u001b\\\u001b[2m:\u001b[0m\u001b]8;id=798440;file://C:\\Users\\thoma\\AppData\\Local\\Programs\\Python\\Python39\\lib\\site-packages\\manim\\utils\\deprecation.py#210\u001b\\\u001b[2m210\u001b[0m\u001b]8;;\u001b\\\n",
       "                             been deprecated since v0.\u001b[32m11.0\u001b[0m and is expected                   \n",
       "                             to be removed after v0.\u001b[32m13.0\u001b[0m. Use plot                           \n",
       "                             instead.                                                        \n"
      ]
     },
     "metadata": {},
     "output_type": "display_data"
    },
    {
     "name": "stderr",
     "output_type": "stream",
     "text": [
      "Animation 1: _MethodAnimation(ValueTracker):  72%|#######2  | 217/300 [01:54<01:51,  1.34s/it]"
     ]
    },
    {
     "data": {
      "text/html": [
       "<pre style=\"white-space:pre;overflow-x:auto;line-height:normal;font-family:Menlo,'DejaVu Sans Mono',consolas,'Courier New',monospace\"><span style=\"color: #7fbfbf; text-decoration-color: #7fbfbf\">[01/31/22 22:12:31] </span><span style=\"color: #800000; text-decoration-color: #800000\">WARNING </span> The method CoordinateSystem.get_graph has     <a href=\"file://C:\\Users\\thoma\\AppData\\Local\\Programs\\Python\\Python39\\lib\\site-packages\\manim\\utils\\deprecation.py\"><span style=\"color: #7f7f7f; text-decoration-color: #7f7f7f\">deprecation.py</span></a><span style=\"color: #7f7f7f; text-decoration-color: #7f7f7f\">:</span><a href=\"file://C:\\Users\\thoma\\AppData\\Local\\Programs\\Python\\Python39\\lib\\site-packages\\manim\\utils\\deprecation.py#210\"><span style=\"color: #7f7f7f; text-decoration-color: #7f7f7f\">210</span></a>\n",
       "                             been deprecated since v0.<span style=\"color: #008000; text-decoration-color: #008000\">11.0</span> and is expected                   \n",
       "                             to be removed after v0.<span style=\"color: #008000; text-decoration-color: #008000\">13.0</span>. Use plot                           \n",
       "                             instead.                                                        \n",
       "</pre>\n"
      ],
      "text/plain": [
       "\u001b[2;36m[01/31/22 22:12:31]\u001b[0m\u001b[2;36m \u001b[0m\u001b[31mWARNING \u001b[0m The method CoordinateSystem.get_graph has     \u001b]8;id=896967;file://C:\\Users\\thoma\\AppData\\Local\\Programs\\Python\\Python39\\lib\\site-packages\\manim\\utils\\deprecation.py\u001b\\\u001b[2mdeprecation.py\u001b[0m\u001b]8;;\u001b\\\u001b[2m:\u001b[0m\u001b]8;id=186028;file://C:\\Users\\thoma\\AppData\\Local\\Programs\\Python\\Python39\\lib\\site-packages\\manim\\utils\\deprecation.py#210\u001b\\\u001b[2m210\u001b[0m\u001b]8;;\u001b\\\n",
       "                             been deprecated since v0.\u001b[32m11.0\u001b[0m and is expected                   \n",
       "                             to be removed after v0.\u001b[32m13.0\u001b[0m. Use plot                           \n",
       "                             instead.                                                        \n"
      ]
     },
     "metadata": {},
     "output_type": "display_data"
    },
    {
     "name": "stderr",
     "output_type": "stream",
     "text": [
      "Animation 1: _MethodAnimation(ValueTracker):  73%|#######2  | 218/300 [01:55<01:45,  1.28s/it]"
     ]
    },
    {
     "data": {
      "text/html": [
       "<pre style=\"white-space:pre;overflow-x:auto;line-height:normal;font-family:Menlo,'DejaVu Sans Mono',consolas,'Courier New',monospace\"><span style=\"color: #7fbfbf; text-decoration-color: #7fbfbf\">[01/31/22 22:12:32] </span><span style=\"color: #800000; text-decoration-color: #800000\">WARNING </span> The method CoordinateSystem.get_graph has     <a href=\"file://C:\\Users\\thoma\\AppData\\Local\\Programs\\Python\\Python39\\lib\\site-packages\\manim\\utils\\deprecation.py\"><span style=\"color: #7f7f7f; text-decoration-color: #7f7f7f\">deprecation.py</span></a><span style=\"color: #7f7f7f; text-decoration-color: #7f7f7f\">:</span><a href=\"file://C:\\Users\\thoma\\AppData\\Local\\Programs\\Python\\Python39\\lib\\site-packages\\manim\\utils\\deprecation.py#210\"><span style=\"color: #7f7f7f; text-decoration-color: #7f7f7f\">210</span></a>\n",
       "                             been deprecated since v0.<span style=\"color: #008000; text-decoration-color: #008000\">11.0</span> and is expected                   \n",
       "                             to be removed after v0.<span style=\"color: #008000; text-decoration-color: #008000\">13.0</span>. Use plot                           \n",
       "                             instead.                                                        \n",
       "</pre>\n"
      ],
      "text/plain": [
       "\u001b[2;36m[01/31/22 22:12:32]\u001b[0m\u001b[2;36m \u001b[0m\u001b[31mWARNING \u001b[0m The method CoordinateSystem.get_graph has     \u001b]8;id=206972;file://C:\\Users\\thoma\\AppData\\Local\\Programs\\Python\\Python39\\lib\\site-packages\\manim\\utils\\deprecation.py\u001b\\\u001b[2mdeprecation.py\u001b[0m\u001b]8;;\u001b\\\u001b[2m:\u001b[0m\u001b]8;id=80241;file://C:\\Users\\thoma\\AppData\\Local\\Programs\\Python\\Python39\\lib\\site-packages\\manim\\utils\\deprecation.py#210\u001b\\\u001b[2m210\u001b[0m\u001b]8;;\u001b\\\n",
       "                             been deprecated since v0.\u001b[32m11.0\u001b[0m and is expected                   \n",
       "                             to be removed after v0.\u001b[32m13.0\u001b[0m. Use plot                           \n",
       "                             instead.                                                        \n"
      ]
     },
     "metadata": {},
     "output_type": "display_data"
    },
    {
     "name": "stderr",
     "output_type": "stream",
     "text": [
      "Animation 1: _MethodAnimation(ValueTracker):  73%|#######3  | 219/300 [01:56<01:43,  1.28s/it]"
     ]
    },
    {
     "data": {
      "text/html": [
       "<pre style=\"white-space:pre;overflow-x:auto;line-height:normal;font-family:Menlo,'DejaVu Sans Mono',consolas,'Courier New',monospace\"><span style=\"color: #7fbfbf; text-decoration-color: #7fbfbf\">[01/31/22 22:12:33] </span><span style=\"color: #800000; text-decoration-color: #800000\">WARNING </span> The method CoordinateSystem.get_graph has     <a href=\"file://C:\\Users\\thoma\\AppData\\Local\\Programs\\Python\\Python39\\lib\\site-packages\\manim\\utils\\deprecation.py\"><span style=\"color: #7f7f7f; text-decoration-color: #7f7f7f\">deprecation.py</span></a><span style=\"color: #7f7f7f; text-decoration-color: #7f7f7f\">:</span><a href=\"file://C:\\Users\\thoma\\AppData\\Local\\Programs\\Python\\Python39\\lib\\site-packages\\manim\\utils\\deprecation.py#210\"><span style=\"color: #7f7f7f; text-decoration-color: #7f7f7f\">210</span></a>\n",
       "                             been deprecated since v0.<span style=\"color: #008000; text-decoration-color: #008000\">11.0</span> and is expected                   \n",
       "                             to be removed after v0.<span style=\"color: #008000; text-decoration-color: #008000\">13.0</span>. Use plot                           \n",
       "                             instead.                                                        \n",
       "</pre>\n"
      ],
      "text/plain": [
       "\u001b[2;36m[01/31/22 22:12:33]\u001b[0m\u001b[2;36m \u001b[0m\u001b[31mWARNING \u001b[0m The method CoordinateSystem.get_graph has     \u001b]8;id=333189;file://C:\\Users\\thoma\\AppData\\Local\\Programs\\Python\\Python39\\lib\\site-packages\\manim\\utils\\deprecation.py\u001b\\\u001b[2mdeprecation.py\u001b[0m\u001b]8;;\u001b\\\u001b[2m:\u001b[0m\u001b]8;id=548726;file://C:\\Users\\thoma\\AppData\\Local\\Programs\\Python\\Python39\\lib\\site-packages\\manim\\utils\\deprecation.py#210\u001b\\\u001b[2m210\u001b[0m\u001b]8;;\u001b\\\n",
       "                             been deprecated since v0.\u001b[32m11.0\u001b[0m and is expected                   \n",
       "                             to be removed after v0.\u001b[32m13.0\u001b[0m. Use plot                           \n",
       "                             instead.                                                        \n"
      ]
     },
     "metadata": {},
     "output_type": "display_data"
    },
    {
     "name": "stderr",
     "output_type": "stream",
     "text": [
      "Animation 1: _MethodAnimation(ValueTracker):  73%|#######3  | 220/300 [01:58<01:39,  1.24s/it]"
     ]
    },
    {
     "data": {
      "text/html": [
       "<pre style=\"white-space:pre;overflow-x:auto;line-height:normal;font-family:Menlo,'DejaVu Sans Mono',consolas,'Courier New',monospace\"><span style=\"color: #7fbfbf; text-decoration-color: #7fbfbf\">[01/31/22 22:12:35] </span><span style=\"color: #800000; text-decoration-color: #800000\">WARNING </span> The method CoordinateSystem.get_graph has     <a href=\"file://C:\\Users\\thoma\\AppData\\Local\\Programs\\Python\\Python39\\lib\\site-packages\\manim\\utils\\deprecation.py\"><span style=\"color: #7f7f7f; text-decoration-color: #7f7f7f\">deprecation.py</span></a><span style=\"color: #7f7f7f; text-decoration-color: #7f7f7f\">:</span><a href=\"file://C:\\Users\\thoma\\AppData\\Local\\Programs\\Python\\Python39\\lib\\site-packages\\manim\\utils\\deprecation.py#210\"><span style=\"color: #7f7f7f; text-decoration-color: #7f7f7f\">210</span></a>\n",
       "                             been deprecated since v0.<span style=\"color: #008000; text-decoration-color: #008000\">11.0</span> and is expected                   \n",
       "                             to be removed after v0.<span style=\"color: #008000; text-decoration-color: #008000\">13.0</span>. Use plot                           \n",
       "                             instead.                                                        \n",
       "</pre>\n"
      ],
      "text/plain": [
       "\u001b[2;36m[01/31/22 22:12:35]\u001b[0m\u001b[2;36m \u001b[0m\u001b[31mWARNING \u001b[0m The method CoordinateSystem.get_graph has     \u001b]8;id=129544;file://C:\\Users\\thoma\\AppData\\Local\\Programs\\Python\\Python39\\lib\\site-packages\\manim\\utils\\deprecation.py\u001b\\\u001b[2mdeprecation.py\u001b[0m\u001b]8;;\u001b\\\u001b[2m:\u001b[0m\u001b]8;id=904758;file://C:\\Users\\thoma\\AppData\\Local\\Programs\\Python\\Python39\\lib\\site-packages\\manim\\utils\\deprecation.py#210\u001b\\\u001b[2m210\u001b[0m\u001b]8;;\u001b\\\n",
       "                             been deprecated since v0.\u001b[32m11.0\u001b[0m and is expected                   \n",
       "                             to be removed after v0.\u001b[32m13.0\u001b[0m. Use plot                           \n",
       "                             instead.                                                        \n"
      ]
     },
     "metadata": {},
     "output_type": "display_data"
    },
    {
     "name": "stderr",
     "output_type": "stream",
     "text": [
      "Animation 1: _MethodAnimation(ValueTracker):  74%|#######3  | 221/300 [01:59<01:48,  1.37s/it]"
     ]
    },
    {
     "data": {
      "text/html": [
       "<pre style=\"white-space:pre;overflow-x:auto;line-height:normal;font-family:Menlo,'DejaVu Sans Mono',consolas,'Courier New',monospace\"><span style=\"color: #7fbfbf; text-decoration-color: #7fbfbf\">[01/31/22 22:12:37] </span><span style=\"color: #800000; text-decoration-color: #800000\">WARNING </span> The method CoordinateSystem.get_graph has     <a href=\"file://C:\\Users\\thoma\\AppData\\Local\\Programs\\Python\\Python39\\lib\\site-packages\\manim\\utils\\deprecation.py\"><span style=\"color: #7f7f7f; text-decoration-color: #7f7f7f\">deprecation.py</span></a><span style=\"color: #7f7f7f; text-decoration-color: #7f7f7f\">:</span><a href=\"file://C:\\Users\\thoma\\AppData\\Local\\Programs\\Python\\Python39\\lib\\site-packages\\manim\\utils\\deprecation.py#210\"><span style=\"color: #7f7f7f; text-decoration-color: #7f7f7f\">210</span></a>\n",
       "                             been deprecated since v0.<span style=\"color: #008000; text-decoration-color: #008000\">11.0</span> and is expected                   \n",
       "                             to be removed after v0.<span style=\"color: #008000; text-decoration-color: #008000\">13.0</span>. Use plot                           \n",
       "                             instead.                                                        \n",
       "</pre>\n"
      ],
      "text/plain": [
       "\u001b[2;36m[01/31/22 22:12:37]\u001b[0m\u001b[2;36m \u001b[0m\u001b[31mWARNING \u001b[0m The method CoordinateSystem.get_graph has     \u001b]8;id=956147;file://C:\\Users\\thoma\\AppData\\Local\\Programs\\Python\\Python39\\lib\\site-packages\\manim\\utils\\deprecation.py\u001b\\\u001b[2mdeprecation.py\u001b[0m\u001b]8;;\u001b\\\u001b[2m:\u001b[0m\u001b]8;id=968935;file://C:\\Users\\thoma\\AppData\\Local\\Programs\\Python\\Python39\\lib\\site-packages\\manim\\utils\\deprecation.py#210\u001b\\\u001b[2m210\u001b[0m\u001b]8;;\u001b\\\n",
       "                             been deprecated since v0.\u001b[32m11.0\u001b[0m and is expected                   \n",
       "                             to be removed after v0.\u001b[32m13.0\u001b[0m. Use plot                           \n",
       "                             instead.                                                        \n"
      ]
     },
     "metadata": {},
     "output_type": "display_data"
    },
    {
     "name": "stderr",
     "output_type": "stream",
     "text": [
      "Animation 1: _MethodAnimation(ValueTracker):  74%|#######4  | 222/300 [02:01<01:48,  1.39s/it]"
     ]
    },
    {
     "data": {
      "text/html": [
       "<pre style=\"white-space:pre;overflow-x:auto;line-height:normal;font-family:Menlo,'DejaVu Sans Mono',consolas,'Courier New',monospace\"><span style=\"color: #7fbfbf; text-decoration-color: #7fbfbf\">[01/31/22 22:12:38] </span><span style=\"color: #800000; text-decoration-color: #800000\">WARNING </span> The method CoordinateSystem.get_graph has     <a href=\"file://C:\\Users\\thoma\\AppData\\Local\\Programs\\Python\\Python39\\lib\\site-packages\\manim\\utils\\deprecation.py\"><span style=\"color: #7f7f7f; text-decoration-color: #7f7f7f\">deprecation.py</span></a><span style=\"color: #7f7f7f; text-decoration-color: #7f7f7f\">:</span><a href=\"file://C:\\Users\\thoma\\AppData\\Local\\Programs\\Python\\Python39\\lib\\site-packages\\manim\\utils\\deprecation.py#210\"><span style=\"color: #7f7f7f; text-decoration-color: #7f7f7f\">210</span></a>\n",
       "                             been deprecated since v0.<span style=\"color: #008000; text-decoration-color: #008000\">11.0</span> and is expected                   \n",
       "                             to be removed after v0.<span style=\"color: #008000; text-decoration-color: #008000\">13.0</span>. Use plot                           \n",
       "                             instead.                                                        \n",
       "</pre>\n"
      ],
      "text/plain": [
       "\u001b[2;36m[01/31/22 22:12:38]\u001b[0m\u001b[2;36m \u001b[0m\u001b[31mWARNING \u001b[0m The method CoordinateSystem.get_graph has     \u001b]8;id=966320;file://C:\\Users\\thoma\\AppData\\Local\\Programs\\Python\\Python39\\lib\\site-packages\\manim\\utils\\deprecation.py\u001b\\\u001b[2mdeprecation.py\u001b[0m\u001b]8;;\u001b\\\u001b[2m:\u001b[0m\u001b]8;id=680297;file://C:\\Users\\thoma\\AppData\\Local\\Programs\\Python\\Python39\\lib\\site-packages\\manim\\utils\\deprecation.py#210\u001b\\\u001b[2m210\u001b[0m\u001b]8;;\u001b\\\n",
       "                             been deprecated since v0.\u001b[32m11.0\u001b[0m and is expected                   \n",
       "                             to be removed after v0.\u001b[32m13.0\u001b[0m. Use plot                           \n",
       "                             instead.                                                        \n"
      ]
     },
     "metadata": {},
     "output_type": "display_data"
    },
    {
     "name": "stderr",
     "output_type": "stream",
     "text": [
      "Animation 1: _MethodAnimation(ValueTracker):  74%|#######4  | 223/300 [02:02<01:41,  1.32s/it]"
     ]
    },
    {
     "data": {
      "text/html": [
       "<pre style=\"white-space:pre;overflow-x:auto;line-height:normal;font-family:Menlo,'DejaVu Sans Mono',consolas,'Courier New',monospace\"><span style=\"color: #7fbfbf; text-decoration-color: #7fbfbf\">[01/31/22 22:12:39] </span><span style=\"color: #800000; text-decoration-color: #800000\">WARNING </span> The method CoordinateSystem.get_graph has     <a href=\"file://C:\\Users\\thoma\\AppData\\Local\\Programs\\Python\\Python39\\lib\\site-packages\\manim\\utils\\deprecation.py\"><span style=\"color: #7f7f7f; text-decoration-color: #7f7f7f\">deprecation.py</span></a><span style=\"color: #7f7f7f; text-decoration-color: #7f7f7f\">:</span><a href=\"file://C:\\Users\\thoma\\AppData\\Local\\Programs\\Python\\Python39\\lib\\site-packages\\manim\\utils\\deprecation.py#210\"><span style=\"color: #7f7f7f; text-decoration-color: #7f7f7f\">210</span></a>\n",
       "                             been deprecated since v0.<span style=\"color: #008000; text-decoration-color: #008000\">11.0</span> and is expected                   \n",
       "                             to be removed after v0.<span style=\"color: #008000; text-decoration-color: #008000\">13.0</span>. Use plot                           \n",
       "                             instead.                                                        \n",
       "</pre>\n"
      ],
      "text/plain": [
       "\u001b[2;36m[01/31/22 22:12:39]\u001b[0m\u001b[2;36m \u001b[0m\u001b[31mWARNING \u001b[0m The method CoordinateSystem.get_graph has     \u001b]8;id=935382;file://C:\\Users\\thoma\\AppData\\Local\\Programs\\Python\\Python39\\lib\\site-packages\\manim\\utils\\deprecation.py\u001b\\\u001b[2mdeprecation.py\u001b[0m\u001b]8;;\u001b\\\u001b[2m:\u001b[0m\u001b]8;id=782539;file://C:\\Users\\thoma\\AppData\\Local\\Programs\\Python\\Python39\\lib\\site-packages\\manim\\utils\\deprecation.py#210\u001b\\\u001b[2m210\u001b[0m\u001b]8;;\u001b\\\n",
       "                             been deprecated since v0.\u001b[32m11.0\u001b[0m and is expected                   \n",
       "                             to be removed after v0.\u001b[32m13.0\u001b[0m. Use plot                           \n",
       "                             instead.                                                        \n"
      ]
     },
     "metadata": {},
     "output_type": "display_data"
    },
    {
     "name": "stderr",
     "output_type": "stream",
     "text": [
      "Animation 1: _MethodAnimation(ValueTracker):  75%|#######4  | 224/300 [02:03<01:39,  1.30s/it]"
     ]
    },
    {
     "data": {
      "text/html": [
       "<pre style=\"white-space:pre;overflow-x:auto;line-height:normal;font-family:Menlo,'DejaVu Sans Mono',consolas,'Courier New',monospace\"><span style=\"color: #7fbfbf; text-decoration-color: #7fbfbf\">[01/31/22 22:12:40] </span><span style=\"color: #800000; text-decoration-color: #800000\">WARNING </span> The method CoordinateSystem.get_graph has     <a href=\"file://C:\\Users\\thoma\\AppData\\Local\\Programs\\Python\\Python39\\lib\\site-packages\\manim\\utils\\deprecation.py\"><span style=\"color: #7f7f7f; text-decoration-color: #7f7f7f\">deprecation.py</span></a><span style=\"color: #7f7f7f; text-decoration-color: #7f7f7f\">:</span><a href=\"file://C:\\Users\\thoma\\AppData\\Local\\Programs\\Python\\Python39\\lib\\site-packages\\manim\\utils\\deprecation.py#210\"><span style=\"color: #7f7f7f; text-decoration-color: #7f7f7f\">210</span></a>\n",
       "                             been deprecated since v0.<span style=\"color: #008000; text-decoration-color: #008000\">11.0</span> and is expected                   \n",
       "                             to be removed after v0.<span style=\"color: #008000; text-decoration-color: #008000\">13.0</span>. Use plot                           \n",
       "                             instead.                                                        \n",
       "</pre>\n"
      ],
      "text/plain": [
       "\u001b[2;36m[01/31/22 22:12:40]\u001b[0m\u001b[2;36m \u001b[0m\u001b[31mWARNING \u001b[0m The method CoordinateSystem.get_graph has     \u001b]8;id=916979;file://C:\\Users\\thoma\\AppData\\Local\\Programs\\Python\\Python39\\lib\\site-packages\\manim\\utils\\deprecation.py\u001b\\\u001b[2mdeprecation.py\u001b[0m\u001b]8;;\u001b\\\u001b[2m:\u001b[0m\u001b]8;id=129591;file://C:\\Users\\thoma\\AppData\\Local\\Programs\\Python\\Python39\\lib\\site-packages\\manim\\utils\\deprecation.py#210\u001b\\\u001b[2m210\u001b[0m\u001b]8;;\u001b\\\n",
       "                             been deprecated since v0.\u001b[32m11.0\u001b[0m and is expected                   \n",
       "                             to be removed after v0.\u001b[32m13.0\u001b[0m. Use plot                           \n",
       "                             instead.                                                        \n"
      ]
     },
     "metadata": {},
     "output_type": "display_data"
    },
    {
     "name": "stderr",
     "output_type": "stream",
     "text": [
      "Animation 1: _MethodAnimation(ValueTracker):  75%|#######5  | 225/300 [02:04<01:39,  1.33s/it]"
     ]
    },
    {
     "data": {
      "text/html": [
       "<pre style=\"white-space:pre;overflow-x:auto;line-height:normal;font-family:Menlo,'DejaVu Sans Mono',consolas,'Courier New',monospace\"><span style=\"color: #7fbfbf; text-decoration-color: #7fbfbf\">[01/31/22 22:12:42] </span><span style=\"color: #800000; text-decoration-color: #800000\">WARNING </span> The method CoordinateSystem.get_graph has     <a href=\"file://C:\\Users\\thoma\\AppData\\Local\\Programs\\Python\\Python39\\lib\\site-packages\\manim\\utils\\deprecation.py\"><span style=\"color: #7f7f7f; text-decoration-color: #7f7f7f\">deprecation.py</span></a><span style=\"color: #7f7f7f; text-decoration-color: #7f7f7f\">:</span><a href=\"file://C:\\Users\\thoma\\AppData\\Local\\Programs\\Python\\Python39\\lib\\site-packages\\manim\\utils\\deprecation.py#210\"><span style=\"color: #7f7f7f; text-decoration-color: #7f7f7f\">210</span></a>\n",
       "                             been deprecated since v0.<span style=\"color: #008000; text-decoration-color: #008000\">11.0</span> and is expected                   \n",
       "                             to be removed after v0.<span style=\"color: #008000; text-decoration-color: #008000\">13.0</span>. Use plot                           \n",
       "                             instead.                                                        \n",
       "</pre>\n"
      ],
      "text/plain": [
       "\u001b[2;36m[01/31/22 22:12:42]\u001b[0m\u001b[2;36m \u001b[0m\u001b[31mWARNING \u001b[0m The method CoordinateSystem.get_graph has     \u001b]8;id=483359;file://C:\\Users\\thoma\\AppData\\Local\\Programs\\Python\\Python39\\lib\\site-packages\\manim\\utils\\deprecation.py\u001b\\\u001b[2mdeprecation.py\u001b[0m\u001b]8;;\u001b\\\u001b[2m:\u001b[0m\u001b]8;id=210380;file://C:\\Users\\thoma\\AppData\\Local\\Programs\\Python\\Python39\\lib\\site-packages\\manim\\utils\\deprecation.py#210\u001b\\\u001b[2m210\u001b[0m\u001b]8;;\u001b\\\n",
       "                             been deprecated since v0.\u001b[32m11.0\u001b[0m and is expected                   \n",
       "                             to be removed after v0.\u001b[32m13.0\u001b[0m. Use plot                           \n",
       "                             instead.                                                        \n"
      ]
     },
     "metadata": {},
     "output_type": "display_data"
    },
    {
     "name": "stderr",
     "output_type": "stream",
     "text": [
      "Animation 1: _MethodAnimation(ValueTracker):  75%|#######5  | 226/300 [02:06<01:46,  1.43s/it]"
     ]
    },
    {
     "data": {
      "text/html": [
       "<pre style=\"white-space:pre;overflow-x:auto;line-height:normal;font-family:Menlo,'DejaVu Sans Mono',consolas,'Courier New',monospace\"><span style=\"color: #7fbfbf; text-decoration-color: #7fbfbf\">[01/31/22 22:12:43] </span><span style=\"color: #800000; text-decoration-color: #800000\">WARNING </span> The method CoordinateSystem.get_graph has     <a href=\"file://C:\\Users\\thoma\\AppData\\Local\\Programs\\Python\\Python39\\lib\\site-packages\\manim\\utils\\deprecation.py\"><span style=\"color: #7f7f7f; text-decoration-color: #7f7f7f\">deprecation.py</span></a><span style=\"color: #7f7f7f; text-decoration-color: #7f7f7f\">:</span><a href=\"file://C:\\Users\\thoma\\AppData\\Local\\Programs\\Python\\Python39\\lib\\site-packages\\manim\\utils\\deprecation.py#210\"><span style=\"color: #7f7f7f; text-decoration-color: #7f7f7f\">210</span></a>\n",
       "                             been deprecated since v0.<span style=\"color: #008000; text-decoration-color: #008000\">11.0</span> and is expected                   \n",
       "                             to be removed after v0.<span style=\"color: #008000; text-decoration-color: #008000\">13.0</span>. Use plot                           \n",
       "                             instead.                                                        \n",
       "</pre>\n"
      ],
      "text/plain": [
       "\u001b[2;36m[01/31/22 22:12:43]\u001b[0m\u001b[2;36m \u001b[0m\u001b[31mWARNING \u001b[0m The method CoordinateSystem.get_graph has     \u001b]8;id=825988;file://C:\\Users\\thoma\\AppData\\Local\\Programs\\Python\\Python39\\lib\\site-packages\\manim\\utils\\deprecation.py\u001b\\\u001b[2mdeprecation.py\u001b[0m\u001b]8;;\u001b\\\u001b[2m:\u001b[0m\u001b]8;id=117783;file://C:\\Users\\thoma\\AppData\\Local\\Programs\\Python\\Python39\\lib\\site-packages\\manim\\utils\\deprecation.py#210\u001b\\\u001b[2m210\u001b[0m\u001b]8;;\u001b\\\n",
       "                             been deprecated since v0.\u001b[32m11.0\u001b[0m and is expected                   \n",
       "                             to be removed after v0.\u001b[32m13.0\u001b[0m. Use plot                           \n",
       "                             instead.                                                        \n"
      ]
     },
     "metadata": {},
     "output_type": "display_data"
    },
    {
     "name": "stderr",
     "output_type": "stream",
     "text": [
      "Animation 1: _MethodAnimation(ValueTracker):  76%|#######5  | 227/300 [02:08<01:44,  1.43s/it]"
     ]
    },
    {
     "data": {
      "text/html": [
       "<pre style=\"white-space:pre;overflow-x:auto;line-height:normal;font-family:Menlo,'DejaVu Sans Mono',consolas,'Courier New',monospace\"><span style=\"color: #7fbfbf; text-decoration-color: #7fbfbf\">[01/31/22 22:12:45] </span><span style=\"color: #800000; text-decoration-color: #800000\">WARNING </span> The method CoordinateSystem.get_graph has     <a href=\"file://C:\\Users\\thoma\\AppData\\Local\\Programs\\Python\\Python39\\lib\\site-packages\\manim\\utils\\deprecation.py\"><span style=\"color: #7f7f7f; text-decoration-color: #7f7f7f\">deprecation.py</span></a><span style=\"color: #7f7f7f; text-decoration-color: #7f7f7f\">:</span><a href=\"file://C:\\Users\\thoma\\AppData\\Local\\Programs\\Python\\Python39\\lib\\site-packages\\manim\\utils\\deprecation.py#210\"><span style=\"color: #7f7f7f; text-decoration-color: #7f7f7f\">210</span></a>\n",
       "                             been deprecated since v0.<span style=\"color: #008000; text-decoration-color: #008000\">11.0</span> and is expected                   \n",
       "                             to be removed after v0.<span style=\"color: #008000; text-decoration-color: #008000\">13.0</span>. Use plot                           \n",
       "                             instead.                                                        \n",
       "</pre>\n"
      ],
      "text/plain": [
       "\u001b[2;36m[01/31/22 22:12:45]\u001b[0m\u001b[2;36m \u001b[0m\u001b[31mWARNING \u001b[0m The method CoordinateSystem.get_graph has     \u001b]8;id=756958;file://C:\\Users\\thoma\\AppData\\Local\\Programs\\Python\\Python39\\lib\\site-packages\\manim\\utils\\deprecation.py\u001b\\\u001b[2mdeprecation.py\u001b[0m\u001b]8;;\u001b\\\u001b[2m:\u001b[0m\u001b]8;id=478198;file://C:\\Users\\thoma\\AppData\\Local\\Programs\\Python\\Python39\\lib\\site-packages\\manim\\utils\\deprecation.py#210\u001b\\\u001b[2m210\u001b[0m\u001b]8;;\u001b\\\n",
       "                             been deprecated since v0.\u001b[32m11.0\u001b[0m and is expected                   \n",
       "                             to be removed after v0.\u001b[32m13.0\u001b[0m. Use plot                           \n",
       "                             instead.                                                        \n"
      ]
     },
     "metadata": {},
     "output_type": "display_data"
    },
    {
     "name": "stderr",
     "output_type": "stream",
     "text": [
      "Animation 1: _MethodAnimation(ValueTracker):  76%|#######6  | 228/300 [02:09<01:42,  1.42s/it]"
     ]
    },
    {
     "data": {
      "text/html": [
       "<pre style=\"white-space:pre;overflow-x:auto;line-height:normal;font-family:Menlo,'DejaVu Sans Mono',consolas,'Courier New',monospace\"><span style=\"color: #7fbfbf; text-decoration-color: #7fbfbf\">[01/31/22 22:12:46] </span><span style=\"color: #800000; text-decoration-color: #800000\">WARNING </span> The method CoordinateSystem.get_graph has     <a href=\"file://C:\\Users\\thoma\\AppData\\Local\\Programs\\Python\\Python39\\lib\\site-packages\\manim\\utils\\deprecation.py\"><span style=\"color: #7f7f7f; text-decoration-color: #7f7f7f\">deprecation.py</span></a><span style=\"color: #7f7f7f; text-decoration-color: #7f7f7f\">:</span><a href=\"file://C:\\Users\\thoma\\AppData\\Local\\Programs\\Python\\Python39\\lib\\site-packages\\manim\\utils\\deprecation.py#210\"><span style=\"color: #7f7f7f; text-decoration-color: #7f7f7f\">210</span></a>\n",
       "                             been deprecated since v0.<span style=\"color: #008000; text-decoration-color: #008000\">11.0</span> and is expected                   \n",
       "                             to be removed after v0.<span style=\"color: #008000; text-decoration-color: #008000\">13.0</span>. Use plot                           \n",
       "                             instead.                                                        \n",
       "</pre>\n"
      ],
      "text/plain": [
       "\u001b[2;36m[01/31/22 22:12:46]\u001b[0m\u001b[2;36m \u001b[0m\u001b[31mWARNING \u001b[0m The method CoordinateSystem.get_graph has     \u001b]8;id=935867;file://C:\\Users\\thoma\\AppData\\Local\\Programs\\Python\\Python39\\lib\\site-packages\\manim\\utils\\deprecation.py\u001b\\\u001b[2mdeprecation.py\u001b[0m\u001b]8;;\u001b\\\u001b[2m:\u001b[0m\u001b]8;id=614936;file://C:\\Users\\thoma\\AppData\\Local\\Programs\\Python\\Python39\\lib\\site-packages\\manim\\utils\\deprecation.py#210\u001b\\\u001b[2m210\u001b[0m\u001b]8;;\u001b\\\n",
       "                             been deprecated since v0.\u001b[32m11.0\u001b[0m and is expected                   \n",
       "                             to be removed after v0.\u001b[32m13.0\u001b[0m. Use plot                           \n",
       "                             instead.                                                        \n"
      ]
     },
     "metadata": {},
     "output_type": "display_data"
    },
    {
     "name": "stderr",
     "output_type": "stream",
     "text": [
      "Animation 1: _MethodAnimation(ValueTracker):  76%|#######6  | 229/300 [02:10<01:38,  1.39s/it]"
     ]
    },
    {
     "data": {
      "text/html": [
       "<pre style=\"white-space:pre;overflow-x:auto;line-height:normal;font-family:Menlo,'DejaVu Sans Mono',consolas,'Courier New',monospace\"><span style=\"color: #7fbfbf; text-decoration-color: #7fbfbf\">[01/31/22 22:12:48] </span><span style=\"color: #800000; text-decoration-color: #800000\">WARNING </span> The method CoordinateSystem.get_graph has     <a href=\"file://C:\\Users\\thoma\\AppData\\Local\\Programs\\Python\\Python39\\lib\\site-packages\\manim\\utils\\deprecation.py\"><span style=\"color: #7f7f7f; text-decoration-color: #7f7f7f\">deprecation.py</span></a><span style=\"color: #7f7f7f; text-decoration-color: #7f7f7f\">:</span><a href=\"file://C:\\Users\\thoma\\AppData\\Local\\Programs\\Python\\Python39\\lib\\site-packages\\manim\\utils\\deprecation.py#210\"><span style=\"color: #7f7f7f; text-decoration-color: #7f7f7f\">210</span></a>\n",
       "                             been deprecated since v0.<span style=\"color: #008000; text-decoration-color: #008000\">11.0</span> and is expected                   \n",
       "                             to be removed after v0.<span style=\"color: #008000; text-decoration-color: #008000\">13.0</span>. Use plot                           \n",
       "                             instead.                                                        \n",
       "</pre>\n"
      ],
      "text/plain": [
       "\u001b[2;36m[01/31/22 22:12:48]\u001b[0m\u001b[2;36m \u001b[0m\u001b[31mWARNING \u001b[0m The method CoordinateSystem.get_graph has     \u001b]8;id=750679;file://C:\\Users\\thoma\\AppData\\Local\\Programs\\Python\\Python39\\lib\\site-packages\\manim\\utils\\deprecation.py\u001b\\\u001b[2mdeprecation.py\u001b[0m\u001b]8;;\u001b\\\u001b[2m:\u001b[0m\u001b]8;id=765601;file://C:\\Users\\thoma\\AppData\\Local\\Programs\\Python\\Python39\\lib\\site-packages\\manim\\utils\\deprecation.py#210\u001b\\\u001b[2m210\u001b[0m\u001b]8;;\u001b\\\n",
       "                             been deprecated since v0.\u001b[32m11.0\u001b[0m and is expected                   \n",
       "                             to be removed after v0.\u001b[32m13.0\u001b[0m. Use plot                           \n",
       "                             instead.                                                        \n"
      ]
     },
     "metadata": {},
     "output_type": "display_data"
    },
    {
     "name": "stderr",
     "output_type": "stream",
     "text": [
      "Animation 1: _MethodAnimation(ValueTracker):  77%|#######6  | 230/300 [02:12<01:40,  1.44s/it]"
     ]
    },
    {
     "data": {
      "text/html": [
       "<pre style=\"white-space:pre;overflow-x:auto;line-height:normal;font-family:Menlo,'DejaVu Sans Mono',consolas,'Courier New',monospace\"><span style=\"color: #7fbfbf; text-decoration-color: #7fbfbf\">[01/31/22 22:12:50] </span><span style=\"color: #800000; text-decoration-color: #800000\">WARNING </span> The method CoordinateSystem.get_graph has     <a href=\"file://C:\\Users\\thoma\\AppData\\Local\\Programs\\Python\\Python39\\lib\\site-packages\\manim\\utils\\deprecation.py\"><span style=\"color: #7f7f7f; text-decoration-color: #7f7f7f\">deprecation.py</span></a><span style=\"color: #7f7f7f; text-decoration-color: #7f7f7f\">:</span><a href=\"file://C:\\Users\\thoma\\AppData\\Local\\Programs\\Python\\Python39\\lib\\site-packages\\manim\\utils\\deprecation.py#210\"><span style=\"color: #7f7f7f; text-decoration-color: #7f7f7f\">210</span></a>\n",
       "                             been deprecated since v0.<span style=\"color: #008000; text-decoration-color: #008000\">11.0</span> and is expected                   \n",
       "                             to be removed after v0.<span style=\"color: #008000; text-decoration-color: #008000\">13.0</span>. Use plot                           \n",
       "                             instead.                                                        \n",
       "</pre>\n"
      ],
      "text/plain": [
       "\u001b[2;36m[01/31/22 22:12:50]\u001b[0m\u001b[2;36m \u001b[0m\u001b[31mWARNING \u001b[0m The method CoordinateSystem.get_graph has     \u001b]8;id=585884;file://C:\\Users\\thoma\\AppData\\Local\\Programs\\Python\\Python39\\lib\\site-packages\\manim\\utils\\deprecation.py\u001b\\\u001b[2mdeprecation.py\u001b[0m\u001b]8;;\u001b\\\u001b[2m:\u001b[0m\u001b]8;id=673009;file://C:\\Users\\thoma\\AppData\\Local\\Programs\\Python\\Python39\\lib\\site-packages\\manim\\utils\\deprecation.py#210\u001b\\\u001b[2m210\u001b[0m\u001b]8;;\u001b\\\n",
       "                             been deprecated since v0.\u001b[32m11.0\u001b[0m and is expected                   \n",
       "                             to be removed after v0.\u001b[32m13.0\u001b[0m. Use plot                           \n",
       "                             instead.                                                        \n"
      ]
     },
     "metadata": {},
     "output_type": "display_data"
    },
    {
     "name": "stderr",
     "output_type": "stream",
     "text": [
      "Animation 1: _MethodAnimation(ValueTracker):  77%|#######7  | 231/300 [02:14<01:48,  1.57s/it]"
     ]
    },
    {
     "data": {
      "text/html": [
       "<pre style=\"white-space:pre;overflow-x:auto;line-height:normal;font-family:Menlo,'DejaVu Sans Mono',consolas,'Courier New',monospace\"><span style=\"color: #7fbfbf; text-decoration-color: #7fbfbf\">[01/31/22 22:12:51] </span><span style=\"color: #800000; text-decoration-color: #800000\">WARNING </span> The method CoordinateSystem.get_graph has     <a href=\"file://C:\\Users\\thoma\\AppData\\Local\\Programs\\Python\\Python39\\lib\\site-packages\\manim\\utils\\deprecation.py\"><span style=\"color: #7f7f7f; text-decoration-color: #7f7f7f\">deprecation.py</span></a><span style=\"color: #7f7f7f; text-decoration-color: #7f7f7f\">:</span><a href=\"file://C:\\Users\\thoma\\AppData\\Local\\Programs\\Python\\Python39\\lib\\site-packages\\manim\\utils\\deprecation.py#210\"><span style=\"color: #7f7f7f; text-decoration-color: #7f7f7f\">210</span></a>\n",
       "                             been deprecated since v0.<span style=\"color: #008000; text-decoration-color: #008000\">11.0</span> and is expected                   \n",
       "                             to be removed after v0.<span style=\"color: #008000; text-decoration-color: #008000\">13.0</span>. Use plot                           \n",
       "                             instead.                                                        \n",
       "</pre>\n"
      ],
      "text/plain": [
       "\u001b[2;36m[01/31/22 22:12:51]\u001b[0m\u001b[2;36m \u001b[0m\u001b[31mWARNING \u001b[0m The method CoordinateSystem.get_graph has     \u001b]8;id=181814;file://C:\\Users\\thoma\\AppData\\Local\\Programs\\Python\\Python39\\lib\\site-packages\\manim\\utils\\deprecation.py\u001b\\\u001b[2mdeprecation.py\u001b[0m\u001b]8;;\u001b\\\u001b[2m:\u001b[0m\u001b]8;id=605541;file://C:\\Users\\thoma\\AppData\\Local\\Programs\\Python\\Python39\\lib\\site-packages\\manim\\utils\\deprecation.py#210\u001b\\\u001b[2m210\u001b[0m\u001b]8;;\u001b\\\n",
       "                             been deprecated since v0.\u001b[32m11.0\u001b[0m and is expected                   \n",
       "                             to be removed after v0.\u001b[32m13.0\u001b[0m. Use plot                           \n",
       "                             instead.                                                        \n"
      ]
     },
     "metadata": {},
     "output_type": "display_data"
    },
    {
     "name": "stderr",
     "output_type": "stream",
     "text": [
      "Animation 1: _MethodAnimation(ValueTracker):  77%|#######7  | 232/300 [02:15<01:43,  1.52s/it]"
     ]
    },
    {
     "data": {
      "text/html": [
       "<pre style=\"white-space:pre;overflow-x:auto;line-height:normal;font-family:Menlo,'DejaVu Sans Mono',consolas,'Courier New',monospace\"><span style=\"color: #7fbfbf; text-decoration-color: #7fbfbf\">[01/31/22 22:12:52] </span><span style=\"color: #800000; text-decoration-color: #800000\">WARNING </span> The method CoordinateSystem.get_graph has     <a href=\"file://C:\\Users\\thoma\\AppData\\Local\\Programs\\Python\\Python39\\lib\\site-packages\\manim\\utils\\deprecation.py\"><span style=\"color: #7f7f7f; text-decoration-color: #7f7f7f\">deprecation.py</span></a><span style=\"color: #7f7f7f; text-decoration-color: #7f7f7f\">:</span><a href=\"file://C:\\Users\\thoma\\AppData\\Local\\Programs\\Python\\Python39\\lib\\site-packages\\manim\\utils\\deprecation.py#210\"><span style=\"color: #7f7f7f; text-decoration-color: #7f7f7f\">210</span></a>\n",
       "                             been deprecated since v0.<span style=\"color: #008000; text-decoration-color: #008000\">11.0</span> and is expected                   \n",
       "                             to be removed after v0.<span style=\"color: #008000; text-decoration-color: #008000\">13.0</span>. Use plot                           \n",
       "                             instead.                                                        \n",
       "</pre>\n"
      ],
      "text/plain": [
       "\u001b[2;36m[01/31/22 22:12:52]\u001b[0m\u001b[2;36m \u001b[0m\u001b[31mWARNING \u001b[0m The method CoordinateSystem.get_graph has     \u001b]8;id=411683;file://C:\\Users\\thoma\\AppData\\Local\\Programs\\Python\\Python39\\lib\\site-packages\\manim\\utils\\deprecation.py\u001b\\\u001b[2mdeprecation.py\u001b[0m\u001b]8;;\u001b\\\u001b[2m:\u001b[0m\u001b]8;id=561071;file://C:\\Users\\thoma\\AppData\\Local\\Programs\\Python\\Python39\\lib\\site-packages\\manim\\utils\\deprecation.py#210\u001b\\\u001b[2m210\u001b[0m\u001b]8;;\u001b\\\n",
       "                             been deprecated since v0.\u001b[32m11.0\u001b[0m and is expected                   \n",
       "                             to be removed after v0.\u001b[32m13.0\u001b[0m. Use plot                           \n",
       "                             instead.                                                        \n"
      ]
     },
     "metadata": {},
     "output_type": "display_data"
    },
    {
     "name": "stderr",
     "output_type": "stream",
     "text": [
      "Animation 1: _MethodAnimation(ValueTracker):  78%|#######7  | 233/300 [02:16<01:38,  1.46s/it]"
     ]
    },
    {
     "data": {
      "text/html": [
       "<pre style=\"white-space:pre;overflow-x:auto;line-height:normal;font-family:Menlo,'DejaVu Sans Mono',consolas,'Courier New',monospace\"><span style=\"color: #7fbfbf; text-decoration-color: #7fbfbf\">[01/31/22 22:12:54] </span><span style=\"color: #800000; text-decoration-color: #800000\">WARNING </span> The method CoordinateSystem.get_graph has     <a href=\"file://C:\\Users\\thoma\\AppData\\Local\\Programs\\Python\\Python39\\lib\\site-packages\\manim\\utils\\deprecation.py\"><span style=\"color: #7f7f7f; text-decoration-color: #7f7f7f\">deprecation.py</span></a><span style=\"color: #7f7f7f; text-decoration-color: #7f7f7f\">:</span><a href=\"file://C:\\Users\\thoma\\AppData\\Local\\Programs\\Python\\Python39\\lib\\site-packages\\manim\\utils\\deprecation.py#210\"><span style=\"color: #7f7f7f; text-decoration-color: #7f7f7f\">210</span></a>\n",
       "                             been deprecated since v0.<span style=\"color: #008000; text-decoration-color: #008000\">11.0</span> and is expected                   \n",
       "                             to be removed after v0.<span style=\"color: #008000; text-decoration-color: #008000\">13.0</span>. Use plot                           \n",
       "                             instead.                                                        \n",
       "</pre>\n"
      ],
      "text/plain": [
       "\u001b[2;36m[01/31/22 22:12:54]\u001b[0m\u001b[2;36m \u001b[0m\u001b[31mWARNING \u001b[0m The method CoordinateSystem.get_graph has     \u001b]8;id=529080;file://C:\\Users\\thoma\\AppData\\Local\\Programs\\Python\\Python39\\lib\\site-packages\\manim\\utils\\deprecation.py\u001b\\\u001b[2mdeprecation.py\u001b[0m\u001b]8;;\u001b\\\u001b[2m:\u001b[0m\u001b]8;id=985745;file://C:\\Users\\thoma\\AppData\\Local\\Programs\\Python\\Python39\\lib\\site-packages\\manim\\utils\\deprecation.py#210\u001b\\\u001b[2m210\u001b[0m\u001b]8;;\u001b\\\n",
       "                             been deprecated since v0.\u001b[32m11.0\u001b[0m and is expected                   \n",
       "                             to be removed after v0.\u001b[32m13.0\u001b[0m. Use plot                           \n",
       "                             instead.                                                        \n"
      ]
     },
     "metadata": {},
     "output_type": "display_data"
    },
    {
     "name": "stderr",
     "output_type": "stream",
     "text": [
      "Animation 1: _MethodAnimation(ValueTracker):  78%|#######8  | 234/300 [02:18<01:36,  1.46s/it]"
     ]
    },
    {
     "data": {
      "text/html": [
       "<pre style=\"white-space:pre;overflow-x:auto;line-height:normal;font-family:Menlo,'DejaVu Sans Mono',consolas,'Courier New',monospace\"><span style=\"color: #7fbfbf; text-decoration-color: #7fbfbf\">[01/31/22 22:12:56] </span><span style=\"color: #800000; text-decoration-color: #800000\">WARNING </span> The method CoordinateSystem.get_graph has     <a href=\"file://C:\\Users\\thoma\\AppData\\Local\\Programs\\Python\\Python39\\lib\\site-packages\\manim\\utils\\deprecation.py\"><span style=\"color: #7f7f7f; text-decoration-color: #7f7f7f\">deprecation.py</span></a><span style=\"color: #7f7f7f; text-decoration-color: #7f7f7f\">:</span><a href=\"file://C:\\Users\\thoma\\AppData\\Local\\Programs\\Python\\Python39\\lib\\site-packages\\manim\\utils\\deprecation.py#210\"><span style=\"color: #7f7f7f; text-decoration-color: #7f7f7f\">210</span></a>\n",
       "                             been deprecated since v0.<span style=\"color: #008000; text-decoration-color: #008000\">11.0</span> and is expected                   \n",
       "                             to be removed after v0.<span style=\"color: #008000; text-decoration-color: #008000\">13.0</span>. Use plot                           \n",
       "                             instead.                                                        \n",
       "</pre>\n"
      ],
      "text/plain": [
       "\u001b[2;36m[01/31/22 22:12:56]\u001b[0m\u001b[2;36m \u001b[0m\u001b[31mWARNING \u001b[0m The method CoordinateSystem.get_graph has     \u001b]8;id=682892;file://C:\\Users\\thoma\\AppData\\Local\\Programs\\Python\\Python39\\lib\\site-packages\\manim\\utils\\deprecation.py\u001b\\\u001b[2mdeprecation.py\u001b[0m\u001b]8;;\u001b\\\u001b[2m:\u001b[0m\u001b]8;id=679530;file://C:\\Users\\thoma\\AppData\\Local\\Programs\\Python\\Python39\\lib\\site-packages\\manim\\utils\\deprecation.py#210\u001b\\\u001b[2m210\u001b[0m\u001b]8;;\u001b\\\n",
       "                             been deprecated since v0.\u001b[32m11.0\u001b[0m and is expected                   \n",
       "                             to be removed after v0.\u001b[32m13.0\u001b[0m. Use plot                           \n",
       "                             instead.                                                        \n"
      ]
     },
     "metadata": {},
     "output_type": "display_data"
    },
    {
     "name": "stderr",
     "output_type": "stream",
     "text": [
      "Animation 1: _MethodAnimation(ValueTracker):  78%|#######8  | 235/300 [02:20<01:42,  1.57s/it]"
     ]
    },
    {
     "data": {
      "text/html": [
       "<pre style=\"white-space:pre;overflow-x:auto;line-height:normal;font-family:Menlo,'DejaVu Sans Mono',consolas,'Courier New',monospace\"><span style=\"color: #7fbfbf; text-decoration-color: #7fbfbf\">[01/31/22 22:12:57] </span><span style=\"color: #800000; text-decoration-color: #800000\">WARNING </span> The method CoordinateSystem.get_graph has     <a href=\"file://C:\\Users\\thoma\\AppData\\Local\\Programs\\Python\\Python39\\lib\\site-packages\\manim\\utils\\deprecation.py\"><span style=\"color: #7f7f7f; text-decoration-color: #7f7f7f\">deprecation.py</span></a><span style=\"color: #7f7f7f; text-decoration-color: #7f7f7f\">:</span><a href=\"file://C:\\Users\\thoma\\AppData\\Local\\Programs\\Python\\Python39\\lib\\site-packages\\manim\\utils\\deprecation.py#210\"><span style=\"color: #7f7f7f; text-decoration-color: #7f7f7f\">210</span></a>\n",
       "                             been deprecated since v0.<span style=\"color: #008000; text-decoration-color: #008000\">11.0</span> and is expected                   \n",
       "                             to be removed after v0.<span style=\"color: #008000; text-decoration-color: #008000\">13.0</span>. Use plot                           \n",
       "                             instead.                                                        \n",
       "</pre>\n"
      ],
      "text/plain": [
       "\u001b[2;36m[01/31/22 22:12:57]\u001b[0m\u001b[2;36m \u001b[0m\u001b[31mWARNING \u001b[0m The method CoordinateSystem.get_graph has     \u001b]8;id=949359;file://C:\\Users\\thoma\\AppData\\Local\\Programs\\Python\\Python39\\lib\\site-packages\\manim\\utils\\deprecation.py\u001b\\\u001b[2mdeprecation.py\u001b[0m\u001b]8;;\u001b\\\u001b[2m:\u001b[0m\u001b]8;id=948505;file://C:\\Users\\thoma\\AppData\\Local\\Programs\\Python\\Python39\\lib\\site-packages\\manim\\utils\\deprecation.py#210\u001b\\\u001b[2m210\u001b[0m\u001b]8;;\u001b\\\n",
       "                             been deprecated since v0.\u001b[32m11.0\u001b[0m and is expected                   \n",
       "                             to be removed after v0.\u001b[32m13.0\u001b[0m. Use plot                           \n",
       "                             instead.                                                        \n"
      ]
     },
     "metadata": {},
     "output_type": "display_data"
    },
    {
     "name": "stderr",
     "output_type": "stream",
     "text": [
      "Animation 1: _MethodAnimation(ValueTracker):  79%|#######8  | 236/300 [02:21<01:40,  1.57s/it]"
     ]
    },
    {
     "data": {
      "text/html": [
       "<pre style=\"white-space:pre;overflow-x:auto;line-height:normal;font-family:Menlo,'DejaVu Sans Mono',consolas,'Courier New',monospace\"><span style=\"color: #7fbfbf; text-decoration-color: #7fbfbf\">[01/31/22 22:12:58] </span><span style=\"color: #800000; text-decoration-color: #800000\">WARNING </span> The method CoordinateSystem.get_graph has     <a href=\"file://C:\\Users\\thoma\\AppData\\Local\\Programs\\Python\\Python39\\lib\\site-packages\\manim\\utils\\deprecation.py\"><span style=\"color: #7f7f7f; text-decoration-color: #7f7f7f\">deprecation.py</span></a><span style=\"color: #7f7f7f; text-decoration-color: #7f7f7f\">:</span><a href=\"file://C:\\Users\\thoma\\AppData\\Local\\Programs\\Python\\Python39\\lib\\site-packages\\manim\\utils\\deprecation.py#210\"><span style=\"color: #7f7f7f; text-decoration-color: #7f7f7f\">210</span></a>\n",
       "                             been deprecated since v0.<span style=\"color: #008000; text-decoration-color: #008000\">11.0</span> and is expected                   \n",
       "                             to be removed after v0.<span style=\"color: #008000; text-decoration-color: #008000\">13.0</span>. Use plot                           \n",
       "                             instead.                                                        \n",
       "</pre>\n"
      ],
      "text/plain": [
       "\u001b[2;36m[01/31/22 22:12:58]\u001b[0m\u001b[2;36m \u001b[0m\u001b[31mWARNING \u001b[0m The method CoordinateSystem.get_graph has     \u001b]8;id=525757;file://C:\\Users\\thoma\\AppData\\Local\\Programs\\Python\\Python39\\lib\\site-packages\\manim\\utils\\deprecation.py\u001b\\\u001b[2mdeprecation.py\u001b[0m\u001b]8;;\u001b\\\u001b[2m:\u001b[0m\u001b]8;id=328983;file://C:\\Users\\thoma\\AppData\\Local\\Programs\\Python\\Python39\\lib\\site-packages\\manim\\utils\\deprecation.py#210\u001b\\\u001b[2m210\u001b[0m\u001b]8;;\u001b\\\n",
       "                             been deprecated since v0.\u001b[32m11.0\u001b[0m and is expected                   \n",
       "                             to be removed after v0.\u001b[32m13.0\u001b[0m. Use plot                           \n",
       "                             instead.                                                        \n"
      ]
     },
     "metadata": {},
     "output_type": "display_data"
    },
    {
     "name": "stderr",
     "output_type": "stream",
     "text": [
      "Animation 1: _MethodAnimation(ValueTracker):  79%|#######9  | 237/300 [02:23<01:33,  1.49s/it]"
     ]
    },
    {
     "data": {
      "text/html": [
       "<pre style=\"white-space:pre;overflow-x:auto;line-height:normal;font-family:Menlo,'DejaVu Sans Mono',consolas,'Courier New',monospace\"><span style=\"color: #7fbfbf; text-decoration-color: #7fbfbf\">[01/31/22 22:13:00] </span><span style=\"color: #800000; text-decoration-color: #800000\">WARNING </span> The method CoordinateSystem.get_graph has     <a href=\"file://C:\\Users\\thoma\\AppData\\Local\\Programs\\Python\\Python39\\lib\\site-packages\\manim\\utils\\deprecation.py\"><span style=\"color: #7f7f7f; text-decoration-color: #7f7f7f\">deprecation.py</span></a><span style=\"color: #7f7f7f; text-decoration-color: #7f7f7f\">:</span><a href=\"file://C:\\Users\\thoma\\AppData\\Local\\Programs\\Python\\Python39\\lib\\site-packages\\manim\\utils\\deprecation.py#210\"><span style=\"color: #7f7f7f; text-decoration-color: #7f7f7f\">210</span></a>\n",
       "                             been deprecated since v0.<span style=\"color: #008000; text-decoration-color: #008000\">11.0</span> and is expected                   \n",
       "                             to be removed after v0.<span style=\"color: #008000; text-decoration-color: #008000\">13.0</span>. Use plot                           \n",
       "                             instead.                                                        \n",
       "</pre>\n"
      ],
      "text/plain": [
       "\u001b[2;36m[01/31/22 22:13:00]\u001b[0m\u001b[2;36m \u001b[0m\u001b[31mWARNING \u001b[0m The method CoordinateSystem.get_graph has     \u001b]8;id=860276;file://C:\\Users\\thoma\\AppData\\Local\\Programs\\Python\\Python39\\lib\\site-packages\\manim\\utils\\deprecation.py\u001b\\\u001b[2mdeprecation.py\u001b[0m\u001b]8;;\u001b\\\u001b[2m:\u001b[0m\u001b]8;id=874072;file://C:\\Users\\thoma\\AppData\\Local\\Programs\\Python\\Python39\\lib\\site-packages\\manim\\utils\\deprecation.py#210\u001b\\\u001b[2m210\u001b[0m\u001b]8;;\u001b\\\n",
       "                             been deprecated since v0.\u001b[32m11.0\u001b[0m and is expected                   \n",
       "                             to be removed after v0.\u001b[32m13.0\u001b[0m. Use plot                           \n",
       "                             instead.                                                        \n"
      ]
     },
     "metadata": {},
     "output_type": "display_data"
    },
    {
     "name": "stderr",
     "output_type": "stream",
     "text": [
      "Animation 1: _MethodAnimation(ValueTracker):  79%|#######9  | 238/300 [02:24<01:34,  1.52s/it]"
     ]
    },
    {
     "data": {
      "text/html": [
       "<pre style=\"white-space:pre;overflow-x:auto;line-height:normal;font-family:Menlo,'DejaVu Sans Mono',consolas,'Courier New',monospace\"><span style=\"color: #7fbfbf; text-decoration-color: #7fbfbf\">[01/31/22 22:13:02] </span><span style=\"color: #800000; text-decoration-color: #800000\">WARNING </span> The method CoordinateSystem.get_graph has     <a href=\"file://C:\\Users\\thoma\\AppData\\Local\\Programs\\Python\\Python39\\lib\\site-packages\\manim\\utils\\deprecation.py\"><span style=\"color: #7f7f7f; text-decoration-color: #7f7f7f\">deprecation.py</span></a><span style=\"color: #7f7f7f; text-decoration-color: #7f7f7f\">:</span><a href=\"file://C:\\Users\\thoma\\AppData\\Local\\Programs\\Python\\Python39\\lib\\site-packages\\manim\\utils\\deprecation.py#210\"><span style=\"color: #7f7f7f; text-decoration-color: #7f7f7f\">210</span></a>\n",
       "                             been deprecated since v0.<span style=\"color: #008000; text-decoration-color: #008000\">11.0</span> and is expected                   \n",
       "                             to be removed after v0.<span style=\"color: #008000; text-decoration-color: #008000\">13.0</span>. Use plot                           \n",
       "                             instead.                                                        \n",
       "</pre>\n"
      ],
      "text/plain": [
       "\u001b[2;36m[01/31/22 22:13:02]\u001b[0m\u001b[2;36m \u001b[0m\u001b[31mWARNING \u001b[0m The method CoordinateSystem.get_graph has     \u001b]8;id=805378;file://C:\\Users\\thoma\\AppData\\Local\\Programs\\Python\\Python39\\lib\\site-packages\\manim\\utils\\deprecation.py\u001b\\\u001b[2mdeprecation.py\u001b[0m\u001b]8;;\u001b\\\u001b[2m:\u001b[0m\u001b]8;id=516837;file://C:\\Users\\thoma\\AppData\\Local\\Programs\\Python\\Python39\\lib\\site-packages\\manim\\utils\\deprecation.py#210\u001b\\\u001b[2m210\u001b[0m\u001b]8;;\u001b\\\n",
       "                             been deprecated since v0.\u001b[32m11.0\u001b[0m and is expected                   \n",
       "                             to be removed after v0.\u001b[32m13.0\u001b[0m. Use plot                           \n",
       "                             instead.                                                        \n"
      ]
     },
     "metadata": {},
     "output_type": "display_data"
    },
    {
     "name": "stderr",
     "output_type": "stream",
     "text": [
      "Animation 1: _MethodAnimation(ValueTracker):  80%|#######9  | 239/300 [02:26<01:37,  1.60s/it]"
     ]
    },
    {
     "data": {
      "text/html": [
       "<pre style=\"white-space:pre;overflow-x:auto;line-height:normal;font-family:Menlo,'DejaVu Sans Mono',consolas,'Courier New',monospace\"><span style=\"color: #7fbfbf; text-decoration-color: #7fbfbf\">[01/31/22 22:13:03] </span><span style=\"color: #800000; text-decoration-color: #800000\">WARNING </span> The method CoordinateSystem.get_graph has     <a href=\"file://C:\\Users\\thoma\\AppData\\Local\\Programs\\Python\\Python39\\lib\\site-packages\\manim\\utils\\deprecation.py\"><span style=\"color: #7f7f7f; text-decoration-color: #7f7f7f\">deprecation.py</span></a><span style=\"color: #7f7f7f; text-decoration-color: #7f7f7f\">:</span><a href=\"file://C:\\Users\\thoma\\AppData\\Local\\Programs\\Python\\Python39\\lib\\site-packages\\manim\\utils\\deprecation.py#210\"><span style=\"color: #7f7f7f; text-decoration-color: #7f7f7f\">210</span></a>\n",
       "                             been deprecated since v0.<span style=\"color: #008000; text-decoration-color: #008000\">11.0</span> and is expected                   \n",
       "                             to be removed after v0.<span style=\"color: #008000; text-decoration-color: #008000\">13.0</span>. Use plot                           \n",
       "                             instead.                                                        \n",
       "</pre>\n"
      ],
      "text/plain": [
       "\u001b[2;36m[01/31/22 22:13:03]\u001b[0m\u001b[2;36m \u001b[0m\u001b[31mWARNING \u001b[0m The method CoordinateSystem.get_graph has     \u001b]8;id=153055;file://C:\\Users\\thoma\\AppData\\Local\\Programs\\Python\\Python39\\lib\\site-packages\\manim\\utils\\deprecation.py\u001b\\\u001b[2mdeprecation.py\u001b[0m\u001b]8;;\u001b\\\u001b[2m:\u001b[0m\u001b]8;id=936447;file://C:\\Users\\thoma\\AppData\\Local\\Programs\\Python\\Python39\\lib\\site-packages\\manim\\utils\\deprecation.py#210\u001b\\\u001b[2m210\u001b[0m\u001b]8;;\u001b\\\n",
       "                             been deprecated since v0.\u001b[32m11.0\u001b[0m and is expected                   \n",
       "                             to be removed after v0.\u001b[32m13.0\u001b[0m. Use plot                           \n",
       "                             instead.                                                        \n"
      ]
     },
     "metadata": {},
     "output_type": "display_data"
    },
    {
     "name": "stderr",
     "output_type": "stream",
     "text": [
      "Animation 1: _MethodAnimation(ValueTracker):  80%|########  | 240/300 [02:28<01:37,  1.63s/it]"
     ]
    },
    {
     "data": {
      "text/html": [
       "<pre style=\"white-space:pre;overflow-x:auto;line-height:normal;font-family:Menlo,'DejaVu Sans Mono',consolas,'Courier New',monospace\"><span style=\"color: #7fbfbf; text-decoration-color: #7fbfbf\">[01/31/22 22:13:05] </span><span style=\"color: #800000; text-decoration-color: #800000\">WARNING </span> The method CoordinateSystem.get_graph has     <a href=\"file://C:\\Users\\thoma\\AppData\\Local\\Programs\\Python\\Python39\\lib\\site-packages\\manim\\utils\\deprecation.py\"><span style=\"color: #7f7f7f; text-decoration-color: #7f7f7f\">deprecation.py</span></a><span style=\"color: #7f7f7f; text-decoration-color: #7f7f7f\">:</span><a href=\"file://C:\\Users\\thoma\\AppData\\Local\\Programs\\Python\\Python39\\lib\\site-packages\\manim\\utils\\deprecation.py#210\"><span style=\"color: #7f7f7f; text-decoration-color: #7f7f7f\">210</span></a>\n",
       "                             been deprecated since v0.<span style=\"color: #008000; text-decoration-color: #008000\">11.0</span> and is expected                   \n",
       "                             to be removed after v0.<span style=\"color: #008000; text-decoration-color: #008000\">13.0</span>. Use plot                           \n",
       "                             instead.                                                        \n",
       "</pre>\n"
      ],
      "text/plain": [
       "\u001b[2;36m[01/31/22 22:13:05]\u001b[0m\u001b[2;36m \u001b[0m\u001b[31mWARNING \u001b[0m The method CoordinateSystem.get_graph has     \u001b]8;id=682040;file://C:\\Users\\thoma\\AppData\\Local\\Programs\\Python\\Python39\\lib\\site-packages\\manim\\utils\\deprecation.py\u001b\\\u001b[2mdeprecation.py\u001b[0m\u001b]8;;\u001b\\\u001b[2m:\u001b[0m\u001b]8;id=538290;file://C:\\Users\\thoma\\AppData\\Local\\Programs\\Python\\Python39\\lib\\site-packages\\manim\\utils\\deprecation.py#210\u001b\\\u001b[2m210\u001b[0m\u001b]8;;\u001b\\\n",
       "                             been deprecated since v0.\u001b[32m11.0\u001b[0m and is expected                   \n",
       "                             to be removed after v0.\u001b[32m13.0\u001b[0m. Use plot                           \n",
       "                             instead.                                                        \n"
      ]
     },
     "metadata": {},
     "output_type": "display_data"
    },
    {
     "name": "stderr",
     "output_type": "stream",
     "text": [
      "Animation 1: _MethodAnimation(ValueTracker):  80%|########  | 241/300 [02:29<01:33,  1.59s/it]"
     ]
    },
    {
     "data": {
      "text/html": [
       "<pre style=\"white-space:pre;overflow-x:auto;line-height:normal;font-family:Menlo,'DejaVu Sans Mono',consolas,'Courier New',monospace\"><span style=\"color: #7fbfbf; text-decoration-color: #7fbfbf\">[01/31/22 22:13:06] </span><span style=\"color: #800000; text-decoration-color: #800000\">WARNING </span> The method CoordinateSystem.get_graph has     <a href=\"file://C:\\Users\\thoma\\AppData\\Local\\Programs\\Python\\Python39\\lib\\site-packages\\manim\\utils\\deprecation.py\"><span style=\"color: #7f7f7f; text-decoration-color: #7f7f7f\">deprecation.py</span></a><span style=\"color: #7f7f7f; text-decoration-color: #7f7f7f\">:</span><a href=\"file://C:\\Users\\thoma\\AppData\\Local\\Programs\\Python\\Python39\\lib\\site-packages\\manim\\utils\\deprecation.py#210\"><span style=\"color: #7f7f7f; text-decoration-color: #7f7f7f\">210</span></a>\n",
       "                             been deprecated since v0.<span style=\"color: #008000; text-decoration-color: #008000\">11.0</span> and is expected                   \n",
       "                             to be removed after v0.<span style=\"color: #008000; text-decoration-color: #008000\">13.0</span>. Use plot                           \n",
       "                             instead.                                                        \n",
       "</pre>\n"
      ],
      "text/plain": [
       "\u001b[2;36m[01/31/22 22:13:06]\u001b[0m\u001b[2;36m \u001b[0m\u001b[31mWARNING \u001b[0m The method CoordinateSystem.get_graph has     \u001b]8;id=736335;file://C:\\Users\\thoma\\AppData\\Local\\Programs\\Python\\Python39\\lib\\site-packages\\manim\\utils\\deprecation.py\u001b\\\u001b[2mdeprecation.py\u001b[0m\u001b]8;;\u001b\\\u001b[2m:\u001b[0m\u001b]8;id=65200;file://C:\\Users\\thoma\\AppData\\Local\\Programs\\Python\\Python39\\lib\\site-packages\\manim\\utils\\deprecation.py#210\u001b\\\u001b[2m210\u001b[0m\u001b]8;;\u001b\\\n",
       "                             been deprecated since v0.\u001b[32m11.0\u001b[0m and is expected                   \n",
       "                             to be removed after v0.\u001b[32m13.0\u001b[0m. Use plot                           \n",
       "                             instead.                                                        \n"
      ]
     },
     "metadata": {},
     "output_type": "display_data"
    },
    {
     "name": "stderr",
     "output_type": "stream",
     "text": [
      "Animation 1: _MethodAnimation(ValueTracker):  81%|########  | 242/300 [02:31<01:28,  1.53s/it]"
     ]
    },
    {
     "data": {
      "text/html": [
       "<pre style=\"white-space:pre;overflow-x:auto;line-height:normal;font-family:Menlo,'DejaVu Sans Mono',consolas,'Courier New',monospace\"><span style=\"color: #7fbfbf; text-decoration-color: #7fbfbf\">[01/31/22 22:13:08] </span><span style=\"color: #800000; text-decoration-color: #800000\">WARNING </span> The method CoordinateSystem.get_graph has     <a href=\"file://C:\\Users\\thoma\\AppData\\Local\\Programs\\Python\\Python39\\lib\\site-packages\\manim\\utils\\deprecation.py\"><span style=\"color: #7f7f7f; text-decoration-color: #7f7f7f\">deprecation.py</span></a><span style=\"color: #7f7f7f; text-decoration-color: #7f7f7f\">:</span><a href=\"file://C:\\Users\\thoma\\AppData\\Local\\Programs\\Python\\Python39\\lib\\site-packages\\manim\\utils\\deprecation.py#210\"><span style=\"color: #7f7f7f; text-decoration-color: #7f7f7f\">210</span></a>\n",
       "                             been deprecated since v0.<span style=\"color: #008000; text-decoration-color: #008000\">11.0</span> and is expected                   \n",
       "                             to be removed after v0.<span style=\"color: #008000; text-decoration-color: #008000\">13.0</span>. Use plot                           \n",
       "                             instead.                                                        \n",
       "</pre>\n"
      ],
      "text/plain": [
       "\u001b[2;36m[01/31/22 22:13:08]\u001b[0m\u001b[2;36m \u001b[0m\u001b[31mWARNING \u001b[0m The method CoordinateSystem.get_graph has     \u001b]8;id=855129;file://C:\\Users\\thoma\\AppData\\Local\\Programs\\Python\\Python39\\lib\\site-packages\\manim\\utils\\deprecation.py\u001b\\\u001b[2mdeprecation.py\u001b[0m\u001b]8;;\u001b\\\u001b[2m:\u001b[0m\u001b]8;id=664442;file://C:\\Users\\thoma\\AppData\\Local\\Programs\\Python\\Python39\\lib\\site-packages\\manim\\utils\\deprecation.py#210\u001b\\\u001b[2m210\u001b[0m\u001b]8;;\u001b\\\n",
       "                             been deprecated since v0.\u001b[32m11.0\u001b[0m and is expected                   \n",
       "                             to be removed after v0.\u001b[32m13.0\u001b[0m. Use plot                           \n",
       "                             instead.                                                        \n"
      ]
     },
     "metadata": {},
     "output_type": "display_data"
    },
    {
     "name": "stderr",
     "output_type": "stream",
     "text": [
      "Animation 1: _MethodAnimation(ValueTracker):  81%|########1 | 243/300 [02:32<01:26,  1.52s/it]"
     ]
    },
    {
     "data": {
      "text/html": [
       "<pre style=\"white-space:pre;overflow-x:auto;line-height:normal;font-family:Menlo,'DejaVu Sans Mono',consolas,'Courier New',monospace\"><span style=\"color: #7fbfbf; text-decoration-color: #7fbfbf\">[01/31/22 22:13:10] </span><span style=\"color: #800000; text-decoration-color: #800000\">WARNING </span> The method CoordinateSystem.get_graph has     <a href=\"file://C:\\Users\\thoma\\AppData\\Local\\Programs\\Python\\Python39\\lib\\site-packages\\manim\\utils\\deprecation.py\"><span style=\"color: #7f7f7f; text-decoration-color: #7f7f7f\">deprecation.py</span></a><span style=\"color: #7f7f7f; text-decoration-color: #7f7f7f\">:</span><a href=\"file://C:\\Users\\thoma\\AppData\\Local\\Programs\\Python\\Python39\\lib\\site-packages\\manim\\utils\\deprecation.py#210\"><span style=\"color: #7f7f7f; text-decoration-color: #7f7f7f\">210</span></a>\n",
       "                             been deprecated since v0.<span style=\"color: #008000; text-decoration-color: #008000\">11.0</span> and is expected                   \n",
       "                             to be removed after v0.<span style=\"color: #008000; text-decoration-color: #008000\">13.0</span>. Use plot                           \n",
       "                             instead.                                                        \n",
       "</pre>\n"
      ],
      "text/plain": [
       "\u001b[2;36m[01/31/22 22:13:10]\u001b[0m\u001b[2;36m \u001b[0m\u001b[31mWARNING \u001b[0m The method CoordinateSystem.get_graph has     \u001b]8;id=374944;file://C:\\Users\\thoma\\AppData\\Local\\Programs\\Python\\Python39\\lib\\site-packages\\manim\\utils\\deprecation.py\u001b\\\u001b[2mdeprecation.py\u001b[0m\u001b]8;;\u001b\\\u001b[2m:\u001b[0m\u001b]8;id=355998;file://C:\\Users\\thoma\\AppData\\Local\\Programs\\Python\\Python39\\lib\\site-packages\\manim\\utils\\deprecation.py#210\u001b\\\u001b[2m210\u001b[0m\u001b]8;;\u001b\\\n",
       "                             been deprecated since v0.\u001b[32m11.0\u001b[0m and is expected                   \n",
       "                             to be removed after v0.\u001b[32m13.0\u001b[0m. Use plot                           \n",
       "                             instead.                                                        \n"
      ]
     },
     "metadata": {},
     "output_type": "display_data"
    },
    {
     "name": "stderr",
     "output_type": "stream",
     "text": [
      "Animation 1: _MethodAnimation(ValueTracker):  81%|########1 | 244/300 [02:34<01:34,  1.69s/it]"
     ]
    },
    {
     "data": {
      "text/html": [
       "<pre style=\"white-space:pre;overflow-x:auto;line-height:normal;font-family:Menlo,'DejaVu Sans Mono',consolas,'Courier New',monospace\"><span style=\"color: #7fbfbf; text-decoration-color: #7fbfbf\">[01/31/22 22:13:11] </span><span style=\"color: #800000; text-decoration-color: #800000\">WARNING </span> The method CoordinateSystem.get_graph has     <a href=\"file://C:\\Users\\thoma\\AppData\\Local\\Programs\\Python\\Python39\\lib\\site-packages\\manim\\utils\\deprecation.py\"><span style=\"color: #7f7f7f; text-decoration-color: #7f7f7f\">deprecation.py</span></a><span style=\"color: #7f7f7f; text-decoration-color: #7f7f7f\">:</span><a href=\"file://C:\\Users\\thoma\\AppData\\Local\\Programs\\Python\\Python39\\lib\\site-packages\\manim\\utils\\deprecation.py#210\"><span style=\"color: #7f7f7f; text-decoration-color: #7f7f7f\">210</span></a>\n",
       "                             been deprecated since v0.<span style=\"color: #008000; text-decoration-color: #008000\">11.0</span> and is expected                   \n",
       "                             to be removed after v0.<span style=\"color: #008000; text-decoration-color: #008000\">13.0</span>. Use plot                           \n",
       "                             instead.                                                        \n",
       "</pre>\n"
      ],
      "text/plain": [
       "\u001b[2;36m[01/31/22 22:13:11]\u001b[0m\u001b[2;36m \u001b[0m\u001b[31mWARNING \u001b[0m The method CoordinateSystem.get_graph has     \u001b]8;id=620993;file://C:\\Users\\thoma\\AppData\\Local\\Programs\\Python\\Python39\\lib\\site-packages\\manim\\utils\\deprecation.py\u001b\\\u001b[2mdeprecation.py\u001b[0m\u001b]8;;\u001b\\\u001b[2m:\u001b[0m\u001b]8;id=250165;file://C:\\Users\\thoma\\AppData\\Local\\Programs\\Python\\Python39\\lib\\site-packages\\manim\\utils\\deprecation.py#210\u001b\\\u001b[2m210\u001b[0m\u001b]8;;\u001b\\\n",
       "                             been deprecated since v0.\u001b[32m11.0\u001b[0m and is expected                   \n",
       "                             to be removed after v0.\u001b[32m13.0\u001b[0m. Use plot                           \n",
       "                             instead.                                                        \n"
      ]
     },
     "metadata": {},
     "output_type": "display_data"
    },
    {
     "name": "stderr",
     "output_type": "stream",
     "text": [
      "Animation 1: _MethodAnimation(ValueTracker):  82%|########1 | 245/300 [02:36<01:29,  1.63s/it]"
     ]
    },
    {
     "data": {
      "text/html": [
       "<pre style=\"white-space:pre;overflow-x:auto;line-height:normal;font-family:Menlo,'DejaVu Sans Mono',consolas,'Courier New',monospace\"><span style=\"color: #7fbfbf; text-decoration-color: #7fbfbf\">[01/31/22 22:13:13] </span><span style=\"color: #800000; text-decoration-color: #800000\">WARNING </span> The method CoordinateSystem.get_graph has     <a href=\"file://C:\\Users\\thoma\\AppData\\Local\\Programs\\Python\\Python39\\lib\\site-packages\\manim\\utils\\deprecation.py\"><span style=\"color: #7f7f7f; text-decoration-color: #7f7f7f\">deprecation.py</span></a><span style=\"color: #7f7f7f; text-decoration-color: #7f7f7f\">:</span><a href=\"file://C:\\Users\\thoma\\AppData\\Local\\Programs\\Python\\Python39\\lib\\site-packages\\manim\\utils\\deprecation.py#210\"><span style=\"color: #7f7f7f; text-decoration-color: #7f7f7f\">210</span></a>\n",
       "                             been deprecated since v0.<span style=\"color: #008000; text-decoration-color: #008000\">11.0</span> and is expected                   \n",
       "                             to be removed after v0.<span style=\"color: #008000; text-decoration-color: #008000\">13.0</span>. Use plot                           \n",
       "                             instead.                                                        \n",
       "</pre>\n"
      ],
      "text/plain": [
       "\u001b[2;36m[01/31/22 22:13:13]\u001b[0m\u001b[2;36m \u001b[0m\u001b[31mWARNING \u001b[0m The method CoordinateSystem.get_graph has     \u001b]8;id=97658;file://C:\\Users\\thoma\\AppData\\Local\\Programs\\Python\\Python39\\lib\\site-packages\\manim\\utils\\deprecation.py\u001b\\\u001b[2mdeprecation.py\u001b[0m\u001b]8;;\u001b\\\u001b[2m:\u001b[0m\u001b]8;id=287398;file://C:\\Users\\thoma\\AppData\\Local\\Programs\\Python\\Python39\\lib\\site-packages\\manim\\utils\\deprecation.py#210\u001b\\\u001b[2m210\u001b[0m\u001b]8;;\u001b\\\n",
       "                             been deprecated since v0.\u001b[32m11.0\u001b[0m and is expected                   \n",
       "                             to be removed after v0.\u001b[32m13.0\u001b[0m. Use plot                           \n",
       "                             instead.                                                        \n"
      ]
     },
     "metadata": {},
     "output_type": "display_data"
    },
    {
     "name": "stderr",
     "output_type": "stream",
     "text": [
      "Animation 1: _MethodAnimation(ValueTracker):  82%|########2 | 246/300 [02:37<01:25,  1.58s/it]"
     ]
    },
    {
     "data": {
      "text/html": [
       "<pre style=\"white-space:pre;overflow-x:auto;line-height:normal;font-family:Menlo,'DejaVu Sans Mono',consolas,'Courier New',monospace\"><span style=\"color: #7fbfbf; text-decoration-color: #7fbfbf\">[01/31/22 22:13:14] </span><span style=\"color: #800000; text-decoration-color: #800000\">WARNING </span> The method CoordinateSystem.get_graph has     <a href=\"file://C:\\Users\\thoma\\AppData\\Local\\Programs\\Python\\Python39\\lib\\site-packages\\manim\\utils\\deprecation.py\"><span style=\"color: #7f7f7f; text-decoration-color: #7f7f7f\">deprecation.py</span></a><span style=\"color: #7f7f7f; text-decoration-color: #7f7f7f\">:</span><a href=\"file://C:\\Users\\thoma\\AppData\\Local\\Programs\\Python\\Python39\\lib\\site-packages\\manim\\utils\\deprecation.py#210\"><span style=\"color: #7f7f7f; text-decoration-color: #7f7f7f\">210</span></a>\n",
       "                             been deprecated since v0.<span style=\"color: #008000; text-decoration-color: #008000\">11.0</span> and is expected                   \n",
       "                             to be removed after v0.<span style=\"color: #008000; text-decoration-color: #008000\">13.0</span>. Use plot                           \n",
       "                             instead.                                                        \n",
       "</pre>\n"
      ],
      "text/plain": [
       "\u001b[2;36m[01/31/22 22:13:14]\u001b[0m\u001b[2;36m \u001b[0m\u001b[31mWARNING \u001b[0m The method CoordinateSystem.get_graph has     \u001b]8;id=605041;file://C:\\Users\\thoma\\AppData\\Local\\Programs\\Python\\Python39\\lib\\site-packages\\manim\\utils\\deprecation.py\u001b\\\u001b[2mdeprecation.py\u001b[0m\u001b]8;;\u001b\\\u001b[2m:\u001b[0m\u001b]8;id=445522;file://C:\\Users\\thoma\\AppData\\Local\\Programs\\Python\\Python39\\lib\\site-packages\\manim\\utils\\deprecation.py#210\u001b\\\u001b[2m210\u001b[0m\u001b]8;;\u001b\\\n",
       "                             been deprecated since v0.\u001b[32m11.0\u001b[0m and is expected                   \n",
       "                             to be removed after v0.\u001b[32m13.0\u001b[0m. Use plot                           \n",
       "                             instead.                                                        \n"
      ]
     },
     "metadata": {},
     "output_type": "display_data"
    },
    {
     "name": "stderr",
     "output_type": "stream",
     "text": [
      "Animation 1: _MethodAnimation(ValueTracker):  82%|########2 | 247/300 [02:39<01:22,  1.56s/it]"
     ]
    },
    {
     "data": {
      "text/html": [
       "<pre style=\"white-space:pre;overflow-x:auto;line-height:normal;font-family:Menlo,'DejaVu Sans Mono',consolas,'Courier New',monospace\"><span style=\"color: #7fbfbf; text-decoration-color: #7fbfbf\">[01/31/22 22:13:17] </span><span style=\"color: #800000; text-decoration-color: #800000\">WARNING </span> The method CoordinateSystem.get_graph has     <a href=\"file://C:\\Users\\thoma\\AppData\\Local\\Programs\\Python\\Python39\\lib\\site-packages\\manim\\utils\\deprecation.py\"><span style=\"color: #7f7f7f; text-decoration-color: #7f7f7f\">deprecation.py</span></a><span style=\"color: #7f7f7f; text-decoration-color: #7f7f7f\">:</span><a href=\"file://C:\\Users\\thoma\\AppData\\Local\\Programs\\Python\\Python39\\lib\\site-packages\\manim\\utils\\deprecation.py#210\"><span style=\"color: #7f7f7f; text-decoration-color: #7f7f7f\">210</span></a>\n",
       "                             been deprecated since v0.<span style=\"color: #008000; text-decoration-color: #008000\">11.0</span> and is expected                   \n",
       "                             to be removed after v0.<span style=\"color: #008000; text-decoration-color: #008000\">13.0</span>. Use plot                           \n",
       "                             instead.                                                        \n",
       "</pre>\n"
      ],
      "text/plain": [
       "\u001b[2;36m[01/31/22 22:13:17]\u001b[0m\u001b[2;36m \u001b[0m\u001b[31mWARNING \u001b[0m The method CoordinateSystem.get_graph has     \u001b]8;id=696244;file://C:\\Users\\thoma\\AppData\\Local\\Programs\\Python\\Python39\\lib\\site-packages\\manim\\utils\\deprecation.py\u001b\\\u001b[2mdeprecation.py\u001b[0m\u001b]8;;\u001b\\\u001b[2m:\u001b[0m\u001b]8;id=599069;file://C:\\Users\\thoma\\AppData\\Local\\Programs\\Python\\Python39\\lib\\site-packages\\manim\\utils\\deprecation.py#210\u001b\\\u001b[2m210\u001b[0m\u001b]8;;\u001b\\\n",
       "                             been deprecated since v0.\u001b[32m11.0\u001b[0m and is expected                   \n",
       "                             to be removed after v0.\u001b[32m13.0\u001b[0m. Use plot                           \n",
       "                             instead.                                                        \n"
      ]
     },
     "metadata": {},
     "output_type": "display_data"
    },
    {
     "name": "stderr",
     "output_type": "stream",
     "text": [
      "Animation 1: _MethodAnimation(ValueTracker):  83%|########2 | 248/300 [02:41<01:32,  1.78s/it]"
     ]
    },
    {
     "data": {
      "text/html": [
       "<pre style=\"white-space:pre;overflow-x:auto;line-height:normal;font-family:Menlo,'DejaVu Sans Mono',consolas,'Courier New',monospace\"><span style=\"color: #7fbfbf; text-decoration-color: #7fbfbf\">[01/31/22 22:13:18] </span><span style=\"color: #800000; text-decoration-color: #800000\">WARNING </span> The method CoordinateSystem.get_graph has     <a href=\"file://C:\\Users\\thoma\\AppData\\Local\\Programs\\Python\\Python39\\lib\\site-packages\\manim\\utils\\deprecation.py\"><span style=\"color: #7f7f7f; text-decoration-color: #7f7f7f\">deprecation.py</span></a><span style=\"color: #7f7f7f; text-decoration-color: #7f7f7f\">:</span><a href=\"file://C:\\Users\\thoma\\AppData\\Local\\Programs\\Python\\Python39\\lib\\site-packages\\manim\\utils\\deprecation.py#210\"><span style=\"color: #7f7f7f; text-decoration-color: #7f7f7f\">210</span></a>\n",
       "                             been deprecated since v0.<span style=\"color: #008000; text-decoration-color: #008000\">11.0</span> and is expected                   \n",
       "                             to be removed after v0.<span style=\"color: #008000; text-decoration-color: #008000\">13.0</span>. Use plot                           \n",
       "                             instead.                                                        \n",
       "</pre>\n"
      ],
      "text/plain": [
       "\u001b[2;36m[01/31/22 22:13:18]\u001b[0m\u001b[2;36m \u001b[0m\u001b[31mWARNING \u001b[0m The method CoordinateSystem.get_graph has     \u001b]8;id=614233;file://C:\\Users\\thoma\\AppData\\Local\\Programs\\Python\\Python39\\lib\\site-packages\\manim\\utils\\deprecation.py\u001b\\\u001b[2mdeprecation.py\u001b[0m\u001b]8;;\u001b\\\u001b[2m:\u001b[0m\u001b]8;id=589507;file://C:\\Users\\thoma\\AppData\\Local\\Programs\\Python\\Python39\\lib\\site-packages\\manim\\utils\\deprecation.py#210\u001b\\\u001b[2m210\u001b[0m\u001b]8;;\u001b\\\n",
       "                             been deprecated since v0.\u001b[32m11.0\u001b[0m and is expected                   \n",
       "                             to be removed after v0.\u001b[32m13.0\u001b[0m. Use plot                           \n",
       "                             instead.                                                        \n"
      ]
     },
     "metadata": {},
     "output_type": "display_data"
    },
    {
     "name": "stderr",
     "output_type": "stream",
     "text": [
      "Animation 1: _MethodAnimation(ValueTracker):  83%|########2 | 249/300 [02:42<01:25,  1.68s/it]"
     ]
    },
    {
     "data": {
      "text/html": [
       "<pre style=\"white-space:pre;overflow-x:auto;line-height:normal;font-family:Menlo,'DejaVu Sans Mono',consolas,'Courier New',monospace\"><span style=\"color: #7fbfbf; text-decoration-color: #7fbfbf\">[01/31/22 22:13:20] </span><span style=\"color: #800000; text-decoration-color: #800000\">WARNING </span> The method CoordinateSystem.get_graph has     <a href=\"file://C:\\Users\\thoma\\AppData\\Local\\Programs\\Python\\Python39\\lib\\site-packages\\manim\\utils\\deprecation.py\"><span style=\"color: #7f7f7f; text-decoration-color: #7f7f7f\">deprecation.py</span></a><span style=\"color: #7f7f7f; text-decoration-color: #7f7f7f\">:</span><a href=\"file://C:\\Users\\thoma\\AppData\\Local\\Programs\\Python\\Python39\\lib\\site-packages\\manim\\utils\\deprecation.py#210\"><span style=\"color: #7f7f7f; text-decoration-color: #7f7f7f\">210</span></a>\n",
       "                             been deprecated since v0.<span style=\"color: #008000; text-decoration-color: #008000\">11.0</span> and is expected                   \n",
       "                             to be removed after v0.<span style=\"color: #008000; text-decoration-color: #008000\">13.0</span>. Use plot                           \n",
       "                             instead.                                                        \n",
       "</pre>\n"
      ],
      "text/plain": [
       "\u001b[2;36m[01/31/22 22:13:20]\u001b[0m\u001b[2;36m \u001b[0m\u001b[31mWARNING \u001b[0m The method CoordinateSystem.get_graph has     \u001b]8;id=750497;file://C:\\Users\\thoma\\AppData\\Local\\Programs\\Python\\Python39\\lib\\site-packages\\manim\\utils\\deprecation.py\u001b\\\u001b[2mdeprecation.py\u001b[0m\u001b]8;;\u001b\\\u001b[2m:\u001b[0m\u001b]8;id=533356;file://C:\\Users\\thoma\\AppData\\Local\\Programs\\Python\\Python39\\lib\\site-packages\\manim\\utils\\deprecation.py#210\u001b\\\u001b[2m210\u001b[0m\u001b]8;;\u001b\\\n",
       "                             been deprecated since v0.\u001b[32m11.0\u001b[0m and is expected                   \n",
       "                             to be removed after v0.\u001b[32m13.0\u001b[0m. Use plot                           \n",
       "                             instead.                                                        \n"
      ]
     },
     "metadata": {},
     "output_type": "display_data"
    },
    {
     "name": "stderr",
     "output_type": "stream",
     "text": [
      "Animation 1: _MethodAnimation(ValueTracker):  83%|########3 | 250/300 [02:44<01:25,  1.70s/it]"
     ]
    },
    {
     "data": {
      "text/html": [
       "<pre style=\"white-space:pre;overflow-x:auto;line-height:normal;font-family:Menlo,'DejaVu Sans Mono',consolas,'Courier New',monospace\"><span style=\"color: #7fbfbf; text-decoration-color: #7fbfbf\">[01/31/22 22:13:22] </span><span style=\"color: #800000; text-decoration-color: #800000\">WARNING </span> The method CoordinateSystem.get_graph has     <a href=\"file://C:\\Users\\thoma\\AppData\\Local\\Programs\\Python\\Python39\\lib\\site-packages\\manim\\utils\\deprecation.py\"><span style=\"color: #7f7f7f; text-decoration-color: #7f7f7f\">deprecation.py</span></a><span style=\"color: #7f7f7f; text-decoration-color: #7f7f7f\">:</span><a href=\"file://C:\\Users\\thoma\\AppData\\Local\\Programs\\Python\\Python39\\lib\\site-packages\\manim\\utils\\deprecation.py#210\"><span style=\"color: #7f7f7f; text-decoration-color: #7f7f7f\">210</span></a>\n",
       "                             been deprecated since v0.<span style=\"color: #008000; text-decoration-color: #008000\">11.0</span> and is expected                   \n",
       "                             to be removed after v0.<span style=\"color: #008000; text-decoration-color: #008000\">13.0</span>. Use plot                           \n",
       "                             instead.                                                        \n",
       "</pre>\n"
      ],
      "text/plain": [
       "\u001b[2;36m[01/31/22 22:13:22]\u001b[0m\u001b[2;36m \u001b[0m\u001b[31mWARNING \u001b[0m The method CoordinateSystem.get_graph has     \u001b]8;id=462864;file://C:\\Users\\thoma\\AppData\\Local\\Programs\\Python\\Python39\\lib\\site-packages\\manim\\utils\\deprecation.py\u001b\\\u001b[2mdeprecation.py\u001b[0m\u001b]8;;\u001b\\\u001b[2m:\u001b[0m\u001b]8;id=727709;file://C:\\Users\\thoma\\AppData\\Local\\Programs\\Python\\Python39\\lib\\site-packages\\manim\\utils\\deprecation.py#210\u001b\\\u001b[2m210\u001b[0m\u001b]8;;\u001b\\\n",
       "                             been deprecated since v0.\u001b[32m11.0\u001b[0m and is expected                   \n",
       "                             to be removed after v0.\u001b[32m13.0\u001b[0m. Use plot                           \n",
       "                             instead.                                                        \n"
      ]
     },
     "metadata": {},
     "output_type": "display_data"
    },
    {
     "name": "stderr",
     "output_type": "stream",
     "text": [
      "Animation 1: _MethodAnimation(ValueTracker):  84%|########3 | 251/300 [02:46<01:21,  1.66s/it]"
     ]
    },
    {
     "data": {
      "text/html": [
       "<pre style=\"white-space:pre;overflow-x:auto;line-height:normal;font-family:Menlo,'DejaVu Sans Mono',consolas,'Courier New',monospace\"><span style=\"color: #7fbfbf; text-decoration-color: #7fbfbf\">[01/31/22 22:13:24] </span><span style=\"color: #800000; text-decoration-color: #800000\">WARNING </span> The method CoordinateSystem.get_graph has     <a href=\"file://C:\\Users\\thoma\\AppData\\Local\\Programs\\Python\\Python39\\lib\\site-packages\\manim\\utils\\deprecation.py\"><span style=\"color: #7f7f7f; text-decoration-color: #7f7f7f\">deprecation.py</span></a><span style=\"color: #7f7f7f; text-decoration-color: #7f7f7f\">:</span><a href=\"file://C:\\Users\\thoma\\AppData\\Local\\Programs\\Python\\Python39\\lib\\site-packages\\manim\\utils\\deprecation.py#210\"><span style=\"color: #7f7f7f; text-decoration-color: #7f7f7f\">210</span></a>\n",
       "                             been deprecated since v0.<span style=\"color: #008000; text-decoration-color: #008000\">11.0</span> and is expected                   \n",
       "                             to be removed after v0.<span style=\"color: #008000; text-decoration-color: #008000\">13.0</span>. Use plot                           \n",
       "                             instead.                                                        \n",
       "</pre>\n"
      ],
      "text/plain": [
       "\u001b[2;36m[01/31/22 22:13:24]\u001b[0m\u001b[2;36m \u001b[0m\u001b[31mWARNING \u001b[0m The method CoordinateSystem.get_graph has     \u001b]8;id=817444;file://C:\\Users\\thoma\\AppData\\Local\\Programs\\Python\\Python39\\lib\\site-packages\\manim\\utils\\deprecation.py\u001b\\\u001b[2mdeprecation.py\u001b[0m\u001b]8;;\u001b\\\u001b[2m:\u001b[0m\u001b]8;id=48415;file://C:\\Users\\thoma\\AppData\\Local\\Programs\\Python\\Python39\\lib\\site-packages\\manim\\utils\\deprecation.py#210\u001b\\\u001b[2m210\u001b[0m\u001b]8;;\u001b\\\n",
       "                             been deprecated since v0.\u001b[32m11.0\u001b[0m and is expected                   \n",
       "                             to be removed after v0.\u001b[32m13.0\u001b[0m. Use plot                           \n",
       "                             instead.                                                        \n"
      ]
     },
     "metadata": {},
     "output_type": "display_data"
    },
    {
     "name": "stderr",
     "output_type": "stream",
     "text": [
      "Animation 1: _MethodAnimation(ValueTracker):  84%|########4 | 252/300 [02:48<01:25,  1.78s/it]"
     ]
    },
    {
     "data": {
      "text/html": [
       "<pre style=\"white-space:pre;overflow-x:auto;line-height:normal;font-family:Menlo,'DejaVu Sans Mono',consolas,'Courier New',monospace\"><span style=\"color: #7fbfbf; text-decoration-color: #7fbfbf\">[01/31/22 22:13:25] </span><span style=\"color: #800000; text-decoration-color: #800000\">WARNING </span> The method CoordinateSystem.get_graph has     <a href=\"file://C:\\Users\\thoma\\AppData\\Local\\Programs\\Python\\Python39\\lib\\site-packages\\manim\\utils\\deprecation.py\"><span style=\"color: #7f7f7f; text-decoration-color: #7f7f7f\">deprecation.py</span></a><span style=\"color: #7f7f7f; text-decoration-color: #7f7f7f\">:</span><a href=\"file://C:\\Users\\thoma\\AppData\\Local\\Programs\\Python\\Python39\\lib\\site-packages\\manim\\utils\\deprecation.py#210\"><span style=\"color: #7f7f7f; text-decoration-color: #7f7f7f\">210</span></a>\n",
       "                             been deprecated since v0.<span style=\"color: #008000; text-decoration-color: #008000\">11.0</span> and is expected                   \n",
       "                             to be removed after v0.<span style=\"color: #008000; text-decoration-color: #008000\">13.0</span>. Use plot                           \n",
       "                             instead.                                                        \n",
       "</pre>\n"
      ],
      "text/plain": [
       "\u001b[2;36m[01/31/22 22:13:25]\u001b[0m\u001b[2;36m \u001b[0m\u001b[31mWARNING \u001b[0m The method CoordinateSystem.get_graph has     \u001b]8;id=201905;file://C:\\Users\\thoma\\AppData\\Local\\Programs\\Python\\Python39\\lib\\site-packages\\manim\\utils\\deprecation.py\u001b\\\u001b[2mdeprecation.py\u001b[0m\u001b]8;;\u001b\\\u001b[2m:\u001b[0m\u001b]8;id=268575;file://C:\\Users\\thoma\\AppData\\Local\\Programs\\Python\\Python39\\lib\\site-packages\\manim\\utils\\deprecation.py#210\u001b\\\u001b[2m210\u001b[0m\u001b]8;;\u001b\\\n",
       "                             been deprecated since v0.\u001b[32m11.0\u001b[0m and is expected                   \n",
       "                             to be removed after v0.\u001b[32m13.0\u001b[0m. Use plot                           \n",
       "                             instead.                                                        \n"
      ]
     },
     "metadata": {},
     "output_type": "display_data"
    },
    {
     "name": "stderr",
     "output_type": "stream",
     "text": [
      "Animation 1: _MethodAnimation(ValueTracker):  84%|########4 | 253/300 [02:49<01:23,  1.77s/it]"
     ]
    },
    {
     "data": {
      "text/html": [
       "<pre style=\"white-space:pre;overflow-x:auto;line-height:normal;font-family:Menlo,'DejaVu Sans Mono',consolas,'Courier New',monospace\"><span style=\"color: #7fbfbf; text-decoration-color: #7fbfbf\">[01/31/22 22:13:27] </span><span style=\"color: #800000; text-decoration-color: #800000\">WARNING </span> The method CoordinateSystem.get_graph has     <a href=\"file://C:\\Users\\thoma\\AppData\\Local\\Programs\\Python\\Python39\\lib\\site-packages\\manim\\utils\\deprecation.py\"><span style=\"color: #7f7f7f; text-decoration-color: #7f7f7f\">deprecation.py</span></a><span style=\"color: #7f7f7f; text-decoration-color: #7f7f7f\">:</span><a href=\"file://C:\\Users\\thoma\\AppData\\Local\\Programs\\Python\\Python39\\lib\\site-packages\\manim\\utils\\deprecation.py#210\"><span style=\"color: #7f7f7f; text-decoration-color: #7f7f7f\">210</span></a>\n",
       "                             been deprecated since v0.<span style=\"color: #008000; text-decoration-color: #008000\">11.0</span> and is expected                   \n",
       "                             to be removed after v0.<span style=\"color: #008000; text-decoration-color: #008000\">13.0</span>. Use plot                           \n",
       "                             instead.                                                        \n",
       "</pre>\n"
      ],
      "text/plain": [
       "\u001b[2;36m[01/31/22 22:13:27]\u001b[0m\u001b[2;36m \u001b[0m\u001b[31mWARNING \u001b[0m The method CoordinateSystem.get_graph has     \u001b]8;id=184071;file://C:\\Users\\thoma\\AppData\\Local\\Programs\\Python\\Python39\\lib\\site-packages\\manim\\utils\\deprecation.py\u001b\\\u001b[2mdeprecation.py\u001b[0m\u001b]8;;\u001b\\\u001b[2m:\u001b[0m\u001b]8;id=534751;file://C:\\Users\\thoma\\AppData\\Local\\Programs\\Python\\Python39\\lib\\site-packages\\manim\\utils\\deprecation.py#210\u001b\\\u001b[2m210\u001b[0m\u001b]8;;\u001b\\\n",
       "                             been deprecated since v0.\u001b[32m11.0\u001b[0m and is expected                   \n",
       "                             to be removed after v0.\u001b[32m13.0\u001b[0m. Use plot                           \n",
       "                             instead.                                                        \n"
      ]
     },
     "metadata": {},
     "output_type": "display_data"
    },
    {
     "name": "stderr",
     "output_type": "stream",
     "text": [
      "Animation 1: _MethodAnimation(ValueTracker):  85%|########4 | 254/300 [02:51<01:18,  1.71s/it]"
     ]
    },
    {
     "data": {
      "text/html": [
       "<pre style=\"white-space:pre;overflow-x:auto;line-height:normal;font-family:Menlo,'DejaVu Sans Mono',consolas,'Courier New',monospace\"><span style=\"color: #7fbfbf; text-decoration-color: #7fbfbf\">[01/31/22 22:13:29] </span><span style=\"color: #800000; text-decoration-color: #800000\">WARNING </span> The method CoordinateSystem.get_graph has     <a href=\"file://C:\\Users\\thoma\\AppData\\Local\\Programs\\Python\\Python39\\lib\\site-packages\\manim\\utils\\deprecation.py\"><span style=\"color: #7f7f7f; text-decoration-color: #7f7f7f\">deprecation.py</span></a><span style=\"color: #7f7f7f; text-decoration-color: #7f7f7f\">:</span><a href=\"file://C:\\Users\\thoma\\AppData\\Local\\Programs\\Python\\Python39\\lib\\site-packages\\manim\\utils\\deprecation.py#210\"><span style=\"color: #7f7f7f; text-decoration-color: #7f7f7f\">210</span></a>\n",
       "                             been deprecated since v0.<span style=\"color: #008000; text-decoration-color: #008000\">11.0</span> and is expected                   \n",
       "                             to be removed after v0.<span style=\"color: #008000; text-decoration-color: #008000\">13.0</span>. Use plot                           \n",
       "                             instead.                                                        \n",
       "</pre>\n"
      ],
      "text/plain": [
       "\u001b[2;36m[01/31/22 22:13:29]\u001b[0m\u001b[2;36m \u001b[0m\u001b[31mWARNING \u001b[0m The method CoordinateSystem.get_graph has     \u001b]8;id=873501;file://C:\\Users\\thoma\\AppData\\Local\\Programs\\Python\\Python39\\lib\\site-packages\\manim\\utils\\deprecation.py\u001b\\\u001b[2mdeprecation.py\u001b[0m\u001b]8;;\u001b\\\u001b[2m:\u001b[0m\u001b]8;id=747217;file://C:\\Users\\thoma\\AppData\\Local\\Programs\\Python\\Python39\\lib\\site-packages\\manim\\utils\\deprecation.py#210\u001b\\\u001b[2m210\u001b[0m\u001b]8;;\u001b\\\n",
       "                             been deprecated since v0.\u001b[32m11.0\u001b[0m and is expected                   \n",
       "                             to be removed after v0.\u001b[32m13.0\u001b[0m. Use plot                           \n",
       "                             instead.                                                        \n"
      ]
     },
     "metadata": {},
     "output_type": "display_data"
    },
    {
     "name": "stderr",
     "output_type": "stream",
     "text": [
      "Animation 1: _MethodAnimation(ValueTracker):  85%|########5 | 255/300 [02:53<01:16,  1.70s/it]"
     ]
    },
    {
     "data": {
      "text/html": [
       "<pre style=\"white-space:pre;overflow-x:auto;line-height:normal;font-family:Menlo,'DejaVu Sans Mono',consolas,'Courier New',monospace\"><span style=\"color: #7fbfbf; text-decoration-color: #7fbfbf\">[01/31/22 22:13:31] </span><span style=\"color: #800000; text-decoration-color: #800000\">WARNING </span> The method CoordinateSystem.get_graph has     <a href=\"file://C:\\Users\\thoma\\AppData\\Local\\Programs\\Python\\Python39\\lib\\site-packages\\manim\\utils\\deprecation.py\"><span style=\"color: #7f7f7f; text-decoration-color: #7f7f7f\">deprecation.py</span></a><span style=\"color: #7f7f7f; text-decoration-color: #7f7f7f\">:</span><a href=\"file://C:\\Users\\thoma\\AppData\\Local\\Programs\\Python\\Python39\\lib\\site-packages\\manim\\utils\\deprecation.py#210\"><span style=\"color: #7f7f7f; text-decoration-color: #7f7f7f\">210</span></a>\n",
       "                             been deprecated since v0.<span style=\"color: #008000; text-decoration-color: #008000\">11.0</span> and is expected                   \n",
       "                             to be removed after v0.<span style=\"color: #008000; text-decoration-color: #008000\">13.0</span>. Use plot                           \n",
       "                             instead.                                                        \n",
       "</pre>\n"
      ],
      "text/plain": [
       "\u001b[2;36m[01/31/22 22:13:31]\u001b[0m\u001b[2;36m \u001b[0m\u001b[31mWARNING \u001b[0m The method CoordinateSystem.get_graph has     \u001b]8;id=424605;file://C:\\Users\\thoma\\AppData\\Local\\Programs\\Python\\Python39\\lib\\site-packages\\manim\\utils\\deprecation.py\u001b\\\u001b[2mdeprecation.py\u001b[0m\u001b]8;;\u001b\\\u001b[2m:\u001b[0m\u001b]8;id=927256;file://C:\\Users\\thoma\\AppData\\Local\\Programs\\Python\\Python39\\lib\\site-packages\\manim\\utils\\deprecation.py#210\u001b\\\u001b[2m210\u001b[0m\u001b]8;;\u001b\\\n",
       "                             been deprecated since v0.\u001b[32m11.0\u001b[0m and is expected                   \n",
       "                             to be removed after v0.\u001b[32m13.0\u001b[0m. Use plot                           \n",
       "                             instead.                                                        \n"
      ]
     },
     "metadata": {},
     "output_type": "display_data"
    },
    {
     "name": "stderr",
     "output_type": "stream",
     "text": [
      "Animation 1: _MethodAnimation(ValueTracker):  85%|########5 | 256/300 [02:55<01:21,  1.85s/it]"
     ]
    },
    {
     "data": {
      "text/html": [
       "<pre style=\"white-space:pre;overflow-x:auto;line-height:normal;font-family:Menlo,'DejaVu Sans Mono',consolas,'Courier New',monospace\"><span style=\"color: #7fbfbf; text-decoration-color: #7fbfbf\">[01/31/22 22:13:32] </span><span style=\"color: #800000; text-decoration-color: #800000\">WARNING </span> The method CoordinateSystem.get_graph has     <a href=\"file://C:\\Users\\thoma\\AppData\\Local\\Programs\\Python\\Python39\\lib\\site-packages\\manim\\utils\\deprecation.py\"><span style=\"color: #7f7f7f; text-decoration-color: #7f7f7f\">deprecation.py</span></a><span style=\"color: #7f7f7f; text-decoration-color: #7f7f7f\">:</span><a href=\"file://C:\\Users\\thoma\\AppData\\Local\\Programs\\Python\\Python39\\lib\\site-packages\\manim\\utils\\deprecation.py#210\"><span style=\"color: #7f7f7f; text-decoration-color: #7f7f7f\">210</span></a>\n",
       "                             been deprecated since v0.<span style=\"color: #008000; text-decoration-color: #008000\">11.0</span> and is expected                   \n",
       "                             to be removed after v0.<span style=\"color: #008000; text-decoration-color: #008000\">13.0</span>. Use plot                           \n",
       "                             instead.                                                        \n",
       "</pre>\n"
      ],
      "text/plain": [
       "\u001b[2;36m[01/31/22 22:13:32]\u001b[0m\u001b[2;36m \u001b[0m\u001b[31mWARNING \u001b[0m The method CoordinateSystem.get_graph has     \u001b]8;id=880775;file://C:\\Users\\thoma\\AppData\\Local\\Programs\\Python\\Python39\\lib\\site-packages\\manim\\utils\\deprecation.py\u001b\\\u001b[2mdeprecation.py\u001b[0m\u001b]8;;\u001b\\\u001b[2m:\u001b[0m\u001b]8;id=943335;file://C:\\Users\\thoma\\AppData\\Local\\Programs\\Python\\Python39\\lib\\site-packages\\manim\\utils\\deprecation.py#210\u001b\\\u001b[2m210\u001b[0m\u001b]8;;\u001b\\\n",
       "                             been deprecated since v0.\u001b[32m11.0\u001b[0m and is expected                   \n",
       "                             to be removed after v0.\u001b[32m13.0\u001b[0m. Use plot                           \n",
       "                             instead.                                                        \n"
      ]
     },
     "metadata": {},
     "output_type": "display_data"
    },
    {
     "name": "stderr",
     "output_type": "stream",
     "text": [
      "Animation 1: _MethodAnimation(ValueTracker):  86%|########5 | 257/300 [02:57<01:16,  1.77s/it]"
     ]
    },
    {
     "data": {
      "text/html": [
       "<pre style=\"white-space:pre;overflow-x:auto;line-height:normal;font-family:Menlo,'DejaVu Sans Mono',consolas,'Courier New',monospace\"><span style=\"color: #7fbfbf; text-decoration-color: #7fbfbf\">[01/31/22 22:13:34] </span><span style=\"color: #800000; text-decoration-color: #800000\">WARNING </span> The method CoordinateSystem.get_graph has     <a href=\"file://C:\\Users\\thoma\\AppData\\Local\\Programs\\Python\\Python39\\lib\\site-packages\\manim\\utils\\deprecation.py\"><span style=\"color: #7f7f7f; text-decoration-color: #7f7f7f\">deprecation.py</span></a><span style=\"color: #7f7f7f; text-decoration-color: #7f7f7f\">:</span><a href=\"file://C:\\Users\\thoma\\AppData\\Local\\Programs\\Python\\Python39\\lib\\site-packages\\manim\\utils\\deprecation.py#210\"><span style=\"color: #7f7f7f; text-decoration-color: #7f7f7f\">210</span></a>\n",
       "                             been deprecated since v0.<span style=\"color: #008000; text-decoration-color: #008000\">11.0</span> and is expected                   \n",
       "                             to be removed after v0.<span style=\"color: #008000; text-decoration-color: #008000\">13.0</span>. Use plot                           \n",
       "                             instead.                                                        \n",
       "</pre>\n"
      ],
      "text/plain": [
       "\u001b[2;36m[01/31/22 22:13:34]\u001b[0m\u001b[2;36m \u001b[0m\u001b[31mWARNING \u001b[0m The method CoordinateSystem.get_graph has     \u001b]8;id=553379;file://C:\\Users\\thoma\\AppData\\Local\\Programs\\Python\\Python39\\lib\\site-packages\\manim\\utils\\deprecation.py\u001b\\\u001b[2mdeprecation.py\u001b[0m\u001b]8;;\u001b\\\u001b[2m:\u001b[0m\u001b]8;id=967830;file://C:\\Users\\thoma\\AppData\\Local\\Programs\\Python\\Python39\\lib\\site-packages\\manim\\utils\\deprecation.py#210\u001b\\\u001b[2m210\u001b[0m\u001b]8;;\u001b\\\n",
       "                             been deprecated since v0.\u001b[32m11.0\u001b[0m and is expected                   \n",
       "                             to be removed after v0.\u001b[32m13.0\u001b[0m. Use plot                           \n",
       "                             instead.                                                        \n"
      ]
     },
     "metadata": {},
     "output_type": "display_data"
    },
    {
     "name": "stderr",
     "output_type": "stream",
     "text": [
      "Animation 1: _MethodAnimation(ValueTracker):  86%|########6 | 258/300 [02:58<01:11,  1.71s/it]"
     ]
    },
    {
     "data": {
      "text/html": [
       "<pre style=\"white-space:pre;overflow-x:auto;line-height:normal;font-family:Menlo,'DejaVu Sans Mono',consolas,'Courier New',monospace\"><span style=\"color: #7fbfbf; text-decoration-color: #7fbfbf\">[01/31/22 22:13:36] </span><span style=\"color: #800000; text-decoration-color: #800000\">WARNING </span> The method CoordinateSystem.get_graph has     <a href=\"file://C:\\Users\\thoma\\AppData\\Local\\Programs\\Python\\Python39\\lib\\site-packages\\manim\\utils\\deprecation.py\"><span style=\"color: #7f7f7f; text-decoration-color: #7f7f7f\">deprecation.py</span></a><span style=\"color: #7f7f7f; text-decoration-color: #7f7f7f\">:</span><a href=\"file://C:\\Users\\thoma\\AppData\\Local\\Programs\\Python\\Python39\\lib\\site-packages\\manim\\utils\\deprecation.py#210\"><span style=\"color: #7f7f7f; text-decoration-color: #7f7f7f\">210</span></a>\n",
       "                             been deprecated since v0.<span style=\"color: #008000; text-decoration-color: #008000\">11.0</span> and is expected                   \n",
       "                             to be removed after v0.<span style=\"color: #008000; text-decoration-color: #008000\">13.0</span>. Use plot                           \n",
       "                             instead.                                                        \n",
       "</pre>\n"
      ],
      "text/plain": [
       "\u001b[2;36m[01/31/22 22:13:36]\u001b[0m\u001b[2;36m \u001b[0m\u001b[31mWARNING \u001b[0m The method CoordinateSystem.get_graph has     \u001b]8;id=4807;file://C:\\Users\\thoma\\AppData\\Local\\Programs\\Python\\Python39\\lib\\site-packages\\manim\\utils\\deprecation.py\u001b\\\u001b[2mdeprecation.py\u001b[0m\u001b]8;;\u001b\\\u001b[2m:\u001b[0m\u001b]8;id=816370;file://C:\\Users\\thoma\\AppData\\Local\\Programs\\Python\\Python39\\lib\\site-packages\\manim\\utils\\deprecation.py#210\u001b\\\u001b[2m210\u001b[0m\u001b]8;;\u001b\\\n",
       "                             been deprecated since v0.\u001b[32m11.0\u001b[0m and is expected                   \n",
       "                             to be removed after v0.\u001b[32m13.0\u001b[0m. Use plot                           \n",
       "                             instead.                                                        \n"
      ]
     },
     "metadata": {},
     "output_type": "display_data"
    },
    {
     "name": "stderr",
     "output_type": "stream",
     "text": [
      "Animation 1: _MethodAnimation(ValueTracker):  86%|########6 | 259/300 [03:00<01:13,  1.78s/it]"
     ]
    },
    {
     "data": {
      "text/html": [
       "<pre style=\"white-space:pre;overflow-x:auto;line-height:normal;font-family:Menlo,'DejaVu Sans Mono',consolas,'Courier New',monospace\"><span style=\"color: #7fbfbf; text-decoration-color: #7fbfbf\">[01/31/22 22:13:38] </span><span style=\"color: #800000; text-decoration-color: #800000\">WARNING </span> The method CoordinateSystem.get_graph has     <a href=\"file://C:\\Users\\thoma\\AppData\\Local\\Programs\\Python\\Python39\\lib\\site-packages\\manim\\utils\\deprecation.py\"><span style=\"color: #7f7f7f; text-decoration-color: #7f7f7f\">deprecation.py</span></a><span style=\"color: #7f7f7f; text-decoration-color: #7f7f7f\">:</span><a href=\"file://C:\\Users\\thoma\\AppData\\Local\\Programs\\Python\\Python39\\lib\\site-packages\\manim\\utils\\deprecation.py#210\"><span style=\"color: #7f7f7f; text-decoration-color: #7f7f7f\">210</span></a>\n",
       "                             been deprecated since v0.<span style=\"color: #008000; text-decoration-color: #008000\">11.0</span> and is expected                   \n",
       "                             to be removed after v0.<span style=\"color: #008000; text-decoration-color: #008000\">13.0</span>. Use plot                           \n",
       "                             instead.                                                        \n",
       "</pre>\n"
      ],
      "text/plain": [
       "\u001b[2;36m[01/31/22 22:13:38]\u001b[0m\u001b[2;36m \u001b[0m\u001b[31mWARNING \u001b[0m The method CoordinateSystem.get_graph has     \u001b]8;id=665138;file://C:\\Users\\thoma\\AppData\\Local\\Programs\\Python\\Python39\\lib\\site-packages\\manim\\utils\\deprecation.py\u001b\\\u001b[2mdeprecation.py\u001b[0m\u001b]8;;\u001b\\\u001b[2m:\u001b[0m\u001b]8;id=435023;file://C:\\Users\\thoma\\AppData\\Local\\Programs\\Python\\Python39\\lib\\site-packages\\manim\\utils\\deprecation.py#210\u001b\\\u001b[2m210\u001b[0m\u001b]8;;\u001b\\\n",
       "                             been deprecated since v0.\u001b[32m11.0\u001b[0m and is expected                   \n",
       "                             to be removed after v0.\u001b[32m13.0\u001b[0m. Use plot                           \n",
       "                             instead.                                                        \n"
      ]
     },
     "metadata": {},
     "output_type": "display_data"
    },
    {
     "name": "stderr",
     "output_type": "stream",
     "text": [
      "Animation 1: _MethodAnimation(ValueTracker):  87%|########6 | 260/300 [03:02<01:12,  1.82s/it]"
     ]
    },
    {
     "data": {
      "text/html": [
       "<pre style=\"white-space:pre;overflow-x:auto;line-height:normal;font-family:Menlo,'DejaVu Sans Mono',consolas,'Courier New',monospace\"><span style=\"color: #7fbfbf; text-decoration-color: #7fbfbf\">[01/31/22 22:13:40] </span><span style=\"color: #800000; text-decoration-color: #800000\">WARNING </span> The method CoordinateSystem.get_graph has     <a href=\"file://C:\\Users\\thoma\\AppData\\Local\\Programs\\Python\\Python39\\lib\\site-packages\\manim\\utils\\deprecation.py\"><span style=\"color: #7f7f7f; text-decoration-color: #7f7f7f\">deprecation.py</span></a><span style=\"color: #7f7f7f; text-decoration-color: #7f7f7f\">:</span><a href=\"file://C:\\Users\\thoma\\AppData\\Local\\Programs\\Python\\Python39\\lib\\site-packages\\manim\\utils\\deprecation.py#210\"><span style=\"color: #7f7f7f; text-decoration-color: #7f7f7f\">210</span></a>\n",
       "                             been deprecated since v0.<span style=\"color: #008000; text-decoration-color: #008000\">11.0</span> and is expected                   \n",
       "                             to be removed after v0.<span style=\"color: #008000; text-decoration-color: #008000\">13.0</span>. Use plot                           \n",
       "                             instead.                                                        \n",
       "</pre>\n"
      ],
      "text/plain": [
       "\u001b[2;36m[01/31/22 22:13:40]\u001b[0m\u001b[2;36m \u001b[0m\u001b[31mWARNING \u001b[0m The method CoordinateSystem.get_graph has     \u001b]8;id=573498;file://C:\\Users\\thoma\\AppData\\Local\\Programs\\Python\\Python39\\lib\\site-packages\\manim\\utils\\deprecation.py\u001b\\\u001b[2mdeprecation.py\u001b[0m\u001b]8;;\u001b\\\u001b[2m:\u001b[0m\u001b]8;id=613884;file://C:\\Users\\thoma\\AppData\\Local\\Programs\\Python\\Python39\\lib\\site-packages\\manim\\utils\\deprecation.py#210\u001b\\\u001b[2m210\u001b[0m\u001b]8;;\u001b\\\n",
       "                             been deprecated since v0.\u001b[32m11.0\u001b[0m and is expected                   \n",
       "                             to be removed after v0.\u001b[32m13.0\u001b[0m. Use plot                           \n",
       "                             instead.                                                        \n"
      ]
     },
     "metadata": {},
     "output_type": "display_data"
    },
    {
     "name": "stderr",
     "output_type": "stream",
     "text": [
      "Animation 1: _MethodAnimation(ValueTracker):  87%|########7 | 261/300 [03:04<01:11,  1.84s/it]"
     ]
    },
    {
     "data": {
      "text/html": [
       "<pre style=\"white-space:pre;overflow-x:auto;line-height:normal;font-family:Menlo,'DejaVu Sans Mono',consolas,'Courier New',monospace\"><span style=\"color: #7fbfbf; text-decoration-color: #7fbfbf\">[01/31/22 22:13:42] </span><span style=\"color: #800000; text-decoration-color: #800000\">WARNING </span> The method CoordinateSystem.get_graph has     <a href=\"file://C:\\Users\\thoma\\AppData\\Local\\Programs\\Python\\Python39\\lib\\site-packages\\manim\\utils\\deprecation.py\"><span style=\"color: #7f7f7f; text-decoration-color: #7f7f7f\">deprecation.py</span></a><span style=\"color: #7f7f7f; text-decoration-color: #7f7f7f\">:</span><a href=\"file://C:\\Users\\thoma\\AppData\\Local\\Programs\\Python\\Python39\\lib\\site-packages\\manim\\utils\\deprecation.py#210\"><span style=\"color: #7f7f7f; text-decoration-color: #7f7f7f\">210</span></a>\n",
       "                             been deprecated since v0.<span style=\"color: #008000; text-decoration-color: #008000\">11.0</span> and is expected                   \n",
       "                             to be removed after v0.<span style=\"color: #008000; text-decoration-color: #008000\">13.0</span>. Use plot                           \n",
       "                             instead.                                                        \n",
       "</pre>\n"
      ],
      "text/plain": [
       "\u001b[2;36m[01/31/22 22:13:42]\u001b[0m\u001b[2;36m \u001b[0m\u001b[31mWARNING \u001b[0m The method CoordinateSystem.get_graph has     \u001b]8;id=332522;file://C:\\Users\\thoma\\AppData\\Local\\Programs\\Python\\Python39\\lib\\site-packages\\manim\\utils\\deprecation.py\u001b\\\u001b[2mdeprecation.py\u001b[0m\u001b]8;;\u001b\\\u001b[2m:\u001b[0m\u001b]8;id=726781;file://C:\\Users\\thoma\\AppData\\Local\\Programs\\Python\\Python39\\lib\\site-packages\\manim\\utils\\deprecation.py#210\u001b\\\u001b[2m210\u001b[0m\u001b]8;;\u001b\\\n",
       "                             been deprecated since v0.\u001b[32m11.0\u001b[0m and is expected                   \n",
       "                             to be removed after v0.\u001b[32m13.0\u001b[0m. Use plot                           \n",
       "                             instead.                                                        \n"
      ]
     },
     "metadata": {},
     "output_type": "display_data"
    },
    {
     "name": "stderr",
     "output_type": "stream",
     "text": [
      "Animation 1: _MethodAnimation(ValueTracker):  87%|########7 | 262/300 [03:06<01:15,  1.98s/it]"
     ]
    },
    {
     "data": {
      "text/html": [
       "<pre style=\"white-space:pre;overflow-x:auto;line-height:normal;font-family:Menlo,'DejaVu Sans Mono',consolas,'Courier New',monospace\"><span style=\"color: #7fbfbf; text-decoration-color: #7fbfbf\">[01/31/22 22:13:44] </span><span style=\"color: #800000; text-decoration-color: #800000\">WARNING </span> The method CoordinateSystem.get_graph has     <a href=\"file://C:\\Users\\thoma\\AppData\\Local\\Programs\\Python\\Python39\\lib\\site-packages\\manim\\utils\\deprecation.py\"><span style=\"color: #7f7f7f; text-decoration-color: #7f7f7f\">deprecation.py</span></a><span style=\"color: #7f7f7f; text-decoration-color: #7f7f7f\">:</span><a href=\"file://C:\\Users\\thoma\\AppData\\Local\\Programs\\Python\\Python39\\lib\\site-packages\\manim\\utils\\deprecation.py#210\"><span style=\"color: #7f7f7f; text-decoration-color: #7f7f7f\">210</span></a>\n",
       "                             been deprecated since v0.<span style=\"color: #008000; text-decoration-color: #008000\">11.0</span> and is expected                   \n",
       "                             to be removed after v0.<span style=\"color: #008000; text-decoration-color: #008000\">13.0</span>. Use plot                           \n",
       "                             instead.                                                        \n",
       "</pre>\n"
      ],
      "text/plain": [
       "\u001b[2;36m[01/31/22 22:13:44]\u001b[0m\u001b[2;36m \u001b[0m\u001b[31mWARNING \u001b[0m The method CoordinateSystem.get_graph has     \u001b]8;id=198705;file://C:\\Users\\thoma\\AppData\\Local\\Programs\\Python\\Python39\\lib\\site-packages\\manim\\utils\\deprecation.py\u001b\\\u001b[2mdeprecation.py\u001b[0m\u001b]8;;\u001b\\\u001b[2m:\u001b[0m\u001b]8;id=551249;file://C:\\Users\\thoma\\AppData\\Local\\Programs\\Python\\Python39\\lib\\site-packages\\manim\\utils\\deprecation.py#210\u001b\\\u001b[2m210\u001b[0m\u001b]8;;\u001b\\\n",
       "                             been deprecated since v0.\u001b[32m11.0\u001b[0m and is expected                   \n",
       "                             to be removed after v0.\u001b[32m13.0\u001b[0m. Use plot                           \n",
       "                             instead.                                                        \n"
      ]
     },
     "metadata": {},
     "output_type": "display_data"
    },
    {
     "name": "stderr",
     "output_type": "stream",
     "text": [
      "Animation 1: _MethodAnimation(ValueTracker):  88%|########7 | 263/300 [03:08<01:16,  2.06s/it]"
     ]
    },
    {
     "data": {
      "text/html": [
       "<pre style=\"white-space:pre;overflow-x:auto;line-height:normal;font-family:Menlo,'DejaVu Sans Mono',consolas,'Courier New',monospace\"><span style=\"color: #7fbfbf; text-decoration-color: #7fbfbf\">[01/31/22 22:13:46] </span><span style=\"color: #800000; text-decoration-color: #800000\">WARNING </span> The method CoordinateSystem.get_graph has     <a href=\"file://C:\\Users\\thoma\\AppData\\Local\\Programs\\Python\\Python39\\lib\\site-packages\\manim\\utils\\deprecation.py\"><span style=\"color: #7f7f7f; text-decoration-color: #7f7f7f\">deprecation.py</span></a><span style=\"color: #7f7f7f; text-decoration-color: #7f7f7f\">:</span><a href=\"file://C:\\Users\\thoma\\AppData\\Local\\Programs\\Python\\Python39\\lib\\site-packages\\manim\\utils\\deprecation.py#210\"><span style=\"color: #7f7f7f; text-decoration-color: #7f7f7f\">210</span></a>\n",
       "                             been deprecated since v0.<span style=\"color: #008000; text-decoration-color: #008000\">11.0</span> and is expected                   \n",
       "                             to be removed after v0.<span style=\"color: #008000; text-decoration-color: #008000\">13.0</span>. Use plot                           \n",
       "                             instead.                                                        \n",
       "</pre>\n"
      ],
      "text/plain": [
       "\u001b[2;36m[01/31/22 22:13:46]\u001b[0m\u001b[2;36m \u001b[0m\u001b[31mWARNING \u001b[0m The method CoordinateSystem.get_graph has     \u001b]8;id=792404;file://C:\\Users\\thoma\\AppData\\Local\\Programs\\Python\\Python39\\lib\\site-packages\\manim\\utils\\deprecation.py\u001b\\\u001b[2mdeprecation.py\u001b[0m\u001b]8;;\u001b\\\u001b[2m:\u001b[0m\u001b]8;id=190213;file://C:\\Users\\thoma\\AppData\\Local\\Programs\\Python\\Python39\\lib\\site-packages\\manim\\utils\\deprecation.py#210\u001b\\\u001b[2m210\u001b[0m\u001b]8;;\u001b\\\n",
       "                             been deprecated since v0.\u001b[32m11.0\u001b[0m and is expected                   \n",
       "                             to be removed after v0.\u001b[32m13.0\u001b[0m. Use plot                           \n",
       "                             instead.                                                        \n"
      ]
     },
     "metadata": {},
     "output_type": "display_data"
    },
    {
     "name": "stderr",
     "output_type": "stream",
     "text": [
      "Animation 1: _MethodAnimation(ValueTracker):  88%|########8 | 264/300 [03:10<01:11,  1.97s/it]"
     ]
    },
    {
     "data": {
      "text/html": [
       "<pre style=\"white-space:pre;overflow-x:auto;line-height:normal;font-family:Menlo,'DejaVu Sans Mono',consolas,'Courier New',monospace\"><span style=\"color: #7fbfbf; text-decoration-color: #7fbfbf\">[01/31/22 22:13:48] </span><span style=\"color: #800000; text-decoration-color: #800000\">WARNING </span> The method CoordinateSystem.get_graph has     <a href=\"file://C:\\Users\\thoma\\AppData\\Local\\Programs\\Python\\Python39\\lib\\site-packages\\manim\\utils\\deprecation.py\"><span style=\"color: #7f7f7f; text-decoration-color: #7f7f7f\">deprecation.py</span></a><span style=\"color: #7f7f7f; text-decoration-color: #7f7f7f\">:</span><a href=\"file://C:\\Users\\thoma\\AppData\\Local\\Programs\\Python\\Python39\\lib\\site-packages\\manim\\utils\\deprecation.py#210\"><span style=\"color: #7f7f7f; text-decoration-color: #7f7f7f\">210</span></a>\n",
       "                             been deprecated since v0.<span style=\"color: #008000; text-decoration-color: #008000\">11.0</span> and is expected                   \n",
       "                             to be removed after v0.<span style=\"color: #008000; text-decoration-color: #008000\">13.0</span>. Use plot                           \n",
       "                             instead.                                                        \n",
       "</pre>\n"
      ],
      "text/plain": [
       "\u001b[2;36m[01/31/22 22:13:48]\u001b[0m\u001b[2;36m \u001b[0m\u001b[31mWARNING \u001b[0m The method CoordinateSystem.get_graph has     \u001b]8;id=90982;file://C:\\Users\\thoma\\AppData\\Local\\Programs\\Python\\Python39\\lib\\site-packages\\manim\\utils\\deprecation.py\u001b\\\u001b[2mdeprecation.py\u001b[0m\u001b]8;;\u001b\\\u001b[2m:\u001b[0m\u001b]8;id=102391;file://C:\\Users\\thoma\\AppData\\Local\\Programs\\Python\\Python39\\lib\\site-packages\\manim\\utils\\deprecation.py#210\u001b\\\u001b[2m210\u001b[0m\u001b]8;;\u001b\\\n",
       "                             been deprecated since v0.\u001b[32m11.0\u001b[0m and is expected                   \n",
       "                             to be removed after v0.\u001b[32m13.0\u001b[0m. Use plot                           \n",
       "                             instead.                                                        \n"
      ]
     },
     "metadata": {},
     "output_type": "display_data"
    },
    {
     "name": "stderr",
     "output_type": "stream",
     "text": [
      "Animation 1: _MethodAnimation(ValueTracker):  88%|########8 | 265/300 [03:12<01:04,  1.86s/it]"
     ]
    },
    {
     "data": {
      "text/html": [
       "<pre style=\"white-space:pre;overflow-x:auto;line-height:normal;font-family:Menlo,'DejaVu Sans Mono',consolas,'Courier New',monospace\"><span style=\"color: #7fbfbf; text-decoration-color: #7fbfbf\">[01/31/22 22:13:49] </span><span style=\"color: #800000; text-decoration-color: #800000\">WARNING </span> The method CoordinateSystem.get_graph has     <a href=\"file://C:\\Users\\thoma\\AppData\\Local\\Programs\\Python\\Python39\\lib\\site-packages\\manim\\utils\\deprecation.py\"><span style=\"color: #7f7f7f; text-decoration-color: #7f7f7f\">deprecation.py</span></a><span style=\"color: #7f7f7f; text-decoration-color: #7f7f7f\">:</span><a href=\"file://C:\\Users\\thoma\\AppData\\Local\\Programs\\Python\\Python39\\lib\\site-packages\\manim\\utils\\deprecation.py#210\"><span style=\"color: #7f7f7f; text-decoration-color: #7f7f7f\">210</span></a>\n",
       "                             been deprecated since v0.<span style=\"color: #008000; text-decoration-color: #008000\">11.0</span> and is expected                   \n",
       "                             to be removed after v0.<span style=\"color: #008000; text-decoration-color: #008000\">13.0</span>. Use plot                           \n",
       "                             instead.                                                        \n",
       "</pre>\n"
      ],
      "text/plain": [
       "\u001b[2;36m[01/31/22 22:13:49]\u001b[0m\u001b[2;36m \u001b[0m\u001b[31mWARNING \u001b[0m The method CoordinateSystem.get_graph has     \u001b]8;id=68534;file://C:\\Users\\thoma\\AppData\\Local\\Programs\\Python\\Python39\\lib\\site-packages\\manim\\utils\\deprecation.py\u001b\\\u001b[2mdeprecation.py\u001b[0m\u001b]8;;\u001b\\\u001b[2m:\u001b[0m\u001b]8;id=167338;file://C:\\Users\\thoma\\AppData\\Local\\Programs\\Python\\Python39\\lib\\site-packages\\manim\\utils\\deprecation.py#210\u001b\\\u001b[2m210\u001b[0m\u001b]8;;\u001b\\\n",
       "                             been deprecated since v0.\u001b[32m11.0\u001b[0m and is expected                   \n",
       "                             to be removed after v0.\u001b[32m13.0\u001b[0m. Use plot                           \n",
       "                             instead.                                                        \n"
      ]
     },
     "metadata": {},
     "output_type": "display_data"
    },
    {
     "name": "stderr",
     "output_type": "stream",
     "text": [
      "Animation 1: _MethodAnimation(ValueTracker):  89%|########8 | 266/300 [03:14<01:02,  1.84s/it]"
     ]
    },
    {
     "data": {
      "text/html": [
       "<pre style=\"white-space:pre;overflow-x:auto;line-height:normal;font-family:Menlo,'DejaVu Sans Mono',consolas,'Courier New',monospace\"><span style=\"color: #7fbfbf; text-decoration-color: #7fbfbf\">[01/31/22 22:13:52] </span><span style=\"color: #800000; text-decoration-color: #800000\">WARNING </span> The method CoordinateSystem.get_graph has     <a href=\"file://C:\\Users\\thoma\\AppData\\Local\\Programs\\Python\\Python39\\lib\\site-packages\\manim\\utils\\deprecation.py\"><span style=\"color: #7f7f7f; text-decoration-color: #7f7f7f\">deprecation.py</span></a><span style=\"color: #7f7f7f; text-decoration-color: #7f7f7f\">:</span><a href=\"file://C:\\Users\\thoma\\AppData\\Local\\Programs\\Python\\Python39\\lib\\site-packages\\manim\\utils\\deprecation.py#210\"><span style=\"color: #7f7f7f; text-decoration-color: #7f7f7f\">210</span></a>\n",
       "                             been deprecated since v0.<span style=\"color: #008000; text-decoration-color: #008000\">11.0</span> and is expected                   \n",
       "                             to be removed after v0.<span style=\"color: #008000; text-decoration-color: #008000\">13.0</span>. Use plot                           \n",
       "                             instead.                                                        \n",
       "</pre>\n"
      ],
      "text/plain": [
       "\u001b[2;36m[01/31/22 22:13:52]\u001b[0m\u001b[2;36m \u001b[0m\u001b[31mWARNING \u001b[0m The method CoordinateSystem.get_graph has     \u001b]8;id=120840;file://C:\\Users\\thoma\\AppData\\Local\\Programs\\Python\\Python39\\lib\\site-packages\\manim\\utils\\deprecation.py\u001b\\\u001b[2mdeprecation.py\u001b[0m\u001b]8;;\u001b\\\u001b[2m:\u001b[0m\u001b]8;id=429082;file://C:\\Users\\thoma\\AppData\\Local\\Programs\\Python\\Python39\\lib\\site-packages\\manim\\utils\\deprecation.py#210\u001b\\\u001b[2m210\u001b[0m\u001b]8;;\u001b\\\n",
       "                             been deprecated since v0.\u001b[32m11.0\u001b[0m and is expected                   \n",
       "                             to be removed after v0.\u001b[32m13.0\u001b[0m. Use plot                           \n",
       "                             instead.                                                        \n"
      ]
     },
     "metadata": {},
     "output_type": "display_data"
    },
    {
     "name": "stderr",
     "output_type": "stream",
     "text": [
      "Animation 1: _MethodAnimation(ValueTracker):  89%|########9 | 267/300 [03:16<01:03,  1.93s/it]"
     ]
    },
    {
     "data": {
      "text/html": [
       "<pre style=\"white-space:pre;overflow-x:auto;line-height:normal;font-family:Menlo,'DejaVu Sans Mono',consolas,'Courier New',monospace\"><span style=\"color: #7fbfbf; text-decoration-color: #7fbfbf\">[01/31/22 22:13:53] </span><span style=\"color: #800000; text-decoration-color: #800000\">WARNING </span> The method CoordinateSystem.get_graph has     <a href=\"file://C:\\Users\\thoma\\AppData\\Local\\Programs\\Python\\Python39\\lib\\site-packages\\manim\\utils\\deprecation.py\"><span style=\"color: #7f7f7f; text-decoration-color: #7f7f7f\">deprecation.py</span></a><span style=\"color: #7f7f7f; text-decoration-color: #7f7f7f\">:</span><a href=\"file://C:\\Users\\thoma\\AppData\\Local\\Programs\\Python\\Python39\\lib\\site-packages\\manim\\utils\\deprecation.py#210\"><span style=\"color: #7f7f7f; text-decoration-color: #7f7f7f\">210</span></a>\n",
       "                             been deprecated since v0.<span style=\"color: #008000; text-decoration-color: #008000\">11.0</span> and is expected                   \n",
       "                             to be removed after v0.<span style=\"color: #008000; text-decoration-color: #008000\">13.0</span>. Use plot                           \n",
       "                             instead.                                                        \n",
       "</pre>\n"
      ],
      "text/plain": [
       "\u001b[2;36m[01/31/22 22:13:53]\u001b[0m\u001b[2;36m \u001b[0m\u001b[31mWARNING \u001b[0m The method CoordinateSystem.get_graph has     \u001b]8;id=341367;file://C:\\Users\\thoma\\AppData\\Local\\Programs\\Python\\Python39\\lib\\site-packages\\manim\\utils\\deprecation.py\u001b\\\u001b[2mdeprecation.py\u001b[0m\u001b]8;;\u001b\\\u001b[2m:\u001b[0m\u001b]8;id=252272;file://C:\\Users\\thoma\\AppData\\Local\\Programs\\Python\\Python39\\lib\\site-packages\\manim\\utils\\deprecation.py#210\u001b\\\u001b[2m210\u001b[0m\u001b]8;;\u001b\\\n",
       "                             been deprecated since v0.\u001b[32m11.0\u001b[0m and is expected                   \n",
       "                             to be removed after v0.\u001b[32m13.0\u001b[0m. Use plot                           \n",
       "                             instead.                                                        \n"
      ]
     },
     "metadata": {},
     "output_type": "display_data"
    },
    {
     "name": "stderr",
     "output_type": "stream",
     "text": [
      "Animation 1: _MethodAnimation(ValueTracker):  89%|########9 | 268/300 [03:17<00:58,  1.84s/it]"
     ]
    },
    {
     "data": {
      "text/html": [
       "<pre style=\"white-space:pre;overflow-x:auto;line-height:normal;font-family:Menlo,'DejaVu Sans Mono',consolas,'Courier New',monospace\"><span style=\"color: #7fbfbf; text-decoration-color: #7fbfbf\">[01/31/22 22:13:55] </span><span style=\"color: #800000; text-decoration-color: #800000\">WARNING </span> The method CoordinateSystem.get_graph has     <a href=\"file://C:\\Users\\thoma\\AppData\\Local\\Programs\\Python\\Python39\\lib\\site-packages\\manim\\utils\\deprecation.py\"><span style=\"color: #7f7f7f; text-decoration-color: #7f7f7f\">deprecation.py</span></a><span style=\"color: #7f7f7f; text-decoration-color: #7f7f7f\">:</span><a href=\"file://C:\\Users\\thoma\\AppData\\Local\\Programs\\Python\\Python39\\lib\\site-packages\\manim\\utils\\deprecation.py#210\"><span style=\"color: #7f7f7f; text-decoration-color: #7f7f7f\">210</span></a>\n",
       "                             been deprecated since v0.<span style=\"color: #008000; text-decoration-color: #008000\">11.0</span> and is expected                   \n",
       "                             to be removed after v0.<span style=\"color: #008000; text-decoration-color: #008000\">13.0</span>. Use plot                           \n",
       "                             instead.                                                        \n",
       "</pre>\n"
      ],
      "text/plain": [
       "\u001b[2;36m[01/31/22 22:13:55]\u001b[0m\u001b[2;36m \u001b[0m\u001b[31mWARNING \u001b[0m The method CoordinateSystem.get_graph has     \u001b]8;id=865627;file://C:\\Users\\thoma\\AppData\\Local\\Programs\\Python\\Python39\\lib\\site-packages\\manim\\utils\\deprecation.py\u001b\\\u001b[2mdeprecation.py\u001b[0m\u001b]8;;\u001b\\\u001b[2m:\u001b[0m\u001b]8;id=184815;file://C:\\Users\\thoma\\AppData\\Local\\Programs\\Python\\Python39\\lib\\site-packages\\manim\\utils\\deprecation.py#210\u001b\\\u001b[2m210\u001b[0m\u001b]8;;\u001b\\\n",
       "                             been deprecated since v0.\u001b[32m11.0\u001b[0m and is expected                   \n",
       "                             to be removed after v0.\u001b[32m13.0\u001b[0m. Use plot                           \n",
       "                             instead.                                                        \n"
      ]
     },
     "metadata": {},
     "output_type": "display_data"
    },
    {
     "name": "stderr",
     "output_type": "stream",
     "text": [
      "Animation 1: _MethodAnimation(ValueTracker):  90%|########9 | 269/300 [03:19<00:55,  1.79s/it]"
     ]
    },
    {
     "data": {
      "text/html": [
       "<pre style=\"white-space:pre;overflow-x:auto;line-height:normal;font-family:Menlo,'DejaVu Sans Mono',consolas,'Courier New',monospace\"><span style=\"color: #7fbfbf; text-decoration-color: #7fbfbf\">[01/31/22 22:13:57] </span><span style=\"color: #800000; text-decoration-color: #800000\">WARNING </span> The method CoordinateSystem.get_graph has     <a href=\"file://C:\\Users\\thoma\\AppData\\Local\\Programs\\Python\\Python39\\lib\\site-packages\\manim\\utils\\deprecation.py\"><span style=\"color: #7f7f7f; text-decoration-color: #7f7f7f\">deprecation.py</span></a><span style=\"color: #7f7f7f; text-decoration-color: #7f7f7f\">:</span><a href=\"file://C:\\Users\\thoma\\AppData\\Local\\Programs\\Python\\Python39\\lib\\site-packages\\manim\\utils\\deprecation.py#210\"><span style=\"color: #7f7f7f; text-decoration-color: #7f7f7f\">210</span></a>\n",
       "                             been deprecated since v0.<span style=\"color: #008000; text-decoration-color: #008000\">11.0</span> and is expected                   \n",
       "                             to be removed after v0.<span style=\"color: #008000; text-decoration-color: #008000\">13.0</span>. Use plot                           \n",
       "                             instead.                                                        \n",
       "</pre>\n"
      ],
      "text/plain": [
       "\u001b[2;36m[01/31/22 22:13:57]\u001b[0m\u001b[2;36m \u001b[0m\u001b[31mWARNING \u001b[0m The method CoordinateSystem.get_graph has     \u001b]8;id=823852;file://C:\\Users\\thoma\\AppData\\Local\\Programs\\Python\\Python39\\lib\\site-packages\\manim\\utils\\deprecation.py\u001b\\\u001b[2mdeprecation.py\u001b[0m\u001b]8;;\u001b\\\u001b[2m:\u001b[0m\u001b]8;id=427648;file://C:\\Users\\thoma\\AppData\\Local\\Programs\\Python\\Python39\\lib\\site-packages\\manim\\utils\\deprecation.py#210\u001b\\\u001b[2m210\u001b[0m\u001b]8;;\u001b\\\n",
       "                             been deprecated since v0.\u001b[32m11.0\u001b[0m and is expected                   \n",
       "                             to be removed after v0.\u001b[32m13.0\u001b[0m. Use plot                           \n",
       "                             instead.                                                        \n"
      ]
     },
     "metadata": {},
     "output_type": "display_data"
    },
    {
     "name": "stderr",
     "output_type": "stream",
     "text": [
      "Animation 1: _MethodAnimation(ValueTracker):  90%|######### | 270/300 [03:21<00:58,  1.95s/it]"
     ]
    },
    {
     "data": {
      "text/html": [
       "<pre style=\"white-space:pre;overflow-x:auto;line-height:normal;font-family:Menlo,'DejaVu Sans Mono',consolas,'Courier New',monospace\"><span style=\"color: #7fbfbf; text-decoration-color: #7fbfbf\">[01/31/22 22:13:59] </span><span style=\"color: #800000; text-decoration-color: #800000\">WARNING </span> The method CoordinateSystem.get_graph has     <a href=\"file://C:\\Users\\thoma\\AppData\\Local\\Programs\\Python\\Python39\\lib\\site-packages\\manim\\utils\\deprecation.py\"><span style=\"color: #7f7f7f; text-decoration-color: #7f7f7f\">deprecation.py</span></a><span style=\"color: #7f7f7f; text-decoration-color: #7f7f7f\">:</span><a href=\"file://C:\\Users\\thoma\\AppData\\Local\\Programs\\Python\\Python39\\lib\\site-packages\\manim\\utils\\deprecation.py#210\"><span style=\"color: #7f7f7f; text-decoration-color: #7f7f7f\">210</span></a>\n",
       "                             been deprecated since v0.<span style=\"color: #008000; text-decoration-color: #008000\">11.0</span> and is expected                   \n",
       "                             to be removed after v0.<span style=\"color: #008000; text-decoration-color: #008000\">13.0</span>. Use plot                           \n",
       "                             instead.                                                        \n",
       "</pre>\n"
      ],
      "text/plain": [
       "\u001b[2;36m[01/31/22 22:13:59]\u001b[0m\u001b[2;36m \u001b[0m\u001b[31mWARNING \u001b[0m The method CoordinateSystem.get_graph has     \u001b]8;id=630791;file://C:\\Users\\thoma\\AppData\\Local\\Programs\\Python\\Python39\\lib\\site-packages\\manim\\utils\\deprecation.py\u001b\\\u001b[2mdeprecation.py\u001b[0m\u001b]8;;\u001b\\\u001b[2m:\u001b[0m\u001b]8;id=488803;file://C:\\Users\\thoma\\AppData\\Local\\Programs\\Python\\Python39\\lib\\site-packages\\manim\\utils\\deprecation.py#210\u001b\\\u001b[2m210\u001b[0m\u001b]8;;\u001b\\\n",
       "                             been deprecated since v0.\u001b[32m11.0\u001b[0m and is expected                   \n",
       "                             to be removed after v0.\u001b[32m13.0\u001b[0m. Use plot                           \n",
       "                             instead.                                                        \n"
      ]
     },
     "metadata": {},
     "output_type": "display_data"
    },
    {
     "name": "stderr",
     "output_type": "stream",
     "text": [
      "Animation 1: _MethodAnimation(ValueTracker):  90%|######### | 271/300 [03:23<00:55,  1.91s/it]"
     ]
    },
    {
     "data": {
      "text/html": [
       "<pre style=\"white-space:pre;overflow-x:auto;line-height:normal;font-family:Menlo,'DejaVu Sans Mono',consolas,'Courier New',monospace\"><span style=\"color: #7fbfbf; text-decoration-color: #7fbfbf\">[01/31/22 22:14:01] </span><span style=\"color: #800000; text-decoration-color: #800000\">WARNING </span> The method CoordinateSystem.get_graph has     <a href=\"file://C:\\Users\\thoma\\AppData\\Local\\Programs\\Python\\Python39\\lib\\site-packages\\manim\\utils\\deprecation.py\"><span style=\"color: #7f7f7f; text-decoration-color: #7f7f7f\">deprecation.py</span></a><span style=\"color: #7f7f7f; text-decoration-color: #7f7f7f\">:</span><a href=\"file://C:\\Users\\thoma\\AppData\\Local\\Programs\\Python\\Python39\\lib\\site-packages\\manim\\utils\\deprecation.py#210\"><span style=\"color: #7f7f7f; text-decoration-color: #7f7f7f\">210</span></a>\n",
       "                             been deprecated since v0.<span style=\"color: #008000; text-decoration-color: #008000\">11.0</span> and is expected                   \n",
       "                             to be removed after v0.<span style=\"color: #008000; text-decoration-color: #008000\">13.0</span>. Use plot                           \n",
       "                             instead.                                                        \n",
       "</pre>\n"
      ],
      "text/plain": [
       "\u001b[2;36m[01/31/22 22:14:01]\u001b[0m\u001b[2;36m \u001b[0m\u001b[31mWARNING \u001b[0m The method CoordinateSystem.get_graph has     \u001b]8;id=456487;file://C:\\Users\\thoma\\AppData\\Local\\Programs\\Python\\Python39\\lib\\site-packages\\manim\\utils\\deprecation.py\u001b\\\u001b[2mdeprecation.py\u001b[0m\u001b]8;;\u001b\\\u001b[2m:\u001b[0m\u001b]8;id=205623;file://C:\\Users\\thoma\\AppData\\Local\\Programs\\Python\\Python39\\lib\\site-packages\\manim\\utils\\deprecation.py#210\u001b\\\u001b[2m210\u001b[0m\u001b]8;;\u001b\\\n",
       "                             been deprecated since v0.\u001b[32m11.0\u001b[0m and is expected                   \n",
       "                             to be removed after v0.\u001b[32m13.0\u001b[0m. Use plot                           \n",
       "                             instead.                                                        \n"
      ]
     },
     "metadata": {},
     "output_type": "display_data"
    },
    {
     "name": "stderr",
     "output_type": "stream",
     "text": [
      "Animation 1: _MethodAnimation(ValueTracker):  91%|######### | 272/300 [03:25<00:54,  1.94s/it]"
     ]
    },
    {
     "data": {
      "text/html": [
       "<pre style=\"white-space:pre;overflow-x:auto;line-height:normal;font-family:Menlo,'DejaVu Sans Mono',consolas,'Courier New',monospace\"><span style=\"color: #7fbfbf; text-decoration-color: #7fbfbf\">[01/31/22 22:14:03] </span><span style=\"color: #800000; text-decoration-color: #800000\">WARNING </span> The method CoordinateSystem.get_graph has     <a href=\"file://C:\\Users\\thoma\\AppData\\Local\\Programs\\Python\\Python39\\lib\\site-packages\\manim\\utils\\deprecation.py\"><span style=\"color: #7f7f7f; text-decoration-color: #7f7f7f\">deprecation.py</span></a><span style=\"color: #7f7f7f; text-decoration-color: #7f7f7f\">:</span><a href=\"file://C:\\Users\\thoma\\AppData\\Local\\Programs\\Python\\Python39\\lib\\site-packages\\manim\\utils\\deprecation.py#210\"><span style=\"color: #7f7f7f; text-decoration-color: #7f7f7f\">210</span></a>\n",
       "                             been deprecated since v0.<span style=\"color: #008000; text-decoration-color: #008000\">11.0</span> and is expected                   \n",
       "                             to be removed after v0.<span style=\"color: #008000; text-decoration-color: #008000\">13.0</span>. Use plot                           \n",
       "                             instead.                                                        \n",
       "</pre>\n"
      ],
      "text/plain": [
       "\u001b[2;36m[01/31/22 22:14:03]\u001b[0m\u001b[2;36m \u001b[0m\u001b[31mWARNING \u001b[0m The method CoordinateSystem.get_graph has     \u001b]8;id=321156;file://C:\\Users\\thoma\\AppData\\Local\\Programs\\Python\\Python39\\lib\\site-packages\\manim\\utils\\deprecation.py\u001b\\\u001b[2mdeprecation.py\u001b[0m\u001b]8;;\u001b\\\u001b[2m:\u001b[0m\u001b]8;id=163877;file://C:\\Users\\thoma\\AppData\\Local\\Programs\\Python\\Python39\\lib\\site-packages\\manim\\utils\\deprecation.py#210\u001b\\\u001b[2m210\u001b[0m\u001b]8;;\u001b\\\n",
       "                             been deprecated since v0.\u001b[32m11.0\u001b[0m and is expected                   \n",
       "                             to be removed after v0.\u001b[32m13.0\u001b[0m. Use plot                           \n",
       "                             instead.                                                        \n"
      ]
     },
     "metadata": {},
     "output_type": "display_data"
    },
    {
     "name": "stderr",
     "output_type": "stream",
     "text": [
      "Animation 1: _MethodAnimation(ValueTracker):  91%|#########1| 273/300 [03:27<00:52,  1.94s/it]"
     ]
    },
    {
     "data": {
      "text/html": [
       "<pre style=\"white-space:pre;overflow-x:auto;line-height:normal;font-family:Menlo,'DejaVu Sans Mono',consolas,'Courier New',monospace\"><span style=\"color: #7fbfbf; text-decoration-color: #7fbfbf\">[01/31/22 22:14:05] </span><span style=\"color: #800000; text-decoration-color: #800000\">WARNING </span> The method CoordinateSystem.get_graph has     <a href=\"file://C:\\Users\\thoma\\AppData\\Local\\Programs\\Python\\Python39\\lib\\site-packages\\manim\\utils\\deprecation.py\"><span style=\"color: #7f7f7f; text-decoration-color: #7f7f7f\">deprecation.py</span></a><span style=\"color: #7f7f7f; text-decoration-color: #7f7f7f\">:</span><a href=\"file://C:\\Users\\thoma\\AppData\\Local\\Programs\\Python\\Python39\\lib\\site-packages\\manim\\utils\\deprecation.py#210\"><span style=\"color: #7f7f7f; text-decoration-color: #7f7f7f\">210</span></a>\n",
       "                             been deprecated since v0.<span style=\"color: #008000; text-decoration-color: #008000\">11.0</span> and is expected                   \n",
       "                             to be removed after v0.<span style=\"color: #008000; text-decoration-color: #008000\">13.0</span>. Use plot                           \n",
       "                             instead.                                                        \n",
       "</pre>\n"
      ],
      "text/plain": [
       "\u001b[2;36m[01/31/22 22:14:05]\u001b[0m\u001b[2;36m \u001b[0m\u001b[31mWARNING \u001b[0m The method CoordinateSystem.get_graph has     \u001b]8;id=473802;file://C:\\Users\\thoma\\AppData\\Local\\Programs\\Python\\Python39\\lib\\site-packages\\manim\\utils\\deprecation.py\u001b\\\u001b[2mdeprecation.py\u001b[0m\u001b]8;;\u001b\\\u001b[2m:\u001b[0m\u001b]8;id=860176;file://C:\\Users\\thoma\\AppData\\Local\\Programs\\Python\\Python39\\lib\\site-packages\\manim\\utils\\deprecation.py#210\u001b\\\u001b[2m210\u001b[0m\u001b]8;;\u001b\\\n",
       "                             been deprecated since v0.\u001b[32m11.0\u001b[0m and is expected                   \n",
       "                             to be removed after v0.\u001b[32m13.0\u001b[0m. Use plot                           \n",
       "                             instead.                                                        \n"
      ]
     },
     "metadata": {},
     "output_type": "display_data"
    },
    {
     "name": "stderr",
     "output_type": "stream",
     "text": [
      "Animation 1: _MethodAnimation(ValueTracker):  91%|#########1| 274/300 [03:30<00:54,  2.09s/it]"
     ]
    },
    {
     "data": {
      "text/html": [
       "<pre style=\"white-space:pre;overflow-x:auto;line-height:normal;font-family:Menlo,'DejaVu Sans Mono',consolas,'Courier New',monospace\"><span style=\"color: #7fbfbf; text-decoration-color: #7fbfbf\">[01/31/22 22:14:08] </span><span style=\"color: #800000; text-decoration-color: #800000\">WARNING </span> The method CoordinateSystem.get_graph has     <a href=\"file://C:\\Users\\thoma\\AppData\\Local\\Programs\\Python\\Python39\\lib\\site-packages\\manim\\utils\\deprecation.py\"><span style=\"color: #7f7f7f; text-decoration-color: #7f7f7f\">deprecation.py</span></a><span style=\"color: #7f7f7f; text-decoration-color: #7f7f7f\">:</span><a href=\"file://C:\\Users\\thoma\\AppData\\Local\\Programs\\Python\\Python39\\lib\\site-packages\\manim\\utils\\deprecation.py#210\"><span style=\"color: #7f7f7f; text-decoration-color: #7f7f7f\">210</span></a>\n",
       "                             been deprecated since v0.<span style=\"color: #008000; text-decoration-color: #008000\">11.0</span> and is expected                   \n",
       "                             to be removed after v0.<span style=\"color: #008000; text-decoration-color: #008000\">13.0</span>. Use plot                           \n",
       "                             instead.                                                        \n",
       "</pre>\n"
      ],
      "text/plain": [
       "\u001b[2;36m[01/31/22 22:14:08]\u001b[0m\u001b[2;36m \u001b[0m\u001b[31mWARNING \u001b[0m The method CoordinateSystem.get_graph has     \u001b]8;id=851492;file://C:\\Users\\thoma\\AppData\\Local\\Programs\\Python\\Python39\\lib\\site-packages\\manim\\utils\\deprecation.py\u001b\\\u001b[2mdeprecation.py\u001b[0m\u001b]8;;\u001b\\\u001b[2m:\u001b[0m\u001b]8;id=122233;file://C:\\Users\\thoma\\AppData\\Local\\Programs\\Python\\Python39\\lib\\site-packages\\manim\\utils\\deprecation.py#210\u001b\\\u001b[2m210\u001b[0m\u001b]8;;\u001b\\\n",
       "                             been deprecated since v0.\u001b[32m11.0\u001b[0m and is expected                   \n",
       "                             to be removed after v0.\u001b[32m13.0\u001b[0m. Use plot                           \n",
       "                             instead.                                                        \n"
      ]
     },
     "metadata": {},
     "output_type": "display_data"
    },
    {
     "name": "stderr",
     "output_type": "stream",
     "text": [
      "Animation 1: _MethodAnimation(ValueTracker):  92%|#########1| 275/300 [03:32<00:57,  2.29s/it]"
     ]
    },
    {
     "data": {
      "text/html": [
       "<pre style=\"white-space:pre;overflow-x:auto;line-height:normal;font-family:Menlo,'DejaVu Sans Mono',consolas,'Courier New',monospace\"><span style=\"color: #7fbfbf; text-decoration-color: #7fbfbf\">[01/31/22 22:14:10] </span><span style=\"color: #800000; text-decoration-color: #800000\">WARNING </span> The method CoordinateSystem.get_graph has     <a href=\"file://C:\\Users\\thoma\\AppData\\Local\\Programs\\Python\\Python39\\lib\\site-packages\\manim\\utils\\deprecation.py\"><span style=\"color: #7f7f7f; text-decoration-color: #7f7f7f\">deprecation.py</span></a><span style=\"color: #7f7f7f; text-decoration-color: #7f7f7f\">:</span><a href=\"file://C:\\Users\\thoma\\AppData\\Local\\Programs\\Python\\Python39\\lib\\site-packages\\manim\\utils\\deprecation.py#210\"><span style=\"color: #7f7f7f; text-decoration-color: #7f7f7f\">210</span></a>\n",
       "                             been deprecated since v0.<span style=\"color: #008000; text-decoration-color: #008000\">11.0</span> and is expected                   \n",
       "                             to be removed after v0.<span style=\"color: #008000; text-decoration-color: #008000\">13.0</span>. Use plot                           \n",
       "                             instead.                                                        \n",
       "</pre>\n"
      ],
      "text/plain": [
       "\u001b[2;36m[01/31/22 22:14:10]\u001b[0m\u001b[2;36m \u001b[0m\u001b[31mWARNING \u001b[0m The method CoordinateSystem.get_graph has     \u001b]8;id=249664;file://C:\\Users\\thoma\\AppData\\Local\\Programs\\Python\\Python39\\lib\\site-packages\\manim\\utils\\deprecation.py\u001b\\\u001b[2mdeprecation.py\u001b[0m\u001b]8;;\u001b\\\u001b[2m:\u001b[0m\u001b]8;id=919652;file://C:\\Users\\thoma\\AppData\\Local\\Programs\\Python\\Python39\\lib\\site-packages\\manim\\utils\\deprecation.py#210\u001b\\\u001b[2m210\u001b[0m\u001b]8;;\u001b\\\n",
       "                             been deprecated since v0.\u001b[32m11.0\u001b[0m and is expected                   \n",
       "                             to be removed after v0.\u001b[32m13.0\u001b[0m. Use plot                           \n",
       "                             instead.                                                        \n"
      ]
     },
     "metadata": {},
     "output_type": "display_data"
    },
    {
     "name": "stderr",
     "output_type": "stream",
     "text": [
      "Animation 1: _MethodAnimation(ValueTracker):  92%|#########2| 276/300 [03:34<00:53,  2.23s/it]"
     ]
    },
    {
     "data": {
      "text/html": [
       "<pre style=\"white-space:pre;overflow-x:auto;line-height:normal;font-family:Menlo,'DejaVu Sans Mono',consolas,'Courier New',monospace\"><span style=\"color: #7fbfbf; text-decoration-color: #7fbfbf\">[01/31/22 22:14:12] </span><span style=\"color: #800000; text-decoration-color: #800000\">WARNING </span> The method CoordinateSystem.get_graph has     <a href=\"file://C:\\Users\\thoma\\AppData\\Local\\Programs\\Python\\Python39\\lib\\site-packages\\manim\\utils\\deprecation.py\"><span style=\"color: #7f7f7f; text-decoration-color: #7f7f7f\">deprecation.py</span></a><span style=\"color: #7f7f7f; text-decoration-color: #7f7f7f\">:</span><a href=\"file://C:\\Users\\thoma\\AppData\\Local\\Programs\\Python\\Python39\\lib\\site-packages\\manim\\utils\\deprecation.py#210\"><span style=\"color: #7f7f7f; text-decoration-color: #7f7f7f\">210</span></a>\n",
       "                             been deprecated since v0.<span style=\"color: #008000; text-decoration-color: #008000\">11.0</span> and is expected                   \n",
       "                             to be removed after v0.<span style=\"color: #008000; text-decoration-color: #008000\">13.0</span>. Use plot                           \n",
       "                             instead.                                                        \n",
       "</pre>\n"
      ],
      "text/plain": [
       "\u001b[2;36m[01/31/22 22:14:12]\u001b[0m\u001b[2;36m \u001b[0m\u001b[31mWARNING \u001b[0m The method CoordinateSystem.get_graph has     \u001b]8;id=526348;file://C:\\Users\\thoma\\AppData\\Local\\Programs\\Python\\Python39\\lib\\site-packages\\manim\\utils\\deprecation.py\u001b\\\u001b[2mdeprecation.py\u001b[0m\u001b]8;;\u001b\\\u001b[2m:\u001b[0m\u001b]8;id=754385;file://C:\\Users\\thoma\\AppData\\Local\\Programs\\Python\\Python39\\lib\\site-packages\\manim\\utils\\deprecation.py#210\u001b\\\u001b[2m210\u001b[0m\u001b]8;;\u001b\\\n",
       "                             been deprecated since v0.\u001b[32m11.0\u001b[0m and is expected                   \n",
       "                             to be removed after v0.\u001b[32m13.0\u001b[0m. Use plot                           \n",
       "                             instead.                                                        \n"
      ]
     },
     "metadata": {},
     "output_type": "display_data"
    },
    {
     "name": "stderr",
     "output_type": "stream",
     "text": [
      "Animation 1: _MethodAnimation(ValueTracker):  92%|#########2| 277/300 [03:37<00:51,  2.24s/it]"
     ]
    },
    {
     "data": {
      "text/html": [
       "<pre style=\"white-space:pre;overflow-x:auto;line-height:normal;font-family:Menlo,'DejaVu Sans Mono',consolas,'Courier New',monospace\"><span style=\"color: #7fbfbf; text-decoration-color: #7fbfbf\">[01/31/22 22:14:14] </span><span style=\"color: #800000; text-decoration-color: #800000\">WARNING </span> The method CoordinateSystem.get_graph has     <a href=\"file://C:\\Users\\thoma\\AppData\\Local\\Programs\\Python\\Python39\\lib\\site-packages\\manim\\utils\\deprecation.py\"><span style=\"color: #7f7f7f; text-decoration-color: #7f7f7f\">deprecation.py</span></a><span style=\"color: #7f7f7f; text-decoration-color: #7f7f7f\">:</span><a href=\"file://C:\\Users\\thoma\\AppData\\Local\\Programs\\Python\\Python39\\lib\\site-packages\\manim\\utils\\deprecation.py#210\"><span style=\"color: #7f7f7f; text-decoration-color: #7f7f7f\">210</span></a>\n",
       "                             been deprecated since v0.<span style=\"color: #008000; text-decoration-color: #008000\">11.0</span> and is expected                   \n",
       "                             to be removed after v0.<span style=\"color: #008000; text-decoration-color: #008000\">13.0</span>. Use plot                           \n",
       "                             instead.                                                        \n",
       "</pre>\n"
      ],
      "text/plain": [
       "\u001b[2;36m[01/31/22 22:14:14]\u001b[0m\u001b[2;36m \u001b[0m\u001b[31mWARNING \u001b[0m The method CoordinateSystem.get_graph has     \u001b]8;id=85247;file://C:\\Users\\thoma\\AppData\\Local\\Programs\\Python\\Python39\\lib\\site-packages\\manim\\utils\\deprecation.py\u001b\\\u001b[2mdeprecation.py\u001b[0m\u001b]8;;\u001b\\\u001b[2m:\u001b[0m\u001b]8;id=957392;file://C:\\Users\\thoma\\AppData\\Local\\Programs\\Python\\Python39\\lib\\site-packages\\manim\\utils\\deprecation.py#210\u001b\\\u001b[2m210\u001b[0m\u001b]8;;\u001b\\\n",
       "                             been deprecated since v0.\u001b[32m11.0\u001b[0m and is expected                   \n",
       "                             to be removed after v0.\u001b[32m13.0\u001b[0m. Use plot                           \n",
       "                             instead.                                                        \n"
      ]
     },
     "metadata": {},
     "output_type": "display_data"
    },
    {
     "name": "stderr",
     "output_type": "stream",
     "text": [
      "Animation 1: _MethodAnimation(ValueTracker):  93%|#########2| 278/300 [03:38<00:46,  2.09s/it]"
     ]
    },
    {
     "data": {
      "text/html": [
       "<pre style=\"white-space:pre;overflow-x:auto;line-height:normal;font-family:Menlo,'DejaVu Sans Mono',consolas,'Courier New',monospace\"><span style=\"color: #7fbfbf; text-decoration-color: #7fbfbf\">[01/31/22 22:14:16] </span><span style=\"color: #800000; text-decoration-color: #800000\">WARNING </span> The method CoordinateSystem.get_graph has     <a href=\"file://C:\\Users\\thoma\\AppData\\Local\\Programs\\Python\\Python39\\lib\\site-packages\\manim\\utils\\deprecation.py\"><span style=\"color: #7f7f7f; text-decoration-color: #7f7f7f\">deprecation.py</span></a><span style=\"color: #7f7f7f; text-decoration-color: #7f7f7f\">:</span><a href=\"file://C:\\Users\\thoma\\AppData\\Local\\Programs\\Python\\Python39\\lib\\site-packages\\manim\\utils\\deprecation.py#210\"><span style=\"color: #7f7f7f; text-decoration-color: #7f7f7f\">210</span></a>\n",
       "                             been deprecated since v0.<span style=\"color: #008000; text-decoration-color: #008000\">11.0</span> and is expected                   \n",
       "                             to be removed after v0.<span style=\"color: #008000; text-decoration-color: #008000\">13.0</span>. Use plot                           \n",
       "                             instead.                                                        \n",
       "</pre>\n"
      ],
      "text/plain": [
       "\u001b[2;36m[01/31/22 22:14:16]\u001b[0m\u001b[2;36m \u001b[0m\u001b[31mWARNING \u001b[0m The method CoordinateSystem.get_graph has     \u001b]8;id=515769;file://C:\\Users\\thoma\\AppData\\Local\\Programs\\Python\\Python39\\lib\\site-packages\\manim\\utils\\deprecation.py\u001b\\\u001b[2mdeprecation.py\u001b[0m\u001b]8;;\u001b\\\u001b[2m:\u001b[0m\u001b]8;id=681869;file://C:\\Users\\thoma\\AppData\\Local\\Programs\\Python\\Python39\\lib\\site-packages\\manim\\utils\\deprecation.py#210\u001b\\\u001b[2m210\u001b[0m\u001b]8;;\u001b\\\n",
       "                             been deprecated since v0.\u001b[32m11.0\u001b[0m and is expected                   \n",
       "                             to be removed after v0.\u001b[32m13.0\u001b[0m. Use plot                           \n",
       "                             instead.                                                        \n"
      ]
     },
     "metadata": {},
     "output_type": "display_data"
    },
    {
     "name": "stderr",
     "output_type": "stream",
     "text": [
      "Animation 1: _MethodAnimation(ValueTracker):  93%|#########3| 279/300 [03:40<00:43,  2.08s/it]"
     ]
    },
    {
     "data": {
      "text/html": [
       "<pre style=\"white-space:pre;overflow-x:auto;line-height:normal;font-family:Menlo,'DejaVu Sans Mono',consolas,'Courier New',monospace\"><span style=\"color: #7fbfbf; text-decoration-color: #7fbfbf\">[01/31/22 22:14:19] </span><span style=\"color: #800000; text-decoration-color: #800000\">WARNING </span> The method CoordinateSystem.get_graph has     <a href=\"file://C:\\Users\\thoma\\AppData\\Local\\Programs\\Python\\Python39\\lib\\site-packages\\manim\\utils\\deprecation.py\"><span style=\"color: #7f7f7f; text-decoration-color: #7f7f7f\">deprecation.py</span></a><span style=\"color: #7f7f7f; text-decoration-color: #7f7f7f\">:</span><a href=\"file://C:\\Users\\thoma\\AppData\\Local\\Programs\\Python\\Python39\\lib\\site-packages\\manim\\utils\\deprecation.py#210\"><span style=\"color: #7f7f7f; text-decoration-color: #7f7f7f\">210</span></a>\n",
       "                             been deprecated since v0.<span style=\"color: #008000; text-decoration-color: #008000\">11.0</span> and is expected                   \n",
       "                             to be removed after v0.<span style=\"color: #008000; text-decoration-color: #008000\">13.0</span>. Use plot                           \n",
       "                             instead.                                                        \n",
       "</pre>\n"
      ],
      "text/plain": [
       "\u001b[2;36m[01/31/22 22:14:19]\u001b[0m\u001b[2;36m \u001b[0m\u001b[31mWARNING \u001b[0m The method CoordinateSystem.get_graph has     \u001b]8;id=892001;file://C:\\Users\\thoma\\AppData\\Local\\Programs\\Python\\Python39\\lib\\site-packages\\manim\\utils\\deprecation.py\u001b\\\u001b[2mdeprecation.py\u001b[0m\u001b]8;;\u001b\\\u001b[2m:\u001b[0m\u001b]8;id=211733;file://C:\\Users\\thoma\\AppData\\Local\\Programs\\Python\\Python39\\lib\\site-packages\\manim\\utils\\deprecation.py#210\u001b\\\u001b[2m210\u001b[0m\u001b]8;;\u001b\\\n",
       "                             been deprecated since v0.\u001b[32m11.0\u001b[0m and is expected                   \n",
       "                             to be removed after v0.\u001b[32m13.0\u001b[0m. Use plot                           \n",
       "                             instead.                                                        \n"
      ]
     },
     "metadata": {},
     "output_type": "display_data"
    },
    {
     "name": "stderr",
     "output_type": "stream",
     "text": [
      "Animation 1: _MethodAnimation(ValueTracker):  93%|#########3| 280/300 [03:43<00:42,  2.12s/it]"
     ]
    },
    {
     "data": {
      "text/html": [
       "<pre style=\"white-space:pre;overflow-x:auto;line-height:normal;font-family:Menlo,'DejaVu Sans Mono',consolas,'Courier New',monospace\"><span style=\"color: #7fbfbf; text-decoration-color: #7fbfbf\">[01/31/22 22:14:20] </span><span style=\"color: #800000; text-decoration-color: #800000\">WARNING </span> The method CoordinateSystem.get_graph has     <a href=\"file://C:\\Users\\thoma\\AppData\\Local\\Programs\\Python\\Python39\\lib\\site-packages\\manim\\utils\\deprecation.py\"><span style=\"color: #7f7f7f; text-decoration-color: #7f7f7f\">deprecation.py</span></a><span style=\"color: #7f7f7f; text-decoration-color: #7f7f7f\">:</span><a href=\"file://C:\\Users\\thoma\\AppData\\Local\\Programs\\Python\\Python39\\lib\\site-packages\\manim\\utils\\deprecation.py#210\"><span style=\"color: #7f7f7f; text-decoration-color: #7f7f7f\">210</span></a>\n",
       "                             been deprecated since v0.<span style=\"color: #008000; text-decoration-color: #008000\">11.0</span> and is expected                   \n",
       "                             to be removed after v0.<span style=\"color: #008000; text-decoration-color: #008000\">13.0</span>. Use plot                           \n",
       "                             instead.                                                        \n",
       "</pre>\n"
      ],
      "text/plain": [
       "\u001b[2;36m[01/31/22 22:14:20]\u001b[0m\u001b[2;36m \u001b[0m\u001b[31mWARNING \u001b[0m The method CoordinateSystem.get_graph has     \u001b]8;id=224863;file://C:\\Users\\thoma\\AppData\\Local\\Programs\\Python\\Python39\\lib\\site-packages\\manim\\utils\\deprecation.py\u001b\\\u001b[2mdeprecation.py\u001b[0m\u001b]8;;\u001b\\\u001b[2m:\u001b[0m\u001b]8;id=127609;file://C:\\Users\\thoma\\AppData\\Local\\Programs\\Python\\Python39\\lib\\site-packages\\manim\\utils\\deprecation.py#210\u001b\\\u001b[2m210\u001b[0m\u001b]8;;\u001b\\\n",
       "                             been deprecated since v0.\u001b[32m11.0\u001b[0m and is expected                   \n",
       "                             to be removed after v0.\u001b[32m13.0\u001b[0m. Use plot                           \n",
       "                             instead.                                                        \n"
      ]
     },
     "metadata": {},
     "output_type": "display_data"
    },
    {
     "name": "stderr",
     "output_type": "stream",
     "text": [
      "Animation 1: _MethodAnimation(ValueTracker):  94%|#########3| 281/300 [03:44<00:38,  2.03s/it]"
     ]
    },
    {
     "data": {
      "text/html": [
       "<pre style=\"white-space:pre;overflow-x:auto;line-height:normal;font-family:Menlo,'DejaVu Sans Mono',consolas,'Courier New',monospace\"><span style=\"color: #7fbfbf; text-decoration-color: #7fbfbf\">[01/31/22 22:14:22] </span><span style=\"color: #800000; text-decoration-color: #800000\">WARNING </span> The method CoordinateSystem.get_graph has     <a href=\"file://C:\\Users\\thoma\\AppData\\Local\\Programs\\Python\\Python39\\lib\\site-packages\\manim\\utils\\deprecation.py\"><span style=\"color: #7f7f7f; text-decoration-color: #7f7f7f\">deprecation.py</span></a><span style=\"color: #7f7f7f; text-decoration-color: #7f7f7f\">:</span><a href=\"file://C:\\Users\\thoma\\AppData\\Local\\Programs\\Python\\Python39\\lib\\site-packages\\manim\\utils\\deprecation.py#210\"><span style=\"color: #7f7f7f; text-decoration-color: #7f7f7f\">210</span></a>\n",
       "                             been deprecated since v0.<span style=\"color: #008000; text-decoration-color: #008000\">11.0</span> and is expected                   \n",
       "                             to be removed after v0.<span style=\"color: #008000; text-decoration-color: #008000\">13.0</span>. Use plot                           \n",
       "                             instead.                                                        \n",
       "</pre>\n"
      ],
      "text/plain": [
       "\u001b[2;36m[01/31/22 22:14:22]\u001b[0m\u001b[2;36m \u001b[0m\u001b[31mWARNING \u001b[0m The method CoordinateSystem.get_graph has     \u001b]8;id=637050;file://C:\\Users\\thoma\\AppData\\Local\\Programs\\Python\\Python39\\lib\\site-packages\\manim\\utils\\deprecation.py\u001b\\\u001b[2mdeprecation.py\u001b[0m\u001b]8;;\u001b\\\u001b[2m:\u001b[0m\u001b]8;id=687095;file://C:\\Users\\thoma\\AppData\\Local\\Programs\\Python\\Python39\\lib\\site-packages\\manim\\utils\\deprecation.py#210\u001b\\\u001b[2m210\u001b[0m\u001b]8;;\u001b\\\n",
       "                             been deprecated since v0.\u001b[32m11.0\u001b[0m and is expected                   \n",
       "                             to be removed after v0.\u001b[32m13.0\u001b[0m. Use plot                           \n",
       "                             instead.                                                        \n"
      ]
     },
     "metadata": {},
     "output_type": "display_data"
    },
    {
     "name": "stderr",
     "output_type": "stream",
     "text": [
      "Animation 1: _MethodAnimation(ValueTracker):  94%|#########3| 282/300 [03:46<00:36,  2.01s/it]"
     ]
    },
    {
     "data": {
      "text/html": [
       "<pre style=\"white-space:pre;overflow-x:auto;line-height:normal;font-family:Menlo,'DejaVu Sans Mono',consolas,'Courier New',monospace\"><span style=\"color: #7fbfbf; text-decoration-color: #7fbfbf\">[01/31/22 22:14:25] </span><span style=\"color: #800000; text-decoration-color: #800000\">WARNING </span> The method CoordinateSystem.get_graph has     <a href=\"file://C:\\Users\\thoma\\AppData\\Local\\Programs\\Python\\Python39\\lib\\site-packages\\manim\\utils\\deprecation.py\"><span style=\"color: #7f7f7f; text-decoration-color: #7f7f7f\">deprecation.py</span></a><span style=\"color: #7f7f7f; text-decoration-color: #7f7f7f\">:</span><a href=\"file://C:\\Users\\thoma\\AppData\\Local\\Programs\\Python\\Python39\\lib\\site-packages\\manim\\utils\\deprecation.py#210\"><span style=\"color: #7f7f7f; text-decoration-color: #7f7f7f\">210</span></a>\n",
       "                             been deprecated since v0.<span style=\"color: #008000; text-decoration-color: #008000\">11.0</span> and is expected                   \n",
       "                             to be removed after v0.<span style=\"color: #008000; text-decoration-color: #008000\">13.0</span>. Use plot                           \n",
       "                             instead.                                                        \n",
       "</pre>\n"
      ],
      "text/plain": [
       "\u001b[2;36m[01/31/22 22:14:25]\u001b[0m\u001b[2;36m \u001b[0m\u001b[31mWARNING \u001b[0m The method CoordinateSystem.get_graph has     \u001b]8;id=636162;file://C:\\Users\\thoma\\AppData\\Local\\Programs\\Python\\Python39\\lib\\site-packages\\manim\\utils\\deprecation.py\u001b\\\u001b[2mdeprecation.py\u001b[0m\u001b]8;;\u001b\\\u001b[2m:\u001b[0m\u001b]8;id=44869;file://C:\\Users\\thoma\\AppData\\Local\\Programs\\Python\\Python39\\lib\\site-packages\\manim\\utils\\deprecation.py#210\u001b\\\u001b[2m210\u001b[0m\u001b]8;;\u001b\\\n",
       "                             been deprecated since v0.\u001b[32m11.0\u001b[0m and is expected                   \n",
       "                             to be removed after v0.\u001b[32m13.0\u001b[0m. Use plot                           \n",
       "                             instead.                                                        \n"
      ]
     },
     "metadata": {},
     "output_type": "display_data"
    },
    {
     "name": "stderr",
     "output_type": "stream",
     "text": [
      "Animation 1: _MethodAnimation(ValueTracker):  94%|#########4| 283/300 [03:49<00:36,  2.14s/it]"
     ]
    },
    {
     "data": {
      "text/html": [
       "<pre style=\"white-space:pre;overflow-x:auto;line-height:normal;font-family:Menlo,'DejaVu Sans Mono',consolas,'Courier New',monospace\"><span style=\"color: #7fbfbf; text-decoration-color: #7fbfbf\">[01/31/22 22:14:27] </span><span style=\"color: #800000; text-decoration-color: #800000\">WARNING </span> The method CoordinateSystem.get_graph has     <a href=\"file://C:\\Users\\thoma\\AppData\\Local\\Programs\\Python\\Python39\\lib\\site-packages\\manim\\utils\\deprecation.py\"><span style=\"color: #7f7f7f; text-decoration-color: #7f7f7f\">deprecation.py</span></a><span style=\"color: #7f7f7f; text-decoration-color: #7f7f7f\">:</span><a href=\"file://C:\\Users\\thoma\\AppData\\Local\\Programs\\Python\\Python39\\lib\\site-packages\\manim\\utils\\deprecation.py#210\"><span style=\"color: #7f7f7f; text-decoration-color: #7f7f7f\">210</span></a>\n",
       "                             been deprecated since v0.<span style=\"color: #008000; text-decoration-color: #008000\">11.0</span> and is expected                   \n",
       "                             to be removed after v0.<span style=\"color: #008000; text-decoration-color: #008000\">13.0</span>. Use plot                           \n",
       "                             instead.                                                        \n",
       "</pre>\n"
      ],
      "text/plain": [
       "\u001b[2;36m[01/31/22 22:14:27]\u001b[0m\u001b[2;36m \u001b[0m\u001b[31mWARNING \u001b[0m The method CoordinateSystem.get_graph has     \u001b]8;id=420810;file://C:\\Users\\thoma\\AppData\\Local\\Programs\\Python\\Python39\\lib\\site-packages\\manim\\utils\\deprecation.py\u001b\\\u001b[2mdeprecation.py\u001b[0m\u001b]8;;\u001b\\\u001b[2m:\u001b[0m\u001b]8;id=269139;file://C:\\Users\\thoma\\AppData\\Local\\Programs\\Python\\Python39\\lib\\site-packages\\manim\\utils\\deprecation.py#210\u001b\\\u001b[2m210\u001b[0m\u001b]8;;\u001b\\\n",
       "                             been deprecated since v0.\u001b[32m11.0\u001b[0m and is expected                   \n",
       "                             to be removed after v0.\u001b[32m13.0\u001b[0m. Use plot                           \n",
       "                             instead.                                                        \n"
      ]
     },
     "metadata": {},
     "output_type": "display_data"
    },
    {
     "name": "stderr",
     "output_type": "stream",
     "text": [
      "Animation 1: _MethodAnimation(ValueTracker):  95%|#########4| 284/300 [03:51<00:34,  2.13s/it]"
     ]
    },
    {
     "data": {
      "text/html": [
       "<pre style=\"white-space:pre;overflow-x:auto;line-height:normal;font-family:Menlo,'DejaVu Sans Mono',consolas,'Courier New',monospace\"><span style=\"color: #7fbfbf; text-decoration-color: #7fbfbf\">[01/31/22 22:14:29] </span><span style=\"color: #800000; text-decoration-color: #800000\">WARNING </span> The method CoordinateSystem.get_graph has     <a href=\"file://C:\\Users\\thoma\\AppData\\Local\\Programs\\Python\\Python39\\lib\\site-packages\\manim\\utils\\deprecation.py\"><span style=\"color: #7f7f7f; text-decoration-color: #7f7f7f\">deprecation.py</span></a><span style=\"color: #7f7f7f; text-decoration-color: #7f7f7f\">:</span><a href=\"file://C:\\Users\\thoma\\AppData\\Local\\Programs\\Python\\Python39\\lib\\site-packages\\manim\\utils\\deprecation.py#210\"><span style=\"color: #7f7f7f; text-decoration-color: #7f7f7f\">210</span></a>\n",
       "                             been deprecated since v0.<span style=\"color: #008000; text-decoration-color: #008000\">11.0</span> and is expected                   \n",
       "                             to be removed after v0.<span style=\"color: #008000; text-decoration-color: #008000\">13.0</span>. Use plot                           \n",
       "                             instead.                                                        \n",
       "</pre>\n"
      ],
      "text/plain": [
       "\u001b[2;36m[01/31/22 22:14:29]\u001b[0m\u001b[2;36m \u001b[0m\u001b[31mWARNING \u001b[0m The method CoordinateSystem.get_graph has     \u001b]8;id=812933;file://C:\\Users\\thoma\\AppData\\Local\\Programs\\Python\\Python39\\lib\\site-packages\\manim\\utils\\deprecation.py\u001b\\\u001b[2mdeprecation.py\u001b[0m\u001b]8;;\u001b\\\u001b[2m:\u001b[0m\u001b]8;id=520429;file://C:\\Users\\thoma\\AppData\\Local\\Programs\\Python\\Python39\\lib\\site-packages\\manim\\utils\\deprecation.py#210\u001b\\\u001b[2m210\u001b[0m\u001b]8;;\u001b\\\n",
       "                             been deprecated since v0.\u001b[32m11.0\u001b[0m and is expected                   \n",
       "                             to be removed after v0.\u001b[32m13.0\u001b[0m. Use plot                           \n",
       "                             instead.                                                        \n"
      ]
     },
     "metadata": {},
     "output_type": "display_data"
    },
    {
     "name": "stderr",
     "output_type": "stream",
     "text": [
      "Animation 1: _MethodAnimation(ValueTracker):  95%|#########5| 285/300 [03:53<00:30,  2.03s/it]"
     ]
    },
    {
     "data": {
      "text/html": [
       "<pre style=\"white-space:pre;overflow-x:auto;line-height:normal;font-family:Menlo,'DejaVu Sans Mono',consolas,'Courier New',monospace\"><span style=\"color: #7fbfbf; text-decoration-color: #7fbfbf\">[01/31/22 22:14:31] </span><span style=\"color: #800000; text-decoration-color: #800000\">WARNING </span> The method CoordinateSystem.get_graph has     <a href=\"file://C:\\Users\\thoma\\AppData\\Local\\Programs\\Python\\Python39\\lib\\site-packages\\manim\\utils\\deprecation.py\"><span style=\"color: #7f7f7f; text-decoration-color: #7f7f7f\">deprecation.py</span></a><span style=\"color: #7f7f7f; text-decoration-color: #7f7f7f\">:</span><a href=\"file://C:\\Users\\thoma\\AppData\\Local\\Programs\\Python\\Python39\\lib\\site-packages\\manim\\utils\\deprecation.py#210\"><span style=\"color: #7f7f7f; text-decoration-color: #7f7f7f\">210</span></a>\n",
       "                             been deprecated since v0.<span style=\"color: #008000; text-decoration-color: #008000\">11.0</span> and is expected                   \n",
       "                             to be removed after v0.<span style=\"color: #008000; text-decoration-color: #008000\">13.0</span>. Use plot                           \n",
       "                             instead.                                                        \n",
       "</pre>\n"
      ],
      "text/plain": [
       "\u001b[2;36m[01/31/22 22:14:31]\u001b[0m\u001b[2;36m \u001b[0m\u001b[31mWARNING \u001b[0m The method CoordinateSystem.get_graph has     \u001b]8;id=256222;file://C:\\Users\\thoma\\AppData\\Local\\Programs\\Python\\Python39\\lib\\site-packages\\manim\\utils\\deprecation.py\u001b\\\u001b[2mdeprecation.py\u001b[0m\u001b]8;;\u001b\\\u001b[2m:\u001b[0m\u001b]8;id=710298;file://C:\\Users\\thoma\\AppData\\Local\\Programs\\Python\\Python39\\lib\\site-packages\\manim\\utils\\deprecation.py#210\u001b\\\u001b[2m210\u001b[0m\u001b]8;;\u001b\\\n",
       "                             been deprecated since v0.\u001b[32m11.0\u001b[0m and is expected                   \n",
       "                             to be removed after v0.\u001b[32m13.0\u001b[0m. Use plot                           \n",
       "                             instead.                                                        \n"
      ]
     },
     "metadata": {},
     "output_type": "display_data"
    },
    {
     "name": "stderr",
     "output_type": "stream",
     "text": [
      "Animation 1: _MethodAnimation(ValueTracker):  95%|#########5| 286/300 [03:55<00:29,  2.10s/it]"
     ]
    },
    {
     "data": {
      "text/html": [
       "<pre style=\"white-space:pre;overflow-x:auto;line-height:normal;font-family:Menlo,'DejaVu Sans Mono',consolas,'Courier New',monospace\"><span style=\"color: #7fbfbf; text-decoration-color: #7fbfbf\">[01/31/22 22:14:33] </span><span style=\"color: #800000; text-decoration-color: #800000\">WARNING </span> The method CoordinateSystem.get_graph has     <a href=\"file://C:\\Users\\thoma\\AppData\\Local\\Programs\\Python\\Python39\\lib\\site-packages\\manim\\utils\\deprecation.py\"><span style=\"color: #7f7f7f; text-decoration-color: #7f7f7f\">deprecation.py</span></a><span style=\"color: #7f7f7f; text-decoration-color: #7f7f7f\">:</span><a href=\"file://C:\\Users\\thoma\\AppData\\Local\\Programs\\Python\\Python39\\lib\\site-packages\\manim\\utils\\deprecation.py#210\"><span style=\"color: #7f7f7f; text-decoration-color: #7f7f7f\">210</span></a>\n",
       "                             been deprecated since v0.<span style=\"color: #008000; text-decoration-color: #008000\">11.0</span> and is expected                   \n",
       "                             to be removed after v0.<span style=\"color: #008000; text-decoration-color: #008000\">13.0</span>. Use plot                           \n",
       "                             instead.                                                        \n",
       "</pre>\n"
      ],
      "text/plain": [
       "\u001b[2;36m[01/31/22 22:14:33]\u001b[0m\u001b[2;36m \u001b[0m\u001b[31mWARNING \u001b[0m The method CoordinateSystem.get_graph has     \u001b]8;id=73155;file://C:\\Users\\thoma\\AppData\\Local\\Programs\\Python\\Python39\\lib\\site-packages\\manim\\utils\\deprecation.py\u001b\\\u001b[2mdeprecation.py\u001b[0m\u001b]8;;\u001b\\\u001b[2m:\u001b[0m\u001b]8;id=906615;file://C:\\Users\\thoma\\AppData\\Local\\Programs\\Python\\Python39\\lib\\site-packages\\manim\\utils\\deprecation.py#210\u001b\\\u001b[2m210\u001b[0m\u001b]8;;\u001b\\\n",
       "                             been deprecated since v0.\u001b[32m11.0\u001b[0m and is expected                   \n",
       "                             to be removed after v0.\u001b[32m13.0\u001b[0m. Use plot                           \n",
       "                             instead.                                                        \n"
      ]
     },
     "metadata": {},
     "output_type": "display_data"
    },
    {
     "name": "stderr",
     "output_type": "stream",
     "text": [
      "Animation 1: _MethodAnimation(ValueTracker):  96%|#########5| 287/300 [03:57<00:27,  2.11s/it]"
     ]
    },
    {
     "data": {
      "text/html": [
       "<pre style=\"white-space:pre;overflow-x:auto;line-height:normal;font-family:Menlo,'DejaVu Sans Mono',consolas,'Courier New',monospace\"><span style=\"color: #7fbfbf; text-decoration-color: #7fbfbf\">[01/31/22 22:14:35] </span><span style=\"color: #800000; text-decoration-color: #800000\">WARNING </span> The method CoordinateSystem.get_graph has     <a href=\"file://C:\\Users\\thoma\\AppData\\Local\\Programs\\Python\\Python39\\lib\\site-packages\\manim\\utils\\deprecation.py\"><span style=\"color: #7f7f7f; text-decoration-color: #7f7f7f\">deprecation.py</span></a><span style=\"color: #7f7f7f; text-decoration-color: #7f7f7f\">:</span><a href=\"file://C:\\Users\\thoma\\AppData\\Local\\Programs\\Python\\Python39\\lib\\site-packages\\manim\\utils\\deprecation.py#210\"><span style=\"color: #7f7f7f; text-decoration-color: #7f7f7f\">210</span></a>\n",
       "                             been deprecated since v0.<span style=\"color: #008000; text-decoration-color: #008000\">11.0</span> and is expected                   \n",
       "                             to be removed after v0.<span style=\"color: #008000; text-decoration-color: #008000\">13.0</span>. Use plot                           \n",
       "                             instead.                                                        \n",
       "</pre>\n"
      ],
      "text/plain": [
       "\u001b[2;36m[01/31/22 22:14:35]\u001b[0m\u001b[2;36m \u001b[0m\u001b[31mWARNING \u001b[0m The method CoordinateSystem.get_graph has     \u001b]8;id=396923;file://C:\\Users\\thoma\\AppData\\Local\\Programs\\Python\\Python39\\lib\\site-packages\\manim\\utils\\deprecation.py\u001b\\\u001b[2mdeprecation.py\u001b[0m\u001b]8;;\u001b\\\u001b[2m:\u001b[0m\u001b]8;id=617493;file://C:\\Users\\thoma\\AppData\\Local\\Programs\\Python\\Python39\\lib\\site-packages\\manim\\utils\\deprecation.py#210\u001b\\\u001b[2m210\u001b[0m\u001b]8;;\u001b\\\n",
       "                             been deprecated since v0.\u001b[32m11.0\u001b[0m and is expected                   \n",
       "                             to be removed after v0.\u001b[32m13.0\u001b[0m. Use plot                           \n",
       "                             instead.                                                        \n"
      ]
     },
     "metadata": {},
     "output_type": "display_data"
    },
    {
     "name": "stderr",
     "output_type": "stream",
     "text": [
      "Animation 1: _MethodAnimation(ValueTracker):  96%|#########6| 288/300 [03:59<00:24,  2.08s/it]"
     ]
    },
    {
     "data": {
      "text/html": [
       "<pre style=\"white-space:pre;overflow-x:auto;line-height:normal;font-family:Menlo,'DejaVu Sans Mono',consolas,'Courier New',monospace\"><span style=\"color: #7fbfbf; text-decoration-color: #7fbfbf\">[01/31/22 22:14:37] </span><span style=\"color: #800000; text-decoration-color: #800000\">WARNING </span> The method CoordinateSystem.get_graph has     <a href=\"file://C:\\Users\\thoma\\AppData\\Local\\Programs\\Python\\Python39\\lib\\site-packages\\manim\\utils\\deprecation.py\"><span style=\"color: #7f7f7f; text-decoration-color: #7f7f7f\">deprecation.py</span></a><span style=\"color: #7f7f7f; text-decoration-color: #7f7f7f\">:</span><a href=\"file://C:\\Users\\thoma\\AppData\\Local\\Programs\\Python\\Python39\\lib\\site-packages\\manim\\utils\\deprecation.py#210\"><span style=\"color: #7f7f7f; text-decoration-color: #7f7f7f\">210</span></a>\n",
       "                             been deprecated since v0.<span style=\"color: #008000; text-decoration-color: #008000\">11.0</span> and is expected                   \n",
       "                             to be removed after v0.<span style=\"color: #008000; text-decoration-color: #008000\">13.0</span>. Use plot                           \n",
       "                             instead.                                                        \n",
       "</pre>\n"
      ],
      "text/plain": [
       "\u001b[2;36m[01/31/22 22:14:37]\u001b[0m\u001b[2;36m \u001b[0m\u001b[31mWARNING \u001b[0m The method CoordinateSystem.get_graph has     \u001b]8;id=893734;file://C:\\Users\\thoma\\AppData\\Local\\Programs\\Python\\Python39\\lib\\site-packages\\manim\\utils\\deprecation.py\u001b\\\u001b[2mdeprecation.py\u001b[0m\u001b]8;;\u001b\\\u001b[2m:\u001b[0m\u001b]8;id=793368;file://C:\\Users\\thoma\\AppData\\Local\\Programs\\Python\\Python39\\lib\\site-packages\\manim\\utils\\deprecation.py#210\u001b\\\u001b[2m210\u001b[0m\u001b]8;;\u001b\\\n",
       "                             been deprecated since v0.\u001b[32m11.0\u001b[0m and is expected                   \n",
       "                             to be removed after v0.\u001b[32m13.0\u001b[0m. Use plot                           \n",
       "                             instead.                                                        \n"
      ]
     },
     "metadata": {},
     "output_type": "display_data"
    },
    {
     "name": "stderr",
     "output_type": "stream",
     "text": [
      "Animation 1: _MethodAnimation(ValueTracker):  96%|#########6| 289/300 [04:02<00:24,  2.19s/it]"
     ]
    },
    {
     "data": {
      "text/html": [
       "<pre style=\"white-space:pre;overflow-x:auto;line-height:normal;font-family:Menlo,'DejaVu Sans Mono',consolas,'Courier New',monospace\"><span style=\"color: #7fbfbf; text-decoration-color: #7fbfbf\">[01/31/22 22:14:40] </span><span style=\"color: #800000; text-decoration-color: #800000\">WARNING </span> The method CoordinateSystem.get_graph has     <a href=\"file://C:\\Users\\thoma\\AppData\\Local\\Programs\\Python\\Python39\\lib\\site-packages\\manim\\utils\\deprecation.py\"><span style=\"color: #7f7f7f; text-decoration-color: #7f7f7f\">deprecation.py</span></a><span style=\"color: #7f7f7f; text-decoration-color: #7f7f7f\">:</span><a href=\"file://C:\\Users\\thoma\\AppData\\Local\\Programs\\Python\\Python39\\lib\\site-packages\\manim\\utils\\deprecation.py#210\"><span style=\"color: #7f7f7f; text-decoration-color: #7f7f7f\">210</span></a>\n",
       "                             been deprecated since v0.<span style=\"color: #008000; text-decoration-color: #008000\">11.0</span> and is expected                   \n",
       "                             to be removed after v0.<span style=\"color: #008000; text-decoration-color: #008000\">13.0</span>. Use plot                           \n",
       "                             instead.                                                        \n",
       "</pre>\n"
      ],
      "text/plain": [
       "\u001b[2;36m[01/31/22 22:14:40]\u001b[0m\u001b[2;36m \u001b[0m\u001b[31mWARNING \u001b[0m The method CoordinateSystem.get_graph has     \u001b]8;id=896469;file://C:\\Users\\thoma\\AppData\\Local\\Programs\\Python\\Python39\\lib\\site-packages\\manim\\utils\\deprecation.py\u001b\\\u001b[2mdeprecation.py\u001b[0m\u001b]8;;\u001b\\\u001b[2m:\u001b[0m\u001b]8;id=598643;file://C:\\Users\\thoma\\AppData\\Local\\Programs\\Python\\Python39\\lib\\site-packages\\manim\\utils\\deprecation.py#210\u001b\\\u001b[2m210\u001b[0m\u001b]8;;\u001b\\\n",
       "                             been deprecated since v0.\u001b[32m11.0\u001b[0m and is expected                   \n",
       "                             to be removed after v0.\u001b[32m13.0\u001b[0m. Use plot                           \n",
       "                             instead.                                                        \n"
      ]
     },
     "metadata": {},
     "output_type": "display_data"
    },
    {
     "name": "stderr",
     "output_type": "stream",
     "text": [
      "Animation 1: _MethodAnimation(ValueTracker):  97%|#########6| 290/300 [04:04<00:21,  2.20s/it]"
     ]
    },
    {
     "data": {
      "text/html": [
       "<pre style=\"white-space:pre;overflow-x:auto;line-height:normal;font-family:Menlo,'DejaVu Sans Mono',consolas,'Courier New',monospace\"><span style=\"color: #7fbfbf; text-decoration-color: #7fbfbf\">[01/31/22 22:14:42] </span><span style=\"color: #800000; text-decoration-color: #800000\">WARNING </span> The method CoordinateSystem.get_graph has     <a href=\"file://C:\\Users\\thoma\\AppData\\Local\\Programs\\Python\\Python39\\lib\\site-packages\\manim\\utils\\deprecation.py\"><span style=\"color: #7f7f7f; text-decoration-color: #7f7f7f\">deprecation.py</span></a><span style=\"color: #7f7f7f; text-decoration-color: #7f7f7f\">:</span><a href=\"file://C:\\Users\\thoma\\AppData\\Local\\Programs\\Python\\Python39\\lib\\site-packages\\manim\\utils\\deprecation.py#210\"><span style=\"color: #7f7f7f; text-decoration-color: #7f7f7f\">210</span></a>\n",
       "                             been deprecated since v0.<span style=\"color: #008000; text-decoration-color: #008000\">11.0</span> and is expected                   \n",
       "                             to be removed after v0.<span style=\"color: #008000; text-decoration-color: #008000\">13.0</span>. Use plot                           \n",
       "                             instead.                                                        \n",
       "</pre>\n"
      ],
      "text/plain": [
       "\u001b[2;36m[01/31/22 22:14:42]\u001b[0m\u001b[2;36m \u001b[0m\u001b[31mWARNING \u001b[0m The method CoordinateSystem.get_graph has     \u001b]8;id=100843;file://C:\\Users\\thoma\\AppData\\Local\\Programs\\Python\\Python39\\lib\\site-packages\\manim\\utils\\deprecation.py\u001b\\\u001b[2mdeprecation.py\u001b[0m\u001b]8;;\u001b\\\u001b[2m:\u001b[0m\u001b]8;id=285693;file://C:\\Users\\thoma\\AppData\\Local\\Programs\\Python\\Python39\\lib\\site-packages\\manim\\utils\\deprecation.py#210\u001b\\\u001b[2m210\u001b[0m\u001b]8;;\u001b\\\n",
       "                             been deprecated since v0.\u001b[32m11.0\u001b[0m and is expected                   \n",
       "                             to be removed after v0.\u001b[32m13.0\u001b[0m. Use plot                           \n",
       "                             instead.                                                        \n"
      ]
     },
     "metadata": {},
     "output_type": "display_data"
    },
    {
     "name": "stderr",
     "output_type": "stream",
     "text": [
      "Animation 1: _MethodAnimation(ValueTracker):  97%|#########7| 291/300 [04:06<00:19,  2.20s/it]"
     ]
    },
    {
     "data": {
      "text/html": [
       "<pre style=\"white-space:pre;overflow-x:auto;line-height:normal;font-family:Menlo,'DejaVu Sans Mono',consolas,'Courier New',monospace\"><span style=\"color: #7fbfbf; text-decoration-color: #7fbfbf\">[01/31/22 22:14:44] </span><span style=\"color: #800000; text-decoration-color: #800000\">WARNING </span> The method CoordinateSystem.get_graph has     <a href=\"file://C:\\Users\\thoma\\AppData\\Local\\Programs\\Python\\Python39\\lib\\site-packages\\manim\\utils\\deprecation.py\"><span style=\"color: #7f7f7f; text-decoration-color: #7f7f7f\">deprecation.py</span></a><span style=\"color: #7f7f7f; text-decoration-color: #7f7f7f\">:</span><a href=\"file://C:\\Users\\thoma\\AppData\\Local\\Programs\\Python\\Python39\\lib\\site-packages\\manim\\utils\\deprecation.py#210\"><span style=\"color: #7f7f7f; text-decoration-color: #7f7f7f\">210</span></a>\n",
       "                             been deprecated since v0.<span style=\"color: #008000; text-decoration-color: #008000\">11.0</span> and is expected                   \n",
       "                             to be removed after v0.<span style=\"color: #008000; text-decoration-color: #008000\">13.0</span>. Use plot                           \n",
       "                             instead.                                                        \n",
       "</pre>\n"
      ],
      "text/plain": [
       "\u001b[2;36m[01/31/22 22:14:44]\u001b[0m\u001b[2;36m \u001b[0m\u001b[31mWARNING \u001b[0m The method CoordinateSystem.get_graph has     \u001b]8;id=295102;file://C:\\Users\\thoma\\AppData\\Local\\Programs\\Python\\Python39\\lib\\site-packages\\manim\\utils\\deprecation.py\u001b\\\u001b[2mdeprecation.py\u001b[0m\u001b]8;;\u001b\\\u001b[2m:\u001b[0m\u001b]8;id=70012;file://C:\\Users\\thoma\\AppData\\Local\\Programs\\Python\\Python39\\lib\\site-packages\\manim\\utils\\deprecation.py#210\u001b\\\u001b[2m210\u001b[0m\u001b]8;;\u001b\\\n",
       "                             been deprecated since v0.\u001b[32m11.0\u001b[0m and is expected                   \n",
       "                             to be removed after v0.\u001b[32m13.0\u001b[0m. Use plot                           \n",
       "                             instead.                                                        \n"
      ]
     },
     "metadata": {},
     "output_type": "display_data"
    },
    {
     "name": "stderr",
     "output_type": "stream",
     "text": [
      "Animation 1: _MethodAnimation(ValueTracker):  97%|#########7| 292/300 [04:08<00:17,  2.22s/it]"
     ]
    },
    {
     "data": {
      "text/html": [
       "<pre style=\"white-space:pre;overflow-x:auto;line-height:normal;font-family:Menlo,'DejaVu Sans Mono',consolas,'Courier New',monospace\"><span style=\"color: #7fbfbf; text-decoration-color: #7fbfbf\">[01/31/22 22:14:46] </span><span style=\"color: #800000; text-decoration-color: #800000\">WARNING </span> The method CoordinateSystem.get_graph has     <a href=\"file://C:\\Users\\thoma\\AppData\\Local\\Programs\\Python\\Python39\\lib\\site-packages\\manim\\utils\\deprecation.py\"><span style=\"color: #7f7f7f; text-decoration-color: #7f7f7f\">deprecation.py</span></a><span style=\"color: #7f7f7f; text-decoration-color: #7f7f7f\">:</span><a href=\"file://C:\\Users\\thoma\\AppData\\Local\\Programs\\Python\\Python39\\lib\\site-packages\\manim\\utils\\deprecation.py#210\"><span style=\"color: #7f7f7f; text-decoration-color: #7f7f7f\">210</span></a>\n",
       "                             been deprecated since v0.<span style=\"color: #008000; text-decoration-color: #008000\">11.0</span> and is expected                   \n",
       "                             to be removed after v0.<span style=\"color: #008000; text-decoration-color: #008000\">13.0</span>. Use plot                           \n",
       "                             instead.                                                        \n",
       "</pre>\n"
      ],
      "text/plain": [
       "\u001b[2;36m[01/31/22 22:14:46]\u001b[0m\u001b[2;36m \u001b[0m\u001b[31mWARNING \u001b[0m The method CoordinateSystem.get_graph has     \u001b]8;id=462141;file://C:\\Users\\thoma\\AppData\\Local\\Programs\\Python\\Python39\\lib\\site-packages\\manim\\utils\\deprecation.py\u001b\\\u001b[2mdeprecation.py\u001b[0m\u001b]8;;\u001b\\\u001b[2m:\u001b[0m\u001b]8;id=793420;file://C:\\Users\\thoma\\AppData\\Local\\Programs\\Python\\Python39\\lib\\site-packages\\manim\\utils\\deprecation.py#210\u001b\\\u001b[2m210\u001b[0m\u001b]8;;\u001b\\\n",
       "                             been deprecated since v0.\u001b[32m11.0\u001b[0m and is expected                   \n",
       "                             to be removed after v0.\u001b[32m13.0\u001b[0m. Use plot                           \n",
       "                             instead.                                                        \n"
      ]
     },
     "metadata": {},
     "output_type": "display_data"
    },
    {
     "name": "stderr",
     "output_type": "stream",
     "text": [
      "Animation 1: _MethodAnimation(ValueTracker):  98%|#########7| 293/300 [04:11<00:15,  2.23s/it]"
     ]
    },
    {
     "data": {
      "text/html": [
       "<pre style=\"white-space:pre;overflow-x:auto;line-height:normal;font-family:Menlo,'DejaVu Sans Mono',consolas,'Courier New',monospace\"><span style=\"color: #7fbfbf; text-decoration-color: #7fbfbf\">[01/31/22 22:14:49] </span><span style=\"color: #800000; text-decoration-color: #800000\">WARNING </span> The method CoordinateSystem.get_graph has     <a href=\"file://C:\\Users\\thoma\\AppData\\Local\\Programs\\Python\\Python39\\lib\\site-packages\\manim\\utils\\deprecation.py\"><span style=\"color: #7f7f7f; text-decoration-color: #7f7f7f\">deprecation.py</span></a><span style=\"color: #7f7f7f; text-decoration-color: #7f7f7f\">:</span><a href=\"file://C:\\Users\\thoma\\AppData\\Local\\Programs\\Python\\Python39\\lib\\site-packages\\manim\\utils\\deprecation.py#210\"><span style=\"color: #7f7f7f; text-decoration-color: #7f7f7f\">210</span></a>\n",
       "                             been deprecated since v0.<span style=\"color: #008000; text-decoration-color: #008000\">11.0</span> and is expected                   \n",
       "                             to be removed after v0.<span style=\"color: #008000; text-decoration-color: #008000\">13.0</span>. Use plot                           \n",
       "                             instead.                                                        \n",
       "</pre>\n"
      ],
      "text/plain": [
       "\u001b[2;36m[01/31/22 22:14:49]\u001b[0m\u001b[2;36m \u001b[0m\u001b[31mWARNING \u001b[0m The method CoordinateSystem.get_graph has     \u001b]8;id=433360;file://C:\\Users\\thoma\\AppData\\Local\\Programs\\Python\\Python39\\lib\\site-packages\\manim\\utils\\deprecation.py\u001b\\\u001b[2mdeprecation.py\u001b[0m\u001b]8;;\u001b\\\u001b[2m:\u001b[0m\u001b]8;id=403898;file://C:\\Users\\thoma\\AppData\\Local\\Programs\\Python\\Python39\\lib\\site-packages\\manim\\utils\\deprecation.py#210\u001b\\\u001b[2m210\u001b[0m\u001b]8;;\u001b\\\n",
       "                             been deprecated since v0.\u001b[32m11.0\u001b[0m and is expected                   \n",
       "                             to be removed after v0.\u001b[32m13.0\u001b[0m. Use plot                           \n",
       "                             instead.                                                        \n"
      ]
     },
     "metadata": {},
     "output_type": "display_data"
    },
    {
     "name": "stderr",
     "output_type": "stream",
     "text": [
      "Animation 1: _MethodAnimation(ValueTracker):  98%|#########8| 294/300 [04:13<00:13,  2.20s/it]"
     ]
    },
    {
     "data": {
      "text/html": [
       "<pre style=\"white-space:pre;overflow-x:auto;line-height:normal;font-family:Menlo,'DejaVu Sans Mono',consolas,'Courier New',monospace\"><span style=\"color: #7fbfbf; text-decoration-color: #7fbfbf\">[01/31/22 22:14:51] </span><span style=\"color: #800000; text-decoration-color: #800000\">WARNING </span> The method CoordinateSystem.get_graph has     <a href=\"file://C:\\Users\\thoma\\AppData\\Local\\Programs\\Python\\Python39\\lib\\site-packages\\manim\\utils\\deprecation.py\"><span style=\"color: #7f7f7f; text-decoration-color: #7f7f7f\">deprecation.py</span></a><span style=\"color: #7f7f7f; text-decoration-color: #7f7f7f\">:</span><a href=\"file://C:\\Users\\thoma\\AppData\\Local\\Programs\\Python\\Python39\\lib\\site-packages\\manim\\utils\\deprecation.py#210\"><span style=\"color: #7f7f7f; text-decoration-color: #7f7f7f\">210</span></a>\n",
       "                             been deprecated since v0.<span style=\"color: #008000; text-decoration-color: #008000\">11.0</span> and is expected                   \n",
       "                             to be removed after v0.<span style=\"color: #008000; text-decoration-color: #008000\">13.0</span>. Use plot                           \n",
       "                             instead.                                                        \n",
       "</pre>\n"
      ],
      "text/plain": [
       "\u001b[2;36m[01/31/22 22:14:51]\u001b[0m\u001b[2;36m \u001b[0m\u001b[31mWARNING \u001b[0m The method CoordinateSystem.get_graph has     \u001b]8;id=381216;file://C:\\Users\\thoma\\AppData\\Local\\Programs\\Python\\Python39\\lib\\site-packages\\manim\\utils\\deprecation.py\u001b\\\u001b[2mdeprecation.py\u001b[0m\u001b]8;;\u001b\\\u001b[2m:\u001b[0m\u001b]8;id=520523;file://C:\\Users\\thoma\\AppData\\Local\\Programs\\Python\\Python39\\lib\\site-packages\\manim\\utils\\deprecation.py#210\u001b\\\u001b[2m210\u001b[0m\u001b]8;;\u001b\\\n",
       "                             been deprecated since v0.\u001b[32m11.0\u001b[0m and is expected                   \n",
       "                             to be removed after v0.\u001b[32m13.0\u001b[0m. Use plot                           \n",
       "                             instead.                                                        \n"
      ]
     },
     "metadata": {},
     "output_type": "display_data"
    },
    {
     "name": "stderr",
     "output_type": "stream",
     "text": [
      "Animation 1: _MethodAnimation(ValueTracker):  98%|#########8| 295/300 [04:15<00:11,  2.22s/it]"
     ]
    },
    {
     "data": {
      "text/html": [
       "<pre style=\"white-space:pre;overflow-x:auto;line-height:normal;font-family:Menlo,'DejaVu Sans Mono',consolas,'Courier New',monospace\"><span style=\"color: #7fbfbf; text-decoration-color: #7fbfbf\">[01/31/22 22:14:53] </span><span style=\"color: #800000; text-decoration-color: #800000\">WARNING </span> The method CoordinateSystem.get_graph has     <a href=\"file://C:\\Users\\thoma\\AppData\\Local\\Programs\\Python\\Python39\\lib\\site-packages\\manim\\utils\\deprecation.py\"><span style=\"color: #7f7f7f; text-decoration-color: #7f7f7f\">deprecation.py</span></a><span style=\"color: #7f7f7f; text-decoration-color: #7f7f7f\">:</span><a href=\"file://C:\\Users\\thoma\\AppData\\Local\\Programs\\Python\\Python39\\lib\\site-packages\\manim\\utils\\deprecation.py#210\"><span style=\"color: #7f7f7f; text-decoration-color: #7f7f7f\">210</span></a>\n",
       "                             been deprecated since v0.<span style=\"color: #008000; text-decoration-color: #008000\">11.0</span> and is expected                   \n",
       "                             to be removed after v0.<span style=\"color: #008000; text-decoration-color: #008000\">13.0</span>. Use plot                           \n",
       "                             instead.                                                        \n",
       "</pre>\n"
      ],
      "text/plain": [
       "\u001b[2;36m[01/31/22 22:14:53]\u001b[0m\u001b[2;36m \u001b[0m\u001b[31mWARNING \u001b[0m The method CoordinateSystem.get_graph has     \u001b]8;id=300265;file://C:\\Users\\thoma\\AppData\\Local\\Programs\\Python\\Python39\\lib\\site-packages\\manim\\utils\\deprecation.py\u001b\\\u001b[2mdeprecation.py\u001b[0m\u001b]8;;\u001b\\\u001b[2m:\u001b[0m\u001b]8;id=611098;file://C:\\Users\\thoma\\AppData\\Local\\Programs\\Python\\Python39\\lib\\site-packages\\manim\\utils\\deprecation.py#210\u001b\\\u001b[2m210\u001b[0m\u001b]8;;\u001b\\\n",
       "                             been deprecated since v0.\u001b[32m11.0\u001b[0m and is expected                   \n",
       "                             to be removed after v0.\u001b[32m13.0\u001b[0m. Use plot                           \n",
       "                             instead.                                                        \n"
      ]
     },
     "metadata": {},
     "output_type": "display_data"
    },
    {
     "name": "stderr",
     "output_type": "stream",
     "text": [
      "Animation 1: _MethodAnimation(ValueTracker):  99%|#########8| 296/300 [04:17<00:08,  2.23s/it]"
     ]
    },
    {
     "data": {
      "text/html": [
       "<pre style=\"white-space:pre;overflow-x:auto;line-height:normal;font-family:Menlo,'DejaVu Sans Mono',consolas,'Courier New',monospace\"><span style=\"color: #7fbfbf; text-decoration-color: #7fbfbf\">[01/31/22 22:14:55] </span><span style=\"color: #800000; text-decoration-color: #800000\">WARNING </span> The method CoordinateSystem.get_graph has     <a href=\"file://C:\\Users\\thoma\\AppData\\Local\\Programs\\Python\\Python39\\lib\\site-packages\\manim\\utils\\deprecation.py\"><span style=\"color: #7f7f7f; text-decoration-color: #7f7f7f\">deprecation.py</span></a><span style=\"color: #7f7f7f; text-decoration-color: #7f7f7f\">:</span><a href=\"file://C:\\Users\\thoma\\AppData\\Local\\Programs\\Python\\Python39\\lib\\site-packages\\manim\\utils\\deprecation.py#210\"><span style=\"color: #7f7f7f; text-decoration-color: #7f7f7f\">210</span></a>\n",
       "                             been deprecated since v0.<span style=\"color: #008000; text-decoration-color: #008000\">11.0</span> and is expected                   \n",
       "                             to be removed after v0.<span style=\"color: #008000; text-decoration-color: #008000\">13.0</span>. Use plot                           \n",
       "                             instead.                                                        \n",
       "</pre>\n"
      ],
      "text/plain": [
       "\u001b[2;36m[01/31/22 22:14:55]\u001b[0m\u001b[2;36m \u001b[0m\u001b[31mWARNING \u001b[0m The method CoordinateSystem.get_graph has     \u001b]8;id=716800;file://C:\\Users\\thoma\\AppData\\Local\\Programs\\Python\\Python39\\lib\\site-packages\\manim\\utils\\deprecation.py\u001b\\\u001b[2mdeprecation.py\u001b[0m\u001b]8;;\u001b\\\u001b[2m:\u001b[0m\u001b]8;id=726833;file://C:\\Users\\thoma\\AppData\\Local\\Programs\\Python\\Python39\\lib\\site-packages\\manim\\utils\\deprecation.py#210\u001b\\\u001b[2m210\u001b[0m\u001b]8;;\u001b\\\n",
       "                             been deprecated since v0.\u001b[32m11.0\u001b[0m and is expected                   \n",
       "                             to be removed after v0.\u001b[32m13.0\u001b[0m. Use plot                           \n",
       "                             instead.                                                        \n"
      ]
     },
     "metadata": {},
     "output_type": "display_data"
    },
    {
     "name": "stderr",
     "output_type": "stream",
     "text": [
      "Animation 1: _MethodAnimation(ValueTracker):  99%|#########9| 297/300 [04:19<00:06,  2.19s/it]"
     ]
    },
    {
     "data": {
      "text/html": [
       "<pre style=\"white-space:pre;overflow-x:auto;line-height:normal;font-family:Menlo,'DejaVu Sans Mono',consolas,'Courier New',monospace\"><span style=\"color: #7fbfbf; text-decoration-color: #7fbfbf\">[01/31/22 22:14:58] </span><span style=\"color: #800000; text-decoration-color: #800000\">WARNING </span> The method CoordinateSystem.get_graph has     <a href=\"file://C:\\Users\\thoma\\AppData\\Local\\Programs\\Python\\Python39\\lib\\site-packages\\manim\\utils\\deprecation.py\"><span style=\"color: #7f7f7f; text-decoration-color: #7f7f7f\">deprecation.py</span></a><span style=\"color: #7f7f7f; text-decoration-color: #7f7f7f\">:</span><a href=\"file://C:\\Users\\thoma\\AppData\\Local\\Programs\\Python\\Python39\\lib\\site-packages\\manim\\utils\\deprecation.py#210\"><span style=\"color: #7f7f7f; text-decoration-color: #7f7f7f\">210</span></a>\n",
       "                             been deprecated since v0.<span style=\"color: #008000; text-decoration-color: #008000\">11.0</span> and is expected                   \n",
       "                             to be removed after v0.<span style=\"color: #008000; text-decoration-color: #008000\">13.0</span>. Use plot                           \n",
       "                             instead.                                                        \n",
       "</pre>\n"
      ],
      "text/plain": [
       "\u001b[2;36m[01/31/22 22:14:58]\u001b[0m\u001b[2;36m \u001b[0m\u001b[31mWARNING \u001b[0m The method CoordinateSystem.get_graph has     \u001b]8;id=653314;file://C:\\Users\\thoma\\AppData\\Local\\Programs\\Python\\Python39\\lib\\site-packages\\manim\\utils\\deprecation.py\u001b\\\u001b[2mdeprecation.py\u001b[0m\u001b]8;;\u001b\\\u001b[2m:\u001b[0m\u001b]8;id=971726;file://C:\\Users\\thoma\\AppData\\Local\\Programs\\Python\\Python39\\lib\\site-packages\\manim\\utils\\deprecation.py#210\u001b\\\u001b[2m210\u001b[0m\u001b]8;;\u001b\\\n",
       "                             been deprecated since v0.\u001b[32m11.0\u001b[0m and is expected                   \n",
       "                             to be removed after v0.\u001b[32m13.0\u001b[0m. Use plot                           \n",
       "                             instead.                                                        \n"
      ]
     },
     "metadata": {},
     "output_type": "display_data"
    },
    {
     "name": "stderr",
     "output_type": "stream",
     "text": [
      "Animation 1: _MethodAnimation(ValueTracker):  99%|#########9| 298/300 [04:22<00:04,  2.34s/it]"
     ]
    },
    {
     "data": {
      "text/html": [
       "<pre style=\"white-space:pre;overflow-x:auto;line-height:normal;font-family:Menlo,'DejaVu Sans Mono',consolas,'Courier New',monospace\"><span style=\"color: #7fbfbf; text-decoration-color: #7fbfbf\">[01/31/22 22:15:00] </span><span style=\"color: #800000; text-decoration-color: #800000\">WARNING </span> The method CoordinateSystem.get_graph has     <a href=\"file://C:\\Users\\thoma\\AppData\\Local\\Programs\\Python\\Python39\\lib\\site-packages\\manim\\utils\\deprecation.py\"><span style=\"color: #7f7f7f; text-decoration-color: #7f7f7f\">deprecation.py</span></a><span style=\"color: #7f7f7f; text-decoration-color: #7f7f7f\">:</span><a href=\"file://C:\\Users\\thoma\\AppData\\Local\\Programs\\Python\\Python39\\lib\\site-packages\\manim\\utils\\deprecation.py#210\"><span style=\"color: #7f7f7f; text-decoration-color: #7f7f7f\">210</span></a>\n",
       "                             been deprecated since v0.<span style=\"color: #008000; text-decoration-color: #008000\">11.0</span> and is expected                   \n",
       "                             to be removed after v0.<span style=\"color: #008000; text-decoration-color: #008000\">13.0</span>. Use plot                           \n",
       "                             instead.                                                        \n",
       "</pre>\n"
      ],
      "text/plain": [
       "\u001b[2;36m[01/31/22 22:15:00]\u001b[0m\u001b[2;36m \u001b[0m\u001b[31mWARNING \u001b[0m The method CoordinateSystem.get_graph has     \u001b]8;id=503195;file://C:\\Users\\thoma\\AppData\\Local\\Programs\\Python\\Python39\\lib\\site-packages\\manim\\utils\\deprecation.py\u001b\\\u001b[2mdeprecation.py\u001b[0m\u001b]8;;\u001b\\\u001b[2m:\u001b[0m\u001b]8;id=955509;file://C:\\Users\\thoma\\AppData\\Local\\Programs\\Python\\Python39\\lib\\site-packages\\manim\\utils\\deprecation.py#210\u001b\\\u001b[2m210\u001b[0m\u001b]8;;\u001b\\\n",
       "                             been deprecated since v0.\u001b[32m11.0\u001b[0m and is expected                   \n",
       "                             to be removed after v0.\u001b[32m13.0\u001b[0m. Use plot                           \n",
       "                             instead.                                                        \n"
      ]
     },
     "metadata": {},
     "output_type": "display_data"
    },
    {
     "name": "stderr",
     "output_type": "stream",
     "text": [
      "Animation 1: _MethodAnimation(ValueTracker): 100%|#########9| 299/300 [04:24<00:02,  2.34s/it]"
     ]
    },
    {
     "data": {
      "text/html": [
       "<pre style=\"white-space:pre;overflow-x:auto;line-height:normal;font-family:Menlo,'DejaVu Sans Mono',consolas,'Courier New',monospace\"><span style=\"color: #7fbfbf; text-decoration-color: #7fbfbf\">[01/31/22 22:15:02] </span><span style=\"color: #800000; text-decoration-color: #800000\">WARNING </span> The method CoordinateSystem.get_graph has     <a href=\"file://C:\\Users\\thoma\\AppData\\Local\\Programs\\Python\\Python39\\lib\\site-packages\\manim\\utils\\deprecation.py\"><span style=\"color: #7f7f7f; text-decoration-color: #7f7f7f\">deprecation.py</span></a><span style=\"color: #7f7f7f; text-decoration-color: #7f7f7f\">:</span><a href=\"file://C:\\Users\\thoma\\AppData\\Local\\Programs\\Python\\Python39\\lib\\site-packages\\manim\\utils\\deprecation.py#210\"><span style=\"color: #7f7f7f; text-decoration-color: #7f7f7f\">210</span></a>\n",
       "                             been deprecated since v0.<span style=\"color: #008000; text-decoration-color: #008000\">11.0</span> and is expected                   \n",
       "                             to be removed after v0.<span style=\"color: #008000; text-decoration-color: #008000\">13.0</span>. Use plot                           \n",
       "                             instead.                                                        \n",
       "</pre>\n"
      ],
      "text/plain": [
       "\u001b[2;36m[01/31/22 22:15:02]\u001b[0m\u001b[2;36m \u001b[0m\u001b[31mWARNING \u001b[0m The method CoordinateSystem.get_graph has     \u001b]8;id=292061;file://C:\\Users\\thoma\\AppData\\Local\\Programs\\Python\\Python39\\lib\\site-packages\\manim\\utils\\deprecation.py\u001b\\\u001b[2mdeprecation.py\u001b[0m\u001b]8;;\u001b\\\u001b[2m:\u001b[0m\u001b]8;id=90823;file://C:\\Users\\thoma\\AppData\\Local\\Programs\\Python\\Python39\\lib\\site-packages\\manim\\utils\\deprecation.py#210\u001b\\\u001b[2m210\u001b[0m\u001b]8;;\u001b\\\n",
       "                             been deprecated since v0.\u001b[32m11.0\u001b[0m and is expected                   \n",
       "                             to be removed after v0.\u001b[32m13.0\u001b[0m. Use plot                           \n",
       "                             instead.                                                        \n"
      ]
     },
     "metadata": {},
     "output_type": "display_data"
    },
    {
     "name": "stderr",
     "output_type": "stream",
     "text": [
      "                                                                                              \r"
     ]
    },
    {
     "data": {
      "text/html": [
       "<pre style=\"white-space:pre;overflow-x:auto;line-height:normal;font-family:Menlo,'DejaVu Sans Mono',consolas,'Courier New',monospace\"><span style=\"color: #7fbfbf; text-decoration-color: #7fbfbf\">[01/31/22 22:15:05] </span><span style=\"color: #800000; text-decoration-color: #800000\">WARNING </span> The method CoordinateSystem.get_graph has     <a href=\"file://C:\\Users\\thoma\\AppData\\Local\\Programs\\Python\\Python39\\lib\\site-packages\\manim\\utils\\deprecation.py\"><span style=\"color: #7f7f7f; text-decoration-color: #7f7f7f\">deprecation.py</span></a><span style=\"color: #7f7f7f; text-decoration-color: #7f7f7f\">:</span><a href=\"file://C:\\Users\\thoma\\AppData\\Local\\Programs\\Python\\Python39\\lib\\site-packages\\manim\\utils\\deprecation.py#210\"><span style=\"color: #7f7f7f; text-decoration-color: #7f7f7f\">210</span></a>\n",
       "                             been deprecated since v0.<span style=\"color: #008000; text-decoration-color: #008000\">11.0</span> and is expected                   \n",
       "                             to be removed after v0.<span style=\"color: #008000; text-decoration-color: #008000\">13.0</span>. Use plot                           \n",
       "                             instead.                                                        \n",
       "</pre>\n"
      ],
      "text/plain": [
       "\u001b[2;36m[01/31/22 22:15:05]\u001b[0m\u001b[2;36m \u001b[0m\u001b[31mWARNING \u001b[0m The method CoordinateSystem.get_graph has     \u001b]8;id=460776;file://C:\\Users\\thoma\\AppData\\Local\\Programs\\Python\\Python39\\lib\\site-packages\\manim\\utils\\deprecation.py\u001b\\\u001b[2mdeprecation.py\u001b[0m\u001b]8;;\u001b\\\u001b[2m:\u001b[0m\u001b]8;id=30493;file://C:\\Users\\thoma\\AppData\\Local\\Programs\\Python\\Python39\\lib\\site-packages\\manim\\utils\\deprecation.py#210\u001b\\\u001b[2m210\u001b[0m\u001b]8;;\u001b\\\n",
       "                             been deprecated since v0.\u001b[32m11.0\u001b[0m and is expected                   \n",
       "                             to be removed after v0.\u001b[32m13.0\u001b[0m. Use plot                           \n",
       "                             instead.                                                        \n"
      ]
     },
     "metadata": {},
     "output_type": "display_data"
    },
    {
     "data": {
      "text/html": [
       "<pre style=\"white-space:pre;overflow-x:auto;line-height:normal;font-family:Menlo,'DejaVu Sans Mono',consolas,'Courier New',monospace\"><span style=\"color: #7fbfbf; text-decoration-color: #7fbfbf\">                    </span><span style=\"color: #008000; text-decoration-color: #008000\">INFO    </span> Animation <span style=\"color: #008000; text-decoration-color: #008000\">1</span> : Partial movie file        <a href=\"file://C:\\Users\\thoma\\AppData\\Local\\Programs\\Python\\Python39\\lib\\site-packages\\manim\\scene\\scene_file_writer.py\"><span style=\"color: #7f7f7f; text-decoration-color: #7f7f7f\">scene_file_writer.py</span></a><span style=\"color: #7f7f7f; text-decoration-color: #7f7f7f\">:</span><a href=\"file://C:\\Users\\thoma\\AppData\\Local\\Programs\\Python\\Python39\\lib\\site-packages\\manim\\scene\\scene_file_writer.py#514\"><span style=\"color: #7f7f7f; text-decoration-color: #7f7f7f\">514</span></a>\n",
       "                             written in <span style=\"color: #008000; text-decoration-color: #008000\">'c:\\Users\\thoma\\Desktop\\Apre</span>                         \n",
       "                             <span style=\"color: #008000; text-decoration-color: #008000\">ndizado\\Manim\\media\\videos\\Manim\\720p30</span>                         \n",
       "                             <span style=\"color: #008000; text-decoration-color: #008000\">\\partial_movie_files\\Tute2\\1353618911_2</span>                         \n",
       "                             <span style=\"color: #008000; text-decoration-color: #008000\">873534237_4132569900.mp4'</span>                                       \n",
       "</pre>\n"
      ],
      "text/plain": [
       "\u001b[2;36m                   \u001b[0m\u001b[2;36m \u001b[0m\u001b[32mINFO    \u001b[0m Animation \u001b[32m1\u001b[0m : Partial movie file        \u001b]8;id=853863;file://C:\\Users\\thoma\\AppData\\Local\\Programs\\Python\\Python39\\lib\\site-packages\\manim\\scene\\scene_file_writer.py\u001b\\\u001b[2mscene_file_writer.py\u001b[0m\u001b]8;;\u001b\\\u001b[2m:\u001b[0m\u001b]8;id=560514;file://C:\\Users\\thoma\\AppData\\Local\\Programs\\Python\\Python39\\lib\\site-packages\\manim\\scene\\scene_file_writer.py#514\u001b\\\u001b[2m514\u001b[0m\u001b]8;;\u001b\\\n",
       "                             written in \u001b[32m'c:\\Users\\thoma\\Desktop\\Apre\u001b[0m                         \n",
       "                             \u001b[32mndizado\\Manim\\media\\videos\\Manim\\720p30\u001b[0m                         \n",
       "                             \u001b[32m\\partial_movie_files\\Tute2\\1353618911_2\u001b[0m                         \n",
       "                             \u001b[32m873534237_4132569900.mp4'\u001b[0m                                       \n"
      ]
     },
     "metadata": {},
     "output_type": "display_data"
    },
    {
     "data": {
      "text/html": [
       "<pre style=\"white-space:pre;overflow-x:auto;line-height:normal;font-family:Menlo,'DejaVu Sans Mono',consolas,'Courier New',monospace\"><span style=\"color: #7fbfbf; text-decoration-color: #7fbfbf\">[01/31/22 22:15:06] </span><span style=\"color: #800000; text-decoration-color: #800000\">WARNING </span> The method CoordinateSystem.get_graph has     <a href=\"file://C:\\Users\\thoma\\AppData\\Local\\Programs\\Python\\Python39\\lib\\site-packages\\manim\\utils\\deprecation.py\"><span style=\"color: #7f7f7f; text-decoration-color: #7f7f7f\">deprecation.py</span></a><span style=\"color: #7f7f7f; text-decoration-color: #7f7f7f\">:</span><a href=\"file://C:\\Users\\thoma\\AppData\\Local\\Programs\\Python\\Python39\\lib\\site-packages\\manim\\utils\\deprecation.py#210\"><span style=\"color: #7f7f7f; text-decoration-color: #7f7f7f\">210</span></a>\n",
       "                             been deprecated since v0.<span style=\"color: #008000; text-decoration-color: #008000\">11.0</span> and is expected                   \n",
       "                             to be removed after v0.<span style=\"color: #008000; text-decoration-color: #008000\">13.0</span>. Use plot                           \n",
       "                             instead.                                                        \n",
       "</pre>\n"
      ],
      "text/plain": [
       "\u001b[2;36m[01/31/22 22:15:06]\u001b[0m\u001b[2;36m \u001b[0m\u001b[31mWARNING \u001b[0m The method CoordinateSystem.get_graph has     \u001b]8;id=188127;file://C:\\Users\\thoma\\AppData\\Local\\Programs\\Python\\Python39\\lib\\site-packages\\manim\\utils\\deprecation.py\u001b\\\u001b[2mdeprecation.py\u001b[0m\u001b]8;;\u001b\\\u001b[2m:\u001b[0m\u001b]8;id=892119;file://C:\\Users\\thoma\\AppData\\Local\\Programs\\Python\\Python39\\lib\\site-packages\\manim\\utils\\deprecation.py#210\u001b\\\u001b[2m210\u001b[0m\u001b]8;;\u001b\\\n",
       "                             been deprecated since v0.\u001b[32m11.0\u001b[0m and is expected                   \n",
       "                             to be removed after v0.\u001b[32m13.0\u001b[0m. Use plot                           \n",
       "                             instead.                                                        \n"
      ]
     },
     "metadata": {},
     "output_type": "display_data"
    },
    {
     "data": {
      "text/html": [
       "<pre style=\"white-space:pre;overflow-x:auto;line-height:normal;font-family:Menlo,'DejaVu Sans Mono',consolas,'Courier New',monospace\"><span style=\"color: #7fbfbf; text-decoration-color: #7fbfbf\">[01/31/22 22:15:07] </span><span style=\"color: #008000; text-decoration-color: #008000\">INFO    </span> Animation <span style=\"color: #008000; text-decoration-color: #008000\">2</span> : Partial movie file        <a href=\"file://C:\\Users\\thoma\\AppData\\Local\\Programs\\Python\\Python39\\lib\\site-packages\\manim\\scene\\scene_file_writer.py\"><span style=\"color: #7f7f7f; text-decoration-color: #7f7f7f\">scene_file_writer.py</span></a><span style=\"color: #7f7f7f; text-decoration-color: #7f7f7f\">:</span><a href=\"file://C:\\Users\\thoma\\AppData\\Local\\Programs\\Python\\Python39\\lib\\site-packages\\manim\\scene\\scene_file_writer.py#514\"><span style=\"color: #7f7f7f; text-decoration-color: #7f7f7f\">514</span></a>\n",
       "                             written in <span style=\"color: #008000; text-decoration-color: #008000\">'c:\\Users\\thoma\\Desktop\\Apre</span>                         \n",
       "                             <span style=\"color: #008000; text-decoration-color: #008000\">ndizado\\Manim\\media\\videos\\Manim\\720p30</span>                         \n",
       "                             <span style=\"color: #008000; text-decoration-color: #008000\">\\partial_movie_files\\Tute2\\1353618911_3</span>                         \n",
       "                             <span style=\"color: #008000; text-decoration-color: #008000\">98514950_3118865742.mp4'</span>                                        \n",
       "</pre>\n"
      ],
      "text/plain": [
       "\u001b[2;36m[01/31/22 22:15:07]\u001b[0m\u001b[2;36m \u001b[0m\u001b[32mINFO    \u001b[0m Animation \u001b[32m2\u001b[0m : Partial movie file        \u001b]8;id=639845;file://C:\\Users\\thoma\\AppData\\Local\\Programs\\Python\\Python39\\lib\\site-packages\\manim\\scene\\scene_file_writer.py\u001b\\\u001b[2mscene_file_writer.py\u001b[0m\u001b]8;;\u001b\\\u001b[2m:\u001b[0m\u001b]8;id=504684;file://C:\\Users\\thoma\\AppData\\Local\\Programs\\Python\\Python39\\lib\\site-packages\\manim\\scene\\scene_file_writer.py#514\u001b\\\u001b[2m514\u001b[0m\u001b]8;;\u001b\\\n",
       "                             written in \u001b[32m'c:\\Users\\thoma\\Desktop\\Apre\u001b[0m                         \n",
       "                             \u001b[32mndizado\\Manim\\media\\videos\\Manim\\720p30\u001b[0m                         \n",
       "                             \u001b[32m\\partial_movie_files\\Tute2\\1353618911_3\u001b[0m                         \n",
       "                             \u001b[32m98514950_3118865742.mp4'\u001b[0m                                        \n"
      ]
     },
     "metadata": {},
     "output_type": "display_data"
    },
    {
     "data": {
      "text/html": [
       "<pre style=\"white-space:pre;overflow-x:auto;line-height:normal;font-family:Menlo,'DejaVu Sans Mono',consolas,'Courier New',monospace\"><span style=\"color: #7fbfbf; text-decoration-color: #7fbfbf\">                    </span><span style=\"color: #008000; text-decoration-color: #008000\">INFO    </span> Combining to Movie file.                <a href=\"file://C:\\Users\\thoma\\AppData\\Local\\Programs\\Python\\Python39\\lib\\site-packages\\manim\\scene\\scene_file_writer.py\"><span style=\"color: #7f7f7f; text-decoration-color: #7f7f7f\">scene_file_writer.py</span></a><span style=\"color: #7f7f7f; text-decoration-color: #7f7f7f\">:</span><a href=\"file://C:\\Users\\thoma\\AppData\\Local\\Programs\\Python\\Python39\\lib\\site-packages\\manim\\scene\\scene_file_writer.py#608\"><span style=\"color: #7f7f7f; text-decoration-color: #7f7f7f\">608</span></a>\n",
       "</pre>\n"
      ],
      "text/plain": [
       "\u001b[2;36m                   \u001b[0m\u001b[2;36m \u001b[0m\u001b[32mINFO    \u001b[0m Combining to Movie file.                \u001b]8;id=558160;file://C:\\Users\\thoma\\AppData\\Local\\Programs\\Python\\Python39\\lib\\site-packages\\manim\\scene\\scene_file_writer.py\u001b\\\u001b[2mscene_file_writer.py\u001b[0m\u001b]8;;\u001b\\\u001b[2m:\u001b[0m\u001b]8;id=719042;file://C:\\Users\\thoma\\AppData\\Local\\Programs\\Python\\Python39\\lib\\site-packages\\manim\\scene\\scene_file_writer.py#608\u001b\\\u001b[2m608\u001b[0m\u001b]8;;\u001b\\\n"
      ]
     },
     "metadata": {},
     "output_type": "display_data"
    },
    {
     "data": {
      "text/html": [
       "<pre style=\"white-space:pre;overflow-x:auto;line-height:normal;font-family:Menlo,'DejaVu Sans Mono',consolas,'Courier New',monospace\"><span style=\"color: #7fbfbf; text-decoration-color: #7fbfbf\">                    </span><span style=\"color: #008000; text-decoration-color: #008000\">INFO    </span>                                         <a href=\"file://C:\\Users\\thoma\\AppData\\Local\\Programs\\Python\\Python39\\lib\\site-packages\\manim\\scene\\scene_file_writer.py\"><span style=\"color: #7f7f7f; text-decoration-color: #7f7f7f\">scene_file_writer.py</span></a><span style=\"color: #7f7f7f; text-decoration-color: #7f7f7f\">:</span><a href=\"file://C:\\Users\\thoma\\AppData\\Local\\Programs\\Python\\Python39\\lib\\site-packages\\manim\\scene\\scene_file_writer.py#729\"><span style=\"color: #7f7f7f; text-decoration-color: #7f7f7f\">729</span></a>\n",
       "                             <span style=\"color: #808000; text-decoration-color: #808000; font-weight: bold\">File</span> ready at <span style=\"color: #008000; text-decoration-color: #008000\">'c:\\Users\\thoma\\Desktop\\A</span>                         \n",
       "                             <span style=\"color: #008000; text-decoration-color: #008000\">prendizado\\Manim\\media\\videos\\Manim\\720</span>                         \n",
       "                             <span style=\"color: #008000; text-decoration-color: #008000\">p30\\Tute2.mp4'</span>                                                  \n",
       "                                                                                             \n",
       "</pre>\n"
      ],
      "text/plain": [
       "\u001b[2;36m                   \u001b[0m\u001b[2;36m \u001b[0m\u001b[32mINFO    \u001b[0m                                         \u001b]8;id=177264;file://C:\\Users\\thoma\\AppData\\Local\\Programs\\Python\\Python39\\lib\\site-packages\\manim\\scene\\scene_file_writer.py\u001b\\\u001b[2mscene_file_writer.py\u001b[0m\u001b]8;;\u001b\\\u001b[2m:\u001b[0m\u001b]8;id=491249;file://C:\\Users\\thoma\\AppData\\Local\\Programs\\Python\\Python39\\lib\\site-packages\\manim\\scene\\scene_file_writer.py#729\u001b\\\u001b[2m729\u001b[0m\u001b]8;;\u001b\\\n",
       "                             \u001b[1;33mFile\u001b[0m ready at \u001b[32m'c:\\Users\\thoma\\Desktop\\A\u001b[0m                         \n",
       "                             \u001b[32mprendizado\\Manim\\media\\videos\\Manim\\720\u001b[0m                         \n",
       "                             \u001b[32mp30\\Tute2.mp4'\u001b[0m                                                  \n",
       "                                                                                             \n"
      ]
     },
     "metadata": {},
     "output_type": "display_data"
    },
    {
     "data": {
      "text/html": [
       "<pre style=\"white-space:pre;overflow-x:auto;line-height:normal;font-family:Menlo,'DejaVu Sans Mono',consolas,'Courier New',monospace\"><span style=\"color: #7fbfbf; text-decoration-color: #7fbfbf\">                    </span><span style=\"color: #008000; text-decoration-color: #008000\">INFO    </span> <span style=\"color: #808000; text-decoration-color: #808000; font-weight: bold\">Rendered</span> Tute2                                      <a href=\"file://C:\\Users\\thoma\\AppData\\Local\\Programs\\Python\\Python39\\lib\\site-packages\\manim\\scene\\scene.py\"><span style=\"color: #7f7f7f; text-decoration-color: #7f7f7f\">scene.py</span></a><span style=\"color: #7f7f7f; text-decoration-color: #7f7f7f\">:</span><a href=\"file://C:\\Users\\thoma\\AppData\\Local\\Programs\\Python\\Python39\\lib\\site-packages\\manim\\scene\\scene.py#237\"><span style=\"color: #7f7f7f; text-decoration-color: #7f7f7f\">237</span></a>\n",
       "                             <span style=\"color: #808000; text-decoration-color: #808000; font-weight: bold\">Played</span> <span style=\"color: #008000; text-decoration-color: #008000\">3</span> <span style=\"color: #808000; text-decoration-color: #808000; font-weight: bold\">animations</span>                                             \n",
       "</pre>\n"
      ],
      "text/plain": [
       "\u001b[2;36m                   \u001b[0m\u001b[2;36m \u001b[0m\u001b[32mINFO    \u001b[0m \u001b[1;33mRendered\u001b[0m Tute2                                      \u001b]8;id=906929;file://C:\\Users\\thoma\\AppData\\Local\\Programs\\Python\\Python39\\lib\\site-packages\\manim\\scene\\scene.py\u001b\\\u001b[2mscene.py\u001b[0m\u001b]8;;\u001b\\\u001b[2m:\u001b[0m\u001b]8;id=605041;file://C:\\Users\\thoma\\AppData\\Local\\Programs\\Python\\Python39\\lib\\site-packages\\manim\\scene\\scene.py#237\u001b\\\u001b[2m237\u001b[0m\u001b]8;;\u001b\\\n",
       "                             \u001b[1;33mPlayed\u001b[0m \u001b[32m3\u001b[0m \u001b[1;33manimations\u001b[0m                                             \n"
      ]
     },
     "metadata": {},
     "output_type": "display_data"
    },
    {
     "data": {
      "text/html": [
       "<video src=\"media\\jupyter\\Tute2@2022-01-31@22-15-07.mp4\" controls autoplay loop style=\"max-width: 60%;\"  >\n",
       "      Your browser does not support the <code>video</code> element.\n",
       "    </video>"
      ],
      "text/plain": [
       "<IPython.core.display.Video object>"
      ]
     },
     "metadata": {},
     "output_type": "display_data"
    }
   ],
   "source": [
    "\n",
    "%%manim -qm Tute2\n",
    "class Tute2(Scene):  #ILLUSTRATING POLAR PLANE WITH A SINE CURVE\n",
    "    def construct(self):\n",
    "        \n",
    "        \n",
    "        e = ValueTracker(0.01) #Tracks the end value of both functions\n",
    "\n",
    "        plane = PolarPlane(radius_max=3).add_coordinates()\n",
    "        plane.shift(LEFT*2)\n",
    "        graph1 = always_redraw(lambda : \n",
    "        ParametricFunction(lambda t : plane.polar_to_point(1 + 3/4 * np.sin(3*t), t), \n",
    "        t_range = [0, e.get_value()], color = GREEN)\n",
    "        )\n",
    "        dot1 = always_redraw(lambda : Dot(fill_color = GREEN, fill_opacity = 0.8).scale(0.5).move_to(graph1.get_end())\n",
    "        )\n",
    "\n",
    "        axes = Axes(x_range = [0, 7, 1], x_length=3, y_range=[-3,3,1], y_length=3).shift(RIGHT*4)\n",
    "        axes.add_coordinates()\n",
    "        graph2 = always_redraw(lambda : \n",
    "        axes.get_graph(lambda x : 1 + 3/4 * np.sin(3*x), x_range = [0, e.get_value()], color = GREEN)\n",
    "        )\n",
    "        dot2 = always_redraw(lambda : Dot(fill_color = GREEN, fill_opacity = 0.8).scale(0.5).move_to(graph2.get_end())\n",
    "        )\n",
    "\n",
    "        title = MathTex(\"f(\\\\theta) = 1 + 3/4 *sin(3\\\\theta)\", color = GREEN).next_to(axes, UP, buff=0.2)\n",
    "\n",
    "        self.play(LaggedStart(\n",
    "            Write(plane), Create(axes), Write(title),\n",
    "            run_time=3, lag_ratio=0.5)\n",
    "        )\n",
    "        self.add(graph1, graph2, dot1, dot2)\n",
    "        self.play(e.animate.set_value(2*PI), run_time = 10, rate_func = linear)\n",
    "        self.wait()"
   ]
  },
  {
   "cell_type": "code",
   "execution_count": 4,
   "metadata": {},
   "outputs": [
    {
     "data": {
      "text/html": [
       "<pre style=\"white-space:pre;overflow-x:auto;line-height:normal;font-family:Menlo,'DejaVu Sans Mono',consolas,'Courier New',monospace\"><span style=\"color: #7fbfbf; text-decoration-color: #7fbfbf\">[02/01/22 18:16:21] </span><span style=\"color: #008000; text-decoration-color: #008000\">INFO    </span>                                         <a href=\"file://C:\\Users\\thoma\\AppData\\Local\\Programs\\Python\\Python39\\lib\\site-packages\\manim\\scene\\scene_file_writer.py\"><span style=\"color: #7f7f7f; text-decoration-color: #7f7f7f\">scene_file_writer.py</span></a><span style=\"color: #7f7f7f; text-decoration-color: #7f7f7f\">:</span><a href=\"file://C:\\Users\\thoma\\AppData\\Local\\Programs\\Python\\Python39\\lib\\site-packages\\manim\\scene\\scene_file_writer.py#729\"><span style=\"color: #7f7f7f; text-decoration-color: #7f7f7f\">729</span></a>\n",
       "                             <span style=\"color: #808000; text-decoration-color: #808000; font-weight: bold\">File</span> ready at <span style=\"color: #008000; text-decoration-color: #008000\">'c:\\Users\\thoma\\Desktop\\A</span>                         \n",
       "                             <span style=\"color: #008000; text-decoration-color: #008000\">prendizado\\Manim\\media\\images\\Manim\\Bez</span>                         \n",
       "                             <span style=\"color: #008000; text-decoration-color: #008000\">ierSplineExample_ManimCE_v0.13.1.png'</span>                           \n",
       "                                                                                             \n",
       "</pre>\n"
      ],
      "text/plain": [
       "\u001b[2;36m[02/01/22 18:16:21]\u001b[0m\u001b[2;36m \u001b[0m\u001b[32mINFO    \u001b[0m                                         \u001b]8;id=358752;file://C:\\Users\\thoma\\AppData\\Local\\Programs\\Python\\Python39\\lib\\site-packages\\manim\\scene\\scene_file_writer.py\u001b\\\u001b[2mscene_file_writer.py\u001b[0m\u001b]8;;\u001b\\\u001b[2m:\u001b[0m\u001b]8;id=53455;file://C:\\Users\\thoma\\AppData\\Local\\Programs\\Python\\Python39\\lib\\site-packages\\manim\\scene\\scene_file_writer.py#729\u001b\\\u001b[2m729\u001b[0m\u001b]8;;\u001b\\\n",
       "                             \u001b[1;33mFile\u001b[0m ready at \u001b[32m'c:\\Users\\thoma\\Desktop\\A\u001b[0m                         \n",
       "                             \u001b[32mprendizado\\Manim\\media\\images\\Manim\\Bez\u001b[0m                         \n",
       "                             \u001b[32mierSplineExample_ManimCE_v0.13.1.png'\u001b[0m                           \n",
       "                                                                                             \n"
      ]
     },
     "metadata": {},
     "output_type": "display_data"
    },
    {
     "data": {
      "text/html": [
       "<pre style=\"white-space:pre;overflow-x:auto;line-height:normal;font-family:Menlo,'DejaVu Sans Mono',consolas,'Courier New',monospace\"><span style=\"color: #7fbfbf; text-decoration-color: #7fbfbf\">                    </span><span style=\"color: #008000; text-decoration-color: #008000\">INFO    </span> <span style=\"color: #808000; text-decoration-color: #808000; font-weight: bold\">Rendered</span> BezierSplineExample                        <a href=\"file://C:\\Users\\thoma\\AppData\\Local\\Programs\\Python\\Python39\\lib\\site-packages\\manim\\scene\\scene.py\"><span style=\"color: #7f7f7f; text-decoration-color: #7f7f7f\">scene.py</span></a><span style=\"color: #7f7f7f; text-decoration-color: #7f7f7f\">:</span><a href=\"file://C:\\Users\\thoma\\AppData\\Local\\Programs\\Python\\Python39\\lib\\site-packages\\manim\\scene\\scene.py#237\"><span style=\"color: #7f7f7f; text-decoration-color: #7f7f7f\">237</span></a>\n",
       "                             <span style=\"color: #808000; text-decoration-color: #808000; font-weight: bold\">Played</span> <span style=\"color: #008000; text-decoration-color: #008000\">0</span> <span style=\"color: #808000; text-decoration-color: #808000; font-weight: bold\">animations</span>                                             \n",
       "</pre>\n"
      ],
      "text/plain": [
       "\u001b[2;36m                   \u001b[0m\u001b[2;36m \u001b[0m\u001b[32mINFO    \u001b[0m \u001b[1;33mRendered\u001b[0m BezierSplineExample                        \u001b]8;id=373847;file://C:\\Users\\thoma\\AppData\\Local\\Programs\\Python\\Python39\\lib\\site-packages\\manim\\scene\\scene.py\u001b\\\u001b[2mscene.py\u001b[0m\u001b]8;;\u001b\\\u001b[2m:\u001b[0m\u001b]8;id=395470;file://C:\\Users\\thoma\\AppData\\Local\\Programs\\Python\\Python39\\lib\\site-packages\\manim\\scene\\scene.py#237\u001b\\\u001b[2m237\u001b[0m\u001b]8;;\u001b\\\n",
       "                             \u001b[1;33mPlayed\u001b[0m \u001b[32m0\u001b[0m \u001b[1;33manimations\u001b[0m                                             \n"
      ]
     },
     "metadata": {},
     "output_type": "display_data"
    },
    {
     "data": {
      "image/png": "[encoded data removed]",
      "text/plain": [
       "<IPython.core.display.Image object>"
      ]
     },
     "metadata": {},
     "output_type": "display_data"
    }
   ],
   "source": [
    "%%manim -qm BezierSplineExample\n",
    "\n",
    "class BezierSplineExample(Scene):\n",
    "    def construct(self):\n",
    "        p1 = np.array([-3, 1, 0])\n",
    "        p1b = p1 + [1, 0, 0]\n",
    "        d1 = Dot(point=p1).set_color(BLUE)\n",
    "        l1 = Line(p1, p1b)\n",
    "        p2 = np.array([3, -1, 0])\n",
    "        p2b = p2 - [1, 0, 0]\n",
    "        d2 = Dot(point=p2).set_color(RED)\n",
    "        l2 = Line(p2, p2b)\n",
    "        bezier = CubicBezier(p1b, p1b + 3 * RIGHT, p2b - 3 * RIGHT, p2b)\n",
    "        self.add(l1, d1, l2, d2, bezier)"
   ]
  },
  {
   "cell_type": "code",
   "execution_count": null,
   "metadata": {},
   "outputs": [],
   "source": []
  }
 ],
 "metadata": {
  "interpreter": {
   "hash": "4badd61a3eb0a98b49024dc08b6e569de2eac3230396ff1e691db44e3b600cf6"
  },
  "kernelspec": {
   "display_name": "Python 3.9.9 64-bit",
   "language": "python",
   "name": "python3"
  },
  "language_info": {
   "codemirror_mode": {
    "name": "ipython",
    "version": 3
   },
   "file_extension": ".py",
   "mimetype": "text/x-python",
   "name": "python",
   "nbconvert_exporter": "python",
   "pygments_lexer": "ipython3",
   "version": "3.9.9"
  },
  "orig_nbformat": 4
 },
 "nbformat": 4,
 "nbformat_minor": 2
}
