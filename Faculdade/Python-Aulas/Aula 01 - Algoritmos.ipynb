{
 "cells": [
  {
   "cell_type": "markdown",
   "metadata": {},
   "source": [
    "# Aula 01 - Algoritmos\n"
   ]
  },
  {
   "cell_type": "markdown",
   "metadata": {},
   "source": [
    "## Saída de dados\n",
    "A função`` print()`` informa que vamos exibir algo na tela"
   ]
  },
  {
   "cell_type": "code",
   "execution_count": 4,
   "metadata": {},
   "outputs": [
    {
     "name": "stdout",
     "output_type": "stream",
     "text": [
      "Olá mundo\n"
     ]
    }
   ],
   "source": [
    "print(\"Olá mundo\")"
   ]
  },
  {
   "cell_type": "markdown",
   "metadata": {},
   "source": [
    "## Entrada de Dados\n",
    "A função ``input()`` informa que vamos realizar entrada de dados"
   ]
  },
  {
   "cell_type": "code",
   "execution_count": 5,
   "metadata": {},
   "outputs": [
    {
     "name": "stdout",
     "output_type": "stream",
     "text": [
      "Ola t\n",
      "Sua idade é : 25 Anos\n",
      "Sua Altura é : 150.0 cm\n"
     ]
    }
   ],
   "source": [
    "name    = input(\"Qual o seu Nome: \")        \n",
    "age     = int(input(\"Idade: \"))\n",
    "Altura  = float(input(\"Altura: \"))\n",
    "print(\"Ola \" +name)\n",
    "print(\"Sua idade é : \"+str(age)+\" Anos\")\n",
    "print(\"Sua Altura é : \"+str(Altura)+\" cm\")"
   ]
  },
  {
   "cell_type": "markdown",
   "metadata": {},
   "source": [
    "## Variáveis \n",
    "Uma variável é um nome que se refere a um dado ou valor\n",
    "\n",
    "<div align = \"center\">\n",
    "\n",
    "|Tipo   | Exemplo                   |\n",
    "|:-------:|:---------------------------:|\n",
    "|INT    |       1; 2; 3             |\n",
    "|FLOAT  |       1.2 ; 5.8           |\n",
    "|COMPLEX|    6 + 3j ; 2 + 4j        |\n",
    "|STRING |“Olá” ; “Isto é uma String\"|\n",
    "|BOOL   |      True; False          |\n",
    "\n",
    "</div>\n",
    " \n",
    "Você podera saber o tipo do elemento escrevendo `type` para avaliar qual tipo de variavel voce esta trabalhando: \n",
    "\n",
    "\n",
    "\n",
    "\n",
    "\n",
    "\n"
   ]
  },
  {
   "cell_type": "code",
   "execution_count": 6,
   "metadata": {},
   "outputs": [
    {
     "name": "stdout",
     "output_type": "stream",
     "text": [
      "<class 'str'>\n",
      "<class 'int'>\n"
     ]
    }
   ],
   "source": [
    "nome  = 'Thomas'\n",
    "idade = 23\n",
    "print(type(nome))\n",
    "print(type(idade))"
   ]
  },
  {
   "cell_type": "markdown",
   "metadata": {},
   "source": [
    "## Operações com `Float`\n",
    "Quando trabalhando com o float temos que lembrar que o computador trabalha com operações binárias, das quais quando convertida do binário para o decimal, levam consigo erros aritmeticos. O exemplo a seguir demostra isso:\n"
   ]
  },
  {
   "cell_type": "code",
   "execution_count": 7,
   "metadata": {},
   "outputs": [
    {
     "name": "stdout",
     "output_type": "stream",
     "text": [
      "0.30000000000000004\n"
     ]
    }
   ],
   "source": [
    "a = 0.1\n",
    "b = 0.2\n",
    "c =a+b\n",
    "print(c)"
   ]
  },
  {
   "cell_type": "markdown",
   "metadata": {},
   "source": [
    "Note que a ultima casa possui um 4, pois quase todas as máquinas atuais (julho de 2010) usam aritmética de ponto\n",
    "flutuante conforme a norma IEEE 754, que limita a quantidade de casas decimais."
   ]
  },
  {
   "cell_type": "markdown",
   "metadata": {},
   "source": [
    "## Variáveis Nomes\n",
    "* No Python os nomes das variáveis começam , obrigatoriamente, com uma letra\n",
    "* Porém, o nome completo da variável pode conter números e o símbolo sublinhado ( _ )\n",
    "* Em programação, normalmente não se utiliza acentos nos nomes das variáveis , porém o Python 3 permite esta utilização\n",
    "* O Python diferencia letras maiúsculas de letras minúsculas ( Case sensitive )"
   ]
  },
  {
   "cell_type": "markdown",
   "metadata": {},
   "source": [
    "## Conversão de tipo diferentes de variável \n",
    "* A conversão de valores é feita por meio das funções:\n",
    "    * `int()`\n",
    "    * `float()`\n",
    "    * `str()` "
   ]
  },
  {
   "cell_type": "code",
   "execution_count": 8,
   "metadata": {},
   "outputs": [
    {
     "name": "stdout",
     "output_type": "stream",
     "text": [
      "<class 'float'>\n",
      "--------\n",
      "<class 'int'>\n",
      "<class 'str'>\n"
     ]
    }
   ],
   "source": [
    "a = 5.8\n",
    "print(type(a))\n",
    "print(\"--------\")\n",
    "print(type(int(a)))\n",
    "print(type(str(a)))"
   ]
  },
  {
   "cell_type": "markdown",
   "metadata": {},
   "source": [
    "## Saída de dados\n",
    "### Função `Print()`\n",
    "* Conforme já vimos, podemos imprimir strings ou o valor de variáveis com os seguintes comandos:"
   ]
  },
  {
   "cell_type": "code",
   "execution_count": 9,
   "metadata": {},
   "outputs": [
    {
     "name": "stdout",
     "output_type": "stream",
     "text": [
      "Olá Mundo\n",
      "\n",
      "4\n"
     ]
    }
   ],
   "source": [
    "print('Olá Mundo')\n",
    "a = 4 \n",
    "print(\"\")\n",
    "print(a)\n"
   ]
  },
  {
   "cell_type": "markdown",
   "metadata": {},
   "source": [
    "* Para a impressão de dados na tela, podemos também combinar texto e o valor de alguma variável, utilizando vírgula ( , ) entre um dado e outro:"
   ]
  },
  {
   "cell_type": "code",
   "execution_count": 10,
   "metadata": {},
   "outputs": [
    {
     "name": "stdout",
     "output_type": "stream",
     "text": [
      "O valor de a é : 3\n"
     ]
    }
   ],
   "source": [
    "a = 3 \n",
    "print(\"O valor de a é :\",a)"
   ]
  },
  {
   "cell_type": "markdown",
   "metadata": {},
   "source": [
    "### Função `print()` - composição\n",
    "* Combinar várias strings com o valor de variáveis sem sempre é\n",
    "prático com o uso da vírgula.\n",
    "\n",
    "* Por isso podemos usar composição de strings para combinar texto\n",
    "com o valor de variáveis.\n",
    "\n",
    "    * Exemplo:"
   ]
  },
  {
   "cell_type": "code",
   "execution_count": 11,
   "metadata": {},
   "outputs": [
    {
     "name": "stdout",
     "output_type": "stream",
     "text": [
      "Thomas tem 23 anos \n"
     ]
    }
   ],
   "source": [
    "anos = 23 \n",
    "print(\"Thomas tem %d anos \"%anos)"
   ]
  },
  {
   "cell_type": "markdown",
   "metadata": {},
   "source": [
    "* O símbolo %d é chamado de marcador\n",
    "\n",
    "* O marcador indica que naquela posição estaremos colocando o valor\n",
    "da variável anos, que deve ser um _número inteiro_ neste exemplo.\n",
    "\n",
    "<div align = \"center\">\n",
    "\n",
    "|Marcador|Tipo|\n",
    "|:----:|:----|\n",
    "|%d|Número inteiro (int)|\n",
    "|%f|Números decimais (float)|\n",
    "|%s|Strings|\n",
    "\n",
    "</div>\n",
    "\n",
    "Exemplo:"
   ]
  },
  {
   "cell_type": "code",
   "execution_count": 12,
   "metadata": {},
   "outputs": [
    {
     "name": "stdout",
     "output_type": "stream",
     "text": [
      "Olá, hoje é dia 19 do mês 1 \n"
     ]
    }
   ],
   "source": [
    "a = 'Olá'\n",
    "b = 19 \n",
    "c = 1 \n",
    "print(\"%s, hoje é dia %d do mês %d \" %(a,b,c))"
   ]
  },
  {
   "cell_type": "code",
   "execution_count": 13,
   "metadata": {},
   "outputs": [
    {
     "name": "stdout",
     "output_type": "stream",
     "text": [
      "O valor de pi é aproximadamente : 3.141592\n"
     ]
    }
   ],
   "source": [
    "pi = 3.141592\n",
    "print(\"O valor de pi é aproximadamente : %f\"%pi)"
   ]
  },
  {
   "cell_type": "markdown",
   "metadata": {},
   "source": [
    "### Print por `Casting`\n",
    "O python permite que transformemos os tipos de variaveis em outras, então é possivel converter todos os elementos em `str` e utilizar o sinal de + para adicionar elementos ao `print()`"
   ]
  },
  {
   "cell_type": "code",
   "execution_count": 14,
   "metadata": {},
   "outputs": [
    {
     "name": "stdout",
     "output_type": "stream",
     "text": [
      "Olá, hoje é dia 19 do mês 1\n"
     ]
    }
   ],
   "source": [
    "a = 'Olá'\n",
    "b = 19 \n",
    "c = 1 \n",
    "print(\"\"+str(a)+\", hoje é dia \"+str(b)+\" do mês \"+str(c)+\"\")"
   ]
  },
  {
   "cell_type": "markdown",
   "metadata": {},
   "source": [
    "### Função `print()` - composição marcadores\n",
    "* Limitando a quantidade de casas decimais na impressão:\n",
    "\n",
    "* Basta incluir .x entre o % e o f , onde x é o número desejado de casas\n",
    "decimais\n",
    "\n",
    "    * Exemplo:"
   ]
  },
  {
   "cell_type": "code",
   "execution_count": 15,
   "metadata": {},
   "outputs": [
    {
     "name": "stdout",
     "output_type": "stream",
     "text": [
      "O valor de pi é aproximadamente : 3.14\n"
     ]
    }
   ],
   "source": [
    "print(\"O valor de pi é aproximadamente : %.2f\"%pi)"
   ]
  },
  {
   "cell_type": "markdown",
   "metadata": {},
   "source": [
    "### Função `print()` - `format( )`\n",
    "* O método format( ) formata a string dada de acordo com o desejado\n",
    "para a saída de dados\n",
    "\n",
    "    * Exemplo:"
   ]
  },
  {
   "cell_type": "code",
   "execution_count": 16,
   "metadata": {},
   "outputs": [
    {
     "name": "stdout",
     "output_type": "stream",
     "text": [
      "O Fulano tem 95.86 kilos\n"
     ]
    }
   ],
   "source": [
    "nome = \"Fulano\"\n",
    "peso = 95.8585\n",
    "print(\"O {0} tem {1:.2f} kilos\".format(nome,peso)) #para o peso queremos mostrar apenas 2 valores depois da virgula"
   ]
  },
  {
   "cell_type": "markdown",
   "metadata": {},
   "source": [
    "### Função ``print()`` - ``f-strings``\n",
    "* Com o f string podemos formatar a string usando as variáveis entre\n",
    "chaves.\n",
    "\n",
    "    *Exemplo:"
   ]
  },
  {
   "cell_type": "code",
   "execution_count": 17,
   "metadata": {},
   "outputs": [
    {
     "name": "stdout",
     "output_type": "stream",
     "text": [
      "O Fulano tem 95.86 kilos\n"
     ]
    }
   ],
   "source": [
    "nome = \"Fulano\"\n",
    "peso = 95.8585\n",
    "print(f\"O {nome} tem {peso:.2f} kilos\")"
   ]
  },
  {
   "cell_type": "markdown",
   "metadata": {},
   "source": [
    "### Usando o ``parâmetro sep``\n",
    "*\n",
    "     Exemplo:"
   ]
  },
  {
   "cell_type": "code",
   "execution_count": 18,
   "metadata": {},
   "outputs": [
    {
     "name": "stdout",
     "output_type": "stream",
     "text": [
      "19 - janeiro - 2021\n"
     ]
    }
   ],
   "source": [
    "dia = \"19\"\n",
    "mes = \"janeiro\"\n",
    "anos = \"2021\"\n",
    "print(dia, mes, anos, sep=\" - \")"
   ]
  },
  {
   "cell_type": "markdown",
   "metadata": {},
   "source": [
    "### Usando o ``parâmetro end``\n",
    "* Exemplo:"
   ]
  },
  {
   "cell_type": "code",
   "execution_count": 19,
   "metadata": {},
   "outputs": [
    {
     "name": "stdout",
     "output_type": "stream",
     "text": [
      "Print 1\n",
      "Print 2\n",
      "Print 3\n"
     ]
    }
   ],
   "source": [
    "print(\"Print 1\")\n",
    "print(\"Print 2\")\n",
    "print(\"Print 3\")"
   ]
  },
  {
   "cell_type": "code",
   "execution_count": 20,
   "metadata": {},
   "outputs": [
    {
     "name": "stdout",
     "output_type": "stream",
     "text": [
      "Print 1 Print 2 Print 3 "
     ]
    }
   ],
   "source": [
    "print(\"Print 1\", end =\" \")\n",
    "print(\"Print 2\", end =\" \")\n",
    "print(\"Print 3\", end =\" \")"
   ]
  },
  {
   "cell_type": "markdown",
   "metadata": {},
   "source": [
    "### Operadores Aritméticos \n",
    "<div align = \"center\">\n",
    "\n",
    "|Simbolo|Descrição|\n",
    "|:------:|:--------|\n",
    "|+|Soma|\n",
    "|-|Subtração|\n",
    "|*|Multiplicação|\n",
    "|/|Divisão|\n",
    "|//|Divisão com resultado Inteiro|\n",
    "|%|Módulo: Retorna o resto da divisão|\n",
    "|**|Potência: x^y|\n",
    "\n",
    "</div>"
   ]
  },
  {
   "cell_type": "code",
   "execution_count": 21,
   "metadata": {},
   "outputs": [
    {
     "name": "stdout",
     "output_type": "stream",
     "text": [
      "Soma (a+b): 9\n",
      "Sub  (a-c): 3\n",
      "Mul  (b*c): 8\n",
      "Div  (b/c): 2.0\n",
      "POT  (a^c): 25\n",
      "MOD  (a%c): 1\n",
      "DIV INT(a//b): 1\n"
     ]
    }
   ],
   "source": [
    "a , b , c = 5 , 4 , 2\n",
    "print(\"Soma (a+b):\",a+b)\n",
    "print(\"Sub  (a-c):\",a-c) \n",
    "print(\"Mul  (b*c):\",b*c)\n",
    "print(\"Div  (b/c):\",b/c)\n",
    "print(\"POT  (a^c):\",a**c)\n",
    "print(\"MOD  (a%c):\",a%c)\n",
    "print(\"DIV INT(a//b):\",a//b)"
   ]
  },
  {
   "cell_type": "markdown",
   "metadata": {},
   "source": [
    "### Algumas das funções matemáticas mais usadas\n",
    "* É necessário importar o módulo de matemática\n",
    "\n",
    "* ``from math import *``\n",
    "\n",
    "<div align = \"center\">\n",
    "\n",
    "|Simbolo|Descrição|\n",
    "|:------:|:----|\n",
    "|abs(x)|Valor absoluto de x|\n",
    "|sqrt(x)|Raiz quadrada de x|\n",
    "|log(x)|Retorna o logaritmo natural de x|\n",
    "|log10(x)|Retorna o logaritmo basen 10 de x|\n",
    "|sin(x)|Retorna o seno de x radianos|\n",
    "|cos(x)|Retorna o cosseno de x radianos|\n",
    "|exp(x)|Retorna e^x|\n",
    "|round(x, n)|Número x arredondado para n dígitos|]\n",
    "\n",
    "</div>"
   ]
  },
  {
   "cell_type": "code",
   "execution_count": 22,
   "metadata": {},
   "outputs": [
    {
     "name": "stdout",
     "output_type": "stream",
     "text": [
      "3.0\n",
      "1.0986122886681098\n"
     ]
    }
   ],
   "source": [
    "from math import *\n",
    "print(sqrt(9))\n",
    "print(log(3))"
   ]
  },
  {
   "cell_type": "markdown",
   "metadata": {},
   "source": [
    "### Multiplas Associações\n",
    "Podemos evitar a criação de diversas linhas para atribuir a varias variaveis."
   ]
  },
  {
   "cell_type": "code",
   "execution_count": 23,
   "metadata": {},
   "outputs": [
    {
     "name": "stdout",
     "output_type": "stream",
     "text": [
      "Thomas\n",
      "5\n",
      "0.625\n"
     ]
    }
   ],
   "source": [
    "a,b,c=\"Thomas\",5,5/8\n",
    "print(a)\n",
    "print(b)\n",
    "print(c)\n"
   ]
  },
  {
   "cell_type": "markdown",
   "metadata": {},
   "source": [
    "# Exercicios:"
   ]
  },
  {
   "cell_type": "markdown",
   "metadata": {},
   "source": [
    "Escreva um programa que pergunte a quantidade de km percorridos por um carro alugado, assim como a quantidade de dias pelos quais o carro foi alugado. Calcule o preço a pagar, sabendo que o carro custa R$ 70.00 por dia e R$ 0.15 por km rodado."
   ]
  },
  {
   "cell_type": "code",
   "execution_count": 24,
   "metadata": {},
   "outputs": [
    {
     "name": "stdout",
     "output_type": "stream",
     "text": [
      "\n",
      "\tR$ 353.75\n"
     ]
    }
   ],
   "source": [
    "km      = float(input(\"\\tDigite os km   :\"))          \n",
    "dias    = float(input(\"\\tDigite os dias :\"))\n",
    "valor   = km*0.15 + dias*70\n",
    "print(\"\\n\\tR$ %.2f\" % valor)"
   ]
  },
  {
   "cell_type": "markdown",
   "metadata": {},
   "source": [
    "Faça um programa que pergunte quanto você ganha por hora e o número de horas trabalhadas no mês e calcule e mostre o total do seu salário no referido mês, sabendo-se que são descontados 16% para o Imposto de Renda, 11% para o INSS e 5% para o sindicato, faça um programa que nos dê: \n",
    "* O salário bruto.\n",
    "* Quanto pagou ao INSS.\n",
    "* Quanto pagou ao sindicato.\n",
    "* O salário líquido."
   ]
  },
  {
   "cell_type": "code",
   "execution_count": 25,
   "metadata": {},
   "outputs": [
    {
     "name": "stdout",
     "output_type": "stream",
     "text": [
      "\n",
      "\t+Salário bruto\t\tR$ 25.00 \n",
      "\t-IR \t\t\tR$ 4.00\n",
      "\t-INSS \t\t\tR$ 2.75\n",
      "\t-Sindicato\t\tR$ 1.25\n",
      "\n",
      "\t= Salário líquido R$ 17.00\n"
     ]
    }
   ],
   "source": [
    "salario_hora = float(input(\"\\tGanho por hora: \"))\n",
    "dias = int(input(\"\\tHoras trabalhadas no mês: \"))\n",
    "salario_bruto = salario_hora * dias\n",
    "\n",
    "ir = salario_bruto*0.16\n",
    "inss = salario_bruto*0.11\n",
    "sindicato = salario_bruto*0.05\n",
    "\n",
    "salario_liquido = salario_bruto - (ir + inss + sindicato)\n",
    "\n",
    "print('''\\n\\t+Salário bruto\\t\\tR$ %.2f \n",
    "\\t-IR \\t\\t\\tR$ %.2f\n",
    "\\t-INSS \\t\\t\\tR$ %.2f\n",
    "\\t-Sindicato\\t\\tR$ %.2f\n",
    "\\n\\t= Salário líquido R$ %.2f''' % (salario_bruto, ir, inss, sindicato, salario_liquido))"
   ]
  },
  {
   "cell_type": "markdown",
   "metadata": {},
   "source": [
    "Faça um Programa que peça a temperatura em graus Fahrenheit (F) para o usuário. Então, transforma e exibe a temperatura em graus Celsius (C). \n",
    "$$C = 5 * \\frac{f-32}{9}$$"
   ]
  },
  {
   "cell_type": "code",
   "execution_count": 26,
   "metadata": {},
   "outputs": [
    {
     "name": "stdout",
     "output_type": "stream",
     "text": [
      "Temperatura em graus Celcius = -15\n"
     ]
    }
   ],
   "source": [
    "F = int(input(\"\\tDigite a temperatura em Fahrenheit: \"))\n",
    "print(\"Temperatura em graus Celcius = %.f\"%(5 * (F-32) / 9)) "
   ]
  },
  {
   "cell_type": "markdown",
   "metadata": {},
   "source": [
    "Faça um Programa que peça as notas de LAB, P1 e P2 e mostre a média M da disciplina. \n",
    "$$M = \\frac {LAB + 2*P1 + 3*P2}{6}$$"
   ]
  },
  {
   "cell_type": "code",
   "execution_count": 27,
   "metadata": {},
   "outputs": [
    {
     "name": "stdout",
     "output_type": "stream",
     "text": [
      "\n",
      "\tM = 5.0\n"
     ]
    }
   ],
   "source": [
    "LAB = float(input(\"\\tDigite a nota de LAB: \"))\n",
    "P1  = float(input(\"\\tDigite a nota de P1: \"))\n",
    "P2  = float(input(\"\\tDigite a nota de P2: \"))\n",
    "M   = (LAB + 2*P1 + 3*P2) / 6\n",
    "print(\"\\n\\tM =\", M)"
   ]
  },
  {
   "cell_type": "markdown",
   "metadata": {},
   "source": [
    "Calcule área do hexágono com o valor digitado pelo usuário:\n",
    "\n",
    "<p align=\"center\">\n",
    "  <img width=\"460\" height=\"300\" src=\"https://dhg1h5j42swfq.cloudfront.net/2020/06/04101513/%C3%A1rea-do-hex%C3%A1gono.png\">\n",
    "</p>"
   ]
  },
  {
   "cell_type": "code",
   "execution_count": 28,
   "metadata": {},
   "outputs": [
    {
     "name": "stdout",
     "output_type": "stream",
     "text": [
      "A área é 64.95\n"
     ]
    }
   ],
   "source": [
    "import math\n",
    "L = int(input(\"\\tDigite o valor de L: \"))\n",
    "area = (3*(L**2)*math.sqrt(3))/2\n",
    "print(\"A área é %.2f\"%area)"
   ]
  }
 ],
 "metadata": {
  "interpreter": {
   "hash": "4badd61a3eb0a98b49024dc08b6e569de2eac3230396ff1e691db44e3b600cf6"
  },
  "kernelspec": {
   "display_name": "Python 3.9.9 64-bit",
   "language": "python",
   "name": "python3"
  },
  "language_info": {
   "codemirror_mode": {
    "name": "ipython",
    "version": 3
   },
   "file_extension": ".py",
   "mimetype": "text/x-python",
   "name": "python",
   "nbconvert_exporter": "python",
   "pygments_lexer": "ipython3",
   "version": "3.9.9"
  },
  "orig_nbformat": 4
 },
 "nbformat": 4,
 "nbformat_minor": 2
}
