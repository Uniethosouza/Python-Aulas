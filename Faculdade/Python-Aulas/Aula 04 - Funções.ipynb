{
 "cells": [
  {
   "cell_type": "markdown",
   "metadata": {},
   "source": [
    "# Aula 04 - Funções\n"
   ]
  },
  {
   "cell_type": "markdown",
   "metadata": {},
   "source": [
    "* Funções são blocos de código que realizam determinadas\n",
    "tarefas que normalmente precisam ser executadas diversas vezes\n",
    "dentro da mesma aplicação\n",
    "\n",
    "* Assim, tarefas muito utilizadas costumam ser agrupadas em\n",
    "funções , que, depois de definidas, podem ser utilizadas / chamadas\n",
    "em qualquer parte do código somente pelo seu nome.\n",
    "\n",
    "Já utilizamos algumas funções no Python\n",
    "\n",
    "```python\n",
    "   print(\"Olá\")\n",
    "   input(\"Digite o valor de entrada: \")\n",
    "   int(\"3\")\n",
    "   range(0,100)\n",
    "   randint(0,10)\n",
    "   sleep(1)\n",
    "   sqrt(9)\n",
    "```"
   ]
  },
  {
   "cell_type": "markdown",
   "metadata": {},
   "source": [
    "### Definindo funções em Python `def()`\n",
    "* Podemos criar / definir nossas próprias funções no Python utilizando a palavra\n",
    "chave `def` seguido do `nome da função` , parêntesis () e :\n",
    "\n",
    "Sintaxe:\n",
    "```python\n",
    "    def <nome da função>():\n",
    "        tarefa que serão realizadas dentro da função\n",
    "```\n",
    "* Exemplo: \n",
    "```python\n",
    "    def imprimeOla():\n",
    "        print(\"Olá\")\n",
    "```\n"
   ]
  },
  {
   "cell_type": "markdown",
   "metadata": {},
   "source": [
    "### Funções `com` e `sem` parâmetros\n",
    "As funções podem ou não ter `parâmetros` , que `são valores enviados às\n",
    "funções` dentro dos parêntesis no momento em que elas são chamadas\n",
    "* Sem parâmetros:\n",
    "```python\n",
    "    def soma():\n",
    "        a = 9 \n",
    "        b = 8\n",
    "        print(a+b)\n",
    "    soma() \n",
    "    17   \n",
    "```\n",
    "* Com parâmetros:\n",
    "    \n",
    " ```python\n",
    "    def soma(a,b):\n",
    "        print(a+b)\n",
    "    soma(3,4) \n",
    "    7\n",
    " ```\n",
    "\n",
    "\n"
   ]
  },
  {
   "cell_type": "markdown",
   "metadata": {},
   "source": [
    "### Funções `return()`\n",
    "* Além dos parâmetros, as funções podem ou não ter um `valor de retorno`\n",
    "\n",
    "* O retorno é definido pela palavra chave` return`\n",
    "\n",
    "Com retorno:\n",
    " ```python\n",
    "    def soma():\n",
    "        a = 9 \n",
    "        b = 8\n",
    "        return(a+b)\n",
    "    print(soma()) \n",
    "    17   \n",
    " ```\n",
    "Sem retorno:\n",
    "    \n",
    " ```python\n",
    "    def soma(a,b):\n",
    "        return(a+b)\n",
    "    print(soma(3,4)) \n",
    "    7\n",
    " ```\n",
    "\n",
    "* Exemplo: Fazer uma função que retorne `True` ou `False` para a\n",
    "verificação de números pares."
   ]
  },
  {
   "cell_type": "code",
   "execution_count": 18,
   "metadata": {},
   "outputs": [
    {
     "name": "stdout",
     "output_type": "stream",
     "text": [
      "False\n",
      "True\n",
      "False\n"
     ]
    }
   ],
   "source": [
    "def par(num):\n",
    "    return(num%2==0)\n",
    "print(par(3))  \n",
    "print(par(4))\n",
    "print(par(5))          "
   ]
  },
  {
   "cell_type": "markdown",
   "metadata": {},
   "source": [
    "* Se precisarmos de uma função\n",
    "que retorne a string “ par ” ou\n",
    "ímpar ”, podemos reutilizar a\n",
    "função par e criar uma função\n",
    "nova:"
   ]
  },
  {
   "cell_type": "code",
   "execution_count": 19,
   "metadata": {},
   "outputs": [
    {
     "name": "stdout",
     "output_type": "stream",
     "text": [
      "Par\n",
      "Ímpar\n",
      "Par\n"
     ]
    }
   ],
   "source": [
    "def par(num):\n",
    "    return(num%2 == 0)\n",
    "def ParOuImpar(x):\n",
    "    if par(x)== True:\n",
    "        return \"Par\"\n",
    "    else:\n",
    "        return \"Ímpar\"\n",
    "print(ParOuImpar(4))\n",
    "print(ParOuImpar(5))\n",
    "print(ParOuImpar(6))               "
   ]
  },
  {
   "cell_type": "markdown",
   "metadata": {},
   "source": [
    "# Funções escopo das variáveis: `locais` vs. `globais`\n",
    "* Quando usamos funçõe s , trabalhamos com variáveis internas , que\n",
    "pertencem somente à função\n",
    "\n",
    "* Estas variáveis internas são chamadas variáveis `locais`\n",
    "\n",
    "* __Não__ podemos acessar os valores das variáveis `locais` fora da função a que\n",
    "elas pertencem\n",
    "\n",
    "* É por isso que passamos parâmetros e retornamos valores das funções . Os\n",
    "__parâmetros__ e o `return` possibilitam a troca de dados no programa\n",
    "\n",
    "Por sua vez, as __variáveis globais__ são __definidas fora das funções__ e\n",
    "podem ser vistas e acessadas por todas as funções e pelo \"código principal\" (que não está dentro de\n",
    "uma função específica)"
   ]
  },
  {
   "cell_type": "code",
   "execution_count": 20,
   "metadata": {},
   "outputs": [
    {
     "name": "stdout",
     "output_type": "stream",
     "text": [
      "'a' antes da chamada da função:  5\n",
      "Dentro da função 'a' vale:  7\n",
      "'a' depois da chamada da função:  5\n"
     ]
    }
   ],
   "source": [
    "#Variavel global:\n",
    "a = 5\n",
    "\n",
    "def alteraValor():\n",
    "    #variável local da função alteraValor()\n",
    "    a = 7\n",
    "    print(\"Dentro da função 'a' vale: \",a)\n",
    "    \n",
    "print(\"'a' antes da chamada da função: \",a)\n",
    "alteraValor()\n",
    "print(\"'a' depois da chamada da função: \",a)    \n"
   ]
  },
  {
   "cell_type": "code",
   "execution_count": 21,
   "metadata": {},
   "outputs": [
    {
     "name": "stdout",
     "output_type": "stream",
     "text": [
      "'a' antes da chamada da função:  5\n",
      "Dentro da função 'a' vale:  7\n",
      "'a' depois da chamada da função:  7\n"
     ]
    }
   ],
   "source": [
    "#Variavel global:\n",
    "a = 5\n",
    "\n",
    "def alteraValor():\n",
    "    # dizemos para a função que a variável 'a' é global:\n",
    "    global a \n",
    "    a = 7\n",
    "    print(\"Dentro da função 'a' vale: \",a)\n",
    "    \n",
    "print(\"'a' antes da chamada da função: \",a)\n",
    "alteraValor()\n",
    "print(\"'a' depois da chamada da função: \",a)   "
   ]
  },
  {
   "cell_type": "markdown",
   "metadata": {},
   "source": [
    "### Funções parâmetros opcionais\n",
    "\n",
    "* Podemos ainda criar funções que podem ou não receber argumentos\n",
    "\n",
    "Exemplo :\n",
    "\n",
    "```python\n",
    "                            def soma(a = 1, b = 1):\n",
    "                            print(a+b)\n",
    "Chamada sem argumento: ---->soma()\n",
    "Neste caso, soma assume     soma(2,3)<---- Chamada com argumento:\n",
    "valores 1 para a e b                       Neste caso,soma assume\n",
    "                                           valores 2 para a e 3 \n",
    "                                           para b\n",
    "\n",
    "\n",
    "```"
   ]
  },
  {
   "cell_type": "code",
   "execution_count": 22,
   "metadata": {},
   "outputs": [
    {
     "name": "stdout",
     "output_type": "stream",
     "text": [
      "2\n",
      "5\n"
     ]
    }
   ],
   "source": [
    "def soma(a = 1, b = 1):\n",
    "    print(a+b)\n",
    "soma()\n",
    "soma(2,3)"
   ]
  },
  {
   "cell_type": "markdown",
   "metadata": {},
   "source": [
    "### Funções - Vários parâmetros\n",
    "* Podemos ainda criar funções que podem receber diversos argumentos, sem\n",
    "um tamanho limite, para isso usamos `*<variavel>`, conhecido com `*args`,\n",
    "nesse caso gera uma lista\n",
    "\n",
    "Exemplo: "
   ]
  },
  {
   "cell_type": "code",
   "execution_count": 23,
   "metadata": {},
   "outputs": [
    {
     "name": "stdout",
     "output_type": "stream",
     "text": [
      "args é (0, 'um', 2.0)\n"
     ]
    }
   ],
   "source": [
    "def func(*args):\n",
    "    print(\"args é\",args)\n",
    "\n",
    "func(0,'um',2.0)"
   ]
  },
  {
   "cell_type": "markdown",
   "metadata": {},
   "source": [
    "* Podemos ainda criar funções que podem receber diversos argumentos, sem\n",
    "um tamanho limite, para isso usamos `**<variavel>`, conhecido com\n",
    "`**kwargs` , nesse caso gera um __dicionário__ (Veremos dicionarios em outra aula)"
   ]
  },
  {
   "cell_type": "code",
   "execution_count": 24,
   "metadata": {},
   "outputs": [
    {
     "name": "stdout",
     "output_type": "stream",
     "text": [
      "kwargs é {'x': 0, 'y': 1, 'z': 2}\n"
     ]
    }
   ],
   "source": [
    "def func(**kwargs):\n",
    "    print(\"kwargs é\",kwargs)\n",
    "func(x=0,y=1,z=2)"
   ]
  },
  {
   "cell_type": "markdown",
   "metadata": {},
   "source": [
    "### Funções - DocString\n",
    "* `Docstring` é um texto colocado na primeira linha da função para explicar o\n",
    "que a função faz: o que são os parâmetros de entradas, quais são os valores\n",
    "padrão da função; o que a função retorna.\n",
    "\n",
    "--- Imagine que voce criou um modulo e precisa compartilhar com alguem. Com o DocString tu pode descrever o que essa função faz atraves deste dois metodos `<nome da função>.__doc__` que vai mostrar o que esta nas aspas triplas, ou pelo `Help` que é uma função generica para saber o que as funções fazem. Se quiser escreva no prompt `help(print()) `"
   ]
  },
  {
   "cell_type": "code",
   "execution_count": 25,
   "metadata": {},
   "outputs": [
    {
     "name": "stdout",
     "output_type": "stream",
     "text": [
      "Função que retorna a soma de a e b return a+b\n"
     ]
    }
   ],
   "source": [
    "def soma(a,b):\n",
    "    \"\"\"Função que retorna a soma de a e b return a+b\"\"\"\n",
    "    return a+b\n",
    "print(soma.__doc__)    "
   ]
  },
  {
   "cell_type": "code",
   "execution_count": 26,
   "metadata": {},
   "outputs": [
    {
     "name": "stdout",
     "output_type": "stream",
     "text": [
      "Help on function soma in module __main__:\n",
      "\n",
      "soma(a, b)\n",
      "    Função que retorna a soma de a e b return a+b\n",
      "\n"
     ]
    }
   ],
   "source": [
    "def soma(a,b):\n",
    "    \"\"\"Função que retorna a soma de a e b return a+b\"\"\"\n",
    "    return a+b\n",
    "help(soma)    "
   ]
  },
  {
   "cell_type": "markdown",
   "metadata": {},
   "source": [
    "### Funções - Lambda\n",
    "* No Python, podemos criar funções simples em somente uma linha.\n",
    "\n",
    "* Estas funções, ou expressões, são chamadas de lambda\n",
    "\n",
    "Sintaxe:\n",
    "```python \n",
    "    lambda argumento : expressão\n",
    "```\n",
    "* Exemplo : função lambda que recebe um parâmetro x e retorna o quadrado\n",
    "deste número."
   ]
  },
  {
   "cell_type": "code",
   "execution_count": 27,
   "metadata": {},
   "outputs": [
    {
     "name": "stdout",
     "output_type": "stream",
     "text": [
      "9\n"
     ]
    }
   ],
   "source": [
    "a = lambda x: x**2\n",
    "print(a(3))"
   ]
  },
  {
   "cell_type": "markdown",
   "metadata": {},
   "source": [
    "Exemplo : Função lambda que calcula o aumento, dado o valor\n",
    "inicial e a porcentagem de aumento:\n"
   ]
  },
  {
   "cell_type": "code",
   "execution_count": 28,
   "metadata": {},
   "outputs": [
    {
     "data": {
      "text/plain": [
       "5.0"
      ]
     },
     "execution_count": 28,
     "metadata": {},
     "output_type": "execute_result"
    }
   ],
   "source": [
    "aumento = lambda a,b: a*b/100\n",
    "aumento(100,5)"
   ]
  },
  {
   "cell_type": "markdown",
   "metadata": {},
   "source": [
    "### Função Callback\n",
    "\n",
    "* Uma função callback é uma função passada a outra função como\n",
    "argumento, que é então invocado dentro da função externa para\n",
    "completar algum tipo de rotina ou ação.\n",
    "\n",
    "Exemplo: "
   ]
  },
  {
   "cell_type": "code",
   "execution_count": 29,
   "metadata": {},
   "outputs": [
    {
     "name": "stdout",
     "output_type": "stream",
     "text": [
      "O resultado é:  10\n"
     ]
    }
   ],
   "source": [
    "def f_callback(x):\n",
    "    return x*2+4\n",
    "def f2(x, callback):\n",
    "    return f\"O resultado é:  { callback(x) }\"\n",
    "r=f2(3,f_callback)\n",
    "print(r)        "
   ]
  },
  {
   "cell_type": "markdown",
   "metadata": {},
   "source": [
    "### Funções Recursivas\n",
    "* Uma função recursiva é uma função que se refere a si própria.\n",
    "\n",
    "    * A ideia consiste em utilizar a própria função que estamos a definir na sua\n",
    "definição.\n",
    "\n",
    "* A execução de uma função recursiva consiste em ir resolvendo\n",
    "subproblemas sucessivamente mais simples até se atingir o caso mais\n",
    "simples de todos, cujo resultado é imediato.\n",
    "\n",
    "Em todas as funções recursivas existe:\n",
    "\n",
    "* Um passo básico (ou mais) cujo resultado é imediatamente conhecido.\n",
    "\n",
    "* Um passo recursivo em que se tenta resolver um sub problema do problema\n",
    "inicial.\n",
    "\n",
    "Geralmente, uma função recursiva só funciona se tiver uma\n",
    "expressão condicional.\n",
    "\n",
    "Desta forma, o padrão mais comum para escrever uma função\n",
    "recursiva é:\n",
    "\n",
    "* Começar por testar os casos mais simples.\n",
    "\n",
    "* Fazer chamada (ou chamadas) recursivas com subproblemas cada vez mais\n",
    "próximos dos casos mais simples.\n",
    "\n",
    "Como exemplo clássico, podemos citar a Função Fatorial, que pode\n",
    "ser declarada como a seguir:\n",
    "o\n",
    "$$x ! = x * (x-1) * (x-2) * ... * (3) * (2) * (1)$$\n"
   ]
  },
  {
   "cell_type": "code",
   "execution_count": 30,
   "metadata": {},
   "outputs": [
    {
     "name": "stdout",
     "output_type": "stream",
     "text": [
      "120\n"
     ]
    }
   ],
   "source": [
    "def fatorial(n):\n",
    "    if n == 0 or n == 1:\n",
    "        return 1\n",
    "    else:\n",
    "        return n * fatorial(n-1)    \n",
    "print(fatorial(5))        "
   ]
  }
 ],
 "metadata": {
  "interpreter": {
   "hash": "4badd61a3eb0a98b49024dc08b6e569de2eac3230396ff1e691db44e3b600cf6"
  },
  "kernelspec": {
   "display_name": "Python 3.9.9 64-bit",
   "language": "python",
   "name": "python3"
  },
  "language_info": {
   "codemirror_mode": {
    "name": "ipython",
    "version": 3
   },
   "file_extension": ".py",
   "mimetype": "text/x-python",
   "name": "python",
   "nbconvert_exporter": "python",
   "pygments_lexer": "ipython3",
   "version": "3.9.9"
  },
  "orig_nbformat": 4
 },
 "nbformat": 4,
 "nbformat_minor": 2
}
