{
 "cells": [
  {
   "cell_type": "markdown",
   "metadata": {},
   "source": [
    "# Aula 07 - Dicionários"
   ]
  },
  {
   "cell_type": "markdown",
   "metadata": {},
   "source": [
    "Dicionários (em Python) são vetores associativos\n",
    "\n",
    "* Vetores associativos são coleções desordenadas de dados, usadas para\n",
    "armazenar valores como um mapa : por meio de elementos formados pelo\n",
    "par chave e valor\n",
    "\n",
    "* Assim, diferentemente das listas, que contém um único valor como elemento,\n",
    "o dicionário contém o par: chave: valor (`key:value`)\n",
    "\n",
    "    * Chave (`key`): serve para deixar o dicionário otimizado\n",
    "\n",
    "    * Valor (`value`): valor do elemento associado a uma chave\n",
    "\n",
    " Dicionários diferem das listas essencialmente na maneira como os elementos são acessados:\n",
    "\n",
    "   * Listas: valoressãoacessadospor suaposiçãodentro da lista, via índice\n",
    "   * Dicionários: valoressãoacessadospor meiode suaschaves(keys)"
   ]
  },
  {
   "cell_type": "markdown",
   "metadata": {},
   "source": [
    "Um dicionário em Python funciona de forma semelhante ao dicionário\n",
    "de palavras:\n",
    "* As chaves ( `keys` ) de um dicionário devem ser exclusivas e com o tipo de\n",
    "dados imutáveis, como strings, inteiros ou tuplas\n",
    "* Porém, os valores ( `values` ) associados às chaves podem ser repetidos e\n",
    "de qualquer tipo\n"
   ]
  },
  {
   "cell_type": "markdown",
   "metadata": {},
   "source": [
    "### Criação dos Dicionários\n",
    "\n",
    "* Para criarmosum dicionário, devemosincluirumasequênciade elementosdentro de chaves{ }, separadospor vírgula.\n",
    "* A chavee o valor são separados por dois pontos:\n",
    "* Cada elemento do dicionário é um par composto por chave (`key`) e valor (`value`).\n",
    "\n",
    "Sintaxe:\n",
    "```python\n",
    "    d = {\n",
    "        <key1>:<values1> ,\n",
    "        <key2>:<values2> ,\n",
    "        <key3>:<values3> ,\n",
    "        <key4>:<values4>\n",
    "    }\n",
    "```\n",
    "Exemplo:\n"
   ]
  },
  {
   "cell_type": "markdown",
   "metadata": {},
   "source": [
    "Dicionário com chave inteiras:"
   ]
  },
  {
   "cell_type": "code",
   "execution_count": 1,
   "metadata": {},
   "outputs": [
    {
     "name": "stdout",
     "output_type": "stream",
     "text": [
      "{1: 'Exemplo', 2: 'de', 3: 'dicionário'}\n"
     ]
    }
   ],
   "source": [
    "dicionario ={\n",
    "    1 : 'Exemplo',\n",
    "    2 : \"de\",\n",
    "    3 : 'dicionário'\n",
    "}\n",
    "print(dicionario)"
   ]
  },
  {
   "cell_type": "markdown",
   "metadata": {},
   "source": [
    "Dicionario com chaves de tipo Misto:"
   ]
  },
  {
   "cell_type": "code",
   "execution_count": 2,
   "metadata": {},
   "outputs": [
    {
     "name": "stdout",
     "output_type": "stream",
     "text": [
      "{'nome': 'Fulano', 5: 'cinco', 'lista': [1, 2, 3]}\n"
     ]
    }
   ],
   "source": [
    "teste ={\n",
    "    'nome':\"Fulano\",\n",
    "    5 : 'cinco',\n",
    "    'lista' :[1,2,3]\n",
    "}\n",
    "print(teste)"
   ]
  },
  {
   "cell_type": "markdown",
   "metadata": {},
   "source": [
    "### Acessando elementos\n",
    "* Os valores são acessados por meio de suas chaves\n",
    "* Utiliza-se o nome do dicionário e a chave dentro de colchetes [ ]"
   ]
  },
  {
   "cell_type": "code",
   "execution_count": 3,
   "metadata": {},
   "outputs": [
    {
     "data": {
      "text/plain": [
       "'one'"
      ]
     },
     "execution_count": 3,
     "metadata": {},
     "output_type": "execute_result"
    }
   ],
   "source": [
    "ingles ={\n",
    "    'um' : 'one',\n",
    "     2   : 'two',\n",
    "     '3' : 'three'\n",
    "}\n",
    "ingles['um']"
   ]
  },
  {
   "cell_type": "code",
   "execution_count": 4,
   "metadata": {},
   "outputs": [
    {
     "data": {
      "text/plain": [
       "'two'"
      ]
     },
     "execution_count": 4,
     "metadata": {},
     "output_type": "execute_result"
    }
   ],
   "source": [
    "ingles[2]"
   ]
  },
  {
   "cell_type": "code",
   "execution_count": 5,
   "metadata": {},
   "outputs": [
    {
     "data": {
      "text/plain": [
       "'three'"
      ]
     },
     "execution_count": 5,
     "metadata": {},
     "output_type": "execute_result"
    }
   ],
   "source": [
    "ingles['3']"
   ]
  },
  {
   "cell_type": "markdown",
   "metadata": {},
   "source": [
    "### Adicionando novos elementos\n",
    "* Para adicionar um novo elemento a um dicionário existente, basta atribuir o novo valor e especificar a chave dentro de colchetes\n",
    "```python\n",
    "    Dicionario [ chave ] = Valor\n",
    "```"
   ]
  },
  {
   "cell_type": "code",
   "execution_count": 6,
   "metadata": {},
   "outputs": [
    {
     "name": "stdout",
     "output_type": "stream",
     "text": [
      "{1: 'one', 2: 'two', 3: 'three', 4: 'Four'}\n"
     ]
    }
   ],
   "source": [
    "ingles_num ={\n",
    "    1 : 'one',\n",
    "    2 : 'two',\n",
    "    3 : 'three'\n",
    "}\n",
    "ingles_num[4] = 'Four'\n",
    "print(ingles_num)"
   ]
  },
  {
   "cell_type": "markdown",
   "metadata": {},
   "source": [
    "### Removendo elementos \n",
    "* Para remover um elementode um dicionário utilizamos a palavra-chave `del`\n",
    "\n",
    "Por chave:"
   ]
  },
  {
   "cell_type": "code",
   "execution_count": 7,
   "metadata": {},
   "outputs": [
    {
     "name": "stdout",
     "output_type": "stream",
     "text": [
      "{1: 'one', 3: 'three', 4: 'Four'}\n"
     ]
    }
   ],
   "source": [
    "del ingles_num[2]\n",
    "print(ingles_num)"
   ]
  },
  {
   "cell_type": "code",
   "execution_count": 8,
   "metadata": {},
   "outputs": [
    {
     "name": "stdout",
     "output_type": "stream",
     "text": [
      "{'dois': 'two', 'tres': 'three'}\n"
     ]
    }
   ],
   "source": [
    "ingles_num ={\n",
    "    'um'    : 'one',\n",
    "    'dois'  : 'two',\n",
    "    'tres'  : 'three'\n",
    "}\n",
    "del ingles_num['um']\n",
    "print(ingles_num)"
   ]
  },
  {
   "cell_type": "markdown",
   "metadata": {},
   "source": [
    "# Alguns métodos"
   ]
  },
  {
   "cell_type": "markdown",
   "metadata": {},
   "source": [
    "`items()`: retorna todos os elementos do dicionário-pares `chave:valor`"
   ]
  },
  {
   "cell_type": "code",
   "execution_count": 9,
   "metadata": {},
   "outputs": [
    {
     "name": "stdout",
     "output_type": "stream",
     "text": [
      "[('um', '1'), ('dois', '2'), ('tres', '3'), ('quatro', '4')]\n"
     ]
    }
   ],
   "source": [
    "ordinalNum ={\n",
    "    'um'    : '1',\n",
    "    'dois'  : '2',\n",
    "    'tres'  : '3',\n",
    "    'quatro': '4'\n",
    "}\n",
    "d =ordinalNum.items()\n",
    "d = list(d)\n",
    "print(d)"
   ]
  },
  {
   "cell_type": "markdown",
   "metadata": {},
   "source": [
    "`keys()`: retorna todas as chaves do dicionário"
   ]
  },
  {
   "cell_type": "code",
   "execution_count": 10,
   "metadata": {},
   "outputs": [
    {
     "name": "stdout",
     "output_type": "stream",
     "text": [
      "['um', 'dois', 'tres', 'quatro']\n"
     ]
    }
   ],
   "source": [
    "d = ordinalNum.keys()\n",
    "d = list(d)\n",
    "print(d)"
   ]
  },
  {
   "cell_type": "markdown",
   "metadata": {},
   "source": [
    "`values()`: retorna todas valores do dicionário"
   ]
  },
  {
   "cell_type": "code",
   "execution_count": 11,
   "metadata": {},
   "outputs": [
    {
     "name": "stdout",
     "output_type": "stream",
     "text": [
      "['1', '2', '3', '4']\n"
     ]
    }
   ],
   "source": [
    "d = ordinalNum.values()\n",
    "d = list(d)\n",
    "print(d)"
   ]
  },
  {
   "cell_type": "markdown",
   "metadata": {},
   "source": [
    "### Mais alguns métodos"
   ]
  },
  {
   "cell_type": "markdown",
   "metadata": {},
   "source": [
    "<div align = 'center'>\n",
    "\n",
    "|    METODO    \t| DESCRIÇÃO                                                                                               \t|\n",
    "|:------------:\t|---------------------------------------------------------------------------------------------------------\t|\n",
    "|    clear()   \t| Remove todos os elementos do dicionário                                                                 \t|\n",
    "|    copy()    \t| Retorna uma cópia do dicionário                                                                         \t|\n",
    "|  fromkeys()  \t| Retorna um dicionário com as chaves e o valor especificados                                             \t|\n",
    "|     get()    \t| Retorna o valor da chave especificada                                                                   \t|\n",
    "|    items()   \t| Retorna uma lista contendo uma tupla para cada par de valores-chave                                     \t|\n",
    "|    keys()    \t| Retorna uma lista contendo as chaves do dicionário                                                      \t|\n",
    "|     pop()    \t| Remove o elemento com a chave especificada                                                              \t|\n",
    "|   popitem()  \t| Remove o último par de valores-chave inserido                                                           \t|\n",
    "| setdefault() \t| Retorna o valor da chave especificada. Se a chave não existir: insira a chave, com o valor especificado \t|\n",
    "|   update()   \t| Atualiza o dicionário com os pares de valores-chave especificados                                       \t|\n",
    "|   values()   \t| Retorna uma lista de todos os valores no dicionário                                                     \t|\n",
    "\n",
    "</div>"
   ]
  },
  {
   "cell_type": "markdown",
   "metadata": {},
   "source": [
    "Remove todos os itens do dicionário"
   ]
  },
  {
   "cell_type": "code",
   "execution_count": 12,
   "metadata": {},
   "outputs": [
    {
     "name": "stdout",
     "output_type": "stream",
     "text": [
      "{'brand': 'Ford', 'model': 'Mustang', 'year': 1964}\n"
     ]
    }
   ],
   "source": [
    "car = {\n",
    "    'brand':\"Ford\",\n",
    "    'model':'Mustang',\n",
    "    'year': 1964\n",
    "}\n",
    "car.clear\n",
    "print(car)"
   ]
  },
  {
   "cell_type": "code",
   "execution_count": 13,
   "metadata": {},
   "outputs": [
    {
     "name": "stdout",
     "output_type": "stream",
     "text": [
      "Mustang\n"
     ]
    }
   ],
   "source": [
    "car = {\n",
    "    'brand':\"Ford\",\n",
    "    'model':'Mustang',\n",
    "    'year': 1964\n",
    "}\n",
    "x = car.setdefault(\"model\",\"Bronco\")\n",
    "print(x)"
   ]
  },
  {
   "cell_type": "markdown",
   "metadata": {},
   "source": [
    "Retorna um dicionário com as chaves contendo o valor de y"
   ]
  },
  {
   "cell_type": "code",
   "execution_count": 14,
   "metadata": {},
   "outputs": [
    {
     "name": "stdout",
     "output_type": "stream",
     "text": [
      "{'keys1': 0, 'keys2': 0, 'keys3': 0}\n"
     ]
    }
   ],
   "source": [
    "x = ['keys1','keys2','keys3']\n",
    "y = 0\n",
    "thisdict = dict.fromkeys(x,y)\n",
    "print(thisdict)"
   ]
  },
  {
   "cell_type": "markdown",
   "metadata": {},
   "source": [
    "Atualiza ou insere um item no dicionário"
   ]
  },
  {
   "cell_type": "code",
   "execution_count": 15,
   "metadata": {},
   "outputs": [
    {
     "name": "stdout",
     "output_type": "stream",
     "text": [
      "{'brand': 'Ford', 'model': 'Mustang', 'year': 1964, 'color': 'White'}\n"
     ]
    }
   ],
   "source": [
    "car = {\n",
    "    'brand':\"Ford\",\n",
    "    'model':'Mustang',\n",
    "    'year': 1964\n",
    "}\n",
    "car.update({\"color\":\"White\"})\n",
    "print(car)"
   ]
  },
  {
   "cell_type": "markdown",
   "metadata": {},
   "source": [
    "### Existência\n",
    "Para determinar se uma chave especifica está presente em um\n",
    "dicionário use a palavra chave `in`\n",
    "\n",
    "Exemplo:"
   ]
  },
  {
   "cell_type": "code",
   "execution_count": 16,
   "metadata": {},
   "outputs": [
    {
     "name": "stdout",
     "output_type": "stream",
     "text": [
      "Sim,\"dois\" é uma das chaves do dicionário \n"
     ]
    }
   ],
   "source": [
    "dicionario = {\n",
    "    'um':'exemplo',\n",
    "    'dois':'de',\n",
    "    'tres':'dicionario'\n",
    "}\n",
    "if 'dois' in dicionario:\n",
    "    print('Sim,\"dois\" é uma das chaves do dicionário ')"
   ]
  },
  {
   "cell_type": "markdown",
   "metadata": {},
   "source": [
    "Exemplo\n",
    "\n",
    "Crie um programa que imprime os caracteres únicos com as respectivas\n",
    "quantidades em uma string recebida como parâmetros, imprima um\n",
    "dicionário, sendo os keys as letras e os values as quantidades."
   ]
  },
  {
   "cell_type": "code",
   "execution_count": 17,
   "metadata": {},
   "outputs": [
    {
     "name": "stdout",
     "output_type": "stream",
     "text": [
      "{'H': 1, 'e': 3, 'l': 2, 'o': 1, ' ': 1, 'T': 1, 'h': 1, 'r': 1}\n",
      "8 caractericas únicas\n"
     ]
    }
   ],
   "source": [
    "letras = {}\n",
    "texto = input(\"Insira um texto qualquer: \")\n",
    "\n",
    "for x in texto:\n",
    "    if x in letras:\n",
    "        letras[x] += 1\n",
    "    else:\n",
    "        letras[x] = 1\n",
    "\n",
    "print(letras)\n",
    "print(\"%d caractericas únicas\" %len(letras))    "
   ]
  },
  {
   "cell_type": "markdown",
   "metadata": {},
   "source": [
    "### Desempacotamento\n",
    "Desempacotar é um operação que consiste em atribuir em\n",
    "uma única variável valores estruturados em listas, tuplas, etc.\n",
    "\n",
    "Exemplo:"
   ]
  },
  {
   "cell_type": "code",
   "execution_count": 10,
   "metadata": {},
   "outputs": [
    {
     "name": "stdout",
     "output_type": "stream",
     "text": [
      "10\n",
      "20\n",
      "30\n"
     ]
    }
   ],
   "source": [
    "a, b ,c = [10,20,30]\n",
    "print(a)\n",
    "print(b)\n",
    "print(c)"
   ]
  },
  {
   "cell_type": "code",
   "execution_count": 11,
   "metadata": {},
   "outputs": [
    {
     "name": "stdout",
     "output_type": "stream",
     "text": [
      "40\n",
      "50\n",
      "60\n"
     ]
    }
   ],
   "source": [
    "\n",
    "d, e, f = (40,50,60)\n",
    "print(d)\n",
    "print(e)\n",
    "print(f)"
   ]
  },
  {
   "cell_type": "code",
   "execution_count": 12,
   "metadata": {},
   "outputs": [
    {
     "name": "stdout",
     "output_type": "stream",
     "text": [
      "L\n",
      "U\n",
      "A\n"
     ]
    }
   ],
   "source": [
    "\n",
    "g, h ,i = \"LUA\"\n",
    "print(g)\n",
    "print(h)\n",
    "print(i)\n"
   ]
  },
  {
   "cell_type": "code",
   "execution_count": 13,
   "metadata": {},
   "outputs": [
    {
     "name": "stdout",
     "output_type": "stream",
     "text": [
      "80\n",
      "90\n",
      "70\n"
     ]
    }
   ],
   "source": [
    "j, k ,l = {70,80,90}\n",
    "print(j)\n",
    "print(k)\n",
    "print(l)\n"
   ]
  },
  {
   "cell_type": "markdown",
   "metadata": {},
   "source": [
    "Você pode usar o operador para vários valores em uma única variável."
   ]
  },
  {
   "cell_type": "code",
   "execution_count": 17,
   "metadata": {},
   "outputs": [
    {
     "name": "stdout",
     "output_type": "stream",
     "text": [
      "10\n",
      "20\n",
      "[30, 40, 50]\n",
      "60\n"
     ]
    }
   ],
   "source": [
    "a,b,*c,d = [10,20,30,40,50,60]\n",
    "print(a)\n",
    "print(b)\n",
    "print(c)\n",
    "print(d)"
   ]
  },
  {
   "cell_type": "markdown",
   "metadata": {},
   "source": [
    "Você pode ignorar valores usando o como variável o sublinhado."
   ]
  },
  {
   "cell_type": "code",
   "execution_count": 19,
   "metadata": {},
   "outputs": [
    {
     "name": "stdout",
     "output_type": "stream",
     "text": [
      "10\n",
      "20\n"
     ]
    }
   ],
   "source": [
    "a, b, _ =[10,20,30]\n",
    "print(a)\n",
    "print(b)"
   ]
  },
  {
   "cell_type": "markdown",
   "metadata": {},
   "source": [
    "Também é possivel fazer isso com dicionários:"
   ]
  },
  {
   "cell_type": "code",
   "execution_count": 15,
   "metadata": {},
   "outputs": [
    {
     "name": "stdout",
     "output_type": "stream",
     "text": [
      "chave01\n",
      "chave02\n",
      "chave03\n",
      "('chave01', 10)\n",
      "('chave02', 20)\n",
      "('chave03', 30)\n"
     ]
    }
   ],
   "source": [
    "dicionario = {\n",
    "    'chave01':10,\n",
    "    'chave02':20,       \n",
    "    'chave03':30 \n",
    "}\n",
    "a,b,c = dicionario\n",
    "print(a)\n",
    "print(b)\n",
    "print(c)\n",
    "d,e,f = dicionario.items()\n",
    "print(d)\n",
    "print(e)\n",
    "print(f)"
   ]
  },
  {
   "cell_type": "markdown",
   "metadata": {},
   "source": [
    "### Dicionário de Funções\n",
    "É possível usar um dicionário para guardar funções a serem executadas."
   ]
  },
  {
   "cell_type": "code",
   "execution_count": 18,
   "metadata": {},
   "outputs": [
    {
     "name": "stdout",
     "output_type": "stream",
     "text": [
      "7\n",
      "-3\n",
      "10\n",
      "0.4\n",
      "erro\n"
     ]
    }
   ],
   "source": [
    "d ={\n",
    "    '+': lambda x,y : x+y,\n",
    "    '-': lambda x,y : x-y,\n",
    "    '*': lambda x,y : x*y,\n",
    "    '/': lambda x,y : x/y\n",
    "}\n",
    "op1 = '+'\n",
    "op2 = '-'\n",
    "op3 = '*'\n",
    "op4 = '/'\n",
    "\n",
    "num1 = 2\n",
    "num2 = 5\n",
    "\n",
    "try:\n",
    "    print(d[op1](num1,num2))\n",
    "    print(d[op2](num1,num2))\n",
    "    print(d[op3](num1,num2))\n",
    "    print(d[op4](num1,num2))\n",
    "    print(d[op5](num1,num2))\n",
    "except:\n",
    "    print(\"erro\")    "
   ]
  },
  {
   "cell_type": "markdown",
   "metadata": {},
   "source": [
    "### Dicionários e Arquivos\n",
    "* Dicionários são muito interessante para armazenar dados de maneira organizada no Python.\n",
    "\n",
    "* Mas:\n",
    "        * Ao terminar o programa, o dicionário desaparece.\n",
    "\n",
    "* Solução:\n",
    "    * Salvar o dicionário em um arquivo.\n",
    "    * Diversas maneiras:        \n",
    "        * String, JSON, Numpy, Pandas..."
   ]
  },
  {
   "cell_type": "markdown",
   "metadata": {},
   "source": [
    "### Salvando um Dicionário em um arquivo texto\n"
   ]
  },
  {
   "cell_type": "code",
   "execution_count": 19,
   "metadata": {},
   "outputs": [
    {
     "name": "stdout",
     "output_type": "stream",
     "text": [
      "{1: 'Exemplo', 2: 'De', 3: 'Dicionario'}\n",
      "{1: 'Exemplo', 2: 'De', 3: 'Dicionario', '4': 'Novo'}\n"
     ]
    }
   ],
   "source": [
    "def save_dict_to_file(dic):\n",
    "    f = open('dict.txt','w')\n",
    "    f.write(str(dic))\n",
    "    f.close()\n",
    "def load_dict_from_file():\n",
    "    f = open('dict.txt','r')\n",
    "    data = f.read()\n",
    "    f.close()\n",
    "    return eval(data)    \n",
    "\n",
    "dicionario = {\n",
    "    1: 'Exemplo',\n",
    "    2: 'De',\n",
    "    3: 'Dicionario'\n",
    "}\n",
    "print(dicionario)\n",
    "save_dict_to_file(dicionario)\n",
    "dic2 = load_dict_from_file()\n",
    "dic2.update({\"4\":\"Novo\"})\n",
    "print(dic2)"
   ]
  },
  {
   "cell_type": "markdown",
   "metadata": {},
   "source": [
    "# inlinefor loop\n",
    "Adicionando elementos usando for inline\n",
    "* Podemos criar uma lista usando for inline."
   ]
  },
  {
   "cell_type": "code",
   "execution_count": 20,
   "metadata": {},
   "outputs": [
    {
     "name": "stdout",
     "output_type": "stream",
     "text": [
      "{'chave0': 0, 'chave1': 2, 'chave2': 4, 'chave3': 6}\n"
     ]
    }
   ],
   "source": [
    "d = {f'chave{n}': n*2 for n in range(4)}\n",
    "print(d)"
   ]
  },
  {
   "cell_type": "markdown",
   "metadata": {},
   "source": [
    "# Tuplas"
   ]
  },
  {
   "cell_type": "markdown",
   "metadata": {},
   "source": [
    "* Tuplas são similares às listas, porém são imutáveis!\n",
    "* Tuplas não permitem adicionar, apagar, inserir ou modificar elementos\n",
    "* Tuplas são definidas com parêntesis ( ); Listas com colchetes [ ]\n",
    "\n",
    "Exemplo:"
   ]
  },
  {
   "cell_type": "code",
   "execution_count": 21,
   "metadata": {},
   "outputs": [
    {
     "name": "stdout",
     "output_type": "stream",
     "text": [
      "(2, 4, 5, 'tupla')\n",
      "4\n"
     ]
    }
   ],
   "source": [
    "b = (2,4,5,'tupla')\n",
    "print(b)\n",
    "print(b[1])"
   ]
  },
  {
   "cell_type": "markdown",
   "metadata": {},
   "source": [
    "Tuplas são imutáveis"
   ]
  },
  {
   "cell_type": "code",
   "execution_count": 22,
   "metadata": {},
   "outputs": [
    {
     "ename": "TypeError",
     "evalue": "'tuple' object does not support item assignment",
     "output_type": "error",
     "traceback": [
      "\u001b[1;31m---------------------------------------------------------------------------\u001b[0m",
      "\u001b[1;31mTypeError\u001b[0m                                 Traceback (most recent call last)",
      "\u001b[1;32m~\\AppData\\Local\\Temp/ipykernel_19208/2856938990.py\u001b[0m in \u001b[0;36m<module>\u001b[1;34m\u001b[0m\n\u001b[1;32m----> 1\u001b[1;33m \u001b[0mb\u001b[0m\u001b[1;33m[\u001b[0m\u001b[1;36m1\u001b[0m\u001b[1;33m]\u001b[0m \u001b[1;33m=\u001b[0m \u001b[1;36m8\u001b[0m\u001b[1;33m\u001b[0m\u001b[1;33m\u001b[0m\u001b[0m\n\u001b[0m",
      "\u001b[1;31mTypeError\u001b[0m: 'tuple' object does not support item assignment"
     ]
    }
   ],
   "source": [
    "b[1] = 8"
   ]
  },
  {
   "cell_type": "markdown",
   "metadata": {},
   "source": [
    "# Conjuntos ou Sets"
   ]
  },
  {
   "cell_type": "markdown",
   "metadata": {},
   "source": [
    "* Um conjunto é uma coleção de valores distintos:\n",
    "* Pode-se implementar conjuntos de diversas formas:\n",
    "    * Uma lista de valores:\n",
    "        * É necessário tomar o cuidado para evitar valores duplicados.\n",
    "    * Um dicionário:    \n",
    "        * As chaves de um dicionáriosãonecessariamente únicas.\n",
    "        * O valor associado a cada chave pode ser qualquer um.\n",
    "    * Existe em Python um tipo primitivo que implementa conjuntos.\n",
    "        * Mais apropriado do que o uso de listas ou dicionários"
   ]
  },
  {
   "cell_type": "markdown",
   "metadata": {},
   "source": [
    "O tipo set\n",
    "* Pode-se construir um conjunto usando a construção:\n",
    "    `set(sequencia)`\n",
    "* Onde `sequência` é uma sequencia qualquer, como uma lista, uma tuplaou uma string.    \n",
    "    * Caso seja uma lista, os elementos devem ser imutáveis\n",
    "Exemplo:    "
   ]
  },
  {
   "cell_type": "code",
   "execution_count": 23,
   "metadata": {},
   "outputs": [
    {
     "name": "stdout",
     "output_type": "stream",
     "text": [
      "{1, 2, 3}\n",
      "{1, 2, 3}\n",
      "{1, 2, 3}\n",
      "{'x', 'b', 'a', 'c'}\n"
     ]
    }
   ],
   "source": [
    "    mySet1 = set((1,2,3))\n",
    "    mySet2 = set([1,2,3])\n",
    "    mySet3 = {1,2,3}\n",
    "    mySet4 = set('xxabc')\n",
    "\n",
    "    print(mySet1)\n",
    "    print(mySet2)\n",
    "    print(mySet3)\n",
    "    print(mySet4)"
   ]
  },
  {
   "cell_type": "code",
   "execution_count": 25,
   "metadata": {},
   "outputs": [
    {
     "ename": "TypeError",
     "evalue": "unhashable type: 'list'",
     "output_type": "error",
     "traceback": [
      "\u001b[1;31m---------------------------------------------------------------------------\u001b[0m",
      "\u001b[1;31mTypeError\u001b[0m                                 Traceback (most recent call last)",
      "\u001b[1;32m~\\AppData\\Local\\Temp/ipykernel_19208/3309335558.py\u001b[0m in \u001b[0;36m<module>\u001b[1;34m\u001b[0m\n\u001b[1;32m----> 1\u001b[1;33m \u001b[0mmySet6\u001b[0m \u001b[1;33m=\u001b[0m \u001b[0mset\u001b[0m\u001b[1;33m(\u001b[0m\u001b[1;33m[\u001b[0m\u001b[1;36m1\u001b[0m\u001b[1;33m,\u001b[0m\u001b[1;33m[\u001b[0m\u001b[1;36m2\u001b[0m\u001b[1;33m,\u001b[0m\u001b[1;36m3\u001b[0m\u001b[1;33m]\u001b[0m\u001b[1;33m,\u001b[0m\u001b[1;36m3\u001b[0m\u001b[1;33m,\u001b[0m\u001b[1;36m4\u001b[0m\u001b[1;33m]\u001b[0m\u001b[1;33m)\u001b[0m\u001b[1;33m\u001b[0m\u001b[1;33m\u001b[0m\u001b[0m\n\u001b[0m\u001b[0;32m      2\u001b[0m \u001b[0mprint\u001b[0m\u001b[1;33m(\u001b[0m\u001b[0mmySet6\u001b[0m\u001b[1;33m)\u001b[0m\u001b[1;33m\u001b[0m\u001b[1;33m\u001b[0m\u001b[0m\n",
      "\u001b[1;31mTypeError\u001b[0m: unhashable type: 'list'"
     ]
    }
   ],
   "source": [
    "mySet6 = set([1,[2,3],3,4])\n",
    "print(mySet6)"
   ]
  },
  {
   "cell_type": "markdown",
   "metadata": {},
   "source": [
    "Um conjunto éuma coleção de valores distintos:\n",
    "* Os valores não se repetem."
   ]
  },
  {
   "cell_type": "code",
   "execution_count": 32,
   "metadata": {},
   "outputs": [
    {
     "name": "stdout",
     "output_type": "stream",
     "text": [
      "{1, 2, 3, 100, 5, 6, 8}\n",
      "{'x', 'b', 'a', 'c'}\n"
     ]
    }
   ],
   "source": [
    "mySet7 = {1,2,2,2,2,5,6,100,8,3,3,3}\n",
    "mySet8 = set('abcxxxxcba')\n",
    "print(mySet7)\n",
    "print(mySet8)"
   ]
  },
  {
   "cell_type": "markdown",
   "metadata": {},
   "source": [
    "### Ireraçãonos conjuntos\n",
    "Pode-se tambémusar o comando for com sets\n",
    "\n",
    "Observeque a iteração não necessariamente visita os elementos na mesma ordem em que eles foram inseridos no conjunto:"
   ]
  },
  {
   "cell_type": "code",
   "execution_count": 1,
   "metadata": {},
   "outputs": [
    {
     "name": "stdout",
     "output_type": "stream",
     "text": [
      "1\n",
      "2\n",
      "100\n",
      "a\n",
      "9\n"
     ]
    }
   ],
   "source": [
    "s = set([1,2,9,100,\"a\"])\n",
    "for x in s:\n",
    "    print(x)"
   ]
  },
  {
   "cell_type": "markdown",
   "metadata": {},
   "source": [
    "### Por que a ordem muda?\n",
    "* Um conjunto é uma estrutura de dados otimizada para operações de conjunto.\n",
    "* Como um conjunto matemático, ele não impõe ou mantém qualquer ordem particular dos elementos.\n",
    "    * O conceito abstrato de um conjunto não impõe ordem, então a implementação não é necessária. \n",
    "* Quando você cria um conjunto a partir de uma lista, o Python tem a liberdade de alterar a ordem dos elementos, organizando de uma forma altamente otimizada, assim realizando as operações de conjunto com eficiência.    "
   ]
  },
  {
   "cell_type": "markdown",
   "metadata": {},
   "source": [
    "# Exceções"
   ]
  },
  {
   "cell_type": "markdown",
   "metadata": {},
   "source": [
    "* Erros detectados durante a execução são chamados exceçõese não são necessariamente fatais.\n",
    "\n",
    "A maioria das exceções não são tratadas pelos programas e acabam resultando em mensagens de erro:"
   ]
  },
  {
   "cell_type": "code",
   "execution_count": 2,
   "metadata": {},
   "outputs": [
    {
     "ename": "ZeroDivisionError",
     "evalue": "division by zero",
     "output_type": "error",
     "traceback": [
      "\u001b[1;31m---------------------------------------------------------------------------\u001b[0m",
      "\u001b[1;31mZeroDivisionError\u001b[0m                         Traceback (most recent call last)",
      "\u001b[1;32m~\\AppData\\Local\\Temp/ipykernel_22636/3543432582.py\u001b[0m in \u001b[0;36m<module>\u001b[1;34m\u001b[0m\n\u001b[0;32m      1\u001b[0m \u001b[0ma\u001b[0m \u001b[1;33m=\u001b[0m \u001b[1;36m5\u001b[0m\u001b[1;33m\u001b[0m\u001b[1;33m\u001b[0m\u001b[0m\n\u001b[0;32m      2\u001b[0m \u001b[0mb\u001b[0m \u001b[1;33m=\u001b[0m \u001b[1;36m0\u001b[0m\u001b[1;33m\u001b[0m\u001b[1;33m\u001b[0m\u001b[0m\n\u001b[1;32m----> 3\u001b[1;33m \u001b[0mprint\u001b[0m\u001b[1;33m(\u001b[0m\u001b[0ma\u001b[0m\u001b[1;33m/\u001b[0m\u001b[0mb\u001b[0m\u001b[1;33m)\u001b[0m\u001b[1;33m\u001b[0m\u001b[1;33m\u001b[0m\u001b[0m\n\u001b[0m",
      "\u001b[1;31mZeroDivisionError\u001b[0m: division by zero"
     ]
    }
   ],
   "source": [
    "a = 5\n",
    "b = 0\n",
    "print(a/b)"
   ]
  },
  {
   "cell_type": "markdown",
   "metadata": {},
   "source": [
    "### Tratamento de exceções\n",
    "* É possível escrever programas que tratam exceções específicas.\n",
    "* Para tratar uma exceção usamos o` try` e `except.`\n",
    "\n",
    "Sintaxe:\n",
    "```python\n",
    "    try:\n",
    "        bloco a ser execultado\n",
    "    except<exception>:\n",
    "        bloco de tratar o erro.     \n",
    "```\n",
    "* No exceptdevemos definir qual exceção queremos tratar `<exception>.`\n",
    "\n",
    "É importante tratar as exceções para evitar a interrupçãodo programa.\n",
    "\n",
    " As exceções podem ser tratadas durante a execução do programa, evitando que o programa pare de funcionar por causa dos erros.\n",
    "\n",
    "Exemplo:\n",
    "\n"
   ]
  },
  {
   "cell_type": "code",
   "execution_count": 3,
   "metadata": {},
   "outputs": [
    {
     "name": "stdout",
     "output_type": "stream",
     "text": [
      "Erro Matematico - Divisão por zero\n"
     ]
    }
   ],
   "source": [
    "try:\n",
    "    a = 5\n",
    "    b = 0\n",
    "    c = a/b\n",
    "    print(c)\n",
    "except ZeroDivisionError:\n",
    "    print(\"Erro Matematico - Divisão por zero\")    "
   ]
  },
  {
   "cell_type": "markdown",
   "metadata": {},
   "source": [
    "Mas é possivel existir outros tipos de erro que impedem o funcionamento do código\n"
   ]
  },
  {
   "cell_type": "code",
   "execution_count": 5,
   "metadata": {},
   "outputs": [
    {
     "ename": "ValueError",
     "evalue": "invalid literal for int() with base 10: 'e'",
     "output_type": "error",
     "traceback": [
      "\u001b[1;31m---------------------------------------------------------------------------\u001b[0m",
      "\u001b[1;31mValueError\u001b[0m                                Traceback (most recent call last)",
      "\u001b[1;32m~\\AppData\\Local\\Temp/ipykernel_22636/356196516.py\u001b[0m in \u001b[0;36m<module>\u001b[1;34m\u001b[0m\n\u001b[0;32m      1\u001b[0m \u001b[1;32mtry\u001b[0m\u001b[1;33m:\u001b[0m\u001b[1;33m\u001b[0m\u001b[1;33m\u001b[0m\u001b[0m\n\u001b[0;32m      2\u001b[0m     \u001b[0ma\u001b[0m \u001b[1;33m=\u001b[0m \u001b[0mint\u001b[0m\u001b[1;33m(\u001b[0m\u001b[0minput\u001b[0m\u001b[1;33m(\u001b[0m\u001b[1;34m\"Entre com um numero\"\u001b[0m\u001b[1;33m)\u001b[0m\u001b[1;33m)\u001b[0m\u001b[1;33m\u001b[0m\u001b[1;33m\u001b[0m\u001b[0m\n\u001b[1;32m----> 3\u001b[1;33m     \u001b[0mb\u001b[0m \u001b[1;33m=\u001b[0m \u001b[0mint\u001b[0m\u001b[1;33m(\u001b[0m\u001b[0minput\u001b[0m\u001b[1;33m(\u001b[0m\u001b[1;34m\"Entre com uma letra em uma variavel para numero\"\u001b[0m\u001b[1;33m)\u001b[0m\u001b[1;33m)\u001b[0m\u001b[1;33m\u001b[0m\u001b[1;33m\u001b[0m\u001b[0m\n\u001b[0m\u001b[0;32m      4\u001b[0m     \u001b[0mc\u001b[0m \u001b[1;33m=\u001b[0m \u001b[0ma\u001b[0m\u001b[1;33m/\u001b[0m\u001b[0mb\u001b[0m\u001b[1;33m\u001b[0m\u001b[1;33m\u001b[0m\u001b[0m\n\u001b[0;32m      5\u001b[0m     \u001b[0mprint\u001b[0m\u001b[1;33m(\u001b[0m\u001b[0mc\u001b[0m\u001b[1;33m)\u001b[0m\u001b[1;33m\u001b[0m\u001b[1;33m\u001b[0m\u001b[0m\n",
      "\u001b[1;31mValueError\u001b[0m: invalid literal for int() with base 10: 'e'"
     ]
    }
   ],
   "source": [
    "try:\n",
    "    a = int(input(\"Entre com um numero\"))\n",
    "    b = int(input(\"Entre com uma letra em uma variavel para numero\"))\n",
    "    c = a/b\n",
    "    print(c)\n",
    "except ZeroDivisionError:\n",
    "    print(\"Erro Matematico - Divisão por zero\")   "
   ]
  },
  {
   "cell_type": "markdown",
   "metadata": {},
   "source": [
    "Então tenha em mente que é possivel existir erros que não foram cogitados para o codigo"
   ]
  },
  {
   "cell_type": "code",
   "execution_count": 6,
   "metadata": {},
   "outputs": [
    {
     "name": "stdout",
     "output_type": "stream",
     "text": [
      "Ocorreu um erro\n"
     ]
    }
   ],
   "source": [
    "try:\n",
    "    a = int(input(\"Entre com um numero\"))\n",
    "    b = int(input(\"Entre com uma letra em uma variavel para numero\"))\n",
    "    c = a/b\n",
    "    print(c)\n",
    "except ZeroDivisionError:\n",
    "    print(\"Erro Matematico - Divisão por zero\")  \n",
    "except:\n",
    "    print(\"Ocorreu um erro\")    "
   ]
  },
  {
   "cell_type": "markdown",
   "metadata": {},
   "source": [
    "### Bloco finally\n",
    "Pode ser usado com o try except , mas é opcional.\n",
    "\n",
    "O trecho de código delimitado pelo `finally` será sempre executado.\n",
    "\n",
    "Sintaxe:\n",
    "```python\n",
    "    try:\n",
    "        trecho onde a exceção pode ocorrer\n",
    "    except <condição>:\n",
    "        codigo a execultar se a exceção ocorrer\n",
    "    finally:\n",
    "        codigo sempre executados, com ou sem exceção        \n",
    "```\n",
    "Mesmo que a exceção não tenha sido capturada, o bloco `finally` será executado."
   ]
  },
  {
   "cell_type": "code",
   "execution_count": 7,
   "metadata": {},
   "outputs": [
    {
     "name": "stdout",
     "output_type": "stream",
     "text": [
      "Sempre Funciona\n"
     ]
    },
    {
     "ename": "ValueError",
     "evalue": "invalid literal for int() with base 10: 'a'",
     "output_type": "error",
     "traceback": [
      "\u001b[1;31m---------------------------------------------------------------------------\u001b[0m",
      "\u001b[1;31mValueError\u001b[0m                                Traceback (most recent call last)",
      "\u001b[1;32m~\\AppData\\Local\\Temp/ipykernel_22636/55347430.py\u001b[0m in \u001b[0;36m<module>\u001b[1;34m\u001b[0m\n\u001b[0;32m      1\u001b[0m \u001b[1;32mtry\u001b[0m\u001b[1;33m:\u001b[0m\u001b[1;33m\u001b[0m\u001b[1;33m\u001b[0m\u001b[0m\n\u001b[1;32m----> 2\u001b[1;33m     \u001b[0ma\u001b[0m \u001b[1;33m=\u001b[0m \u001b[0mint\u001b[0m\u001b[1;33m(\u001b[0m\u001b[0minput\u001b[0m\u001b[1;33m(\u001b[0m\u001b[1;34m\"Entre com um numero\"\u001b[0m\u001b[1;33m)\u001b[0m\u001b[1;33m)\u001b[0m\u001b[1;33m\u001b[0m\u001b[1;33m\u001b[0m\u001b[0m\n\u001b[0m\u001b[0;32m      3\u001b[0m     \u001b[0mb\u001b[0m \u001b[1;33m=\u001b[0m \u001b[0mint\u001b[0m\u001b[1;33m(\u001b[0m\u001b[0minput\u001b[0m\u001b[1;33m(\u001b[0m\u001b[1;34m\"Entre com uma letra em uma variavel para numero\"\u001b[0m\u001b[1;33m)\u001b[0m\u001b[1;33m)\u001b[0m\u001b[1;33m\u001b[0m\u001b[1;33m\u001b[0m\u001b[0m\n\u001b[0;32m      4\u001b[0m     \u001b[0mc\u001b[0m \u001b[1;33m=\u001b[0m \u001b[0ma\u001b[0m\u001b[1;33m/\u001b[0m\u001b[0mb\u001b[0m\u001b[1;33m\u001b[0m\u001b[1;33m\u001b[0m\u001b[0m\n\u001b[0;32m      5\u001b[0m     \u001b[0mprint\u001b[0m\u001b[1;33m(\u001b[0m\u001b[0mc\u001b[0m\u001b[1;33m)\u001b[0m\u001b[1;33m\u001b[0m\u001b[1;33m\u001b[0m\u001b[0m\n",
      "\u001b[1;31mValueError\u001b[0m: invalid literal for int() with base 10: 'a'"
     ]
    }
   ],
   "source": [
    "try:\n",
    "    a = int(input(\"Entre com um numero\"))\n",
    "    b = int(input(\"Entre com uma letra em uma variavel para numero\"))\n",
    "    c = a/b\n",
    "    print(c)\n",
    "except ZeroDivisionError:\n",
    "    print(\"Erro Matematico - Divisão por zero\")  \n",
    "finally:\n",
    "    print(\"Sempre Funciona\") "
   ]
  },
  {
   "cell_type": "markdown",
   "metadata": {},
   "source": [
    "### Bloco else\n",
    "O `try/except` possui uma cláusula `else` opcional, que quando presente, deve ser colocada depois de todas as outras cláusulas.\n",
    "É útil para um código que precisa ser executado se não ocorrer nenhuma exceção.\n",
    "\n",
    "Sintaxe\n",
    "```python\n",
    "    try:\n",
    "        trecho onde a exceção pode ocorrer\n",
    "    except <condição>:\n",
    "        codigo a execultar se a exceção ocorrer\n",
    "    else:\n",
    "        Executa se não ocorrer nenhuma exceção        \n",
    "```"
   ]
  },
  {
   "cell_type": "code",
   "execution_count": 9,
   "metadata": {},
   "outputs": [
    {
     "name": "stdout",
     "output_type": "stream",
     "text": [
      "O arquivo tem 500 linhas\n"
     ]
    }
   ],
   "source": [
    "    try:\n",
    "        f =open('pares.txt','r')\n",
    "    except OSError:\n",
    "        print(\"O arquivo nao pode ser aberto\")\n",
    "    finally:\n",
    "        print(\"O arquivo tem\",len(f.readlines()),\"linhas\")  \n",
    "        f.close()    "
   ]
  }
 ],
 "metadata": {
  "interpreter": {
   "hash": "dc044dbeba82771aaeccdb8770a998b04de1e1141a3b5ed0d819352aa1a1f7bf"
  },
  "kernelspec": {
   "display_name": "Python 3.10.0 64-bit",
   "language": "python",
   "name": "python3"
  },
  "language_info": {
   "codemirror_mode": {
    "name": "ipython",
    "version": 3
   },
   "file_extension": ".py",
   "mimetype": "text/x-python",
   "name": "python",
   "nbconvert_exporter": "python",
   "pygments_lexer": "ipython3",
   "version": "3.9.9"
  },
  "orig_nbformat": 4
 },
 "nbformat": 4,
 "nbformat_minor": 2
}
