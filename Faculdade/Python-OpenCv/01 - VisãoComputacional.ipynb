{
 "cells": [
  {
   "cell_type": "markdown",
   "metadata": {},
   "source": [
    "# Visão Computacional - Encontrando as guias\n"
   ]
  },
  {
   "cell_type": "markdown",
   "metadata": {},
   "source": [
    "O intuito das aulas a seguir entender como , atraves da biblioteca OpenCv , podemos encontrar as linhas guias na pista"
   ]
  },
  {
   "cell_type": "code",
   "execution_count": 1,
   "metadata": {},
   "outputs": [],
   "source": [
    "import cv2 "
   ]
  },
  {
   "cell_type": "markdown",
   "metadata": {},
   "source": [
    "O intuito deste caderno é criar um programa capaz de encontrar a linhas guias semelhante ao que fazemos quando dirigimos automoveis em nossas ruas.\n",
    "* Começaremos por uma foto\n",
    "* Depois iremos para video"
   ]
  },
  {
   "cell_type": "markdown",
   "metadata": {},
   "source": [
    "## 1.1 - Carregando a imagem "
   ]
  },
  {
   "cell_type": "markdown",
   "metadata": {},
   "source": [
    "Quando carregamos uma imagem para o sistema do OpenCv, os valores atribuidos seram armazenados em uma array"
   ]
  },
  {
   "cell_type": "code",
   "execution_count": 2,
   "metadata": {},
   "outputs": [
    {
     "data": {
      "text/plain": [
       "array([[[116,  91,  75],\n",
       "        [194, 174, 134],\n",
       "        [194, 174, 134],\n",
       "        ...,\n",
       "        [248, 238, 215],\n",
       "        [248, 238, 215],\n",
       "        [248, 238, 215]],\n",
       "\n",
       "       [[157, 133, 106],\n",
       "        [194, 174, 134],\n",
       "        [194, 174, 134],\n",
       "        ...,\n",
       "        [247, 238, 215],\n",
       "        [247, 238, 215],\n",
       "        [247, 238, 215]],\n",
       "\n",
       "       [[185, 163, 127],\n",
       "        [194, 174, 134],\n",
       "        [194, 174, 134],\n",
       "        ...,\n",
       "        [247, 238, 215],\n",
       "        [247, 238, 215],\n",
       "        [247, 238, 215]],\n",
       "\n",
       "       ...,\n",
       "\n",
       "       [[ 74,  80,  85],\n",
       "        [ 74,  80,  85],\n",
       "        [ 74,  80,  85],\n",
       "        ...,\n",
       "        [ 73,  74,  82],\n",
       "        [ 73,  74,  82],\n",
       "        [ 73,  74,  82]],\n",
       "\n",
       "       [[ 74,  80,  85],\n",
       "        [ 74,  80,  85],\n",
       "        [ 74,  80,  85],\n",
       "        ...,\n",
       "        [ 72,  73,  81],\n",
       "        [ 72,  73,  81],\n",
       "        [ 72,  73,  81]],\n",
       "\n",
       "       [[ 74,  80,  85],\n",
       "        [ 74,  80,  85],\n",
       "        [ 74,  80,  85],\n",
       "        ...,\n",
       "        [ 72,  73,  81],\n",
       "        [ 72,  73,  81],\n",
       "        [ 72,  73,  81]]], dtype=uint8)"
      ]
     },
     "execution_count": 2,
     "metadata": {},
     "output_type": "execute_result"
    }
   ],
   "source": [
    "image = cv2.imread(\"test_image.jpg\")\n",
    "image"
   ]
  },
  {
   "cell_type": "markdown",
   "metadata": {},
   "source": [
    "## 1.2 - Mostra a Imagem\n",
    "\n",
    " Quando queremos mostrar uma imagem é necessário passar 2 argumentos\n",
    "\n",
    " Seguido da função `waitKey(0)` que cria a janela por tempo interminado, ate que seja prescionado algo\n",
    "```python\n",
    "    cv2.imshow(\"Nome da Janela a qual será mostrado\", a variavel que armazena a image que será mostrada) \n",
    "    cv2.waitKey(0) \n",
    "```"
   ]
  },
  {
   "cell_type": "code",
   "execution_count": 3,
   "metadata": {},
   "outputs": [
    {
     "data": {
      "text/plain": [
       "-1"
      ]
     },
     "execution_count": 3,
     "metadata": {},
     "output_type": "execute_result"
    }
   ],
   "source": [
    "cv2.imshow(\"Resultado\", image)\n",
    "cv2.waitKey(0)"
   ]
  },
  {
   "cell_type": "markdown",
   "metadata": {},
   "source": [
    "<div , align = 'center'>\n",
    "    <img src=\"test_image.jpg\" style=\"width:800px;height:500px;\">\n",
    "</div>    "
   ]
  },
  {
   "cell_type": "markdown",
   "metadata": {},
   "source": [
    "## 2 - GrayScale"
   ]
  },
  {
   "cell_type": "markdown",
   "metadata": {},
   "source": [
    "O objetivo da detecção de canto é identificar os limiares dos objetos que apresentam na imagem.\n",
    "\n",
    "Ou seja queremos verificar aonde é possivel haveriquar onde ocorreu a mundança utilizando cores.\n",
    "<div , align = 'center'>\n",
    "    <img src=\"Slide1.png\" style=\"width:800px;height:500px;\">\n",
    "</div>    "
   ]
  },
  {
   "cell_type": "markdown",
   "metadata": {},
   "source": [
    "Temos que entender que um Pixel pode ser entendido com um valor de matriz : \n",
    "* Valor com um valor mais próximo de 0 será considerado como Intensidade Minima ou \"Preto\"\n",
    "* Valor com um valor mais próximo de 255 será considerado como Intensidade Maxíma ou \"Branco\" "
   ]
  },
  {
   "cell_type": "markdown",
   "metadata": {},
   "source": [
    "Definição - Gradiente : Mesuriza a taxa de mudança da brilhosidade diante um pixel adjacente"
   ]
  }
 ],
 "metadata": {
  "interpreter": {
   "hash": "4badd61a3eb0a98b49024dc08b6e569de2eac3230396ff1e691db44e3b600cf6"
  },
  "kernelspec": {
   "display_name": "Python 3.9.9 64-bit",
   "language": "python",
   "name": "python3"
  },
  "language_info": {
   "codemirror_mode": {
    "name": "ipython",
    "version": 3
   },
   "file_extension": ".py",
   "mimetype": "text/x-python",
   "name": "python",
   "nbconvert_exporter": "python",
   "pygments_lexer": "ipython3",
   "version": "3.9.9"
  },
  "orig_nbformat": 4
 },
 "nbformat": 4,
 "nbformat_minor": 2
}
