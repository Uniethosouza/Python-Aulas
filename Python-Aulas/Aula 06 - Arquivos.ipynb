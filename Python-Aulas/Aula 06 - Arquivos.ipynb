{
 "cells": [
  {
   "cell_type": "markdown",
   "metadata": {},
   "source": [
    "# Aula 06 - Arquivos"
   ]
  },
  {
   "cell_type": "markdown",
   "metadata": {},
   "source": [
    "Utilizar arquivos é uma forma de garantir o armazenamento\n",
    "permanente dos dados que são importantes no seu programa, pois\n",
    "nenhuma variável continua existindo depois que o programa termina.\n",
    "\n",
    "\n",
    "Então , utilizar um arquivo é uma maneira excelente de trabalhar com\n",
    "a entrada e a saída de dados para os programas\n",
    "\n",
    "Existem dois tipos de arquivos:\n",
    "\n",
    "* Arquivos texto :\n",
    "\n",
    "    * Arquivos contendo linhas de texto formadas por strings\n",
    "\n",
    "    * A codificação dos caracteres da string pode ser definido pela plataforma ou pelo\n",
    "    programador\n",
    "\n",
    "    * Normalmente salvos com a extensão . txt , cvs ou . dat\n",
    "\n",
    "* Arquivos binários :\n",
    "\n",
    "    * Todos os dados são lidos e gravados exatamente como estão, em bytes, sem\n",
    "    qualquer tratamento.\n",
    "\n",
    " O tratamento de arquivos envolve os seguintes passos:\n",
    "1. Definição do arquivo \n",
    "    \n",
    "2. Abrir\n",
    "    \n",
    "3. Manipular\n",
    "    \n",
    "4. Fechar\n",
    "    \n"
   ]
  },
  {
   "cell_type": "markdown",
   "metadata": {},
   "source": [
    "### Abertura de Arquivos - `open()`\n",
    "*Na programação , assim como na nossa interação com o computador , o primeiro\n",
    "passo para acessar um arquivo é abri lo.\n",
    "\n",
    "* Para abrir o arquivo , utilizamos a função `open()`\n",
    "\n",
    "Sintaxe:\n",
    "```python\n",
    "    arquivo = open(\"NomeDoArquivo.extensão(.png,.txt,.csv)\",\"Modo de abertura de arquivos\")\n",
    "```\n",
    "* A variável arquivo salva o arquivo em si.\n",
    "    * É por meio desta variável que executaremos as funções de escrita e leitura.\n",
    "\n",
    "* Os modos mais comum são:\n",
    "<div align = \"center\">\n",
    "\n",
    "|   MODO   \t| OPERAÇÂO                                                                 \t|\n",
    "|:--------:\t|--------------------------------------------------------------------------\t|\n",
    "|     r    \t| leitura (read)                                                           \t|\n",
    "|     w    \t| escrita ( write ) um arquivo pre existente com o mesmo nome será apagado \t|\n",
    "|     a    \t| escrita , preservando o conteúdo existente append()                      \t|\n",
    "|     +    \t| atualização (combinado com r ou w)                                       \t|\n",
    "| rb ou wb \t| Leitura ou escrita de arquivo binário.                                   \t|\n",
    "\n",
    "</div>\n",
    "\n",
    "__Lembrando que o arquivo lido, deve estar na mesa pasta se o comando descrito na Sintaxe for utilizado. Caso contratirio utilize esse modo :__\n",
    "\n",
    "```python\n",
    "    arquivo = open(\"C://Users//Usuario//Desktop//Aprendizado//Python//Aula6.py\")\n",
    "```\n",
    "Clique com o botão direito do mouse sobre o arquivo que queira utilizar e procure por propriedades e copie o local do arquivo, nao se esquecendo de colocar backslash do modo apresentado"
   ]
  },
  {
   "cell_type": "markdown",
   "metadata": {},
   "source": [
    "### Abrindo o arquivo com uma determinada codificação\n",
    "* Por padrão, o Python abre o arquivo usando a codificação de caracteres\n",
    "padrão do sistema operacional.\n",
    "\n",
    "* Falamos dos direntes tipos na aula 5\n",
    "\n",
    "* O terceiro parâmetro da função open() é opcional e nele especificamos a\n",
    "codificação do arquivo:\n",
    "```python\n",
    "    meufile = open(\"test.dat\",\"w\", encoding = \"utf - 8\")\n",
    "```"
   ]
  },
  {
   "cell_type": "markdown",
   "metadata": {},
   "source": [
    "### Teste de abertura\n",
    "* E se o arquivo não existir???\n",
    "\n",
    "* Se o programa tentar abrir um arquivo inexistente para leitura, o\n",
    "interpretador retornará um erro:\n",
    "```python\n",
    "    FileNotFoundError: [Errno 2] No such file or directory : 'teste.dat'\n",
    "``` \n",
    "* Soluções:\n",
    "  * Verificar se o arquivo existe antes de abrir\n",
    "\n",
    "  * Abrir usando controle de exceções\n",
    "\n",
    "Verificar se o arquivo existe antes de abrir :\n",
    "```python\n",
    "  import os\n",
    "  import sys\n",
    "  exists = os.path.isfile (('teste.dat'))\n",
    "  if exists == False:\n",
    "    print ((\"O arquivo não existe.))\n",
    "    sys.exit()\n",
    "```\n"
   ]
  },
  {
   "cell_type": "markdown",
   "metadata": {},
   "source": [
    "### Fechamento `file.close()`\n",
    "* Depois que escrevemos no arquivo, precisamos fechá lo, utilizando o\n",
    "método close()\n",
    "\n",
    "```python\n",
    "    arquivo.close()\n",
    "```\n",
    "* É sempre importante fechar o arquivo para informar ao Sistema\n",
    "Operacional que não vamos mais utilizá-lo:\n",
    "\n",
    "    * O Sistema Operacional salva as informações que queremos escrever em\n",
    "uma memória auxiliar chamada buffer e deixa a operação de escrever\n",
    "realmente no arquivo só quando informamos que vamos fechá-lo.\n",
    "* Se não fechamos um arquivo, corremos o risco de perder o que\n",
    "gostaríamos de escrever.\n",
    "\n",
    "Ainda:\n",
    "\n",
    "* Fechar um arquivo liberará os recursos que estavam vinculados ao\n",
    "arquivo.\n",
    "\n",
    "    * Python tem um coletor de lixo para limpar objetos não referenciados,\n",
    "mas não devemos confiar nele para fechar o arquivo.\n"
   ]
  },
  {
   "cell_type": "markdown",
   "metadata": {},
   "source": [
    "### Manipulação\n",
    "* A manipulação dos arquivos constitui em ler, escrever, remover e\n",
    "inserir dados dos arquivos.\n",
    "\n",
    "* Pode ser feita em arquivos texto e binários.\n",
    "\n",
    "Entrada:\n",
    "```python\n",
    "    read(), readline(), readlines()\n",
    "```\n",
    "Saída:\n",
    "```python\n",
    "    write(), writelines()\n",
    "```"
   ]
  },
  {
   "cell_type": "markdown",
   "metadata": {},
   "source": [
    "### Leitura\n",
    "* Para ler do arquivo, precisamos seguir o procedimento:\n",
    "\n",
    "    * Abrir o arquivo em modo leitura \"r\"\n",
    "```python\n",
    "    meuFile = open(\"test.txt\",\"r\")\n",
    "```    \n",
    "* Utilizar um método para ler o arquivo.\n",
    "\n",
    "* Fechar o arquivo com o método close:\n",
    "```python\n",
    "    meuFile.close()\n",
    "``` \n",
    "Podemos usar os seguintes métodos:\n",
    "```python\n",
    "    readline () retorna uma string com uma linha\n",
    "``` \n",
    "```python\n",
    "    read () retorna uma string com tudo\n",
    "``` \n",
    "```python\n",
    "    readlines () retorna uma lista com todas as linhas como itens da lista.\n",
    "``` "
   ]
  },
  {
   "cell_type": "markdown",
   "metadata": {},
   "source": [
    "__Para os exemplos a seguir utilizaremos o arquivo test.txt__"
   ]
  },
  {
   "cell_type": "markdown",
   "metadata": {},
   "source": [
    "### Leitura - file.readlines()\n",
    "Devolve todas as linhas do arquivo, como uma lista onde cada linha é\n",
    "um item no objeto da lista.\n"
   ]
  },
  {
   "cell_type": "code",
   "execution_count": 36,
   "metadata": {},
   "outputs": [
    {
     "name": "stdout",
     "output_type": "stream",
     "text": [
      "['Linha: 0\\n', 'Linha: 1\\n', 'Linha: 2\\n', 'Linha: 3\\n', 'Linha: 4\\n', 'Linha: 5\\n', 'Linha: 6\\n', 'Linha: 7\\n', 'Linha: 8\\n', 'Linha: 9\\n', 'Linha: 10\\n', 'Linha: 11\\n', 'Linha: 12\\n', 'Linha: 13\\n', 'Linha: 14\\n', 'Linha: 15\\n', 'Linha: 16\\n', 'Linha: 17\\n', 'Linha: 18\\n', 'Linha: 19\\n', 'Linha: 20\\n', 'Linha: 21\\n', 'Linha: 22\\n', 'Linha: 23\\n', 'Linha: 24\\n', 'Linha: 25\\n', 'Linha: 26\\n', 'Linha: 27\\n', 'Linha: 28\\n', 'Linha: 29\\n', 'Linha: 30\\n', 'Linha: 31\\n', 'Linha: 32\\n', 'Linha: 33\\n', 'Linha: 34\\n', 'Linha: 35\\n', 'Linha: 36\\n', 'Linha: 37\\n', 'Linha: 38\\n', 'Linha: 39\\n', 'Linha: 40\\n', 'Linha: 41\\n', 'Linha: 42\\n', 'Linha: 43\\n', 'Linha: 44\\n', 'Linha: 45\\n', 'Linha: 46\\n', 'Linha: 47\\n', 'Linha: 48\\n', 'Linha: 49\\n', 'Linha: 50\\n', 'Linha: 51\\n', 'Linha: 52\\n', 'Linha: 53\\n', 'Linha: 54\\n', 'Linha: 55\\n', 'Linha: 56\\n', 'Linha: 57\\n', 'Linha: 58\\n', 'Linha: 59\\n', 'Linha: 60\\n', 'Linha: 61\\n', 'Linha: 62\\n', 'Linha: 63\\n', 'Linha: 64\\n', 'Linha: 65\\n', 'Linha: 66\\n', 'Linha: 67\\n', 'Linha: 68\\n', 'Linha: 69\\n', 'Linha: 70\\n', 'Linha: 71\\n', 'Linha: 72\\n', 'Linha: 73\\n', 'Linha: 74\\n', 'Linha: 75\\n', 'Linha: 76\\n', 'Linha: 77\\n', 'Linha: 78\\n', 'Linha: 79\\n', 'Linha: 80\\n', 'Linha: 81\\n', 'Linha: 82\\n', 'Linha: 83\\n', 'Linha: 84\\n', 'Linha: 85\\n', 'Linha: 86\\n', 'Linha: 87\\n', 'Linha: 88\\n', 'Linha: 89\\n', 'Linha: 90\\n', 'Linha: 91\\n', 'Linha: 92\\n', 'Linha: 93\\n', 'Linha: 94\\n', 'Linha: 95\\n', 'Linha: 96\\n', 'Linha: 97\\n', 'Linha: 98\\n', 'Linha: 99\\n', 'Linha: 100']\n"
     ]
    }
   ],
   "source": [
    "meuFile = open(\"test.txt\", \"r\")\n",
    "texto = meuFile.readlines()\n",
    "print(texto)\n",
    "meuFile.close()"
   ]
  },
  {
   "cell_type": "markdown",
   "metadata": {},
   "source": [
    "Percebece que não é mostrado todos os item, pois eles estão guardados em uma lista.\n",
    "\n",
    "A seguir, com o uso da ferramenta de repetição `For` mostrarei todas as linhas:"
   ]
  },
  {
   "cell_type": "code",
   "execution_count": 37,
   "metadata": {},
   "outputs": [
    {
     "name": "stdout",
     "output_type": "stream",
     "text": [
      "Linha: 0\n",
      "\n",
      "Linha: 1\n",
      "\n",
      "Linha: 2\n",
      "\n",
      "Linha: 3\n",
      "\n",
      "Linha: 4\n",
      "\n",
      "Linha: 5\n",
      "\n",
      "Linha: 6\n",
      "\n",
      "Linha: 7\n",
      "\n",
      "Linha: 8\n",
      "\n",
      "Linha: 9\n",
      "\n",
      "Linha: 10\n",
      "\n",
      "Linha: 11\n",
      "\n",
      "Linha: 12\n",
      "\n",
      "Linha: 13\n",
      "\n",
      "Linha: 14\n",
      "\n",
      "Linha: 15\n",
      "\n",
      "Linha: 16\n",
      "\n",
      "Linha: 17\n",
      "\n",
      "Linha: 18\n",
      "\n",
      "Linha: 19\n",
      "\n",
      "Linha: 20\n",
      "\n",
      "Linha: 21\n",
      "\n",
      "Linha: 22\n",
      "\n",
      "Linha: 23\n",
      "\n",
      "Linha: 24\n",
      "\n",
      "Linha: 25\n",
      "\n",
      "Linha: 26\n",
      "\n",
      "Linha: 27\n",
      "\n",
      "Linha: 28\n",
      "\n",
      "Linha: 29\n",
      "\n",
      "Linha: 30\n",
      "\n",
      "Linha: 31\n",
      "\n",
      "Linha: 32\n",
      "\n",
      "Linha: 33\n",
      "\n",
      "Linha: 34\n",
      "\n",
      "Linha: 35\n",
      "\n",
      "Linha: 36\n",
      "\n",
      "Linha: 37\n",
      "\n",
      "Linha: 38\n",
      "\n",
      "Linha: 39\n",
      "\n",
      "Linha: 40\n",
      "\n",
      "Linha: 41\n",
      "\n",
      "Linha: 42\n",
      "\n",
      "Linha: 43\n",
      "\n",
      "Linha: 44\n",
      "\n",
      "Linha: 45\n",
      "\n",
      "Linha: 46\n",
      "\n",
      "Linha: 47\n",
      "\n",
      "Linha: 48\n",
      "\n",
      "Linha: 49\n",
      "\n",
      "Linha: 50\n",
      "\n",
      "Linha: 51\n",
      "\n",
      "Linha: 52\n",
      "\n",
      "Linha: 53\n",
      "\n",
      "Linha: 54\n",
      "\n",
      "Linha: 55\n",
      "\n",
      "Linha: 56\n",
      "\n",
      "Linha: 57\n",
      "\n",
      "Linha: 58\n",
      "\n",
      "Linha: 59\n",
      "\n",
      "Linha: 60\n",
      "\n",
      "Linha: 61\n",
      "\n",
      "Linha: 62\n",
      "\n",
      "Linha: 63\n",
      "\n",
      "Linha: 64\n",
      "\n",
      "Linha: 65\n",
      "\n",
      "Linha: 66\n",
      "\n",
      "Linha: 67\n",
      "\n",
      "Linha: 68\n",
      "\n",
      "Linha: 69\n",
      "\n",
      "Linha: 70\n",
      "\n",
      "Linha: 71\n",
      "\n",
      "Linha: 72\n",
      "\n",
      "Linha: 73\n",
      "\n",
      "Linha: 74\n",
      "\n",
      "Linha: 75\n",
      "\n",
      "Linha: 76\n",
      "\n",
      "Linha: 77\n",
      "\n",
      "Linha: 78\n",
      "\n",
      "Linha: 79\n",
      "\n",
      "Linha: 80\n",
      "\n",
      "Linha: 81\n",
      "\n",
      "Linha: 82\n",
      "\n",
      "Linha: 83\n",
      "\n",
      "Linha: 84\n",
      "\n",
      "Linha: 85\n",
      "\n",
      "Linha: 86\n",
      "\n",
      "Linha: 87\n",
      "\n",
      "Linha: 88\n",
      "\n",
      "Linha: 89\n",
      "\n",
      "Linha: 90\n",
      "\n",
      "Linha: 91\n",
      "\n",
      "Linha: 92\n",
      "\n",
      "Linha: 93\n",
      "\n",
      "Linha: 94\n",
      "\n",
      "Linha: 95\n",
      "\n",
      "Linha: 96\n",
      "\n",
      "Linha: 97\n",
      "\n",
      "Linha: 98\n",
      "\n",
      "Linha: 99\n",
      "\n",
      "Linha: 100\n"
     ]
    }
   ],
   "source": [
    "meuFile = open(\"test.txt\", \"r\")\n",
    "for linha in meuFile.readlines():\n",
    "    print(linha)\n",
    "meuFile.close()"
   ]
  },
  {
   "cell_type": "markdown",
   "metadata": {},
   "source": [
    "`f.readline()` lê uma única linha do arquivo    \n",
    "* Um caracter newline (\\n) é deixado no final da sequência, e só é omitido na\n",
    "última linha do arquivo se o arquivo não terminar em uma nova linha.\n",
    "* Isso torna o valor de retorno inequívoco:\n",
    "    * Se o final do arquivo foi atingido, `f.readlines()` retorna uma string vazia.\n",
    "    * Se for lida uma linha em branco, `f.readlines()` retorna uma string contendo \"\\n\".\n",
    "\n",
    "\n",
    "Por que pula duas linhas?    \n",
    "* O programa anterior pula duas linhas a cada impressão:\n",
    "    * Executa um newline devido ao \\n que esta na string lida.\n",
    "    * Executa um newline devido ao print\n",
    "* Como resolver isso?\n",
    "```python\n",
    "    print(linha, end = \"\")\n",
    "```    \n",
    "Sem pular duas linhas:\n"
   ]
  },
  {
   "cell_type": "code",
   "execution_count": 38,
   "metadata": {},
   "outputs": [
    {
     "name": "stdout",
     "output_type": "stream",
     "text": [
      "Linha: 0\n",
      "Linha: 1\n",
      "Linha: 2\n",
      "Linha: 3\n",
      "Linha: 4\n",
      "Linha: 5\n",
      "Linha: 6\n",
      "Linha: 7\n",
      "Linha: 8\n",
      "Linha: 9\n",
      "Linha: 10\n",
      "Linha: 11\n",
      "Linha: 12\n",
      "Linha: 13\n",
      "Linha: 14\n",
      "Linha: 15\n",
      "Linha: 16\n",
      "Linha: 17\n",
      "Linha: 18\n",
      "Linha: 19\n",
      "Linha: 20\n",
      "Linha: 21\n",
      "Linha: 22\n",
      "Linha: 23\n",
      "Linha: 24\n",
      "Linha: 25\n",
      "Linha: 26\n",
      "Linha: 27\n",
      "Linha: 28\n",
      "Linha: 29\n",
      "Linha: 30\n",
      "Linha: 31\n",
      "Linha: 32\n",
      "Linha: 33\n",
      "Linha: 34\n",
      "Linha: 35\n",
      "Linha: 36\n",
      "Linha: 37\n",
      "Linha: 38\n",
      "Linha: 39\n",
      "Linha: 40\n",
      "Linha: 41\n",
      "Linha: 42\n",
      "Linha: 43\n",
      "Linha: 44\n",
      "Linha: 45\n",
      "Linha: 46\n",
      "Linha: 47\n",
      "Linha: 48\n",
      "Linha: 49\n",
      "Linha: 50\n",
      "Linha: 51\n",
      "Linha: 52\n",
      "Linha: 53\n",
      "Linha: 54\n",
      "Linha: 55\n",
      "Linha: 56\n",
      "Linha: 57\n",
      "Linha: 58\n",
      "Linha: 59\n",
      "Linha: 60\n",
      "Linha: 61\n",
      "Linha: 62\n",
      "Linha: 63\n",
      "Linha: 64\n",
      "Linha: 65\n",
      "Linha: 66\n",
      "Linha: 67\n",
      "Linha: 68\n",
      "Linha: 69\n",
      "Linha: 70\n",
      "Linha: 71\n",
      "Linha: 72\n",
      "Linha: 73\n",
      "Linha: 74\n",
      "Linha: 75\n",
      "Linha: 76\n",
      "Linha: 77\n",
      "Linha: 78\n",
      "Linha: 79\n",
      "Linha: 80\n",
      "Linha: 81\n",
      "Linha: 82\n",
      "Linha: 83\n",
      "Linha: 84\n",
      "Linha: 85\n",
      "Linha: 86\n",
      "Linha: 87\n",
      "Linha: 88\n",
      "Linha: 89\n",
      "Linha: 90\n",
      "Linha: 91\n",
      "Linha: 92\n",
      "Linha: 93\n",
      "Linha: 94\n",
      "Linha: 95\n",
      "Linha: 96\n",
      "Linha: 97\n",
      "Linha: 98\n",
      "Linha: 99\n",
      "Linha: 100"
     ]
    }
   ],
   "source": [
    "meuFile = open(\"test.txt\", \"r\")\n",
    "for linha in meuFile.readlines():\n",
    "    print(linha, end = \"\")\n",
    "meuFile.close()"
   ]
  },
  {
   "cell_type": "markdown",
   "metadata": {},
   "source": [
    "### Simplificando a leitura file.readline\n",
    "\n",
    "* Para ler linhas de um arquivo, você pode fazer loop sobre o objeto de arquivo.\n",
    "\n",
    "* Isso é eficiente em memória, rápido e leva a um código simples.\n",
    "\n",
    "* Usa o `file.realine()` implicitamente..."
   ]
  },
  {
   "cell_type": "code",
   "execution_count": 39,
   "metadata": {},
   "outputs": [
    {
     "name": "stdout",
     "output_type": "stream",
     "text": [
      "Linha: 0\n",
      "Linha: 1\n",
      "Linha: 2\n",
      "Linha: 3\n",
      "Linha: 4\n",
      "Linha: 5\n",
      "Linha: 6\n",
      "Linha: 7\n",
      "Linha: 8\n",
      "Linha: 9\n",
      "Linha: 10\n",
      "Linha: 11\n",
      "Linha: 12\n",
      "Linha: 13\n",
      "Linha: 14\n",
      "Linha: 15\n",
      "Linha: 16\n",
      "Linha: 17\n",
      "Linha: 18\n",
      "Linha: 19\n",
      "Linha: 20\n",
      "Linha: 21\n",
      "Linha: 22\n",
      "Linha: 23\n",
      "Linha: 24\n",
      "Linha: 25\n",
      "Linha: 26\n",
      "Linha: 27\n",
      "Linha: 28\n",
      "Linha: 29\n",
      "Linha: 30\n",
      "Linha: 31\n",
      "Linha: 32\n",
      "Linha: 33\n",
      "Linha: 34\n",
      "Linha: 35\n",
      "Linha: 36\n",
      "Linha: 37\n",
      "Linha: 38\n",
      "Linha: 39\n",
      "Linha: 40\n",
      "Linha: 41\n",
      "Linha: 42\n",
      "Linha: 43\n",
      "Linha: 44\n",
      "Linha: 45\n",
      "Linha: 46\n",
      "Linha: 47\n",
      "Linha: 48\n",
      "Linha: 49\n",
      "Linha: 50\n",
      "Linha: 51\n",
      "Linha: 52\n",
      "Linha: 53\n",
      "Linha: 54\n",
      "Linha: 55\n",
      "Linha: 56\n",
      "Linha: 57\n",
      "Linha: 58\n",
      "Linha: 59\n",
      "Linha: 60\n",
      "Linha: 61\n",
      "Linha: 62\n",
      "Linha: 63\n",
      "Linha: 64\n",
      "Linha: 65\n",
      "Linha: 66\n",
      "Linha: 67\n",
      "Linha: 68\n",
      "Linha: 69\n",
      "Linha: 70\n",
      "Linha: 71\n",
      "Linha: 72\n",
      "Linha: 73\n",
      "Linha: 74\n",
      "Linha: 75\n",
      "Linha: 76\n",
      "Linha: 77\n",
      "Linha: 78\n",
      "Linha: 79\n",
      "Linha: 80\n",
      "Linha: 81\n",
      "Linha: 82\n",
      "Linha: 83\n",
      "Linha: 84\n",
      "Linha: 85\n",
      "Linha: 86\n",
      "Linha: 87\n",
      "Linha: 88\n",
      "Linha: 89\n",
      "Linha: 90\n",
      "Linha: 91\n",
      "Linha: 92\n",
      "Linha: 93\n",
      "Linha: 94\n",
      "Linha: 95\n",
      "Linha: 96\n",
      "Linha: 97\n",
      "Linha: 98\n",
      "Linha: 99\n",
      "Linha: 100"
     ]
    }
   ],
   "source": [
    "meuFile = open(\"test.txt\", \"r\")\n",
    "for linha in meuFile:\n",
    "    print(linha, end = \"\")\n",
    "meuFile.close()"
   ]
  },
  {
   "cell_type": "markdown",
   "metadata": {},
   "source": [
    "### Leitura - `file.read()`\n",
    "* Para ler o conteúdo de um arquivo, pode se também utilizar` f.read(size)`\n",
    "\n",
    "* Lê “ size ” quantidade de dados e os retorna como uma string (no modo de texto) ou bytes\n",
    "objeto (no modo binário).\n",
    "\n",
    "* \"size\"  é um argumento numérico opcional\n",
    "\n",
    "* Se o final do arquivo tiver sido atingido, `f.read()` retornará uma sequência vazia (\")\n",
    "\n",
    "* Quando “ size ” for omitido ou negativo, todo o conteúdo do arquivo será lido e devolvido:\n",
    "\n",
    "    * É seu problema se o arquivo for maior que a memória da sua máquina.\n",
    "* Quando “ size ” for menor que o tamanho do arquivo:\n",
    "    * a função “ size ” lê quantidade de dados e os retorna como uma string (no modo de texto) ou\n",
    "bytes objeto (no modo binário).\n",
    "\n",
    "Para ler do arquivo, podemos utilizar o método `read()`\n",
    "\n",
    "Exemplo:\n"
   ]
  },
  {
   "cell_type": "code",
   "execution_count": 40,
   "metadata": {},
   "outputs": [
    {
     "name": "stdout",
     "output_type": "stream",
     "text": [
      "Linha: 0\n",
      "Linha: 1\n",
      "Linha: 2\n",
      "Linha: 3\n",
      "Linha: 4\n",
      "Linh"
     ]
    }
   ],
   "source": [
    "meuFile = open(\"test.txt\", \"r\")\n",
    "for linha in meuFile.read(49):\n",
    "    print(linha, end = \"\")\n",
    "meuFile.close()"
   ]
  },
  {
   "cell_type": "markdown",
   "metadata": {},
   "source": [
    "Note que lemos apenas 49 carcteres da do arquivo test.txt"
   ]
  },
  {
   "cell_type": "markdown",
   "metadata": {},
   "source": [
    "### Escrita - `file.write()`\n",
    "* Para escrever no arquivo, utilizamos o método `write()`:\n",
    "```python\n",
    "    file.write(\"Texto a ser escrito no arquivo\")\n",
    "```\n",
    "* O método write funciona de maneira similar que o print com marcadores (%d , %f , %s ),\n",
    "\n",
    "__IMPORTANTE!__\n",
    "Precisamos sempre incluir o “\\n” quando queremos ir para a próxima\n",
    "\n",
    "* Retorna o número de caracteres escrito no arquivo\n"
   ]
  },
  {
   "cell_type": "code",
   "execution_count": 41,
   "metadata": {},
   "outputs": [],
   "source": [
    "meuFile = open(\"NovoTexto.txt\", \"w\")\n",
    "for linha in range(1,101):\n",
    "    meuFile.write(\"Numero %d\\n\" % linha)\n",
    "meuFile.close()"
   ]
  },
  {
   "cell_type": "markdown",
   "metadata": {},
   "source": [
    "Voce pode verificar no local aonde voce salvou este codigo, um novo arquivo irá aparecer!!!"
   ]
  },
  {
   "cell_type": "markdown",
   "metadata": {},
   "source": [
    "### Escrita - file.writelines()\n",
    "* O método writelines () grava os itens de uma lista para o arquivo.\n",
    "* Onde os textos serão inseridos depende do modo de abertura do arquivo:\n",
    "    * \"a\": Os textos serão inseridos na posição atual do arquivos, por padrão no final do arquivo.\n",
    "    * \"w\": O arquivo será esvaziado antes que os textos sejam inseridos na posição inicial do arquivo."
   ]
  },
  {
   "cell_type": "code",
   "execution_count": 42,
   "metadata": {},
   "outputs": [],
   "source": [
    "meuFile = open(\"Texto3.txt\",\"w\")\n",
    "meuFile.writelines([\"\\n Hello There!\",\"\\n\\n General Kenobi\"])\n",
    "meuFile.close()"
   ]
  },
  {
   "cell_type": "markdown",
   "metadata": {},
   "source": [
    "Exemplo: Exemplo: gerar e gravar números pares e\n",
    "ímpares em arquivos\n",
    "separados. Números de\n",
    "0 a 999.\n"
   ]
  },
  {
   "cell_type": "code",
   "execution_count": 43,
   "metadata": {},
   "outputs": [],
   "source": [
    "impares = open(\"impares.txt\",\"w\")\n",
    "pares = open(\"pares.txt\",\"w\")\n",
    "\n",
    "for n in range(1000):\n",
    "    if n % 2 == 0:\n",
    "        pares.write(\"%d\\n\" %n)\n",
    "    else:\n",
    "        impares.write(\"%d\\n\" %n)\n",
    "\n",
    "impares.close()\n",
    "pares.close()        "
   ]
  },
  {
   "cell_type": "markdown",
   "metadata": {},
   "source": [
    "### Arquivos - Codificação\n",
    "* Python 3 sempre armazena strings de texto como sequências em codificação\n",
    "Unicode.\n",
    "\n",
    "    * Estes são valores na faixa 0 0x10FFFF.\n",
    "\n",
    "    * Eles nem sempre correspondem diretamente aos caracteres que você lê na tela,\n",
    "mas essa distinção não importa para a maioria das tarefas de manipulação de\n",
    "texto.\n",
    "\n",
    "* Para armazenar texto em outro formato, você deve especificar uma\n",
    "codificação para esse arquivo usando “ encoding = xxx\"."
   ]
  },
  {
   "cell_type": "code",
   "execution_count": 44,
   "metadata": {},
   "outputs": [],
   "source": [
    "meuFile = open(\"Testeemoji.txt\",\"w\", encoding=\"utf-8\")\n",
    "meuFile.write(\"Teste UTF-8\\n\")\n",
    "meuFile.write(\"\\U0001f600\\n\")\n",
    "meuFile.write(\"\\U0001f606\\n\")\n",
    "meuFile.write(\"\\U0001f923\\n\")\n",
    "meuFile.close()"
   ]
  },
  {
   "cell_type": "markdown",
   "metadata": {},
   "source": [
    "### Arquivo ASCII"
   ]
  },
  {
   "cell_type": "code",
   "execution_count": 51,
   "metadata": {},
   "outputs": [],
   "source": [
    "meuFile = open(\"TesteASCII.txt\",\"w\", encoding=\"ascii\")\n",
    "meuFile.write(\"Teste UTF-8\\n\")\n",
    "meuFile.write(u'\\u000e\\n')\n",
    "meuFile.write(u\"\\u0023\\n\")\n",
    "meuFile.write(u\"\\u0024\\n\")\n",
    "meuFile.close()"
   ]
  },
  {
   "cell_type": "markdown",
   "metadata": {},
   "source": [
    "### Gerando Arquivos de Arquivos\n",
    "Exemplo: Utilizando o arquivo “pares. gerado no último exemplo,\n",
    "vamos criar outro arquivo que deve conter somente os números\n",
    "múltiplos de 4."
   ]
  },
  {
   "cell_type": "code",
   "execution_count": 55,
   "metadata": {},
   "outputs": [],
   "source": [
    "multiplosde4 = open(\"multiplosde4.txt\",\"w\")\n",
    "pares = open(\"pares.txt\",\"r\")\n",
    "for linhas in pares.readlines():\n",
    "    if int(linhas)%4 == 0:\n",
    "        multiplosde4.write(linhas)\n",
    "pares.close()\n",
    "multiplosde4.close()        "
   ]
  },
  {
   "cell_type": "markdown",
   "metadata": {},
   "source": [
    "* Até agora, estamos utilizando somente um dado por linha.\n",
    "\n",
    "* Porém, podemos salvar informações correlatas na mesma linha.\n",
    "\n",
    "    Exemplo:\n",
    "    * Criar um arquivo com o nome e o telefone de pessoas, conforme são digitados\n",
    "pelo usuário.\n",
    "\n",
    "    * O programa deve funcionar em loop até que o nome digitado seja vazio."
   ]
  },
  {
   "cell_type": "code",
   "execution_count": 56,
   "metadata": {},
   "outputs": [],
   "source": [
    "contatos = open(\"Contatos.dat\",\"w\")\n",
    "nome = input(\"Nome: \")\n",
    "telefone = input(\"Telefone: \")\n",
    "\n",
    "while nome != \"\":       #Para sair é so apresentar 2 vezes enter\n",
    "    contatos = open(\"Contatos.dat\",\"a\")\n",
    "    contatos.write(\"%s %s\\n\" %(nome,telefone))\n",
    "    contatos.close()\n",
    "    nome = input(\"Nome: \")\n",
    "    telefone = input(\"Telefone: \")"
   ]
  },
  {
   "cell_type": "markdown",
   "metadata": {},
   "source": [
    "### Arquivos - Leitura de dois dados na mesma linha\n",
    "* Entendendo melhor o `readlines()`\n",
    "    * O `readlines ()` retorna uma lista onde cada uma das linhas ocupa uma\n",
    "posição/ índice: "
   ]
  },
  {
   "cell_type": "code",
   "execution_count": 57,
   "metadata": {},
   "outputs": [
    {
     "name": "stdout",
     "output_type": "stream",
     "text": [
      "['Gabriel (55)123456789\\n', 'Joao (55)987654321\\n']\n"
     ]
    }
   ],
   "source": [
    "contatos = open(\"Contatos.dat\",\"r\")\n",
    "conteudo_do_arquivo = contatos.readlines()\n",
    "print(conteudo_do_arquivo)"
   ]
  },
  {
   "cell_type": "markdown",
   "metadata": {},
   "source": [
    "### Método `split(x)`\n",
    "Divide as informações no caractere informado como parâmetro."
   ]
  },
  {
   "cell_type": "code",
   "execution_count": 59,
   "metadata": {},
   "outputs": [
    {
     "name": "stdout",
     "output_type": "stream",
     "text": [
      "['Gabriel']\n",
      "['(55)123456789']\n"
     ]
    }
   ],
   "source": [
    "nome, telefone = input(\"Entre com o nome e o telefone: \").split(\" \")\n",
    "print(nome)\n",
    "print(telefone)"
   ]
  },
  {
   "cell_type": "markdown",
   "metadata": {},
   "source": [
    "* Como ler uma linha com duas informações"
   ]
  },
  {
   "cell_type": "code",
   "execution_count": 69,
   "metadata": {},
   "outputs": [
    {
     "name": "stdout",
     "output_type": "stream",
     "text": [
      "['Gabriel', '(55)123456789\\n']\n",
      "(55)123456789\n",
      "\n"
     ]
    }
   ],
   "source": [
    "contatos = open(\"Contatos.dat\",\"r\")\n",
    "contato = []\n",
    "\n",
    "for linha in contatos.readlines():\n",
    "    linha_separada = linha.split(\" \")\n",
    "    contato.append(linha_separada)\n",
    "\n",
    "print(contato[0])\n",
    "print(contato[0][1])"
   ]
  }
 ],
 "metadata": {
  "interpreter": {
   "hash": "dc044dbeba82771aaeccdb8770a998b04de1e1141a3b5ed0d819352aa1a1f7bf"
  },
  "kernelspec": {
   "display_name": "Python 3.10.0 64-bit",
   "language": "python",
   "name": "python3"
  },
  "language_info": {
   "codemirror_mode": {
    "name": "ipython",
    "version": 3
   },
   "file_extension": ".py",
   "mimetype": "text/x-python",
   "name": "python",
   "nbconvert_exporter": "python",
   "pygments_lexer": "ipython3",
   "version": "3.10.0"
  },
  "orig_nbformat": 4
 },
 "nbformat": 4,
 "nbformat_minor": 2
}
