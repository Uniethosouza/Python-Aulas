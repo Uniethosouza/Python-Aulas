{
 "cells": [
  {
   "cell_type": "markdown",
   "metadata": {},
   "source": [
    "# Aula 9 - Preparatório para a aula de Físicos, Engenharia e Matemática - Parte 1 : NumPy"
   ]
  },
  {
   "cell_type": "markdown",
   "metadata": {},
   "source": [
    "* `NumPy` é um pacote para a linguagem Python que suporta arrays e\n",
    "matrizes multidimensionais, possuindo uma larga coleção de funções\n",
    "matemáticas para trabalhar com estas estruturas.\n",
    "\n",
    "* `NumPy` foi criado em 2005 por `Travis Oliphant`\n",
    "\n",
    "* É um projeto comunitário, multiplataforma, de código livre."
   ]
  },
  {
   "cell_type": "markdown",
   "metadata": {},
   "source": [
    "`NumPy` é utilizado em... qualquer tarefa matemática\n",
    "\n",
    "* `NumPy` é bastante útil para executar várias tarefas matemáticas como\n",
    "integração numérica, diferenciação, interpolação, extrapolação e\n",
    "muitas outras.\n",
    "\n",
    "* O `NumPy` possui também funções incorporadas para álgebra linear,\n",
    "transformadas de fourrier e geração de números aleatórios.\n",
    "\n",
    "* Quando usada em conjunto com `SciPy` e `Matplotlib` , pode substituir\n",
    "programas como o Matlab para o tratamento de tarefas matemáticas."
   ]
  },
  {
   "cell_type": "markdown",
   "metadata": {},
   "source": [
    "<p align=\"center\">\n",
    "  <img width=\"700\" height=\"326\" src= \"https://miro.medium.com/max/1400/1*itm7jgcg83noLZPzol6LHQ.png\">\n",
    "</p>"
   ]
  },
  {
   "cell_type": "markdown",
   "metadata": {},
   "source": [
    "### `NumPy` é utilizado por... Processamento de Imagem e Computação Gráfica\n",
    "* Imagens no computador são representadas como Arrays Multidimensionais de\n",
    "números.\n",
    "\n",
    "* `NumPy` torna se a escolha mais natural para o mesmo.\n",
    "\n",
    "* O `NumPy` , na verdade, fornece algumas excelentes funções de biblioteca para\n",
    "rápida manipulação de imagens.\n",
    "\n",
    "* Alguns exemplos são o espelhamento de uma imagem, a rotação de uma\n",
    "imagem por um determinado ângulo etc."
   ]
  },
  {
   "cell_type": "markdown",
   "metadata": {},
   "source": [
    "### NumPy é utilizado por... Machine Learning\n",
    "* Ao escrever algoritmos de Machine Learning, supõe se que se realize vários\n",
    "cálculos numéricos em Array .\n",
    "    * Por exemplo, multiplicação de Arrays , transposição, adição, etc.\n",
    "* O NumPy fornece uma excelente biblioteca para cálculos fáceis (em termos de\n",
    "escrita de código) e rápidos (em termos de velocidade).\n",
    "* Os Arrays NumPy são usados para armazenar os dados de treinamento, bem\n",
    "como os parâmetros dos modelos de ML. "
   ]
  },
  {
   "cell_type": "markdown",
   "metadata": {},
   "source": [
    "### Por que usar `NumPy`\n",
    "* Em Python usamos listas para tratar vetores e matrizes, mas elas são lentas\n",
    "para processar.\n",
    "* O `NumPy` fornece um objeto array que é até 50x mais rápido que o Python tradicional.\n",
    "    * O objeto array em `NumPy` fornece funções de suporte que tornam o trabalho com\n",
    "vetores e matrizes muito fácil.\n",
    "* Os arrays são muito frequentemente usados em ciência de dados, onde\n",
    "velocidade e recursos são muito importantes.    \n",
    "* Os arrays `NumPy` são armazenados em um lugar contínuo na memória ao\n",
    "contrário das listas, para que os processos possam manipulá los de forma muito\n",
    "eficiente.\n",
    "    * Esse comportamento é chamado de localidade de referência em ciência da\n",
    "computação.\n",
    "* Esta é a principal razão pela qual o `NumPy` é mais rápido do que as listas.\n",
    "* Também é otimizado para trabalhar com as mais recentes arquiteturas de CPU."
   ]
  },
  {
   "cell_type": "markdown",
   "metadata": {},
   "source": [
    "__Para utilizar o Numpy é necessario instalá-lo , usando o comando:__\n",
    "```python\n",
    "    pip install numpy   # caso utilize o pip\n",
    "    conda install numpy # caso utilize o conda\n",
    "    sudo apt-get install python-numpy # Linux Terminal\n",
    "```"
   ]
  },
  {
   "cell_type": "markdown",
   "metadata": {},
   "source": [
    "### Usando o NumPy\n",
    "Para utilizar a biblioteca NumPy em um programa, é necessário importa-la:\n",
    "```python\n",
    "    import numpy as np\n",
    "```"
   ]
  },
  {
   "cell_type": "markdown",
   "metadata": {},
   "source": [
    "### Criando arrays em NumPy"
   ]
  },
  {
   "cell_type": "markdown",
   "metadata": {},
   "source": [
    "* Array diferem-se de lista pois o conteudo é tratado com um vetor!\n"
   ]
  },
  {
   "cell_type": "markdown",
   "metadata": {},
   "source": [
    "$ a =\\begin{bmatrix}\n",
    "x\\\\ \n",
    "y\\\\ \n",
    "\\end{bmatrix}$ "
   ]
  },
  {
   "cell_type": "markdown",
   "metadata": {},
   "source": [
    "Podemos criar um objeto ndarray usando a função array:"
   ]
  },
  {
   "cell_type": "code",
   "execution_count": 2,
   "metadata": {},
   "outputs": [
    {
     "name": "stdout",
     "output_type": "stream",
     "text": [
      "[1 2 3 4]\n",
      "<class 'numpy.ndarray'>\n"
     ]
    }
   ],
   "source": [
    "import numpy as np\n",
    "\n",
    "arr = np.array([1,2,3,4])\n",
    "print(arr)\n",
    "print(type(arr))"
   ]
  },
  {
   "cell_type": "markdown",
   "metadata": {},
   "source": [
    "Para criar um array , podemos passar uma lista, tupla ou qualquer objeto semelhante a matriz no método array () e ele será convertido em um objeto do tipo ndarray"
   ]
  },
  {
   "cell_type": "code",
   "execution_count": 3,
   "metadata": {},
   "outputs": [
    {
     "name": "stdout",
     "output_type": "stream",
     "text": [
      "[[1 2]\n",
      " [3 4]]\n"
     ]
    }
   ],
   "source": [
    "arr = np.array([[1,2],[3,4]])\n",
    "print(arr)"
   ]
  },
  {
   "cell_type": "markdown",
   "metadata": {},
   "source": [
    "Criar um ndarray a partir de sequências aninhadas irregulares."
   ]
  },
  {
   "cell_type": "code",
   "execution_count": 4,
   "metadata": {},
   "outputs": [
    {
     "name": "stdout",
     "output_type": "stream",
     "text": [
      "[list([1, 2]) list([3, 4, 5])]\n"
     ]
    },
    {
     "name": "stderr",
     "output_type": "stream",
     "text": [
      "C:\\Users\\thoma\\AppData\\Local\\Temp/ipykernel_6892/1979004199.py:1: VisibleDeprecationWarning: Creating an ndarray from ragged nested sequences (which is a list-or-tuple of lists-or-tuples-or ndarrays with different lengths or shapes) is deprecated. If you meant to do this, you must specify 'dtype=object' when creating the ndarray.\n",
      "  arr = np.array([[1,2],[3,4,5]])\n"
     ]
    }
   ],
   "source": [
    "arr = np.array([[1,2],[3,4,5]])\n",
    "print(arr)"
   ]
  },
  {
   "cell_type": "markdown",
   "metadata": {},
   "source": [
    "### Dimensão em arrays\n",
    "0-D: Representa um número escalar\n"
   ]
  },
  {
   "cell_type": "code",
   "execution_count": 5,
   "metadata": {},
   "outputs": [
    {
     "name": "stdout",
     "output_type": "stream",
     "text": [
      "1\n"
     ]
    }
   ],
   "source": [
    "arr = np.array(1)\n",
    "print(arr)"
   ]
  },
  {
   "cell_type": "markdown",
   "metadata": {},
   "source": [
    "1-D: Representa um Vetor\n"
   ]
  },
  {
   "cell_type": "code",
   "execution_count": 6,
   "metadata": {},
   "outputs": [
    {
     "name": "stdout",
     "output_type": "stream",
     "text": [
      "[1 2]\n"
     ]
    }
   ],
   "source": [
    "arr = np.array([1,2])\n",
    "print(arr)"
   ]
  },
  {
   "cell_type": "markdown",
   "metadata": {},
   "source": [
    "2-D:\n",
    "* Um array que tem arrays 1D como seus elementos é chamado de array 2D.   \n",
    "* Estes são frequentemente usados para representar matrizes.\n",
    "* `NumPy` tem um subconjunto inteiro dedicado às operações de matriz."
   ]
  },
  {
   "cell_type": "code",
   "execution_count": 7,
   "metadata": {},
   "outputs": [
    {
     "name": "stdout",
     "output_type": "stream",
     "text": [
      "[[1 2 3]\n",
      " [3 4 5]\n",
      " [7 8 9]]\n"
     ]
    }
   ],
   "source": [
    "arr = np.array([[1,2,3],\n",
    "               [3,4,5],\n",
    "               [7,8,9]])\n",
    "print(arr)"
   ]
  },
  {
   "cell_type": "markdown",
   "metadata": {},
   "source": [
    "3-D:\n",
    "* Um array que tem arrays 2D como seus elementos é chamado de array 3D.\n",
    "\n",
    "* Estes são frequentemente usados para representar um tensor de 3ª ordem."
   ]
  },
  {
   "cell_type": "code",
   "execution_count": 8,
   "metadata": {},
   "outputs": [
    {
     "name": "stdout",
     "output_type": "stream",
     "text": [
      "[[[ 1  2  3]\n",
      "  [ 3  4  5]]\n",
      "\n",
      " [[ 7  8  9]\n",
      "  [10 11 12]]]\n"
     ]
    }
   ],
   "source": [
    "arr = np.array([[[1,2,3],\n",
    "                [3,4,5]],\n",
    "               [[7,8,9],\n",
    "                [10,11,12]]])\n",
    "print(arr)"
   ]
  },
  {
   "cell_type": "markdown",
   "metadata": {},
   "source": [
    "Dimensões superiores: Tensores\n"
   ]
  },
  {
   "cell_type": "markdown",
   "metadata": {},
   "source": [
    "<p align=\"center\">\n",
    "  <img width=\"400\" height=\"267\" src= \"https://miro.medium.com/max/538/1*kHues3bfBOythrXNLosesQ.png\">\n",
    "</p>"
   ]
  },
  {
   "cell_type": "markdown",
   "metadata": {},
   "source": [
    "### Descobrindo a dimensão de um array\n",
    "* O NumPy Arrays fornece o atributo `ndim `que retorna um inteiro que\n",
    "nos diz quantas dimensões o array tem.\n",
    "\n"
   ]
  },
  {
   "cell_type": "code",
   "execution_count": 9,
   "metadata": {},
   "outputs": [
    {
     "name": "stdout",
     "output_type": "stream",
     "text": [
      "0\n",
      "1\n",
      "2\n"
     ]
    }
   ],
   "source": [
    "a = np.array(12)\n",
    "b = np.array([1,2,3])\n",
    "c = np.array([[1,2,3],[4,5,6]])\n",
    "print(a.ndim)\n",
    "print(b.ndim)\n",
    "print(c.ndim)"
   ]
  },
  {
   "cell_type": "markdown",
   "metadata": {},
   "source": [
    "### Índices dos arrays\n",
    "Elementos dos arrays são acessados iguais as listas."
   ]
  },
  {
   "cell_type": "code",
   "execution_count": 10,
   "metadata": {},
   "outputs": [
    {
     "name": "stdout",
     "output_type": "stream",
     "text": [
      "3\n"
     ]
    }
   ],
   "source": [
    "arr = np.array([1,2,3,4])\n",
    "print(arr[2])"
   ]
  },
  {
   "cell_type": "code",
   "execution_count": 11,
   "metadata": {},
   "outputs": [
    {
     "name": "stdout",
     "output_type": "stream",
     "text": [
      "6\n"
     ]
    }
   ],
   "source": [
    "arr = np.array([[1,2,3],[4,5,6]])\n",
    "print(arr[1][2])\n"
   ]
  },
  {
   "cell_type": "markdown",
   "metadata": {},
   "source": [
    "### Índices negativos\n",
    "* Igual às listas, os índices negativos indexam os elementos\n",
    "a partir do final do array"
   ]
  },
  {
   "cell_type": "code",
   "execution_count": 12,
   "metadata": {},
   "outputs": [
    {
     "name": "stdout",
     "output_type": "stream",
     "text": [
      "Ultimo elemento da segunda lista:  10\n"
     ]
    }
   ],
   "source": [
    "arr =np.array([[1,2,3,4,5],[6,7,8,9,10]])\n",
    "print(\"Ultimo elemento da segunda lista: \",arr[1,-1])"
   ]
  },
  {
   "cell_type": "markdown",
   "metadata": {},
   "source": [
    "### Fatiamento de arrays\n",
    "* Fatiar em Python significa pegar elementos de um dado índice até outro dado índice.\n",
    "* Para fatiar usamos os índices como:\n",
    "    * [`start` : `end`]\n",
    "    * Se não definirmos o `start`, se considera iniciado em 0.\n",
    "    * Se não passarmos o `end`, se fatia até o final da dimensão.\n",
    "* Também podemos definir o passo, assim:\n",
    "    * [ `start` : `end` : `step`]"
   ]
  },
  {
   "cell_type": "code",
   "execution_count": 13,
   "metadata": {},
   "outputs": [
    {
     "name": "stdout",
     "output_type": "stream",
     "text": [
      "[1 2]\n",
      "[1 2 3 4 5]\n",
      "[5 6 7]\n",
      "[2 4 6]\n"
     ]
    }
   ],
   "source": [
    "arr = np.array([1,2,3,4,5,6,7])\n",
    "print(arr[:2])\n",
    "print(arr[:5])\n",
    "print(arr[4:])\n",
    "print(arr[1:7:2])"
   ]
  },
  {
   "cell_type": "markdown",
   "metadata": {},
   "source": [
    "### Fatiamento de arrays de mais dimensões"
   ]
  },
  {
   "cell_type": "code",
   "execution_count": 14,
   "metadata": {},
   "outputs": [
    {
     "name": "stdout",
     "output_type": "stream",
     "text": [
      "[7 8 9]\n",
      "[3 8]\n",
      "[[2 3 4]\n",
      " [7 8 9]]\n"
     ]
    }
   ],
   "source": [
    "arr = np.array([[1,2,3,4,5],[6,7,8,9,10]])\n",
    "print(arr[1,1:4])\n",
    "print(arr[0:2,2])\n",
    "print(arr[0:2,1:4])"
   ]
  },
  {
   "cell_type": "markdown",
   "metadata": {},
   "source": [
    "### Fatiamento de arrays : retirando uma linha ou coluna"
   ]
  },
  {
   "cell_type": "code",
   "execution_count": 15,
   "metadata": {},
   "outputs": [],
   "source": [
    "arr = np.array([[1,2,3],[4,5,6],[7,8,9]])\n"
   ]
  },
  {
   "cell_type": "markdown",
   "metadata": {},
   "source": [
    "Capturando um linha:\n"
   ]
  },
  {
   "cell_type": "code",
   "execution_count": 16,
   "metadata": {},
   "outputs": [
    {
     "name": "stdout",
     "output_type": "stream",
     "text": [
      "[4 5 6]\n"
     ]
    }
   ],
   "source": [
    "print(arr[1,:])"
   ]
  },
  {
   "cell_type": "markdown",
   "metadata": {},
   "source": [
    "Capturando uma coluna:"
   ]
  },
  {
   "cell_type": "code",
   "execution_count": 17,
   "metadata": {},
   "outputs": [
    {
     "name": "stdout",
     "output_type": "stream",
     "text": [
      "[2 5 8]\n"
     ]
    }
   ],
   "source": [
    "print( arr[:, 1])"
   ]
  },
  {
   "cell_type": "markdown",
   "metadata": {},
   "source": [
    "### Tipos de dados do NumPy\n",
    "* O NumPy define mais tipos de dados que os existentes em Python:\n",
    "    * Existem:\n",
    "        * i - integer\n",
    "        * b - boolean\n",
    "        * u - unsigned integer\n",
    "        * f - float\n",
    "        * c - complex float\n",
    "        * m - timedelta\n",
    "        * M - datetime\n",
    "        * O - object\n",
    "        * S - string\n",
    "        * U - unicode string\n",
    "        * V - fixed chunk of memory for other type ( void )\n",
    "* Para descobrir o tipo de dado em NumPy use `dtype()`\n",
    "        \n"
   ]
  },
  {
   "cell_type": "code",
   "execution_count": 18,
   "metadata": {},
   "outputs": [
    {
     "name": "stdout",
     "output_type": "stream",
     "text": [
      "int32\n"
     ]
    }
   ],
   "source": [
    "arr = np.array([1,2,3,4])\n",
    "print(arr.dtype)"
   ]
  },
  {
   "cell_type": "code",
   "execution_count": 19,
   "metadata": {},
   "outputs": [
    {
     "name": "stdout",
     "output_type": "stream",
     "text": [
      "float64\n"
     ]
    }
   ],
   "source": [
    "arr = np.array([1.0,2.0,3.0])\n",
    "print(arr.dtype)"
   ]
  },
  {
   "cell_type": "code",
   "execution_count": 20,
   "metadata": {},
   "outputs": [
    {
     "name": "stdout",
     "output_type": "stream",
     "text": [
      "<U6\n"
     ]
    }
   ],
   "source": [
    "arr = np.array(['apple','banana','cherry'])\n",
    "print(arr.dtype)"
   ]
  },
  {
   "cell_type": "markdown",
   "metadata": {},
   "source": [
    "### Criando um array com um tipo de dado definido\n",
    "* A função array () usada para criar arrays pode ter um argumento\n",
    "opcional dtype que nos permite definir o tipo de dados esperado\n",
    "dos elementos de matriz:\n",
    "```python\n",
    "    arr = np.array ([ 2, 3, 4], dtype = \"s\")\n",
    "```\n",
    "Foi criado um array de strings com os números."
   ]
  },
  {
   "cell_type": "markdown",
   "metadata": {},
   "source": [
    "### Tipos de dados do NumPy\n",
    "* Os tipos i u f S and U permitem definir o tamanho, em bytes.\n",
    "* Se define com 2, 4 ou 8 bytes para números\n",
    "* Para strings , se define a quantidade de caracteres"
   ]
  },
  {
   "cell_type": "code",
   "execution_count": 21,
   "metadata": {},
   "outputs": [
    {
     "name": "stdout",
     "output_type": "stream",
     "text": [
      "|S5\n"
     ]
    }
   ],
   "source": [
    "arr = np.array([1,2,3,4,5], dtype = \"S5\" )\n",
    "print(arr.dtype)"
   ]
  },
  {
   "cell_type": "markdown",
   "metadata": {},
   "source": [
    "### Copiando um array\n",
    "* Para copiar um array é necessário utilizar a função `copy()`\n"
   ]
  },
  {
   "cell_type": "code",
   "execution_count": 22,
   "metadata": {},
   "outputs": [
    {
     "name": "stdout",
     "output_type": "stream",
     "text": [
      "[42  2  3  4  5]\n",
      "[1 2 3 4 5]\n"
     ]
    }
   ],
   "source": [
    "arr =  np.array([1,2,3,4,5])\n",
    "x = arr.copy()\n",
    "arr[0] = 42 \n",
    "print(arr)\n",
    "print(x)"
   ]
  },
  {
   "cell_type": "markdown",
   "metadata": {},
   "source": [
    "* Quando não usamos a função `copy ()`, criamos apenas uma\n",
    "referência para o array original:"
   ]
  },
  {
   "cell_type": "code",
   "execution_count": 23,
   "metadata": {},
   "outputs": [
    {
     "name": "stdout",
     "output_type": "stream",
     "text": [
      "[42  2  3  4  5]\n",
      "[42  2  3  4  5]\n"
     ]
    }
   ],
   "source": [
    "arr =  np.array([1,2,3,4,5])\n",
    "x = arr\n",
    "arr[0] = 42 \n",
    "print(arr)\n",
    "print(x)"
   ]
  },
  {
   "cell_type": "markdown",
   "metadata": {},
   "source": [
    "### Shape de um array\n",
    "* O shape , ou forma , de um array , é dado pelo número de elementos em cada dimensão.\n",
    "* Os arrays `NumPy` têm um atributo chamado shape que retorna uma\n",
    "tupla com cada índice tendo o número de elementos correspondentes\n",
    "em cada dimensão:"
   ]
  },
  {
   "cell_type": "code",
   "execution_count": 24,
   "metadata": {},
   "outputs": [
    {
     "name": "stdout",
     "output_type": "stream",
     "text": [
      "(2, 3)\n"
     ]
    }
   ],
   "source": [
    "arr = np.array([[1,2,3],[4,5,6]])\n",
    "print(arr.shape)"
   ]
  },
  {
   "cell_type": "markdown",
   "metadata": {},
   "source": [
    "### Reshaping arrays\n",
    "* Reshape significa mudar a forma de um array\n",
    "* Reshaping podemos adicionar ou remover dimensões ou alterar o número de elementos em cada dimensão.\n",
    "* Muito usado em ciência de dados e ML.\n",
    "* Utiliza se o método `reshape (newshape)`:\n",
    "    * `newshape` define a nova forma do array\n",
    "    * Pode ter qualquer forma, desde que o número de elementos do novo array seja igual ao original."
   ]
  },
  {
   "cell_type": "code",
   "execution_count": 25,
   "metadata": {},
   "outputs": [
    {
     "name": "stdout",
     "output_type": "stream",
     "text": [
      "[1 2 3 4 5 6 7 8]\n",
      "\n",
      "****\n",
      "\n",
      "[[1 2]\n",
      " [3 4]\n",
      " [5 6]\n",
      " [7 8]]\n",
      "\n",
      "////\n",
      "\n",
      "[[1 2 3 4]\n",
      " [5 6 7 8]]\n",
      "\n",
      "----\n",
      "\n",
      "[[[1 2]\n",
      "  [3 4]]\n",
      "\n",
      " [[5 6]\n",
      "  [7 8]]]\n",
      "\n"
     ]
    }
   ],
   "source": [
    "arr = np.array([1,2,3,4,5,6,7,8])\n",
    "newarr = arr.reshape(4,2)\n",
    "new2arr = arr.reshape(2,4)\n",
    "new3arr = arr.reshape(2,2,2)\n",
    "print(arr)\n",
    "print('')\n",
    "print('****')\n",
    "print('')\n",
    "print(newarr)\n",
    "print('')\n",
    "print('////')\n",
    "print('')\n",
    "print(new2arr)\n",
    "print('')\n",
    "print('----')\n",
    "print('')\n",
    "print(new3arr)\n",
    "print('')\n"
   ]
  },
  {
   "cell_type": "markdown",
   "metadata": {},
   "source": [
    "### Flattening\n",
    "* Reduz qualquer array multidimensional à uma\n",
    "dimensão"
   ]
  },
  {
   "cell_type": "code",
   "execution_count": 26,
   "metadata": {},
   "outputs": [
    {
     "name": "stdout",
     "output_type": "stream",
     "text": [
      "[1 2 3 4 5 6 7 8]\n"
     ]
    }
   ],
   "source": [
    "new4arr = arr.reshape(-1)\n",
    "print(new4arr)"
   ]
  },
  {
   "cell_type": "markdown",
   "metadata": {},
   "source": [
    "### Iterando nos arrays NumPy\n",
    "* Iterar em um array NumPy é semelhante a iterar em listas.\n",
    "* Utiliza se um comando de repetição como o `for`:"
   ]
  },
  {
   "cell_type": "code",
   "execution_count": 27,
   "metadata": {},
   "outputs": [
    {
     "name": "stdout",
     "output_type": "stream",
     "text": [
      "1\n",
      "2\n",
      "3\n"
     ]
    }
   ],
   "source": [
    "arr = np.array ([1, 2, 3])\n",
    "for x in arr:\n",
    "    print (x)"
   ]
  },
  {
   "cell_type": "markdown",
   "metadata": {},
   "source": [
    "### Iterando nos arrays NumPy 2D\n",
    "* Iterar em um array NumPy é semelhante a iterar em listas.\n",
    "\n",
    "* Utiliza se um comando de repetição como o `for`:"
   ]
  },
  {
   "cell_type": "code",
   "execution_count": 28,
   "metadata": {},
   "outputs": [
    {
     "name": "stdout",
     "output_type": "stream",
     "text": [
      "[2, 3]\n",
      "[4, 5, 6]\n"
     ]
    },
    {
     "name": "stderr",
     "output_type": "stream",
     "text": [
      "C:\\Users\\thoma\\AppData\\Local\\Temp/ipykernel_6892/1741564835.py:1: VisibleDeprecationWarning: Creating an ndarray from ragged nested sequences (which is a list-or-tuple of lists-or-tuples-or ndarrays with different lengths or shapes) is deprecated. If you meant to do this, you must specify 'dtype=object' when creating the ndarray.\n",
      "  arr = np.array ([[ 2, 3],[4, 5, 6]])\n"
     ]
    }
   ],
   "source": [
    "arr = np.array ([[ 2, 3],[4, 5, 6]])\n",
    "for x in arr:\n",
    "    print (x)"
   ]
  },
  {
   "cell_type": "markdown",
   "metadata": {},
   "source": [
    "* Iterar em um array NumPy é semelhante a iterar em listas.\n",
    "\n",
    "* Utiliza se um comando de repetição como o `for`:\n",
    "    "
   ]
  },
  {
   "cell_type": "code",
   "execution_count": 29,
   "metadata": {},
   "outputs": [
    {
     "name": "stdout",
     "output_type": "stream",
     "text": [
      "1\n",
      "2\n",
      "3\n",
      "4\n",
      "5\n",
      "6\n"
     ]
    }
   ],
   "source": [
    "arr = np.array ([[1, 2, 3],[4, 5, 6]])\n",
    "for x in arr:\n",
    "    for y in x:\n",
    "        print (y)"
   ]
  },
  {
   "cell_type": "markdown",
   "metadata": {},
   "source": [
    "### Iterando nos arrays NumPy 3D\n",
    "* Iterar em um array NumPy é semelhante a iterar em listas.\n",
    "* Utiliza se um comando de repetição como o `for`:"
   ]
  },
  {
   "cell_type": "code",
   "execution_count": 30,
   "metadata": {},
   "outputs": [
    {
     "name": "stdout",
     "output_type": "stream",
     "text": [
      "1\n",
      "2\n",
      "3\n",
      "4\n",
      "5\n",
      "6\n",
      "7\n",
      "8\n"
     ]
    }
   ],
   "source": [
    "arr = np.array ([[[1,2],[3,4]],[[5, 6],[7,8]]])\n",
    "for x in arr:\n",
    "    for y in x:\n",
    "        for z in y:\n",
    "            print(z)"
   ]
  },
  {
   "cell_type": "markdown",
   "metadata": {},
   "source": [
    "### Busca em arrays\n",
    "* Para pesquisar um array , use o método `where()`:"
   ]
  },
  {
   "cell_type": "code",
   "execution_count": 31,
   "metadata": {},
   "outputs": [
    {
     "name": "stdout",
     "output_type": "stream",
     "text": [
      "(array([3, 5, 6], dtype=int64),)\n"
     ]
    }
   ],
   "source": [
    "arr = np.array ([1, 2, 3, 4, 5, 4, 4])\n",
    "x =  np.where(arr == 4)\n",
    "print(x)"
   ]
  },
  {
   "cell_type": "markdown",
   "metadata": {},
   "source": [
    "### Ordenando arrays\n",
    "* Ordenar significa colocar elementos em uma sequência ordenada.\n",
    "\n",
    "* Sequência ordenada é qualquer sequência que tem uma ordem\n",
    "correspondente a elementos, como numérico ou alfabético,\n",
    "ascendente ou descendente.\n",
    "\n",
    "* O objeto array em NumPy tem uma função chamada `sort()`, que\n",
    "classificará um array especificado."
   ]
  },
  {
   "cell_type": "code",
   "execution_count": 32,
   "metadata": {},
   "outputs": [
    {
     "name": "stdout",
     "output_type": "stream",
     "text": [
      "[1 2 3 3 4 5 6 7 8 9]\n",
      "['Apple' 'Banana' 'Cherry']\n",
      "[[2 3 4]\n",
      " [0 1 5]]\n"
     ]
    }
   ],
   "source": [
    "arr1 = np.array([3,5,7,4,9,2,8,3,6,1])\n",
    "arr2 = np.array(['Banana','Cherry','Apple'])\n",
    "arr3 = np.array([[3,2,4],[5,0,1]])\n",
    "print(np.sort(arr1))\n",
    "print(np.sort(arr2))\n",
    "print(np.sort(arr3))"
   ]
  },
  {
   "cell_type": "markdown",
   "metadata": {},
   "source": [
    "## Funções Básicas"
   ]
  },
  {
   "cell_type": "markdown",
   "metadata": {},
   "source": [
    "### Realizando operações entre arrays\n",
    "* O NumPy define diversas operações matemáticas entre martrizes ,\n",
    "otimizadas para velocidade de processamento.\n",
    "\n",
    "* Todas as operações básicas são definidas:\n",
    "    * Soma, subtração, multiplicação e divisão escalar de vetores\n",
    "\n",
    "    * Multiplicação vetorial\n",
    "\n",
    "    * Multiplicação de matrizes\n",
    "\n",
    "    * ..."
   ]
  },
  {
   "cell_type": "markdown",
   "metadata": {},
   "source": [
    "### Criando matrizes automaticamente"
   ]
  },
  {
   "cell_type": "code",
   "execution_count": 33,
   "metadata": {},
   "outputs": [
    {
     "data": {
      "text/plain": [
       "array([[1., 1.],\n",
       "       [1., 1.],\n",
       "       [1., 1.]])"
      ]
     },
     "execution_count": 33,
     "metadata": {},
     "output_type": "execute_result"
    }
   ],
   "source": [
    "np.ones((3, 2))"
   ]
  },
  {
   "cell_type": "code",
   "execution_count": 34,
   "metadata": {},
   "outputs": [
    {
     "data": {
      "text/plain": [
       "array([[0., 0.],\n",
       "       [0., 0.],\n",
       "       [0., 0.]])"
      ]
     },
     "execution_count": 34,
     "metadata": {},
     "output_type": "execute_result"
    }
   ],
   "source": [
    "np.zeros((3, 2))"
   ]
  },
  {
   "cell_type": "code",
   "execution_count": 35,
   "metadata": {},
   "outputs": [
    {
     "data": {
      "text/plain": [
       "array([[0.71958395, 0.23487414],\n",
       "       [0.38456157, 0.03273097],\n",
       "       [0.78193166, 0.91375718]])"
      ]
     },
     "execution_count": 35,
     "metadata": {},
     "output_type": "execute_result"
    }
   ],
   "source": [
    "np.random.rand(3,2)"
   ]
  },
  {
   "cell_type": "markdown",
   "metadata": {},
   "source": [
    "### Soma escalar"
   ]
  },
  {
   "cell_type": "code",
   "execution_count": 36,
   "metadata": {},
   "outputs": [
    {
     "name": "stdout",
     "output_type": "stream",
     "text": [
      "[1 2]\n",
      "[1 1]\n"
     ]
    }
   ],
   "source": [
    "data = np.array ([1,2])\n",
    "print(data)\n",
    "ones = np.ones (2, dtype=int)\n",
    "print(ones)"
   ]
  },
  {
   "cell_type": "code",
   "execution_count": 37,
   "metadata": {},
   "outputs": [
    {
     "data": {
      "text/plain": [
       "array([2, 3])"
      ]
     },
     "execution_count": 37,
     "metadata": {},
     "output_type": "execute_result"
    }
   ],
   "source": [
    "data + ones"
   ]
  },
  {
   "cell_type": "markdown",
   "metadata": {},
   "source": [
    "### Subtração, multiplicação, divisão escalar"
   ]
  },
  {
   "cell_type": "code",
   "execution_count": 38,
   "metadata": {},
   "outputs": [
    {
     "data": {
      "text/plain": [
       "array([0, 1])"
      ]
     },
     "execution_count": 38,
     "metadata": {},
     "output_type": "execute_result"
    }
   ],
   "source": [
    "data - ones"
   ]
  },
  {
   "cell_type": "code",
   "execution_count": 39,
   "metadata": {},
   "outputs": [
    {
     "data": {
      "text/plain": [
       "array([1, 2])"
      ]
     },
     "execution_count": 39,
     "metadata": {},
     "output_type": "execute_result"
    }
   ],
   "source": [
    "data * ones"
   ]
  },
  {
   "cell_type": "code",
   "execution_count": 40,
   "metadata": {},
   "outputs": [
    {
     "data": {
      "text/plain": [
       "array([1., 1.])"
      ]
     },
     "execution_count": 40,
     "metadata": {},
     "output_type": "execute_result"
    }
   ],
   "source": [
    "data / data"
   ]
  },
  {
   "cell_type": "markdown",
   "metadata": {},
   "source": [
    "### Broadcast, ou multiplicação por um escalar"
   ]
  },
  {
   "cell_type": "code",
   "execution_count": 41,
   "metadata": {},
   "outputs": [
    {
     "data": {
      "text/plain": [
       "array([1.6, 3.2])"
      ]
     },
     "execution_count": 41,
     "metadata": {},
     "output_type": "execute_result"
    }
   ],
   "source": [
    "data = np.array ([1.0,2.0])\n",
    "data * 1.6"
   ]
  },
  {
   "cell_type": "markdown",
   "metadata": {},
   "source": [
    "### Soma de matrizes"
   ]
  },
  {
   "cell_type": "code",
   "execution_count": 42,
   "metadata": {},
   "outputs": [
    {
     "data": {
      "text/plain": [
       "array([[2, 3],\n",
       "       [4, 5]])"
      ]
     },
     "execution_count": 42,
     "metadata": {},
     "output_type": "execute_result"
    }
   ],
   "source": [
    "data = np.array ([[1, 2], [3, 4]])\n",
    "ones = np.array ([[1, 1], [1, 1]])\n",
    "data + ones"
   ]
  },
  {
   "cell_type": "markdown",
   "metadata": {},
   "source": [
    "### Soma de matrizes de diferentes tamanhos"
   ]
  },
  {
   "cell_type": "code",
   "execution_count": 43,
   "metadata": {},
   "outputs": [
    {
     "name": "stdout",
     "output_type": "stream",
     "text": [
      "[[1 2]\n",
      " [3 4]\n",
      " [5 6]]\n"
     ]
    }
   ],
   "source": [
    "data = np.array ([[1, 2], [3, 4], [5,6]])\n",
    "print(data)\n"
   ]
  },
  {
   "cell_type": "code",
   "execution_count": 44,
   "metadata": {},
   "outputs": [
    {
     "name": "stdout",
     "output_type": "stream",
     "text": [
      "[[1 1]]\n"
     ]
    }
   ],
   "source": [
    "ones_row = np.array ([[1,1]])\n",
    "print(ones_row)"
   ]
  },
  {
   "cell_type": "code",
   "execution_count": 45,
   "metadata": {},
   "outputs": [
    {
     "data": {
      "text/plain": [
       "array([[2, 3],\n",
       "       [4, 5],\n",
       "       [6, 7]])"
      ]
     },
     "execution_count": 45,
     "metadata": {},
     "output_type": "execute_result"
    }
   ],
   "source": [
    "data + ones_row"
   ]
  },
  {
   "cell_type": "markdown",
   "metadata": {},
   "source": [
    "### Multiplicação dos elementos das matrizes"
   ]
  },
  {
   "cell_type": "code",
   "execution_count": 46,
   "metadata": {},
   "outputs": [
    {
     "name": "stdout",
     "output_type": "stream",
     "text": [
      "[[1 2]\n",
      " [3 4]]\n"
     ]
    }
   ],
   "source": [
    "data = np.array ([[1, 2], [3, 4]])\n",
    "print(data)"
   ]
  },
  {
   "cell_type": "code",
   "execution_count": 47,
   "metadata": {},
   "outputs": [
    {
     "name": "stdout",
     "output_type": "stream",
     "text": [
      "[[5 6]\n",
      " [7 8]]\n"
     ]
    }
   ],
   "source": [
    "data2 = np.array ([[5, 6], [7, 8]])\n",
    "print(data2)"
   ]
  },
  {
   "cell_type": "code",
   "execution_count": 48,
   "metadata": {},
   "outputs": [
    {
     "data": {
      "text/plain": [
       "array([[ 5, 12],\n",
       "       [21, 32]])"
      ]
     },
     "execution_count": 48,
     "metadata": {},
     "output_type": "execute_result"
    }
   ],
   "source": [
    "data * data2"
   ]
  },
  {
   "cell_type": "markdown",
   "metadata": {},
   "source": [
    "### Produto escalar\n",
    "* O produto escalar é uma operação definida entre dois vetores que\n",
    "fornece um número real (também chamado \"escalar\") como\n",
    "resultado.\n",
    "    * É o produto interno padrão do espaço euclidiano.\n",
    "* Algebricamente, o produto escalar de dois vetores é formado pela\n",
    "multiplicação de seus componentes correspondentes e pela soma dos\n",
    "produtos resultantes.\n",
    "    * Geometricamente, é o produto das magnitudes euclidianas dos dois\n",
    "vetores e o cosseno do ângulo entre eles.    "
   ]
  },
  {
   "cell_type": "markdown",
   "metadata": {},
   "source": [
    "<p , align = \"center\">\n",
    " <img width=\"400\" height=\"307\" src= \"https://www.igm.mat.br/igm/igm1/equipe-igm/desc-convertidos/matrizes/produto2_arquivos/image007.jpg\">\n",
    "</p>"
   ]
  },
  {
   "cell_type": "markdown",
   "metadata": {},
   "source": [
    "### Multiplicação de matriz\n"
   ]
  },
  {
   "cell_type": "markdown",
   "metadata": {},
   "source": [
    "<p , align = \"center\">\n",
    " <img width=\"400\" height=\"223\" src= \"https://docplayer.com.br/docs-images/39/18825811/images/3-0.png\">\n",
    "</p>"
   ]
  },
  {
   "cell_type": "markdown",
   "metadata": {},
   "source": [
    "### Produto escalar em NumPy\n"
   ]
  },
  {
   "cell_type": "code",
   "execution_count": 49,
   "metadata": {},
   "outputs": [
    {
     "name": "stdout",
     "output_type": "stream",
     "text": [
      "11\n"
     ]
    }
   ],
   "source": [
    "data = np.array ([1, 2])\n",
    "data2 = np.array ([3, 4])\n",
    "x = data.dot(data2)\n",
    "print(x)"
   ]
  },
  {
   "cell_type": "code",
   "execution_count": 51,
   "metadata": {},
   "outputs": [
    {
     "name": "stdout",
     "output_type": "stream",
     "text": [
      "14\n"
     ]
    }
   ],
   "source": [
    "data3 = np.array([4,5])\n",
    "y = data.dot(data3)\n",
    "print(y)"
   ]
  },
  {
   "cell_type": "markdown",
   "metadata": {},
   "source": [
    "### Multiplicação de matriz em NumPy"
   ]
  },
  {
   "cell_type": "code",
   "execution_count": null,
   "metadata": {},
   "outputs": [
    {
     "name": "stdout",
     "output_type": "stream",
     "text": [
      "[[19 22]\n",
      " [43 50]]\n"
     ]
    }
   ],
   "source": [
    "data = np.array ([[1, 2], [3, 4]])\n",
    "data2 = np.array ([[5, 6], [7, 8]])\n",
    "x = data.dot(data2)\n",
    "print(x)"
   ]
  },
  {
   "cell_type": "markdown",
   "metadata": {},
   "source": [
    "### Produto Vetorial em NumPy\n",
    "* O produto vetorial é uma operação sobre\n",
    "dois vetores em um espaço tridimensional e é\n",
    "denotado por × .\n",
    "    * Dados dois vetores independentes\n",
    "linearmente a e b , o produto vetorial a × b é um\n",
    "vetor perpendicular ao vetor a e ao vetor b e é a\n",
    "normal do plano contendo os dois vetores.\n",
    "* Seu resultado difere do produto escalar por ser\n",
    "também um vetor, ao invés de um escalar."
   ]
  },
  {
   "cell_type": "markdown",
   "metadata": {},
   "source": [
    "<p , align = \"center\">\n",
    " <img width=\"400\" height=\"555\" src= \"https://upload.wikimedia.org/wikipedia/commons/thumb/b/b0/Cross_product_vector.svg/1200px-Cross_product_vector.svg.png\">\n",
    "</p>"
   ]
  },
  {
   "cell_type": "markdown",
   "metadata": {},
   "source": [
    "Em NumPy , o produto vetorial, também chamado cross , é escrito como:\n",
    "`cross()`\n",
    "\n",
    "\n",
    "* O produto vetorial de a e b R3 é um vetor perpendicular a a e b.\n",
    "* Se a e b são matrizes de vetores, os vetores são definidos pelo último eixo\n",
    "de a e b por padrão, e esses eixos podem ter dimensões 2 ou 3.\n",
    "    * Nos casos em que ambos os vetores de entrada têm dimensão 2, o componente z do cruzamento\n",
    "produto é devolvido\n",
    "\n",
    "    * Onde a dimensão de a ou b é 2, o terceiro componente do vetor de entrada é\n",
    "assumido como sendo zero e o produto vetorial calculado de acordo."
   ]
  },
  {
   "cell_type": "code",
   "execution_count": null,
   "metadata": {},
   "outputs": [
    {
     "name": "stdout",
     "output_type": "stream",
     "text": [
      "[-3  6 -3]\n"
     ]
    }
   ],
   "source": [
    "data = np.array ([1, 2, 3])\n",
    "data2 = np.array ([4, 5, 6])\n",
    "y = np.cross (data,data2)\n",
    "print(y)"
   ]
  },
  {
   "cell_type": "markdown",
   "metadata": {},
   "source": [
    "### Produto vetorial em NumPy"
   ]
  },
  {
   "cell_type": "code",
   "execution_count": null,
   "metadata": {},
   "outputs": [
    {
     "name": "stdout",
     "output_type": "stream",
     "text": [
      "[[-3  6 -3]\n",
      " [ 0  0  0]\n",
      " [ 0  0  1]]\n"
     ]
    }
   ],
   "source": [
    "data = np.array ([[1,2,3],[4,5,6],[1,0,0]])\n",
    "data2 = np.array ([[4,5,6],[4,5,6],[0,1,0]])\n",
    "y = np.cross(data, data2)\n",
    "print(y)"
   ]
  },
  {
   "cell_type": "markdown",
   "metadata": {},
   "source": [
    "## Finalmentes ..."
   ]
  },
  {
   "cell_type": "markdown",
   "metadata": {},
   "source": [
    "Matriz transposta\n",
    "\n",
    "```python\n",
    "    arr.transpose() ou arr.T\n",
    "```"
   ]
  },
  {
   "cell_type": "code",
   "execution_count": null,
   "metadata": {},
   "outputs": [
    {
     "name": "stdout",
     "output_type": "stream",
     "text": [
      "[[1, 2, 3], [4, 5, 6], [7, 8, 9]]\n",
      "\n",
      "[[1 4 7]\n",
      " [2 5 8]\n",
      " [3 6 9]]\n"
     ]
    }
   ],
   "source": [
    "M =[[1,2,3],[4,5,6],[7,8,9]]\n",
    "print(M)\n",
    "print(\"\")\n",
    "M_t = np.array(M).T\n",
    "print(M_t)"
   ]
  },
  {
   "cell_type": "markdown",
   "metadata": {},
   "source": [
    "### Inversão de matriz\n",
    "* A matriz inversa de uma matriz é tal que se for\n",
    "multiplicada pela matriz original, resulta em matriz\n",
    "identidade.\n",
    "* Usamos a função` numpy.linalg.inv()` para calcular a\n",
    "inversa de uma matriz."
   ]
  },
  {
   "cell_type": "code",
   "execution_count": null,
   "metadata": {},
   "outputs": [
    {
     "name": "stdout",
     "output_type": "stream",
     "text": [
      "[[1 2]\n",
      " [3 4]]\n",
      "[[-2.   1. ]\n",
      " [ 1.5 -0.5]]\n",
      "---\n",
      "[[1.0000000e+00 0.0000000e+00]\n",
      " [8.8817842e-16 1.0000000e+00]]\n"
     ]
    }
   ],
   "source": [
    "x = np.array ([[1,2],[3,4]])\n",
    "y = np.linalg.inv(x)\n",
    "print(x)\n",
    "print(y)\n",
    "print(\"---\")\n",
    "print((np.dot (x,y)))"
   ]
  },
  {
   "cell_type": "markdown",
   "metadata": {},
   "source": [
    "### Máximo, mínimo, soma"
   ]
  },
  {
   "cell_type": "code",
   "execution_count": null,
   "metadata": {},
   "outputs": [
    {
     "data": {
      "text/plain": [
       "3"
      ]
     },
     "execution_count": 183,
     "metadata": {},
     "output_type": "execute_result"
    }
   ],
   "source": [
    "data = np.array([1,2,3])\n",
    "data.max()"
   ]
  },
  {
   "cell_type": "code",
   "execution_count": null,
   "metadata": {},
   "outputs": [
    {
     "data": {
      "text/plain": [
       "1"
      ]
     },
     "execution_count": 184,
     "metadata": {},
     "output_type": "execute_result"
    }
   ],
   "source": [
    "data.min()"
   ]
  },
  {
   "cell_type": "code",
   "execution_count": null,
   "metadata": {},
   "outputs": [
    {
     "data": {
      "text/plain": [
       "6"
      ]
     },
     "execution_count": 185,
     "metadata": {},
     "output_type": "execute_result"
    }
   ],
   "source": [
    "data.sum()"
   ]
  },
  {
   "cell_type": "markdown",
   "metadata": {},
   "source": [
    "### Máximo, mínimo, soma por linha ou coluna"
   ]
  },
  {
   "cell_type": "code",
   "execution_count": null,
   "metadata": {},
   "outputs": [
    {
     "data": {
      "text/plain": [
       "array([5, 6])"
      ]
     },
     "execution_count": 187,
     "metadata": {},
     "output_type": "execute_result"
    }
   ],
   "source": [
    "data = np.array([[1,2],[3,4],[5,6]])\n",
    "data.max(axis = 0) #Olhara o maior valor utilizando as colunas como parametro "
   ]
  },
  {
   "cell_type": "code",
   "execution_count": null,
   "metadata": {},
   "outputs": [
    {
     "data": {
      "text/plain": [
       "array([2, 4, 6])"
      ]
     },
     "execution_count": 188,
     "metadata": {},
     "output_type": "execute_result"
    }
   ],
   "source": [
    "data.max(axis = 1)#Olhara o maior valor utilizando as linhas como parametro "
   ]
  },
  {
   "cell_type": "markdown",
   "metadata": {},
   "source": [
    "Terminamos a Primeira parte, mas ainda ha coisa que irei tratar sobre vetores nas proximas aulas como a representação grafica de soma de vetores.\n",
    "\n",
    "Antes disso precisamos ver como construir graficos"
   ]
  },
  {
   "cell_type": "markdown",
   "metadata": {},
   "source": [
    "### Conclusão\n",
    "* NumPy provém uma maneira simples tratar vetores,\n",
    "matrizes e dados em geral.\n",
    "* NumPy resolve quase toda matemática...\n",
    "* NumPy possui muitas outras funções prontas...\n",
    "\n",
    "\n",
    "     <[Referencias] (https://numpy.org/doc/stable/reference/routines.html)>"
   ]
  }
 ],
 "metadata": {
  "interpreter": {
   "hash": "4badd61a3eb0a98b49024dc08b6e569de2eac3230396ff1e691db44e3b600cf6"
  },
  "kernelspec": {
   "display_name": "Python 3.9.9 64-bit",
   "language": "python",
   "name": "python3"
  },
  "language_info": {
   "codemirror_mode": {
    "name": "ipython",
    "version": 3
   },
   "file_extension": ".py",
   "mimetype": "text/x-python",
   "name": "python",
   "nbconvert_exporter": "python",
   "pygments_lexer": "ipython3",
   "version": "3.9.9"
  },
  "orig_nbformat": 4
 },
 "nbformat": 4,
 "nbformat_minor": 2
}
