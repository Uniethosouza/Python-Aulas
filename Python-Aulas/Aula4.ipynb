{
 "cells": [
  {
   "cell_type": "markdown",
   "metadata": {},
   "source": [
    "# Funções\n",
    "* Funções são blocos de código que realizam determinadas\n",
    "tarefas que normalmente precisam ser executadas diversas vezes\n",
    "dentro da mesma aplicação\n",
    "\n",
    "* Assim, tarefas muito utilizadas costumam ser agrupadas em\n",
    "funções , que, depois de definidas, podem ser utilizadas / chamadas\n",
    "em qualquer parte do código somente pelo seu nome.\n",
    "\n",
    "Já utilizamos algumas funções no Python\n",
    "\n",
    "```python\n",
    "    print(\"Olá\")\n",
    "    input(\"Digite o valor de entrada: \")\n",
    "    int(\"3\")\n",
    "    range(0,100)\n",
    "    randint(0,10)\n",
    "    sleep(1)\n",
    "    sqrt(9)\n",
    "```"
   ]
  },
  {
   "cell_type": "markdown",
   "metadata": {},
   "source": [
    "### Definindo funções em Python `def()`\n",
    "* Podemos criar / definir nossas próprias funções no Python utilizando a palavra\n",
    "chave `def` seguido do `nome da função` , parêntesis () e :\n",
    "\n",
    "    Sintaxe:\n",
    "```python\n",
    "    def <nome da função>():\n",
    "        tarefa que serão realizadas dentro da função\n",
    "```\n",
    "* Exemplo: \n",
    "```python\n",
    "    def imprimeOla():\n",
    "        print(\"Olá\")\n",
    "```\n"
   ]
  },
  {
   "cell_type": "markdown",
   "metadata": {},
   "source": [
    "### Funções `com` e `sem` parâmetros\n",
    "As funções podem ou não ter `parâmetros` , que `são valores enviados às\n",
    "funções` dentro dos parêntesis no momento em que elas são chamadas\n",
    "* Sem parâmetros:\n",
    "```python\n",
    "    def soma():\n",
    "        a = 9 \n",
    "        b = 8\n",
    "        print(a+b)\n",
    "    soma() \n",
    "    17   \n",
    "```\n",
    "* Com parâmetros:\n",
    "    \n",
    " ```python\n",
    "    def soma(a,b):\n",
    "        print(a+b)\n",
    "    soma(3,4) \n",
    "    7\n",
    " ```\n",
    "\n",
    "\n"
   ]
  },
  {
   "cell_type": "markdown",
   "metadata": {},
   "source": [
    "### Funções `return()`\n",
    "* Além dos parâmetros, as funções podem ou não ter um `valor de retorno`\n",
    "\n",
    "* O retorno é definido pela palavra chave` return`\n",
    "\n",
    "Com retorno:\n",
    " ```python\n",
    "    def soma():\n",
    "        a = 9 \n",
    "        b = 8\n",
    "        return(a+b)\n",
    "    print(soma()) \n",
    "    17   \n",
    " ```\n",
    "Sem retorno:\n",
    "    \n",
    " ```python\n",
    "    def soma(a,b):\n",
    "        return(a+b)\n",
    "    print(soma(3,4)) \n",
    "    7\n",
    " ```\n",
    "\n",
    "* Exemplo: Fazer uma função que retorne `True` ou `False` para a\n",
    "verificação de números pares."
   ]
  },
  {
   "cell_type": "code",
   "execution_count": 1,
   "metadata": {},
   "outputs": [
    {
     "name": "stdout",
     "output_type": "stream",
     "text": [
      "False\n",
      "True\n",
      "False\n"
     ]
    }
   ],
   "source": [
    "def par(num):\n",
    "    return(num%2==0)\n",
    "print(par(3))  \n",
    "print(par(4))\n",
    "print(par(5))          "
   ]
  },
  {
   "cell_type": "markdown",
   "metadata": {},
   "source": [
    "* Se precisarmos de uma função\n",
    "que retorne a string “ par ” ou\n",
    "ímpar ”, podemos reutilizar a\n",
    "função par e criar uma função\n",
    "nova:"
   ]
  },
  {
   "cell_type": "code",
   "execution_count": 2,
   "metadata": {},
   "outputs": [
    {
     "name": "stdout",
     "output_type": "stream",
     "text": [
      "Par\n",
      "Ímpar\n",
      "Par\n"
     ]
    }
   ],
   "source": [
    "def par(num):\n",
    "    return(num%2 == 0)\n",
    "def ParOuImpar(x):\n",
    "    if par(x)== True:\n",
    "        return \"Par\"\n",
    "    else:\n",
    "        return \"Ímpar\"\n",
    "print(ParOuImpar(4))\n",
    "print(ParOuImpar(5))\n",
    "print(ParOuImpar(6))               "
   ]
  },
  {
   "cell_type": "markdown",
   "metadata": {},
   "source": [
    "### Utilizando Metodos\n",
    "\n",
    "* Como vimos na aula 3 existem diversos metodos. [Alguns deles a seguir]\n",
    "<div align = \"center\">\n",
    "\n",
    "| Funções  \t|  sort()  \t|\n",
    "|:--------:\t|:--------:\t|\n",
    "|  append() \t|  index() \t|\n",
    "|  clear()  \t|  insert()\t|\n",
    "|   copy() \t|   pop()   |\n",
    "|  count()\t|  remove()|\n",
    "|  extend() \t| reverse()|\n",
    "\n",
    "</div>\n",
    "\n",
    "* Metodos seriam como funções simplificadas, pois nao é necessário descrever cada passo necessário para realizar uma tarefa expecifica, entretanto voce estará limitado a ela, sem a possibilidade de personaliza-lá \n",
    "\n",
    "\n",
    "Exemplo:\n"
   ]
  },
  {
   "cell_type": "code",
   "execution_count": 8,
   "metadata": {},
   "outputs": [
    {
     "name": "stdout",
     "output_type": "stream",
     "text": [
      "\n",
      "thomasPatrick\n",
      "\n",
      "13\n",
      "2\n",
      "Thomaspatrick\n",
      "THOMASPATRICK\n",
      "thomaspatrick\n",
      "False\n",
      "True\n",
      "1\n",
      "th2masPatrick\n",
      "thomasPatrickthomasPatrickthomasPatrick\n"
     ]
    }
   ],
   "source": [
    "name = \"thomasPatrick\"\n",
    "\n",
    "print(\"\\n\"+name+\"\\n\")\n",
    "\n",
    "print(len(name))                #Quantidade de letras\n",
    "print(name.find(\"o\"))           #Qual posição, apartir do 0 , esta o \"o\"\n",
    "print(name.capitalize())        #Primeira letra maiuscula\n",
    "print(name.upper())             #Tudo maiuscula\n",
    "print(name.lower())             #Tudo minusculo\n",
    "print(name.isdigit())           #a string é um digito ? \n",
    "print(name.isalpha())           #APENAS letras?    \n",
    "print(name.count(\"o\"))          #Quantas vezes o \"o\" aparece na string\n",
    "print(name.replace(\"o\",\"2\"))    #Substitui o \"o\" por 2    \n",
    "print(name*3)                   #Imprima o name 3 vezes"
   ]
  }
 ],
 "metadata": {
  "interpreter": {
   "hash": "4badd61a3eb0a98b49024dc08b6e569de2eac3230396ff1e691db44e3b600cf6"
  },
  "kernelspec": {
   "display_name": "Python 3.9.9 64-bit",
   "language": "python",
   "name": "python3"
  },
  "language_info": {
   "codemirror_mode": {
    "name": "ipython",
    "version": 3
   },
   "file_extension": ".py",
   "mimetype": "text/x-python",
   "name": "python",
   "nbconvert_exporter": "python",
   "pygments_lexer": "ipython3",
   "version": "3.10.0"
  },
  "orig_nbformat": 4
 },
 "nbformat": 4,
 "nbformat_minor": 2
}
