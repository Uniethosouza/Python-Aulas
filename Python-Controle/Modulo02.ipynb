{
 "cells": [
  {
   "cell_type": "markdown",
   "metadata": {},
   "source": [
    "# Modulo 2 - Introdução ao Modelo Dinâmico"
   ]
  },
  {
   "cell_type": "markdown",
   "metadata": {},
   "source": [
    "Os modelos dinâmicos são essenciais para compreender a dinâmica do sistema em malha aberta (modo manual) ou para controlo em Malha fechada (automático). Estes modelos ou derivam de dados (empíricos) ou de relações mais fundamentais (primeiros princípios, baseados na física) que dependem do conhecimento do processo. Uma combinação das duas abordagens é frequentemente utilizada na prática onde a forma das equações é desenvolvida a partir de equações de equilíbrio fundamental e parâmetros desconhecidos ou incertos são ajustados para se ajustarem aos dados do processo.\n",
    "\n",
    "Na engenharia, existem 4 equações de equilíbrio comuns a partir de princípios de conservação, incluindo massa, dinâmica, energia e espécies (ver Equações de Equações de Equilíbrio). Uma alternativa aos modelos baseados na física é a utilização de dados input-output para desenvolver modelos empíricos dinâmicos, tais como sistemas de primeira ou segunda ordem.\n"
   ]
  },
  {
   "cell_type": "markdown",
   "metadata": {},
   "source": [
    "## Etapas na Modelação Dinâmica"
   ]
  },
  {
   "cell_type": "markdown",
   "metadata": {},
   "source": [
    "Seguem-se as orientações gerais para o desenvolvimento de um modelo dinâmico. O processo é iterativo, pois os resultados da simulação ajudam a informar os pressupostos da modelação ou a corrigir erros nas equações de equilíbrio dinâmico."
   ]
  },
  {
   "cell_type": "markdown",
   "metadata": {},
   "source": [
    "1. Identificar objectivo para a simulação\n",
    "2. Desenhar um diagrama esquemático, variáveis do processo de etiquetagem\n",
    "3. Listar todos os pressupostos\n",
    "4. Determinar a dependência espacial\n",
    "    * sim = Equação Diferencial Parcial (PDE)\n",
    "    * não = Equação Diferencial Ordinária (ODE)\n",
    "5. Escrever balanços dinâmicos (massa, espécie, energia)\n",
    "6. Outras relações (termo, reacções, geometria, etc.)\n",
    "7. Graus de liberdade, o número de equações = número de incógnitas?\n",
    "8. Classifique as entradas como\n",
    "    * Valores fixos\n",
    "    * Perturbações\n",
    "    * Variáveis manipuladas\n",
    "9. Classificar os resultados como\n",
    "    * Estados\n",
    "    * Variáveis controladas\n",
    "10. Simplificar as equações de equilíbrio baseadas em pressupostos\n",
    "11. Simular condições de estado estacionário (se possível)\n",
    "12. Simular a saída com uma etapa de entrada"
   ]
  },
  {
   "cell_type": "markdown",
   "metadata": {},
   "source": [
    "### Um Exemplo Inicial: Encher um tanque de água\n"
   ]
  },
  {
   "cell_type": "markdown",
   "metadata": {},
   "source": [
    "Considerar um tanque cilíndrico sem fluxo de saída e um fluxo de entrada ajustável. O caudal de entrada não é medido, mas há uma medição de nível que mostra a quantidade de fluido que foi adicionado ao tanque. O objectivo deste exercício é desenvolver um modelo que possa manter um determinado nível de água, ajustando automaticamente o caudal de entrada. \n",
    "\n",
    "**Nota** : Ver a secção seguinte sobre controlo apenas P para o desenho do controlador de nível do tanque."
   ]
  },
  {
   "cell_type": "markdown",
   "metadata": {},
   "source": [
    "<p align=\"center\">\n",
    "  <img width=\"300\" height=\"300\" src= \"https://apmonitor.com/pdc/uploads/Main/tank_model_no_outlet.png\">\n",
    "</p>"
   ]
  },
  {
   "cell_type": "markdown",
   "metadata": {},
   "source": [
    "Diagrama de um tanque com uma entrada e sem saída. O símbolo LT é uma abreviatura para Transmissor de Nível."
   ]
  },
  {
   "cell_type": "markdown",
   "metadata": {},
   "source": [
    "Um primeiro passo é desenvolver um modelo dinâmico de como o caudal de entrada afecta o nível no tanque. Um ponto de partida para este modelo é uma equação de equilíbrio.\n",
    "\n",
    "$$\\frac{\\mathrm{d} m }{\\mathrm{d} t} = \\dot{m_{Entrada}} -\\dot{m_{Saida}}$$"
   ]
  },
  {
   "cell_type": "markdown",
   "metadata": {},
   "source": [
    "O termo de acumulação é uma variável diferencial tal como $\\frac{\\mathrm{d} m }{\\mathrm{d} t}$ para massa. Neste caso, a acumulação de massa é igual apenas a um fluxo de entrada e sem termos de saída, geração, ou consumo."
   ]
  },
  {
   "cell_type": "markdown",
   "metadata": {},
   "source": [
    "### Pressupostos"
   ]
  },
  {
   "cell_type": "markdown",
   "metadata": {},
   "source": [
    "O próximo objectivo é simplificar a expressão e transformá-la numa relação entre a altura h e a abertura da válvula u (0-100%). Para a água líquida, a densidade é quase constante mesmo em grandes amplitudes térmicas e a massa é igual à densidade multiplicada pelo volume $V$. Assumindo uma área transversal constante dá $V = h*A$ e uma correlação linear entre a abertura da válvula e o fluxo de entrada dá a seguinte relação:\n",
    "\n",
    "$$\\rho A\\frac{\\mathrm{d} h}{\\mathrm{d} t} = cu , Aonde \\ \\dot{m} = cu$$\n",
    "\n",
    "onde $c$ é uma constante que relaciona a abertura da válvula com o fluxo de entrada."
   ]
  },
  {
   "cell_type": "markdown",
   "metadata": {},
   "source": [
    "### Problema:\n",
    "\n",
    "Simular a altura do tanque integrando a equação de equilíbrio de massa por um período de 10 segundos. A válvula abre a 100% no tempo=2 e fecha no tempo=7. Utilizar um valor de 1000 $kg/m^{3}$ para a densidade e 1,0 $m^{2}$ para a área da secção transversal do tanque. Para a válvula, assumir um coeficiente de válvula de c=50,0 ( kg/s / %Aberto).\n",
    "\n",
    "\n"
   ]
  },
  {
   "cell_type": "code",
   "execution_count": 1,
   "metadata": {},
   "outputs": [],
   "source": [
    "import numpy as np\n",
    "import matplotlib.pyplot as plt\n",
    "from scipy.integrate import odeint"
   ]
  },
  {
   "cell_type": "markdown",
   "metadata": {},
   "source": [
    "Definir o modelo do tanque:"
   ]
  },
  {
   "cell_type": "code",
   "execution_count": 2,
   "metadata": {},
   "outputs": [],
   "source": [
    "def tank(Level,time,c,valve):\n",
    "    rho = 1000.0 # Densidade da Agua(kg/m^3)\n",
    "    A = 1.0      # Area do Tanque (m^2)\n",
    "    # Derivada da Altura por Tempo:\n",
    "    dLevel_dt = (c/(rho*A)) * valve\n",
    "    return dLevel_dt"
   ]
  },
  {
   "cell_type": "markdown",
   "metadata": {},
   "source": [
    "intervalo de tempo para a simulação durante 10 seg a cada 0.1 seg\n"
   ]
  },
  {
   "cell_type": "code",
   "execution_count": 3,
   "metadata": {},
   "outputs": [],
   "source": [
    "ts = np.linspace(0,10,101)"
   ]
  },
  {
   "cell_type": "markdown",
   "metadata": {},
   "source": [
    "Operação da Valvula"
   ]
  },
  {
   "cell_type": "code",
   "execution_count": 4,
   "metadata": {},
   "outputs": [],
   "source": [
    "c = 50.0          # Coeficiente da Valvula (kg/s / %open)\n",
    "u = np.zeros(101) # u = valvula % Aberta\n",
    "u[21:70] = 100.0  # Valvula aberta por 2 a 7 segundos"
   ]
  },
  {
   "cell_type": "markdown",
   "metadata": {},
   "source": [
    "Condições Inicial do nivel da agua"
   ]
  },
  {
   "cell_type": "code",
   "execution_count": 5,
   "metadata": {},
   "outputs": [],
   "source": [
    "Level0 = 0"
   ]
  },
  {
   "cell_type": "markdown",
   "metadata": {},
   "source": [
    "Para armazenar os resultados\n"
   ]
  },
  {
   "cell_type": "code",
   "execution_count": 6,
   "metadata": {},
   "outputs": [],
   "source": [
    "z = np.zeros(101)"
   ]
  },
  {
   "cell_type": "markdown",
   "metadata": {},
   "source": [
    "Simulação com ODEINT"
   ]
  },
  {
   "cell_type": "code",
   "execution_count": 7,
   "metadata": {},
   "outputs": [],
   "source": [
    "for i in range(100):\n",
    "    valve = u[i+1]\n",
    "    y = odeint(tank,Level0,[0,0.1],args=(c,valve))\n",
    "    Level0 = y[-1] # Pega os ultimos pontos\n",
    "    z[i+1] = Level0 # Armazena o nivel atual"
   ]
  },
  {
   "cell_type": "markdown",
   "metadata": {},
   "source": [
    "Graficos"
   ]
  },
  {
   "cell_type": "code",
   "execution_count": 8,
   "metadata": {},
   "outputs": [
    {
     "data": {
      "image/png": "[encoded data removed]",
      "text/plain": [
       "<Figure size 432x288 with 2 Axes>"
      ]
     },
     "metadata": {
      "needs_background": "light"
     },
     "output_type": "display_data"
    }
   ],
   "source": [
    "plt.figure()\n",
    "plt.subplot(2,1,1)\n",
    "plt.plot(ts,z,'b-',linewidth=3)\n",
    "plt.ylabel('Nivel do Tanque')\n",
    "plt.subplot(2,1,2)\n",
    "plt.plot(ts,u,'r--',linewidth=3)\n",
    "plt.ylabel('Valvula')    \n",
    "plt.xlabel('Tempo (sec)')\n",
    "plt.show()"
   ]
  }
 ],
 "metadata": {
  "interpreter": {
   "hash": "4badd61a3eb0a98b49024dc08b6e569de2eac3230396ff1e691db44e3b600cf6"
  },
  "kernelspec": {
   "display_name": "Python 3.9.9 64-bit",
   "language": "python",
   "name": "python3"
  },
  "language_info": {
   "codemirror_mode": {
    "name": "ipython",
    "version": 3
   },
   "file_extension": ".py",
   "mimetype": "text/x-python",
   "name": "python",
   "nbconvert_exporter": "python",
   "pygments_lexer": "ipython3",
   "version": "3.9.9"
  },
  "orig_nbformat": 4
 },
 "nbformat": 4,
 "nbformat_minor": 2
}
