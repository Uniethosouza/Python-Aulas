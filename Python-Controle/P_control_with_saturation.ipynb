{
 "cells": [
  {
   "cell_type": "markdown",
   "metadata": {},
   "source": [
    "Simulating Saturation\n",
    "===========================\n",
    "\n",
    "![](p_control_with_sat.png)\n",
    "*Block diagram representing saturation in a feedback control system*\n",
    "\n",
    "This notebook gives two options for simulating s feedback control system that includes saturation, like the one shown above.  The first option is to use the `python-control` module and specifically `control.forced_response` inside of a `for` loop.  The main advantage of this method is that it still allows the user to think in terms of transfer functions.  Using `control.forced_response` can be a little slow for plants with pure integrators.  The second option is to fall back to numeric integration (Runge-Kutta) using `scipy.intergrate.odeint`.  This approach can be very fast and can handle arbitrary nonlinearities, but it requires programming differential equations rather than using transfer functions.\n",
    "\n",
    "The first step under the first option is simulating the affects of saturation on a closed-loop system is simulating the system one time step at a time so that the code can limit the input to the plant transfer function.  The key challenge in simulating the response one step at a time is that the initial conditions to `control.forced_response` need to be the ending conditions from the previous time step."
   ]
  },
  {
   "cell_type": "code",
   "execution_count": 1,
   "metadata": {
    "collapsed": true
   },
   "outputs": [],
   "source": [
    "%matplotlib inline\n",
    "import matplotlib.pyplot as plt\n",
    "import numpy as np\n",
    "import control"
   ]
  },
  {
   "cell_type": "markdown",
   "metadata": {},
   "source": [
    "Consider a plant under proportional control:"
   ]
  },
  {
   "cell_type": "code",
   "execution_count": 7,
   "metadata": {
    "collapsed": true
   },
   "outputs": [
    {
     "data": {
      "text/latex": [
       "$$\\frac{30}{s^2 + 6 s}$$"
      ],
      "text/plain": [
       "TransferFunction(array([30]), array([1, 6, 0]))"
      ]
     },
     "execution_count": 7,
     "metadata": {},
     "output_type": "execute_result"
    }
   ],
   "source": [
    "p = 6\n",
    "g = 5\n",
    "G = control.TransferFunction(g*p,[1,p,0])\n",
    "G"
   ]
  },
  {
   "cell_type": "markdown",
   "metadata": {},
   "source": [
    "## Simple Simulation Ignoring Saturation\n",
    "\n",
    "If we just wanted to simulate the closed-loop response without concern for saturation, we could do the following:"
   ]
  },
  {
   "cell_type": "code",
   "execution_count": 3,
   "metadata": {
    "collapsed": true
   },
   "outputs": [],
   "source": [
    "kp = 5\n",
    "cltf = control.feedback(kp*G)"
   ]
  },
  {
   "cell_type": "code",
   "execution_count": 4,
   "metadata": {
    "collapsed": false
   },
   "outputs": [
    {
     "data": {
      "text/latex": [
       "$$\\frac{150}{s^2 + 6 s + 150}$$"
      ],
      "text/plain": [
       "TransferFunction(array([150]), array([  1,   6, 150]))"
      ]
     },
     "execution_count": 4,
     "metadata": {},
     "output_type": "execute_result"
    }
   ],
   "source": [
    "cltf"
   ]
  },
  {
   "cell_type": "code",
   "execution_count": 5,
   "metadata": {
    "collapsed": false
   },
   "outputs": [
    {
     "data": {
      "text/plain": [
       "(0.0, 1050.0)"
      ]
     },
     "execution_count": 5,
     "metadata": {},
     "output_type": "execute_result"
    },
    {
     "data": {
      "image/png": "[encoded data removed]",
      "text/plain": [
       "<Figure size 432x288 with 1 Axes>"
      ]
     },
     "metadata": {
      "needs_background": "light"
     },
     "output_type": "display_data"
    }
   ],
   "source": [
    "t = np.arange(0,3,0.001)\n",
    "amp = 1000\n",
    "u = np.zeros(len(t))\n",
    "u[50:] = amp\n",
    "plt.figure()\n",
    "plt.plot(t,u)\n",
    "plt.ylim([0,1050])"
   ]
  },
  {
   "cell_type": "code",
   "execution_count": 8,
   "metadata": {
    "collapsed": true
   },
   "outputs": [
    {
     "ename": "ValueError",
     "evalue": "not enough values to unpack (expected 3, got 2)",
     "output_type": "error",
     "traceback": [
      "\u001b[1;31m---------------------------------------------------------------------------\u001b[0m",
      "\u001b[1;31mValueError\u001b[0m                                Traceback (most recent call last)",
      "\u001b[1;32m~\\AppData\\Local\\Temp/ipykernel_27064/1278224568.py\u001b[0m in \u001b[0;36m<module>\u001b[1;34m\u001b[0m\n\u001b[1;32m----> 1\u001b[1;33m \u001b[0mt\u001b[0m\u001b[1;33m,\u001b[0m \u001b[0my_fb\u001b[0m\u001b[1;33m,\u001b[0m \u001b[0mx\u001b[0m \u001b[1;33m=\u001b[0m \u001b[0mcontrol\u001b[0m\u001b[1;33m.\u001b[0m\u001b[0mforced_response\u001b[0m\u001b[1;33m(\u001b[0m\u001b[0mcltf\u001b[0m\u001b[1;33m,\u001b[0m \u001b[0mt\u001b[0m\u001b[1;33m,\u001b[0m \u001b[0mu\u001b[0m\u001b[1;33m)\u001b[0m\u001b[1;33m\u001b[0m\u001b[1;33m\u001b[0m\u001b[0m\n\u001b[0m",
      "\u001b[1;31mValueError\u001b[0m: not enough values to unpack (expected 3, got 2)"
     ]
    }
   ],
   "source": [
    "t, y_fb, x = control.forced_response(cltf, t, u)"
   ]
  },
  {
   "cell_type": "code",
   "execution_count": null,
   "metadata": {
    "collapsed": false
   },
   "outputs": [
    {
     "data": {
      "text/plain": [
       "(3000,)"
      ]
     },
     "execution_count": 7,
     "metadata": {},
     "output_type": "execute_result"
    }
   ],
   "source": [
    "y_fb.shape"
   ]
  },
  {
   "cell_type": "code",
   "execution_count": null,
   "metadata": {
    "collapsed": false
   },
   "outputs": [
    {
     "data": {
      "text/plain": [
       "(2, 3000)"
      ]
     },
     "execution_count": 8,
     "metadata": {},
     "output_type": "execute_result"
    }
   ],
   "source": [
    "x.shape"
   ]
  },
  {
   "cell_type": "code",
   "execution_count": null,
   "metadata": {
    "collapsed": false
   },
   "outputs": [
    {
     "data": {
      "text/plain": [
       "[<matplotlib.lines.Line2D at 0x11597de48>,\n",
       " <matplotlib.lines.Line2D at 0x11597dfd0>]"
      ]
     },
     "execution_count": 9,
     "metadata": {},
     "output_type": "execute_result"
    },
    {
     "data": {
      "image/png": "[encoded data removed]",
      "text/plain": [
       "<matplotlib.figure.Figure at 0x115838e48>"
      ]
     },
     "metadata": {},
     "output_type": "display_data"
    }
   ],
   "source": [
    "plt.figure()\n",
    "plt.plot(t,u,t,y_fb)"
   ]
  },
  {
   "cell_type": "markdown",
   "metadata": {},
   "source": [
    "## One Step at a Time Simulation"
   ]
  },
  {
   "cell_type": "code",
   "execution_count": null,
   "metadata": {
    "collapsed": false
   },
   "outputs": [],
   "source": [
    "n = len(G.pole())\n",
    "x_prev = np.zeros(n)\n",
    "y_one_step = np.zeros(len(t))\n",
    "dt = t[1]-t[0]\n",
    "pwm_vect = np.zeros(len(t))\n",
    "\n",
    "import pdb\n",
    "\n",
    "for i, t_i in enumerate(t):\n",
    "    e = u[i] - y_one_step[i-1]\n",
    "    pwm = kp*e\n",
    "    pwm_vect[i] = pwm\n",
    "    t_temp, y_temp, x_temp = control.forced_response(G,[t_i-dt,t_i],[pwm,pwm], X0=x_prev)\n",
    "    y_one_step[i] = np.squeeze(y_temp[-1])\n",
    "    x_prev = np.squeeze(x_temp[:,-1])"
   ]
  },
  {
   "cell_type": "code",
   "execution_count": null,
   "metadata": {
    "collapsed": false
   },
   "outputs": [
    {
     "data": {
      "text/plain": [
       "array([[ -3.16497465e-02,  -3.22616017e-02],\n",
       "       [  3.33386906e+01,   3.33386587e+01]])"
      ]
     },
     "execution_count": 11,
     "metadata": {},
     "output_type": "execute_result"
    }
   ],
   "source": [
    "x_temp"
   ]
  },
  {
   "cell_type": "code",
   "execution_count": null,
   "metadata": {
    "collapsed": false
   },
   "outputs": [
    {
     "data": {
      "text/plain": [
       "array([    0.        ,     0.        ,     0.        , ...,  1000.16165841,\n",
       "        1000.16071821,  1000.15975953])"
      ]
     },
     "execution_count": 12,
     "metadata": {},
     "output_type": "execute_result"
    }
   ],
   "source": [
    "y_one_step"
   ]
  },
  {
   "cell_type": "code",
   "execution_count": null,
   "metadata": {
    "collapsed": false
   },
   "outputs": [
    {
     "data": {
      "text/plain": [
       "[<matplotlib.lines.Line2D at 0x115b3bb38>]"
      ]
     },
     "execution_count": 13,
     "metadata": {},
     "output_type": "execute_result"
    },
    {
     "data": {
      "image/png": "[encoded data removed]",
      "text/plain": [
       "<matplotlib.figure.Figure at 0x115a3e438>"
      ]
     },
     "metadata": {},
     "output_type": "display_data"
    },
    {
     "data": {
      "image/png": "[encoded data removed]",
      "text/plain": [
       "<matplotlib.figure.Figure at 0x115aac898>"
      ]
     },
     "metadata": {},
     "output_type": "display_data"
    }
   ],
   "source": [
    "plt.figure()\n",
    "plt.plot(t,u,t,y_fb,'y')\n",
    "plt.plot(t, y_one_step,'k:',linewidth=3)\n",
    "\n",
    "plt.figure()\n",
    "plt.plot(t,pwm_vect)"
   ]
  },
  {
   "cell_type": "code",
   "execution_count": null,
   "metadata": {
    "collapsed": false
   },
   "outputs": [
    {
     "data": {
      "text/plain": [
       "array([-6.,  0.])"
      ]
     },
     "execution_count": 14,
     "metadata": {},
     "output_type": "execute_result"
    }
   ],
   "source": [
    "G.pole()"
   ]
  },
  {
   "cell_type": "markdown",
   "metadata": {},
   "source": [
    "## Saturation Control Function"
   ]
  },
  {
   "cell_type": "code",
   "execution_count": null,
   "metadata": {
    "collapsed": false
   },
   "outputs": [],
   "source": [
    "def P_control_sat_sim(G, Kp, t, u, pos_sat=255, neg_sat=-255):\n",
    "    def mysat(pwmin):\n",
    "        if pwmin > pos_sat:\n",
    "            pwmout = pos_sat\n",
    "        elif pwmin < neg_sat:\n",
    "            pwmout = neg_sat\n",
    "        else:\n",
    "            pwmout = pwmin\n",
    "        return pwmout\n",
    "    \n",
    "    n = len(G.pole())\n",
    "    x_prev = np.zeros(n)\n",
    "    y_one_step = np.zeros(len(t))\n",
    "    dt = t[1]-t[0]\n",
    "    pwm_vect = np.zeros(len(t))\n",
    "\n",
    "    for i, t_i in enumerate(t):\n",
    "        e = u[i] - y_one_step[i-1]\n",
    "        pwm = kp*e\n",
    "        pwm_star = mysat(pwm)\n",
    "        pwm_vect[i] = pwm_star\n",
    "        t_temp, y_temp, x_temp = control.forced_response(G,[t_i-dt,t_i], \\\n",
    "                                                         [pwm_star,pwm_star], X0=x_prev)\n",
    "        y_one_step[i] = np.squeeze(y_temp[-1])\n",
    "        x_prev = np.squeeze(x_temp[:,-1])\n",
    "        \n",
    "    return y_one_step, pwm_vect"
   ]
  },
  {
   "cell_type": "code",
   "execution_count": null,
   "metadata": {
    "collapsed": true
   },
   "outputs": [],
   "source": [
    "y_sat, pwm_vect = P_control_sat_sim(G,5,t,u)"
   ]
  },
  {
   "cell_type": "code",
   "execution_count": null,
   "metadata": {
    "collapsed": false
   },
   "outputs": [
    {
     "data": {
      "text/plain": [
       "[<matplotlib.lines.Line2D at 0x115d26a58>,\n",
       " <matplotlib.lines.Line2D at 0x115d26c18>,\n",
       " <matplotlib.lines.Line2D at 0x115d2d588>,\n",
       " <matplotlib.lines.Line2D at 0x115d2dda0>]"
      ]
     },
     "execution_count": 17,
     "metadata": {},
     "output_type": "execute_result"
    },
    {
     "data": {
      "image/png": "[encoded data removed]",
      "text/plain": [
       "<matplotlib.figure.Figure at 0x115b98390>"
      ]
     },
     "metadata": {},
     "output_type": "display_data"
    }
   ],
   "source": [
    "plt.figure()\n",
    "plt.plot(t,u,t,y_fb,t,y_sat, t, pwm_vect)"
   ]
  },
  {
   "cell_type": "code",
   "execution_count": null,
   "metadata": {
    "collapsed": false
   },
   "outputs": [
    {
     "name": "stdout",
     "output_type": "stream",
     "text": [
      "0: a\n",
      "1: b\n",
      "2: c\n"
     ]
    }
   ],
   "source": [
    "mylist = ['a','b','c']\n",
    "\n",
    "for i, item in enumerate(mylist):\n",
    "    print('%i: %s' % (i,item))"
   ]
  },
  {
   "cell_type": "markdown",
   "metadata": {
    "collapsed": true
   },
   "source": [
    "Differential Equation Approach\n",
    "=================================\n",
    "\n",
    "An alternative to using `control.forced_response` inside a `for` loop is to use `integrate.odeint`.  `odeint` avoids transfer functions entirely and works directly on the differential equation.  An advantage of `odeint` is that it can handle fully nonlinear systems.\n",
    "\n",
    "If the transfer function is \n",
    "\n",
    "\\begin{equation}\n",
    "G(s) = \\frac{\\Theta(s)}{V(s)} = \\frac{gp}{s^2+ps}\n",
    "\\end{equation}\n",
    "\n",
    "then the corresponding differential equation is \n",
    "\n",
    "\\begin{equation}\n",
    "\\ddot{\\theta} + p \\dot{\\theta} = gp v\n",
    "\\end{equation}\n",
    "\n",
    "In order to use `odeint`, the differential equation model needs to be rearranged into a series of first order differential equations by defining states:\n",
    "\n",
    "\n",
    "\\begin{align}\n",
    "x_1 & = \\theta \\\\\n",
    "x_2 & = \\dot{\\theta}\n",
    "\\end{align}\n",
    "\n",
    "Solving for the derivatives of the states gives\n",
    "\n",
    "\\begin{align}\n",
    "\\dot{x}_1 & = x_2 \\\\\n",
    "\\dot{x}_2 & = gpv - p x_2\n",
    "\\end{align}\n"
   ]
  },
  {
   "cell_type": "code",
   "execution_count": null,
   "metadata": {
    "collapsed": true
   },
   "outputs": [],
   "source": [
    "def mysat(vin):\n",
    "    if vin > 255:\n",
    "        vout = 255\n",
    "    elif vin < -255:\n",
    "        vout = -255\n",
    "    else:\n",
    "        vout = vin\n",
    "    return vout"
   ]
  },
  {
   "cell_type": "code",
   "execution_count": null,
   "metadata": {
    "collapsed": true
   },
   "outputs": [],
   "source": [
    "def dxdt(x,t,kp,theta_d,use_sat=True):\n",
    "    theta = x[0]\n",
    "    theta_dot = x[1]\n",
    "    e = theta_d - theta\n",
    "    v = kp*e\n",
    "    if use_sat:\n",
    "        v = mysat(v)\n",
    "    out = [theta_dot, g*p*v-p*theta_dot]\n",
    "    return out"
   ]
  },
  {
   "cell_type": "code",
   "execution_count": null,
   "metadata": {
    "collapsed": true
   },
   "outputs": [],
   "source": [
    "from scipy import integrate"
   ]
  },
  {
   "cell_type": "code",
   "execution_count": null,
   "metadata": {
    "collapsed": true
   },
   "outputs": [],
   "source": [
    "x_mat1 = integrate.odeint(dxdt,[0,0],t,args=(5,1000,False))"
   ]
  },
  {
   "cell_type": "code",
   "execution_count": null,
   "metadata": {
    "collapsed": false
   },
   "outputs": [],
   "source": [
    "x_mat2 = integrate.odeint(dxdt,[0,0],t,args=(5,1000,True))"
   ]
  },
  {
   "cell_type": "code",
   "execution_count": null,
   "metadata": {
    "collapsed": false
   },
   "outputs": [
    {
     "data": {
      "text/plain": [
       "[<matplotlib.lines.Line2D at 0x11586c278>]"
      ]
     },
     "execution_count": 42,
     "metadata": {},
     "output_type": "execute_result"
    },
    {
     "data": {
      "image/png": "[encoded data removed]",
      "text/plain": [
       "<matplotlib.figure.Figure at 0x115f871d0>"
      ]
     },
     "metadata": {},
     "output_type": "display_data"
    }
   ],
   "source": [
    "plt.figure()\n",
    "plt.plot(t,x_mat1[:,0])\n",
    "plt.plot(t,x_mat2[:,0])"
   ]
  },
  {
   "cell_type": "code",
   "execution_count": null,
   "metadata": {
    "collapsed": true
   },
   "outputs": [],
   "source": []
  }
 ],
 "metadata": {
  "kernelspec": {
   "display_name": "Python 3",
   "language": "python",
   "name": "python3"
  },
  "language_info": {
   "codemirror_mode": {
    "name": "ipython",
    "version": 3
   },
   "file_extension": ".py",
   "mimetype": "text/x-python",
   "name": "python",
   "nbconvert_exporter": "python",
   "pygments_lexer": "ipython3",
   "version": "3.10.0"
  }
 },
 "nbformat": 4,
 "nbformat_minor": 0
}
