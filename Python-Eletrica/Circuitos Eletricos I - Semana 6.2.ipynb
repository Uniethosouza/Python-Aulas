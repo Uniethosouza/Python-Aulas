{
 "cells": [
  {
   "cell_type": "code",
   "execution_count": 1,
   "metadata": {
    "ExecuteTime": {
     "end_time": "2022-02-11T04:15:08.090667Z",
     "start_time": "2022-02-11T04:15:08.072676Z"
    }
   },
   "outputs": [
    {
     "data": {
      "text/html": [
       "\n",
       "<style>\n",
       ".output_png {\n",
       "    display: table-cell;\n",
       "    text-align: center;\n",
       "    vertical-align: middle;\n",
       "}\n",
       "</style>\n"
      ],
      "text/plain": [
       "<IPython.core.display.HTML object>"
      ]
     },
     "execution_count": 1,
     "metadata": {},
     "output_type": "execute_result"
    }
   ],
   "source": [
    "from IPython.core.display import HTML\n",
    "from IPython.display import Image\n",
    "\n",
    "import numpy as np\n",
    "import sympy as sp\n",
    "from sympy import oo\n",
    "from utils import symplot, symdisp, round_expr\n",
    "\n",
    "HTML(\"\"\"\n",
    "<style>\n",
    ".output_png {\n",
    "    display: table-cell;\n",
    "    text-align: center;\n",
    "    vertical-align: middle;\n",
    "}\n",
    "</style>\n",
    "\"\"\")"
   ]
  },
  {
   "cell_type": "markdown",
   "metadata": {},
   "source": [
    "# *Circuitos Elétricos I - Semana 6*"
   ]
  },
  {
   "cell_type": "markdown",
   "metadata": {},
   "source": [
    "## Elementos armazenadores de energia\n",
    "\n",
    "Comparação entre capacitores convencionais, supercapacitores e baterias de lítio. A tabela abaixo mostra as especificações  necessários para cada dispositivo armazenar ∼1 megajoule (MJ) de energia (300 watts-hora). 1 MJ de energia irá alimentar um laptop com um consumo médio de 50 W por 6 horas. Observe na primeira coluna que uma bateria de íon de lítio pode conter 1000 vezes mais energia do que um capacitor convencional.\n",
    "\n",
    "$$\n",
    "\\begin{array}{|c|c|c|c|c|c|}\n",
    "\\hline \\text { Dispositivo } & \\begin{array}{c}\n",
    "\\text { Energia } \\\\\n",
    "\\text { específica } \\\\\n",
    "\\text { [Wh/kg]} \\\\\n",
    "\\end{array} & \\begin{array}{c}\n",
    "\\text { Energia } \\\\\n",
    "\\text { específica } \\\\\n",
    "\\text { [MJ/kg] }\n",
    "\\end{array} & \\begin{array}{c}\n",
    "\\text { Densidade de} \\\\\n",
    "\\text { Energia } \\\\\n",
    "\\text { [MJ / L] }\n",
    "\\end{array} & \\begin{array}{c}\n",
    "\\text { Volume } \\\\\n",
    "\\text { requerido para } \\\\\n",
    "\\text { armazenar 1 MJ } \\\\\n",
    "\\text { [L] }\n",
    "\\end{array} & \\begin{array}{c}\n",
    "\\text { Peso } \\\\\n",
    "\\text { requerido para } \\\\\n",
    "\\text { armazenar 1 MJ } \\\\\n",
    "\\text { [kg] }\n",
    "\\end{array} \\\\\n",
    "\\hline \\begin{array}{c}\n",
    "\\text { Capacitor convencional} \\\\\n",
    "\\end{array} & 0.01-0.1 & 4 \\times 10^{-5}-4 \\times 10^{-4} & 6 \\times 10^{-5}-6 \\times 10^{-4} & 17000-1700 & 25000-2500 \\\\\n",
    "\\text { Supercapacitor } & 1-10 & 0.004-0.04 & 0.006-0.06 & 166-16 & 250-25 \\\\\n",
    "\\text { Bateria de Íons de Lítio } & 100-250 & 0.36-0.9 & 1-2 & 1-0.5 & 2.8-1.1 \\\\\n",
    "\\hline\n",
    "\\end{array}\n",
    "$$\n",
    "\n",
    "Fonte: Fawwaz Ulaby, Michel M. Maharbiz and Cynthia M. Furse, $\\textit{ Circuit Analysis and Design}$, Michigan Publishing Services, 2018\n",
    "\n",
    "\n",
    "## Resumo dos elementos passivos ideais de dois terminais\n",
    "\n",
    "$$\n",
    "\\begin{array}{|l|c|c|c|}\n",
    "\\hline \\text { Propriedade } & R & L & C \\\\\n",
    "\\hline \\text { Relação } i-v  & i=\\frac{v}{R} & i=\\frac{1}{L} \\int_{t_{0}}^{t} v(\\tau) d \\tau+i\\left(t_{0}\\right) & i=C \\frac{d v}{d t} \\\\\n",
    "\\text { Relação } v-i & v=Ri & v=L \\frac{d i}{d t} & v=\\frac{1}{C} \\int_{t_{0}}^{t} i(\\tau) d \\tau+v\\left(t_{0}\\right) \\\\\n",
    "p \\text { (potência }) & p=Ri^{2} & p=L i \\frac{d i}{d t} & p=C v \\frac{d v}{d t} \\\\\n",
    "w \\text { (energia armazenada) } & 0 & w=\\frac{1}{2} L i^{2} & w=\\frac{1}{2} C v^{2} \\\\\n",
    "\\text { Associação em série } & R_{\\mathrm{eq}}=R_{1}+R_{2} & L_{\\mathrm{eq}}=L_{1}+L_{2} & \\frac{1}{C_{\\mathrm{eq}}}=\\frac{1}{C_{1}}+\\frac{1}{C_{2}} \\\\\n",
    "\\text { Associação em paralelo } & \\frac{1}{R_{\\mathrm{eq}}}=\\frac{1}{R_{1}}+\\frac{1}{R_{2}} & \\frac{1}{L_{\\mathrm{eq}}}=\\frac{1}{R_{1}}+\\frac{1}{R_{2}} & C_{\\mathrm{eq}}=C_{1}+C_{2} \\\\\n",
    "\\text { Comportamento em regime estacionário } & \\text { sem mudanças } & \\text { curto-circuito } & \\text { circuito aberto } \\\\\n",
    "\\text { Pode } v \\text { variar instantaneamente? } & \\text { sim } & \\text { sim } & \\text { não } \\\\\n",
    "\\text { Pode } i \\text { variar instantaneamente? } & \\text { sim } & \\text { não } & \\text { sim }\\\\ \\hline\n",
    "\\end{array}\n",
    "$$"
   ]
  },
  {
   "cell_type": "markdown",
   "metadata": {},
   "source": [
    "### Problema 1\n",
    "  \n",
    "Para o circuito abaixo, determine $v_{C1}$, $v_{C2}$ e $i_{L}$ assumindo que o circuito encontra-se em regime estacionário.\n",
    "\n",
    "<img src=\"./figures/J9C1.png\" width=\"600\">"
   ]
  },
  {
   "cell_type": "markdown",
   "metadata": {},
   "source": [
    "### Problema 2\n",
    "  \n",
    "No circuito abaixo, sabe-se que $i_0(t)= 50e^{-8000t}[\\cos(6000t)+2\\mathrm{sen}(6000t)]$ mA, para $t\\geq 0^+$. Determine $v_{C}(0^+)$, $v_{L}(0^+)$ e $v_{R}(0^+)$.\n",
    "\n",
    "\n",
    "<img src=\"./figures/J9C2.png\" width=\"600\">"
   ]
  },
  {
   "cell_type": "code",
   "execution_count": 2,
   "metadata": {
    "ExecuteTime": {
     "end_time": "2022-02-11T04:16:29.200934Z",
     "start_time": "2022-02-11T04:16:28.935590Z"
    }
   },
   "outputs": [
    {
     "data": {
      "image/png": "[encoded data removed]",
      "text/plain": [
       "<Figure size 432x288 with 1 Axes>"
      ]
     },
     "execution_count": 2,
     "metadata": {},
     "output_type": "execute_result"
    }
   ],
   "source": [
    "# define variável tempo \n",
    "t = sp.symbols('t', real=True)\n",
    "\n",
    "# expressão para a corrente no circuito\n",
    "i0 = 50*sp.exp(-8000*t)*(sp.cos(6000*t)+2*sp.sin(6000*t))*1e-3\n",
    "\n",
    "# plota gráfico da corrente\n",
    "tmax = 1e-3\n",
    "intervalo  = np.linspace(0, tmax, num = 1000)\n",
    "symplot(t, i0, intervalo, funLabel='$i_0(t)$')"
   ]
  },
  {
   "cell_type": "code",
   "execution_count": 3,
   "metadata": {
    "ExecuteTime": {
     "end_time": "2022-02-11T04:16:50.465526Z",
     "start_time": "2022-02-11T04:16:50.450534Z"
    }
   },
   "outputs": [],
   "source": [
    "# valores dos parâmetros do circuito\n",
    "R = 320\n",
    "L = 20e-3\n",
    "C = 0.5e-6"
   ]
  },
  {
   "cell_type": "code",
   "execution_count": 4,
   "metadata": {
    "ExecuteTime": {
     "end_time": "2022-02-11T04:17:38.249729Z",
     "start_time": "2022-02-11T04:17:37.166396Z"
    }
   },
   "outputs": [
    {
     "name": "stdout",
     "output_type": "stream",
     "text": [
      "Tensão no indutor:\n"
     ]
    },
    {
     "data": {
      "text/latex": [
       "$\\displaystyle v_L(t) = \\left(- 22.0 \\sin{\\left(6000 t \\right)} + 4.0 \\cos{\\left(6000 t \\right)}\\right) e^{- 8000 t}\\;V$"
      ],
      "text/plain": [
       "<IPython.core.display.Math object>"
      ]
     },
     "metadata": {},
     "output_type": "display_data"
    }
   ],
   "source": [
    "# calcula tensão no indutor\n",
    "vL = L*sp.diff(i0, t)\n",
    "vL = sp.simplify(vL)\n",
    "\n",
    "print('Tensão no indutor:')\n",
    "symdisp('v_L(t) = ', vL, 'V')"
   ]
  },
  {
   "cell_type": "code",
   "execution_count": 5,
   "metadata": {
    "ExecuteTime": {
     "end_time": "2022-02-11T04:19:03.390047Z",
     "start_time": "2022-02-11T04:19:03.380052Z"
    }
   },
   "outputs": [
    {
     "data": {
      "text/latex": [
       "$\\displaystyle v_L(0^+) = 4.0\\;V$"
      ],
      "text/plain": [
       "<IPython.core.display.Math object>"
      ]
     },
     "metadata": {},
     "output_type": "display_data"
    }
   ],
   "source": [
    "symdisp('v_L(0^+) = ', vL.evalf(subs={t:0}), 'V')"
   ]
  },
  {
   "cell_type": "code",
   "execution_count": 6,
   "metadata": {
    "ExecuteTime": {
     "end_time": "2022-02-11T04:24:06.109357Z",
     "start_time": "2022-02-11T04:24:04.613659Z"
    }
   },
   "outputs": [
    {
     "name": "stdout",
     "output_type": "stream",
     "text": [
      "Tensão no resistor:\n"
     ]
    },
    {
     "data": {
      "text/latex": [
       "$\\displaystyle v_R(t) = \\left(32.0 \\sin{\\left(6000 t \\right)} + 16.0 \\cos{\\left(6000 t \\right)}\\right) e^{- 8000 t}\\;V$"
      ],
      "text/plain": [
       "<IPython.core.display.Math object>"
      ]
     },
     "metadata": {},
     "output_type": "display_data"
    }
   ],
   "source": [
    "# calcula tensão no resistor\n",
    "vR = R*i0\n",
    "vR = sp.simplify(vR)\n",
    "\n",
    "print('Tensão no resistor:')\n",
    "symdisp('v_R(t) = ', vR, 'V')"
   ]
  },
  {
   "cell_type": "code",
   "execution_count": 7,
   "metadata": {
    "ExecuteTime": {
     "end_time": "2022-02-11T04:19:59.908692Z",
     "start_time": "2022-02-11T04:19:59.888705Z"
    }
   },
   "outputs": [
    {
     "data": {
      "text/latex": [
       "$\\displaystyle v_R(0^+) = 16.0\\;V$"
      ],
      "text/plain": [
       "<IPython.core.display.Math object>"
      ]
     },
     "metadata": {},
     "output_type": "display_data"
    }
   ],
   "source": [
    "symdisp('v_R(0^+) = ', vR.evalf(subs={t:0}), 'V')"
   ]
  },
  {
   "cell_type": "code",
   "execution_count": 8,
   "metadata": {
    "ExecuteTime": {
     "end_time": "2022-02-11T04:20:20.877546Z",
     "start_time": "2022-02-11T04:20:19.499305Z"
    }
   },
   "outputs": [
    {
     "name": "stdout",
     "output_type": "stream",
     "text": [
      "Tensão no capacitor:\n"
     ]
    },
    {
     "data": {
      "text/latex": [
       "$\\displaystyle v_C(t) = \\left(10.0 \\sin{\\left(6000 t \\right)} + 20.0 \\cos{\\left(6000 t \\right)}\\right) e^{- 8000 t}\\;V$"
      ],
      "text/plain": [
       "<IPython.core.display.Math object>"
      ]
     },
     "metadata": {},
     "output_type": "display_data"
    }
   ],
   "source": [
    "# calcula tensão no capacitor (LKT)\n",
    "vC = vR + vL\n",
    "vC = sp.simplify(vC)\n",
    "\n",
    "print('Tensão no capacitor:')\n",
    "symdisp('v_C(t) = ', vC, 'V')"
   ]
  },
  {
   "cell_type": "code",
   "execution_count": 9,
   "metadata": {
    "ExecuteTime": {
     "end_time": "2022-02-11T04:20:49.767442Z",
     "start_time": "2022-02-11T04:20:49.758446Z"
    }
   },
   "outputs": [
    {
     "data": {
      "text/latex": [
       "$\\displaystyle v_C(0^+) = 20.0\\;V$"
      ],
      "text/plain": [
       "<IPython.core.display.Math object>"
      ]
     },
     "metadata": {},
     "output_type": "display_data"
    }
   ],
   "source": [
    "symdisp('v_C(0^+) = ', vC.evalf(subs={t:0}), 'V')"
   ]
  },
  {
   "cell_type": "code",
   "execution_count": 10,
   "metadata": {
    "ExecuteTime": {
     "end_time": "2022-02-11T04:21:46.733828Z",
     "start_time": "2022-02-11T04:21:45.577910Z"
    }
   },
   "outputs": [
    {
     "data": {
      "text/latex": [
       "$\\displaystyle v_C(t) = \\left(10.0 \\sin{\\left(6000 t \\right)} + 20.0 \\cos{\\left(6000 t \\right)}\\right) e^{- 8000 t}\\;V$"
      ],
      "text/plain": [
       "<IPython.core.display.Math object>"
      ]
     },
     "metadata": {},
     "output_type": "display_data"
    }
   ],
   "source": [
    "# checagem de vC(t) via integração de i0\n",
    "\n",
    "vC = -(1/C)*sp.integrate(i0, (t, 0, t)) + 20\n",
    "vC = sp.simplify(vC)\n",
    "\n",
    "symdisp('v_C(t) = ', vC, 'V')"
   ]
  },
  {
   "cell_type": "code",
   "execution_count": 11,
   "metadata": {
    "ExecuteTime": {
     "end_time": "2022-02-11T04:23:19.426713Z",
     "start_time": "2022-02-11T04:23:19.158059Z"
    }
   },
   "outputs": [
    {
     "data": {
      "image/png": "[encoded data removed]",
      "text/plain": [
       "<Figure size 432x288 with 1 Axes>"
      ]
     },
     "execution_count": 11,
     "metadata": {},
     "output_type": "execute_result"
    }
   ],
   "source": [
    "symplot(t, [vC, vR, vL], intervalo, funLabel=['$v_C(t)$ ','$v_R(t)$','$v_L(t)$'])"
   ]
  }
 ],
 "metadata": {
  "jupytext": {
   "encoding": "# -*- coding: utf-8 -*-",
   "formats": "ipynb,py:light"
  },
  "kernelspec": {
   "display_name": "Python 3 (ipykernel)",
   "language": "python",
   "name": "python3"
  },
  "language_info": {
   "codemirror_mode": {
    "name": "ipython",
    "version": 3
   },
   "file_extension": ".py",
   "mimetype": "text/x-python",
   "name": "python",
   "nbconvert_exporter": "python",
   "pygments_lexer": "ipython3",
   "version": "3.9.9"
  },
  "toc": {
   "base_numbering": 1,
   "nav_menu": {},
   "number_sections": true,
   "sideBar": true,
   "skip_h1_title": true,
   "title_cell": "Table of Contents",
   "title_sidebar": "Contents",
   "toc_cell": true,
   "toc_position": {
    "height": "calc(100% - 180px)",
    "left": "10px",
    "top": "150px",
    "width": "200.475px"
   },
   "toc_section_display": true,
   "toc_window_display": true
  }
 },
 "nbformat": 4,
 "nbformat_minor": 2
}
