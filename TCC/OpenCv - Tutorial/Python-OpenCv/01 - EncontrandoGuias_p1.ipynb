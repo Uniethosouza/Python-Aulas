{
 "cells": [
  {
   "cell_type": "markdown",
   "metadata": {},
   "source": [
    "# Visão Computacional - Encontrando as guias - Parte 1 \n"
   ]
  },
  {
   "cell_type": "markdown",
   "metadata": {},
   "source": [
    "O intuito das aulas a seguir entender como , atraves da biblioteca OpenCv , podemos encontrar as linhas guias na pista"
   ]
  },
  {
   "cell_type": "code",
   "execution_count": 3,
   "metadata": {},
   "outputs": [],
   "source": [
    "import cv2 \n",
    "import numpy as np"
   ]
  },
  {
   "cell_type": "markdown",
   "metadata": {},
   "source": [
    "O intuito deste caderno é criar um programa capaz de encontrar a linhas guias semelhante ao que fazemos quando dirigimos automoveis em nossas ruas.\n",
    "* Começaremos por uma foto\n",
    "* Depois iremos para video"
   ]
  },
  {
   "cell_type": "markdown",
   "metadata": {},
   "source": [
    "## 1.1 - Carregando a imagem "
   ]
  },
  {
   "cell_type": "markdown",
   "metadata": {},
   "source": [
    "Quando carregamos uma imagem para o sistema do OpenCv, os valores atribuidos seram armazenados em uma array"
   ]
  },
  {
   "cell_type": "code",
   "execution_count": 10,
   "metadata": {},
   "outputs": [
    {
     "data": {
      "text/plain": [
       "array([[[116,  91,  75],\n",
       "        [194, 174, 134],\n",
       "        [194, 174, 134],\n",
       "        ...,\n",
       "        [248, 238, 215],\n",
       "        [248, 238, 215],\n",
       "        [248, 238, 215]],\n",
       "\n",
       "       [[157, 133, 106],\n",
       "        [194, 174, 134],\n",
       "        [194, 174, 134],\n",
       "        ...,\n",
       "        [247, 238, 215],\n",
       "        [247, 238, 215],\n",
       "        [247, 238, 215]],\n",
       "\n",
       "       [[185, 163, 127],\n",
       "        [194, 174, 134],\n",
       "        [194, 174, 134],\n",
       "        ...,\n",
       "        [247, 238, 215],\n",
       "        [247, 238, 215],\n",
       "        [247, 238, 215]],\n",
       "\n",
       "       ...,\n",
       "\n",
       "       [[ 74,  80,  85],\n",
       "        [ 74,  80,  85],\n",
       "        [ 74,  80,  85],\n",
       "        ...,\n",
       "        [ 73,  74,  82],\n",
       "        [ 73,  74,  82],\n",
       "        [ 73,  74,  82]],\n",
       "\n",
       "       [[ 74,  80,  85],\n",
       "        [ 74,  80,  85],\n",
       "        [ 74,  80,  85],\n",
       "        ...,\n",
       "        [ 72,  73,  81],\n",
       "        [ 72,  73,  81],\n",
       "        [ 72,  73,  81]],\n",
       "\n",
       "       [[ 74,  80,  85],\n",
       "        [ 74,  80,  85],\n",
       "        [ 74,  80,  85],\n",
       "        ...,\n",
       "        [ 72,  73,  81],\n",
       "        [ 72,  73,  81],\n",
       "        [ 72,  73,  81]]], dtype=uint8)"
      ]
     },
     "execution_count": 10,
     "metadata": {},
     "output_type": "execute_result"
    }
   ],
   "source": [
    "image = cv2.imread(\"test_image.jpg\")\n",
    "image"
   ]
  },
  {
   "cell_type": "markdown",
   "metadata": {},
   "source": [
    "## 1.2 - Mostra a Imagem\n",
    "\n",
    " Quando queremos mostrar uma imagem é necessário passar 2 argumentos\n",
    "\n",
    " Seguido da função `waitKey(0)` que cria a janela por tempo interminado, ate que seja prescionado algo\n",
    "```python\n",
    "    cv2.imshow(\"Nome da Janela a qual será mostrado\", a variavel que armazena a image que será mostrada) \n",
    "    cv2.waitKey(0) \n",
    "```"
   ]
  },
  {
   "cell_type": "code",
   "execution_count": 3,
   "metadata": {},
   "outputs": [
    {
     "data": {
      "text/plain": [
       "-1"
      ]
     },
     "execution_count": 3,
     "metadata": {},
     "output_type": "execute_result"
    }
   ],
   "source": [
    "cv2.imshow(\"Resultado\", image)\n",
    "cv2.waitKey(0)"
   ]
  },
  {
   "cell_type": "markdown",
   "metadata": {},
   "source": [
    "<div , align = 'center'>\n",
    "    <img src=\"test_image.jpg\" style=\"width:800px;height:500px;\">\n",
    "</div>    "
   ]
  },
  {
   "cell_type": "markdown",
   "metadata": {},
   "source": [
    "## 2.1 - GrayScale"
   ]
  },
  {
   "cell_type": "markdown",
   "metadata": {},
   "source": [
    "O objetivo da detecção de canto é identificar os limiares dos objetos que apresentam na imagem.\n",
    "\n",
    "Ou seja queremos verificar aonde é possivel haveriquar onde ocorreu a mundança utilizando cores.\n",
    "<div , align = 'center'>\n",
    "    <img src=\"Slide1.png\" style=\"width:800px;height:500px;\">\n",
    "</div>    "
   ]
  },
  {
   "cell_type": "markdown",
   "metadata": {},
   "source": [
    "Temos que entender que um Pixel pode ser entendido com um valor de matriz : \n",
    "* Valor com um valor mais próximo de 0 será considerado como Intensidade Minima ou \"Preto\"\n",
    "* Valor com um valor mais próximo de 255 será considerado como Intensidade Maxíma ou \"Branco\" "
   ]
  },
  {
   "cell_type": "markdown",
   "metadata": {},
   "source": [
    "<div , align = 'center'>\n",
    "    <img src=\"Slide2.png\" style=\"width:800px;height:500px;\">\n",
    "</div> "
   ]
  },
  {
   "cell_type": "markdown",
   "metadata": {},
   "source": [
    "Definição - Gradiente : Mesuriza a taxa de mudança da brilhosidade diante um pixel adjacente\n",
    "\n",
    "Então existe um gradiente de escala entre o preto e o branco \n",
    "\n",
    "<div , align = 'center'>\n",
    "    <img src=\"Slide3.png\" style=\"width:800px;height:500px;\">\n",
    "</div> "
   ]
  },
  {
   "cell_type": "markdown",
   "metadata": {},
   "source": [
    "Na imagem a seguir é possivel verificar a imagem que sofreu uma transformação utilizando um gradiente que permite verificar as bordas da foto. Com isso podemos verificar aonde ocorre grandes mudanças na intensidade de pixeis na foto.\n",
    "<div , align = 'center'>\n",
    "    <img src=\"Slide4.png\" style=\"width:800px;height:500px;\">\n",
    "</div>"
   ]
  },
  {
   "cell_type": "markdown",
   "metadata": {},
   "source": [
    "Por que tudo isso? Pois podemos processar mais rapidamente uma imagem que não possua 3 canais de cores (RGB)"
   ]
  },
  {
   "cell_type": "markdown",
   "metadata": {},
   "source": [
    "### Convertendo a Imagem"
   ]
  },
  {
   "cell_type": "markdown",
   "metadata": {},
   "source": [
    "1. Precisamos copiar a imagem para uma variável , para que a imagem orignal nao seja alterada "
   ]
  },
  {
   "cell_type": "code",
   "execution_count": 11,
   "metadata": {},
   "outputs": [],
   "source": [
    "image_estrada = np.copy(image) "
   ]
  },
  {
   "cell_type": "markdown",
   "metadata": {},
   "source": [
    "2. Tranformaremos ele para a Grayscale\n",
    "```python\n",
    "    cv2.cvtColor(<imagem referente>,cv2.Flag desejada) # Transforma uma espaço de color em outro \n",
    "\n",
    "```"
   ]
  },
  {
   "cell_type": "code",
   "execution_count": 12,
   "metadata": {},
   "outputs": [],
   "source": [
    "gray = cv2.cvtColor(image_estrada,cv2.COLOR_RGB2GRAY)"
   ]
  },
  {
   "cell_type": "markdown",
   "metadata": {},
   "source": [
    "3. Mostrar a Figura"
   ]
  },
  {
   "cell_type": "code",
   "execution_count": 8,
   "metadata": {},
   "outputs": [
    {
     "data": {
      "text/plain": [
       "-1"
      ]
     },
     "execution_count": 8,
     "metadata": {},
     "output_type": "execute_result"
    }
   ],
   "source": [
    "cv2.imshow(\"Resultado - Gray\", gray)\n",
    "cv2.waitKey(0)"
   ]
  },
  {
   "cell_type": "markdown",
   "metadata": {},
   "source": [
    "<div , align = 'center'>\n",
    "    <img src=\"Slide5.png\" style=\"width:800px;height:500px;\">\n",
    "</div>"
   ]
  },
  {
   "cell_type": "markdown",
   "metadata": {},
   "source": [
    "## 2.2 - Esmaeser com Gaussiano "
   ]
  },
  {
   "cell_type": "markdown",
   "metadata": {},
   "source": [
    "O intuito da parte a seguir encontrar-se da necessidade de reduzir o Ruido da Imagem."
   ]
  },
  {
   "cell_type": "markdown",
   "metadata": {},
   "source": [
    "<div , align = 'center'>\n",
    "    <img src=\"Slide6.png\" style=\"width:800px;height:500px;\">\n",
    "</div>"
   ]
  },
  {
   "cell_type": "markdown",
   "metadata": {},
   "source": [
    "O esmaer que ocorre decorre a uma média realizada por um kernel (Uma matriz de referência).\n",
    "\n",
    "<div , align = 'center'>\n",
    "    <img src=\"Slide7.png\" style=\"width:800px;height:500px;\">\n",
    "</div>\n",
    "\n",
    "* Kernel : Cada local da matriz sera uma media entre os Pixeis da região no entorno"
   ]
  },
  {
   "cell_type": "code",
   "execution_count": 9,
   "metadata": {},
   "outputs": [],
   "source": [
    "blur =cv2.GaussianBlur(gray,(5,5),0) #O kernel é 5x5"
   ]
  },
  {
   "cell_type": "markdown",
   "metadata": {},
   "source": [
    "A função:\n",
    " ```python\n",
    " cv2.Canny()\n",
    " ```\n",
    " Substitui toda a função acima"
   ]
  },
  {
   "cell_type": "code",
   "execution_count": 13,
   "metadata": {},
   "outputs": [
    {
     "data": {
      "text/plain": [
       "-1"
      ]
     },
     "execution_count": 13,
     "metadata": {},
     "output_type": "execute_result"
    }
   ],
   "source": [
    "cv2.imshow(\"Resultado - Gray\", blur)\n",
    "cv2.waitKey(0)"
   ]
  },
  {
   "cell_type": "markdown",
   "metadata": {},
   "source": [
    "Imagem Após o Blur\n",
    "\n",
    "<div , align = 'center'>\n",
    "    <img src=\"Slide8.png\" style=\"width:800px;height:500px;\">\n",
    "</div>"
   ]
  },
  {
   "cell_type": "markdown",
   "metadata": {},
   "source": [
    "## 3. Detectando as Bordas da imagem"
   ]
  },
  {
   "cell_type": "markdown",
   "metadata": {},
   "source": [
    "Como ja vimos no bloco de apresentação , uma imagem é formada por uma matrix de valores referente a sua intensidade de Pixeis.\n",
    "\n",
    "* Os numeros correspondentes de Colunas reference a largura da imagem.\n",
    "* Já a altura está relacionada a quantidade de linhas.\n",
    "\n",
    "\n",
    "<div , align = 'center'>\n",
    "    <img src=\"Slide9.png\" style=\"width:800px;height:500px;\">\n",
    "</div>"
   ]
  },
  {
   "cell_type": "markdown",
   "metadata": {},
   "source": [
    "Sendo assim podemos ver esta matriz como uma função matemática : f(x,y)\n",
    "\n",
    "Então, para detectar as borda, precisamos de uma função que dectecte uma rápida mudaça de borda.\n",
    "\n",
    "A função `Canny()` realiza uma derivada da função em ambas a direções.\n",
    "$$\\frac{\\mathrm{d} f(x,y)}{\\mathrm{d} x y}$$\n",
    "\n",
    "```python\n",
    "    cv2.Canny(image,low_threshold,high_threshold) # Tente manter uma relação de 1:2 ou 1:3\n",
    "```"
   ]
  },
  {
   "cell_type": "code",
   "execution_count": 14,
   "metadata": {},
   "outputs": [],
   "source": [
    "canny = cv2.Canny(blur,50,150)"
   ]
  },
  {
   "cell_type": "code",
   "execution_count": 15,
   "metadata": {},
   "outputs": [
    {
     "data": {
      "text/plain": [
       "-1"
      ]
     },
     "execution_count": 15,
     "metadata": {},
     "output_type": "execute_result"
    }
   ],
   "source": [
    "cv2.imshow(\"Resultado - Gray\", canny)\n",
    "cv2.waitKey(0)"
   ]
  },
  {
   "cell_type": "markdown",
   "metadata": {},
   "source": [
    "<div , align = 'center'>\n",
    "    <img src=\"Slide10.png\" style=\"width:800px;height:500px;\">\n",
    "</div>"
   ]
  }
 ],
 "metadata": {
  "interpreter": {
   "hash": "4badd61a3eb0a98b49024dc08b6e569de2eac3230396ff1e691db44e3b600cf6"
  },
  "kernelspec": {
   "display_name": "Python 3.9.9 64-bit",
   "language": "python",
   "name": "python3"
  },
  "language_info": {
   "codemirror_mode": {
    "name": "ipython",
    "version": 3
   },
   "file_extension": ".py",
   "mimetype": "text/x-python",
   "name": "python",
   "nbconvert_exporter": "python",
   "pygments_lexer": "ipython3",
   "version": "3.9.9"
  },
  "orig_nbformat": 4
 },
 "nbformat": 4,
 "nbformat_minor": 2
}
