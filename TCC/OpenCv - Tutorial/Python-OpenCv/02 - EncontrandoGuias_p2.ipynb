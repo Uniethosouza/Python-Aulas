{
 "cells": [
  {
   "cell_type": "markdown",
   "metadata": {},
   "source": [
    "# Visão Computacional - Encontrando as guias - Parte 2\n"
   ]
  },
  {
   "cell_type": "markdown",
   "metadata": {},
   "source": [
    "## Da parte 1..."
   ]
  },
  {
   "cell_type": "markdown",
   "metadata": {},
   "source": [
    "A seguir iremos colocar tudo o que apreendemos na parte 1 dentro de uma mesma função\n",
    "\n",
    "Primeiramente vamos colocar a transformação `Canny()` em uma função separada do corpo principal."
   ]
  },
  {
   "cell_type": "code",
   "execution_count": 2,
   "metadata": {},
   "outputs": [],
   "source": [
    "import cv2 \n",
    "import numpy as np"
   ]
  },
  {
   "cell_type": "code",
   "execution_count": 3,
   "metadata": {},
   "outputs": [],
   "source": [
    "\n",
    "def canny(image):\n",
    "    gray = cv2.cvtColor(image,cv2.COLOR_RGB2GRAY)\n",
    "    blur = cv2.GaussianBlur(gray,(5,5),0)\n",
    "    canny = cv2.Canny(blur,50,150)\n",
    "    return canny\n",
    "\n",
    "image = cv2.imread('test_image.jpg')\n",
    "image_estrada = np.copy(image)\n",
    "canny_image = canny(image_estrada)\n"
   ]
  },
  {
   "cell_type": "code",
   "execution_count": 4,
   "metadata": {},
   "outputs": [
    {
     "data": {
      "text/plain": [
       "-1"
      ]
     },
     "execution_count": 4,
     "metadata": {},
     "output_type": "execute_result"
    }
   ],
   "source": [
    "cv2.imshow(\"Resultado\", canny)\n",
    "cv2.waitKey(0)"
   ]
  },
  {
   "cell_type": "markdown",
   "metadata": {},
   "source": [
    "<div , align = 'center'>\n",
    "    <img src=\"Slide10.png\" style=\"width:800px;height:500px;\">\n",
    "</div>    "
   ]
  },
  {
   "cell_type": "markdown",
   "metadata": {},
   "source": [
    "## 4. Região de Interesse"
   ]
  },
  {
   "cell_type": "markdown",
   "metadata": {},
   "source": [
    "Na imagem a seguir podemos demostrar o que queremos fazer neste modulo. Queremos construir uma máscara que possa \"focar\" na informação dentro da área demarcada.\n",
    "\n",
    "<div , align = 'center'>\n",
    "    <img src=\"Slide11.png\" style=\"width:800px;height:500px;\">\n",
    "</div>\n",
    "\n",
    "Agora iremos chamar a biblioteca `matplotlib.pyplot`"
   ]
  },
  {
   "cell_type": "code",
   "execution_count": 5,
   "metadata": {},
   "outputs": [],
   "source": [
    "import matplotlib.pyplot as plt"
   ]
  },
  {
   "cell_type": "markdown",
   "metadata": {},
   "source": [
    "Utilizaremos a função `plt.imshow()` para mostrar em um gráfico as coordenadas da figura"
   ]
  },
  {
   "cell_type": "code",
   "execution_count": 6,
   "metadata": {},
   "outputs": [
    {
     "data": {
      "image/png": "[encoded data removed]",
      "text/plain": [
       "<Figure size 432x288 with 1 Axes>"
      ]
     },
     "metadata": {
      "needs_background": "light"
     },
     "output_type": "display_data"
    }
   ],
   "source": [
    "plt.imshow(canny_image)\n",
    "plt.show()"
   ]
  },
  {
   "cell_type": "markdown",
   "metadata": {},
   "source": [
    "Então na região demarcada com duas retas amarelas, aplicaremos a máscara\n",
    "\n",
    "<div , align = 'center'>\n",
    "    <img src=\"Slide12.png\" style=\"width:800px;height:500px;\">\n",
    "</div>"
   ]
  },
  {
   "cell_type": "markdown",
   "metadata": {},
   "source": [
    "A função a seguir é para criar um região solida delimitada pelos 3 pontos:"
   ]
  },
  {
   "cell_type": "code",
   "execution_count": 7,
   "metadata": {},
   "outputs": [],
   "source": [
    "def regiao_de_interresse(image):\n",
    "    altura = image.shape[0]             # O modulo shape retorna 3 valor de um vetor (altura, largura e comprimento) \n",
    "                                        # caso seja 3-d\n",
    "                                        # Queremos apenas o primeiro elemento\n",
    "    triangulo = np.array([[(220,altura), (1100,altura),(550,250)]]) \n",
    "    mask = np.zeros_like(image)         # Criamos um retangulo inteiramente preto \n",
    "    cv2.fillPoly(mask, triangulo, 255)  # no retangulo preto, sobrepomos com o trinagulo e prenchemos essa regiao \n",
    "                                        # de branco\n",
    "    return mask"
   ]
  },
  {
   "cell_type": "code",
   "execution_count": 8,
   "metadata": {},
   "outputs": [
    {
     "data": {
      "image/png": "[encoded data removed]",
      "text/plain": [
       "<Figure size 432x288 with 1 Axes>"
      ]
     },
     "metadata": {
      "needs_background": "light"
     },
     "output_type": "display_data"
    }
   ],
   "source": [
    "plt.imshow(regiao_de_interresse(canny))\n",
    "plt.show()"
   ]
  },
  {
   "cell_type": "markdown",
   "metadata": {},
   "source": [
    "Resultado: \n",
    "<div , align = 'center'>\n",
    "    <img src=\"Slide13.png\" style=\"width:800px;height:500px;\">\n",
    "</div>"
   ]
  },
  {
   "cell_type": "markdown",
   "metadata": {},
   "source": [
    "### 5. Bitwise_and"
   ]
  },
  {
   "cell_type": "markdown",
   "metadata": {},
   "source": [
    "Utilizando a lógica binária poderemos combinar as duas imagens , através do operador lógico `&`. Como cada matrix possui as mesmas dimensões podemos realizar essa operação para delimitar na imagem Canny uma região que estava delimitada pelo triangulo."
   ]
  },
  {
   "cell_type": "code",
   "execution_count": 9,
   "metadata": {},
   "outputs": [],
   "source": [
    "def regiao_de_interresse(image):\n",
    "    altura = image.shape[0]                                           \n",
    "    triangulo = np.array([[(220,altura), (1100,altura),(550,250)]]) \n",
    "    mask = np.zeros_like(image)         \n",
    "    cv2.fillPoly(mask, triangulo, 255) \n",
    "    mask_image = cv2.bitwise_and(image,mask)\n",
    "    return mask_image"
   ]
  },
  {
   "cell_type": "code",
   "execution_count": 10,
   "metadata": {},
   "outputs": [
    {
     "data": {
      "image/png": "[encoded data removed]",
      "text/plain": [
       "<Figure size 432x288 with 1 Axes>"
      ]
     },
     "metadata": {
      "needs_background": "light"
     },
     "output_type": "display_data"
    }
   ],
   "source": [
    "cropado = regiao_de_interresse(canny)\n",
    "plt.imshow(regiao_de_interresse(cropado)) \n",
    "plt.show()"
   ]
  }
 ],
 "metadata": {
  "interpreter": {
   "hash": "4badd61a3eb0a98b49024dc08b6e569de2eac3230396ff1e691db44e3b600cf6"
  },
  "kernelspec": {
   "display_name": "Python 3.9.9 64-bit",
   "language": "python",
   "name": "python3"
  },
  "language_info": {
   "codemirror_mode": {
    "name": "ipython",
    "version": 3
   },
   "file_extension": ".py",
   "mimetype": "text/x-python",
   "name": "python",
   "nbconvert_exporter": "python",
   "pygments_lexer": "ipython3",
   "version": "3.9.9"
  },
  "orig_nbformat": 4
 },
 "nbformat": 4,
 "nbformat_minor": 2
}
