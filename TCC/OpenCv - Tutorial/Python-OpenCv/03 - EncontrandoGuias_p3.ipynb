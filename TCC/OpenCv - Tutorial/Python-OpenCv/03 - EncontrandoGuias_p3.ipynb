{
 "cells": [
  {
   "cell_type": "markdown",
   "metadata": {},
   "source": [
    "# Visão Computacional - Encontrando as guias-Parte 3\n"
   ]
  },
  {
   "cell_type": "markdown",
   "metadata": {},
   "source": [
    "## Transformada de HOUGH"
   ]
  },
  {
   "cell_type": "markdown",
   "metadata": {},
   "source": [
    "A Transformada de Hough é um método padrão para detecção de formas que são facilmente parametrizadas (linhas, círculos, elipses, etc.) em imagens digitalizadas.\n",
    "\n",
    "* A idéia é aplicar na imagem uma transformação tal que\n",
    "todos os pontos pertencentes a uma mesma curva\n",
    "sejam mapeados num único ponto de um novo espaço\n",
    "de parametrização da curva procurada."
   ]
  },
  {
   "cell_type": "markdown",
   "metadata": {},
   "source": [
    "### Do começo..."
   ]
  },
  {
   "cell_type": "markdown",
   "metadata": {},
   "source": [
    "A imagem a seguir demonstra o que acontece quando aplicamos a transformada de Hough. Nela é possivel verificar que quando aplicamos a tecnica a um segmento de reta encontramos 1 ponto no Espaço Hough."
   ]
  },
  {
   "cell_type": "markdown",
   "metadata": {},
   "source": [
    "<div , align = 'center'>\n",
    "    <img src=\"Slide14.png\" style=\"width:800px;height:500px;\">\n",
    "</div> "
   ]
  },
  {
   "cell_type": "markdown",
   "metadata": {},
   "source": [
    "Mas o que aconteceria se ao invés de uma reta aplicarmos um ponto com referência. Ora como sabemos da equação da reta é necessário no minimo dois pontos para criar uma reta. Então o que aconteceria se passasemos diversas retas em um ponto?"
   ]
  },
  {
   "cell_type": "markdown",
   "metadata": {},
   "source": [
    "<div , align = 'center'>\n",
    "    <img src=\"Slide15.png\" style=\"width:800px;height:500px;\">\n",
    "</div> "
   ]
  },
  {
   "cell_type": "markdown",
   "metadata": {},
   "source": [
    "Com este conhecimento podemos entender que podemos ter diversos pontos que convergem para um valor de referência. Com isso podemos entender que para a construção de 1 reta é necessário de 2 pontos de referencia. Olhe para a figura a seguir :\n",
    "<div , align = 'center'>\n",
    "    <img src=\"Slide19.png\" style=\"width:800px;height:500px;\">\n",
    "</div> "
   ]
  },
  {
   "cell_type": "markdown",
   "metadata": {},
   "source": [
    "Quando aplicamos a técnica para 3 pontos, podemos ver que no espaço Hough existe um ponto de convergência. Este ponto retorna para o leitor a angulação e o ponto que é cruzado pela reta no eixo y."
   ]
  },
  {
   "cell_type": "markdown",
   "metadata": {},
   "source": [
    "### Aplicando o conceito\n"
   ]
  },
  {
   "cell_type": "markdown",
   "metadata": {},
   "source": [
    "Como sabemos, apos aplicarmos o `Canny()` temos diversas linhas parametrizadas\n",
    "\n",
    "<div , align = 'center'>\n",
    "    <img src=\"Slide10.png\" style=\"width:800px;height:500px;\">\n",
    "</div> "
   ]
  },
  {
   "cell_type": "markdown",
   "metadata": {},
   "source": [
    "Depois disso aplicamos a Mascára:"
   ]
  },
  {
   "cell_type": "markdown",
   "metadata": {},
   "source": [
    "<div , align = 'center'>\n",
    "    <img src=\"Slide22.png\" style=\"width:800px;height:500px;\">\n",
    "</div> "
   ]
  },
  {
   "cell_type": "markdown",
   "metadata": {},
   "source": [
    "Da mascara podemos, intuitivamente, identificar as linhas de tendência:\n",
    "<div , align = 'center'>\n",
    "    <img src=\"Slide21.png\" style=\"width:800px;height:500px;\">\n",
    "</div>  "
   ]
  },
  {
   "cell_type": "markdown",
   "metadata": {},
   "source": [
    "Vamos aplicar a transformação atribuindo um valor para o valor em uma grade que mais proporcione uma reta para os dados da mascará. A seguir uma demostração generica de como aplicaremos o conceito"
   ]
  },
  {
   "cell_type": "markdown",
   "metadata": {},
   "source": [
    "<div , align = 'center'>\n",
    "    <img src=\"Slide23.png\" style=\"width:800px;height:500px;\">\n",
    "</div>  "
   ]
  },
  {
   "cell_type": "markdown",
   "metadata": {},
   "source": [
    "### Então vamos programar ... Não tão rapido"
   ]
  },
  {
   "cell_type": "markdown",
   "metadata": {},
   "source": [
    "Apesar de ser um ótimo método, a trasformada, da maneira que estamos utilizando, não consegue realizar-se para pontos que esteja na vertical. Uma vez que m é a representação da tangente da reta, assim como os pontos estaria alinhados, a variação de $x$ seria $\\infty$.\n",
    "\n",
    "$$m = \\frac{\\Delta y}{\\Delta x}$$\n",
    "\n",
    "Mas se trocaramos os parâmetros de entrada? \n",
    "\n",
    "Ao invés de:\n",
    "\n",
    "$$y = m*x + b$$\n",
    "\n",
    "utilizar-se-mos as coordenadas polares:\n",
    "\n",
    "$$\\rho = x*cos(\\Theta ) + y*sin(\\Theta)$$\n",
    "\n"
   ]
  },
  {
   "cell_type": "markdown",
   "metadata": {},
   "source": [
    "<div , align = 'center'>\n",
    "    <img src=\"Slide24.png\" style=\"width:800px;height:500px;\">\n",
    "</div>  "
   ]
  },
  {
   "cell_type": "markdown",
   "metadata": {},
   "source": [
    "<div , align = 'center'>\n",
    "    <img src=\"Slide25.png\" style=\"width:800px;height:500px;\">\n",
    "</div>  "
   ]
  },
  {
   "cell_type": "markdown",
   "metadata": {},
   "source": [
    "### Ao codigo "
   ]
  },
  {
   "cell_type": "code",
   "execution_count": 4,
   "metadata": {},
   "outputs": [],
   "source": [
    "import cv2 \n",
    "import numpy as np\n",
    "\n",
    "\n",
    "def canny(image):\n",
    "    gray = cv2.cvtColor(image,cv2.COLOR_RGB2GRAY)\n",
    "    blur = cv2.GaussianBlur(gray,(5,5),0)\n",
    "    canny = cv2.Canny(blur,50,150)\n",
    "    return canny\n",
    "\n",
    "def regiao_de_interresse(image):\n",
    "    altura = image.shape[0]                                           \n",
    "    triangulo = np.array([[(220,altura), (1100,altura),(550,250)]]) \n",
    "    mask = np.zeros_like(image)         \n",
    "    cv2.fillPoly(mask, triangulo, 255) \n",
    "    mask_image = cv2.bitwise_and(image,mask)\n",
    "    return mask_image\n",
    "\n",
    "image = cv2.imread('test_image.jpg')\n",
    "image_estrada = np.copy(image)\n",
    "canny_image = canny(image_estrada)\n",
    "cropado = regiao_de_interresse(canny)"
   ]
  },
  {
   "cell_type": "markdown",
   "metadata": {},
   "source": [
    "Aplicando a transformada. \n",
    "\n",
    "* Note que estamos passando os argumento e restruturando em uma imagem completamente preta e redimensionando um vetor  de 4 dimensoes em 4 variaveis, para criar as linhas necessária para criar os segmentos de reta."
   ]
  },
  {
   "cell_type": "code",
   "execution_count": 6,
   "metadata": {},
   "outputs": [],
   "source": [
    "def display_lines(image,lines):\n",
    "    line_image = np.zeros_like(image)\n",
    "    if lines is not None:\n",
    "        for line in lines:\n",
    "            x1,y1,x2,y2 = line.reshape(4)\n",
    "            cv2.line(line_image, (x1,y1),(x2,y2),(255,0,0),10)\n",
    "    return line_image            \n",
    "\n",
    "lines = cv2.HoughLinesP(cropado, 2 ,np.pi/180, 100 ,np.array([]), minLineLength = 40 , maxLineGap = 5)\n",
    "\n",
    "line_image = display_lines(image_estrada,lines)\n",
    "\n"
   ]
  },
  {
   "cell_type": "code",
   "execution_count": 9,
   "metadata": {},
   "outputs": [
    {
     "data": {
      "text/plain": [
       "-1"
      ]
     },
     "execution_count": 9,
     "metadata": {},
     "output_type": "execute_result"
    }
   ],
   "source": [
    "cv2.imshow(\"resultado\",line_image)\n",
    "cv2.waitKey(0)"
   ]
  },
  {
   "cell_type": "markdown",
   "metadata": {},
   "source": [
    "<div , align = 'center'>\n",
    "    <img src=\"Slide26.png\" style=\"width:800px;height:500px;\">\n",
    "</div>  "
   ]
  },
  {
   "cell_type": "markdown",
   "metadata": {},
   "source": [
    "### Unindo as imagens:"
   ]
  },
  {
   "cell_type": "markdown",
   "metadata": {},
   "source": [
    "Vamos sobrepor a imagem copiada com 80% da saturação com a imagem das linhas com 100% de saturação para que fique mais facil de enxegar a imagem final"
   ]
  },
  {
   "cell_type": "code",
   "execution_count": 10,
   "metadata": {},
   "outputs": [
    {
     "data": {
      "text/plain": [
       "-1"
      ]
     },
     "execution_count": 10,
     "metadata": {},
     "output_type": "execute_result"
    }
   ],
   "source": [
    "imagens_unidas = cv2.addWeighted(image_estrada, 0.8 , line_image , 1 , 1)\n",
    "cv2.imshow(\"resultado\",imagens_unidas)\n",
    "cv2.waitKey(0)"
   ]
  },
  {
   "cell_type": "markdown",
   "metadata": {},
   "source": [
    "<div , align = 'center'>\n",
    "    <img src=\"resultado.png\" style=\"width:800px;height:500px;\">\n",
    "</div>"
   ]
  }
 ],
 "metadata": {
  "interpreter": {
   "hash": "4badd61a3eb0a98b49024dc08b6e569de2eac3230396ff1e691db44e3b600cf6"
  },
  "kernelspec": {
   "display_name": "Python 3.9.9 64-bit",
   "language": "python",
   "name": "python3"
  },
  "language_info": {
   "codemirror_mode": {
    "name": "ipython",
    "version": 3
   },
   "file_extension": ".py",
   "mimetype": "text/x-python",
   "name": "python",
   "nbconvert_exporter": "python",
   "pygments_lexer": "ipython3",
   "version": "3.9.9"
  },
  "orig_nbformat": 4
 },
 "nbformat": 4,
 "nbformat_minor": 2
}
