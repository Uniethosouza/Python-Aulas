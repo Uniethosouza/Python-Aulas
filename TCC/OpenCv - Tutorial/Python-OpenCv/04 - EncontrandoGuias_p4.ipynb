{
 "cells": [
  {
   "cell_type": "markdown",
   "metadata": {},
   "source": [
    "# Visão Computacional - Encontrando as guias-Parte 4\n"
   ]
  },
  {
   "cell_type": "markdown",
   "metadata": {},
   "source": [
    "## Otimizando o Código"
   ]
  },
  {
   "cell_type": "code",
   "execution_count": 2,
   "metadata": {},
   "outputs": [],
   "source": [
    "import cv2 \n",
    "import numpy as np\n",
    "\n",
    "\n",
    "def canny(image):\n",
    "    gray = cv2.cvtColor(image,cv2.COLOR_RGB2GRAY)\n",
    "    blur = cv2.GaussianBlur(gray,(5,5),0)\n",
    "    canny = cv2.Canny(blur,50,150)\n",
    "    return canny\n",
    "\n",
    "def display_lines(image,lines):\n",
    "    line_image = np.zeros_like(image)\n",
    "    if lines is not None:\n",
    "        for line in lines:\n",
    "            x1,y1,x2,y2 = line.reshape(4)\n",
    "            cv2.line(line_image, (x1,y1),(x2,y2),(255,0,0),10)\n",
    "    return line_image    \n",
    "\n",
    "def regiao_de_interresse(image):\n",
    "    altura = image.shape[0]                                           \n",
    "    triangulo = np.array([[(220,altura), (1100,altura),(550,250)]]) \n",
    "    mask = np.zeros_like(image)         \n",
    "    cv2.fillPoly(mask, triangulo, 255) \n",
    "    mask_image = cv2.bitwise_and(image,mask)\n",
    "    return mask_image\n",
    "\n",
    "image = cv2.imread('test_image.jpg')\n",
    "image_estrada = np.copy(image)\n",
    "canny_image = canny(image_estrada)\n",
    "cropado = regiao_de_interresse(canny_image)\n",
    "lines = cv2.HoughLinesP(cropado, 2 ,np.pi/180, 100 ,np.array([]), minLineLength = 40 , maxLineGap = 5)\n",
    "line_image = display_lines(image_estrada,lines)\n",
    "imagens_unidas = cv2.addWeighted(image_estrada, 0.8 , line_image , 1 , 1)"
   ]
  },
  {
   "cell_type": "markdown",
   "metadata": {},
   "source": [
    "Queremos otimizar a linhas azuis que vimos no livro anterior"
   ]
  },
  {
   "cell_type": "code",
   "execution_count": 9,
   "metadata": {},
   "outputs": [
    {
     "data": {
      "text/plain": [
       "-1"
      ]
     },
     "execution_count": 9,
     "metadata": {},
     "output_type": "execute_result"
    }
   ],
   "source": [
    "def fazer_coordenadas(image, parametro_linha):\n",
    "    inclinacao , intercecao = parametro_linha\n",
    "    y1 = int(image.shape[0])# bottom of the image\n",
    "    y2 = int(y1*3/5)         # slightly lower than the middle\n",
    "    x1 = int((y1 - intercecao)/inclinacao)\n",
    "    x2 = int((y2 - intercecao)/inclinacao)\n",
    "    return [[x1, y1, x2, y2]]\n",
    " \n",
    "def media_inclinacao_intercecao(image, lines):\n",
    "    parte_esquerda    = []\n",
    "    parte_direita   = []\n",
    "    if lines is None:\n",
    "        return None\n",
    "    for line in lines:\n",
    "        for x1, y1, x2, y2 in line:\n",
    "            fit = np.polyfit((x1,x2), (y1,y2), 1)\n",
    "            inclinacao = fit[0]\n",
    "            intercecao = fit[1]\n",
    "            if inclinacao < 0: # y is reversed in image\n",
    "                parte_esquerda.append((inclinacao, intercecao))\n",
    "            else:\n",
    "                parte_direita.append((inclinacao, intercecao))\n",
    "    \n",
    "    parte_esquerda_average  = np.average(parte_esquerda, axis=0)\n",
    "    parte_direita_average = np.average(parte_direita, axis=0)\n",
    "    left_line  = fazer_coordenadas(image, parte_esquerda_average)\n",
    "    right_line = fazer_coordenadas(image, parte_direita_average)\n",
    "    averaged_lines = [left_line, right_line]\n",
    "    return averaged_lines\n",
    " \n",
    "image = cv2.imread('test_image.jpg')\n",
    "image_estrada = np.copy(image)\n",
    "canny_image = canny(image_estrada)\n",
    "cropado = regiao_de_interresse(canny_image)\n",
    "lines = cv2.HoughLinesP(cropado, 2 ,np.pi/180, 100 ,np.array([]), minLineLength = 40 , maxLineGap = 5)\n",
    "line_image = display_lines(image_estrada,lines)\n",
    "imagens_unidas = cv2.addWeighted(image_estrada, 0.8 , line_image , 1 , 1)\n",
    " \n",
    "cv2.imshow(\"resultado\",imagens_unidas)\n",
    "cv2.waitKey(0)"
   ]
  }
 ],
 "metadata": {
  "interpreter": {
   "hash": "4badd61a3eb0a98b49024dc08b6e569de2eac3230396ff1e691db44e3b600cf6"
  },
  "kernelspec": {
   "display_name": "Python 3.9.9 64-bit",
   "language": "python",
   "name": "python3"
  },
  "language_info": {
   "codemirror_mode": {
    "name": "ipython",
    "version": 3
   },
   "file_extension": ".py",
   "mimetype": "text/x-python",
   "name": "python",
   "nbconvert_exporter": "python",
   "pygments_lexer": "ipython3",
   "version": "3.10.0"
  },
  "orig_nbformat": 4
 },
 "nbformat": 4,
 "nbformat_minor": 2
}
